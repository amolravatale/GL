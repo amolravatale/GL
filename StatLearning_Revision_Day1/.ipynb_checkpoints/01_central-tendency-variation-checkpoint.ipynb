{
 "cells": [
  {
   "cell_type": "markdown",
   "metadata": {
    "id": "eDZ14BiwepwL"
   },
   "source": [
    "# Objective\n",
    "\n",
    "To review the definitions of central tendency and variation. Apply these measures to streaming data"
   ]
  },
  {
   "cell_type": "markdown",
   "metadata": {
    "id": "Xe0EfPaCer-r"
   },
   "source": [
    "## Preliminaries\n",
    "\n"
   ]
  },
  {
   "cell_type": "code",
   "execution_count": 2,
   "metadata": {
    "colab": {
     "base_uri": "https://localhost:8080/"
    },
    "executionInfo": {
     "elapsed": 9218,
     "status": "ok",
     "timestamp": 1621057942183,
     "user": {
      "displayName": "Pavankumar Gurazada",
      "photoUrl": "https://lh3.googleusercontent.com/a-/AOh14GiPXY8Vmq7yP288va6yaoi572RRX-uBlSEFdW1x=s64",
      "userId": "10690826909418856210"
     },
     "user_tz": -330
    },
    "id": "rFcubfB52vh9",
    "outputId": "4c299283-22c6-4029-c5c9-fe28a4c050ff"
   },
   "outputs": [
    {
     "name": "stdout",
     "output_type": "stream",
     "text": [
      "Collecting yfinance\n",
      "  Downloading https://files.pythonhosted.org/packages/a7/ee/315752b9ef281ba83c62aa7ec2e2074f85223da6e7e74efb4d3e11c0f510/yfinance-0.1.59.tar.gz\n",
      "Requirement already satisfied: pandas>=0.24 in /usr/local/lib/python3.7/dist-packages (from yfinance) (1.1.5)\n",
      "Requirement already satisfied: numpy>=1.15 in /usr/local/lib/python3.7/dist-packages (from yfinance) (1.19.5)\n",
      "Requirement already satisfied: requests>=2.20 in /usr/local/lib/python3.7/dist-packages (from yfinance) (2.23.0)\n",
      "Requirement already satisfied: multitasking>=0.0.7 in /usr/local/lib/python3.7/dist-packages (from yfinance) (0.0.9)\n",
      "Collecting lxml>=4.5.1\n",
      "\u001b[?25l  Downloading https://files.pythonhosted.org/packages/30/c0/d0526314971fc661b083ab135747dc68446a3022686da8c16d25fcf6ef07/lxml-4.6.3-cp37-cp37m-manylinux2014_x86_64.whl (6.3MB)\n",
      "\u001b[K     |████████████████████████████████| 6.3MB 4.4MB/s \n",
      "\u001b[?25hRequirement already satisfied: python-dateutil>=2.7.3 in /usr/local/lib/python3.7/dist-packages (from pandas>=0.24->yfinance) (2.8.1)\n",
      "Requirement already satisfied: pytz>=2017.2 in /usr/local/lib/python3.7/dist-packages (from pandas>=0.24->yfinance) (2018.9)\n",
      "Requirement already satisfied: certifi>=2017.4.17 in /usr/local/lib/python3.7/dist-packages (from requests>=2.20->yfinance) (2020.12.5)\n",
      "Requirement already satisfied: urllib3!=1.25.0,!=1.25.1,<1.26,>=1.21.1 in /usr/local/lib/python3.7/dist-packages (from requests>=2.20->yfinance) (1.24.3)\n",
      "Requirement already satisfied: idna<3,>=2.5 in /usr/local/lib/python3.7/dist-packages (from requests>=2.20->yfinance) (2.10)\n",
      "Requirement already satisfied: chardet<4,>=3.0.2 in /usr/local/lib/python3.7/dist-packages (from requests>=2.20->yfinance) (3.0.4)\n",
      "Requirement already satisfied: six>=1.5 in /usr/local/lib/python3.7/dist-packages (from python-dateutil>=2.7.3->pandas>=0.24->yfinance) (1.15.0)\n",
      "Building wheels for collected packages: yfinance\n",
      "  Building wheel for yfinance (setup.py) ... \u001b[?25l\u001b[?25hdone\n",
      "  Created wheel for yfinance: filename=yfinance-0.1.59-py2.py3-none-any.whl size=23442 sha256=7169e7148f1630a2577dbf27d7e521edc38213e1b904bdc05da5d8c4c6b477ee\n",
      "  Stored in directory: /root/.cache/pip/wheels/f8/2a/0f/4b5a86e1d52e451757eb6bc17fd899629f0925c777741b6d04\n",
      "Successfully built yfinance\n",
      "Installing collected packages: lxml, yfinance\n",
      "  Found existing installation: lxml 4.2.6\n",
      "    Uninstalling lxml-4.2.6:\n",
      "      Successfully uninstalled lxml-4.2.6\n",
      "Successfully installed lxml-4.6.3 yfinance-0.1.59\n"
     ]
    }
   ],
   "source": [
    "! pip install yfinance"
   ]
  },
  {
   "cell_type": "code",
   "execution_count": 3,
   "metadata": {
    "colab": {
     "base_uri": "https://localhost:8080/"
    },
    "executionInfo": {
     "elapsed": 5908,
     "status": "ok",
     "timestamp": 1621057950713,
     "user": {
      "displayName": "Pavankumar Gurazada",
      "photoUrl": "https://lh3.googleusercontent.com/a-/AOh14GiPXY8Vmq7yP288va6yaoi572RRX-uBlSEFdW1x=s64",
      "userId": "10690826909418856210"
     },
     "user_tz": -330
    },
    "id": "9oePn_z41fpQ",
    "outputId": "656fa232-8983-491e-e375-b41f80c9d0c4"
   },
   "outputs": [
    {
     "name": "stdout",
     "output_type": "stream",
     "text": [
      "Collecting bsedata\n",
      "  Downloading https://files.pythonhosted.org/packages/29/fc/deba4c296cb89203d3bd3a80d8271c04d21dddd01a6d5d587781540a7331/bsedata-0.5.0-py3-none-any.whl\n",
      "Requirement already satisfied: requests in /usr/local/lib/python3.7/dist-packages (from bsedata) (2.23.0)\n",
      "Requirement already satisfied: beautifulsoup4 in /usr/local/lib/python3.7/dist-packages (from bsedata) (4.6.3)\n",
      "Requirement already satisfied: lxml in /usr/local/lib/python3.7/dist-packages (from bsedata) (4.6.3)\n",
      "Requirement already satisfied: chardet<4,>=3.0.2 in /usr/local/lib/python3.7/dist-packages (from requests->bsedata) (3.0.4)\n",
      "Requirement already satisfied: idna<3,>=2.5 in /usr/local/lib/python3.7/dist-packages (from requests->bsedata) (2.10)\n",
      "Requirement already satisfied: certifi>=2017.4.17 in /usr/local/lib/python3.7/dist-packages (from requests->bsedata) (2020.12.5)\n",
      "Requirement already satisfied: urllib3!=1.25.0,!=1.25.1,<1.26,>=1.21.1 in /usr/local/lib/python3.7/dist-packages (from requests->bsedata) (1.24.3)\n",
      "Installing collected packages: bsedata\n",
      "Successfully installed bsedata-0.5.0\n"
     ]
    }
   ],
   "source": [
    "! pip install bsedata"
   ]
  },
  {
   "cell_type": "code",
   "execution_count": 4,
   "metadata": {
    "executionInfo": {
     "elapsed": 2854,
     "status": "ok",
     "timestamp": 1621057955348,
     "user": {
      "displayName": "Pavankumar Gurazada",
      "photoUrl": "https://lh3.googleusercontent.com/a-/AOh14GiPXY8Vmq7yP288va6yaoi572RRX-uBlSEFdW1x=s64",
      "userId": "10690826909418856210"
     },
     "user_tz": -330
    },
    "id": "6CBMhpvj1jgQ"
   },
   "outputs": [],
   "source": [
    "import pandas as pd \n",
    "import numpy as np\n",
    "import matplotlib.pyplot as plt\n",
    "\n",
    "import yfinance as yf\n",
    "\n",
    "from bsedata.bse import BSE"
   ]
  },
  {
   "cell_type": "markdown",
   "metadata": {
    "id": "cdzRTYKVeuFe"
   },
   "source": [
    "# Measures of central tendency\n",
    "\n",
    "There are two key numeric measures that describe the centre of a variable. These metrics provide powerful means to summarize data.\n",
    "\n",
    "## Sample\n",
    "\n",
    "A sample is a subset of the universe of data that is drawn to conduct inference. In a random sample, each element of the universe has an equal chance of being included in the sample.\n"
   ]
  },
  {
   "cell_type": "markdown",
   "metadata": {
    "id": "SXOL5zWZeLjL"
   },
   "source": [
    "\n",
    "## Mean and Median\n",
    "\n",
    "The mean is the average of all the observations in the sample.\n",
    "The median is the point that divides all observations in the sample into two equal halves, that is, 50% of the data lies below this value.\n",
    "\n",
    "The mean is sensitive to extraordinarily high or low observations, while the median is relatively robust to such outliers.\n",
    "\n",
    " For a sample of observations $X = \\{x_1, x_2, \\ldots, x_n\\}$, the sample mean is \n",
    "\n",
    " $$\n",
    "\\bar{x} = \\dfrac{x_1 + x_2 + \\ldots + x_n}{n}\n",
    " $$\n"
   ]
  },
  {
   "cell_type": "code",
   "execution_count": 6,
   "metadata": {
    "executionInfo": {
     "elapsed": 812,
     "status": "ok",
     "timestamp": 1621058004037,
     "user": {
      "displayName": "Pavankumar Gurazada",
      "photoUrl": "https://lh3.googleusercontent.com/a-/AOh14GiPXY8Vmq7yP288va6yaoi572RRX-uBlSEFdW1x=s64",
      "userId": "10690826909418856210"
     },
     "user_tz": -330
    },
    "id": "VykPSxyhlfLS"
   },
   "outputs": [],
   "source": [
    "data_with_outliers = [1, 2, 3, 4, 5, 5000]"
   ]
  },
  {
   "cell_type": "code",
   "execution_count": 7,
   "metadata": {
    "colab": {
     "base_uri": "https://localhost:8080/"
    },
    "executionInfo": {
     "elapsed": 582,
     "status": "ok",
     "timestamp": 1621058007689,
     "user": {
      "displayName": "Pavankumar Gurazada",
      "photoUrl": "https://lh3.googleusercontent.com/a-/AOh14GiPXY8Vmq7yP288va6yaoi572RRX-uBlSEFdW1x=s64",
      "userId": "10690826909418856210"
     },
     "user_tz": -330
    },
    "id": "FUx6mGAXlIoK",
    "outputId": "31ec6660-e18e-4f99-9d8a-25dd3d40aa4b"
   },
   "outputs": [
    {
     "data": {
      "text/plain": [
       "835.8333333333334"
      ]
     },
     "execution_count": 7,
     "metadata": {
      "tags": []
     },
     "output_type": "execute_result"
    }
   ],
   "source": [
    "np.mean(data_with_outliers)"
   ]
  },
  {
   "cell_type": "code",
   "execution_count": 8,
   "metadata": {
    "colab": {
     "base_uri": "https://localhost:8080/"
    },
    "executionInfo": {
     "elapsed": 932,
     "status": "ok",
     "timestamp": 1621058014482,
     "user": {
      "displayName": "Pavankumar Gurazada",
      "photoUrl": "https://lh3.googleusercontent.com/a-/AOh14GiPXY8Vmq7yP288va6yaoi572RRX-uBlSEFdW1x=s64",
      "userId": "10690826909418856210"
     },
     "user_tz": -330
    },
    "id": "HbJHUWqxldhx",
    "outputId": "76e7e359-9c75-4090-9d67-f1c508654716"
   },
   "outputs": [
    {
     "data": {
      "text/plain": [
       "3.5"
      ]
     },
     "execution_count": 8,
     "metadata": {
      "tags": []
     },
     "output_type": "execute_result"
    }
   ],
   "source": [
    "np.median(data_with_outliers)"
   ]
  },
  {
   "cell_type": "markdown",
   "metadata": {
    "id": "e0gj6ZtZPT84"
   },
   "source": [
    "# Measures of variation\n",
    " There are several measures that help estmate the spread of observations arond the center (i.e., the mean).\n"
   ]
  },
  {
   "cell_type": "markdown",
   "metadata": {
    "id": "d-rg76Nglw5X"
   },
   "source": [
    "\n",
    "## Range\n",
    "\n",
    "The difference between the minimum and maximum values is called the range. Range is influenced heavily by one or two outliers, that is, exceptionally high or low values.\n"
   ]
  },
  {
   "cell_type": "code",
   "execution_count": 9,
   "metadata": {
    "colab": {
     "base_uri": "https://localhost:8080/"
    },
    "executionInfo": {
     "elapsed": 1033,
     "status": "ok",
     "timestamp": 1621058091429,
     "user": {
      "displayName": "Pavankumar Gurazada",
      "photoUrl": "https://lh3.googleusercontent.com/a-/AOh14GiPXY8Vmq7yP288va6yaoi572RRX-uBlSEFdW1x=s64",
      "userId": "10690826909418856210"
     },
     "user_tz": -330
    },
    "id": "VPd2vs8Hlz0Q",
    "outputId": "cf77bcc2-0c67-49e1-f9a0-1d25ad6bd797"
   },
   "outputs": [
    {
     "data": {
      "text/plain": [
       "4999"
      ]
     },
     "execution_count": 9,
     "metadata": {
      "tags": []
     },
     "output_type": "execute_result"
    }
   ],
   "source": [
    "np.max(data_with_outliers) - np.min(data_with_outliers)"
   ]
  },
  {
   "cell_type": "markdown",
   "metadata": {
    "id": "9kHovPMtly7H"
   },
   "source": [
    "\n",
    "## Standard Deviation\n",
    "\n",
    "The standard deviation indicates on an average how far the observations in the sample are from the sample mean. For the sample $X$, the standard deviation $s_X$ is:\n",
    "\n",
    "$$\n",
    "s_X = \\sqrt{\\dfrac{\\Sigma_i^n(x_i - \\bar{x})^2}{n}}\n",
    "$$\n",
    "\n"
   ]
  },
  {
   "cell_type": "code",
   "execution_count": 10,
   "metadata": {
    "colab": {
     "base_uri": "https://localhost:8080/"
    },
    "executionInfo": {
     "elapsed": 1062,
     "status": "ok",
     "timestamp": 1621058118567,
     "user": {
      "displayName": "Pavankumar Gurazada",
      "photoUrl": "https://lh3.googleusercontent.com/a-/AOh14GiPXY8Vmq7yP288va6yaoi572RRX-uBlSEFdW1x=s64",
      "userId": "10690826909418856210"
     },
     "user_tz": -330
    },
    "id": "Z_zogsXpl7v5",
    "outputId": "d003851b-ea25-4585-a46c-22cfafec0d73"
   },
   "outputs": [
    {
     "data": {
      "text/plain": [
       "1862.272394743106"
      ]
     },
     "execution_count": 10,
     "metadata": {
      "tags": []
     },
     "output_type": "execute_result"
    }
   ],
   "source": [
    "np.std(data_with_outliers)"
   ]
  },
  {
   "cell_type": "markdown",
   "metadata": {
    "id": "Z0aG66yjl6oM"
   },
   "source": [
    "## Quartiles\n",
    "\n",
    "Quartiles divide the observations in the sample to four equal parts - 25% ($Q_1$), 50% ($Q_2$ = median), 75% ($Q_3$).\n"
   ]
  },
  {
   "cell_type": "code",
   "execution_count": 11,
   "metadata": {
    "colab": {
     "base_uri": "https://localhost:8080/"
    },
    "executionInfo": {
     "elapsed": 997,
     "status": "ok",
     "timestamp": 1621058184885,
     "user": {
      "displayName": "Pavankumar Gurazada",
      "photoUrl": "https://lh3.googleusercontent.com/a-/AOh14GiPXY8Vmq7yP288va6yaoi572RRX-uBlSEFdW1x=s64",
      "userId": "10690826909418856210"
     },
     "user_tz": -330
    },
    "id": "SlCrUQrImJmx",
    "outputId": "ca503f6c-6b58-4ac4-98e5-861b017a56e2"
   },
   "outputs": [
    {
     "data": {
      "text/plain": [
       "2.25"
      ]
     },
     "execution_count": 11,
     "metadata": {
      "tags": []
     },
     "output_type": "execute_result"
    }
   ],
   "source": [
    "np.quantile(data_with_outliers, q=.25)"
   ]
  },
  {
   "cell_type": "code",
   "execution_count": 12,
   "metadata": {
    "colab": {
     "base_uri": "https://localhost:8080/"
    },
    "executionInfo": {
     "elapsed": 814,
     "status": "ok",
     "timestamp": 1621058197993,
     "user": {
      "displayName": "Pavankumar Gurazada",
      "photoUrl": "https://lh3.googleusercontent.com/a-/AOh14GiPXY8Vmq7yP288va6yaoi572RRX-uBlSEFdW1x=s64",
      "userId": "10690826909418856210"
     },
     "user_tz": -330
    },
    "id": "oTPzQYr-mO7q",
    "outputId": "031404e2-616e-4fdb-fde8-35fb5064d21d"
   },
   "outputs": [
    {
     "data": {
      "text/plain": [
       "3.5"
      ]
     },
     "execution_count": 12,
     "metadata": {
      "tags": []
     },
     "output_type": "execute_result"
    }
   ],
   "source": [
    "np.quantile(data_with_outliers, q=.5)"
   ]
  },
  {
   "cell_type": "code",
   "execution_count": 13,
   "metadata": {
    "colab": {
     "base_uri": "https://localhost:8080/"
    },
    "executionInfo": {
     "elapsed": 868,
     "status": "ok",
     "timestamp": 1621058267135,
     "user": {
      "displayName": "Pavankumar Gurazada",
      "photoUrl": "https://lh3.googleusercontent.com/a-/AOh14GiPXY8Vmq7yP288va6yaoi572RRX-uBlSEFdW1x=s64",
      "userId": "10690826909418856210"
     },
     "user_tz": -330
    },
    "id": "cp3JbcyGmSyO",
    "outputId": "a0c60af9-697b-4fde-cc69-2d5e2e7e8f4b"
   },
   "outputs": [
    {
     "data": {
      "text/plain": [
       "4.75"
      ]
     },
     "execution_count": 13,
     "metadata": {
      "tags": []
     },
     "output_type": "execute_result"
    }
   ],
   "source": [
    "np.quantile(data_with_outliers, q=.75)"
   ]
  },
  {
   "cell_type": "code",
   "execution_count": 14,
   "metadata": {
    "colab": {
     "base_uri": "https://localhost:8080/"
    },
    "executionInfo": {
     "elapsed": 1035,
     "status": "ok",
     "timestamp": 1621058327355,
     "user": {
      "displayName": "Pavankumar Gurazada",
      "photoUrl": "https://lh3.googleusercontent.com/a-/AOh14GiPXY8Vmq7yP288va6yaoi572RRX-uBlSEFdW1x=s64",
      "userId": "10690826909418856210"
     },
     "user_tz": -330
    },
    "id": "MXvn5RMEmtho",
    "outputId": "263eab2c-3335-462f-e825-25bbb0bdd804"
   },
   "outputs": [
    {
     "data": {
      "text/plain": [
       "array([2.25, 3.5 , 4.75])"
      ]
     },
     "execution_count": 14,
     "metadata": {
      "tags": []
     },
     "output_type": "execute_result"
    }
   ],
   "source": [
    "np.quantile(data_with_outliers, q=[.25, .5, .75])"
   ]
  },
  {
   "cell_type": "markdown",
   "metadata": {
    "id": "K2OoRuyImJBS"
   },
   "source": [
    "\n",
    "## Coefficient of variation\n",
    "\n",
    "For a sample, It is defined as the ratio of the standard deviation to the absolute value of the mean. It is unitless and could be used to compare the spread of two different variables\n",
    "\n",
    "$$\n",
    "cv_X = \\dfrac{s_X}{|\\bar{x}|}\n",
    "$$\n"
   ]
  },
  {
   "cell_type": "code",
   "execution_count": 15,
   "metadata": {
    "colab": {
     "base_uri": "https://localhost:8080/"
    },
    "executionInfo": {
     "elapsed": 1235,
     "status": "ok",
     "timestamp": 1621058368919,
     "user": {
      "displayName": "Pavankumar Gurazada",
      "photoUrl": "https://lh3.googleusercontent.com/a-/AOh14GiPXY8Vmq7yP288va6yaoi572RRX-uBlSEFdW1x=s64",
      "userId": "10690826909418856210"
     },
     "user_tz": -330
    },
    "id": "4Grh9zQqlqvx",
    "outputId": "ca7722c8-e9ec-4970-b823-24be9b599914"
   },
   "outputs": [
    {
     "data": {
      "text/plain": [
       "2.228042745455361"
      ]
     },
     "execution_count": 15,
     "metadata": {
      "tags": []
     },
     "output_type": "execute_result"
    }
   ],
   "source": [
    "np.std(data_with_outliers)/np.mean(data_with_outliers)"
   ]
  },
  {
   "cell_type": "markdown",
   "metadata": {
    "id": "AP3SCs-yOjS1"
   },
   "source": [
    "# Data"
   ]
  },
  {
   "cell_type": "code",
   "execution_count": 23,
   "metadata": {
    "colab": {
     "base_uri": "https://localhost:8080/"
    },
    "executionInfo": {
     "elapsed": 1231,
     "status": "ok",
     "timestamp": 1621062089534,
     "user": {
      "displayName": "Pavankumar Gurazada",
      "photoUrl": "https://lh3.googleusercontent.com/a-/AOh14GiPXY8Vmq7yP288va6yaoi572RRX-uBlSEFdW1x=s64",
      "userId": "10690826909418856210"
     },
     "user_tz": -330
    },
    "id": "N1Kq8nit3EKq",
    "outputId": "7b9fca19-8339-4d18-aa40-9305c1dc9886"
   },
   "outputs": [
    {
     "name": "stdout",
     "output_type": "stream",
     "text": [
      "\r",
      "[*********************100%***********************]  1 of 1 completed\n"
     ]
    }
   ],
   "source": [
    "burgerking_prices = yf.download(\"BURGERKING.NS\").reset_index()"
   ]
  },
  {
   "cell_type": "code",
   "execution_count": 31,
   "metadata": {
    "colab": {
     "base_uri": "https://localhost:8080/",
     "height": 204
    },
    "executionInfo": {
     "elapsed": 1021,
     "status": "ok",
     "timestamp": 1621062232486,
     "user": {
      "displayName": "Pavankumar Gurazada",
      "photoUrl": "https://lh3.googleusercontent.com/a-/AOh14GiPXY8Vmq7yP288va6yaoi572RRX-uBlSEFdW1x=s64",
      "userId": "10690826909418856210"
     },
     "user_tz": -330
    },
    "id": "-oEKpW_xhvAZ",
    "outputId": "f72142dc-81ad-4050-e16d-a0e023dee9e3"
   },
   "outputs": [
    {
     "data": {
      "text/html": [
       "<div>\n",
       "<style scoped>\n",
       "    .dataframe tbody tr th:only-of-type {\n",
       "        vertical-align: middle;\n",
       "    }\n",
       "\n",
       "    .dataframe tbody tr th {\n",
       "        vertical-align: top;\n",
       "    }\n",
       "\n",
       "    .dataframe thead th {\n",
       "        text-align: right;\n",
       "    }\n",
       "</style>\n",
       "<table border=\"1\" class=\"dataframe\">\n",
       "  <thead>\n",
       "    <tr style=\"text-align: right;\">\n",
       "      <th></th>\n",
       "      <th>Date</th>\n",
       "      <th>Open</th>\n",
       "      <th>High</th>\n",
       "      <th>Low</th>\n",
       "      <th>Close</th>\n",
       "      <th>Adj Close</th>\n",
       "      <th>Volume</th>\n",
       "    </tr>\n",
       "  </thead>\n",
       "  <tbody>\n",
       "    <tr>\n",
       "      <th>97</th>\n",
       "      <td>2021-05-07</td>\n",
       "      <td>131.199997</td>\n",
       "      <td>132.350006</td>\n",
       "      <td>129.000000</td>\n",
       "      <td>129.300003</td>\n",
       "      <td>129.300003</td>\n",
       "      <td>4174619</td>\n",
       "    </tr>\n",
       "    <tr>\n",
       "      <th>98</th>\n",
       "      <td>2021-05-10</td>\n",
       "      <td>130.000000</td>\n",
       "      <td>130.399994</td>\n",
       "      <td>128.149994</td>\n",
       "      <td>128.649994</td>\n",
       "      <td>128.649994</td>\n",
       "      <td>3691866</td>\n",
       "    </tr>\n",
       "    <tr>\n",
       "      <th>99</th>\n",
       "      <td>2021-05-11</td>\n",
       "      <td>128.649994</td>\n",
       "      <td>130.649994</td>\n",
       "      <td>127.500000</td>\n",
       "      <td>129.000000</td>\n",
       "      <td>129.000000</td>\n",
       "      <td>4099045</td>\n",
       "    </tr>\n",
       "    <tr>\n",
       "      <th>100</th>\n",
       "      <td>2021-05-12</td>\n",
       "      <td>130.850006</td>\n",
       "      <td>133.050003</td>\n",
       "      <td>129.699997</td>\n",
       "      <td>130.250000</td>\n",
       "      <td>130.250000</td>\n",
       "      <td>3361107</td>\n",
       "    </tr>\n",
       "    <tr>\n",
       "      <th>101</th>\n",
       "      <td>2021-05-14</td>\n",
       "      <td>131.000000</td>\n",
       "      <td>131.899994</td>\n",
       "      <td>129.100006</td>\n",
       "      <td>130.050003</td>\n",
       "      <td>130.050003</td>\n",
       "      <td>2441808</td>\n",
       "    </tr>\n",
       "  </tbody>\n",
       "</table>\n",
       "</div>"
      ],
      "text/plain": [
       "          Date        Open        High  ...       Close   Adj Close   Volume\n",
       "97  2021-05-07  131.199997  132.350006  ...  129.300003  129.300003  4174619\n",
       "98  2021-05-10  130.000000  130.399994  ...  128.649994  128.649994  3691866\n",
       "99  2021-05-11  128.649994  130.649994  ...  129.000000  129.000000  4099045\n",
       "100 2021-05-12  130.850006  133.050003  ...  130.250000  130.250000  3361107\n",
       "101 2021-05-14  131.000000  131.899994  ...  130.050003  130.050003  2441808\n",
       "\n",
       "[5 rows x 7 columns]"
      ]
     },
     "execution_count": 31,
     "metadata": {
      "tags": []
     },
     "output_type": "execute_result"
    }
   ],
   "source": [
    "burgerking_prices.tail()"
   ]
  },
  {
   "cell_type": "code",
   "execution_count": 26,
   "metadata": {
    "colab": {
     "base_uri": "https://localhost:8080/"
    },
    "executionInfo": {
     "elapsed": 1093,
     "status": "ok",
     "timestamp": 1621062122699,
     "user": {
      "displayName": "Pavankumar Gurazada",
      "photoUrl": "https://lh3.googleusercontent.com/a-/AOh14GiPXY8Vmq7yP288va6yaoi572RRX-uBlSEFdW1x=s64",
      "userId": "10690826909418856210"
     },
     "user_tz": -330
    },
    "id": "m1AuZaSi3pK7",
    "outputId": "4932861f-e3c4-4833-aaa2-a5ba9c1af190"
   },
   "outputs": [
    {
     "data": {
      "text/plain": [
       "(102, 7)"
      ]
     },
     "execution_count": 26,
     "metadata": {
      "tags": []
     },
     "output_type": "execute_result"
    }
   ],
   "source": [
    "burgerking_prices.shape"
   ]
  },
  {
   "cell_type": "code",
   "execution_count": 27,
   "metadata": {
    "colab": {
     "base_uri": "https://localhost:8080/"
    },
    "executionInfo": {
     "elapsed": 864,
     "status": "ok",
     "timestamp": 1621062135821,
     "user": {
      "displayName": "Pavankumar Gurazada",
      "photoUrl": "https://lh3.googleusercontent.com/a-/AOh14GiPXY8Vmq7yP288va6yaoi572RRX-uBlSEFdW1x=s64",
      "userId": "10690826909418856210"
     },
     "user_tz": -330
    },
    "id": "8D5ShxwI4cAF",
    "outputId": "598d2f59-5840-4076-9d5d-272719a5f14e"
   },
   "outputs": [
    {
     "data": {
      "text/plain": [
       "194.39999389648438"
      ]
     },
     "execution_count": 27,
     "metadata": {
      "tags": []
     },
     "output_type": "execute_result"
    }
   ],
   "source": [
    "(burgerking_prices.Close\n",
    "                  .max())"
   ]
  },
  {
   "cell_type": "code",
   "execution_count": 28,
   "metadata": {
    "colab": {
     "base_uri": "https://localhost:8080/"
    },
    "executionInfo": {
     "elapsed": 844,
     "status": "ok",
     "timestamp": 1621062150668,
     "user": {
      "displayName": "Pavankumar Gurazada",
      "photoUrl": "https://lh3.googleusercontent.com/a-/AOh14GiPXY8Vmq7yP288va6yaoi572RRX-uBlSEFdW1x=s64",
      "userId": "10690826909418856210"
     },
     "user_tz": -330
    },
    "id": "kLnNRZAchnf6",
    "outputId": "7934cade-9c1b-4c29-f9e5-b9c1dec7c560"
   },
   "outputs": [
    {
     "data": {
      "text/plain": [
       "126.5999984741211"
      ]
     },
     "execution_count": 28,
     "metadata": {
      "tags": []
     },
     "output_type": "execute_result"
    }
   ],
   "source": [
    "(burgerking_prices.Close\n",
    "                  .min())"
   ]
  },
  {
   "cell_type": "code",
   "execution_count": 29,
   "metadata": {
    "colab": {
     "base_uri": "https://localhost:8080/",
     "height": 419
    },
    "executionInfo": {
     "elapsed": 822,
     "status": "ok",
     "timestamp": 1621062156162,
     "user": {
      "displayName": "Pavankumar Gurazada",
      "photoUrl": "https://lh3.googleusercontent.com/a-/AOh14GiPXY8Vmq7yP288va6yaoi572RRX-uBlSEFdW1x=s64",
      "userId": "10690826909418856210"
     },
     "user_tz": -330
    },
    "id": "76zE4xCLiZYp",
    "outputId": "1ee18c1c-1c9e-4317-a7bf-b6f088e31cd6"
   },
   "outputs": [
    {
     "data": {
      "text/html": [
       "<div>\n",
       "<style scoped>\n",
       "    .dataframe tbody tr th:only-of-type {\n",
       "        vertical-align: middle;\n",
       "    }\n",
       "\n",
       "    .dataframe tbody tr th {\n",
       "        vertical-align: top;\n",
       "    }\n",
       "\n",
       "    .dataframe thead th {\n",
       "        text-align: right;\n",
       "    }\n",
       "</style>\n",
       "<table border=\"1\" class=\"dataframe\">\n",
       "  <thead>\n",
       "    <tr style=\"text-align: right;\">\n",
       "      <th></th>\n",
       "      <th>Date</th>\n",
       "      <th>Open</th>\n",
       "      <th>High</th>\n",
       "      <th>Low</th>\n",
       "      <th>Close</th>\n",
       "      <th>Adj Close</th>\n",
       "      <th>Volume</th>\n",
       "    </tr>\n",
       "  </thead>\n",
       "  <tbody>\n",
       "    <tr>\n",
       "      <th>0</th>\n",
       "      <td>NaT</td>\n",
       "      <td>NaN</td>\n",
       "      <td>NaN</td>\n",
       "      <td>NaN</td>\n",
       "      <td>NaN</td>\n",
       "      <td>NaN</td>\n",
       "      <td>NaN</td>\n",
       "    </tr>\n",
       "    <tr>\n",
       "      <th>1</th>\n",
       "      <td>1 days</td>\n",
       "      <td>34.500000</td>\n",
       "      <td>27.000000</td>\n",
       "      <td>36.599998</td>\n",
       "      <td>27.000000</td>\n",
       "      <td>27.000000</td>\n",
       "      <td>-126721954.0</td>\n",
       "    </tr>\n",
       "    <tr>\n",
       "      <th>2</th>\n",
       "      <td>1 days</td>\n",
       "      <td>37.000000</td>\n",
       "      <td>32.399994</td>\n",
       "      <td>33.899994</td>\n",
       "      <td>32.399994</td>\n",
       "      <td>32.399994</td>\n",
       "      <td>-38967381.0</td>\n",
       "    </tr>\n",
       "    <tr>\n",
       "      <th>3</th>\n",
       "      <td>1 days</td>\n",
       "      <td>29.800003</td>\n",
       "      <td>19.400009</td>\n",
       "      <td>-3.899994</td>\n",
       "      <td>-19.399994</td>\n",
       "      <td>-19.399994</td>\n",
       "      <td>-587978.0</td>\n",
       "    </tr>\n",
       "    <tr>\n",
       "      <th>4</th>\n",
       "      <td>1 days</td>\n",
       "      <td>-55.800003</td>\n",
       "      <td>-52.600006</td>\n",
       "      <td>-17.500000</td>\n",
       "      <td>-17.500000</td>\n",
       "      <td>-17.500000</td>\n",
       "      <td>-15329903.0</td>\n",
       "    </tr>\n",
       "    <tr>\n",
       "      <th>...</th>\n",
       "      <td>...</td>\n",
       "      <td>...</td>\n",
       "      <td>...</td>\n",
       "      <td>...</td>\n",
       "      <td>...</td>\n",
       "      <td>...</td>\n",
       "      <td>...</td>\n",
       "    </tr>\n",
       "    <tr>\n",
       "      <th>97</th>\n",
       "      <td>1 days</td>\n",
       "      <td>4.199997</td>\n",
       "      <td>-2.349991</td>\n",
       "      <td>2.349998</td>\n",
       "      <td>-1.699997</td>\n",
       "      <td>-1.699997</td>\n",
       "      <td>-20971.0</td>\n",
       "    </tr>\n",
       "    <tr>\n",
       "      <th>98</th>\n",
       "      <td>3 days</td>\n",
       "      <td>-1.199997</td>\n",
       "      <td>-1.950012</td>\n",
       "      <td>-0.850006</td>\n",
       "      <td>-0.650009</td>\n",
       "      <td>-0.650009</td>\n",
       "      <td>-482753.0</td>\n",
       "    </tr>\n",
       "    <tr>\n",
       "      <th>99</th>\n",
       "      <td>1 days</td>\n",
       "      <td>-1.350006</td>\n",
       "      <td>0.250000</td>\n",
       "      <td>-0.649994</td>\n",
       "      <td>0.350006</td>\n",
       "      <td>0.350006</td>\n",
       "      <td>407179.0</td>\n",
       "    </tr>\n",
       "    <tr>\n",
       "      <th>100</th>\n",
       "      <td>1 days</td>\n",
       "      <td>2.200012</td>\n",
       "      <td>2.400009</td>\n",
       "      <td>2.199997</td>\n",
       "      <td>1.250000</td>\n",
       "      <td>1.250000</td>\n",
       "      <td>-737938.0</td>\n",
       "    </tr>\n",
       "    <tr>\n",
       "      <th>101</th>\n",
       "      <td>2 days</td>\n",
       "      <td>0.149994</td>\n",
       "      <td>-1.150009</td>\n",
       "      <td>-0.599991</td>\n",
       "      <td>-0.199997</td>\n",
       "      <td>-0.199997</td>\n",
       "      <td>-919299.0</td>\n",
       "    </tr>\n",
       "  </tbody>\n",
       "</table>\n",
       "<p>102 rows × 7 columns</p>\n",
       "</div>"
      ],
      "text/plain": [
       "      Date       Open       High        Low      Close  Adj Close       Volume\n",
       "0      NaT        NaN        NaN        NaN        NaN        NaN          NaN\n",
       "1   1 days  34.500000  27.000000  36.599998  27.000000  27.000000 -126721954.0\n",
       "2   1 days  37.000000  32.399994  33.899994  32.399994  32.399994  -38967381.0\n",
       "3   1 days  29.800003  19.400009  -3.899994 -19.399994 -19.399994    -587978.0\n",
       "4   1 days -55.800003 -52.600006 -17.500000 -17.500000 -17.500000  -15329903.0\n",
       "..     ...        ...        ...        ...        ...        ...          ...\n",
       "97  1 days   4.199997  -2.349991   2.349998  -1.699997  -1.699997     -20971.0\n",
       "98  3 days  -1.199997  -1.950012  -0.850006  -0.650009  -0.650009    -482753.0\n",
       "99  1 days  -1.350006   0.250000  -0.649994   0.350006   0.350006     407179.0\n",
       "100 1 days   2.200012   2.400009   2.199997   1.250000   1.250000    -737938.0\n",
       "101 2 days   0.149994  -1.150009  -0.599991  -0.199997  -0.199997    -919299.0\n",
       "\n",
       "[102 rows x 7 columns]"
      ]
     },
     "execution_count": 29,
     "metadata": {
      "tags": []
     },
     "output_type": "execute_result"
    }
   ],
   "source": [
    "burgerking_prices.diff()"
   ]
  },
  {
   "cell_type": "markdown",
   "metadata": {
    "id": "9w44YeoGewKZ"
   },
   "source": [
    "# Study 1\n"
   ]
  },
  {
   "cell_type": "markdown",
   "metadata": {
    "id": "Du6M9eMTiTqa"
   },
   "source": [
    "Compute the measures of central tendency and variation for the closing stock prices. Interpret these measures"
   ]
  },
  {
   "cell_type": "code",
   "execution_count": 30,
   "metadata": {
    "colab": {
     "base_uri": "https://localhost:8080/"
    },
    "executionInfo": {
     "elapsed": 946,
     "status": "ok",
     "timestamp": 1621062190397,
     "user": {
      "displayName": "Pavankumar Gurazada",
      "photoUrl": "https://lh3.googleusercontent.com/a-/AOh14GiPXY8Vmq7yP288va6yaoi572RRX-uBlSEFdW1x=s64",
      "userId": "10690826909418856210"
     },
     "user_tz": -330
    },
    "id": "cKxrXWIGedtV",
    "outputId": "0cb9dc2e-91f6-48b3-bdcf-0868449a7d63"
   },
   "outputs": [
    {
     "data": {
      "text/plain": [
       "count    102.000000\n",
       "mean     144.217156\n",
       "std       15.199887\n",
       "min      126.599998\n",
       "25%      132.000000\n",
       "50%      141.125000\n",
       "75%      147.899994\n",
       "max      194.399994\n",
       "Name: Close, dtype: float64"
      ]
     },
     "execution_count": 30,
     "metadata": {
      "tags": []
     },
     "output_type": "execute_result"
    }
   ],
   "source": [
    "burgerking_prices.Close.describe()"
   ]
  },
  {
   "cell_type": "markdown",
   "metadata": {
    "id": "s2TerYuqiZFA"
   },
   "source": [
    "Compute the measures of central tendency and variation for the inter-day changes in stock prices. Interpret these measures"
   ]
  },
  {
   "cell_type": "code",
   "execution_count": 32,
   "metadata": {
    "colab": {
     "base_uri": "https://localhost:8080/"
    },
    "executionInfo": {
     "elapsed": 1105,
     "status": "ok",
     "timestamp": 1621062287723,
     "user": {
      "displayName": "Pavankumar Gurazada",
      "photoUrl": "https://lh3.googleusercontent.com/a-/AOh14GiPXY8Vmq7yP288va6yaoi572RRX-uBlSEFdW1x=s64",
      "userId": "10690826909418856210"
     },
     "user_tz": -330
    },
    "id": "AkHKr5Crif6w",
    "outputId": "03369c2a-a209-480a-b0df-74294cba5473"
   },
   "outputs": [
    {
     "data": {
      "text/plain": [
       "count    101.000000\n",
       "mean      -0.049010\n",
       "std        6.237976\n",
       "min      -19.399994\n",
       "25%       -2.149994\n",
       "50%       -0.400009\n",
       "75%        1.099991\n",
       "max       32.399994\n",
       "Name: Close, dtype: float64"
      ]
     },
     "execution_count": 32,
     "metadata": {
      "tags": []
     },
     "output_type": "execute_result"
    }
   ],
   "source": [
    "(burgerking_prices.diff()\n",
    "                  .Close\n",
    "                  .describe())"
   ]
  },
  {
   "cell_type": "markdown",
   "metadata": {
    "id": "rTsbj5v6eySZ"
   },
   "source": [
    "# Study 2\n"
   ]
  },
  {
   "cell_type": "markdown",
   "metadata": {
    "id": "EYU9TiNFnUyM"
   },
   "source": [
    "Build Bolliger Bands for the stock price of Burger King. Use the `pandas` function `rolling` with a `window = 7` to execute this task.\n",
    "\n",
    "\n",
    "Plot the bands along with the stock price.\n"
   ]
  },
  {
   "cell_type": "code",
   "execution_count": 33,
   "metadata": {
    "colab": {
     "base_uri": "https://localhost:8080/",
     "height": 359
    },
    "executionInfo": {
     "elapsed": 831,
     "status": "ok",
     "timestamp": 1621062394995,
     "user": {
      "displayName": "Pavankumar Gurazada",
      "photoUrl": "https://lh3.googleusercontent.com/a-/AOh14GiPXY8Vmq7yP288va6yaoi572RRX-uBlSEFdW1x=s64",
      "userId": "10690826909418856210"
     },
     "user_tz": -330
    },
    "id": "d1CdGnUVe0x3",
    "outputId": "fdf0faa4-4458-4516-bd2f-762690a92a05"
   },
   "outputs": [
    {
     "data": {
      "text/html": [
       "<div>\n",
       "<style scoped>\n",
       "    .dataframe tbody tr th:only-of-type {\n",
       "        vertical-align: middle;\n",
       "    }\n",
       "\n",
       "    .dataframe tbody tr th {\n",
       "        vertical-align: top;\n",
       "    }\n",
       "\n",
       "    .dataframe thead th {\n",
       "        text-align: right;\n",
       "    }\n",
       "</style>\n",
       "<table border=\"1\" class=\"dataframe\">\n",
       "  <thead>\n",
       "    <tr style=\"text-align: right;\">\n",
       "      <th></th>\n",
       "      <th>Date</th>\n",
       "      <th>Open</th>\n",
       "      <th>High</th>\n",
       "      <th>Low</th>\n",
       "      <th>Close</th>\n",
       "      <th>Adj Close</th>\n",
       "      <th>Volume</th>\n",
       "    </tr>\n",
       "  </thead>\n",
       "  <tbody>\n",
       "    <tr>\n",
       "      <th>0</th>\n",
       "      <td>2020-12-14</td>\n",
       "      <td>112.500000</td>\n",
       "      <td>135.000000</td>\n",
       "      <td>108.400002</td>\n",
       "      <td>135.000000</td>\n",
       "      <td>135.000000</td>\n",
       "      <td>186792834</td>\n",
       "    </tr>\n",
       "    <tr>\n",
       "      <th>1</th>\n",
       "      <td>2020-12-15</td>\n",
       "      <td>147.000000</td>\n",
       "      <td>162.000000</td>\n",
       "      <td>145.000000</td>\n",
       "      <td>162.000000</td>\n",
       "      <td>162.000000</td>\n",
       "      <td>60070880</td>\n",
       "    </tr>\n",
       "    <tr>\n",
       "      <th>2</th>\n",
       "      <td>2020-12-16</td>\n",
       "      <td>184.000000</td>\n",
       "      <td>194.399994</td>\n",
       "      <td>178.899994</td>\n",
       "      <td>194.399994</td>\n",
       "      <td>194.399994</td>\n",
       "      <td>21103499</td>\n",
       "    </tr>\n",
       "    <tr>\n",
       "      <th>3</th>\n",
       "      <td>2020-12-17</td>\n",
       "      <td>213.800003</td>\n",
       "      <td>213.800003</td>\n",
       "      <td>175.000000</td>\n",
       "      <td>175.000000</td>\n",
       "      <td>175.000000</td>\n",
       "      <td>20515521</td>\n",
       "    </tr>\n",
       "    <tr>\n",
       "      <th>4</th>\n",
       "      <td>2020-12-18</td>\n",
       "      <td>158.000000</td>\n",
       "      <td>161.199997</td>\n",
       "      <td>157.500000</td>\n",
       "      <td>157.500000</td>\n",
       "      <td>157.500000</td>\n",
       "      <td>5185618</td>\n",
       "    </tr>\n",
       "    <tr>\n",
       "      <th>5</th>\n",
       "      <td>2020-12-21</td>\n",
       "      <td>151.100006</td>\n",
       "      <td>173.250000</td>\n",
       "      <td>145.350006</td>\n",
       "      <td>158.300003</td>\n",
       "      <td>158.300003</td>\n",
       "      <td>65599552</td>\n",
       "    </tr>\n",
       "    <tr>\n",
       "      <th>6</th>\n",
       "      <td>2020-12-22</td>\n",
       "      <td>165.000000</td>\n",
       "      <td>174.100006</td>\n",
       "      <td>155.250000</td>\n",
       "      <td>173.350006</td>\n",
       "      <td>173.350006</td>\n",
       "      <td>28942709</td>\n",
       "    </tr>\n",
       "    <tr>\n",
       "      <th>7</th>\n",
       "      <td>2020-12-23</td>\n",
       "      <td>177.949997</td>\n",
       "      <td>190.649994</td>\n",
       "      <td>176.850006</td>\n",
       "      <td>189.449997</td>\n",
       "      <td>189.449997</td>\n",
       "      <td>27824176</td>\n",
       "    </tr>\n",
       "    <tr>\n",
       "      <th>8</th>\n",
       "      <td>2020-12-24</td>\n",
       "      <td>192.850006</td>\n",
       "      <td>196.500000</td>\n",
       "      <td>178.000000</td>\n",
       "      <td>180.899994</td>\n",
       "      <td>180.899994</td>\n",
       "      <td>25703631</td>\n",
       "    </tr>\n",
       "    <tr>\n",
       "      <th>9</th>\n",
       "      <td>2020-12-28</td>\n",
       "      <td>184.449997</td>\n",
       "      <td>186.000000</td>\n",
       "      <td>176.000000</td>\n",
       "      <td>178.399994</td>\n",
       "      <td>178.399994</td>\n",
       "      <td>7940387</td>\n",
       "    </tr>\n",
       "  </tbody>\n",
       "</table>\n",
       "</div>"
      ],
      "text/plain": [
       "        Date        Open        High  ...       Close   Adj Close     Volume\n",
       "0 2020-12-14  112.500000  135.000000  ...  135.000000  135.000000  186792834\n",
       "1 2020-12-15  147.000000  162.000000  ...  162.000000  162.000000   60070880\n",
       "2 2020-12-16  184.000000  194.399994  ...  194.399994  194.399994   21103499\n",
       "3 2020-12-17  213.800003  213.800003  ...  175.000000  175.000000   20515521\n",
       "4 2020-12-18  158.000000  161.199997  ...  157.500000  157.500000    5185618\n",
       "5 2020-12-21  151.100006  173.250000  ...  158.300003  158.300003   65599552\n",
       "6 2020-12-22  165.000000  174.100006  ...  173.350006  173.350006   28942709\n",
       "7 2020-12-23  177.949997  190.649994  ...  189.449997  189.449997   27824176\n",
       "8 2020-12-24  192.850006  196.500000  ...  180.899994  180.899994   25703631\n",
       "9 2020-12-28  184.449997  186.000000  ...  178.399994  178.399994    7940387\n",
       "\n",
       "[10 rows x 7 columns]"
      ]
     },
     "execution_count": 33,
     "metadata": {
      "tags": []
     },
     "output_type": "execute_result"
    }
   ],
   "source": [
    "burgerking_prices.head(10)"
   ]
  },
  {
   "cell_type": "code",
   "execution_count": 41,
   "metadata": {
    "colab": {
     "base_uri": "https://localhost:8080/"
    },
    "executionInfo": {
     "elapsed": 978,
     "status": "ok",
     "timestamp": 1621063167430,
     "user": {
      "displayName": "Pavankumar Gurazada",
      "photoUrl": "https://lh3.googleusercontent.com/a-/AOh14GiPXY8Vmq7yP288va6yaoi572RRX-uBlSEFdW1x=s64",
      "userId": "10690826909418856210"
     },
     "user_tz": -330
    },
    "id": "-OTybP2x5LW8",
    "outputId": "0bec6930-c75e-4a02-b9e2-bbfb335d0f60"
   },
   "outputs": [
    {
     "data": {
      "text/plain": [
       "163.79999796549478"
      ]
     },
     "execution_count": 41,
     "metadata": {
      "tags": []
     },
     "output_type": "execute_result"
    }
   ],
   "source": [
    "(burgerking_prices.Close\n",
    "                  .head(3)\n",
    "                  .mean())"
   ]
  },
  {
   "cell_type": "code",
   "execution_count": 40,
   "metadata": {
    "colab": {
     "base_uri": "https://localhost:8080/"
    },
    "executionInfo": {
     "elapsed": 1141,
     "status": "ok",
     "timestamp": 1621063124546,
     "user": {
      "displayName": "Pavankumar Gurazada",
      "photoUrl": "https://lh3.googleusercontent.com/a-/AOh14GiPXY8Vmq7yP288va6yaoi572RRX-uBlSEFdW1x=s64",
      "userId": "10690826909418856210"
     },
     "user_tz": -330
    },
    "id": "_XAIHhCJ4r8B",
    "outputId": "c2d4b5e7-c127-49da-fd07-caba347459b0"
   },
   "outputs": [
    {
     "data": {
      "text/plain": [
       "0             NaN\n",
       "1             NaN\n",
       "2      163.799998\n",
       "3      177.133331\n",
       "4      175.633331\n",
       "          ...    \n",
       "97     128.966667\n",
       "98     129.649999\n",
       "99     128.983332\n",
       "100    129.299998\n",
       "101    129.766668\n",
       "Name: Close, Length: 102, dtype: float64"
      ]
     },
     "execution_count": 40,
     "metadata": {
      "tags": []
     },
     "output_type": "execute_result"
    }
   ],
   "source": [
    "(burgerking_prices.Close\n",
    "                  .rolling(window=3)\n",
    "                  .mean())"
   ]
  },
  {
   "cell_type": "code",
   "execution_count": 34,
   "metadata": {
    "executionInfo": {
     "elapsed": 1035,
     "status": "ok",
     "timestamp": 1621062527193,
     "user": {
      "displayName": "Pavankumar Gurazada",
      "photoUrl": "https://lh3.googleusercontent.com/a-/AOh14GiPXY8Vmq7yP288va6yaoi572RRX-uBlSEFdW1x=s64",
      "userId": "10690826909418856210"
     },
     "user_tz": -330
    },
    "id": "v9sroYAsmlbw"
   },
   "outputs": [],
   "source": [
    "burgerking_prices['MA_7'] = (burgerking_prices.Close\n",
    "                                              .rolling(window=7)\n",
    "                                              .mean())"
   ]
  },
  {
   "cell_type": "code",
   "execution_count": 35,
   "metadata": {
    "executionInfo": {
     "elapsed": 622,
     "status": "ok",
     "timestamp": 1621062528937,
     "user": {
      "displayName": "Pavankumar Gurazada",
      "photoUrl": "https://lh3.googleusercontent.com/a-/AOh14GiPXY8Vmq7yP288va6yaoi572RRX-uBlSEFdW1x=s64",
      "userId": "10690826909418856210"
     },
     "user_tz": -330
    },
    "id": "PHXeBFbCnFlZ"
   },
   "outputs": [],
   "source": [
    "burgerking_prices['SD_7'] = (burgerking_prices.Close\n",
    "                                              .rolling(window=7)\n",
    "                                              .std())"
   ]
  },
  {
   "cell_type": "code",
   "execution_count": 36,
   "metadata": {
    "executionInfo": {
     "elapsed": 587,
     "status": "ok",
     "timestamp": 1621062531048,
     "user": {
      "displayName": "Pavankumar Gurazada",
      "photoUrl": "https://lh3.googleusercontent.com/a-/AOh14GiPXY8Vmq7yP288va6yaoi572RRX-uBlSEFdW1x=s64",
      "userId": "10690826909418856210"
     },
     "user_tz": -330
    },
    "id": "GR4mF1bCnmpp"
   },
   "outputs": [],
   "source": [
    "burgerking_prices['Lower_Bollinger_Bound'] = burgerking_prices['MA_7'] - 2 * burgerking_prices['SD_7']\n",
    "burgerking_prices['Upper_Bollinger_Bound'] = burgerking_prices['MA_7'] + 2 * burgerking_prices['SD_7']"
   ]
  },
  {
   "cell_type": "code",
   "execution_count": 42,
   "metadata": {
    "colab": {
     "base_uri": "https://localhost:8080/",
     "height": 338
    },
    "executionInfo": {
     "elapsed": 1138,
     "status": "ok",
     "timestamp": 1621063461349,
     "user": {
      "displayName": "Pavankumar Gurazada",
      "photoUrl": "https://lh3.googleusercontent.com/a-/AOh14GiPXY8Vmq7yP288va6yaoi572RRX-uBlSEFdW1x=s64",
      "userId": "10690826909418856210"
     },
     "user_tz": -330
    },
    "id": "-yzGdmJ_oFry",
    "outputId": "3a1e47bb-92d6-4c67-8c54-0beb1e9eb664"
   },
   "outputs": [
    {
     "data": {
      "text/plain": [
       "<matplotlib.collections.PolyCollection at 0x7fe2e1636110>"
      ]
     },
     "execution_count": 42,
     "metadata": {
      "tags": []
     },
     "output_type": "execute_result"
    },
    {
     "data": {
      "image/png": "[encoded data removed]",
      "text/plain": [
       "<Figure size 1080x360 with 1 Axes>"
      ]
     },
     "metadata": {
      "needs_background": "light",
      "tags": []
     },
     "output_type": "display_data"
    }
   ],
   "source": [
    "plt.figure(figsize=(15,5))\n",
    "plt.plot(burgerking_prices.Date, \n",
    "         burgerking_prices.Close)\n",
    "plt.plot(burgerking_prices.Date,\n",
    "         burgerking_prices.Lower_Bollinger_Bound,\n",
    "         alpha=0.3)\n",
    "plt.plot(burgerking_prices.Date,\n",
    "         burgerking_prices.Upper_Bollinger_Bound,\n",
    "         alpha=0.3)\n",
    "plt.fill_between(burgerking_prices.Date, \n",
    "                 burgerking_prices['Upper_Bollinger_Bound'], \n",
    "                 burgerking_prices['Lower_Bollinger_Bound'], \n",
    "                 color='grey', alpha=0.1)"
   ]
  },
  {
   "cell_type": "markdown",
   "metadata": {
    "id": "bgp1hJFr3ENs"
   },
   "source": [
    "# Challenge\n",
    "\n"
   ]
  },
  {
   "cell_type": "markdown",
   "metadata": {
    "id": "jDsimsF33O2p"
   },
   "source": [
    "Implement a high-frequency trading system using the concept of Bollinger Bounds. This system should collect the real-time stock price at every minute (or every day if you want to be conservative) and provide a recommendation of Buy/Sell based on whether it has hit the lower or upper bound.\n",
    "\n",
    "Compute the profit you would make if a sum of INR 1 crore was invested at each transaction according your Buy/Sell recommendation, net of transaction charges and tax over a period of one month."
   ]
  },
  {
   "cell_type": "code",
   "execution_count": 38,
   "metadata": {
    "colab": {
     "base_uri": "https://localhost:8080/"
    },
    "executionInfo": {
     "elapsed": 2406,
     "status": "ok",
     "timestamp": 1621062566717,
     "user": {
      "displayName": "Pavankumar Gurazada",
      "photoUrl": "https://lh3.googleusercontent.com/a-/AOh14GiPXY8Vmq7yP288va6yaoi572RRX-uBlSEFdW1x=s64",
      "userId": "10690826909418856210"
     },
     "user_tz": -330
    },
    "id": "OomjGaQe1ynb",
    "outputId": "b5aeae9a-e467-4036-e40f-3deca05a50aa"
   },
   "outputs": [
    {
     "name": "stdout",
     "output_type": "stream",
     "text": [
      "Burger King India Ltd\n",
      "130.10\n",
      "14 May 21 | 04:00 PM\n"
     ]
    }
   ],
   "source": [
    "codelist = [\"543248\"]\n",
    "\n",
    "b = BSE()\n",
    "\n",
    "for code in codelist:\n",
    "    quote = b.getQuote(code)\n",
    "    print(quote[\"companyName\"])\n",
    "    print(quote[\"currentValue\"])\n",
    "    print(quote[\"updatedOn\"])"
   ]
  },
  {
   "cell_type": "markdown",
   "metadata": {
    "id": "St2cLgIme4cf"
   },
   "source": [
    "# Summary\n",
    "\n",
    "1. The mean estimates the center of a numeric variable, while the standard deviation estimates the dispersion of individual values around the center\n",
    "\n",
    "2. The mean is heavily influenced by outliers, median or IQR might be a better estimate of the spread"
   ]
  }
 ],
 "metadata": {
  "colab": {
   "authorship_tag": "ABX9TyOemw0yRGwSKuntn1PVxN3H",
   "collapsed_sections": [],
   "name": "01_central-tendency-variation.ipynb",
   "provenance": [],
   "toc_visible": true
  },
  "kernelspec": {
   "display_name": "Python 3",
   "language": "python",
   "name": "python3"
  },
  "language_info": {
   "codemirror_mode": {
    "name": "ipython",
    "version": 3
   },
   "file_extension": ".py",
   "mimetype": "text/x-python",
   "name": "python",
   "nbconvert_exporter": "python",
   "pygments_lexer": "ipython3",
   "version": "3.7.4"
  }
 },
 "nbformat": 4,
 "nbformat_minor": 1
}
