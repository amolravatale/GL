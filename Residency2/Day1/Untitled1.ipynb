{
 "cells": [
  {
   "cell_type": "code",
   "execution_count": 2,
   "metadata": {},
   "outputs": [],
   "source": [
    "import scipy.stats as stats"
   ]
  },
  {
   "cell_type": "code",
   "execution_count": 3,
   "metadata": {},
   "outputs": [
    {
     "data": {
      "text/plain": [
       "101.64485362695147"
      ]
     },
     "execution_count": 3,
     "metadata": {},
     "output_type": "execute_result"
    }
   ],
   "source": [
    "stats.norm.isf(0.05,loc=100,)"
   ]
  },
  {
   "cell_type": "code",
   "execution_count": 34,
   "metadata": {},
   "outputs": [
    {
     "data": {
      "text/plain": [
       "1.973175290075389e-09"
      ]
     },
     "execution_count": 34,
     "metadata": {},
     "output_type": "execute_result"
    }
   ],
   "source": [
    "stats.norm.cdf(499,loc=500,scale=1/6)*2"
   ]
  },
  {
   "cell_type": "code",
   "execution_count": 31,
   "metadata": {},
   "outputs": [
    {
     "data": {
      "text/plain": [
       "500.32666066409"
      ]
     },
     "execution_count": 31,
     "metadata": {},
     "output_type": "execute_result"
    }
   ],
   "source": [
    "stats.norm.isf(0.025,loc=500,scale=1/6)"
   ]
  },
  {
   "cell_type": "code",
   "execution_count": 35,
   "metadata": {},
   "outputs": [
    {
     "name": "stdout",
     "output_type": "stream",
     "text": [
      "Critical Values\n",
      "499.67333933591\n",
      "500.32666066409\n",
      "Observed sample mean 499 lies in Critical Region. Hence process not as per standards\n",
      "P Value\n",
      "1.973175290075389e-09\n",
      "P Value is less than alpha 5%. Hence process not as per standards\n"
     ]
    }
   ],
   "source": [
    "import numpy as np\n",
    "mu=500\n",
    "sigma=1\n",
    "n=36\n",
    "xbar=499\n",
    "se = sigma/np.sqrt(n)\n",
    "print(\"Critical Values\")\n",
    "print(stats.norm.isf(0.975,loc=mu,scale=se))\n",
    "print(stats.norm.isf(0.025,loc=mu,scale=se))\n",
    "print(\"Observed sample mean 499 lies in Critical Region. Hence process not as per standards\")\n",
    "print(\"P Value\")\n",
    "print(stats.norm.cdf(xbar,loc=mu,scale=se)*2)\n",
    "print(\"P Value is less than alpha 5%. Hence process not as per standards\")\n"
   ]
  },
  {
   "cell_type": "code",
   "execution_count": 36,
   "metadata": {},
   "outputs": [
    {
     "name": "stdout",
     "output_type": "stream",
     "text": [
      "Sample Mean\n",
      "6783.727272727273\n",
      "Critical Values\n",
      "6806.672984901628\n",
      "8393.327015098372\n",
      "Observed sample mean 6783 lies in Critical Region. Hence Reject Null\n",
      "P Value\n",
      "0.04481624562570511\n",
      "P Value is less than alpha 5%. Hence reject Null\n",
      "T Statistic\n",
      "-2.2925841964555027\n"
     ]
    },
    {
     "data": {
      "text/plain": [
       "Ttest_1sampResult(statistic=-2.2925841964555027, pvalue=0.04481624562570511)"
      ]
     },
     "execution_count": 36,
     "metadata": {},
     "output_type": "execute_result"
    }
   ],
   "source": [
    "# daily intake of Sugar in milligrams for 11 diabetic patients\n",
    "import scipy.stats as stats\n",
    "from scipy.stats import ttest_1samp\n",
    "import numpy as np\n",
    "daily_intake = np.array([5560, 5770, 7640, 5180, 5690, 6435, 6803, 7689, 6876, 8213, 8765])\n",
    "import numpy as np\n",
    "mu=7600\n",
    "s=np.std(daily_intake,ddof=1)\n",
    "n=11\n",
    "xbar=np.mean(daily_intake)\n",
    "print(\"Sample Mean\")\n",
    "print(xbar)\n",
    "se = s/np.sqrt(n)\n",
    "print(\"Critical Values\")\n",
    "print(stats.t.isf(0.975,df=n-1,loc=mu,scale=se))\n",
    "print(stats.t.isf(0.025,df=n-1,loc=mu,scale=se))\n",
    "print(\"Observed sample mean 6783 lies in Critical Region. Hence Reject Null\")\n",
    "print(\"P Value\")\n",
    "print(stats.t.cdf(xbar,df=n-1,loc=mu,scale=se)*2)\n",
    "print(\"P Value is less than alpha 5%. Hence reject Null\")\n",
    "print(\"T Statistic\")\n",
    "print((xbar-mu)/se)\n",
    "\n",
    "\n",
    "ttest_1samp(daily_intake, 7600)"
   ]
  },
  {
   "cell_type": "code",
   "execution_count": null,
   "metadata": {},
   "outputs": [],
   "source": []
  }
 ],
 "metadata": {
  "kernelspec": {
   "display_name": "Python 3",
   "language": "python",
   "name": "python3"
  },
  "language_info": {
   "codemirror_mode": {
    "name": "ipython",
    "version": 3
   },
   "file_extension": ".py",
   "mimetype": "text/x-python",
   "name": "python",
   "nbconvert_exporter": "python",
   "pygments_lexer": "ipython3",
   "version": "3.7.4"
  }
 },
 "nbformat": 4,
 "nbformat_minor": 2
}
