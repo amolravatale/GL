{
 "cells": [
  {
   "cell_type": "code",
   "execution_count": 1,
   "metadata": {},
   "outputs": [
    {
     "name": "stderr",
     "output_type": "stream",
     "text": [
      "C:\\Users\\jyothsana\\Anaconda3\\lib\\site-packages\\sklearn\\linear_model\\logistic.py:432: FutureWarning: Default solver will be changed to 'lbfgs' in 0.22. Specify a solver to silence this warning.\n",
      "  FutureWarning)\n"
     ]
    }
   ],
   "source": [
    "from pandas import read_csv\n",
    "from sklearn.model_selection import train_test_split\n",
    "from sklearn.linear_model import LogisticRegression\n",
    "import numpy as np\n",
    "\n",
    "import pylab as pl\n",
    "from sklearn import svm\n",
    "from sklearn.utils import shuffle\n",
    "from sklearn.metrics import roc_curve, auc\n",
    "random_state = np.random.RandomState(0)\n",
    "\n",
    "\n",
    "\n",
    "filename = 'pima-indians-diabetes.data'\n",
    "names = ['preg', 'plas', 'pres', 'skin', 'test', 'mass', 'pedi', 'age', 'class']\n",
    "dataframe = read_csv(filename, names=names)\n",
    "\n",
    "array = dataframe.values\n",
    "X = array[:,0:8]\n",
    "Y = array[:,8]\n",
    "\n",
    "X_train, X_test, y_train, y_test = train_test_split(X, Y, test_size=0.50, random_state=1)\n",
    "classifier1 = LogisticRegression()\n",
    "classifier2 = svm.SVC(kernel='linear', probability=True)\n",
    "probas1_ = classifier1.fit(X_train, y_train).predict_proba(X_test)\n",
    "probas2_ = classifier2.fit(X_train, y_train).predict_proba(X_test)"
   ]
  },
  {
   "cell_type": "code",
   "execution_count": 2,
   "metadata": {},
   "outputs": [
    {
     "name": "stdout",
     "output_type": "stream",
     "text": [
      "Area under the ROC curve : 0.814422\n"
     ]
    }
   ],
   "source": [
    "# Compute ROC curve and area the curve for logistic\n",
    "fpr1, tpr1, thresholds1 = roc_curve(y_test, probas1_[:, 1])\n",
    "roc_auc1 = auc(fpr1, tpr1)\n",
    "print(\"Area under the ROC curve : %f\" % roc_auc1)"
   ]
  },
  {
   "cell_type": "code",
   "execution_count": 3,
   "metadata": {},
   "outputs": [
    {
     "name": "stdout",
     "output_type": "stream",
     "text": [
      "Area under the ROC curve : 0.836073\n"
     ]
    }
   ],
   "source": [
    "# Compute ROC curve and area the curve\n",
    "fpr2, tpr2, thresholds2 = roc_curve(y_test, probas2_[:, 1])\n",
    "roc_auc2 = auc(fpr2, tpr2)\n",
    "print(\"Area under the ROC curve : %f\" % roc_auc2)"
   ]
  },
  {
   "cell_type": "code",
   "execution_count": 4,
   "metadata": {},
   "outputs": [
    {
     "data": {
      "image/png": "[encoded data removed]",
      "text/plain": [
       "<Figure size 432x288 with 1 Axes>"
      ]
     },
     "metadata": {
      "needs_background": "light"
     },
     "output_type": "display_data"
    }
   ],
   "source": [
    "# Plot the ROC\n",
    "\n",
    "# Plot ROC curve\n",
    "pl.clf()\n",
    "pl.plot(fpr1, tpr1, label='ROC curve for logistic (area = %0.2f)' % roc_auc1)\n",
    "pl.plot(fpr2, tpr2, label='ROC curve for SVC (area = %0.2f)' % roc_auc2)\n",
    "pl.plot([0, 1], [0, 1], 'k--')\n",
    "pl.xlim([0.0, 1.0])\n",
    "pl.ylim([0.0, 1.0])\n",
    "pl.xlabel('False Positive Rate')\n",
    "pl.ylabel('True Positive Rate')\n",
    "pl.title('Receiverrating characteristic example')\n",
    "pl.legend(loc=\"lower right\")\n",
    "pl.show()"
   ]
  },
  {
   "cell_type": "code",
   "execution_count": 5,
   "metadata": {},
   "outputs": [
    {
     "name": "stdout",
     "output_type": "stream",
     "text": [
      "        fpr1      tpr1    1-fpr1       tf1  thresholds1\n",
      "77  0.239837  0.753623  0.760163 -0.006539     0.334539\n",
      "        fpr2      tpr2    1-fpr2      tf2  thresholds2\n",
      "68  0.223577  0.775362  0.776423 -0.00106     0.331606\n"
     ]
    }
   ],
   "source": [
    "import pandas as pd\n",
    "\n",
    "i = np.arange(len(tpr1)) # index for df\n",
    "roc1 = pd.DataFrame({'fpr1' : pd.Series(fpr1, index=i),'tpr1' : pd.Series(tpr1, index = i), '1-fpr1' : pd.Series(1-fpr1, index = i), 'tf1' : pd.Series(tpr1 - (1-fpr1), index = i), 'thresholds1' : pd.Series(thresholds1, index = i)})\n",
    "print(roc1.loc[(roc1.tf1-0).abs().argsort()[:1]])\n",
    "\n",
    "i = np.arange(len(tpr2)) # index for df\n",
    "roc2 = pd.DataFrame({'fpr2' : pd.Series(fpr2, index=i),'tpr2' : pd.Series(tpr2, index = i), '1-fpr2' : pd.Series(1-fpr2, index = i), 'tf2' : pd.Series(tpr2 - (1-fpr2), index = i), 'thresholds2' : pd.Series(thresholds2, index = i)})\n",
    "print(roc2.loc[(roc2.tf2-0).abs().argsort()[:1]])"
   ]
  },
  {
   "cell_type": "code",
   "execution_count": null,
   "metadata": {},
   "outputs": [],
   "source": []
  }
 ],
 "metadata": {
  "kernelspec": {
   "display_name": "Python 3",
   "language": "python",
   "name": "python3"
  },
  "language_info": {
   "codemirror_mode": {
    "name": "ipython",
    "version": 3
   },
   "file_extension": ".py",
   "mimetype": "text/x-python",
   "name": "python",
   "nbconvert_exporter": "python",
   "pygments_lexer": "ipython3",
   "version": "3.7.3"
  }
 },
 "nbformat": 4,
 "nbformat_minor": 2
}
