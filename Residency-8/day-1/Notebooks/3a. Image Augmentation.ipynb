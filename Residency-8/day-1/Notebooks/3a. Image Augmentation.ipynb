{
 "cells": [
  {
   "cell_type": "markdown",
   "metadata": {
    "id": "_Z-JU02KDTT0"
   },
   "source": [
    "#### Download Flowers dataset"
   ]
  },
  {
   "cell_type": "code",
   "execution_count": null,
   "metadata": {
    "id": "HAPobKjwDcBr"
   },
   "outputs": [],
   "source": [
    "#You can download the data manually as well instead of using 'wget'\n",
    "!wget http://download.tensorflow.org/example_images/flower_photos.tgz --quiet"
   ]
  },
  {
   "cell_type": "code",
   "execution_count": null,
   "metadata": {
    "id": "r1LveQPuDexO"
   },
   "outputs": [],
   "source": [
    "#Check if file is downloaded\n",
    "!ls -l"
   ]
  },
  {
   "cell_type": "code",
   "execution_count": null,
   "metadata": {
    "id": "oWQZ-Nx7Di-Z"
   },
   "outputs": [],
   "source": [
    "#Unzip the data\n",
    "!tar -xf flower_photos.tgz"
   ]
  },
  {
   "cell_type": "markdown",
   "metadata": {
    "id": "TAIJDBsC_dR3"
   },
   "source": [
    "#### Load image from the disk"
   ]
  },
  {
   "cell_type": "code",
   "execution_count": null,
   "metadata": {
    "id": "hpGKo1-i7kBt"
   },
   "outputs": [],
   "source": [
    "import tensorflow as tf\n",
    "import matplotlib.pyplot as plt"
   ]
  },
  {
   "cell_type": "code",
   "execution_count": null,
   "metadata": {
    "id": "2cvJf3yxwJsR"
   },
   "outputs": [],
   "source": [
    "#Load an image using Keras image class\n",
    "image_file = 'flower_photos/dandelion/10200780773_c6051a7d71_n.jpg'\n",
    "flower_image = tf.keras.preprocessing.image.load_img(image_file)\n",
    "flower_array = tf.keras.preprocessing.image.img_to_array(flower_image)\n",
    "\n",
    "#Inspect image\n",
    "flower_image"
   ]
  },
  {
   "cell_type": "code",
   "execution_count": null,
   "metadata": {
    "id": "-fGnqyHBf4zf"
   },
   "outputs": [],
   "source": [
    "flower_array.shape"
   ]
  },
  {
   "cell_type": "markdown",
   "metadata": {
    "id": "WwGOKi2awYhd"
   },
   "source": [
    "Build a function to display Original and Transformed Image"
   ]
  },
  {
   "cell_type": "code",
   "execution_count": null,
   "metadata": {
    "id": "2wpC00mQwJsX"
   },
   "outputs": [],
   "source": [
    "def plot_images(original_image, updated_image):\n",
    "    \n",
    "    plt.figure(figsize=(15,8))\n",
    "    #Original image\n",
    "    plt.subplot(1,2,1)\n",
    "    plt.title('Original image')\n",
    "    plt.imshow(original_image)\n",
    "\n",
    "    #Transformed image\n",
    "    plt.subplot(1,2,2)\n",
    "    plt.title('Transformed image')\n",
    "    plt.imshow(updated_image)\n",
    "\n",
    "    plt.show()"
   ]
  },
  {
   "cell_type": "markdown",
   "metadata": {
    "id": "GgAnKYvewJsa"
   },
   "source": [
    "### Flip an image"
   ]
  },
  {
   "cell_type": "code",
   "execution_count": null,
   "metadata": {
    "id": "EqxsOlNC_Mvw"
   },
   "outputs": [],
   "source": [
    "#Create a ImageDataGenerator by specifying the augmentation\n",
    "transform_fn = tf.keras.preprocessing.image.ImageDataGenerator(horizontal_flip=True)"
   ]
  },
  {
   "cell_type": "code",
   "execution_count": null,
   "metadata": {
    "id": "NGD-CWBNwJse"
   },
   "outputs": [],
   "source": [
    "#Feed numpy array to ImageDataGenerator to transfor\n",
    "transformed_array = transform_fn.random_transform(flower_array)\n",
    "\n",
    "#Convert array to image\n",
    "transformed_image = tf.keras.preprocessing.image.array_to_img(transformed_array)"
   ]
  },
  {
   "cell_type": "code",
   "execution_count": null,
   "metadata": {
    "id": "joC3wkVyyBOa"
   },
   "outputs": [],
   "source": [
    "#Show both original and transormed image\n",
    "plot_images(flower_image, transformed_image)"
   ]
  },
  {
   "cell_type": "markdown",
   "metadata": {
    "id": "Xtq4q7x5wJsj"
   },
   "source": [
    "### Shifting image"
   ]
  },
  {
   "cell_type": "markdown",
   "metadata": {
    "id": "3SFzmPFn4ojP"
   },
   "source": [
    "Vertical direction"
   ]
  },
  {
   "cell_type": "code",
   "execution_count": null,
   "metadata": {
    "id": "KXIDyPUvwlG0"
   },
   "outputs": [],
   "source": [
    "transform_fn = tf.keras.preprocessing.image.ImageDataGenerator(height_shift_range=50)\n",
    "transformed_array = transform_fn.random_transform(flower_array)\n",
    "transformed_image = tf.keras.preprocessing.image.array_to_img(transformed_array)\n",
    "\n",
    "plot_images(flower_image, transformed_image)"
   ]
  },
  {
   "cell_type": "markdown",
   "metadata": {
    "id": "OO7ijLrF5CLQ"
   },
   "source": [
    "Horizontal Shift"
   ]
  },
  {
   "cell_type": "code",
   "execution_count": null,
   "metadata": {
    "id": "xq7Ud4ivVW5A"
   },
   "outputs": [],
   "source": [
    "transform_fn = tf.keras.preprocessing.image.ImageDataGenerator(width_shift_range=0.20)\n",
    "transformed_array = transform_fn.random_transform(flower_array)\n",
    "transformed_image = tf.keras.preprocessing.image.array_to_img(transformed_array)\n",
    "\n",
    "plot_images(flower_image, transformed_image)"
   ]
  },
  {
   "cell_type": "markdown",
   "metadata": {
    "id": "8MuKMERCwJso"
   },
   "source": [
    "### Rotating image"
   ]
  },
  {
   "cell_type": "code",
   "execution_count": null,
   "metadata": {
    "id": "aWO2Ijj9wJsp"
   },
   "outputs": [],
   "source": [
    "transform_fn = tf.keras.preprocessing.image.ImageDataGenerator(rotation_range=50)\n",
    "transformed_array = transform_fn.random_transform(flower_array)\n",
    "transformed_image = tf.keras.preprocessing.image.array_to_img(transformed_array)\n",
    "\n",
    "plot_images(flower_image, transformed_image)"
   ]
  },
  {
   "cell_type": "markdown",
   "metadata": {
    "id": "CmDub8E_Djnu"
   },
   "source": [
    "### Zooming image"
   ]
  },
  {
   "cell_type": "code",
   "execution_count": null,
   "metadata": {
    "id": "2bGWmqVDwJss"
   },
   "outputs": [],
   "source": [
    "transform_fn = tf.keras.preprocessing.image.ImageDataGenerator(zoom_range=[0.3, 1.5])\n",
    "transformed_array = transform_fn.random_transform(flower_array)\n",
    "transformed_image = tf.keras.preprocessing.image.array_to_img(transformed_array)\n",
    "\n",
    "plot_images(flower_image, transformed_image)"
   ]
  },
  {
   "cell_type": "markdown",
   "metadata": {
    "id": "8voW4suWHbwL"
   },
   "source": [
    "### Applying multiple transforms"
   ]
  },
  {
   "cell_type": "code",
   "execution_count": null,
   "metadata": {
    "id": "blI0mKi1wJsw"
   },
   "outputs": [],
   "source": [
    "transform_fn = tf.keras.preprocessing.image.ImageDataGenerator(horizontal_flip=True,\n",
    "                                                               width_shift_range=0.2,\n",
    "                                                               height_shift_range=0.2,\n",
    "                                                               rotation_range=30,\n",
    "                                                               shear_range=0.2,\n",
    "                                                               zoom_range=0.3)\n",
    "transformed_array = transform_fn.random_transform(flower_array)\n",
    "transformed_image = tf.keras.preprocessing.image.array_to_img(transformed_array)\n",
    "\n",
    "plot_images(flower_image, transformed_image)"
   ]
  }
 ],
 "metadata": {
  "colab": {
   "collapsed_sections": [
    "_Z-JU02KDTT0",
    "TAIJDBsC_dR3",
    "GgAnKYvewJsa",
    "Xtq4q7x5wJsj",
    "8MuKMERCwJso"
   ],
   "name": "3a. Image Augmentation.ipynb",
   "private_outputs": true,
   "provenance": []
  },
  "kernelspec": {
   "display_name": "Python 3",
   "language": "python",
   "name": "python3"
  },
  "language_info": {
   "codemirror_mode": {
    "name": "ipython",
    "version": 3
   },
   "file_extension": ".py",
   "mimetype": "text/x-python",
   "name": "python",
   "nbconvert_exporter": "python",
   "pygments_lexer": "ipython3",
   "version": "3.6.5"
  }
 },
 "nbformat": 4,
 "nbformat_minor": 1
}
