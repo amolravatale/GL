{
 "cells": [
  {
   "cell_type": "code",
   "execution_count": 1,
   "metadata": {
    "colab": {
     "base_uri": "https://localhost:8080/",
     "height": 1000
    },
    "colab_type": "code",
    "executionInfo": {
     "elapsed": 4217,
     "status": "ok",
     "timestamp": 1578641876419,
     "user": {
      "displayName": "Mukesh Rao",
      "photoUrl": "",
      "userId": "17153267786626763657"
     },
     "user_tz": -330
    },
    "id": "EnR-o35AXgeQ",
    "outputId": "b3b7cba6-f101-4ce7-b668-d5e09fcca6fe"
   },
   "outputs": [
    {
     "name": "stdout",
     "output_type": "stream",
     "text": [
      "Package                            Version\n",
      "---------------------------------- -------------------\n",
      "absl-py                            0.11.0\n",
      "alabaster                          0.7.12\n",
      "anaconda-client                    1.7.2\n",
      "anaconda-navigator                 1.9.12\n",
      "anaconda-project                   0.8.3\n",
      "argh                               0.26.2\n",
      "asn1crypto                         1.3.0\n",
      "astroid                            2.4.2\n",
      "astropy                            4.0.1.post1\n",
      "astunparse                         1.6.3\n",
      "atomicwrites                       1.4.0\n",
      "attrs                              19.3.0\n",
      "autopep8                           1.5.3\n",
      "Babel                              2.8.0\n",
      "backcall                           0.2.0\n",
      "backports.functools-lru-cache      1.6.1\n",
      "backports.shutil-get-terminal-size 1.0.0\n",
      "backports.tempfile                 1.0\n",
      "backports.weakref                  1.0.post1\n",
      "bcrypt                             3.1.7\n",
      "beautifulsoup4                     4.9.1\n",
      "bitarray                           1.4.0\n",
      "bkcharts                           0.2\n",
      "bleach                             3.1.5\n",
      "bokeh                              2.1.1\n",
      "boto                               2.49.0\n",
      "Bottleneck                         1.3.2\n",
      "brotlipy                           0.7.0\n",
      "cachetools                         4.1.1\n",
      "certifi                            2020.6.20\n",
      "cffi                               1.14.0\n",
      "chardet                            3.0.4\n",
      "click                              7.1.2\n",
      "cloudpickle                        1.5.0\n",
      "clyent                             1.2.2\n",
      "colorama                           0.4.3\n",
      "comtypes                           1.1.7\n",
      "conda                              4.8.3\n",
      "conda-build                        3.18.11\n",
      "conda-package-handling             1.7.0\n",
      "conda-verify                       3.4.2\n",
      "contextlib2                        0.6.0.post1\n",
      "cryptography                       2.9.2\n",
      "cycler                             0.10.0\n",
      "Cython                             0.29.14\n",
      "cytoolz                            0.10.1\n",
      "dask                               2.20.0\n",
      "decorator                          4.4.2\n",
      "defusedxml                         0.6.0\n",
      "diff-match-patch                   20200713\n",
      "distributed                        2.20.0\n",
      "docutils                           0.16\n",
      "entrypoints                        0.3\n",
      "et-xmlfile                         1.0.1\n",
      "fastcache                          1.1.0\n",
      "filelock                           3.0.12\n",
      "flake8                             3.8.3\n",
      "Flask                              1.1.2\n",
      "fsspec                             0.7.4\n",
      "future                             0.18.2\n",
      "gast                               0.3.3\n",
      "gensim                             3.8.3\n",
      "gevent                             20.6.2\n",
      "glob2                              0.7\n",
      "gmpy2                              2.0.8\n",
      "google-auth                        1.23.0\n",
      "google-auth-oauthlib               0.4.2\n",
      "google-pasta                       0.2.0\n",
      "greenlet                           0.4.16\n",
      "grpcio                             1.33.2\n",
      "h5py                               2.10.0\n",
      "HeapDict                           1.0.1\n",
      "html5lib                           1.1\n",
      "idna                               2.10\n",
      "imageio                            2.9.0\n",
      "imagesize                          1.2.0\n",
      "importlib-metadata                 1.7.0\n",
      "intervaltree                       3.0.2\n",
      "ipykernel                          5.3.2\n",
      "ipython                            7.16.1\n",
      "ipython-genutils                   0.2.0\n",
      "ipywidgets                         7.5.1\n",
      "isort                              4.3.21\n",
      "itsdangerous                       1.1.0\n",
      "jdcal                              1.4.1\n",
      "jedi                               0.17.1\n",
      "Jinja2                             2.11.2\n",
      "joblib                             0.16.0\n",
      "json5                              0.9.5\n",
      "jsonschema                         3.2.0\n",
      "jupyter                            1.0.0\n",
      "jupyter-client                     6.1.6\n",
      "jupyter-console                    6.1.0\n",
      "jupyter-core                       4.6.3\n",
      "jupyterlab                         2.1.5\n",
      "jupyterlab-server                  1.2.0\n",
      "Keras-Preprocessing                1.1.2\n",
      "keyring                            21.2.1\n",
      "kiwisolver                         1.2.0\n",
      "lazy-object-proxy                  1.4.3\n",
      "libarchive-c                       2.9\n",
      "llvmlite                           0.33.0+1.g022ab0f\n",
      "locket                             0.2.0\n",
      "lxml                               4.5.2\n",
      "Markdown                           3.3.3\n",
      "MarkupSafe                         1.1.1\n",
      "matplotlib                         3.2.2\n",
      "mccabe                             0.6.1\n",
      "menuinst                           1.4.16\n",
      "mistune                            0.8.4\n",
      "mkl-fft                            1.1.0\n",
      "mkl-random                         1.1.1\n",
      "mkl-service                        2.3.0\n",
      "mock                               4.0.2\n",
      "more-itertools                     8.4.0\n",
      "mpmath                             1.1.0\n",
      "msgpack                            1.0.0\n",
      "multipledispatch                   0.6.0\n",
      "navigator-updater                  0.2.1\n",
      "nbconvert                          5.6.1\n",
      "nbformat                           5.0.7\n",
      "networkx                           2.4\n",
      "nltk                               3.5\n",
      "nose                               1.3.7\n",
      "notebook                           6.0.3\n",
      "numba                              0.50.1\n",
      "numexpr                            2.7.1\n",
      "numpy                              1.18.5\n",
      "numpydoc                           1.1.0\n",
      "oauthlib                           3.1.0\n",
      "olefile                            0.46\n",
      "openpyxl                           3.0.4\n",
      "opt-einsum                         3.3.0\n",
      "packaging                          20.4\n",
      "pandas                             1.0.5\n",
      "pandocfilters                      1.4.2\n",
      "paramiko                           2.7.1\n",
      "parso                              0.7.0\n",
      "partd                              1.1.0\n",
      "path                               13.1.0\n",
      "pathlib2                           2.3.5\n",
      "pathtools                          0.1.2\n",
      "patsy                              0.5.1\n",
      "pep8                               1.7.1\n",
      "pexpect                            4.8.0\n",
      "pickleshare                        0.7.5\n",
      "Pillow                             7.2.0\n",
      "pip                                20.1.1\n",
      "pkginfo                            1.5.0.1\n",
      "pluggy                             0.13.1\n",
      "ply                                3.11\n",
      "prometheus-client                  0.8.0\n",
      "prompt-toolkit                     3.0.5\n",
      "protobuf                           3.14.0\n",
      "psutil                             5.7.0\n",
      "py                                 1.9.0\n",
      "pyasn1                             0.4.8\n",
      "pyasn1-modules                     0.2.8\n",
      "pycodestyle                        2.6.0\n",
      "pycosat                            0.6.3\n",
      "pycparser                          2.20\n",
      "pycurl                             7.43.0.5\n",
      "pydocstyle                         5.0.2\n",
      "pyflakes                           2.2.0\n",
      "Pygments                           2.6.1\n",
      "pylint                             2.5.3\n",
      "PyNaCl                             1.4.0\n",
      "pyodbc                             4.0.0-unsupported\n",
      "pyOpenSSL                          19.1.0\n",
      "pyparsing                          2.4.7\n",
      "pyreadline                         2.1\n",
      "pyrsistent                         0.16.0\n",
      "PySocks                            1.7.1\n",
      "pytest                             5.4.3\n",
      "python-dateutil                    2.8.1\n",
      "python-jsonrpc-server              0.3.4\n",
      "python-language-server             0.34.1\n",
      "pytz                               2020.1\n",
      "PyWavelets                         1.1.1\n",
      "pywin32                            227\n",
      "pywin32-ctypes                     0.2.0\n",
      "pywinpty                           0.5.7\n",
      "PyYAML                             5.3.1\n",
      "pyzmq                              19.0.1\n",
      "QDarkStyle                         2.8.1\n",
      "QtAwesome                          0.7.2\n",
      "qtconsole                          4.7.5\n",
      "QtPy                               1.9.0\n",
      "regex                              2020.6.8\n",
      "requests                           2.24.0\n",
      "requests-oauthlib                  1.3.0\n",
      "rope                               0.17.0\n",
      "rsa                                4.6\n",
      "Rtree                              0.9.4\n",
      "ruamel-yaml                        0.15.87\n",
      "scikit-image                       0.16.2\n",
      "scikit-learn                       0.23.1\n",
      "scipy                              1.5.0\n",
      "seaborn                            0.10.1\n",
      "Send2Trash                         1.5.0\n",
      "setuptools                         49.2.0.post20200714\n",
      "simplegeneric                      0.8.1\n",
      "singledispatch                     3.4.0.3\n",
      "sip                                4.19.13\n",
      "six                                1.15.0\n",
      "smart-open                         4.0.1\n",
      "snowballstemmer                    2.0.0\n",
      "sortedcollections                  1.2.1\n",
      "sortedcontainers                   2.2.2\n",
      "soupsieve                          2.0.1\n",
      "Sphinx                             3.1.2\n",
      "sphinxcontrib-applehelp            1.0.2\n",
      "sphinxcontrib-devhelp              1.0.2\n",
      "sphinxcontrib-htmlhelp             1.0.3\n",
      "sphinxcontrib-jsmath               1.0.1\n",
      "sphinxcontrib-qthelp               1.0.3\n",
      "sphinxcontrib-serializinghtml      1.1.4\n",
      "sphinxcontrib-websupport           1.2.3\n",
      "spyder                             4.1.4\n",
      "spyder-kernels                     1.9.2\n",
      "SQLAlchemy                         1.3.18"
     ]
    }
   ],
   "source": [
    "#!pip list"
   ]
  },
  {
   "cell_type": "code",
   "execution_count": 2,
   "metadata": {
    "colab": {},
    "colab_type": "code",
    "id": "eplnblv_Xr1S"
   },
   "outputs": [
    {
     "name": "stdout",
     "output_type": "stream",
     "text": [
      "\n",
      "statsmodels                        0.11.1\n",
      "sympy                              1.6.1\n",
      "tables                             3.6.1\n",
      "tblib                              1.6.0\n",
      "tensorboard                        2.4.0\n",
      "tensorboard-plugin-wit             1.7.0\n",
      "tensorflow                         2.3.1\n",
      "tensorflow-estimator               2.3.0\n",
      "termcolor                          1.1.0\n",
      "terminado                          0.8.3\n",
      "testpath                           0.4.4\n",
      "threadpoolctl                      2.1.0\n",
      "toml                               0.10.1\n",
      "toolz                              0.10.0\n",
      "tornado                            6.0.4\n",
      "tqdm                               4.47.0\n",
      "traitlets                          4.3.3\n",
      "typing-extensions                  3.7.4.2\n",
      "ujson                              1.35\n",
      "unicodecsv                         0.14.1\n",
      "urllib3                            1.25.9\n",
      "watchdog                           0.10.3\n",
      "wcwidth                            0.2.5\n",
      "webencodings                       0.5.1\n",
      "Werkzeug                           1.0.1\n",
      "wheel                              0.34.2\n",
      "widgetsnbextension                 3.5.1\n",
      "win-inet-pton                      1.1.0\n",
      "win-unicode-console                0.5\n",
      "wincertstore                       0.2\n",
      "wrapt                              1.11.2\n",
      "xlrd                               1.2.0\n",
      "XlsxWriter                         1.2.9\n",
      "xlwings                            0.19.5\n",
      "xlwt                               1.3.0\n",
      "xmltodict                          0.12.0\n",
      "yapf                               0.30.0\n",
      "zict                               2.0.0\n",
      "zipp                               3.1.0\n",
      "zope.event                         4.4\n",
      "zope.interface                     4.7.1\n"
     ]
    }
   ],
   "source": [
    "#!pip install -U tensorflow==2.0"
   ]
  },
  {
   "cell_type": "code",
   "execution_count": 3,
   "metadata": {
    "colab": {},
    "colab_type": "code",
    "id": "Dg17uwtYXcie"
   },
   "outputs": [],
   "source": [
    "import tensorflow as tf    # importing tensorflow libraries"
   ]
  },
  {
   "cell_type": "code",
   "execution_count": 4,
   "metadata": {
    "colab": {
     "base_uri": "https://localhost:8080/",
     "height": 34
    },
    "colab_type": "code",
    "executionInfo": {
     "elapsed": 1280,
     "status": "ok",
     "timestamp": 1578641925480,
     "user": {
      "displayName": "Mukesh Rao",
      "photoUrl": "",
      "userId": "17153267786626763657"
     },
     "user_tz": -330
    },
    "id": "ZsAY5JZ_Y-60",
    "outputId": "38462afb-0ee3-4354-f123-9d504a95a311"
   },
   "outputs": [
    {
     "data": {
      "text/plain": [
       "'2.3.1'"
      ]
     },
     "execution_count": 4,
     "metadata": {},
     "output_type": "execute_result"
    }
   ],
   "source": [
    "tf.__version__"
   ]
  },
  {
   "cell_type": "markdown",
   "metadata": {
    "colab_type": "text",
    "id": "tsq615dsXcjG"
   },
   "source": [
    "# Creating tensors through constants"
   ]
  },
  {
   "cell_type": "code",
   "execution_count": 5,
   "metadata": {
    "colab": {
     "base_uri": "https://localhost:8080/",
     "height": 50
    },
    "colab_type": "code",
    "executionInfo": {
     "elapsed": 1317,
     "status": "ok",
     "timestamp": 1578642036683,
     "user": {
      "displayName": "Mukesh Rao",
      "photoUrl": "",
      "userId": "17153267786626763657"
     },
     "user_tz": -330
    },
    "id": "q-0f-xmLXcjL",
    "outputId": "112a2e0e-33b0-4710-f3a7-e4edaa3e1acb"
   },
   "outputs": [
    {
     "name": "stdout",
     "output_type": "stream",
     "text": [
      "b'Hello TensorFlow !!'\n"
     ]
    }
   ],
   "source": [
    "hello = tf.constant(\"Hello TensorFlow !!\")  \n",
    "print(hello.numpy())                \n"
   ]
  },
  {
   "cell_type": "markdown",
   "metadata": {
    "colab_type": "text",
    "id": "inWfvdxHXcjm"
   },
   "source": [
    " # Creating tensors through operations"
   ]
  },
  {
   "cell_type": "code",
   "execution_count": 6,
   "metadata": {
    "colab": {
     "base_uri": "https://localhost:8080/",
     "height": 34
    },
    "colab_type": "code",
    "executionInfo": {
     "elapsed": 2481,
     "status": "ok",
     "timestamp": 1578643411341,
     "user": {
      "displayName": "Mukesh Rao",
      "photoUrl": "",
      "userId": "17153267786626763657"
     },
     "user_tz": -330
    },
    "id": "zkUIy-R8Xcja",
    "outputId": "220bd6c7-5e2a-4aa9-dd80-58b098c08603"
   },
   "outputs": [
    {
     "name": "stdout",
     "output_type": "stream",
     "text": [
      "Sum of node1 and node2 is: 8\n"
     ]
    }
   ],
   "source": [
    "# creating nodes in computation graph \n",
    "node1 = tf.constant(3, dtype=tf.int32)   # creates a data node \n",
    "node2 = tf.constant(5, dtype=tf.int32)   # creates a data node\n",
    "node3 = tf.add(node1, node2)             # creates a function node\n",
    "\n",
    "\n",
    "# evaluating node3 and printing the result \n",
    "print(\"Sum of node1 and node2 is:\",node3.numpy()) \n"
   ]
  },
  {
   "cell_type": "code",
   "execution_count": 7,
   "metadata": {
    "colab": {
     "base_uri": "https://localhost:8080/",
     "height": 84
    },
    "colab_type": "code",
    "executionInfo": {
     "elapsed": 2032,
     "status": "ok",
     "timestamp": 1578644235057,
     "user": {
      "displayName": "Mukesh Rao",
      "photoUrl": "",
      "userId": "17153267786626763657"
     },
     "user_tz": -330
    },
    "id": "GEoM8tVdfBnE",
    "outputId": "e3dd34cd-2f68-40d7-ac2e-0c2016bafa04"
   },
   "outputs": [
    {
     "name": "stdout",
     "output_type": "stream",
     "text": [
      "[[0 1 2 3]\n",
      " [5 6 7 8]]\n",
      "(2, 4)\n",
      "tf.Tensor(2, shape=(), dtype=int32)\n"
     ]
    }
   ],
   "source": [
    "A  = tf.Variable(initial_value = ([[0,1,2,3],[5,6,7,8]]), shape=(2,4) , dtype = 'int32', name = 'A' )\n",
    "print(A.numpy())\n",
    "print(A.shape)\n",
    "print(tf.rank(A))"
   ]
  },
  {
   "cell_type": "code",
   "execution_count": 19,
   "metadata": {
    "colab": {
     "base_uri": "https://localhost:8080/",
     "height": 50
    },
    "colab_type": "code",
    "executionInfo": {
     "elapsed": 1315,
     "status": "ok",
     "timestamp": 1578644387350,
     "user": {
      "displayName": "Mukesh Rao",
      "photoUrl": "",
      "userId": "17153267786626763657"
     },
     "user_tz": -330
    },
    "id": "iZnkwnUsiGsX",
    "outputId": "6300cc3a-084d-42fc-883d-04c448353c33"
   },
   "outputs": [
    {
     "name": "stdout",
     "output_type": "stream",
     "text": [
      "<tf.Variable 'Variable:0' shape=(4, 1) dtype=int32, numpy=\n",
      "array([[1],\n",
      "       [2],\n",
      "       [3],\n",
      "       [4]])>\n",
      "(4, 1)\n",
      "tf.Tensor(2, shape=(), dtype=int32)\n"
     ]
    }
   ],
   "source": [
    "b = tf.Variable([[1],[2],[3],[4]])\n",
    "print(b)\n",
    "print(b.shape)\n",
    "print(tf.rank(b))"
   ]
  },
  {
   "cell_type": "code",
   "execution_count": 20,
   "metadata": {
    "colab": {
     "base_uri": "https://localhost:8080/",
     "height": 101
    },
    "colab_type": "code",
    "executionInfo": {
     "elapsed": 1373,
     "status": "ok",
     "timestamp": 1578644564298,
     "user": {
      "displayName": "Mukesh Rao",
      "photoUrl": "",
      "userId": "17153267786626763657"
     },
     "user_tz": -330
    },
    "id": "gUHSxdPtinH_",
    "outputId": "3df2cafd-b14e-45ce-d123-137c1a669637"
   },
   "outputs": [
    {
     "name": "stdout",
     "output_type": "stream",
     "text": [
      "(2, 2)\n",
      "tf.Tensor(2, shape=(), dtype=int32)\n",
      "<tf.Variable 'Variable:0' shape=(2, 2) dtype=int32, numpy=\n",
      "array([[1, 2],\n",
      "       [3, 4]])>\n"
     ]
    }
   ],
   "source": [
    "C = tf.Variable([[1,2],[3,4]])\n",
    "print(C.shape)\n",
    "print(tf.rank(C))\n",
    "print(C)"
   ]
  },
  {
   "cell_type": "code",
   "execution_count": 21,
   "metadata": {
    "colab": {
     "base_uri": "https://localhost:8080/",
     "height": 168
    },
    "colab_type": "code",
    "executionInfo": {
     "elapsed": 1294,
     "status": "ok",
     "timestamp": 1578644912773,
     "user": {
      "displayName": "Mukesh Rao",
      "photoUrl": "",
      "userId": "17153267786626763657"
     },
     "user_tz": -330
    },
    "id": "tIvE6O-wjlOe",
    "outputId": "748d295e-327a-426b-9b53-4d172b84e09c"
   },
   "outputs": [
    {
     "name": "stdout",
     "output_type": "stream",
     "text": [
      "rank of D : tf.Tensor(2, shape=(), dtype=int32)\n",
      "shape of D : (6, 2)\n",
      "content of D : tf.Tensor(\n",
      "[[50 50]\n",
      " [50 50]\n",
      " [50 50]\n",
      " [50 50]\n",
      " [50 50]\n",
      " [50 50]], shape=(6, 2), dtype=int32)\n"
     ]
    }
   ],
   "source": [
    "D = tf.constant(50, shape=[6,2])\n",
    "print(\"rank of D :\", tf.rank(D))\n",
    "print(\"shape of D :\" , D.shape)\n",
    "print(\"content of D :\",  D)"
   ]
  },
  {
   "cell_type": "markdown",
   "metadata": {
    "colab_type": "text",
    "id": "bh094NVtXckw"
   },
   "source": [
    "# Creating tensors from Existing Objects"
   ]
  },
  {
   "cell_type": "code",
   "execution_count": 22,
   "metadata": {
    "colab": {},
    "colab_type": "code",
    "id": "4fXNN8l5Xckz"
   },
   "outputs": [],
   "source": [
    "tf_t = tf.convert_to_tensor(5.0, dtype=tf.float64)   #converting a scalar value (5.0) into a tensor of rank 0 "
   ]
  },
  {
   "cell_type": "code",
   "execution_count": 23,
   "metadata": {
    "colab": {
     "base_uri": "https://localhost:8080/",
     "height": 84
    },
    "colab_type": "code",
    "executionInfo": {
     "elapsed": 1118,
     "status": "ok",
     "timestamp": 1578659886744,
     "user": {
      "displayName": "Mukesh Rao",
      "photoUrl": "",
      "userId": "17153267786626763657"
     },
     "user_tz": -330
    },
    "id": "fG4wXJl0Xck9",
    "outputId": "6cc3e42c-78cb-42e0-f78b-4375cb62c64e"
   },
   "outputs": [
    {
     "name": "stdout",
     "output_type": "stream",
     "text": [
      "tf.Tensor(0, shape=(), dtype=int32)\n",
      "tf.Tensor([], shape=(0,), dtype=int32)\n",
      "tf.Tensor(0, shape=(), dtype=int32)\n",
      "tf.Tensor([], shape=(0,), dtype=int32)\n"
     ]
    }
   ],
   "source": [
    "print(tf.rank(tf_t))\n",
    "print(tf.shape(tf_t))   # pl. note, the number after Rank_ and Shape_ are internal indices. \n",
    "\n",
    "print(tf.rank(tf_t))    #Note: if we do not use tfs.run(), the tf.rank will only describe the node\n",
    "print(tf.shape(tf_t) )  # pl. note, the number after Rank_ and Shape_ are internal indices. "
   ]
  },
  {
   "cell_type": "markdown",
   "metadata": {
    "colab_type": "text",
    "id": "A-0ZTLDHXclH"
   },
   "source": [
    "# Creating tensors from an array"
   ]
  },
  {
   "cell_type": "markdown",
   "metadata": {
    "colab_type": "text",
    "id": "67aE4E0jyRWL"
   },
   "source": []
  },
  {
   "cell_type": "code",
   "execution_count": 13,
   "metadata": {
    "colab": {
     "base_uri": "https://localhost:8080/",
     "height": 420
    },
    "colab_type": "code",
    "executionInfo": {
     "elapsed": 1139,
     "status": "ok",
     "timestamp": 1578660147308,
     "user": {
      "displayName": "Mukesh Rao",
      "photoUrl": "",
      "userId": "17153267786626763657"
     },
     "user_tz": -330
    },
    "id": "zV7mgvMlXclK",
    "outputId": "23b2af8d-49fe-4173-d22e-870257146141"
   },
   "outputs": [
    {
     "name": "stdout",
     "output_type": "stream",
     "text": [
      "one_dim_array Shape :  ([1], [2], [3], [4], [5])\n",
      "\n",
      "\n",
      "tf.Tensor(\n",
      "[[1.]\n",
      " [2.]\n",
      " [3.]\n",
      " [4.]\n",
      " [5.]], shape=(5, 1), dtype=float64)\n",
      "rank of tf_t :  tf.Tensor(2, shape=(), dtype=int32)\n",
      "shape of tf_t:  tf.Tensor([5 1], shape=(2,), dtype=int32)\n",
      "\n",
      "\n",
      "tf_t[0] :  tf.Tensor([1.], shape=(1,), dtype=float64)\n",
      "tf_t[0] :  tf.Tensor([3.], shape=(1,), dtype=float64)\n",
      "\n",
      "\n",
      "run(tf_t) : \n",
      " tf.Tensor(\n",
      "[[1.]\n",
      " [2.]\n",
      " [3.]\n",
      " [4.]\n",
      " [5.]], shape=(5, 1), dtype=float64)\n"
     ]
    }
   ],
   "source": [
    "import numpy as np\n",
    "\n",
    "one_dim_array = ([1], [2], [3], [4], [5])\n",
    "print(\"one_dim_array Shape : \", one_dim_array)\n",
    "\n",
    "tf_t = tf.convert_to_tensor(one_dim_array, dtype=tf.float64)\n",
    "print('\\n')\n",
    "print(tf_t)\n",
    "print('rank of tf_t : ', tf.rank(tf_t))     #Note: if we do not use tfs.run(), the tf.rank will only describe the node\n",
    "print('shape of tf_t: ', tf.shape(tf_t))\n",
    "print('\\n')\n",
    "print('tf_t[0] : ', tf_t[0])\n",
    "print('tf_t[0] : ', tf_t[2])\n",
    "print('\\n')\n",
    "print('run(tf_t) : \\n', tf_t)"
   ]
  },
  {
   "cell_type": "markdown",
   "metadata": {
    "colab_type": "text",
    "id": "UNXNzvvWXclS"
   },
   "source": [
    "# Define tensorflow variables "
   ]
  },
  {
   "cell_type": "code",
   "execution_count": 14,
   "metadata": {
    "colab": {
     "base_uri": "https://localhost:8080/",
     "height": 84
    },
    "colab_type": "code",
    "executionInfo": {
     "elapsed": 1123,
     "status": "ok",
     "timestamp": 1578660249182,
     "user": {
      "displayName": "Mukesh Rao",
      "photoUrl": "",
      "userId": "17153267786626763657"
     },
     "user_tz": -330
    },
    "id": "h_cO39i0XclU",
    "outputId": "3ae393c9-6fcc-4a12-c6f4-e06d8a94a4f1"
   },
   "outputs": [
    {
     "name": "stdout",
     "output_type": "stream",
     "text": [
      "w: <tf.Variable 'Variable:0' shape=(1,) dtype=float32, numpy=array([0.3], dtype=float32)>\n",
      "x: <tf.Variable 'Variable:0' shape=(1,) dtype=float32, numpy=array([5.], dtype=float32)>\n",
      "b: <tf.Variable 'Variable:0' shape=(1,) dtype=float32, numpy=array([-0.3], dtype=float32)>\n",
      "y: tf.Tensor([1.2], shape=(1,), dtype=float32)\n"
     ]
    }
   ],
   "source": [
    "# Assume Linear Model y = w * x + b\n",
    "# Define model parameters\n",
    "w = tf.Variable([.3], tf.float32)\n",
    "b = tf.Variable([-.3], tf.float32)\n",
    "\n",
    "\n",
    "# Define model input and output\n",
    "x = tf.Variable([5.0],tf.float32)\n",
    "y = w * x + b\n",
    "\n",
    "print(\"w:\", w)\n",
    "print(\"x:\", x)\n",
    "print(\"b:\", b)\n",
    "print(\"y:\", y)\n",
    "\n"
   ]
  },
  {
   "cell_type": "markdown",
   "metadata": {
    "colab_type": "text",
    "id": "-cNDamWVXcl8"
   },
   "source": [
    "# Linear model in tensorflow"
   ]
  },
  {
   "cell_type": "code",
   "execution_count": 15,
   "metadata": {
    "colab": {
     "base_uri": "https://localhost:8080/",
     "height": 118
    },
    "colab_type": "code",
    "executionInfo": {
     "elapsed": 1271,
     "status": "ok",
     "timestamp": 1578664632041,
     "user": {
      "displayName": "Mukesh Rao",
      "photoUrl": "",
      "userId": "17153267786626763657"
     },
     "user_tz": -330
    },
    "id": "Y_coH6FOXcmA",
    "outputId": "f2f7b0b9-1a30-4f8a-b671-7cb187331932"
   },
   "outputs": [
    {
     "name": "stdout",
     "output_type": "stream",
     "text": [
      "Loss at step 000: 6.100\n",
      "Loss at step 020: 0.217\n",
      "Loss at step 040: 0.211\n",
      "Loss at step 060: 0.206\n",
      "Loss at step 080: 0.201\n",
      "W : 0.3344224691390991 , b  = 0.2118747979402542 \n"
     ]
    }
   ],
   "source": [
    "train_X = [3.3, 4.4, 5.5, 6.71, 6.93, 4.168, 9.779, 6.182, 7.59, 2.167,\n",
    "           7.042, 10.791, 5.313, 7.997, 5.654, 9.27, 3.1]\n",
    "train_Y = [1.7, 2.76, 2.09, 3.19, 1.694, 1.573, 3.366, 2.596, 2.53, 1.221,\n",
    "           2.827, 3.465, 1.65, 2.904, 2.42, 2.94, 1.3]\n",
    "NUM_EXAMPLES = len(train_X)\n",
    "\n",
    "\n",
    "#create model paramters with initial values \n",
    "W = tf.Variable(0.)\n",
    "b = tf.Variable(0.)\n",
    "\n",
    "#training info\n",
    "train_steps = 100\n",
    "learning_rate = 0.01\n",
    "\n",
    "for i in range(train_steps):\n",
    "  \n",
    "  #watch the gradient flow \n",
    "  with tf.GradientTape() as tape:\n",
    "    \n",
    "    #forward pass \n",
    "    yhat = train_X * W + b\n",
    "    \n",
    "    #calcuate the loss (difference squared error)\n",
    "    error = yhat - train_Y\n",
    "    loss = tf.reduce_mean(tf.square(error))\n",
    "  \n",
    "  #evalute the gradient with the respect to the paramters\n",
    "  dW, db = tape.gradient(loss, [W, b])\n",
    "\n",
    "  #update the paramters using Gradient Descent  \n",
    "  W.assign_sub(dW * learning_rate)\n",
    "  b.assign_sub(db* learning_rate)\n",
    "\n",
    "  #print the loss every 20 iterations \n",
    "  if i % 20 == 0:\n",
    "    print(\"Loss at step {:03d}: {:.3f}\".format(i, loss))\n",
    "      \n",
    "print(f'W : {W.numpy()} , b  = {b.numpy()} ')"
   ]
  },
  {
   "cell_type": "code",
   "execution_count": 16,
   "metadata": {
    "colab": {
     "base_uri": "https://localhost:8080/",
     "height": 265
    },
    "colab_type": "code",
    "executionInfo": {
     "elapsed": 1225,
     "status": "ok",
     "timestamp": 1578664637140,
     "user": {
      "displayName": "Mukesh Rao",
      "photoUrl": "",
      "userId": "17153267786626763657"
     },
     "user_tz": -330
    },
    "id": "w5mQk92jugav",
    "outputId": "c1995d28-4702-4173-bf86-314226ce8839"
   },
   "outputs": [
    {
     "data": {
      "image/png": "[encoded data removed]",
      "text/plain": [
       "<Figure size 432x288 with 1 Axes>"
      ]
     },
     "metadata": {
      "needs_background": "light"
     },
     "output_type": "display_data"
    }
   ],
   "source": [
    "%matplotlib inline\n",
    "import matplotlib.pyplot as plt\n",
    "# Graphic display\n",
    "plt.plot(train_X, train_Y, 'ro', label='Original data')\n",
    "plt.plot(train_X, np.array(W * train_X + b), label='Fitted line')\n",
    "plt.legend()\n",
    "plt.show()"
   ]
  },
  {
   "cell_type": "code",
   "execution_count": 17,
   "metadata": {
    "colab": {},
    "colab_type": "code",
    "id": "srBxvRxSrp09"
   },
   "outputs": [],
   "source": [
    "def linear_model(X_val):\n",
    "  print((W*X_val + b).numpy())"
   ]
  },
  {
   "cell_type": "code",
   "execution_count": 18,
   "metadata": {
    "colab": {
     "base_uri": "https://localhost:8080/",
     "height": 34
    },
    "colab_type": "code",
    "executionInfo": {
     "elapsed": 1119,
     "status": "ok",
     "timestamp": 1578664696240,
     "user": {
      "displayName": "Mukesh Rao",
      "photoUrl": "",
      "userId": "17153267786626763657"
     },
     "user_tz": -330
    },
    "id": "UIEUTljxXcmP",
    "outputId": "f8a48827-ca73-41a5-d952-96bfe4130919"
   },
   "outputs": [
    {
     "name": "stdout",
     "output_type": "stream",
     "text": [
      "2.8872545\n"
     ]
    }
   ],
   "source": [
    "linear_model(8)"
   ]
  },
  {
   "cell_type": "code",
   "execution_count": null,
   "metadata": {},
   "outputs": [],
   "source": []
  }
 ],
 "metadata": {
  "colab": {
   "name": "Tensorflow_Introduction.ipynb",
   "provenance": []
  },
  "kernelspec": {
   "display_name": "Python 3",
   "language": "python",
   "name": "python3"
  },
  "language_info": {
   "codemirror_mode": {
    "name": "ipython",
    "version": 3
   },
   "file_extension": ".py",
   "mimetype": "text/x-python",
   "name": "python",
   "nbconvert_exporter": "python",
   "pygments_lexer": "ipython3",
   "version": "3.8.3"
  }
 },
 "nbformat": 4,
 "nbformat_minor": 1
}
