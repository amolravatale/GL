{
  "nbformat": 4,
  "nbformat_minor": 0,
  "metadata": {
    "colab": {
      "name": "R9 Internal Lab Question Notebook.ipynb",
      "provenance": [],
      "collapsed_sections": []
    },
    "kernelspec": {
      "name": "python3",
      "display_name": "Python 3"
    }
  },
  "cells": [
    {
      "cell_type": "markdown",
      "metadata": {
        "id": "PHYs6Z84xV8E"
      },
      "source": [
        "<img src=\"http://drive.google.com/uc?export=view&id=1tpOCamr9aWz817atPnyXus8w5gJ3mIts\" width=500px>\n",
        "\n",
        "Proprietary content. © Great Learning. All Rights Reserved. Unauthorized use or distribution prohibited."
      ]
    },
    {
      "cell_type": "markdown",
      "metadata": {
        "id": "FbwHYUXhxaqD"
      },
      "source": [
        "## Problem Statement\n",
        "\n"
      ]
    },
    {
      "cell_type": "markdown",
      "metadata": {
        "id": "5QQxgAmWzSye"
      },
      "source": [
        "# Samsung Internal SSD Reviews prediction\n",
        "\n",
        "Rating predictions using reviews written by users can be a useful problem statement in E-commerce domain and can be used for recommending similar products that may interest users. The dataset in this problem statement comprises reviews pertaining to Samsung Internal SSD product specifically SAMSUNG 850 EVO 2.5\" 250GB SATA III 3D NAND Internal Solid State Drive (SSD) MZ-75E250B/AM from the NewEgg Store website.  We will build a Natural Language processing model using Glove embeddings which is trained on reviews given by customers that have used the product and try to predict ratings given a new rating.\n",
        "\n",
        "\n",
        "\n",
        "\n",
        "### Objective:\n",
        "Given the reviews provided by customers, can you train a model that accurately predicts the corresponding rating of a review?"
      ]
    },
    {
      "cell_type": "markdown",
      "metadata": {
        "id": "CI7usguRzeox"
      },
      "source": [
        "### Package version\n",
        "\n",
        "- tensorflow==2.3.0\n",
        "- scikit-learn==0.22.2.post1\n",
        "- pandas==1.0.5\n",
        "- numpy==1.18.5\n",
        "- matplotlib==3.2.2\n",
        "- google==2.0.3"
      ]
    },
    {
      "cell_type": "markdown",
      "metadata": {
        "id": "aiMdVjHRH7NR"
      },
      "source": [
        "### Data Dictionary \n",
        "\n",
        "- review_title : The Title for the customer review\n",
        "\n",
        "- overall_review: The whole customer review details\n",
        "\n",
        "- pros: The customer opinion about the good things in this product\n",
        "\n",
        "- cons: The customer opinion about the bad things in this product\n",
        "\n",
        "- ownership_pariod: How long the customer owned this product\n",
        "\n",
        "- date: When the review was written\n",
        "\n",
        "- rating_stars: The product rating from 1 to 5\n",
        "\n",
        "- year: In which year the review was written\n",
        "\n",
        "- month: In which month the review was written\n",
        "\n",
        "- day: In which day the review was written"
      ]
    },
    {
      "cell_type": "markdown",
      "metadata": {
        "id": "cEn52o8jznJK"
      },
      "source": [
        "## Table of Content\n",
        "\n",
        "1. Import Libraries\n",
        "\n",
        "2. Setting options\n",
        "\n",
        "3. Read Data\n",
        "\n",
        "4. Data Analysis and Preparation\n",
        "\n",
        "5. Model Building\n",
        "\n",
        "6. Conclusion and Interpretation\n",
        "\n",
        "7. Food for thought"
      ]
    },
    {
      "cell_type": "markdown",
      "metadata": {
        "id": "x_Lom6cXzqn7"
      },
      "source": [
        "## 1. Import Libraries"
      ]
    },
    {
      "cell_type": "markdown",
      "metadata": {
        "id": "FZtVstH8zre2"
      },
      "source": [
        "Let us start by mounting the drive"
      ]
    },
    {
      "cell_type": "code",
      "metadata": {
        "id": "jSsg8JHkIh2k",
        "colab": {
          "base_uri": "https://localhost:8080/"
        },
        "outputId": "b06f8cbc-531a-4478-eb64-b8717b8f7439"
      },
      "source": [
        "from google.colab import drive\n",
        "drive.mount('/content/drive')"
      ],
      "execution_count": 1,
      "outputs": [
        {
          "output_type": "stream",
          "text": [
            "Mounted at /content/drive\n"
          ],
          "name": "stdout"
        }
      ]
    },
    {
      "cell_type": "code",
      "metadata": {
        "id": "dhjUETdFpiyc"
      },
      "source": [
        "!cd '/content/drive/MyDrive/LablFiles/SequenceNLP_Internal/'"
      ],
      "execution_count": 2,
      "outputs": []
    },
    {
      "cell_type": "code",
      "metadata": {
        "id": "eiuUVBuDzzn9",
        "colab": {
          "base_uri": "https://localhost:8080/"
        },
        "outputId": "4cb774cd-9f20-4bd1-9744-2559f737bb84"
      },
      "source": [
        "# used to supress display of warnings\n",
        "import warnings\n",
        "\n",
        "# os is used to provide a way of using operating system dependent functionality\n",
        "# We use it for setting working folder\n",
        "import os\n",
        "\n",
        "# Pandas is used for data manipulation and analysis\n",
        "import pandas as pd \n",
        "\n",
        "# Numpy is used for large, multi-dimensional arrays and matrices, along with mathematical operators on these arrays\n",
        "import numpy as np\n",
        "\n",
        "# Matplotlib is a data visualization library for 2D plots of arrays, built on NumPy arrays \n",
        "# and designed to work with the broader SciPy stack\n",
        "import matplotlib.pyplot as plt\n",
        "%matplotlib inline\n",
        "from matplotlib import pyplot\n",
        "\n",
        "# Seaborn is based on matplotlib, which aids in drawing attractive and informative statistical graphics.\n",
        "import seaborn as sns\n",
        "import tensorflow \n",
        "print(tensorflow.__version__)"
      ],
      "execution_count": 3,
      "outputs": [
        {
          "output_type": "stream",
          "text": [
            "2.5.0\n"
          ],
          "name": "stdout"
        }
      ]
    },
    {
      "cell_type": "markdown",
      "metadata": {
        "id": "fze-aokU0ukH"
      },
      "source": [
        "## 2. Setting Options"
      ]
    },
    {
      "cell_type": "code",
      "metadata": {
        "id": "T3FALggG0xXa"
      },
      "source": [
        "# suppress display of warnings\n",
        "warnings.filterwarnings('ignore')\n",
        "\n",
        "# display all dataframe columns\n",
        "pd.options.display.max_columns = None\n",
        "\n",
        "# to set the limit to 3 decimals\n",
        "pd.options.display.float_format = '{:.7f}'.format\n",
        "\n",
        "# display all dataframe rows\n",
        "pd.options.display.max_rows = None"
      ],
      "execution_count": 4,
      "outputs": []
    },
    {
      "cell_type": "markdown",
      "metadata": {
        "id": "ZT1P1WdK1vfZ"
      },
      "source": [
        "## 3. Read Data"
      ]
    },
    {
      "cell_type": "markdown",
      "metadata": {
        "id": "NnnvF56gfwav"
      },
      "source": [
        "### Read the dataset and check top 5 rows"
      ]
    },
    {
      "cell_type": "code",
      "metadata": {
        "id": "imj2VbNpf383"
      },
      "source": [
        "dfreview = pd.read_csv('/content/drive/MyDrive/LablFiles/SequenceNLP_Internal/MohitData/ssd_reviews.csv')"
      ],
      "execution_count": 5,
      "outputs": []
    },
    {
      "cell_type": "code",
      "metadata": {
        "colab": {
          "base_uri": "https://localhost:8080/",
          "height": 391
        },
        "id": "8Z3gBUrnqK6X",
        "outputId": "f77e3526-58c0-4dd4-bc8c-20e5eba8c0d2"
      },
      "source": [
        "dfreview.head(5)"
      ],
      "execution_count": 6,
      "outputs": [
        {
          "output_type": "execute_result",
          "data": {
            "text/html": [
              "<div>\n",
              "<style scoped>\n",
              "    .dataframe tbody tr th:only-of-type {\n",
              "        vertical-align: middle;\n",
              "    }\n",
              "\n",
              "    .dataframe tbody tr th {\n",
              "        vertical-align: top;\n",
              "    }\n",
              "\n",
              "    .dataframe thead th {\n",
              "        text-align: right;\n",
              "    }\n",
              "</style>\n",
              "<table border=\"1\" class=\"dataframe\">\n",
              "  <thead>\n",
              "    <tr style=\"text-align: right;\">\n",
              "      <th></th>\n",
              "      <th>Unnamed: 0</th>\n",
              "      <th>review_title</th>\n",
              "      <th>overall_review</th>\n",
              "      <th>pros</th>\n",
              "      <th>cons</th>\n",
              "      <th>ownership_pariod</th>\n",
              "      <th>date</th>\n",
              "      <th>rating_stars</th>\n",
              "      <th>year</th>\n",
              "      <th>month</th>\n",
              "      <th>day</th>\n",
              "    </tr>\n",
              "  </thead>\n",
              "  <tbody>\n",
              "    <tr>\n",
              "      <th>0</th>\n",
              "      <td>0</td>\n",
              "      <td>solid</td>\n",
              "      <td>buy it you will not regret this purchase</td>\n",
              "      <td>reliable fast silent cool running drive highly...</td>\n",
              "      <td>NaN</td>\n",
              "      <td>years</td>\n",
              "      <td>2019-12-05 12:58:58</td>\n",
              "      <td>5</td>\n",
              "      <td>2019</td>\n",
              "      <td>12</td>\n",
              "      <td>5</td>\n",
              "    </tr>\n",
              "    <tr>\n",
              "      <th>1</th>\n",
              "      <td>1</td>\n",
              "      <td>nice drive for price even cheaper by todays costs</td>\n",
              "      <td>good drive price</td>\n",
              "      <td>been running almost constantly since when i pu...</td>\n",
              "      <td>NaN</td>\n",
              "      <td>years</td>\n",
              "      <td>2019-11-01 08:25:45</td>\n",
              "      <td>5</td>\n",
              "      <td>2019</td>\n",
              "      <td>11</td>\n",
              "      <td>1</td>\n",
              "    </tr>\n",
              "    <tr>\n",
              "      <th>2</th>\n",
              "      <td>2</td>\n",
              "      <td>perfect</td>\n",
              "      <td>used this drive as my boot drive and only data...</td>\n",
              "      <td>good value decently fast good longevity</td>\n",
              "      <td>none so far</td>\n",
              "      <td>years</td>\n",
              "      <td>2019-10-27 17:05:49</td>\n",
              "      <td>5</td>\n",
              "      <td>2019</td>\n",
              "      <td>10</td>\n",
              "      <td>27</td>\n",
              "    </tr>\n",
              "    <tr>\n",
              "      <th>3</th>\n",
              "      <td>3</td>\n",
              "      <td>very snappy</td>\n",
              "      <td>os boots quicker os menus pop up quicker gamin...</td>\n",
              "      <td>noticeable improvement in os performance over ...</td>\n",
              "      <td>samsung magician software causes some games to...</td>\n",
              "      <td>years</td>\n",
              "      <td>2019-10-24 18:29:43</td>\n",
              "      <td>5</td>\n",
              "      <td>2019</td>\n",
              "      <td>10</td>\n",
              "      <td>24</td>\n",
              "    </tr>\n",
              "    <tr>\n",
              "      <th>4</th>\n",
              "      <td>4</td>\n",
              "      <td>worth the hype</td>\n",
              "      <td>this was the sdd that everyone said to get and...</td>\n",
              "      <td>NaN</td>\n",
              "      <td>NaN</td>\n",
              "      <td>years</td>\n",
              "      <td>2019-09-11 19:21:03</td>\n",
              "      <td>5</td>\n",
              "      <td>2019</td>\n",
              "      <td>9</td>\n",
              "      <td>11</td>\n",
              "    </tr>\n",
              "  </tbody>\n",
              "</table>\n",
              "</div>"
            ],
            "text/plain": [
              "   Unnamed: 0                                       review_title  \\\n",
              "0           0                                              solid   \n",
              "1           1  nice drive for price even cheaper by todays costs   \n",
              "2           2                                            perfect   \n",
              "3           3                                        very snappy   \n",
              "4           4                                     worth the hype   \n",
              "\n",
              "                                      overall_review  \\\n",
              "0           buy it you will not regret this purchase   \n",
              "1                                   good drive price   \n",
              "2  used this drive as my boot drive and only data...   \n",
              "3  os boots quicker os menus pop up quicker gamin...   \n",
              "4  this was the sdd that everyone said to get and...   \n",
              "\n",
              "                                                pros  \\\n",
              "0  reliable fast silent cool running drive highly...   \n",
              "1  been running almost constantly since when i pu...   \n",
              "2            good value decently fast good longevity   \n",
              "3  noticeable improvement in os performance over ...   \n",
              "4                                                NaN   \n",
              "\n",
              "                                                cons ownership_pariod  \\\n",
              "0                                                NaN            years   \n",
              "1                                                NaN            years   \n",
              "2                                        none so far            years   \n",
              "3  samsung magician software causes some games to...            years   \n",
              "4                                                NaN            years   \n",
              "\n",
              "                  date  rating_stars  year  month  day  \n",
              "0  2019-12-05 12:58:58             5  2019     12    5  \n",
              "1  2019-11-01 08:25:45             5  2019     11    1  \n",
              "2  2019-10-27 17:05:49             5  2019     10   27  \n",
              "3  2019-10-24 18:29:43             5  2019     10   24  \n",
              "4  2019-09-11 19:21:03             5  2019      9   11  "
            ]
          },
          "metadata": {
            "tags": []
          },
          "execution_count": 6
        }
      ]
    },
    {
      "cell_type": "markdown",
      "metadata": {
        "id": "RGluIi5Sf5Rp"
      },
      "source": [
        "### Check info of the dataset and write your findings"
      ]
    },
    {
      "cell_type": "code",
      "metadata": {
        "id": "Pldlew5Mf9gA",
        "colab": {
          "base_uri": "https://localhost:8080/"
        },
        "outputId": "43ba34ed-a9d8-452d-8934-de5599318cd9"
      },
      "source": [
        "dfreview.shape"
      ],
      "execution_count": 7,
      "outputs": [
        {
          "output_type": "execute_result",
          "data": {
            "text/plain": [
              "(2227, 11)"
            ]
          },
          "metadata": {
            "tags": []
          },
          "execution_count": 7
        }
      ]
    },
    {
      "cell_type": "code",
      "metadata": {
        "colab": {
          "base_uri": "https://localhost:8080/"
        },
        "id": "aYIQ66iwq8uP",
        "outputId": "f6d88994-12e0-408a-893e-c5c9a987af56"
      },
      "source": [
        "dfreview.info()"
      ],
      "execution_count": 8,
      "outputs": [
        {
          "output_type": "stream",
          "text": [
            "<class 'pandas.core.frame.DataFrame'>\n",
            "RangeIndex: 2227 entries, 0 to 2226\n",
            "Data columns (total 11 columns):\n",
            " #   Column            Non-Null Count  Dtype \n",
            "---  ------            --------------  ----- \n",
            " 0   Unnamed: 0        2227 non-null   int64 \n",
            " 1   review_title      2131 non-null   object\n",
            " 2   overall_review    1448 non-null   object\n",
            " 3   pros              2205 non-null   object\n",
            " 4   cons              2216 non-null   object\n",
            " 5   ownership_pariod  2159 non-null   object\n",
            " 6   date              2227 non-null   object\n",
            " 7   rating_stars      2227 non-null   int64 \n",
            " 8   year              2227 non-null   int64 \n",
            " 9   month             2227 non-null   int64 \n",
            " 10  day               2227 non-null   int64 \n",
            "dtypes: int64(5), object(6)\n",
            "memory usage: 191.5+ KB\n"
          ],
          "name": "stdout"
        }
      ]
    },
    {
      "cell_type": "code",
      "metadata": {
        "colab": {
          "base_uri": "https://localhost:8080/",
          "height": 297
        },
        "id": "VrDsdV1Xq3sx",
        "outputId": "9a1878d6-4863-4bcc-eaa1-e2d28ffc11e3"
      },
      "source": [
        "dfreview.describe()"
      ],
      "execution_count": 9,
      "outputs": [
        {
          "output_type": "execute_result",
          "data": {
            "text/html": [
              "<div>\n",
              "<style scoped>\n",
              "    .dataframe tbody tr th:only-of-type {\n",
              "        vertical-align: middle;\n",
              "    }\n",
              "\n",
              "    .dataframe tbody tr th {\n",
              "        vertical-align: top;\n",
              "    }\n",
              "\n",
              "    .dataframe thead th {\n",
              "        text-align: right;\n",
              "    }\n",
              "</style>\n",
              "<table border=\"1\" class=\"dataframe\">\n",
              "  <thead>\n",
              "    <tr style=\"text-align: right;\">\n",
              "      <th></th>\n",
              "      <th>Unnamed: 0</th>\n",
              "      <th>rating_stars</th>\n",
              "      <th>year</th>\n",
              "      <th>month</th>\n",
              "      <th>day</th>\n",
              "    </tr>\n",
              "  </thead>\n",
              "  <tbody>\n",
              "    <tr>\n",
              "      <th>count</th>\n",
              "      <td>2227.0000000</td>\n",
              "      <td>2227.0000000</td>\n",
              "      <td>2227.0000000</td>\n",
              "      <td>2227.0000000</td>\n",
              "      <td>2227.0000000</td>\n",
              "    </tr>\n",
              "    <tr>\n",
              "      <th>mean</th>\n",
              "      <td>1113.0000000</td>\n",
              "      <td>4.4939380</td>\n",
              "      <td>2015.9326448</td>\n",
              "      <td>6.3183655</td>\n",
              "      <td>15.9232151</td>\n",
              "    </tr>\n",
              "    <tr>\n",
              "      <th>std</th>\n",
              "      <td>643.0238461</td>\n",
              "      <td>1.1427077</td>\n",
              "      <td>1.0765608</td>\n",
              "      <td>3.7485714</td>\n",
              "      <td>8.8245825</td>\n",
              "    </tr>\n",
              "    <tr>\n",
              "      <th>min</th>\n",
              "      <td>0.0000000</td>\n",
              "      <td>1.0000000</td>\n",
              "      <td>2014.0000000</td>\n",
              "      <td>1.0000000</td>\n",
              "      <td>1.0000000</td>\n",
              "    </tr>\n",
              "    <tr>\n",
              "      <th>25%</th>\n",
              "      <td>556.5000000</td>\n",
              "      <td>5.0000000</td>\n",
              "      <td>2015.0000000</td>\n",
              "      <td>3.0000000</td>\n",
              "      <td>8.0000000</td>\n",
              "    </tr>\n",
              "    <tr>\n",
              "      <th>50%</th>\n",
              "      <td>1113.0000000</td>\n",
              "      <td>5.0000000</td>\n",
              "      <td>2016.0000000</td>\n",
              "      <td>6.0000000</td>\n",
              "      <td>16.0000000</td>\n",
              "    </tr>\n",
              "    <tr>\n",
              "      <th>75%</th>\n",
              "      <td>1669.5000000</td>\n",
              "      <td>5.0000000</td>\n",
              "      <td>2017.0000000</td>\n",
              "      <td>10.0000000</td>\n",
              "      <td>24.0000000</td>\n",
              "    </tr>\n",
              "    <tr>\n",
              "      <th>max</th>\n",
              "      <td>2226.0000000</td>\n",
              "      <td>5.0000000</td>\n",
              "      <td>2019.0000000</td>\n",
              "      <td>12.0000000</td>\n",
              "      <td>31.0000000</td>\n",
              "    </tr>\n",
              "  </tbody>\n",
              "</table>\n",
              "</div>"
            ],
            "text/plain": [
              "        Unnamed: 0  rating_stars         year        month          day\n",
              "count 2227.0000000  2227.0000000 2227.0000000 2227.0000000 2227.0000000\n",
              "mean  1113.0000000     4.4939380 2015.9326448    6.3183655   15.9232151\n",
              "std    643.0238461     1.1427077    1.0765608    3.7485714    8.8245825\n",
              "min      0.0000000     1.0000000 2014.0000000    1.0000000    1.0000000\n",
              "25%    556.5000000     5.0000000 2015.0000000    3.0000000    8.0000000\n",
              "50%   1113.0000000     5.0000000 2016.0000000    6.0000000   16.0000000\n",
              "75%   1669.5000000     5.0000000 2017.0000000   10.0000000   24.0000000\n",
              "max   2226.0000000     5.0000000 2019.0000000   12.0000000   31.0000000"
            ]
          },
          "metadata": {
            "tags": []
          },
          "execution_count": 9
        }
      ]
    },
    {
      "cell_type": "markdown",
      "metadata": {
        "id": "rED6DbDBKTjM"
      },
      "source": [
        "## 4.  Data Analysis and Preparation"
      ]
    },
    {
      "cell_type": "markdown",
      "metadata": {
        "id": "7VSqr0Seiy7g"
      },
      "source": [
        "### 4.1 Checking missing values\n",
        "#### Check for missing values (along with the percentage of null values)"
      ]
    },
    {
      "cell_type": "code",
      "metadata": {
        "id": "Il4yi7kdmnYQ",
        "colab": {
          "base_uri": "https://localhost:8080/"
        },
        "outputId": "b4e098dd-d022-40a5-ce96-2a5d0de11d6d"
      },
      "source": [
        "dfreview.isna().sum()"
      ],
      "execution_count": 13,
      "outputs": [
        {
          "output_type": "execute_result",
          "data": {
            "text/plain": [
              "Unnamed: 0            0\n",
              "review_title         96\n",
              "overall_review      779\n",
              "pros                 22\n",
              "cons                 11\n",
              "ownership_pariod     68\n",
              "date                  0\n",
              "rating_stars          0\n",
              "year                  0\n",
              "month                 0\n",
              "day                   0\n",
              "dtype: int64"
            ]
          },
          "metadata": {
            "tags": []
          },
          "execution_count": 13
        }
      ]
    },
    {
      "cell_type": "code",
      "metadata": {
        "colab": {
          "base_uri": "https://localhost:8080/"
        },
        "id": "UaQNBscqr8ZJ",
        "outputId": "fb9e1d9d-f84a-42ce-dfd6-a1ec5ccc4a54"
      },
      "source": [
        "(dfreview.isna().sum()/len(dfreview)) * 100 "
      ],
      "execution_count": 14,
      "outputs": [
        {
          "output_type": "execute_result",
          "data": {
            "text/plain": [
              "Unnamed: 0          0.0000000\n",
              "review_title        4.3107319\n",
              "overall_review     34.9797934\n",
              "pros                0.9878761\n",
              "cons                0.4939380\n",
              "ownership_pariod    3.0534351\n",
              "date                0.0000000\n",
              "rating_stars        0.0000000\n",
              "year                0.0000000\n",
              "month               0.0000000\n",
              "day                 0.0000000\n",
              "dtype: float64"
            ]
          },
          "metadata": {
            "tags": []
          },
          "execution_count": 14
        }
      ]
    },
    {
      "cell_type": "markdown",
      "metadata": {
        "id": "SB40EGirmVjo"
      },
      "source": [
        "### 4.2 Analyzing the target column (Rating_stars)"
      ]
    },
    {
      "cell_type": "markdown",
      "metadata": {
        "id": "MoRvWVk-is6Y"
      },
      "source": [
        "#### Check the value counts of 'rating_stars' and write your comments"
      ]
    },
    {
      "cell_type": "code",
      "metadata": {
        "id": "LOVFp6Diiy0n",
        "colab": {
          "base_uri": "https://localhost:8080/"
        },
        "outputId": "4bdac2c1-d305-448c-dd6a-924b560fa564"
      },
      "source": [
        "dfreview['rating_stars'].value_counts()"
      ],
      "execution_count": 15,
      "outputs": [
        {
          "output_type": "execute_result",
          "data": {
            "text/plain": [
              "5    1756\n",
              "4     181\n",
              "1     153\n",
              "3      77\n",
              "2      60\n",
              "Name: rating_stars, dtype: int64"
            ]
          },
          "metadata": {
            "tags": []
          },
          "execution_count": 15
        }
      ]
    },
    {
      "cell_type": "markdown",
      "metadata": {
        "id": "oG-u00iHshNs"
      },
      "source": [
        "Comments : There are 5 different rating categories from 1 to 5. Considering total count 2227, more than 75% rating is given is '5'. Thus this is imbalanced dataset from 'rating_starts' label"
      ]
    },
    {
      "cell_type": "code",
      "metadata": {
        "colab": {
          "base_uri": "https://localhost:8080/",
          "height": 279
        },
        "id": "TANZeaPUtHoL",
        "outputId": "b09aca21-f3c0-41ce-bb57-5efd30d3a7a2"
      },
      "source": [
        "dfreview['rating_stars'].value_counts().plot(kind='bar')"
      ],
      "execution_count": 16,
      "outputs": [
        {
          "output_type": "execute_result",
          "data": {
            "text/plain": [
              "<matplotlib.axes._subplots.AxesSubplot at 0x7f879371ebd0>"
            ]
          },
          "metadata": {
            "tags": []
          },
          "execution_count": 16
        },
        {
          "output_type": "display_data",
          "data": {
            "image/png": "[encoded data removed]",
            "text/plain": [
              "<Figure size 432x288 with 1 Axes>"
            ]
          },
          "metadata": {
            "tags": [],
            "needs_background": "light"
          }
        }
      ]
    },
    {
      "cell_type": "markdown",
      "metadata": {
        "id": "ZL_BQlb5mE4O"
      },
      "source": [
        "### 4.3 Let's analyze other features like year, month, and day etc.\n",
        "#### Check value counts of 'year' and write your observations., Comment on the range of years, frequency of ratings in each year."
      ]
    },
    {
      "cell_type": "code",
      "metadata": {
        "id": "YAtEigKEmM-Z",
        "colab": {
          "base_uri": "https://localhost:8080/"
        },
        "outputId": "82dfb89d-73b5-4439-96c1-2c5091e74b6d"
      },
      "source": [
        "dfreview['year'].value_counts()"
      ],
      "execution_count": 17,
      "outputs": [
        {
          "output_type": "execute_result",
          "data": {
            "text/plain": [
              "2015    1006\n",
              "2016     605\n",
              "2017     370\n",
              "2018     187\n",
              "2019      46\n",
              "2014      13\n",
              "Name: year, dtype: int64"
            ]
          },
          "metadata": {
            "tags": []
          },
          "execution_count": 17
        }
      ]
    },
    {
      "cell_type": "code",
      "metadata": {
        "colab": {
          "base_uri": "https://localhost:8080/"
        },
        "id": "dPGbJLkrtgGO",
        "outputId": "6cbe81c7-cc2c-49fd-d536-0256f99e647c"
      },
      "source": [
        "dfreview['month'].value_counts()"
      ],
      "execution_count": 18,
      "outputs": [
        {
          "output_type": "execute_result",
          "data": {
            "text/plain": [
              "12    278\n",
              "2     239\n",
              "3     234\n",
              "1     221\n",
              "4     205\n",
              "11    191\n",
              "5     158\n",
              "9     157\n",
              "7     144\n",
              "10    141\n",
              "6     140\n",
              "8     119\n",
              "Name: month, dtype: int64"
            ]
          },
          "metadata": {
            "tags": []
          },
          "execution_count": 18
        }
      ]
    },
    {
      "cell_type": "code",
      "metadata": {
        "colab": {
          "base_uri": "https://localhost:8080/"
        },
        "id": "F4wTZsG5tkhh",
        "outputId": "dab71c25-0b1d-47d4-8623-cfad952b4e49"
      },
      "source": [
        "dfreview['day'].value_counts()"
      ],
      "execution_count": 19,
      "outputs": [
        {
          "output_type": "execute_result",
          "data": {
            "text/plain": [
              "27    88\n",
              "4     88\n",
              "12    88\n",
              "3     87\n",
              "10    84\n",
              "20    84\n",
              "13    84\n",
              "8     82\n",
              "29    80\n",
              "21    77\n",
              "26    77\n",
              "30    76\n",
              "16    75\n",
              "7     75\n",
              "23    75\n",
              "15    71\n",
              "17    71\n",
              "28    70\n",
              "24    70\n",
              "19    70\n",
              "22    69\n",
              "18    69\n",
              "6     65\n",
              "1     65\n",
              "9     64\n",
              "2     58\n",
              "5     58\n",
              "25    58\n",
              "14    57\n",
              "11    53\n",
              "31    39\n",
              "Name: day, dtype: int64"
            ]
          },
          "metadata": {
            "tags": []
          },
          "execution_count": 19
        }
      ]
    },
    {
      "cell_type": "markdown",
      "metadata": {
        "id": "M-pWwPhRmsAz"
      },
      "source": [
        "#### Check mean rating for each year and write your findings"
      ]
    },
    {
      "cell_type": "code",
      "metadata": {
        "id": "sqWWhlLemwG8",
        "colab": {
          "base_uri": "https://localhost:8080/"
        },
        "outputId": "f47febff-f896-4182-d6f0-ff834e6b702d"
      },
      "source": [
        "dfreview.groupby('year')['rating_stars'].mean().sort_values(ascending=False)"
      ],
      "execution_count": 20,
      "outputs": [
        {
          "output_type": "execute_result",
          "data": {
            "text/plain": [
              "year\n",
              "2014   4.9230769\n",
              "2016   4.5900826\n",
              "2017   4.5108108\n",
              "2015   4.4582505\n",
              "2019   4.3478261\n",
              "2018   4.3475936\n",
              "Name: rating_stars, dtype: float64"
            ]
          },
          "metadata": {
            "tags": []
          },
          "execution_count": 20
        }
      ]
    },
    {
      "cell_type": "markdown",
      "metadata": {
        "id": "enoYYTDunPsT"
      },
      "source": [
        "#### Check value counts of 'month' and write your observations. Comment on the frequency of ratings and discuss if the rating count and mean rating is higher/low on certain months."
      ]
    },
    {
      "cell_type": "code",
      "metadata": {
        "colab": {
          "base_uri": "https://localhost:8080/"
        },
        "id": "rMt0mhsJvPLD",
        "outputId": "1c35b246-f099-4442-d446-4a773ccce8be"
      },
      "source": [
        "dfreview.groupby('month')['rating_stars'].mean().sort_values(ascending=False)"
      ],
      "execution_count": 21,
      "outputs": [
        {
          "output_type": "execute_result",
          "data": {
            "text/plain": [
              "month\n",
              "7    4.7638889\n",
              "1    4.6425339\n",
              "3    4.6111111\n",
              "6    4.5571429\n",
              "9    4.5414013\n",
              "8    4.4789916\n",
              "11   4.4607330\n",
              "5    4.4493671\n",
              "4    4.4195122\n",
              "2    4.4058577\n",
              "12   4.3597122\n",
              "10   4.3049645\n",
              "Name: rating_stars, dtype: float64"
            ]
          },
          "metadata": {
            "tags": []
          },
          "execution_count": 21
        }
      ]
    },
    {
      "cell_type": "markdown",
      "metadata": {
        "id": "Vi6jDU3J1Q-a"
      },
      "source": [
        "Comments: There is no specific pattern of mean rating calcultaed at month level."
      ]
    },
    {
      "cell_type": "code",
      "metadata": {
        "id": "T0yhG8s1pTZD",
        "colab": {
          "base_uri": "https://localhost:8080/"
        },
        "outputId": "c8ad742b-1343-4b7b-fa63-52499992ce0e"
      },
      "source": [
        "dfreview['month'].value_counts().sort_values(ascending=False)"
      ],
      "execution_count": 22,
      "outputs": [
        {
          "output_type": "execute_result",
          "data": {
            "text/plain": [
              "12    278\n",
              "2     239\n",
              "3     234\n",
              "1     221\n",
              "4     205\n",
              "11    191\n",
              "5     158\n",
              "9     157\n",
              "7     144\n",
              "10    141\n",
              "6     140\n",
              "8     119\n",
              "Name: month, dtype: int64"
            ]
          },
          "metadata": {
            "tags": []
          },
          "execution_count": 22
        }
      ]
    },
    {
      "cell_type": "markdown",
      "metadata": {
        "id": "hUOJM2hAvfXV"
      },
      "source": [
        "Comments: The number of ratings per mmonth are higher towards end of year (12th month) and start of year (1st, 2nd and 3rd month)."
      ]
    },
    {
      "cell_type": "markdown",
      "metadata": {
        "id": "lWofLqeJpTtI"
      },
      "source": [
        "### 4.4 Combine text features\n",
        "#### Drop all the numerical features ['Unnamed: 0','date', 'year', 'month', 'day', 'ownership_pariod'] and ['rating_stars']"
      ]
    },
    {
      "cell_type": "code",
      "metadata": {
        "id": "8VAMgNJkqn0h",
        "colab": {
          "base_uri": "https://localhost:8080/"
        },
        "outputId": "54cd7f0d-aa5a-47e1-db6d-30e52814312e"
      },
      "source": [
        "dfreview.columns"
      ],
      "execution_count": 23,
      "outputs": [
        {
          "output_type": "execute_result",
          "data": {
            "text/plain": [
              "Index(['Unnamed: 0', 'review_title', 'overall_review', 'pros', 'cons',\n",
              "       'ownership_pariod', 'date', 'rating_stars', 'year', 'month', 'day'],\n",
              "      dtype='object')"
            ]
          },
          "metadata": {
            "tags": []
          },
          "execution_count": 23
        }
      ]
    },
    {
      "cell_type": "code",
      "metadata": {
        "id": "ijrwTk__vvCt"
      },
      "source": [
        "num_cols = ['Unnamed: 0','ownership_pariod', 'date', 'year', 'month', 'day']\n",
        "labels =['rating_stars']"
      ],
      "execution_count": 24,
      "outputs": []
    },
    {
      "cell_type": "code",
      "metadata": {
        "id": "kybmuI29wAnL"
      },
      "source": [
        "dfrev = dfreview.drop(num_cols, axis=1)"
      ],
      "execution_count": 25,
      "outputs": []
    },
    {
      "cell_type": "code",
      "metadata": {
        "id": "9W_vZ9juwP3h"
      },
      "source": [
        "dfrev.drop(labels, axis=1, inplace=True)"
      ],
      "execution_count": 26,
      "outputs": []
    },
    {
      "cell_type": "code",
      "metadata": {
        "colab": {
          "base_uri": "https://localhost:8080/",
          "height": 111
        },
        "id": "5EE-WLBCwjcp",
        "outputId": "16694087-29cf-4ba7-b61e-92f8202d11c6"
      },
      "source": [
        "dfrev.head(2)"
      ],
      "execution_count": 27,
      "outputs": [
        {
          "output_type": "execute_result",
          "data": {
            "text/html": [
              "<div>\n",
              "<style scoped>\n",
              "    .dataframe tbody tr th:only-of-type {\n",
              "        vertical-align: middle;\n",
              "    }\n",
              "\n",
              "    .dataframe tbody tr th {\n",
              "        vertical-align: top;\n",
              "    }\n",
              "\n",
              "    .dataframe thead th {\n",
              "        text-align: right;\n",
              "    }\n",
              "</style>\n",
              "<table border=\"1\" class=\"dataframe\">\n",
              "  <thead>\n",
              "    <tr style=\"text-align: right;\">\n",
              "      <th></th>\n",
              "      <th>review_title</th>\n",
              "      <th>overall_review</th>\n",
              "      <th>pros</th>\n",
              "      <th>cons</th>\n",
              "    </tr>\n",
              "  </thead>\n",
              "  <tbody>\n",
              "    <tr>\n",
              "      <th>0</th>\n",
              "      <td>solid</td>\n",
              "      <td>buy it you will not regret this purchase</td>\n",
              "      <td>reliable fast silent cool running drive highly...</td>\n",
              "      <td>NaN</td>\n",
              "    </tr>\n",
              "    <tr>\n",
              "      <th>1</th>\n",
              "      <td>nice drive for price even cheaper by todays costs</td>\n",
              "      <td>good drive price</td>\n",
              "      <td>been running almost constantly since when i pu...</td>\n",
              "      <td>NaN</td>\n",
              "    </tr>\n",
              "  </tbody>\n",
              "</table>\n",
              "</div>"
            ],
            "text/plain": [
              "                                        review_title  \\\n",
              "0                                              solid   \n",
              "1  nice drive for price even cheaper by todays costs   \n",
              "\n",
              "                             overall_review  \\\n",
              "0  buy it you will not regret this purchase   \n",
              "1                          good drive price   \n",
              "\n",
              "                                                pros cons  \n",
              "0  reliable fast silent cool running drive highly...  NaN  \n",
              "1  been running almost constantly since when i pu...  NaN  "
            ]
          },
          "metadata": {
            "tags": []
          },
          "execution_count": 27
        }
      ]
    },
    {
      "cell_type": "markdown",
      "metadata": {
        "id": "HjRp0SgEqn9Z"
      },
      "source": [
        "#### Replace null values (NaN) with blanks"
      ]
    },
    {
      "cell_type": "code",
      "metadata": {
        "id": "CZr_sR_Tqs1x",
        "colab": {
          "base_uri": "https://localhost:8080/"
        },
        "outputId": "079396d2-a9e9-485b-9334-01bdc2df894c"
      },
      "source": [
        "dfrev.isna().sum()"
      ],
      "execution_count": 28,
      "outputs": [
        {
          "output_type": "execute_result",
          "data": {
            "text/plain": [
              "review_title       96\n",
              "overall_review    779\n",
              "pros               22\n",
              "cons               11\n",
              "dtype: int64"
            ]
          },
          "metadata": {
            "tags": []
          },
          "execution_count": 28
        }
      ]
    },
    {
      "cell_type": "code",
      "metadata": {
        "id": "OaL2dCfQw9TX"
      },
      "source": [
        "dfrev.fillna(\" \", inplace=True)"
      ],
      "execution_count": 29,
      "outputs": []
    },
    {
      "cell_type": "code",
      "metadata": {
        "colab": {
          "base_uri": "https://localhost:8080/",
          "height": 111
        },
        "id": "UWMTzPxJx6Us",
        "outputId": "9d0857cd-0f42-4993-8def-d644dfcd50e2"
      },
      "source": [
        "dfrev.head(2)"
      ],
      "execution_count": 30,
      "outputs": [
        {
          "output_type": "execute_result",
          "data": {
            "text/html": [
              "<div>\n",
              "<style scoped>\n",
              "    .dataframe tbody tr th:only-of-type {\n",
              "        vertical-align: middle;\n",
              "    }\n",
              "\n",
              "    .dataframe tbody tr th {\n",
              "        vertical-align: top;\n",
              "    }\n",
              "\n",
              "    .dataframe thead th {\n",
              "        text-align: right;\n",
              "    }\n",
              "</style>\n",
              "<table border=\"1\" class=\"dataframe\">\n",
              "  <thead>\n",
              "    <tr style=\"text-align: right;\">\n",
              "      <th></th>\n",
              "      <th>review_title</th>\n",
              "      <th>overall_review</th>\n",
              "      <th>pros</th>\n",
              "      <th>cons</th>\n",
              "    </tr>\n",
              "  </thead>\n",
              "  <tbody>\n",
              "    <tr>\n",
              "      <th>0</th>\n",
              "      <td>solid</td>\n",
              "      <td>buy it you will not regret this purchase</td>\n",
              "      <td>reliable fast silent cool running drive highly...</td>\n",
              "      <td></td>\n",
              "    </tr>\n",
              "    <tr>\n",
              "      <th>1</th>\n",
              "      <td>nice drive for price even cheaper by todays costs</td>\n",
              "      <td>good drive price</td>\n",
              "      <td>been running almost constantly since when i pu...</td>\n",
              "      <td></td>\n",
              "    </tr>\n",
              "  </tbody>\n",
              "</table>\n",
              "</div>"
            ],
            "text/plain": [
              "                                        review_title  \\\n",
              "0                                              solid   \n",
              "1  nice drive for price even cheaper by todays costs   \n",
              "\n",
              "                             overall_review  \\\n",
              "0  buy it you will not regret this purchase   \n",
              "1                          good drive price   \n",
              "\n",
              "                                                pros cons  \n",
              "0  reliable fast silent cool running drive highly...       \n",
              "1  been running almost constantly since when i pu...       "
            ]
          },
          "metadata": {
            "tags": []
          },
          "execution_count": 30
        }
      ]
    },
    {
      "cell_type": "markdown",
      "metadata": {
        "id": "ykjSdW1tqs-z"
      },
      "source": [
        "#### Join all text items in a row that have a space in between and Add a new column (with the newly created combined reviews) to the dataframe."
      ]
    },
    {
      "cell_type": "code",
      "metadata": {
        "id": "9fJpSb-ZuSTr"
      },
      "source": [
        "dfrev['AllData'] = dfrev.apply(lambda x : \" \".join(x), axis=1)"
      ],
      "execution_count": 31,
      "outputs": []
    },
    {
      "cell_type": "code",
      "metadata": {
        "id": "0VHzRd1gq1lY",
        "colab": {
          "base_uri": "https://localhost:8080/",
          "height": 145
        },
        "outputId": "ce9bbdc2-a5a9-4502-8185-90810d5718f0"
      },
      "source": [
        "dfrev.head(2)"
      ],
      "execution_count": 32,
      "outputs": [
        {
          "output_type": "execute_result",
          "data": {
            "text/html": [
              "<div>\n",
              "<style scoped>\n",
              "    .dataframe tbody tr th:only-of-type {\n",
              "        vertical-align: middle;\n",
              "    }\n",
              "\n",
              "    .dataframe tbody tr th {\n",
              "        vertical-align: top;\n",
              "    }\n",
              "\n",
              "    .dataframe thead th {\n",
              "        text-align: right;\n",
              "    }\n",
              "</style>\n",
              "<table border=\"1\" class=\"dataframe\">\n",
              "  <thead>\n",
              "    <tr style=\"text-align: right;\">\n",
              "      <th></th>\n",
              "      <th>review_title</th>\n",
              "      <th>overall_review</th>\n",
              "      <th>pros</th>\n",
              "      <th>cons</th>\n",
              "      <th>AllData</th>\n",
              "    </tr>\n",
              "  </thead>\n",
              "  <tbody>\n",
              "    <tr>\n",
              "      <th>0</th>\n",
              "      <td>solid</td>\n",
              "      <td>buy it you will not regret this purchase</td>\n",
              "      <td>reliable fast silent cool running drive highly...</td>\n",
              "      <td></td>\n",
              "      <td>solid buy it you will not regret this purchase...</td>\n",
              "    </tr>\n",
              "    <tr>\n",
              "      <th>1</th>\n",
              "      <td>nice drive for price even cheaper by todays costs</td>\n",
              "      <td>good drive price</td>\n",
              "      <td>been running almost constantly since when i pu...</td>\n",
              "      <td></td>\n",
              "      <td>nice drive for price even cheaper by todays co...</td>\n",
              "    </tr>\n",
              "  </tbody>\n",
              "</table>\n",
              "</div>"
            ],
            "text/plain": [
              "                                        review_title  \\\n",
              "0                                              solid   \n",
              "1  nice drive for price even cheaper by todays costs   \n",
              "\n",
              "                             overall_review  \\\n",
              "0  buy it you will not regret this purchase   \n",
              "1                          good drive price   \n",
              "\n",
              "                                                pros cons  \\\n",
              "0  reliable fast silent cool running drive highly...        \n",
              "1  been running almost constantly since when i pu...        \n",
              "\n",
              "                                             AllData  \n",
              "0  solid buy it you will not regret this purchase...  \n",
              "1  nice drive for price even cheaper by todays co...  "
            ]
          },
          "metadata": {
            "tags": []
          },
          "execution_count": 32
        }
      ]
    },
    {
      "cell_type": "code",
      "metadata": {
        "id": "cEKZ5CK6y9Cb"
      },
      "source": [
        "dfrev['rating_stars'] = dfreview['rating_stars']"
      ],
      "execution_count": 33,
      "outputs": []
    },
    {
      "cell_type": "code",
      "metadata": {
        "colab": {
          "base_uri": "https://localhost:8080/",
          "height": 145
        },
        "id": "fWSTk_9SzP6K",
        "outputId": "79c0de25-b1e9-45fd-9ce4-28102143ced1"
      },
      "source": [
        "dfrev.sample(2)"
      ],
      "execution_count": 34,
      "outputs": [
        {
          "output_type": "execute_result",
          "data": {
            "text/html": [
              "<div>\n",
              "<style scoped>\n",
              "    .dataframe tbody tr th:only-of-type {\n",
              "        vertical-align: middle;\n",
              "    }\n",
              "\n",
              "    .dataframe tbody tr th {\n",
              "        vertical-align: top;\n",
              "    }\n",
              "\n",
              "    .dataframe thead th {\n",
              "        text-align: right;\n",
              "    }\n",
              "</style>\n",
              "<table border=\"1\" class=\"dataframe\">\n",
              "  <thead>\n",
              "    <tr style=\"text-align: right;\">\n",
              "      <th></th>\n",
              "      <th>review_title</th>\n",
              "      <th>overall_review</th>\n",
              "      <th>pros</th>\n",
              "      <th>cons</th>\n",
              "      <th>AllData</th>\n",
              "      <th>rating_stars</th>\n",
              "    </tr>\n",
              "  </thead>\n",
              "  <tbody>\n",
              "    <tr>\n",
              "      <th>1746</th>\n",
              "      <td>solid</td>\n",
              "      <td></td>\n",
              "      <td>we have quite a few of these in our setup we u...</td>\n",
              "      <td>none</td>\n",
              "      <td>solid   we have quite a few of these in our se...</td>\n",
              "      <td>5</td>\n",
              "    </tr>\n",
              "    <tr>\n",
              "      <th>1318</th>\n",
              "      <td></td>\n",
              "      <td></td>\n",
              "      <td>it s samsung and you now you want it going ahe...</td>\n",
              "      <td>none what are you waiting for</td>\n",
              "      <td>it s samsung and you now you want it going...</td>\n",
              "      <td>5</td>\n",
              "    </tr>\n",
              "  </tbody>\n",
              "</table>\n",
              "</div>"
            ],
            "text/plain": [
              "     review_title overall_review  \\\n",
              "1746        solid                  \n",
              "1318                               \n",
              "\n",
              "                                                   pros  \\\n",
              "1746  we have quite a few of these in our setup we u...   \n",
              "1318  it s samsung and you now you want it going ahe...   \n",
              "\n",
              "                               cons  \\\n",
              "1746                           none   \n",
              "1318  none what are you waiting for   \n",
              "\n",
              "                                                AllData  rating_stars  \n",
              "1746  solid   we have quite a few of these in our se...             5  \n",
              "1318      it s samsung and you now you want it going...             5  "
            ]
          },
          "metadata": {
            "tags": []
          },
          "execution_count": 34
        }
      ]
    },
    {
      "cell_type": "markdown",
      "metadata": {
        "id": "QLnNIq2iJQBn"
      },
      "source": [
        "#### Check if there are any null values and drop NaN values if any"
      ]
    },
    {
      "cell_type": "code",
      "metadata": {
        "id": "QOf3hTpcszKC"
      },
      "source": [
        "dfrev1 = dfrev[['AllData','rating_stars']]"
      ],
      "execution_count": 35,
      "outputs": []
    },
    {
      "cell_type": "code",
      "metadata": {
        "colab": {
          "base_uri": "https://localhost:8080/"
        },
        "id": "T02x7hdx0Hu2",
        "outputId": "b872a8b5-7331-4ca8-98b5-db1b57f9c2b5"
      },
      "source": [
        "dfrev1.isna().sum()"
      ],
      "execution_count": 36,
      "outputs": [
        {
          "output_type": "execute_result",
          "data": {
            "text/plain": [
              "AllData         0\n",
              "rating_stars    0\n",
              "dtype: int64"
            ]
          },
          "metadata": {
            "tags": []
          },
          "execution_count": 36
        }
      ]
    },
    {
      "cell_type": "markdown",
      "metadata": {
        "id": "qS5NmyvzHMws"
      },
      "source": [
        "#### Calculate the length of each review and add it to the dataframe"
      ]
    },
    {
      "cell_type": "code",
      "metadata": {
        "id": "TdMWM0jBHNzO"
      },
      "source": [
        "dfrev1['len'] = dfrev1['AllData'].apply(lambda x : len(x.split(\" \")))"
      ],
      "execution_count": 37,
      "outputs": []
    },
    {
      "cell_type": "code",
      "metadata": {
        "colab": {
          "base_uri": "https://localhost:8080/",
          "height": 111
        },
        "id": "sWUzTmyS022e",
        "outputId": "889a027d-ce2c-4ce2-9647-d27881c91477"
      },
      "source": [
        "dfrev1.head(2)"
      ],
      "execution_count": 38,
      "outputs": [
        {
          "output_type": "execute_result",
          "data": {
            "text/html": [
              "<div>\n",
              "<style scoped>\n",
              "    .dataframe tbody tr th:only-of-type {\n",
              "        vertical-align: middle;\n",
              "    }\n",
              "\n",
              "    .dataframe tbody tr th {\n",
              "        vertical-align: top;\n",
              "    }\n",
              "\n",
              "    .dataframe thead th {\n",
              "        text-align: right;\n",
              "    }\n",
              "</style>\n",
              "<table border=\"1\" class=\"dataframe\">\n",
              "  <thead>\n",
              "    <tr style=\"text-align: right;\">\n",
              "      <th></th>\n",
              "      <th>AllData</th>\n",
              "      <th>rating_stars</th>\n",
              "      <th>len</th>\n",
              "    </tr>\n",
              "  </thead>\n",
              "  <tbody>\n",
              "    <tr>\n",
              "      <th>0</th>\n",
              "      <td>solid buy it you will not regret this purchase...</td>\n",
              "      <td>5</td>\n",
              "      <td>19</td>\n",
              "    </tr>\n",
              "    <tr>\n",
              "      <th>1</th>\n",
              "      <td>nice drive for price even cheaper by todays co...</td>\n",
              "      <td>5</td>\n",
              "      <td>42</td>\n",
              "    </tr>\n",
              "  </tbody>\n",
              "</table>\n",
              "</div>"
            ],
            "text/plain": [
              "                                             AllData  rating_stars  len\n",
              "0  solid buy it you will not regret this purchase...             5   19\n",
              "1  nice drive for price even cheaper by todays co...             5   42"
            ]
          },
          "metadata": {
            "tags": []
          },
          "execution_count": 38
        }
      ]
    },
    {
      "cell_type": "markdown",
      "metadata": {
        "id": "8FyfpsW4uNN-"
      },
      "source": [
        "#### Check summary stats of the length column"
      ]
    },
    {
      "cell_type": "code",
      "metadata": {
        "id": "cMEp309bHPSm",
        "colab": {
          "base_uri": "https://localhost:8080/"
        },
        "outputId": "0be17f91-59bb-4acf-b544-bad4fc651707"
      },
      "source": [
        "dfrev1['len'].describe()"
      ],
      "execution_count": 39,
      "outputs": [
        {
          "output_type": "execute_result",
          "data": {
            "text/plain": [
              "count   2227.0000000\n",
              "mean      85.2752582\n",
              "std       87.3063671\n",
              "min        6.0000000\n",
              "25%       31.0000000\n",
              "50%       60.0000000\n",
              "75%      109.0000000\n",
              "max     1615.0000000\n",
              "Name: len, dtype: float64"
            ]
          },
          "metadata": {
            "tags": []
          },
          "execution_count": 39
        }
      ]
    },
    {
      "cell_type": "markdown",
      "metadata": {
        "id": "JtFWZfZjJSJY"
      },
      "source": [
        "### 4.5 Analyzing and preparing the text data\n"
      ]
    },
    {
      "cell_type": "markdown",
      "metadata": {
        "id": "FL0mW8oPJVyq"
      },
      "source": [
        "#### Set the max length of each review to 25 since it results in faster training (however, you are free to change this)\n",
        "#### Set max_features to 10000 and embedding size to 50"
      ]
    },
    {
      "cell_type": "code",
      "metadata": {
        "id": "T7Ma4u3kSOD3"
      },
      "source": [
        "max_features = 10000\n",
        "maxlen = 25\n",
        "embedding_size = 50"
      ],
      "execution_count": 43,
      "outputs": []
    },
    {
      "cell_type": "markdown",
      "metadata": {
        "id": "qph71mXtJyWM"
      },
      "source": [
        "#### Tokenize the cobined text data. You can use the Tokenizer from tensorflow.keras.preprocessing.text. Check the number of samples post tokenization."
      ]
    },
    {
      "cell_type": "code",
      "metadata": {
        "id": "hvn5Bssu6MoQ"
      },
      "source": [
        "from tensorflow.keras.preprocessing.text import Tokenizer"
      ],
      "execution_count": 42,
      "outputs": []
    },
    {
      "cell_type": "code",
      "metadata": {
        "id": "A94jCOJM5FCT"
      },
      "source": [
        "token = Tokenizer(num_words=max_features)"
      ],
      "execution_count": 44,
      "outputs": []
    },
    {
      "cell_type": "code",
      "metadata": {
        "id": "YuiwS4ac5On0"
      },
      "source": [
        "token.fit_on_texts(dfrev1['AllData'])"
      ],
      "execution_count": 45,
      "outputs": []
    },
    {
      "cell_type": "code",
      "metadata": {
        "id": "QndqjuuI5YHE"
      },
      "source": [
        "x = token.texts_to_sequences(dfrev1['AllData'])"
      ],
      "execution_count": 46,
      "outputs": []
    },
    {
      "cell_type": "code",
      "metadata": {
        "colab": {
          "base_uri": "https://localhost:8080/"
        },
        "id": "4bGluwnO5o6E",
        "outputId": "c31847ed-58f4-4919-8c12-9c675859e95e"
      },
      "source": [
        "x[0]"
      ],
      "execution_count": 47,
      "outputs": [
        {
          "output_type": "execute_result",
          "data": {
            "text/plain": [
              "[232, 93, 6, 19, 54, 22, 829, 10, 248, 162, 16, 830, 550, 145, 7, 264, 126]"
            ]
          },
          "metadata": {
            "tags": []
          },
          "execution_count": 47
        }
      ]
    },
    {
      "cell_type": "markdown",
      "metadata": {
        "id": "HXy2gZrkJ0f_"
      },
      "source": [
        "#### Pad the above tokenized reviews data save it as independent features. Use max_len for the same."
      ]
    },
    {
      "cell_type": "code",
      "metadata": {
        "id": "mV-KtcR06OAr"
      },
      "source": [
        "from tensorflow.keras.preprocessing.sequence import pad_sequences"
      ],
      "execution_count": 48,
      "outputs": []
    },
    {
      "cell_type": "code",
      "metadata": {
        "id": "4iVgE5DN7VtZ"
      },
      "source": [
        "x = pad_sequences(x,maxlen=maxlen)\n",
        "y = np.asarray(dfrev1['rating_stars'])"
      ],
      "execution_count": 49,
      "outputs": []
    },
    {
      "cell_type": "markdown",
      "metadata": {
        "id": "XVT7dRRUHsgR"
      },
      "source": [
        "#### Check the shape of X (padded tokenized review data) and y (rating_stars) data."
      ]
    },
    {
      "cell_type": "code",
      "metadata": {
        "id": "SXc3DOi9Hz6O",
        "colab": {
          "base_uri": "https://localhost:8080/"
        },
        "outputId": "26ff63ae-7e02-4f2d-af6f-37622a709125"
      },
      "source": [
        "x.shape"
      ],
      "execution_count": 53,
      "outputs": [
        {
          "output_type": "execute_result",
          "data": {
            "text/plain": [
              "(2227, 25)"
            ]
          },
          "metadata": {
            "tags": []
          },
          "execution_count": 53
        }
      ]
    },
    {
      "cell_type": "code",
      "metadata": {
        "colab": {
          "base_uri": "https://localhost:8080/"
        },
        "id": "BALb7WnX9VOh",
        "outputId": "49bab8e4-5c6d-4316-9fe2-8f63228c3a1e"
      },
      "source": [
        "y.shape"
      ],
      "execution_count": 55,
      "outputs": [
        {
          "output_type": "execute_result",
          "data": {
            "text/plain": [
              "(2227,)"
            ]
          },
          "metadata": {
            "tags": []
          },
          "execution_count": 55
        }
      ]
    },
    {
      "cell_type": "markdown",
      "metadata": {
        "id": "A5GlWwKnJ7ie"
      },
      "source": [
        "#### Check the total number of words in the dictionary (of tekenizer)"
      ]
    },
    {
      "cell_type": "code",
      "metadata": {
        "id": "oR0W8MdX6V3A"
      },
      "source": [
        "NoofWords = len(token.word_index) +1"
      ],
      "execution_count": 56,
      "outputs": []
    },
    {
      "cell_type": "code",
      "metadata": {
        "colab": {
          "base_uri": "https://localhost:8080/"
        },
        "id": "ILM5SYUV-sK_",
        "outputId": "3ab22c83-3226-4275-e6b1-18d52582b494"
      },
      "source": [
        "print(NoofWords)"
      ],
      "execution_count": null,
      "outputs": [
        {
          "output_type": "stream",
          "text": [
            "8839\n"
          ],
          "name": "stdout"
        }
      ]
    },
    {
      "cell_type": "markdown",
      "metadata": {
        "id": "RKa3eYLDJ_yO"
      },
      "source": [
        "### 4.6 Compute the glove embeddings. Use the provided txt file for the same."
      ]
    },
    {
      "cell_type": "markdown",
      "metadata": {
        "id": "WNwPD9EmIbMt"
      },
      "source": [
        "#### Read the glove embeddings from the file provided titled ‘glove.6B.50d.txt’. And save it to a dictotionary having word and corresponding embedding vector."
      ]
    },
    {
      "cell_type": "code",
      "metadata": {
        "id": "bNd9ZFjuIp3g"
      },
      "source": [
        "embedfl = '/content/drive/MyDrive/LablFiles/SequenceNLP_Internal/glove.6B.50d.txt'"
      ],
      "execution_count": 57,
      "outputs": []
    },
    {
      "cell_type": "code",
      "metadata": {
        "id": "8JOun-Fb_Ma8"
      },
      "source": [
        "embedding = {}\n",
        "for o in open(embedfl) :\n",
        "  word = o.split(\" \")[0]\n",
        "  embd = o.split(\" \")[1:]\n",
        "  embd = np.asarray(embd,dtype='float32')\n",
        "  embedding[word] =embd"
      ],
      "execution_count": 58,
      "outputs": []
    },
    {
      "cell_type": "code",
      "metadata": {
        "colab": {
          "base_uri": "https://localhost:8080/"
        },
        "id": "Sg0fO3ChAI-X",
        "outputId": "61214e1f-dcc3-4232-d011-4fa44aee79ec"
      },
      "source": [
        "len(embedding.values())"
      ],
      "execution_count": 59,
      "outputs": [
        {
          "output_type": "execute_result",
          "data": {
            "text/plain": [
              "400000"
            ]
          },
          "metadata": {
            "tags": []
          },
          "execution_count": 59
        }
      ]
    },
    {
      "cell_type": "markdown",
      "metadata": {
        "id": "EuolWkfmIqCJ"
      },
      "source": [
        "#### Create a weight matrix for words in the training docs"
      ]
    },
    {
      "cell_type": "code",
      "metadata": {
        "id": "BGHZ0nIaI0Ar"
      },
      "source": [
        "embedding_matrix = np.zeros((NoofWords,50))"
      ],
      "execution_count": 60,
      "outputs": []
    },
    {
      "cell_type": "code",
      "metadata": {
        "id": "CCk-mqX6CHK_"
      },
      "source": [
        "for word, i in token.word_index.items() :\n",
        "  embedding_vector = embedding.get(word)\n",
        "  if embedding_vector is not None :\n",
        "    embedding_matrix[i]  =   embedding_vector"
      ],
      "execution_count": 61,
      "outputs": []
    },
    {
      "cell_type": "markdown",
      "metadata": {
        "id": "-DdpiQZ9_Fiq"
      },
      "source": [
        "#### Check length of the embedding"
      ]
    },
    {
      "cell_type": "code",
      "metadata": {
        "id": "8bcs-LtYILlO",
        "colab": {
          "base_uri": "https://localhost:8080/"
        },
        "outputId": "1cddb068-c640-480d-e879-e48bd1b238b8"
      },
      "source": [
        "embedding_matrix.shape"
      ],
      "execution_count": 62,
      "outputs": [
        {
          "output_type": "execute_result",
          "data": {
            "text/plain": [
              "(8839, 50)"
            ]
          },
          "metadata": {
            "tags": []
          },
          "execution_count": 62
        }
      ]
    },
    {
      "cell_type": "code",
      "metadata": {
        "colab": {
          "base_uri": "https://localhost:8080/"
        },
        "id": "PIZnrrKNDZRO",
        "outputId": "e0d3580d-1b55-4fae-9e6b-ea3b314b0235"
      },
      "source": [
        "embedding_matrix[10]"
      ],
      "execution_count": 63,
      "outputs": [
        {
          "output_type": "execute_result",
          "data": {
            "text/plain": [
              "array([ 5.30740023e-01,  4.01169986e-01, -4.07849997e-01,  1.54440001e-01,\n",
              "        4.77820009e-01,  2.07540005e-01, -2.69510001e-01, -3.40229988e-01,\n",
              "       -1.08790003e-01,  1.05630003e-01, -1.02890000e-01,  1.08489998e-01,\n",
              "       -4.96809989e-01, -2.51280010e-01,  8.40250015e-01,  3.89490008e-01,\n",
              "        3.22840005e-01, -2.27970004e-01, -4.43419993e-01, -3.16489995e-01,\n",
              "       -1.24059997e-01, -2.81699985e-01,  1.94670007e-01,  5.55129983e-02,\n",
              "        5.67049980e-01, -1.74189997e+00, -9.11450028e-01,  2.70359993e-01,\n",
              "        4.19270009e-01,  2.02789996e-02,  4.04050016e+00, -2.49430001e-01,\n",
              "       -2.04160005e-01, -6.27619982e-01, -5.47830015e-02, -2.68830001e-01,\n",
              "        1.84440002e-01,  1.82040006e-01, -2.35359997e-01, -1.61550000e-01,\n",
              "       -2.76549995e-01,  3.55059989e-02, -3.82110000e-01, -7.51340005e-04,\n",
              "       -2.48219997e-01,  2.81639993e-01,  1.28189996e-01,  2.87620008e-01,\n",
              "        1.44400001e-01,  2.36110002e-01])"
            ]
          },
          "metadata": {
            "tags": []
          },
          "execution_count": 63
        }
      ]
    },
    {
      "cell_type": "markdown",
      "metadata": {
        "id": "xVPf3X5MKGpm"
      },
      "source": [
        "### 4.7 Target Feature:- One hot encode the target variable (rating_stars)"
      ]
    },
    {
      "cell_type": "code",
      "metadata": {
        "id": "7PVDBmkjJC4n"
      },
      "source": [
        "from sklearn.preprocessing import OneHotEncoder\n",
        "enc = OneHotEncoder()"
      ],
      "execution_count": 65,
      "outputs": []
    },
    {
      "cell_type": "code",
      "metadata": {
        "id": "Lhd3ldORIjwT"
      },
      "source": [
        "y_enc = enc.fit_transform(y.reshape(-1,1))"
      ],
      "execution_count": 66,
      "outputs": []
    },
    {
      "cell_type": "code",
      "metadata": {
        "id": "NCXmuCODIyNS"
      },
      "source": [
        "y_enc = y_enc.todense()"
      ],
      "execution_count": 67,
      "outputs": []
    },
    {
      "cell_type": "markdown",
      "metadata": {
        "id": "5dqPXETLKN0h"
      },
      "source": [
        "### 4.8 Split the data into Train & Test sets"
      ]
    },
    {
      "cell_type": "code",
      "metadata": {
        "id": "FFJ1oEUmJEEW"
      },
      "source": [
        "from sklearn.model_selection import train_test_split"
      ],
      "execution_count": 68,
      "outputs": []
    },
    {
      "cell_type": "code",
      "metadata": {
        "id": "_2ccuoDiJSDE"
      },
      "source": [
        "x_train, x_test, y_train, y_test = train_test_split(x,y_enc,test_size=0.3,random_state=35,stratify=y_enc)"
      ],
      "execution_count": 69,
      "outputs": []
    },
    {
      "cell_type": "code",
      "metadata": {
        "colab": {
          "base_uri": "https://localhost:8080/"
        },
        "id": "PpPdjnsmJ15Y",
        "outputId": "bcd57fdb-6206-4d85-d687-fe0915657ae7"
      },
      "source": [
        "x_train.shape"
      ],
      "execution_count": 70,
      "outputs": [
        {
          "output_type": "execute_result",
          "data": {
            "text/plain": [
              "(1558, 25)"
            ]
          },
          "metadata": {
            "tags": []
          },
          "execution_count": 70
        }
      ]
    },
    {
      "cell_type": "code",
      "metadata": {
        "colab": {
          "base_uri": "https://localhost:8080/"
        },
        "id": "Dk9U6v_qJ6Qz",
        "outputId": "f7958b4a-1813-4690-da51-5ef50405398e"
      },
      "source": [
        "y_train.shape"
      ],
      "execution_count": 71,
      "outputs": [
        {
          "output_type": "execute_result",
          "data": {
            "text/plain": [
              "(1558, 5)"
            ]
          },
          "metadata": {
            "tags": []
          },
          "execution_count": 71
        }
      ]
    },
    {
      "cell_type": "markdown",
      "metadata": {
        "id": "rhD1a-beKvE7"
      },
      "source": [
        "## 5. Model building"
      ]
    },
    {
      "cell_type": "markdown",
      "metadata": {
        "id": "bRmxklYnKvxk"
      },
      "source": [
        "### 5.1 Construct a neural network architecture using embedding and LSTM layers for building the rating prediction model.\n",
        "- Use the num_words, embedding_size from the above tokenizer and embeddings respectively\n",
        "- Use weights from the above embedding matrix\n",
        "- Use input length as the maxlen\n",
        "- Add LSTM layers"
      ]
    },
    {
      "cell_type": "code",
      "metadata": {
        "id": "gSGsebsiNA78"
      },
      "source": [
        "import tensorflow as tf\n",
        "from tensorflow.keras.models import Sequential\n",
        "from tensorflow.keras.layers import Embedding, Dense, LSTM, Dropout, Flatten"
      ],
      "execution_count": 72,
      "outputs": []
    },
    {
      "cell_type": "code",
      "metadata": {
        "id": "-pEtFUNmMBU5"
      },
      "source": [
        "model1 = Sequential()"
      ],
      "execution_count": 73,
      "outputs": []
    },
    {
      "cell_type": "code",
      "metadata": {
        "id": "iKsQ0AnWMJGu"
      },
      "source": [
        "model1.add(Embedding(NoofWords,embedding_size,weights=[embedding_matrix], input_length=maxlen))\n",
        "model1.add(LSTM(128,return_sequences=True))\n",
        "model1.add(Flatten())\n",
        "model1.add(Dense(512,activation='relu'))\n",
        "model1.add(Dense(256,activation='relu'))\n",
        "model1.add(Dense(128,activation='relu'))\n",
        "model1.add(Dense(64,activation='relu'))\n",
        "model1.add(Dropout(0.25))\n",
        "model1.add(Dense(5,activation='softmax'))"
      ],
      "execution_count": 74,
      "outputs": []
    },
    {
      "cell_type": "markdown",
      "metadata": {
        "id": "iN0P-a6X_jAb"
      },
      "source": [
        "### 5.2 Compile the model using appropriate loss, optimizer, and accuracy metric"
      ]
    },
    {
      "cell_type": "code",
      "metadata": {
        "id": "8Kyk9kPxNCMb"
      },
      "source": [
        "model1.compile(optimizer='adam',metrics=['accuracy'], loss='categorical_crossentropy')"
      ],
      "execution_count": 75,
      "outputs": []
    },
    {
      "cell_type": "code",
      "metadata": {
        "colab": {
          "base_uri": "https://localhost:8080/"
        },
        "id": "AzptpYy4PmOA",
        "outputId": "f23a027d-414a-4823-e690-e82a94361725"
      },
      "source": [
        "model1.summary()"
      ],
      "execution_count": 76,
      "outputs": [
        {
          "output_type": "stream",
          "text": [
            "Model: \"sequential\"\n",
            "_________________________________________________________________\n",
            "Layer (type)                 Output Shape              Param #   \n",
            "=================================================================\n",
            "embedding (Embedding)        (None, 25, 50)            441950    \n",
            "_________________________________________________________________\n",
            "lstm (LSTM)                  (None, 25, 128)           91648     \n",
            "_________________________________________________________________\n",
            "flatten (Flatten)            (None, 3200)              0         \n",
            "_________________________________________________________________\n",
            "dense (Dense)                (None, 512)               1638912   \n",
            "_________________________________________________________________\n",
            "dense_1 (Dense)              (None, 256)               131328    \n",
            "_________________________________________________________________\n",
            "dense_2 (Dense)              (None, 128)               32896     \n",
            "_________________________________________________________________\n",
            "dense_3 (Dense)              (None, 64)                8256      \n",
            "_________________________________________________________________\n",
            "dropout (Dropout)            (None, 64)                0         \n",
            "_________________________________________________________________\n",
            "dense_4 (Dense)              (None, 5)                 325       \n",
            "=================================================================\n",
            "Total params: 2,345,315\n",
            "Trainable params: 2,345,315\n",
            "Non-trainable params: 0\n",
            "_________________________________________________________________\n"
          ],
          "name": "stdout"
        }
      ]
    },
    {
      "cell_type": "markdown",
      "metadata": {
        "id": "tIODqXJK_qrQ"
      },
      "source": [
        "### 5.3 Fit the model"
      ]
    },
    {
      "cell_type": "code",
      "metadata": {
        "id": "fEX-_bd2NDPW"
      },
      "source": [
        "batchsize = 64\n",
        "epochs = 25"
      ],
      "execution_count": 77,
      "outputs": []
    },
    {
      "cell_type": "code",
      "metadata": {
        "colab": {
          "base_uri": "https://localhost:8080/"
        },
        "id": "R-Ik8mF4QTnF",
        "outputId": "efea4eac-aff4-493e-c7fe-dcd6126b68a6"
      },
      "source": [
        "training_hist = model1.fit(x_train, y_train, batch_size=batchsize, epochs= epochs,validation_data=(x_test, y_test))"
      ],
      "execution_count": 78,
      "outputs": [
        {
          "output_type": "stream",
          "text": [
            "Epoch 1/25\n",
            "25/25 [==============================] - 6s 118ms/step - loss: 0.9364 - accuracy: 0.7542 - val_loss: 0.7554 - val_accuracy: 0.7892\n",
            "Epoch 2/25\n",
            "25/25 [==============================] - 2s 89ms/step - loss: 0.7455 - accuracy: 0.7882 - val_loss: 0.6987 - val_accuracy: 0.7892\n",
            "Epoch 3/25\n",
            "25/25 [==============================] - 2s 88ms/step - loss: 0.6623 - accuracy: 0.7882 - val_loss: 0.7062 - val_accuracy: 0.7877\n",
            "Epoch 4/25\n",
            "25/25 [==============================] - 2s 93ms/step - loss: 0.6062 - accuracy: 0.7888 - val_loss: 0.6749 - val_accuracy: 0.7907\n",
            "Epoch 5/25\n",
            "25/25 [==============================] - 2s 90ms/step - loss: 0.5068 - accuracy: 0.8184 - val_loss: 0.7141 - val_accuracy: 0.7862\n",
            "Epoch 6/25\n",
            "25/25 [==============================] - 2s 89ms/step - loss: 0.3878 - accuracy: 0.8626 - val_loss: 0.8014 - val_accuracy: 0.7638\n",
            "Epoch 7/25\n",
            "25/25 [==============================] - 2s 99ms/step - loss: 0.2570 - accuracy: 0.9037 - val_loss: 0.9536 - val_accuracy: 0.7683\n",
            "Epoch 8/25\n",
            "25/25 [==============================] - 2s 97ms/step - loss: 0.1720 - accuracy: 0.9390 - val_loss: 1.1708 - val_accuracy: 0.7265\n",
            "Epoch 9/25\n",
            "25/25 [==============================] - 2s 88ms/step - loss: 0.1154 - accuracy: 0.9660 - val_loss: 1.4717 - val_accuracy: 0.7803\n",
            "Epoch 10/25\n",
            "25/25 [==============================] - 2s 87ms/step - loss: 0.0653 - accuracy: 0.9775 - val_loss: 1.4513 - val_accuracy: 0.7474\n",
            "Epoch 11/25\n",
            "25/25 [==============================] - 2s 94ms/step - loss: 0.0403 - accuracy: 0.9852 - val_loss: 1.6228 - val_accuracy: 0.7519\n",
            "Epoch 12/25\n",
            "25/25 [==============================] - 2s 89ms/step - loss: 0.0260 - accuracy: 0.9917 - val_loss: 1.8587 - val_accuracy: 0.7728\n",
            "Epoch 13/25\n",
            "25/25 [==============================] - 2s 88ms/step - loss: 0.0152 - accuracy: 0.9974 - val_loss: 1.8365 - val_accuracy: 0.7788\n",
            "Epoch 14/25\n",
            "25/25 [==============================] - 2s 95ms/step - loss: 0.0239 - accuracy: 0.9955 - val_loss: 1.7430 - val_accuracy: 0.7803\n",
            "Epoch 15/25\n",
            "25/25 [==============================] - 2s 100ms/step - loss: 0.0144 - accuracy: 0.9949 - val_loss: 1.9306 - val_accuracy: 0.7638\n",
            "Epoch 16/25\n",
            "25/25 [==============================] - 2s 97ms/step - loss: 0.0171 - accuracy: 0.9949 - val_loss: 1.7184 - val_accuracy: 0.7698\n",
            "Epoch 17/25\n",
            "25/25 [==============================] - 2s 95ms/step - loss: 0.0040 - accuracy: 0.9994 - val_loss: 1.7574 - val_accuracy: 0.7698\n",
            "Epoch 18/25\n",
            "25/25 [==============================] - 2s 92ms/step - loss: 0.0093 - accuracy: 0.9961 - val_loss: 1.8511 - val_accuracy: 0.7758\n",
            "Epoch 19/25\n",
            "25/25 [==============================] - 2s 87ms/step - loss: 0.0098 - accuracy: 0.9974 - val_loss: 2.0841 - val_accuracy: 0.7593\n",
            "Epoch 20/25\n",
            "25/25 [==============================] - 2s 88ms/step - loss: 0.0052 - accuracy: 0.9987 - val_loss: 2.1241 - val_accuracy: 0.7743\n",
            "Epoch 21/25\n",
            "25/25 [==============================] - 2s 88ms/step - loss: 0.0510 - accuracy: 0.9840 - val_loss: 1.6759 - val_accuracy: 0.7294\n",
            "Epoch 22/25\n",
            "25/25 [==============================] - 2s 89ms/step - loss: 0.0146 - accuracy: 0.9968 - val_loss: 1.9356 - val_accuracy: 0.7892\n",
            "Epoch 23/25\n",
            "25/25 [==============================] - 2s 86ms/step - loss: 0.0050 - accuracy: 0.9981 - val_loss: 1.8200 - val_accuracy: 0.7593\n",
            "Epoch 24/25\n",
            "25/25 [==============================] - 2s 87ms/step - loss: 8.5621e-04 - accuracy: 1.0000 - val_loss: 2.0814 - val_accuracy: 0.7803\n",
            "Epoch 25/25\n",
            "25/25 [==============================] - 2s 87ms/step - loss: 4.3855e-04 - accuracy: 1.0000 - val_loss: 2.2201 - val_accuracy: 0.7803\n"
          ],
          "name": "stdout"
        }
      ]
    },
    {
      "cell_type": "markdown",
      "metadata": {
        "id": "1iakHzMFNDsz"
      },
      "source": [
        "### 5.4 Predict ratings for test data and check accuracy and confusion matrix"
      ]
    },
    {
      "cell_type": "code",
      "metadata": {
        "id": "erNFghTpNK-j"
      },
      "source": [
        "predictions = model1.predict(x_test)"
      ],
      "execution_count": 79,
      "outputs": []
    },
    {
      "cell_type": "code",
      "metadata": {
        "id": "glNaXRZqNLBN"
      },
      "source": [
        "y_test_inv = enc.inverse_transform(y_test)"
      ],
      "execution_count": 80,
      "outputs": []
    },
    {
      "cell_type": "code",
      "metadata": {
        "colab": {
          "base_uri": "https://localhost:8080/"
        },
        "id": "l7m5RojESMHo",
        "outputId": "3bf3a1f8-c0a0-4dad-828b-544d5e0e5894"
      },
      "source": [
        "predictions[0]"
      ],
      "execution_count": 81,
      "outputs": [
        {
          "output_type": "execute_result",
          "data": {
            "text/plain": [
              "array([5.0025973e-14, 6.7234248e-15, 1.1580207e-17, 4.5262246e-14,\n",
              "       1.0000000e+00], dtype=float32)"
            ]
          },
          "metadata": {
            "tags": []
          },
          "execution_count": 81
        }
      ]
    },
    {
      "cell_type": "code",
      "metadata": {
        "id": "csa3Mh9PSWyt"
      },
      "source": [
        "pred_inv = enc.inverse_transform(np.around(predictions))"
      ],
      "execution_count": 82,
      "outputs": []
    },
    {
      "cell_type": "code",
      "metadata": {
        "id": "JQl1OAEySxtZ"
      },
      "source": [
        "from sklearn.metrics import confusion_matrix, accuracy_score, classification_report"
      ],
      "execution_count": 83,
      "outputs": []
    },
    {
      "cell_type": "code",
      "metadata": {
        "colab": {
          "base_uri": "https://localhost:8080/"
        },
        "id": "HHg0Vr2CTVF8",
        "outputId": "eab9e126-11ce-4325-ba72-5f9867234a9e"
      },
      "source": [
        "confusion_matrix(y_test_inv,pred_inv)"
      ],
      "execution_count": 84,
      "outputs": [
        {
          "output_type": "execute_result",
          "data": {
            "text/plain": [
              "array([[ 19,   1,   2,   3,  21],\n",
              "       [  2,   0,   3,   3,  10],\n",
              "       [  1,   0,   2,   2,  18],\n",
              "       [  3,   0,   3,   6,  42],\n",
              "       [ 11,   2,   9,  12, 494]])"
            ]
          },
          "metadata": {
            "tags": []
          },
          "execution_count": 84
        }
      ]
    },
    {
      "cell_type": "code",
      "metadata": {
        "colab": {
          "base_uri": "https://localhost:8080/"
        },
        "id": "4Szr2A7_Xq6R",
        "outputId": "efe00840-8b57-4b1b-a2f3-cd5c15c1ca01"
      },
      "source": [
        "accuracy_score(y_test_inv,pred_inv)"
      ],
      "execution_count": 85,
      "outputs": [
        {
          "output_type": "execute_result",
          "data": {
            "text/plain": [
              "0.7787742899850523"
            ]
          },
          "metadata": {
            "tags": []
          },
          "execution_count": 85
        }
      ]
    },
    {
      "cell_type": "code",
      "metadata": {
        "colab": {
          "base_uri": "https://localhost:8080/"
        },
        "id": "YihoYKzJYYNS",
        "outputId": "940c1b12-0e66-448d-bd28-defd17f16131"
      },
      "source": [
        "print(classification_report(y_test_inv,pred_inv))"
      ],
      "execution_count": 86,
      "outputs": [
        {
          "output_type": "stream",
          "text": [
            "              precision    recall  f1-score   support\n",
            "\n",
            "           1       0.53      0.41      0.46        46\n",
            "           2       0.00      0.00      0.00        18\n",
            "           3       0.11      0.09      0.10        23\n",
            "           4       0.23      0.11      0.15        54\n",
            "           5       0.84      0.94      0.89       528\n",
            "\n",
            "    accuracy                           0.78       669\n",
            "   macro avg       0.34      0.31      0.32       669\n",
            "weighted avg       0.73      0.78      0.75       669\n",
            "\n"
          ],
          "name": "stdout"
        }
      ]
    },
    {
      "cell_type": "markdown",
      "metadata": {
        "id": "lHyQA-RsNOXT"
      },
      "source": [
        "### 5.5 Display plot of training and validation loss/accuracy wrt to epochs"
      ]
    },
    {
      "cell_type": "code",
      "metadata": {
        "id": "gC7Lb0eSNawO"
      },
      "source": [
        "accu = training_hist.history['accuracy']\n",
        "val_accu = training_hist.history['val_accuracy']\n",
        "loss = training_hist.history['loss']\n",
        "val_loss = training_hist.history['val_loss']"
      ],
      "execution_count": 87,
      "outputs": []
    },
    {
      "cell_type": "code",
      "metadata": {
        "id": "aCUPkLwlbYHu"
      },
      "source": [
        "epo = range(len(accu))"
      ],
      "execution_count": 88,
      "outputs": []
    },
    {
      "cell_type": "code",
      "metadata": {
        "colab": {
          "base_uri": "https://localhost:8080/",
          "height": 299
        },
        "id": "F-nTBUP5aB13",
        "outputId": "caf20576-e983-4c74-9e39-c25ade276eca"
      },
      "source": [
        "plt.plot(epo,accu ,label='Training Accuracy')\n",
        "plt.figure()"
      ],
      "execution_count": 89,
      "outputs": [
        {
          "output_type": "execute_result",
          "data": {
            "text/plain": [
              "<Figure size 432x288 with 0 Axes>"
            ]
          },
          "metadata": {
            "tags": []
          },
          "execution_count": 89
        },
        {
          "output_type": "display_data",
          "data": {
            "image/png": "[encoded data removed]",
            "text/plain": [
              "<Figure size 432x288 with 1 Axes>"
            ]
          },
          "metadata": {
            "tags": [],
            "needs_background": "light"
          }
        },
        {
          "output_type": "display_data",
          "data": {
            "text/plain": [
              "<Figure size 432x288 with 0 Axes>"
            ]
          },
          "metadata": {
            "tags": []
          }
        }
      ]
    },
    {
      "cell_type": "code",
      "metadata": {
        "colab": {
          "base_uri": "https://localhost:8080/",
          "height": 299
        },
        "id": "avvmVvZeb4uO",
        "outputId": "d3155ec8-7c27-4fd5-83eb-0d266fdf3f3d"
      },
      "source": [
        "plt.plot(epo,val_accu ,label='Validation Accuracy')\n",
        "plt.figure()"
      ],
      "execution_count": 90,
      "outputs": [
        {
          "output_type": "execute_result",
          "data": {
            "text/plain": [
              "<Figure size 432x288 with 0 Axes>"
            ]
          },
          "metadata": {
            "tags": []
          },
          "execution_count": 90
        },
        {
          "output_type": "display_data",
          "data": {
            "image/png": "[encoded data removed]",
            "text/plain": [
              "<Figure size 432x288 with 1 Axes>"
            ]
          },
          "metadata": {
            "tags": [],
            "needs_background": "light"
          }
        },
        {
          "output_type": "display_data",
          "data": {
            "text/plain": [
              "<Figure size 432x288 with 0 Axes>"
            ]
          },
          "metadata": {
            "tags": []
          }
        }
      ]
    },
    {
      "cell_type": "code",
      "metadata": {
        "colab": {
          "base_uri": "https://localhost:8080/",
          "height": 299
        },
        "id": "8h2spcHgb-RO",
        "outputId": "ece176d9-df00-4726-a120-131ab332cad7"
      },
      "source": [
        "plt.plot(epo,loss ,label='Loss')\n",
        "plt.figure()"
      ],
      "execution_count": 91,
      "outputs": [
        {
          "output_type": "execute_result",
          "data": {
            "text/plain": [
              "<Figure size 432x288 with 0 Axes>"
            ]
          },
          "metadata": {
            "tags": []
          },
          "execution_count": 91
        },
        {
          "output_type": "display_data",
          "data": {
            "image/png": "[encoded data removed]",
            "text/plain": [
              "<Figure size 432x288 with 1 Axes>"
            ]
          },
          "metadata": {
            "tags": [],
            "needs_background": "light"
          }
        },
        {
          "output_type": "display_data",
          "data": {
            "text/plain": [
              "<Figure size 432x288 with 0 Axes>"
            ]
          },
          "metadata": {
            "tags": []
          }
        }
      ]
    },
    {
      "cell_type": "code",
      "metadata": {
        "colab": {
          "base_uri": "https://localhost:8080/",
          "height": 299
        },
        "id": "qLUc1zTqcHae",
        "outputId": "5e4cbb36-56c5-4910-c9e7-8838585d2289"
      },
      "source": [
        "plt.plot(epo,val_loss ,label='Validation Loss')\n",
        "plt.figure()"
      ],
      "execution_count": 92,
      "outputs": [
        {
          "output_type": "execute_result",
          "data": {
            "text/plain": [
              "<Figure size 432x288 with 0 Axes>"
            ]
          },
          "metadata": {
            "tags": []
          },
          "execution_count": 92
        },
        {
          "output_type": "display_data",
          "data": {
            "image/png": "[encoded data removed]",
            "text/plain": [
              "<Figure size 432x288 with 1 Axes>"
            ]
          },
          "metadata": {
            "tags": [],
            "needs_background": "light"
          }
        },
        {
          "output_type": "display_data",
          "data": {
            "text/plain": [
              "<Figure size 432x288 with 0 Axes>"
            ]
          },
          "metadata": {
            "tags": []
          }
        }
      ]
    },
    {
      "cell_type": "markdown",
      "metadata": {
        "id": "Ey7an7ukLxWB"
      },
      "source": [
        "## 6. Conclusion and Interpretation"
      ]
    },
    {
      "cell_type": "markdown",
      "metadata": {
        "id": "9YUWo11k5CF6"
      },
      "source": [
        "The recall and precision is high for rating '5'. The reason is the data for this class is more thna 75 % of total data."
      ]
    },
    {
      "cell_type": "code",
      "metadata": {
        "id": "3b2eLAk9NeNz"
      },
      "source": [
        ""
      ],
      "execution_count": null,
      "outputs": []
    },
    {
      "cell_type": "markdown",
      "metadata": {
        "id": "9nwOCcvqxVCH"
      },
      "source": [
        "## 7. Food for thought:\n",
        "\n",
        "1.) Change activation function (try leaky_relu or tanh) and see if it helps in improving model performance with the dataset that is highly imbalanced\n",
        "\n",
        "2.) Try with only the overall review feature and see if it leads to improvement in model performace\n",
        "\n",
        "3.) Change the hyperparameters of the model and compare the results "
      ]
    },
    {
      "cell_type": "code",
      "metadata": {
        "id": "VCylm4X8Nfik"
      },
      "source": [
        "#Lets try with different activation function...like leaky_relu, tanh and see if it improves performance"
      ],
      "execution_count": null,
      "outputs": []
    },
    {
      "cell_type": "code",
      "metadata": {
        "id": "da_5CDg7vsi4"
      },
      "source": [
        "model2 = Sequential()\n",
        "model2.add(Embedding(NoofWords,embedding_size,weights=[embedding_matrix], input_length=maxlen))\n",
        "model2.add(LSTM(128,return_sequences=True))\n",
        "model2.add(Flatten())\n",
        "model2.add(Dense(512,activation=tf.keras.layers.LeakyReLU(alpha=0.01)))\n",
        "model2.add(Dense(256,activation=tf.keras.layers.LeakyReLU(alpha=0.01)))\n",
        "model2.add(Dense(128,activation=tf.keras.layers.LeakyReLU(alpha=0.01)))\n",
        "model2.add(Dense(64,activation=tf.keras.layers.LeakyReLU(alpha=0.01)))\n",
        "model2.add(Dropout(0.25))\n",
        "model2.add(Dense(5,activation='softmax'))"
      ],
      "execution_count": 95,
      "outputs": []
    },
    {
      "cell_type": "code",
      "metadata": {
        "id": "B55Ureop6oox"
      },
      "source": [
        "model2.compile(optimizer='adam',metrics=['accuracy'], loss='categorical_crossentropy')"
      ],
      "execution_count": 96,
      "outputs": []
    },
    {
      "cell_type": "code",
      "metadata": {
        "colab": {
          "base_uri": "https://localhost:8080/"
        },
        "id": "TvfZWWVx6pOx",
        "outputId": "55f7e0b3-14b5-4746-dc09-617cae74c830"
      },
      "source": [
        "batchsize = 64\n",
        "epochs = 25\n",
        "training_hist = model2.fit(x_train, y_train, batch_size=batchsize, epochs= epochs,validation_data=(x_test, y_test))"
      ],
      "execution_count": 97,
      "outputs": [
        {
          "output_type": "stream",
          "text": [
            "Epoch 1/25\n",
            "25/25 [==============================] - 5s 109ms/step - loss: 0.8909 - accuracy: 0.7555 - val_loss: 0.7354 - val_accuracy: 0.7892\n",
            "Epoch 2/25\n",
            "25/25 [==============================] - 2s 88ms/step - loss: 0.7382 - accuracy: 0.7869 - val_loss: 0.7034 - val_accuracy: 0.7892\n",
            "Epoch 3/25\n",
            "25/25 [==============================] - 2s 92ms/step - loss: 0.6548 - accuracy: 0.7953 - val_loss: 0.7266 - val_accuracy: 0.7534\n",
            "Epoch 4/25\n",
            "25/25 [==============================] - 2s 93ms/step - loss: 0.5969 - accuracy: 0.8087 - val_loss: 0.6839 - val_accuracy: 0.7952\n",
            "Epoch 5/25\n",
            "25/25 [==============================] - 2s 88ms/step - loss: 0.5149 - accuracy: 0.8216 - val_loss: 0.6908 - val_accuracy: 0.7818\n",
            "Epoch 6/25\n",
            "25/25 [==============================] - 2s 88ms/step - loss: 0.4011 - accuracy: 0.8517 - val_loss: 0.7897 - val_accuracy: 0.7922\n",
            "Epoch 7/25\n",
            "25/25 [==============================] - 2s 90ms/step - loss: 0.2621 - accuracy: 0.9127 - val_loss: 1.0972 - val_accuracy: 0.7085\n",
            "Epoch 8/25\n",
            "25/25 [==============================] - 2s 87ms/step - loss: 0.1804 - accuracy: 0.9384 - val_loss: 1.1587 - val_accuracy: 0.7578\n",
            "Epoch 9/25\n",
            "25/25 [==============================] - 2s 89ms/step - loss: 0.1025 - accuracy: 0.9698 - val_loss: 1.5483 - val_accuracy: 0.7354\n",
            "Epoch 10/25\n",
            "25/25 [==============================] - 2s 88ms/step - loss: 0.0320 - accuracy: 0.9929 - val_loss: 1.9998 - val_accuracy: 0.7758\n",
            "Epoch 11/25\n",
            "25/25 [==============================] - 2s 89ms/step - loss: 0.0140 - accuracy: 0.9955 - val_loss: 2.0362 - val_accuracy: 0.7100\n",
            "Epoch 12/25\n",
            "25/25 [==============================] - 2s 89ms/step - loss: 0.0500 - accuracy: 0.9820 - val_loss: 1.8051 - val_accuracy: 0.7265\n",
            "Epoch 13/25\n",
            "25/25 [==============================] - 2s 98ms/step - loss: 0.0269 - accuracy: 0.9891 - val_loss: 1.8131 - val_accuracy: 0.7728\n",
            "Epoch 14/25\n",
            "25/25 [==============================] - 2s 95ms/step - loss: 0.0059 - accuracy: 0.9987 - val_loss: 2.1017 - val_accuracy: 0.7668\n",
            "Epoch 15/25\n",
            "25/25 [==============================] - 2s 88ms/step - loss: 0.0019 - accuracy: 1.0000 - val_loss: 2.1703 - val_accuracy: 0.7653\n",
            "Epoch 16/25\n",
            "25/25 [==============================] - 2s 88ms/step - loss: 4.7772e-04 - accuracy: 1.0000 - val_loss: 2.2786 - val_accuracy: 0.7683\n",
            "Epoch 17/25\n",
            "25/25 [==============================] - 2s 90ms/step - loss: 4.0385e-04 - accuracy: 1.0000 - val_loss: 2.3448 - val_accuracy: 0.7683\n",
            "Epoch 18/25\n",
            "25/25 [==============================] - 2s 96ms/step - loss: 3.1425e-04 - accuracy: 1.0000 - val_loss: 2.4080 - val_accuracy: 0.7683\n",
            "Epoch 19/25\n",
            "25/25 [==============================] - 2s 90ms/step - loss: 2.3656e-04 - accuracy: 1.0000 - val_loss: 2.4598 - val_accuracy: 0.7728\n",
            "Epoch 20/25\n",
            "25/25 [==============================] - 2s 88ms/step - loss: 1.8015e-04 - accuracy: 1.0000 - val_loss: 2.5029 - val_accuracy: 0.7743\n",
            "Epoch 21/25\n",
            "25/25 [==============================] - 2s 89ms/step - loss: 2.2540e-04 - accuracy: 1.0000 - val_loss: 2.5161 - val_accuracy: 0.7683\n",
            "Epoch 22/25\n",
            "25/25 [==============================] - 2s 89ms/step - loss: 1.4913e-04 - accuracy: 1.0000 - val_loss: 2.5609 - val_accuracy: 0.7698\n",
            "Epoch 23/25\n",
            "25/25 [==============================] - 2s 90ms/step - loss: 2.6707e-04 - accuracy: 1.0000 - val_loss: 2.6088 - val_accuracy: 0.7728\n",
            "Epoch 24/25\n",
            "25/25 [==============================] - 2s 94ms/step - loss: 1.3597e-04 - accuracy: 1.0000 - val_loss: 2.6467 - val_accuracy: 0.7713\n",
            "Epoch 25/25\n",
            "25/25 [==============================] - 2s 96ms/step - loss: 1.0782e-04 - accuracy: 1.0000 - val_loss: 2.6769 - val_accuracy: 0.7728\n"
          ],
          "name": "stdout"
        }
      ]
    },
    {
      "cell_type": "code",
      "metadata": {
        "id": "z1IJDU6r69ZO"
      },
      "source": [
        "predictions = model2.predict(x_test)\n",
        "y_test_inv = enc.inverse_transform(y_test)\n",
        "pred_inv = enc.inverse_transform(np.around(predictions))"
      ],
      "execution_count": 98,
      "outputs": []
    },
    {
      "cell_type": "code",
      "metadata": {
        "colab": {
          "base_uri": "https://localhost:8080/"
        },
        "id": "W0G_XWIR7A-C",
        "outputId": "b6889765-dce3-4d79-d87b-16c164cb2795"
      },
      "source": [
        "confusion_matrix(y_test_inv,pred_inv)"
      ],
      "execution_count": 99,
      "outputs": [
        {
          "output_type": "execute_result",
          "data": {
            "text/plain": [
              "array([[ 20,   1,   0,   1,  24],\n",
              "       [  5,   1,   1,   2,   9],\n",
              "       [  3,   0,   1,   5,  14],\n",
              "       [  4,   2,   0,   5,  43],\n",
              "       [ 18,   3,   3,  15, 489]])"
            ]
          },
          "metadata": {
            "tags": []
          },
          "execution_count": 99
        }
      ]
    },
    {
      "cell_type": "code",
      "metadata": {
        "colab": {
          "base_uri": "https://localhost:8080/"
        },
        "id": "hxpP_vLJ7OPH",
        "outputId": "8d50692d-0277-4e62-9579-77f68b8db40f"
      },
      "source": [
        "accuracy_score(y_test_inv,pred_inv)"
      ],
      "execution_count": 100,
      "outputs": [
        {
          "output_type": "execute_result",
          "data": {
            "text/plain": [
              "0.7713004484304933"
            ]
          },
          "metadata": {
            "tags": []
          },
          "execution_count": 100
        }
      ]
    },
    {
      "cell_type": "code",
      "metadata": {
        "colab": {
          "base_uri": "https://localhost:8080/"
        },
        "id": "M20Xcp7V7Q3R",
        "outputId": "9a69ab33-37e1-4dba-bd57-d542ce5b3224"
      },
      "source": [
        "print(classification_report(y_test_inv,pred_inv))"
      ],
      "execution_count": 101,
      "outputs": [
        {
          "output_type": "stream",
          "text": [
            "              precision    recall  f1-score   support\n",
            "\n",
            "           1       0.40      0.43      0.42        46\n",
            "           2       0.14      0.06      0.08        18\n",
            "           3       0.20      0.04      0.07        23\n",
            "           4       0.18      0.09      0.12        54\n",
            "           5       0.84      0.93      0.88       528\n",
            "\n",
            "    accuracy                           0.77       669\n",
            "   macro avg       0.35      0.31      0.31       669\n",
            "weighted avg       0.72      0.77      0.74       669\n",
            "\n"
          ],
          "name": "stdout"
        }
      ]
    },
    {
      "cell_type": "markdown",
      "metadata": {
        "id": "4WKEreLI9q5S"
      },
      "source": [
        "Comments : Changing activation function has no major impact on precision, recall and accuracy."
      ]
    },
    {
      "cell_type": "markdown",
      "metadata": {
        "id": "QOouwphR-SAf"
      },
      "source": [
        "Lets try Tanh"
      ]
    },
    {
      "cell_type": "code",
      "metadata": {
        "id": "023TSsE1-UDr"
      },
      "source": [
        "model3 = Sequential()\n",
        "\n",
        "model3.add(Embedding(NoofWords,embedding_size,weights=[embedding_matrix], input_length=maxlen))\n",
        "model3.add(LSTM(128,return_sequences=True))\n",
        "model3.add(Flatten())\n",
        "model3.add(Dense(512,activation='tanh'))\n",
        "model3.add(Dense(256,activation='tanh'))\n",
        "model3.add(Dense(128,activation='tanh'))\n",
        "model3.add(Dense(64,activation='tanh'))\n",
        "model3.add(Dropout(0.25))\n",
        "model3.add(Dense(5,activation='softmax'))"
      ],
      "execution_count": 102,
      "outputs": []
    },
    {
      "cell_type": "code",
      "metadata": {
        "id": "FjnK3Rsz-kVO"
      },
      "source": [
        "model3.compile(optimizer='adam',metrics=['accuracy'], loss='categorical_crossentropy')"
      ],
      "execution_count": 103,
      "outputs": []
    },
    {
      "cell_type": "code",
      "metadata": {
        "colab": {
          "base_uri": "https://localhost:8080/"
        },
        "id": "j_1Ur78e-pIL",
        "outputId": "b2978492-eaf1-415c-e9c3-87d09dd1bdc7"
      },
      "source": [
        "batchsize = 64\n",
        "epochs = 25\n",
        "training_hist = model3.fit(x_train, y_train, batch_size=batchsize, epochs= epochs,validation_data=(x_test, y_test))"
      ],
      "execution_count": 104,
      "outputs": [
        {
          "output_type": "stream",
          "text": [
            "Epoch 1/25\n",
            "25/25 [==============================] - 5s 111ms/step - loss: 0.8929 - accuracy: 0.7632 - val_loss: 0.8135 - val_accuracy: 0.7892\n",
            "Epoch 2/25\n",
            "25/25 [==============================] - 2s 97ms/step - loss: 0.8507 - accuracy: 0.7863 - val_loss: 0.7830 - val_accuracy: 0.7892\n",
            "Epoch 3/25\n",
            "25/25 [==============================] - 2s 92ms/step - loss: 0.8266 - accuracy: 0.7798 - val_loss: 0.7404 - val_accuracy: 0.7892\n",
            "Epoch 4/25\n",
            "25/25 [==============================] - 2s 89ms/step - loss: 0.7615 - accuracy: 0.7747 - val_loss: 0.7045 - val_accuracy: 0.7892\n",
            "Epoch 5/25\n",
            "25/25 [==============================] - 2s 95ms/step - loss: 0.6660 - accuracy: 0.7914 - val_loss: 0.7334 - val_accuracy: 0.7877\n",
            "Epoch 6/25\n",
            "25/25 [==============================] - 2s 97ms/step - loss: 0.5671 - accuracy: 0.8139 - val_loss: 0.7737 - val_accuracy: 0.7354\n",
            "Epoch 7/25\n",
            "25/25 [==============================] - 2s 96ms/step - loss: 0.5046 - accuracy: 0.8318 - val_loss: 0.8121 - val_accuracy: 0.7803\n",
            "Epoch 8/25\n",
            "25/25 [==============================] - 2s 93ms/step - loss: 0.3865 - accuracy: 0.8736 - val_loss: 0.8048 - val_accuracy: 0.7728\n",
            "Epoch 9/25\n",
            "25/25 [==============================] - 2s 86ms/step - loss: 0.2570 - accuracy: 0.9153 - val_loss: 0.9305 - val_accuracy: 0.7534\n",
            "Epoch 10/25\n",
            "25/25 [==============================] - 2s 85ms/step - loss: 0.1728 - accuracy: 0.9499 - val_loss: 1.0183 - val_accuracy: 0.7788\n",
            "Epoch 11/25\n",
            "25/25 [==============================] - 2s 92ms/step - loss: 0.0863 - accuracy: 0.9775 - val_loss: 1.1122 - val_accuracy: 0.7713\n",
            "Epoch 12/25\n",
            "25/25 [==============================] - 2s 88ms/step - loss: 0.0467 - accuracy: 0.9891 - val_loss: 1.1871 - val_accuracy: 0.7593\n",
            "Epoch 13/25\n",
            "25/25 [==============================] - 2s 95ms/step - loss: 0.0236 - accuracy: 0.9955 - val_loss: 1.2697 - val_accuracy: 0.7668\n",
            "Epoch 14/25\n",
            "25/25 [==============================] - 2s 88ms/step - loss: 0.0120 - accuracy: 0.9987 - val_loss: 1.3491 - val_accuracy: 0.7414\n",
            "Epoch 15/25\n",
            "25/25 [==============================] - 2s 96ms/step - loss: 0.0078 - accuracy: 0.9994 - val_loss: 1.3397 - val_accuracy: 0.7683\n",
            "Epoch 16/25\n",
            "25/25 [==============================] - 2s 90ms/step - loss: 0.0048 - accuracy: 1.0000 - val_loss: 1.3746 - val_accuracy: 0.7728\n",
            "Epoch 17/25\n",
            "25/25 [==============================] - 2s 87ms/step - loss: 0.0042 - accuracy: 1.0000 - val_loss: 1.3970 - val_accuracy: 0.7638\n",
            "Epoch 18/25\n",
            "25/25 [==============================] - 2s 94ms/step - loss: 0.0032 - accuracy: 1.0000 - val_loss: 1.4140 - val_accuracy: 0.7668\n",
            "Epoch 19/25\n",
            "25/25 [==============================] - 2s 98ms/step - loss: 0.0026 - accuracy: 1.0000 - val_loss: 1.4307 - val_accuracy: 0.7698\n",
            "Epoch 20/25\n",
            "25/25 [==============================] - 2s 93ms/step - loss: 0.0024 - accuracy: 1.0000 - val_loss: 1.4496 - val_accuracy: 0.7683\n",
            "Epoch 21/25\n",
            "25/25 [==============================] - 2s 98ms/step - loss: 0.0022 - accuracy: 1.0000 - val_loss: 1.4631 - val_accuracy: 0.7698\n",
            "Epoch 22/25\n",
            "25/25 [==============================] - 2s 96ms/step - loss: 0.0021 - accuracy: 1.0000 - val_loss: 1.4748 - val_accuracy: 0.7713\n",
            "Epoch 23/25\n",
            "25/25 [==============================] - 2s 88ms/step - loss: 0.0018 - accuracy: 1.0000 - val_loss: 1.4880 - val_accuracy: 0.7698\n",
            "Epoch 24/25\n",
            "25/25 [==============================] - 2s 94ms/step - loss: 0.0016 - accuracy: 1.0000 - val_loss: 1.5011 - val_accuracy: 0.7713\n",
            "Epoch 25/25\n",
            "25/25 [==============================] - 2s 95ms/step - loss: 0.0016 - accuracy: 1.0000 - val_loss: 1.5127 - val_accuracy: 0.7698\n"
          ],
          "name": "stdout"
        }
      ]
    },
    {
      "cell_type": "code",
      "metadata": {
        "id": "Reg-lkEb-9Dz"
      },
      "source": [
        "predictions = model3.predict(x_test)\n",
        "y_test_inv = enc.inverse_transform(y_test)\n",
        "pred_inv = enc.inverse_transform(np.around(predictions))"
      ],
      "execution_count": 105,
      "outputs": []
    },
    {
      "cell_type": "code",
      "metadata": {
        "colab": {
          "base_uri": "https://localhost:8080/"
        },
        "id": "JdBmh7kz-_gw",
        "outputId": "984bb970-d350-4ddb-ff66-1f258602ad7f"
      },
      "source": [
        "confusion_matrix(y_test_inv,pred_inv)"
      ],
      "execution_count": 106,
      "outputs": [
        {
          "output_type": "execute_result",
          "data": {
            "text/plain": [
              "array([[ 21,   4,   0,   3,  18],\n",
              "       [  3,   1,   3,   3,   8],\n",
              "       [  5,   0,   1,   3,  14],\n",
              "       [  1,   0,   3,   9,  41],\n",
              "       [ 14,   3,   5,  23, 483]])"
            ]
          },
          "metadata": {
            "tags": []
          },
          "execution_count": 106
        }
      ]
    },
    {
      "cell_type": "code",
      "metadata": {
        "colab": {
          "base_uri": "https://localhost:8080/"
        },
        "id": "ZxtRgcil_BzG",
        "outputId": "71d7706f-d548-4729-9d52-0aa73b5050c3"
      },
      "source": [
        "accuracy_score(y_test_inv,pred_inv)"
      ],
      "execution_count": 107,
      "outputs": [
        {
          "output_type": "execute_result",
          "data": {
            "text/plain": [
              "0.7698056801195815"
            ]
          },
          "metadata": {
            "tags": []
          },
          "execution_count": 107
        }
      ]
    },
    {
      "cell_type": "code",
      "metadata": {
        "colab": {
          "base_uri": "https://localhost:8080/"
        },
        "id": "NOAqxvGR_D36",
        "outputId": "e2a97005-fa64-4185-dbec-f47c3cdfa5f5"
      },
      "source": [
        "print(classification_report(y_test_inv,pred_inv))"
      ],
      "execution_count": 108,
      "outputs": [
        {
          "output_type": "stream",
          "text": [
            "              precision    recall  f1-score   support\n",
            "\n",
            "           1       0.48      0.46      0.47        46\n",
            "           2       0.12      0.06      0.08        18\n",
            "           3       0.08      0.04      0.06        23\n",
            "           4       0.22      0.17      0.19        54\n",
            "           5       0.86      0.91      0.88       528\n",
            "\n",
            "    accuracy                           0.77       669\n",
            "   macro avg       0.35      0.33      0.33       669\n",
            "weighted avg       0.73      0.77      0.75       669\n",
            "\n"
          ],
          "name": "stdout"
        }
      ]
    },
    {
      "cell_type": "markdown",
      "metadata": {
        "id": "Gcg58-h8_SKg"
      },
      "source": [
        "Comments : Changing activation function has no major impact on precision, recall and accuracy."
      ]
    },
    {
      "cell_type": "markdown",
      "metadata": {
        "id": "6fLH3EiG_h_y"
      },
      "source": [
        "Try with only the overall review feature and see if it leads to improvement in model performace"
      ]
    },
    {
      "cell_type": "code",
      "metadata": {
        "colab": {
          "base_uri": "https://localhost:8080/"
        },
        "id": "B8R72xFZAJHn",
        "outputId": "2654d449-fe01-45c9-d3d6-589cfde30e7f"
      },
      "source": [
        "dfrev.columns"
      ],
      "execution_count": 111,
      "outputs": [
        {
          "output_type": "execute_result",
          "data": {
            "text/plain": [
              "Index(['review_title', 'overall_review', 'pros', 'cons', 'AllData',\n",
              "       'rating_stars'],\n",
              "      dtype='object')"
            ]
          },
          "metadata": {
            "tags": []
          },
          "execution_count": 111
        }
      ]
    },
    {
      "cell_type": "code",
      "metadata": {
        "id": "XrMqXAmNA411"
      },
      "source": [
        "dfrev1 = dfrev[['overall_review','rating_stars']]"
      ],
      "execution_count": 115,
      "outputs": []
    },
    {
      "cell_type": "code",
      "metadata": {
        "id": "blTZS_fmBLAu"
      },
      "source": [
        "dfrev1['len'] = dfrev1['overall_review'].apply(lambda x : len(x.split(\" \")))"
      ],
      "execution_count": 117,
      "outputs": []
    },
    {
      "cell_type": "code",
      "metadata": {
        "colab": {
          "base_uri": "https://localhost:8080/",
          "height": 142
        },
        "id": "ml4vhahRAYtf",
        "outputId": "d948594e-f870-4b57-db29-835a06c049d0"
      },
      "source": [
        "dfrev1.head(3)"
      ],
      "execution_count": 118,
      "outputs": [
        {
          "output_type": "execute_result",
          "data": {
            "text/html": [
              "<div>\n",
              "<style scoped>\n",
              "    .dataframe tbody tr th:only-of-type {\n",
              "        vertical-align: middle;\n",
              "    }\n",
              "\n",
              "    .dataframe tbody tr th {\n",
              "        vertical-align: top;\n",
              "    }\n",
              "\n",
              "    .dataframe thead th {\n",
              "        text-align: right;\n",
              "    }\n",
              "</style>\n",
              "<table border=\"1\" class=\"dataframe\">\n",
              "  <thead>\n",
              "    <tr style=\"text-align: right;\">\n",
              "      <th></th>\n",
              "      <th>overall_review</th>\n",
              "      <th>rating_stars</th>\n",
              "      <th>len</th>\n",
              "    </tr>\n",
              "  </thead>\n",
              "  <tbody>\n",
              "    <tr>\n",
              "      <th>0</th>\n",
              "      <td>buy it you will not regret this purchase</td>\n",
              "      <td>5</td>\n",
              "      <td>8</td>\n",
              "    </tr>\n",
              "    <tr>\n",
              "      <th>1</th>\n",
              "      <td>good drive price</td>\n",
              "      <td>5</td>\n",
              "      <td>3</td>\n",
              "    </tr>\n",
              "    <tr>\n",
              "      <th>2</th>\n",
              "      <td>used this drive as my boot drive and only data...</td>\n",
              "      <td>5</td>\n",
              "      <td>55</td>\n",
              "    </tr>\n",
              "  </tbody>\n",
              "</table>\n",
              "</div>"
            ],
            "text/plain": [
              "                                      overall_review  rating_stars  len\n",
              "0           buy it you will not regret this purchase             5    8\n",
              "1                                   good drive price             5    3\n",
              "2  used this drive as my boot drive and only data...             5   55"
            ]
          },
          "metadata": {
            "tags": []
          },
          "execution_count": 118
        }
      ]
    },
    {
      "cell_type": "code",
      "metadata": {
        "id": "DxbYVMDFBpXO"
      },
      "source": [
        "from tensorflow.keras.preprocessing.text import Tokenizer\n",
        "token = Tokenizer(num_words=max_features)\n",
        "token.fit_on_texts(dfrev1['overall_review'])\n",
        "x = token.texts_to_sequences(dfrev1['overall_review'])"
      ],
      "execution_count": 119,
      "outputs": []
    },
    {
      "cell_type": "code",
      "metadata": {
        "id": "qxF0rOkm_mzD"
      },
      "source": [
        "x = pad_sequences(x,maxlen=maxlen)\n",
        "y = np.asarray(dfrev1['rating_stars'])\n",
        "\n",
        "NoofWords = len(token.word_index) +1\n",
        "\n",
        "embedding_matrix = np.zeros((NoofWords,50))\n",
        "\n",
        "for word, i in token.word_index.items() :\n",
        "  embedding_vector = embedding.get(word)\n",
        "  if embedding_vector is not None :\n",
        "    embedding_matrix[i]  =   embedding_vector"
      ],
      "execution_count": 120,
      "outputs": []
    },
    {
      "cell_type": "code",
      "metadata": {
        "id": "9Pa46ppnB3kV"
      },
      "source": [
        "from sklearn.preprocessing import OneHotEncoder\n",
        "enc = OneHotEncoder()\n",
        "\n",
        "y_enc = enc.fit_transform(y.reshape(-1,1))\n",
        "\n",
        "y_enc = y_enc.todense()\n",
        "\n",
        "from sklearn.model_selection import train_test_split\n",
        "\n",
        "x_train, x_test, y_train, y_test = train_test_split(x,y_enc,test_size=0.3,random_state=35,stratify=y_enc)"
      ],
      "execution_count": 121,
      "outputs": []
    },
    {
      "cell_type": "code",
      "metadata": {
        "id": "XC6_A62cB0qT"
      },
      "source": [
        "import tensorflow as tf\n",
        "from tensorflow.keras.models import Sequential\n",
        "from tensorflow.keras.layers import Embedding, Dense, LSTM, Dropout, Flatten\n",
        "\n",
        "model4 = Sequential()\n",
        "\n",
        "model4.add(Embedding(NoofWords,embedding_size,weights=[embedding_matrix], input_length=maxlen))\n",
        "model4.add(LSTM(128,return_sequences=True))\n",
        "model4.add(Flatten())\n",
        "model4.add(Dense(512,activation='relu'))\n",
        "model4.add(Dense(256,activation='relu'))\n",
        "model4.add(Dense(128,activation='relu'))\n",
        "model4.add(Dense(64,activation='relu'))\n",
        "model4.add(Dropout(0.25))\n",
        "model4.add(Dense(5,activation='softmax'))"
      ],
      "execution_count": 123,
      "outputs": []
    },
    {
      "cell_type": "code",
      "metadata": {
        "id": "MBHmK1b8CDWm"
      },
      "source": [
        "model4.compile(optimizer='adam',metrics=['accuracy'], loss='categorical_crossentropy')"
      ],
      "execution_count": 124,
      "outputs": []
    },
    {
      "cell_type": "code",
      "metadata": {
        "colab": {
          "base_uri": "https://localhost:8080/"
        },
        "id": "pL2dZ3rsCHfK",
        "outputId": "75feee88-1cb3-42ba-c9cb-ae30a0c58957"
      },
      "source": [
        "batchsize = 64\n",
        "epochs = 25\n",
        "training_hist = model4.fit(x_train, y_train, batch_size=batchsize, epochs= epochs,validation_data=(x_test, y_test))"
      ],
      "execution_count": 125,
      "outputs": [
        {
          "output_type": "stream",
          "text": [
            "Epoch 1/25\n",
            "25/25 [==============================] - 5s 107ms/step - loss: 1.0643 - accuracy: 0.7574 - val_loss: 0.7668 - val_accuracy: 0.7892\n",
            "Epoch 2/25\n",
            "25/25 [==============================] - 2s 92ms/step - loss: 0.8060 - accuracy: 0.7882 - val_loss: 0.7697 - val_accuracy: 0.7892\n",
            "Epoch 3/25\n",
            "25/25 [==============================] - 2s 87ms/step - loss: 0.7477 - accuracy: 0.7882 - val_loss: 0.7708 - val_accuracy: 0.7892\n",
            "Epoch 4/25\n",
            "25/25 [==============================] - 2s 88ms/step - loss: 0.6952 - accuracy: 0.7901 - val_loss: 0.8641 - val_accuracy: 0.7892\n",
            "Epoch 5/25\n",
            "25/25 [==============================] - 2s 92ms/step - loss: 0.6340 - accuracy: 0.8042 - val_loss: 0.8704 - val_accuracy: 0.7713\n",
            "Epoch 6/25\n",
            "25/25 [==============================] - 2s 91ms/step - loss: 0.5778 - accuracy: 0.8318 - val_loss: 0.9152 - val_accuracy: 0.7474\n",
            "Epoch 7/25\n",
            "25/25 [==============================] - 2s 91ms/step - loss: 0.4910 - accuracy: 0.8543 - val_loss: 1.1115 - val_accuracy: 0.7459\n",
            "Epoch 8/25\n",
            "25/25 [==============================] - 2s 92ms/step - loss: 0.4084 - accuracy: 0.8883 - val_loss: 1.2755 - val_accuracy: 0.7220\n",
            "Epoch 9/25\n",
            "25/25 [==============================] - 2s 89ms/step - loss: 0.3509 - accuracy: 0.9101 - val_loss: 1.3209 - val_accuracy: 0.7698\n",
            "Epoch 10/25\n",
            "25/25 [==============================] - 2s 91ms/step - loss: 0.3390 - accuracy: 0.9127 - val_loss: 1.4390 - val_accuracy: 0.7564\n",
            "Epoch 11/25\n",
            "25/25 [==============================] - 2s 87ms/step - loss: 0.2886 - accuracy: 0.9320 - val_loss: 1.5884 - val_accuracy: 0.7444\n",
            "Epoch 12/25\n",
            "25/25 [==============================] - 2s 92ms/step - loss: 0.2779 - accuracy: 0.9300 - val_loss: 1.8278 - val_accuracy: 0.7474\n",
            "Epoch 13/25\n",
            "25/25 [==============================] - 2s 87ms/step - loss: 0.3252 - accuracy: 0.9217 - val_loss: 1.4803 - val_accuracy: 0.7429\n",
            "Epoch 14/25\n",
            "25/25 [==============================] - 2s 91ms/step - loss: 0.2933 - accuracy: 0.9300 - val_loss: 1.6057 - val_accuracy: 0.7638\n",
            "Epoch 15/25\n",
            "25/25 [==============================] - 2s 91ms/step - loss: 0.2703 - accuracy: 0.9345 - val_loss: 1.7848 - val_accuracy: 0.7653\n",
            "Epoch 16/25\n",
            "25/25 [==============================] - 2s 88ms/step - loss: 0.2715 - accuracy: 0.9352 - val_loss: 1.9346 - val_accuracy: 0.7728\n",
            "Epoch 17/25\n",
            "25/25 [==============================] - 2s 86ms/step - loss: 0.2650 - accuracy: 0.9352 - val_loss: 1.8975 - val_accuracy: 0.7668\n",
            "Epoch 18/25\n",
            "25/25 [==============================] - 2s 91ms/step - loss: 0.2545 - accuracy: 0.9365 - val_loss: 2.0741 - val_accuracy: 0.7653\n",
            "Epoch 19/25\n",
            "25/25 [==============================] - 2s 89ms/step - loss: 0.2644 - accuracy: 0.9358 - val_loss: 2.1000 - val_accuracy: 0.7593\n",
            "Epoch 20/25\n",
            "25/25 [==============================] - 2s 90ms/step - loss: 0.2587 - accuracy: 0.9358 - val_loss: 2.0688 - val_accuracy: 0.7743\n",
            "Epoch 21/25\n",
            "25/25 [==============================] - 2s 87ms/step - loss: 0.2638 - accuracy: 0.9358 - val_loss: 2.1491 - val_accuracy: 0.7474\n",
            "Epoch 22/25\n",
            "25/25 [==============================] - 2s 85ms/step - loss: 0.2605 - accuracy: 0.9365 - val_loss: 2.1352 - val_accuracy: 0.7638\n",
            "Epoch 23/25\n",
            "25/25 [==============================] - 2s 86ms/step - loss: 0.2629 - accuracy: 0.9365 - val_loss: 2.1818 - val_accuracy: 0.7564\n",
            "Epoch 24/25\n",
            "25/25 [==============================] - 2s 92ms/step - loss: 0.2606 - accuracy: 0.9365 - val_loss: 2.2073 - val_accuracy: 0.7668\n",
            "Epoch 25/25\n",
            "25/25 [==============================] - 2s 92ms/step - loss: 0.2650 - accuracy: 0.9365 - val_loss: 2.3306 - val_accuracy: 0.7713\n"
          ],
          "name": "stdout"
        }
      ]
    },
    {
      "cell_type": "code",
      "metadata": {
        "id": "A2vgYiMVCo89"
      },
      "source": [
        "predictions = model4.predict(x_test)\n",
        "y_test_inv = enc.inverse_transform(y_test)\n",
        "pred_inv = enc.inverse_transform(np.around(predictions))"
      ],
      "execution_count": 126,
      "outputs": []
    },
    {
      "cell_type": "code",
      "metadata": {
        "colab": {
          "base_uri": "https://localhost:8080/"
        },
        "id": "0_6Qxp3ZCo10",
        "outputId": "3d81906f-3cdb-4f50-db76-c146a3d2b990"
      },
      "source": [
        "confusion_matrix(y_test_inv,pred_inv)"
      ],
      "execution_count": 127,
      "outputs": [
        {
          "output_type": "execute_result",
          "data": {
            "text/plain": [
              "array([[  9,   0,   2,   2,  33],\n",
              "       [  2,   0,   0,   3,  13],\n",
              "       [  1,   0,   2,   2,  18],\n",
              "       [  0,   1,   1,   4,  48],\n",
              "       [  4,   2,   6,  15, 501]])"
            ]
          },
          "metadata": {
            "tags": []
          },
          "execution_count": 127
        }
      ]
    },
    {
      "cell_type": "code",
      "metadata": {
        "colab": {
          "base_uri": "https://localhost:8080/"
        },
        "id": "rTjMe_7zCorb",
        "outputId": "e8fda9f6-4b74-40f6-eb0e-c69ddb67b002"
      },
      "source": [
        "accuracy_score(y_test_inv,pred_inv)"
      ],
      "execution_count": 128,
      "outputs": [
        {
          "output_type": "execute_result",
          "data": {
            "text/plain": [
              "0.7713004484304933"
            ]
          },
          "metadata": {
            "tags": []
          },
          "execution_count": 128
        }
      ]
    },
    {
      "cell_type": "code",
      "metadata": {
        "colab": {
          "base_uri": "https://localhost:8080/"
        },
        "id": "IFlZyAu6Cz7D",
        "outputId": "08f5e9e3-ac72-419d-acb2-2f6ab92c461d"
      },
      "source": [
        "print(classification_report(y_test_inv,pred_inv))"
      ],
      "execution_count": 129,
      "outputs": [
        {
          "output_type": "stream",
          "text": [
            "              precision    recall  f1-score   support\n",
            "\n",
            "           1       0.56      0.20      0.29        46\n",
            "           2       0.00      0.00      0.00        18\n",
            "           3       0.18      0.09      0.12        23\n",
            "           4       0.15      0.07      0.10        54\n",
            "           5       0.82      0.95      0.88       528\n",
            "\n",
            "    accuracy                           0.77       669\n",
            "   macro avg       0.34      0.26      0.28       669\n",
            "weighted avg       0.70      0.77      0.73       669\n",
            "\n"
          ],
          "name": "stdout"
        }
      ]
    },
    {
      "cell_type": "markdown",
      "metadata": {
        "id": "mmCi6FktC6Bi"
      },
      "source": [
        "Comments : It is observed that the recall for rating '5' has increased to 95 %. The precision for all classes has also increased to some extent."
      ]
    },
    {
      "cell_type": "markdown",
      "metadata": {
        "id": "rRgWaw8uDOoa"
      },
      "source": [
        "3.) Change the hyperparameters of the model and compare the results "
      ]
    },
    {
      "cell_type": "markdown",
      "metadata": {
        "id": "UZt3NrMoD3zK"
      },
      "source": [
        "Lets batch size, epochs, no of layers, no of neurons etc and check result"
      ]
    },
    {
      "cell_type": "code",
      "metadata": {
        "id": "qYA3xPFdDTLu"
      },
      "source": [
        "import tensorflow as tf\n",
        "from tensorflow.keras.models import Sequential\n",
        "from tensorflow.keras.layers import Embedding, Dense, LSTM, Dropout, Flatten\n",
        "\n",
        "model5 = Sequential()\n",
        "\n",
        "model5.add(Embedding(NoofWords,embedding_size,weights=[embedding_matrix], input_length=maxlen))\n",
        "model5.add(LSTM(128,return_sequences=True))\n",
        "model5.add(Flatten())\n",
        "model5.add(Dense(512,activation='relu'))\n",
        "model5.add(Dense(256,activation='relu'))\n",
        "model5.add(Dense(128,activation='relu'))\n",
        "model5.add(Dense(64,activation='relu'))\n",
        "model5.add(Dense(32,activation='relu'))            # Add one more layer\n",
        "model5.add(Dropout(0.25))\n",
        "model5.add(Dense(5,activation='softmax'))"
      ],
      "execution_count": 130,
      "outputs": []
    },
    {
      "cell_type": "code",
      "metadata": {
        "id": "Dn3G-nZfDVrP"
      },
      "source": [
        "model5.compile(optimizer='adam',metrics=['accuracy'], loss='categorical_crossentropy')"
      ],
      "execution_count": 131,
      "outputs": []
    },
    {
      "cell_type": "code",
      "metadata": {
        "colab": {
          "base_uri": "https://localhost:8080/"
        },
        "id": "hWF-OlurDYPr",
        "outputId": "3b8cb476-ca74-4633-c57c-29e5282abcb1"
      },
      "source": [
        "batchsize = 32                 # change batch size\n",
        "epochs = 35                    # change epochs size\n",
        "training_hist = model5.fit(x_train, y_train, batch_size=batchsize, epochs= epochs,validation_data=(x_test, y_test))"
      ],
      "execution_count": 132,
      "outputs": [
        {
          "output_type": "stream",
          "text": [
            "Epoch 1/35\n",
            "49/49 [==============================] - 6s 74ms/step - loss: 0.9880 - accuracy: 0.7670 - val_loss: 0.7750 - val_accuracy: 0.7892\n",
            "Epoch 2/35\n",
            "49/49 [==============================] - 3s 69ms/step - loss: 0.7907 - accuracy: 0.7882 - val_loss: 0.7723 - val_accuracy: 0.7892\n",
            "Epoch 3/35\n",
            "49/49 [==============================] - 3s 62ms/step - loss: 0.7479 - accuracy: 0.7882 - val_loss: 0.7894 - val_accuracy: 0.7892\n",
            "Epoch 4/35\n",
            "49/49 [==============================] - 3s 62ms/step - loss: 0.6858 - accuracy: 0.7882 - val_loss: 0.8876 - val_accuracy: 0.7892\n",
            "Epoch 5/35\n",
            "49/49 [==============================] - 3s 63ms/step - loss: 0.6083 - accuracy: 0.7965 - val_loss: 0.9179 - val_accuracy: 0.7848\n",
            "Epoch 6/35\n",
            "49/49 [==============================] - 3s 63ms/step - loss: 0.5325 - accuracy: 0.8370 - val_loss: 0.9435 - val_accuracy: 0.7549\n",
            "Epoch 7/35\n",
            "49/49 [==============================] - 3s 62ms/step - loss: 0.4906 - accuracy: 0.8588 - val_loss: 1.0658 - val_accuracy: 0.7578\n",
            "Epoch 8/35\n",
            "49/49 [==============================] - 3s 65ms/step - loss: 0.4264 - accuracy: 0.8851 - val_loss: 1.1781 - val_accuracy: 0.7564\n",
            "Epoch 9/35\n",
            "49/49 [==============================] - 3s 61ms/step - loss: 0.4058 - accuracy: 0.8902 - val_loss: 1.3555 - val_accuracy: 0.7549\n",
            "Epoch 10/35\n",
            "49/49 [==============================] - 3s 60ms/step - loss: 0.3505 - accuracy: 0.9127 - val_loss: 1.4200 - val_accuracy: 0.7504\n",
            "Epoch 11/35\n",
            "49/49 [==============================] - 3s 65ms/step - loss: 0.3312 - accuracy: 0.9172 - val_loss: 1.4831 - val_accuracy: 0.7534\n",
            "Epoch 12/35\n",
            "49/49 [==============================] - 3s 60ms/step - loss: 0.3443 - accuracy: 0.9140 - val_loss: 1.7426 - val_accuracy: 0.7728\n",
            "Epoch 13/35\n",
            "49/49 [==============================] - 3s 62ms/step - loss: 0.2910 - accuracy: 0.9275 - val_loss: 1.6580 - val_accuracy: 0.7444\n",
            "Epoch 14/35\n",
            "49/49 [==============================] - 3s 66ms/step - loss: 0.2773 - accuracy: 0.9332 - val_loss: 1.7453 - val_accuracy: 0.7623\n",
            "Epoch 15/35\n",
            "49/49 [==============================] - 3s 62ms/step - loss: 0.2654 - accuracy: 0.9345 - val_loss: 1.9167 - val_accuracy: 0.7459\n",
            "Epoch 16/35\n",
            "49/49 [==============================] - 3s 65ms/step - loss: 0.2686 - accuracy: 0.9345 - val_loss: 2.4230 - val_accuracy: 0.6891\n",
            "Epoch 17/35\n",
            "49/49 [==============================] - 3s 65ms/step - loss: 0.2807 - accuracy: 0.9320 - val_loss: 1.8353 - val_accuracy: 0.7578\n",
            "Epoch 18/35\n",
            "49/49 [==============================] - 3s 62ms/step - loss: 0.2980 - accuracy: 0.9268 - val_loss: 1.6976 - val_accuracy: 0.7429\n",
            "Epoch 19/35\n",
            "49/49 [==============================] - 3s 62ms/step - loss: 0.2999 - accuracy: 0.9268 - val_loss: 1.6572 - val_accuracy: 0.7638\n",
            "Epoch 20/35\n",
            "49/49 [==============================] - 3s 61ms/step - loss: 0.2869 - accuracy: 0.9307 - val_loss: 1.6615 - val_accuracy: 0.7578\n",
            "Epoch 21/35\n",
            "49/49 [==============================] - 3s 62ms/step - loss: 0.3079 - accuracy: 0.9249 - val_loss: 1.5035 - val_accuracy: 0.7324\n",
            "Epoch 22/35\n",
            "49/49 [==============================] - 3s 62ms/step - loss: 0.2730 - accuracy: 0.9352 - val_loss: 1.8026 - val_accuracy: 0.7578\n",
            "Epoch 23/35\n",
            "49/49 [==============================] - 3s 67ms/step - loss: 0.2736 - accuracy: 0.9345 - val_loss: 1.8964 - val_accuracy: 0.7504\n",
            "Epoch 24/35\n",
            "49/49 [==============================] - 3s 62ms/step - loss: 0.3044 - accuracy: 0.9243 - val_loss: 1.4742 - val_accuracy: 0.7384\n",
            "Epoch 25/35\n",
            "49/49 [==============================] - 3s 63ms/step - loss: 0.3210 - accuracy: 0.9230 - val_loss: 1.4268 - val_accuracy: 0.7564\n",
            "Epoch 26/35\n",
            "49/49 [==============================] - 3s 62ms/step - loss: 0.2966 - accuracy: 0.9288 - val_loss: 1.5758 - val_accuracy: 0.7564\n",
            "Epoch 27/35\n",
            "49/49 [==============================] - 3s 63ms/step - loss: 0.2739 - accuracy: 0.9339 - val_loss: 1.6779 - val_accuracy: 0.7623\n",
            "Epoch 28/35\n",
            "49/49 [==============================] - 3s 66ms/step - loss: 0.2586 - accuracy: 0.9365 - val_loss: 1.7125 - val_accuracy: 0.7608\n",
            "Epoch 29/35\n",
            "49/49 [==============================] - 3s 63ms/step - loss: 0.2674 - accuracy: 0.9365 - val_loss: 1.7145 - val_accuracy: 0.7593\n",
            "Epoch 30/35\n",
            "49/49 [==============================] - 3s 70ms/step - loss: 0.2584 - accuracy: 0.9365 - val_loss: 1.9878 - val_accuracy: 0.7578\n",
            "Epoch 31/35\n",
            "49/49 [==============================] - 3s 62ms/step - loss: 0.2517 - accuracy: 0.9358 - val_loss: 2.0551 - val_accuracy: 0.7623\n",
            "Epoch 32/35\n",
            "49/49 [==============================] - 3s 63ms/step - loss: 0.2634 - accuracy: 0.9365 - val_loss: 2.1183 - val_accuracy: 0.7623\n",
            "Epoch 33/35\n",
            "49/49 [==============================] - 3s 62ms/step - loss: 0.2587 - accuracy: 0.9365 - val_loss: 2.1928 - val_accuracy: 0.7638\n",
            "Epoch 34/35\n",
            "49/49 [==============================] - 3s 64ms/step - loss: 0.2683 - accuracy: 0.9332 - val_loss: 2.0339 - val_accuracy: 0.7593\n",
            "Epoch 35/35\n",
            "49/49 [==============================] - 3s 68ms/step - loss: 0.2591 - accuracy: 0.9358 - val_loss: 2.0393 - val_accuracy: 0.7743\n"
          ],
          "name": "stdout"
        }
      ]
    },
    {
      "cell_type": "code",
      "metadata": {
        "id": "mPgmlf_TEiS2"
      },
      "source": [
        "predictions = model5.predict(x_test)\n",
        "y_test_inv = enc.inverse_transform(y_test)\n",
        "pred_inv = enc.inverse_transform(np.around(predictions))"
      ],
      "execution_count": 133,
      "outputs": []
    },
    {
      "cell_type": "code",
      "metadata": {
        "colab": {
          "base_uri": "https://localhost:8080/"
        },
        "id": "bs1i2mS4Ek-9",
        "outputId": "b07ffcac-aeb8-4219-b1f1-526b53c9d149"
      },
      "source": [
        "confusion_matrix(y_test_inv,pred_inv)"
      ],
      "execution_count": 134,
      "outputs": [
        {
          "output_type": "execute_result",
          "data": {
            "text/plain": [
              "array([[ 10,   1,   0,   1,  34],\n",
              "       [  2,   0,   0,   1,  15],\n",
              "       [  1,   1,   1,   1,  19],\n",
              "       [  2,   0,   0,   2,  50],\n",
              "       [ 17,   2,   0,   9, 500]])"
            ]
          },
          "metadata": {
            "tags": []
          },
          "execution_count": 134
        }
      ]
    },
    {
      "cell_type": "code",
      "metadata": {
        "colab": {
          "base_uri": "https://localhost:8080/"
        },
        "id": "VgMfrIvpEnT-",
        "outputId": "50ed37ec-08a2-4037-8a5d-cea334579460"
      },
      "source": [
        "accuracy_score(y_test_inv,pred_inv)"
      ],
      "execution_count": 135,
      "outputs": [
        {
          "output_type": "execute_result",
          "data": {
            "text/plain": [
              "0.7668161434977578"
            ]
          },
          "metadata": {
            "tags": []
          },
          "execution_count": 135
        }
      ]
    },
    {
      "cell_type": "code",
      "metadata": {
        "colab": {
          "base_uri": "https://localhost:8080/"
        },
        "id": "rxvOSAVjEpUp",
        "outputId": "979143f9-e649-479f-a7ba-fb82f66a4f12"
      },
      "source": [
        "print(classification_report(y_test_inv,pred_inv))"
      ],
      "execution_count": 136,
      "outputs": [
        {
          "output_type": "stream",
          "text": [
            "              precision    recall  f1-score   support\n",
            "\n",
            "           1       0.31      0.22      0.26        46\n",
            "           2       0.00      0.00      0.00        18\n",
            "           3       1.00      0.04      0.08        23\n",
            "           4       0.14      0.04      0.06        54\n",
            "           5       0.81      0.95      0.87       528\n",
            "\n",
            "    accuracy                           0.77       669\n",
            "   macro avg       0.45      0.25      0.25       669\n",
            "weighted avg       0.71      0.77      0.71       669\n",
            "\n"
          ],
          "name": "stdout"
        }
      ]
    },
    {
      "cell_type": "markdown",
      "metadata": {
        "id": "hrryQ3E7FC-K"
      },
      "source": [
        "By changing hyperparameters, no major change is observed in accuracy, precision and recall."
      ]
    }
  ]
}