{
 "cells": [
  {
   "cell_type": "markdown",
   "metadata": {
    "id": "4tg0deYVKQHl"
   },
   "source": [
    "# Project -2 : Build NLP Classifier to detect whether a sentence is sarcastic or not, using Bidirectional LSTM"
   ]
  },
  {
   "cell_type": "code",
   "execution_count": 1,
   "metadata": {
    "colab": {
     "base_uri": "https://localhost:8080/"
    },
    "id": "6hr4usxSKmqX",
    "outputId": "0a2ec4aa-3ec3-43be-e6c3-bd8d6b458667"
   },
   "outputs": [
    {
     "name": "stdout",
     "output_type": "stream",
     "text": [
      "Mounted at /content/drive\n"
     ]
    }
   ],
   "source": [
    "from google.colab import drive\n",
    "drive.mount('/content/drive')"
   ]
  },
  {
   "cell_type": "markdown",
   "metadata": {
    "id": "Mv3Ww1A5Rbwx"
   },
   "source": [
    "# Refrences \n",
    "1) https://github.com/rishabhmisra/News-Headlines-Dataset-For-Sarcasm-Detection"
   ]
  },
  {
   "cell_type": "code",
   "execution_count": 2,
   "metadata": {
    "id": "yZuug3ybRhMr"
   },
   "outputs": [],
   "source": [
    "import pandas as pd\n",
    "import numpy as np\n",
    "import tensorflow as tf\n",
    "import matplotlib.pyplot as plt\n",
    "%matplotlib inline\n",
    "from matplotlib import pyplot"
   ]
  },
  {
   "cell_type": "markdown",
   "metadata": {
    "id": "RvoigV7NKwJF"
   },
   "source": [
    "# Read and explore the dat"
   ]
  },
  {
   "cell_type": "code",
   "execution_count": 3,
   "metadata": {
    "colab": {
     "base_uri": "https://localhost:8080/"
    },
    "id": "IuTpRcOMVYK0",
    "outputId": "6d227bf0-bbbd-4ea6-b92d-c027b9b9bdd2"
   },
   "outputs": [
    {
     "name": "stdout",
     "output_type": "stream",
     "text": [
      "/content/drive/MyDrive/LablFiles/SequenceNLP_Internal/Project_2\n"
     ]
    }
   ],
   "source": [
    "cd '/content/drive/MyDrive/LablFiles/SequenceNLP_Internal/Project_2/'"
   ]
  },
  {
   "cell_type": "code",
   "execution_count": 4,
   "metadata": {
    "id": "d-jxAOi7VLC4"
   },
   "outputs": [],
   "source": [
    "import json"
   ]
  },
  {
   "cell_type": "code",
   "execution_count": 5,
   "metadata": {
    "id": "pGQfwX1_Yw2e"
   },
   "outputs": [],
   "source": [
    "data = []\n",
    "for line in open('Sarcasm_Headlines_Dataset.json', 'r'):\n",
    "    data.append(json.loads(line))"
   ]
  },
  {
   "cell_type": "code",
   "execution_count": 6,
   "metadata": {
    "id": "2hBQXyIVY6gZ"
   },
   "outputs": [],
   "source": [
    "df = pd.DataFrame(data)"
   ]
  },
  {
   "cell_type": "code",
   "execution_count": 7,
   "metadata": {
    "colab": {
     "base_uri": "https://localhost:8080/",
     "height": 142
    },
    "id": "zyU8OaTrR6oA",
    "outputId": "2d36c866-f280-46e6-ca5b-8ad9bf43ca45"
   },
   "outputs": [
    {
     "data": {
      "text/html": [
       "<div>\n",
       "<style scoped>\n",
       "    .dataframe tbody tr th:only-of-type {\n",
       "        vertical-align: middle;\n",
       "    }\n",
       "\n",
       "    .dataframe tbody tr th {\n",
       "        vertical-align: top;\n",
       "    }\n",
       "\n",
       "    .dataframe thead th {\n",
       "        text-align: right;\n",
       "    }\n",
       "</style>\n",
       "<table border=\"1\" class=\"dataframe\">\n",
       "  <thead>\n",
       "    <tr style=\"text-align: right;\">\n",
       "      <th></th>\n",
       "      <th>is_sarcastic</th>\n",
       "      <th>headline</th>\n",
       "      <th>article_link</th>\n",
       "    </tr>\n",
       "  </thead>\n",
       "  <tbody>\n",
       "    <tr>\n",
       "      <th>0</th>\n",
       "      <td>1</td>\n",
       "      <td>thirtysomething scientists unveil doomsday clo...</td>\n",
       "      <td>https://www.theonion.com/thirtysomething-scien...</td>\n",
       "    </tr>\n",
       "    <tr>\n",
       "      <th>1</th>\n",
       "      <td>0</td>\n",
       "      <td>dem rep. totally nails why congress is falling...</td>\n",
       "      <td>https://www.huffingtonpost.com/entry/donna-edw...</td>\n",
       "    </tr>\n",
       "    <tr>\n",
       "      <th>2</th>\n",
       "      <td>0</td>\n",
       "      <td>eat your veggies: 9 deliciously different recipes</td>\n",
       "      <td>https://www.huffingtonpost.com/entry/eat-your-...</td>\n",
       "    </tr>\n",
       "  </tbody>\n",
       "</table>\n",
       "</div>"
      ],
      "text/plain": [
       "   is_sarcastic  ...                                       article_link\n",
       "0             1  ...  https://www.theonion.com/thirtysomething-scien...\n",
       "1             0  ...  https://www.huffingtonpost.com/entry/donna-edw...\n",
       "2             0  ...  https://www.huffingtonpost.com/entry/eat-your-...\n",
       "\n",
       "[3 rows x 3 columns]"
      ]
     },
     "execution_count": 7,
     "metadata": {
      "tags": []
     },
     "output_type": "execute_result"
    }
   ],
   "source": [
    "df.head(3)"
   ]
  },
  {
   "cell_type": "code",
   "execution_count": 8,
   "metadata": {
    "id": "V_6G-a4Oab3F"
   },
   "outputs": [],
   "source": [
    "#delete article_link field as it is not required\n",
    "df.drop(columns=['article_link'], inplace=True)"
   ]
  },
  {
   "cell_type": "code",
   "execution_count": 9,
   "metadata": {
    "colab": {
     "base_uri": "https://localhost:8080/",
     "height": 111
    },
    "id": "hUO3aZq5aylY",
    "outputId": "b96029f4-2892-405a-d13b-29077d667f0e"
   },
   "outputs": [
    {
     "data": {
      "text/html": [
       "<div>\n",
       "<style scoped>\n",
       "    .dataframe tbody tr th:only-of-type {\n",
       "        vertical-align: middle;\n",
       "    }\n",
       "\n",
       "    .dataframe tbody tr th {\n",
       "        vertical-align: top;\n",
       "    }\n",
       "\n",
       "    .dataframe thead th {\n",
       "        text-align: right;\n",
       "    }\n",
       "</style>\n",
       "<table border=\"1\" class=\"dataframe\">\n",
       "  <thead>\n",
       "    <tr style=\"text-align: right;\">\n",
       "      <th></th>\n",
       "      <th>is_sarcastic</th>\n",
       "      <th>headline</th>\n",
       "    </tr>\n",
       "  </thead>\n",
       "  <tbody>\n",
       "    <tr>\n",
       "      <th>0</th>\n",
       "      <td>1</td>\n",
       "      <td>thirtysomething scientists unveil doomsday clo...</td>\n",
       "    </tr>\n",
       "    <tr>\n",
       "      <th>1</th>\n",
       "      <td>0</td>\n",
       "      <td>dem rep. totally nails why congress is falling...</td>\n",
       "    </tr>\n",
       "  </tbody>\n",
       "</table>\n",
       "</div>"
      ],
      "text/plain": [
       "   is_sarcastic                                           headline\n",
       "0             1  thirtysomething scientists unveil doomsday clo...\n",
       "1             0  dem rep. totally nails why congress is falling..."
      ]
     },
     "execution_count": 9,
     "metadata": {
      "tags": []
     },
     "output_type": "execute_result"
    }
   ],
   "source": [
    "df.head(2)"
   ]
  },
  {
   "cell_type": "markdown",
   "metadata": {
    "id": "dq4WANdoOIjr"
   },
   "source": [
    "# Data Analyses"
   ]
  },
  {
   "cell_type": "code",
   "execution_count": 10,
   "metadata": {
    "colab": {
     "base_uri": "https://localhost:8080/"
    },
    "id": "9hgM3N3KOPel",
    "outputId": "e623f536-1355-4c22-afc0-d165dceec0ac"
   },
   "outputs": [
    {
     "name": "stdout",
     "output_type": "stream",
     "text": [
      "Number of records 28619\n",
      "No of labels [0 1]\n"
     ]
    }
   ],
   "source": [
    "print(\"Number of records\", df.shape[0])\n",
    "print(\"No of labels\", np.unique(df['is_sarcastic']))"
   ]
  },
  {
   "cell_type": "markdown",
   "metadata": {
    "id": "o1t25B7ybo61"
   },
   "source": [
    "Lets check number of words and no of characters each records to understand data set"
   ]
  },
  {
   "cell_type": "code",
   "execution_count": 11,
   "metadata": {
    "id": "5-KS5iDcOztk"
   },
   "outputs": [],
   "source": [
    "df['Noofwords'] = df['headline'].apply(lambda x : len(x.split(' ')) )"
   ]
  },
  {
   "cell_type": "code",
   "execution_count": 12,
   "metadata": {
    "id": "5t20HkAAcgGW"
   },
   "outputs": [],
   "source": [
    "df['Noofchars'] = df['headline'].apply(lambda x : len(x))"
   ]
  },
  {
   "cell_type": "code",
   "execution_count": 13,
   "metadata": {
    "colab": {
     "base_uri": "https://localhost:8080/",
     "height": 173
    },
    "id": "7zReqSuEQ4ZZ",
    "outputId": "cdc26e69-ae4f-4815-f114-cfe04d6cec12"
   },
   "outputs": [
    {
     "data": {
      "text/html": [
       "<div>\n",
       "<style scoped>\n",
       "    .dataframe tbody tr th:only-of-type {\n",
       "        vertical-align: middle;\n",
       "    }\n",
       "\n",
       "    .dataframe tbody tr th {\n",
       "        vertical-align: top;\n",
       "    }\n",
       "\n",
       "    .dataframe thead th {\n",
       "        text-align: right;\n",
       "    }\n",
       "</style>\n",
       "<table border=\"1\" class=\"dataframe\">\n",
       "  <thead>\n",
       "    <tr style=\"text-align: right;\">\n",
       "      <th></th>\n",
       "      <th>is_sarcastic</th>\n",
       "      <th>headline</th>\n",
       "      <th>Noofwords</th>\n",
       "      <th>Noofchars</th>\n",
       "    </tr>\n",
       "  </thead>\n",
       "  <tbody>\n",
       "    <tr>\n",
       "      <th>9892</th>\n",
       "      <td>1</td>\n",
       "      <td>man keeping running total of how many people i...</td>\n",
       "      <td>15</td>\n",
       "      <td>75</td>\n",
       "    </tr>\n",
       "    <tr>\n",
       "      <th>9928</th>\n",
       "      <td>0</td>\n",
       "      <td>anne hathaway to moms: 'there is no shame in g...</td>\n",
       "      <td>13</td>\n",
       "      <td>77</td>\n",
       "    </tr>\n",
       "    <tr>\n",
       "      <th>24059</th>\n",
       "      <td>1</td>\n",
       "      <td>new study finds running for 20 minutes each da...</td>\n",
       "      <td>16</td>\n",
       "      <td>83</td>\n",
       "    </tr>\n",
       "    <tr>\n",
       "      <th>12771</th>\n",
       "      <td>0</td>\n",
       "      <td>pissed off from a lack of sleep? you might be ...</td>\n",
       "      <td>11</td>\n",
       "      <td>55</td>\n",
       "    </tr>\n",
       "  </tbody>\n",
       "</table>\n",
       "</div>"
      ],
      "text/plain": [
       "       is_sarcastic  ... Noofchars\n",
       "9892              1  ...        75\n",
       "9928              0  ...        77\n",
       "24059             1  ...        83\n",
       "12771             0  ...        55\n",
       "\n",
       "[4 rows x 4 columns]"
      ]
     },
     "execution_count": 13,
     "metadata": {
      "tags": []
     },
     "output_type": "execute_result"
    }
   ],
   "source": [
    "df.sample(4)"
   ]
  },
  {
   "cell_type": "code",
   "execution_count": 14,
   "metadata": {
    "colab": {
     "base_uri": "https://localhost:8080/",
     "height": 142
    },
    "id": "1Z7GR-0RdX9R",
    "outputId": "7afe29cb-0abf-4993-c677-de1b1e20ee82"
   },
   "outputs": [
    {
     "data": {
      "text/html": [
       "<div>\n",
       "<style scoped>\n",
       "    .dataframe tbody tr th:only-of-type {\n",
       "        vertical-align: middle;\n",
       "    }\n",
       "\n",
       "    .dataframe tbody tr th {\n",
       "        vertical-align: top;\n",
       "    }\n",
       "\n",
       "    .dataframe thead th {\n",
       "        text-align: right;\n",
       "    }\n",
       "</style>\n",
       "<table border=\"1\" class=\"dataframe\">\n",
       "  <thead>\n",
       "    <tr style=\"text-align: right;\">\n",
       "      <th></th>\n",
       "      <th>count</th>\n",
       "      <th>mean</th>\n",
       "      <th>std</th>\n",
       "      <th>min</th>\n",
       "      <th>25%</th>\n",
       "      <th>50%</th>\n",
       "      <th>75%</th>\n",
       "      <th>max</th>\n",
       "    </tr>\n",
       "  </thead>\n",
       "  <tbody>\n",
       "    <tr>\n",
       "      <th>is_sarcastic</th>\n",
       "      <td>28619.0</td>\n",
       "      <td>0.476397</td>\n",
       "      <td>0.499451</td>\n",
       "      <td>0.0</td>\n",
       "      <td>0.0</td>\n",
       "      <td>0.0</td>\n",
       "      <td>1.0</td>\n",
       "      <td>1.0</td>\n",
       "    </tr>\n",
       "    <tr>\n",
       "      <th>Noofwords</th>\n",
       "      <td>28619.0</td>\n",
       "      <td>10.051854</td>\n",
       "      <td>3.390939</td>\n",
       "      <td>2.0</td>\n",
       "      <td>8.0</td>\n",
       "      <td>10.0</td>\n",
       "      <td>12.0</td>\n",
       "      <td>151.0</td>\n",
       "    </tr>\n",
       "    <tr>\n",
       "      <th>Noofchars</th>\n",
       "      <td>28619.0</td>\n",
       "      <td>62.308571</td>\n",
       "      <td>20.726483</td>\n",
       "      <td>7.0</td>\n",
       "      <td>49.0</td>\n",
       "      <td>62.0</td>\n",
       "      <td>75.0</td>\n",
       "      <td>926.0</td>\n",
       "    </tr>\n",
       "  </tbody>\n",
       "</table>\n",
       "</div>"
      ],
      "text/plain": [
       "                count       mean        std  min   25%   50%   75%    max\n",
       "is_sarcastic  28619.0   0.476397   0.499451  0.0   0.0   0.0   1.0    1.0\n",
       "Noofwords     28619.0  10.051854   3.390939  2.0   8.0  10.0  12.0  151.0\n",
       "Noofchars     28619.0  62.308571  20.726483  7.0  49.0  62.0  75.0  926.0"
      ]
     },
     "execution_count": 14,
     "metadata": {
      "tags": []
     },
     "output_type": "execute_result"
    }
   ],
   "source": [
    "df.describe().transpose()"
   ]
  },
  {
   "cell_type": "code",
   "execution_count": 15,
   "metadata": {
    "colab": {
     "base_uri": "https://localhost:8080/"
    },
    "id": "eguQ_S5Od3c6",
    "outputId": "1bcc2c2c-8e02-4ab7-d7f8-4d8de7c31f8e"
   },
   "outputs": [
    {
     "data": {
      "text/plain": [
       "0    14985\n",
       "1    13634\n",
       "Name: is_sarcastic, dtype: int64"
      ]
     },
     "execution_count": 15,
     "metadata": {
      "tags": []
     },
     "output_type": "execute_result"
    }
   ],
   "source": [
    "df['is_sarcastic'].value_counts()"
   ]
  },
  {
   "cell_type": "code",
   "execution_count": 16,
   "metadata": {
    "colab": {
     "base_uri": "https://localhost:8080/"
    },
    "id": "PIFU_kAago-I",
    "outputId": "376aca49-6606-4826-fe18-f17fcf82f83d"
   },
   "outputs": [
    {
     "data": {
      "text/plain": [
       "0    0.523603\n",
       "1    0.476397\n",
       "Name: is_sarcastic, dtype: float64"
      ]
     },
     "execution_count": 16,
     "metadata": {
      "tags": []
     },
     "output_type": "execute_result"
    }
   ],
   "source": [
    "df['is_sarcastic'].value_counts()/len(df['is_sarcastic'])"
   ]
  },
  {
   "cell_type": "code",
   "execution_count": 17,
   "metadata": {
    "colab": {
     "base_uri": "https://localhost:8080/",
     "height": 279
    },
    "id": "pkjV9X-7d_4C",
    "outputId": "f6d57f96-e7e5-4911-d1c2-7ce3f1faf020"
   },
   "outputs": [
    {
     "data": {
      "text/plain": [
       "<matplotlib.axes._subplots.AxesSubplot at 0x7fa0a41775d0>"
      ]
     },
     "execution_count": 17,
     "metadata": {
      "tags": []
     },
     "output_type": "execute_result"
    },
    {
     "data": {
      "image/png": "[encoded data removed]",
      "text/plain": [
       "<Figure size 432x288 with 1 Axes>"
      ]
     },
     "metadata": {
      "needs_background": "light",
      "tags": []
     },
     "output_type": "display_data"
    }
   ],
   "source": [
    "df['is_sarcastic'].value_counts().plot(kind='bar')"
   ]
  },
  {
   "cell_type": "code",
   "execution_count": 18,
   "metadata": {
    "colab": {
     "base_uri": "https://localhost:8080/"
    },
    "id": "RPZ_6zMwT9pA",
    "outputId": "c2281b91-67e8-4196-b417-c8bece3df8ad"
   },
   "outputs": [
    {
     "data": {
      "text/plain": [
       "is_sarcastic    0\n",
       "headline        0\n",
       "Noofwords       0\n",
       "Noofchars       0\n",
       "dtype: int64"
      ]
     },
     "execution_count": 18,
     "metadata": {
      "tags": []
     },
     "output_type": "execute_result"
    }
   ],
   "source": [
    "df.isna().sum()"
   ]
  },
  {
   "cell_type": "markdown",
   "metadata": {
    "id": "m5y3eStvgSgZ"
   },
   "source": [
    "Observations on data....\n",
    "1) The data is reasonably balanced in terms of number of target label i.e. sarcastic (47% of records) and non sarcastic records(52% of records)\n",
    "2) No of words - 75% records have total word count <=12\n",
    "3) No null records found"
   ]
  },
  {
   "cell_type": "markdown",
   "metadata": {
    "id": "yZTQMNMTU4nb"
   },
   "source": [
    "Lets do tokenisation and see word count, frequency of words etc"
   ]
  },
  {
   "cell_type": "code",
   "execution_count": 19,
   "metadata": {
    "id": "WuIsCb5VU3tA"
   },
   "outputs": [],
   "source": [
    "import tensorflow as tf"
   ]
  },
  {
   "cell_type": "code",
   "execution_count": 20,
   "metadata": {
    "id": "NB8ZJPnRVClQ"
   },
   "outputs": [],
   "source": [
    "token = tf.keras.preprocessing.text.Tokenizer()"
   ]
  },
  {
   "cell_type": "code",
   "execution_count": 21,
   "metadata": {
    "id": "ABKY-c8IVWRw"
   },
   "outputs": [],
   "source": [
    "token.fit_on_texts(df['headline'])"
   ]
  },
  {
   "cell_type": "code",
   "execution_count": 22,
   "metadata": {
    "colab": {
     "base_uri": "https://localhost:8080/"
    },
    "id": "WBrvnNlAVdFo",
    "outputId": "97312e1f-5646-406a-afcd-b08c84b3a538"
   },
   "outputs": [
    {
     "name": "stdout",
     "output_type": "stream",
     "text": [
      "No of words in the dataset - 30884\n"
     ]
    }
   ],
   "source": [
    "print(\"No of words in the dataset -\", len(token.word_index))"
   ]
  },
  {
   "cell_type": "markdown",
   "metadata": {
    "id": "bPoROcv5V6k8"
   },
   "source": [
    "Lets see word frequency...."
   ]
  },
  {
   "cell_type": "code",
   "execution_count": 23,
   "metadata": {
    "id": "wmyp8X_JWRqa"
   },
   "outputs": [],
   "source": [
    "dfwordfre = pd.DataFrame.from_dict(token.word_counts,orient=\"index\",columns=['WordCount'])"
   ]
  },
  {
   "cell_type": "code",
   "execution_count": 24,
   "metadata": {
    "colab": {
     "base_uri": "https://localhost:8080/",
     "height": 419
    },
    "id": "NMNJrydxWgRQ",
    "outputId": "4de83264-159f-48b7-8d25-946599a7de89"
   },
   "outputs": [
    {
     "data": {
      "text/html": [
       "<div>\n",
       "<style scoped>\n",
       "    .dataframe tbody tr th:only-of-type {\n",
       "        vertical-align: middle;\n",
       "    }\n",
       "\n",
       "    .dataframe tbody tr th {\n",
       "        vertical-align: top;\n",
       "    }\n",
       "\n",
       "    .dataframe thead th {\n",
       "        text-align: right;\n",
       "    }\n",
       "</style>\n",
       "<table border=\"1\" class=\"dataframe\">\n",
       "  <thead>\n",
       "    <tr style=\"text-align: right;\">\n",
       "      <th></th>\n",
       "      <th>WordCount</th>\n",
       "    </tr>\n",
       "  </thead>\n",
       "  <tbody>\n",
       "    <tr>\n",
       "      <th>to</th>\n",
       "      <td>9096</td>\n",
       "    </tr>\n",
       "    <tr>\n",
       "      <th>of</th>\n",
       "      <td>6292</td>\n",
       "    </tr>\n",
       "    <tr>\n",
       "      <th>the</th>\n",
       "      <td>5313</td>\n",
       "    </tr>\n",
       "    <tr>\n",
       "      <th>in</th>\n",
       "      <td>4586</td>\n",
       "    </tr>\n",
       "    <tr>\n",
       "      <th>for</th>\n",
       "      <td>3639</td>\n",
       "    </tr>\n",
       "    <tr>\n",
       "      <th>...</th>\n",
       "      <td>...</td>\n",
       "    </tr>\n",
       "    <tr>\n",
       "      <th>estrada</th>\n",
       "      <td>1</td>\n",
       "    </tr>\n",
       "    <tr>\n",
       "      <th>tapping</th>\n",
       "      <td>1</td>\n",
       "    </tr>\n",
       "    <tr>\n",
       "      <th>quaaludes</th>\n",
       "      <td>1</td>\n",
       "    </tr>\n",
       "    <tr>\n",
       "      <th>quaalude</th>\n",
       "      <td>1</td>\n",
       "    </tr>\n",
       "    <tr>\n",
       "      <th>orbiting</th>\n",
       "      <td>1</td>\n",
       "    </tr>\n",
       "  </tbody>\n",
       "</table>\n",
       "<p>30884 rows × 1 columns</p>\n",
       "</div>"
      ],
      "text/plain": [
       "           WordCount\n",
       "to              9096\n",
       "of              6292\n",
       "the             5313\n",
       "in              4586\n",
       "for             3639\n",
       "...              ...\n",
       "estrada            1\n",
       "tapping            1\n",
       "quaaludes          1\n",
       "quaalude           1\n",
       "orbiting           1\n",
       "\n",
       "[30884 rows x 1 columns]"
      ]
     },
     "execution_count": 24,
     "metadata": {
      "tags": []
     },
     "output_type": "execute_result"
    }
   ],
   "source": [
    "dfwordfre.sort_values('WordCount',ascending=False)"
   ]
  },
  {
   "cell_type": "code",
   "execution_count": 25,
   "metadata": {
    "colab": {
     "base_uri": "https://localhost:8080/"
    },
    "id": "y73jQmjkWsv0",
    "outputId": "54eb8445-7a08-487a-a5bb-ff9a1bbd4f03"
   },
   "outputs": [
    {
     "name": "stdout",
     "output_type": "stream",
     "text": [
      "No of words having frequency <=1 14882\n",
      "No of words having frequency <=2 19459\n",
      "No of words having frequency <=3 21865\n",
      "No of words having frequency <=4 23412\n",
      "No of words having frequency <=5 24468\n",
      "No of words having frequency <=6 25221\n",
      "No of words having frequency <=7 25823\n",
      "No of words having frequency <=8 26306\n"
     ]
    }
   ],
   "source": [
    "print(\"No of words having frequency <=1\", len(dfwordfre[dfwordfre['WordCount'] <=1]))\n",
    "print(\"No of words having frequency <=2\", len(dfwordfre[dfwordfre['WordCount'] <=2]))\n",
    "print(\"No of words having frequency <=3\", len(dfwordfre[dfwordfre['WordCount'] <=3]))\n",
    "print(\"No of words having frequency <=4\", len(dfwordfre[dfwordfre['WordCount'] <=4]))\n",
    "print(\"No of words having frequency <=5\", len(dfwordfre[dfwordfre['WordCount'] <=5]))\n",
    "print(\"No of words having frequency <=6\", len(dfwordfre[dfwordfre['WordCount'] <=6]))\n",
    "print(\"No of words having frequency <=7\", len(dfwordfre[dfwordfre['WordCount'] <=7]))\n",
    "print(\"No of words having frequency <=8\", len(dfwordfre[dfwordfre['WordCount'] <=8]))"
   ]
  },
  {
   "cell_type": "markdown",
   "metadata": {
    "id": "IXAphUSRK5MU"
   },
   "source": [
    "# Build Model"
   ]
  },
  {
   "cell_type": "code",
   "execution_count": 26,
   "metadata": {
    "id": "Npiw0sqob3qp"
   },
   "outputs": [],
   "source": [
    "# Keep only required fields in the dataset\n",
    "dffinal = df[['is_sarcastic','headline']]"
   ]
  },
  {
   "cell_type": "code",
   "execution_count": 27,
   "metadata": {
    "colab": {
     "base_uri": "https://localhost:8080/"
    },
    "id": "1ETkImJ5cJMp",
    "outputId": "402d88c8-1180-4396-964b-c91ba07a7185"
   },
   "outputs": [
    {
     "data": {
      "text/plain": [
       "is_sarcastic     int64\n",
       "headline        object\n",
       "dtype: object"
      ]
     },
     "execution_count": 27,
     "metadata": {
      "tags": []
     },
     "output_type": "execute_result"
    }
   ],
   "source": [
    "dffinal.dtypes"
   ]
  },
  {
   "cell_type": "code",
   "execution_count": 28,
   "metadata": {
    "colab": {
     "base_uri": "https://localhost:8080/"
    },
    "id": "Km8bZodXcMma",
    "outputId": "7e2fafc0-bcd9-48ee-b6a4-4a8dc36bee75"
   },
   "outputs": [
    {
     "data": {
      "text/plain": [
       "(28619, 2)"
      ]
     },
     "execution_count": 28,
     "metadata": {
      "tags": []
     },
     "output_type": "execute_result"
    }
   ],
   "source": [
    "dffinal.shape"
   ]
  },
  {
   "cell_type": "code",
   "execution_count": 29,
   "metadata": {
    "id": "VebYoWjDQE0f"
   },
   "outputs": [],
   "source": [
    " # Lets condier top 10,000 frequently words from the data for model building\n",
    "max_features = 10000             \n",
    "# In the above section we have seen 75% records have word count <=12...So I am considering max word count 12\n",
    "maxlen = 40            \n",
    "embedding_size = 50"
   ]
  },
  {
   "cell_type": "code",
   "execution_count": 30,
   "metadata": {
    "id": "rdMNgte2zsNL"
   },
   "outputs": [],
   "source": [
    "X= dffinal['headline']\n",
    "Y = dffinal['is_sarcastic']"
   ]
  },
  {
   "cell_type": "code",
   "execution_count": 31,
   "metadata": {
    "id": "H5YPUgxebjdl"
   },
   "outputs": [],
   "source": [
    "token = tf.keras.preprocessing.text.Tokenizer(num_words=max_features)\n",
    "token.fit_on_texts(X)"
   ]
  },
  {
   "cell_type": "code",
   "execution_count": 32,
   "metadata": {
    "id": "xZh1Gbxwfdix"
   },
   "outputs": [],
   "source": [
    "X = token.texts_to_sequences(X)"
   ]
  },
  {
   "cell_type": "markdown",
   "metadata": {
    "id": "7YbBmcpLV92g"
   },
   "source": [
    "Lets do padding"
   ]
  },
  {
   "cell_type": "code",
   "execution_count": 33,
   "metadata": {
    "id": "MbB0C7BAVyKX"
   },
   "outputs": [],
   "source": [
    "from tensorflow.keras.preprocessing.sequence import pad_sequences"
   ]
  },
  {
   "cell_type": "code",
   "execution_count": 34,
   "metadata": {
    "id": "ra_QQJefV_uM"
   },
   "outputs": [],
   "source": [
    "Xpadded = tf.keras.preprocessing.sequence.pad_sequences(X,maxlen=maxlen,padding='pre',truncating='post')"
   ]
  },
  {
   "cell_type": "markdown",
   "metadata": {
    "id": "tVZ5MsKmWoLX"
   },
   "source": [
    "The data is related to news website...thus the words used are very common/generic for experessing sarcastic and non sarcastic sentiment\n",
    "\n",
    "So lets go with pre built embedding models for word embedding...such as glove as it is built with vast public data source"
   ]
  },
  {
   "cell_type": "code",
   "execution_count": 35,
   "metadata": {
    "id": "drfMIQHZWYCx"
   },
   "outputs": [],
   "source": [
    "# I am using file stored in my google drive\n",
    "embeddingFile = '/content/drive/MyDrive/LablFiles/SequenceNLP_Internal/glove.6B.50d.txt'"
   ]
  },
  {
   "cell_type": "code",
   "execution_count": 36,
   "metadata": {
    "id": "uH3wUFV6Xfmt"
   },
   "outputs": [],
   "source": [
    "embeddingdic = {}\n",
    "\n",
    "for f in open(embeddingFile) :\n",
    "  word = f.split(\" \")[0]\n",
    "  embededval = f.split(\" \")[1:]\n",
    "  embededval = np.asarray(embededval,dtype='float32')\n",
    "  embeddingdic[word] =embededval"
   ]
  },
  {
   "cell_type": "code",
   "execution_count": 37,
   "metadata": {
    "colab": {
     "base_uri": "https://localhost:8080/"
    },
    "id": "aleKzyGMYPad",
    "outputId": "8f02a42c-ced7-4413-e69e-dd2a24895498"
   },
   "outputs": [
    {
     "data": {
      "text/plain": [
       "400000"
      ]
     },
     "execution_count": 37,
     "metadata": {
      "tags": []
     },
     "output_type": "execute_result"
    }
   ],
   "source": [
    "len(embeddingdic)"
   ]
  },
  {
   "cell_type": "markdown",
   "metadata": {
    "id": "-V1kpSLTZTFh"
   },
   "source": [
    "Lets check words randomly from the data set and check if they exists in embedding matrix"
   ]
  },
  {
   "cell_type": "code",
   "execution_count": 44,
   "metadata": {
    "colab": {
     "base_uri": "https://localhost:8080/"
    },
    "id": "PNsgfHkzYQay",
    "outputId": "fc52da51-73e8-4eff-b564-baf82143688d"
   },
   "outputs": [
    {
     "data": {
      "text/plain": [
       "array([-0.064624,  0.43162 , -1.5065  , -0.086348,  0.76953 ,  1.5277  ,\n",
       "       -0.6872  , -0.68823 ,  0.23599 , -0.040826, -0.12382 , -0.64217 ,\n",
       "        0.5358  ,  0.79315 ,  0.58661 , -1.0421  , -0.093324, -0.21653 ,\n",
       "        0.18978 ,  0.11308 , -0.12066 ,  1.0616  , -0.30056 ,  1.4916  ,\n",
       "       -0.35642 , -0.68397 , -0.34435 , -0.72821 , -0.56614 , -0.59494 ,\n",
       "        1.0294  ,  0.7847  , -0.51818 , -1.0029  , -1.712   , -0.8627  ,\n",
       "       -0.59624 , -1.3236  , -0.48638 , -0.49299 , -0.014158, -0.38806 ,\n",
       "        0.34215 ,  0.62086 ,  0.24643 , -0.73079 , -0.56063 , -0.77281 ,\n",
       "       -0.15972 ,  0.79533 ], dtype=float32)"
      ]
     },
     "execution_count": 44,
     "metadata": {
      "tags": []
     },
     "output_type": "execute_result"
    }
   ],
   "source": [
    "embeddingdic['lesbian']"
   ]
  },
  {
   "cell_type": "code",
   "execution_count": 45,
   "metadata": {
    "colab": {
     "base_uri": "https://localhost:8080/"
    },
    "id": "3r6CdM_nYS1p",
    "outputId": "8704b0b7-fa3b-4ce0-8129-649ea8d8425d"
   },
   "outputs": [
    {
     "data": {
      "text/plain": [
       "array([ 1.0445e-02,  1.1589e-01,  8.6453e-01, -3.1331e-01,  9.0984e-01,\n",
       "        9.6867e-01, -1.9005e-01, -1.0643e-01,  3.1357e-02, -1.3212e-01,\n",
       "       -5.0441e-01, -3.7681e-01, -1.4322e-01,  6.5542e-01,  9.3749e-02,\n",
       "       -1.6938e-01,  1.5793e-01,  5.3349e-01, -6.8024e-01, -1.4736e-01,\n",
       "       -1.1440e-01,  5.5359e-01,  6.0991e-01,  2.5012e-01,  7.4156e-01,\n",
       "       -5.0437e-01,  6.7438e-01,  3.7927e-01,  6.4163e-01, -5.2942e-01,\n",
       "        9.6961e-01, -2.1856e-01,  8.9965e-02,  2.3869e-01,  1.2944e-01,\n",
       "        6.7146e-01, -3.2667e-01,  2.4360e-01,  1.7480e-01, -6.4635e-01,\n",
       "        1.5126e-01,  1.8167e-01, -1.1395e-03, -5.1748e-01,  1.4063e+00,\n",
       "       -5.2612e-01,  1.0988e+00, -8.6113e-01,  3.8733e-01,  2.9969e-01],\n",
       "      dtype=float32)"
      ]
     },
     "execution_count": 45,
     "metadata": {
      "tags": []
     },
     "output_type": "execute_result"
    }
   ],
   "source": [
    "embeddingdic['shoots']"
   ]
  },
  {
   "cell_type": "code",
   "execution_count": 46,
   "metadata": {
    "colab": {
     "base_uri": "https://localhost:8080/"
    },
    "id": "9_ayxo_KYflR",
    "outputId": "1e04ae9f-eb7e-4a07-c527-d4ba432f99b6"
   },
   "outputs": [
    {
     "data": {
      "text/plain": [
       "array([ 1.4703   , -0.9337   ,  0.51369  , -0.19082  ,  0.50227  ,\n",
       "        0.13241  ,  0.12726  ,  0.63662  , -0.13905  , -0.32585  ,\n",
       "       -0.46345  , -0.91213  , -0.88935  , -0.023272 , -0.48632  ,\n",
       "       -0.22256  ,  0.077578 , -0.21413  , -1.7487   ,  0.81504  ,\n",
       "       -0.25526  ,  0.61326  ,  0.097635 ,  0.0040341,  0.02032  ,\n",
       "       -2.2944   , -0.11007  , -0.12472  ,  0.85396  ,  0.13095  ,\n",
       "        2.7334   ,  0.020801 , -0.8306   , -0.52641  ,  0.35823  ,\n",
       "        0.5293   ,  0.5239   , -0.97954  , -0.89408  ,  0.56206  ,\n",
       "       -0.094276 ,  0.38047  ,  0.064524 , -0.79603  ,  1.4988   ,\n",
       "        0.10214  , -0.41158  ,  0.47262  ,  0.65586  , -0.10645  ],\n",
       "      dtype=float32)"
      ]
     },
     "execution_count": 46,
     "metadata": {
      "tags": []
     },
     "output_type": "execute_result"
    }
   ],
   "source": [
    "embeddingdic['attack']"
   ]
  },
  {
   "cell_type": "code",
   "execution_count": 47,
   "metadata": {
    "colab": {
     "base_uri": "https://localhost:8080/"
    },
    "id": "6ev__3uzZYGf",
    "outputId": "dd399bff-2f72-47f7-ae30-631659c08440"
   },
   "outputs": [
    {
     "data": {
      "text/plain": [
       "array([ 0.0032668, -0.97774  ,  0.34239  , -0.33168  , -1.0193   ,\n",
       "       -0.63638  ,  0.8741   , -0.30754  ,  0.16918  ,  1.0034   ,\n",
       "       -0.81639  , -1.6908   , -0.71362  , -0.091598 ,  0.77081  ,\n",
       "       -0.63527  , -0.39448  , -0.61519  ,  0.34299  ,  0.59082  ,\n",
       "        0.50487  , -0.26771  , -0.43262  , -0.13201  , -1.0886   ,\n",
       "       -1.7671   ,  0.30204  , -0.38226  ,  0.061394 ,  0.66425  ,\n",
       "        2.0586   ,  0.19427  , -1.0699   , -0.62804  , -1.0224   ,\n",
       "        0.22305  , -0.24518  , -1.2119   , -1.3688   ,  0.37789  ,\n",
       "       -1.1178   ,  0.70941  , -0.097047 , -0.46983  ,  1.0567   ,\n",
       "       -0.69863  , -0.28335  ,  0.25504  , -0.1096   , -1.1878   ],\n",
       "      dtype=float32)"
      ]
     },
     "execution_count": 47,
     "metadata": {
      "tags": []
     },
     "output_type": "execute_result"
    }
   ],
   "source": [
    "embeddingdic['crackdown']"
   ]
  },
  {
   "cell_type": "markdown",
   "metadata": {
    "id": "k1cBYGvKaCJ0"
   },
   "source": [
    "Lets create weight matrix for words in the data set "
   ]
  },
  {
   "cell_type": "code",
   "execution_count": 38,
   "metadata": {
    "id": "SljrCJNQh2nn"
   },
   "outputs": [],
   "source": [
    "embedding_matrix = np.zeros((max_features + 1, embedding_size))"
   ]
  },
  {
   "cell_type": "code",
   "execution_count": 39,
   "metadata": {
    "id": "6orqxEmXh-z0"
   },
   "outputs": [],
   "source": [
    "for word, i in sorted(token.word_index.items(),key=lambda x:x[1]):\n",
    "    if i > max_features :\n",
    "      break    \n",
    "    embedding_vector = embeddingdic.get(word)\n",
    "    if embedding_vector is not None :\n",
    "      embedding_matrix[i]  =   embedding_vector"
   ]
  },
  {
   "cell_type": "code",
   "execution_count": 40,
   "metadata": {
    "colab": {
     "base_uri": "https://localhost:8080/"
    },
    "id": "1QzhEvNri8bd",
    "outputId": "c196676d-6d4f-452b-a933-6be795bb330f"
   },
   "outputs": [
    {
     "data": {
      "text/plain": [
       "(10001, 50)"
      ]
     },
     "execution_count": 40,
     "metadata": {
      "tags": []
     },
     "output_type": "execute_result"
    }
   ],
   "source": [
    "embedding_matrix.shape"
   ]
  },
  {
   "cell_type": "code",
   "execution_count": 41,
   "metadata": {
    "colab": {
     "base_uri": "https://localhost:8080/"
    },
    "id": "NOJxCpFJbDdh",
    "outputId": "e073046e-39bb-443c-e77d-082202ed67e0"
   },
   "outputs": [
    {
     "data": {
      "text/plain": [
       "array([ 0.68046999, -0.039263  ,  0.30186   , -0.17792   ,  0.42962   ,\n",
       "        0.032246  , -0.41376001,  0.13228001, -0.29846999, -0.085253  ,\n",
       "        0.17117999,  0.22419   , -0.10046   , -0.43652999,  0.33418   ,\n",
       "        0.67846   ,  0.057204  , -0.34448001, -0.42785001, -0.43274999,\n",
       "        0.55962998,  0.10032   ,  0.18677001, -0.26853999,  0.037334  ,\n",
       "       -2.09319997,  0.22171   , -0.39868   ,  0.20912001, -0.55725002,\n",
       "        3.88260007,  0.47466001, -0.95657998, -0.37788001,  0.20869   ,\n",
       "       -0.32752001,  0.12751   ,  0.088359  ,  0.16350999, -0.21634001,\n",
       "       -0.094375  ,  0.018324  ,  0.21048   , -0.03088   , -0.19722   ,\n",
       "        0.082279  , -0.09434   , -0.073297  , -0.064699  , -0.26043999])"
      ]
     },
     "execution_count": 41,
     "metadata": {
      "tags": []
     },
     "output_type": "execute_result"
    }
   ],
   "source": [
    "embedding_matrix[1]"
   ]
  },
  {
   "cell_type": "markdown",
   "metadata": {
    "id": "AJSg11XOhJKp"
   },
   "source": [
    "Split the data into train, test sets"
   ]
  },
  {
   "cell_type": "code",
   "execution_count": 42,
   "metadata": {
    "id": "jYOCL7DzbI5v"
   },
   "outputs": [],
   "source": [
    "from sklearn.model_selection import train_test_split"
   ]
  },
  {
   "cell_type": "code",
   "execution_count": 43,
   "metadata": {
    "id": "rom32F64hP1t"
   },
   "outputs": [],
   "source": [
    "x_train, x_test, y_train, y_test = train_test_split(Xpadded,Y,test_size=0.3,random_state=34,stratify=Y)"
   ]
  },
  {
   "cell_type": "code",
   "execution_count": 44,
   "metadata": {
    "colab": {
     "base_uri": "https://localhost:8080/"
    },
    "id": "t_GCcWZ7hdgV",
    "outputId": "62eb8823-552d-4559-aa4d-0f5846a48221"
   },
   "outputs": [
    {
     "data": {
      "text/plain": [
       "(20033, 40)"
      ]
     },
     "execution_count": 44,
     "metadata": {
      "tags": []
     },
     "output_type": "execute_result"
    }
   ],
   "source": [
    "x_train.shape"
   ]
  },
  {
   "cell_type": "code",
   "execution_count": 45,
   "metadata": {
    "colab": {
     "base_uri": "https://localhost:8080/"
    },
    "id": "4tyf0IsRhex9",
    "outputId": "fbb8fef7-9128-417e-9183-f6761eb6d4e4"
   },
   "outputs": [
    {
     "data": {
      "text/plain": [
       "(8586, 40)"
      ]
     },
     "execution_count": 45,
     "metadata": {
      "tags": []
     },
     "output_type": "execute_result"
    }
   ],
   "source": [
    "x_test.shape"
   ]
  },
  {
   "cell_type": "code",
   "execution_count": 46,
   "metadata": {
    "id": "x1_7wef_hhK1"
   },
   "outputs": [],
   "source": [
    "from tensorflow.keras.models import Sequential\n",
    "from tensorflow.keras.layers import Embedding, Dense, LSTM, Dropout, Flatten, BatchNormalization, Bidirectional,SpatialDropout1D"
   ]
  },
  {
   "cell_type": "markdown",
   "metadata": {
    "id": "nMoK8nKEq06Q"
   },
   "source": [
    "# Model-11 : Using glove embedding and LSTM"
   ]
  },
  {
   "cell_type": "code",
   "execution_count": 47,
   "metadata": {
    "id": "2J5oREQ_hqnV"
   },
   "outputs": [],
   "source": [
    "tf.keras.backend.clear_session()\n",
    "model = Sequential()"
   ]
  },
  {
   "cell_type": "code",
   "execution_count": 48,
   "metadata": {
    "id": "SuBnTr5yhrM3"
   },
   "outputs": [],
   "source": [
    "maxlen = 40\n",
    "model.add(Embedding(max_features+1, embedding_size, weights=[embedding_matrix], input_length=maxlen, trainable=False))\n",
    "model.add(LSTM(128,return_sequences=True))\n",
    "model.add(Flatten())\n",
    "model.add(Dropout(0.15))\n",
    "model.add(Dense(64,activation='tanh'))\n",
    "model.add(Dense(1,activation='sigmoid'))"
   ]
  },
  {
   "cell_type": "code",
   "execution_count": 49,
   "metadata": {
    "id": "vSrfmUSxiWTp"
   },
   "outputs": [],
   "source": [
    "model.compile(optimizer='adam',metrics=['accuracy'], loss='categorical_crossentropy')"
   ]
  },
  {
   "cell_type": "code",
   "execution_count": 50,
   "metadata": {
    "colab": {
     "base_uri": "https://localhost:8080/"
    },
    "id": "DaWRAZ1miY4B",
    "outputId": "cbc6c5e4-9517-41f1-8989-be9989f77078"
   },
   "outputs": [
    {
     "name": "stdout",
     "output_type": "stream",
     "text": [
      "Model: \"sequential\"\n",
      "_________________________________________________________________\n",
      "Layer (type)                 Output Shape              Param #   \n",
      "=================================================================\n",
      "embedding (Embedding)        (None, 40, 50)            500050    \n",
      "_________________________________________________________________\n",
      "lstm (LSTM)                  (None, 40, 128)           91648     \n",
      "_________________________________________________________________\n",
      "flatten (Flatten)            (None, 5120)              0         \n",
      "_________________________________________________________________\n",
      "dropout (Dropout)            (None, 5120)              0         \n",
      "_________________________________________________________________\n",
      "dense (Dense)                (None, 64)                327744    \n",
      "_________________________________________________________________\n",
      "dense_1 (Dense)              (None, 1)                 65        \n",
      "=================================================================\n",
      "Total params: 919,507\n",
      "Trainable params: 419,457\n",
      "Non-trainable params: 500,050\n",
      "_________________________________________________________________\n"
     ]
    }
   ],
   "source": [
    "model.summary()"
   ]
  },
  {
   "cell_type": "code",
   "execution_count": 51,
   "metadata": {
    "id": "rRhK4AtTib7l"
   },
   "outputs": [],
   "source": [
    "batchsize = 512\n",
    "epochs = 4"
   ]
  },
  {
   "cell_type": "code",
   "execution_count": 52,
   "metadata": {
    "colab": {
     "base_uri": "https://localhost:8080/"
    },
    "id": "Kew_2MAC2GOT",
    "outputId": "0af0611c-9dac-484f-8f88-4ae6e7d3fc79"
   },
   "outputs": [
    {
     "name": "stdout",
     "output_type": "stream",
     "text": [
      "Epoch 1/4\n",
      "40/40 [==============================] - 19s 431ms/step - loss: 0.0000e+00 - accuracy: 0.5217 - val_loss: 0.0000e+00 - val_accuracy: 0.5236\n",
      "Epoch 2/4\n",
      "40/40 [==============================] - 17s 428ms/step - loss: 0.0000e+00 - accuracy: 0.5236 - val_loss: 0.0000e+00 - val_accuracy: 0.5236\n",
      "Epoch 3/4\n",
      "40/40 [==============================] - 17s 430ms/step - loss: 0.0000e+00 - accuracy: 0.5236 - val_loss: 0.0000e+00 - val_accuracy: 0.5236\n",
      "Epoch 4/4\n",
      "40/40 [==============================] - 17s 428ms/step - loss: 0.0000e+00 - accuracy: 0.5236 - val_loss: 0.0000e+00 - val_accuracy: 0.5236\n"
     ]
    }
   ],
   "source": [
    "history = model.fit(x_train, y_train, batch_size=batchsize, epochs= epochs,validation_data=(x_test, y_test))"
   ]
  },
  {
   "cell_type": "markdown",
   "metadata": {
    "id": "C-HOJpEPrAAd"
   },
   "source": [
    "# Model-12 : Using glove embedding and Birectional"
   ]
  },
  {
   "cell_type": "code",
   "execution_count": 53,
   "metadata": {
    "id": "EOcLhmrxorqs"
   },
   "outputs": [],
   "source": [
    "tf.keras.backend.clear_session()\n",
    "model = Sequential()\n",
    "maxlen = 40\n",
    "model.add(Embedding(max_features+1, embedding_size, weights=[embedding_matrix], input_length=maxlen, trainable=False))\n",
    "model.add(SpatialDropout1D(0.5))\n",
    "model.add(tf.keras.layers.Bidirectional(tf.keras.layers.LSTM(150,dropout=0.2, recurrent_dropout=0.2)))\n",
    "model.add(tf.keras.layers.Dense(1, activation='sigmoid'))"
   ]
  },
  {
   "cell_type": "code",
   "execution_count": 54,
   "metadata": {
    "id": "gT4JBFwopfPp"
   },
   "outputs": [],
   "source": [
    "model.compile(optimizer='adam',metrics=['accuracy'], loss='categorical_crossentropy')"
   ]
  },
  {
   "cell_type": "code",
   "execution_count": 55,
   "metadata": {
    "colab": {
     "base_uri": "https://localhost:8080/"
    },
    "id": "fIcotGcZpgr5",
    "outputId": "c6af5eff-a7a9-4b48-88cb-6d0dc95bdc7e"
   },
   "outputs": [
    {
     "name": "stdout",
     "output_type": "stream",
     "text": [
      "Model: \"sequential\"\n",
      "_________________________________________________________________\n",
      "Layer (type)                 Output Shape              Param #   \n",
      "=================================================================\n",
      "embedding (Embedding)        (None, 40, 50)            500050    \n",
      "_________________________________________________________________\n",
      "spatial_dropout1d (SpatialDr (None, 40, 50)            0         \n",
      "_________________________________________________________________\n",
      "bidirectional (Bidirectional (None, 300)               241200    \n",
      "_________________________________________________________________\n",
      "dense (Dense)                (None, 1)                 301       \n",
      "=================================================================\n",
      "Total params: 741,551\n",
      "Trainable params: 241,501\n",
      "Non-trainable params: 500,050\n",
      "_________________________________________________________________\n"
     ]
    }
   ],
   "source": [
    "model.summary()"
   ]
  },
  {
   "cell_type": "code",
   "execution_count": 56,
   "metadata": {
    "id": "zKHMgOpNpqJD"
   },
   "outputs": [],
   "source": [
    "batchsize = 256\n",
    "epochs = 4"
   ]
  },
  {
   "cell_type": "code",
   "execution_count": 57,
   "metadata": {
    "colab": {
     "base_uri": "https://localhost:8080/"
    },
    "id": "mjlQPb1nppWm",
    "outputId": "386494a4-cdc4-44ca-b13d-b1569bd3cd50"
   },
   "outputs": [
    {
     "name": "stdout",
     "output_type": "stream",
     "text": [
      "Epoch 1/4\n",
      "79/79 [==============================] - 73s 860ms/step - loss: 0.0000e+00 - accuracy: 0.5227 - val_loss: 0.0000e+00 - val_accuracy: 0.5236\n",
      "Epoch 2/4\n",
      "79/79 [==============================] - 69s 878ms/step - loss: 0.0000e+00 - accuracy: 0.5236 - val_loss: 0.0000e+00 - val_accuracy: 0.5236\n",
      "Epoch 3/4\n",
      "79/79 [==============================] - 67s 851ms/step - loss: 0.0000e+00 - accuracy: 0.5236 - val_loss: 0.0000e+00 - val_accuracy: 0.5236\n",
      "Epoch 4/4\n",
      "79/79 [==============================] - 67s 846ms/step - loss: 0.0000e+00 - accuracy: 0.5236 - val_loss: 0.0000e+00 - val_accuracy: 0.5236\n"
     ]
    }
   ],
   "source": [
    "history = model.fit(x_train, y_train, batch_size=batchsize, epochs= epochs,validation_data=(x_test, y_test))"
   ]
  },
  {
   "cell_type": "code",
   "execution_count": 58,
   "metadata": {
    "id": "yFW21L4AhijT"
   },
   "outputs": [],
   "source": [
    "model.save('/content/drive/MyDrive/LablFiles/SequenceNLP_Internal/Project2_model22.h5')"
   ]
  },
  {
   "cell_type": "code",
   "execution_count": 59,
   "metadata": {
    "colab": {
     "base_uri": "https://localhost:8080/"
    },
    "id": "Y20Ejx_Mh0U8",
    "outputId": "0afb3cd7-0b7d-4d02-9709-c0940a5923b7"
   },
   "outputs": [
    {
     "name": "stdout",
     "output_type": "stream",
     "text": [
      "269/269 [==============================] - 9s 32ms/step - loss: 0.0000e+00 - accuracy: 0.5236\n"
     ]
    }
   ],
   "source": [
    "result = model.evaluate(x_test,y_test)"
   ]
  },
  {
   "cell_type": "code",
   "execution_count": 60,
   "metadata": {
    "colab": {
     "base_uri": "https://localhost:8080/"
    },
    "id": "0PoMk3Aoh-Nc",
    "outputId": "47731be5-871e-4ab8-d06a-77c51c09511e"
   },
   "outputs": [
    {
     "name": "stdout",
     "output_type": "stream",
     "text": [
      "Test Loss and Accuracy [0.0, 0.5236431360244751]\n"
     ]
    }
   ],
   "source": [
    "print(\"Test Loss and Accuracy\",result)"
   ]
  },
  {
   "cell_type": "code",
   "execution_count": 61,
   "metadata": {
    "colab": {
     "base_uri": "https://localhost:8080/"
    },
    "id": "wdz1wwqAiBCY",
    "outputId": "ad3d4c0b-960e-4640-e635-fcd4c13f8c62"
   },
   "outputs": [
    {
     "name": "stdout",
     "output_type": "stream",
     "text": [
      "Average accuracy 0.5233739465475082\n"
     ]
    }
   ],
   "source": [
    "print(\"Average accuracy\",np.mean(history.history[\"accuracy\"]))"
   ]
  },
  {
   "cell_type": "markdown",
   "metadata": {
    "id": "QB9HoYA9iZtj"
   },
   "source": [
    "Model23- Lets try without glove embedding"
   ]
  },
  {
   "cell_type": "code",
   "execution_count": 63,
   "metadata": {
    "id": "DouZ-SoJBTpB"
   },
   "outputs": [],
   "source": [
    "tf.keras.backend.clear_session()\n",
    "model23 = Sequential()\n",
    "maxlen = 40\n",
    "#model.add(Embedding(max_features+1, embedding_size, weights=[embedding_matrix], input_length=maxlen, trainable=False))\n",
    "model23.add(Embedding(max_features+1, 128,input_length =maxlen))\n",
    "model23.add(SpatialDropout1D(0.4))\n",
    "model23.add(tf.keras.layers.Bidirectional(tf.keras.layers.LSTM(196,dropout=0.2, recurrent_dropout=0.2)))\n",
    "model23.add(tf.keras.layers.Dense(1, activation='sigmoid'))"
   ]
  },
  {
   "cell_type": "code",
   "execution_count": 64,
   "metadata": {
    "id": "xFOHxqdRBhSR"
   },
   "outputs": [],
   "source": [
    "model23.compile(optimizer='adam',metrics=['accuracy'], loss='categorical_crossentropy')"
   ]
  },
  {
   "cell_type": "code",
   "execution_count": 65,
   "metadata": {
    "colab": {
     "base_uri": "https://localhost:8080/"
    },
    "id": "begdYb1UBpo5",
    "outputId": "7c406dc2-ece4-4b60-fe25-63658ca30acf"
   },
   "outputs": [
    {
     "name": "stdout",
     "output_type": "stream",
     "text": [
      "Epoch 1/4\n",
      "157/157 [==============================] - 181s 1s/step - loss: 0.0000e+00 - accuracy: 0.5235 - val_loss: 0.0000e+00 - val_accuracy: 0.5236\n",
      "Epoch 2/4\n",
      "157/157 [==============================] - 173s 1s/step - loss: 0.0000e+00 - accuracy: 0.5236 - val_loss: 0.0000e+00 - val_accuracy: 0.5236\n",
      "Epoch 3/4\n",
      "157/157 [==============================] - 172s 1s/step - loss: 0.0000e+00 - accuracy: 0.5236 - val_loss: 0.0000e+00 - val_accuracy: 0.5236\n",
      "Epoch 4/4\n",
      "157/157 [==============================] - 172s 1s/step - loss: 0.0000e+00 - accuracy: 0.5236 - val_loss: 0.0000e+00 - val_accuracy: 0.5236\n"
     ]
    }
   ],
   "source": [
    "batchsize = 128\n",
    "history = model23.fit(x_train, y_train, batch_size=batchsize, epochs= epochs,validation_data=(x_test, y_test))"
   ]
  },
  {
   "cell_type": "code",
   "execution_count": 66,
   "metadata": {
    "id": "rPw_NxQulgLK"
   },
   "outputs": [],
   "source": [
    "model23.save('/content/drive/MyDrive/LablFiles/SequenceNLP_Internal/Project2_model23.h5')"
   ]
  },
  {
   "cell_type": "code",
   "execution_count": 67,
   "metadata": {
    "colab": {
     "base_uri": "https://localhost:8080/"
    },
    "id": "yKn6BX_Iln_0",
    "outputId": "3d22ee9f-1905-4089-aef3-23b73994e31c"
   },
   "outputs": [
    {
     "name": "stdout",
     "output_type": "stream",
     "text": [
      "269/269 [==============================] - 16s 58ms/step - loss: 0.0000e+00 - accuracy: 0.5236\n"
     ]
    }
   ],
   "source": [
    "result23 = model23.evaluate(x_test,y_test)"
   ]
  },
  {
   "cell_type": "code",
   "execution_count": 68,
   "metadata": {
    "colab": {
     "base_uri": "https://localhost:8080/"
    },
    "id": "5HPLLT7vlvZF",
    "outputId": "808fc0ec-c22b-45ce-98d5-4157defb13b6"
   },
   "outputs": [
    {
     "name": "stdout",
     "output_type": "stream",
     "text": [
      "Test Loss and Accuracy [0.0, 0.5236431360244751]\n"
     ]
    }
   ],
   "source": [
    "print(\"Test Loss and Accuracy\",result23)"
   ]
  },
  {
   "cell_type": "code",
   "execution_count": 69,
   "metadata": {
    "colab": {
     "base_uri": "https://localhost:8080/"
    },
    "id": "5YFIXoaZl1bJ",
    "outputId": "c148873f-3090-41dd-9d93-1183b2a3ce80"
   },
   "outputs": [
    {
     "name": "stdout",
     "output_type": "stream",
     "text": [
      "Average accuracy 0.5235736072063446\n"
     ]
    }
   ],
   "source": [
    "print(\"Average accuracy\",np.mean(history.history[\"accuracy\"]))"
   ]
  },
  {
   "cell_type": "markdown",
   "metadata": {
    "id": "7lsi2U_Il9Ku"
   },
   "source": [
    "# Conclusion/Observation"
   ]
  },
  {
   "cell_type": "markdown",
   "metadata": {
    "id": "HsoYa0hdmDW_"
   },
   "source": [
    "In the above section different models were built - LSTM, Bidirectional - with glove and without glove embedding.\n",
    "All models are giving same accuracy"
   ]
  },
  {
   "cell_type": "markdown",
   "metadata": {
    "id": "CFor0HZriywR"
   },
   "source": [
    "# Model-21 : Using gensim library, Word2Vec embedding & Bidirectional LSTM"
   ]
  },
  {
   "cell_type": "code",
   "execution_count": 70,
   "metadata": {
    "id": "EHYjHzVkix8M"
   },
   "outputs": [],
   "source": [
    "import gensim\n",
    "import gensim.downloader as api"
   ]
  },
  {
   "cell_type": "markdown",
   "metadata": {
    "id": "CZOJliqgjdfD"
   },
   "source": [
    "Load already trained gensim embedding"
   ]
  },
  {
   "cell_type": "code",
   "execution_count": 71,
   "metadata": {
    "colab": {
     "base_uri": "https://localhost:8080/"
    },
    "id": "cCPulQMgmgGy",
    "outputId": "11ccc06a-2ae0-448a-fd1f-4f463492917a"
   },
   "outputs": [
    {
     "name": "stdout",
     "output_type": "stream",
     "text": [
      "[==================================================] 100.0% 1662.8/1662.8MB downloaded\n"
     ]
    }
   ],
   "source": [
    "word2vec = gensim.downloader.load('word2vec-google-news-300')"
   ]
  },
  {
   "cell_type": "markdown",
   "metadata": {
    "id": "1iIVfWfEqpmP"
   },
   "source": [
    "Store doanloaded file in some folder in google drive so that next time \n",
    "we can load model directly from file instead of downloading"
   ]
  },
  {
   "cell_type": "code",
   "execution_count": 72,
   "metadata": {
    "colab": {
     "base_uri": "https://localhost:8080/"
    },
    "id": "hfC-at4UlLZp",
    "outputId": "d857bb61-5d98-4bb6-cd9c-2bb3cfd32e51"
   },
   "outputs": [
    {
     "data": {
      "text/plain": [
       "<gensim.models.keyedvectors.Word2VecKeyedVectors at 0x7fa091014ed0>"
      ]
     },
     "execution_count": 72,
     "metadata": {
      "tags": []
     },
     "output_type": "execute_result"
    }
   ],
   "source": [
    "word2vec"
   ]
  },
  {
   "cell_type": "code",
   "execution_count": 73,
   "metadata": {
    "colab": {
     "base_uri": "https://localhost:8080/"
    },
    "id": "EGIJ1KqMnvd5",
    "outputId": "8f44840a-5102-4ec3-c1d7-8869faa0872c"
   },
   "outputs": [
    {
     "name": "stderr",
     "output_type": "stream",
     "text": [
      "/usr/local/lib/python3.7/dist-packages/ipykernel_launcher.py:1: DeprecationWarning: Call to deprecated `wv` (Attribute will be removed in 4.0.0, use self instead).\n",
      "  \"\"\"Entry point for launching an IPython kernel.\n",
      "/usr/local/lib/python3.7/dist-packages/ipykernel_launcher.py:1: DeprecationWarning: Call to deprecated `syn0` (Attribute will be removed in 4.0.0, use self.wv.vectors instead).\n",
      "  \"\"\"Entry point for launching an IPython kernel.\n"
     ]
    }
   ],
   "source": [
    "embedding_size = word2vec.wv.syn0.shape[1]"
   ]
  },
  {
   "cell_type": "code",
   "execution_count": 74,
   "metadata": {
    "colab": {
     "base_uri": "https://localhost:8080/"
    },
    "id": "qMOcQ5YmrUzK",
    "outputId": "4a05366e-53d9-418f-c58f-dd820c00a08b"
   },
   "outputs": [
    {
     "data": {
      "text/plain": [
       "300"
      ]
     },
     "execution_count": 74,
     "metadata": {
      "tags": []
     },
     "output_type": "execute_result"
    }
   ],
   "source": [
    "embedding_size"
   ]
  },
  {
   "cell_type": "code",
   "execution_count": 75,
   "metadata": {
    "id": "NOsnP7aiUT39"
   },
   "outputs": [],
   "source": [
    "from sklearn.model_selection import train_test_split\n",
    "from tensorflow.keras.preprocessing.sequence import pad_sequences"
   ]
  },
  {
   "cell_type": "code",
   "execution_count": 76,
   "metadata": {
    "id": "1lw6EPsUn4Yt"
   },
   "outputs": [],
   "source": [
    "embedding_matrix = np.zeros((max_features + 1, embedding_size))"
   ]
  },
  {
   "cell_type": "code",
   "execution_count": 77,
   "metadata": {
    "colab": {
     "base_uri": "https://localhost:8080/"
    },
    "id": "noYGUnpYosqs",
    "outputId": "10344922-6414-45ef-9a64-77423dc4f436"
   },
   "outputs": [
    {
     "name": "stderr",
     "output_type": "stream",
     "text": [
      "/usr/local/lib/python3.7/dist-packages/ipykernel_launcher.py:5: DeprecationWarning: Call to deprecated `wv` (Attribute will be removed in 4.0.0, use self instead).\n",
      "  \"\"\"\n",
      "/usr/local/lib/python3.7/dist-packages/ipykernel_launcher.py:6: DeprecationWarning: Call to deprecated `wv` (Attribute will be removed in 4.0.0, use self instead).\n",
      "  \n"
     ]
    }
   ],
   "source": [
    "for word, i in sorted(token.word_index.items(),key=lambda x:x[1]):\n",
    "    if i > max_features:\n",
    "        break\n",
    "    #if word in word2vec.key_to_index :\n",
    "    if word in word2vec.wv.vocab :\n",
    "        embedding_vector = word2vec.wv[word]\n",
    "        embedding_matrix[i] = embedding_vector"
   ]
  },
  {
   "cell_type": "code",
   "execution_count": 78,
   "metadata": {
    "colab": {
     "base_uri": "https://localhost:8080/"
    },
    "id": "_0mjg3SWsSOG",
    "outputId": "49d428af-3099-4023-d755-4f55fc98d029"
   },
   "outputs": [
    {
     "data": {
      "text/plain": [
       "(10001, 300)"
      ]
     },
     "execution_count": 78,
     "metadata": {
      "tags": []
     },
     "output_type": "execute_result"
    }
   ],
   "source": [
    "embedding_matrix.shape"
   ]
  },
  {
   "cell_type": "code",
   "execution_count": 79,
   "metadata": {
    "id": "GrgJUwEas9s6"
   },
   "outputs": [],
   "source": [
    "tf.keras.backend.clear_session()\n",
    "mode21 = Sequential()\n",
    "mode21.add(Embedding(max_features+1,embedding_size,weights=[embedding_matrix], input_length=maxlen,trainable=False))\n",
    "mode21.add(LSTM(128,return_sequences=True))\n",
    "mode21.add(Dropout(0.15))\n",
    "mode21.add(Dense(64,activation='tanh'))\n",
    "mode21.add(Dense(1,activation='sigmoid'))"
   ]
  },
  {
   "cell_type": "code",
   "execution_count": 80,
   "metadata": {
    "colab": {
     "base_uri": "https://localhost:8080/"
    },
    "id": "6dnvBPZmm3Xd",
    "outputId": "5aed4114-97a2-453e-f13b-30f2ce402440"
   },
   "outputs": [
    {
     "name": "stdout",
     "output_type": "stream",
     "text": [
      "Model: \"sequential\"\n",
      "_________________________________________________________________\n",
      "Layer (type)                 Output Shape              Param #   \n",
      "=================================================================\n",
      "embedding (Embedding)        (None, 40, 300)           3000300   \n",
      "_________________________________________________________________\n",
      "lstm (LSTM)                  (None, 40, 128)           219648    \n",
      "_________________________________________________________________\n",
      "dropout (Dropout)            (None, 40, 128)           0         \n",
      "_________________________________________________________________\n",
      "dense (Dense)                (None, 40, 64)            8256      \n",
      "_________________________________________________________________\n",
      "dense_1 (Dense)              (None, 40, 1)             65        \n",
      "=================================================================\n",
      "Total params: 3,228,269\n",
      "Trainable params: 227,969\n",
      "Non-trainable params: 3,000,300\n",
      "_________________________________________________________________\n"
     ]
    }
   ],
   "source": [
    "mode21.summary()"
   ]
  },
  {
   "cell_type": "code",
   "execution_count": 81,
   "metadata": {
    "id": "ZjtlV220uENW"
   },
   "outputs": [],
   "source": [
    "mode21.compile(optimizer='adam',metrics=['accuracy'], loss='binary_crossentropy')"
   ]
  },
  {
   "cell_type": "code",
   "execution_count": 82,
   "metadata": {
    "id": "lbH0TkxmuQAL"
   },
   "outputs": [],
   "source": [
    "batchsize = 128\n",
    "epochs = 5"
   ]
  },
  {
   "cell_type": "code",
   "execution_count": 83,
   "metadata": {
    "colab": {
     "base_uri": "https://localhost:8080/"
    },
    "id": "giRE4UR7uLQJ",
    "outputId": "e036ea03-a1d0-4255-d2b4-9ee8e0c7001d"
   },
   "outputs": [
    {
     "name": "stdout",
     "output_type": "stream",
     "text": [
      "Epoch 1/5\n",
      "157/157 [==============================] - 35s 211ms/step - loss: 0.6585 - accuracy: 0.5667 - val_loss: 0.6479 - val_accuracy: 0.5797\n",
      "Epoch 2/5\n",
      "157/157 [==============================] - 33s 208ms/step - loss: 0.6408 - accuracy: 0.5813 - val_loss: 0.6399 - val_accuracy: 0.5842\n",
      "Epoch 3/5\n",
      "157/157 [==============================] - 32s 207ms/step - loss: 0.6323 - accuracy: 0.5856 - val_loss: 0.6342 - val_accuracy: 0.5711\n",
      "Epoch 4/5\n",
      "157/157 [==============================] - 35s 220ms/step - loss: 0.6266 - accuracy: 0.5874 - val_loss: 0.6309 - val_accuracy: 0.5894\n",
      "Epoch 5/5\n",
      "157/157 [==============================] - 33s 209ms/step - loss: 0.6220 - accuracy: 0.5916 - val_loss: 0.6323 - val_accuracy: 0.5899\n"
     ]
    }
   ],
   "source": [
    "history21 = mode21.fit(x_train, y_train, batch_size=batchsize, epochs= epochs,validation_data=(x_test, y_test))"
   ]
  },
  {
   "cell_type": "code",
   "execution_count": 84,
   "metadata": {
    "id": "grvTVH_hVMlU"
   },
   "outputs": [],
   "source": [
    "# save the model to disk\n",
    "mode21.save('/content/drive/MyDrive/LablFiles/SequenceNLP_Internal/Project1_model21.h5')\n",
    "\n",
    "#from keras.models import load_model\n",
    "#loaded_model = load_model('/content/drive/MyDrive/LablFiles/SequenceNLP_Internal/Project1_model21.h5')"
   ]
  },
  {
   "cell_type": "code",
   "execution_count": 86,
   "metadata": {
    "colab": {
     "base_uri": "https://localhost:8080/"
    },
    "id": "AYPBp1TOq0-m",
    "outputId": "58e7af04-bf42-4b13-b509-7a8e5fe7d352"
   },
   "outputs": [
    {
     "name": "stdout",
     "output_type": "stream",
     "text": [
      "269/269 [==============================] - 8s 30ms/step - loss: 0.6323 - accuracy: 0.5899\n",
      "Test Loss and Accuracy [0.6323037147521973, 0.5899374485015869]\n",
      "Average accuracy 0.5825091242790222\n"
     ]
    }
   ],
   "source": [
    "result21 = mode21.evaluate(x_test,y_test)\n",
    "\n",
    "print(\"Test Loss and Accuracy\",result21)\n",
    "\n",
    "print(\"Average accuracy\",np.mean(history21.history[\"accuracy\"]))"
   ]
  },
  {
   "cell_type": "markdown",
   "metadata": {
    "id": "pJsdSM1Erkc5"
   },
   "source": [
    "Lets try with Bidirecttional layer"
   ]
  },
  {
   "cell_type": "code",
   "execution_count": 87,
   "metadata": {
    "id": "DcpWhO2LrKqR"
   },
   "outputs": [],
   "source": [
    "tf.keras.backend.clear_session()\n",
    "model22 = Sequential()\n",
    "maxlen = 40\n",
    "model22.add(Embedding(max_features+1, embedding_size, weights=[embedding_matrix], input_length=maxlen, trainable=False))\n",
    "model22.add(SpatialDropout1D(0.3))\n",
    "model22.add(tf.keras.layers.Bidirectional(tf.keras.layers.LSTM(200,dropout=0.2, recurrent_dropout=0.2)))\n",
    "model22.add(tf.keras.layers.Dense(1, activation='sigmoid'))"
   ]
  },
  {
   "cell_type": "code",
   "execution_count": 88,
   "metadata": {
    "id": "BW5WSy2PrKhk"
   },
   "outputs": [],
   "source": [
    "model22.compile(optimizer='adam',metrics=['accuracy'], loss='binary_crossentropy')"
   ]
  },
  {
   "cell_type": "code",
   "execution_count": 89,
   "metadata": {
    "id": "4q08wP-zrKRz"
   },
   "outputs": [],
   "source": [
    "batchsize = 128\n",
    "epochs = 5"
   ]
  },
  {
   "cell_type": "code",
   "execution_count": 90,
   "metadata": {
    "colab": {
     "base_uri": "https://localhost:8080/"
    },
    "id": "gOLNUggzreWv",
    "outputId": "0182cb94-d070-41d7-b0a3-f5eeb227a039"
   },
   "outputs": [
    {
     "name": "stdout",
     "output_type": "stream",
     "text": [
      "Epoch 1/5\n",
      "157/157 [==============================] - 202s 1s/step - loss: 0.5460 - accuracy: 0.7204 - val_loss: 0.4685 - val_accuracy: 0.7770\n",
      "Epoch 2/5\n",
      "157/157 [==============================] - 196s 1s/step - loss: 0.4842 - accuracy: 0.7644 - val_loss: 0.4378 - val_accuracy: 0.8013\n",
      "Epoch 3/5\n",
      "157/157 [==============================] - 195s 1s/step - loss: 0.4508 - accuracy: 0.7856 - val_loss: 0.4121 - val_accuracy: 0.8117\n",
      "Epoch 4/5\n",
      "157/157 [==============================] - 196s 1s/step - loss: 0.4178 - accuracy: 0.8051 - val_loss: 0.4100 - val_accuracy: 0.8102\n",
      "Epoch 5/5\n",
      "157/157 [==============================] - 196s 1s/step - loss: 0.4028 - accuracy: 0.8129 - val_loss: 0.3768 - val_accuracy: 0.8322\n"
     ]
    }
   ],
   "source": [
    "history22 = model22.fit(x_train, y_train, batch_size=batchsize, epochs= epochs,validation_data=(x_test, y_test))"
   ]
  },
  {
   "cell_type": "code",
   "execution_count": 92,
   "metadata": {
    "id": "I4X9xpIVv7r_"
   },
   "outputs": [],
   "source": [
    "model22.save('/content/drive/MyDrive/LablFiles/SequenceNLP_Internal/Project1_model22.h5')"
   ]
  },
  {
   "cell_type": "code",
   "execution_count": 91,
   "metadata": {
    "colab": {
     "base_uri": "https://localhost:8080/"
    },
    "id": "nn_J6Cp9vkVv",
    "outputId": "dfe209ca-4053-4f62-a1af-6ae9966da2ed"
   },
   "outputs": [
    {
     "name": "stdout",
     "output_type": "stream",
     "text": [
      "269/269 [==============================] - 23s 84ms/step - loss: 0.3768 - accuracy: 0.8322\n",
      "Test Loss and Accuracy [0.376753568649292, 0.8321686387062073]\n",
      "Average accuracy 0.7776668548583985\n"
     ]
    }
   ],
   "source": [
    "result22 = model22.evaluate(x_test,y_test)\n",
    "\n",
    "print(\"Test Loss and Accuracy\",result22)\n",
    "\n",
    "print(\"Average accuracy\",np.mean(history22.history[\"accuracy\"]))"
   ]
  },
  {
   "cell_type": "markdown",
   "metadata": {
    "id": "9Rw2io-4xDb-"
   },
   "source": [
    "# Overall Conclusion\n",
    "\n",
    "- Models (simple LSTM, Birectional- with and without glove embedding) built using glove embedding were giving accuracy of 52 %\n",
    "- Models built using gensium library and its embeddings are giving far better accuracy. For simple LSTM is is giving 58 % and using Bidirectional layers its is giving 83 % accuracy.\n",
    "- So based on above we can say that pre built embedded values perform key role in model accuracy."
   ]
  },
  {
   "cell_type": "markdown",
   "metadata": {
    "id": "BQmUBAsu0umO"
   },
   "source": [
    "# Lets do some predictions"
   ]
  },
  {
   "cell_type": "code",
   "execution_count": 93,
   "metadata": {
    "id": "9CYWvptFyYD2"
   },
   "outputs": [],
   "source": [
    "from keras.preprocessing.text import Tokenizer\n",
    "from keras.preprocessing.sequence import pad_sequences"
   ]
  },
  {
   "cell_type": "code",
   "execution_count": 94,
   "metadata": {
    "id": "qKOYmB6HyZiF"
   },
   "outputs": [],
   "source": [
    "tokenizer = Tokenizer(num_words=10000)\n",
    "tokenizer.fit_on_texts(dffinal['headline'])"
   ]
  },
  {
   "cell_type": "code",
   "execution_count": 95,
   "metadata": {
    "id": "1dt03ylOyh0Y"
   },
   "outputs": [],
   "source": [
    "x_new_train = tokenizer.texts_to_sequences(dffinal['headline'])"
   ]
  },
  {
   "cell_type": "code",
   "execution_count": 96,
   "metadata": {
    "id": "7wp3uEzjysVO"
   },
   "outputs": [],
   "source": [
    "x_new_train = tf.keras.preprocessing.sequence.pad_sequences(x_new_train,maxlen=40,padding='pre',truncating='post')"
   ]
  },
  {
   "cell_type": "code",
   "execution_count": 97,
   "metadata": {
    "id": "tsE9nryty-JC"
   },
   "outputs": [],
   "source": [
    "preds = model22.predict(x_new_train[0:50])"
   ]
  },
  {
   "cell_type": "code",
   "execution_count": 106,
   "metadata": {
    "colab": {
     "base_uri": "https://localhost:8080/"
    },
    "id": "_znxju3GzEoA",
    "outputId": "bc45393d-fe21-4980-85b3-d0527d3e3ab0"
   },
   "outputs": [
    {
     "name": "stdout",
     "output_type": "stream",
     "text": [
      "    is_sarcastic                                           headline\n",
      "34             1  new york introduces shoe-sharing program for c...\n",
      "predicted sentiment : Sarcastic\n",
      "correct sentiment : Sarcastic\n"
     ]
    }
   ],
   "source": [
    "n = np.random.randint(0,50)\n",
    "\n",
    "print(dffinal[n:n+1])\n",
    "\n",
    "if preds[n].any() > 0.5:\n",
    "  print('predicted sentiment : Sarcastic')\n",
    "else: \n",
    "  print('precicted sentiment : Non Sarcastic')\n",
    "\n",
    "if (Y[n] == 1):\n",
    "  print('correct sentiment : Sarcastic')\n",
    "else:\n",
    "  print('correct sentiment : Non Sarcastic')"
   ]
  },
  {
   "cell_type": "code",
   "execution_count": 110,
   "metadata": {
    "colab": {
     "base_uri": "https://localhost:8080/"
    },
    "id": "623nfYjOz4Sc",
    "outputId": "cb4bc2a7-b43c-41a2-815a-b9da579ece69"
   },
   "outputs": [
    {
     "name": "stdout",
     "output_type": "stream",
     "text": [
      "    is_sarcastic                                           headline\n",
      "21             1  guard in video game under strict orders to rep...\n",
      "predicted sentiment : Sarcastic\n",
      "correct sentiment : Sarcastic\n"
     ]
    }
   ],
   "source": [
    "n = np.random.randint(0,50)\n",
    "\n",
    "print(dffinal[n:n+1])\n",
    "\n",
    "if preds[n].any() > 0.5:\n",
    "  print('predicted sentiment : Sarcastic')\n",
    "else: \n",
    "  print('precicted sentiment : Non Sarcastic')\n",
    "\n",
    "if (Y[n] == 1):\n",
    "  print('correct sentiment : Sarcastic')\n",
    "else:\n",
    "  print('correct sentiment : Non Sarcastic')"
   ]
  },
  {
   "cell_type": "code",
   "execution_count": 111,
   "metadata": {
    "colab": {
     "base_uri": "https://localhost:8080/"
    },
    "id": "tTEmeEJkz8ZK",
    "outputId": "06ae9a83-9479-485d-f130-f84c31cd6023"
   },
   "outputs": [
    {
     "name": "stdout",
     "output_type": "stream",
     "text": [
      "    is_sarcastic                                           headline\n",
      "33             1  leading probability researchers confounded by ...\n",
      "predicted sentiment : Sarcastic\n",
      "correct sentiment : Sarcastic\n"
     ]
    }
   ],
   "source": [
    "n = np.random.randint(0,50)\n",
    "\n",
    "print(dffinal[n:n+1])\n",
    "\n",
    "if preds[n].any() > 0.5:\n",
    "  print('predicted sentiment : Sarcastic')\n",
    "else: \n",
    "  print('precicted sentiment : Non Sarcastic')\n",
    "\n",
    "if (Y[n] == 1):\n",
    "  print('correct sentiment : Sarcastic')\n",
    "else:\n",
    "  print('correct sentiment : Non Sarcastic')"
   ]
  },
  {
   "cell_type": "code",
   "execution_count": 112,
   "metadata": {
    "colab": {
     "base_uri": "https://localhost:8080/"
    },
    "id": "CywVUp-Oz90-",
    "outputId": "8cbb467e-23b4-4d44-b51f-82913f98d846"
   },
   "outputs": [
    {
     "name": "stdout",
     "output_type": "stream",
     "text": [
      "    is_sarcastic                                           headline\n",
      "45             0  10 ways ridiculously successful people think d...\n",
      "predicted sentiment : Sarcastic\n",
      "correct sentiment : Non Sarcastic\n"
     ]
    }
   ],
   "source": [
    "n = np.random.randint(0,50)\n",
    "\n",
    "print(dffinal[n:n+1])\n",
    "\n",
    "if preds[n].any() > 0.5:\n",
    "  print('predicted sentiment : Sarcastic')\n",
    "else: \n",
    "  print('precicted sentiment : Non Sarcastic')\n",
    "\n",
    "if (Y[n] == 1):\n",
    "  print('correct sentiment : Sarcastic')\n",
    "else:\n",
    "  print('correct sentiment : Non Sarcastic')"
   ]
  },
  {
   "cell_type": "code",
   "execution_count": 113,
   "metadata": {
    "colab": {
     "base_uri": "https://localhost:8080/"
    },
    "id": "iBUcvLY7z_he",
    "outputId": "4086c123-cd77-49a1-9bd2-422f7eb902ae"
   },
   "outputs": [
    {
     "name": "stdout",
     "output_type": "stream",
     "text": [
      "    is_sarcastic                                           headline\n",
      "42             0  we're still processing that ending to the walk...\n",
      "predicted sentiment : Sarcastic\n",
      "correct sentiment : Non Sarcastic\n"
     ]
    }
   ],
   "source": [
    "n = np.random.randint(0,50)\n",
    "\n",
    "print(dffinal[n:n+1])\n",
    "\n",
    "if preds[n].any() > 0.5:\n",
    "  print('predicted sentiment : Sarcastic')\n",
    "else: \n",
    "  print('precicted sentiment : Non Sarcastic')\n",
    "\n",
    "if (Y[n] == 1):\n",
    "  print('correct sentiment : Sarcastic')\n",
    "else:\n",
    "  print('correct sentiment : Non Sarcastic')"
   ]
  },
  {
   "cell_type": "code",
   "execution_count": 120,
   "metadata": {
    "colab": {
     "base_uri": "https://localhost:8080/"
    },
    "id": "imAQljFs0BBj",
    "outputId": "bda3c3a0-c86e-46a1-dde9-6f947d01b257"
   },
   "outputs": [
    {
     "name": "stdout",
     "output_type": "stream",
     "text": [
      "    is_sarcastic                                           headline\n",
      "16             1  area boy enters jumping-and-touching-tops-of-d...\n",
      "predicted sentiment : Sarcastic\n",
      "correct sentiment : Sarcastic\n"
     ]
    }
   ],
   "source": [
    "n = np.random.randint(0,50)\n",
    "\n",
    "print(dffinal[n:n+1])\n",
    "\n",
    "if preds[n].any() > 0.5:\n",
    "  print('predicted sentiment : Sarcastic')\n",
    "else: \n",
    "  print('precicted sentiment : Non Sarcastic')\n",
    "\n",
    "if (Y[n] == 1):\n",
    "  print('correct sentiment : Sarcastic')\n",
    "else:\n",
    "  print('correct sentiment : Non Sarcastic')"
   ]
  },
  {
   "cell_type": "code",
   "execution_count": 125,
   "metadata": {
    "colab": {
     "base_uri": "https://localhost:8080/"
    },
    "id": "NDueqsG70GTx",
    "outputId": "81730544-5cfd-46ea-d9f1-8a2fe6eff510"
   },
   "outputs": [
    {
     "name": "stdout",
     "output_type": "stream",
     "text": [
      "   is_sarcastic                                           headline\n",
      "4             1  mother comes pretty close to using word 'strea...\n",
      "predicted sentiment : Sarcastic\n",
      "correct sentiment : Sarcastic\n"
     ]
    }
   ],
   "source": [
    "n = np.random.randint(0,50)\n",
    "\n",
    "print(dffinal[n:n+1])\n",
    "\n",
    "if preds[n].any() > 0.5:\n",
    "  print('predicted sentiment : Sarcastic')\n",
    "else: \n",
    "  print('precicted sentiment : Non Sarcastic')\n",
    "\n",
    "if (Y[n] == 1):\n",
    "  print('correct sentiment : Sarcastic')\n",
    "else:\n",
    "  print('correct sentiment : Non Sarcastic')"
   ]
  },
  {
   "cell_type": "code",
   "execution_count": 134,
   "metadata": {
    "colab": {
     "base_uri": "https://localhost:8080/"
    },
    "id": "JkvG9iVW0Rxp",
    "outputId": "0a725d82-34b4-40cc-ec57-5b930f3f4c51"
   },
   "outputs": [
    {
     "name": "stdout",
     "output_type": "stream",
     "text": [
      "    is_sarcastic                                           headline\n",
      "46             1  report: bridge probably has whole mess of bats...\n",
      "predicted sentiment : Sarcastic\n",
      "correct sentiment : Sarcastic\n"
     ]
    }
   ],
   "source": [
    "n = np.random.randint(0,50)\n",
    "\n",
    "print(dffinal[n:n+1])\n",
    "\n",
    "if preds[n].any() > 0.5:\n",
    "  print('predicted sentiment : Sarcastic')\n",
    "else: \n",
    "  print('precicted sentiment : Non Sarcastic')\n",
    "\n",
    "if (Y[n] == 1):\n",
    "  print('correct sentiment : Sarcastic')\n",
    "else:\n",
    "  print('correct sentiment : Non Sarcastic')"
   ]
  }
 ],
 "metadata": {
  "colab": {
   "collapsed_sections": [],
   "name": "pgp_aiml_feb20_SeqNLP_R10_Project_2.ipynb",
   "provenance": []
  },
  "kernelspec": {
   "display_name": "Python 3",
   "language": "python",
   "name": "python3"
  },
  "language_info": {
   "codemirror_mode": {
    "name": "ipython",
    "version": 3
   },
   "file_extension": ".py",
   "mimetype": "text/x-python",
   "name": "python",
   "nbconvert_exporter": "python",
   "pygments_lexer": "ipython3",
   "version": "3.8.8"
  }
 },
 "nbformat": 4,
 "nbformat_minor": 1
}
