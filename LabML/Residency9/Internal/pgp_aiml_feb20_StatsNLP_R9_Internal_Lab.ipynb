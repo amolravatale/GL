{
 "cells": [
  {
   "cell_type": "markdown",
   "metadata": {
    "id": "PHYs6Z84xV8E"
   },
   "source": [
    "<img src=\"http://drive.google.com/uc?export=view&id=1tpOCamr9aWz817atPnyXus8w5gJ3mIts\" width=500px>\n",
    "\n",
    "Proprietary content. © Great Learning. All Rights Reserved. Unauthorized use or distribution prohibited."
   ]
  },
  {
   "cell_type": "markdown",
   "metadata": {
    "id": "5QQxgAmWzSye"
   },
   "source": [
    "# Mobile Phone Review Analysis"
   ]
  },
  {
   "cell_type": "markdown",
   "metadata": {
    "id": "FbwHYUXhxaqD"
   },
   "source": [
    "## Context\n",
    "\n",
    "The product companies can utilize the detailed review comments to gather insights from the end user. Most of the products are sold via e-commerce sites like Flipkart or Amazon where customers can buy a product and give their review about the product on the web site. \n",
    "Product managers can identify the relevant reviews from the website and run a sentiment analysis tool to understand what the sentiments of the customer are. Based on their sentiments, they can identify what users think of the current product. Are they happy? Discontent? \n",
    "They can also come up with a document that lists the features, the team needs to focus on for making the product better. \n",
    "\n",
    "## Objective\n",
    "\n",
    "Given the review data rating label, we will try to get insights about various brands and their ratings using text analytics and build a model to predict the rating and overall sentiment. \n"
   ]
  },
  {
   "cell_type": "markdown",
   "metadata": {
    "id": "CI7usguRzeox"
   },
   "source": [
    "### Package version\n",
    "\n",
    "- tensorflow==2.3.0\n",
    "- scikit-learn==0.22.2.post1\n",
    "- pandas==1.0.5\n",
    "- numpy==1.18.5\n",
    "- matplotlib==3.2.2\n",
    "- google==2.0.3"
   ]
  },
  {
   "cell_type": "markdown",
   "metadata": {
    "id": "aiMdVjHRH7NR"
   },
   "source": [
    "### Data Dictionary \n",
    "\n",
    "product_data.csv - contains product details\n",
    "- 'asin',  - Product ASIN\n",
    "- 'brand', - Product Brand\n",
    "- 'title', - Product Title\n",
    "- 'url',  - Product URL\n",
    "- 'image', - Product Image URL\n",
    "- 'rating',- Product Avg. Rating\n",
    "- 'reviewUrl' - Product Review Page URL\n",
    "- 'totalReviews' - Product Total Reviews\n",
    "- ‘price’ - Product Price ($)\n",
    "- ‘originalPrice’ - Product Original Price ($)\n",
    " \n",
    "reviews.csv  - contains user review details\n",
    " \n",
    "- 'asin' - Product ASIN\n",
    "- 'name' - Reviewer Name\n",
    "- 'rating' - Reviewer Rating (scale 1 to 5)\n",
    "- 'date'  - Review Date\n",
    "- 'verified' - Valid Customer\n",
    "- 'title'  - Review Title\n",
    "- 'body'  - Review Content\n",
    "- 'helpfulVotes  - Helpful Feedbacks\n"
   ]
  },
  {
   "cell_type": "markdown",
   "metadata": {
    "id": "cEn52o8jznJK"
   },
   "source": [
    "## Table of Content\n",
    "\n",
    "1. Import Libraries\n",
    "\n",
    "2. Setting options\n",
    "\n",
    "3. Read Data\n",
    "\n",
    "4. Data Analysis and EDA\n",
    "\n",
    "5. Text preprocessing and Vectorization\n",
    "\n",
    "6. Model building\n",
    "\n",
    "7. Conclusion and Interpretation"
   ]
  },
  {
   "cell_type": "markdown",
   "metadata": {
    "id": "x_Lom6cXzqn7"
   },
   "source": [
    "## 1. Import Libraries"
   ]
  },
  {
   "cell_type": "markdown",
   "metadata": {
    "id": "FZtVstH8zre2"
   },
   "source": [
    "Let us start by mounting the drive"
   ]
  },
  {
   "cell_type": "code",
   "execution_count": 2,
   "metadata": {
    "colab": {
     "base_uri": "https://localhost:8080/"
    },
    "id": "xv9jxv3-R5Xl",
    "outputId": "9679a1b8-6ab1-41f4-9201-0ff7e393063e"
   },
   "outputs": [
    {
     "name": "stdout",
     "output_type": "stream",
     "text": [
      "Mounted at /content/drive\n"
     ]
    }
   ],
   "source": [
    "#connect to google drive\n",
    "from google.colab import drive\n",
    "import os\n",
    "drive.mount('/content/drive')"
   ]
  },
  {
   "cell_type": "code",
   "execution_count": 3,
   "metadata": {
    "id": "szO0Ir2Sy3wQ"
   },
   "outputs": [],
   "source": [
    "os.chdir('/content/drive/MyDrive/LablFiles/Stat_NLP_Internal_Lab/')"
   ]
  },
  {
   "cell_type": "markdown",
   "metadata": {
    "id": "Gv-tZoFjz2WD"
   },
   "source": [
    "Let us check for the version of installed tensorflow."
   ]
  },
  {
   "cell_type": "code",
   "execution_count": 4,
   "metadata": {
    "colab": {
     "base_uri": "https://localhost:8080/"
    },
    "id": "eiuUVBuDzzn9",
    "outputId": "14000a0c-1c24-4c56-cd10-2d4e3f4cd354"
   },
   "outputs": [
    {
     "name": "stdout",
     "output_type": "stream",
     "text": [
      "2.4.1\n"
     ]
    }
   ],
   "source": [
    "# used to supress display of warnings\n",
    "import warnings\n",
    "\n",
    "# os is used to provide a way of using operating system dependent functionality\n",
    "# We use it for setting working folder\n",
    "import os\n",
    "\n",
    "# Pandas is used for data manipulation and analysis\n",
    "import pandas as pd \n",
    "\n",
    "# Numpy is used for large, multi-dimensional arrays and matrices, along with mathematical operators on these arrays\n",
    "import numpy as np\n",
    "\n",
    "# Matplotlib is a data visualization library for 2D plots of arrays, built on NumPy arrays \n",
    "# and designed to work with the broader SciPy stack\n",
    "import matplotlib.pyplot as plt\n",
    "%matplotlib inline\n",
    "from matplotlib import pyplot\n",
    "\n",
    "# Seaborn is based on matplotlib, which aids in drawing attractive and informative statistical graphics.\n",
    "import seaborn as sns\n",
    "import tensorflow \n",
    "print(tensorflow.__version__)"
   ]
  },
  {
   "cell_type": "markdown",
   "metadata": {
    "id": "fze-aokU0ukH"
   },
   "source": [
    "## 2. Setting Options"
   ]
  },
  {
   "cell_type": "code",
   "execution_count": 18,
   "metadata": {
    "id": "T3FALggG0xXa"
   },
   "outputs": [],
   "source": [
    "# suppress display of warnings\n",
    "warnings.filterwarnings('ignore')\n",
    "\n",
    "# display all dataframe columns\n",
    "pd.options.display.max_columns = None\n",
    "\n",
    "# to set the limit to 3 decimals\n",
    "pd.options.display.float_format = '{:.7f}'.format\n",
    "\n",
    "# display all dataframe rows\n",
    "pd.options.display.max_rows = None"
   ]
  },
  {
   "cell_type": "markdown",
   "metadata": {
    "id": "ZT1P1WdK1vfZ"
   },
   "source": [
    "## 3. Read Data"
   ]
  },
  {
   "cell_type": "markdown",
   "metadata": {
    "id": "-UOW6zwww7L1"
   },
   "source": [
    "### 3.1 Read the provided CSVs and check 5 random samples and shape to understand the datasets"
   ]
  },
  {
   "cell_type": "code",
   "execution_count": 39,
   "metadata": {
    "id": "nxT2g284xF1W"
   },
   "outputs": [],
   "source": [
    "productds = pd.read_csv('product_data.csv')"
   ]
  },
  {
   "cell_type": "code",
   "execution_count": 40,
   "metadata": {
    "colab": {
     "base_uri": "https://localhost:8080/",
     "height": 700
    },
    "id": "GRjG44fRxGIq",
    "outputId": "82613161-0295-48aa-f155-9471da150eab"
   },
   "outputs": [
    {
     "data": {
      "text/html": [
       "<div>\n",
       "<style scoped>\n",
       "    .dataframe tbody tr th:only-of-type {\n",
       "        vertical-align: middle;\n",
       "    }\n",
       "\n",
       "    .dataframe tbody tr th {\n",
       "        vertical-align: top;\n",
       "    }\n",
       "\n",
       "    .dataframe thead th {\n",
       "        text-align: right;\n",
       "    }\n",
       "</style>\n",
       "<table border=\"1\" class=\"dataframe\">\n",
       "  <thead>\n",
       "    <tr style=\"text-align: right;\">\n",
       "      <th></th>\n",
       "      <th>asin</th>\n",
       "      <th>brand</th>\n",
       "      <th>title</th>\n",
       "      <th>url</th>\n",
       "      <th>image</th>\n",
       "      <th>rating</th>\n",
       "      <th>reviewUrl</th>\n",
       "      <th>totalReviews</th>\n",
       "      <th>price</th>\n",
       "      <th>originalPrice</th>\n",
       "    </tr>\n",
       "  </thead>\n",
       "  <tbody>\n",
       "    <tr>\n",
       "      <th>165</th>\n",
       "      <td>B01K5RGPIS</td>\n",
       "      <td>Samsung</td>\n",
       "      <td>Samsung Galaxy S6 G920A 64GB Unlocked GSM 4G L...</td>\n",
       "      <td>https://www.amazon.com/Samsung-Unlocked-Octa-C...</td>\n",
       "      <td>https://m.media-amazon.com/images/I/61Nb5eGCbv...</td>\n",
       "      <td>2.9000000</td>\n",
       "      <td>https://www.amazon.com/product-reviews/B01K5RGPIS</td>\n",
       "      <td>61</td>\n",
       "      <td>0.0000000</td>\n",
       "      <td>0.0000000</td>\n",
       "    </tr>\n",
       "    <tr>\n",
       "      <th>632</th>\n",
       "      <td>B07T6JXP9J</td>\n",
       "      <td>Motorola</td>\n",
       "      <td>Moto Z3 Play - Unlocked - 32 GB - Deep Indigo ...</td>\n",
       "      <td>https://www.amazon.com/Moto-Z3-Play-Unlocked-W...</td>\n",
       "      <td>https://m.media-amazon.com/images/I/71rybVDKCZ...</td>\n",
       "      <td>4.5000000</td>\n",
       "      <td>https://www.amazon.com/product-reviews/B07T6JXP9J</td>\n",
       "      <td>2</td>\n",
       "      <td>189.9500000</td>\n",
       "      <td>0.0000000</td>\n",
       "    </tr>\n",
       "    <tr>\n",
       "      <th>132</th>\n",
       "      <td>B01D0JV7AO</td>\n",
       "      <td>Samsung</td>\n",
       "      <td>Samsung Galaxy S6 SM-G920V 32GB Sapphire Black...</td>\n",
       "      <td>https://www.amazon.com/Samsung-SM-G920V-Sapphi...</td>\n",
       "      <td>https://m.media-amazon.com/images/I/81cvwVzNoi...</td>\n",
       "      <td>3.5000000</td>\n",
       "      <td>https://www.amazon.com/product-reviews/B01D0JV7AO</td>\n",
       "      <td>1</td>\n",
       "      <td>119.9500000</td>\n",
       "      <td>0.0000000</td>\n",
       "    </tr>\n",
       "    <tr>\n",
       "      <th>180</th>\n",
       "      <td>B01MY2FEAS</td>\n",
       "      <td>Samsung</td>\n",
       "      <td>Samsung Galaxy Note 5 N920T 32GB - White (T-Mo...</td>\n",
       "      <td>https://www.amazon.com/Samsung-Galaxy-Note-N92...</td>\n",
       "      <td>https://m.media-amazon.com/images/I/61MAsozHca...</td>\n",
       "      <td>3.7000000</td>\n",
       "      <td>https://www.amazon.com/product-reviews/B01MY2FEAS</td>\n",
       "      <td>14</td>\n",
       "      <td>366.7300000</td>\n",
       "      <td>0.0000000</td>\n",
       "    </tr>\n",
       "    <tr>\n",
       "      <th>401</th>\n",
       "      <td>B07DCB61LG</td>\n",
       "      <td>OnePlus</td>\n",
       "      <td>OnePlus 6 A6000 64GB/6GB Mirror Black - Dual B...</td>\n",
       "      <td>https://www.amazon.com/OnePlus-A6000-64GB-Mirr...</td>\n",
       "      <td>https://m.media-amazon.com/images/I/61x5tBufni...</td>\n",
       "      <td>4.4000000</td>\n",
       "      <td>https://www.amazon.com/product-reviews/B07DCB61LG</td>\n",
       "      <td>59</td>\n",
       "      <td>479.0000000</td>\n",
       "      <td>0.0000000</td>\n",
       "    </tr>\n",
       "  </tbody>\n",
       "</table>\n",
       "</div>"
      ],
      "text/plain": [
       "           asin     brand                                              title  \\\n",
       "165  B01K5RGPIS   Samsung  Samsung Galaxy S6 G920A 64GB Unlocked GSM 4G L...   \n",
       "632  B07T6JXP9J  Motorola  Moto Z3 Play - Unlocked - 32 GB - Deep Indigo ...   \n",
       "132  B01D0JV7AO   Samsung  Samsung Galaxy S6 SM-G920V 32GB Sapphire Black...   \n",
       "180  B01MY2FEAS   Samsung  Samsung Galaxy Note 5 N920T 32GB - White (T-Mo...   \n",
       "401  B07DCB61LG   OnePlus  OnePlus 6 A6000 64GB/6GB Mirror Black - Dual B...   \n",
       "\n",
       "                                                   url  \\\n",
       "165  https://www.amazon.com/Samsung-Unlocked-Octa-C...   \n",
       "632  https://www.amazon.com/Moto-Z3-Play-Unlocked-W...   \n",
       "132  https://www.amazon.com/Samsung-SM-G920V-Sapphi...   \n",
       "180  https://www.amazon.com/Samsung-Galaxy-Note-N92...   \n",
       "401  https://www.amazon.com/OnePlus-A6000-64GB-Mirr...   \n",
       "\n",
       "                                                 image    rating  \\\n",
       "165  https://m.media-amazon.com/images/I/61Nb5eGCbv... 2.9000000   \n",
       "632  https://m.media-amazon.com/images/I/71rybVDKCZ... 4.5000000   \n",
       "132  https://m.media-amazon.com/images/I/81cvwVzNoi... 3.5000000   \n",
       "180  https://m.media-amazon.com/images/I/61MAsozHca... 3.7000000   \n",
       "401  https://m.media-amazon.com/images/I/61x5tBufni... 4.4000000   \n",
       "\n",
       "                                             reviewUrl  totalReviews  \\\n",
       "165  https://www.amazon.com/product-reviews/B01K5RGPIS            61   \n",
       "632  https://www.amazon.com/product-reviews/B07T6JXP9J             2   \n",
       "132  https://www.amazon.com/product-reviews/B01D0JV7AO             1   \n",
       "180  https://www.amazon.com/product-reviews/B01MY2FEAS            14   \n",
       "401  https://www.amazon.com/product-reviews/B07DCB61LG            59   \n",
       "\n",
       "          price  originalPrice  \n",
       "165   0.0000000      0.0000000  \n",
       "632 189.9500000      0.0000000  \n",
       "132 119.9500000      0.0000000  \n",
       "180 366.7300000      0.0000000  \n",
       "401 479.0000000      0.0000000  "
      ]
     },
     "execution_count": 40,
     "metadata": {
      "tags": []
     },
     "output_type": "execute_result"
    }
   ],
   "source": [
    "productds.sample(5)"
   ]
  },
  {
   "cell_type": "code",
   "execution_count": 41,
   "metadata": {
    "colab": {
     "base_uri": "https://localhost:8080/"
    },
    "id": "4kljqa3duZvy",
    "outputId": "891e0e19-3917-41d3-b129-3399d2dc2a50"
   },
   "outputs": [
    {
     "data": {
      "text/plain": [
       "(720, 10)"
      ]
     },
     "execution_count": 41,
     "metadata": {
      "tags": []
     },
     "output_type": "execute_result"
    }
   ],
   "source": [
    "productds.shape"
   ]
  },
  {
   "cell_type": "code",
   "execution_count": 42,
   "metadata": {
    "colab": {
     "base_uri": "https://localhost:8080/"
    },
    "id": "fXNlBuWuufTx",
    "outputId": "1c6d9f59-09e5-4bdc-eee2-7b9e4cee1789"
   },
   "outputs": [
    {
     "data": {
      "text/plain": [
       "720"
      ]
     },
     "execution_count": 42,
     "metadata": {
      "tags": []
     },
     "output_type": "execute_result"
    }
   ],
   "source": [
    "len(pd.unique(productds['asin']))"
   ]
  },
  {
   "cell_type": "markdown",
   "metadata": {
    "id": "NtTD6pn6vAFN"
   },
   "source": [
    "Inferences\n",
    "1) There are unique 720 mobile products"
   ]
  },
  {
   "cell_type": "code",
   "execution_count": 43,
   "metadata": {
    "id": "C40kUgYL0rhw"
   },
   "outputs": [],
   "source": [
    "reviewsds = pd.read_csv('reviews.csv')"
   ]
  },
  {
   "cell_type": "code",
   "execution_count": 44,
   "metadata": {
    "colab": {
     "base_uri": "https://localhost:8080/",
     "height": 272
    },
    "id": "lQ2wsrrh05mq",
    "outputId": "4028dc3f-d8b9-42f0-d1dc-06f8c52d2a98"
   },
   "outputs": [
    {
     "data": {
      "text/html": [
       "<div>\n",
       "<style scoped>\n",
       "    .dataframe tbody tr th:only-of-type {\n",
       "        vertical-align: middle;\n",
       "    }\n",
       "\n",
       "    .dataframe tbody tr th {\n",
       "        vertical-align: top;\n",
       "    }\n",
       "\n",
       "    .dataframe thead th {\n",
       "        text-align: right;\n",
       "    }\n",
       "</style>\n",
       "<table border=\"1\" class=\"dataframe\">\n",
       "  <thead>\n",
       "    <tr style=\"text-align: right;\">\n",
       "      <th></th>\n",
       "      <th>asin</th>\n",
       "      <th>name</th>\n",
       "      <th>rating</th>\n",
       "      <th>date</th>\n",
       "      <th>verified</th>\n",
       "      <th>title</th>\n",
       "      <th>body</th>\n",
       "      <th>helpfulVotes</th>\n",
       "    </tr>\n",
       "  </thead>\n",
       "  <tbody>\n",
       "    <tr>\n",
       "      <th>63259</th>\n",
       "      <td>B07RT1X4FJ</td>\n",
       "      <td>Nathan Gonzalez</td>\n",
       "      <td>5</td>\n",
       "      <td>September 13, 2019</td>\n",
       "      <td>True</td>\n",
       "      <td>WAY CHEAPER THAN BUYING NEW</td>\n",
       "      <td>Phone arrived in great condition with 97% batt...</td>\n",
       "      <td>3.0000000</td>\n",
       "    </tr>\n",
       "    <tr>\n",
       "      <th>37873</th>\n",
       "      <td>B0731HBTZ7</td>\n",
       "      <td>Georges M</td>\n",
       "      <td>5</td>\n",
       "      <td>July 8, 2019</td>\n",
       "      <td>True</td>\n",
       "      <td>Great phone.</td>\n",
       "      <td>Works great, no complains</td>\n",
       "      <td>nan</td>\n",
       "    </tr>\n",
       "    <tr>\n",
       "      <th>5142</th>\n",
       "      <td>B00CEKXJ3Y</td>\n",
       "      <td>Luis E. Varela</td>\n",
       "      <td>4</td>\n",
       "      <td>August 25, 2014</td>\n",
       "      <td>True</td>\n",
       "      <td>Not the greatest thing yet</td>\n",
       "      <td>Awesome features, nice device and all.. but wh...</td>\n",
       "      <td>1.0000000</td>\n",
       "    </tr>\n",
       "    <tr>\n",
       "      <th>65965</th>\n",
       "      <td>B07WHKYDV3</td>\n",
       "      <td>Oso</td>\n",
       "      <td>5</td>\n",
       "      <td>October 8, 2019</td>\n",
       "      <td>True</td>\n",
       "      <td>Good purchase</td>\n",
       "      <td>Device is performing as expected and more, may...</td>\n",
       "      <td>4.0000000</td>\n",
       "    </tr>\n",
       "    <tr>\n",
       "      <th>15217</th>\n",
       "      <td>B00V7FY44A</td>\n",
       "      <td>DC_Amazonian</td>\n",
       "      <td>5</td>\n",
       "      <td>October 14, 2015</td>\n",
       "      <td>True</td>\n",
       "      <td>It's not the Galaxy S5-- in all of the right w...</td>\n",
       "      <td>As an owner of a Galaxy S5, I was very disappo...</td>\n",
       "      <td>8.0000000</td>\n",
       "    </tr>\n",
       "  </tbody>\n",
       "</table>\n",
       "</div>"
      ],
      "text/plain": [
       "             asin             name  rating                date  verified  \\\n",
       "63259  B07RT1X4FJ  Nathan Gonzalez       5  September 13, 2019      True   \n",
       "37873  B0731HBTZ7        Georges M       5        July 8, 2019      True   \n",
       "5142   B00CEKXJ3Y   Luis E. Varela       4     August 25, 2014      True   \n",
       "65965  B07WHKYDV3              Oso       5     October 8, 2019      True   \n",
       "15217  B00V7FY44A     DC_Amazonian       5    October 14, 2015      True   \n",
       "\n",
       "                                                   title  \\\n",
       "63259                        WAY CHEAPER THAN BUYING NEW   \n",
       "37873                                       Great phone.   \n",
       "5142                          Not the greatest thing yet   \n",
       "65965                                      Good purchase   \n",
       "15217  It's not the Galaxy S5-- in all of the right w...   \n",
       "\n",
       "                                                    body  helpfulVotes  \n",
       "63259  Phone arrived in great condition with 97% batt...     3.0000000  \n",
       "37873                          Works great, no complains           nan  \n",
       "5142   Awesome features, nice device and all.. but wh...     1.0000000  \n",
       "65965  Device is performing as expected and more, may...     4.0000000  \n",
       "15217  As an owner of a Galaxy S5, I was very disappo...     8.0000000  "
      ]
     },
     "execution_count": 44,
     "metadata": {
      "tags": []
     },
     "output_type": "execute_result"
    }
   ],
   "source": [
    "reviewsds.sample(5)"
   ]
  },
  {
   "cell_type": "code",
   "execution_count": 37,
   "metadata": {
    "colab": {
     "base_uri": "https://localhost:8080/"
    },
    "id": "4J41a5_A14b_",
    "outputId": "a88a28af-de2a-4a37-af08-324fe28d1cf3"
   },
   "outputs": [
    {
     "data": {
      "text/plain": [
       "(67986, 8)"
      ]
     },
     "execution_count": 37,
     "metadata": {
      "tags": []
     },
     "output_type": "execute_result"
    }
   ],
   "source": [
    "reviewsds.shape"
   ]
  },
  {
   "cell_type": "markdown",
   "metadata": {
    "id": "rED6DbDBKTjM"
   },
   "source": [
    "## 4.  Data Analysis and EDA"
   ]
  },
  {
   "cell_type": "markdown",
   "metadata": {
    "id": "awlqmp40xMfc"
   },
   "source": [
    "### 4.1 Drop unnecessary columns like 'url', 'image' from the product_data"
   ]
  },
  {
   "cell_type": "code",
   "execution_count": 45,
   "metadata": {
    "colab": {
     "base_uri": "https://localhost:8080/"
    },
    "id": "VT4d-6TCxZCm",
    "outputId": "ad124461-704f-4eed-ae25-c464c8174f86"
   },
   "outputs": [
    {
     "data": {
      "text/plain": [
       "Index(['asin', 'brand', 'title', 'url', 'image', 'rating', 'reviewUrl',\n",
       "       'totalReviews', 'price', 'originalPrice'],\n",
       "      dtype='object')"
      ]
     },
     "execution_count": 45,
     "metadata": {
      "tags": []
     },
     "output_type": "execute_result"
    }
   ],
   "source": [
    "productds.columns"
   ]
  },
  {
   "cell_type": "code",
   "execution_count": 46,
   "metadata": {
    "id": "dk-Ichc92MTm"
   },
   "outputs": [],
   "source": [
    "productds.drop(['url','image','reviewUrl'],axis=1,inplace=True)"
   ]
  },
  {
   "cell_type": "code",
   "execution_count": 47,
   "metadata": {
    "colab": {
     "base_uri": "https://localhost:8080/"
    },
    "id": "T7D2wycB2lxl",
    "outputId": "ae7e8f42-bb7a-4e47-f651-7b6ecffaeb45"
   },
   "outputs": [
    {
     "data": {
      "text/plain": [
       "Index(['asin', 'brand', 'title', 'rating', 'totalReviews', 'price',\n",
       "       'originalPrice'],\n",
       "      dtype='object')"
      ]
     },
     "execution_count": 47,
     "metadata": {
      "tags": []
     },
     "output_type": "execute_result"
    }
   ],
   "source": [
    "productds.columns"
   ]
  },
  {
   "cell_type": "markdown",
   "metadata": {
    "id": "Zk0WW5D5xZK9"
   },
   "source": [
    "### 4.2 Check statistical summary of both datasets. Note:- Include both numerical and object type columns."
   ]
  },
  {
   "cell_type": "code",
   "execution_count": 48,
   "metadata": {
    "colab": {
     "base_uri": "https://localhost:8080/",
     "height": 283
    },
    "id": "ylwcqQpcx_Tl",
    "outputId": "8d156e5c-3eb9-4bb3-8f2d-6be720dd506a"
   },
   "outputs": [
    {
     "data": {
      "text/html": [
       "<div>\n",
       "<style scoped>\n",
       "    .dataframe tbody tr th:only-of-type {\n",
       "        vertical-align: middle;\n",
       "    }\n",
       "\n",
       "    .dataframe tbody tr th {\n",
       "        vertical-align: top;\n",
       "    }\n",
       "\n",
       "    .dataframe thead th {\n",
       "        text-align: right;\n",
       "    }\n",
       "</style>\n",
       "<table border=\"1\" class=\"dataframe\">\n",
       "  <thead>\n",
       "    <tr style=\"text-align: right;\">\n",
       "      <th></th>\n",
       "      <th>count</th>\n",
       "      <th>unique</th>\n",
       "      <th>top</th>\n",
       "      <th>freq</th>\n",
       "      <th>mean</th>\n",
       "      <th>std</th>\n",
       "      <th>min</th>\n",
       "      <th>25%</th>\n",
       "      <th>50%</th>\n",
       "      <th>75%</th>\n",
       "      <th>max</th>\n",
       "    </tr>\n",
       "  </thead>\n",
       "  <tbody>\n",
       "    <tr>\n",
       "      <th>asin</th>\n",
       "      <td>720</td>\n",
       "      <td>720</td>\n",
       "      <td>B00E6FGSHY</td>\n",
       "      <td>1</td>\n",
       "      <td>NaN</td>\n",
       "      <td>NaN</td>\n",
       "      <td>NaN</td>\n",
       "      <td>NaN</td>\n",
       "      <td>NaN</td>\n",
       "      <td>NaN</td>\n",
       "      <td>NaN</td>\n",
       "    </tr>\n",
       "    <tr>\n",
       "      <th>brand</th>\n",
       "      <td>716</td>\n",
       "      <td>10</td>\n",
       "      <td>Samsung</td>\n",
       "      <td>346</td>\n",
       "      <td>NaN</td>\n",
       "      <td>NaN</td>\n",
       "      <td>NaN</td>\n",
       "      <td>NaN</td>\n",
       "      <td>NaN</td>\n",
       "      <td>NaN</td>\n",
       "      <td>NaN</td>\n",
       "    </tr>\n",
       "    <tr>\n",
       "      <th>title</th>\n",
       "      <td>720</td>\n",
       "      <td>718</td>\n",
       "      <td>Apple iPhone 6S, 64GB, Rose Gold - For AT&amp;T / ...</td>\n",
       "      <td>2</td>\n",
       "      <td>NaN</td>\n",
       "      <td>NaN</td>\n",
       "      <td>NaN</td>\n",
       "      <td>NaN</td>\n",
       "      <td>NaN</td>\n",
       "      <td>NaN</td>\n",
       "      <td>NaN</td>\n",
       "    </tr>\n",
       "    <tr>\n",
       "      <th>rating</th>\n",
       "      <td>720.0000000</td>\n",
       "      <td>NaN</td>\n",
       "      <td>NaN</td>\n",
       "      <td>NaN</td>\n",
       "      <td>3.7137500</td>\n",
       "      <td>0.7160138</td>\n",
       "      <td>1.0000000</td>\n",
       "      <td>3.3000000</td>\n",
       "      <td>3.8000000</td>\n",
       "      <td>4.1000000</td>\n",
       "      <td>5.0000000</td>\n",
       "    </tr>\n",
       "    <tr>\n",
       "      <th>totalReviews</th>\n",
       "      <td>720.0000000</td>\n",
       "      <td>NaN</td>\n",
       "      <td>NaN</td>\n",
       "      <td>NaN</td>\n",
       "      <td>105.6791667</td>\n",
       "      <td>167.6011014</td>\n",
       "      <td>1.0000000</td>\n",
       "      <td>7.0000000</td>\n",
       "      <td>32.0000000</td>\n",
       "      <td>122.2500000</td>\n",
       "      <td>983.0000000</td>\n",
       "    </tr>\n",
       "    <tr>\n",
       "      <th>price</th>\n",
       "      <td>720.0000000</td>\n",
       "      <td>NaN</td>\n",
       "      <td>NaN</td>\n",
       "      <td>NaN</td>\n",
       "      <td>234.9489306</td>\n",
       "      <td>200.0084407</td>\n",
       "      <td>0.0000000</td>\n",
       "      <td>97.5125000</td>\n",
       "      <td>188.9750000</td>\n",
       "      <td>336.7250000</td>\n",
       "      <td>999.9900000</td>\n",
       "    </tr>\n",
       "    <tr>\n",
       "      <th>originalPrice</th>\n",
       "      <td>720.0000000</td>\n",
       "      <td>NaN</td>\n",
       "      <td>NaN</td>\n",
       "      <td>NaN</td>\n",
       "      <td>63.6907778</td>\n",
       "      <td>172.4053696</td>\n",
       "      <td>0.0000000</td>\n",
       "      <td>0.0000000</td>\n",
       "      <td>0.0000000</td>\n",
       "      <td>0.0000000</td>\n",
       "      <td>999.9900000</td>\n",
       "    </tr>\n",
       "  </tbody>\n",
       "</table>\n",
       "</div>"
      ],
      "text/plain": [
       "                    count unique  \\\n",
       "asin                  720    720   \n",
       "brand                 716     10   \n",
       "title                 720    718   \n",
       "rating        720.0000000    NaN   \n",
       "totalReviews  720.0000000    NaN   \n",
       "price         720.0000000    NaN   \n",
       "originalPrice 720.0000000    NaN   \n",
       "\n",
       "                                                             top freq  \\\n",
       "asin                                                  B00E6FGSHY    1   \n",
       "brand                                                    Samsung  346   \n",
       "title          Apple iPhone 6S, 64GB, Rose Gold - For AT&T / ...    2   \n",
       "rating                                                       NaN  NaN   \n",
       "totalReviews                                                 NaN  NaN   \n",
       "price                                                        NaN  NaN   \n",
       "originalPrice                                                NaN  NaN   \n",
       "\n",
       "                     mean         std       min        25%         50%  \\\n",
       "asin                  NaN         NaN       NaN        NaN         NaN   \n",
       "brand                 NaN         NaN       NaN        NaN         NaN   \n",
       "title                 NaN         NaN       NaN        NaN         NaN   \n",
       "rating          3.7137500   0.7160138 1.0000000  3.3000000   3.8000000   \n",
       "totalReviews  105.6791667 167.6011014 1.0000000  7.0000000  32.0000000   \n",
       "price         234.9489306 200.0084407 0.0000000 97.5125000 188.9750000   \n",
       "originalPrice  63.6907778 172.4053696 0.0000000  0.0000000   0.0000000   \n",
       "\n",
       "                      75%         max  \n",
       "asin                  NaN         NaN  \n",
       "brand                 NaN         NaN  \n",
       "title                 NaN         NaN  \n",
       "rating          4.1000000   5.0000000  \n",
       "totalReviews  122.2500000 983.0000000  \n",
       "price         336.7250000 999.9900000  \n",
       "originalPrice   0.0000000 999.9900000  "
      ]
     },
     "execution_count": 48,
     "metadata": {
      "tags": []
     },
     "output_type": "execute_result"
    }
   ],
   "source": [
    "productds.describe(include='all').transpose()"
   ]
  },
  {
   "cell_type": "code",
   "execution_count": 50,
   "metadata": {
    "colab": {
     "base_uri": "https://localhost:8080/",
     "height": 297
    },
    "id": "WFaDkvIjyDtG",
    "outputId": "cb592610-5f3c-4b0e-d626-96098c7d7eae"
   },
   "outputs": [
    {
     "data": {
      "text/html": [
       "<div>\n",
       "<style scoped>\n",
       "    .dataframe tbody tr th:only-of-type {\n",
       "        vertical-align: middle;\n",
       "    }\n",
       "\n",
       "    .dataframe tbody tr th {\n",
       "        vertical-align: top;\n",
       "    }\n",
       "\n",
       "    .dataframe thead th {\n",
       "        text-align: right;\n",
       "    }\n",
       "</style>\n",
       "<table border=\"1\" class=\"dataframe\">\n",
       "  <thead>\n",
       "    <tr style=\"text-align: right;\">\n",
       "      <th></th>\n",
       "      <th>count</th>\n",
       "      <th>unique</th>\n",
       "      <th>top</th>\n",
       "      <th>freq</th>\n",
       "      <th>mean</th>\n",
       "      <th>std</th>\n",
       "      <th>min</th>\n",
       "      <th>25%</th>\n",
       "      <th>50%</th>\n",
       "      <th>75%</th>\n",
       "      <th>max</th>\n",
       "    </tr>\n",
       "  </thead>\n",
       "  <tbody>\n",
       "    <tr>\n",
       "      <th>asin</th>\n",
       "      <td>67986</td>\n",
       "      <td>720</td>\n",
       "      <td>B00F2SKPIM</td>\n",
       "      <td>981</td>\n",
       "      <td>NaN</td>\n",
       "      <td>NaN</td>\n",
       "      <td>NaN</td>\n",
       "      <td>NaN</td>\n",
       "      <td>NaN</td>\n",
       "      <td>NaN</td>\n",
       "      <td>NaN</td>\n",
       "    </tr>\n",
       "    <tr>\n",
       "      <th>name</th>\n",
       "      <td>67984</td>\n",
       "      <td>47323</td>\n",
       "      <td>Amazon Customer</td>\n",
       "      <td>6507</td>\n",
       "      <td>NaN</td>\n",
       "      <td>NaN</td>\n",
       "      <td>NaN</td>\n",
       "      <td>NaN</td>\n",
       "      <td>NaN</td>\n",
       "      <td>NaN</td>\n",
       "      <td>NaN</td>\n",
       "    </tr>\n",
       "    <tr>\n",
       "      <th>rating</th>\n",
       "      <td>67986.0000000</td>\n",
       "      <td>NaN</td>\n",
       "      <td>NaN</td>\n",
       "      <td>NaN</td>\n",
       "      <td>3.8079163</td>\n",
       "      <td>1.5829058</td>\n",
       "      <td>1.0000000</td>\n",
       "      <td>3.0000000</td>\n",
       "      <td>5.0000000</td>\n",
       "      <td>5.0000000</td>\n",
       "      <td>5.0000000</td>\n",
       "    </tr>\n",
       "    <tr>\n",
       "      <th>date</th>\n",
       "      <td>67986</td>\n",
       "      <td>2983</td>\n",
       "      <td>December 11, 2019</td>\n",
       "      <td>234</td>\n",
       "      <td>NaN</td>\n",
       "      <td>NaN</td>\n",
       "      <td>NaN</td>\n",
       "      <td>NaN</td>\n",
       "      <td>NaN</td>\n",
       "      <td>NaN</td>\n",
       "      <td>NaN</td>\n",
       "    </tr>\n",
       "    <tr>\n",
       "      <th>verified</th>\n",
       "      <td>67986</td>\n",
       "      <td>2</td>\n",
       "      <td>True</td>\n",
       "      <td>61225</td>\n",
       "      <td>NaN</td>\n",
       "      <td>NaN</td>\n",
       "      <td>NaN</td>\n",
       "      <td>NaN</td>\n",
       "      <td>NaN</td>\n",
       "      <td>NaN</td>\n",
       "      <td>NaN</td>\n",
       "    </tr>\n",
       "    <tr>\n",
       "      <th>title</th>\n",
       "      <td>67972</td>\n",
       "      <td>41489</td>\n",
       "      <td>Five Stars</td>\n",
       "      <td>6043</td>\n",
       "      <td>NaN</td>\n",
       "      <td>NaN</td>\n",
       "      <td>NaN</td>\n",
       "      <td>NaN</td>\n",
       "      <td>NaN</td>\n",
       "      <td>NaN</td>\n",
       "      <td>NaN</td>\n",
       "    </tr>\n",
       "    <tr>\n",
       "      <th>body</th>\n",
       "      <td>67965</td>\n",
       "      <td>59811</td>\n",
       "      <td>Good</td>\n",
       "      <td>303</td>\n",
       "      <td>NaN</td>\n",
       "      <td>NaN</td>\n",
       "      <td>NaN</td>\n",
       "      <td>NaN</td>\n",
       "      <td>NaN</td>\n",
       "      <td>NaN</td>\n",
       "      <td>NaN</td>\n",
       "    </tr>\n",
       "    <tr>\n",
       "      <th>helpfulVotes</th>\n",
       "      <td>27215.0000000</td>\n",
       "      <td>NaN</td>\n",
       "      <td>NaN</td>\n",
       "      <td>NaN</td>\n",
       "      <td>8.2296895</td>\n",
       "      <td>31.9548772</td>\n",
       "      <td>1.0000000</td>\n",
       "      <td>1.0000000</td>\n",
       "      <td>2.0000000</td>\n",
       "      <td>5.0000000</td>\n",
       "      <td>990.0000000</td>\n",
       "    </tr>\n",
       "  </tbody>\n",
       "</table>\n",
       "</div>"
      ],
      "text/plain": [
       "                     count unique                top   freq      mean  \\\n",
       "asin                 67986    720         B00F2SKPIM    981       NaN   \n",
       "name                 67984  47323    Amazon Customer   6507       NaN   \n",
       "rating       67986.0000000    NaN                NaN    NaN 3.8079163   \n",
       "date                 67986   2983  December 11, 2019    234       NaN   \n",
       "verified             67986      2               True  61225       NaN   \n",
       "title                67972  41489         Five Stars   6043       NaN   \n",
       "body                 67965  59811               Good    303       NaN   \n",
       "helpfulVotes 27215.0000000    NaN                NaN    NaN 8.2296895   \n",
       "\n",
       "                    std       min       25%       50%       75%         max  \n",
       "asin                NaN       NaN       NaN       NaN       NaN         NaN  \n",
       "name                NaN       NaN       NaN       NaN       NaN         NaN  \n",
       "rating        1.5829058 1.0000000 3.0000000 5.0000000 5.0000000   5.0000000  \n",
       "date                NaN       NaN       NaN       NaN       NaN         NaN  \n",
       "verified            NaN       NaN       NaN       NaN       NaN         NaN  \n",
       "title               NaN       NaN       NaN       NaN       NaN         NaN  \n",
       "body                NaN       NaN       NaN       NaN       NaN         NaN  \n",
       "helpfulVotes 31.9548772 1.0000000 1.0000000 2.0000000 5.0000000 990.0000000  "
      ]
     },
     "execution_count": 50,
     "metadata": {
      "tags": []
     },
     "output_type": "execute_result"
    }
   ],
   "source": [
    "reviewsds.describe(include='all').transpose()"
   ]
  },
  {
   "cell_type": "code",
   "execution_count": 51,
   "metadata": {
    "colab": {
     "base_uri": "https://localhost:8080/"
    },
    "id": "tbbIn_6iwIsy",
    "outputId": "9f67bf62-e07c-4399-c818-01d69e29391e"
   },
   "outputs": [
    {
     "data": {
      "text/plain": [
       "Samsung     346\n",
       "Motorola    105\n",
       "Apple        63\n",
       "Xiaomi       46\n",
       "Nokia        44\n",
       "Google       38\n",
       "HUAWEI       32\n",
       "Sony         27\n",
       "OnePlus      10\n",
       "ASUS          5\n",
       "Name: brand, dtype: int64"
      ]
     },
     "execution_count": 51,
     "metadata": {
      "tags": []
     },
     "output_type": "execute_result"
    }
   ],
   "source": [
    "productds['brand'].value_counts()"
   ]
  },
  {
   "cell_type": "code",
   "execution_count": 53,
   "metadata": {
    "colab": {
     "base_uri": "https://localhost:8080/"
    },
    "id": "YMK_12PmwRQi",
    "outputId": "6b356297-aabf-48fc-e31a-5322989810f2"
   },
   "outputs": [
    {
     "data": {
      "text/plain": [
       "5    37752\n",
       "1    12743\n",
       "4     8824\n",
       "3     4752\n",
       "2     3915\n",
       "Name: rating, dtype: int64"
      ]
     },
     "execution_count": 53,
     "metadata": {
      "tags": []
     },
     "output_type": "execute_result"
    }
   ],
   "source": [
    "reviewsds['rating'].value_counts()"
   ]
  },
  {
   "cell_type": "markdown",
   "metadata": {
    "id": "cSdGfadUyEdU"
   },
   "source": [
    "### 4.3 From the above statistical summary, write inferences like count of unique products, top brand, top title, range of rating, price range, etc"
   ]
  },
  {
   "cell_type": "markdown",
   "metadata": {
    "id": "fFne4QMJvv2M"
   },
   "source": [
    "Inferences...\n",
    "1) There are 720 unique mobile products\n",
    "2) Samsung has 346 products which is 48%...so samsung has wide variety of mobile products and is top brand\n",
    "3) Price Range and related aspects:\n",
    "   a) 50% of the products have price less than 199 \n",
    "   b) 75% of the products have price less than 336\n",
    "  The mean value of price is 235 and max is 999 \n",
    "  Thus the price distribution exhibits positive skewness"
   ]
  },
  {
   "cell_type": "markdown",
   "metadata": {
    "id": "XMv_hXyxJKZK"
   },
   "source": [
    "### 4.4 Analyze the distribution of ratings and other categorical features like brand, etc"
   ]
  },
  {
   "cell_type": "code",
   "execution_count": 55,
   "metadata": {
    "colab": {
     "base_uri": "https://localhost:8080/",
     "height": 279
    },
    "id": "SCS1sS3gynso",
    "outputId": "b0831f2c-5189-49f3-dd03-fd8cda7ee7fd"
   },
   "outputs": [
    {
     "data": {
      "text/plain": [
       "<matplotlib.axes._subplots.AxesSubplot at 0x7f56db8ad4d0>"
      ]
     },
     "execution_count": 55,
     "metadata": {
      "tags": []
     },
     "output_type": "execute_result"
    },
    {
     "data": {
      "image/png": "[encoded data removed]",
      "text/plain": [
       "<Figure size 432x288 with 1 Axes>"
      ]
     },
     "metadata": {
      "needs_background": "light",
      "tags": []
     },
     "output_type": "display_data"
    }
   ],
   "source": [
    "reviewsds['rating'].value_counts().plot(kind='bar')"
   ]
  },
  {
   "cell_type": "code",
   "execution_count": null,
   "metadata": {
    "id": "bJ1ctlsL4faZ"
   },
   "outputs": [],
   "source": [
    "productds['brand'].value_counts().plot(kind='bar')"
   ]
  },
  {
   "cell_type": "markdown",
   "metadata": {
    "id": "48vRmbDjytAQ"
   },
   "source": [
    "Inferences...\n",
    "1) Almost 48% of the products are Samsung\n",
    "2) more than 50% of the reviews are for Samsung products"
   ]
  },
  {
   "cell_type": "markdown",
   "metadata": {
    "id": "jwZBGODgyi1a"
   },
   "source": [
    "### 4.5 Display average rating per brand"
   ]
  },
  {
   "cell_type": "code",
   "execution_count": 56,
   "metadata": {
    "colab": {
     "base_uri": "https://localhost:8080/"
    },
    "id": "OSBBiAv8yscd",
    "outputId": "9ded8159-ccbe-454b-c3aa-8e8ef99360d0"
   },
   "outputs": [
    {
     "data": {
      "text/plain": [
       "brand\n",
       "ASUS       3.8600000\n",
       "Apple      3.7825397\n",
       "Google     3.7710526\n",
       "HUAWEI     4.0218750\n",
       "Motorola   3.6438095\n",
       "Nokia      3.3863636\n",
       "OnePlus    3.5800000\n",
       "Samsung    3.6326590\n",
       "Sony       3.7888889\n",
       "Xiaomi     4.4152174\n",
       "Name: rating, dtype: float64"
      ]
     },
     "execution_count": 56,
     "metadata": {
      "tags": []
     },
     "output_type": "execute_result"
    }
   ],
   "source": [
    "productds.groupby('brand').mean()['rating']"
   ]
  },
  {
   "cell_type": "code",
   "execution_count": 57,
   "metadata": {
    "colab": {
     "base_uri": "https://localhost:8080/",
     "height": 333
    },
    "id": "7Ec0oYnh6zT2",
    "outputId": "bf2fe1e0-6fd1-4b17-80d4-0f1628cf5388"
   },
   "outputs": [
    {
     "data": {
      "text/plain": [
       "<matplotlib.axes._subplots.AxesSubplot at 0x7f56d8ec51d0>"
      ]
     },
     "execution_count": 57,
     "metadata": {
      "tags": []
     },
     "output_type": "execute_result"
    },
    {
     "data": {
      "image/png": "[encoded data removed]",
      "text/plain": [
       "<Figure size 432x288 with 1 Axes>"
      ]
     },
     "metadata": {
      "needs_background": "light",
      "tags": []
     },
     "output_type": "display_data"
    }
   ],
   "source": [
    "productds.groupby('brand').mean()['rating'].sort_values().plot(kind='bar')"
   ]
  },
  {
   "cell_type": "markdown",
   "metadata": {
    "id": "wOEjxI8K7J9x"
   },
   "source": [
    "Inferences...\n",
    "1) 'Xiaomi' brand has highest average rating.\n",
    "2) 'Nokia' brand has lowest average rating."
   ]
  },
  {
   "cell_type": "markdown",
   "metadata": {
    "id": "vUXuEwlgyvB0"
   },
   "source": [
    "### 4.6 Display average price per brand"
   ]
  },
  {
   "cell_type": "code",
   "execution_count": 58,
   "metadata": {
    "colab": {
     "base_uri": "https://localhost:8080/"
    },
    "id": "ACgIwVlyy3Pu",
    "outputId": "4318bef6-075b-4d90-dfb2-1e50e878def3"
   },
   "outputs": [
    {
     "data": {
      "text/plain": [
       "brand\n",
       "ASUS       309.6860000\n",
       "Apple      303.5811111\n",
       "Google     241.8676316\n",
       "HUAWEI     218.8290625\n",
       "Motorola   139.1210476\n",
       "Nokia      111.4438636\n",
       "OnePlus    426.1960000\n",
       "Samsung    256.5272543\n",
       "Sony       332.7248148\n",
       "Xiaomi     214.9676087\n",
       "Name: price, dtype: float64"
      ]
     },
     "execution_count": 58,
     "metadata": {
      "tags": []
     },
     "output_type": "execute_result"
    }
   ],
   "source": [
    "productds.groupby('brand').mean()['price']"
   ]
  },
  {
   "cell_type": "code",
   "execution_count": 59,
   "metadata": {
    "colab": {
     "base_uri": "https://localhost:8080/",
     "height": 333
    },
    "id": "OZAj2fwn72Sr",
    "outputId": "8ae42f43-58d1-4279-898d-fda8829929c0"
   },
   "outputs": [
    {
     "data": {
      "text/plain": [
       "<matplotlib.axes._subplots.AxesSubplot at 0x7f56d8e4d1d0>"
      ]
     },
     "execution_count": 59,
     "metadata": {
      "tags": []
     },
     "output_type": "execute_result"
    },
    {
     "data": {
      "image/png": "[encoded data removed]",
      "text/plain": [
       "<Figure size 432x288 with 1 Axes>"
      ]
     },
     "metadata": {
      "needs_background": "light",
      "tags": []
     },
     "output_type": "display_data"
    }
   ],
   "source": [
    "productds.groupby('brand').mean()['price'].sort_values().plot(kind='bar')"
   ]
  },
  {
   "cell_type": "code",
   "execution_count": 60,
   "metadata": {
    "colab": {
     "base_uri": "https://localhost:8080/"
    },
    "id": "nx8PxLSH8Mc8",
    "outputId": "5ed70ac2-5440-42b8-dc91-e434f5527594"
   },
   "outputs": [
    {
     "data": {
      "text/plain": [
       "count   720.0000000\n",
       "mean    234.9489306\n",
       "std     200.0084407\n",
       "min       0.0000000\n",
       "25%      97.5125000\n",
       "50%     188.9750000\n",
       "75%     336.7250000\n",
       "max     999.9900000\n",
       "Name: price, dtype: float64"
      ]
     },
     "execution_count": 60,
     "metadata": {
      "tags": []
     },
     "output_type": "execute_result"
    }
   ],
   "source": [
    "productds['price'].describe()"
   ]
  },
  {
   "cell_type": "markdown",
   "metadata": {
    "id": "U0JfwL74y3a-"
   },
   "source": [
    "### 4.7 Display average 'totalReviews' per brand"
   ]
  },
  {
   "cell_type": "code",
   "execution_count": 61,
   "metadata": {
    "colab": {
     "base_uri": "https://localhost:8080/",
     "height": 333
    },
    "id": "wfzciNxqzBYu",
    "outputId": "175d7930-ee97-4253-9f41-48b0b986c4a9"
   },
   "outputs": [
    {
     "data": {
      "text/plain": [
       "<matplotlib.axes._subplots.AxesSubplot at 0x7f56dc1af110>"
      ]
     },
     "execution_count": 61,
     "metadata": {
      "tags": []
     },
     "output_type": "execute_result"
    },
    {
     "data": {
      "image/png": "[encoded data removed]",
      "text/plain": [
       "<Figure size 432x288 with 1 Axes>"
      ]
     },
     "metadata": {
      "needs_background": "light",
      "tags": []
     },
     "output_type": "display_data"
    }
   ],
   "source": [
    "productds.groupby('brand').mean()['totalReviews'].sort_values().plot(kind='bar')"
   ]
  },
  {
   "cell_type": "markdown",
   "metadata": {
    "id": "x_fxI7OAeDUM"
   },
   "source": [
    "### 4.8 Merge two datasets using 'asin' and check the shape of the final dataset"
   ]
  },
  {
   "cell_type": "code",
   "execution_count": 63,
   "metadata": {
    "id": "svpHfWI9zNAP"
   },
   "outputs": [],
   "source": [
    "dfprodreview= pd.merge(reviewsds,productds,on='asin',how='inner')"
   ]
  },
  {
   "cell_type": "code",
   "execution_count": 64,
   "metadata": {
    "colab": {
     "base_uri": "https://localhost:8080/"
    },
    "id": "Lr_YdLxE--uO",
    "outputId": "634faa06-000e-46b7-ad9c-8421c80aa02b"
   },
   "outputs": [
    {
     "data": {
      "text/plain": [
       "(67986, 14)"
      ]
     },
     "execution_count": 64,
     "metadata": {
      "tags": []
     },
     "output_type": "execute_result"
    }
   ],
   "source": [
    "dfprodreview.shape"
   ]
  },
  {
   "cell_type": "code",
   "execution_count": 65,
   "metadata": {
    "colab": {
     "base_uri": "https://localhost:8080/",
     "height": 301
    },
    "id": "XbKV9k_T_oir",
    "outputId": "5efdeac4-e52b-47f1-ac21-75e3f471e56d"
   },
   "outputs": [
    {
     "data": {
      "text/html": [
       "<div>\n",
       "<style scoped>\n",
       "    .dataframe tbody tr th:only-of-type {\n",
       "        vertical-align: middle;\n",
       "    }\n",
       "\n",
       "    .dataframe tbody tr th {\n",
       "        vertical-align: top;\n",
       "    }\n",
       "\n",
       "    .dataframe thead th {\n",
       "        text-align: right;\n",
       "    }\n",
       "</style>\n",
       "<table border=\"1\" class=\"dataframe\">\n",
       "  <thead>\n",
       "    <tr style=\"text-align: right;\">\n",
       "      <th></th>\n",
       "      <th>asin</th>\n",
       "      <th>name</th>\n",
       "      <th>rating_x</th>\n",
       "      <th>date</th>\n",
       "      <th>verified</th>\n",
       "      <th>title_x</th>\n",
       "      <th>body</th>\n",
       "      <th>helpfulVotes</th>\n",
       "      <th>brand</th>\n",
       "      <th>title_y</th>\n",
       "      <th>rating_y</th>\n",
       "      <th>totalReviews</th>\n",
       "      <th>price</th>\n",
       "      <th>originalPrice</th>\n",
       "    </tr>\n",
       "  </thead>\n",
       "  <tbody>\n",
       "    <tr>\n",
       "      <th>37788</th>\n",
       "      <td>B0731HBTZ7</td>\n",
       "      <td>Syaira Thomas</td>\n",
       "      <td>1</td>\n",
       "      <td>September 14, 2019</td>\n",
       "      <td>True</td>\n",
       "      <td>Scams</td>\n",
       "      <td>Reported the phone stolen</td>\n",
       "      <td>nan</td>\n",
       "      <td>Apple</td>\n",
       "      <td>Apple iPhone 7 32GB, Rose Gold (Renewed)</td>\n",
       "      <td>3.8000000</td>\n",
       "      <td>452</td>\n",
       "      <td>199.9500000</td>\n",
       "      <td>210.0000000</td>\n",
       "    </tr>\n",
       "    <tr>\n",
       "      <th>17628</th>\n",
       "      <td>B013XAPUW6</td>\n",
       "      <td>sarah smith</td>\n",
       "      <td>2</td>\n",
       "      <td>November 24, 2018</td>\n",
       "      <td>True</td>\n",
       "      <td>buy new</td>\n",
       "      <td>Phone turned off 4 months after purchase never...</td>\n",
       "      <td>nan</td>\n",
       "      <td>Samsung</td>\n",
       "      <td>Samsung Galaxy Note 5, Black  64GB (Verizon Wi...</td>\n",
       "      <td>3.6000000</td>\n",
       "      <td>799</td>\n",
       "      <td>399.9900000</td>\n",
       "      <td>0.0000000</td>\n",
       "    </tr>\n",
       "  </tbody>\n",
       "</table>\n",
       "</div>"
      ],
      "text/plain": [
       "             asin           name  rating_x                date  verified  \\\n",
       "37788  B0731HBTZ7  Syaira Thomas         1  September 14, 2019      True   \n",
       "17628  B013XAPUW6    sarah smith         2   November 24, 2018      True   \n",
       "\n",
       "       title_x                                               body  \\\n",
       "37788    Scams                          Reported the phone stolen   \n",
       "17628  buy new  Phone turned off 4 months after purchase never...   \n",
       "\n",
       "       helpfulVotes    brand  \\\n",
       "37788           nan    Apple   \n",
       "17628           nan  Samsung   \n",
       "\n",
       "                                                 title_y  rating_y  \\\n",
       "37788           Apple iPhone 7 32GB, Rose Gold (Renewed) 3.8000000   \n",
       "17628  Samsung Galaxy Note 5, Black  64GB (Verizon Wi... 3.6000000   \n",
       "\n",
       "       totalReviews       price  originalPrice  \n",
       "37788           452 199.9500000    210.0000000  \n",
       "17628           799 399.9900000      0.0000000  "
      ]
     },
     "execution_count": 65,
     "metadata": {
      "tags": []
     },
     "output_type": "execute_result"
    }
   ],
   "source": [
    "dfprodreview.sample(2)"
   ]
  },
  {
   "cell_type": "markdown",
   "metadata": {
    "id": "zdTfwlL7fYpq"
   },
   "source": [
    "### 4.9 Rename important features with appropriate names.\n",
    "Imortant features - \"rating_x\": \"user_rating\", \"title_x\": \"review_title\", \"title_y\": \"item_title\", \"rating_y\": \"overall_rating\""
   ]
  },
  {
   "cell_type": "code",
   "execution_count": 66,
   "metadata": {
    "id": "KI-6FCkZztXM"
   },
   "outputs": [],
   "source": [
    "dfprodreview.rename(columns={\"rating_x\": \"user_rating\", \"title_x\": \"review_title\", \"title_y\": \"item_title\", \"rating_y\": \"overall_rating\"},inplace=True)"
   ]
  },
  {
   "cell_type": "code",
   "execution_count": 67,
   "metadata": {
    "colab": {
     "base_uri": "https://localhost:8080/"
    },
    "id": "2n9VV8k6AcI5",
    "outputId": "481eeeb8-784a-4f3a-f274-271b77600837"
   },
   "outputs": [
    {
     "data": {
      "text/plain": [
       "Index(['asin', 'name', 'user_rating', 'date', 'verified', 'review_title',\n",
       "       'body', 'helpfulVotes', 'brand', 'item_title', 'overall_rating',\n",
       "       'totalReviews', 'price', 'originalPrice'],\n",
       "      dtype='object')"
      ]
     },
     "execution_count": 67,
     "metadata": {
      "tags": []
     },
     "output_type": "execute_result"
    }
   ],
   "source": [
    "dfprodreview.columns"
   ]
  },
  {
   "cell_type": "markdown",
   "metadata": {
    "id": "hNHEElHszthc"
   },
   "source": [
    "### 4.10 Select rows having verified reviews and check the shape of the final dataset"
   ]
  },
  {
   "cell_type": "code",
   "execution_count": 68,
   "metadata": {
    "colab": {
     "base_uri": "https://localhost:8080/"
    },
    "id": "URzThYiiBQCQ",
    "outputId": "e53fad5d-973e-4a13-dc24-a3ddb75fb0e3"
   },
   "outputs": [
    {
     "data": {
      "text/plain": [
       "True     61225\n",
       "False     6761\n",
       "Name: verified, dtype: int64"
      ]
     },
     "execution_count": 68,
     "metadata": {
      "tags": []
     },
     "output_type": "execute_result"
    }
   ],
   "source": [
    "dfprodreview['verified'].value_counts()"
   ]
  },
  {
   "cell_type": "code",
   "execution_count": 69,
   "metadata": {
    "colab": {
     "base_uri": "https://localhost:8080/"
    },
    "id": "Jyav9_Zoz-rT",
    "outputId": "a2a04b59-05cb-4e84-8f98-5ecfec25a556"
   },
   "outputs": [
    {
     "data": {
      "text/plain": [
       "(61225, 14)"
      ]
     },
     "execution_count": 69,
     "metadata": {
      "tags": []
     },
     "output_type": "execute_result"
    }
   ],
   "source": [
    "dfprodreview[dfprodreview['verified']==True].shape"
   ]
  },
  {
   "cell_type": "code",
   "execution_count": 70,
   "metadata": {
    "id": "rv6YiFkJBoNG"
   },
   "outputs": [],
   "source": [
    "df_varified = dfprodreview[dfprodreview['verified']==True]"
   ]
  },
  {
   "cell_type": "code",
   "execution_count": 71,
   "metadata": {
    "colab": {
     "base_uri": "https://localhost:8080/"
    },
    "id": "2Wop2ns4BuRW",
    "outputId": "8b417964-9e80-44d2-e2b6-c5624b02ffa0"
   },
   "outputs": [
    {
     "data": {
      "text/plain": [
       "(61225, 14)"
      ]
     },
     "execution_count": 71,
     "metadata": {
      "tags": []
     },
     "output_type": "execute_result"
    }
   ],
   "source": [
    "df_varified.shape"
   ]
  },
  {
   "cell_type": "markdown",
   "metadata": {
    "id": "EpKusPjdz-2q"
   },
   "source": [
    "### 4.11 Check the number of reviews for various brands and report the brand that have highest number of reviews"
   ]
  },
  {
   "cell_type": "code",
   "execution_count": 72,
   "metadata": {
    "colab": {
     "base_uri": "https://localhost:8080/"
    },
    "id": "5tux6vwr0JDb",
    "outputId": "afddb07e-2f29-475c-a13a-63b900548d50"
   },
   "outputs": [
    {
     "data": {
      "text/plain": [
       "Samsung     31020\n",
       "Motorola     7714\n",
       "Nokia        4878\n",
       "Apple        4876\n",
       "Xiaomi       4207\n",
       "Google       3163\n",
       "Sony         2691\n",
       "HUAWEI       2019\n",
       "OnePlus       304\n",
       "ASUS          206\n",
       "Name: brand, dtype: int64"
      ]
     },
     "execution_count": 72,
     "metadata": {
      "tags": []
     },
     "output_type": "execute_result"
    }
   ],
   "source": [
    "df_varified['brand'].value_counts()"
   ]
  },
  {
   "cell_type": "code",
   "execution_count": 73,
   "metadata": {
    "colab": {
     "base_uri": "https://localhost:8080/",
     "height": 319
    },
    "id": "8Whm4lwCCh3j",
    "outputId": "d686abf7-ba56-4f10-d6b2-fb6e8583d403"
   },
   "outputs": [
    {
     "data": {
      "text/plain": [
       "<matplotlib.axes._subplots.AxesSubplot at 0x7f56dbbfa310>"
      ]
     },
     "execution_count": 73,
     "metadata": {
      "tags": []
     },
     "output_type": "execute_result"
    },
    {
     "data": {
      "image/png": "[encoded data removed]",
      "text/plain": [
       "<Figure size 432x288 with 1 Axes>"
      ]
     },
     "metadata": {
      "needs_background": "light",
      "tags": []
     },
     "output_type": "display_data"
    }
   ],
   "source": [
    "df_varified['brand'].value_counts().plot(kind='bar')"
   ]
  },
  {
   "cell_type": "markdown",
   "metadata": {
    "id": "gPGjMFE-0Q5k"
   },
   "source": [
    "### 4.12 Drop irrelevant columns and keep important features like 'brand','body','price','user_rating','review_title' for further analysis"
   ]
  },
  {
   "cell_type": "code",
   "execution_count": 74,
   "metadata": {
    "colab": {
     "base_uri": "https://localhost:8080/"
    },
    "id": "J_IvLN6e0e6z",
    "outputId": "6388e34d-48da-42f2-915b-107825202c90"
   },
   "outputs": [
    {
     "data": {
      "text/plain": [
       "Index(['asin', 'name', 'user_rating', 'date', 'verified', 'review_title',\n",
       "       'body', 'helpfulVotes', 'brand', 'item_title', 'overall_rating',\n",
       "       'totalReviews', 'price', 'originalPrice'],\n",
       "      dtype='object')"
      ]
     },
     "execution_count": 74,
     "metadata": {
      "tags": []
     },
     "output_type": "execute_result"
    }
   ],
   "source": [
    "dfprodreview.columns"
   ]
  },
  {
   "cell_type": "code",
   "execution_count": 75,
   "metadata": {
    "id": "ERgefqhTFGik"
   },
   "outputs": [],
   "source": [
    "finaldf = dfprodreview[['brand','body','price','user_rating','review_title']]"
   ]
  },
  {
   "cell_type": "code",
   "execution_count": 76,
   "metadata": {
    "colab": {
     "base_uri": "https://localhost:8080/",
     "height": 204
    },
    "id": "wYxMqUkgGLuB",
    "outputId": "ca842a59-8b5f-4c7f-ccc9-ddcaa95dc0b2"
   },
   "outputs": [
    {
     "data": {
      "text/html": [
       "<div>\n",
       "<style scoped>\n",
       "    .dataframe tbody tr th:only-of-type {\n",
       "        vertical-align: middle;\n",
       "    }\n",
       "\n",
       "    .dataframe tbody tr th {\n",
       "        vertical-align: top;\n",
       "    }\n",
       "\n",
       "    .dataframe thead th {\n",
       "        text-align: right;\n",
       "    }\n",
       "</style>\n",
       "<table border=\"1\" class=\"dataframe\">\n",
       "  <thead>\n",
       "    <tr style=\"text-align: right;\">\n",
       "      <th></th>\n",
       "      <th>brand</th>\n",
       "      <th>body</th>\n",
       "      <th>price</th>\n",
       "      <th>user_rating</th>\n",
       "      <th>review_title</th>\n",
       "    </tr>\n",
       "  </thead>\n",
       "  <tbody>\n",
       "    <tr>\n",
       "      <th>3312</th>\n",
       "      <td>Samsung</td>\n",
       "      <td>It was not listed as a prepaid phone. Couldn't...</td>\n",
       "      <td>0.0000000</td>\n",
       "      <td>2</td>\n",
       "      <td>Didn't do the job</td>\n",
       "    </tr>\n",
       "    <tr>\n",
       "      <th>26100</th>\n",
       "      <td>Google</td>\n",
       "      <td>I bought this when it was priced at $250 dolla...</td>\n",
       "      <td>185.0000000</td>\n",
       "      <td>5</td>\n",
       "      <td>Best value for your money.</td>\n",
       "    </tr>\n",
       "    <tr>\n",
       "      <th>66018</th>\n",
       "      <td>Motorola</td>\n",
       "      <td>After having this phone for a couple of weeks ...</td>\n",
       "      <td>119.9900000</td>\n",
       "      <td>5</td>\n",
       "      <td>Great Productivity Phone</td>\n",
       "    </tr>\n",
       "    <tr>\n",
       "      <th>37463</th>\n",
       "      <td>Motorola</td>\n",
       "      <td>great product</td>\n",
       "      <td>244.4500000</td>\n",
       "      <td>5</td>\n",
       "      <td>great prtoduct</td>\n",
       "    </tr>\n",
       "    <tr>\n",
       "      <th>63051</th>\n",
       "      <td>Apple</td>\n",
       "      <td>Very good product. Screen protector need to be...</td>\n",
       "      <td>651.5800000</td>\n",
       "      <td>5</td>\n",
       "      <td>Good choice</td>\n",
       "    </tr>\n",
       "  </tbody>\n",
       "</table>\n",
       "</div>"
      ],
      "text/plain": [
       "          brand                                               body  \\\n",
       "3312    Samsung  It was not listed as a prepaid phone. Couldn't...   \n",
       "26100    Google  I bought this when it was priced at $250 dolla...   \n",
       "66018  Motorola  After having this phone for a couple of weeks ...   \n",
       "37463  Motorola                                      great product   \n",
       "63051     Apple  Very good product. Screen protector need to be...   \n",
       "\n",
       "            price  user_rating                review_title  \n",
       "3312    0.0000000            2           Didn't do the job  \n",
       "26100 185.0000000            5  Best value for your money.  \n",
       "66018 119.9900000            5    Great Productivity Phone  \n",
       "37463 244.4500000            5              great prtoduct  \n",
       "63051 651.5800000            5                 Good choice  "
      ]
     },
     "execution_count": 76,
     "metadata": {
      "tags": []
     },
     "output_type": "execute_result"
    }
   ],
   "source": [
    "finaldf.sample(5)"
   ]
  },
  {
   "cell_type": "markdown",
   "metadata": {
    "id": "Gzo_rVT60fDf"
   },
   "source": [
    "### 4.13 Perform univariate analysis. Check distribution of price, user_rating"
   ]
  },
  {
   "cell_type": "code",
   "execution_count": 77,
   "metadata": {
    "colab": {
     "base_uri": "https://localhost:8080/",
     "height": 279
    },
    "id": "F3vzILxZ0t0L",
    "outputId": "6fdf9d34-6b77-49d7-9034-c451cc82e6d8"
   },
   "outputs": [
    {
     "data": {
      "text/plain": [
       "<matplotlib.axes._subplots.AxesSubplot at 0x7f56dba0ae50>"
      ]
     },
     "execution_count": 77,
     "metadata": {
      "tags": []
     },
     "output_type": "execute_result"
    },
    {
     "data": {
      "image/png": "[encoded data removed]",
      "text/plain": [
       "<Figure size 432x288 with 1 Axes>"
      ]
     },
     "metadata": {
      "needs_background": "light",
      "tags": []
     },
     "output_type": "display_data"
    }
   ],
   "source": [
    "finaldf['user_rating'].value_counts().plot(kind='bar')"
   ]
  },
  {
   "cell_type": "markdown",
   "metadata": {
    "id": "x0Y_kE9T0uAf"
   },
   "source": [
    "### 4.14 Create a new column called \"sentiment\". It should have value as 1 (positive) if the user_Rating is greater than 3, value as 0 (neutral) if the user_Rating == 3, and -1 (negative) is the user_Rating is less than 3."
   ]
  },
  {
   "cell_type": "code",
   "execution_count": 78,
   "metadata": {
    "id": "0sViyQ9zKCkq"
   },
   "outputs": [],
   "source": [
    "def sentiment(rating) :\n",
    "  if rating == 1 or rating ==2 :  #Lets consider these values as negative sentiment\n",
    "    return -1\n",
    "  if rating == 4 or rating ==5 :  #Lets consider these values as positive sentiment\n",
    "    return 1\n",
    "  if rating == 3 :                #Lets consider this as neutral sentiment\n",
    "    return 0\n",
    "  "
   ]
  },
  {
   "cell_type": "code",
   "execution_count": 80,
   "metadata": {
    "id": "7IkQnCzXOHHv"
   },
   "outputs": [],
   "source": [
    "finaldf['Sentiment'] = finaldf['user_rating'].apply(lambda x : sentiment(x))"
   ]
  },
  {
   "cell_type": "markdown",
   "metadata": {
    "id": "K4rxSZWp1VAb"
   },
   "source": [
    "### 4.15 Check frequency distribution of the 'sentiment'"
   ]
  },
  {
   "cell_type": "code",
   "execution_count": 81,
   "metadata": {
    "colab": {
     "base_uri": "https://localhost:8080/",
     "height": 282
    },
    "id": "unBHXJ9HPsQL",
    "outputId": "d587e057-b870-4709-a8ee-f3c299ce7137"
   },
   "outputs": [
    {
     "data": {
      "text/plain": [
       "<matplotlib.axes._subplots.AxesSubplot at 0x7f56dbd597d0>"
      ]
     },
     "execution_count": 81,
     "metadata": {
      "tags": []
     },
     "output_type": "execute_result"
    },
    {
     "data": {
      "image/png": "[encoded data removed]",
      "text/plain": [
       "<Figure size 432x288 with 1 Axes>"
      ]
     },
     "metadata": {
      "needs_background": "light",
      "tags": []
     },
     "output_type": "display_data"
    }
   ],
   "source": [
    "finaldf['Sentiment'].value_counts().plot(kind='bar')"
   ]
  },
  {
   "cell_type": "markdown",
   "metadata": {
    "id": "rK0KMghP1ddb"
   },
   "source": [
    "### 4.16 Perform bivariate analysis. Check correlation/crosstab between features and write your inferences."
   ]
  },
  {
   "cell_type": "code",
   "execution_count": 82,
   "metadata": {
    "colab": {
     "base_uri": "https://localhost:8080/",
     "height": 390
    },
    "id": "scAV4fRg1nX0",
    "outputId": "bc95babc-0fc4-4b72-f872-37c0c7194a4c"
   },
   "outputs": [
    {
     "data": {
      "text/html": [
       "<div>\n",
       "<style scoped>\n",
       "    .dataframe tbody tr th:only-of-type {\n",
       "        vertical-align: middle;\n",
       "    }\n",
       "\n",
       "    .dataframe tbody tr th {\n",
       "        vertical-align: top;\n",
       "    }\n",
       "\n",
       "    .dataframe thead th {\n",
       "        text-align: right;\n",
       "    }\n",
       "</style>\n",
       "<table border=\"1\" class=\"dataframe\">\n",
       "  <thead>\n",
       "    <tr style=\"text-align: right;\">\n",
       "      <th>Sentiment</th>\n",
       "      <th>-1</th>\n",
       "      <th>0</th>\n",
       "      <th>1</th>\n",
       "    </tr>\n",
       "    <tr>\n",
       "      <th>brand</th>\n",
       "      <th></th>\n",
       "      <th></th>\n",
       "      <th></th>\n",
       "    </tr>\n",
       "  </thead>\n",
       "  <tbody>\n",
       "    <tr>\n",
       "      <th>ASUS</th>\n",
       "      <td>64</td>\n",
       "      <td>25</td>\n",
       "      <td>162</td>\n",
       "    </tr>\n",
       "    <tr>\n",
       "      <th>Apple</th>\n",
       "      <td>1434</td>\n",
       "      <td>322</td>\n",
       "      <td>3389</td>\n",
       "    </tr>\n",
       "    <tr>\n",
       "      <th>Google</th>\n",
       "      <td>1169</td>\n",
       "      <td>267</td>\n",
       "      <td>2351</td>\n",
       "    </tr>\n",
       "    <tr>\n",
       "      <th>HUAWEI</th>\n",
       "      <td>309</td>\n",
       "      <td>124</td>\n",
       "      <td>1792</td>\n",
       "    </tr>\n",
       "    <tr>\n",
       "      <th>Motorola</th>\n",
       "      <td>2104</td>\n",
       "      <td>653</td>\n",
       "      <td>6123</td>\n",
       "    </tr>\n",
       "    <tr>\n",
       "      <th>Nokia</th>\n",
       "      <td>1710</td>\n",
       "      <td>540</td>\n",
       "      <td>3665</td>\n",
       "    </tr>\n",
       "    <tr>\n",
       "      <th>OnePlus</th>\n",
       "      <td>52</td>\n",
       "      <td>13</td>\n",
       "      <td>282</td>\n",
       "    </tr>\n",
       "    <tr>\n",
       "      <th>Samsung</th>\n",
       "      <td>8537</td>\n",
       "      <td>2292</td>\n",
       "      <td>22800</td>\n",
       "    </tr>\n",
       "    <tr>\n",
       "      <th>Sony</th>\n",
       "      <td>770</td>\n",
       "      <td>280</td>\n",
       "      <td>2146</td>\n",
       "    </tr>\n",
       "    <tr>\n",
       "      <th>Xiaomi</th>\n",
       "      <td>460</td>\n",
       "      <td>222</td>\n",
       "      <td>3729</td>\n",
       "    </tr>\n",
       "  </tbody>\n",
       "</table>\n",
       "</div>"
      ],
      "text/plain": [
       "Sentiment    -1     0      1\n",
       "brand                       \n",
       "ASUS         64    25    162\n",
       "Apple      1434   322   3389\n",
       "Google     1169   267   2351\n",
       "HUAWEI      309   124   1792\n",
       "Motorola   2104   653   6123\n",
       "Nokia      1710   540   3665\n",
       "OnePlus      52    13    282\n",
       "Samsung    8537  2292  22800\n",
       "Sony        770   280   2146\n",
       "Xiaomi      460   222   3729"
      ]
     },
     "execution_count": 82,
     "metadata": {
      "tags": []
     },
     "output_type": "execute_result"
    }
   ],
   "source": [
    "pd.crosstab(finaldf['Sentiment'], finaldf['brand']).T"
   ]
  },
  {
   "cell_type": "code",
   "execution_count": 83,
   "metadata": {
    "colab": {
     "base_uri": "https://localhost:8080/",
     "height": 333
    },
    "id": "3VZpqq_uMGMu",
    "outputId": "4677f286-face-42c1-a46c-16068205c5e5"
   },
   "outputs": [
    {
     "data": {
      "text/plain": [
       "<matplotlib.axes._subplots.AxesSubplot at 0x7f56db9da290>"
      ]
     },
     "execution_count": 83,
     "metadata": {
      "tags": []
     },
     "output_type": "execute_result"
    },
    {
     "data": {
      "image/png": "[encoded data removed]",
      "text/plain": [
       "<Figure size 432x288 with 1 Axes>"
      ]
     },
     "metadata": {
      "needs_background": "light",
      "tags": []
     },
     "output_type": "display_data"
    }
   ],
   "source": [
    "pd.crosstab(finaldf['Sentiment'], finaldf['brand']).T.plot(kind='bar')"
   ]
  },
  {
   "cell_type": "code",
   "execution_count": 84,
   "metadata": {
    "colab": {
     "base_uri": "https://localhost:8080/",
     "height": 333
    },
    "id": "w_ir47XlMOkz",
    "outputId": "03e3afc8-c8ae-4bee-cd8d-9a6b80c475ae"
   },
   "outputs": [
    {
     "data": {
      "text/plain": [
       "<matplotlib.axes._subplots.AxesSubplot at 0x7f56dc0e4290>"
      ]
     },
     "execution_count": 84,
     "metadata": {
      "tags": []
     },
     "output_type": "execute_result"
    },
    {
     "data": {
      "image/png": "[encoded data removed]",
      "text/plain": [
       "<Figure size 432x288 with 1 Axes>"
      ]
     },
     "metadata": {
      "needs_background": "light",
      "tags": []
     },
     "output_type": "display_data"
    }
   ],
   "source": [
    "pd.crosstab(finaldf['user_rating'], finaldf['brand']).T.plot(kind='bar')"
   ]
  },
  {
   "cell_type": "markdown",
   "metadata": {
    "id": "6mdeEp3CqJ0G"
   },
   "source": [
    "Based on above charts it seems that people aggresively rate their most postive or mmost negative experiance.\n",
    "The users have given rating in case of user rating 5 or 1 for all brands "
   ]
  },
  {
   "cell_type": "markdown",
   "metadata": {
    "id": "2Nzj7ZXVLakx"
   },
   "source": [
    "## 5. Text Preprocessing and Vectorization"
   ]
  },
  {
   "cell_type": "markdown",
   "metadata": {
    "id": "ZbC_RPndnlf3"
   },
   "source": [
    "We will analyze the 'body' and 'review_title' to gain more understanding.\n",
    "\n",
    "We will ppeform the below tasks\n",
    "\n",
    "- Convert the text into lowercase\n",
    "- Remove punctuation\n",
    "- Remove stopwords (English, from nltk corpus)\n",
    "- Remove other keywords like \"phone\" and brand name"
   ]
  },
  {
   "cell_type": "markdown",
   "metadata": {
    "id": "XnhMQsxz2DJH"
   },
   "source": [
    "### 5.1 Change the datatype of the 'body' column to 'str' and convert it into lowercase. Print any two samples and check the output."
   ]
  },
  {
   "cell_type": "code",
   "execution_count": 85,
   "metadata": {
    "colab": {
     "base_uri": "https://localhost:8080/"
    },
    "id": "1DbTf2yc2VOQ",
    "outputId": "24b1bf93-c2e0-4174-86d4-19296676e063"
   },
   "outputs": [
    {
     "data": {
      "text/plain": [
       "brand            object\n",
       "body             object\n",
       "price           float64\n",
       "user_rating       int64\n",
       "review_title     object\n",
       "Sentiment         int64\n",
       "dtype: object"
      ]
     },
     "execution_count": 85,
     "metadata": {
      "tags": []
     },
     "output_type": "execute_result"
    }
   ],
   "source": [
    "finaldf.dtypes"
   ]
  },
  {
   "cell_type": "code",
   "execution_count": 86,
   "metadata": {
    "id": "lNtpQOYmR6TP"
   },
   "outputs": [],
   "source": [
    "finaldf['body'] = finaldf['body'].astype('str')"
   ]
  },
  {
   "cell_type": "code",
   "execution_count": 87,
   "metadata": {
    "id": "AS9mYGinSFWv"
   },
   "outputs": [],
   "source": [
    "finaldf['body'] = finaldf['body'].str.lower()"
   ]
  },
  {
   "cell_type": "code",
   "execution_count": 88,
   "metadata": {
    "colab": {
     "base_uri": "https://localhost:8080/",
     "height": 111
    },
    "id": "F_floWqeSWSH",
    "outputId": "cac24998-a9f6-4dbd-fded-e40f30b12c18"
   },
   "outputs": [
    {
     "data": {
      "text/html": [
       "<div>\n",
       "<style scoped>\n",
       "    .dataframe tbody tr th:only-of-type {\n",
       "        vertical-align: middle;\n",
       "    }\n",
       "\n",
       "    .dataframe tbody tr th {\n",
       "        vertical-align: top;\n",
       "    }\n",
       "\n",
       "    .dataframe thead th {\n",
       "        text-align: right;\n",
       "    }\n",
       "</style>\n",
       "<table border=\"1\" class=\"dataframe\">\n",
       "  <thead>\n",
       "    <tr style=\"text-align: right;\">\n",
       "      <th></th>\n",
       "      <th>brand</th>\n",
       "      <th>body</th>\n",
       "      <th>price</th>\n",
       "      <th>user_rating</th>\n",
       "      <th>review_title</th>\n",
       "      <th>Sentiment</th>\n",
       "    </tr>\n",
       "  </thead>\n",
       "  <tbody>\n",
       "    <tr>\n",
       "      <th>22235</th>\n",
       "      <td>Samsung</td>\n",
       "      <td>best phone ever i loved...........</td>\n",
       "      <td>399.0000000</td>\n",
       "      <td>5</td>\n",
       "      <td>beautiful phone ..</td>\n",
       "      <td>1</td>\n",
       "    </tr>\n",
       "    <tr>\n",
       "      <th>23156</th>\n",
       "      <td>Samsung</td>\n",
       "      <td>you just get what you pay for.</td>\n",
       "      <td>104.9000000</td>\n",
       "      <td>2</td>\n",
       "      <td>Two Stars</td>\n",
       "      <td>-1</td>\n",
       "    </tr>\n",
       "  </tbody>\n",
       "</table>\n",
       "</div>"
      ],
      "text/plain": [
       "         brand                                body       price  user_rating  \\\n",
       "22235  Samsung  best phone ever i loved........... 399.0000000            5   \n",
       "23156  Samsung      you just get what you pay for. 104.9000000            2   \n",
       "\n",
       "             review_title  Sentiment  \n",
       "22235  beautiful phone ..          1  \n",
       "23156           Two Stars         -1  "
      ]
     },
     "execution_count": 88,
     "metadata": {
      "tags": []
     },
     "output_type": "execute_result"
    }
   ],
   "source": [
    "finaldf.sample(2)"
   ]
  },
  {
   "cell_type": "markdown",
   "metadata": {
    "id": "lsppV0X52VXf"
   },
   "source": [
    "### 5.2 Remove punctuations from the lowercased 'body' column and display at least two samples."
   ]
  },
  {
   "cell_type": "code",
   "execution_count": 89,
   "metadata": {
    "id": "lQXKc8et2onG"
   },
   "outputs": [],
   "source": [
    "finaldf['body'] = finaldf['body'].str.replace('[^\\w\\s]',' ')  #Lets replace all except words and space characters"
   ]
  },
  {
   "cell_type": "code",
   "execution_count": 90,
   "metadata": {
    "colab": {
     "base_uri": "https://localhost:8080/",
     "height": 111
    },
    "id": "n2aNQoavUPC7",
    "outputId": "e7eef6ae-0725-4e24-9394-af9a6a4d1812"
   },
   "outputs": [
    {
     "data": {
      "text/html": [
       "<div>\n",
       "<style scoped>\n",
       "    .dataframe tbody tr th:only-of-type {\n",
       "        vertical-align: middle;\n",
       "    }\n",
       "\n",
       "    .dataframe tbody tr th {\n",
       "        vertical-align: top;\n",
       "    }\n",
       "\n",
       "    .dataframe thead th {\n",
       "        text-align: right;\n",
       "    }\n",
       "</style>\n",
       "<table border=\"1\" class=\"dataframe\">\n",
       "  <thead>\n",
       "    <tr style=\"text-align: right;\">\n",
       "      <th></th>\n",
       "      <th>brand</th>\n",
       "      <th>body</th>\n",
       "      <th>price</th>\n",
       "      <th>user_rating</th>\n",
       "      <th>review_title</th>\n",
       "      <th>Sentiment</th>\n",
       "    </tr>\n",
       "  </thead>\n",
       "  <tbody>\n",
       "    <tr>\n",
       "      <th>61895</th>\n",
       "      <td>Samsung</td>\n",
       "      <td>i have metro pcs and i was very interested in ...</td>\n",
       "      <td>398.0000000</td>\n",
       "      <td>5</td>\n",
       "      <td>Best Purchase Dollar for Dollar</td>\n",
       "      <td>1</td>\n",
       "    </tr>\n",
       "    <tr>\n",
       "      <th>65890</th>\n",
       "      <td>Motorola</td>\n",
       "      <td>i love it</td>\n",
       "      <td>129.0000000</td>\n",
       "      <td>5</td>\n",
       "      <td>Five Stars</td>\n",
       "      <td>1</td>\n",
       "    </tr>\n",
       "  </tbody>\n",
       "</table>\n",
       "</div>"
      ],
      "text/plain": [
       "          brand                                               body  \\\n",
       "61895   Samsung  i have metro pcs and i was very interested in ...   \n",
       "65890  Motorola                                          i love it   \n",
       "\n",
       "            price  user_rating                     review_title  Sentiment  \n",
       "61895 398.0000000            5  Best Purchase Dollar for Dollar          1  \n",
       "65890 129.0000000            5                       Five Stars          1  "
      ]
     },
     "execution_count": 90,
     "metadata": {
      "tags": []
     },
     "output_type": "execute_result"
    }
   ],
   "source": [
    "finaldf.sample(2)"
   ]
  },
  {
   "cell_type": "markdown",
   "metadata": {
    "id": "8Zk7ja6A2owN"
   },
   "source": [
    "### 5.3 Remove stop words from the above pre-processed 'body' column and display at least two samples."
   ]
  },
  {
   "cell_type": "code",
   "execution_count": 91,
   "metadata": {
    "colab": {
     "base_uri": "https://localhost:8080/"
    },
    "id": "1d-DhX_e2yQ-",
    "outputId": "be194942-68ec-4b32-a327-fb2c9e9f5c45"
   },
   "outputs": [
    {
     "name": "stdout",
     "output_type": "stream",
     "text": [
      "[nltk_data] Downloading package stopwords to /root/nltk_data...\n",
      "[nltk_data]   Unzipping corpora/stopwords.zip.\n"
     ]
    }
   ],
   "source": [
    "import nltk\n",
    "from nltk.corpus import stopwords\n",
    "nltk.download('stopwords')\n",
    "stop_words = stopwords.words('english')"
   ]
  },
  {
   "cell_type": "code",
   "execution_count": 92,
   "metadata": {
    "id": "2jkXV82mWzsZ"
   },
   "outputs": [],
   "source": [
    "finaldf['body'] = finaldf['body'].apply(lambda x : ' '.join(word for word in x.split() if word not in (stop_words)))"
   ]
  },
  {
   "cell_type": "code",
   "execution_count": 93,
   "metadata": {
    "colab": {
     "base_uri": "https://localhost:8080/",
     "height": 111
    },
    "id": "PrkAVaGoYYa4",
    "outputId": "6e747798-65a3-43f5-fd62-d4d34ae93e9c"
   },
   "outputs": [
    {
     "data": {
      "text/html": [
       "<div>\n",
       "<style scoped>\n",
       "    .dataframe tbody tr th:only-of-type {\n",
       "        vertical-align: middle;\n",
       "    }\n",
       "\n",
       "    .dataframe tbody tr th {\n",
       "        vertical-align: top;\n",
       "    }\n",
       "\n",
       "    .dataframe thead th {\n",
       "        text-align: right;\n",
       "    }\n",
       "</style>\n",
       "<table border=\"1\" class=\"dataframe\">\n",
       "  <thead>\n",
       "    <tr style=\"text-align: right;\">\n",
       "      <th></th>\n",
       "      <th>brand</th>\n",
       "      <th>body</th>\n",
       "      <th>price</th>\n",
       "      <th>user_rating</th>\n",
       "      <th>review_title</th>\n",
       "      <th>Sentiment</th>\n",
       "    </tr>\n",
       "  </thead>\n",
       "  <tbody>\n",
       "    <tr>\n",
       "      <th>34845</th>\n",
       "      <td>Samsung</td>\n",
       "      <td>great item</td>\n",
       "      <td>449.9900000</td>\n",
       "      <td>5</td>\n",
       "      <td>Amazing gift</td>\n",
       "      <td>1</td>\n",
       "    </tr>\n",
       "    <tr>\n",
       "      <th>2320</th>\n",
       "      <td>Samsung</td>\n",
       "      <td>replacement type phone needed calls occasional...</td>\n",
       "      <td>97.6900000</td>\n",
       "      <td>4</td>\n",
       "      <td>handles the basics</td>\n",
       "      <td>1</td>\n",
       "    </tr>\n",
       "  </tbody>\n",
       "</table>\n",
       "</div>"
      ],
      "text/plain": [
       "         brand                                               body       price  \\\n",
       "34845  Samsung                                         great item 449.9900000   \n",
       "2320   Samsung  replacement type phone needed calls occasional...  97.6900000   \n",
       "\n",
       "       user_rating        review_title  Sentiment  \n",
       "34845            5        Amazing gift          1  \n",
       "2320             4  handles the basics          1  "
      ]
     },
     "execution_count": 93,
     "metadata": {
      "tags": []
     },
     "output_type": "execute_result"
    }
   ],
   "source": [
    "finaldf.sample(2)"
   ]
  },
  {
   "cell_type": "markdown",
   "metadata": {
    "id": "TQNvXay42yaQ"
   },
   "source": [
    "### 5.4 Apply lemmatisation on the above preprocessed text and display a few samples"
   ]
  },
  {
   "cell_type": "code",
   "execution_count": 94,
   "metadata": {
    "colab": {
     "base_uri": "https://localhost:8080/"
    },
    "id": "9mUkRcSsbycq",
    "outputId": "378d6523-b905-4dbe-c5c8-8b2136dcd420"
   },
   "outputs": [
    {
     "name": "stdout",
     "output_type": "stream",
     "text": [
      "[nltk_data] Downloading package wordnet to /root/nltk_data...\n",
      "[nltk_data]   Unzipping corpora/wordnet.zip.\n"
     ]
    }
   ],
   "source": [
    "import nltk \n",
    "nltk.download('wordnet') \n",
    "w_tokenizer = nltk.tokenize.WhitespaceTokenizer() \n",
    "lemmatizer = nltk.stem.WordNetLemmatizer() "
   ]
  },
  {
   "cell_type": "code",
   "execution_count": 95,
   "metadata": {
    "id": "iUFdAWCQcopN"
   },
   "outputs": [],
   "source": [
    "def lemmatize_text_nltk(text) : \n",
    "  return [lemmatizer.lemmatize(w) for w in w_tokenizer.tokenize(text)] "
   ]
  },
  {
   "cell_type": "code",
   "execution_count": 96,
   "metadata": {
    "id": "MzIAyX3N6lz5"
   },
   "outputs": [],
   "source": [
    "finaldf['body_1']  = finaldf['body'].apply(lambda x : lemmatize_text_nltk(x))"
   ]
  },
  {
   "cell_type": "code",
   "execution_count": 97,
   "metadata": {
    "colab": {
     "base_uri": "https://localhost:8080/",
     "height": 512
    },
    "id": "7mKAemSOc5wc",
    "outputId": "0099cae8-d175-4109-b0d1-1a70a56099c4"
   },
   "outputs": [
    {
     "data": {
      "text/html": [
       "<div>\n",
       "<style scoped>\n",
       "    .dataframe tbody tr th:only-of-type {\n",
       "        vertical-align: middle;\n",
       "    }\n",
       "\n",
       "    .dataframe tbody tr th {\n",
       "        vertical-align: top;\n",
       "    }\n",
       "\n",
       "    .dataframe thead th {\n",
       "        text-align: right;\n",
       "    }\n",
       "</style>\n",
       "<table border=\"1\" class=\"dataframe\">\n",
       "  <thead>\n",
       "    <tr style=\"text-align: right;\">\n",
       "      <th></th>\n",
       "      <th>brand</th>\n",
       "      <th>body</th>\n",
       "      <th>price</th>\n",
       "      <th>user_rating</th>\n",
       "      <th>review_title</th>\n",
       "      <th>Sentiment</th>\n",
       "      <th>body_1</th>\n",
       "    </tr>\n",
       "  </thead>\n",
       "  <tbody>\n",
       "    <tr>\n",
       "      <th>4969</th>\n",
       "      <td>Samsung</td>\n",
       "      <td>phone great everything need user friendly woul...</td>\n",
       "      <td>0.0000000</td>\n",
       "      <td>5</td>\n",
       "      <td>Awesome Phone</td>\n",
       "      <td>1</td>\n",
       "      <td>[phone, great, everything, need, user, friendl...</td>\n",
       "    </tr>\n",
       "    <tr>\n",
       "      <th>43481</th>\n",
       "      <td>Samsung</td>\n",
       "      <td>product looks words good first sight helpful i...</td>\n",
       "      <td>199.0000000</td>\n",
       "      <td>5</td>\n",
       "      <td>good product</td>\n",
       "      <td>1</td>\n",
       "      <td>[product, look, word, good, first, sight, help...</td>\n",
       "    </tr>\n",
       "    <tr>\n",
       "      <th>24081</th>\n",
       "      <td>Sony</td>\n",
       "      <td>good phone live 16 gb battery make day know so...</td>\n",
       "      <td>119.9900000</td>\n",
       "      <td>4</td>\n",
       "      <td>Excellent Phone for the Price, your getting wh...</td>\n",
       "      <td>1</td>\n",
       "      <td>[good, phone, live, 16, gb, battery, make, day...</td>\n",
       "    </tr>\n",
       "    <tr>\n",
       "      <th>53738</th>\n",
       "      <td>Sony</td>\n",
       "      <td>neat phone</td>\n",
       "      <td>370.7400000</td>\n",
       "      <td>5</td>\n",
       "      <td>Five Stars</td>\n",
       "      <td>1</td>\n",
       "      <td>[neat, phone]</td>\n",
       "    </tr>\n",
       "    <tr>\n",
       "      <th>43861</th>\n",
       "      <td>Sony</td>\n",
       "      <td>iphone 6 user went great slow 2017 replaced ba...</td>\n",
       "      <td>249.9900000</td>\n",
       "      <td>5</td>\n",
       "      <td>Nice big phone</td>\n",
       "      <td>1</td>\n",
       "      <td>[iphone, 6, user, went, great, slow, 2017, rep...</td>\n",
       "    </tr>\n",
       "    <tr>\n",
       "      <th>33929</th>\n",
       "      <td>Samsung</td>\n",
       "      <td>phone network locked supposed use said unlocked</td>\n",
       "      <td>399.9800000</td>\n",
       "      <td>1</td>\n",
       "      <td>Very disappointed</td>\n",
       "      <td>-1</td>\n",
       "      <td>[phone, network, locked, supposed, use, said, ...</td>\n",
       "    </tr>\n",
       "    <tr>\n",
       "      <th>23680</th>\n",
       "      <td>Samsung</td>\n",
       "      <td>received galaxy phone described excellent cond...</td>\n",
       "      <td>0.0000000</td>\n",
       "      <td>5</td>\n",
       "      <td>Great phone from exvellent seller</td>\n",
       "      <td>1</td>\n",
       "      <td>[received, galaxy, phone, described, excellent...</td>\n",
       "    </tr>\n",
       "    <tr>\n",
       "      <th>11553</th>\n",
       "      <td>Nokia</td>\n",
       "      <td>first time purchasing unlocked phone amazon wo...</td>\n",
       "      <td>103.9800000</td>\n",
       "      <td>5</td>\n",
       "      <td>Well I bought 3 of these phones and they all c...</td>\n",
       "      <td>1</td>\n",
       "      <td>[first, time, purchasing, unlocked, phone, ama...</td>\n",
       "    </tr>\n",
       "    <tr>\n",
       "      <th>35824</th>\n",
       "      <td>Samsung</td>\n",
       "      <td>fine 3 phone working country</td>\n",
       "      <td>139.9900000</td>\n",
       "      <td>5</td>\n",
       "      <td>All was fine: 3 the phone working here in my c...</td>\n",
       "      <td>1</td>\n",
       "      <td>[fine, 3, phone, working, country]</td>\n",
       "    </tr>\n",
       "    <tr>\n",
       "      <th>40710</th>\n",
       "      <td>Samsung</td>\n",
       "      <td>nice phone excellent camera battery also nice ...</td>\n",
       "      <td>269.9900000</td>\n",
       "      <td>4</td>\n",
       "      <td>Great product</td>\n",
       "      <td>1</td>\n",
       "      <td>[nice, phone, excellent, camera, battery, also...</td>\n",
       "    </tr>\n",
       "  </tbody>\n",
       "</table>\n",
       "</div>"
      ],
      "text/plain": [
       "         brand                                               body       price  \\\n",
       "4969   Samsung  phone great everything need user friendly woul...   0.0000000   \n",
       "43481  Samsung  product looks words good first sight helpful i... 199.0000000   \n",
       "24081     Sony  good phone live 16 gb battery make day know so... 119.9900000   \n",
       "53738     Sony                                         neat phone 370.7400000   \n",
       "43861     Sony  iphone 6 user went great slow 2017 replaced ba... 249.9900000   \n",
       "33929  Samsung    phone network locked supposed use said unlocked 399.9800000   \n",
       "23680  Samsung  received galaxy phone described excellent cond...   0.0000000   \n",
       "11553    Nokia  first time purchasing unlocked phone amazon wo... 103.9800000   \n",
       "35824  Samsung                       fine 3 phone working country 139.9900000   \n",
       "40710  Samsung  nice phone excellent camera battery also nice ... 269.9900000   \n",
       "\n",
       "       user_rating                                       review_title  \\\n",
       "4969             5                                      Awesome Phone   \n",
       "43481            5                                       good product   \n",
       "24081            4  Excellent Phone for the Price, your getting wh...   \n",
       "53738            5                                         Five Stars   \n",
       "43861            5                                     Nice big phone   \n",
       "33929            1                                  Very disappointed   \n",
       "23680            5                  Great phone from exvellent seller   \n",
       "11553            5  Well I bought 3 of these phones and they all c...   \n",
       "35824            5  All was fine: 3 the phone working here in my c...   \n",
       "40710            4                                      Great product   \n",
       "\n",
       "       Sentiment                                             body_1  \n",
       "4969           1  [phone, great, everything, need, user, friendl...  \n",
       "43481          1  [product, look, word, good, first, sight, help...  \n",
       "24081          1  [good, phone, live, 16, gb, battery, make, day...  \n",
       "53738          1                                      [neat, phone]  \n",
       "43861          1  [iphone, 6, user, went, great, slow, 2017, rep...  \n",
       "33929         -1  [phone, network, locked, supposed, use, said, ...  \n",
       "23680          1  [received, galaxy, phone, described, excellent...  \n",
       "11553          1  [first, time, purchasing, unlocked, phone, ama...  \n",
       "35824          1                 [fine, 3, phone, working, country]  \n",
       "40710          1  [nice, phone, excellent, camera, battery, also...  "
      ]
     },
     "execution_count": 97,
     "metadata": {
      "tags": []
     },
     "output_type": "execute_result"
    }
   ],
   "source": [
    "finaldf.sample(10)"
   ]
  },
  {
   "cell_type": "markdown",
   "metadata": {
    "id": "dZl44vz22bTi"
   },
   "source": [
    "Seems that nltk library is unable to apply lemmatisation correctly for all reviews as I can still see workds with 'ing' 'ed'\n",
    "Lets try another library"
   ]
  },
  {
   "cell_type": "code",
   "execution_count": 98,
   "metadata": {
    "id": "RLEE4z-idoz5"
   },
   "outputs": [],
   "source": [
    "import spacy\n",
    "nlp = spacy.load('en')"
   ]
  },
  {
   "cell_type": "code",
   "execution_count": 99,
   "metadata": {
    "id": "3wB_7NVCd075"
   },
   "outputs": [],
   "source": [
    "def lemmatize_text_spacy(text):\n",
    "    text = nlp(text)\n",
    "    text = ' '.join([word.lemma_ if word.lemma_ != '-PRON-' else word.text for word in text])\n",
    "    return text"
   ]
  },
  {
   "cell_type": "code",
   "execution_count": 100,
   "metadata": {
    "id": "fVah0vqofPxc"
   },
   "outputs": [],
   "source": [
    "finaldf['body_2']  = finaldf['body'].apply(lambda x : lemmatize_text_spacy(x))"
   ]
  },
  {
   "cell_type": "code",
   "execution_count": 101,
   "metadata": {
    "colab": {
     "base_uri": "https://localhost:8080/",
     "height": 580
    },
    "id": "72gWAG-26Jhr",
    "outputId": "38d21163-8e8a-4d3e-ee39-0980465e3e0d"
   },
   "outputs": [
    {
     "data": {
      "text/html": [
       "<div>\n",
       "<style scoped>\n",
       "    .dataframe tbody tr th:only-of-type {\n",
       "        vertical-align: middle;\n",
       "    }\n",
       "\n",
       "    .dataframe tbody tr th {\n",
       "        vertical-align: top;\n",
       "    }\n",
       "\n",
       "    .dataframe thead th {\n",
       "        text-align: right;\n",
       "    }\n",
       "</style>\n",
       "<table border=\"1\" class=\"dataframe\">\n",
       "  <thead>\n",
       "    <tr style=\"text-align: right;\">\n",
       "      <th></th>\n",
       "      <th>brand</th>\n",
       "      <th>body</th>\n",
       "      <th>price</th>\n",
       "      <th>user_rating</th>\n",
       "      <th>review_title</th>\n",
       "      <th>Sentiment</th>\n",
       "      <th>body_1</th>\n",
       "      <th>body_2</th>\n",
       "    </tr>\n",
       "  </thead>\n",
       "  <tbody>\n",
       "    <tr>\n",
       "      <th>25603</th>\n",
       "      <td>Motorola</td>\n",
       "      <td>battery life worse part unacceptable phone pri...</td>\n",
       "      <td>0.0000000</td>\n",
       "      <td>1</td>\n",
       "      <td>Do not buy. The battery does not hold up on this.</td>\n",
       "      <td>-1</td>\n",
       "      <td>[battery, life, worse, part, unacceptable, pho...</td>\n",
       "      <td>battery life bad part unacceptable phone price...</td>\n",
       "    </tr>\n",
       "    <tr>\n",
       "      <th>28927</th>\n",
       "      <td>Samsung</td>\n",
       "      <td>great phone drop height 2ft onto wood floor re...</td>\n",
       "      <td>0.0000000</td>\n",
       "      <td>5</td>\n",
       "      <td>nice piece of tech</td>\n",
       "      <td>1</td>\n",
       "      <td>[great, phone, drop, height, 2ft, onto, wood, ...</td>\n",
       "      <td>great phone drop height 2 ft onto wood floor r...</td>\n",
       "    </tr>\n",
       "    <tr>\n",
       "      <th>24226</th>\n",
       "      <td>Sony</td>\n",
       "      <td>even use phone drains battery get charger 7am ...</td>\n",
       "      <td>169.0000000</td>\n",
       "      <td>1</td>\n",
       "      <td>Nice phone, horrible battery life.</td>\n",
       "      <td>-1</td>\n",
       "      <td>[even, use, phone, drain, battery, get, charge...</td>\n",
       "      <td>even use phone drain battery get charger 7 a.m...</td>\n",
       "    </tr>\n",
       "    <tr>\n",
       "      <th>61937</th>\n",
       "      <td>Xiaomi</td>\n",
       "      <td>really great phone cheap fingerprint scanner s...</td>\n",
       "      <td>176.9400000</td>\n",
       "      <td>5</td>\n",
       "      <td>Amazing for cost</td>\n",
       "      <td>1</td>\n",
       "      <td>[really, great, phone, cheap, fingerprint, sca...</td>\n",
       "      <td>really great phone cheap fingerprint scanner s...</td>\n",
       "    </tr>\n",
       "    <tr>\n",
       "      <th>25089</th>\n",
       "      <td>Apple</td>\n",
       "      <td>touch screen work</td>\n",
       "      <td>198.9000000</td>\n",
       "      <td>1</td>\n",
       "      <td>..</td>\n",
       "      <td>-1</td>\n",
       "      <td>[touch, screen, work]</td>\n",
       "      <td>touch screen work</td>\n",
       "    </tr>\n",
       "    <tr>\n",
       "      <th>54279</th>\n",
       "      <td>NaN</td>\n",
       "      <td>really wish could expand memory</td>\n",
       "      <td>549.0000000</td>\n",
       "      <td>5</td>\n",
       "      <td>Gamers must get it</td>\n",
       "      <td>1</td>\n",
       "      <td>[really, wish, could, expand, memory]</td>\n",
       "      <td>really wish could expand memory</td>\n",
       "    </tr>\n",
       "    <tr>\n",
       "      <th>14987</th>\n",
       "      <td>Samsung</td>\n",
       "      <td>everything works perfection</td>\n",
       "      <td>169.9300000</td>\n",
       "      <td>5</td>\n",
       "      <td>Five Stars</td>\n",
       "      <td>1</td>\n",
       "      <td>[everything, work, perfection]</td>\n",
       "      <td>everything work perfection</td>\n",
       "    </tr>\n",
       "    <tr>\n",
       "      <th>48610</th>\n",
       "      <td>Apple</td>\n",
       "      <td>practically brand new far condition thing batt...</td>\n",
       "      <td>476.0000000</td>\n",
       "      <td>5</td>\n",
       "      <td>Brand new phone</td>\n",
       "      <td>1</td>\n",
       "      <td>[practically, brand, new, far, condition, thin...</td>\n",
       "      <td>practically brand new far condition thing batt...</td>\n",
       "    </tr>\n",
       "    <tr>\n",
       "      <th>1211</th>\n",
       "      <td>Samsung</td>\n",
       "      <td>phone fast works smooth give screen completely...</td>\n",
       "      <td>0.0000000</td>\n",
       "      <td>2</td>\n",
       "      <td>SMOOTH,YES..RES/SCREEN QUALITY..NOOOOO GOOD!!</td>\n",
       "      <td>-1</td>\n",
       "      <td>[phone, fast, work, smooth, give, screen, comp...</td>\n",
       "      <td>phone fast work smooth give screen completely ...</td>\n",
       "    </tr>\n",
       "    <tr>\n",
       "      <th>43487</th>\n",
       "      <td>Samsung</td>\n",
       "      <td>phone described looked brand new far issues sa...</td>\n",
       "      <td>199.0000000</td>\n",
       "      <td>5</td>\n",
       "      <td>I am very satisfied.</td>\n",
       "      <td>1</td>\n",
       "      <td>[phone, described, looked, brand, new, far, is...</td>\n",
       "      <td>phone describe look brand new far issue satisfy</td>\n",
       "    </tr>\n",
       "  </tbody>\n",
       "</table>\n",
       "</div>"
      ],
      "text/plain": [
       "          brand                                               body  \\\n",
       "25603  Motorola  battery life worse part unacceptable phone pri...   \n",
       "28927   Samsung  great phone drop height 2ft onto wood floor re...   \n",
       "24226      Sony  even use phone drains battery get charger 7am ...   \n",
       "61937    Xiaomi  really great phone cheap fingerprint scanner s...   \n",
       "25089     Apple                                  touch screen work   \n",
       "54279       NaN                    really wish could expand memory   \n",
       "14987   Samsung                        everything works perfection   \n",
       "48610     Apple  practically brand new far condition thing batt...   \n",
       "1211    Samsung  phone fast works smooth give screen completely...   \n",
       "43487   Samsung  phone described looked brand new far issues sa...   \n",
       "\n",
       "            price  user_rating  \\\n",
       "25603   0.0000000            1   \n",
       "28927   0.0000000            5   \n",
       "24226 169.0000000            1   \n",
       "61937 176.9400000            5   \n",
       "25089 198.9000000            1   \n",
       "54279 549.0000000            5   \n",
       "14987 169.9300000            5   \n",
       "48610 476.0000000            5   \n",
       "1211    0.0000000            2   \n",
       "43487 199.0000000            5   \n",
       "\n",
       "                                            review_title  Sentiment  \\\n",
       "25603  Do not buy. The battery does not hold up on this.         -1   \n",
       "28927                                 nice piece of tech          1   \n",
       "24226                 Nice phone, horrible battery life.         -1   \n",
       "61937                                   Amazing for cost          1   \n",
       "25089                                                 ..         -1   \n",
       "54279                                 Gamers must get it          1   \n",
       "14987                                         Five Stars          1   \n",
       "48610                                    Brand new phone          1   \n",
       "1211       SMOOTH,YES..RES/SCREEN QUALITY..NOOOOO GOOD!!         -1   \n",
       "43487                               I am very satisfied.          1   \n",
       "\n",
       "                                                  body_1  \\\n",
       "25603  [battery, life, worse, part, unacceptable, pho...   \n",
       "28927  [great, phone, drop, height, 2ft, onto, wood, ...   \n",
       "24226  [even, use, phone, drain, battery, get, charge...   \n",
       "61937  [really, great, phone, cheap, fingerprint, sca...   \n",
       "25089                              [touch, screen, work]   \n",
       "54279              [really, wish, could, expand, memory]   \n",
       "14987                     [everything, work, perfection]   \n",
       "48610  [practically, brand, new, far, condition, thin...   \n",
       "1211   [phone, fast, work, smooth, give, screen, comp...   \n",
       "43487  [phone, described, looked, brand, new, far, is...   \n",
       "\n",
       "                                                  body_2  \n",
       "25603  battery life bad part unacceptable phone price...  \n",
       "28927  great phone drop height 2 ft onto wood floor r...  \n",
       "24226  even use phone drain battery get charger 7 a.m...  \n",
       "61937  really great phone cheap fingerprint scanner s...  \n",
       "25089                                  touch screen work  \n",
       "54279                    really wish could expand memory  \n",
       "14987                         everything work perfection  \n",
       "48610  practically brand new far condition thing batt...  \n",
       "1211   phone fast work smooth give screen completely ...  \n",
       "43487    phone describe look brand new far issue satisfy  "
      ]
     },
     "execution_count": 101,
     "metadata": {
      "tags": []
     },
     "output_type": "execute_result"
    }
   ],
   "source": [
    "finaldf.sample(10)"
   ]
  },
  {
   "cell_type": "markdown",
   "metadata": {
    "id": "UQNq0KBl6vUK"
   },
   "source": [
    "Based on random manual observation of result of lemmatisation in 'body_1' (using nltk library) and 'body_2' (using space library).\n",
    "Space library seems to be giving better results. Lets use 'body_2' column for feature building"
   ]
  },
  {
   "cell_type": "markdown",
   "metadata": {
    "id": "t0Zpu6YengEJ"
   },
   "source": [
    "### 5.5 Write a function to check word frequency of the text"
   ]
  },
  {
   "cell_type": "code",
   "execution_count": 102,
   "metadata": {
    "id": "I5scISk14owb"
   },
   "outputs": [],
   "source": [
    "def workFrequency(text) :\n",
    "  lst = text.split()\n",
    "  return len(lst)"
   ]
  },
  {
   "cell_type": "code",
   "execution_count": 103,
   "metadata": {
    "id": "RkzzSBKD5bV9"
   },
   "outputs": [],
   "source": [
    "finaldf['WordFrequency'] = finaldf['body'].apply(lambda x : workFrequency(x))"
   ]
  },
  {
   "cell_type": "code",
   "execution_count": 104,
   "metadata": {
    "colab": {
     "base_uri": "https://localhost:8080/",
     "height": 614
    },
    "id": "wn9aILs77NUp",
    "outputId": "eff5f96b-3c99-4b0f-b231-db2147dc3405"
   },
   "outputs": [
    {
     "data": {
      "text/html": [
       "<div>\n",
       "<style scoped>\n",
       "    .dataframe tbody tr th:only-of-type {\n",
       "        vertical-align: middle;\n",
       "    }\n",
       "\n",
       "    .dataframe tbody tr th {\n",
       "        vertical-align: top;\n",
       "    }\n",
       "\n",
       "    .dataframe thead th {\n",
       "        text-align: right;\n",
       "    }\n",
       "</style>\n",
       "<table border=\"1\" class=\"dataframe\">\n",
       "  <thead>\n",
       "    <tr style=\"text-align: right;\">\n",
       "      <th></th>\n",
       "      <th>brand</th>\n",
       "      <th>body</th>\n",
       "      <th>price</th>\n",
       "      <th>user_rating</th>\n",
       "      <th>review_title</th>\n",
       "      <th>Sentiment</th>\n",
       "      <th>body_1</th>\n",
       "      <th>body_2</th>\n",
       "      <th>WordFrequency</th>\n",
       "    </tr>\n",
       "  </thead>\n",
       "  <tbody>\n",
       "    <tr>\n",
       "      <th>58711</th>\n",
       "      <td>Samsung</td>\n",
       "      <td>renewed unlocked usa modelsamsung galaxy s10 a...</td>\n",
       "      <td>429.9900000</td>\n",
       "      <td>5</td>\n",
       "      <td>Renewed S10, Good value, missing some features...</td>\n",
       "      <td>1</td>\n",
       "      <td>[renewed, unlocked, usa, modelsamsung, galaxy,...</td>\n",
       "      <td>renew unlocked usa modelsamsung galaxy s10 app...</td>\n",
       "      <td>122</td>\n",
       "    </tr>\n",
       "    <tr>\n",
       "      <th>12841</th>\n",
       "      <td>Motorola</td>\n",
       "      <td>manufacturer stopped supporting getting softwa...</td>\n",
       "      <td>0.0000000</td>\n",
       "      <td>1</td>\n",
       "      <td>No more software updates for this dead end dev...</td>\n",
       "      <td>-1</td>\n",
       "      <td>[manufacturer, stopped, supporting, getting, s...</td>\n",
       "      <td>manufacturer stop support get software update ...</td>\n",
       "      <td>31</td>\n",
       "    </tr>\n",
       "    <tr>\n",
       "      <th>522</th>\n",
       "      <td>Motorola</td>\n",
       "      <td>great</td>\n",
       "      <td>139.9900000</td>\n",
       "      <td>5</td>\n",
       "      <td>Five Stars</td>\n",
       "      <td>1</td>\n",
       "      <td>[great]</td>\n",
       "      <td>great</td>\n",
       "      <td>1</td>\n",
       "    </tr>\n",
       "    <tr>\n",
       "      <th>51042</th>\n",
       "      <td>Xiaomi</td>\n",
       "      <td>months using phone lcd began fail terrible fee...</td>\n",
       "      <td>268.9900000</td>\n",
       "      <td>1</td>\n",
       "      <td>Cheated!</td>\n",
       "      <td>-1</td>\n",
       "      <td>[month, using, phone, lcd, began, fail, terrib...</td>\n",
       "      <td>month use phone lcd begin fail terrible feel r...</td>\n",
       "      <td>12</td>\n",
       "    </tr>\n",
       "    <tr>\n",
       "      <th>60987</th>\n",
       "      <td>Samsung</td>\n",
       "      <td>bought phone suppose unlocked find place unloc...</td>\n",
       "      <td>0.0000000</td>\n",
       "      <td>1</td>\n",
       "      <td>UPSET</td>\n",
       "      <td>-1</td>\n",
       "      <td>[bought, phone, suppose, unlocked, find, place...</td>\n",
       "      <td>buy phone suppose unlocked find place unlock c...</td>\n",
       "      <td>23</td>\n",
       "    </tr>\n",
       "    <tr>\n",
       "      <th>39291</th>\n",
       "      <td>Nokia</td>\n",
       "      <td>advertised working tmobile network half true c...</td>\n",
       "      <td>54.9900000</td>\n",
       "      <td>2</td>\n",
       "      <td>I love the phone</td>\n",
       "      <td>-1</td>\n",
       "      <td>[advertised, working, tmobile, network, half, ...</td>\n",
       "      <td>advertise work tmobile network half true conne...</td>\n",
       "      <td>27</td>\n",
       "    </tr>\n",
       "    <tr>\n",
       "      <th>35962</th>\n",
       "      <td>Apple</td>\n",
       "      <td>far good looks new works fine</td>\n",
       "      <td>151.9900000</td>\n",
       "      <td>5</td>\n",
       "      <td>So far so good. It looks new and it works fine</td>\n",
       "      <td>1</td>\n",
       "      <td>[far, good, look, new, work, fine]</td>\n",
       "      <td>far good look new work fine</td>\n",
       "      <td>6</td>\n",
       "    </tr>\n",
       "    <tr>\n",
       "      <th>35231</th>\n",
       "      <td>Samsung</td>\n",
       "      <td>spec wise nice phone got one bogo mobile sure ...</td>\n",
       "      <td>450.1100000</td>\n",
       "      <td>2</td>\n",
       "      <td>BEWARE OF FRAGILE SCREEN</td>\n",
       "      <td>-1</td>\n",
       "      <td>[spec, wise, nice, phone, got, one, bogo, mobi...</td>\n",
       "      <td>spec wise nice phone get one bogo mobile sure ...</td>\n",
       "      <td>42</td>\n",
       "    </tr>\n",
       "    <tr>\n",
       "      <th>43760</th>\n",
       "      <td>Sony</td>\n",
       "      <td>playing phone couple days extremely pleased co...</td>\n",
       "      <td>399.9900000</td>\n",
       "      <td>4</td>\n",
       "      <td>... for a couple of days now and I'm extremely...</td>\n",
       "      <td>1</td>\n",
       "      <td>[playing, phone, couple, day, extremely, pleas...</td>\n",
       "      <td>play phone couple day extremely pleased come 5...</td>\n",
       "      <td>167</td>\n",
       "    </tr>\n",
       "    <tr>\n",
       "      <th>53154</th>\n",
       "      <td>Xiaomi</td>\n",
       "      <td>fantástico envío rápido</td>\n",
       "      <td>179.5000000</td>\n",
       "      <td>5</td>\n",
       "      <td>Fantástico, envío rápido</td>\n",
       "      <td>1</td>\n",
       "      <td>[fantástico, envío, rápido]</td>\n",
       "      <td>fantástico envío rápido</td>\n",
       "      <td>3</td>\n",
       "    </tr>\n",
       "  </tbody>\n",
       "</table>\n",
       "</div>"
      ],
      "text/plain": [
       "          brand                                               body  \\\n",
       "58711   Samsung  renewed unlocked usa modelsamsung galaxy s10 a...   \n",
       "12841  Motorola  manufacturer stopped supporting getting softwa...   \n",
       "522    Motorola                                              great   \n",
       "51042    Xiaomi  months using phone lcd began fail terrible fee...   \n",
       "60987   Samsung  bought phone suppose unlocked find place unloc...   \n",
       "39291     Nokia  advertised working tmobile network half true c...   \n",
       "35962     Apple                      far good looks new works fine   \n",
       "35231   Samsung  spec wise nice phone got one bogo mobile sure ...   \n",
       "43760      Sony  playing phone couple days extremely pleased co...   \n",
       "53154    Xiaomi                            fantástico envío rápido   \n",
       "\n",
       "            price  user_rating  \\\n",
       "58711 429.9900000            5   \n",
       "12841   0.0000000            1   \n",
       "522   139.9900000            5   \n",
       "51042 268.9900000            1   \n",
       "60987   0.0000000            1   \n",
       "39291  54.9900000            2   \n",
       "35962 151.9900000            5   \n",
       "35231 450.1100000            2   \n",
       "43760 399.9900000            4   \n",
       "53154 179.5000000            5   \n",
       "\n",
       "                                            review_title  Sentiment  \\\n",
       "58711  Renewed S10, Good value, missing some features...          1   \n",
       "12841  No more software updates for this dead end dev...         -1   \n",
       "522                                           Five Stars          1   \n",
       "51042                                           Cheated!         -1   \n",
       "60987                                              UPSET         -1   \n",
       "39291                                   I love the phone         -1   \n",
       "35962     So far so good. It looks new and it works fine          1   \n",
       "35231                           BEWARE OF FRAGILE SCREEN         -1   \n",
       "43760  ... for a couple of days now and I'm extremely...          1   \n",
       "53154                           Fantástico, envío rápido          1   \n",
       "\n",
       "                                                  body_1  \\\n",
       "58711  [renewed, unlocked, usa, modelsamsung, galaxy,...   \n",
       "12841  [manufacturer, stopped, supporting, getting, s...   \n",
       "522                                              [great]   \n",
       "51042  [month, using, phone, lcd, began, fail, terrib...   \n",
       "60987  [bought, phone, suppose, unlocked, find, place...   \n",
       "39291  [advertised, working, tmobile, network, half, ...   \n",
       "35962                 [far, good, look, new, work, fine]   \n",
       "35231  [spec, wise, nice, phone, got, one, bogo, mobi...   \n",
       "43760  [playing, phone, couple, day, extremely, pleas...   \n",
       "53154                        [fantástico, envío, rápido]   \n",
       "\n",
       "                                                  body_2  WordFrequency  \n",
       "58711  renew unlocked usa modelsamsung galaxy s10 app...            122  \n",
       "12841  manufacturer stop support get software update ...             31  \n",
       "522                                                great              1  \n",
       "51042  month use phone lcd begin fail terrible feel r...             12  \n",
       "60987  buy phone suppose unlocked find place unlock c...             23  \n",
       "39291  advertise work tmobile network half true conne...             27  \n",
       "35962                        far good look new work fine              6  \n",
       "35231  spec wise nice phone get one bogo mobile sure ...             42  \n",
       "43760  play phone couple day extremely pleased come 5...            167  \n",
       "53154                            fantástico envío rápido              3  "
      ]
     },
     "execution_count": 104,
     "metadata": {
      "tags": []
     },
     "output_type": "execute_result"
    }
   ],
   "source": [
    "finaldf.sample(10)"
   ]
  },
  {
   "cell_type": "markdown",
   "metadata": {
    "id": "s0UgcEo_6l8O"
   },
   "source": [
    "### 5.6 Check word frequency of review having top ratings (sentiment = 1) and display output of few samples"
   ]
  },
  {
   "cell_type": "code",
   "execution_count": 115,
   "metadata": {
    "id": "BLEEFEmv60mU"
   },
   "outputs": [],
   "source": [
    "#Lets first filter and create dataset with reviews having only top rating i.e. user_rating =5 and user ratings =4\n",
    "topratingds = finaldf[(finaldf['user_rating']==5) | (finaldf['user_rating']==4)]"
   ]
  },
  {
   "cell_type": "code",
   "execution_count": 116,
   "metadata": {
    "colab": {
     "base_uri": "https://localhost:8080/",
     "height": 580
    },
    "id": "9zJFK9N37V0k",
    "outputId": "8c23d603-d0e0-4c0f-c46d-fcaa50cef734"
   },
   "outputs": [
    {
     "data": {
      "text/html": [
       "<div>\n",
       "<style scoped>\n",
       "    .dataframe tbody tr th:only-of-type {\n",
       "        vertical-align: middle;\n",
       "    }\n",
       "\n",
       "    .dataframe tbody tr th {\n",
       "        vertical-align: top;\n",
       "    }\n",
       "\n",
       "    .dataframe thead th {\n",
       "        text-align: right;\n",
       "    }\n",
       "</style>\n",
       "<table border=\"1\" class=\"dataframe\">\n",
       "  <thead>\n",
       "    <tr style=\"text-align: right;\">\n",
       "      <th></th>\n",
       "      <th>brand</th>\n",
       "      <th>body</th>\n",
       "      <th>price</th>\n",
       "      <th>user_rating</th>\n",
       "      <th>review_title</th>\n",
       "      <th>Sentiment</th>\n",
       "      <th>body_1</th>\n",
       "      <th>body_2</th>\n",
       "      <th>WordFrequency</th>\n",
       "    </tr>\n",
       "  </thead>\n",
       "  <tbody>\n",
       "    <tr>\n",
       "      <th>33664</th>\n",
       "      <td>Samsung</td>\n",
       "      <td>family friends phone work straight talk</td>\n",
       "      <td>439.9800000</td>\n",
       "      <td>5</td>\n",
       "      <td>Some answers</td>\n",
       "      <td>1</td>\n",
       "      <td>[family, friend, phone, work, straight, talk]</td>\n",
       "      <td>family friend phone work straight talk</td>\n",
       "      <td>6</td>\n",
       "    </tr>\n",
       "    <tr>\n",
       "      <th>8904</th>\n",
       "      <td>Samsung</td>\n",
       "      <td>fantastic phone fast beautiful screen fun use ...</td>\n",
       "      <td>0.0000000</td>\n",
       "      <td>5</td>\n",
       "      <td>I love it but.... **EDITED**</td>\n",
       "      <td>1</td>\n",
       "      <td>[fantastic, phone, fast, beautiful, screen, fu...</td>\n",
       "      <td>fantastic phone fast beautiful screen fun use ...</td>\n",
       "      <td>251</td>\n",
       "    </tr>\n",
       "    <tr>\n",
       "      <th>25317</th>\n",
       "      <td>Samsung</td>\n",
       "      <td>arrived quickly easy set verizon contract serv...</td>\n",
       "      <td>73.5000000</td>\n",
       "      <td>5</td>\n",
       "      <td>Great Phone</td>\n",
       "      <td>1</td>\n",
       "      <td>[arrived, quickly, easy, set, verizon, contrac...</td>\n",
       "      <td>arrive quickly easy set verizon contract servi...</td>\n",
       "      <td>34</td>\n",
       "    </tr>\n",
       "    <tr>\n",
       "      <th>66219</th>\n",
       "      <td>Motorola</td>\n",
       "      <td>excellent product good relationship quality vs...</td>\n",
       "      <td>119.9900000</td>\n",
       "      <td>5</td>\n",
       "      <td>Recommended 100%</td>\n",
       "      <td>1</td>\n",
       "      <td>[excellent, product, good, relationship, quali...</td>\n",
       "      <td>excellent product good relationship quality vs...</td>\n",
       "      <td>9</td>\n",
       "    </tr>\n",
       "    <tr>\n",
       "      <th>8333</th>\n",
       "      <td>Samsung</td>\n",
       "      <td>got today love</td>\n",
       "      <td>0.0000000</td>\n",
       "      <td>5</td>\n",
       "      <td>Love it!!!!</td>\n",
       "      <td>1</td>\n",
       "      <td>[got, today, love]</td>\n",
       "      <td>get today love</td>\n",
       "      <td>3</td>\n",
       "    </tr>\n",
       "    <tr>\n",
       "      <th>14776</th>\n",
       "      <td>Motorola</td>\n",
       "      <td>good product</td>\n",
       "      <td>149.9900000</td>\n",
       "      <td>5</td>\n",
       "      <td>Good Value</td>\n",
       "      <td>1</td>\n",
       "      <td>[good, product]</td>\n",
       "      <td>good product</td>\n",
       "      <td>2</td>\n",
       "    </tr>\n",
       "    <tr>\n",
       "      <th>10555</th>\n",
       "      <td>Samsung</td>\n",
       "      <td>buying verizon service currently best windows ...</td>\n",
       "      <td>0.0000000</td>\n",
       "      <td>4</td>\n",
       "      <td>it's currently the best windows phone on the m...</td>\n",
       "      <td>1</td>\n",
       "      <td>[buying, verizon, service, currently, best, wi...</td>\n",
       "      <td>buy verizon service currently good window phon...</td>\n",
       "      <td>516</td>\n",
       "    </tr>\n",
       "    <tr>\n",
       "      <th>44844</th>\n",
       "      <td>Google</td>\n",
       "      <td>going break phone review seller review seller ...</td>\n",
       "      <td>219.9900000</td>\n",
       "      <td>5</td>\n",
       "      <td>So happy!</td>\n",
       "      <td>1</td>\n",
       "      <td>[going, break, phone, review, seller, review, ...</td>\n",
       "      <td>go break phone review seller review seller pho...</td>\n",
       "      <td>231</td>\n",
       "    </tr>\n",
       "    <tr>\n",
       "      <th>41817</th>\n",
       "      <td>Apple</td>\n",
       "      <td>impecable superando expectativas</td>\n",
       "      <td>479.0000000</td>\n",
       "      <td>5</td>\n",
       "      <td>Excelente</td>\n",
       "      <td>1</td>\n",
       "      <td>[impecable, superando, expectativas]</td>\n",
       "      <td>impecable superando expectativas</td>\n",
       "      <td>3</td>\n",
       "    </tr>\n",
       "    <tr>\n",
       "      <th>7522</th>\n",
       "      <td>Samsung</td>\n",
       "      <td>bought die hard flip phone brother really enjo...</td>\n",
       "      <td>0.0000000</td>\n",
       "      <td>5</td>\n",
       "      <td>Brother Loves It!</td>\n",
       "      <td>1</td>\n",
       "      <td>[bought, die, hard, flip, phone, brother, real...</td>\n",
       "      <td>buy die hard flip phone brother really enjoy h...</td>\n",
       "      <td>25</td>\n",
       "    </tr>\n",
       "  </tbody>\n",
       "</table>\n",
       "</div>"
      ],
      "text/plain": [
       "          brand                                               body  \\\n",
       "33664   Samsung            family friends phone work straight talk   \n",
       "8904    Samsung  fantastic phone fast beautiful screen fun use ...   \n",
       "25317   Samsung  arrived quickly easy set verizon contract serv...   \n",
       "66219  Motorola  excellent product good relationship quality vs...   \n",
       "8333    Samsung                                     got today love   \n",
       "14776  Motorola                                       good product   \n",
       "10555   Samsung  buying verizon service currently best windows ...   \n",
       "44844    Google  going break phone review seller review seller ...   \n",
       "41817     Apple                   impecable superando expectativas   \n",
       "7522    Samsung  bought die hard flip phone brother really enjo...   \n",
       "\n",
       "            price  user_rating  \\\n",
       "33664 439.9800000            5   \n",
       "8904    0.0000000            5   \n",
       "25317  73.5000000            5   \n",
       "66219 119.9900000            5   \n",
       "8333    0.0000000            5   \n",
       "14776 149.9900000            5   \n",
       "10555   0.0000000            4   \n",
       "44844 219.9900000            5   \n",
       "41817 479.0000000            5   \n",
       "7522    0.0000000            5   \n",
       "\n",
       "                                            review_title  Sentiment  \\\n",
       "33664                                       Some answers          1   \n",
       "8904                        I love it but.... **EDITED**          1   \n",
       "25317                                        Great Phone          1   \n",
       "66219                                   Recommended 100%          1   \n",
       "8333                                         Love it!!!!          1   \n",
       "14776                                         Good Value          1   \n",
       "10555  it's currently the best windows phone on the m...          1   \n",
       "44844                                          So happy!          1   \n",
       "41817                                          Excelente          1   \n",
       "7522                                   Brother Loves It!          1   \n",
       "\n",
       "                                                  body_1  \\\n",
       "33664      [family, friend, phone, work, straight, talk]   \n",
       "8904   [fantastic, phone, fast, beautiful, screen, fu...   \n",
       "25317  [arrived, quickly, easy, set, verizon, contrac...   \n",
       "66219  [excellent, product, good, relationship, quali...   \n",
       "8333                                  [got, today, love]   \n",
       "14776                                    [good, product]   \n",
       "10555  [buying, verizon, service, currently, best, wi...   \n",
       "44844  [going, break, phone, review, seller, review, ...   \n",
       "41817               [impecable, superando, expectativas]   \n",
       "7522   [bought, die, hard, flip, phone, brother, real...   \n",
       "\n",
       "                                                  body_2  WordFrequency  \n",
       "33664             family friend phone work straight talk              6  \n",
       "8904   fantastic phone fast beautiful screen fun use ...            251  \n",
       "25317  arrive quickly easy set verizon contract servi...             34  \n",
       "66219  excellent product good relationship quality vs...              9  \n",
       "8333                                      get today love              3  \n",
       "14776                                       good product              2  \n",
       "10555  buy verizon service currently good window phon...            516  \n",
       "44844  go break phone review seller review seller pho...            231  \n",
       "41817                   impecable superando expectativas              3  \n",
       "7522   buy die hard flip phone brother really enjoy h...             25  "
      ]
     },
     "execution_count": 116,
     "metadata": {
      "tags": []
     },
     "output_type": "execute_result"
    }
   ],
   "source": [
    "topratingds.sample(10)"
   ]
  },
  {
   "cell_type": "markdown",
   "metadata": {
    "id": "9UbdTGsv60t1"
   },
   "source": [
    "### 5.7 Initialize tf-idf vectorizer and transform the preprocessed body text"
   ]
  },
  {
   "cell_type": "code",
   "execution_count": 117,
   "metadata": {
    "id": "_Jfo6go_69yh"
   },
   "outputs": [],
   "source": [
    "from sklearn.feature_extraction.text  import TfidfVectorizer"
   ]
  },
  {
   "cell_type": "code",
   "execution_count": 118,
   "metadata": {
    "id": "l2pQO8r_fZo6"
   },
   "outputs": [],
   "source": [
    "tfidfvector = TfidfVectorizer()"
   ]
  },
  {
   "cell_type": "code",
   "execution_count": 119,
   "metadata": {
    "id": "9jzSPMaIfgg0"
   },
   "outputs": [],
   "source": [
    "X = tfidfvector.fit_transform(finaldf['body_2'])"
   ]
  },
  {
   "cell_type": "markdown",
   "metadata": {
    "id": "5dqPXETLKN0h"
   },
   "source": [
    "### 5.8 Segregate the data into dependent (sentiment) and independent (transformed body using tf-idf) features for building a classifier. "
   ]
  },
  {
   "cell_type": "code",
   "execution_count": 120,
   "metadata": {
    "id": "mpOLAYn07W6F"
   },
   "outputs": [],
   "source": [
    "y = finaldf['Sentiment']"
   ]
  },
  {
   "cell_type": "markdown",
   "metadata": {
    "id": "4K03FO0q7XBP"
   },
   "source": [
    "### 5.9 Split the data into Train & Test Sets"
   ]
  },
  {
   "cell_type": "code",
   "execution_count": 121,
   "metadata": {
    "id": "D548-7cE7dZa"
   },
   "outputs": [],
   "source": [
    "from sklearn.model_selection import train_test_split"
   ]
  },
  {
   "cell_type": "code",
   "execution_count": 122,
   "metadata": {
    "id": "03az3CMNgDOH"
   },
   "outputs": [],
   "source": [
    "x_train, x_test, y_train, y_test = train_test_split(X,y,test_size=0.3,random_state=101)"
   ]
  },
  {
   "cell_type": "markdown",
   "metadata": {
    "id": "rhD1a-beKvE7"
   },
   "source": [
    "## 6. Model building"
   ]
  },
  {
   "cell_type": "markdown",
   "metadata": {
    "id": "UPFovmN03exD"
   },
   "source": [
    "### 6.1 Build a random forest classifier to predict the 'sentiment'\n",
    "### 6.2 Predict on test set\n",
    "### 6.3 Check accuracy and confusion matrix"
   ]
  },
  {
   "cell_type": "code",
   "execution_count": 123,
   "metadata": {
    "id": "y0ytdD-_30P9"
   },
   "outputs": [],
   "source": [
    "from sklearn.ensemble import RandomForestClassifier"
   ]
  },
  {
   "cell_type": "code",
   "execution_count": 124,
   "metadata": {
    "colab": {
     "base_uri": "https://localhost:8080/"
    },
    "id": "NJ6Ke4hl30Zk",
    "outputId": "57c98363-f0d1-44a2-d082-cb02ff1e8732"
   },
   "outputs": [
    {
     "data": {
      "text/plain": [
       "RandomForestClassifier(bootstrap=True, ccp_alpha=0.0, class_weight=None,\n",
       "                       criterion='gini', max_depth=None, max_features='auto',\n",
       "                       max_leaf_nodes=None, max_samples=None,\n",
       "                       min_impurity_decrease=0.0, min_impurity_split=None,\n",
       "                       min_samples_leaf=1, min_samples_split=2,\n",
       "                       min_weight_fraction_leaf=0.0, n_estimators=150,\n",
       "                       n_jobs=None, oob_score=False, random_state=None,\n",
       "                       verbose=0, warm_start=False)"
      ]
     },
     "execution_count": 124,
     "metadata": {
      "tags": []
     },
     "output_type": "execute_result"
    }
   ],
   "source": [
    "model = RandomForestClassifier(n_estimators=150)\n",
    "model.fit(x_train,y_train)"
   ]
  },
  {
   "cell_type": "code",
   "execution_count": 125,
   "metadata": {
    "colab": {
     "base_uri": "https://localhost:8080/"
    },
    "id": "PryLBf8yklc9",
    "outputId": "252ddad8-dddd-44bc-c52b-70cc7c025ea5"
   },
   "outputs": [
    {
     "data": {
      "text/plain": [
       "0.9942424879176297"
      ]
     },
     "execution_count": 125,
     "metadata": {
      "tags": []
     },
     "output_type": "execute_result"
    }
   ],
   "source": [
    "model.score(x_train,y_train)"
   ]
  },
  {
   "cell_type": "code",
   "execution_count": 126,
   "metadata": {
    "colab": {
     "base_uri": "https://localhost:8080/"
    },
    "id": "EnBMus2ek9x7",
    "outputId": "fd8dc234-f8cc-44ec-a283-6c918b907bbd"
   },
   "outputs": [
    {
     "data": {
      "text/plain": [
       "0.8479603843890959"
      ]
     },
     "execution_count": 126,
     "metadata": {
      "tags": []
     },
     "output_type": "execute_result"
    }
   ],
   "source": [
    "model.score(x_test,y_test)"
   ]
  },
  {
   "cell_type": "code",
   "execution_count": 129,
   "metadata": {
    "colab": {
     "base_uri": "https://localhost:8080/"
    },
    "id": "-UI4fouRxYUt",
    "outputId": "e5db4a4a-5562-4b69-962b-968764991f63"
   },
   "outputs": [
    {
     "data": {
      "text/plain": [
       "(67986, 30593)"
      ]
     },
     "execution_count": 129,
     "metadata": {
      "tags": []
     },
     "output_type": "execute_result"
    }
   ],
   "source": [
    "X.shape"
   ]
  },
  {
   "cell_type": "code",
   "execution_count": 128,
   "metadata": {
    "colab": {
     "base_uri": "https://localhost:8080/"
    },
    "id": "bYsWcU6BxPJ7",
    "outputId": "ef9ca17b-283b-4ba2-e109-4770452bfe8b"
   },
   "outputs": [
    {
     "data": {
      "text/plain": [
       "(47590, 30593)"
      ]
     },
     "execution_count": 128,
     "metadata": {
      "tags": []
     },
     "output_type": "execute_result"
    }
   ],
   "source": [
    "x_train.shape"
   ]
  },
  {
   "cell_type": "code",
   "execution_count": 130,
   "metadata": {
    "colab": {
     "base_uri": "https://localhost:8080/"
    },
    "id": "RRNn1545xbyU",
    "outputId": "934f12b8-a31f-4af2-f771-406814e0a8df"
   },
   "outputs": [
    {
     "data": {
      "text/plain": [
       "(20396,)"
      ]
     },
     "execution_count": 130,
     "metadata": {
      "tags": []
     },
     "output_type": "execute_result"
    }
   ],
   "source": [
    "y_test.shape"
   ]
  },
  {
   "cell_type": "markdown",
   "metadata": {
    "id": "Ey7an7ukLxWB"
   },
   "source": [
    "## 7. Write your conclusion"
   ]
  },
  {
   "cell_type": "code",
   "execution_count": null,
   "metadata": {
    "id": "0csFkbEJmSIe"
   },
   "outputs": [],
   "source": [
    "1) The training accuracy is quite high...almost reaching 100 %. However test accuracy is 84 %\n",
    "2) There could be multiple reasons for this difference in training and test accuracy as below\n",
    "  a) The number of features are quite huge i.e. 30593\n",
    "  b) The lemmatisation is not as efficient as we expect. We tried nltk and spacy libraries. Though space is more effiecnt \n",
    "     than nltk, it is still unanle to lemmatise many words. Due to this number of features could not be reduced\n",
    "3) On one side we should see how to can reduce number of features and other side should try models on other techniques like dense layer, CNN etc."
   ]
  }
 ],
 "metadata": {
  "colab": {
   "collapsed_sections": [],
   "name": "pgp-aiml-feb20-StatsNLP_R9_Internal_Lab.ipynb",
   "provenance": []
  },
  "kernelspec": {
   "display_name": "Python 3",
   "language": "python",
   "name": "python3"
  },
  "language_info": {
   "codemirror_mode": {
    "name": "ipython",
    "version": 3
   },
   "file_extension": ".py",
   "mimetype": "text/x-python",
   "name": "python",
   "nbconvert_exporter": "python",
   "pygments_lexer": "ipython3",
   "version": "3.7.4"
  }
 },
 "nbformat": 4,
 "nbformat_minor": 1
}
