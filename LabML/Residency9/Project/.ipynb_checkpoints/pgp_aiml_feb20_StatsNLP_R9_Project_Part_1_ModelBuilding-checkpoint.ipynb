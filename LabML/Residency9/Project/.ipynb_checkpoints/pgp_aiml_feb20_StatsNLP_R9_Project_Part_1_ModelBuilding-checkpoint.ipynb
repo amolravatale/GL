{
 "cells": [
  {
   "cell_type": "code",
   "execution_count": 1,
   "metadata": {
    "colab": {
     "base_uri": "https://localhost:8080/"
    },
    "id": "upvvgWV8C1sf",
    "outputId": "d4513bd6-2260-43f5-928c-62b2c8bd68aa"
   },
   "outputs": [
    {
     "name": "stdout",
     "output_type": "stream",
     "text": [
      "Drive already mounted at /content/drive; to attempt to forcibly remount, call drive.mount(\"/content/drive\", force_remount=True).\n"
     ]
    }
   ],
   "source": [
    "#connect to google drive\n",
    "from google.colab import drive\n",
    "import os\n",
    "drive.mount('/content/drive')"
   ]
  },
  {
   "cell_type": "markdown",
   "metadata": {
    "id": "EhKkJb3LD5IM"
   },
   "source": [
    "# Load formatted Data"
   ]
  },
  {
   "cell_type": "code",
   "execution_count": 1,
   "metadata": {
    "id": "LUGpsBcMDgh4"
   },
   "outputs": [],
   "source": [
    "import pandas as pd\n",
    "import numpy as np"
   ]
  },
  {
   "cell_type": "code",
   "execution_count": 2,
   "metadata": {
    "id": "hz7OYhk8DGac"
   },
   "outputs": [],
   "source": [
    "# Just to check if data is correctly saved or not\n",
    "from numpy import load\n",
    "x = load('/content/drive/MyDrive/LablFiles/Stat_NL_Project/x.npy',allow_pickle=True)\n",
    "y = load('/content/drive/MyDrive/LablFiles/Stat_NL_Project/y.npy',allow_pickle=True)"
   ]
  },
  {
   "cell_type": "code",
   "execution_count": 3,
   "metadata": {
    "id": "TI0aPDHWDVCo"
   },
   "outputs": [],
   "source": [
    "x1 = pd.DataFrame(x,columns={'ProcessedText','text'})"
   ]
  },
  {
   "cell_type": "code",
   "execution_count": 4,
   "metadata": {
    "colab": {
     "base_uri": "https://localhost:8080/",
     "height": 80
    },
    "id": "x1Cj3wREDt0d",
    "outputId": "41ce630b-7e5e-4685-dd9e-4621115060e5"
   },
   "outputs": [
    {
     "data": {
      "text/html": [
       "<div>\n",
       "<style scoped>\n",
       "    .dataframe tbody tr th:only-of-type {\n",
       "        vertical-align: middle;\n",
       "    }\n",
       "\n",
       "    .dataframe tbody tr th {\n",
       "        vertical-align: top;\n",
       "    }\n",
       "\n",
       "    .dataframe thead th {\n",
       "        text-align: right;\n",
       "    }\n",
       "</style>\n",
       "<table border=\"1\" class=\"dataframe\">\n",
       "  <thead>\n",
       "    <tr style=\"text-align: right;\">\n",
       "      <th></th>\n",
       "      <th>text</th>\n",
       "      <th>ProcessedText</th>\n",
       "    </tr>\n",
       "  </thead>\n",
       "  <tbody>\n",
       "    <tr>\n",
       "      <th>0</th>\n",
       "      <td>It's 9.51 pm now. Sitting in my study r...</td>\n",
       "      <td>9 51 pm now sit studi room bo liaoz feel f ked...</td>\n",
       "    </tr>\n",
       "  </tbody>\n",
       "</table>\n",
       "</div>"
      ],
      "text/plain": [
       "                                                text                                      ProcessedText\n",
       "0         It's 9.51 pm now. Sitting in my study r...  9 51 pm now sit studi room bo liaoz feel f ked..."
      ]
     },
     "execution_count": 4,
     "metadata": {
      "tags": []
     },
     "output_type": "execute_result"
    }
   ],
   "source": [
    "x1.head(1)"
   ]
  },
  {
   "cell_type": "code",
   "execution_count": 5,
   "metadata": {
    "colab": {
     "base_uri": "https://localhost:8080/"
    },
    "id": "p6-_kMwrErFP",
    "outputId": "04ca52e7-62ad-40df-8ad0-9a2263cfa1f0"
   },
   "outputs": [
    {
     "data": {
      "text/plain": [
       "array([['female', 16, 'Student', 'Cancer'],\n",
       "       ['male', 17, 'indUnk', 'Virgo'],\n",
       "       ['female', 15, 'indUnk', 'Taurus'],\n",
       "       ...,\n",
       "       ['female', 34, 'Education', 'Virgo'],\n",
       "       ['female', 23, 'Student', 'Leo'],\n",
       "       ['male', 23, 'indUnk', 'Scorpio']], dtype=object)"
      ]
     },
     "execution_count": 5,
     "metadata": {
      "tags": []
     },
     "output_type": "execute_result"
    }
   ],
   "source": [
    "y"
   ]
  },
  {
   "cell_type": "code",
   "execution_count": 6,
   "metadata": {
    "id": "tOzoJf3ADveJ"
   },
   "outputs": [],
   "source": [
    "y1 = pd.DataFrame(y,columns={'c1','c2','c3','c4'})"
   ]
  },
  {
   "cell_type": "code",
   "execution_count": 7,
   "metadata": {
    "colab": {
     "base_uri": "https://localhost:8080/",
     "height": 111
    },
    "id": "KvU8bHcUEM7w",
    "outputId": "4cbaf7d2-3707-4681-d4e0-bd1aab1268e5"
   },
   "outputs": [
    {
     "data": {
      "text/html": [
       "<div>\n",
       "<style scoped>\n",
       "    .dataframe tbody tr th:only-of-type {\n",
       "        vertical-align: middle;\n",
       "    }\n",
       "\n",
       "    .dataframe tbody tr th {\n",
       "        vertical-align: top;\n",
       "    }\n",
       "\n",
       "    .dataframe thead th {\n",
       "        text-align: right;\n",
       "    }\n",
       "</style>\n",
       "<table border=\"1\" class=\"dataframe\">\n",
       "  <thead>\n",
       "    <tr style=\"text-align: right;\">\n",
       "      <th></th>\n",
       "      <th>c4</th>\n",
       "      <th>c3</th>\n",
       "      <th>c1</th>\n",
       "      <th>c2</th>\n",
       "    </tr>\n",
       "  </thead>\n",
       "  <tbody>\n",
       "    <tr>\n",
       "      <th>0</th>\n",
       "      <td>female</td>\n",
       "      <td>16</td>\n",
       "      <td>Student</td>\n",
       "      <td>Cancer</td>\n",
       "    </tr>\n",
       "    <tr>\n",
       "      <th>1</th>\n",
       "      <td>male</td>\n",
       "      <td>17</td>\n",
       "      <td>indUnk</td>\n",
       "      <td>Virgo</td>\n",
       "    </tr>\n",
       "  </tbody>\n",
       "</table>\n",
       "</div>"
      ],
      "text/plain": [
       "       c4  c3       c1      c2\n",
       "0  female  16  Student  Cancer\n",
       "1    male  17   indUnk   Virgo"
      ]
     },
     "execution_count": 7,
     "metadata": {
      "tags": []
     },
     "output_type": "execute_result"
    }
   ],
   "source": [
    "y1.head(2)"
   ]
  },
  {
   "cell_type": "code",
   "execution_count": 8,
   "metadata": {
    "id": "WSFSJts4FJa0"
   },
   "outputs": [],
   "source": [
    "y1.rename(columns={'c1':'sign','c2':'topic','c3':'gender','c4':'age'},inplace=True)"
   ]
  },
  {
   "cell_type": "code",
   "execution_count": 9,
   "metadata": {
    "colab": {
     "base_uri": "https://localhost:8080/",
     "height": 111
    },
    "id": "xHqG412KEOTN",
    "outputId": "c0f3cff7-2ae5-48bb-ae9f-37c03c20c935"
   },
   "outputs": [
    {
     "data": {
      "text/html": [
       "<div>\n",
       "<style scoped>\n",
       "    .dataframe tbody tr th:only-of-type {\n",
       "        vertical-align: middle;\n",
       "    }\n",
       "\n",
       "    .dataframe tbody tr th {\n",
       "        vertical-align: top;\n",
       "    }\n",
       "\n",
       "    .dataframe thead th {\n",
       "        text-align: right;\n",
       "    }\n",
       "</style>\n",
       "<table border=\"1\" class=\"dataframe\">\n",
       "  <thead>\n",
       "    <tr style=\"text-align: right;\">\n",
       "      <th></th>\n",
       "      <th>age</th>\n",
       "      <th>gender</th>\n",
       "      <th>sign</th>\n",
       "      <th>topic</th>\n",
       "    </tr>\n",
       "  </thead>\n",
       "  <tbody>\n",
       "    <tr>\n",
       "      <th>0</th>\n",
       "      <td>female</td>\n",
       "      <td>16</td>\n",
       "      <td>Student</td>\n",
       "      <td>Cancer</td>\n",
       "    </tr>\n",
       "    <tr>\n",
       "      <th>1</th>\n",
       "      <td>male</td>\n",
       "      <td>17</td>\n",
       "      <td>indUnk</td>\n",
       "      <td>Virgo</td>\n",
       "    </tr>\n",
       "  </tbody>\n",
       "</table>\n",
       "</div>"
      ],
      "text/plain": [
       "      age gender     sign   topic\n",
       "0  female     16  Student  Cancer\n",
       "1    male     17   indUnk   Virgo"
      ]
     },
     "execution_count": 9,
     "metadata": {
      "tags": []
     },
     "output_type": "execute_result"
    }
   ],
   "source": [
    "y1.head(2)"
   ]
  },
  {
   "cell_type": "code",
   "execution_count": 10,
   "metadata": {
    "id": "VVhUKqo6FjhX"
   },
   "outputs": [],
   "source": [
    "finaldf = pd.concat([x1,y1],axis=1)"
   ]
  },
  {
   "cell_type": "code",
   "execution_count": 11,
   "metadata": {
    "colab": {
     "base_uri": "https://localhost:8080/",
     "height": 111
    },
    "id": "Qd698oiAGAym",
    "outputId": "884d68bb-7536-4b64-ad93-305381bcc807"
   },
   "outputs": [
    {
     "data": {
      "text/html": [
       "<div>\n",
       "<style scoped>\n",
       "    .dataframe tbody tr th:only-of-type {\n",
       "        vertical-align: middle;\n",
       "    }\n",
       "\n",
       "    .dataframe tbody tr th {\n",
       "        vertical-align: top;\n",
       "    }\n",
       "\n",
       "    .dataframe thead th {\n",
       "        text-align: right;\n",
       "    }\n",
       "</style>\n",
       "<table border=\"1\" class=\"dataframe\">\n",
       "  <thead>\n",
       "    <tr style=\"text-align: right;\">\n",
       "      <th></th>\n",
       "      <th>text</th>\n",
       "      <th>ProcessedText</th>\n",
       "      <th>age</th>\n",
       "      <th>gender</th>\n",
       "      <th>sign</th>\n",
       "      <th>topic</th>\n",
       "    </tr>\n",
       "  </thead>\n",
       "  <tbody>\n",
       "    <tr>\n",
       "      <th>0</th>\n",
       "      <td>It's 9.51 pm now. Sitting in my study r...</td>\n",
       "      <td>9 51 pm now sit studi room bo liaoz feel f ked...</td>\n",
       "      <td>female</td>\n",
       "      <td>16</td>\n",
       "      <td>Student</td>\n",
       "      <td>Cancer</td>\n",
       "    </tr>\n",
       "    <tr>\n",
       "      <th>1</th>\n",
       "      <td>The sun was setting and I was high up on a ...</td>\n",
       "      <td>sun set high hill look barren tree front still...</td>\n",
       "      <td>male</td>\n",
       "      <td>17</td>\n",
       "      <td>indUnk</td>\n",
       "      <td>Virgo</td>\n",
       "    </tr>\n",
       "  </tbody>\n",
       "</table>\n",
       "</div>"
      ],
      "text/plain": [
       "                                                text  ...   topic\n",
       "0         It's 9.51 pm now. Sitting in my study r...  ...  Cancer\n",
       "1     The sun was setting and I was high up on a ...  ...   Virgo\n",
       "\n",
       "[2 rows x 6 columns]"
      ]
     },
     "execution_count": 11,
     "metadata": {
      "tags": []
     },
     "output_type": "execute_result"
    }
   ],
   "source": [
    "finaldf.head(2)"
   ]
  },
  {
   "cell_type": "code",
   "execution_count": 12,
   "metadata": {
    "id": "MK2uWoHCGC0K"
   },
   "outputs": [],
   "source": [
    "finaldf['labels'] =finaldf.apply(lambda row: [row['gender'], str(row['age']), row['topic'], row['sign']], axis=1)"
   ]
  },
  {
   "cell_type": "code",
   "execution_count": 13,
   "metadata": {
    "id": "D0yzgg1GGSX0"
   },
   "outputs": [],
   "source": [
    "finaldf1 = finaldf[['ProcessedText','labels']]"
   ]
  },
  {
   "cell_type": "code",
   "execution_count": 14,
   "metadata": {
    "colab": {
     "base_uri": "https://localhost:8080/",
     "height": 111
    },
    "id": "ckHIrfE5H60G",
    "outputId": "a58cc5a3-241b-4e4f-fbd6-9ac2e7c8eeda"
   },
   "outputs": [
    {
     "data": {
      "text/html": [
       "<div>\n",
       "<style scoped>\n",
       "    .dataframe tbody tr th:only-of-type {\n",
       "        vertical-align: middle;\n",
       "    }\n",
       "\n",
       "    .dataframe tbody tr th {\n",
       "        vertical-align: top;\n",
       "    }\n",
       "\n",
       "    .dataframe thead th {\n",
       "        text-align: right;\n",
       "    }\n",
       "</style>\n",
       "<table border=\"1\" class=\"dataframe\">\n",
       "  <thead>\n",
       "    <tr style=\"text-align: right;\">\n",
       "      <th></th>\n",
       "      <th>ProcessedText</th>\n",
       "      <th>labels</th>\n",
       "    </tr>\n",
       "  </thead>\n",
       "  <tbody>\n",
       "    <tr>\n",
       "      <th>0</th>\n",
       "      <td>9 51 pm now sit studi room bo liaoz feel f ked...</td>\n",
       "      <td>[16, female, Cancer, Student]</td>\n",
       "    </tr>\n",
       "    <tr>\n",
       "      <th>1</th>\n",
       "      <td>sun set high hill look barren tree front still...</td>\n",
       "      <td>[17, male, Virgo, indUnk]</td>\n",
       "    </tr>\n",
       "  </tbody>\n",
       "</table>\n",
       "</div>"
      ],
      "text/plain": [
       "                                       ProcessedText                         labels\n",
       "0  9 51 pm now sit studi room bo liaoz feel f ked...  [16, female, Cancer, Student]\n",
       "1  sun set high hill look barren tree front still...      [17, male, Virgo, indUnk]"
      ]
     },
     "execution_count": 14,
     "metadata": {
      "tags": []
     },
     "output_type": "execute_result"
    }
   ],
   "source": [
    "finaldf1.head(2)"
   ]
  },
  {
   "cell_type": "markdown",
   "metadata": {
    "id": "Ev59-aIYHnOF"
   },
   "source": [
    "# Build Model - Using CountVectoriser Method"
   ]
  },
  {
   "cell_type": "code",
   "execution_count": 15,
   "metadata": {
    "id": "C3Dabjb1H1Z7"
   },
   "outputs": [],
   "source": [
    "from sklearn.model_selection import train_test_split"
   ]
  },
  {
   "cell_type": "code",
   "execution_count": 16,
   "metadata": {
    "id": "Ibbyyc-EIEm9"
   },
   "outputs": [],
   "source": [
    "#Split data into 70:30 :: train : test \n",
    "X_train, X_test, y_train, y_test = train_test_split(finaldf1.ProcessedText.values,\n",
    "                                                    finaldf1.labels.values,\n",
    "                                                    test_size=0.3,\n",
    "                                                    random_state=32\n",
    "                                                    )"
   ]
  },
  {
   "cell_type": "code",
   "execution_count": 17,
   "metadata": {
    "id": "OLBbR_vHIsYw"
   },
   "outputs": [],
   "source": [
    "from sklearn.feature_extraction.text import CountVectorizer"
   ]
  },
  {
   "cell_type": "code",
   "execution_count": 18,
   "metadata": {
    "id": "dGKaJtl8I2PC"
   },
   "outputs": [],
   "source": [
    "vect = CountVectorizer(ngram_range=(1,2)) "
   ]
  },
  {
   "cell_type": "code",
   "execution_count": 19,
   "metadata": {
    "id": "3CjXSJGJJh23"
   },
   "outputs": [],
   "source": [
    "x_train1 = vect.fit_transform(X_train)\n",
    "x_test1 = vect.transform(X_test)"
   ]
  },
  {
   "cell_type": "code",
   "execution_count": 20,
   "metadata": {
    "colab": {
     "base_uri": "https://localhost:8080/"
    },
    "id": "3ZiaAinGJ4am",
    "outputId": "c3c1c664-6aa9-4a3a-9024-297437454d29"
   },
   "outputs": [
    {
     "data": {
      "text/plain": [
       "(4768, 395597)"
      ]
     },
     "execution_count": 20,
     "metadata": {
      "tags": []
     },
     "output_type": "execute_result"
    }
   ],
   "source": [
    "x_train1.shape"
   ]
  },
  {
   "cell_type": "code",
   "execution_count": 21,
   "metadata": {
    "colab": {
     "base_uri": "https://localhost:8080/"
    },
    "id": "0UTToFBHK8QJ",
    "outputId": "7afb58b2-4ae4-41e9-a4a5-a7e85b88236f"
   },
   "outputs": [
    {
     "data": {
      "text/plain": [
       "(2044, 395597)"
      ]
     },
     "execution_count": 21,
     "metadata": {
      "tags": []
     },
     "output_type": "execute_result"
    }
   ],
   "source": [
    "x_test1.shape"
   ]
  },
  {
   "cell_type": "code",
   "execution_count": 22,
   "metadata": {
    "id": "3gpEHSKqLFJ-"
   },
   "outputs": [],
   "source": [
    "label_counts = dict()\n",
    "\n",
    "for labels in finaldf1.labels.values:\n",
    "    for label in labels:\n",
    "        if label in label_counts:\n",
    "            label_counts[label] += 1\n",
    "        else:\n",
    "            label_counts[label] = 1"
   ]
  },
  {
   "cell_type": "code",
   "execution_count": 23,
   "metadata": {
    "colab": {
     "base_uri": "https://localhost:8080/"
    },
    "id": "tm_4RrZPSbu5",
    "outputId": "aa553d2e-5578-4ddd-91bd-ae5ff9f5ed6c"
   },
   "outputs": [
    {
     "data": {
      "text/plain": [
       "dict_keys([16, 'female', 'Cancer', 'Student', 17, 'male', 'Virgo', 'indUnk', 15, 'Taurus', 26, 'Fashion', 27, 'Gemini', 25, 'Aries', 'Communications-Media', 'Leo', 'Technology', 38, 'Sagittarius', 24, 23, 'Aquarius', 'Arts', 37, 'Banking', 'Scorpio', 'BusinessServices', 'Pisces', 'Advertising', 'Capricorn', 'Education', 45, 'Telecommunications', 'Non-Profit', 35, 'Science', 13, 39, 14, 48, 36, 'RealEstate', 34, 'Marketing', 'Libra', 'Government', 33, 'InvestmentBanking', 'Religion', 'Biotech', 'Museums-Libraries', 'Chemicals', 'Publishing', 'Engineering', 'Internet', 47, 'Tourism', 'Automotive', 'Military', 46, 'Architecture', 'Law', 'LawEnforcement-Security', 'Construction', 42, 'Accounting', 'Manufacturing', 'HumanResources', 'Transportation', 43, 40, 'Agriculture', 'Consulting', 'Sports-Recreation', 44, 'Maritime', 'Environment', 41])"
      ]
     },
     "execution_count": 23,
     "metadata": {
      "tags": []
     },
     "output_type": "execute_result"
    }
   ],
   "source": [
    "label_counts.keys()"
   ]
  },
  {
   "cell_type": "code",
   "execution_count": 24,
   "metadata": {
    "id": "zUe4nn9eTVvy"
   },
   "outputs": [],
   "source": [
    "keys_values = label_counts.items()\n",
    "label_counts_str = {str(key): str(value) for key, value in keys_values}"
   ]
  },
  {
   "cell_type": "code",
   "execution_count": 25,
   "metadata": {
    "colab": {
     "base_uri": "https://localhost:8080/"
    },
    "id": "Go9AqdHUThEu",
    "outputId": "c6bb9c21-a7a3-4135-bd69-fd5d9eec66f4"
   },
   "outputs": [
    {
     "data": {
      "text/plain": [
       "dict_keys(['16', 'female', 'Cancer', 'Student', '17', 'male', 'Virgo', 'indUnk', '15', 'Taurus', '26', 'Fashion', '27', 'Gemini', '25', 'Aries', 'Communications-Media', 'Leo', 'Technology', '38', 'Sagittarius', '24', '23', 'Aquarius', 'Arts', '37', 'Banking', 'Scorpio', 'BusinessServices', 'Pisces', 'Advertising', 'Capricorn', 'Education', '45', 'Telecommunications', 'Non-Profit', '35', 'Science', '13', '39', '14', '48', '36', 'RealEstate', '34', 'Marketing', 'Libra', 'Government', '33', 'InvestmentBanking', 'Religion', 'Biotech', 'Museums-Libraries', 'Chemicals', 'Publishing', 'Engineering', 'Internet', '47', 'Tourism', 'Automotive', 'Military', '46', 'Architecture', 'Law', 'LawEnforcement-Security', 'Construction', '42', 'Accounting', 'Manufacturing', 'HumanResources', 'Transportation', '43', '40', 'Agriculture', 'Consulting', 'Sports-Recreation', '44', 'Maritime', 'Environment', '41'])"
      ]
     },
     "execution_count": 25,
     "metadata": {
      "tags": []
     },
     "output_type": "execute_result"
    }
   ],
   "source": [
    "label_counts_str.keys()"
   ]
  },
  {
   "cell_type": "markdown",
   "metadata": {
    "id": "1e6gQ6dNLq5X"
   },
   "source": [
    "Use MultiLabelBinarizer function for multi label use case"
   ]
  },
  {
   "cell_type": "code",
   "execution_count": 26,
   "metadata": {
    "id": "LCBnmYv3ME67"
   },
   "outputs": [],
   "source": [
    "from sklearn.preprocessing import MultiLabelBinarizer"
   ]
  },
  {
   "cell_type": "code",
   "execution_count": 27,
   "metadata": {
    "id": "Sjo3pKDzSDON"
   },
   "outputs": [],
   "source": [
    "multilabelBiz= MultiLabelBinarizer(classes=sorted(label_counts_str.keys()))"
   ]
  },
  {
   "cell_type": "code",
   "execution_count": 28,
   "metadata": {
    "colab": {
     "base_uri": "https://localhost:8080/"
    },
    "id": "bjSYrhZ3LqcB",
    "outputId": "921b2ded-12f6-429b-8726-d2c246159116"
   },
   "outputs": [
    {
     "name": "stderr",
     "output_type": "stream",
     "text": [
      "/usr/local/lib/python3.7/dist-packages/sklearn/preprocessing/_label.py:987: UserWarning: unknown class(es) [13, 14, 15, 16, 17, 23, 24, 25, 26, 27, 33, 34, 35, 36, 37, 38, 39, 40, 41, 42, 43, 44, 45, 46, 47, 48] will be ignored\n",
      "  .format(sorted(unknown, key=str)))\n"
     ]
    }
   ],
   "source": [
    "y_train = multilabelBiz.fit_transform(y_train)\n",
    "y_test = multilabelBiz.transform(y_test)"
   ]
  },
  {
   "cell_type": "markdown",
   "metadata": {
    "id": "IL0AajItTyon"
   },
   "source": [
    "# Classifier - LogisticRegression"
   ]
  },
  {
   "cell_type": "code",
   "execution_count": 29,
   "metadata": {
    "id": "-C9t2UqHT4vm"
   },
   "outputs": [],
   "source": [
    "from sklearn.multiclass import OneVsRestClassifier\n",
    "from sklearn.linear_model import LogisticRegression"
   ]
  },
  {
   "cell_type": "code",
   "execution_count": 30,
   "metadata": {
    "id": "Wm-c2o1nT8LM"
   },
   "outputs": [],
   "source": [
    "classi = LogisticRegression(solver='liblinear')\n",
    "classi = OneVsRestClassifier(classi)"
   ]
  },
  {
   "cell_type": "code",
   "execution_count": 31,
   "metadata": {
    "colab": {
     "base_uri": "https://localhost:8080/"
    },
    "id": "8SIhbPygUELJ",
    "outputId": "655a4d0b-6cbd-4293-c96e-dd8e28d8f88d"
   },
   "outputs": [
    {
     "name": "stderr",
     "output_type": "stream",
     "text": [
      "/usr/local/lib/python3.7/dist-packages/sklearn/multiclass.py:75: UserWarning: Label not 0 is present in all training examples.\n",
      "  str(classes[c]))\n",
      "/usr/local/lib/python3.7/dist-packages/sklearn/multiclass.py:75: UserWarning: Label not 1 is present in all training examples.\n",
      "  str(classes[c]))\n",
      "/usr/local/lib/python3.7/dist-packages/sklearn/multiclass.py:75: UserWarning: Label not 2 is present in all training examples.\n",
      "  str(classes[c]))\n",
      "/usr/local/lib/python3.7/dist-packages/sklearn/multiclass.py:75: UserWarning: Label not 3 is present in all training examples.\n",
      "  str(classes[c]))\n",
      "/usr/local/lib/python3.7/dist-packages/sklearn/multiclass.py:75: UserWarning: Label not 4 is present in all training examples.\n",
      "  str(classes[c]))\n",
      "/usr/local/lib/python3.7/dist-packages/sklearn/multiclass.py:75: UserWarning: Label not 5 is present in all training examples.\n",
      "  str(classes[c]))\n",
      "/usr/local/lib/python3.7/dist-packages/sklearn/multiclass.py:75: UserWarning: Label not 6 is present in all training examples.\n",
      "  str(classes[c]))\n",
      "/usr/local/lib/python3.7/dist-packages/sklearn/multiclass.py:75: UserWarning: Label not 7 is present in all training examples.\n",
      "  str(classes[c]))\n",
      "/usr/local/lib/python3.7/dist-packages/sklearn/multiclass.py:75: UserWarning: Label not 8 is present in all training examples.\n",
      "  str(classes[c]))\n",
      "/usr/local/lib/python3.7/dist-packages/sklearn/multiclass.py:75: UserWarning: Label not 9 is present in all training examples.\n",
      "  str(classes[c]))\n",
      "/usr/local/lib/python3.7/dist-packages/sklearn/multiclass.py:75: UserWarning: Label not 10 is present in all training examples.\n",
      "  str(classes[c]))\n",
      "/usr/local/lib/python3.7/dist-packages/sklearn/multiclass.py:75: UserWarning: Label not 11 is present in all training examples.\n",
      "  str(classes[c]))\n",
      "/usr/local/lib/python3.7/dist-packages/sklearn/multiclass.py:75: UserWarning: Label not 12 is present in all training examples.\n",
      "  str(classes[c]))\n",
      "/usr/local/lib/python3.7/dist-packages/sklearn/multiclass.py:75: UserWarning: Label not 13 is present in all training examples.\n",
      "  str(classes[c]))\n",
      "/usr/local/lib/python3.7/dist-packages/sklearn/multiclass.py:75: UserWarning: Label not 14 is present in all training examples.\n",
      "  str(classes[c]))\n",
      "/usr/local/lib/python3.7/dist-packages/sklearn/multiclass.py:75: UserWarning: Label not 15 is present in all training examples.\n",
      "  str(classes[c]))\n",
      "/usr/local/lib/python3.7/dist-packages/sklearn/multiclass.py:75: UserWarning: Label not 16 is present in all training examples.\n",
      "  str(classes[c]))\n",
      "/usr/local/lib/python3.7/dist-packages/sklearn/multiclass.py:75: UserWarning: Label not 17 is present in all training examples.\n",
      "  str(classes[c]))\n",
      "/usr/local/lib/python3.7/dist-packages/sklearn/multiclass.py:75: UserWarning: Label not 18 is present in all training examples.\n",
      "  str(classes[c]))\n",
      "/usr/local/lib/python3.7/dist-packages/sklearn/multiclass.py:75: UserWarning: Label not 19 is present in all training examples.\n",
      "  str(classes[c]))\n",
      "/usr/local/lib/python3.7/dist-packages/sklearn/multiclass.py:75: UserWarning: Label not 20 is present in all training examples.\n",
      "  str(classes[c]))\n",
      "/usr/local/lib/python3.7/dist-packages/sklearn/multiclass.py:75: UserWarning: Label not 21 is present in all training examples.\n",
      "  str(classes[c]))\n",
      "/usr/local/lib/python3.7/dist-packages/sklearn/multiclass.py:75: UserWarning: Label not 22 is present in all training examples.\n",
      "  str(classes[c]))\n",
      "/usr/local/lib/python3.7/dist-packages/sklearn/multiclass.py:75: UserWarning: Label not 23 is present in all training examples.\n",
      "  str(classes[c]))\n",
      "/usr/local/lib/python3.7/dist-packages/sklearn/multiclass.py:75: UserWarning: Label not 24 is present in all training examples.\n",
      "  str(classes[c]))\n",
      "/usr/local/lib/python3.7/dist-packages/sklearn/multiclass.py:75: UserWarning: Label not 25 is present in all training examples.\n",
      "  str(classes[c]))\n"
     ]
    },
    {
     "data": {
      "text/plain": [
       "OneVsRestClassifier(estimator=LogisticRegression(C=1.0, class_weight=None,\n",
       "                                                 dual=False, fit_intercept=True,\n",
       "                                                 intercept_scaling=1,\n",
       "                                                 l1_ratio=None, max_iter=100,\n",
       "                                                 multi_class='auto',\n",
       "                                                 n_jobs=None, penalty='l2',\n",
       "                                                 random_state=None,\n",
       "                                                 solver='liblinear', tol=0.0001,\n",
       "                                                 verbose=0, warm_start=False),\n",
       "                    n_jobs=None)"
      ]
     },
     "execution_count": 31,
     "metadata": {
      "tags": []
     },
     "output_type": "execute_result"
    }
   ],
   "source": [
    "#fit\n",
    "classi.fit(x_train1, y_train)"
   ]
  },
  {
   "cell_type": "markdown",
   "metadata": {
    "id": "ZRGejM-Eberk"
   },
   "source": [
    "Make prediction"
   ]
  },
  {
   "cell_type": "code",
   "execution_count": 40,
   "metadata": {
    "id": "Ww_qaAmabkAG"
   },
   "outputs": [],
   "source": [
    "predicted_labels = classi.predict(x_train1)"
   ]
  },
  {
   "cell_type": "code",
   "execution_count": 41,
   "metadata": {
    "id": "D0CRPIxxb29q"
   },
   "outputs": [],
   "source": [
    "from sklearn.metrics import accuracy_score"
   ]
  },
  {
   "cell_type": "code",
   "execution_count": 42,
   "metadata": {
    "colab": {
     "base_uri": "https://localhost:8080/"
    },
    "id": "0vA_yHckb7c5",
    "outputId": "6bc36cc5-c37d-4b6e-9475-7416ec6b9ac6"
   },
   "outputs": [
    {
     "data": {
      "text/plain": [
       "0.8999580536912751"
      ]
     },
     "execution_count": 42,
     "metadata": {
      "tags": []
     },
     "output_type": "execute_result"
    }
   ],
   "source": [
    "accuracy_score(y_train,predicted_labels)"
   ]
  },
  {
   "cell_type": "markdown",
   "metadata": {
    "id": "IjwT0jbLcQ8c"
   },
   "source": [
    "Perform inverse transform and check labels "
   ]
  },
  {
   "cell_type": "code",
   "execution_count": 43,
   "metadata": {
    "id": "SdUPB5HjcLqL"
   },
   "outputs": [],
   "source": [
    "pred_inversed = multilabelBiz.inverse_transform(predicted_labels)\n",
    "y_test_inversed = multilabelBiz.inverse_transform(y_train)"
   ]
  },
  {
   "cell_type": "code",
   "execution_count": 44,
   "metadata": {
    "colab": {
     "base_uri": "https://localhost:8080/"
    },
    "id": "sd34_CYFchkx",
    "outputId": "ecdae8a3-1c8e-48ee-c884-7a5ea332a636"
   },
   "outputs": [
    {
     "name": "stdout",
     "output_type": "stream",
     "text": [
      "Title:\t55 goth urllink oh goth goth girl good chanc bi freaki pump vien still laugh myself urllink take goth test fuali com time call death rock sometim 80 guess\n",
      "True labels:\tCapricorn,female,indUnk\n",
      "Predicted labels:\tCapricorn,female,indUnk\n",
      "\n",
      "\n",
      "Title:\tbandwidth will not abl go onlin much download much next week titl may impli happen exceed bandwidth limit plea let explain littl someth sympatico isp servic give allow upload download 10 gb roughli everymonth sinc unlimit internet not go cut internet keep download instead charg lot everi gigabyt download upload limit ah well fine download much csi month heh onlin lot resist comput next week next month start februari 26th not long seven day away ugh hope sister will not instant messag much msn know everi charact type upload anoth byte download least twice feel oblig type happen monday bad rememb today ugh decid start work tri catch up tire yet happi face shrug guess leav guy know number someth import come up arv\n",
      "True labels:\tLeo,Student,male\n",
      "Predicted labels:\tLeo,Student,male\n",
      "\n",
      "\n",
      "Title:\tfire back mous jeff snyder reuter file michael moor michael moor blast disney relea patriot film refus distribut fahrenheit 9 11 movi compani say do not want releas moor bush bash flick do not want involv polit distribut america heart amp soul pro america film promot move america forward group tri block moor flick disney join forc right wing kook come togeth attempt censor fahrenheit 9 11 must mean dumbo charg compani strateg decis moor say statement post web site first disney tri stop movi relea align peopl tri intimid movi theater show movi even donald duck would tell make no sen\n",
      "True labels:\tPisces,female,indUnk\n",
      "Predicted labels:\tPisces,female,indUnk\n",
      "\n",
      "\n",
      "Title:\tpresid fall bike get cut bruis abl ride back home sound like meeeeeee fall all weather track get trip first 100 m open 800 m race get cut bruis swell black crap knee get back run race feel man hurt like beach still cheeri abl tick mine still presid _ early month democrat presidenti candid john kerri take spill bicycl ride secret servic agent concord mass 18 mile north boston kerri fall bike hit patch sand not injur tell bush mishap kerri say hope ok know presid rode bike john k frk off go drink wine man cool\n",
      "True labels:\tAquarius,Education,female\n",
      "Predicted labels:\tAquarius,Education,female\n",
      "\n",
      "\n",
      "Title:\t33 evil could go either way sin quit bit still bit room error life tug war good evil evil find hilowitz com evil\n",
      "True labels:\tStudent,Taurus,male\n",
      "Predicted labels:\tStudent,Taurus,male\n",
      "\n",
      "\n",
      "Title:\ttoday get home rehear around 11 comput go nbsp figur immedi wire do ethernet up nbsp rah rah nbsp internet would not let brow nbsp could i be nay got messag say proxi server not author view page nbsp know what nbsp show proxi server nbsp disabl it nbsp internet work nbsp ah life beauti nbsp never bring nbsp next agenda nbsp emili music adapt nbsp awesom nbsp see post right one nbsp thirdli cabl nbsp room nbsp never leav fortress again nbsp give fridg nbsp microwav nbsp pantri nbsp take someon hostag put demand nbsp one singl burner thing cook nbsp work clean roz offic today nbsp find lot weird stuff nbsp file program 60 nbsp impress stuff nbsp trash it nbsp worri next year nbsp realli realli nbsp next nbsp offici asshol day nbsp share nbsp way die guild theatr nbsp kid not mention name maul dark hous not complet togeth ye loos board though andrea insist do not need screw circuit breaker circuit breaker box ghetto dimmer system noos um fall loft ghetto light board screwi ladder feedback emili shall continu later nbsp hmm otherwis life seem unev bah nbsp\n",
      "True labels:\tStudent,Taurus,male\n",
      "Predicted labels:\tStudent,Taurus,male\n",
      "\n",
      "\n",
      "Title:\they well blog certainli help pass time work serious though need break work minut perus differ featur add on blog today ad stat counter link friend donovan dj putti music banner bottom page putti electronica tagboard talk soon hope great day\n",
      "True labels:\tBusinessServices,Gemini,female\n",
      "Predicted labels:\tBusinessServices,Gemini,female\n",
      "\n",
      "\n",
      "Title:\treturn home 1997 1999 kunm china weather beauti cool comfort old friend warm welcom everi desir see eat china happili check list addit old favourit also new friend new experi new thing love old citi kid love china too place young boy boy read less civil work place get realli dirti eat sloppili play rowdili noisili run around public approv onlook adult get much astonish affirm chine languag abil pray buoy chines studi singapor jim great meet in countri worker good follow up meet coordin fall grow sign plastic christma big blow santa littl stuf santa tape on the wall santa gaudi tinsel garland fake christma tree tacki ornament merri christma banner hang spray paint lot store window commerci christma catch big way yet no public sign star bethlehem shepherd wise man babi manger 3 week carri pur pretti littl page stori christma mandarin chine entir time find appropri opportun give even one away last night attend 7th annual christma program intern school primari high school year hold larg hall yunnan art institut place pack time arriv could find seat back stand room onli larg auditorium last row strike conver number chine girl seat behind me danc major see day visit campu behind 30 student art institut also hear free program concert love kindergarten act tradit pageant clearli tell christma stori english student behind amaz see stage full foreign kid sing portray believ ancient stori end audienc hundr lift roof harmon carol proclaim birth christ know mystifi young observ yet understand word know stori english poor say me reach bag hand tract get stori chine want it give rest friend back supris thank pass back prayer continu littl seed plant\n",
      "True labels:\tPisces,female,indUnk\n",
      "Predicted labels:\tPisces,female,indUnk\n",
      "\n",
      "\n",
      "Title:\twell decid start write match date soon look back see feel initi meet someon first set date not worthi write up plan forget anyon complet suck guy go discov blog w o give url read blog stay blog back stori tonight go fireman cute tall nice bodi work swm 31 year old no kid live alon simpl date pick go mo fort green speak 3 hour 2 drink each easi convers funni way drop show apart realli nice realli neat guy definit cook know keep place clean play interest game truth dare get learn lot cap date kiss definit someon want see again let know fireman date 2 turn out\n",
      "True labels:\tLaw,Leo,female\n",
      "Predicted labels:\tLaw,Leo,female\n",
      "\n",
      "\n",
      "Title:\tearli morn come look hear music play leav feel dizzi see stand outsid door cover cowboy magic convinc smile child face say someth subtl look sky like wait fall us alway someth new everytim enough keep come back\n",
      "True labels:\tGemini,Student,female\n",
      "Predicted labels:\tGemini,Student,female\n",
      "\n",
      "\n"
     ]
    }
   ],
   "source": [
    "for i in range(10):\n",
    "    print('Title:\\t{}\\nTrue labels:\\t{}\\nPredicted labels:\\t{}\\n\\n'.format(\n",
    "        X_train[i],\n",
    "        ','.join(y_test_inversed[i]),\n",
    "        ','.join(pred_inversed[i])\n",
    "    ))"
   ]
  },
  {
   "cell_type": "code",
   "execution_count": 45,
   "metadata": {
    "id": "Ln3t09RXdsYD"
   },
   "outputs": [],
   "source": [
    "from sklearn.metrics import accuracy_score\n",
    "from sklearn.metrics import f1_score\n",
    "from sklearn.metrics import average_precision_score\n",
    "from sklearn.metrics import recall_score\n",
    "\n",
    "def print_evaluation_scores(y_val, predicted):\n",
    "    print('Accuracy score: ', accuracy_score(y_val, predicted))\n",
    "    print('F1 score: ', f1_score(y_val, predicted, average='weighted'))\n",
    "    print('Average precision score: ', average_precision_score(y_val, predicted, average='weighted'))\n",
    "    print('Average recall score: ', recall_score(y_val, predicted, average='weighted'))"
   ]
  },
  {
   "cell_type": "code",
   "execution_count": 48,
   "metadata": {
    "colab": {
     "base_uri": "https://localhost:8080/"
    },
    "id": "EE9T4UB6dvgq",
    "outputId": "6fd5a1a7-a8cb-4dfd-9696-46ba8502eddc"
   },
   "outputs": [
    {
     "name": "stdout",
     "output_type": "stream",
     "text": [
      "Classifier - LogisticRegression\n",
      "Accuracy score:  0.8999580536912751\n",
      "F1 score:  0.9688563101293611\n"
     ]
    },
    {
     "name": "stderr",
     "output_type": "stream",
     "text": [
      "/usr/local/lib/python3.7/dist-packages/sklearn/metrics/_classification.py:1515: UndefinedMetricWarning: F-score is ill-defined and being set to 0.0 in labels with no true nor predicted samples. Use `zero_division` parameter to control this behavior.\n",
      "  average, \"true nor predicted\", 'F-score is', len(true_sum)\n",
      "/usr/local/lib/python3.7/dist-packages/sklearn/metrics/_ranking.py:677: RuntimeWarning: invalid value encountered in true_divide\n",
      "  recall = tps / tps[-1]\n"
     ]
    },
    {
     "name": "stdout",
     "output_type": "stream",
     "text": [
      "Average precision score:  0.9486254352995382\n",
      "Average recall score:  0.9407158836689038\n"
     ]
    },
    {
     "name": "stderr",
     "output_type": "stream",
     "text": [
      "/usr/local/lib/python3.7/dist-packages/sklearn/metrics/_classification.py:1272: UndefinedMetricWarning: Recall is ill-defined and being set to 0.0 in labels with no true samples. Use `zero_division` parameter to control this behavior.\n",
      "  _warn_prf(average, modifier, msg_start, len(result))\n"
     ]
    }
   ],
   "source": [
    "print('Classifier - LogisticRegression')\n",
    "print_evaluation_scores(y_train, predicted_labels)"
   ]
  },
  {
   "cell_type": "markdown",
   "metadata": {
    "id": "QRY_FQRzeudn"
   },
   "source": [
    "Lets check test performance"
   ]
  },
  {
   "cell_type": "code",
   "execution_count": 49,
   "metadata": {
    "id": "bl6DLR8teDpv"
   },
   "outputs": [],
   "source": [
    "predicted_labels_test = classi.predict(x_test1)"
   ]
  },
  {
   "cell_type": "code",
   "execution_count": 50,
   "metadata": {
    "colab": {
     "base_uri": "https://localhost:8080/"
    },
    "id": "kIMZKOQgeQwJ",
    "outputId": "221f2f83-8d5c-4180-b168-d70216035219"
   },
   "outputs": [
    {
     "data": {
      "text/plain": [
       "0.0019569471624266144"
      ]
     },
     "execution_count": 50,
     "metadata": {
      "tags": []
     },
     "output_type": "execute_result"
    }
   ],
   "source": [
    "accuracy_score(y_test,predicted_labels_test)"
   ]
  },
  {
   "cell_type": "code",
   "execution_count": 51,
   "metadata": {
    "id": "to9qvA60eUxt"
   },
   "outputs": [],
   "source": [
    "pred_inversed = multilabelBiz.inverse_transform(predicted_labels_test)\n",
    "y_test_inversed = multilabelBiz.inverse_transform(y_test)"
   ]
  },
  {
   "cell_type": "code",
   "execution_count": 52,
   "metadata": {
    "colab": {
     "base_uri": "https://localhost:8080/"
    },
    "id": "Nz4Nv-BFfMbD",
    "outputId": "8d861b78-b95d-4820-b22c-de92d2acb910"
   },
   "outputs": [
    {
     "name": "stdout",
     "output_type": "stream",
     "text": [
      "Title:\thell offic sinc monday 1stli manpow like 4 person 10 pple 2ndli stupid ghost nick give mr woo manag co alway sneak behind pple back keep ignor us popout email state statist low blah blah blah open eye big see mani us handl wonder head fill grass no brain today thing happen thou patrick ryan around thing get alittl control yet toopid mr liew sup walk around eye close practic shout answer call answer call shit him see tat busi wat hell\n",
      "True labels:\tEngineering,Scorpio,male\n",
      "Predicted labels:\tfemale\n",
      "\n",
      "\n",
      "Title:\ttoday town wait anoth coupl hour cam ein late seri writeup town citi visit past fifteen year read one blog archiv\n",
      "True labels:\tAries,Communications-Media,male\n",
      "Predicted labels:\tmale\n",
      "\n",
      "\n",
      "Title:\tmake amend earlier post trade tyler anyth make aw day million time well love\n",
      "True labels:\tLibra,Student,female\n",
      "Predicted labels:\t\n",
      "\n",
      "\n",
      "Title:\they i be bore no one talk think tell whole stori steubenvil weekend o k\n",
      "True labels:\tCapricorn,indUnk,male\n",
      "Predicted labels:\t\n",
      "\n",
      "\n",
      "Title:\tage sinc last post no one ever read anyway sure miss car work although bumper not realli stereo go dad fix leak think much point fix stereo go buy new mp3 one 6x9 xplode back well l today\n",
      "True labels:\tScorpio,female,indUnk\n",
      "Predicted labels:\t\n",
      "\n",
      "\n",
      "Title:\ttrue stori ben see rachel oh god mean pari hilton adam run ben no buzz rodel mischa realli get see him adam drive sun rachel far dreamier person ben plea no chri carmack adam look number one mischa yeah buzz special someth rachel mapl syrup smell adam california coooooooom\n",
      "True labels:\tCommunications-Media,Leo,male\n",
      "Predicted labels:\tfemale,indUnk\n",
      "\n",
      "\n",
      "Title:\tglobe mail urllink report today stephen harper conserv parti close liber parti popular scari oh sure know your think i be like canadian think stephen harper prime minist scari think actual find scari elect loom around corner not convinc parti good job parti vote last elect merg ndp not say bad support ideolog practic find attract howev none individu support ideolog prefer henc can not figur choos mayb throw dart decid p s come post look stephen harper religion one messag board user urllink claim end time christian fundamentalist oh urllink birthday urllink read\n",
      "True labels:\tAries,female,indUnk\n",
      "Predicted labels:\tfemale\n",
      "\n",
      "\n",
      "Title:\trag read feel like shit t not love anymor heart habit seem annoy someth can not ignor someth els ignor noth chang yourself not now plea give time space think thing let decid whether worth it\n",
      "True labels:\tSagittarius,female,indUnk\n",
      "Predicted labels:\t\n",
      "\n",
      "\n",
      "Title:\tshoot usual put peopl floor face bucket pretti fast peopl serv either stupid teenag think could drink full boozer mich realli want put someon top tri shot goe ingredi tequila tripl sec cointreau kahlua coffe mug someth resembl like teacup one gay littl tea milk pot pour 1 5 centilit ingredi place mug microwav oven 15 second liquid hot not boil unless hate fucker serv microwav pour nectar shot glass sinc normal shot glass around 3 8 centilit although bar say 4 centilit shoot actual cheat 2cl booz outright scandal half shoot much left mug fill shot glass pour rest liquid around shot make small line bar lead glass give sorri bastard straw light bit pour bar around shotglass shit ignit like napalm care bit bar lead shoot glass light well light tell bastard shoot straw tada cucaracha note poor individu drink cucaracha bucket handi trust me cheer hard part bartend figur drunk stupid richard braunstein\n",
      "True labels:\tCapricorn,Religion,male\n",
      "Predicted labels:\tfemale\n",
      "\n",
      "\n",
      "Title:\teveryon box day usual insan fast pace michel decid go kingsway mall not west edmonton mall definetli either stupid crazi no offens scare go kingsway mall pretti busi well sure not extent wem kingsway 2 year forget like actual mani good store mall girl mich say box day load bs so call sale not realli sale anyway low price ridicul amount first place regardless everyon includ us get sucker world consumer ce la vie n est pa appar not freak famili go crazi box day year parent final decid come sen buy ten ye ten selv storag home depot long stori short hous know talk parent pack rat keep everyth not sure come chine parent even newspap old me sit box den untouch becom fragil old yellow everi second dad plan read paper retir hello dad internet get junk everywher urk guess not enough actual jump organ everyth much time requir practic half hous not exagger occupi unus box untouch item gather dust gross year complaint parent need throw thing organ everyth show mean den work progress part dad newspap collect think even half look yellow eww see hous messi talk underr word acut half hous like mostli den entir basement needless say proud mommi daddi final get organ junk instead build floor build wall\n",
      "True labels:\tLeo,Student,female\n",
      "Predicted labels:\tfemale\n",
      "\n",
      "\n"
     ]
    }
   ],
   "source": [
    "for i in range(10):\n",
    "    print('Title:\\t{}\\nTrue labels:\\t{}\\nPredicted labels:\\t{}\\n\\n'.format(\n",
    "        X_test[i],\n",
    "        ','.join(y_test_inversed[i]),\n",
    "        ','.join(pred_inversed[i])\n",
    "    ))"
   ]
  },
  {
   "cell_type": "markdown",
   "metadata": {
    "id": "7tbFYEM0c8b_"
   },
   "source": []
  },
  {
   "cell_type": "markdown",
   "metadata": {
    "id": "2kiqAhUHc9H-"
   },
   "source": [
    "# Classifier - SVM"
   ]
  },
  {
   "cell_type": "code",
   "execution_count": 83,
   "metadata": {
    "id": "qF3gm7L2c8JB"
   },
   "outputs": [],
   "source": [
    "from sklearn.svm import SVC"
   ]
  },
  {
   "cell_type": "code",
   "execution_count": 84,
   "metadata": {
    "id": "AQmrfN-1hhKQ"
   },
   "outputs": [],
   "source": [
    "model = SVC()\n",
    "model = OneVsRestClassifier(model)"
   ]
  },
  {
   "cell_type": "code",
   "execution_count": 85,
   "metadata": {
    "colab": {
     "base_uri": "https://localhost:8080/"
    },
    "id": "d0UHuArfhxQ3",
    "outputId": "f79f2c52-39be-4d10-e989-4b7a698449b9"
   },
   "outputs": [
    {
     "name": "stderr",
     "output_type": "stream",
     "text": [
      "/usr/local/lib/python3.7/dist-packages/sklearn/multiclass.py:75: UserWarning: Label not 0 is present in all training examples.\n",
      "  str(classes[c]))\n",
      "/usr/local/lib/python3.7/dist-packages/sklearn/multiclass.py:75: UserWarning: Label not 1 is present in all training examples.\n",
      "  str(classes[c]))\n",
      "/usr/local/lib/python3.7/dist-packages/sklearn/multiclass.py:75: UserWarning: Label not 2 is present in all training examples.\n",
      "  str(classes[c]))\n",
      "/usr/local/lib/python3.7/dist-packages/sklearn/multiclass.py:75: UserWarning: Label not 3 is present in all training examples.\n",
      "  str(classes[c]))\n",
      "/usr/local/lib/python3.7/dist-packages/sklearn/multiclass.py:75: UserWarning: Label not 4 is present in all training examples.\n",
      "  str(classes[c]))\n",
      "/usr/local/lib/python3.7/dist-packages/sklearn/multiclass.py:75: UserWarning: Label not 5 is present in all training examples.\n",
      "  str(classes[c]))\n",
      "/usr/local/lib/python3.7/dist-packages/sklearn/multiclass.py:75: UserWarning: Label not 6 is present in all training examples.\n",
      "  str(classes[c]))\n",
      "/usr/local/lib/python3.7/dist-packages/sklearn/multiclass.py:75: UserWarning: Label not 7 is present in all training examples.\n",
      "  str(classes[c]))\n",
      "/usr/local/lib/python3.7/dist-packages/sklearn/multiclass.py:75: UserWarning: Label not 8 is present in all training examples.\n",
      "  str(classes[c]))\n",
      "/usr/local/lib/python3.7/dist-packages/sklearn/multiclass.py:75: UserWarning: Label not 9 is present in all training examples.\n",
      "  str(classes[c]))\n",
      "/usr/local/lib/python3.7/dist-packages/sklearn/multiclass.py:75: UserWarning: Label not 10 is present in all training examples.\n",
      "  str(classes[c]))\n",
      "/usr/local/lib/python3.7/dist-packages/sklearn/multiclass.py:75: UserWarning: Label not 11 is present in all training examples.\n",
      "  str(classes[c]))\n",
      "/usr/local/lib/python3.7/dist-packages/sklearn/multiclass.py:75: UserWarning: Label not 12 is present in all training examples.\n",
      "  str(classes[c]))\n",
      "/usr/local/lib/python3.7/dist-packages/sklearn/multiclass.py:75: UserWarning: Label not 13 is present in all training examples.\n",
      "  str(classes[c]))\n",
      "/usr/local/lib/python3.7/dist-packages/sklearn/multiclass.py:75: UserWarning: Label not 14 is present in all training examples.\n",
      "  str(classes[c]))\n",
      "/usr/local/lib/python3.7/dist-packages/sklearn/multiclass.py:75: UserWarning: Label not 15 is present in all training examples.\n",
      "  str(classes[c]))\n",
      "/usr/local/lib/python3.7/dist-packages/sklearn/multiclass.py:75: UserWarning: Label not 16 is present in all training examples.\n",
      "  str(classes[c]))\n",
      "/usr/local/lib/python3.7/dist-packages/sklearn/multiclass.py:75: UserWarning: Label not 17 is present in all training examples.\n",
      "  str(classes[c]))\n",
      "/usr/local/lib/python3.7/dist-packages/sklearn/multiclass.py:75: UserWarning: Label not 18 is present in all training examples.\n",
      "  str(classes[c]))\n",
      "/usr/local/lib/python3.7/dist-packages/sklearn/multiclass.py:75: UserWarning: Label not 19 is present in all training examples.\n",
      "  str(classes[c]))\n",
      "/usr/local/lib/python3.7/dist-packages/sklearn/multiclass.py:75: UserWarning: Label not 20 is present in all training examples.\n",
      "  str(classes[c]))\n",
      "/usr/local/lib/python3.7/dist-packages/sklearn/multiclass.py:75: UserWarning: Label not 21 is present in all training examples.\n",
      "  str(classes[c]))\n",
      "/usr/local/lib/python3.7/dist-packages/sklearn/multiclass.py:75: UserWarning: Label not 22 is present in all training examples.\n",
      "  str(classes[c]))\n",
      "/usr/local/lib/python3.7/dist-packages/sklearn/multiclass.py:75: UserWarning: Label not 23 is present in all training examples.\n",
      "  str(classes[c]))\n",
      "/usr/local/lib/python3.7/dist-packages/sklearn/multiclass.py:75: UserWarning: Label not 24 is present in all training examples.\n",
      "  str(classes[c]))\n",
      "/usr/local/lib/python3.7/dist-packages/sklearn/multiclass.py:75: UserWarning: Label not 25 is present in all training examples.\n",
      "  str(classes[c]))\n"
     ]
    },
    {
     "data": {
      "text/plain": [
       "OneVsRestClassifier(estimator=SVC(C=1.0, break_ties=False, cache_size=200,\n",
       "                                  class_weight=None, coef0=0.0,\n",
       "                                  decision_function_shape='ovr', degree=3,\n",
       "                                  gamma='scale', kernel='rbf', max_iter=-1,\n",
       "                                  probability=False, random_state=None,\n",
       "                                  shrinking=True, tol=0.001, verbose=False),\n",
       "                    n_jobs=None)"
      ]
     },
     "execution_count": 85,
     "metadata": {
      "tags": []
     },
     "output_type": "execute_result"
    }
   ],
   "source": [
    "model.fit(x_train1,y_train)"
   ]
  },
  {
   "cell_type": "code",
   "execution_count": 89,
   "metadata": {
    "id": "DAUR1YMah1UK"
   },
   "outputs": [],
   "source": [
    "predicted_labels = model.predict(x_test1)"
   ]
  },
  {
   "cell_type": "code",
   "execution_count": 90,
   "metadata": {
    "colab": {
     "base_uri": "https://localhost:8080/"
    },
    "id": "X9Ws23BRq652",
    "outputId": "0a7279e9-d161-4a75-c203-21752f2f6fe1"
   },
   "outputs": [
    {
     "data": {
      "text/plain": [
       "0.0"
      ]
     },
     "execution_count": 90,
     "metadata": {
      "tags": []
     },
     "output_type": "execute_result"
    }
   ],
   "source": [
    "accuracy_score(y_test,predicted_labels)"
   ]
  },
  {
   "cell_type": "markdown",
   "metadata": {
    "id": "AM9rrttjtnRt"
   },
   "source": [
    "# Build Model - Using TF-IDF COuntVectoriser"
   ]
  },
  {
   "cell_type": "code",
   "execution_count": 16,
   "metadata": {
    "id": "NXd0OiIB3HyP"
   },
   "outputs": [],
   "source": [
    "from sklearn.model_selection import train_test_split\n",
    "#Split data into 70:30 :: train : test \n",
    "X_train, X_test, y_train, y_test = train_test_split(finaldf1.ProcessedText.values,\n",
    "                                                    finaldf1.labels.values,\n",
    "                                                    test_size=0.3,\n",
    "                                                    random_state=26\n",
    "                                                    )"
   ]
  },
  {
   "cell_type": "code",
   "execution_count": 17,
   "metadata": {
    "id": "iCKS-hY3uvBM"
   },
   "outputs": [],
   "source": [
    "from sklearn.feature_extraction.text import TfidfVectorizer"
   ]
  },
  {
   "cell_type": "code",
   "execution_count": 18,
   "metadata": {
    "id": "wEMxSU8hu9rw"
   },
   "outputs": [],
   "source": [
    "vecttfidf = TfidfVectorizer() "
   ]
  },
  {
   "cell_type": "code",
   "execution_count": 20,
   "metadata": {
    "colab": {
     "base_uri": "https://localhost:8080/"
    },
    "id": "TUHHkPRV3aQ0",
    "outputId": "a5f02fcb-4be7-450c-c6fb-c022a291352e"
   },
   "outputs": [
    {
     "data": {
      "text/plain": [
       "TfidfVectorizer(analyzer='word', binary=False, decode_error='strict',\n",
       "                dtype=<class 'numpy.float64'>, encoding='utf-8',\n",
       "                input='content', lowercase=True, max_df=1.0, max_features=None,\n",
       "                min_df=1, ngram_range=(1, 1), norm='l2', preprocessor=None,\n",
       "                smooth_idf=True, stop_words=None, strip_accents=None,\n",
       "                sublinear_tf=False, token_pattern='(?u)\\\\b\\\\w\\\\w+\\\\b',\n",
       "                tokenizer=None, use_idf=True, vocabulary=None)"
      ]
     },
     "execution_count": 20,
     "metadata": {
      "tags": []
     },
     "output_type": "execute_result"
    }
   ],
   "source": [
    "vecttfidf.fit(X_train)"
   ]
  },
  {
   "cell_type": "code",
   "execution_count": 21,
   "metadata": {
    "colab": {
     "base_uri": "https://localhost:8080/"
    },
    "id": "pMIRVkoW3WXA",
    "outputId": "e498213d-2056-4ca9-895f-55747b7fab39"
   },
   "outputs": [
    {
     "data": {
      "text/plain": [
       "44662"
      ]
     },
     "execution_count": 21,
     "metadata": {
      "tags": []
     },
     "output_type": "execute_result"
    }
   ],
   "source": [
    "#Check the vocablury size\n",
    "len(vecttfidf.vocabulary_)"
   ]
  },
  {
   "cell_type": "code",
   "execution_count": 22,
   "metadata": {
    "id": "gLRHZw8uvWXJ"
   },
   "outputs": [],
   "source": [
    "x_train2 = vecttfidf.transform(X_train)\n",
    "x_test2 = vecttfidf.transform(X_test)"
   ]
  },
  {
   "cell_type": "code",
   "execution_count": 23,
   "metadata": {
    "id": "zyoBh4HKzL0V"
   },
   "outputs": [],
   "source": [
    "label_counts = dict()\n",
    "\n",
    "for labels in finaldf1.labels.values:\n",
    "    for label in labels:\n",
    "        if label in label_counts:\n",
    "            label_counts[label] += 1\n",
    "        else:\n",
    "            label_counts[label] = 1"
   ]
  },
  {
   "cell_type": "code",
   "execution_count": 24,
   "metadata": {
    "id": "_UBvHH9qzSy5"
   },
   "outputs": [],
   "source": [
    "keys_values = label_counts.items()\n",
    "label_counts_str = {str(key): str(value) for key, value in keys_values}"
   ]
  },
  {
   "cell_type": "code",
   "execution_count": 25,
   "metadata": {
    "id": "lcVVuHl9v8Jt"
   },
   "outputs": [],
   "source": [
    "from sklearn.preprocessing import MultiLabelBinarizer\n",
    "multilabelBiz= MultiLabelBinarizer(classes=sorted(label_counts_str.keys()))"
   ]
  },
  {
   "cell_type": "code",
   "execution_count": 26,
   "metadata": {
    "colab": {
     "base_uri": "https://localhost:8080/"
    },
    "id": "9vCzRiYfv-WP",
    "outputId": "32cf3ad7-fee4-4bdb-db2d-d4c4bb46d8ee"
   },
   "outputs": [
    {
     "name": "stderr",
     "output_type": "stream",
     "text": [
      "/usr/local/lib/python3.7/dist-packages/sklearn/preprocessing/_label.py:987: UserWarning: unknown class(es) [13, 14, 15, 16, 17, 23, 24, 25, 26, 27, 33, 34, 35, 36, 37, 38, 39, 40, 41, 42, 43, 44, 45, 46, 47, 48] will be ignored\n",
      "  .format(sorted(unknown, key=str)))\n"
     ]
    }
   ],
   "source": [
    "y_train = multilabelBiz.fit_transform(y_train)\n",
    "y_test = multilabelBiz.transform(y_test)"
   ]
  },
  {
   "cell_type": "code",
   "execution_count": 27,
   "metadata": {
    "id": "UQTtb6CdzoqF"
   },
   "outputs": [],
   "source": [
    "from sklearn.multiclass import OneVsRestClassifier\n",
    "from sklearn.linear_model import LogisticRegression"
   ]
  },
  {
   "cell_type": "code",
   "execution_count": 28,
   "metadata": {
    "id": "299oF9WZwKXf"
   },
   "outputs": [],
   "source": [
    "classi2 = LogisticRegression(solver='liblinear')\n",
    "classi2 = OneVsRestClassifier(classi2)"
   ]
  },
  {
   "cell_type": "code",
   "execution_count": 29,
   "metadata": {
    "colab": {
     "base_uri": "https://localhost:8080/"
    },
    "id": "diE5R1pRwYDd",
    "outputId": "62de417b-b307-4e99-9124-146e6786d589"
   },
   "outputs": [
    {
     "name": "stderr",
     "output_type": "stream",
     "text": [
      "/usr/local/lib/python3.7/dist-packages/sklearn/multiclass.py:75: UserWarning: Label not 0 is present in all training examples.\n",
      "  str(classes[c]))\n",
      "/usr/local/lib/python3.7/dist-packages/sklearn/multiclass.py:75: UserWarning: Label not 1 is present in all training examples.\n",
      "  str(classes[c]))\n",
      "/usr/local/lib/python3.7/dist-packages/sklearn/multiclass.py:75: UserWarning: Label not 2 is present in all training examples.\n",
      "  str(classes[c]))\n",
      "/usr/local/lib/python3.7/dist-packages/sklearn/multiclass.py:75: UserWarning: Label not 3 is present in all training examples.\n",
      "  str(classes[c]))\n",
      "/usr/local/lib/python3.7/dist-packages/sklearn/multiclass.py:75: UserWarning: Label not 4 is present in all training examples.\n",
      "  str(classes[c]))\n",
      "/usr/local/lib/python3.7/dist-packages/sklearn/multiclass.py:75: UserWarning: Label not 5 is present in all training examples.\n",
      "  str(classes[c]))\n",
      "/usr/local/lib/python3.7/dist-packages/sklearn/multiclass.py:75: UserWarning: Label not 6 is present in all training examples.\n",
      "  str(classes[c]))\n",
      "/usr/local/lib/python3.7/dist-packages/sklearn/multiclass.py:75: UserWarning: Label not 7 is present in all training examples.\n",
      "  str(classes[c]))\n",
      "/usr/local/lib/python3.7/dist-packages/sklearn/multiclass.py:75: UserWarning: Label not 8 is present in all training examples.\n",
      "  str(classes[c]))\n",
      "/usr/local/lib/python3.7/dist-packages/sklearn/multiclass.py:75: UserWarning: Label not 9 is present in all training examples.\n",
      "  str(classes[c]))\n",
      "/usr/local/lib/python3.7/dist-packages/sklearn/multiclass.py:75: UserWarning: Label not 10 is present in all training examples.\n",
      "  str(classes[c]))\n",
      "/usr/local/lib/python3.7/dist-packages/sklearn/multiclass.py:75: UserWarning: Label not 11 is present in all training examples.\n",
      "  str(classes[c]))\n",
      "/usr/local/lib/python3.7/dist-packages/sklearn/multiclass.py:75: UserWarning: Label not 12 is present in all training examples.\n",
      "  str(classes[c]))\n",
      "/usr/local/lib/python3.7/dist-packages/sklearn/multiclass.py:75: UserWarning: Label not 13 is present in all training examples.\n",
      "  str(classes[c]))\n",
      "/usr/local/lib/python3.7/dist-packages/sklearn/multiclass.py:75: UserWarning: Label not 14 is present in all training examples.\n",
      "  str(classes[c]))\n",
      "/usr/local/lib/python3.7/dist-packages/sklearn/multiclass.py:75: UserWarning: Label not 15 is present in all training examples.\n",
      "  str(classes[c]))\n",
      "/usr/local/lib/python3.7/dist-packages/sklearn/multiclass.py:75: UserWarning: Label not 16 is present in all training examples.\n",
      "  str(classes[c]))\n",
      "/usr/local/lib/python3.7/dist-packages/sklearn/multiclass.py:75: UserWarning: Label not 17 is present in all training examples.\n",
      "  str(classes[c]))\n",
      "/usr/local/lib/python3.7/dist-packages/sklearn/multiclass.py:75: UserWarning: Label not 18 is present in all training examples.\n",
      "  str(classes[c]))\n",
      "/usr/local/lib/python3.7/dist-packages/sklearn/multiclass.py:75: UserWarning: Label not 19 is present in all training examples.\n",
      "  str(classes[c]))\n",
      "/usr/local/lib/python3.7/dist-packages/sklearn/multiclass.py:75: UserWarning: Label not 20 is present in all training examples.\n",
      "  str(classes[c]))\n",
      "/usr/local/lib/python3.7/dist-packages/sklearn/multiclass.py:75: UserWarning: Label not 21 is present in all training examples.\n",
      "  str(classes[c]))\n",
      "/usr/local/lib/python3.7/dist-packages/sklearn/multiclass.py:75: UserWarning: Label not 22 is present in all training examples.\n",
      "  str(classes[c]))\n",
      "/usr/local/lib/python3.7/dist-packages/sklearn/multiclass.py:75: UserWarning: Label not 23 is present in all training examples.\n",
      "  str(classes[c]))\n",
      "/usr/local/lib/python3.7/dist-packages/sklearn/multiclass.py:75: UserWarning: Label not 24 is present in all training examples.\n",
      "  str(classes[c]))\n",
      "/usr/local/lib/python3.7/dist-packages/sklearn/multiclass.py:75: UserWarning: Label not 25 is present in all training examples.\n",
      "  str(classes[c]))\n"
     ]
    },
    {
     "data": {
      "text/plain": [
       "OneVsRestClassifier(estimator=LogisticRegression(C=1.0, class_weight=None,\n",
       "                                                 dual=False, fit_intercept=True,\n",
       "                                                 intercept_scaling=1,\n",
       "                                                 l1_ratio=None, max_iter=100,\n",
       "                                                 multi_class='auto',\n",
       "                                                 n_jobs=None, penalty='l2',\n",
       "                                                 random_state=None,\n",
       "                                                 solver='liblinear', tol=0.0001,\n",
       "                                                 verbose=0, warm_start=False),\n",
       "                    n_jobs=None)"
      ]
     },
     "execution_count": 29,
     "metadata": {
      "tags": []
     },
     "output_type": "execute_result"
    }
   ],
   "source": [
    "classi2.fit(x_train2,y_train)"
   ]
  },
  {
   "cell_type": "code",
   "execution_count": 30,
   "metadata": {
    "id": "KrYQPNKp0gSc"
   },
   "outputs": [],
   "source": [
    "from sklearn.metrics import accuracy_score"
   ]
  },
  {
   "cell_type": "code",
   "execution_count": 31,
   "metadata": {
    "colab": {
     "base_uri": "https://localhost:8080/"
    },
    "id": "IyLRCnQywiQJ",
    "outputId": "eea8015f-dca2-44a5-efc5-fd130123207d"
   },
   "outputs": [
    {
     "data": {
      "text/plain": [
       "0.0"
      ]
     },
     "execution_count": 31,
     "metadata": {
      "tags": []
     },
     "output_type": "execute_result"
    }
   ],
   "source": [
    "predicted_labels = classi2.predict(x_train2)\n",
    "accuracy_score(y_train,predicted_labels)"
   ]
  },
  {
   "cell_type": "code",
   "execution_count": 32,
   "metadata": {
    "colab": {
     "base_uri": "https://localhost:8080/"
    },
    "id": "yZY_KJ-ewoKZ",
    "outputId": "c2c482e3-89aa-4b4e-d689-498b61e00c1e"
   },
   "outputs": [
    {
     "data": {
      "text/plain": [
       "0.0"
      ]
     },
     "execution_count": 32,
     "metadata": {
      "tags": []
     },
     "output_type": "execute_result"
    }
   ],
   "source": [
    "predicted_labels = classi2.predict(x_test2)\n",
    "accuracy_score(y_test,predicted_labels)"
   ]
  },
  {
   "cell_type": "code",
   "execution_count": 42,
   "metadata": {
    "id": "5-elmoryw3dZ"
   },
   "outputs": [],
   "source": [
    "pred_inversed = multilabelBiz.inverse_transform(predicted_labels)\n",
    "y_test_inversed = multilabelBiz.inverse_transform(y_test)"
   ]
  },
  {
   "cell_type": "code",
   "execution_count": 44,
   "metadata": {
    "colab": {
     "base_uri": "https://localhost:8080/"
    },
    "id": "vqQ0Gx75xYzL",
    "outputId": "e1b0034f-0ae2-4b4a-9c33-9af4ff6b6de3"
   },
   "outputs": [
    {
     "name": "stdout",
     "output_type": "stream",
     "text": [
      "Title:\t             I was  urlLink spotted  last night.          \n",
      "True labels:\tPisces,indUnk,male\n",
      "Predicted labels:\t\n",
      "\n",
      "\n",
      "Title:\t           Just finished talking to Jan on the phone 10mins ago and well...you know how that guy influences my mood. Nobody can make me sa happy (or as sad) as I am now except my one and only loooooooove (drool). After coming back from lunch, I still didn't get any sms from him and neither is he online! Then finally after several minutes I got an sms from him telling me that just as he was about to come online, the power went off (I hope it's not some kind of bad sign!). Well, I hate to admit that I kinda doubt him to I asked him if I can call him now, just to make sure if he really is at home and wants to talk to me (well, I didn't tell him exactly THAT! He kill me!). So, I called him up and we talked...and talked...and went on for almost an hour (my boss is gonna kill me when he finds out!). I told him I'm using my boss' account and he told me it's okey and that maybe my boss wouldn't mind. I guess we really are the same more than we know.lol Then I told him that this co-worker of mine showed me a catalog to buy something and I told him I don't wanna buy anything from someone I don't like esp that Cynthia! I don't know if I've told you about her before but she is beyond me....gosh! One blog is not enough to tell you much much of a ******* whatever she is! Jan asked me why I don't wanna buy anything even if I really want that something, then I told him coz I don't want her to be happy or satisfied coz I dont like her. Jan told me it's bad and I thought oh my, I've been to honest with him he might get turned-off by me. ood thing he told me (after some nudging from me) that maybe others would think I don't have a good attitude, but he likes me and see nothing wrong with it. Oh, he's such a sweety!  I dunno if he's just teasing me or whatever but he told me he sure can face my parents and get along with them. And's kinda nice to know too that his parents let him do what he wants now since he's been responsible. I dunno how much of that I should believe coz he say some things that he forgets in the future. But, I sure really hope he's telling the truth! I really really love him. Anyways, there's only one thing, I kinda lied to him about eating pork. I just thought it's a big deal to him so I guess a little white lie wouldn't hurt. I'll just quit eating those when he finally gets here and even after that. Bt, there's also this one thing about 'wasting money for calls'. It kinda hurt me to think that he thinks that the reason why he doesn't want to call me is coz he doesn't want to waste his money. I'm so glad he clarified that issue or else....well, you know me I make a big deal out of a small one.  On a different thing, I asked Anna again if she's going anywhere after work coz I wanna go with her to church, but I guess this is not my lucky day again.=( She told me she's going home with her mom. So, there goes. Why don't I learn anything from this?! Next time I won't even invite her...she can invite herself!          \n",
      "True labels:\tGemini,female,indUnk\n",
      "Predicted labels:\tfemale\n",
      "\n",
      "\n",
      "Title:\t             J and I went to Mississippi for some fun in the sun.  If you ever have to drive 13 hours, I recommend you do it in a conversion van.  Comfy, and you can sleep in it, thereby saving on hotel rooms.  It was a good trip.  I went shopping.         \n",
      "True labels:\tCancer,Construction,female\n",
      "Predicted labels:\t\n",
      "\n",
      "\n",
      "Title:\t             I don't rant in this thing enough anymore, although its not like anyone ACTUALLY reads it. I get so lazy when I need to yell.  So I saw 28 Days Later 2 times in the past 24 hours. The 2 newbies as I like to call them both had trouble understanding it. You're lucky I don't disown you because 28 Days Later is like a test to see if you can be friends with me. Or at least I should make it be one. But who'd want to be friends with me anyways right?  Yea I entertained a guest on Wednesday or was it Tuesday. Went to a soccer game hollerd at some people and got free pizza. Then I think my house bored him to death. So yea prolly never see that kid over here again. We got some movies, was about to rent 28 Days Later and then thought hey why dont I just buy it. So I did and now I own a movie. Just seemed to not entertain the kid tho, musta been a comedy person. We did get Eurotrip which was mildly entertaining. Previews ruined a lot of the stuff.  I also seen Day After Tomorrow wit Chelski and Derk. Twas a good movie. It was weird cuz the last movie I saw (Elf) which was 3 or 4 months previous, I saw the preview for Day After Tomorrow and said I want to see that. And turns out it was the next movie I saw. (I thought it was amusing). There was this one part that was funny though in the movie but absolutely no one thought it was, I guess maybe it wasnt a joke or something but I was laughin hard and no one else gave it a thought but Chelsea laughed after I was laughing for awhile.  Yea, err so people annoy me a lot. A lot of people annoy me a lot. But yea, theres this one Rugrats episode where Phil and Lil were like you know the more time you spend with each other youll end up hating each other? Well I think that is kinda true. It happens all the fucking fuck time. So yes.  I hate the way things turn out. Period. Just period.  Me and Derk, got into this fight with Chelseas X Kevin. And it was very fun in fact I think I posted it below or maybe I am lying.         \n",
      "True labels:\tLibra,Student,male\n",
      "Predicted labels:\t\n",
      "\n",
      "\n",
      "Title:\t             Oh dear, last day of spring break.  It's been sooooooooooooooooooooooooooooooooooooooooooooooo boring and I just wanna go back to school.  Sort of.  Meh, less Lost Age time! ;_;  I love my Felix and Alex and Isaac and Ivan and Saturos and WAIT! SATUROS HAS SCALY ARMS EWWWWWW.  Just my Felix and Alex and Isaac and Ivan.  No Saturos. I like his hair though. And his shoes.  Nice shoes.  Augh, I'm fixing all of the file names of all of my mp3s; I only got half done yesterday. Hmmm, it is 12:46 and I'm thinking I should go upstairs and take a shower and have a nice glass of bubble tea(@~@!!)         \n",
      "True labels:\tLeo,female,indUnk\n",
      "Predicted labels:\tfemale\n",
      "\n",
      "\n",
      "Title:\t             Since I have had so many problems with the local phone companies in the area (AT&T, Comcast, SBC) I haven't had any local phone service in a while.  No monthly plans really fit my needs.  I really don't use the home phone that much since I have had a cell phone for a while now that includes long distance and unlimited nights and weeekend minutes.  But I still felt the need to have one, especially since I can remember during certain times my home phone was all I had while going through 9/11 in NYC.  But really I occasionally use it if my cell phone battery was dead and also if I needed to send a fax from by computer.  Just recently I discovered  urlLink Vonage .  Basically they provide me with a AD converter to turn any of my cheap analog phones into an IP phone.  The negetive is that my phone will go out during any Internet or power outages.  The positive is that I get unlimited long distance calls anywhere in the US and Canada.  I also get free CallID, voicemail, Call forwarding, ........etc.  I can even recieve a email whenever I get a new voicemail and can even listen to the message over the Internet while I am at work or whatever, from any computer online.  It's cool because it is also transportable.  I can take my AD converter to any broadband connection and can make and recieve calls at any time with any plain, cheap analog phone.  It's bananas.  And this is all for only about $25/month.  I'm looking forward to the installation.  I should be recieving the shipment in the next few days.  I'll be sure to keep the site posted.  Peace.         \n",
      "True labels:\tEngineering,Virgo,male\n",
      "Predicted labels:\t\n",
      "\n",
      "\n",
      "Title:\t       Okay, Sars just wrapped up the Famous Ghost Monologues today. And from what I've seen, it'd make an awesome one-act play. And even though Horrigan would never go for it, it would make an awesome play. Seriously, it'd be cheap as hell too. Costumes, makeup, lights and some props. No sets. No Backdrops. No Special Effects. And if we don't do them here, I'd absolutely love to do one or two at the CPC Talent Show. It is his love, it is his life, it is his fault he didn't lock the garage!     \n",
      "True labels:\tPisces,Student,male\n",
      "Predicted labels:\t\n",
      "\n",
      "\n",
      "Title:\t       im officially extremely chuffed with myself. did some cool updates to my blog jus now. added a footer. a hit counter. and a links bit. always wanted to do that. but didnt know how. dunno nada bout html. but hey i jus messed round with the template n lookie here! i did good. a hearty pat on my own back. but still dunno how to remove that banner ad on top though.          \n",
      "True labels:\tGemini,Student,female\n",
      "Predicted labels:\t\n",
      "\n",
      "\n",
      "Title:\t       June 1st and so far - no rain today!  I heard on the news yesterday that in May we had rain 20 of the 31 days.  I'm ready for some sun!  Actually, I sat out for a while on Sunday reading and I have a farmer tan...you know, white shoulders and bright red arms with a very noticable line where my T-shirt sleeves were.    It's a busy week this week.  Hubby is on afternoons, so I'm on my own.  Last night I took the kids shopping.  R got his new shoes and socks and K got a cute new dress and a Canada shirt.  Nothing for myself....I'm too fat.  Tonight K has a soccer game and there is also a fun fair at the school.  Tomorrow after work, I have a staff meeting, then K has soccer practice at 6 and R has a game across town at 7.  Thursday E has a game.  Friday, assuming I get off work in time, I'll pick up all three from school and keep them busy till Hubby gets home at 11 and then we can all go to bed and hopefully sleep in a bit on Saturday morning.  That reminds me...Have to fit in grocery shopping.  My brother-in-law is coming for the weekend and we're almost out of milk again.  And so begins another day...         \n",
      "True labels:\tScorpio,female,indUnk\n",
      "Predicted labels:\t\n",
      "\n",
      "\n",
      "Title:\t       1. Would you prefer to live in an urban, suburban, or rural area; and why? Urban would be my first choice because I want to be where the action is. I'd love to be in a loft in a big city partying every night of the week except Sunday so that I can prepare for the next week. I can see myself in Manhattan. I'd be at the fashion shows, Broadway plays, celebrity parties, and the list go on.    But ideally, I'd prefer the suburbs now since my life has taken a change. I need an acre or more for my son to play, swim, and practice whatever it is he needs to practice.    2. If a fountain of youth did exist, would you drink from it? I would if I could keep the little knowledge that I do have. It would definitely only be for the physical attributes.  3. What do you want your dying words to be? 'I guess I'll see you next lifetime'-- E. Badu.   Ambiance: [ listening to ] : the most annoying sound that a computer can make when it's idle. I wish my co-worker would shut her door when she leaves her office. [ watching ] : the day go by slower and slower by the minute. [ reading ] : those same redundant nursing policies. [ random ] : I have to use the bathroom really, really bad but I dispise using public bathrooms, even if it is in my office. The people I work with are gross.      urlLink  postCount('108197221258697727');    |  urlLink  postCountTB('108197221258697727');       \n",
      "True labels:\tVirgo,female,indUnk\n",
      "Predicted labels:\t\n",
      "\n",
      "\n",
      "Title:\t                 Haven't you learned ANYTHING??? You supposedly have a Masters' in Teaching... but yet, you are able to sit on the computer day in and day out... Let me show everybody what she's up to now...  Posted by: oneandonly 115 mins What? no comments? lol Here's a scenario to think about (sorry, scenario might be too big of a word for ya--let's say, 'pretend') First one-let's say that AA in Business actually means something and you actually get to interview with some reputable company.... Most reputable companies do a complete background check on possible employees. (of course, we all know your work history, or lack there-of, is null and void). And oopsies! Judy Hallquist has several things that are cause for alarm in her past. Recent past that is. A restraining order in regards to internet stalking? harassing phone calls? internet email hacking? not to mention a complaint about using schools puter for harassments? See, if I was the future employer, I'd say, 'thank you for applying, but no thanks.' You need to think about the future and the actions you are partaking in now...at least I would. We realize you are probably in the manic phase of your disease and probably not in control of too much at this time.....take those meds. *side note-I always wondered how you managed to get a school bus driving job with a child abuse charge against you?* but keep posting~    End...  I posted a reply, basically showing her she's just S.T.U.P.I.D. and she goes and deletes it... Then she brings up lies and trash. She's really got to get a life.  I do have an A.A.S. in Business, that's about all she's got right on her post. Meds, she's the one that's been to the doctor lately. Child abuse charge, she needs to go back to her source, and verify because I will press slander and liable charges.  Trying to scare me with my future employment, ha ha ha, I've got a GREAT job and you are scared that when I get sick of this shit beyond belief, I will file for mod of support. I will do that too. You do need to be fearful of that, because as you know, as both parties incomes go UP, the support goes UP. So, you better hope Mike pays the medical bills soon because I will be pursueing this  very soon if i'm not happy with this arrangement. And yes, I know YOU, SHELLY, are the reason Mike's not paid to date. But, that's okay, i've spoke with someone... taken care of the formalities... Remember my post on FA? Regarding the lump sum of money i'm getting soon? I will be able to file all the papers I need... Then Mike will be traveling to Oregon... Kewl, HUH??? Prolly without YOU. Did you even give Mike his mail, with the copies of the bills and receipts???  Oh yea, Ya know that saying, 'This is an attempt to collect a debt.' Anything will be used to collect on this debt. Including but not limited to contacting employers, family, friends, and other debtors & creditors.               \n",
      "True labels:\tAries,HumanResources,female\n",
      "Predicted labels:\t\n",
      "\n",
      "\n",
      "Title:\t                 I heard a few days ago that an online friend of mine, Jen Schall, has been missing from her home in Virginia since last Friday.  Another friend has put up a website with pictures and information  urlLink here .  She is now officially considered a missing person.  All her friends and family are hoping for her safe return.  If anybody's seen her, please call your local law enforcement and then contact the Loudoun County Police at 703-777-1021.  Detective Fognano is the person handling her case.  You also can email an anonymous tip to FindJenSchall@aol.com.  Come home safe, Jen.                \n",
      "True labels:\tSagittarius,female,indUnk\n",
      "Predicted labels:\t\n",
      "\n",
      "\n",
      "Title:\t       In earlier posts, I offered some quick analysis of racialized voting in the 2003 Lousiana gubernatorial race.  A fuller analysis is available in an article I've coauthored:  urlLink 'Black, White, Brown, and Cajun: The Racial Dynamics of the 2003 Louisiana Gubernatorial Election'              urlLink ');'> postCount(' ');                                                        \n",
      "True labels:\tEducation,Gemini,male\n",
      "Predicted labels:\tmale\n",
      "\n",
      "\n",
      "Title:\t       I would like my cat to be like this....haha      Very cute ma....          \n",
      "True labels:\tLibra,Student,female\n",
      "Predicted labels:\t\n",
      "\n",
      "\n",
      "Title:\t       I'm also unemployed, gaining weight and live with my parents, but that's not the topic for today.  If, like me, you are interested in keeping up with all the online ramblings of your friends, family and political analysts then you just have to know when someone posts an update!  Clicking through your favorites, looking at AIM profiles, or manually keying in foshee.blogspot.com is just no longer acceptable.  (Doing that 15 times a day is just not efficient.)  So, thankfully hundreds of software developers (God bless them all) have been hard at work writing blog/news reading software.  These programs automatically check to see when posts have been made.  They also give you a one-stop interface to see what those of us with fantastically interesting lives have been up to.  I downloaded 4 of these programs and will give you my candid evaluation here.  If you are not like me and could care less about software to read blogs, then stop reading right now.  It only gets worse.   4th Place:  urlLink Pluck   Selected as a  urlLink a C|Net Editor's choice , it gets last place with me simply because of the fact that it aggravated me the most.  Pluck is not a stand-alone application.  Instead it is used as an Explorer Bar in Internet Explorer (like History or Favorites).  This means that to install it, all your IE windows have to be closed (strike one).  It also adds buttons to your IE toolbars, and I hate it when new software changes interfaces I have taken the time to customize.  It shows a complete disregard for the whole concept.  Pluck also claims to be ``Adware Spyware Free,'' yet it is constantly advertising Ebay, Amazon and Google among other things.  We all know  urlLink I love Google , so the last thing I need to see is an ad for it.  (strike two)  Finally, its major fault is feature-bloat.  It is just overloaded with features I am not looking for in a news reader.  This makes the interface ridiculously complicated.  (It took me far too long to figure out how to add my own feed.)  You even have to sign up for a an account to use some of the features.  As if anyone wants to sign up for yet another online account for anything...  (strike three)   3rd Place:  urlLink SharpReader   This package actually suffers from the opposite problem as Pluck.  Instead of being overwhelmed, the user (me) was left guessing by the sparsity of the interface.  While context (right-click) menus had plenty of options, none of them were: Add a new feed.  That is an absent-minded omission and hopefully will be corrected in future versions.    Otherwise the application is clean, simple, and possesses the expected features.   2nd Place:  urlLink BlogExpress    I was happily using this software for a few days, pleased with its attractive toolbars and easy-to-learn interface.  It also provides multitab browsing (with the option of opening new IE windows).  Unfortunately it has a couple annoying bugs.  First, it sometimes ignores formatting like paragraph breaks in Blogger posts.  Second, it does not correctly interpret the links to individual Blogger posts.  Instead, when you try to open a post, it brings you to a page with  urlLink an error .  Perhaps Blogger is not following the XML standard, or perhaps BlogExpress really has a bug.  Either way, its a major handicap in using it.   1st Place:  urlLink Feedreader   As they say on the homepage, it is simple and lightweight.  It provides the features I want, without the annoying extras.  And it handles Blogger feeds appropriately.  The toolbar has just a few simple options which are easy to understand, and you can customize which buttons show up.  My major complaint would be that you cannot change the size of the buttons or remove the labels.  They are too large for my taste, and the labels become superfluous after some experience.    For you real computer nerds, it is also open source (under  urlLink GPL ), so if you really don't like something about it you can change it yourself!   Well, I know this has been one of my more technical posts, so I apologize for those of you who found it boring...  But should you embrace your addiction to my blog anytime soon, you should consult this post to see how best to keep up with me.  If you are wondering what the address is for my site feed, it is:  urlLink http://foshee.blogspot.com/atom.xml   This follows the same standard as other Blogger and Blogspot blogs.  Just take the normal address and add atom.xml to the end.  By the way, does anyone know how to subscribe to  urlLink LiveJournal  feeds?  Thanks for reading, dear Blogfan!     \n",
      "True labels:\tAries,Technology,male\n",
      "Predicted labels:\tmale\n",
      "\n",
      "\n",
      "Title:\t        urlLink    Kathleen riding a seahorse at Holiday World....  Dori          \n",
      "True labels:\tScorpio,female,indUnk\n",
      "Predicted labels:\t\n",
      "\n",
      "\n",
      "Title:\t                      What do people really think about you?  by Raven319      Name           Age           favorite song           Parents think    You&#39;re an angel      Strangers think    You&#39;re hot      Friends think    You&#39;re a slut              urlLink  Quiz created with MemeGen  !         -Bad- You're the exact opposite of what any guy wants or needs, unless he happens to need a quick lay. You're cruel. You toy with people. You're probably a bitch, and i don't think i'd like you if i met you. Oh go screw a random male already.    urlLink   What Kind of Girlfriend Are You?     brought to you by  urlLink Quizilla       You are the Jewel Of The Sea. A mermaid with class and style. You are worthwhile to meet. Your freinds are mant since you are soooo populer. You live in a palace with many anglefish servants. You love your make-up and hairbrush. You are one of a kind. Please rate my quiz I think you are absolutly stunning?    urlLink   What kind of mermaid are you? (Gorgeous Pics)     brought to you by  urlLink Quizilla      You're the suggestive grin,mostly used while flirting and accompanied by the come-hither look.You're either an attention hog or way too insecure to not be in the spotlight at all times.No one can quite tell.Calm down and learn to be regular,ya perv.    urlLink   What Kind of Smile are You?     brought to you by  urlLink Quizilla       You have an entrancing kiss~ the kind that leaves your partner bedazzled and maybe even feeling he/she is dreaming.  Quite effective; the kiss that never lessens and always blows your partner away like the first time.    urlLink   What kind of kiss are you?     brought to you by  urlLink Quizilla         Your Stripper Info by  urlLink  radioface        first name           age           Stripper Name:    Gigi      Specialty:    the VIP room...shhhhh      Customers say:    'There IS a god...'              urlLink  Quiz created with MemeGen  !            Your True Nature by  urlLink  llScorpiusll        Username           The quality that most appeals to you:    Beauty      In a survival situation, you:    Act crazy as a diversion      Your hidden talent is:    Spiritual wisdom      Your gift is:    Physical beauty      In groups, you:    Feel uncomfortable      Your best quality is:    Your industriousness      Your weakness is:    Being predictable              urlLink  Quiz created with MemeGen  !            Which Band Should You Be In?  by  urlLink  couplandesque        Your Name           Band Name    Blur       Role    Vocalist       Trademark    Everyone Claims To Dislike You       Love Interest    Well-Known Actor               urlLink  Quiz created with MemeGen  !            Would anyone want to bang you? by phobia      Name:           Favorite Food:           Wants to Bang you:           This many times:    126              urlLink  Quiz created with MemeGen  !       That one's just amazing.      \n",
      "True labels:\tStudent,Virgo,female\n",
      "Predicted labels:\tfemale\n",
      "\n",
      "\n",
      "Title:\t       I am sick.  ew. Random bits of thought: locked out twisty-ties,  drawn out scarlet danger. Be a sponge! {ha, that's WAY out there...}  never mind, I shouldn't do that.  It confuses people.  Its kind of like when I was in seventh grade, and I started writing  my own secret code that really had no pattern whatsoever... It was just the first letters of what ever words I was thinking, and every now and then I would thrown in random words that corresponded with other words like eye for I, or something....  and I'd just capitalize a few letters here and there to make it look cool.  So it would be something like... eyemsgTwrwhwaNaeyeLwtrsmplywtr, ntsnnfAnyel.   people pretended that had it figured out and they knew what I was saying.  It was amusing.  I was such a weird kid.     \n",
      "True labels:\tScorpio,female,indUnk\n",
      "Predicted labels:\t\n",
      "\n",
      "\n",
      "Title:\t        Pat - does being married suck, or not?    It's good, mostly the same for me. Cheri's name changed though, obviously. And she let me use her gas card the other day. But that's about it. Overall it's great.    \n",
      "True labels:\tAquarius,indUnk,male\n",
      "Predicted labels:\t\n",
      "\n",
      "\n",
      "Title:\t        My body is weak and is about to fell ill. My soul withers and writhes in sadness, my mind fades away from the ideal--euphoria. I can't feign my troubles anymore, my body is reacting the same way as my heart. I am seeing no more happines...   Nevertheless, I cling to this world, to this wasteland--to prove myself, to keep my word--all for my pride and principle. I have disguised myself into someone I no longer recognize. I've tricked myself up to the point of mockery and stupidity. But I'll stand, I'll stay, and I'll go astray...The right path can be realized only when you are mislead. Only then do I learn, and only through that will I succeed...  -Aug 7, 2004     \n",
      "True labels:\tTaurus,indUnk,male\n",
      "Predicted labels:\tfemale\n",
      "\n",
      "\n",
      "Title:\t       El test.   urlLink  nutrigrain download?           \n",
      "True labels:\tCapricorn,Student,male\n",
      "Predicted labels:\t\n",
      "\n",
      "\n",
      "Title:\t       I look around and all i see is dispair and confusion, people know in their inner that nothing is, spiritually speaking, real. Yes, you think, react,  'feel'  and speak but nothing really matters, you are just sand.    \n",
      "True labels:\tGemini,indUnk,male\n",
      "Predicted labels:\t\n",
      "\n",
      "\n",
      "Title:\t         Your Energy is Blue. You are a creative thinker with an active imagination. Artistic and talented, you want to reach the stars and bring them down to form. You are trustworthy, honest and reliable. Others feel comfortable in your presence as you project a non-threatening, serene energy.  You would do well in any of the helping professions, as an artist, singer, diplomat, orater, or clergy member.    urlLink   What color is your energy?     brought to you by  urlLink Quizilla       \n",
      "True labels:\tGemini,female,indUnk\n",
      "Predicted labels:\tfemale\n",
      "\n",
      "\n",
      "Title:\t            urlLink Careful: The FB-eye may be watching   A freelance writer gets a visit from the FBI regarding his links to terrorism. Turns out he was denounced by somebody that noticed him reading an editorial in line at a coffee shop. In a perverse irony, the editorial was sharply critical of Fox News, the growing climate of fear and the Orwellian group-think that has gripped the nation since 9/11. The FBI came to his workplace and interrogated him about his activities and acquaintances, and requested information about the offending article.   I say it seems like a dark day when an American citizen regards reading as a threat, and downright pitch-black when the federal government agrees.  The original article can be found  urlLink here .  Via  urlLink Tom Tomorrow :         \n",
      "True labels:\tScorpio,indUnk,male\n",
      "Predicted labels:\tmale\n",
      "\n",
      "\n",
      "Title:\t             good afternoon....today is sunday....surprise....i tried to update earlier this week but i couldn't log in....which really sucks cuz i felt quite inspired....and now i do not....but hey....the update....  14 days to go....mixed feelings about where i feel better....but i honestly think that maastricht and curaçao work well as homes....maybe i should do both.....my grand partner in crime (alfredo) is off in aruba this weekend so i am just laying low and catching up on some sleep....a week and a half of work to go and, although it is sometimes a whole lot of  fun, on the whole, i am little tired of working six days a week.....but hey, it's easy and the boys are fun and peter is back from columbia and stock is in again so maybe things are looking up for the brasserie....who knows....as long as they pay me!....tips have been alright but not fantastic....the odd american with their 20% is always encouraging.....but the sit-around-all-night-drinking-difficult-to-make-cocktails-and-leaving-seven-guilders has kinda been the norm the last while.....too too too bad....my father says that tips stands for 'to insure proper service' and i agree....i am much more willing to do a little extra if i know said client is a good tipper....how awful is that?....the epidomy of food whore....haha....          \n",
      "True labels:\tScorpio,female,indUnk\n",
      "Predicted labels:\t\n",
      "\n",
      "\n",
      "Title:\t        urlLink    K's1&2&nbsp; urlLink            \n",
      "True labels:\tCapricorn,Education,female\n",
      "Predicted labels:\t\n",
      "\n",
      "\n",
      "Title:\t       I'm bored. nothing makes sense to me anymore.  I think I've lost my head. Perhaps I'm having a nervous breakdown... its quite likely actually.  Maybe that would explain what's been wrong with me for the past three weeks or so.       \n",
      "True labels:\tScorpio,female,indUnk\n",
      "Predicted labels:\t\n",
      "\n",
      "\n",
      "Title:\t             Microsoft launch beta  urlLink MSN Newsbot  - very rough atm (all pictures captioned with agency rather than a decent description, very slow updates - still reporting at time of this post Scotland hopes raised  due to Kluiverts omission -  &lt;nelson&gt;har har&lt;/nelson&gt; !) but should get better.          \n",
      "True labels:\tLibra,Technology,male\n",
      "Predicted labels:\t\n",
      "\n",
      "\n",
      "Title:\t        And I don't want the world to see me   'Cause I don't think that they'd understand   When everything's made to be broken   I just want you to know who I am   [Goo Goo Dolls][Iris]           \n",
      "True labels:\tGemini,Student,female\n",
      "Predicted labels:\t\n",
      "\n",
      "\n",
      "Title:\t                 The past week and a half have been very busy!!  First I had church camp for a whole week!  I had fun but it made me think alot!  It was definitly great to see my friends and to meet new ones!  Im so happy I finally got to see them!  This year at camp really made me see how strong my friendship was with some of my greater friends!  I mean dont get me wrong I love them no matter what but I did get tested quite a bit that week!  I learned alot about God too!  I didnt even begin to think of how we are all in a battle right now!  Not just our troops in Iraq or any others for that fact!  We are in a battle against satan and God is our leader ,our colonel if you will!  I never would have thought to put it in that context!  I think it was the hardest to leave this year because I totally realized alot this past week!  It was very hard leaving Madison and Taylor and Meagan!  It was especially hard to leave Leah!  By the way I wrote a new poem mainly for Leah and Madison but its to all my friends too!  Its not good at all to me but Ive heard it was pretty good!  I dont know!  I think I cried the most this year and I hate crying!  I just hate it when you are in the reality of the world and just when I feel like Im gonna blow!  I go to church camp and it all just comes together and Im finally able to be in a christian atmosphere!  I can relate to all these people with at least one thing and thats the love I have for God!  I get close to God and just when it seems I could stay in this wonderful place forever its time to leave and go back to that horrible place we call the real world!  Some can be good but most things that are going on around me arent what God wants and I hate that!  Well to sum this camp week up, I had fun, learned alot, got tested alot, and made greater realationships with my old and new friends!  Right after I left camp I went straight to Temple to play some SOFTBALL!  Well sorda I sat that game!  It stunk but its ok I played the whole game the last 2!  That day was extremely hard because the night before I went to bed at 3 and got up at 7 in the morning!  Well I had a softball game at 11:30 that night and lets just say it went into extra extra innings!  HA!  Well I ended up going to bed at 2:45 the next morning!  Then we had to get up at 9 that morning to play another game at 11!  Then we played another at 5!  It was alot of fun but I cried some more when I lost the game for my team!  Let me just say that there was a girl on third and we had 2 outs!  It was 2-2 and pitcher throws a fastball a little outside but I swing and it barely hits the bat but its fair!  I run as fast as I can to first and Im about 4-5 feet away when I see the ball out of the corner of my eye going right into the 1st basemans glove!!  IM OUT!!!!  It ends 4-5 in the 10th inning!  UGH I WANTED TO BE THE HERO!!!  Its not as much of the fact that I didnt hit the ball good or that I got out!  Its the fact that I let my whole team down!  Anyways we were out of the tournament!  That night I went out with Janaye, Jenna, Daniel, Danny, Mrs. Julianne, my niece, my mom, step dad, Moni, Molly, Meagan, and John to eat at El Chico!  We ate and talked and had a good time and then we went to get ice cream!  Then we came back to the hotel and got on the computer!  (well other people did I didnt get the chance) Then we had to leave and I went to bed and the next day we came home!  The past 2 days have been boring except I had softball practice yesterday!  I also got in a fight with this girl named Amberly because she came up to the softball field to hit with this girl Katie and her dad and no body on my team likes her! She is nice to me but Im not mean to her!  Well we got in a fight because they were talking about her at practice and she wanted to know what they said and I wouldnt tell her b/c Im not like that!  Well I better go b/c this is really long and I could probably go on forever!  GOD BLESS YALL!!         \n",
      "True labels:\tAquarius,Student,female\n",
      "Predicted labels:\t\n",
      "\n",
      "\n",
      "Title:\t           Choices |  'Sometimes it's worse to win a fight than to lose.'  -- Billie Holiday         \n",
      "True labels:\tAries,indUnk,male\n",
      "Predicted labels:\t\n",
      "\n",
      "\n",
      "Title:\t                 Michele offers some  urlLink Perspective . It is sobering to say the least.              \n",
      "True labels:\tAries,Student,male\n",
      "Predicted labels:\t\n",
      "\n",
      "\n",
      "Title:\t                 This is all new to me, however very interesting I am excited to see the final result.  I am posting my first blog or blip-on-blog!  Yes a virgin to the cyber journal, I am still contemplating what exactly to write and how in depth I want to be.  For now I think I will use this as a lead, if you will, for my next entry in which I may just start from the beginning of what seems to be the end of, or as my headline states, my life spiraling downward when at first glance it seemed to be shooting upward.  And now with all that has happened I feel as if it should have happened to me in reverse of when in my life it has in fact occurred.  If that makes any sense.  For now my Mommy duty calls.         \n",
      "True labels:\tArts,Scorpio,female\n",
      "Predicted labels:\t\n",
      "\n",
      "\n",
      "Title:\t       I had stopped reading the  urlLink Death on Demand Mysteries  because after the first few they got so ungodly boring I couldn't finish them.  But, the title of this  urlLink 15th installment  and the plot caught my eye (and I didn't have anything else to read today) so I thought I'd give it a whirl.  And I finished it and I actually liked it.  I won't go into details but it was a good book.         \n",
      "True labels:\tCancer,female,indUnk\n",
      "Predicted labels:\t\n",
      "\n",
      "\n",
      "Title:\t               So you've landed here. Welcome. My name is Sue and despite what I'm told about my looks I really do have teenagers. I'm a single mom. I work full-time. I love a wonderful man. Oh, yes, and I have MS. That's multiple sclerosis, for those of you that don't know. It's a chronic and debilitating disease that spends most of it's time frustrating the hell out of me.  It's July 2004 and I've just had my first relapse in two years. For those of you who don't know anyone with MS and even if you do, you might read through the days here and see what it's like from the inside. Odds are, unless you live with the person, you don't really know what's going on. 'How are you?' is always answered with 'Fine.' or 'It's a slow day.' Which tells you nothing.  I'm nothing special, no different from anyone else. But unlike many others I want people around me to know I'm disabled and why. The better educated people are, the more normal they'll treat me and the better they may know what to do if something happens to me.  span >The fast lane is all relative. I have days that I feel great and am really moving down the hallway with my walker and a coworker will fly by walking backwards to apologize about the hurry they're in and how that this is their normal pace. My response, and it's most often the truth, is that my current pace is running - for me. We laugh and off they go. No matter how good I feel, how good a mood I'm in, how happy I am that I'm on my feet this day, how well I know I'm doing - there is ALWAYS the memory that I used to walk that way too. It isn't a sadness really, just a memory that I used to be normal.  My MS didn't hit until 1992 and then wasn't recognized. Medicine has come a long way. I was finally diagnosed in 1999 and then only by accident. Doctors do NOT want to label you. With MS you're never in remission and you'll never be cured. Can't blame the docs really, but if they'd made some decisions sooner, treatment could have started sooner. All water under the bridge now. Ok, I could blather on here for quite some time, but I'll leave you with this for now. I'll be back, hope you will too.span>               \n",
      "True labels:\tPisces,female,indUnk\n",
      "Predicted labels:\tfemale\n",
      "\n",
      "\n",
      "Title:\t           Is it ever really Tuesday? Is Tuesday just a relative term? what if some aliens came to earth and thought us to be savages because we use this wildly inaccurate and archaic system for measuring time? I just noticed that my last two posts invloved getting pants damp, so I'll just go ahead and make it a hat trick:  Damn, I should have rolled up my cuffs before we walked across that gigantic sponge.  you know, I'm pretty sure the person that invented the toilet paper holder knew which way the free end was supposed to hang. So like, I was reading about lake vostok, which is this lake under 2 miles of ice near the south pole, and I got to thinking 'why do we even care about other planets when we haven't got this one figured out yet?' I am just in deep thought mode here. I was thinking about making some new team members (who would still be me) to post different things, but that would be kind of a hassle, so forget it. If I took advantage of those little buttons at the top of the 'edit your blog' screen and started using excessive  bold   italicized   urlLink hyperlinks , would that annoy anbody? wHaT aBOUt mIxeD CaPS? or I could be all 3733t and use hacker-speak so 1/10 of 1% of the people could read it. or I could just use latin. or spanish, but I don;t know much spanish. I know prostituta, amplificador, gordo, burrito supreme.... I want to learn how to say 'Excuse me, do you speak spanish?' in spanish, and then go to mexico and annoy people.          \n",
      "True labels:\tLeo,indUnk,male\n",
      "Predicted labels:\t\n",
      "\n",
      "\n",
      "Title:\t       All right... so it's what, Wednesday? No, it's Thursday. I don't know. I can't keep track. Wednesday I took the bandages off. I took the painkiller catheter out, because it bothered me. I should have left it in.  I'm taking Vicodin, and it is making me slow. It is making me stupid. And moody. Maybe it's not the Vicodin... no it's not the Vicodin. It's everything. I'm so weak and dependent right now... I need people to do things for me, but I don't want to hassle them. I know I hassle them, too, so I'm just keeping my mouth shut.  I can't open my fucking pill bottles!  I am feeling very useless, very weak and very isolated. And to top it off, it feels like I'm not getting sympathy... like it's my fault that I'm depressed. Like I need to change. Yay, that makes it worse. So I want to just close myself off, but I can't do anything by myself.  Sarah suggested I see someone, perhaps get medicated. I suppose I should... but then, I don't see the dr. again until the 15th, so that's an entire week until then.  So now I'm going to be unbearable, and people will take it personally and hold it against me, and I can't stop it.   God damn.  All this whining, and all that's wrong with me is a bad shoulder. I guess it just goes to show me that I couldn't handle anything serious. Yay.    \n",
      "True labels:\tPisces,indUnk,male\n",
      "Predicted labels:\tfemale\n",
      "\n",
      "\n",
      "Title:\t                  urlLink    Okay, so here it is. The girls in our family. Hmm, blonde, blonde, blonde... and a brunette. Then they're all in solid colours and then there is me... Polka dots. Yeah... I stand out in this family JUST A TAD! That's okay... it's still a pretty picture. Maybe I should go blonde?&nbsp; urlLink                  \n",
      "True labels:\tGemini,female,indUnk\n",
      "Predicted labels:\t\n",
      "\n",
      "\n",
      "Title:\t       Even though Razo's pretty jealous of my wallpaper that I made all by myself, I've decided to share it with the masses.   Here   you go world.   Update: I've made some revisions to my previous wallpaper,  urlLink check it out . I think it sux way less and now Anonymous will shut the hell up.            \n",
      "True labels:\tCapricorn,Chemicals,male\n",
      "Predicted labels:\t\n",
      "\n",
      "\n",
      "Title:\t             Today I finally had some Scotch Whisky. I visited The Scotch Whisky Heritage Centre. A couple of days ago I was approached in the street by someone who wanted to do a survey of tourists coming to Edinburgh. If I showed up at a hotel the following day and promised to participate in a focus group I was going to be given £40. Pretty good pay for an hour so I went. There were 8 of us, 3 Americans, 2 Canadians, 1 Lett, 1 Chinese, and me. We received the money immediately and then they served us coffee and tea. The focus group discussion was taped and basically the Scotch Whisky Heritage Centre wanted to know why we had not visited their attraction since it was right near the Castle. We all gave our reasons why and left forty pounds richer. We had a nice time actually, and were given brochures of the whisky centre which made us all decide to go there now that we knew about it.  Yesterday the weather was absolutely horrible. Windy and rainy and cold. At least today the rain didn't fall sideways... I went to Holyrood Palace yesterday, only to find out it was closed 23 June to 5 July. Next I went to an interactive exhibition called Dynamic Earth--only to find out they had closed at 15:15. Typical. I went to the hotel to wait for my 40 pounds instead. After the market research Margita and I had a really nice girls' dinner, just the 2 of us. We caught up and reminisced about old times ('yes, remember that one who, at 17, said he had always liked older women, and I was only 21!).  Today I finally got to both Dynamic Earth and the Whisky Centre. I really enjoyed getting to know how whisky is made and the distinctions between malt whisky and blended whisky. Whisky is the Gaelic word for 'water of life' in case you didn't know.  In the evening went with Margita to the children's weekly swimming lesson. Great fun. Freja is crazy in the water. She extra crazy today because of her birthday. She told every person she met: 'I'm five today.' Cute. I gave her a t-shirt (pink of course!) where it says: 'I'm a wee angel'.  Early tomorrow morning I take off for Copenhagen. From there I will hop on the train and cross over to Sweden to visit Susanne (aka Sushi), an old school friend who lives in Halmstad. Hopefully we will be able to celebrate midsummer in style, but the weather doesn't look that promising. Oh well, it's the being together that counts.  Ok friends, until the next time I get my hand on a keyboard.           \n",
      "True labels:\tAquarius,female,indUnk\n",
      "Predicted labels:\t\n",
      "\n",
      "\n",
      "Title:\t                 See youse guys at the meeting.  I got Rosie covered.      \n",
      "True labels:\tLibra,Student,female\n",
      "Predicted labels:\t\n",
      "\n",
      "\n",
      "Title:\t             'He who lives in solitude may make his own laws.'  ~ Publilius Syrus    Superficial loss; I think that superficial loss is the single most difficult thing for the human mind to comprehend.  When we loose our keys, chances are we are going to find them, this is not the sense of loss I am talking about.  Im talking about that sense of loss that could have been prevented, that sense of loss that could have been stopped or detoured.  Senseless, superficial loss, nothing so dramatic as death and yet I have been thinking that this is a day to day thing in the world.    For example, when we loose a friend a topic I have come to be an expert on- that friend can never be replaced.  Sure we will always get other friends hopefully- but that friend who left our lives cannot ever be replaced.  Now again I am not talking about death or anything so dramatic, I only mean the sort of superficial, needless loss that exists when a friendship breaks-up or grows apart.  When a friend moves away, chances are you and she/he are going to grow apart.    Now I suppose it isnt always so glum.  I have a friend, a girl I have known since the 7th grade and who moved away in the 10th grade.  We are still friends, now nearly 10 years since she moved.  We correspond, weather by the miracle of email or by what has come to be known as snail-mail.  We send on another pictures and such every so often.  So I suppose that its not all doom and gloom, but still she and I are no as close as we were in school, before she moved.    The Internet and snail-mail are fine and well but there lacks a sense of personal contact, again I shake my head and say; Superficial loss.    Now, there exists a world where it is no longer necessary for a person to leave their homes for friendship and companionship.  It is no longer necessary to go out and make friends, hell its hardly necessary to have any friends in flesh, so to speak.  Now we live in a world where anyone can have a friend for the $30.00 I have a cable modem- a month everyone pays for the Internet.  To me this is a whole new sense of superficial loss.  It is the superficial loss of personal companionship.  How sad.  I suppose that I all of this talk has been brought about by the fact that a friend of mine my best friend for the past 3  years just moved away.  I suppose it was bound to happen some time, either that or I would have had to move, but I still feel the sense of loss for the whole situation.  I suppose its because I dont make friends very easily and I like to hold onto the ones I have, or perhaps its because she and I were close friends, we both moved to town about the same time and neither of us knew a single soul save my husband.  It all just strikes me as very, very sad.  Yet it is a situation that could not be helped right now.  So hopefully she will move back, or I will go see her.  I am going to have to refuse to let this situation result in superficial loss.  ~Kristyn           \n",
      "True labels:\tLeo,Student,female\n",
      "Predicted labels:\t\n",
      "\n",
      "\n",
      "Title:\t                 ....my usual day!!  Playing with Steph on the 'puter!!  It is going to be one of those long, lazy days....nice slow rain outside!      \n",
      "True labels:\tVirgo,female,indUnk\n",
      "Predicted labels:\t\n",
      "\n",
      "\n",
      "Title:\t        Confessions of a Crazie   Ah, well, the word is out about my blog. Though it's place is cyberspace remains a secert, knowledge of its exsistance is now very present. (' Anna, are you gonna write about this on your Blogger? ') And I have been given full membership of The Crazie Clan.   The Crazies are a people Robin 'discovered'. Crazies seem like normals people, but its deep down that they are purely insane. Her Grandmother (' Where's my rain bonnets?? ') is the tribe leader. And because of my weblog, I am a member.   Really, there isn't anything in this (nerdy) blog that my friends don't already know. There's a lot of stuff I leave out, just because its too boring to write about. I just don't want them to see it. There is something to that desire for them not to read my online version of a diary. There must be, or I would freely give out it's address. Maybe it's that 'My Letter to the World' is so intimate. It's a darker portrayal of me, a more cynical Anna than the one who giggles through entire lunch periods. It's also private. I devulge the majority of my thoughts and feelings without second-thought. But some of these things, I want to store them away and keep them private. Their mine. If that makes me selfish, than I am selfish.   So, if and maybe when curiosity gets to my gaggle of pals; read the above paragraph. Then leave.    urlLink This  makes me sense to me.   Affectionately... Anna          \n",
      "True labels:\tPisces,female,indUnk\n",
      "Predicted labels:\t\n",
      "\n",
      "\n",
      "Title:\t           1.  How similar is ORourkes attitude on  Eureka  to Todd Haynes in  Far   From Heaven ?  2.  Was Nick Drake able to get away with a smooth saxophone solo on 'The Chime of a City Clock' because there was no smooth-jazz radio to negatively associate it with in 1969? How does our inevitable familiarity with smooth-jazz radio affect our current response? Would Drake not have done the solo today?           \n",
      "True labels:\tAries,Publishing,male\n",
      "Predicted labels:\t\n",
      "\n",
      "\n",
      "Title:\t       weekend was...as i described to my SM - 'wet' ..it rained both afternoons ...naturally he was already on  a dirty cruise, mind-wise..   news flash: the tenants are moving out end of the month. hence, me and ladee is forced to move into the house early May. you see..ladee's mom got this nice place rented out to a couple of UM students in PJ. ladee has had always wanted to move closer to her family - duty of the eldest, what can i say... so the mom offered for us to move in. the original plan is in June and so we have ample time to leisurely pack our things and move quietly by then. However, given the news yesterday while enjoying cendol and rojak at her house after a quarrel in A&W during lunch..guess we r gonna have to speed things up ..a lot!  the Quarrel..right... hmm..a first in months..i cried..as usual.. a trick to soften her up..hehehe... and it worked as usual..i got my way in the end..   so we spend our afternoon till evening packing up her books and my novels and her study-related stuff which took the whole four shelves previously..  wet wet wet weekend..    \n",
      "True labels:\tLibra,female,indUnk\n",
      "Predicted labels:\t\n",
      "\n",
      "\n",
      "Title:\t                 hey, whats up people.ok first i want to tell christa good job....because she actually post's!!!!!!i want to go swimming in roulette today but i can't find a ride!!i wont settle for coudersport swimming, i wish people would get that through thier head.i know im a bitch.love you buh bye.               \n",
      "True labels:\tLeo,female,indUnk\n",
      "Predicted labels:\t\n",
      "\n",
      "\n",
      "Title:\t        urlLink    My fave Toronto Pic--me and Andeelee having a smoke break on the last day of the Con         \n",
      "True labels:\tArts,Virgo,female\n",
      "Predicted labels:\t\n",
      "\n",
      "\n",
      "Title:\t       ...whatsup with everyone and their extremely fancy blog pages? well SORRY im not a NERDTRON and have poor technological skills to make my pg all 'high tech' liek whooa... sheesh. u all make me look bad. but i make myself look bad. so it balances out quite well, id say.          \n",
      "True labels:\tLibra,Student,female\n",
      "Predicted labels:\t\n",
      "\n",
      "\n",
      "Title:\t              urlLink    Second to the last night, I found myself ultimately drunk as can be with 8 donned Coconut Killers from Barracuda. Astig sa alright ang tama but I remembered waking up a few hours later for an early morning swim. Look at that varnished skin! Tan ba yan? Toasted boobsie, hehehehe  Hell Yes          \n",
      "True labels:\tLeo,Non-Profit,female\n",
      "Predicted labels:\t\n",
      "\n",
      "\n"
     ]
    }
   ],
   "source": [
    "for i in range(50):\n",
    "    print('Title:\\t{}\\nTrue labels:\\t{}\\nPredicted labels:\\t{}\\n\\n'.format(\n",
    "        X_test[i],\n",
    "        ','.join(y_test_inversed[i]),\n",
    "        ','.join(pred_inversed[i])\n",
    "    ))"
   ]
  },
  {
   "cell_type": "code",
   "execution_count": null,
   "metadata": {
    "id": "haaYHXzG1PcG"
   },
   "outputs": [],
   "source": []
  }
 ],
 "metadata": {
  "colab": {
   "collapsed_sections": [
    "2kiqAhUHc9H-"
   ],
   "name": "pgp_aiml_feb20_StatsNLP_R9_Project_ModelBuilding.ipynb",
   "provenance": [],
   "toc_visible": true
  },
  "kernelspec": {
   "display_name": "Python 3",
   "language": "python",
   "name": "python3"
  },
  "language_info": {
   "codemirror_mode": {
    "name": "ipython",
    "version": 3
   },
   "file_extension": ".py",
   "mimetype": "text/x-python",
   "name": "python",
   "nbconvert_exporter": "python",
   "pygments_lexer": "ipython3",
   "version": "3.7.4"
  }
 },
 "nbformat": 4,
 "nbformat_minor": 1
}
