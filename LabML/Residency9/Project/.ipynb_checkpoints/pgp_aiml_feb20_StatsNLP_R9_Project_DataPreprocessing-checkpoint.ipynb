{
 "cells": [
  {
   "cell_type": "markdown",
   "metadata": {
    "id": "O9oJS24QCFsg"
   },
   "source": []
  },
  {
   "cell_type": "markdown",
   "metadata": {
    "id": "WXgcSkStCGlm"
   },
   "source": [
    "#Load Data"
   ]
  },
  {
   "cell_type": "code",
   "execution_count": null,
   "metadata": {
    "colab": {
     "base_uri": "https://localhost:8080/"
    },
    "id": "pLL4phEnJG4b",
    "outputId": "dec1b3b7-de78-41ba-e073-6a2ee216b824"
   },
   "outputs": [
    {
     "name": "stdout",
     "output_type": "stream",
     "text": [
      "Mounted at /content/drive\n"
     ]
    }
   ],
   "source": [
    "#connect to google drive\n",
    "from google.colab import drive\n",
    "import os\n",
    "drive.mount('/content/drive')"
   ]
  },
  {
   "cell_type": "code",
   "execution_count": null,
   "metadata": {
    "colab": {
     "base_uri": "https://localhost:8080/"
    },
    "id": "9Od_VrM7Je0H",
    "outputId": "56bb0418-678e-4f9f-f27e-1542b93c1b8a"
   },
   "outputs": [
    {
     "name": "stdout",
     "output_type": "stream",
     "text": [
      "/content/drive/MyDrive/LablFiles/Stat_NL_Project\n"
     ]
    }
   ],
   "source": [
    "cd '/content/drive/MyDrive/LablFiles/Stat_NL_Project'"
   ]
  },
  {
   "cell_type": "code",
   "execution_count": 4,
   "metadata": {
    "id": "2kYfDecBLxw3"
   },
   "outputs": [],
   "source": [
    "import pandas as pd\n",
    "import numpy as np\n",
    "import matplotlib.pyplot as plt\n",
    "%matplotlib inline\n",
    "import seaborn as sns"
   ]
  },
  {
   "cell_type": "code",
   "execution_count": null,
   "metadata": {
    "id": "lrK0-zOgMDZt"
   },
   "outputs": [],
   "source": [
    "df = pd.read_csv('/content/drive/MyDrive/LablFiles/Stat_NL_Project/Dataset - blogtext.csv')"
   ]
  },
  {
   "cell_type": "code",
   "execution_count": null,
   "metadata": {
    "colab": {
     "base_uri": "https://localhost:8080/"
    },
    "id": "DskqOnseGut9",
    "outputId": "770c7ef6-01c6-46e1-d5b7-f50d8c42bea4"
   },
   "outputs": [
    {
     "data": {
      "text/plain": [
       "(681284, 7)"
      ]
     },
     "execution_count": 40,
     "metadata": {
      "tags": []
     },
     "output_type": "execute_result"
    }
   ],
   "source": [
    "df.shape"
   ]
  },
  {
   "cell_type": "code",
   "execution_count": null,
   "metadata": {
    "id": "mprpLPWiJzTt"
   },
   "outputs": [],
   "source": [
    "from IPython.display import HTML"
   ]
  },
  {
   "cell_type": "code",
   "execution_count": null,
   "metadata": {
    "colab": {
     "base_uri": "https://localhost:8080/",
     "height": 315
    },
    "id": "muDVgAALJ1tq",
    "outputId": "65d93fb5-27b8-4fe6-cc60-efd377cc3a1e"
   },
   "outputs": [
    {
     "data": {
      "text/html": [
       "<table border=\"1\" class=\"dataframe\">\n",
       "  <thead>\n",
       "    <tr style=\"text-align: right;\">\n",
       "      <th></th>\n",
       "      <th>id</th>\n",
       "      <th>gender</th>\n",
       "      <th>age</th>\n",
       "      <th>topic</th>\n",
       "      <th>sign</th>\n",
       "      <th>date</th>\n",
       "      <th>text</th>\n",
       "    </tr>\n",
       "  </thead>\n",
       "  <tbody>\n",
       "    <tr>\n",
       "      <th>681282</th>\n",
       "      <td>1713845</td>\n",
       "      <td>male</td>\n",
       "      <td>23</td>\n",
       "      <td>Student</td>\n",
       "      <td>Taurus</td>\n",
       "      <td>01,July,2004</td>\n",
       "      <td>Dear Susan:    Just to clarify, I am asking you to leave my house, Why? because you shit and piss on the floor and then you try to hump my leg, frankly I don't need your shit stained undies touching my pants. So now that I am kicking your hail damaged cottge cheese ass to the curb, You can make me a sandwich you fuckin bitch!</td>\n",
       "    </tr>\n",
       "    <tr>\n",
       "      <th>681283</th>\n",
       "      <td>1713845</td>\n",
       "      <td>male</td>\n",
       "      <td>23</td>\n",
       "      <td>Student</td>\n",
       "      <td>Taurus</td>\n",
       "      <td>01,July,2004</td>\n",
       "      <td>Hey everybody...and Susan,  You might already know me. My name's Weird Al Yankovic. I have been getting tired of writing my wacky song parodies about food (I've been doing it for almost 25 years now!) and was getting burned out. Then I discovered this wonderful site called 'Dear Susan'. So now I've decided to devote my sardonic songwriting skills to penning parodies about the pariah named Susan. I'll be posting bits and pieces of works in progress on here from time to time for your perusal and enjoyment. Here's two very rough parodies I've been working on lately. Best Regards!  Ass Junkie (to the tune of  the Beastie Boys’ “Brass Monkey”)  Ass Junkie Your trunk is funky And skunky, drunkie You’re such a flunky Your ass has a stench that’s so unreal    You’re an Ass Junkie but that's how you deal Put your left leg down your right leg up Tilt your head back and guzzle my spunk Your Dad with the bottle, King rocks your can Susan gives ass to every man...   Cum Where You Will (to the tune of Nirvana’s “Come As You Are”)  Cum where you will In my ass On my grill Where you want Take your fill Fuck my cunt Or my rump  Spread my cheeeeeks, yeah Spread my cheeeeeks, yeah  And I swear that I don’t have the HIV No, I don’t have the HIV...</td>\n",
       "    </tr>\n",
       "  </tbody>\n",
       "</table>"
      ],
      "text/plain": [
       "<IPython.core.display.HTML object>"
      ]
     },
     "execution_count": 41,
     "metadata": {
      "tags": []
     },
     "output_type": "execute_result"
    }
   ],
   "source": [
    "HTML(df.tail(2).to_html())"
   ]
  },
  {
   "cell_type": "markdown",
   "metadata": {
    "id": "Sm4KpNQkCgmx"
   },
   "source": [
    "# Vefify text data to check kind of processing needed"
   ]
  },
  {
   "cell_type": "markdown",
   "metadata": {
    "id": "30svL75MNXLM"
   },
   "source": [
    "In order to do pre processing on 'text' fields, lets 1st get some idea on what kind of words, characters etc. 'text' field contains"
   ]
  },
  {
   "cell_type": "code",
   "execution_count": null,
   "metadata": {
    "id": "j24vFEszKqYR"
   },
   "outputs": [],
   "source": [
    "pd.set_option('max_colwidth', 200)"
   ]
  },
  {
   "cell_type": "code",
   "execution_count": null,
   "metadata": {
    "colab": {
     "base_uri": "https://localhost:8080/"
    },
    "id": "DQnVMhCgB5Ic",
    "outputId": "2be308f8-703b-4f57-c362-28ab7d88e23d"
   },
   "outputs": [
    {
     "data": {
      "text/plain": [
       "70000                                                                                                                urlLink    The Statue of Liberty (taken from the ferry enroute to Liberty Island).         \n",
       "70001               We are back from  the Big Apple...unpacking, and (hopefully) getting some rest after a 12 hour flight.  I'll have more to post (including pictures of Manhattan from the  86th floor of t...\n",
       "70002               Hi, there...we are in New York City (Queens, to be precise).  Jane, Kinsey and I are, as previously mentioned, visiting family.  We've been here since last Tuesday, and we just got back...\n",
       "70003                   About 12 hours or  so until we leave for the airport.&nbsp; And off to the Big  Apple.         &nbsp;     Guess watching   The Day After  Tomorrow   (with the scary plane scene, and...\n",
       "70004                                                                                                                                                     urlLink    'Hi, Nicky...my name is Kinsey...'         \n",
       "70005                                                                                                  urlLink    Ever hear the saying 'I don't give a rat's ass'?  Well, here it really has meaning...         \n",
       "70006                                                                                                                  urlLink    Someone needs to tell Kinsey that this style went out with the '80's.         \n",
       "70007                                                                                                                                         urlLink    This looks like a cat that is up to no good...         \n",
       "70008                                                                  We'll see how long  this takes to get to the blog...it's been really slow lately.&nbsp; Anyway, I  need to pack for New York.            \n",
       "70009                                                                                               urlLink    Further into the record...I'm planning on leaving it up for the trip to New York, too...         \n",
       "70010                   In an effort to get  ready for the trip to  New York  (and, as Jane  says, because I have no nice clothes), we went clothes shopping for me  today.&nbsp; I came away with some nice ...\n",
       "70011                                                                                                        I don't approve of political jokes.  I've seen too many of them get elected.                       \n",
       "70012                                                                                                                                        urlLink    My first boat, the mighty USS TUCSON (SSN-770).         \n",
       "70013                                                                                                                      urlLink    It's happened more than once (long run times under Windows XP)...         \n",
       "70014                                                                                                                                                       urlLink    Who says Windows isn't reliable?         \n",
       "70015                                                                                                                                                                  urlLink    Handprint...a clue...         \n",
       "70016                   I'm not usually one  for the lawsuit mentality, but  this  is clearly a case where one is needed .&nbsp; Poor woman wasn't even allowed  to sit by the pool and watch her own kids be...\n",
       "70017               Think the Navy has a CO problem?  I do.  This list may not even be as current as I'd like (see the story a few posts down about the USS Carney's collision with a British ship).  But her...\n",
       "70018               (Being in the US sub force, and knowing how thin we are oftenstretched, I'd say this is either a no-brainer or we need to get ridof some of the flaming nukeism and be smarter about how ...\n",
       "70019                                                                                     urlLink Justwhat we do not need... more nuclear weapons.  I'm glad Congressoccasionally does something right.         \n",
       "Name: text, dtype: object"
      ]
     },
     "execution_count": 9,
     "metadata": {
      "tags": []
     },
     "output_type": "execute_result"
    }
   ],
   "source": [
    "#df['text'].iloc[0:25]\n",
    "#df['text'].iloc[200:225]\n",
    "#df['text'].iloc[3000:3050]\n",
    "#df['text'].iloc[50000:50020]\n",
    "#df['text'].iloc[60000:60020]\n",
    "df['text'].iloc[70000:70020]"
   ]
  },
  {
   "cell_type": "markdown",
   "metadata": {
    "id": "nUQZ-fxZEFUV"
   },
   "source": [
    "By going through, randonly, different records, it is observed that the 'text' field contains all sort of words, characters like special characters, non english words. "
   ]
  },
  {
   "cell_type": "markdown",
   "metadata": {
    "id": "xeFH_Pj5C8UL"
   },
   "source": []
  },
  {
   "cell_type": "markdown",
   "metadata": {
    "id": "CNSKV7jfC9FT"
   },
   "source": [
    "# Pre Processing functions"
   ]
  },
  {
   "cell_type": "markdown",
   "metadata": {
    "id": "IjFMN6sWGA6X"
   },
   "source": [
    "Lets do below processing steps\n",
    "1) Remove special characters\n",
    "2) Expanding contractions\n",
    "3) Removing stop words\n",
    "4) Remove assented characters\n",
    "5) Perform stemming\n",
    "6) Perform lemmatisation\n"
   ]
  },
  {
   "cell_type": "code",
   "execution_count": 5,
   "metadata": {
    "colab": {
     "base_uri": "https://localhost:8080/"
    },
    "id": "oOQqw4pzJ5VR",
    "outputId": "ee288375-c26f-4510-a7d5-037a28033c4b"
   },
   "outputs": [
    {
     "name": "stdout",
     "output_type": "stream",
     "text": [
      "Collecting contractions\n",
      "  Downloading https://files.pythonhosted.org/packages/0a/04/d5e0bb9f2cef5d15616ebf68087a725c5dbdd71bd422bcfb35d709f98ce7/contractions-0.0.48-py2.py3-none-any.whl\n",
      "Collecting textsearch>=0.0.21\n",
      "  Downloading https://files.pythonhosted.org/packages/d3/fe/021d7d76961b5ceb9f8d022c4138461d83beff36c3938dc424586085e559/textsearch-0.0.21-py2.py3-none-any.whl\n",
      "Collecting pyahocorasick\n",
      "\u001b[?25l  Downloading https://files.pythonhosted.org/packages/7f/c2/eae730037ae1cbbfaa229d27030d1d5e34a1e41114b21447d1202ae9c220/pyahocorasick-1.4.2.tar.gz (321kB)\n",
      "\u001b[K     |████████████████████████████████| 327kB 4.4MB/s \n",
      "\u001b[?25hCollecting anyascii\n",
      "\u001b[?25l  Downloading https://files.pythonhosted.org/packages/a3/14/666cd44bf53f36a961544af592cb5c5c800013f9c51a4745af8d7c17362a/anyascii-0.2.0-py3-none-any.whl (283kB)\n",
      "\u001b[K     |████████████████████████████████| 286kB 7.8MB/s \n",
      "\u001b[?25hBuilding wheels for collected packages: pyahocorasick\n",
      "  Building wheel for pyahocorasick (setup.py) ... \u001b[?25l\u001b[?25hdone\n",
      "  Created wheel for pyahocorasick: filename=pyahocorasick-1.4.2-cp37-cp37m-linux_x86_64.whl size=85393 sha256=cfd1c12baf2a2424ef02795a621891e1d9b5a7eacf645ed77aafee1da59308b1\n",
      "  Stored in directory: /root/.cache/pip/wheels/3a/03/34/77e3ece0bba8b86bfac88a79f923b36d805cad63caeba38842\n",
      "Successfully built pyahocorasick\n",
      "Installing collected packages: pyahocorasick, anyascii, textsearch, contractions\n",
      "Successfully installed anyascii-0.2.0 contractions-0.0.48 pyahocorasick-1.4.2 textsearch-0.0.21\n"
     ]
    }
   ],
   "source": [
    "pip install contractions"
   ]
  },
  {
   "cell_type": "code",
   "execution_count": 6,
   "metadata": {
    "id": "BUMYPov7Hsw-"
   },
   "outputs": [],
   "source": [
    "import nltk\n",
    "from nltk.tokenize.toktok import ToktokTokenizer\n",
    "import re\n",
    "from bs4 import BeautifulSoup\n",
    "from contractions import contractions_dict\n",
    "import unicodedata"
   ]
  },
  {
   "cell_type": "code",
   "execution_count": 9,
   "metadata": {
    "id": "f4wXljKIDb4z"
   },
   "outputs": [],
   "source": [
    "def Remove_SpecialChars(text, remove_digits=False):\n",
    "  pattern = r'[^a-zA-z0-9\\s]' if not remove_digits else r'[^a-zA-z\\s]'\n",
    "  text = re.sub(pattern, ' ', text)  # remove special characters\n",
    "  return text"
   ]
  },
  {
   "cell_type": "code",
   "execution_count": 10,
   "metadata": {
    "colab": {
     "base_uri": "https://localhost:8080/"
    },
    "id": "55iVPA3QHfRK",
    "outputId": "39b5acf6-5d6d-4b89-d2a8-30b79526d9be"
   },
   "outputs": [
    {
     "name": "stdout",
     "output_type": "stream",
     "text": [
      "About    hours or  so until we leave for the airport  nbsp \n"
     ]
    }
   ],
   "source": [
    "#print(Remove_SpecialChars('Hi, there...we are in New York City (Queens, to be precise)'))\n",
    "print(Remove_SpecialChars('About 12 hours or  so until we leave for the airport.&nbsp;'))"
   ]
  },
  {
   "cell_type": "code",
   "execution_count": null,
   "metadata": {
    "id": "2KdI4oYmI81p"
   },
   "outputs": [],
   "source": [
    "def ExpandCOntractions(text, contraction_mapping=contractions_dict):\n",
    "  \n",
    "  contractions_pattern = re.compile('({})'.format('|'.join(contraction_mapping.keys())), flags=re.IGNORECASE|re.DOTALL)\n",
    "  def expand_match(contraction):\n",
    "    match = contraction.group(0)\n",
    "    first_char = match[0]\n",
    "    expanded_contraction = contraction_mapping.get(match)\\\n",
    "                           if contraction_mapping.get(match)\\\n",
    "                           else contraction_mapping.get(match.lower())                       \n",
    "    expanded_conExpandCOntractionstraction = first_char+expanded_contraction[1:]\n",
    "    return expanded_contraction\n",
    "        \n",
    "  expanded_text = contractions_pattern.sub(expand_match, text)\n",
    "  expanded_text = re.sub(\"'\", \"\", expanded_text)\n",
    "  return expanded_text"
   ]
  },
  {
   "cell_type": "code",
   "execution_count": null,
   "metadata": {
    "colab": {
     "base_uri": "https://localhost:8080/"
    },
    "id": "WcJvrJ45H2kE",
    "outputId": "5f20dc43-1fd9-4f12-f31f-513e11ba56e8"
   },
   "outputs": [
    {
     "name": "stdout",
     "output_type": "stream",
     "text": [
      "I am not usually do not I would and\n"
     ]
    }
   ],
   "source": [
    "print(ExpandCOntractions(\"I'm not usually don't I'd and\"))"
   ]
  },
  {
   "cell_type": "code",
   "execution_count": null,
   "metadata": {
    "colab": {
     "base_uri": "https://localhost:8080/"
    },
    "id": "Wh9-eaisLtJK",
    "outputId": "81adaa93-9f34-4a0b-d87d-82c99d071caf"
   },
   "outputs": [
    {
     "name": "stdout",
     "output_type": "stream",
     "text": [
      "[nltk_data] Downloading package stopwords to /root/nltk_data...\n",
      "[nltk_data]   Unzipping corpora/stopwords.zip.\n"
     ]
    }
   ],
   "source": [
    "from nltk.tokenize.toktok import ToktokTokenizer\n",
    "tokenizer = ToktokTokenizer()\n",
    "from nltk.corpus import stopwords\n",
    "nltk.download('stopwords')\n",
    "stopword_list = nltk.corpus.stopwords.words('english')\n",
    "stopword_list.remove('no')\n",
    "stopword_list.remove('not')"
   ]
  },
  {
   "cell_type": "code",
   "execution_count": null,
   "metadata": {
    "id": "jFl-hl-5K5jS"
   },
   "outputs": [],
   "source": [
    "def RemoveStopWords(text, is_lower_case=False):\n",
    "    tokens = tokenizer.tokenize(text)\n",
    "    tokens = [token.strip() for token in tokens]\n",
    "    if is_lower_case:\n",
    "        filtered_tokens = [token for token in tokens if token not in stopword_list]\n",
    "    else:\n",
    "        filtered_tokens = [token for token in tokens if token.lower() not in stopword_list]\n",
    "    filtered_text = ' '.join(filtered_tokens)    \n",
    "    return filtered_text\n"
   ]
  },
  {
   "cell_type": "code",
   "execution_count": null,
   "metadata": {
    "colab": {
     "base_uri": "https://localhost:8080/"
    },
    "id": "nrGYXWG9M2FD",
    "outputId": "a364051c-ac9c-46e9-b832-2fa32e183179"
   },
   "outputs": [
    {
     "name": "stdout",
     "output_type": "stream",
     "text": [
      "US sub force , knowing thin oftenstretched , ' say either no-brainer need get ridof flaming nukeism\n"
     ]
    }
   ],
   "source": [
    "print(RemoveStopWords(\"Being in the US sub force, and knowing how thin we are oftenstretched, I'd say this is either a no-brainer or we need to get ridof some of the flaming nukeism and be \"))"
   ]
  },
  {
   "cell_type": "code",
   "execution_count": null,
   "metadata": {
    "id": "bnyby-02M_iG"
   },
   "outputs": [],
   "source": [
    "def RemoveAccentedChars(text):\n",
    "    text = unicodedata.normalize('NFKD', text).encode('ascii', 'ignore').decode('utf-8', 'ignore')\n",
    "    return text"
   ]
  },
  {
   "cell_type": "code",
   "execution_count": null,
   "metadata": {
    "id": "Noz3hds1N9PC"
   },
   "outputs": [],
   "source": [
    "def Stemming(text):\n",
    "    ps = nltk.porter.PorterStemmer()\n",
    "    text = ' '.join([ps.stem(word) for word in text.split()])\n",
    "    return text"
   ]
  },
  {
   "cell_type": "code",
   "execution_count": null,
   "metadata": {
    "colab": {
     "base_uri": "https://localhost:8080/"
    },
    "id": "VG1E8zSsN_vO",
    "outputId": "fad6d546-d07e-4b21-d254-82550ae5340c"
   },
   "outputs": [
    {
     "name": "stdout",
     "output_type": "stream",
     "text": [
      "We are back from the big appl unpack and hope get some rest after a 12 hour flight I ll have more to post includ pictur\n"
     ]
    }
   ],
   "source": [
    "print(Stemming(Remove_SpecialChars(\"We are back from  the Big Apple...unpacking, and (hopefully) getting some rest after a 12 hour flight.  I'll have more to post (including pictures\")))"
   ]
  },
  {
   "cell_type": "code",
   "execution_count": null,
   "metadata": {
    "colab": {
     "base_uri": "https://localhost:8080/"
    },
    "id": "pbHVjFgGQBy_",
    "outputId": "77686be5-7bee-4462-feab-2418501a31ec"
   },
   "outputs": [
    {
     "name": "stdout",
     "output_type": "stream",
     "text": [
      "Requirement already satisfied: spacy in /usr/local/lib/python3.7/dist-packages (2.2.4)\n",
      "Requirement already satisfied: thinc==7.4.0 in /usr/local/lib/python3.7/dist-packages (from spacy) (7.4.0)\n",
      "Requirement already satisfied: setuptools in /usr/local/lib/python3.7/dist-packages (from spacy) (56.0.0)\n",
      "Requirement already satisfied: plac<1.2.0,>=0.9.6 in /usr/local/lib/python3.7/dist-packages (from spacy) (1.1.3)\n",
      "Requirement already satisfied: blis<0.5.0,>=0.4.0 in /usr/local/lib/python3.7/dist-packages (from spacy) (0.4.1)\n",
      "Requirement already satisfied: murmurhash<1.1.0,>=0.28.0 in /usr/local/lib/python3.7/dist-packages (from spacy) (1.0.5)\n",
      "Requirement already satisfied: srsly<1.1.0,>=1.0.2 in /usr/local/lib/python3.7/dist-packages (from spacy) (1.0.5)\n",
      "Requirement already satisfied: numpy>=1.15.0 in /usr/local/lib/python3.7/dist-packages (from spacy) (1.19.5)\n",
      "Requirement already satisfied: requests<3.0.0,>=2.13.0 in /usr/local/lib/python3.7/dist-packages (from spacy) (2.23.0)\n",
      "Requirement already satisfied: catalogue<1.1.0,>=0.0.7 in /usr/local/lib/python3.7/dist-packages (from spacy) (1.0.0)\n",
      "Requirement already satisfied: tqdm<5.0.0,>=4.38.0 in /usr/local/lib/python3.7/dist-packages (from spacy) (4.41.1)\n",
      "Requirement already satisfied: wasabi<1.1.0,>=0.4.0 in /usr/local/lib/python3.7/dist-packages (from spacy) (0.8.2)\n",
      "Requirement already satisfied: cymem<2.1.0,>=2.0.2 in /usr/local/lib/python3.7/dist-packages (from spacy) (2.0.5)\n",
      "Requirement already satisfied: preshed<3.1.0,>=3.0.2 in /usr/local/lib/python3.7/dist-packages (from spacy) (3.0.5)\n",
      "Requirement already satisfied: urllib3!=1.25.0,!=1.25.1,<1.26,>=1.21.1 in /usr/local/lib/python3.7/dist-packages (from requests<3.0.0,>=2.13.0->spacy) (1.24.3)\n",
      "Requirement already satisfied: chardet<4,>=3.0.2 in /usr/local/lib/python3.7/dist-packages (from requests<3.0.0,>=2.13.0->spacy) (3.0.4)\n",
      "Requirement already satisfied: certifi>=2017.4.17 in /usr/local/lib/python3.7/dist-packages (from requests<3.0.0,>=2.13.0->spacy) (2020.12.5)\n",
      "Requirement already satisfied: idna<3,>=2.5 in /usr/local/lib/python3.7/dist-packages (from requests<3.0.0,>=2.13.0->spacy) (2.10)\n",
      "Requirement already satisfied: importlib-metadata>=0.20; python_version < \"3.8\" in /usr/local/lib/python3.7/dist-packages (from catalogue<1.1.0,>=0.0.7->spacy) (3.10.1)\n",
      "Requirement already satisfied: zipp>=0.5 in /usr/local/lib/python3.7/dist-packages (from importlib-metadata>=0.20; python_version < \"3.8\"->catalogue<1.1.0,>=0.0.7->spacy) (3.4.1)\n",
      "Requirement already satisfied: typing-extensions>=3.6.4; python_version < \"3.8\" in /usr/local/lib/python3.7/dist-packages (from importlib-metadata>=0.20; python_version < \"3.8\"->catalogue<1.1.0,>=0.0.7->spacy) (3.7.4.3)\n"
     ]
    }
   ],
   "source": [
    "pip install spacy"
   ]
  },
  {
   "cell_type": "code",
   "execution_count": null,
   "metadata": {
    "id": "Xspt-M2-Q2lZ"
   },
   "outputs": [],
   "source": [
    "import en_core_web_sm"
   ]
  },
  {
   "cell_type": "code",
   "execution_count": null,
   "metadata": {
    "id": "LB-N-_6QP_or"
   },
   "outputs": [],
   "source": [
    "import spacy\n",
    "nlp = en_core_web_sm.load()"
   ]
  },
  {
   "cell_type": "code",
   "execution_count": null,
   "metadata": {
    "id": "SZ4L0yPIPEiL"
   },
   "outputs": [],
   "source": [
    "def Lemmatization(text):\n",
    "    text = nlp(text)\n",
    "    text = ' '.join([word.lemma_ if word.lemma_ != '-PRON-' else word.text for word in text])\n",
    "    return text"
   ]
  },
  {
   "cell_type": "code",
   "execution_count": null,
   "metadata": {
    "colab": {
     "base_uri": "https://localhost:8080/"
    },
    "id": "0Jeoi0UEP3EE",
    "outputId": "3e008bc2-b284-4ee3-eb06-c30b929fe383"
   },
   "outputs": [
    {
     "name": "stdout",
     "output_type": "stream",
     "text": [
      "We be back from   the Big Apple    unpack   and   hopefully   get some rest after a 12 hour flight    I will have more to post   include picture\n"
     ]
    }
   ],
   "source": [
    "print(Lemmatization(Remove_SpecialChars(\"We are back from  the Big Apple...unpacking, and (hopefully) getting some rest after a 12 hour flight.  I'll have more to post (including pictures\")))"
   ]
  },
  {
   "cell_type": "code",
   "execution_count": null,
   "metadata": {
    "id": "7z49p9cgRmYp"
   },
   "outputs": [],
   "source": [
    "# Lets bundle above functions in one function\n",
    "\n",
    "def TextProcessing(text) :\n",
    "  \n",
    "  txt = RemoveAccentedChars(text)\n",
    "  #txt = ExpandCOntractions(txt,contraction_mapping=contractions_dict)\n",
    "  txt = txt.lower()\n",
    "  txt = RemoveStopWords(txt)\n",
    "  txt = Remove_SpecialChars(txt)\n",
    "  txt = Stemming(txt)\n",
    "  txt = Lemmatization(txt)\n",
    "  return txt"
   ]
  },
  {
   "cell_type": "code",
   "execution_count": null,
   "metadata": {
    "colab": {
     "base_uri": "https://localhost:8080/"
    },
    "id": "p15feaHPV8iO",
    "outputId": "a2a01cef-00aa-43df-c690-de94cc4a8ee1"
   },
   "outputs": [
    {
     "data": {
      "text/plain": [
       "0"
      ]
     },
     "execution_count": 31,
     "metadata": {
      "tags": []
     },
     "output_type": "execute_result"
    }
   ],
   "source": [
    "#Check if any record has null values in 'text' field\n",
    "df['text'].isna().sum()"
   ]
  },
  {
   "cell_type": "markdown",
   "metadata": {
    "id": "hUlR7UmNDOyJ"
   },
   "source": []
  },
  {
   "cell_type": "markdown",
   "metadata": {
    "id": "0B_Tom08DPU1"
   },
   "source": [
    "# Select subset of data"
   ]
  },
  {
   "cell_type": "markdown",
   "metadata": {
    "id": "-CABU_YzcWt9"
   },
   "source": [
    "Preprocessing data for 680 K + records is taking lot of time and after certain time period sessions is either getting disconnected or crashing.\n",
    "So I will be considering around 2-3% of the records from the corpus\n",
    "\n",
    "Will be using train test function to selext 2-3% of records"
   ]
  },
  {
   "cell_type": "code",
   "execution_count": null,
   "metadata": {
    "id": "osVjWCrdcV-c"
   },
   "outputs": [],
   "source": [
    "from sklearn.model_selection import train_test_split"
   ]
  },
  {
   "cell_type": "code",
   "execution_count": null,
   "metadata": {
    "colab": {
     "base_uri": "https://localhost:8080/"
    },
    "id": "kld21wO7xDZU",
    "outputId": "d0bc7bc8-48f4-4d4f-a2a9-aa540fe86313"
   },
   "outputs": [
    {
     "data": {
      "text/plain": [
       "Index(['id', 'gender', 'age', 'topic', 'sign', 'date', 'text'], dtype='object')"
      ]
     },
     "execution_count": 33,
     "metadata": {
      "tags": []
     },
     "output_type": "execute_result"
    }
   ],
   "source": [
    "df.columns"
   ]
  },
  {
   "cell_type": "code",
   "execution_count": null,
   "metadata": {
    "id": "KESa_Cr7x6Cv"
   },
   "outputs": [],
   "source": [
    "#Remove 'id', 'date' columns as thes eare not required\n",
    "df.drop(columns=['id','date'], axis =1,inplace=True)"
   ]
  },
  {
   "cell_type": "code",
   "execution_count": null,
   "metadata": {
    "colab": {
     "base_uri": "https://localhost:8080/"
    },
    "id": "2sV3OAfpywJG",
    "outputId": "20e94ecd-281a-4440-a27e-fdbf60a8d6ea"
   },
   "outputs": [
    {
     "data": {
      "text/plain": [
       "Index(['gender', 'age', 'topic', 'sign', 'text'], dtype='object')"
      ]
     },
     "execution_count": 45,
     "metadata": {
      "tags": []
     },
     "output_type": "execute_result"
    }
   ],
   "source": [
    "df.columns"
   ]
  },
  {
   "cell_type": "code",
   "execution_count": null,
   "metadata": {
    "id": "tLjpmNb-y1vS"
   },
   "outputs": [],
   "source": [
    "target = df[['gender','age','topic','sign']]\n",
    "feature = df['text']"
   ]
  },
  {
   "cell_type": "code",
   "execution_count": null,
   "metadata": {
    "id": "-bt3RdPezU1C"
   },
   "outputs": [],
   "source": [
    "# To fetch only 1% of data for actual processing, set test size as 99 ...so that in train set we will get only 1% of data\n",
    "X_train, X_test, y_train, y_test = train_test_split(feature, target, test_size=0.99, random_state=10)"
   ]
  },
  {
   "cell_type": "code",
   "execution_count": null,
   "metadata": {
    "colab": {
     "base_uri": "https://localhost:8080/"
    },
    "id": "r6jHYNzO1nJo",
    "outputId": "d03ab950-04ba-43c2-8e95-1b53f230fc0b"
   },
   "outputs": [
    {
     "data": {
      "text/plain": [
       "677547           It's 9.51 pm now. Sitting in my study room. so bo liaoz. felt f**ked up this afternoon. Well, she just ignored me as if i'm not there. Refused to allow me to even take a look at the cover o...\n",
       "464518       The sun was setting and I was high up on a hill. I was looking out over the barren trees in front of me... still sleepy with winter. And I saw a shadow blocking out on of the beams of light. It...\n",
       "27645                       Everyone wanting the chances from me but i jus couldn't bare to give up on *ahem* somehow, some peeps wanna me to give up and let others have a chance.. i hate to hurt them.. i h...\n",
       "343334           Athens The total bill for security at the Olympic Games will exceed $1.5 billion, Greek officials said this week. The installation of 1,400 surveillance cameras alone, a small part of the p...\n",
       "366685                                                                                                    name:  mirm          global location:  the pitts          age:  27          dob:  middle of june       \n",
       "Name: text, dtype: object"
      ]
     },
     "execution_count": 76,
     "metadata": {
      "tags": []
     },
     "output_type": "execute_result"
    }
   ],
   "source": [
    "X_train.head(5)"
   ]
  },
  {
   "cell_type": "code",
   "execution_count": null,
   "metadata": {
    "colab": {
     "base_uri": "https://localhost:8080/",
     "height": 204
    },
    "id": "qBqqO1Hw1d3X",
    "outputId": "7bf2df5b-bf63-476c-a8a5-60327372a191"
   },
   "outputs": [
    {
     "data": {
      "text/html": [
       "<div>\n",
       "<style scoped>\n",
       "    .dataframe tbody tr th:only-of-type {\n",
       "        vertical-align: middle;\n",
       "    }\n",
       "\n",
       "    .dataframe tbody tr th {\n",
       "        vertical-align: top;\n",
       "    }\n",
       "\n",
       "    .dataframe thead th {\n",
       "        text-align: right;\n",
       "    }\n",
       "</style>\n",
       "<table border=\"1\" class=\"dataframe\">\n",
       "  <thead>\n",
       "    <tr style=\"text-align: right;\">\n",
       "      <th></th>\n",
       "      <th>gender</th>\n",
       "      <th>age</th>\n",
       "      <th>topic</th>\n",
       "      <th>sign</th>\n",
       "    </tr>\n",
       "  </thead>\n",
       "  <tbody>\n",
       "    <tr>\n",
       "      <th>677547</th>\n",
       "      <td>female</td>\n",
       "      <td>16</td>\n",
       "      <td>Student</td>\n",
       "      <td>Cancer</td>\n",
       "    </tr>\n",
       "    <tr>\n",
       "      <th>464518</th>\n",
       "      <td>male</td>\n",
       "      <td>17</td>\n",
       "      <td>indUnk</td>\n",
       "      <td>Virgo</td>\n",
       "    </tr>\n",
       "    <tr>\n",
       "      <th>27645</th>\n",
       "      <td>female</td>\n",
       "      <td>15</td>\n",
       "      <td>indUnk</td>\n",
       "      <td>Taurus</td>\n",
       "    </tr>\n",
       "    <tr>\n",
       "      <th>343334</th>\n",
       "      <td>male</td>\n",
       "      <td>26</td>\n",
       "      <td>Fashion</td>\n",
       "      <td>Cancer</td>\n",
       "    </tr>\n",
       "    <tr>\n",
       "      <th>366685</th>\n",
       "      <td>female</td>\n",
       "      <td>27</td>\n",
       "      <td>indUnk</td>\n",
       "      <td>Gemini</td>\n",
       "    </tr>\n",
       "  </tbody>\n",
       "</table>\n",
       "</div>"
      ],
      "text/plain": [
       "        gender  age    topic    sign\n",
       "677547  female   16  Student  Cancer\n",
       "464518    male   17   indUnk   Virgo\n",
       "27645   female   15   indUnk  Taurus\n",
       "343334    male   26  Fashion  Cancer\n",
       "366685  female   27   indUnk  Gemini"
      ]
     },
     "execution_count": 77,
     "metadata": {
      "tags": []
     },
     "output_type": "execute_result"
    }
   ],
   "source": [
    "y_train.head(5)"
   ]
  },
  {
   "cell_type": "code",
   "execution_count": null,
   "metadata": {
    "colab": {
     "base_uri": "https://localhost:8080/",
     "height": 296
    },
    "id": "3L37VWPu2LdJ",
    "outputId": "b10c652e-9b69-4753-fb1a-37be6273765c"
   },
   "outputs": [
    {
     "data": {
      "text/plain": [
       "<matplotlib.axes._subplots.AxesSubplot at 0x7fc5a27f25d0>"
      ]
     },
     "execution_count": 78,
     "metadata": {
      "tags": []
     },
     "output_type": "execute_result"
    },
    {
     "data": {
      "image/png": "[encoded data removed]",
      "text/plain": [
       "<Figure size 432x288 with 1 Axes>"
      ]
     },
     "metadata": {
      "needs_background": "light",
      "tags": []
     },
     "output_type": "display_data"
    }
   ],
   "source": [
    "# Lets check if different types of gender, age, topic and sign records are present in y_train\n",
    "sns.countplot(data=y_train, x='gender')"
   ]
  },
  {
   "cell_type": "code",
   "execution_count": null,
   "metadata": {
    "colab": {
     "base_uri": "https://localhost:8080/",
     "height": 296
    },
    "id": "tuoBJO142t6Q",
    "outputId": "af8a43dd-30f6-4e8c-c3a0-5a247e8cd2bc"
   },
   "outputs": [
    {
     "data": {
      "text/plain": [
       "<matplotlib.axes._subplots.AxesSubplot at 0x7fc5a217e950>"
      ]
     },
     "execution_count": 79,
     "metadata": {
      "tags": []
     },
     "output_type": "execute_result"
    },
    {
     "data": {
      "image/png": "[encoded data removed]",
      "text/plain": [
       "<Figure size 432x288 with 1 Axes>"
      ]
     },
     "metadata": {
      "needs_background": "light",
      "tags": []
     },
     "output_type": "display_data"
    }
   ],
   "source": [
    "sns.countplot(data=y_train, x='age')"
   ]
  },
  {
   "cell_type": "code",
   "execution_count": null,
   "metadata": {
    "colab": {
     "base_uri": "https://localhost:8080/",
     "height": 296
    },
    "id": "GgZiaZWt2xcR",
    "outputId": "07205759-f735-4940-da08-b6c76927c6a8"
   },
   "outputs": [
    {
     "data": {
      "text/plain": [
       "<matplotlib.axes._subplots.AxesSubplot at 0x7fc5a2351c90>"
      ]
     },
     "execution_count": 80,
     "metadata": {
      "tags": []
     },
     "output_type": "execute_result"
    },
    {
     "data": {
      "image/png": "[encoded data removed]",
      "text/plain": [
       "<Figure size 432x288 with 1 Axes>"
      ]
     },
     "metadata": {
      "needs_background": "light",
      "tags": []
     },
     "output_type": "display_data"
    }
   ],
   "source": [
    "sns.countplot(data=y_train, x='topic')"
   ]
  },
  {
   "cell_type": "code",
   "execution_count": null,
   "metadata": {
    "colab": {
     "base_uri": "https://localhost:8080/",
     "height": 296
    },
    "id": "VagvMV_m22IH",
    "outputId": "9b3faa7c-753c-478f-844e-4b694c5e2bb3"
   },
   "outputs": [
    {
     "data": {
      "text/plain": [
       "<matplotlib.axes._subplots.AxesSubplot at 0x7fc5a218a390>"
      ]
     },
     "execution_count": 81,
     "metadata": {
      "tags": []
     },
     "output_type": "execute_result"
    },
    {
     "data": {
      "image/png": "[encoded data removed]",
      "text/plain": [
       "<Figure size 432x288 with 1 Axes>"
      ]
     },
     "metadata": {
      "needs_background": "light",
      "tags": []
     },
     "output_type": "display_data"
    }
   ],
   "source": [
    "sns.countplot(data=y_train, x='sign')"
   ]
  },
  {
   "cell_type": "code",
   "execution_count": null,
   "metadata": {
    "id": "QLJZj3lr3LB0"
   },
   "outputs": [],
   "source": [
    "df1 = pd.DataFrame(X_train,columns={'text'})"
   ]
  },
  {
   "cell_type": "markdown",
   "metadata": {
    "id": "MMV_00PY25Lw"
   },
   "source": [
    "#Preprocessing on 'text' field"
   ]
  },
  {
   "cell_type": "code",
   "execution_count": null,
   "metadata": {
    "id": "EslrvJDTUlDM"
   },
   "outputs": [],
   "source": [
    "df1['NormalText'] = df1['text'].apply(lambda x : TextProcessing(x))"
   ]
  },
  {
   "cell_type": "code",
   "execution_count": null,
   "metadata": {
    "id": "HVAwt-lX9hxZ"
   },
   "outputs": [],
   "source": [
    "#Lets save the data set for further processing\n",
    "from numpy import asarray, save\n",
    "save('/content/drive/MyDrive/LablFiles/Stat_NL_Project/x.npy',df1.to_numpy())\n",
    "save('/content/drive/MyDrive/LablFiles/Stat_NL_Project/y.npy',y_train.to_numpy()) "
   ]
  },
  {
   "cell_type": "code",
   "execution_count": null,
   "metadata": {
    "id": "mke2fDtT_BzP"
   },
   "outputs": [],
   "source": [
    "# Just to check if data is correctly saved or not\n",
    "from numpy import load\n",
    "x1 = load('/content/drive/MyDrive/LablFiles/Stat_NL_Project/x.npy',allow_pickle=True)"
   ]
  },
  {
   "cell_type": "code",
   "execution_count": null,
   "metadata": {
    "colab": {
     "base_uri": "https://localhost:8080/",
     "height": 204
    },
    "id": "6eIUzOjZ_c7I",
    "outputId": "339c0d1e-13ef-4880-97a0-ae4b50e79b54"
   },
   "outputs": [
    {
     "data": {
      "text/html": [
       "<div>\n",
       "<style scoped>\n",
       "    .dataframe tbody tr th:only-of-type {\n",
       "        vertical-align: middle;\n",
       "    }\n",
       "\n",
       "    .dataframe tbody tr th {\n",
       "        vertical-align: top;\n",
       "    }\n",
       "\n",
       "    .dataframe thead th {\n",
       "        text-align: right;\n",
       "    }\n",
       "</style>\n",
       "<table border=\"1\" class=\"dataframe\">\n",
       "  <thead>\n",
       "    <tr style=\"text-align: right;\">\n",
       "      <th></th>\n",
       "      <th>gender</th>\n",
       "      <th>age</th>\n",
       "      <th>topic</th>\n",
       "      <th>sign</th>\n",
       "    </tr>\n",
       "  </thead>\n",
       "  <tbody>\n",
       "    <tr>\n",
       "      <th>677547</th>\n",
       "      <td>female</td>\n",
       "      <td>16</td>\n",
       "      <td>Student</td>\n",
       "      <td>Cancer</td>\n",
       "    </tr>\n",
       "    <tr>\n",
       "      <th>464518</th>\n",
       "      <td>male</td>\n",
       "      <td>17</td>\n",
       "      <td>indUnk</td>\n",
       "      <td>Virgo</td>\n",
       "    </tr>\n",
       "    <tr>\n",
       "      <th>27645</th>\n",
       "      <td>female</td>\n",
       "      <td>15</td>\n",
       "      <td>indUnk</td>\n",
       "      <td>Taurus</td>\n",
       "    </tr>\n",
       "    <tr>\n",
       "      <th>343334</th>\n",
       "      <td>male</td>\n",
       "      <td>26</td>\n",
       "      <td>Fashion</td>\n",
       "      <td>Cancer</td>\n",
       "    </tr>\n",
       "    <tr>\n",
       "      <th>366685</th>\n",
       "      <td>female</td>\n",
       "      <td>27</td>\n",
       "      <td>indUnk</td>\n",
       "      <td>Gemini</td>\n",
       "    </tr>\n",
       "  </tbody>\n",
       "</table>\n",
       "</div>"
      ],
      "text/plain": [
       "        gender  age    topic    sign\n",
       "677547  female   16  Student  Cancer\n",
       "464518    male   17   indUnk   Virgo\n",
       "27645   female   15   indUnk  Taurus\n",
       "343334    male   26  Fashion  Cancer\n",
       "366685  female   27   indUnk  Gemini"
      ]
     },
     "execution_count": 91,
     "metadata": {
      "tags": []
     },
     "output_type": "execute_result"
    }
   ],
   "source": [
    "y_train.head()"
   ]
  }
 ],
 "metadata": {
  "colab": {
   "collapsed_sections": [],
   "name": "pgp_aiml_feb20_StatsNLP_R9_Project_DataPreprocessing.ipynb",
   "provenance": []
  },
  "kernelspec": {
   "display_name": "Python 3",
   "language": "python",
   "name": "python3"
  },
  "language_info": {
   "codemirror_mode": {
    "name": "ipython",
    "version": 3
   },
   "file_extension": ".py",
   "mimetype": "text/x-python",
   "name": "python",
   "nbconvert_exporter": "python",
   "pygments_lexer": "ipython3",
   "version": "3.7.4"
  }
 },
 "nbformat": 4,
 "nbformat_minor": 1
}
