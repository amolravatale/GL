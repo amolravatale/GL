{
 "cells": [
  {
   "cell_type": "markdown",
   "metadata": {
    "id": "YeoiMbH7djEv"
   },
   "source": [
    "# Stock prices dataset\n",
    "The data is of tock exchange's stock listings for each trading day of 2010 to 2016.\n",
    "\n",
    "## Description\n",
    "A brief description of columns.\n",
    "- open: The opening market price of the equity symbol on the date\n",
    "- high: The highest market price of the equity symbol on the date\n",
    "- low: The lowest recorded market price of the equity symbol on the date\n",
    "- close: The closing recorded price of the equity symbol on the date\n",
    "- symbol: Symbol of the listed company\n",
    "- volume: Total traded volume of the equity symbol on the date\n",
    "- date: Date of record"
   ]
  },
  {
   "cell_type": "markdown",
   "metadata": {
    "id": "RSoYY2nII_UW"
   },
   "source": [
    "In this assignment, we will work on the stock prices dataset named \"prices.csv\". Task is to create a Neural Network to classify closing price for a stock based on some parameters."
   ]
  },
  {
   "cell_type": "code",
   "execution_count": 1,
   "metadata": {
    "colab": {
     "base_uri": "https://localhost:8080/"
    },
    "id": "M_4ztvyQhF0b",
    "outputId": "f637f96a-c14f-4dc6-d2bd-ffbde9146d73"
   },
   "outputs": [
    {
     "name": "stdout",
     "output_type": "stream",
     "text": [
      "Mounted at /content/drive\n"
     ]
    }
   ],
   "source": [
    "from google.colab import drive\n",
    "drive.mount('/content/drive')"
   ]
  },
  {
   "cell_type": "code",
   "execution_count": 2,
   "metadata": {
    "id": "PGqq9f8VdLba"
   },
   "outputs": [],
   "source": [
    "# Initialize the random number generator\n",
    "import random\n",
    "random.seed(0)\n",
    "\n",
    "# Ignore the warnings\n",
    "import warnings\n",
    "warnings.filterwarnings(\"ignore\")"
   ]
  },
  {
   "cell_type": "markdown",
   "metadata": {
    "id": "_88voqAH-O6J"
   },
   "source": [
    "## Question 1"
   ]
  },
  {
   "cell_type": "markdown",
   "metadata": {
    "id": "dRHCeJqP-evf"
   },
   "source": [
    "### Load the data\n",
    "- load the csv file and read it using pandas\n",
    "- file name is prices.csv"
   ]
  },
  {
   "cell_type": "code",
   "execution_count": null,
   "metadata": {
    "id": "cKVH5v7r-RmC"
   },
   "outputs": [],
   "source": [
    "# run this cell to upload file using GUI if you are using google colab\n",
    "\n",
    "#from google.colab import files\n",
    "#files.upload()"
   ]
  },
  {
   "cell_type": "code",
   "execution_count": 2,
   "metadata": {
    "id": "xV__0IA3vwmJ"
   },
   "outputs": [],
   "source": [
    "#Import basic packages\n",
    "import pandas as pd\n",
    "import numpy as np"
   ]
  },
  {
   "cell_type": "code",
   "execution_count": 3,
   "metadata": {
    "id": "moafovyBiGW3"
   },
   "outputs": [],
   "source": [
    "dfPrices = pd.read_csv('/content/drive/MyDrive/LablFiles/ANN_Internal_Lab/prices dataset NNDL.csv')"
   ]
  },
  {
   "cell_type": "code",
   "execution_count": 4,
   "metadata": {
    "colab": {
     "base_uri": "https://localhost:8080/",
     "height": 204
    },
    "id": "n5i3nyjmiTEz",
    "outputId": "310529dc-ca8a-4818-b1a5-3b7961c42d3d"
   },
   "outputs": [
    {
     "data": {
      "text/html": [
       "<div>\n",
       "<style scoped>\n",
       "    .dataframe tbody tr th:only-of-type {\n",
       "        vertical-align: middle;\n",
       "    }\n",
       "\n",
       "    .dataframe tbody tr th {\n",
       "        vertical-align: top;\n",
       "    }\n",
       "\n",
       "    .dataframe thead th {\n",
       "        text-align: right;\n",
       "    }\n",
       "</style>\n",
       "<table border=\"1\" class=\"dataframe\">\n",
       "  <thead>\n",
       "    <tr style=\"text-align: right;\">\n",
       "      <th></th>\n",
       "      <th>date</th>\n",
       "      <th>symbol</th>\n",
       "      <th>open</th>\n",
       "      <th>close</th>\n",
       "      <th>low</th>\n",
       "      <th>high</th>\n",
       "      <th>volume</th>\n",
       "    </tr>\n",
       "  </thead>\n",
       "  <tbody>\n",
       "    <tr>\n",
       "      <th>0</th>\n",
       "      <td>2016-01-05 00:00:00</td>\n",
       "      <td>WLTW</td>\n",
       "      <td>123.430000</td>\n",
       "      <td>125.839996</td>\n",
       "      <td>122.309998</td>\n",
       "      <td>126.250000</td>\n",
       "      <td>2163600.0</td>\n",
       "    </tr>\n",
       "    <tr>\n",
       "      <th>1</th>\n",
       "      <td>2016-01-06 00:00:00</td>\n",
       "      <td>WLTW</td>\n",
       "      <td>125.239998</td>\n",
       "      <td>119.980003</td>\n",
       "      <td>119.940002</td>\n",
       "      <td>125.540001</td>\n",
       "      <td>2386400.0</td>\n",
       "    </tr>\n",
       "    <tr>\n",
       "      <th>2</th>\n",
       "      <td>2016-01-07 00:00:00</td>\n",
       "      <td>WLTW</td>\n",
       "      <td>116.379997</td>\n",
       "      <td>114.949997</td>\n",
       "      <td>114.930000</td>\n",
       "      <td>119.739998</td>\n",
       "      <td>2489500.0</td>\n",
       "    </tr>\n",
       "    <tr>\n",
       "      <th>3</th>\n",
       "      <td>2016-01-08 00:00:00</td>\n",
       "      <td>WLTW</td>\n",
       "      <td>115.480003</td>\n",
       "      <td>116.620003</td>\n",
       "      <td>113.500000</td>\n",
       "      <td>117.440002</td>\n",
       "      <td>2006300.0</td>\n",
       "    </tr>\n",
       "    <tr>\n",
       "      <th>4</th>\n",
       "      <td>2016-01-11 00:00:00</td>\n",
       "      <td>WLTW</td>\n",
       "      <td>117.010002</td>\n",
       "      <td>114.970001</td>\n",
       "      <td>114.089996</td>\n",
       "      <td>117.330002</td>\n",
       "      <td>1408600.0</td>\n",
       "    </tr>\n",
       "  </tbody>\n",
       "</table>\n",
       "</div>"
      ],
      "text/plain": [
       "                  date symbol        open  ...         low        high     volume\n",
       "0  2016-01-05 00:00:00   WLTW  123.430000  ...  122.309998  126.250000  2163600.0\n",
       "1  2016-01-06 00:00:00   WLTW  125.239998  ...  119.940002  125.540001  2386400.0\n",
       "2  2016-01-07 00:00:00   WLTW  116.379997  ...  114.930000  119.739998  2489500.0\n",
       "3  2016-01-08 00:00:00   WLTW  115.480003  ...  113.500000  117.440002  2006300.0\n",
       "4  2016-01-11 00:00:00   WLTW  117.010002  ...  114.089996  117.330002  1408600.0\n",
       "\n",
       "[5 rows x 7 columns]"
      ]
     },
     "execution_count": 4,
     "metadata": {
      "tags": []
     },
     "output_type": "execute_result"
    }
   ],
   "source": [
    "dfPrices.head()"
   ]
  },
  {
   "cell_type": "code",
   "execution_count": 5,
   "metadata": {
    "colab": {
     "base_uri": "https://localhost:8080/"
    },
    "id": "HMryzvO-iaC0",
    "outputId": "c760878d-59b1-4335-df10-2d8977c7a91e"
   },
   "outputs": [
    {
     "data": {
      "text/plain": [
       "(851264, 7)"
      ]
     },
     "execution_count": 5,
     "metadata": {
      "tags": []
     },
     "output_type": "execute_result"
    }
   ],
   "source": [
    "dfPrices.shape"
   ]
  },
  {
   "cell_type": "code",
   "execution_count": 6,
   "metadata": {
    "colab": {
     "base_uri": "https://localhost:8080/"
    },
    "id": "7H-TBWewifh2",
    "outputId": "f2af21f1-b398-41b2-ebbe-5d55e4ed54fd"
   },
   "outputs": [
    {
     "data": {
      "text/plain": [
       "date      0\n",
       "symbol    0\n",
       "open      0\n",
       "close     0\n",
       "low       0\n",
       "high      0\n",
       "volume    0\n",
       "dtype: int64"
      ]
     },
     "execution_count": 6,
     "metadata": {
      "tags": []
     },
     "output_type": "execute_result"
    }
   ],
   "source": [
    "dfPrices.isna().sum()"
   ]
  },
  {
   "cell_type": "code",
   "execution_count": 9,
   "metadata": {
    "id": "5fnJtCKoi20n"
   },
   "outputs": [],
   "source": [
    "#As per above result dataset does not have any null values"
   ]
  },
  {
   "cell_type": "code",
   "execution_count": null,
   "metadata": {
    "id": "u1jrCpyGliFw"
   },
   "outputs": [],
   "source": [
    "#Lets check some data"
   ]
  },
  {
   "cell_type": "code",
   "execution_count": 7,
   "metadata": {
    "colab": {
     "base_uri": "https://localhost:8080/"
    },
    "id": "4-etFQoullrw",
    "outputId": "5d53c061-915d-482c-cd5c-b0c8242a72cf"
   },
   "outputs": [
    {
     "data": {
      "text/plain": [
       "PCLN    1762\n",
       "AGN     1762\n",
       "WMB     1762\n",
       "CNC     1762\n",
       "CSCO    1762\n",
       "        ... \n",
       "PYPL     378\n",
       "HPE      304\n",
       "CSRA     284\n",
       "WLTW     251\n",
       "FTV      126\n",
       "Name: symbol, Length: 501, dtype: int64"
      ]
     },
     "execution_count": 7,
     "metadata": {
      "tags": []
     },
     "output_type": "execute_result"
    }
   ],
   "source": [
    "dfPrices['symbol'].value_counts()"
   ]
  },
  {
   "cell_type": "code",
   "execution_count": null,
   "metadata": {
    "id": "x9IRcXTrmon1"
   },
   "outputs": [],
   "source": [
    "# There are 501 different symbols (companies)"
   ]
  },
  {
   "cell_type": "markdown",
   "metadata": {
    "id": "HlLKVPVH_BCT"
   },
   "source": [
    "## Question 2"
   ]
  },
  {
   "cell_type": "markdown",
   "metadata": {
    "id": "ZxoGynuBeO4t"
   },
   "source": [
    "### Drop null\n",
    "- Drop null values if any"
   ]
  },
  {
   "cell_type": "code",
   "execution_count": 8,
   "metadata": {
    "colab": {
     "base_uri": "https://localhost:8080/"
    },
    "id": "_yuwJJIeeUaD",
    "outputId": "b8f95111-530d-44a4-e0ff-77cf483e8cee"
   },
   "outputs": [
    {
     "data": {
      "text/plain": [
       "date      0\n",
       "symbol    0\n",
       "open      0\n",
       "close     0\n",
       "low       0\n",
       "high      0\n",
       "volume    0\n",
       "dtype: int64"
      ]
     },
     "execution_count": 8,
     "metadata": {
      "tags": []
     },
     "output_type": "execute_result"
    }
   ],
   "source": [
    "#check if there are any nul values\n",
    "dfPrices.isna().sum()"
   ]
  },
  {
   "cell_type": "code",
   "execution_count": 9,
   "metadata": {
    "id": "YjdZngfHoFBF"
   },
   "outputs": [],
   "source": [
    "dfPricess = dfPrices.dropna()"
   ]
  },
  {
   "cell_type": "markdown",
   "metadata": {
    "id": "9J4BlzVA_gZd"
   },
   "source": [
    "### Drop columns\n",
    "- Now, we don't need \"date\", \"volume\" and \"symbol\" column\n",
    "- drop \"date\", \"volume\" and \"symbol\" column from the data\n"
   ]
  },
  {
   "cell_type": "code",
   "execution_count": 10,
   "metadata": {
    "id": "IKEK8aEE_Csx"
   },
   "outputs": [],
   "source": [
    "dfPrices.drop(columns={'date','volume','symbol'}, axis=1, inplace=True)"
   ]
  },
  {
   "cell_type": "code",
   "execution_count": 11,
   "metadata": {
    "colab": {
     "base_uri": "https://localhost:8080/"
    },
    "id": "-9eRCiy-ob6H",
    "outputId": "fcb16f0d-35cc-447a-e641-1a90b853dc55"
   },
   "outputs": [
    {
     "data": {
      "text/plain": [
       "open     float64\n",
       "close    float64\n",
       "low      float64\n",
       "high     float64\n",
       "dtype: object"
      ]
     },
     "execution_count": 11,
     "metadata": {
      "tags": []
     },
     "output_type": "execute_result"
    }
   ],
   "source": [
    "dfPrices.dtypes"
   ]
  },
  {
   "cell_type": "markdown",
   "metadata": {
    "id": "cTPhO6v-AiZt"
   },
   "source": [
    "## Question 3"
   ]
  },
  {
   "cell_type": "markdown",
   "metadata": {
    "id": "SsZXmF3NAkna"
   },
   "source": [
    "### Print the dataframe\n",
    "- print the modified dataframe"
   ]
  },
  {
   "cell_type": "code",
   "execution_count": 12,
   "metadata": {
    "colab": {
     "base_uri": "https://localhost:8080/",
     "height": 204
    },
    "id": "aKs04iIHAjxN",
    "outputId": "3302c3bf-1d12-4ec8-a8e6-feaddf8e13b2"
   },
   "outputs": [
    {
     "data": {
      "text/html": [
       "<div>\n",
       "<style scoped>\n",
       "    .dataframe tbody tr th:only-of-type {\n",
       "        vertical-align: middle;\n",
       "    }\n",
       "\n",
       "    .dataframe tbody tr th {\n",
       "        vertical-align: top;\n",
       "    }\n",
       "\n",
       "    .dataframe thead th {\n",
       "        text-align: right;\n",
       "    }\n",
       "</style>\n",
       "<table border=\"1\" class=\"dataframe\">\n",
       "  <thead>\n",
       "    <tr style=\"text-align: right;\">\n",
       "      <th></th>\n",
       "      <th>open</th>\n",
       "      <th>close</th>\n",
       "      <th>low</th>\n",
       "      <th>high</th>\n",
       "    </tr>\n",
       "  </thead>\n",
       "  <tbody>\n",
       "    <tr>\n",
       "      <th>0</th>\n",
       "      <td>123.430000</td>\n",
       "      <td>125.839996</td>\n",
       "      <td>122.309998</td>\n",
       "      <td>126.250000</td>\n",
       "    </tr>\n",
       "    <tr>\n",
       "      <th>1</th>\n",
       "      <td>125.239998</td>\n",
       "      <td>119.980003</td>\n",
       "      <td>119.940002</td>\n",
       "      <td>125.540001</td>\n",
       "    </tr>\n",
       "    <tr>\n",
       "      <th>2</th>\n",
       "      <td>116.379997</td>\n",
       "      <td>114.949997</td>\n",
       "      <td>114.930000</td>\n",
       "      <td>119.739998</td>\n",
       "    </tr>\n",
       "    <tr>\n",
       "      <th>3</th>\n",
       "      <td>115.480003</td>\n",
       "      <td>116.620003</td>\n",
       "      <td>113.500000</td>\n",
       "      <td>117.440002</td>\n",
       "    </tr>\n",
       "    <tr>\n",
       "      <th>4</th>\n",
       "      <td>117.010002</td>\n",
       "      <td>114.970001</td>\n",
       "      <td>114.089996</td>\n",
       "      <td>117.330002</td>\n",
       "    </tr>\n",
       "  </tbody>\n",
       "</table>\n",
       "</div>"
      ],
      "text/plain": [
       "         open       close         low        high\n",
       "0  123.430000  125.839996  122.309998  126.250000\n",
       "1  125.239998  119.980003  119.940002  125.540001\n",
       "2  116.379997  114.949997  114.930000  119.739998\n",
       "3  115.480003  116.620003  113.500000  117.440002\n",
       "4  117.010002  114.970001  114.089996  117.330002"
      ]
     },
     "execution_count": 12,
     "metadata": {
      "tags": []
     },
     "output_type": "execute_result"
    }
   ],
   "source": [
    "dfPrices.head()"
   ]
  },
  {
   "cell_type": "markdown",
   "metadata": {
    "id": "C8u_jlbABTip"
   },
   "source": [
    "### Get features and label from the dataset in separate variable\n",
    "- Let's separate labels and features now. We are going to predict the value for \"close\" column so that will be our label. Our features will be \"open\", \"low\", \"high\"\n",
    "- Take \"open\" \"low\", \"high\" columns as features\n",
    "- Take \"close\" column as label"
   ]
  },
  {
   "cell_type": "code",
   "execution_count": 13,
   "metadata": {
    "id": "xQjCMzUXBJbg"
   },
   "outputs": [],
   "source": [
    "from sklearn.model_selection import train_test_split "
   ]
  },
  {
   "cell_type": "code",
   "execution_count": 14,
   "metadata": {
    "id": "BzHRaTttpkED"
   },
   "outputs": [],
   "source": [
    "#Lets first take back up \n",
    "dfPrices_backup = dfPrices.copy()"
   ]
  },
  {
   "cell_type": "code",
   "execution_count": 15,
   "metadata": {
    "id": "4Ebu58_2qZeN"
   },
   "outputs": [],
   "source": [
    "#Lets create feature and target"
   ]
  },
  {
   "cell_type": "code",
   "execution_count": 16,
   "metadata": {
    "id": "OH0lI-MyqLsq"
   },
   "outputs": [],
   "source": [
    "X = dfPrices.drop('close',axis=1)\n",
    "y= dfPrices['close']"
   ]
  },
  {
   "cell_type": "markdown",
   "metadata": {
    "id": "6vGtnapgBIJm"
   },
   "source": [
    "## Question 4"
   ]
  },
  {
   "cell_type": "markdown",
   "metadata": {
    "id": "8pZAKdJ5gcrm"
   },
   "source": [
    "### Create train and test sets\n",
    "- Split the data into training and testing"
   ]
  },
  {
   "cell_type": "code",
   "execution_count": 17,
   "metadata": {
    "id": "aalzepVNrHtu"
   },
   "outputs": [],
   "source": [
    "seed_val = 5"
   ]
  },
  {
   "cell_type": "code",
   "execution_count": 18,
   "metadata": {
    "id": "KalRqA6Rgqsn"
   },
   "outputs": [],
   "source": [
    "X_train, X_test, y_train, y_test = train_test_split(X,y,test_size=0.25,random_state=seed_val)"
   ]
  },
  {
   "cell_type": "markdown",
   "metadata": {
    "id": "aTAKzlxZBz0z"
   },
   "source": [
    "## Question 5"
   ]
  },
  {
   "cell_type": "markdown",
   "metadata": {
    "id": "O7BU2qxEg0Ki"
   },
   "source": [
    "### Scaling\n",
    "- Scale the data (features only)\n",
    "- Use StandarScaler"
   ]
  },
  {
   "cell_type": "code",
   "execution_count": 19,
   "metadata": {
    "id": "_f07N-p9uPV_"
   },
   "outputs": [],
   "source": [
    "#Lets standardize the data\n",
    "from sklearn.preprocessing import StandardScaler"
   ]
  },
  {
   "cell_type": "code",
   "execution_count": 20,
   "metadata": {
    "id": "AcO8SlhPhBkR"
   },
   "outputs": [],
   "source": [
    "scaler = StandardScaler()\n",
    "X_train = scaler.fit_transform(X_train)\n",
    "X_test = scaler.transform(X_test)"
   ]
  },
  {
   "cell_type": "markdown",
   "metadata": {
    "id": "3TWpN0nVTpUx"
   },
   "source": [
    "## Question 6"
   ]
  },
  {
   "cell_type": "markdown",
   "metadata": {
    "id": "_sj0LYNkhR-L"
   },
   "source": [
    "### Convert data to NumPy array\n",
    "- Convert features and labels to numpy array"
   ]
  },
  {
   "cell_type": "code",
   "execution_count": 21,
   "metadata": {
    "id": "X6mIfuTxhbTT"
   },
   "outputs": [],
   "source": [
    "y_train = np.array(y_train)\n",
    "y_test = np.array(y_test)"
   ]
  },
  {
   "cell_type": "markdown",
   "metadata": {
    "id": "wmXUGc2oTspa"
   },
   "source": [
    "## Question 7"
   ]
  },
  {
   "cell_type": "markdown",
   "metadata": {
    "id": "cl2M9whFh6mh"
   },
   "source": [
    "### Define Model\n",
    "- Initialize a Sequential model\n",
    "- Add a Flatten layer\n",
    "- Add a Dense layer with one neuron as output\n",
    "  - add 'linear' as activation function\n"
   ]
  },
  {
   "cell_type": "code",
   "execution_count": 22,
   "metadata": {
    "id": "TkiBpORmiegL"
   },
   "outputs": [],
   "source": [
    "# import tensor flow packages\n",
    "from tensorflow.keras.models import Sequential\n",
    "from tensorflow.keras.layers import Dense, Flatten, BatchNormalization, Dropout, Conv2D"
   ]
  },
  {
   "cell_type": "code",
   "execution_count": 23,
   "metadata": {
    "id": "FBbZ47jtzw8L"
   },
   "outputs": [],
   "source": [
    "model = Sequential ([Flatten(), Dense(1,activation='linear')])"
   ]
  },
  {
   "cell_type": "markdown",
   "metadata": {
    "id": "8a0wr94aTyjg"
   },
   "source": [
    "## Question 8"
   ]
  },
  {
   "cell_type": "markdown",
   "metadata": {
    "id": "BNZPb5lKioX0"
   },
   "source": [
    "### Compile the model\n",
    "- Compile the model\n",
    "- Use \"sgd\" optimizer\n",
    "- for calculating loss, use mean squared error"
   ]
  },
  {
   "cell_type": "code",
   "execution_count": 24,
   "metadata": {
    "id": "ZEQUP3VaiuT2"
   },
   "outputs": [],
   "source": [
    "model.compile(loss='mean_squared_error',optimizer='sgd')"
   ]
  },
  {
   "cell_type": "markdown",
   "metadata": {
    "id": "ZbBpnOtfT0wd"
   },
   "source": [
    "## Question 9"
   ]
  },
  {
   "cell_type": "markdown",
   "metadata": {
    "id": "n9o45OHdjDhA"
   },
   "source": [
    "### Fit the model\n",
    "- epochs: 50\n",
    "- batch size: 128\n",
    "- specify validation data"
   ]
  },
  {
   "cell_type": "code",
   "execution_count": 25,
   "metadata": {
    "colab": {
     "base_uri": "https://localhost:8080/"
    },
    "id": "-Y6tA30XjOH2",
    "outputId": "5bc5cb37-38ac-4bdb-ac5b-b65b1b2e5c5f"
   },
   "outputs": [
    {
     "name": "stdout",
     "output_type": "stream",
     "text": [
      "Epoch 1/50\n",
      "4988/4988 [==============================] - 6s 1ms/step - loss: 230.4160 - val_loss: 1.0079\n",
      "Epoch 2/50\n",
      "4988/4988 [==============================] - 6s 1ms/step - loss: 0.9922 - val_loss: 1.0000\n",
      "Epoch 3/50\n",
      "4988/4988 [==============================] - 5s 1ms/step - loss: 0.9482 - val_loss: 0.9963\n",
      "Epoch 4/50\n",
      "4988/4988 [==============================] - 6s 1ms/step - loss: 0.9611 - val_loss: 0.9885\n",
      "Epoch 5/50\n",
      "4988/4988 [==============================] - 6s 1ms/step - loss: 0.9466 - val_loss: 1.0051\n",
      "Epoch 6/50\n",
      "4988/4988 [==============================] - 6s 1ms/step - loss: 0.9206 - val_loss: 1.0007\n",
      "Epoch 7/50\n",
      "4988/4988 [==============================] - 6s 1ms/step - loss: 0.9295 - val_loss: 0.9925\n",
      "Epoch 8/50\n",
      "4988/4988 [==============================] - 6s 1ms/step - loss: 0.9167 - val_loss: 0.9795\n",
      "Epoch 9/50\n",
      "4988/4988 [==============================] - 6s 1ms/step - loss: 0.9036 - val_loss: 0.9497\n",
      "Epoch 10/50\n",
      "4988/4988 [==============================] - 6s 1ms/step - loss: 0.9528 - val_loss: 0.9429\n",
      "Epoch 11/50\n",
      "4988/4988 [==============================] - 6s 1ms/step - loss: 0.9124 - val_loss: 0.9557\n",
      "Epoch 12/50\n",
      "4988/4988 [==============================] - 6s 1ms/step - loss: 0.9524 - val_loss: 0.9320\n",
      "Epoch 13/50\n",
      "4988/4988 [==============================] - 6s 1ms/step - loss: 0.9034 - val_loss: 0.9410\n",
      "Epoch 14/50\n",
      "4988/4988 [==============================] - 6s 1ms/step - loss: 0.8602 - val_loss: 0.9440\n",
      "Epoch 15/50\n",
      "4988/4988 [==============================] - 6s 1ms/step - loss: 0.8826 - val_loss: 0.9127\n",
      "Epoch 16/50\n",
      "4988/4988 [==============================] - 6s 1ms/step - loss: 0.8744 - val_loss: 0.9137\n",
      "Epoch 17/50\n",
      "4988/4988 [==============================] - 6s 1ms/step - loss: 0.8665 - val_loss: 0.9102\n",
      "Epoch 18/50\n",
      "4988/4988 [==============================] - 6s 1ms/step - loss: 0.8612 - val_loss: 0.8922\n",
      "Epoch 19/50\n",
      "4988/4988 [==============================] - 7s 1ms/step - loss: 0.8736 - val_loss: 0.9068\n",
      "Epoch 20/50\n",
      "4988/4988 [==============================] - 6s 1ms/step - loss: 0.8524 - val_loss: 0.8814\n",
      "Epoch 21/50\n",
      "4988/4988 [==============================] - 6s 1ms/step - loss: 0.8277 - val_loss: 0.8747\n",
      "Epoch 22/50\n",
      "4988/4988 [==============================] - 6s 1ms/step - loss: 0.8525 - val_loss: 0.8687\n",
      "Epoch 23/50\n",
      "4988/4988 [==============================] - 6s 1ms/step - loss: 0.8245 - val_loss: 0.8634\n",
      "Epoch 24/50\n",
      "4988/4988 [==============================] - 6s 1ms/step - loss: 0.8264 - val_loss: 0.8622\n",
      "Epoch 25/50\n",
      "4988/4988 [==============================] - 6s 1ms/step - loss: 0.8065 - val_loss: 0.8509\n",
      "Epoch 26/50\n",
      "4988/4988 [==============================] - 6s 1ms/step - loss: 0.8215 - val_loss: 0.8585\n",
      "Epoch 27/50\n",
      "4988/4988 [==============================] - 6s 1ms/step - loss: 0.7942 - val_loss: 0.8659\n",
      "Epoch 28/50\n",
      "4988/4988 [==============================] - 6s 1ms/step - loss: 0.8005 - val_loss: 0.8499\n",
      "Epoch 29/50\n",
      "4988/4988 [==============================] - 6s 1ms/step - loss: 0.7965 - val_loss: 0.8298\n",
      "Epoch 30/50\n",
      "4988/4988 [==============================] - 6s 1ms/step - loss: 0.7863 - val_loss: 0.8271\n",
      "Epoch 31/50\n",
      "4988/4988 [==============================] - 6s 1ms/step - loss: 0.7890 - val_loss: 0.8255\n",
      "Epoch 32/50\n",
      "4988/4988 [==============================] - 5s 1ms/step - loss: 0.7885 - val_loss: 0.8176\n",
      "Epoch 33/50\n",
      "4988/4988 [==============================] - 6s 1ms/step - loss: 0.7746 - val_loss: 0.8134\n",
      "Epoch 34/50\n",
      "4988/4988 [==============================] - 6s 1ms/step - loss: 0.7676 - val_loss: 0.8239\n",
      "Epoch 35/50\n",
      "4988/4988 [==============================] - 6s 1ms/step - loss: 0.7588 - val_loss: 0.7990\n",
      "Epoch 36/50\n",
      "4988/4988 [==============================] - 6s 1ms/step - loss: 0.7838 - val_loss: 0.8246\n",
      "Epoch 37/50\n",
      "4988/4988 [==============================] - 6s 1ms/step - loss: 0.7718 - val_loss: 0.7934\n",
      "Epoch 38/50\n",
      "4988/4988 [==============================] - 6s 1ms/step - loss: 0.7536 - val_loss: 0.7867\n",
      "Epoch 39/50\n",
      "4988/4988 [==============================] - 6s 1ms/step - loss: 0.7549 - val_loss: 0.7803\n",
      "Epoch 40/50\n",
      "4988/4988 [==============================] - 6s 1ms/step - loss: 0.7454 - val_loss: 0.7765\n",
      "Epoch 41/50\n",
      "4988/4988 [==============================] - 6s 1ms/step - loss: 0.7440 - val_loss: 0.8060\n",
      "Epoch 42/50\n",
      "4988/4988 [==============================] - 6s 1ms/step - loss: 0.7269 - val_loss: 0.7805\n",
      "Epoch 43/50\n",
      "4988/4988 [==============================] - 6s 1ms/step - loss: 0.7332 - val_loss: 0.7669\n",
      "Epoch 44/50\n",
      "4988/4988 [==============================] - 5s 1ms/step - loss: 0.7203 - val_loss: 0.7591\n",
      "Epoch 45/50\n",
      "4988/4988 [==============================] - 6s 1ms/step - loss: 0.7301 - val_loss: 0.7539\n",
      "Epoch 46/50\n",
      "4988/4988 [==============================] - 6s 1ms/step - loss: 0.7251 - val_loss: 0.7535\n",
      "Epoch 47/50\n",
      "4988/4988 [==============================] - 5s 1ms/step - loss: 0.7234 - val_loss: 0.7568\n",
      "Epoch 48/50\n",
      "4988/4988 [==============================] - 6s 1ms/step - loss: 0.7066 - val_loss: 0.7411\n",
      "Epoch 49/50\n",
      "4988/4988 [==============================] - 6s 1ms/step - loss: 0.7082 - val_loss: 0.7500\n",
      "Epoch 50/50\n",
      "4988/4988 [==============================] - 6s 1ms/step - loss: 0.7136 - val_loss: 0.7335\n"
     ]
    },
    {
     "data": {
      "text/plain": [
       "<tensorflow.python.keras.callbacks.History at 0x7fd767ad2668>"
      ]
     },
     "execution_count": 25,
     "metadata": {
      "tags": []
     },
     "output_type": "execute_result"
    }
   ],
   "source": [
    "epoch = 50\n",
    "batchsize = 128\n",
    "model.fit(X_train,y_train,batch_size=batchsize,epochs=epoch, validation_data=(X_test,y_test))"
   ]
  },
  {
   "cell_type": "markdown",
   "metadata": {
    "id": "AW4SEP8kT2ls"
   },
   "source": [
    "## Question 10"
   ]
  },
  {
   "cell_type": "markdown",
   "metadata": {
    "id": "EJDoix_7JU61"
   },
   "source": [
    "### Evaluate the model\n",
    "- Evaluate the model on test data"
   ]
  },
  {
   "cell_type": "code",
   "execution_count": 26,
   "metadata": {
    "colab": {
     "base_uri": "https://localhost:8080/"
    },
    "id": "HdH8pYBIjHGL",
    "outputId": "958ef9ae-98ab-4c6d-f9ad-d380108c0e41"
   },
   "outputs": [
    {
     "name": "stdout",
     "output_type": "stream",
     "text": [
      "6651/6651 [==============================] - 5s 742us/step - loss: 0.7335\n"
     ]
    },
    {
     "data": {
      "text/plain": [
       "0.7334814667701721"
      ]
     },
     "execution_count": 26,
     "metadata": {
      "tags": []
     },
     "output_type": "execute_result"
    }
   ],
   "source": [
    "model.evaluate(X_test, y_test)"
   ]
  },
  {
   "cell_type": "markdown",
   "metadata": {
    "id": "hUpDD74Xjh01"
   },
   "source": [
    "### Manual predictions\n",
    "- Test the predictions on manual inputs\n",
    "- We have scaled out training data, so we need to transform our custom inputs using the object of the scaler\n",
    "- Example of manual input: [123.430000,\t122.30999, 116.250000]"
   ]
  },
  {
   "cell_type": "code",
   "execution_count": 27,
   "metadata": {
    "id": "fvuH-c31lLiJ"
   },
   "outputs": [],
   "source": [
    "y_pred = model.predict(scaler.transform([[123.430000, 122.30999, 116.250000]]))"
   ]
  },
  {
   "cell_type": "code",
   "execution_count": 28,
   "metadata": {
    "colab": {
     "base_uri": "https://localhost:8080/"
    },
    "id": "oBoCkMyN9nCX",
    "outputId": "78d899b4-6630-497b-b76a-7bfbcf88de17"
   },
   "outputs": [
    {
     "data": {
      "text/plain": [
       "array([[119.77585]], dtype=float32)"
      ]
     },
     "execution_count": 28,
     "metadata": {
      "tags": []
     },
     "output_type": "execute_result"
    }
   ],
   "source": [
    "y_pred"
   ]
  },
  {
   "cell_type": "markdown",
   "metadata": {
    "id": "4WH1Pr4KQlCh"
   },
   "source": [
    "# Build a DNN"
   ]
  },
  {
   "cell_type": "markdown",
   "metadata": {
    "id": "74cQBsi5QlCw"
   },
   "source": [
    "### Collect Fashion mnist data from tf.keras.datasets "
   ]
  },
  {
   "cell_type": "code",
   "execution_count": 93,
   "metadata": {
    "id": "wVWy0oDTr2Kj"
   },
   "outputs": [],
   "source": [
    "import tensorflow as tf"
   ]
  },
  {
   "cell_type": "code",
   "execution_count": 94,
   "metadata": {
    "id": "DAP1OTTtCZFS"
   },
   "outputs": [],
   "source": [
    "(XTrain, YTrain),(xtest,ytest) = tf.keras.datasets.fashion_mnist.load_data()"
   ]
  },
  {
   "cell_type": "markdown",
   "metadata": {
    "id": "no7aWYZyQlC1"
   },
   "source": [
    "### Change train and test labels into one-hot vectors"
   ]
  },
  {
   "cell_type": "code",
   "execution_count": 95,
   "metadata": {
    "id": "fT_IL4K6CYMT"
   },
   "outputs": [],
   "source": [
    "Y_Train = tf.keras.utils.to_categorical(YTrain)\n",
    "y_test = tf.keras.utils.to_categorical(ytest)"
   ]
  },
  {
   "cell_type": "markdown",
   "metadata": {
    "id": "QjNrRTdoQlC5"
   },
   "source": [
    "### Build the Graph"
   ]
  },
  {
   "cell_type": "markdown",
   "metadata": {
    "id": "CDJ9DHVNQlC7"
   },
   "source": [
    "### Initialize model, reshape & normalize data"
   ]
  },
  {
   "cell_type": "code",
   "execution_count": 96,
   "metadata": {
    "id": "pCDQs_g1QlC8"
   },
   "outputs": [],
   "source": [
    "#Lets normalize the data\n",
    "XTrain = XTrain/255\n",
    "xtest = xtest/255"
   ]
  },
  {
   "cell_type": "code",
   "execution_count": 97,
   "metadata": {
    "id": "S9k9ktlLEkj_"
   },
   "outputs": [],
   "source": [
    "#Lets create model...as part of model building we can reshape data\n",
    "model1 = Sequential()"
   ]
  },
  {
   "cell_type": "code",
   "execution_count": 98,
   "metadata": {
    "id": "fpCZfEO-EuCt"
   },
   "outputs": [],
   "source": [
    "model1.add(tf.keras.layers.Flatten(input_shape=(28,28)))\n",
    "model1.add(tf.keras.layers.BatchNormalization())\n"
   ]
  },
  {
   "cell_type": "markdown",
   "metadata": {
    "id": "kBGwTTilQlDD"
   },
   "source": [
    "### Add two fully connected layers with 200 and 100 neurons respectively with `relu` activations. Add a dropout layer with `p=0.25`"
   ]
  },
  {
   "cell_type": "code",
   "execution_count": 99,
   "metadata": {
    "id": "IXbfpfOzQlDF"
   },
   "outputs": [],
   "source": [
    "noofclasses = y_test.shape[1]\n",
    "model1.add(Dense(200, activation='relu', input_shape=(784,)))\n",
    "model1.add(Dense(100, activation='relu'))\n",
    "model1.add(Dropout(0.25))"
   ]
  },
  {
   "cell_type": "markdown",
   "metadata": {
    "id": "5I8f5otcQlDJ"
   },
   "source": [
    "### Add the output layer with a fully connected layer with 10 neurons with `softmax` activation. Use `categorical_crossentropy` loss and `adam` optimizer and train the network. And, report the final validation.\n",
    "\n",
    "###Also add callback, such that if validation loss doesn't decreases consecutively 2 times, stop the training"
   ]
  },
  {
   "cell_type": "code",
   "execution_count": 100,
   "metadata": {
    "id": "JZkvKymSd0Sr"
   },
   "outputs": [],
   "source": [
    "model1.add(Dense(noofclasses, activation='softmax'))"
   ]
  },
  {
   "cell_type": "markdown",
   "metadata": {
    "id": "k66ho5s7M-Cd"
   },
   "source": [
    "### Print model summary"
   ]
  },
  {
   "cell_type": "code",
   "execution_count": 101,
   "metadata": {
    "colab": {
     "base_uri": "https://localhost:8080/"
    },
    "id": "btS2EujPHXDY",
    "outputId": "211357de-6b4b-4711-8646-a51096add91d"
   },
   "outputs": [
    {
     "name": "stdout",
     "output_type": "stream",
     "text": [
      "Model: \"sequential_4\"\n",
      "_________________________________________________________________\n",
      "Layer (type)                 Output Shape              Param #   \n",
      "=================================================================\n",
      "flatten_4 (Flatten)          (None, 784)               0         \n",
      "_________________________________________________________________\n",
      "batch_normalization_2 (Batch (None, 784)               3136      \n",
      "_________________________________________________________________\n",
      "dense_10 (Dense)             (None, 200)               157000    \n",
      "_________________________________________________________________\n",
      "dense_11 (Dense)             (None, 100)               20100     \n",
      "_________________________________________________________________\n",
      "dropout_3 (Dropout)          (None, 100)               0         \n",
      "_________________________________________________________________\n",
      "dense_12 (Dense)             (None, 10)                1010      \n",
      "=================================================================\n",
      "Total params: 181,246\n",
      "Trainable params: 179,678\n",
      "Non-trainable params: 1,568\n",
      "_________________________________________________________________\n"
     ]
    }
   ],
   "source": [
    "model1.compile(loss='categorical_crossentropy', optimizer='adam', metrics=['accuracy'] , )\n",
    "model1.summary()"
   ]
  },
  {
   "cell_type": "code",
   "execution_count": 102,
   "metadata": {
    "id": "Dm-JtxFiHga3"
   },
   "outputs": [],
   "source": [
    "#Early stopping if validation error (val_acc) does not descreases 2 times consecutively\n",
    "from tensorflow.keras.callbacks import EarlyStopping\n",
    "stopEarly = EarlyStopping(monitor='val_loss', patience=2, verbose=1, mode='auto')\n",
    "callbackFuns = [stopEarly]\n",
    "epochs =10"
   ]
  },
  {
   "cell_type": "markdown",
   "metadata": {
    "id": "OI0K1ZzQNG1d"
   },
   "source": [
    "###Train your model, use test data as validation set"
   ]
  },
  {
   "cell_type": "code",
   "execution_count": 109,
   "metadata": {
    "colab": {
     "base_uri": "https://localhost:8080/"
    },
    "id": "PgimygCWJpR5",
    "outputId": "73e0bc90-e4b1-4bd0-a5db-4488a25e34ba"
   },
   "outputs": [
    {
     "name": "stdout",
     "output_type": "stream",
     "text": [
      "Epoch 1/10\n",
      "1875/1875 [==============================] - 9s 5ms/step - loss: 0.2712 - accuracy: 0.8977 - val_loss: 0.3352 - val_accuracy: 0.8861\n",
      "Epoch 2/10\n",
      "1875/1875 [==============================] - 9s 5ms/step - loss: 0.2594 - accuracy: 0.9012 - val_loss: 0.3405 - val_accuracy: 0.8837\n",
      "Epoch 3/10\n",
      "1875/1875 [==============================] - 9s 5ms/step - loss: 0.2502 - accuracy: 0.9047 - val_loss: 0.3329 - val_accuracy: 0.8863\n",
      "Epoch 4/10\n",
      "1875/1875 [==============================] - 9s 5ms/step - loss: 0.2404 - accuracy: 0.9076 - val_loss: 0.3458 - val_accuracy: 0.8855\n",
      "Epoch 5/10\n",
      "1875/1875 [==============================] - 8s 5ms/step - loss: 0.2331 - accuracy: 0.9118 - val_loss: 0.3429 - val_accuracy: 0.8868\n",
      "Epoch 00005: early stopping\n"
     ]
    }
   ],
   "source": [
    "history = model1.fit(XTrain, Y_Train, validation_data=(xtest, y_test), epochs=epochs, \n",
    "          batch_size=32 , callbacks=callbackFuns)"
   ]
  },
  {
   "cell_type": "markdown",
   "metadata": {
    "id": "2K2w_Oq5RzZx"
   },
   "source": [
    "###Predict Labels"
   ]
  },
  {
   "cell_type": "code",
   "execution_count": 110,
   "metadata": {
    "id": "UL76FU4lRz6n"
   },
   "outputs": [],
   "source": [
    "y_predict = np.argmax(model1.predict(xtest),axis=-1)"
   ]
  },
  {
   "cell_type": "markdown",
   "metadata": {
    "id": "BXPFIBBRR0mO"
   },
   "source": [
    "###Print Confusion matrix"
   ]
  },
  {
   "cell_type": "code",
   "execution_count": 111,
   "metadata": {
    "id": "hlR4qXJ7R3yT"
   },
   "outputs": [],
   "source": [
    "from sklearn.metrics import confusion_matrix"
   ]
  },
  {
   "cell_type": "code",
   "execution_count": 112,
   "metadata": {
    "colab": {
     "base_uri": "https://localhost:8080/"
    },
    "id": "WfZ8_1f2Nsil",
    "outputId": "2d5b2ff8-3c29-4284-d05d-76726d6d69b6"
   },
   "outputs": [
    {
     "data": {
      "text/plain": [
       "array([[897,   0,  12,  27,   2,   3,  54,   0,   5,   0],\n",
       "       [  2, 966,   0,  27,   2,   0,   2,   0,   1,   0],\n",
       "       [ 18,   1, 850,  15,  66,   0,  48,   0,   2,   0],\n",
       "       [ 24,   1,  12, 935,  16,   0,   8,   0,   4,   0],\n",
       "       [  1,   0, 115,  52, 777,   0,  51,   0,   4,   0],\n",
       "       [  0,   0,   0,   0,   0, 977,   0,  19,   0,   4],\n",
       "       [189,   0, 102,  30,  67,   0, 607,   0,   5,   0],\n",
       "       [  0,   0,   0,   0,   0,  26,   0, 957,   0,  17],\n",
       "       [  6,   0,   4,   5,   3,   4,   9,   4, 965,   0],\n",
       "       [  0,   0,   0,   0,   0,  12,   1,  50,   0, 937]])"
      ]
     },
     "execution_count": 112,
     "metadata": {
      "tags": []
     },
     "output_type": "execute_result"
    }
   ],
   "source": [
    "confusion_matrix(ytest, y_predict)"
   ]
  },
  {
   "cell_type": "markdown",
   "metadata": {
    "id": "-xMY7tsqR4Z6"
   },
   "source": [
    "###Plot training accuracy vs validation accuracy\n",
    "###Plot training loss vs validation loss"
   ]
  },
  {
   "cell_type": "code",
   "execution_count": 113,
   "metadata": {
    "colab": {
     "base_uri": "https://localhost:8080/",
     "height": 573
    },
    "id": "q3irwsgFR-Uu",
    "outputId": "f2402781-cff9-4c4a-f5c0-6b3700728ff7"
   },
   "outputs": [
    {
     "data": {
      "image/png": "[encoded data removed]",
      "text/plain": [
       "<Figure size 432x288 with 1 Axes>"
      ]
     },
     "metadata": {
      "needs_background": "light",
      "tags": []
     },
     "output_type": "display_data"
    },
    {
     "data": {
      "image/png": "[encoded data removed]",
      "text/plain": [
       "<Figure size 432x288 with 1 Axes>"
      ]
     },
     "metadata": {
      "needs_background": "light",
      "tags": []
     },
     "output_type": "display_data"
    }
   ],
   "source": [
    "import matplotlib.pyplot as plt\n",
    "\n",
    "plt.plot(history.history['accuracy'])\n",
    "plt.plot(history.history['val_accuracy'])\n",
    "plt.title('model accuracy')\n",
    "plt.ylabel('accuracy')\n",
    "plt.xlabel('epoch')\n",
    "plt.legend(['train', 'test'], loc='upper left')\n",
    "plt.show()\n",
    "# summarize history for loss\n",
    "plt.plot(history.history['loss'])\n",
    "plt.plot(history.history['val_loss'])\n",
    "plt.title('model loss')\n",
    "plt.ylabel('loss')\n",
    "plt.xlabel('epoch')\n",
    "plt.legend(['train', 'test'], loc='upper left')\n",
    "plt.show()\n"
   ]
  }
 ],
 "metadata": {
  "colab": {
   "collapsed_sections": [],
   "name": "Questions_Lab_on_NNDL.ipynb",
   "provenance": []
  },
  "kernelspec": {
   "display_name": "Python 3",
   "language": "python",
   "name": "python3"
  },
  "language_info": {
   "codemirror_mode": {
    "name": "ipython",
    "version": 3
   },
   "file_extension": ".py",
   "mimetype": "text/x-python",
   "name": "python",
   "nbconvert_exporter": "python",
   "pygments_lexer": "ipython3",
   "version": "3.7.4"
  }
 },
 "nbformat": 4,
 "nbformat_minor": 1
}
