{
 "cells": [
  {
   "cell_type": "code",
   "execution_count": 56,
   "metadata": {
    "colab": {
     "base_uri": "https://localhost:8080/"
    },
    "id": "A0snDvnW-JiA",
    "outputId": "d5471299-e3fe-4fd3-c67c-11b01c8ae477"
   },
   "outputs": [
    {
     "name": "stdout",
     "output_type": "stream",
     "text": [
      "Drive already mounted at /content/drive; to attempt to forcibly remount, call drive.mount(\"/content/drive\", force_remount=True).\n"
     ]
    }
   ],
   "source": [
    "from google.colab import drive\n",
    "drive.mount('/content/drive')"
   ]
  },
  {
   "cell_type": "code",
   "execution_count": 57,
   "metadata": {
    "id": "3mZKCr8YKh2o"
   },
   "outputs": [],
   "source": [
    "import pandas as pd\n",
    "import numpy as np\n",
    "import matplotlib.pyplot as plt\n",
    "import seaborn as sns"
   ]
  },
  {
   "cell_type": "code",
   "execution_count": 58,
   "metadata": {
    "id": "ff6vur_mLJNe"
   },
   "outputs": [],
   "source": [
    "import h5py"
   ]
  },
  {
   "cell_type": "code",
   "execution_count": 36,
   "metadata": {
    "id": "d0pLpTboNqIK"
   },
   "outputs": [],
   "source": [
    "#Read the data from the h5py file and understand the train/test splits\n",
    "\n",
    "#a) Read the data from the file...Open the file...kept in google drive"
   ]
  },
  {
   "cell_type": "code",
   "execution_count": 59,
   "metadata": {
    "id": "pHViU2lUKiii"
   },
   "outputs": [],
   "source": [
    "dataSets = h5py.File('/content/drive/MyDrive/LablFiles/SVHN_single_grey1.h5','r')"
   ]
  },
  {
   "cell_type": "code",
   "execution_count": 60,
   "metadata": {
    "colab": {
     "base_uri": "https://localhost:8080/"
    },
    "id": "epchKbvYKzYb",
    "outputId": "c9d9056a-32ca-4fa6-c82b-67f87cc39b5b"
   },
   "outputs": [
    {
     "data": {
      "text/plain": [
       "<KeysViewHDF5 ['X_test', 'X_train', 'X_val', 'y_test', 'y_train', 'y_val']>"
      ]
     },
     "execution_count": 60,
     "metadata": {
      "tags": []
     },
     "output_type": "execute_result"
    }
   ],
   "source": [
    "dataSets.keys()"
   ]
  },
  {
   "cell_type": "code",
   "execution_count": 7,
   "metadata": {
    "id": "o9G265gPLulX"
   },
   "outputs": [],
   "source": [
    "#Load the training, validation and test data sets"
   ]
  },
  {
   "cell_type": "code",
   "execution_count": 61,
   "metadata": {
    "id": "9NKulfvqNhSV"
   },
   "outputs": [],
   "source": [
    "X_train = dataSets['X_train'][:]\n",
    "y_train = dataSets['y_train'][:]\n",
    "X_test = dataSets['X_test'][:]\n",
    "y_test = dataSets['y_test'][:]"
   ]
  },
  {
   "cell_type": "code",
   "execution_count": 62,
   "metadata": {
    "colab": {
     "base_uri": "https://localhost:8080/"
    },
    "id": "4D6VQN4rOP5Q",
    "outputId": "ee86ffa1-2974-4b4d-a2d4-79d4295215f5"
   },
   "outputs": [
    {
     "data": {
      "text/plain": [
       "(42000, 32, 32)"
      ]
     },
     "execution_count": 62,
     "metadata": {
      "tags": []
     },
     "output_type": "execute_result"
    }
   ],
   "source": [
    "X_train.shape"
   ]
  },
  {
   "cell_type": "code",
   "execution_count": 64,
   "metadata": {
    "colab": {
     "base_uri": "https://localhost:8080/"
    },
    "id": "LNhSVdX0PWFu",
    "outputId": "e878469d-56df-41ce-e4f3-b3f99963f9cc"
   },
   "outputs": [
    {
     "data": {
      "text/plain": [
       "(18000, 32, 32)"
      ]
     },
     "execution_count": 64,
     "metadata": {
      "tags": []
     },
     "output_type": "execute_result"
    }
   ],
   "source": [
    "X_test.shape"
   ]
  },
  {
   "cell_type": "code",
   "execution_count": 12,
   "metadata": {
    "id": "A2bMJKGuSB4V"
   },
   "outputs": [],
   "source": [
    "#b) Lets understand train/test split based on shape of each data set"
   ]
  },
  {
   "cell_type": "markdown",
   "metadata": {
    "id": "DKAi46GsSt_r"
   },
   "source": [
    "No of records in training data set   = 42000 ;\n",
    "No of records in test data set       = 18000\n",
    "\n",
    "Total no of records the file = 60,000\n",
    "\n",
    "Train:Test ratio is 70:30 "
   ]
  },
  {
   "cell_type": "code",
   "execution_count": 65,
   "metadata": {
    "id": "WFFXUyU5Z5Xi"
   },
   "outputs": [],
   "source": [
    "dataSets.close()"
   ]
  },
  {
   "cell_type": "code",
   "execution_count": 66,
   "metadata": {
    "id": "AlPPtQAYIlQT"
   },
   "outputs": [],
   "source": [
    "import tensorflow as tf"
   ]
  },
  {
   "cell_type": "code",
   "execution_count": 67,
   "metadata": {
    "id": "6eWam4kLHPvJ"
   },
   "outputs": [],
   "source": [
    "# One hot encode the labels for train and test data"
   ]
  },
  {
   "cell_type": "code",
   "execution_count": 68,
   "metadata": {
    "id": "8QLIJRaiHe_u"
   },
   "outputs": [],
   "source": [
    "yTrain = tf.keras.utils.to_categorical(y_train)\n",
    "ytest = tf.keras.utils.to_categorical(y_test)"
   ]
  },
  {
   "cell_type": "code",
   "execution_count": 69,
   "metadata": {
    "colab": {
     "base_uri": "https://localhost:8080/"
    },
    "id": "7_-UxjygMEqS",
    "outputId": "50a7bc07-9c40-43b1-81aa-6a1158e51f6b"
   },
   "outputs": [
    {
     "name": "stdout",
     "output_type": "stream",
     "text": [
      "10\n"
     ]
    }
   ],
   "source": [
    "NoOfClasses = ytest.shape[1]\n",
    "print(NoOfClasses)"
   ]
  },
  {
   "cell_type": "code",
   "execution_count": 70,
   "metadata": {
    "id": "_iarH-GpIiob"
   },
   "outputs": [],
   "source": [
    "# Reshape and normalize the train and test features...this will be done as part of model creation\n",
    "# Define the model architecture using TensorFlow with a flatten layer followed by dense layers with activation as ReLu and softmax\n",
    "\n",
    "#Above two steps are completed as below"
   ]
  },
  {
   "cell_type": "code",
   "execution_count": 129,
   "metadata": {
    "id": "ONjtFbeHJW1O"
   },
   "outputs": [],
   "source": [
    "#Lets import libraries\n",
    "from tensorflow.keras.models import Sequential\n",
    "from tensorflow.keras.layers import Dense, Flatten, BatchNormalization, Dropout"
   ]
  },
  {
   "cell_type": "code",
   "execution_count": 145,
   "metadata": {
    "id": "ScPLJM5jKHNA"
   },
   "outputs": [],
   "source": [
    "# Initialise Sequential model\n",
    "model = Sequential()"
   ]
  },
  {
   "cell_type": "code",
   "execution_count": 146,
   "metadata": {
    "id": "0B-Q71T3KWpB"
   },
   "outputs": [],
   "source": [
    "# Add layer to Reshape data\n",
    "model.add(tf.keras.layers.Flatten(input_shape=(32,32)))       # this will covert 32X32 matrix to single array of 1024 elements\n",
    "# Add layer to normalise the data\n",
    "model.add(tf.keras.layers.BatchNormalization())               #Data normalisation\n",
    "# Add layers to create dense model\n",
    "model.add(Dense(200,activation='relu',input_shape=(1024,)))     #Nueral network layer with 200 nuerons\n",
    "model.add(Dense(400,activation='relu'))                       #Nueral network layer with 100 nuerons\n",
    "model.add(Dense(NoOfClasses,activation='softmax'))            #Output layer...with 10 outputs...each output representing one digit\n"
   ]
  },
  {
   "cell_type": "code",
   "execution_count": 132,
   "metadata": {
    "id": "jZkvmIUgPtuZ"
   },
   "outputs": [],
   "source": [
    "# Compile the model with loss as categorical cross-entropy and adam optimizers. Use accuracy as the metric for evaluation"
   ]
  },
  {
   "cell_type": "code",
   "execution_count": 147,
   "metadata": {
    "colab": {
     "base_uri": "https://localhost:8080/"
    },
    "id": "tg6OGR4fLLX0",
    "outputId": "c2336868-9099-43c6-fe58-6817428f6002"
   },
   "outputs": [
    {
     "name": "stdout",
     "output_type": "stream",
     "text": [
      "Model: \"sequential_7\"\n",
      "_________________________________________________________________\n",
      "Layer (type)                 Output Shape              Param #   \n",
      "=================================================================\n",
      "flatten_8 (Flatten)          (None, 1024)              0         \n",
      "_________________________________________________________________\n",
      "batch_normalization_8 (Batch (None, 1024)              4096      \n",
      "_________________________________________________________________\n",
      "dense_23 (Dense)             (None, 200)               205000    \n",
      "_________________________________________________________________\n",
      "dense_24 (Dense)             (None, 400)               80400     \n",
      "_________________________________________________________________\n",
      "dense_25 (Dense)             (None, 10)                4010      \n",
      "=================================================================\n",
      "Total params: 293,506\n",
      "Trainable params: 291,458\n",
      "Non-trainable params: 2,048\n",
      "_________________________________________________________________\n"
     ]
    }
   ],
   "source": [
    "model.compile(optimizer='adam',loss='categorical_crossentropy',metrics=['accuracy'])\n",
    "model.summary()"
   ]
  },
  {
   "cell_type": "code",
   "execution_count": 148,
   "metadata": {
    "id": "JXLgyEjGLMXi"
   },
   "outputs": [],
   "source": [
    "# fit the model...also lets use callback for EarlyStopping\n",
    "from tensorflow.keras.callbacks import EarlyStopping\n",
    " # Early stopping if validation loss does descrases 3 times consecutively\n",
    "stopEarly = EarlyStopping(monitor='val_loss',patience=3,verbose=1,mode='auto')\n",
    "callbackFuns = [stopEarly]\n",
    "BatchSize=300\n",
    "epochs = 30"
   ]
  },
  {
   "cell_type": "code",
   "execution_count": 149,
   "metadata": {
    "colab": {
     "base_uri": "https://localhost:8080/"
    },
    "id": "JRpko3mwSB8r",
    "outputId": "9a209ca6-fa16-4322-f51a-dd71290d6406"
   },
   "outputs": [
    {
     "name": "stdout",
     "output_type": "stream",
     "text": [
      "Epoch 1/30\n",
      "140/140 [==============================] - 3s 19ms/step - loss: 1.7479 - accuracy: 0.4161 - val_loss: 0.9675 - val_accuracy: 0.7102\n",
      "Epoch 2/30\n",
      "140/140 [==============================] - 2s 17ms/step - loss: 0.8574 - accuracy: 0.7360 - val_loss: 0.7490 - val_accuracy: 0.7790\n",
      "Epoch 3/30\n",
      "140/140 [==============================] - 2s 17ms/step - loss: 0.6910 - accuracy: 0.7943 - val_loss: 0.7020 - val_accuracy: 0.7937\n",
      "Epoch 4/30\n",
      "140/140 [==============================] - 2s 17ms/step - loss: 0.6022 - accuracy: 0.8162 - val_loss: 0.6829 - val_accuracy: 0.8013\n",
      "Epoch 5/30\n",
      "140/140 [==============================] - 2s 17ms/step - loss: 0.5547 - accuracy: 0.8322 - val_loss: 0.6242 - val_accuracy: 0.8216\n",
      "Epoch 6/30\n",
      "140/140 [==============================] - 2s 18ms/step - loss: 0.4896 - accuracy: 0.8500 - val_loss: 0.6106 - val_accuracy: 0.8263\n",
      "Epoch 7/30\n",
      "140/140 [==============================] - 2s 17ms/step - loss: 0.4485 - accuracy: 0.8628 - val_loss: 0.6068 - val_accuracy: 0.8268\n",
      "Epoch 8/30\n",
      "140/140 [==============================] - 2s 17ms/step - loss: 0.4289 - accuracy: 0.8699 - val_loss: 0.6009 - val_accuracy: 0.8306\n",
      "Epoch 9/30\n",
      "140/140 [==============================] - 2s 18ms/step - loss: 0.4252 - accuracy: 0.8703 - val_loss: 0.6295 - val_accuracy: 0.8258\n",
      "Epoch 10/30\n",
      "140/140 [==============================] - 2s 18ms/step - loss: 0.3793 - accuracy: 0.8835 - val_loss: 0.5900 - val_accuracy: 0.8368\n",
      "Epoch 11/30\n",
      "140/140 [==============================] - 2s 18ms/step - loss: 0.3472 - accuracy: 0.8934 - val_loss: 0.5951 - val_accuracy: 0.8391\n",
      "Epoch 12/30\n",
      "140/140 [==============================] - 2s 18ms/step - loss: 0.3405 - accuracy: 0.8945 - val_loss: 0.5974 - val_accuracy: 0.8403\n",
      "Epoch 13/30\n",
      "140/140 [==============================] - 2s 18ms/step - loss: 0.3083 - accuracy: 0.9026 - val_loss: 0.5953 - val_accuracy: 0.8413\n",
      "Epoch 00013: early stopping\n"
     ]
    }
   ],
   "source": [
    "#fit the model\n",
    "history = model.fit(X_train,yTrain,validation_data=(X_test,ytest),epochs=epochs,batch_size=BatchSize,callbacks=callbackFuns)"
   ]
  },
  {
   "cell_type": "code",
   "execution_count": 150,
   "metadata": {
    "colab": {
     "base_uri": "https://localhost:8080/"
    },
    "id": "T_HhSNrYUAVk",
    "outputId": "6d237df0-f385-4e2b-8e30-6d3b5bc98d74"
   },
   "outputs": [
    {
     "name": "stdout",
     "output_type": "stream",
     "text": [
      "563/563 [==============================] - 1s 2ms/step - loss: 0.5953 - accuracy: 0.8413\n",
      "\\ n loss: 0.595318615436554\n",
      "\\ n accuracy: 0.8412777781486511\n"
     ]
    }
   ],
   "source": [
    "#Evaluate model\n",
    "scores = model.evaluate(X_test, ytest) \n",
    "\n",
    "print('\\ n loss:', scores[0]) \n",
    "\n",
    "print('\\ n accuracy:', scores[1])"
   ]
  },
  {
   "cell_type": "code",
   "execution_count": 151,
   "metadata": {
    "id": "qUpts-mbUdJC"
   },
   "outputs": [],
   "source": [
    "y_predict = np.argmax(model.predict(X_test),axis=-1)"
   ]
  },
  {
   "cell_type": "code",
   "execution_count": 152,
   "metadata": {
    "id": "g5Wbg_-wUqj_"
   },
   "outputs": [],
   "source": [
    "from sklearn.metrics import confusion_matrix"
   ]
  },
  {
   "cell_type": "code",
   "execution_count": 153,
   "metadata": {
    "colab": {
     "base_uri": "https://localhost:8080/"
    },
    "id": "akHGcJVmUw_B",
    "outputId": "4e4840b4-6d1f-4aba-f43f-6a50bde265f9"
   },
   "outputs": [
    {
     "name": "stdout",
     "output_type": "stream",
     "text": [
      "[[1559   21   17   18   29   14   45   15   30   57]\n",
      " [  48 1622   39   58   60   21   30   86   54   41]\n",
      " [   5   29 1517   35   34   19   17   28   22   31]\n",
      " [  22   29   33 1354   20   85   32   19   38   28]\n",
      " [  12   26   21   13 1535    3   17    7    8   11]\n",
      " [   8    5   12   89    6 1449   47   11   27   43]\n",
      " [  27   16    7   16   44   66 1521    8   69   13]\n",
      " [  20   38   56   36   14   12    7 1593   12   30]\n",
      " [  29   27   36   57   29   46   83   13 1492   49]\n",
      " [  84   15   65   43   41   53   33   28   60 1501]]\n"
     ]
    }
   ],
   "source": [
    "print(confusion_matrix(y_predict,y_test))"
   ]
  },
  {
   "cell_type": "code",
   "execution_count": 140,
   "metadata": {
    "id": "Y2jXkp5inhN6"
   },
   "outputs": [],
   "source": [
    "#Print the loss and accuracy for the test data"
   ]
  },
  {
   "cell_type": "code",
   "execution_count": 154,
   "metadata": {
    "colab": {
     "base_uri": "https://localhost:8080/",
     "height": 573
    },
    "id": "wiAZ7ajDU6oo",
    "outputId": "99d769e8-65de-4eb9-dfd7-1c40fda1f087"
   },
   "outputs": [
    {
     "data": {
      "image/png": "[encoded data removed]",
      "text/plain": [
       "<Figure size 432x288 with 1 Axes>"
      ]
     },
     "metadata": {
      "needs_background": "light",
      "tags": []
     },
     "output_type": "display_data"
    },
    {
     "data": {
      "image/png": "[encoded data removed]",
      "text/plain": [
       "<Figure size 432x288 with 1 Axes>"
      ]
     },
     "metadata": {
      "needs_background": "light",
      "tags": []
     },
     "output_type": "display_data"
    }
   ],
   "source": [
    "import matplotlib.pyplot as plt\n",
    "\n",
    "plt.plot(history.history['accuracy'])\n",
    "plt.plot(history.history['val_accuracy'])\n",
    "plt.title('Model Accuracy')\n",
    "plt.ylabel('Accuracy')\n",
    "plt.xlabel('Epochs')\n",
    "plt.legend(['train', 'test'], loc='upper left')\n",
    "plt.show()\n",
    "# summarize history for loss\n",
    "plt.plot(history.history['loss'])\n",
    "plt.plot(history.history['val_loss'])\n",
    "plt.title('Model Loss')\n",
    "plt.ylabel('Loss')\n",
    "plt.xlabel('Epochs')\n",
    "plt.legend(['train', 'test'], loc='upper left')\n",
    "plt.show()"
   ]
  },
  {
   "cell_type": "code",
   "execution_count": 155,
   "metadata": {
    "colab": {
     "base_uri": "https://localhost:8080/"
    },
    "id": "dtpgIvm3tFb5",
    "outputId": "307cec0f-644e-4a14-a410-4f62129e16f4"
   },
   "outputs": [
    {
     "name": "stdout",
     "output_type": "stream",
     "text": [
      "Model: \"sequential_8\"\n",
      "_________________________________________________________________\n",
      "Layer (type)                 Output Shape              Param #   \n",
      "=================================================================\n",
      "flatten_9 (Flatten)          (None, 1024)              0         \n",
      "_________________________________________________________________\n",
      "batch_normalization_9 (Batch (None, 1024)              4096      \n",
      "_________________________________________________________________\n",
      "dense_26 (Dense)             (None, 200)               205000    \n",
      "_________________________________________________________________\n",
      "dense_27 (Dense)             (None, 400)               80400     \n",
      "_________________________________________________________________\n",
      "dense_28 (Dense)             (None, 10)                4010      \n",
      "=================================================================\n",
      "Total params: 293,506\n",
      "Trainable params: 291,458\n",
      "Non-trainable params: 2,048\n",
      "_________________________________________________________________\n"
     ]
    }
   ],
   "source": [
    "#Lets fit model without call back and see result\n",
    "# Initialise Sequential model\n",
    "model = Sequential()\n",
    "\n",
    "# Add layer to Reshape data\n",
    "model.add(tf.keras.layers.Flatten(input_shape=(32,32)))       # this will covert 32X32 matrix to single array of 1024 elements\n",
    "# Add layer to normalise the data\n",
    "model.add(tf.keras.layers.BatchNormalization())               #Data normalisation\n",
    "# Add layers to create dense model\n",
    "model.add(Dense(200,activation='relu',input_shape=(1024,)))     #Nueral network layer with 200 nuerons\n",
    "model.add(Dense(400,activation='relu'))                       #Nueral network layer with 100 nuerons\n",
    "model.add(Dense(NoOfClasses,activation='softmax'))            #Output layer...with 10 outputs...each output representing one digit\n",
    "\n",
    "model.compile(optimizer='adam',loss='categorical_crossentropy',metrics=['accuracy'])\n",
    "model.summary()\n",
    "BatchSize=300\n",
    "epochs = 30"
   ]
  },
  {
   "cell_type": "code",
   "execution_count": 156,
   "metadata": {
    "colab": {
     "base_uri": "https://localhost:8080/"
    },
    "id": "2x8N4XA4tLoC",
    "outputId": "5a71bfd3-0d48-495b-a383-81f288cda5cf"
   },
   "outputs": [
    {
     "name": "stdout",
     "output_type": "stream",
     "text": [
      "Epoch 1/30\n",
      "140/140 [==============================] - 3s 18ms/step - loss: 1.7424 - accuracy: 0.4141 - val_loss: 0.9784 - val_accuracy: 0.6995\n",
      "Epoch 2/30\n",
      "140/140 [==============================] - 2s 17ms/step - loss: 0.8759 - accuracy: 0.7283 - val_loss: 0.7953 - val_accuracy: 0.7625\n",
      "Epoch 3/30\n",
      "140/140 [==============================] - 2s 18ms/step - loss: 0.7105 - accuracy: 0.7818 - val_loss: 0.7209 - val_accuracy: 0.7898\n",
      "Epoch 4/30\n",
      "140/140 [==============================] - 2s 17ms/step - loss: 0.6234 - accuracy: 0.8122 - val_loss: 0.6863 - val_accuracy: 0.7974\n",
      "Epoch 5/30\n",
      "140/140 [==============================] - 2s 17ms/step - loss: 0.5579 - accuracy: 0.8258 - val_loss: 0.6473 - val_accuracy: 0.8144\n",
      "Epoch 6/30\n",
      "140/140 [==============================] - 2s 18ms/step - loss: 0.4912 - accuracy: 0.8512 - val_loss: 0.6146 - val_accuracy: 0.8256\n",
      "Epoch 7/30\n",
      "140/140 [==============================] - 2s 17ms/step - loss: 0.4658 - accuracy: 0.8572 - val_loss: 0.5944 - val_accuracy: 0.8356\n",
      "Epoch 8/30\n",
      "140/140 [==============================] - 2s 17ms/step - loss: 0.4241 - accuracy: 0.8693 - val_loss: 0.6183 - val_accuracy: 0.8289\n",
      "Epoch 9/30\n",
      "140/140 [==============================] - 2s 17ms/step - loss: 0.4160 - accuracy: 0.8734 - val_loss: 0.6058 - val_accuracy: 0.8308\n",
      "Epoch 10/30\n",
      "140/140 [==============================] - 2s 17ms/step - loss: 0.3824 - accuracy: 0.8827 - val_loss: 0.5956 - val_accuracy: 0.8382\n",
      "Epoch 11/30\n",
      "140/140 [==============================] - 2s 17ms/step - loss: 0.3686 - accuracy: 0.8855 - val_loss: 0.6097 - val_accuracy: 0.8398\n",
      "Epoch 12/30\n",
      "140/140 [==============================] - 2s 17ms/step - loss: 0.3353 - accuracy: 0.8974 - val_loss: 0.6242 - val_accuracy: 0.8323\n",
      "Epoch 13/30\n",
      "140/140 [==============================] - 3s 18ms/step - loss: 0.3250 - accuracy: 0.8989 - val_loss: 0.6337 - val_accuracy: 0.8311\n",
      "Epoch 14/30\n",
      "140/140 [==============================] - 2s 17ms/step - loss: 0.2966 - accuracy: 0.9089 - val_loss: 0.6098 - val_accuracy: 0.8427\n",
      "Epoch 15/30\n",
      "140/140 [==============================] - 2s 18ms/step - loss: 0.2810 - accuracy: 0.9140 - val_loss: 0.6209 - val_accuracy: 0.8413\n",
      "Epoch 16/30\n",
      "140/140 [==============================] - 2s 17ms/step - loss: 0.2640 - accuracy: 0.9180 - val_loss: 0.6221 - val_accuracy: 0.8417\n",
      "Epoch 17/30\n",
      "140/140 [==============================] - 2s 17ms/step - loss: 0.2570 - accuracy: 0.9208 - val_loss: 0.6443 - val_accuracy: 0.8422\n",
      "Epoch 18/30\n",
      "140/140 [==============================] - 2s 18ms/step - loss: 0.2404 - accuracy: 0.9259 - val_loss: 0.6590 - val_accuracy: 0.8378\n",
      "Epoch 19/30\n",
      "140/140 [==============================] - 2s 18ms/step - loss: 0.2285 - accuracy: 0.9290 - val_loss: 0.6562 - val_accuracy: 0.8456\n",
      "Epoch 20/30\n",
      "140/140 [==============================] - 2s 18ms/step - loss: 0.2157 - accuracy: 0.9334 - val_loss: 0.6832 - val_accuracy: 0.8389\n",
      "Epoch 21/30\n",
      "140/140 [==============================] - 2s 18ms/step - loss: 0.2234 - accuracy: 0.9286 - val_loss: 0.6927 - val_accuracy: 0.8413\n",
      "Epoch 22/30\n",
      "140/140 [==============================] - 2s 17ms/step - loss: 0.1978 - accuracy: 0.9379 - val_loss: 0.6841 - val_accuracy: 0.8417\n",
      "Epoch 23/30\n",
      "140/140 [==============================] - 2s 18ms/step - loss: 0.1865 - accuracy: 0.9403 - val_loss: 0.7082 - val_accuracy: 0.8428\n",
      "Epoch 24/30\n",
      "140/140 [==============================] - 2s 18ms/step - loss: 0.1952 - accuracy: 0.9377 - val_loss: 0.6942 - val_accuracy: 0.8461\n",
      "Epoch 25/30\n",
      "140/140 [==============================] - 2s 18ms/step - loss: 0.1766 - accuracy: 0.9422 - val_loss: 0.7097 - val_accuracy: 0.8449\n",
      "Epoch 26/30\n",
      "140/140 [==============================] - 2s 17ms/step - loss: 0.1706 - accuracy: 0.9432 - val_loss: 0.7429 - val_accuracy: 0.8427\n",
      "Epoch 27/30\n",
      "140/140 [==============================] - 2s 17ms/step - loss: 0.1652 - accuracy: 0.9489 - val_loss: 0.7778 - val_accuracy: 0.8348\n",
      "Epoch 28/30\n",
      "140/140 [==============================] - 3s 18ms/step - loss: 0.1652 - accuracy: 0.9465 - val_loss: 0.7395 - val_accuracy: 0.8466\n",
      "Epoch 29/30\n",
      "140/140 [==============================] - 3s 18ms/step - loss: 0.1415 - accuracy: 0.9551 - val_loss: 0.7545 - val_accuracy: 0.8432\n",
      "Epoch 30/30\n",
      "140/140 [==============================] - 3s 19ms/step - loss: 0.1350 - accuracy: 0.9557 - val_loss: 0.7723 - val_accuracy: 0.8449\n"
     ]
    }
   ],
   "source": [
    "history1 = model.fit(X_train,yTrain,validation_data=(X_test,ytest),epochs=epochs,batch_size=BatchSize)"
   ]
  },
  {
   "cell_type": "code",
   "execution_count": 157,
   "metadata": {
    "colab": {
     "base_uri": "https://localhost:8080/"
    },
    "id": "3zH4_SB6tmO8",
    "outputId": "ac5c7f6d-a757-4f00-801e-8c1a8c7d9ee3"
   },
   "outputs": [
    {
     "name": "stdout",
     "output_type": "stream",
     "text": [
      "563/563 [==============================] - 1s 2ms/step - loss: 0.7723 - accuracy: 0.8449\n",
      "\\ n loss: 0.7723431587219238\n",
      "\\ n accuracy: 0.844944417476654\n"
     ]
    }
   ],
   "source": [
    "#Evaluate model\n",
    "scores = model.evaluate(X_test, ytest) \n",
    "\n",
    "print('\\ n loss:', scores[0]) \n",
    "\n",
    "print('\\ n accuracy:', scores[1])"
   ]
  }
 ],
 "metadata": {
  "colab": {
   "collapsed_sections": [],
   "name": "pgp-aiml-feb20-ANN_Project_2.ipynb",
   "provenance": []
  },
  "kernelspec": {
   "display_name": "Python 3",
   "language": "python",
   "name": "python3"
  },
  "language_info": {
   "codemirror_mode": {
    "name": "ipython",
    "version": 3
   },
   "file_extension": ".py",
   "mimetype": "text/x-python",
   "name": "python",
   "nbconvert_exporter": "python",
   "pygments_lexer": "ipython3",
   "version": "3.6.5"
  }
 },
 "nbformat": 4,
 "nbformat_minor": 1
}
