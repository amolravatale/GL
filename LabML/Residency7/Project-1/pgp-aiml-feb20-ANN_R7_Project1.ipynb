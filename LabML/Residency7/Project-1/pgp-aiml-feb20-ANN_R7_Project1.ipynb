{
  "nbformat": 4,
  "nbformat_minor": 0,
  "metadata": {
    "kernelspec": {
      "display_name": "Python 3",
      "language": "python",
      "name": "python3"
    },
    "language_info": {
      "codemirror_mode": {
        "name": "ipython",
        "version": 3
      },
      "file_extension": ".py",
      "mimetype": "text/x-python",
      "name": "python",
      "nbconvert_exporter": "python",
      "pygments_lexer": "ipython3",
      "version": "3.6.5"
    },
    "colab": {
      "name": "Untitled.ipynb",
      "provenance": []
    }
  },
  "cells": [
    {
      "cell_type": "code",
      "metadata": {
        "colab": {
          "base_uri": "https://localhost:8080/"
        },
        "id": "88Oi2ggDkmfu",
        "outputId": "b98d9644-1e02-4aec-c0f7-8ef6156690cb"
      },
      "source": [
        "from google.colab import drive\r\n",
        "drive.mount('/content/drive')"
      ],
      "execution_count": 1,
      "outputs": [
        {
          "output_type": "stream",
          "text": [
            "Mounted at /content/drive\n"
          ],
          "name": "stdout"
        }
      ]
    },
    {
      "cell_type": "code",
      "metadata": {
        "id": "l2ZccoMVkkJ0"
      },
      "source": [
        "import pandas as pd\n",
        "import numpy as np\n",
        "import matplotlib.pyplot as plt\n",
        "import seaborn as sns"
      ],
      "execution_count": 2,
      "outputs": []
    },
    {
      "cell_type": "code",
      "metadata": {
        "id": "sdbA5OqCkkJ3"
      },
      "source": [
        "dfBank = pd.read_csv(\"/content/drive/MyDrive/LablFiles/Churn.csv\")"
      ],
      "execution_count": 3,
      "outputs": []
    },
    {
      "cell_type": "code",
      "metadata": {
        "colab": {
          "base_uri": "https://localhost:8080/",
          "height": 224
        },
        "id": "lZVF6MnpkkJ4",
        "outputId": "f0350e1a-0ea7-4d76-aabc-7673d11fd86b"
      },
      "source": [
        "dfBank.head()"
      ],
      "execution_count": 4,
      "outputs": [
        {
          "output_type": "execute_result",
          "data": {
            "text/html": [
              "<div>\n",
              "<style scoped>\n",
              "    .dataframe tbody tr th:only-of-type {\n",
              "        vertical-align: middle;\n",
              "    }\n",
              "\n",
              "    .dataframe tbody tr th {\n",
              "        vertical-align: top;\n",
              "    }\n",
              "\n",
              "    .dataframe thead th {\n",
              "        text-align: right;\n",
              "    }\n",
              "</style>\n",
              "<table border=\"1\" class=\"dataframe\">\n",
              "  <thead>\n",
              "    <tr style=\"text-align: right;\">\n",
              "      <th></th>\n",
              "      <th>RowNumber</th>\n",
              "      <th>CustomerId</th>\n",
              "      <th>Surname</th>\n",
              "      <th>CreditScore</th>\n",
              "      <th>Geography</th>\n",
              "      <th>Gender</th>\n",
              "      <th>Age</th>\n",
              "      <th>Tenure</th>\n",
              "      <th>Balance</th>\n",
              "      <th>NumOfProducts</th>\n",
              "      <th>HasCrCard</th>\n",
              "      <th>IsActiveMember</th>\n",
              "      <th>EstimatedSalary</th>\n",
              "      <th>Exited</th>\n",
              "    </tr>\n",
              "  </thead>\n",
              "  <tbody>\n",
              "    <tr>\n",
              "      <th>0</th>\n",
              "      <td>1</td>\n",
              "      <td>15634602</td>\n",
              "      <td>Hargrave</td>\n",
              "      <td>619</td>\n",
              "      <td>France</td>\n",
              "      <td>Female</td>\n",
              "      <td>42</td>\n",
              "      <td>2</td>\n",
              "      <td>0.00</td>\n",
              "      <td>1</td>\n",
              "      <td>1</td>\n",
              "      <td>1</td>\n",
              "      <td>101348.88</td>\n",
              "      <td>1</td>\n",
              "    </tr>\n",
              "    <tr>\n",
              "      <th>1</th>\n",
              "      <td>2</td>\n",
              "      <td>15647311</td>\n",
              "      <td>Hill</td>\n",
              "      <td>608</td>\n",
              "      <td>Spain</td>\n",
              "      <td>Female</td>\n",
              "      <td>41</td>\n",
              "      <td>1</td>\n",
              "      <td>83807.86</td>\n",
              "      <td>1</td>\n",
              "      <td>0</td>\n",
              "      <td>1</td>\n",
              "      <td>112542.58</td>\n",
              "      <td>0</td>\n",
              "    </tr>\n",
              "    <tr>\n",
              "      <th>2</th>\n",
              "      <td>3</td>\n",
              "      <td>15619304</td>\n",
              "      <td>Onio</td>\n",
              "      <td>502</td>\n",
              "      <td>France</td>\n",
              "      <td>Female</td>\n",
              "      <td>42</td>\n",
              "      <td>8</td>\n",
              "      <td>159660.80</td>\n",
              "      <td>3</td>\n",
              "      <td>1</td>\n",
              "      <td>0</td>\n",
              "      <td>113931.57</td>\n",
              "      <td>1</td>\n",
              "    </tr>\n",
              "    <tr>\n",
              "      <th>3</th>\n",
              "      <td>4</td>\n",
              "      <td>15701354</td>\n",
              "      <td>Boni</td>\n",
              "      <td>699</td>\n",
              "      <td>France</td>\n",
              "      <td>Female</td>\n",
              "      <td>39</td>\n",
              "      <td>1</td>\n",
              "      <td>0.00</td>\n",
              "      <td>2</td>\n",
              "      <td>0</td>\n",
              "      <td>0</td>\n",
              "      <td>93826.63</td>\n",
              "      <td>0</td>\n",
              "    </tr>\n",
              "    <tr>\n",
              "      <th>4</th>\n",
              "      <td>5</td>\n",
              "      <td>15737888</td>\n",
              "      <td>Mitchell</td>\n",
              "      <td>850</td>\n",
              "      <td>Spain</td>\n",
              "      <td>Female</td>\n",
              "      <td>43</td>\n",
              "      <td>2</td>\n",
              "      <td>125510.82</td>\n",
              "      <td>1</td>\n",
              "      <td>1</td>\n",
              "      <td>1</td>\n",
              "      <td>79084.10</td>\n",
              "      <td>0</td>\n",
              "    </tr>\n",
              "  </tbody>\n",
              "</table>\n",
              "</div>"
            ],
            "text/plain": [
              "   RowNumber  CustomerId   Surname  ...  IsActiveMember EstimatedSalary Exited\n",
              "0          1    15634602  Hargrave  ...               1       101348.88      1\n",
              "1          2    15647311      Hill  ...               1       112542.58      0\n",
              "2          3    15619304      Onio  ...               0       113931.57      1\n",
              "3          4    15701354      Boni  ...               0        93826.63      0\n",
              "4          5    15737888  Mitchell  ...               1        79084.10      0\n",
              "\n",
              "[5 rows x 14 columns]"
            ]
          },
          "metadata": {
            "tags": []
          },
          "execution_count": 4
        }
      ]
    },
    {
      "cell_type": "code",
      "metadata": {
        "colab": {
          "base_uri": "https://localhost:8080/"
        },
        "id": "dc6-BSSkkkJ6",
        "outputId": "780d2535-6b44-4746-9925-ae75aad07711"
      },
      "source": [
        "dfBank.shape"
      ],
      "execution_count": 5,
      "outputs": [
        {
          "output_type": "execute_result",
          "data": {
            "text/plain": [
              "(10000, 14)"
            ]
          },
          "metadata": {
            "tags": []
          },
          "execution_count": 5
        }
      ]
    },
    {
      "cell_type": "code",
      "metadata": {
        "id": "9ttCCsjjkkJ7"
      },
      "source": [
        "#Lets drop unwamted columns - CustomerId, Surname\n",
        "dfBank.drop(columns=['CustomerId','Surname'], inplace=True)"
      ],
      "execution_count": 6,
      "outputs": []
    },
    {
      "cell_type": "code",
      "metadata": {
        "id": "b7ReIitAkkJ7"
      },
      "source": [
        "dfBank.drop(columns=['RowNumber'], inplace=True)"
      ],
      "execution_count": 7,
      "outputs": []
    },
    {
      "cell_type": "code",
      "metadata": {
        "colab": {
          "base_uri": "https://localhost:8080/"
        },
        "id": "ChpsRaankkJ8",
        "outputId": "693c1635-dcdf-4a04-9628-6cab10cbad5c"
      },
      "source": [
        "dfBank.dtypes"
      ],
      "execution_count": 8,
      "outputs": [
        {
          "output_type": "execute_result",
          "data": {
            "text/plain": [
              "CreditScore          int64\n",
              "Geography           object\n",
              "Gender              object\n",
              "Age                  int64\n",
              "Tenure               int64\n",
              "Balance            float64\n",
              "NumOfProducts        int64\n",
              "HasCrCard            int64\n",
              "IsActiveMember       int64\n",
              "EstimatedSalary    float64\n",
              "Exited               int64\n",
              "dtype: object"
            ]
          },
          "metadata": {
            "tags": []
          },
          "execution_count": 8
        }
      ]
    },
    {
      "cell_type": "code",
      "metadata": {
        "colab": {
          "base_uri": "https://localhost:8080/"
        },
        "id": "mKkiBpAckkJ8",
        "outputId": "2bffdb54-4159-4d6b-bb9f-d91ec0012e87"
      },
      "source": [
        "#dfBank['Geography'].value_counts()\n",
        "dfBank['Exited'].value_counts()"
      ],
      "execution_count": 9,
      "outputs": [
        {
          "output_type": "execute_result",
          "data": {
            "text/plain": [
              "0    7963\n",
              "1    2037\n",
              "Name: Exited, dtype: int64"
            ]
          },
          "metadata": {
            "tags": []
          },
          "execution_count": 9
        }
      ]
    },
    {
      "cell_type": "code",
      "metadata": {
        "id": "By06_t2TkkJ9"
      },
      "source": [
        "#Lets do encoding....\n",
        "dfBank = pd.get_dummies(dfBank, columns=[\"Geography\", \"Gender\",\"HasCrCard\",\"IsActiveMember\"])"
      ],
      "execution_count": 10,
      "outputs": []
    },
    {
      "cell_type": "code",
      "metadata": {
        "colab": {
          "base_uri": "https://localhost:8080/",
          "height": 224
        },
        "id": "SmBh8e_BkkJ9",
        "outputId": "ab616b45-c735-43c2-c1af-0d45b1aa31f3"
      },
      "source": [
        "dfBank.head()"
      ],
      "execution_count": 11,
      "outputs": [
        {
          "output_type": "execute_result",
          "data": {
            "text/html": [
              "<div>\n",
              "<style scoped>\n",
              "    .dataframe tbody tr th:only-of-type {\n",
              "        vertical-align: middle;\n",
              "    }\n",
              "\n",
              "    .dataframe tbody tr th {\n",
              "        vertical-align: top;\n",
              "    }\n",
              "\n",
              "    .dataframe thead th {\n",
              "        text-align: right;\n",
              "    }\n",
              "</style>\n",
              "<table border=\"1\" class=\"dataframe\">\n",
              "  <thead>\n",
              "    <tr style=\"text-align: right;\">\n",
              "      <th></th>\n",
              "      <th>CreditScore</th>\n",
              "      <th>Age</th>\n",
              "      <th>Tenure</th>\n",
              "      <th>Balance</th>\n",
              "      <th>NumOfProducts</th>\n",
              "      <th>EstimatedSalary</th>\n",
              "      <th>Exited</th>\n",
              "      <th>Geography_France</th>\n",
              "      <th>Geography_Germany</th>\n",
              "      <th>Geography_Spain</th>\n",
              "      <th>Gender_Female</th>\n",
              "      <th>Gender_Male</th>\n",
              "      <th>HasCrCard_0</th>\n",
              "      <th>HasCrCard_1</th>\n",
              "      <th>IsActiveMember_0</th>\n",
              "      <th>IsActiveMember_1</th>\n",
              "    </tr>\n",
              "  </thead>\n",
              "  <tbody>\n",
              "    <tr>\n",
              "      <th>0</th>\n",
              "      <td>619</td>\n",
              "      <td>42</td>\n",
              "      <td>2</td>\n",
              "      <td>0.00</td>\n",
              "      <td>1</td>\n",
              "      <td>101348.88</td>\n",
              "      <td>1</td>\n",
              "      <td>1</td>\n",
              "      <td>0</td>\n",
              "      <td>0</td>\n",
              "      <td>1</td>\n",
              "      <td>0</td>\n",
              "      <td>0</td>\n",
              "      <td>1</td>\n",
              "      <td>0</td>\n",
              "      <td>1</td>\n",
              "    </tr>\n",
              "    <tr>\n",
              "      <th>1</th>\n",
              "      <td>608</td>\n",
              "      <td>41</td>\n",
              "      <td>1</td>\n",
              "      <td>83807.86</td>\n",
              "      <td>1</td>\n",
              "      <td>112542.58</td>\n",
              "      <td>0</td>\n",
              "      <td>0</td>\n",
              "      <td>0</td>\n",
              "      <td>1</td>\n",
              "      <td>1</td>\n",
              "      <td>0</td>\n",
              "      <td>1</td>\n",
              "      <td>0</td>\n",
              "      <td>0</td>\n",
              "      <td>1</td>\n",
              "    </tr>\n",
              "    <tr>\n",
              "      <th>2</th>\n",
              "      <td>502</td>\n",
              "      <td>42</td>\n",
              "      <td>8</td>\n",
              "      <td>159660.80</td>\n",
              "      <td>3</td>\n",
              "      <td>113931.57</td>\n",
              "      <td>1</td>\n",
              "      <td>1</td>\n",
              "      <td>0</td>\n",
              "      <td>0</td>\n",
              "      <td>1</td>\n",
              "      <td>0</td>\n",
              "      <td>0</td>\n",
              "      <td>1</td>\n",
              "      <td>1</td>\n",
              "      <td>0</td>\n",
              "    </tr>\n",
              "    <tr>\n",
              "      <th>3</th>\n",
              "      <td>699</td>\n",
              "      <td>39</td>\n",
              "      <td>1</td>\n",
              "      <td>0.00</td>\n",
              "      <td>2</td>\n",
              "      <td>93826.63</td>\n",
              "      <td>0</td>\n",
              "      <td>1</td>\n",
              "      <td>0</td>\n",
              "      <td>0</td>\n",
              "      <td>1</td>\n",
              "      <td>0</td>\n",
              "      <td>1</td>\n",
              "      <td>0</td>\n",
              "      <td>1</td>\n",
              "      <td>0</td>\n",
              "    </tr>\n",
              "    <tr>\n",
              "      <th>4</th>\n",
              "      <td>850</td>\n",
              "      <td>43</td>\n",
              "      <td>2</td>\n",
              "      <td>125510.82</td>\n",
              "      <td>1</td>\n",
              "      <td>79084.10</td>\n",
              "      <td>0</td>\n",
              "      <td>0</td>\n",
              "      <td>0</td>\n",
              "      <td>1</td>\n",
              "      <td>1</td>\n",
              "      <td>0</td>\n",
              "      <td>0</td>\n",
              "      <td>1</td>\n",
              "      <td>0</td>\n",
              "      <td>1</td>\n",
              "    </tr>\n",
              "  </tbody>\n",
              "</table>\n",
              "</div>"
            ],
            "text/plain": [
              "   CreditScore  Age  Tenure  ...  HasCrCard_1  IsActiveMember_0  IsActiveMember_1\n",
              "0          619   42       2  ...            1                 0                 1\n",
              "1          608   41       1  ...            0                 0                 1\n",
              "2          502   42       8  ...            1                 1                 0\n",
              "3          699   39       1  ...            0                 1                 0\n",
              "4          850   43       2  ...            1                 0                 1\n",
              "\n",
              "[5 rows x 16 columns]"
            ]
          },
          "metadata": {
            "tags": []
          },
          "execution_count": 11
        }
      ]
    },
    {
      "cell_type": "code",
      "metadata": {
        "id": "tGAO0gatkkJ-"
      },
      "source": [
        "# Create input attribute set by dropping\n",
        "X  = dfBank.drop(\"Exited\",axis=1)"
      ],
      "execution_count": 12,
      "outputs": []
    },
    {
      "cell_type": "code",
      "metadata": {
        "colab": {
          "base_uri": "https://localhost:8080/"
        },
        "id": "pkE6bU2ykkJ-",
        "outputId": "ec9e0604-3eeb-4512-ca24-e039e2d86660"
      },
      "source": [
        "X.dtypes"
      ],
      "execution_count": 13,
      "outputs": [
        {
          "output_type": "execute_result",
          "data": {
            "text/plain": [
              "CreditScore            int64\n",
              "Age                    int64\n",
              "Tenure                 int64\n",
              "Balance              float64\n",
              "NumOfProducts          int64\n",
              "EstimatedSalary      float64\n",
              "Geography_France       uint8\n",
              "Geography_Germany      uint8\n",
              "Geography_Spain        uint8\n",
              "Gender_Female          uint8\n",
              "Gender_Male            uint8\n",
              "HasCrCard_0            uint8\n",
              "HasCrCard_1            uint8\n",
              "IsActiveMember_0       uint8\n",
              "IsActiveMember_1       uint8\n",
              "dtype: object"
            ]
          },
          "metadata": {
            "tags": []
          },
          "execution_count": 13
        }
      ]
    },
    {
      "cell_type": "code",
      "metadata": {
        "id": "Kqt-axKQkkJ_"
      },
      "source": [
        "# Labels\n",
        "y = dfBank.pop(\"Exited\")"
      ],
      "execution_count": 14,
      "outputs": []
    },
    {
      "cell_type": "code",
      "metadata": {
        "id": "usX5Qi7ukkJ_"
      },
      "source": [
        "from sklearn.model_selection import train_test_split"
      ],
      "execution_count": 15,
      "outputs": []
    },
    {
      "cell_type": "code",
      "metadata": {
        "id": "d38pq6-VkkJ_"
      },
      "source": [
        "# Split the data up in train and test sets\n",
        "X_train, X_test, y_train, y_test = train_test_split(X, y, test_size=0.30, random_state=42)"
      ],
      "execution_count": 16,
      "outputs": []
    },
    {
      "cell_type": "code",
      "metadata": {
        "id": "36z9sthfkkKA"
      },
      "source": [
        "#Lets standardize the data\n",
        "from sklearn.preprocessing import StandardScaler\n",
        "\n",
        "scaler = StandardScaler().fit(X_train)\n",
        "X_train = scaler.transform(X_train)\n",
        "X_test = scaler.transform(X_test)"
      ],
      "execution_count": 17,
      "outputs": []
    },
    {
      "cell_type": "code",
      "metadata": {
        "id": "kT132B1zkkKA"
      },
      "source": [
        "from tensorflow.keras import Sequential\n",
        "from tensorflow.keras.layers import Dense\n",
        "from tensorflow.keras.layers import ReLU"
      ],
      "execution_count": 18,
      "outputs": []
    },
    {
      "cell_type": "code",
      "metadata": {
        "id": "xXWm6nDfkkKB"
      },
      "source": [
        "# define the model architecture\n",
        "\n",
        "# Initialize the constructor\n",
        "model = Sequential()\n",
        "# Add an input layer \n",
        "model.add(Dense(25, activation='relu'))\n",
        "\n",
        "model.add(Dense(25, activation='relu'))\n",
        "\n",
        "model.add(Dense(25, activation='relu'))\n",
        "\n",
        "# Add an output layer \n",
        "model.add(Dense(1, activation='sigmoid'))"
      ],
      "execution_count": 35,
      "outputs": []
    },
    {
      "cell_type": "code",
      "metadata": {
        "colab": {
          "base_uri": "https://localhost:8080/"
        },
        "id": "NZDVheOXlebA",
        "outputId": "5b3c8c1b-3406-451d-98de-6a709a1c6b2d"
      },
      "source": [
        "model.compile(loss='binary_crossentropy',\r\n",
        "              optimizer='adam',\r\n",
        "              metrics=['accuracy'])\r\n",
        "                   \r\n",
        "\r\n",
        "epochs = 50\r\n",
        "batch_size = 500\r\n",
        "\r\n",
        "\r\n",
        "history = model.fit(X_train, y_train, batch_size=batch_size, epochs=epochs, validation_split=.3, verbose=True)\r\n",
        "loss,accuracy  = model.evaluate(X_test, y_test, verbose=False)"
      ],
      "execution_count": 36,
      "outputs": [
        {
          "output_type": "stream",
          "text": [
            "Epoch 1/50\n",
            "10/10 [==============================] - 1s 21ms/step - loss: 0.7819 - accuracy: 0.2947 - val_loss: 0.6849 - val_accuracy: 0.5762\n",
            "Epoch 2/50\n",
            "10/10 [==============================] - 0s 6ms/step - loss: 0.6598 - accuracy: 0.6412 - val_loss: 0.6019 - val_accuracy: 0.7700\n",
            "Epoch 3/50\n",
            "10/10 [==============================] - 0s 6ms/step - loss: 0.5861 - accuracy: 0.7804 - val_loss: 0.5521 - val_accuracy: 0.7952\n",
            "Epoch 4/50\n",
            "10/10 [==============================] - 0s 6ms/step - loss: 0.5484 - accuracy: 0.7962 - val_loss: 0.5196 - val_accuracy: 0.7948\n",
            "Epoch 5/50\n",
            "10/10 [==============================] - 0s 6ms/step - loss: 0.5152 - accuracy: 0.7957 - val_loss: 0.4946 - val_accuracy: 0.7948\n",
            "Epoch 6/50\n",
            "10/10 [==============================] - 0s 5ms/step - loss: 0.4964 - accuracy: 0.7939 - val_loss: 0.4753 - val_accuracy: 0.7948\n",
            "Epoch 7/50\n",
            "10/10 [==============================] - 0s 6ms/step - loss: 0.4955 - accuracy: 0.7836 - val_loss: 0.4604 - val_accuracy: 0.7948\n",
            "Epoch 8/50\n",
            "10/10 [==============================] - 0s 6ms/step - loss: 0.4755 - accuracy: 0.7886 - val_loss: 0.4481 - val_accuracy: 0.7948\n",
            "Epoch 9/50\n",
            "10/10 [==============================] - 0s 6ms/step - loss: 0.4534 - accuracy: 0.7929 - val_loss: 0.4395 - val_accuracy: 0.7948\n",
            "Epoch 10/50\n",
            "10/10 [==============================] - 0s 6ms/step - loss: 0.4506 - accuracy: 0.7946 - val_loss: 0.4338 - val_accuracy: 0.8014\n",
            "Epoch 11/50\n",
            "10/10 [==============================] - 0s 6ms/step - loss: 0.4443 - accuracy: 0.7944 - val_loss: 0.4296 - val_accuracy: 0.8095\n",
            "Epoch 12/50\n",
            "10/10 [==============================] - 0s 6ms/step - loss: 0.4280 - accuracy: 0.8078 - val_loss: 0.4260 - val_accuracy: 0.8119\n",
            "Epoch 13/50\n",
            "10/10 [==============================] - 0s 6ms/step - loss: 0.4269 - accuracy: 0.8098 - val_loss: 0.4234 - val_accuracy: 0.8181\n",
            "Epoch 14/50\n",
            "10/10 [==============================] - 0s 6ms/step - loss: 0.4198 - accuracy: 0.8216 - val_loss: 0.4212 - val_accuracy: 0.8224\n",
            "Epoch 15/50\n",
            "10/10 [==============================] - 0s 6ms/step - loss: 0.4244 - accuracy: 0.8185 - val_loss: 0.4191 - val_accuracy: 0.8262\n",
            "Epoch 16/50\n",
            "10/10 [==============================] - 0s 6ms/step - loss: 0.4244 - accuracy: 0.8159 - val_loss: 0.4174 - val_accuracy: 0.8257\n",
            "Epoch 17/50\n",
            "10/10 [==============================] - 0s 6ms/step - loss: 0.4197 - accuracy: 0.8191 - val_loss: 0.4160 - val_accuracy: 0.8257\n",
            "Epoch 18/50\n",
            "10/10 [==============================] - 0s 6ms/step - loss: 0.4094 - accuracy: 0.8278 - val_loss: 0.4146 - val_accuracy: 0.8276\n",
            "Epoch 19/50\n",
            "10/10 [==============================] - 0s 5ms/step - loss: 0.4064 - accuracy: 0.8288 - val_loss: 0.4132 - val_accuracy: 0.8276\n",
            "Epoch 20/50\n",
            "10/10 [==============================] - 0s 6ms/step - loss: 0.3982 - accuracy: 0.8337 - val_loss: 0.4120 - val_accuracy: 0.8305\n",
            "Epoch 21/50\n",
            "10/10 [==============================] - 0s 6ms/step - loss: 0.3955 - accuracy: 0.8389 - val_loss: 0.4102 - val_accuracy: 0.8300\n",
            "Epoch 22/50\n",
            "10/10 [==============================] - 0s 6ms/step - loss: 0.4019 - accuracy: 0.8324 - val_loss: 0.4090 - val_accuracy: 0.8314\n",
            "Epoch 23/50\n",
            "10/10 [==============================] - 0s 6ms/step - loss: 0.3978 - accuracy: 0.8307 - val_loss: 0.4075 - val_accuracy: 0.8324\n",
            "Epoch 24/50\n",
            "10/10 [==============================] - 0s 7ms/step - loss: 0.3971 - accuracy: 0.8350 - val_loss: 0.4066 - val_accuracy: 0.8329\n",
            "Epoch 25/50\n",
            "10/10 [==============================] - 0s 7ms/step - loss: 0.4037 - accuracy: 0.8263 - val_loss: 0.4050 - val_accuracy: 0.8333\n",
            "Epoch 26/50\n",
            "10/10 [==============================] - 0s 7ms/step - loss: 0.3940 - accuracy: 0.8341 - val_loss: 0.4040 - val_accuracy: 0.8338\n",
            "Epoch 27/50\n",
            "10/10 [==============================] - 0s 6ms/step - loss: 0.3871 - accuracy: 0.8359 - val_loss: 0.4027 - val_accuracy: 0.8333\n",
            "Epoch 28/50\n",
            "10/10 [==============================] - 0s 6ms/step - loss: 0.3867 - accuracy: 0.8319 - val_loss: 0.4011 - val_accuracy: 0.8333\n",
            "Epoch 29/50\n",
            "10/10 [==============================] - 0s 20ms/step - loss: 0.3955 - accuracy: 0.8334 - val_loss: 0.3994 - val_accuracy: 0.8357\n",
            "Epoch 30/50\n",
            "10/10 [==============================] - 0s 6ms/step - loss: 0.3720 - accuracy: 0.8431 - val_loss: 0.3976 - val_accuracy: 0.8362\n",
            "Epoch 31/50\n",
            "10/10 [==============================] - 0s 6ms/step - loss: 0.3808 - accuracy: 0.8390 - val_loss: 0.3966 - val_accuracy: 0.8338\n",
            "Epoch 32/50\n",
            "10/10 [==============================] - 0s 6ms/step - loss: 0.3692 - accuracy: 0.8434 - val_loss: 0.3949 - val_accuracy: 0.8352\n",
            "Epoch 33/50\n",
            "10/10 [==============================] - 0s 5ms/step - loss: 0.3705 - accuracy: 0.8431 - val_loss: 0.3930 - val_accuracy: 0.8343\n",
            "Epoch 34/50\n",
            "10/10 [==============================] - 0s 6ms/step - loss: 0.3675 - accuracy: 0.8441 - val_loss: 0.3908 - val_accuracy: 0.8390\n",
            "Epoch 35/50\n",
            "10/10 [==============================] - 0s 6ms/step - loss: 0.3611 - accuracy: 0.8467 - val_loss: 0.3888 - val_accuracy: 0.8419\n",
            "Epoch 36/50\n",
            "10/10 [==============================] - 0s 6ms/step - loss: 0.3685 - accuracy: 0.8428 - val_loss: 0.3863 - val_accuracy: 0.8429\n",
            "Epoch 37/50\n",
            "10/10 [==============================] - 0s 6ms/step - loss: 0.3607 - accuracy: 0.8499 - val_loss: 0.3846 - val_accuracy: 0.8429\n",
            "Epoch 38/50\n",
            "10/10 [==============================] - 0s 6ms/step - loss: 0.3578 - accuracy: 0.8492 - val_loss: 0.3825 - val_accuracy: 0.8443\n",
            "Epoch 39/50\n",
            "10/10 [==============================] - 0s 6ms/step - loss: 0.3578 - accuracy: 0.8503 - val_loss: 0.3799 - val_accuracy: 0.8476\n",
            "Epoch 40/50\n",
            "10/10 [==============================] - 0s 6ms/step - loss: 0.3623 - accuracy: 0.8484 - val_loss: 0.3784 - val_accuracy: 0.8471\n",
            "Epoch 41/50\n",
            "10/10 [==============================] - 0s 6ms/step - loss: 0.3384 - accuracy: 0.8608 - val_loss: 0.3762 - val_accuracy: 0.8471\n",
            "Epoch 42/50\n",
            "10/10 [==============================] - 0s 6ms/step - loss: 0.3485 - accuracy: 0.8553 - val_loss: 0.3740 - val_accuracy: 0.8476\n",
            "Epoch 43/50\n",
            "10/10 [==============================] - 0s 6ms/step - loss: 0.3377 - accuracy: 0.8608 - val_loss: 0.3728 - val_accuracy: 0.8471\n",
            "Epoch 44/50\n",
            "10/10 [==============================] - 0s 6ms/step - loss: 0.3434 - accuracy: 0.8550 - val_loss: 0.3710 - val_accuracy: 0.8486\n",
            "Epoch 45/50\n",
            "10/10 [==============================] - 0s 6ms/step - loss: 0.3452 - accuracy: 0.8566 - val_loss: 0.3697 - val_accuracy: 0.8495\n",
            "Epoch 46/50\n",
            "10/10 [==============================] - 0s 6ms/step - loss: 0.3337 - accuracy: 0.8582 - val_loss: 0.3690 - val_accuracy: 0.8490\n",
            "Epoch 47/50\n",
            "10/10 [==============================] - 0s 6ms/step - loss: 0.3316 - accuracy: 0.8620 - val_loss: 0.3671 - val_accuracy: 0.8490\n",
            "Epoch 48/50\n",
            "10/10 [==============================] - 0s 7ms/step - loss: 0.3311 - accuracy: 0.8596 - val_loss: 0.3667 - val_accuracy: 0.8500\n",
            "Epoch 49/50\n",
            "10/10 [==============================] - 0s 6ms/step - loss: 0.3251 - accuracy: 0.8686 - val_loss: 0.3661 - val_accuracy: 0.8481\n",
            "Epoch 50/50\n",
            "10/10 [==============================] - 0s 6ms/step - loss: 0.3339 - accuracy: 0.8589 - val_loss: 0.3654 - val_accuracy: 0.8471\n"
          ],
          "name": "stdout"
        }
      ]
    },
    {
      "cell_type": "code",
      "metadata": {
        "colab": {
          "base_uri": "https://localhost:8080/",
          "height": 336
        },
        "id": "lMseWQ34nLDj",
        "outputId": "45354975-09c0-4997-8b21-921c65feaf55"
      },
      "source": [
        "print(history.history['val_accuracy'])\r\n",
        "\r\n",
        "print(history.history['accuracy'])\r\n",
        "\r\n",
        "ta = pd.DataFrame(history.history['accuracy'])\r\n",
        "va = pd.DataFrame(history.history['val_accuracy'])\r\n",
        "\r\n",
        "tva = pd.concat([ta,va] , axis=1)\r\n",
        "\r\n",
        "tva.boxplot()"
      ],
      "execution_count": 37,
      "outputs": [
        {
          "output_type": "stream",
          "text": [
            "[0.5761904716491699, 0.7699999809265137, 0.7952380776405334, 0.7947618961334229, 0.7947618961334229, 0.7947618961334229, 0.7947618961334229, 0.7947618961334229, 0.7947618961334229, 0.8014285564422607, 0.8095238208770752, 0.811904788017273, 0.8180952668190002, 0.8223809599876404, 0.8261904716491699, 0.8257142901420593, 0.8257142901420593, 0.8276190757751465, 0.8276190757751465, 0.8304761648178101, 0.8299999833106995, 0.831428587436676, 0.8323809504508972, 0.8328571319580078, 0.8333333134651184, 0.833809494972229, 0.8333333134651184, 0.8333333134651184, 0.8357142806053162, 0.8361904621124268, 0.833809494972229, 0.8352380990982056, 0.8342857360839844, 0.8390476107597351, 0.8419047594070435, 0.8428571224212646, 0.8428571224212646, 0.8442857265472412, 0.8476190567016602, 0.8471428751945496, 0.8471428751945496, 0.8476190567016602, 0.8471428751945496, 0.8485714197158813, 0.8495237827301025, 0.8490476012229919, 0.8490476012229919, 0.8500000238418579, 0.8480952382087708, 0.8471428751945496]\n",
            "[0.352448970079422, 0.6879591941833496, 0.7840816378593445, 0.7914285659790039, 0.7914285659790039, 0.7914285659790039, 0.7914285659790039, 0.7914285659790039, 0.7914285659790039, 0.7936734557151794, 0.7975510358810425, 0.8008162975311279, 0.8081632852554321, 0.8155102133750916, 0.8183673620223999, 0.8204081654548645, 0.8224489688873291, 0.8238775730133057, 0.8255102038383484, 0.8271428346633911, 0.8289796113967896, 0.8289796113967896, 0.8306122422218323, 0.8334693908691406, 0.8328571319580078, 0.8328571319580078, 0.8330612182617188, 0.8340816497802734, 0.836326539516449, 0.836326539516449, 0.8348979353904724, 0.8381632566452026, 0.8414285778999329, 0.8428571224212646, 0.8442857265472412, 0.8455101847648621, 0.8481632471084595, 0.849591851234436, 0.8512244820594788, 0.8528571724891663, 0.8551020622253418, 0.8555101752281189, 0.8579592108726501, 0.8565306067466736, 0.8581632375717163, 0.8589795827865601, 0.8614285588264465, 0.863061249256134, 0.8612244725227356, 0.8622449040412903]\n"
          ],
          "name": "stdout"
        },
        {
          "output_type": "execute_result",
          "data": {
            "text/plain": [
              "<matplotlib.axes._subplots.AxesSubplot at 0x7f7c940c17f0>"
            ]
          },
          "metadata": {
            "tags": []
          },
          "execution_count": 37
        },
        {
          "output_type": "display_data",
          "data": {
            "image/png": "[encoded data removed]",
            "text/plain": [
              "<Figure size 432x288 with 1 Axes>"
            ]
          },
          "metadata": {
            "tags": [],
            "needs_background": "light"
          }
        }
      ]
    },
    {
      "cell_type": "code",
      "metadata": {
        "id": "PUWkUQAqnUfx"
      },
      "source": [
        "y_pred = np.round(model.predict(X_test))"
      ],
      "execution_count": 38,
      "outputs": []
    },
    {
      "cell_type": "code",
      "metadata": {
        "colab": {
          "base_uri": "https://localhost:8080/"
        },
        "id": "QS_vkyHonbCj",
        "outputId": "a3a16e92-1b3a-48ef-bd2b-f02b8011af23"
      },
      "source": [
        "loss, acc = model.evaluate(X_test, y_test, verbose=0)\r\n",
        "print('Test Accuracy: %.3f' % acc)\r\n",
        "\r\n",
        "\r\n",
        "loss, acc = model.evaluate(X_train, y_train, verbose=0)\r\n",
        "print('Test Accuracy: %.3f' % acc)"
      ],
      "execution_count": 39,
      "outputs": [
        {
          "output_type": "stream",
          "text": [
            "Test Accuracy: 0.864\n",
            "Test Accuracy: 0.857\n"
          ],
          "name": "stdout"
        }
      ]
    },
    {
      "cell_type": "code",
      "metadata": {
        "colab": {
          "base_uri": "https://localhost:8080/"
        },
        "id": "J0Xfi99rnfWZ",
        "outputId": "f8d0bdd8-5999-411e-82f1-f65574facbde"
      },
      "source": [
        "from sklearn import metrics\r\n",
        "metrics.confusion_matrix(y_test, y_pred, labels=[0 ,1])"
      ],
      "execution_count": 42,
      "outputs": [
        {
          "output_type": "execute_result",
          "data": {
            "text/plain": [
              "array([[2319,   97],\n",
              "       [ 312,  272]])"
            ]
          },
          "metadata": {
            "tags": []
          },
          "execution_count": 42
        }
      ]
    },
    {
      "cell_type": "code",
      "metadata": {
        "colab": {
          "base_uri": "https://localhost:8080/"
        },
        "id": "Y8wrIAu4nthw",
        "outputId": "93245cc9-50ae-4df0-9a50-6c11b67fcf93"
      },
      "source": [
        "print(pd.DataFrame(metrics.confusion_matrix(y_test, y_pred, labels=[0 ,1]), index=['true:NotExited', 'true:Exited'], columns=['pred:NotExited', 'pred:Exited']))"
      ],
      "execution_count": 44,
      "outputs": [
        {
          "output_type": "stream",
          "text": [
            "                pred:NotExited  pred:Exited\n",
            "true:NotExited            2319           97\n",
            "true:Exited                312          272\n"
          ],
          "name": "stdout"
        }
      ]
    },
    {
      "cell_type": "code",
      "metadata": {
        "id": "mh7F_SwOoA3p"
      },
      "source": [
        ""
      ],
      "execution_count": null,
      "outputs": []
    }
  ]
}