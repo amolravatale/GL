{
 "cells": [
  {
   "cell_type": "markdown",
   "metadata": {
    "id": "MyfMmMnPJjvn"
   },
   "source": [
    "## Train a simple convnet on the Fashion MNIST dataset"
   ]
  },
  {
   "cell_type": "markdown",
   "metadata": {
    "id": "zjcGOJhcJjvp"
   },
   "source": [
    "In this, we will see how to deal with image data and train a convnet for image classification task."
   ]
  },
  {
   "cell_type": "markdown",
   "metadata": {
    "id": "jR0Pl2XjJjvq"
   },
   "source": [
    "### Load the  `fashion_mnist`  dataset\n",
    "\n",
    "** Use keras.datasets to load the dataset **"
   ]
  },
  {
   "cell_type": "code",
   "execution_count": 91,
   "metadata": {
    "id": "Qr75v_UYJjvs"
   },
   "outputs": [],
   "source": [
    "from keras.datasets import fashion_mnist\n",
    "(x_train, y_train), (x_test, y_test) = fashion_mnist.load_data()"
   ]
  },
  {
   "cell_type": "markdown",
   "metadata": {
    "id": "hTI42-0qJjvw"
   },
   "source": [
    "### Find no.of samples are there in training and test datasets"
   ]
  },
  {
   "cell_type": "code",
   "execution_count": 92,
   "metadata": {
    "colab": {
     "base_uri": "https://localhost:8080/"
    },
    "id": "g2sf67VoJjvx",
    "outputId": "d19c8a86-9990-45de-8fc9-a9932f0ccb7f"
   },
   "outputs": [
    {
     "data": {
      "text/plain": [
       "(60000, 28, 28)"
      ]
     },
     "execution_count": 92,
     "metadata": {
      "tags": []
     },
     "output_type": "execute_result"
    }
   ],
   "source": [
    "x_train.shape"
   ]
  },
  {
   "cell_type": "code",
   "execution_count": 93,
   "metadata": {
    "colab": {
     "base_uri": "https://localhost:8080/"
    },
    "id": "zewyDcBlJjv1",
    "outputId": "95c24bab-370d-4bf7-9efd-8be1cc86310c"
   },
   "outputs": [
    {
     "data": {
      "text/plain": [
       "(10000, 28, 28)"
      ]
     },
     "execution_count": 93,
     "metadata": {
      "tags": []
     },
     "output_type": "execute_result"
    }
   ],
   "source": [
    "x_test.shape"
   ]
  },
  {
   "cell_type": "markdown",
   "metadata": {
    "id": "WytT2eRnJjv4"
   },
   "source": [
    "### Find dimensions of an image in the dataset"
   ]
  },
  {
   "cell_type": "code",
   "execution_count": 94,
   "metadata": {
    "colab": {
     "base_uri": "https://localhost:8080/"
    },
    "id": "XycQGBSGJjv5",
    "outputId": "920fc170-8014-40c7-8482-9b0736513e4c"
   },
   "outputs": [
    {
     "data": {
      "text/plain": [
       "(28, 28)"
      ]
     },
     "execution_count": 94,
     "metadata": {
      "tags": []
     },
     "output_type": "execute_result"
    }
   ],
   "source": [
    "x_train[0].shape"
   ]
  },
  {
   "cell_type": "markdown",
   "metadata": {
    "id": "5jtdZ7RqJjv8"
   },
   "source": [
    "### Convert train and test labels to one hot vectors\n",
    "\n",
    "** check `keras.utils.to_categorical()` **"
   ]
  },
  {
   "cell_type": "code",
   "execution_count": 95,
   "metadata": {
    "id": "amqlo-jdyNeW"
   },
   "outputs": [],
   "source": [
    "import pandas as pd\n",
    "import numpy as np"
   ]
  },
  {
   "cell_type": "code",
   "execution_count": 96,
   "metadata": {
    "colab": {
     "base_uri": "https://localhost:8080/"
    },
    "id": "P5D3BAxqyWhy",
    "outputId": "7ade21b3-f57e-4bca-94ca-faca45a8b6bd"
   },
   "outputs": [
    {
     "data": {
      "text/plain": [
       "9    6000\n",
       "8    6000\n",
       "7    6000\n",
       "6    6000\n",
       "5    6000\n",
       "4    6000\n",
       "3    6000\n",
       "2    6000\n",
       "1    6000\n",
       "0    6000\n",
       "dtype: int64"
      ]
     },
     "execution_count": 96,
     "metadata": {
      "tags": []
     },
     "output_type": "execute_result"
    }
   ],
   "source": [
    "pd.value_counts(y_train)"
   ]
  },
  {
   "cell_type": "code",
   "execution_count": 97,
   "metadata": {
    "id": "a4IDvsZfyVde"
   },
   "outputs": [],
   "source": [
    "import tensorflow as tf"
   ]
  },
  {
   "cell_type": "code",
   "execution_count": 98,
   "metadata": {
    "colab": {
     "base_uri": "https://localhost:8080/",
     "height": 35
    },
    "id": "SYwnLeH_ysTA",
    "outputId": "0909b71e-875d-4dd9-bc37-b46f1688f380"
   },
   "outputs": [
    {
     "data": {
      "application/vnd.google.colaboratory.intrinsic+json": {
       "type": "string"
      },
      "text/plain": [
       "'2.4.1'"
      ]
     },
     "execution_count": 98,
     "metadata": {
      "tags": []
     },
     "output_type": "execute_result"
    }
   ],
   "source": [
    "tensorflow.__version__"
   ]
  },
  {
   "cell_type": "code",
   "execution_count": 99,
   "metadata": {
    "id": "sAD3q5I6Jjv9"
   },
   "outputs": [],
   "source": [
    "y_train = tf.keras.utils.to_categorical(y_train)\n"
   ]
  },
  {
   "cell_type": "code",
   "execution_count": 100,
   "metadata": {
    "id": "mgHSCXy3JjwA"
   },
   "outputs": [],
   "source": [
    "y_test = tf.keras.utils.to_categorical(y_test)"
   ]
  },
  {
   "cell_type": "markdown",
   "metadata": {
    "id": "xO5BRBzBJjwD"
   },
   "source": [
    "### Normalize both the train and test image data from 0-255 to 0-1"
   ]
  },
  {
   "cell_type": "code",
   "execution_count": 102,
   "metadata": {
    "id": "Okwo_SB5JjwI"
   },
   "outputs": [],
   "source": [
    "#set data type\n",
    "#y_train = y_train.astype('float32')\n",
    "#y_test = y_test.astype('float32')\n",
    "\n",
    "x_train= x_train/255\n",
    "x_test = x_test/255"
   ]
  },
  {
   "cell_type": "code",
   "execution_count": 103,
   "metadata": {
    "id": "2cSWtOy187Q4"
   },
   "outputs": [],
   "source": [
    "x_train = x_train.astype('float32')\n",
    "x_test = x_test.astype('float32')"
   ]
  },
  {
   "cell_type": "markdown",
   "metadata": {
    "id": "da5-DwgrJjwM"
   },
   "source": [
    "### Reshape the data from 28x28 to 28x28x1 to match input dimensions in Conv2D layer in keras"
   ]
  },
  {
   "cell_type": "code",
   "execution_count": 104,
   "metadata": {
    "id": "LPGVQ-JJJjwN"
   },
   "outputs": [],
   "source": [
    "x_train = x_train.reshape(x_train.shape[0],28,28,1)\n",
    "\n",
    "x_test = x_test.reshape(x_test.shape[0],28,28,1)"
   ]
  },
  {
   "cell_type": "markdown",
   "metadata": {
    "id": "OFRRTJq8JjwQ"
   },
   "source": [
    "### Import the necessary layers from keras to build the model"
   ]
  },
  {
   "cell_type": "code",
   "execution_count": 108,
   "metadata": {
    "id": "dWTZYnKSJjwR"
   },
   "outputs": [],
   "source": [
    "from  tensorflow.keras.models import Sequential\n",
    "from tensorflow.keras.layers import Dense, Activation, Dropout, Flatten, Reshape, Convolution2D, MaxPooling2D"
   ]
  },
  {
   "cell_type": "markdown",
   "metadata": {
    "id": "C18AoS7eJjwU"
   },
   "source": [
    "### Build a model \n",
    "\n",
    "** with 2 Conv layers having `32 3x3 filters` in both convolutions with `relu activations` and `flatten` before passing the feature map into 2 fully connected layers (or Dense Layers) having 128 and 10 neurons with `relu` and `softmax` activations respectively. Now, using `categorical_crossentropy` loss with `adam` optimizer train the model with early stopping `patience=5` and no.of `epochs=10`. **"
   ]
  },
  {
   "cell_type": "code",
   "execution_count": 110,
   "metadata": {
    "colab": {
     "base_uri": "https://localhost:8080/"
    },
    "id": "DORCLgSwJjwV",
    "outputId": "6e4d04f3-d2b5-4912-8a27-8a176ed6c1f1"
   },
   "outputs": [
    {
     "name": "stdout",
     "output_type": "stream",
     "text": [
      "Epoch 1/30\n",
      "120/120 [==============================] - 2s 17ms/step - loss: 1.9988 - accuracy: 0.2846 - val_loss: 42.0008 - val_accuracy: 0.6047\n",
      "Epoch 2/30\n",
      "120/120 [==============================] - 2s 16ms/step - loss: 0.7228 - accuracy: 0.7302 - val_loss: 40.5500 - val_accuracy: 0.6526\n",
      "Epoch 3/30\n",
      "120/120 [==============================] - 2s 16ms/step - loss: 0.6131 - accuracy: 0.7712 - val_loss: 44.5568 - val_accuracy: 0.6678\n",
      "Epoch 4/30\n",
      "120/120 [==============================] - 2s 16ms/step - loss: 0.5625 - accuracy: 0.7928 - val_loss: 40.2923 - val_accuracy: 0.6929\n",
      "Epoch 5/30\n",
      "120/120 [==============================] - 2s 16ms/step - loss: 0.5257 - accuracy: 0.8067 - val_loss: 41.7692 - val_accuracy: 0.7150\n",
      "Epoch 6/30\n",
      "120/120 [==============================] - 2s 16ms/step - loss: 0.5108 - accuracy: 0.8163 - val_loss: 46.9085 - val_accuracy: 0.7129\n",
      "Epoch 7/30\n",
      "120/120 [==============================] - 2s 16ms/step - loss: 0.4731 - accuracy: 0.8300 - val_loss: 38.7102 - val_accuracy: 0.7479\n",
      "Epoch 8/30\n",
      "120/120 [==============================] - 2s 16ms/step - loss: 0.4505 - accuracy: 0.8389 - val_loss: 47.5049 - val_accuracy: 0.7377\n",
      "Epoch 9/30\n",
      "120/120 [==============================] - 2s 16ms/step - loss: 0.4436 - accuracy: 0.8418 - val_loss: 45.3130 - val_accuracy: 0.7323\n",
      "Epoch 10/30\n",
      "120/120 [==============================] - 2s 16ms/step - loss: 0.4295 - accuracy: 0.8492 - val_loss: 49.8492 - val_accuracy: 0.7394\n",
      "Epoch 11/30\n",
      "120/120 [==============================] - 2s 16ms/step - loss: 0.4187 - accuracy: 0.8506 - val_loss: 53.8961 - val_accuracy: 0.7355\n",
      "Epoch 12/30\n",
      "120/120 [==============================] - 2s 16ms/step - loss: 0.4097 - accuracy: 0.8540 - val_loss: 43.5669 - val_accuracy: 0.7333\n",
      "Epoch 13/30\n",
      "120/120 [==============================] - 2s 16ms/step - loss: 0.3997 - accuracy: 0.8587 - val_loss: 54.4371 - val_accuracy: 0.7077\n",
      "Epoch 14/30\n",
      "120/120 [==============================] - 2s 16ms/step - loss: 0.3992 - accuracy: 0.8598 - val_loss: 54.5165 - val_accuracy: 0.7361\n",
      "Epoch 15/30\n",
      "120/120 [==============================] - 2s 17ms/step - loss: 0.3930 - accuracy: 0.8599 - val_loss: 56.4040 - val_accuracy: 0.7052\n",
      "Epoch 16/30\n",
      "120/120 [==============================] - 2s 16ms/step - loss: 0.3850 - accuracy: 0.8631 - val_loss: 53.0434 - val_accuracy: 0.7176\n",
      "Epoch 17/30\n",
      "120/120 [==============================] - 2s 16ms/step - loss: 0.3801 - accuracy: 0.8653 - val_loss: 53.6923 - val_accuracy: 0.7067\n",
      "Epoch 18/30\n",
      "120/120 [==============================] - 2s 16ms/step - loss: 0.3768 - accuracy: 0.8663 - val_loss: 62.2874 - val_accuracy: 0.6714\n",
      "Epoch 19/30\n",
      "120/120 [==============================] - 2s 16ms/step - loss: 0.3764 - accuracy: 0.8649 - val_loss: 68.7160 - val_accuracy: 0.6747\n",
      "Epoch 20/30\n",
      "120/120 [==============================] - 2s 16ms/step - loss: 0.3733 - accuracy: 0.8666 - val_loss: 58.7268 - val_accuracy: 0.6923\n",
      "Epoch 21/30\n",
      "120/120 [==============================] - 2s 16ms/step - loss: 0.3589 - accuracy: 0.8727 - val_loss: 69.6843 - val_accuracy: 0.6585\n",
      "Epoch 22/30\n",
      "120/120 [==============================] - 2s 16ms/step - loss: 0.3617 - accuracy: 0.8710 - val_loss: 71.3266 - val_accuracy: 0.6410\n",
      "Epoch 23/30\n",
      "120/120 [==============================] - 2s 16ms/step - loss: 0.3602 - accuracy: 0.8730 - val_loss: 80.6410 - val_accuracy: 0.6117\n",
      "Epoch 24/30\n",
      "120/120 [==============================] - 2s 16ms/step - loss: 0.3573 - accuracy: 0.8742 - val_loss: 69.6120 - val_accuracy: 0.6410\n",
      "Epoch 25/30\n",
      "120/120 [==============================] - 2s 16ms/step - loss: 0.3583 - accuracy: 0.8713 - val_loss: 81.6858 - val_accuracy: 0.6069\n",
      "Epoch 26/30\n",
      "120/120 [==============================] - 2s 16ms/step - loss: 0.3540 - accuracy: 0.8748 - val_loss: 91.0026 - val_accuracy: 0.5898\n",
      "Epoch 27/30\n",
      "120/120 [==============================] - 2s 16ms/step - loss: 0.3484 - accuracy: 0.8747 - val_loss: 100.2348 - val_accuracy: 0.5556\n",
      "Epoch 28/30\n",
      "120/120 [==============================] - 2s 16ms/step - loss: 0.3418 - accuracy: 0.8795 - val_loss: 94.4607 - val_accuracy: 0.5818\n",
      "Epoch 29/30\n",
      "120/120 [==============================] - 2s 16ms/step - loss: 0.3403 - accuracy: 0.8762 - val_loss: 117.8428 - val_accuracy: 0.5266\n",
      "Epoch 30/30\n",
      "120/120 [==============================] - 2s 16ms/step - loss: 0.3333 - accuracy: 0.8802 - val_loss: 119.8722 - val_accuracy: 0.5281\n"
     ]
    },
    {
     "data": {
      "text/plain": [
       "<tensorflow.python.keras.callbacks.History at 0x7f4d10428128>"
      ]
     },
     "execution_count": 110,
     "metadata": {
      "tags": []
     },
     "output_type": "execute_result"
    }
   ],
   "source": [
    "# Lets build model \n",
    "tf.keras.backend.clear_session()\n",
    "#Initialise model\n",
    "model = tf.keras.models.Sequential()\n",
    "#1st convolutional layer\n",
    "model.add(tf.keras.layers.Conv2D(32,kernel_size=(3,3), activation='relu'))\n",
    "#2nd convolutional layer\n",
    "model.add(tf.keras.layers.Conv2D(32,kernel_size=(3,3), activation='relu'))\n",
    "#Flatten the output\n",
    "model.add(tf.keras.layers.Flatten())\n",
    "#fully connected layer\n",
    "model.add(tf.keras.layers.Dense(128, activation='relu'))\n",
    "#Output layer\n",
    "model.add(tf.keras.layers.Dense(10, activation='softmax'))\n",
    "\n",
    "model.compile(optimizer='adam', loss='categorical_crossentropy', metrics=['accuracy'])\n",
    "\n",
    "early_stopping = tf.keras.callbacks.EarlyStopping(monitor='val_acc', patience=5, verbose=1, mode='auto')\n",
    "\n",
    "callback_list=[early_stopping]\n",
    "\n",
    "#Train the model\n",
    "model.fit(x_train,y_train,        \n",
    "          validation_data=(x_test,y_test),\n",
    "          epochs=30,\n",
    "          batch_size=500)\n",
    "         #callbacks=callback_list)"
   ]
  },
  {
   "cell_type": "markdown",
   "metadata": {
    "id": "ju69vKdIJjwX"
   },
   "source": [
    "### Now, to the above model add `max` pooling layer of `filter size 2x2` and `dropout` layer with `p=0.25` after the 2 conv layers and run the model"
   ]
  },
  {
   "cell_type": "code",
   "execution_count": 111,
   "metadata": {
    "colab": {
     "base_uri": "https://localhost:8080/"
    },
    "id": "xxmtGi9ZAHHw",
    "outputId": "9a0e3991-7353-421b-930d-6addbf0bf78b"
   },
   "outputs": [
    {
     "name": "stdout",
     "output_type": "stream",
     "text": [
      "Epoch 1/30\n",
      "120/120 [==============================] - 3s 19ms/step - loss: 1.9104 - accuracy: 0.3594 - val_loss: 83.6290 - val_accuracy: 0.6289\n",
      "Epoch 2/30\n",
      "120/120 [==============================] - 2s 17ms/step - loss: 0.7029 - accuracy: 0.7371 - val_loss: 72.0804 - val_accuracy: 0.6418\n",
      "Epoch 3/30\n",
      "120/120 [==============================] - 2s 17ms/step - loss: 0.6161 - accuracy: 0.7685 - val_loss: 66.0520 - val_accuracy: 0.6813\n",
      "Epoch 4/30\n",
      "120/120 [==============================] - 2s 17ms/step - loss: 0.5715 - accuracy: 0.7868 - val_loss: 59.9969 - val_accuracy: 0.6816\n",
      "Epoch 5/30\n",
      "120/120 [==============================] - 2s 17ms/step - loss: 0.5343 - accuracy: 0.8010 - val_loss: 64.6774 - val_accuracy: 0.6975\n",
      "Epoch 6/30\n",
      "120/120 [==============================] - 2s 17ms/step - loss: 0.5160 - accuracy: 0.8124 - val_loss: 57.8431 - val_accuracy: 0.7155\n",
      "Epoch 7/30\n",
      "120/120 [==============================] - 2s 17ms/step - loss: 0.4868 - accuracy: 0.8232 - val_loss: 62.8951 - val_accuracy: 0.7073\n",
      "Epoch 8/30\n",
      "120/120 [==============================] - 2s 17ms/step - loss: 0.4690 - accuracy: 0.8326 - val_loss: 61.0490 - val_accuracy: 0.7087\n",
      "Epoch 9/30\n",
      "120/120 [==============================] - 2s 17ms/step - loss: 0.4699 - accuracy: 0.8320 - val_loss: 67.3441 - val_accuracy: 0.6947\n",
      "Epoch 10/30\n",
      "120/120 [==============================] - 2s 17ms/step - loss: 0.4439 - accuracy: 0.8429 - val_loss: 89.6581 - val_accuracy: 0.6543\n",
      "Epoch 11/30\n",
      "120/120 [==============================] - 2s 17ms/step - loss: 0.4330 - accuracy: 0.8479 - val_loss: 99.3055 - val_accuracy: 0.6425\n",
      "Epoch 12/30\n",
      "120/120 [==============================] - 2s 17ms/step - loss: 0.4365 - accuracy: 0.8477 - val_loss: 117.6123 - val_accuracy: 0.6040\n",
      "Epoch 13/30\n",
      "120/120 [==============================] - 2s 17ms/step - loss: 0.4184 - accuracy: 0.8522 - val_loss: 98.8731 - val_accuracy: 0.6415\n",
      "Epoch 14/30\n",
      "120/120 [==============================] - 2s 17ms/step - loss: 0.4133 - accuracy: 0.8524 - val_loss: 134.5605 - val_accuracy: 0.5878\n",
      "Epoch 15/30\n",
      "120/120 [==============================] - 2s 17ms/step - loss: 0.4057 - accuracy: 0.8562 - val_loss: 145.8008 - val_accuracy: 0.5626\n",
      "Epoch 16/30\n",
      "120/120 [==============================] - 2s 17ms/step - loss: 0.4003 - accuracy: 0.8575 - val_loss: 154.7727 - val_accuracy: 0.5646\n",
      "Epoch 17/30\n",
      "120/120 [==============================] - 2s 17ms/step - loss: 0.3860 - accuracy: 0.8626 - val_loss: 156.8510 - val_accuracy: 0.5652\n",
      "Epoch 18/30\n",
      "120/120 [==============================] - 2s 17ms/step - loss: 0.3820 - accuracy: 0.8644 - val_loss: 173.2180 - val_accuracy: 0.5406\n",
      "Epoch 19/30\n",
      "120/120 [==============================] - 2s 17ms/step - loss: 0.3788 - accuracy: 0.8659 - val_loss: 188.4530 - val_accuracy: 0.5396\n",
      "Epoch 20/30\n",
      "120/120 [==============================] - 2s 17ms/step - loss: 0.3726 - accuracy: 0.8664 - val_loss: 201.3149 - val_accuracy: 0.5186\n",
      "Epoch 21/30\n",
      "120/120 [==============================] - 2s 17ms/step - loss: 0.3676 - accuracy: 0.8677 - val_loss: 179.7717 - val_accuracy: 0.5348\n",
      "Epoch 22/30\n",
      "120/120 [==============================] - 2s 17ms/step - loss: 0.3585 - accuracy: 0.8709 - val_loss: 185.6666 - val_accuracy: 0.5462\n",
      "Epoch 23/30\n",
      "120/120 [==============================] - 2s 17ms/step - loss: 0.3555 - accuracy: 0.8724 - val_loss: 201.5132 - val_accuracy: 0.5237\n",
      "Epoch 24/30\n",
      "120/120 [==============================] - 2s 17ms/step - loss: 0.3475 - accuracy: 0.8769 - val_loss: 197.1287 - val_accuracy: 0.5519\n",
      "Epoch 25/30\n",
      "120/120 [==============================] - 2s 17ms/step - loss: 0.3364 - accuracy: 0.8801 - val_loss: 191.8760 - val_accuracy: 0.5313\n",
      "Epoch 26/30\n",
      "120/120 [==============================] - 2s 17ms/step - loss: 0.3383 - accuracy: 0.8786 - val_loss: 191.2337 - val_accuracy: 0.5242\n",
      "Epoch 27/30\n",
      "120/120 [==============================] - 2s 17ms/step - loss: 0.3344 - accuracy: 0.8794 - val_loss: 214.6352 - val_accuracy: 0.5313\n",
      "Epoch 28/30\n",
      "120/120 [==============================] - 2s 17ms/step - loss: 0.3225 - accuracy: 0.8842 - val_loss: 201.3050 - val_accuracy: 0.5170\n",
      "Epoch 29/30\n",
      "120/120 [==============================] - 2s 17ms/step - loss: 0.3228 - accuracy: 0.8847 - val_loss: 208.2814 - val_accuracy: 0.5272\n",
      "Epoch 30/30\n",
      "120/120 [==============================] - 2s 17ms/step - loss: 0.3155 - accuracy: 0.8869 - val_loss: 195.5537 - val_accuracy: 0.5382\n"
     ]
    },
    {
     "data": {
      "text/plain": [
       "<tensorflow.python.keras.callbacks.History at 0x7f4d10476860>"
      ]
     },
     "execution_count": 111,
     "metadata": {
      "tags": []
     },
     "output_type": "execute_result"
    }
   ],
   "source": [
    "# Lets build model again by adding max pool layer\n",
    "tf.keras.backend.clear_session()\n",
    "#Initialise model\n",
    "model = tf.keras.models.Sequential()\n",
    "#1st convolutional layer\n",
    "model.add(tf.keras.layers.Conv2D(32,kernel_size=(3,3), activation='relu'))\n",
    "#2nd convolutional layer\n",
    "model.add(tf.keras.layers.Conv2D(32,kernel_size=(3,3), activation='relu'))\n",
    "\n",
    "model.add(Dropout(0.25))\n",
    "\n",
    "#Add max pool layer\n",
    "model.add(MaxPooling2D(pool_size=(2,2)))\n",
    "\n",
    "#Flatten the output\n",
    "model.add(tf.keras.layers.Flatten())\n",
    "#fully connected layer\n",
    "model.add(tf.keras.layers.Dense(128, activation='relu'))\n",
    "#Output layer\n",
    "model.add(tf.keras.layers.Dense(10, activation='softmax'))\n",
    "\n",
    "model.compile(optimizer='adam', loss='categorical_crossentropy', metrics=['accuracy'])\n",
    "early_stopping = tf.keras.callbacks.EarlyStopping(monitor='val_acc', patience=5, verbose=1, mode='auto')\n",
    "callback_list=[early_stopping]\n",
    "#Train the model\n",
    "model.fit(x_train,y_train,        \n",
    "          validation_data=(x_test,y_test),\n",
    "          epochs=30,\n",
    "          batch_size=500)\n",
    "         #callbacks=callback_list)"
   ]
  },
  {
   "cell_type": "markdown",
   "metadata": {
    "id": "lGTA3bfEJjwa"
   },
   "source": [
    "### Now, to the above model, lets add Data Augmentation "
   ]
  },
  {
   "cell_type": "markdown",
   "metadata": {
    "id": "F6gX8n5SJjwb"
   },
   "source": [
    "### Import the ImageDataGenrator from keras and fit the training images"
   ]
  },
  {
   "cell_type": "code",
   "execution_count": 112,
   "metadata": {
    "id": "Cbz4uHBuJjwc"
   },
   "outputs": [],
   "source": [
    "from keras.preprocessing.image import ImageDataGenerator"
   ]
  },
  {
   "cell_type": "code",
   "execution_count": 113,
   "metadata": {
    "id": "ycCoFh0cD4yO"
   },
   "outputs": [],
   "source": [
    "# This will do preprocessing and realtime data augmentation:\n",
    "datagen = ImageDataGenerator(\n",
    "    featurewise_center=False,  # set input mean to 0 over the dataset\n",
    "    samplewise_center=False,  # set each sample mean to 0\n",
    "    featurewise_std_normalization=False,  # divide inputs by std of the dataset\n",
    "    samplewise_std_normalization=False,  # divide each input by its std\n",
    "    zca_whitening=False,  # apply ZCA whitening\n",
    "    rotation_range=50,  # randomly rotate images in the range (degrees, 0 to 180)\n",
    "    width_shift_range=0.1,  # randomly shift images horizontally (fraction of total width)\n",
    "    height_shift_range=0.1,  # randomly shift images vertically (fraction of total height)\n",
    "    horizontal_flip=False,  # randomly flip images\n",
    "    vertical_flip=False)  # randomly flip images\n",
    "\n",
    "# Prepare the generator\n",
    "datagen.fit(x_train)\n"
   ]
  },
  {
   "cell_type": "markdown",
   "metadata": {
    "id": "pl-8dOo7Jjwf"
   },
   "source": [
    "#### Showing 5 versions of the first image in training dataset using image datagenerator.flow()"
   ]
  },
  {
   "cell_type": "code",
   "execution_count": null,
   "metadata": {
    "id": "DpI1_McYJjwg",
    "outputId": "6722631e-c925-448c-c780-93a3100249bc",
    "scrolled": true
   },
   "outputs": [
    {
     "data": {
      "image/png": "[encoded data removed]",
      "text/plain": [
       "<matplotlib.figure.Figure at 0x7f5491602650>"
      ]
     },
     "metadata": {
      "tags": []
     },
     "output_type": "display_data"
    }
   ],
   "source": [
    "from matplotlib import pyplot as plt\n",
    "gen = datagen.flow(x_train[0:1], batch_size=1)\n",
    "for i in range(1, 6):\n",
    "    plt.subplot(1,5,i)\n",
    "    plt.axis(\"off\")\n",
    "    plt.imshow(gen.next().squeeze(), cmap='gray')\n",
    "    plt.plot()\n",
    "plt.show()"
   ]
  },
  {
   "cell_type": "markdown",
   "metadata": {
    "id": "dmPl5yE8Jjwm"
   },
   "source": [
    "### Run the above model using fit_generator()"
   ]
  },
  {
   "cell_type": "code",
   "execution_count": 114,
   "metadata": {
    "colab": {
     "base_uri": "https://localhost:8080/"
    },
    "id": "44ZnDdJYJjwn",
    "outputId": "524e554e-0fa3-4e68-f8e8-5beef7151aed"
   },
   "outputs": [
    {
     "name": "stderr",
     "output_type": "stream",
     "text": [
      "/usr/local/lib/python3.6/dist-packages/tensorflow/python/keras/engine/training.py:1844: UserWarning: `Model.fit_generator` is deprecated and will be removed in a future version. Please use `Model.fit`, which supports generators.\n",
      "  warnings.warn('`Model.fit_generator` is deprecated and '\n"
     ]
    },
    {
     "name": "stdout",
     "output_type": "stream",
     "text": [
      "Epoch 1/30\n",
      "1875/1875 [==============================] - 18s 9ms/step - loss: 1.5831 - accuracy: 0.4181 - val_loss: 53.3875 - val_accuracy: 0.5452\n",
      "Epoch 2/30\n",
      "1875/1875 [==============================] - 17s 9ms/step - loss: 0.9864 - accuracy: 0.6351 - val_loss: 59.2781 - val_accuracy: 0.4972\n",
      "Epoch 3/30\n",
      "1875/1875 [==============================] - 17s 9ms/step - loss: 0.8748 - accuracy: 0.6729 - val_loss: 89.7036 - val_accuracy: 0.4672\n",
      "Epoch 4/30\n",
      "1875/1875 [==============================] - 17s 9ms/step - loss: 0.8348 - accuracy: 0.6842 - val_loss: 154.1621 - val_accuracy: 0.3426\n",
      "Epoch 5/30\n",
      "1875/1875 [==============================] - 17s 9ms/step - loss: 0.8033 - accuracy: 0.6972 - val_loss: 202.5954 - val_accuracy: 0.3535\n",
      "Epoch 6/30\n",
      "1875/1875 [==============================] - 17s 9ms/step - loss: 0.7820 - accuracy: 0.7046 - val_loss: 278.7164 - val_accuracy: 0.2642\n",
      "Epoch 7/30\n",
      "1875/1875 [==============================] - 17s 9ms/step - loss: 0.7724 - accuracy: 0.7082 - val_loss: 294.7256 - val_accuracy: 0.2569\n",
      "Epoch 8/30\n",
      "1875/1875 [==============================] - 17s 9ms/step - loss: 0.7575 - accuracy: 0.7108 - val_loss: 370.7250 - val_accuracy: 0.2663\n",
      "Epoch 9/30\n",
      "1875/1875 [==============================] - 17s 9ms/step - loss: 0.7344 - accuracy: 0.7222 - val_loss: 363.4727 - val_accuracy: 0.2510\n",
      "Epoch 10/30\n",
      "1875/1875 [==============================] - 17s 9ms/step - loss: 0.7306 - accuracy: 0.7236 - val_loss: 365.9201 - val_accuracy: 0.2716\n",
      "Epoch 11/30\n",
      "1875/1875 [==============================] - 17s 9ms/step - loss: 0.7193 - accuracy: 0.7260 - val_loss: 411.3191 - val_accuracy: 0.2646\n",
      "Epoch 12/30\n",
      "1875/1875 [==============================] - 17s 9ms/step - loss: 0.7040 - accuracy: 0.7319 - val_loss: 447.9383 - val_accuracy: 0.2619\n",
      "Epoch 13/30\n",
      "1875/1875 [==============================] - 17s 9ms/step - loss: 0.6954 - accuracy: 0.7343 - val_loss: 438.3352 - val_accuracy: 0.2395\n",
      "Epoch 14/30\n",
      "1875/1875 [==============================] - 17s 9ms/step - loss: 0.6902 - accuracy: 0.7394 - val_loss: 530.1010 - val_accuracy: 0.2429\n",
      "Epoch 15/30\n",
      "1875/1875 [==============================] - 17s 9ms/step - loss: 0.6824 - accuracy: 0.7394 - val_loss: 507.4268 - val_accuracy: 0.2633\n",
      "Epoch 16/30\n",
      "1875/1875 [==============================] - 17s 9ms/step - loss: 0.6691 - accuracy: 0.7472 - val_loss: 525.4590 - val_accuracy: 0.2790\n",
      "Epoch 17/30\n",
      "1875/1875 [==============================] - 17s 9ms/step - loss: 0.6559 - accuracy: 0.7500 - val_loss: 543.4363 - val_accuracy: 0.2547\n",
      "Epoch 18/30\n",
      "1875/1875 [==============================] - 17s 9ms/step - loss: 0.6637 - accuracy: 0.7504 - val_loss: 521.6935 - val_accuracy: 0.2639\n",
      "Epoch 19/30\n",
      "1875/1875 [==============================] - 17s 9ms/step - loss: 0.6423 - accuracy: 0.7564 - val_loss: 492.2483 - val_accuracy: 0.2533\n",
      "Epoch 20/30\n",
      "1875/1875 [==============================] - 17s 9ms/step - loss: 0.6380 - accuracy: 0.7575 - val_loss: 403.1323 - val_accuracy: 0.2555\n",
      "Epoch 21/30\n",
      "1875/1875 [==============================] - 17s 9ms/step - loss: 0.6178 - accuracy: 0.7661 - val_loss: 287.0510 - val_accuracy: 0.3263\n",
      "Epoch 22/30\n",
      "1875/1875 [==============================] - 17s 9ms/step - loss: 0.6176 - accuracy: 0.7676 - val_loss: 283.9445 - val_accuracy: 0.3532\n",
      "Epoch 23/30\n",
      "1875/1875 [==============================] - 17s 9ms/step - loss: 0.6161 - accuracy: 0.7707 - val_loss: 212.1324 - val_accuracy: 0.3963\n",
      "Epoch 24/30\n",
      "1875/1875 [==============================] - 17s 9ms/step - loss: 0.5947 - accuracy: 0.7722 - val_loss: 220.6100 - val_accuracy: 0.3720\n",
      "Epoch 25/30\n",
      "1875/1875 [==============================] - 17s 9ms/step - loss: 0.5854 - accuracy: 0.7826 - val_loss: 157.8326 - val_accuracy: 0.4132\n",
      "Epoch 26/30\n",
      "1875/1875 [==============================] - 17s 9ms/step - loss: 0.5857 - accuracy: 0.7814 - val_loss: 146.1855 - val_accuracy: 0.4629\n",
      "Epoch 27/30\n",
      "1875/1875 [==============================] - 17s 9ms/step - loss: 0.5849 - accuracy: 0.7783 - val_loss: 129.3101 - val_accuracy: 0.5194\n",
      "Epoch 28/30\n",
      "1875/1875 [==============================] - 17s 9ms/step - loss: 0.5774 - accuracy: 0.7856 - val_loss: 116.3217 - val_accuracy: 0.5304\n",
      "Epoch 29/30\n",
      "1875/1875 [==============================] - 17s 9ms/step - loss: 0.5645 - accuracy: 0.7908 - val_loss: 110.8820 - val_accuracy: 0.5304\n",
      "Epoch 30/30\n",
      "1875/1875 [==============================] - 17s 9ms/step - loss: 0.5544 - accuracy: 0.7929 - val_loss: 108.6455 - val_accuracy: 0.5385\n"
     ]
    },
    {
     "data": {
      "text/plain": [
       "<tensorflow.python.keras.callbacks.History at 0x7f4d100d9b00>"
      ]
     },
     "execution_count": 114,
     "metadata": {
      "tags": []
     },
     "output_type": "execute_result"
    }
   ],
   "source": [
    "# Lets build model again by adding max pool layer\n",
    "tf.keras.backend.clear_session()\n",
    "#Initialise model\n",
    "model = tf.keras.models.Sequential()\n",
    "#1st convolutional layer\n",
    "model.add(tf.keras.layers.Conv2D(32,kernel_size=(3,3), activation='relu'))\n",
    "#2nd convolutional layer\n",
    "model.add(tf.keras.layers.Conv2D(32,kernel_size=(3,3), activation='relu'))\n",
    "\n",
    "model.add(Dropout(0.25))\n",
    "\n",
    "#Add max pool layer\n",
    "model.add(MaxPooling2D(pool_size=(2,2)))\n",
    "\n",
    "#Flatten the output\n",
    "model.add(tf.keras.layers.Flatten())\n",
    "#fully connected layer\n",
    "model.add(tf.keras.layers.Dense(128, activation='relu'))\n",
    "#Output layer\n",
    "model.add(tf.keras.layers.Dense(10, activation='softmax'))\n",
    "\n",
    "model.compile(optimizer='adam', loss='categorical_crossentropy', metrics=['accuracy'])\n",
    "early_stopping = tf.keras.callbacks.EarlyStopping(monitor='val_acc', patience=5, verbose=1, mode='auto')\n",
    "callback_list=[early_stopping]\n",
    "#Train the model\n",
    "model.fit_generator(datagen.flow(x_train,y_train,batch_size=32),steps_per_epoch=x_train.shape[0]/32,                                         \n",
    "          validation_data=(x_test,y_test),\n",
    "          epochs=30)\n",
    "         #callbacks=callback_list)"
   ]
  },
  {
   "cell_type": "markdown",
   "metadata": {
    "id": "MwQQW5iOJjwq"
   },
   "source": [
    "###  Report the final train and validation accuracy"
   ]
  },
  {
   "cell_type": "code",
   "execution_count": 119,
   "metadata": {
    "colab": {
     "base_uri": "https://localhost:8080/"
    },
    "id": "c1SrtBEPJjwq",
    "outputId": "6acbfd34-bf6d-426d-d910-faf4368191fc"
   },
   "outputs": [
    {
     "name": "stdout",
     "output_type": "stream",
     "text": [
      "313/313 [==============================] - 1s 2ms/step - loss: 108.6455 - accuracy: 0.5385\n",
      "[108.64553833007812, 0.5385000109672546]\n"
     ]
    }
   ],
   "source": [
    "print(model.evaluate(x_test,y_test))"
   ]
  },
  {
   "cell_type": "code",
   "execution_count": null,
   "metadata": {
    "id": "ZBwVWNQC2qZD"
   },
   "outputs": [],
   "source": []
  },
  {
   "cell_type": "markdown",
   "metadata": {
    "id": "8KXqmUDW2rM1"
   },
   "source": [
    "## **DATA AUGMENTATION ON CIFAR10 DATASET**"
   ]
  },
  {
   "cell_type": "markdown",
   "metadata": {
    "id": "8mja6OgQ3L18"
   },
   "source": [
    "One of the best ways to improve the performance of a Deep Learning model is to add more data to the training set. Aside from gathering more instances from the wild that are representative of the distinction task, we want to develop a set of methods that enhance the data we already have. There are many ways to augment existing datasets and produce more robust models. In the image domain, these are done to utilize the full power of the convolutional neural network, which is able to capture translational invariance. This translational invariance is what makes image recognition such a difficult task in the first place. You want the dataset to be representative of the many different positions, angles, lightings, and miscellaneous distortions that are of interest to the vision task."
   ]
  },
  {
   "cell_type": "markdown",
   "metadata": {
    "id": "6HzVTPUM3WZJ"
   },
   "source": [
    "### **Import neessary libraries for data augmentation**"
   ]
  },
  {
   "cell_type": "code",
   "execution_count": null,
   "metadata": {
    "id": "PPM558TX4KMb"
   },
   "outputs": [],
   "source": [
    "from keras.preprocessing.image import ImageDataGenerator"
   ]
  },
  {
   "cell_type": "markdown",
   "metadata": {
    "id": "W6hicLwP4SqY"
   },
   "source": [
    "### **Load CIFAR10 dataset**"
   ]
  },
  {
   "cell_type": "code",
   "execution_count": 127,
   "metadata": {
    "id": "NQ1WzrXd4WNk"
   },
   "outputs": [],
   "source": [
    "from keras.datasets import cifar10\n",
    "(x_train11, y_train11), (x_test11, y_test11) = cifar10.load_data()"
   ]
  },
  {
   "cell_type": "code",
   "execution_count": 128,
   "metadata": {
    "colab": {
     "base_uri": "https://localhost:8080/"
    },
    "id": "X-6HH1bANJff",
    "outputId": "40b57aa5-c144-43f8-b600-64a16c4c1596"
   },
   "outputs": [
    {
     "data": {
      "text/plain": [
       "(50000, 32, 32, 3)"
      ]
     },
     "execution_count": 128,
     "metadata": {
      "tags": []
     },
     "output_type": "execute_result"
    }
   ],
   "source": [
    "x_train11.shape"
   ]
  },
  {
   "cell_type": "markdown",
   "metadata": {
    "id": "JN3vYYhK4W0u"
   },
   "source": [
    "### **Create a data_gen funtion to genererator with image rotation,shifting image horizontally and vertically with random flip horizontally.**"
   ]
  },
  {
   "cell_type": "code",
   "execution_count": 129,
   "metadata": {
    "id": "JJbekTKi4cmM"
   },
   "outputs": [],
   "source": [
    "gen = ImageDataGenerator(\n",
    "    featurewise_center=False,  # set input mean to 0 over the dataset\n",
    "    samplewise_center=False,  # set each sample mean to 0\n",
    "    featurewise_std_normalization=False,  # divide inputs by std of the dataset\n",
    "    samplewise_std_normalization=False,  # divide each input by its std\n",
    "    zca_whitening=False,  # apply ZCA whitening\n",
    "    rotation_range=50,  # randomly rotate images in the range (degrees, 0 to 180)\n",
    "    width_shift_range=0.1,  # randomly shift images horizontally (fraction of total width)\n",
    "    height_shift_range=0.1,  # randomly shift images vertically (fraction of total height)\n",
    "    horizontal_flip=False,  # randomly flip images\n",
    "    vertical_flip=False)  # randomly flip images\n",
    "\n",
    "# Prepare the generator\n",
    "datagen.fit(x_train11)"
   ]
  },
  {
   "cell_type": "markdown",
   "metadata": {
    "id": "e-SLtUhC4dK2"
   },
   "source": [
    "### **Prepare/fit the generator.**"
   ]
  },
  {
   "cell_type": "code",
   "execution_count": 130,
   "metadata": {
    "id": "CSw8Bv2_4hb0"
   },
   "outputs": [],
   "source": [
    "\n",
    "x_train11  = x_train11.astype('float32')\n",
    "x_test11 = x_test11.astype('float32')\n",
    "\n",
    "x_train11/=255\n",
    "x_test11 /=255\n",
    "\n",
    "x_train11 = x_train11.reshape(x_train11.shape[0],32,32,3)\n",
    "\n",
    "x_test11 = x_test11.reshape(x_test11.shape[0],32,32,3)"
   ]
  },
  {
   "cell_type": "markdown",
   "metadata": {
    "id": "gYyF-P8O4jQ8"
   },
   "source": [
    "### **Generate 5 images for 1 of the image of CIFAR10 train dataset.**"
   ]
  },
  {
   "cell_type": "code",
   "execution_count": 136,
   "metadata": {
    "colab": {
     "base_uri": "https://localhost:8080/",
     "height": 89
    },
    "id": "mXug4z234mwQ",
    "outputId": "639793f2-53b6-45ce-b526-3105694a64ee"
   },
   "outputs": [
    {
     "data": {
      "image/png": "[encoded data removed]",
      "text/plain": [
       "<Figure size 432x288 with 5 Axes>"
      ]
     },
     "metadata": {
      "needs_background": "light",
      "tags": []
     },
     "output_type": "display_data"
    }
   ],
   "source": [
    "from matplotlib import pyplot as plt\n",
    "gen = datagen.flow(x_train11[20:21], batch_size=1)\n",
    "for i in range(1, 6):\n",
    "    plt.subplot(1,5,i)\n",
    "    plt.axis(\"off\")\n",
    "    plt.imshow(gen.next().squeeze(), cmap='gray')\n",
    "    plt.plot()\n",
    "plt.show()"
   ]
  },
  {
   "cell_type": "code",
   "execution_count": null,
   "metadata": {
    "id": "DzlSfPAlPJUJ"
   },
   "outputs": [],
   "source": []
  }
 ],
 "metadata": {
  "accelerator": "GPU",
  "colab": {
   "collapsed_sections": [],
   "name": "Lab on Computer Vision with CNN.ipynb",
   "provenance": []
  },
  "kernelspec": {
   "display_name": "Python 3",
   "language": "python",
   "name": "python3"
  },
  "language_info": {
   "codemirror_mode": {
    "name": "ipython",
    "version": 3
   },
   "file_extension": ".py",
   "mimetype": "text/x-python",
   "name": "python",
   "nbconvert_exporter": "python",
   "pygments_lexer": "ipython3",
   "version": "3.6.5"
  }
 },
 "nbformat": 4,
 "nbformat_minor": 1
}
