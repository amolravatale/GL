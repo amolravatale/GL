{
 "cells": [
  {
   "cell_type": "markdown",
   "metadata": {
    "id": "yp7vZ3fqcDmU"
   },
   "source": [
    "# 1. Popularity Based Recommendation System"
   ]
  },
  {
   "cell_type": "code",
   "execution_count": 1,
   "metadata": {
    "colab": {
     "base_uri": "https://localhost:8080/",
     "height": 34
    },
    "id": "EOkhFTxfuVIP",
    "outputId": "25b55ff7-c5ca-4462-cbbd-3bcd9fbb2497"
   },
   "outputs": [
    {
     "name": "stdout",
     "output_type": "stream",
     "text": [
      "Mounted at /content/drive\n"
     ]
    }
   ],
   "source": [
    "from google.colab import drive\n",
    "drive.mount('/content/drive')"
   ]
  },
  {
   "cell_type": "code",
   "execution_count": 3,
   "metadata": {
    "id": "-p9o6zDLNPtU"
   },
   "outputs": [],
   "source": [
    "import os \n",
    "os.chdir('/content/drive/My Drive/Residency5')"
   ]
  },
  {
   "cell_type": "markdown",
   "metadata": {
    "id": "-1aHQkiucWiV"
   },
   "source": [
    "## About the Dataset (jokes.csv)\n",
    "\n",
    "\n",
    "\n",
    " \n",
    "1. Ratings are real values ranging from -10.00 to +10.00 (the value \"99\" corresponds to \"null\" = \"not rated\").\n",
    "  \n",
    "2. One row per user\n",
    "3. The first column gives the number of jokes rated by that user. The next 100 columns give the ratings for jokes 01 - 100.\n",
    "\n"
   ]
  },
  {
   "cell_type": "markdown",
   "metadata": {
    "id": "tQ-vZ1i8dWDj"
   },
   "source": [
    "### Q1. Read the data (jokes.csv)"
   ]
  },
  {
   "cell_type": "code",
   "execution_count": 4,
   "metadata": {
    "id": "hfJu2nega3q8"
   },
   "outputs": [],
   "source": [
    "import pandas as pd\n",
    "import numpy as npb\n",
    "import seaborn as sns\n",
    "import matplotlib.pyplot as plt"
   ]
  },
  {
   "cell_type": "code",
   "execution_count": 5,
   "metadata": {
    "colab": {
     "base_uri": "https://localhost:8080/",
     "height": 309
    },
    "id": "0BwJjkwQ09ut",
    "outputId": "97383c50-d668-4bff-bbe1-e6994c9b8130"
   },
   "outputs": [
    {
     "name": "stdout",
     "output_type": "stream",
     "text": [
      "Collecting surprise\n",
      "  Downloading https://files.pythonhosted.org/packages/61/de/e5cba8682201fcf9c3719a6fdda95693468ed061945493dea2dd37c5618b/surprise-0.1-py2.py3-none-any.whl\n",
      "Collecting scikit-surprise\n",
      "\u001b[?25l  Downloading https://files.pythonhosted.org/packages/97/37/5d334adaf5ddd65da99fc65f6507e0e4599d092ba048f4302fe8775619e8/scikit-surprise-1.1.1.tar.gz (11.8MB)\n",
      "\u001b[K     |████████████████████████████████| 11.8MB 5.1MB/s \n",
      "\u001b[?25hRequirement already satisfied: joblib>=0.11 in /usr/local/lib/python3.6/dist-packages (from scikit-surprise->surprise) (0.16.0)\n",
      "Requirement already satisfied: numpy>=1.11.2 in /usr/local/lib/python3.6/dist-packages (from scikit-surprise->surprise) (1.18.5)\n",
      "Requirement already satisfied: scipy>=1.0.0 in /usr/local/lib/python3.6/dist-packages (from scikit-surprise->surprise) (1.4.1)\n",
      "Requirement already satisfied: six>=1.10.0 in /usr/local/lib/python3.6/dist-packages (from scikit-surprise->surprise) (1.15.0)\n",
      "Building wheels for collected packages: scikit-surprise\n",
      "  Building wheel for scikit-surprise (setup.py) ... \u001b[?25l\u001b[?25hdone\n",
      "  Created wheel for scikit-surprise: filename=scikit_surprise-1.1.1-cp36-cp36m-linux_x86_64.whl size=1670917 sha256=a9b6276ffe48e0727eae99e1ad5d26dca6c29618fdb2b5a57db0e2000c789839\n",
      "  Stored in directory: /root/.cache/pip/wheels/78/9c/3d/41b419c9d2aff5b6e2b4c0fc8d25c538202834058f9ed110d0\n",
      "Successfully built scikit-surprise\n",
      "Installing collected packages: scikit-surprise, surprise\n",
      "Successfully installed scikit-surprise-1.1.1 surprise-0.1\n"
     ]
    }
   ],
   "source": [
    "!pip install surprise"
   ]
  },
  {
   "cell_type": "code",
   "execution_count": 6,
   "metadata": {
    "id": "kK-bayXqw_Ir"
   },
   "outputs": [],
   "source": [
    "dfjokes = pd.read_csv(\"Dataset - jokes.csv\") "
   ]
  },
  {
   "cell_type": "code",
   "execution_count": 7,
   "metadata": {
    "colab": {
     "base_uri": "https://localhost:8080/",
     "height": 34
    },
    "id": "1EqSnsHi2USO",
    "outputId": "814e3d92-1f92-47ce-c34a-c4942073273b"
   },
   "outputs": [
    {
     "data": {
      "text/plain": [
       "(24983, 101)"
      ]
     },
     "execution_count": 7,
     "metadata": {
      "tags": []
     },
     "output_type": "execute_result"
    }
   ],
   "source": [
    "dfjokes.shape"
   ]
  },
  {
   "cell_type": "code",
   "execution_count": 8,
   "metadata": {
    "colab": {
     "base_uri": "https://localhost:8080/",
     "height": 253
    },
    "id": "_M-C_DSUyu_r",
    "outputId": "dd2c871c-1103-4640-d110-5b62f14c40ac"
   },
   "outputs": [
    {
     "data": {
      "text/html": [
       "<div>\n",
       "<style scoped>\n",
       "    .dataframe tbody tr th:only-of-type {\n",
       "        vertical-align: middle;\n",
       "    }\n",
       "\n",
       "    .dataframe tbody tr th {\n",
       "        vertical-align: top;\n",
       "    }\n",
       "\n",
       "    .dataframe thead th {\n",
       "        text-align: right;\n",
       "    }\n",
       "</style>\n",
       "<table border=\"1\" class=\"dataframe\">\n",
       "  <thead>\n",
       "    <tr style=\"text-align: right;\">\n",
       "      <th></th>\n",
       "      <th>NumJokes</th>\n",
       "      <th>Joke1</th>\n",
       "      <th>Joke2</th>\n",
       "      <th>Joke3</th>\n",
       "      <th>Joke4</th>\n",
       "      <th>Joke5</th>\n",
       "      <th>Joke6</th>\n",
       "      <th>Joke7</th>\n",
       "      <th>Joke8</th>\n",
       "      <th>Joke9</th>\n",
       "      <th>Joke10</th>\n",
       "      <th>Joke11</th>\n",
       "      <th>Joke12</th>\n",
       "      <th>Joke13</th>\n",
       "      <th>Joke14</th>\n",
       "      <th>Joke15</th>\n",
       "      <th>Joke16</th>\n",
       "      <th>Joke17</th>\n",
       "      <th>Joke18</th>\n",
       "      <th>Joke19</th>\n",
       "      <th>Joke20</th>\n",
       "      <th>Joke21</th>\n",
       "      <th>Joke22</th>\n",
       "      <th>Joke23</th>\n",
       "      <th>Joke24</th>\n",
       "      <th>Joke25</th>\n",
       "      <th>Joke26</th>\n",
       "      <th>Joke27</th>\n",
       "      <th>Joke28</th>\n",
       "      <th>Joke29</th>\n",
       "      <th>Joke30</th>\n",
       "      <th>Joke31</th>\n",
       "      <th>Joke32</th>\n",
       "      <th>Joke33</th>\n",
       "      <th>Joke34</th>\n",
       "      <th>Joke35</th>\n",
       "      <th>Joke36</th>\n",
       "      <th>Joke37</th>\n",
       "      <th>Joke38</th>\n",
       "      <th>Joke39</th>\n",
       "      <th>...</th>\n",
       "      <th>Joke61</th>\n",
       "      <th>Joke62</th>\n",
       "      <th>Joke63</th>\n",
       "      <th>Joke64</th>\n",
       "      <th>Joke65</th>\n",
       "      <th>Joke66</th>\n",
       "      <th>Joke67</th>\n",
       "      <th>Joke68</th>\n",
       "      <th>Joke69</th>\n",
       "      <th>Joke70</th>\n",
       "      <th>Joke71</th>\n",
       "      <th>Joke72</th>\n",
       "      <th>Joke73</th>\n",
       "      <th>Joke74</th>\n",
       "      <th>Joke75</th>\n",
       "      <th>Joke76</th>\n",
       "      <th>Joke77</th>\n",
       "      <th>Joke78</th>\n",
       "      <th>Joke79</th>\n",
       "      <th>Joke80</th>\n",
       "      <th>Joke81</th>\n",
       "      <th>Joke82</th>\n",
       "      <th>Joke83</th>\n",
       "      <th>Joke84</th>\n",
       "      <th>Joke85</th>\n",
       "      <th>Joke86</th>\n",
       "      <th>Joke87</th>\n",
       "      <th>Joke88</th>\n",
       "      <th>Joke89</th>\n",
       "      <th>Joke90</th>\n",
       "      <th>Joke91</th>\n",
       "      <th>Joke92</th>\n",
       "      <th>Joke93</th>\n",
       "      <th>Joke94</th>\n",
       "      <th>Joke95</th>\n",
       "      <th>Joke96</th>\n",
       "      <th>Joke97</th>\n",
       "      <th>Joke98</th>\n",
       "      <th>Joke99</th>\n",
       "      <th>Joke100</th>\n",
       "    </tr>\n",
       "  </thead>\n",
       "  <tbody>\n",
       "    <tr>\n",
       "      <th>0</th>\n",
       "      <td>74</td>\n",
       "      <td>-7.82</td>\n",
       "      <td>8.79</td>\n",
       "      <td>-9.66</td>\n",
       "      <td>-8.16</td>\n",
       "      <td>-7.52</td>\n",
       "      <td>-8.50</td>\n",
       "      <td>-9.85</td>\n",
       "      <td>4.17</td>\n",
       "      <td>-8.98</td>\n",
       "      <td>-4.76</td>\n",
       "      <td>-8.50</td>\n",
       "      <td>-6.75</td>\n",
       "      <td>-7.18</td>\n",
       "      <td>8.45</td>\n",
       "      <td>-7.18</td>\n",
       "      <td>-7.52</td>\n",
       "      <td>-7.43</td>\n",
       "      <td>-9.81</td>\n",
       "      <td>-9.85</td>\n",
       "      <td>-9.85</td>\n",
       "      <td>-9.37</td>\n",
       "      <td>1.50</td>\n",
       "      <td>-4.37</td>\n",
       "      <td>-9.81</td>\n",
       "      <td>-8.50</td>\n",
       "      <td>1.12</td>\n",
       "      <td>7.82</td>\n",
       "      <td>2.86</td>\n",
       "      <td>9.13</td>\n",
       "      <td>-7.43</td>\n",
       "      <td>2.14</td>\n",
       "      <td>-4.08</td>\n",
       "      <td>-9.08</td>\n",
       "      <td>7.82</td>\n",
       "      <td>5.05</td>\n",
       "      <td>4.95</td>\n",
       "      <td>-9.17</td>\n",
       "      <td>-8.40</td>\n",
       "      <td>-8.40</td>\n",
       "      <td>...</td>\n",
       "      <td>8.59</td>\n",
       "      <td>3.59</td>\n",
       "      <td>-6.84</td>\n",
       "      <td>-9.03</td>\n",
       "      <td>2.82</td>\n",
       "      <td>-1.36</td>\n",
       "      <td>-9.08</td>\n",
       "      <td>8.30</td>\n",
       "      <td>5.68</td>\n",
       "      <td>-4.81</td>\n",
       "      <td>99.0</td>\n",
       "      <td>99.00</td>\n",
       "      <td>99.0</td>\n",
       "      <td>99.00</td>\n",
       "      <td>99.00</td>\n",
       "      <td>99.00</td>\n",
       "      <td>99.00</td>\n",
       "      <td>-9.42</td>\n",
       "      <td>99.00</td>\n",
       "      <td>99.00</td>\n",
       "      <td>99.00</td>\n",
       "      <td>-7.72</td>\n",
       "      <td>99.00</td>\n",
       "      <td>99.00</td>\n",
       "      <td>99.00</td>\n",
       "      <td>99.00</td>\n",
       "      <td>99.00</td>\n",
       "      <td>99.00</td>\n",
       "      <td>99.00</td>\n",
       "      <td>99.00</td>\n",
       "      <td>2.82</td>\n",
       "      <td>99.00</td>\n",
       "      <td>99.00</td>\n",
       "      <td>99.00</td>\n",
       "      <td>99.00</td>\n",
       "      <td>99.00</td>\n",
       "      <td>-5.63</td>\n",
       "      <td>99.00</td>\n",
       "      <td>99.00</td>\n",
       "      <td>99.00</td>\n",
       "    </tr>\n",
       "    <tr>\n",
       "      <th>1</th>\n",
       "      <td>100</td>\n",
       "      <td>4.08</td>\n",
       "      <td>-0.29</td>\n",
       "      <td>6.36</td>\n",
       "      <td>4.37</td>\n",
       "      <td>-2.38</td>\n",
       "      <td>-9.66</td>\n",
       "      <td>-0.73</td>\n",
       "      <td>-5.34</td>\n",
       "      <td>8.88</td>\n",
       "      <td>9.22</td>\n",
       "      <td>6.75</td>\n",
       "      <td>8.64</td>\n",
       "      <td>4.42</td>\n",
       "      <td>7.43</td>\n",
       "      <td>4.56</td>\n",
       "      <td>-0.97</td>\n",
       "      <td>4.66</td>\n",
       "      <td>-0.68</td>\n",
       "      <td>3.30</td>\n",
       "      <td>-1.21</td>\n",
       "      <td>0.87</td>\n",
       "      <td>8.64</td>\n",
       "      <td>8.35</td>\n",
       "      <td>9.17</td>\n",
       "      <td>0.05</td>\n",
       "      <td>7.57</td>\n",
       "      <td>4.71</td>\n",
       "      <td>0.87</td>\n",
       "      <td>-0.39</td>\n",
       "      <td>6.99</td>\n",
       "      <td>6.50</td>\n",
       "      <td>-0.92</td>\n",
       "      <td>7.14</td>\n",
       "      <td>9.03</td>\n",
       "      <td>-1.80</td>\n",
       "      <td>0.73</td>\n",
       "      <td>7.09</td>\n",
       "      <td>3.40</td>\n",
       "      <td>-0.87</td>\n",
       "      <td>...</td>\n",
       "      <td>-6.70</td>\n",
       "      <td>-3.35</td>\n",
       "      <td>-9.03</td>\n",
       "      <td>4.47</td>\n",
       "      <td>4.08</td>\n",
       "      <td>-3.83</td>\n",
       "      <td>8.74</td>\n",
       "      <td>1.12</td>\n",
       "      <td>0.78</td>\n",
       "      <td>7.52</td>\n",
       "      <td>-5.0</td>\n",
       "      <td>2.77</td>\n",
       "      <td>8.3</td>\n",
       "      <td>7.77</td>\n",
       "      <td>7.33</td>\n",
       "      <td>6.21</td>\n",
       "      <td>7.72</td>\n",
       "      <td>8.98</td>\n",
       "      <td>8.64</td>\n",
       "      <td>8.20</td>\n",
       "      <td>3.93</td>\n",
       "      <td>4.85</td>\n",
       "      <td>4.85</td>\n",
       "      <td>6.07</td>\n",
       "      <td>8.98</td>\n",
       "      <td>4.51</td>\n",
       "      <td>-0.05</td>\n",
       "      <td>3.69</td>\n",
       "      <td>4.56</td>\n",
       "      <td>0.58</td>\n",
       "      <td>2.82</td>\n",
       "      <td>-4.95</td>\n",
       "      <td>-0.29</td>\n",
       "      <td>7.86</td>\n",
       "      <td>-0.19</td>\n",
       "      <td>-2.14</td>\n",
       "      <td>3.06</td>\n",
       "      <td>0.34</td>\n",
       "      <td>-4.32</td>\n",
       "      <td>1.07</td>\n",
       "    </tr>\n",
       "    <tr>\n",
       "      <th>2</th>\n",
       "      <td>49</td>\n",
       "      <td>99.00</td>\n",
       "      <td>99.00</td>\n",
       "      <td>99.00</td>\n",
       "      <td>99.00</td>\n",
       "      <td>9.03</td>\n",
       "      <td>9.27</td>\n",
       "      <td>9.03</td>\n",
       "      <td>9.27</td>\n",
       "      <td>99.00</td>\n",
       "      <td>99.00</td>\n",
       "      <td>7.33</td>\n",
       "      <td>7.57</td>\n",
       "      <td>9.37</td>\n",
       "      <td>6.17</td>\n",
       "      <td>-6.36</td>\n",
       "      <td>-6.89</td>\n",
       "      <td>-7.86</td>\n",
       "      <td>9.03</td>\n",
       "      <td>9.03</td>\n",
       "      <td>9.03</td>\n",
       "      <td>7.28</td>\n",
       "      <td>99.00</td>\n",
       "      <td>8.25</td>\n",
       "      <td>99.00</td>\n",
       "      <td>99.00</td>\n",
       "      <td>7.48</td>\n",
       "      <td>7.28</td>\n",
       "      <td>7.28</td>\n",
       "      <td>8.93</td>\n",
       "      <td>99.00</td>\n",
       "      <td>6.17</td>\n",
       "      <td>7.28</td>\n",
       "      <td>99.00</td>\n",
       "      <td>99.00</td>\n",
       "      <td>8.98</td>\n",
       "      <td>7.33</td>\n",
       "      <td>99.00</td>\n",
       "      <td>6.17</td>\n",
       "      <td>9.08</td>\n",
       "      <td>...</td>\n",
       "      <td>6.46</td>\n",
       "      <td>7.28</td>\n",
       "      <td>99.00</td>\n",
       "      <td>99.00</td>\n",
       "      <td>7.04</td>\n",
       "      <td>7.28</td>\n",
       "      <td>99.00</td>\n",
       "      <td>7.28</td>\n",
       "      <td>8.25</td>\n",
       "      <td>99.00</td>\n",
       "      <td>99.0</td>\n",
       "      <td>99.00</td>\n",
       "      <td>99.0</td>\n",
       "      <td>99.00</td>\n",
       "      <td>99.00</td>\n",
       "      <td>8.93</td>\n",
       "      <td>99.00</td>\n",
       "      <td>99.00</td>\n",
       "      <td>99.00</td>\n",
       "      <td>9.08</td>\n",
       "      <td>99.00</td>\n",
       "      <td>99.00</td>\n",
       "      <td>99.00</td>\n",
       "      <td>99.00</td>\n",
       "      <td>99.00</td>\n",
       "      <td>99.00</td>\n",
       "      <td>99.00</td>\n",
       "      <td>99.00</td>\n",
       "      <td>99.00</td>\n",
       "      <td>9.03</td>\n",
       "      <td>99.00</td>\n",
       "      <td>99.00</td>\n",
       "      <td>99.00</td>\n",
       "      <td>9.08</td>\n",
       "      <td>99.00</td>\n",
       "      <td>99.00</td>\n",
       "      <td>99.00</td>\n",
       "      <td>99.00</td>\n",
       "      <td>99.00</td>\n",
       "      <td>99.00</td>\n",
       "    </tr>\n",
       "    <tr>\n",
       "      <th>3</th>\n",
       "      <td>48</td>\n",
       "      <td>99.00</td>\n",
       "      <td>8.35</td>\n",
       "      <td>99.00</td>\n",
       "      <td>99.00</td>\n",
       "      <td>1.80</td>\n",
       "      <td>8.16</td>\n",
       "      <td>-2.82</td>\n",
       "      <td>6.21</td>\n",
       "      <td>99.00</td>\n",
       "      <td>1.84</td>\n",
       "      <td>7.33</td>\n",
       "      <td>6.60</td>\n",
       "      <td>6.31</td>\n",
       "      <td>8.11</td>\n",
       "      <td>-7.23</td>\n",
       "      <td>-6.65</td>\n",
       "      <td>1.17</td>\n",
       "      <td>-6.60</td>\n",
       "      <td>-3.64</td>\n",
       "      <td>-2.09</td>\n",
       "      <td>5.34</td>\n",
       "      <td>99.00</td>\n",
       "      <td>99.00</td>\n",
       "      <td>99.00</td>\n",
       "      <td>99.00</td>\n",
       "      <td>2.91</td>\n",
       "      <td>3.93</td>\n",
       "      <td>6.75</td>\n",
       "      <td>6.60</td>\n",
       "      <td>99.00</td>\n",
       "      <td>6.65</td>\n",
       "      <td>-6.12</td>\n",
       "      <td>99.00</td>\n",
       "      <td>7.57</td>\n",
       "      <td>6.21</td>\n",
       "      <td>6.65</td>\n",
       "      <td>99.00</td>\n",
       "      <td>-8.30</td>\n",
       "      <td>7.18</td>\n",
       "      <td>...</td>\n",
       "      <td>0.00</td>\n",
       "      <td>-3.69</td>\n",
       "      <td>99.00</td>\n",
       "      <td>99.00</td>\n",
       "      <td>7.82</td>\n",
       "      <td>0.24</td>\n",
       "      <td>99.00</td>\n",
       "      <td>7.28</td>\n",
       "      <td>-2.33</td>\n",
       "      <td>99.00</td>\n",
       "      <td>99.0</td>\n",
       "      <td>99.00</td>\n",
       "      <td>99.0</td>\n",
       "      <td>99.00</td>\n",
       "      <td>99.00</td>\n",
       "      <td>99.00</td>\n",
       "      <td>99.00</td>\n",
       "      <td>99.00</td>\n",
       "      <td>99.00</td>\n",
       "      <td>99.00</td>\n",
       "      <td>99.00</td>\n",
       "      <td>99.00</td>\n",
       "      <td>99.00</td>\n",
       "      <td>99.00</td>\n",
       "      <td>0.63</td>\n",
       "      <td>99.00</td>\n",
       "      <td>99.00</td>\n",
       "      <td>-2.33</td>\n",
       "      <td>99.00</td>\n",
       "      <td>99.00</td>\n",
       "      <td>99.00</td>\n",
       "      <td>99.00</td>\n",
       "      <td>99.00</td>\n",
       "      <td>0.53</td>\n",
       "      <td>99.00</td>\n",
       "      <td>99.00</td>\n",
       "      <td>99.00</td>\n",
       "      <td>99.00</td>\n",
       "      <td>99.00</td>\n",
       "      <td>99.00</td>\n",
       "    </tr>\n",
       "    <tr>\n",
       "      <th>4</th>\n",
       "      <td>91</td>\n",
       "      <td>8.50</td>\n",
       "      <td>4.61</td>\n",
       "      <td>-4.17</td>\n",
       "      <td>-5.39</td>\n",
       "      <td>1.36</td>\n",
       "      <td>1.60</td>\n",
       "      <td>7.04</td>\n",
       "      <td>4.61</td>\n",
       "      <td>-0.44</td>\n",
       "      <td>5.73</td>\n",
       "      <td>8.25</td>\n",
       "      <td>6.84</td>\n",
       "      <td>-3.93</td>\n",
       "      <td>7.23</td>\n",
       "      <td>-2.33</td>\n",
       "      <td>-9.66</td>\n",
       "      <td>2.72</td>\n",
       "      <td>-1.36</td>\n",
       "      <td>2.57</td>\n",
       "      <td>4.51</td>\n",
       "      <td>8.20</td>\n",
       "      <td>6.12</td>\n",
       "      <td>8.30</td>\n",
       "      <td>-1.26</td>\n",
       "      <td>7.77</td>\n",
       "      <td>1.89</td>\n",
       "      <td>-1.17</td>\n",
       "      <td>5.68</td>\n",
       "      <td>8.45</td>\n",
       "      <td>4.61</td>\n",
       "      <td>8.06</td>\n",
       "      <td>-9.47</td>\n",
       "      <td>7.28</td>\n",
       "      <td>5.68</td>\n",
       "      <td>2.48</td>\n",
       "      <td>3.20</td>\n",
       "      <td>-1.26</td>\n",
       "      <td>6.80</td>\n",
       "      <td>4.51</td>\n",
       "      <td>...</td>\n",
       "      <td>7.38</td>\n",
       "      <td>6.17</td>\n",
       "      <td>4.71</td>\n",
       "      <td>-2.28</td>\n",
       "      <td>7.38</td>\n",
       "      <td>4.56</td>\n",
       "      <td>7.14</td>\n",
       "      <td>4.22</td>\n",
       "      <td>3.01</td>\n",
       "      <td>3.83</td>\n",
       "      <td>99.0</td>\n",
       "      <td>99.00</td>\n",
       "      <td>99.0</td>\n",
       "      <td>99.00</td>\n",
       "      <td>99.00</td>\n",
       "      <td>99.00</td>\n",
       "      <td>4.13</td>\n",
       "      <td>99.00</td>\n",
       "      <td>99.00</td>\n",
       "      <td>99.00</td>\n",
       "      <td>5.24</td>\n",
       "      <td>5.92</td>\n",
       "      <td>0.87</td>\n",
       "      <td>7.28</td>\n",
       "      <td>3.93</td>\n",
       "      <td>-0.63</td>\n",
       "      <td>6.31</td>\n",
       "      <td>4.71</td>\n",
       "      <td>2.82</td>\n",
       "      <td>2.96</td>\n",
       "      <td>5.19</td>\n",
       "      <td>5.58</td>\n",
       "      <td>4.27</td>\n",
       "      <td>5.19</td>\n",
       "      <td>5.73</td>\n",
       "      <td>1.55</td>\n",
       "      <td>3.11</td>\n",
       "      <td>6.55</td>\n",
       "      <td>1.80</td>\n",
       "      <td>1.60</td>\n",
       "    </tr>\n",
       "  </tbody>\n",
       "</table>\n",
       "<p>5 rows × 101 columns</p>\n",
       "</div>"
      ],
      "text/plain": [
       "   NumJokes  Joke1  Joke2  Joke3  ...  Joke97  Joke98  Joke99  Joke100\n",
       "0        74  -7.82   8.79  -9.66  ...   -5.63   99.00   99.00    99.00\n",
       "1       100   4.08  -0.29   6.36  ...    3.06    0.34   -4.32     1.07\n",
       "2        49  99.00  99.00  99.00  ...   99.00   99.00   99.00    99.00\n",
       "3        48  99.00   8.35  99.00  ...   99.00   99.00   99.00    99.00\n",
       "4        91   8.50   4.61  -4.17  ...    3.11    6.55    1.80     1.60\n",
       "\n",
       "[5 rows x 101 columns]"
      ]
     },
     "execution_count": 8,
     "metadata": {
      "tags": []
     },
     "output_type": "execute_result"
    }
   ],
   "source": [
    "dfjokes.head()"
   ]
  },
  {
   "cell_type": "markdown",
   "metadata": {
    "id": "DgbBAnY8degI"
   },
   "source": [
    "### Q2. Create new Dataframe `ratings` starting from column `joke1` and consider first 200 rows only\n",
    "\n"
   ]
  },
  {
   "cell_type": "code",
   "execution_count": 9,
   "metadata": {
    "id": "OaHgSe_nd8zi"
   },
   "outputs": [],
   "source": [
    "dfRatings = dfjokes.loc[:199, 'Joke1':]"
   ]
  },
  {
   "cell_type": "code",
   "execution_count": 10,
   "metadata": {
    "colab": {
     "base_uri": "https://localhost:8080/",
     "height": 34
    },
    "id": "wTOQBY_P0TcA",
    "outputId": "522487d4-dd05-4e5c-c92f-d23e9fae2f7c"
   },
   "outputs": [
    {
     "data": {
      "text/plain": [
       "(200, 100)"
      ]
     },
     "execution_count": 10,
     "metadata": {
      "tags": []
     },
     "output_type": "execute_result"
    }
   ],
   "source": [
    "dfRatings.shape"
   ]
  },
  {
   "cell_type": "code",
   "execution_count": 11,
   "metadata": {
    "colab": {
     "base_uri": "https://localhost:8080/",
     "height": 221
    },
    "id": "_Vg0rPHa_2gW",
    "outputId": "0bcc082c-1309-47aa-abca-8cfaa3bd76a8"
   },
   "outputs": [
    {
     "data": {
      "text/plain": [
       "Joke1      float64\n",
       "Joke2      float64\n",
       "Joke3      float64\n",
       "Joke4      float64\n",
       "Joke5      float64\n",
       "            ...   \n",
       "Joke96     float64\n",
       "Joke97     float64\n",
       "Joke98     float64\n",
       "Joke99     float64\n",
       "Joke100    float64\n",
       "Length: 100, dtype: object"
      ]
     },
     "execution_count": 11,
     "metadata": {
      "tags": []
     },
     "output_type": "execute_result"
    }
   ],
   "source": [
    "dfRatings.dtypes"
   ]
  },
  {
   "cell_type": "markdown",
   "metadata": {
    "id": "LqVdyB3veB22"
   },
   "source": [
    "### Q3. Preprocess `ratings`\n",
    "\n",
    "\n",
    "*   Verify presence of null values\n",
    "*   Replace null with 0\n",
    "\n"
   ]
  },
  {
   "cell_type": "code",
   "execution_count": 12,
   "metadata": {
    "colab": {
     "base_uri": "https://localhost:8080/",
     "height": 34
    },
    "id": "HvmYrv2ueiY2",
    "outputId": "8ffab069-5d86-4a22-a71a-bfd70da34bcb"
   },
   "outputs": [
    {
     "data": {
      "text/plain": [
       "0"
      ]
     },
     "execution_count": 12,
     "metadata": {
      "tags": []
     },
     "output_type": "execute_result"
    }
   ],
   "source": [
    "dfRatings.isna().sum().sum() #Check null values"
   ]
  },
  {
   "cell_type": "code",
   "execution_count": 13,
   "metadata": {
    "id": "P1TfH09e7HhT"
   },
   "outputs": [],
   "source": [
    "# null values are represented by 99 value so replace it with 0 value qwhihc will represent\n",
    "# no rating by user\n",
    "dfRatings.replace(99,0,inplace=True)          "
   ]
  },
  {
   "cell_type": "markdown",
   "metadata": {
    "id": "wAATaQB9emb4"
   },
   "source": [
    "### Q4. Find mean for each joke\n",
    "\n",
    "\n",
    "*   Find mean of 100 jokes\n",
    "\n"
   ]
  },
  {
   "cell_type": "code",
   "execution_count": 14,
   "metadata": {
    "id": "rLyJwXaWfQFB"
   },
   "outputs": [],
   "source": [
    "meanratings = dfRatings.mean(axis=0)"
   ]
  },
  {
   "cell_type": "code",
   "execution_count": 16,
   "metadata": {
    "colab": {
     "base_uri": "https://localhost:8080/",
     "height": 204
    },
    "id": "7Y1VD_dT_W8j",
    "outputId": "ffe5706c-adca-4765-d602-afe13c5b7386"
   },
   "outputs": [
    {
     "data": {
      "text/plain": [
       "Joke50    4.05540\n",
       "Joke36    3.61150\n",
       "Joke53    3.57150\n",
       "Joke35    3.22315\n",
       "Joke29    3.18995\n",
       "Joke27    3.05240\n",
       "Joke62    2.86185\n",
       "Joke49    2.85000\n",
       "Joke32    2.77955\n",
       "Joke31    2.65710\n",
       "dtype: float64"
      ]
     },
     "execution_count": 16,
     "metadata": {
      "tags": []
     },
     "output_type": "execute_result"
    }
   ],
   "source": [
    "meanratings.sort_values(ascending=False)[0:10]      #using series"
   ]
  },
  {
   "cell_type": "code",
   "execution_count": 17,
   "metadata": {
    "id": "Urvnr5d-9BqY"
   },
   "outputs": [],
   "source": [
    "dfmeanratings = pd.DataFrame({'MeanRating': meanratings})      #using daraframe"
   ]
  },
  {
   "cell_type": "markdown",
   "metadata": {
    "id": "rGF8KBZ_fQiQ"
   },
   "source": [
    "### Q5. List most popular 10 jokes"
   ]
  },
  {
   "cell_type": "code",
   "execution_count": 18,
   "metadata": {
    "colab": {
     "base_uri": "https://localhost:8080/",
     "height": 359
    },
    "id": "MjQiJAfJflHF",
    "outputId": "6c174f05-c409-45bb-c829-1a409086c40a"
   },
   "outputs": [
    {
     "data": {
      "text/html": [
       "<div>\n",
       "<style scoped>\n",
       "    .dataframe tbody tr th:only-of-type {\n",
       "        vertical-align: middle;\n",
       "    }\n",
       "\n",
       "    .dataframe tbody tr th {\n",
       "        vertical-align: top;\n",
       "    }\n",
       "\n",
       "    .dataframe thead th {\n",
       "        text-align: right;\n",
       "    }\n",
       "</style>\n",
       "<table border=\"1\" class=\"dataframe\">\n",
       "  <thead>\n",
       "    <tr style=\"text-align: right;\">\n",
       "      <th></th>\n",
       "      <th>MeanRating</th>\n",
       "    </tr>\n",
       "  </thead>\n",
       "  <tbody>\n",
       "    <tr>\n",
       "      <th>Joke50</th>\n",
       "      <td>4.05540</td>\n",
       "    </tr>\n",
       "    <tr>\n",
       "      <th>Joke36</th>\n",
       "      <td>3.61150</td>\n",
       "    </tr>\n",
       "    <tr>\n",
       "      <th>Joke53</th>\n",
       "      <td>3.57150</td>\n",
       "    </tr>\n",
       "    <tr>\n",
       "      <th>Joke35</th>\n",
       "      <td>3.22315</td>\n",
       "    </tr>\n",
       "    <tr>\n",
       "      <th>Joke29</th>\n",
       "      <td>3.18995</td>\n",
       "    </tr>\n",
       "    <tr>\n",
       "      <th>Joke27</th>\n",
       "      <td>3.05240</td>\n",
       "    </tr>\n",
       "    <tr>\n",
       "      <th>Joke62</th>\n",
       "      <td>2.86185</td>\n",
       "    </tr>\n",
       "    <tr>\n",
       "      <th>Joke49</th>\n",
       "      <td>2.85000</td>\n",
       "    </tr>\n",
       "    <tr>\n",
       "      <th>Joke32</th>\n",
       "      <td>2.77955</td>\n",
       "    </tr>\n",
       "    <tr>\n",
       "      <th>Joke31</th>\n",
       "      <td>2.65710</td>\n",
       "    </tr>\n",
       "  </tbody>\n",
       "</table>\n",
       "</div>"
      ],
      "text/plain": [
       "        MeanRating\n",
       "Joke50     4.05540\n",
       "Joke36     3.61150\n",
       "Joke53     3.57150\n",
       "Joke35     3.22315\n",
       "Joke29     3.18995\n",
       "Joke27     3.05240\n",
       "Joke62     2.86185\n",
       "Joke49     2.85000\n",
       "Joke32     2.77955\n",
       "Joke31     2.65710"
      ]
     },
     "execution_count": 18,
     "metadata": {
      "tags": []
     },
     "output_type": "execute_result"
    }
   ],
   "source": [
    "dfmeanratings.sort_values(by='MeanRating',axis=0,ascending=False).head(10)"
   ]
  },
  {
   "cell_type": "markdown",
   "metadata": {
    "id": "3GQ7F8wTfwiR"
   },
   "source": [
    "#2. Collaborative Filtering based Recommendation System"
   ]
  },
  {
   "cell_type": "markdown",
   "metadata": {
    "id": "iiThH0G6gEzy"
   },
   "source": [
    "## About the Dataset\n",
    "\n",
    "This dataset has been compiled by Cai-Nicolas Ziegler in 2004, and it comprises of three tables for users, books and ratings. Explicit ratings are expressed on a scale from 1-10 (higher values denoting higher appreciation) and implicit rating is expressed by 0.\n",
    "\n",
    "Reference: http://www2.informatik.uni-freiburg.de/~cziegler/BX/"
   ]
  },
  {
   "cell_type": "markdown",
   "metadata": {
    "id": "69LQ5MYBgmL-"
   },
   "source": [
    "#### Execute below cells to read the datasets"
   ]
  },
  {
   "cell_type": "code",
   "execution_count": 19,
   "metadata": {
    "colab": {
     "base_uri": "https://localhost:8080/",
     "height": 139
    },
    "id": "RYlXngM9grZ0",
    "outputId": "736c6b09-e6b5-4860-b321-ac2120ce81b3"
   },
   "outputs": [
    {
     "name": "stderr",
     "output_type": "stream",
     "text": [
      "b'Skipping line 6452: expected 8 fields, saw 9\\nSkipping line 43667: expected 8 fields, saw 10\\nSkipping line 51751: expected 8 fields, saw 9\\n'\n",
      "b'Skipping line 92038: expected 8 fields, saw 9\\nSkipping line 104319: expected 8 fields, saw 9\\nSkipping line 121768: expected 8 fields, saw 9\\n'\n",
      "b'Skipping line 144058: expected 8 fields, saw 9\\nSkipping line 150789: expected 8 fields, saw 9\\nSkipping line 157128: expected 8 fields, saw 9\\nSkipping line 180189: expected 8 fields, saw 9\\nSkipping line 185738: expected 8 fields, saw 9\\n'\n",
      "b'Skipping line 209388: expected 8 fields, saw 9\\nSkipping line 220626: expected 8 fields, saw 9\\nSkipping line 227933: expected 8 fields, saw 11\\nSkipping line 228957: expected 8 fields, saw 10\\nSkipping line 245933: expected 8 fields, saw 9\\nSkipping line 251296: expected 8 fields, saw 9\\nSkipping line 259941: expected 8 fields, saw 9\\nSkipping line 261529: expected 8 fields, saw 9\\n'\n",
      "/usr/local/lib/python3.6/dist-packages/IPython/core/interactiveshell.py:2718: DtypeWarning: Columns (3) have mixed types.Specify dtype option on import or set low_memory=False.\n",
      "  interactivity=interactivity, compiler=compiler, result=result)\n"
     ]
    }
   ],
   "source": [
    "books = pd.read_csv(\"Dataset -books.csv\", sep=\";\", error_bad_lines=False, encoding=\"latin-1\")\n",
    "books.columns = ['ISBN', 'bookTitle', 'bookAuthor', 'yearOfPublication', 'publisher', 'imageUrlS', 'imageUrlM', 'imageUrlL']\n",
    "\n",
    "users = pd.read_csv(\"Dataset- users.csv\", sep=\";\", error_bad_lines=False, encoding=\"latin-1\")\n",
    "users.columns = ['userID', 'Location', 'Age']\n",
    "\n",
    "ratings = pd.read_csv(\"Dataset - ratings.csv\", sep=\";\", error_bad_lines=False, encoding=\"latin-1\")\n",
    "ratings.columns = ['userID', 'ISBN', 'bookRating']"
   ]
  },
  {
   "cell_type": "markdown",
   "metadata": {
    "id": "Ip_SwM7Yg0kC"
   },
   "source": [
    "# Q1. Explore the Dataset\n",
    "\n",
    "1.   Check shape of all the datasets\n",
    "2.   Print Columns in all the datasets\n",
    "3.   Remove last 3 columns of `books` ('imageUrlS', 'imageUrlM', 'imageUrlL')and verify\n",
    "\n"
   ]
  },
  {
   "cell_type": "code",
   "execution_count": 23,
   "metadata": {
    "colab": {
     "base_uri": "https://localhost:8080/",
     "height": 34
    },
    "id": "zvs5CVRRhsBz",
    "outputId": "81de9666-f1c8-457c-93dd-208e585d7dfb"
   },
   "outputs": [
    {
     "name": "stdout",
     "output_type": "stream",
     "text": [
      "Shape of Users dataset - (271360, 8)\n"
     ]
    }
   ],
   "source": [
    "# 1) Check shape Books of datasets\n",
    "print(\"Shape of Books dataset - \" + str(books.shape))"
   ]
  },
  {
   "cell_type": "markdown",
   "metadata": {
    "id": "uCZgl9o4Bxjf"
   },
   "source": [
    "Note: Somehow my file \"Dataset-books.csv\" is unable to get loaded completly on Colab drive. Some 20 records are missing...tried to upload multiple times."
   ]
  },
  {
   "cell_type": "code",
   "execution_count": 28,
   "metadata": {
    "colab": {
     "base_uri": "https://localhost:8080/",
     "height": 34
    },
    "id": "bTNfHJf9QMH-",
    "outputId": "0f2a16c7-2ede-448e-841f-a082a49cd810"
   },
   "outputs": [
    {
     "name": "stdout",
     "output_type": "stream",
     "text": [
      "Shape of users dataset - (278858, 3)\n"
     ]
    }
   ],
   "source": [
    "# 1) Check shape users of datasets\n",
    "print(\"Shape of users dataset - \" + str(users.shape))"
   ]
  },
  {
   "cell_type": "code",
   "execution_count": 29,
   "metadata": {
    "colab": {
     "base_uri": "https://localhost:8080/",
     "height": 34
    },
    "id": "ezCnoCERQT-k",
    "outputId": "45fcecbe-bf8d-4618-e12b-028fb9ee9b10"
   },
   "outputs": [
    {
     "name": "stdout",
     "output_type": "stream",
     "text": [
      "Shape of Ratings dataset - (1149780, 3)\n"
     ]
    }
   ],
   "source": [
    "# 1) Check shape of ratings  datasets\n",
    "print(\"Shape of Ratings dataset - \" + str(ratings.shape))"
   ]
  },
  {
   "cell_type": "code",
   "execution_count": 30,
   "metadata": {
    "colab": {
     "base_uri": "https://localhost:8080/",
     "height": 68
    },
    "id": "S6oJg8zgQ4U5",
    "outputId": "1fc3505e-a0da-46c8-a684-e3ff73f65265"
   },
   "outputs": [
    {
     "data": {
      "text/plain": [
       "Index(['ISBN', 'bookTitle', 'bookAuthor', 'yearOfPublication', 'publisher',\n",
       "       'imageUrlS', 'imageUrlM', 'imageUrlL'],\n",
       "      dtype='object')"
      ]
     },
     "execution_count": 30,
     "metadata": {
      "tags": []
     },
     "output_type": "execute_result"
    }
   ],
   "source": [
    "# 2) print Columns in all dataset\n",
    "books.columns"
   ]
  },
  {
   "cell_type": "code",
   "execution_count": 32,
   "metadata": {
    "colab": {
     "base_uri": "https://localhost:8080/",
     "height": 34
    },
    "id": "bgor7Z_RRBlv",
    "outputId": "b1d27cac-6fec-420c-f7b7-2552a67fc7a0"
   },
   "outputs": [
    {
     "data": {
      "text/plain": [
       "Index(['userID', 'Location', 'Age'], dtype='object')"
      ]
     },
     "execution_count": 32,
     "metadata": {
      "tags": []
     },
     "output_type": "execute_result"
    }
   ],
   "source": [
    "users.columns"
   ]
  },
  {
   "cell_type": "code",
   "execution_count": 33,
   "metadata": {
    "colab": {
     "base_uri": "https://localhost:8080/",
     "height": 34
    },
    "id": "SCavjraPRDlZ",
    "outputId": "14a73fde-c588-42ba-e0bd-1d067fe23146"
   },
   "outputs": [
    {
     "data": {
      "text/plain": [
       "Index(['userID', 'ISBN', 'bookRating'], dtype='object')"
      ]
     },
     "execution_count": 33,
     "metadata": {
      "tags": []
     },
     "output_type": "execute_result"
    }
   ],
   "source": [
    "ratings.columns"
   ]
  },
  {
   "cell_type": "code",
   "execution_count": 34,
   "metadata": {
    "id": "bC-EBYKDRH-O"
   },
   "outputs": [],
   "source": [
    "#3) Remove last 3 columns of books ('imageUrlS', 'imageUrlM', 'imageUrlL')and verify\n",
    "books.drop(columns=['imageUrlS', 'imageUrlM', 'imageUrlL'], axis=0,inplace=True)"
   ]
  },
  {
   "cell_type": "code",
   "execution_count": 35,
   "metadata": {
    "colab": {
     "base_uri": "https://localhost:8080/",
     "height": 34
    },
    "id": "L8T9i764R9vI",
    "outputId": "3cbd6534-3f63-49e5-e3e7-19763ce683ca"
   },
   "outputs": [
    {
     "data": {
      "text/plain": [
       "Index(['ISBN', 'bookTitle', 'bookAuthor', 'yearOfPublication', 'publisher'], dtype='object')"
      ]
     },
     "execution_count": 35,
     "metadata": {
      "tags": []
     },
     "output_type": "execute_result"
    }
   ],
   "source": [
    "books.columns"
   ]
  },
  {
   "cell_type": "markdown",
   "metadata": {
    "id": "o64XqiBCiBWJ"
   },
   "source": [
    "# Q2. Data Preprocessing\n",
    "\n",
    "### Create new DataFrame `ratings_new` with:\n",
    "1.   Books from `ratings` Dataset, which exists in `books` Dataset (Intersect on ISBN)\n",
    "2.   Ratings from `ratings` Dataset, which exists in `users` Dataset (Intersect on userID)\n"
   ]
  },
  {
   "cell_type": "code",
   "execution_count": 48,
   "metadata": {
    "colab": {
     "base_uri": "https://localhost:8080/",
     "height": 34
    },
    "id": "81Cnk5YWlCyN",
    "outputId": "c8e8bc79-c137-45d0-8ad7-a11e0dab476e"
   },
   "outputs": [
    {
     "data": {
      "text/plain": [
       "(1031136, 9)"
      ]
     },
     "execution_count": 48,
     "metadata": {
      "tags": []
     },
     "output_type": "execute_result"
    }
   ],
   "source": [
    "ratings_new = pd.merge(ratings, books, on='ISBN')  \n",
    "ratings_new = pd.merge(ratings_new, users, on='userID')  \n",
    "ratings_new.shape\n"
   ]
  },
  {
   "cell_type": "markdown",
   "metadata": {
    "id": "bmmPfSH-nT7t"
   },
   "source": [
    "# Q3. Data Preprocessing\n",
    "\n",
    "### In new Dataframe, drop rows with 0 `bookRating`, since 0 is mentioned as 'Implicit Rating'.\n",
    "#### (Check shape of new Dataframe before and after dropping 0s)\n"
   ]
  },
  {
   "cell_type": "code",
   "execution_count": 49,
   "metadata": {
    "colab": {
     "base_uri": "https://localhost:8080/",
     "height": 34
    },
    "id": "E1vNYR-eEkxQ",
    "outputId": "4c6232f7-eda2-4187-eb72-0713069e2eb2"
   },
   "outputs": [
    {
     "data": {
      "text/plain": [
       "(1031136, 9)"
      ]
     },
     "execution_count": 49,
     "metadata": {
      "tags": []
     },
     "output_type": "execute_result"
    }
   ],
   "source": [
    "ratings_new.shape"
   ]
  },
  {
   "cell_type": "code",
   "execution_count": 50,
   "metadata": {
    "colab": {
     "base_uri": "https://localhost:8080/",
     "height": 34
    },
    "id": "oKfzZjKfEouP",
    "outputId": "2bca80c9-34a0-4197-d9c9-876f067a0e74"
   },
   "outputs": [
    {
     "data": {
      "text/plain": [
       "(647294, 9)"
      ]
     },
     "execution_count": 50,
     "metadata": {
      "tags": []
     },
     "output_type": "execute_result"
    }
   ],
   "source": [
    "ratings_new[ratings_new['bookRating']== 0].shape"
   ]
  },
  {
   "cell_type": "code",
   "execution_count": 51,
   "metadata": {
    "colab": {
     "base_uri": "https://localhost:8080/",
     "height": 34
    },
    "id": "3xhjo9bIEsD5",
    "outputId": "26019cf2-eb23-4825-a1b7-1c5597b1755a"
   },
   "outputs": [
    {
     "data": {
      "text/plain": [
       "383842"
      ]
     },
     "execution_count": 51,
     "metadata": {
      "tags": []
     },
     "output_type": "execute_result"
    }
   ],
   "source": [
    "ratings_new.shape[0] - ratings_new[ratings_new['bookRating'] == 0].shape[0]"
   ]
  },
  {
   "cell_type": "code",
   "execution_count": 52,
   "metadata": {
    "colab": {
     "base_uri": "https://localhost:8080/",
     "height": 34
    },
    "id": "QHnFbxh9n6XT",
    "outputId": "3535bf4f-3dab-4d68-c71c-3429ad99b33a"
   },
   "outputs": [
    {
     "data": {
      "text/plain": [
       "(383842, 9)"
      ]
     },
     "execution_count": 52,
     "metadata": {
      "tags": []
     },
     "output_type": "execute_result"
    }
   ],
   "source": [
    "# Drop book ratings having value = 0 \n",
    "ratings_new = ratings_new[ratings_new['bookRating'] != 0]\n",
    "ratings_new.shape\n"
   ]
  },
  {
   "cell_type": "code",
   "execution_count": 53,
   "metadata": {
    "colab": {
     "base_uri": "https://localhost:8080/",
     "height": 391
    },
    "id": "h_LgYYZpb4Dv",
    "outputId": "ffa22b29-07c8-4322-dee7-81fceec7a430"
   },
   "outputs": [
    {
     "data": {
      "text/html": [
       "<div>\n",
       "<style scoped>\n",
       "    .dataframe tbody tr th:only-of-type {\n",
       "        vertical-align: middle;\n",
       "    }\n",
       "\n",
       "    .dataframe tbody tr th {\n",
       "        vertical-align: top;\n",
       "    }\n",
       "\n",
       "    .dataframe thead th {\n",
       "        text-align: right;\n",
       "    }\n",
       "</style>\n",
       "<table border=\"1\" class=\"dataframe\">\n",
       "  <thead>\n",
       "    <tr style=\"text-align: right;\">\n",
       "      <th></th>\n",
       "      <th>userID</th>\n",
       "      <th>ISBN</th>\n",
       "      <th>bookRating</th>\n",
       "      <th>bookTitle</th>\n",
       "      <th>bookAuthor</th>\n",
       "      <th>yearOfPublication</th>\n",
       "      <th>publisher</th>\n",
       "      <th>Location</th>\n",
       "      <th>Age</th>\n",
       "    </tr>\n",
       "  </thead>\n",
       "  <tbody>\n",
       "    <tr>\n",
       "      <th>1</th>\n",
       "      <td>2313</td>\n",
       "      <td>034545104X</td>\n",
       "      <td>5</td>\n",
       "      <td>Flesh Tones: A Novel</td>\n",
       "      <td>M. J. Rose</td>\n",
       "      <td>2002</td>\n",
       "      <td>Ballantine Books</td>\n",
       "      <td>cincinnati, ohio, usa</td>\n",
       "      <td>23.0</td>\n",
       "    </tr>\n",
       "    <tr>\n",
       "      <th>2</th>\n",
       "      <td>2313</td>\n",
       "      <td>0812533550</td>\n",
       "      <td>9</td>\n",
       "      <td>Ender's Game (Ender Wiggins Saga (Paperback))</td>\n",
       "      <td>Orson Scott Card</td>\n",
       "      <td>1986</td>\n",
       "      <td>Tor Books</td>\n",
       "      <td>cincinnati, ohio, usa</td>\n",
       "      <td>23.0</td>\n",
       "    </tr>\n",
       "    <tr>\n",
       "      <th>3</th>\n",
       "      <td>2313</td>\n",
       "      <td>0679745580</td>\n",
       "      <td>8</td>\n",
       "      <td>In Cold Blood (Vintage International)</td>\n",
       "      <td>TRUMAN CAPOTE</td>\n",
       "      <td>1994</td>\n",
       "      <td>Vintage</td>\n",
       "      <td>cincinnati, ohio, usa</td>\n",
       "      <td>23.0</td>\n",
       "    </tr>\n",
       "    <tr>\n",
       "      <th>4</th>\n",
       "      <td>2313</td>\n",
       "      <td>0060173289</td>\n",
       "      <td>9</td>\n",
       "      <td>Divine Secrets of the Ya-Ya Sisterhood : A Novel</td>\n",
       "      <td>Rebecca Wells</td>\n",
       "      <td>1996</td>\n",
       "      <td>HarperCollins</td>\n",
       "      <td>cincinnati, ohio, usa</td>\n",
       "      <td>23.0</td>\n",
       "    </tr>\n",
       "    <tr>\n",
       "      <th>5</th>\n",
       "      <td>2313</td>\n",
       "      <td>0385482388</td>\n",
       "      <td>5</td>\n",
       "      <td>The Mistress of Spices</td>\n",
       "      <td>Chitra Banerjee Divakaruni</td>\n",
       "      <td>1998</td>\n",
       "      <td>Anchor Books/Doubleday</td>\n",
       "      <td>cincinnati, ohio, usa</td>\n",
       "      <td>23.0</td>\n",
       "    </tr>\n",
       "  </tbody>\n",
       "</table>\n",
       "</div>"
      ],
      "text/plain": [
       "   userID        ISBN  ...               Location   Age\n",
       "1    2313  034545104X  ...  cincinnati, ohio, usa  23.0\n",
       "2    2313  0812533550  ...  cincinnati, ohio, usa  23.0\n",
       "3    2313  0679745580  ...  cincinnati, ohio, usa  23.0\n",
       "4    2313  0060173289  ...  cincinnati, ohio, usa  23.0\n",
       "5    2313  0385482388  ...  cincinnati, ohio, usa  23.0\n",
       "\n",
       "[5 rows x 9 columns]"
      ]
     },
     "execution_count": 53,
     "metadata": {
      "tags": []
     },
     "output_type": "execute_result"
    }
   ],
   "source": [
    "ratings_new.head()"
   ]
  },
  {
   "cell_type": "markdown",
   "metadata": {
    "id": "zHfr8zlSoLzW"
   },
   "source": [
    "# Q4. Check rating's distribution\n",
    "### Plot a visual to identify highest occuring rating "
   ]
  },
  {
   "cell_type": "code",
   "execution_count": 54,
   "metadata": {
    "colab": {
     "base_uri": "https://localhost:8080/",
     "height": 296
    },
    "id": "10PFwecTpMyZ",
    "outputId": "d1b529dc-d646-48aa-a967-960d8da641a6"
   },
   "outputs": [
    {
     "data": {
      "text/plain": [
       "<matplotlib.axes._subplots.AxesSubplot at 0x7fa7126876a0>"
      ]
     },
     "execution_count": 54,
     "metadata": {
      "tags": []
     },
     "output_type": "execute_result"
    },
    {
     "data": {
      "image/png": "[encoded data removed]",
      "text/plain": [
       "<Figure size 432x288 with 1 Axes>"
      ]
     },
     "metadata": {
      "needs_background": "light",
      "tags": []
     },
     "output_type": "display_data"
    }
   ],
   "source": [
    "sns.countplot(data=ratings_new, x='bookRating')"
   ]
  },
  {
   "cell_type": "markdown",
   "metadata": {
    "id": "UttEkam4G_gt"
   },
   "source": [
    "From plot it is evident that most of tha ratings are 5 and above"
   ]
  },
  {
   "cell_type": "markdown",
   "metadata": {
    "id": "TVFbUn6MpOWQ"
   },
   "source": [
    "# Q5. Build a User-Based Collaborative Filtering model\n",
    "\n",
    "\n",
    "\n",
    "1.   Consider users who have rated atleast 100 books\n",
    "2.   Transform data to surprise format\n",
    "3.   Assure that only user, book and rating columns are present in the new dataset in surprise format\n",
    "\n"
   ]
  },
  {
   "cell_type": "code",
   "execution_count": 74,
   "metadata": {
    "id": "eegJk3kfqcHx"
   },
   "outputs": [],
   "source": [
    "counts = ratings_new['userID'].value_counts()\n",
    "ratings_final = ratings_new[ratings_new['userID'].isin(counts[counts >= 100].index)]"
   ]
  },
  {
   "cell_type": "code",
   "execution_count": 81,
   "metadata": {
    "colab": {
     "base_uri": "https://localhost:8080/",
     "height": 68
    },
    "id": "zWk9WhY5To5s",
    "outputId": "223676b5-3431-4447-cfc4-ac0187ef1fd7"
   },
   "outputs": [
    {
     "data": {
      "text/plain": [
       "Index(['userID', 'ISBN', 'bookRating', 'bookTitle', 'bookAuthor',\n",
       "       'yearOfPublication', 'publisher', 'Location', 'Age'],\n",
       "      dtype='object')"
      ]
     },
     "execution_count": 81,
     "metadata": {
      "tags": []
     },
     "output_type": "execute_result"
    }
   ],
   "source": [
    "ratings_final.columns"
   ]
  },
  {
   "cell_type": "code",
   "execution_count": 82,
   "metadata": {
    "colab": {
     "base_uri": "https://localhost:8080/",
     "height": 122
    },
    "id": "ZBDRHjSzUsks",
    "outputId": "25370ab0-09e2-4c54-e286-41dc02acc3f7"
   },
   "outputs": [
    {
     "name": "stderr",
     "output_type": "stream",
     "text": [
      "/usr/local/lib/python3.6/dist-packages/pandas/core/frame.py:4169: SettingWithCopyWarning: \n",
      "A value is trying to be set on a copy of a slice from a DataFrame\n",
      "\n",
      "See the caveats in the documentation: https://pandas.pydata.org/pandas-docs/stable/user_guide/indexing.html#returning-a-view-versus-a-copy\n",
      "  errors=errors,\n"
     ]
    }
   ],
   "source": [
    "ratings_final.drop(columns=['bookTitle', 'bookAuthor','yearOfPublication', 'publisher', 'Location', 'Age'], axis=0, inplace=True)"
   ]
  },
  {
   "cell_type": "code",
   "execution_count": 83,
   "metadata": {
    "id": "15UyHGWYqdR3"
   },
   "outputs": [],
   "source": [
    "#2 Transform data to surprise format\n",
    "from surprise import Dataset,Reader\n",
    "from surprise.model_selection import cross_validate\n",
    "from surprise import NormalPredictor\n",
    "\n",
    "\n",
    "reader = Reader(rating_scale=(1, 10))"
   ]
  },
  {
   "cell_type": "code",
   "execution_count": 84,
   "metadata": {
    "id": "F-41r8Y_qkSO"
   },
   "outputs": [],
   "source": [
    "data = Dataset.load_from_df(ratings_final,reader)"
   ]
  },
  {
   "cell_type": "code",
   "execution_count": 85,
   "metadata": {
    "colab": {
     "base_uri": "https://localhost:8080/",
     "height": 34
    },
    "id": "I3Mm2lzYqjlh",
    "outputId": "6acd935f-0e0e-4c16-fd40-fce0f8f5e70d"
   },
   "outputs": [
    {
     "data": {
      "text/plain": [
       "surprise.dataset.DatasetAutoFolds"
      ]
     },
     "execution_count": 85,
     "metadata": {
      "tags": []
     },
     "output_type": "execute_result"
    }
   ],
   "source": [
    "type(data)"
   ]
  },
  {
   "cell_type": "code",
   "execution_count": 86,
   "metadata": {
    "colab": {
     "base_uri": "https://localhost:8080/",
     "height": 419
    },
    "id": "3m4FaLqqWiU7",
    "outputId": "5a83e569-33f4-437f-eb32-26886dbe513f"
   },
   "outputs": [
    {
     "data": {
      "text/html": [
       "<div>\n",
       "<style scoped>\n",
       "    .dataframe tbody tr th:only-of-type {\n",
       "        vertical-align: middle;\n",
       "    }\n",
       "\n",
       "    .dataframe tbody tr th {\n",
       "        vertical-align: top;\n",
       "    }\n",
       "\n",
       "    .dataframe thead th {\n",
       "        text-align: right;\n",
       "    }\n",
       "</style>\n",
       "<table border=\"1\" class=\"dataframe\">\n",
       "  <thead>\n",
       "    <tr style=\"text-align: right;\">\n",
       "      <th></th>\n",
       "      <th>userID</th>\n",
       "      <th>ISBN</th>\n",
       "      <th>bookRating</th>\n",
       "    </tr>\n",
       "  </thead>\n",
       "  <tbody>\n",
       "    <tr>\n",
       "      <th>43</th>\n",
       "      <td>6543</td>\n",
       "      <td>0446605484</td>\n",
       "      <td>10</td>\n",
       "    </tr>\n",
       "    <tr>\n",
       "      <th>47</th>\n",
       "      <td>6543</td>\n",
       "      <td>0805062971</td>\n",
       "      <td>8</td>\n",
       "    </tr>\n",
       "    <tr>\n",
       "      <th>48</th>\n",
       "      <td>6543</td>\n",
       "      <td>0345342968</td>\n",
       "      <td>8</td>\n",
       "    </tr>\n",
       "    <tr>\n",
       "      <th>49</th>\n",
       "      <td>6543</td>\n",
       "      <td>0446610038</td>\n",
       "      <td>9</td>\n",
       "    </tr>\n",
       "    <tr>\n",
       "      <th>55</th>\n",
       "      <td>6543</td>\n",
       "      <td>0061009059</td>\n",
       "      <td>8</td>\n",
       "    </tr>\n",
       "    <tr>\n",
       "      <th>...</th>\n",
       "      <td>...</td>\n",
       "      <td>...</td>\n",
       "      <td>...</td>\n",
       "    </tr>\n",
       "    <tr>\n",
       "      <th>935544</th>\n",
       "      <td>240543</td>\n",
       "      <td>4888720029</td>\n",
       "      <td>10</td>\n",
       "    </tr>\n",
       "    <tr>\n",
       "      <th>935545</th>\n",
       "      <td>240543</td>\n",
       "      <td>4888720134</td>\n",
       "      <td>10</td>\n",
       "    </tr>\n",
       "    <tr>\n",
       "      <th>935546</th>\n",
       "      <td>240543</td>\n",
       "      <td>4888720266</td>\n",
       "      <td>10</td>\n",
       "    </tr>\n",
       "    <tr>\n",
       "      <th>935547</th>\n",
       "      <td>240543</td>\n",
       "      <td>4888720304</td>\n",
       "      <td>10</td>\n",
       "    </tr>\n",
       "    <tr>\n",
       "      <th>935548</th>\n",
       "      <td>240543</td>\n",
       "      <td>9718728015</td>\n",
       "      <td>8</td>\n",
       "    </tr>\n",
       "  </tbody>\n",
       "</table>\n",
       "<p>103271 rows × 3 columns</p>\n",
       "</div>"
      ],
      "text/plain": [
       "        userID        ISBN  bookRating\n",
       "43        6543  0446605484          10\n",
       "47        6543  0805062971           8\n",
       "48        6543  0345342968           8\n",
       "49        6543  0446610038           9\n",
       "55        6543  0061009059           8\n",
       "...        ...         ...         ...\n",
       "935544  240543  4888720029          10\n",
       "935545  240543  4888720134          10\n",
       "935546  240543  4888720266          10\n",
       "935547  240543  4888720304          10\n",
       "935548  240543  9718728015           8\n",
       "\n",
       "[103271 rows x 3 columns]"
      ]
     },
     "execution_count": 86,
     "metadata": {
      "tags": []
     },
     "output_type": "execute_result"
    }
   ],
   "source": [
    "data.df"
   ]
  },
  {
   "cell_type": "markdown",
   "metadata": {
    "id": "HvA-Zc_AsRv0"
   },
   "source": [
    "# Q6. Apply SVD for user based filtering\n",
    "\n",
    "\n",
    "1.   Split the data into train and test\n",
    "2.   Train model on SVD\n",
    "3.   Test Accuracy of the model\n",
    "\n",
    "\n"
   ]
  },
  {
   "cell_type": "code",
   "execution_count": 87,
   "metadata": {
    "id": "QbOzx2Vysbhu"
   },
   "outputs": [],
   "source": [
    "from surprise.model_selection import train_test_split\n",
    "from surprise import SVD\n",
    "from surprise import accuracy"
   ]
  },
  {
   "cell_type": "code",
   "execution_count": 88,
   "metadata": {
    "id": "SvherZfnXvWT"
   },
   "outputs": [],
   "source": [
    "trainSet, testSet = train_test_split(data,test_size=0.3)"
   ]
  },
  {
   "cell_type": "code",
   "execution_count": 89,
   "metadata": {
    "id": "ZTBOQ3JEYWmz"
   },
   "outputs": [],
   "source": [
    "model = SVD(n_factors=100)"
   ]
  },
  {
   "cell_type": "code",
   "execution_count": 90,
   "metadata": {
    "id": "ykvsYckRYWjx"
   },
   "outputs": [],
   "source": [
    "model.fit(trainSet)\n",
    "predict = model.test(testSet)"
   ]
  },
  {
   "cell_type": "code",
   "execution_count": 91,
   "metadata": {
    "colab": {
     "base_uri": "https://localhost:8080/",
     "height": 51
    },
    "id": "3dccdAU0ZAKp",
    "outputId": "998ba0bc-d8ae-4fd8-a582-39d4de1c0cc7"
   },
   "outputs": [
    {
     "name": "stdout",
     "output_type": "stream",
     "text": [
      "RMSE: 1.5205\n"
     ]
    },
    {
     "data": {
      "text/plain": [
       "1.5204874206368784"
      ]
     },
     "execution_count": 91,
     "metadata": {
      "tags": []
     },
     "output_type": "execute_result"
    }
   ],
   "source": [
    "accuracy.rmse(predict)"
   ]
  },
  {
   "cell_type": "code",
   "execution_count": 92,
   "metadata": {
    "id": "PYRK74pfdCRZ"
   },
   "outputs": [],
   "source": [
    "dfPredictedval= pd.DataFrame(predict)"
   ]
  },
  {
   "cell_type": "code",
   "execution_count": 93,
   "metadata": {
    "colab": {
     "base_uri": "https://localhost:8080/",
     "height": 419
    },
    "id": "6Qq0LSHwdMlf",
    "outputId": "026cbb5b-ce17-498c-90c7-4aee23ff9703"
   },
   "outputs": [
    {
     "data": {
      "text/html": [
       "<div>\n",
       "<style scoped>\n",
       "    .dataframe tbody tr th:only-of-type {\n",
       "        vertical-align: middle;\n",
       "    }\n",
       "\n",
       "    .dataframe tbody tr th {\n",
       "        vertical-align: top;\n",
       "    }\n",
       "\n",
       "    .dataframe thead th {\n",
       "        text-align: right;\n",
       "    }\n",
       "</style>\n",
       "<table border=\"1\" class=\"dataframe\">\n",
       "  <thead>\n",
       "    <tr style=\"text-align: right;\">\n",
       "      <th></th>\n",
       "      <th>uid</th>\n",
       "      <th>iid</th>\n",
       "      <th>r_ui</th>\n",
       "      <th>est</th>\n",
       "      <th>details</th>\n",
       "    </tr>\n",
       "  </thead>\n",
       "  <tbody>\n",
       "    <tr>\n",
       "      <th>0</th>\n",
       "      <td>257204</td>\n",
       "      <td>0880386525</td>\n",
       "      <td>10.0</td>\n",
       "      <td>9.781735</td>\n",
       "      <td>{'was_impossible': False}</td>\n",
       "    </tr>\n",
       "    <tr>\n",
       "      <th>1</th>\n",
       "      <td>204864</td>\n",
       "      <td>0380973464</td>\n",
       "      <td>10.0</td>\n",
       "      <td>8.728625</td>\n",
       "      <td>{'was_impossible': False}</td>\n",
       "    </tr>\n",
       "    <tr>\n",
       "      <th>2</th>\n",
       "      <td>76499</td>\n",
       "      <td>014043268X</td>\n",
       "      <td>10.0</td>\n",
       "      <td>9.062465</td>\n",
       "      <td>{'was_impossible': False}</td>\n",
       "    </tr>\n",
       "    <tr>\n",
       "      <th>3</th>\n",
       "      <td>39467</td>\n",
       "      <td>8466303316</td>\n",
       "      <td>9.0</td>\n",
       "      <td>7.678119</td>\n",
       "      <td>{'was_impossible': False}</td>\n",
       "    </tr>\n",
       "    <tr>\n",
       "      <th>4</th>\n",
       "      <td>127359</td>\n",
       "      <td>0679760806</td>\n",
       "      <td>8.0</td>\n",
       "      <td>7.596807</td>\n",
       "      <td>{'was_impossible': False}</td>\n",
       "    </tr>\n",
       "    <tr>\n",
       "      <th>...</th>\n",
       "      <td>...</td>\n",
       "      <td>...</td>\n",
       "      <td>...</td>\n",
       "      <td>...</td>\n",
       "      <td>...</td>\n",
       "    </tr>\n",
       "    <tr>\n",
       "      <th>30977</th>\n",
       "      <td>189334</td>\n",
       "      <td>006016591X</td>\n",
       "      <td>8.0</td>\n",
       "      <td>9.220917</td>\n",
       "      <td>{'was_impossible': False}</td>\n",
       "    </tr>\n",
       "    <tr>\n",
       "      <th>30978</th>\n",
       "      <td>98391</td>\n",
       "      <td>044661131X</td>\n",
       "      <td>8.0</td>\n",
       "      <td>8.827297</td>\n",
       "      <td>{'was_impossible': False}</td>\n",
       "    </tr>\n",
       "    <tr>\n",
       "      <th>30979</th>\n",
       "      <td>92652</td>\n",
       "      <td>1565270436</td>\n",
       "      <td>5.0</td>\n",
       "      <td>6.334451</td>\n",
       "      <td>{'was_impossible': False}</td>\n",
       "    </tr>\n",
       "    <tr>\n",
       "      <th>30980</th>\n",
       "      <td>157247</td>\n",
       "      <td>0671027360</td>\n",
       "      <td>7.0</td>\n",
       "      <td>5.434759</td>\n",
       "      <td>{'was_impossible': False}</td>\n",
       "    </tr>\n",
       "    <tr>\n",
       "      <th>30981</th>\n",
       "      <td>110934</td>\n",
       "      <td>0553578685</td>\n",
       "      <td>6.0</td>\n",
       "      <td>7.987182</td>\n",
       "      <td>{'was_impossible': False}</td>\n",
       "    </tr>\n",
       "  </tbody>\n",
       "</table>\n",
       "<p>30982 rows × 5 columns</p>\n",
       "</div>"
      ],
      "text/plain": [
       "          uid         iid  r_ui       est                    details\n",
       "0      257204  0880386525  10.0  9.781735  {'was_impossible': False}\n",
       "1      204864  0380973464  10.0  8.728625  {'was_impossible': False}\n",
       "2       76499  014043268X  10.0  9.062465  {'was_impossible': False}\n",
       "3       39467  8466303316   9.0  7.678119  {'was_impossible': False}\n",
       "4      127359  0679760806   8.0  7.596807  {'was_impossible': False}\n",
       "...       ...         ...   ...       ...                        ...\n",
       "30977  189334  006016591X   8.0  9.220917  {'was_impossible': False}\n",
       "30978   98391  044661131X   8.0  8.827297  {'was_impossible': False}\n",
       "30979   92652  1565270436   5.0  6.334451  {'was_impossible': False}\n",
       "30980  157247  0671027360   7.0  5.434759  {'was_impossible': False}\n",
       "30981  110934  0553578685   6.0  7.987182  {'was_impossible': False}\n",
       "\n",
       "[30982 rows x 5 columns]"
      ]
     },
     "execution_count": 93,
     "metadata": {
      "tags": []
     },
     "output_type": "execute_result"
    }
   ],
   "source": [
    "dfPredictedval"
   ]
  },
  {
   "cell_type": "markdown",
   "metadata": {
    "id": "suLvEjzVuIvR"
   },
   "source": [
    "# Q7. Create a function to generate `n` recommendations for user `x`. (n, x should be parameterized)"
   ]
  },
  {
   "cell_type": "code",
   "execution_count": 94,
   "metadata": {
    "id": "FloJEgRIMn4O"
   },
   "outputs": [],
   "source": [
    "def Recommend(n , x) :\n",
    "  df = dfPredictedval[dfPredictedval['uid']==x]\n",
    "  if df.shape[0]==0 :\n",
    "    return \"User id not found\"\n",
    "  else :\n",
    "    df1 = df.sort_values(by='est',ascending=False).head(n)\n",
    "    if df1.shape[0]==0 :\n",
    "      return \"No recommendations\"\n",
    "    else :\n",
    "      return df1\n"
   ]
  },
  {
   "cell_type": "code",
   "execution_count": 95,
   "metadata": {
    "colab": {
     "base_uri": "https://localhost:8080/",
     "height": 204
    },
    "id": "5pZJHhiZgjH6",
    "outputId": "c418255b-0f4d-4289-baef-bae5d5dd04e9"
   },
   "outputs": [
    {
     "data": {
      "text/html": [
       "<div>\n",
       "<style scoped>\n",
       "    .dataframe tbody tr th:only-of-type {\n",
       "        vertical-align: middle;\n",
       "    }\n",
       "\n",
       "    .dataframe tbody tr th {\n",
       "        vertical-align: top;\n",
       "    }\n",
       "\n",
       "    .dataframe thead th {\n",
       "        text-align: right;\n",
       "    }\n",
       "</style>\n",
       "<table border=\"1\" class=\"dataframe\">\n",
       "  <thead>\n",
       "    <tr style=\"text-align: right;\">\n",
       "      <th></th>\n",
       "      <th>uid</th>\n",
       "      <th>iid</th>\n",
       "      <th>r_ui</th>\n",
       "      <th>est</th>\n",
       "      <th>details</th>\n",
       "    </tr>\n",
       "  </thead>\n",
       "  <tbody>\n",
       "    <tr>\n",
       "      <th>29998</th>\n",
       "      <td>218608</td>\n",
       "      <td>0399501487</td>\n",
       "      <td>8.0</td>\n",
       "      <td>8.913451</td>\n",
       "      <td>{'was_impossible': False}</td>\n",
       "    </tr>\n",
       "    <tr>\n",
       "      <th>16780</th>\n",
       "      <td>218608</td>\n",
       "      <td>0380002930</td>\n",
       "      <td>8.0</td>\n",
       "      <td>8.614544</td>\n",
       "      <td>{'was_impossible': False}</td>\n",
       "    </tr>\n",
       "    <tr>\n",
       "      <th>21161</th>\n",
       "      <td>218608</td>\n",
       "      <td>055326611X</td>\n",
       "      <td>9.0</td>\n",
       "      <td>8.593147</td>\n",
       "      <td>{'was_impossible': False}</td>\n",
       "    </tr>\n",
       "    <tr>\n",
       "      <th>17817</th>\n",
       "      <td>218608</td>\n",
       "      <td>0767902513</td>\n",
       "      <td>9.0</td>\n",
       "      <td>8.551448</td>\n",
       "      <td>{'was_impossible': False}</td>\n",
       "    </tr>\n",
       "    <tr>\n",
       "      <th>6779</th>\n",
       "      <td>218608</td>\n",
       "      <td>0761121323</td>\n",
       "      <td>10.0</td>\n",
       "      <td>8.508741</td>\n",
       "      <td>{'was_impossible': False}</td>\n",
       "    </tr>\n",
       "  </tbody>\n",
       "</table>\n",
       "</div>"
      ],
      "text/plain": [
       "          uid         iid  r_ui       est                    details\n",
       "29998  218608  0399501487   8.0  8.913451  {'was_impossible': False}\n",
       "16780  218608  0380002930   8.0  8.614544  {'was_impossible': False}\n",
       "21161  218608  055326611X   9.0  8.593147  {'was_impossible': False}\n",
       "17817  218608  0767902513   9.0  8.551448  {'was_impossible': False}\n",
       "6779   218608  0761121323  10.0  8.508741  {'was_impossible': False}"
      ]
     },
     "execution_count": 95,
     "metadata": {
      "tags": []
     },
     "output_type": "execute_result"
    }
   ],
   "source": [
    "# Let call function to test it\n",
    "Recommend(5,218608)"
   ]
  },
  {
   "cell_type": "code",
   "execution_count": 96,
   "metadata": {
    "colab": {
     "base_uri": "https://localhost:8080/",
     "height": 35
    },
    "id": "hK913jZ9g0w5",
    "outputId": "f34aa131-c423-4c95-a37a-c751d42c3639"
   },
   "outputs": [
    {
     "data": {
      "application/vnd.google.colaboratory.intrinsic+json": {
       "type": "string"
      },
      "text/plain": [
       "'User id not found'"
      ]
     },
     "execution_count": 96,
     "metadata": {
      "tags": []
     },
     "output_type": "execute_result"
    }
   ],
   "source": [
    "Recommend(5,34343)           # user which does not exists."
   ]
  }
 ],
 "metadata": {
  "colab": {
   "collapsed_sections": [],
   "name": "Copy of RS_Internal_Lab_Question_Res_5.ipynb",
   "provenance": []
  },
  "kernelspec": {
   "display_name": "Python 3",
   "language": "python",
   "name": "python3"
  },
  "language_info": {
   "codemirror_mode": {
    "name": "ipython",
    "version": 3
   },
   "file_extension": ".py",
   "mimetype": "text/x-python",
   "name": "python",
   "nbconvert_exporter": "python",
   "pygments_lexer": "ipython3",
   "version": "3.6.5"
  }
 },
 "nbformat": 4,
 "nbformat_minor": 1
}
