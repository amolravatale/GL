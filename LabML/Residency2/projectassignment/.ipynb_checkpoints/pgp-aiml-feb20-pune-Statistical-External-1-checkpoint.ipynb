{
 "cells": [
  {
   "cell_type": "code",
   "execution_count": 1,
   "metadata": {},
   "outputs": [],
   "source": [
    "import pandas as pd"
   ]
  },
  {
   "cell_type": "code",
   "execution_count": 2,
   "metadata": {},
   "outputs": [],
   "source": [
    "#Question(1)- Read the data set and replace dashes with 0 to make sure you can perform arithmetic operations on the data.\n",
    "#Read the data set -Laliga.csv\n",
    "sports = pd.read_csv(\"/home/amol/GL/StatisticalLearning/ProjectAssignment/Laliga.csv\") # I am using Linux system\n",
    "sports = sports.replace('-',0)"
   ]
  },
  {
   "cell_type": "code",
   "execution_count": 18,
   "metadata": {},
   "outputs": [],
   "source": [
    "# Print all the teams which have started playing between 1930-1980. Use “Debut” column\n",
    "# had raised query on Olympus to check if we need to include 1930 and 1980 both of exclude. \n",
    "# Answer is Include 1930 and exclude 1980."
   ]
  },
  {
   "cell_type": "code",
   "execution_count": 3,
   "metadata": {},
   "outputs": [],
   "source": [
    "#write function to check if the Debut year is between 1930-1980\n",
    "def extractDebutYear(value) :\n",
    "    flag= False\n",
    "    if (len(value)==4) :\n",
    "        #check if it is between 1930-1980\n",
    "        year = int (value)\n",
    "        if (year > 1930 and year <1980) :            \n",
    "            flag=True\n",
    "    elif (len(value)>4 and len(value) <=7) :\n",
    "        #check if it year is 19th century year\n",
    "        year1=int(value[:2])\n",
    "        if (year1 == 19) :\n",
    "            fromyear =int(value[2:4])   #E.g. => 1934-35...this line extracts 34\n",
    "            toyear = int(value[5:])      #E.g. => 1934-35...this line extracts 35\n",
    "            if (fromyear >= 30 and toyear <= 80) : \n",
    "                flag=True\n",
    "    elif (len(value)>4 and len(value) <=9) :\n",
    "        #check if it year is 19th century year\n",
    "        year1=int(value[:2])\n",
    "        if (year1 == 19) :\n",
    "            fromyear =int(value[2:4])   #E.g. => 1934-35...this line extracts 34\n",
    "            toyear = int(value[7:])      #E.g. => 1934-35...this line extracts 35\n",
    "            if (fromyear >= 30 and toyear <= 80) : \n",
    "                flag=True\n",
    "    return flag    "
   ]
  },
  {
   "cell_type": "code",
   "execution_count": 4,
   "metadata": {},
   "outputs": [],
   "source": [
    "#Lets create one new column which will be marked True if Teams which have started playing between 1930-1980 else False\n",
    "sports['Debutyear'] = sports['Debut'].map(extractDebutYear)"
   ]
  },
  {
   "cell_type": "code",
   "execution_count": null,
   "metadata": {},
   "outputs": [],
   "source": [
    "#QUestion(2)- Print all the teams which have started playing between 1930-1980. Use “Debut” column\n",
    "sports[sports['Debutyear']==True]"
   ]
  },
  {
   "cell_type": "code",
   "execution_count": 9,
   "metadata": {},
   "outputs": [],
   "source": [
    "#Question(3) -Print the list of teams which came Top 5 in terms of points\n",
    "#set datatype of 'Points' column to int\n",
    "sports.Points = sports.Points.astype(int)"
   ]
  },
  {
   "cell_type": "code",
   "execution_count": 10,
   "metadata": {},
   "outputs": [
    {
     "data": {
      "text/html": [
       "<div>\n",
       "<style scoped>\n",
       "    .dataframe tbody tr th:only-of-type {\n",
       "        vertical-align: middle;\n",
       "    }\n",
       "\n",
       "    .dataframe tbody tr th {\n",
       "        vertical-align: top;\n",
       "    }\n",
       "\n",
       "    .dataframe thead th {\n",
       "        text-align: right;\n",
       "    }\n",
       "</style>\n",
       "<table border=\"1\" class=\"dataframe\">\n",
       "  <thead>\n",
       "    <tr style=\"text-align: right;\">\n",
       "      <th></th>\n",
       "      <th>Pos</th>\n",
       "      <th>Team</th>\n",
       "      <th>Seasons</th>\n",
       "      <th>Points</th>\n",
       "      <th>GamesPlayed</th>\n",
       "      <th>GamesWon</th>\n",
       "      <th>GamesDrawn</th>\n",
       "      <th>GamesLost</th>\n",
       "      <th>GoalsFor</th>\n",
       "      <th>GoalsAgainst</th>\n",
       "      <th>...</th>\n",
       "      <th>Runner-up</th>\n",
       "      <th>Third</th>\n",
       "      <th>Fourth</th>\n",
       "      <th>Fifth</th>\n",
       "      <th>Sixth</th>\n",
       "      <th>T</th>\n",
       "      <th>Debut</th>\n",
       "      <th>Since/LastApp</th>\n",
       "      <th>BestPosition</th>\n",
       "      <th>Debutyear</th>\n",
       "    </tr>\n",
       "  </thead>\n",
       "  <tbody>\n",
       "    <tr>\n",
       "      <td>0</td>\n",
       "      <td>1</td>\n",
       "      <td>Real Madrid</td>\n",
       "      <td>86</td>\n",
       "      <td>4385</td>\n",
       "      <td>2762</td>\n",
       "      <td>1647</td>\n",
       "      <td>552</td>\n",
       "      <td>563</td>\n",
       "      <td>5947</td>\n",
       "      <td>3140</td>\n",
       "      <td>...</td>\n",
       "      <td>23</td>\n",
       "      <td>8</td>\n",
       "      <td>8</td>\n",
       "      <td>3</td>\n",
       "      <td>4</td>\n",
       "      <td>79</td>\n",
       "      <td>1929</td>\n",
       "      <td>1929</td>\n",
       "      <td>1</td>\n",
       "      <td>False</td>\n",
       "    </tr>\n",
       "    <tr>\n",
       "      <td>1</td>\n",
       "      <td>2</td>\n",
       "      <td>Barcelona</td>\n",
       "      <td>86</td>\n",
       "      <td>4262</td>\n",
       "      <td>2762</td>\n",
       "      <td>1581</td>\n",
       "      <td>573</td>\n",
       "      <td>608</td>\n",
       "      <td>5900</td>\n",
       "      <td>3114</td>\n",
       "      <td>...</td>\n",
       "      <td>25</td>\n",
       "      <td>12</td>\n",
       "      <td>12</td>\n",
       "      <td>4</td>\n",
       "      <td>6</td>\n",
       "      <td>83</td>\n",
       "      <td>1929</td>\n",
       "      <td>1929</td>\n",
       "      <td>1</td>\n",
       "      <td>False</td>\n",
       "    </tr>\n",
       "    <tr>\n",
       "      <td>2</td>\n",
       "      <td>3</td>\n",
       "      <td>Atletico Madrid</td>\n",
       "      <td>80</td>\n",
       "      <td>3442</td>\n",
       "      <td>2614</td>\n",
       "      <td>1241</td>\n",
       "      <td>598</td>\n",
       "      <td>775</td>\n",
       "      <td>4534</td>\n",
       "      <td>3309</td>\n",
       "      <td>...</td>\n",
       "      <td>8</td>\n",
       "      <td>16</td>\n",
       "      <td>9</td>\n",
       "      <td>7</td>\n",
       "      <td>6</td>\n",
       "      <td>56</td>\n",
       "      <td>1929</td>\n",
       "      <td>2002-03</td>\n",
       "      <td>1</td>\n",
       "      <td>False</td>\n",
       "    </tr>\n",
       "    <tr>\n",
       "      <td>3</td>\n",
       "      <td>4</td>\n",
       "      <td>Valencia</td>\n",
       "      <td>82</td>\n",
       "      <td>3386</td>\n",
       "      <td>2664</td>\n",
       "      <td>1187</td>\n",
       "      <td>616</td>\n",
       "      <td>861</td>\n",
       "      <td>4398</td>\n",
       "      <td>3469</td>\n",
       "      <td>...</td>\n",
       "      <td>6</td>\n",
       "      <td>10</td>\n",
       "      <td>11</td>\n",
       "      <td>10</td>\n",
       "      <td>7</td>\n",
       "      <td>50</td>\n",
       "      <td>1931-32</td>\n",
       "      <td>1987-88</td>\n",
       "      <td>1</td>\n",
       "      <td>True</td>\n",
       "    </tr>\n",
       "    <tr>\n",
       "      <td>4</td>\n",
       "      <td>5</td>\n",
       "      <td>Athletic Bilbao</td>\n",
       "      <td>86</td>\n",
       "      <td>3368</td>\n",
       "      <td>2762</td>\n",
       "      <td>1209</td>\n",
       "      <td>633</td>\n",
       "      <td>920</td>\n",
       "      <td>4631</td>\n",
       "      <td>3700</td>\n",
       "      <td>...</td>\n",
       "      <td>7</td>\n",
       "      <td>10</td>\n",
       "      <td>5</td>\n",
       "      <td>8</td>\n",
       "      <td>10</td>\n",
       "      <td>49</td>\n",
       "      <td>1929</td>\n",
       "      <td>1929</td>\n",
       "      <td>1</td>\n",
       "      <td>False</td>\n",
       "    </tr>\n",
       "  </tbody>\n",
       "</table>\n",
       "<p>5 rows × 21 columns</p>\n",
       "</div>"
      ],
      "text/plain": [
       "   Pos             Team  Seasons  Points GamesPlayed GamesWon GamesDrawn  \\\n",
       "0    1      Real Madrid       86    4385        2762     1647        552   \n",
       "1    2        Barcelona       86    4262        2762     1581        573   \n",
       "2    3  Atletico Madrid       80    3442        2614     1241        598   \n",
       "3    4         Valencia       82    3386        2664     1187        616   \n",
       "4    5  Athletic Bilbao       86    3368        2762     1209        633   \n",
       "\n",
       "  GamesLost GoalsFor GoalsAgainst  ... Runner-up Third Fourth Fifth Sixth   T  \\\n",
       "0       563     5947         3140  ...        23     8      8     3     4  79   \n",
       "1       608     5900         3114  ...        25    12     12     4     6  83   \n",
       "2       775     4534         3309  ...         8    16      9     7     6  56   \n",
       "3       861     4398         3469  ...         6    10     11    10     7  50   \n",
       "4       920     4631         3700  ...         7    10      5     8    10  49   \n",
       "\n",
       "     Debut Since/LastApp BestPosition  Debutyear  \n",
       "0     1929          1929            1      False  \n",
       "1     1929          1929            1      False  \n",
       "2     1929       2002-03            1      False  \n",
       "3  1931-32       1987-88            1       True  \n",
       "4     1929          1929            1      False  \n",
       "\n",
       "[5 rows x 21 columns]"
      ]
     },
     "execution_count": 10,
     "metadata": {},
     "output_type": "execute_result"
    }
   ],
   "source": [
    "sports.sort_values(by=['Points'],ascending=False).head(5)"
   ]
  },
  {
   "cell_type": "code",
   "execution_count": 11,
   "metadata": {},
   "outputs": [],
   "source": [
    "#Question(4)- Write a function with name “Goal_diff_count” which should return all the teams with their \n",
    "#Goal Differences. Using the same function, find the team which has maximum and \n",
    "#minimum goal difference.\n",
    "#Goal_diff_count = GoalsFor - GoalsAgainst "
   ]
  },
  {
   "cell_type": "code",
   "execution_count": 12,
   "metadata": {},
   "outputs": [],
   "source": [
    "#Lets write function first \n",
    "#Input   : Dataframe object\n",
    "#output  : Tuple object  - 1st : dictionary of teams with their Goal Difference\n",
    "#                          2nd : dictionary of max and min goal difference and give are as below\n",
    "#                                Keys - 'max' for maximum difference, \n",
    "#                                       'min' for min difference...considering GamesPlayed zero or more\n",
    "#                                       'min_atleast_onegame_played' for min difference considering GamesPlayed > 0\n",
    "\n",
    "def Goal_diff_count(df) :    \n",
    "    teams={}                #to store Team and its \"Goal Differences\" in a dictionary variable\n",
    "    max_min_goal_diff ={}   #to store team name of max and min goal difference\n",
    "    max_diff =0             #lets initially assume max diff is zero\n",
    "    min_diff =50000         #lets initially assume min diff some large value\n",
    "    min_diff_1 = 50000      #lets initially assume min diff some large value\n",
    "    gamesPlayed = 0\n",
    "    \n",
    "    #iterate through rows\n",
    "    for index,row in df.iterrows() :\n",
    "        goalsFor = int(row['GoalsFor'])\n",
    "        goalsAgainst = int(row['GoalsAgainst'])\n",
    "        team = row['Team']\n",
    "        gamesPlayed=int(row['GamesPlayed'])\n",
    "        \n",
    "        Goal_diff_count = goalsFor - goalsAgainst\n",
    "        \n",
    "        teams[team] = Goal_diff_count\n",
    "        \n",
    "        #maximum difference\n",
    "        if (Goal_diff_count > max_diff) : # if new difference found is greater than current max diff then \n",
    "            max_diff = Goal_diff_count\n",
    "            max_min_goal_diff['max'] = team            \n",
    "        \n",
    "        if(Goal_diff_count < min_diff) : #if new difference found is less than current min diff then  \n",
    "            if (Goal_diff_count >=0) :\n",
    "                min_diff = Goal_diff_count\n",
    "                max_min_goal_diff['min'] = team                \n",
    "        \n",
    "        if (gamesPlayed > 0) :            #if Games Played > 0 \n",
    "            if(abs(Goal_diff_count) < min_diff_1) :\n",
    "                min_diff_1 = abs(Goal_diff_count)\n",
    "                max_min_goal_diff['min_atleast_onegame_played'] = team\n",
    "        \n",
    "    return teams, max_min_goal_diff ; "
   ]
  },
  {
   "cell_type": "code",
   "execution_count": 13,
   "metadata": {},
   "outputs": [],
   "source": [
    "#Display Team and its \"Goal Differences\" and team name of max and min goal difference\n",
    "\n",
    "teams,max_min_goal_diff = Goal_diff_count(sports)"
   ]
  },
  {
   "cell_type": "code",
   "execution_count": 14,
   "metadata": {},
   "outputs": [
    {
     "data": {
      "text/plain": [
       "{'Real Madrid': 2807,\n",
       " 'Barcelona': 2786,\n",
       " 'Atletico Madrid': 1225,\n",
       " 'Valencia': 929,\n",
       " 'Athletic Bilbao': 931,\n",
       " 'Sevilla': 307,\n",
       " 'Espanyol': -280,\n",
       " 'Real Sociedad': -2,\n",
       " 'Zaragoza': -164,\n",
       " 'Real Betis': -333,\n",
       " 'Deportivo La Coruna': -136,\n",
       " 'Celta Vigo': -346,\n",
       " 'Valladolid': -413,\n",
       " 'Racing Santander': -525,\n",
       " 'Sporting Gijon': -399,\n",
       " 'Osasuna': -334,\n",
       " 'Malaga': -342,\n",
       " 'Oviedo': -309,\n",
       " 'Mallorca': -189,\n",
       " 'Las Palmas': -399,\n",
       " 'Villarreal': 103,\n",
       " 'Granada': -338,\n",
       " 'Rayo Vallecano': -328,\n",
       " 'Elche': -272,\n",
       " 'Getafe': -113,\n",
       " 'Hercules': -334,\n",
       " 'Tenerife': -125,\n",
       " 'Murcia': -385,\n",
       " 'Alaves': -165,\n",
       " 'Levante': -202,\n",
       " 'Salamanca': -159,\n",
       " 'Sabadell': -228,\n",
       " 'Cadiz': -269,\n",
       " 'Logrones': -198,\n",
       " 'Castellon': -169,\n",
       " 'Albacete': -90,\n",
       " 'Almeria': -122,\n",
       " 'Cordoba': -145,\n",
       " 'Compostela': -42,\n",
       " 'Recreativo': -94,\n",
       " 'Burgos CF': -94,\n",
       " 'Pontevedra': -56,\n",
       " 'Numancia': -98,\n",
       " 'Eibar': -28,\n",
       " 'Arenas': -81,\n",
       " 'Real Burgos': -38,\n",
       " 'Gimnastic': -114,\n",
       " 'Extremadura': -55,\n",
       " 'Merida': -45,\n",
       " 'Alcoyano': -107,\n",
       " 'Jaen': -62,\n",
       " 'Real Union': -31,\n",
       " 'AD Almeria': -45,\n",
       " 'Europa': -34,\n",
       " 'Lleida': -112,\n",
       " 'Leganes': -19,\n",
       " 'Xerez': -28,\n",
       " 'Condal': -20,\n",
       " 'Atletico Tetuan': -34,\n",
       " 'Cultural Leonesa': -31,\n",
       " 'Girona': 0}"
      ]
     },
     "execution_count": 14,
     "metadata": {},
     "output_type": "execute_result"
    }
   ],
   "source": [
    "teams    # Team and its \"Goal Differences\" "
   ]
  },
  {
   "cell_type": "code",
   "execution_count": 15,
   "metadata": {},
   "outputs": [
    {
     "data": {
      "text/plain": [
       "'Real Madrid'"
      ]
     },
     "execution_count": 15,
     "metadata": {},
     "output_type": "execute_result"
    }
   ],
   "source": [
    "#Team which has max goal difference\n",
    "max_min_goal_diff['max']"
   ]
  },
  {
   "cell_type": "code",
   "execution_count": 16,
   "metadata": {},
   "outputs": [
    {
     "data": {
      "text/plain": [
       "'Girona'"
      ]
     },
     "execution_count": 16,
     "metadata": {},
     "output_type": "execute_result"
    }
   ],
   "source": [
    "#Team which has min goal difference - while calculating this, all teams are considered i.e. GamesPlayed =0 or >0\n",
    "max_min_goal_diff['min']"
   ]
  },
  {
   "cell_type": "code",
   "execution_count": 17,
   "metadata": {},
   "outputs": [
    {
     "data": {
      "text/plain": [
       "'Real Sociedad'"
      ]
     },
     "execution_count": 17,
     "metadata": {},
     "output_type": "execute_result"
    }
   ],
   "source": [
    "#Team which has min goal difference - while calculating this, teams which have GamesPlayed > 0 are considered\n",
    "max_min_goal_diff['min_atleast_onegame_played']"
   ]
  },
  {
   "cell_type": "code",
   "execution_count": 18,
   "metadata": {},
   "outputs": [],
   "source": [
    "#Question (5)\n",
    "#Create a new column with the name “Winning Percent” and append it to the data set\n",
    "import numpy as np\n",
    "\n",
    "#function to check if value is inf or NaN then return 0 else return same value\n",
    "def isitInf(x) :\n",
    "    if np.isinf(x) :\n",
    "        return 0\n",
    "    elif np.isnan(x) :\n",
    "        return 0\n",
    "    else :\n",
    "        return x"
   ]
  },
  {
   "cell_type": "code",
   "execution_count": 19,
   "metadata": {},
   "outputs": [],
   "source": [
    "sports['GamesWon'] = sports['GamesWon'].map(lambda x : int(x))\n",
    "sports['GamesPlayed'] = sports['GamesPlayed'].map(lambda x : int(x))"
   ]
  },
  {
   "cell_type": "code",
   "execution_count": 20,
   "metadata": {},
   "outputs": [],
   "source": [
    "# Percentage of Winning = (GamesWon / GamesPlayed)*100 \n",
    "sports['Winning Percent'] = round((sports['GamesWon']/sports['GamesPlayed'])*100,2)"
   ]
  },
  {
   "cell_type": "code",
   "execution_count": 21,
   "metadata": {},
   "outputs": [
    {
     "data": {
      "text/plain": [
       "0     59.63\n",
       "1     57.24\n",
       "2     47.48\n",
       "3     44.56\n",
       "4     43.77\n",
       "      ...  \n",
       "56    21.05\n",
       "57    23.33\n",
       "58    23.33\n",
       "59    16.67\n",
       "60     0.00\n",
       "Name: Winning Percent, Length: 61, dtype: float64"
      ]
     },
     "execution_count": 21,
     "metadata": {},
     "output_type": "execute_result"
    }
   ],
   "source": [
    "# When above statement gets executed, \n",
    "# if GamesPlayed = 0 then Winning Percent will be assigned value inf i.e. infinite\n",
    "# If Gamesplayed=0 and GamesWon=0 then Winning Percent will be assigned value Nan\n",
    "# but if Gamesplayed is 0 then  GamesWon = 0 => Winning Percent = 0 %\n",
    "# to make Winning Percent = 0 for Gamesplayed = 0 below line of code\n",
    "sports['Winning Percent'].map(isitInf)"
   ]
  },
  {
   "cell_type": "code",
   "execution_count": 22,
   "metadata": {},
   "outputs": [
    {
     "data": {
      "text/html": [
       "<div>\n",
       "<style scoped>\n",
       "    .dataframe tbody tr th:only-of-type {\n",
       "        vertical-align: middle;\n",
       "    }\n",
       "\n",
       "    .dataframe tbody tr th {\n",
       "        vertical-align: top;\n",
       "    }\n",
       "\n",
       "    .dataframe thead th {\n",
       "        text-align: right;\n",
       "    }\n",
       "</style>\n",
       "<table border=\"1\" class=\"dataframe\">\n",
       "  <thead>\n",
       "    <tr style=\"text-align: right;\">\n",
       "      <th></th>\n",
       "      <th>Team</th>\n",
       "      <th>Winning Percent</th>\n",
       "    </tr>\n",
       "  </thead>\n",
       "  <tbody>\n",
       "    <tr>\n",
       "      <td>0</td>\n",
       "      <td>Real Madrid</td>\n",
       "      <td>59.63</td>\n",
       "    </tr>\n",
       "    <tr>\n",
       "      <td>1</td>\n",
       "      <td>Barcelona</td>\n",
       "      <td>57.24</td>\n",
       "    </tr>\n",
       "    <tr>\n",
       "      <td>2</td>\n",
       "      <td>Atletico Madrid</td>\n",
       "      <td>47.48</td>\n",
       "    </tr>\n",
       "    <tr>\n",
       "      <td>3</td>\n",
       "      <td>Valencia</td>\n",
       "      <td>44.56</td>\n",
       "    </tr>\n",
       "    <tr>\n",
       "      <td>4</td>\n",
       "      <td>Athletic Bilbao</td>\n",
       "      <td>43.77</td>\n",
       "    </tr>\n",
       "  </tbody>\n",
       "</table>\n",
       "</div>"
      ],
      "text/plain": [
       "              Team  Winning Percent\n",
       "0      Real Madrid            59.63\n",
       "1        Barcelona            57.24\n",
       "2  Atletico Madrid            47.48\n",
       "3         Valencia            44.56\n",
       "4  Athletic Bilbao            43.77"
      ]
     },
     "execution_count": 22,
     "metadata": {},
     "output_type": "execute_result"
    }
   ],
   "source": [
    "#Print the top 5 teams which have the highest Winning percentage\n",
    "sports.sort_values(by=['Winning Percent'],ascending=[False])[['Team','Winning Percent']].head(5)"
   ]
  },
  {
   "cell_type": "code",
   "execution_count": 23,
   "metadata": {},
   "outputs": [],
   "source": [
    "# Question (6)\n",
    "#Group teams based on their “Best position” and print the sum of their points for all positions"
   ]
  },
  {
   "cell_type": "code",
   "execution_count": 24,
   "metadata": {},
   "outputs": [],
   "source": [
    "sports['Points'] = sports['Points'].map(lambda x : int(x))"
   ]
  },
  {
   "cell_type": "code",
   "execution_count": 25,
   "metadata": {},
   "outputs": [],
   "source": [
    "gb= sports.groupby('BestPosition')[['Points']].sum()"
   ]
  },
  {
   "cell_type": "code",
   "execution_count": 26,
   "metadata": {},
   "outputs": [
    {
     "data": {
      "text/plain": [
       "Points    18\n",
       "dtype: int64"
      ]
     },
     "execution_count": 26,
     "metadata": {},
     "output_type": "execute_result"
    }
   ],
   "source": [
    "gb.count()"
   ]
  },
  {
   "cell_type": "code",
   "execution_count": 27,
   "metadata": {},
   "outputs": [
    {
     "data": {
      "text/html": [
       "<div>\n",
       "<style scoped>\n",
       "    .dataframe tbody tr th:only-of-type {\n",
       "        vertical-align: middle;\n",
       "    }\n",
       "\n",
       "    .dataframe tbody tr th {\n",
       "        vertical-align: top;\n",
       "    }\n",
       "\n",
       "    .dataframe thead th {\n",
       "        text-align: right;\n",
       "    }\n",
       "</style>\n",
       "<table border=\"1\" class=\"dataframe\">\n",
       "  <thead>\n",
       "    <tr style=\"text-align: right;\">\n",
       "      <th></th>\n",
       "      <th>Points</th>\n",
       "    </tr>\n",
       "    <tr>\n",
       "      <th>BestPosition</th>\n",
       "      <th></th>\n",
       "    </tr>\n",
       "  </thead>\n",
       "  <tbody>\n",
       "    <tr>\n",
       "      <td>1</td>\n",
       "      <td>27933</td>\n",
       "    </tr>\n",
       "    <tr>\n",
       "      <td>2</td>\n",
       "      <td>6904</td>\n",
       "    </tr>\n",
       "    <tr>\n",
       "      <td>3</td>\n",
       "      <td>5221</td>\n",
       "    </tr>\n",
       "    <tr>\n",
       "      <td>4</td>\n",
       "      <td>6563</td>\n",
       "    </tr>\n",
       "    <tr>\n",
       "      <td>5</td>\n",
       "      <td>1884</td>\n",
       "    </tr>\n",
       "    <tr>\n",
       "      <td>6</td>\n",
       "      <td>2113</td>\n",
       "    </tr>\n",
       "    <tr>\n",
       "      <td>7</td>\n",
       "      <td>1186</td>\n",
       "    </tr>\n",
       "    <tr>\n",
       "      <td>8</td>\n",
       "      <td>1134</td>\n",
       "    </tr>\n",
       "    <tr>\n",
       "      <td>9</td>\n",
       "      <td>96</td>\n",
       "    </tr>\n",
       "    <tr>\n",
       "      <td>10</td>\n",
       "      <td>450</td>\n",
       "    </tr>\n",
       "    <tr>\n",
       "      <td>11</td>\n",
       "      <td>445</td>\n",
       "    </tr>\n",
       "    <tr>\n",
       "      <td>12</td>\n",
       "      <td>511</td>\n",
       "    </tr>\n",
       "    <tr>\n",
       "      <td>14</td>\n",
       "      <td>71</td>\n",
       "    </tr>\n",
       "    <tr>\n",
       "      <td>15</td>\n",
       "      <td>14</td>\n",
       "    </tr>\n",
       "    <tr>\n",
       "      <td>16</td>\n",
       "      <td>81</td>\n",
       "    </tr>\n",
       "    <tr>\n",
       "      <td>17</td>\n",
       "      <td>266</td>\n",
       "    </tr>\n",
       "    <tr>\n",
       "      <td>19</td>\n",
       "      <td>81</td>\n",
       "    </tr>\n",
       "    <tr>\n",
       "      <td>20</td>\n",
       "      <td>34</td>\n",
       "    </tr>\n",
       "  </tbody>\n",
       "</table>\n",
       "</div>"
      ],
      "text/plain": [
       "              Points\n",
       "BestPosition        \n",
       "1              27933\n",
       "2               6904\n",
       "3               5221\n",
       "4               6563\n",
       "5               1884\n",
       "6               2113\n",
       "7               1186\n",
       "8               1134\n",
       "9                 96\n",
       "10               450\n",
       "11               445\n",
       "12               511\n",
       "14                71\n",
       "15                14\n",
       "16                81\n",
       "17               266\n",
       "19                81\n",
       "20                34"
      ]
     },
     "execution_count": 27,
     "metadata": {},
     "output_type": "execute_result"
    }
   ],
   "source": [
    "gb.head(18)            #there are total 18 groups based on count in above line"
   ]
  },
  {
   "cell_type": "code",
   "execution_count": null,
   "metadata": {},
   "outputs": [],
   "source": []
  }
 ],
 "metadata": {
  "kernelspec": {
   "display_name": "Python 3",
   "language": "python",
   "name": "python3"
  },
  "language_info": {
   "codemirror_mode": {
    "name": "ipython",
    "version": 3
   },
   "file_extension": ".py",
   "mimetype": "text/x-python",
   "name": "python",
   "nbconvert_exporter": "python",
   "pygments_lexer": "ipython3",
   "version": "3.7.4"
  }
 },
 "nbformat": 4,
 "nbformat_minor": 2
}
