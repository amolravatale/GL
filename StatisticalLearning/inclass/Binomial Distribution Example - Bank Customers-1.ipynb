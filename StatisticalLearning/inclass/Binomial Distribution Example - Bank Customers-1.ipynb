{
 "cells": [
  {
   "cell_type": "code",
   "execution_count": 1,
   "metadata": {},
   "outputs": [],
   "source": [
    "import numpy as np\n",
    "import scipy.stats as stats\n",
    "import matplotlib.pyplot as plt"
   ]
  },
  {
   "cell_type": "code",
   "execution_count": 18,
   "metadata": {},
   "outputs": [],
   "source": [
    "n=7"
   ]
  },
  {
   "cell_type": "code",
   "execution_count": 19,
   "metadata": {},
   "outputs": [],
   "source": [
    "p=0.6"
   ]
  },
  {
   "cell_type": "code",
   "execution_count": 21,
   "metadata": {},
   "outputs": [
    {
     "data": {
      "text/plain": [
       "array([0, 1, 2, 3, 4, 5, 6, 7])"
      ]
     },
     "execution_count": 21,
     "metadata": {},
     "output_type": "execute_result"
    }
   ],
   "source": [
    "k=np.arange(0,8)\n",
    "k"
   ]
  },
  {
   "cell_type": "code",
   "execution_count": 22,
   "metadata": {},
   "outputs": [],
   "source": [
    "binomial = stats.binom.pmf(k,n,p)"
   ]
  },
  {
   "cell_type": "code",
   "execution_count": 28,
   "metadata": {},
   "outputs": [
    {
     "data": {
      "text/plain": [
       "0.01720320000000001"
      ]
     },
     "execution_count": 28,
     "metadata": {},
     "output_type": "execute_result"
    }
   ],
   "source": [
    "7*(0.6)*((0.4)**6)"
   ]
  },
  {
   "cell_type": "code",
   "execution_count": 26,
   "metadata": {},
   "outputs": [
    {
     "data": {
      "text/plain": [
       "0.017203200000000016"
      ]
     },
     "execution_count": 26,
     "metadata": {},
     "output_type": "execute_result"
    }
   ],
   "source": [
    "stats.binom.pmf(1,n=7,p=0.6)"
   ]
  },
  {
   "cell_type": "code",
   "execution_count": 6,
   "metadata": {},
   "outputs": [
    {
     "data": {
      "text/plain": [
       "array([0.0016384, 0.0172032, 0.0774144, 0.193536 , 0.290304 , 0.2612736,\n",
       "       0.1306368, 0.0279936])"
      ]
     },
     "execution_count": 6,
     "metadata": {},
     "output_type": "execute_result"
    }
   ],
   "source": [
    "binomial"
   ]
  },
  {
   "cell_type": "code",
   "execution_count": 7,
   "metadata": {},
   "outputs": [
    {
     "data": {
      "image/png": "[encoded data removed]",
      "text/plain": [
       "<Figure size 432x288 with 1 Axes>"
      ]
     },
     "metadata": {
      "needs_background": "light"
     },
     "output_type": "display_data"
    }
   ],
   "source": [
    "plt.plot(k,binomial,'o-')\n",
    "plt.title('Binomial: n=%i , p=%.2f' % (n,p), fontsize=15)\n",
    "plt.xlabel('Number of Successes')\n",
    "plt.ylabel('Probability of Successes')\n",
    "plt.show()"
   ]
  },
  {
   "cell_type": "code",
   "execution_count": 8,
   "metadata": {},
   "outputs": [],
   "source": [
    "n=len(binomial)"
   ]
  },
  {
   "cell_type": "code",
   "execution_count": 9,
   "metadata": {},
   "outputs": [
    {
     "data": {
      "text/plain": [
       "8"
      ]
     },
     "execution_count": 9,
     "metadata": {},
     "output_type": "execute_result"
    }
   ],
   "source": [
    "n"
   ]
  },
  {
   "cell_type": "code",
   "execution_count": 10,
   "metadata": {},
   "outputs": [
    {
     "data": {
      "text/plain": [
       "1.0000000000000004"
      ]
     },
     "execution_count": 10,
     "metadata": {},
     "output_type": "execute_result"
    }
   ],
   "source": [
    "sum(binomial)"
   ]
  },
  {
   "cell_type": "code",
   "execution_count": 58,
   "metadata": {},
   "outputs": [
    {
     "data": {
      "text/plain": [
       "2.866515718791933e-07"
      ]
     },
     "execution_count": 58,
     "metadata": {},
     "output_type": "execute_result"
    }
   ],
   "source": [
    "#stats.norm.cdf(-0.6,loc=0,scale=1)\n",
    "stats.norm.cdf(9,loc=10,scale=0.2)\n",
    "#stats.norm.cdf(-5,loc=0,scale=1)"
   ]
  },
  {
   "cell_type": "code",
   "execution_count": 23,
   "metadata": {},
   "outputs": [
    {
     "data": {
      "text/plain": [
       "0.9986501019683699"
      ]
     },
     "execution_count": 23,
     "metadata": {},
     "output_type": "execute_result"
    }
   ],
   "source": [
    "stats.norm.cdf(3,loc=0,scale=1)"
   ]
  },
  {
   "cell_type": "code",
   "execution_count": 69,
   "metadata": {},
   "outputs": [
    {
     "data": {
      "text/plain": [
       "9.534730425191832"
      ]
     },
     "execution_count": 69,
     "metadata": {},
     "output_type": "execute_result"
    }
   ],
   "source": [
    "stats.norm.ppf(0.01,loc=10,scale=0.2)"
   ]
  },
  {
   "cell_type": "code",
   "execution_count": 35,
   "metadata": {},
   "outputs": [
    {
     "data": {
      "text/plain": [
       "5.0"
      ]
     },
     "execution_count": 35,
     "metadata": {},
     "output_type": "execute_result"
    }
   ],
   "source": [
    "# 9.9 to 10.15\n",
    "#stats.norm.cdf(10.15,loc=10.01,scale=0.06) -stats.norm.cdf(9.9,loc=10.01,scale=0.06)\n",
    "1/0.2"
   ]
  },
  {
   "cell_type": "code",
   "execution_count": 14,
   "metadata": {},
   "outputs": [
    {
     "data": {
      "text/plain": [
       "10.06815869685102"
      ]
     },
     "execution_count": 14,
     "metadata": {},
     "output_type": "execute_result"
    }
   ],
   "source": [
    "stats.norm.ppf(0.99,loc=10.01,scale=0.025)"
   ]
  },
  {
   "cell_type": "code",
   "execution_count": 13,
   "metadata": {},
   "outputs": [
    {
     "data": {
      "text/plain": [
       "array([-3.  , -2.99, -2.98, -2.97, -2.96, -2.95, -2.94, -2.93, -2.92,\n",
       "       -2.91, -2.9 , -2.89, -2.88, -2.87, -2.86, -2.85, -2.84, -2.83,\n",
       "       -2.82, -2.81, -2.8 , -2.79, -2.78, -2.77, -2.76, -2.75, -2.74,\n",
       "       -2.73, -2.72, -2.71, -2.7 , -2.69, -2.68, -2.67, -2.66, -2.65,\n",
       "       -2.64, -2.63, -2.62, -2.61, -2.6 , -2.59, -2.58, -2.57, -2.56,\n",
       "       -2.55, -2.54, -2.53, -2.52, -2.51, -2.5 , -2.49, -2.48, -2.47,\n",
       "       -2.46, -2.45, -2.44, -2.43, -2.42, -2.41, -2.4 , -2.39, -2.38,\n",
       "       -2.37, -2.36, -2.35, -2.34, -2.33, -2.32, -2.31, -2.3 , -2.29,\n",
       "       -2.28, -2.27, -2.26, -2.25, -2.24, -2.23, -2.22, -2.21, -2.2 ,\n",
       "       -2.19, -2.18, -2.17, -2.16, -2.15, -2.14, -2.13, -2.12, -2.11,\n",
       "       -2.1 , -2.09, -2.08, -2.07, -2.06, -2.05, -2.04, -2.03, -2.02,\n",
       "       -2.01, -2.  , -1.99, -1.98, -1.97, -1.96, -1.95, -1.94, -1.93,\n",
       "       -1.92, -1.91, -1.9 , -1.89, -1.88, -1.87, -1.86, -1.85, -1.84,\n",
       "       -1.83, -1.82, -1.81, -1.8 , -1.79, -1.78, -1.77, -1.76, -1.75,\n",
       "       -1.74, -1.73, -1.72, -1.71, -1.7 , -1.69, -1.68, -1.67, -1.66,\n",
       "       -1.65, -1.64, -1.63, -1.62, -1.61, -1.6 , -1.59, -1.58, -1.57,\n",
       "       -1.56, -1.55, -1.54, -1.53, -1.52, -1.51, -1.5 , -1.49, -1.48,\n",
       "       -1.47, -1.46, -1.45, -1.44, -1.43, -1.42, -1.41, -1.4 , -1.39,\n",
       "       -1.38, -1.37, -1.36, -1.35, -1.34, -1.33, -1.32, -1.31, -1.3 ,\n",
       "       -1.29, -1.28, -1.27, -1.26, -1.25, -1.24, -1.23, -1.22, -1.21,\n",
       "       -1.2 , -1.19, -1.18, -1.17, -1.16, -1.15, -1.14, -1.13, -1.12,\n",
       "       -1.11, -1.1 , -1.09, -1.08, -1.07, -1.06, -1.05, -1.04, -1.03,\n",
       "       -1.02, -1.01, -1.  , -0.99, -0.98, -0.97, -0.96, -0.95, -0.94,\n",
       "       -0.93, -0.92, -0.91, -0.9 , -0.89, -0.88, -0.87, -0.86, -0.85,\n",
       "       -0.84, -0.83, -0.82, -0.81, -0.8 , -0.79, -0.78, -0.77, -0.76,\n",
       "       -0.75, -0.74, -0.73, -0.72, -0.71, -0.7 , -0.69, -0.68, -0.67,\n",
       "       -0.66, -0.65, -0.64, -0.63, -0.62, -0.61, -0.6 , -0.59, -0.58,\n",
       "       -0.57, -0.56, -0.55, -0.54, -0.53, -0.52, -0.51, -0.5 , -0.49,\n",
       "       -0.48, -0.47, -0.46, -0.45, -0.44, -0.43, -0.42, -0.41, -0.4 ,\n",
       "       -0.39, -0.38, -0.37, -0.36, -0.35, -0.34, -0.33, -0.32, -0.31,\n",
       "       -0.3 , -0.29, -0.28, -0.27, -0.26, -0.25, -0.24, -0.23, -0.22,\n",
       "       -0.21, -0.2 , -0.19, -0.18, -0.17, -0.16, -0.15, -0.14, -0.13,\n",
       "       -0.12, -0.11, -0.1 , -0.09, -0.08, -0.07, -0.06, -0.05, -0.04,\n",
       "       -0.03, -0.02, -0.01,  0.  ,  0.01,  0.02,  0.03,  0.04,  0.05,\n",
       "        0.06,  0.07,  0.08,  0.09,  0.1 ,  0.11,  0.12,  0.13,  0.14,\n",
       "        0.15,  0.16,  0.17,  0.18,  0.19,  0.2 ,  0.21,  0.22,  0.23,\n",
       "        0.24,  0.25,  0.26,  0.27,  0.28,  0.29,  0.3 ,  0.31,  0.32,\n",
       "        0.33,  0.34,  0.35,  0.36,  0.37,  0.38,  0.39,  0.4 ,  0.41,\n",
       "        0.42,  0.43,  0.44,  0.45,  0.46,  0.47,  0.48,  0.49,  0.5 ,\n",
       "        0.51,  0.52,  0.53,  0.54,  0.55,  0.56,  0.57,  0.58,  0.59,\n",
       "        0.6 ,  0.61,  0.62,  0.63,  0.64,  0.65,  0.66,  0.67,  0.68,\n",
       "        0.69,  0.7 ,  0.71,  0.72,  0.73,  0.74,  0.75,  0.76,  0.77,\n",
       "        0.78,  0.79,  0.8 ,  0.81,  0.82,  0.83,  0.84,  0.85,  0.86,\n",
       "        0.87,  0.88,  0.89,  0.9 ,  0.91,  0.92,  0.93,  0.94,  0.95,\n",
       "        0.96,  0.97,  0.98,  0.99,  1.  ,  1.01,  1.02,  1.03,  1.04,\n",
       "        1.05,  1.06,  1.07,  1.08,  1.09,  1.1 ,  1.11,  1.12,  1.13,\n",
       "        1.14,  1.15,  1.16,  1.17,  1.18,  1.19,  1.2 ,  1.21,  1.22,\n",
       "        1.23,  1.24,  1.25,  1.26,  1.27,  1.28,  1.29,  1.3 ,  1.31,\n",
       "        1.32,  1.33,  1.34,  1.35,  1.36,  1.37,  1.38,  1.39,  1.4 ,\n",
       "        1.41,  1.42,  1.43,  1.44,  1.45,  1.46,  1.47,  1.48,  1.49,\n",
       "        1.5 ,  1.51,  1.52,  1.53,  1.54,  1.55,  1.56,  1.57,  1.58,\n",
       "        1.59,  1.6 ,  1.61,  1.62,  1.63,  1.64,  1.65,  1.66,  1.67,\n",
       "        1.68,  1.69,  1.7 ,  1.71,  1.72,  1.73,  1.74,  1.75,  1.76,\n",
       "        1.77,  1.78,  1.79,  1.8 ,  1.81,  1.82,  1.83,  1.84,  1.85,\n",
       "        1.86,  1.87,  1.88,  1.89,  1.9 ,  1.91,  1.92,  1.93,  1.94,\n",
       "        1.95,  1.96,  1.97,  1.98,  1.99,  2.  ,  2.01,  2.02,  2.03,\n",
       "        2.04,  2.05,  2.06,  2.07,  2.08,  2.09,  2.1 ,  2.11,  2.12,\n",
       "        2.13,  2.14,  2.15,  2.16,  2.17,  2.18,  2.19,  2.2 ,  2.21,\n",
       "        2.22,  2.23,  2.24,  2.25,  2.26,  2.27,  2.28,  2.29,  2.3 ,\n",
       "        2.31,  2.32,  2.33,  2.34,  2.35,  2.36,  2.37,  2.38,  2.39,\n",
       "        2.4 ,  2.41,  2.42,  2.43,  2.44,  2.45,  2.46,  2.47,  2.48,\n",
       "        2.49,  2.5 ,  2.51,  2.52,  2.53,  2.54,  2.55,  2.56,  2.57,\n",
       "        2.58,  2.59,  2.6 ,  2.61,  2.62,  2.63,  2.64,  2.65,  2.66,\n",
       "        2.67,  2.68,  2.69,  2.7 ,  2.71,  2.72,  2.73,  2.74,  2.75,\n",
       "        2.76,  2.77,  2.78,  2.79,  2.8 ,  2.81,  2.82,  2.83,  2.84,\n",
       "        2.85,  2.86,  2.87,  2.88,  2.89,  2.9 ,  2.91,  2.92,  2.93,\n",
       "        2.94,  2.95,  2.96,  2.97,  2.98,  2.99])"
      ]
     },
     "execution_count": 13,
     "metadata": {},
     "output_type": "execute_result"
    }
   ],
   "source": [
    "k=np.arange(-300,300)/100\n",
    "k"
   ]
  },
  {
   "cell_type": "code",
   "execution_count": 14,
   "metadata": {},
   "outputs": [
    {
     "data": {
      "text/plain": [
       "array([0.00443185, 0.00456659, 0.00470496, 0.00484703, 0.0049929 ,\n",
       "       0.00514264, 0.00529634, 0.0054541 , 0.00561598, 0.0057821 ,\n",
       "       0.00595253, 0.00612738, 0.00630673, 0.00649068, 0.00667932,\n",
       "       0.00687277, 0.0070711 , 0.00727444, 0.00748287, 0.00769651,\n",
       "       0.00791545, 0.00813981, 0.00836969, 0.0086052 , 0.00884645,\n",
       "       0.00909356, 0.00934664, 0.0096058 , 0.00987115, 0.01014283,\n",
       "       0.01042093, 0.0107056 , 0.01099694, 0.01129507, 0.01160014,\n",
       "       0.01191224, 0.01223153, 0.01255811, 0.01289213, 0.0132337 ,\n",
       "       0.01358297, 0.01394006, 0.01430511, 0.01467825, 0.01505962,\n",
       "       0.01544935, 0.01584758, 0.01625445, 0.0166701 , 0.01709467,\n",
       "       0.0175283 , 0.01797113, 0.01842331, 0.01888498, 0.01935628,\n",
       "       0.01983735, 0.02032836, 0.02082943, 0.02134071, 0.02186237,\n",
       "       0.02239453, 0.02293735, 0.02349099, 0.02405557, 0.02463127,\n",
       "       0.02521822, 0.02581658, 0.02642649, 0.0270481 , 0.02768157,\n",
       "       0.02832704, 0.02898466, 0.02965458, 0.03033696, 0.03103193,\n",
       "       0.03173965, 0.03246027, 0.03319392, 0.03394076, 0.03470094,\n",
       "       0.03547459, 0.03626187, 0.03706291, 0.03787786, 0.03870686,\n",
       "       0.03955004, 0.04040755, 0.04127953, 0.04216611, 0.04306742,\n",
       "       0.0439836 , 0.04491477, 0.04586108, 0.04682264, 0.04779957,\n",
       "       0.04879202, 0.04980009, 0.0508239 , 0.05186358, 0.05291923,\n",
       "       0.05399097, 0.0550789 , 0.05618314, 0.05730379, 0.05844094,\n",
       "       0.05959471, 0.06076517, 0.06195242, 0.06315656, 0.06437766,\n",
       "       0.06561581, 0.06687109, 0.06814357, 0.06943331, 0.07074039,\n",
       "       0.07206487, 0.07340681, 0.07476626, 0.07614327, 0.07753789,\n",
       "       0.07895016, 0.08038011, 0.08182778, 0.08329319, 0.08477636,\n",
       "       0.08627732, 0.08779607, 0.08933262, 0.09088698, 0.09245913,\n",
       "       0.09404908, 0.0956568 , 0.09728227, 0.09892547, 0.10058637,\n",
       "       0.10226492, 0.1039611 , 0.10567483, 0.10740608, 0.10915477,\n",
       "       0.11092083, 0.11270421, 0.1145048 , 0.11632253, 0.1181573 ,\n",
       "       0.120009  , 0.12187754, 0.12376279, 0.12566464, 0.12758295,\n",
       "       0.1295176 , 0.13146843, 0.1334353 , 0.13541806, 0.13741654,\n",
       "       0.13943057, 0.14145997, 0.14350455, 0.14556413, 0.1476385 ,\n",
       "       0.14972747, 0.1518308 , 0.15394829, 0.1560797 , 0.15822479,\n",
       "       0.16038333, 0.16255506, 0.16473972, 0.16693704, 0.16914676,\n",
       "       0.17136859, 0.17360225, 0.17584743, 0.17810384, 0.18037116,\n",
       "       0.18264909, 0.18493728, 0.18723542, 0.18954316, 0.19186015,\n",
       "       0.19418605, 0.1965205 , 0.19886312, 0.20121354, 0.20357139,\n",
       "       0.20593627, 0.20830779, 0.21068555, 0.21306915, 0.21545816,\n",
       "       0.21785218, 0.22025077, 0.2226535 , 0.22505994, 0.22746963,\n",
       "       0.22988214, 0.232297  , 0.23471376, 0.23713195, 0.2395511 ,\n",
       "       0.24197072, 0.24439035, 0.24680949, 0.24922765, 0.25164434,\n",
       "       0.25405906, 0.25647129, 0.25888055, 0.2612863 , 0.26368804,\n",
       "       0.26608525, 0.2684774 , 0.27086397, 0.27324443, 0.27561825,\n",
       "       0.27798489, 0.28034381, 0.28269448, 0.28503636, 0.2873689 ,\n",
       "       0.28969155, 0.29200378, 0.29430503, 0.29659475, 0.29887241,\n",
       "       0.30113743, 0.30338928, 0.30562741, 0.30785126, 0.31006028,\n",
       "       0.31225393, 0.31443166, 0.31659291, 0.31873714, 0.3208638 ,\n",
       "       0.32297236, 0.32506226, 0.32713298, 0.32918396, 0.33121468,\n",
       "       0.3332246 , 0.3352132 , 0.33717994, 0.33912431, 0.34104579,\n",
       "       0.34294386, 0.344818  , 0.34666772, 0.34849251, 0.35029188,\n",
       "       0.35206533, 0.35381237, 0.35553253, 0.35722533, 0.35889029,\n",
       "       0.36052696, 0.36213488, 0.3637136 , 0.36526267, 0.36678166,\n",
       "       0.36827014, 0.36972768, 0.37115388, 0.37254832, 0.37391061,\n",
       "       0.37524035, 0.37653716, 0.37780068, 0.37903053, 0.38022635,\n",
       "       0.38138782, 0.38251457, 0.38360629, 0.38466266, 0.38568337,\n",
       "       0.38666812, 0.38761662, 0.38852859, 0.38940376, 0.39024188,\n",
       "       0.39104269, 0.39180597, 0.39253148, 0.39321901, 0.39386836,\n",
       "       0.39447933, 0.39505174, 0.39558542, 0.39608021, 0.39653597,\n",
       "       0.39695255, 0.39732983, 0.39766771, 0.39796607, 0.39822483,\n",
       "       0.39844391, 0.39862325, 0.3987628 , 0.3988625 , 0.39892233,\n",
       "       0.39894228, 0.39892233, 0.3988625 , 0.3987628 , 0.39862325,\n",
       "       0.39844391, 0.39822483, 0.39796607, 0.39766771, 0.39732983,\n",
       "       0.39695255, 0.39653597, 0.39608021, 0.39558542, 0.39505174,\n",
       "       0.39447933, 0.39386836, 0.39321901, 0.39253148, 0.39180597,\n",
       "       0.39104269, 0.39024188, 0.38940376, 0.38852859, 0.38761662,\n",
       "       0.38666812, 0.38568337, 0.38466266, 0.38360629, 0.38251457,\n",
       "       0.38138782, 0.38022635, 0.37903053, 0.37780068, 0.37653716,\n",
       "       0.37524035, 0.37391061, 0.37254832, 0.37115388, 0.36972768,\n",
       "       0.36827014, 0.36678166, 0.36526267, 0.3637136 , 0.36213488,\n",
       "       0.36052696, 0.35889029, 0.35722533, 0.35553253, 0.35381237,\n",
       "       0.35206533, 0.35029188, 0.34849251, 0.34666772, 0.344818  ,\n",
       "       0.34294386, 0.34104579, 0.33912431, 0.33717994, 0.3352132 ,\n",
       "       0.3332246 , 0.33121468, 0.32918396, 0.32713298, 0.32506226,\n",
       "       0.32297236, 0.3208638 , 0.31873714, 0.31659291, 0.31443166,\n",
       "       0.31225393, 0.31006028, 0.30785126, 0.30562741, 0.30338928,\n",
       "       0.30113743, 0.29887241, 0.29659475, 0.29430503, 0.29200378,\n",
       "       0.28969155, 0.2873689 , 0.28503636, 0.28269448, 0.28034381,\n",
       "       0.27798489, 0.27561825, 0.27324443, 0.27086397, 0.2684774 ,\n",
       "       0.26608525, 0.26368804, 0.2612863 , 0.25888055, 0.25647129,\n",
       "       0.25405906, 0.25164434, 0.24922765, 0.24680949, 0.24439035,\n",
       "       0.24197072, 0.2395511 , 0.23713195, 0.23471376, 0.232297  ,\n",
       "       0.22988214, 0.22746963, 0.22505994, 0.2226535 , 0.22025077,\n",
       "       0.21785218, 0.21545816, 0.21306915, 0.21068555, 0.20830779,\n",
       "       0.20593627, 0.20357139, 0.20121354, 0.19886312, 0.1965205 ,\n",
       "       0.19418605, 0.19186015, 0.18954316, 0.18723542, 0.18493728,\n",
       "       0.18264909, 0.18037116, 0.17810384, 0.17584743, 0.17360225,\n",
       "       0.17136859, 0.16914676, 0.16693704, 0.16473972, 0.16255506,\n",
       "       0.16038333, 0.15822479, 0.1560797 , 0.15394829, 0.1518308 ,\n",
       "       0.14972747, 0.1476385 , 0.14556413, 0.14350455, 0.14145997,\n",
       "       0.13943057, 0.13741654, 0.13541806, 0.1334353 , 0.13146843,\n",
       "       0.1295176 , 0.12758295, 0.12566464, 0.12376279, 0.12187754,\n",
       "       0.120009  , 0.1181573 , 0.11632253, 0.1145048 , 0.11270421,\n",
       "       0.11092083, 0.10915477, 0.10740608, 0.10567483, 0.1039611 ,\n",
       "       0.10226492, 0.10058637, 0.09892547, 0.09728227, 0.0956568 ,\n",
       "       0.09404908, 0.09245913, 0.09088698, 0.08933262, 0.08779607,\n",
       "       0.08627732, 0.08477636, 0.08329319, 0.08182778, 0.08038011,\n",
       "       0.07895016, 0.07753789, 0.07614327, 0.07476626, 0.07340681,\n",
       "       0.07206487, 0.07074039, 0.06943331, 0.06814357, 0.06687109,\n",
       "       0.06561581, 0.06437766, 0.06315656, 0.06195242, 0.06076517,\n",
       "       0.05959471, 0.05844094, 0.05730379, 0.05618314, 0.0550789 ,\n",
       "       0.05399097, 0.05291923, 0.05186358, 0.0508239 , 0.04980009,\n",
       "       0.04879202, 0.04779957, 0.04682264, 0.04586108, 0.04491477,\n",
       "       0.0439836 , 0.04306742, 0.04216611, 0.04127953, 0.04040755,\n",
       "       0.03955004, 0.03870686, 0.03787786, 0.03706291, 0.03626187,\n",
       "       0.03547459, 0.03470094, 0.03394076, 0.03319392, 0.03246027,\n",
       "       0.03173965, 0.03103193, 0.03033696, 0.02965458, 0.02898466,\n",
       "       0.02832704, 0.02768157, 0.0270481 , 0.02642649, 0.02581658,\n",
       "       0.02521822, 0.02463127, 0.02405557, 0.02349099, 0.02293735,\n",
       "       0.02239453, 0.02186237, 0.02134071, 0.02082943, 0.02032836,\n",
       "       0.01983735, 0.01935628, 0.01888498, 0.01842331, 0.01797113,\n",
       "       0.0175283 , 0.01709467, 0.0166701 , 0.01625445, 0.01584758,\n",
       "       0.01544935, 0.01505962, 0.01467825, 0.01430511, 0.01394006,\n",
       "       0.01358297, 0.0132337 , 0.01289213, 0.01255811, 0.01223153,\n",
       "       0.01191224, 0.01160014, 0.01129507, 0.01099694, 0.0107056 ,\n",
       "       0.01042093, 0.01014283, 0.00987115, 0.0096058 , 0.00934664,\n",
       "       0.00909356, 0.00884645, 0.0086052 , 0.00836969, 0.00813981,\n",
       "       0.00791545, 0.00769651, 0.00748287, 0.00727444, 0.0070711 ,\n",
       "       0.00687277, 0.00667932, 0.00649068, 0.00630673, 0.00612738,\n",
       "       0.00595253, 0.0057821 , 0.00561598, 0.0054541 , 0.00529634,\n",
       "       0.00514264, 0.0049929 , 0.00484703, 0.00470496, 0.00456659])"
      ]
     },
     "execution_count": 14,
     "metadata": {},
     "output_type": "execute_result"
    }
   ],
   "source": [
    "normpdf=stats.norm.pdf(k,0,1)\n",
    "normpdf"
   ]
  },
  {
   "cell_type": "code",
   "execution_count": 15,
   "metadata": {},
   "outputs": [
    {
     "data": {
      "image/png": "[encoded data removed]",
      "text/plain": [
       "<Figure size 432x288 with 1 Axes>"
      ]
     },
     "metadata": {
      "needs_background": "light"
     },
     "output_type": "display_data"
    }
   ],
   "source": [
    "plt.plot(k,normpdf,'o-')\n",
    "plt.title('Normal pdf',fontsize=15)\n",
    "plt.xlabel('x')\n",
    "plt.ylabel('f(x)')\n",
    "plt.show()"
   ]
  },
  {
   "cell_type": "code",
   "execution_count": null,
   "metadata": {},
   "outputs": [],
   "source": []
  }
 ],
 "metadata": {
  "kernelspec": {
   "display_name": "Python 3",
   "language": "python",
   "name": "python3"
  },
  "language_info": {
   "codemirror_mode": {
    "name": "ipython",
    "version": 3
   },
   "file_extension": ".py",
   "mimetype": "text/x-python",
   "name": "python",
   "nbconvert_exporter": "python",
   "pygments_lexer": "ipython3",
   "version": "3.7.4"
  }
 },
 "nbformat": 4,
 "nbformat_minor": 2
}
