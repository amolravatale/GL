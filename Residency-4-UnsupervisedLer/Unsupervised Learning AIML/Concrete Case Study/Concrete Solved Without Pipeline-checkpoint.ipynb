{
 "cells": [
  {
   "cell_type": "code",
   "execution_count": 1,
   "metadata": {},
   "outputs": [],
   "source": [
    "import warnings\n",
    "warnings.filterwarnings('ignore')"
   ]
  },
  {
   "cell_type": "code",
   "execution_count": 2,
   "metadata": {},
   "outputs": [
    {
     "name": "stdout",
     "output_type": "stream",
     "text": [
      "Training R2\n",
      "0.6374354064424276\n",
      "Testing R2\n",
      "0.5022375995887234\n"
     ]
    }
   ],
   "source": [
    "import pandas as pd\n",
    "import numpy as np\n",
    "from sklearn.linear_model import LinearRegression\n",
    "import pandas as pd\n",
    "from sklearn.model_selection import train_test_split\n",
    "from sklearn.preprocessing import PolynomialFeatures\n",
    "from sklearn.model_selection import cross_val_score\n",
    "from sklearn.metrics import r2_score\n",
    "demo = pd.read_csv(\"concrete.csv\")\n",
    "X=demo.drop('strength',axis=1)\n",
    "y=demo['strength']\n",
    "Xtrain, Xtest, ytrain, ytest = train_test_split(X, y, test_size= .20,random_state=10)\n",
    "lr=LinearRegression()\n",
    "lr.fit(Xtrain,ytrain)\n",
    "print(\"Training R2\")\n",
    "print(lr.score(Xtrain,ytrain))\n",
    "print(\"Testing R2\")\n",
    "print(lr.score(Xtest,ytest))"
   ]
  },
  {
   "cell_type": "code",
   "execution_count": 3,
   "metadata": {},
   "outputs": [],
   "source": [
    "scoresdt = cross_val_score(lr, Xtrain, ytrain, cv=10)"
   ]
  },
  {
   "cell_type": "code",
   "execution_count": 4,
   "metadata": {},
   "outputs": [
    {
     "data": {
      "text/plain": [
       "array([0.52571613, 0.71904056, 0.62260097, 0.64177363, 0.71449256,\n",
       "       0.70070694, 0.58346583, 0.52009653, 0.65254622, 0.50414244])"
      ]
     },
     "execution_count": 4,
     "metadata": {},
     "output_type": "execute_result"
    }
   ],
   "source": [
    "scoresdt"
   ]
  },
  {
   "cell_type": "code",
   "execution_count": 5,
   "metadata": {},
   "outputs": [],
   "source": [
    "demo = pd.read_csv(\"concrete.csv\")\n",
    "X=demo.drop('strength',axis=1)\n",
    "y=demo['strength']\n",
    "Xtrain, Xtest, ytrain, ytest = train_test_split(X, y, test_size= .20,random_state=10)\n",
    "from sklearn.preprocessing import StandardScaler\n",
    "from sklearn.preprocessing import PolynomialFeatures\n",
    "from sklearn.decomposition import PCA\n",
    "poly = PolynomialFeatures(degree=3)\n",
    "pca = PCA(n_components=130)\n",
    "sc=StandardScaler()\n",
    "scaledXtrain = sc.fit_transform(Xtrain)\n",
    "scaledXtest = sc.transform(Xtest)\n",
    "polyscaledXtrain = poly.fit_transform(scaledXtrain)\n",
    "polyscaledXtest = poly.transform(scaledXtest)\n",
    "pcaXtrain = pca.fit_transform(polyscaledXtrain)\n",
    "pcaXtest = pca.transform(polyscaledXtest)\n",
    "lr=LinearRegression()\n",
    "scoresdt = cross_val_score(lr, polyscaledXtrain, ytrain, cv=10)\n",
    "lrpca=LinearRegression()\n",
    "scoresdtpca = cross_val_score(lrpca, pcaXtrain, ytrain, cv=10)"
   ]
  },
  {
   "cell_type": "code",
   "execution_count": 6,
   "metadata": {},
   "outputs": [
    {
     "name": "stdout",
     "output_type": "stream",
     "text": [
      "Before PCA\n",
      "0.8332261105080552\n",
      "After PCA\n",
      "0.849279741989208\n"
     ]
    }
   ],
   "source": [
    "print(\"Before PCA\")\n",
    "print(np.mean(scoresdt))\n",
    "print(\"After PCA\")\n",
    "print(np.mean(scoresdtpca))"
   ]
  },
  {
   "cell_type": "code",
   "execution_count": 7,
   "metadata": {},
   "outputs": [
    {
     "name": "stdout",
     "output_type": "stream",
     "text": [
      "Bias Errors (1-Accuracy/R2)\n",
      "0.16677388949194483\n",
      "Variance Errors\n",
      "0.0029530298639429083\n"
     ]
    }
   ],
   "source": [
    "#Bias Variance Error Calculation\n",
    "print(\"Bias Errors (1-Accuracy/R2)\")\n",
    "print(1-np.mean(scoresdt))\n",
    "print(\"Variance Errors\")\n",
    "print(np.var(scoresdt))"
   ]
  }
 ],
 "metadata": {
  "kernelspec": {
   "display_name": "Python 3",
   "language": "python",
   "name": "python3"
  },
  "language_info": {
   "codemirror_mode": {
    "name": "ipython",
    "version": 3
   },
   "file_extension": ".py",
   "mimetype": "text/x-python",
   "name": "python",
   "nbconvert_exporter": "python",
   "pygments_lexer": "ipython3",
   "version": "3.7.7"
  }
 },
 "nbformat": 4,
 "nbformat_minor": 2
}
