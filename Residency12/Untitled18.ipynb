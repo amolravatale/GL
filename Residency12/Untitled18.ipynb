{
  "nbformat": 4,
  "nbformat_minor": 0,
  "metadata": {
    "colab": {
      "name": "Untitled18.ipynb",
      "provenance": []
    },
    "kernelspec": {
      "name": "python3",
      "display_name": "Python 3"
    },
    "language_info": {
      "name": "python"
    }
  },
  "cells": [
    {
      "cell_type": "code",
      "metadata": {
        "id": "hly_1HKkiBtF"
      },
      "source": [
        "import numpy as np\n",
        "import pandas as pd"
      ],
      "execution_count": null,
      "outputs": []
    },
    {
      "cell_type": "code",
      "metadata": {
        "id": "LjLwYZHbiSmT"
      },
      "source": [
        "R = pd.read_csv('mousehunt-rewardmatrix.csv' , header = None)"
      ],
      "execution_count": null,
      "outputs": []
    },
    {
      "cell_type": "code",
      "metadata": {
        "colab": {
          "base_uri": "https://localhost:8080/",
          "height": 356
        },
        "id": "K5PS7ALkiZ7X",
        "outputId": "001d8754-eba6-49ff-c137-8cc2aaa99a1d"
      },
      "source": [
        "R"
      ],
      "execution_count": null,
      "outputs": [
        {
          "output_type": "execute_result",
          "data": {
            "text/html": [
              "<div>\n",
              "<style scoped>\n",
              "    .dataframe tbody tr th:only-of-type {\n",
              "        vertical-align: middle;\n",
              "    }\n",
              "\n",
              "    .dataframe tbody tr th {\n",
              "        vertical-align: top;\n",
              "    }\n",
              "\n",
              "    .dataframe thead th {\n",
              "        text-align: right;\n",
              "    }\n",
              "</style>\n",
              "<table border=\"1\" class=\"dataframe\">\n",
              "  <thead>\n",
              "    <tr style=\"text-align: right;\">\n",
              "      <th></th>\n",
              "      <th>0</th>\n",
              "      <th>1</th>\n",
              "      <th>2</th>\n",
              "      <th>3</th>\n",
              "      <th>4</th>\n",
              "      <th>5</th>\n",
              "      <th>6</th>\n",
              "      <th>7</th>\n",
              "      <th>8</th>\n",
              "      <th>9</th>\n",
              "    </tr>\n",
              "  </thead>\n",
              "  <tbody>\n",
              "    <tr>\n",
              "      <th>0</th>\n",
              "      <td>-1</td>\n",
              "      <td>-1</td>\n",
              "      <td>-1</td>\n",
              "      <td>0</td>\n",
              "      <td>-1</td>\n",
              "      <td>-1</td>\n",
              "      <td>-1</td>\n",
              "      <td>-1</td>\n",
              "      <td>-1</td>\n",
              "      <td>-1</td>\n",
              "    </tr>\n",
              "    <tr>\n",
              "      <th>1</th>\n",
              "      <td>-1</td>\n",
              "      <td>-1</td>\n",
              "      <td>0</td>\n",
              "      <td>-1</td>\n",
              "      <td>-1</td>\n",
              "      <td>-1</td>\n",
              "      <td>-1</td>\n",
              "      <td>-1</td>\n",
              "      <td>-1</td>\n",
              "      <td>-1</td>\n",
              "    </tr>\n",
              "    <tr>\n",
              "      <th>2</th>\n",
              "      <td>-1</td>\n",
              "      <td>0</td>\n",
              "      <td>-1</td>\n",
              "      <td>-1</td>\n",
              "      <td>-1</td>\n",
              "      <td>0</td>\n",
              "      <td>-1</td>\n",
              "      <td>-1</td>\n",
              "      <td>-1</td>\n",
              "      <td>100</td>\n",
              "    </tr>\n",
              "    <tr>\n",
              "      <th>3</th>\n",
              "      <td>0</td>\n",
              "      <td>-1</td>\n",
              "      <td>-1</td>\n",
              "      <td>-1</td>\n",
              "      <td>0</td>\n",
              "      <td>-1</td>\n",
              "      <td>0</td>\n",
              "      <td>-1</td>\n",
              "      <td>-1</td>\n",
              "      <td>-1</td>\n",
              "    </tr>\n",
              "    <tr>\n",
              "      <th>4</th>\n",
              "      <td>-1</td>\n",
              "      <td>-1</td>\n",
              "      <td>-1</td>\n",
              "      <td>0</td>\n",
              "      <td>-1</td>\n",
              "      <td>0</td>\n",
              "      <td>-1</td>\n",
              "      <td>0</td>\n",
              "      <td>-1</td>\n",
              "      <td>-1</td>\n",
              "    </tr>\n",
              "    <tr>\n",
              "      <th>5</th>\n",
              "      <td>-1</td>\n",
              "      <td>-1</td>\n",
              "      <td>0</td>\n",
              "      <td>-1</td>\n",
              "      <td>0</td>\n",
              "      <td>-1</td>\n",
              "      <td>-1</td>\n",
              "      <td>-1</td>\n",
              "      <td>-1</td>\n",
              "      <td>-1</td>\n",
              "    </tr>\n",
              "    <tr>\n",
              "      <th>6</th>\n",
              "      <td>-1</td>\n",
              "      <td>-1</td>\n",
              "      <td>-1</td>\n",
              "      <td>0</td>\n",
              "      <td>-1</td>\n",
              "      <td>-1</td>\n",
              "      <td>-1</td>\n",
              "      <td>-1</td>\n",
              "      <td>-1</td>\n",
              "      <td>-1</td>\n",
              "    </tr>\n",
              "    <tr>\n",
              "      <th>7</th>\n",
              "      <td>-1</td>\n",
              "      <td>-1</td>\n",
              "      <td>-1</td>\n",
              "      <td>-1</td>\n",
              "      <td>0</td>\n",
              "      <td>-1</td>\n",
              "      <td>-1</td>\n",
              "      <td>-1</td>\n",
              "      <td>0</td>\n",
              "      <td>100</td>\n",
              "    </tr>\n",
              "    <tr>\n",
              "      <th>8</th>\n",
              "      <td>-1</td>\n",
              "      <td>-1</td>\n",
              "      <td>-1</td>\n",
              "      <td>-1</td>\n",
              "      <td>-1</td>\n",
              "      <td>-1</td>\n",
              "      <td>-1</td>\n",
              "      <td>0</td>\n",
              "      <td>-1</td>\n",
              "      <td>-1</td>\n",
              "    </tr>\n",
              "    <tr>\n",
              "      <th>9</th>\n",
              "      <td>-1</td>\n",
              "      <td>-1</td>\n",
              "      <td>0</td>\n",
              "      <td>-1</td>\n",
              "      <td>-1</td>\n",
              "      <td>-1</td>\n",
              "      <td>-1</td>\n",
              "      <td>0</td>\n",
              "      <td>-1</td>\n",
              "      <td>100</td>\n",
              "    </tr>\n",
              "  </tbody>\n",
              "</table>\n",
              "</div>"
            ],
            "text/plain": [
              "   0  1  2  3  4  5  6  7  8    9\n",
              "0 -1 -1 -1  0 -1 -1 -1 -1 -1   -1\n",
              "1 -1 -1  0 -1 -1 -1 -1 -1 -1   -1\n",
              "2 -1  0 -1 -1 -1  0 -1 -1 -1  100\n",
              "3  0 -1 -1 -1  0 -1  0 -1 -1   -1\n",
              "4 -1 -1 -1  0 -1  0 -1  0 -1   -1\n",
              "5 -1 -1  0 -1  0 -1 -1 -1 -1   -1\n",
              "6 -1 -1 -1  0 -1 -1 -1 -1 -1   -1\n",
              "7 -1 -1 -1 -1  0 -1 -1 -1  0  100\n",
              "8 -1 -1 -1 -1 -1 -1 -1  0 -1   -1\n",
              "9 -1 -1  0 -1 -1 -1 -1  0 -1  100"
            ]
          },
          "metadata": {},
          "execution_count": 3
        }
      ]
    },
    {
      "cell_type": "code",
      "metadata": {
        "id": "rUSvgkUiiciO"
      },
      "source": [
        "R = np.matrix(R)"
      ],
      "execution_count": null,
      "outputs": []
    },
    {
      "cell_type": "code",
      "metadata": {
        "colab": {
          "base_uri": "https://localhost:8080/"
        },
        "id": "eV6pN0JEiglz",
        "outputId": "955bb007-e73a-45c1-b821-c5d9758e5293"
      },
      "source": [
        "R"
      ],
      "execution_count": null,
      "outputs": [
        {
          "output_type": "execute_result",
          "data": {
            "text/plain": [
              "matrix([[ -1,  -1,  -1,   0,  -1,  -1,  -1,  -1,  -1,  -1],\n",
              "        [ -1,  -1,   0,  -1,  -1,  -1,  -1,  -1,  -1,  -1],\n",
              "        [ -1,   0,  -1,  -1,  -1,   0,  -1,  -1,  -1, 100],\n",
              "        [  0,  -1,  -1,  -1,   0,  -1,   0,  -1,  -1,  -1],\n",
              "        [ -1,  -1,  -1,   0,  -1,   0,  -1,   0,  -1,  -1],\n",
              "        [ -1,  -1,   0,  -1,   0,  -1,  -1,  -1,  -1,  -1],\n",
              "        [ -1,  -1,  -1,   0,  -1,  -1,  -1,  -1,  -1,  -1],\n",
              "        [ -1,  -1,  -1,  -1,   0,  -1,  -1,  -1,   0, 100],\n",
              "        [ -1,  -1,  -1,  -1,  -1,  -1,  -1,   0,  -1,  -1],\n",
              "        [ -1,  -1,   0,  -1,  -1,  -1,  -1,   0,  -1, 100]])"
            ]
          },
          "metadata": {},
          "execution_count": 5
        }
      ]
    },
    {
      "cell_type": "code",
      "metadata": {
        "id": "cRX7inlkii82"
      },
      "source": [
        "Q = np.zeros ([10,10])"
      ],
      "execution_count": null,
      "outputs": []
    },
    {
      "cell_type": "code",
      "metadata": {
        "colab": {
          "base_uri": "https://localhost:8080/"
        },
        "id": "8pGUzvHYnKWz",
        "outputId": "46648025-2902-4897-8a85-345d8a86e0a1"
      },
      "source": [
        "Q"
      ],
      "execution_count": null,
      "outputs": [
        {
          "output_type": "execute_result",
          "data": {
            "text/plain": [
              "array([[0., 0., 0., 0., 0., 0., 0., 0., 0., 0.],\n",
              "       [0., 0., 0., 0., 0., 0., 0., 0., 0., 0.],\n",
              "       [0., 0., 0., 0., 0., 0., 0., 0., 0., 0.],\n",
              "       [0., 0., 0., 0., 0., 0., 0., 0., 0., 0.],\n",
              "       [0., 0., 0., 0., 0., 0., 0., 0., 0., 0.],\n",
              "       [0., 0., 0., 0., 0., 0., 0., 0., 0., 0.],\n",
              "       [0., 0., 0., 0., 0., 0., 0., 0., 0., 0.],\n",
              "       [0., 0., 0., 0., 0., 0., 0., 0., 0., 0.],\n",
              "       [0., 0., 0., 0., 0., 0., 0., 0., 0., 0.],\n",
              "       [0., 0., 0., 0., 0., 0., 0., 0., 0., 0.]])"
            ]
          },
          "metadata": {},
          "execution_count": 7
        }
      ]
    },
    {
      "cell_type": "code",
      "metadata": {
        "id": "5viJcwiYnLVv"
      },
      "source": [
        "# Set gamma parameter\n",
        "\n",
        "gamma = 0.7\n",
        "\n",
        "# Initial  state for the mouse(Later, we will make this random)\n",
        "\n",
        "initial_state = 2"
      ],
      "execution_count": null,
      "outputs": []
    },
    {
      "cell_type": "code",
      "metadata": {
        "id": "TKKKUwDYnZiT"
      },
      "source": [
        "# Custom function that returns all avlb actions for the given state of the mouse\n",
        "\n",
        "def avl_actions(state):\n",
        "  current_state_row = R[state,]\n",
        "  av_act = np.where(current_state_row > -1)[1]\n",
        "  return av_act"
      ],
      "execution_count": null,
      "outputs": []
    },
    {
      "cell_type": "code",
      "metadata": {
        "id": "mvTNZxY4oHOk"
      },
      "source": [
        "available_actions = avl_actions(initial_state)"
      ],
      "execution_count": null,
      "outputs": []
    },
    {
      "cell_type": "code",
      "metadata": {
        "colab": {
          "base_uri": "https://localhost:8080/"
        },
        "id": "7jw7LBZ6oQNw",
        "outputId": "2948b73b-8b70-411f-ce80-2f9f0a21b701"
      },
      "source": [
        "available_actions"
      ],
      "execution_count": null,
      "outputs": [
        {
          "output_type": "execute_result",
          "data": {
            "text/plain": [
              "array([1, 5, 9])"
            ]
          },
          "metadata": {},
          "execution_count": 13
        }
      ]
    },
    {
      "cell_type": "code",
      "metadata": {
        "id": "ZRHsjUZuoSJy"
      },
      "source": [
        "# Next , we will construct a fn which randomly chooses an action from the avlb actions\n",
        "\n",
        "def sample_next_action(available_actions_range):\n",
        "  next_action = int(np.random.choice(available_actions_range,1))\n",
        "  return next_action"
      ],
      "execution_count": null,
      "outputs": []
    },
    {
      "cell_type": "code",
      "metadata": {
        "colab": {
          "base_uri": "https://localhost:8080/"
        },
        "id": "7br6qZ8Stz5o",
        "outputId": "b7878ab0-9d61-464c-a224-f48af472ee70"
      },
      "source": [
        "action = sample_next_action(available_actions)\n",
        "action"
      ],
      "execution_count": null,
      "outputs": [
        {
          "output_type": "execute_result",
          "data": {
            "text/plain": [
              "9"
            ]
          },
          "metadata": {},
          "execution_count": 15
        }
      ]
    },
    {
      "cell_type": "code",
      "metadata": {
        "colab": {
          "base_uri": "https://localhost:8080/"
        },
        "id": "Ka6DoMlZt2Cx",
        "outputId": "6bc5e781-07b5-4264-cef7-f2043bf161c8"
      },
      "source": [
        "action"
      ],
      "execution_count": null,
      "outputs": [
        {
          "output_type": "execute_result",
          "data": {
            "text/plain": [
              "9"
            ]
          },
          "metadata": {},
          "execution_count": 16
        }
      ]
    },
    {
      "cell_type": "code",
      "metadata": {
        "id": "Y7oWeIS2uQu0"
      },
      "source": [
        "# Update the Q Matrix according to the path selected using the Q learning formula\n",
        "\n",
        "\n",
        "def update(current_state,action,gamma):\n",
        "  max_index = np.where(Q[action,] == np.max(Q[action,]))[0]\n",
        "\n",
        "  if max_index.shape[0] > 1:\n",
        "    max_index = int(np.random.choice(max_index,1))\n",
        "\n",
        "  else:\n",
        "    max_index - int(max_index)\n",
        "\n",
        "  max_value = Q[action,max_index]\n",
        "\n",
        "  #Q-Learning Formula\n",
        "  Q[current_state,action] = R[current_state,action] + gamma*max_value"
      ],
      "execution_count": null,
      "outputs": []
    },
    {
      "cell_type": "code",
      "metadata": {
        "id": "CSdWQXZLv0Al"
      },
      "source": [
        "#Update the Q Matrix\n",
        "update(initial_state,action,gamma)"
      ],
      "execution_count": null,
      "outputs": []
    },
    {
      "cell_type": "code",
      "metadata": {
        "colab": {
          "base_uri": "https://localhost:8080/"
        },
        "id": "Xipnau5hv9D2",
        "outputId": "e26872e1-65a5-4c62-804b-39cdba9f8d1c"
      },
      "source": [
        "Q"
      ],
      "execution_count": null,
      "outputs": [
        {
          "output_type": "execute_result",
          "data": {
            "text/plain": [
              "array([[  0.,   0.,   0.,   0.,   0.,   0.,   0.,   0.,   0.,   0.],\n",
              "       [  0.,   0.,   0.,   0.,   0.,   0.,   0.,   0.,   0.,   0.],\n",
              "       [  0.,   0.,   0.,   0.,   0.,   0.,   0.,   0.,   0., 100.],\n",
              "       [  0.,   0.,   0.,   0.,   0.,   0.,   0.,   0.,   0.,   0.],\n",
              "       [  0.,   0.,   0.,   0.,   0.,   0.,   0.,   0.,   0.,   0.],\n",
              "       [  0.,   0.,   0.,   0.,   0.,   0.,   0.,   0.,   0.,   0.],\n",
              "       [  0.,   0.,   0.,   0.,   0.,   0.,   0.,   0.,   0.,   0.],\n",
              "       [  0.,   0.,   0.,   0.,   0.,   0.,   0.,   0.,   0.,   0.],\n",
              "       [  0.,   0.,   0.,   0.,   0.,   0.,   0.,   0.,   0.,   0.],\n",
              "       [  0.,   0.,   0.,   0.,   0.,   0.,   0.,   0.,   0.,   0.]])"
            ]
          },
          "metadata": {},
          "execution_count": 20
        }
      ]
    },
    {
      "cell_type": "code",
      "metadata": {
        "id": "S4L_v6cyyfhq"
      },
      "source": [
        "# Repeat the above steps using a for loop\n",
        "\n",
        "for i in range(1000):\n",
        "  current_state = np.random.choice(range(10))\n",
        "  available_act = avl_actions(current_state)\n",
        "  action = sample_next_action(available_act)\n",
        "  update(current_state,action,gamma)"
      ],
      "execution_count": null,
      "outputs": []
    },
    {
      "cell_type": "code",
      "metadata": {
        "colab": {
          "base_uri": "https://localhost:8080/"
        },
        "id": "U742hfyj2XHZ",
        "outputId": "fea55cec-a48e-4598-8e13-95eb690e1a10"
      },
      "source": [
        "(Q / np.max(Q)) * 100"
      ],
      "execution_count": null,
      "outputs": [
        {
          "output_type": "execute_result",
          "data": {
            "text/plain": [
              "array([[  0.        ,   0.        ,   0.        ,  34.29988029,\n",
              "          0.        ,   0.        ,   0.        ,   0.        ,\n",
              "          0.        ,   0.        ],\n",
              "       [  0.        ,   0.        ,  69.9997557 ,   0.        ,\n",
              "          0.        ,   0.        ,   0.        ,   0.        ,\n",
              "          0.        ,   0.        ],\n",
              "       [  0.        ,  48.99982899,   0.        ,   0.        ,\n",
              "          0.        ,  48.99971744,   0.        ,   0.        ,\n",
              "          0.        ,  99.999651  ],\n",
              "       [ 24.00928489,   0.        ,   0.        ,   0.        ,\n",
              "         48.99982899,   0.        ,  24.00967191,   0.        ,\n",
              "          0.        ,   0.        ],\n",
              "       [  0.        ,   0.        ,   0.        ,  34.29988029,\n",
              "          0.        ,  48.99982899,   0.        ,  69.9997557 ,\n",
              "          0.        ,   0.        ],\n",
              "       [  0.        ,   0.        ,  69.9997557 ,   0.        ,\n",
              "         48.99982899,   0.        ,   0.        ,   0.        ,\n",
              "          0.        ,   0.        ],\n",
              "       [  0.        ,   0.        ,   0.        ,  34.29988029,\n",
              "          0.        ,   0.        ,   0.        ,   0.        ,\n",
              "          0.        ,   0.        ],\n",
              "       [  0.        ,   0.        ,   0.        ,   0.        ,\n",
              "         48.99982899,   0.        ,   0.        ,   0.        ,\n",
              "         48.99982899,  99.999651  ],\n",
              "       [  0.        ,   0.        ,   0.        ,   0.        ,\n",
              "          0.        ,   0.        ,   0.        ,  69.9997557 ,\n",
              "          0.        ,   0.        ],\n",
              "       [  0.        ,   0.        ,  69.9997557 ,   0.        ,\n",
              "          0.        ,   0.        ,   0.        ,  69.9997557 ,\n",
              "          0.        , 100.        ]])"
            ]
          },
          "metadata": {},
          "execution_count": 22
        }
      ]
    },
    {
      "cell_type": "code",
      "metadata": {
        "id": "-PHpFp_A2Xuh"
      },
      "source": [
        "# Test the Q Matrix using one scenario\n",
        "\n",
        "# Goal_state = 9\n",
        "\n",
        "#Current_state = 6\n",
        "\n",
        "# Best Sequence of path starting from state 6 = 6, 3, 4, 7, 9"
      ],
      "execution_count": null,
      "outputs": []
    },
    {
      "cell_type": "code",
      "metadata": {
        "colab": {
          "base_uri": "https://localhost:8080/"
        },
        "id": "-CGU00x_QBmC",
        "outputId": "29f5e535-c9ca-4cc7-8912-44b2c54a1a99"
      },
      "source": [
        "current_state = 5\n",
        "steps = [current_state]\n",
        "\n",
        "while current_state != 9:\n",
        "  next_step_index = np.where(Q[current_state,] == np.max(Q[current_state,]))[0]\n",
        "\n",
        "  if next_step_index.shape[0] > 1:\n",
        "    next_step_index = int(np.random.choice(next_step_index,1))\n",
        "\n",
        "  else:\n",
        "    next_step_index = int(next_step_index)\n",
        "\n",
        "  steps.append(next_step_index)\n",
        "\n",
        "  current_state = next_step_index\n",
        "\n",
        "\n",
        "\n",
        "print(\"The selected path:\")\n",
        "print(steps)"
      ],
      "execution_count": null,
      "outputs": [
        {
          "output_type": "stream",
          "name": "stdout",
          "text": [
            "The selected path:\n",
            "[5, 2, 9]\n"
          ]
        }
      ]
    },
    {
      "cell_type": "code",
      "metadata": {
        "colab": {
          "base_uri": "https://localhost:8080/"
        },
        "id": "mLaagkcWQFPu",
        "outputId": "173fbe4a-e591-4e2c-a502-b2f6a184783b"
      },
      "source": [
        ""
      ],
      "execution_count": null,
      "outputs": [
        {
          "output_type": "execute_result",
          "data": {
            "text/plain": [
              "[6]"
            ]
          },
          "metadata": {},
          "execution_count": 26
        }
      ]
    },
    {
      "cell_type": "code",
      "metadata": {
        "id": "pVJe269zQIrn"
      },
      "source": [
        ""
      ],
      "execution_count": null,
      "outputs": []
    }
  ]
}