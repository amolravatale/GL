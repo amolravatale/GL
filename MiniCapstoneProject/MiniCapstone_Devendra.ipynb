{
 "cells": [
  {
   "cell_type": "code",
   "execution_count": null,
   "metadata": {
    "colab": {
     "base_uri": "https://localhost:8080/"
    },
    "executionInfo": {
     "elapsed": 27457,
     "status": "ok",
     "timestamp": 1606821053525,
     "user": {
      "displayName": "Dev B",
      "photoUrl": "",
      "userId": "15294155916341060001"
     },
     "user_tz": -330
    },
    "id": "2o4pcgKQZ7nv",
    "outputId": "4a5a95bb-507c-4950-d258-b4ac1f6062cf"
   },
   "outputs": [
    {
     "name": "stdout",
     "output_type": "stream",
     "text": [
      "Mounted at /content/gdrive\n"
     ]
    }
   ],
   "source": [
    "from google.colab import drive\n",
    "drive.mount('/content/gdrive')"
   ]
  },
  {
   "cell_type": "code",
   "execution_count": null,
   "metadata": {
    "id": "k2QFkQi3yId1"
   },
   "outputs": [],
   "source": [
    "import pandas as pd\n",
    "import numpy as np"
   ]
  },
  {
   "cell_type": "code",
   "execution_count": null,
   "metadata": {
    "id": "hTy1jPeazCH5"
   },
   "outputs": [],
   "source": [
    "df1 = pd.read_csv('/content/gdrive/My Drive/Capstone/US_counties_COVID19_health_weather_data - Abridged_V1.csv')"
   ]
  },
  {
   "cell_type": "code",
   "execution_count": null,
   "metadata": {
    "colab": {
     "base_uri": "https://localhost:8080/"
    },
    "executionInfo": {
     "elapsed": 2995,
     "status": "ok",
     "timestamp": 1606821072368,
     "user": {
      "displayName": "Dev B",
      "photoUrl": "",
      "userId": "15294155916341060001"
     },
     "user_tz": -330
    },
    "id": "b0RVHL6FzXKI",
    "outputId": "1d2ce804-8d4f-491b-8ff0-ccdcedfc66a2"
   },
   "outputs": [
    {
     "name": "stdout",
     "output_type": "stream",
     "text": [
      "<class 'pandas.core.frame.DataFrame'>\n",
      "RangeIndex: 680879 entries, 0 to 680878\n",
      "Data columns (total 45 columns):\n",
      " #   Column                                       Non-Null Count   Dtype  \n",
      "---  ------                                       --------------   -----  \n",
      " 0   date                                         680879 non-null  object \n",
      " 1   county                                       680879 non-null  object \n",
      " 2   state                                        680879 non-null  object \n",
      " 3   cases                                        680879 non-null  int64  \n",
      " 4   deaths                                       680879 non-null  int64  \n",
      " 5   total_population                             665900 non-null  float64\n",
      " 6   population_density_per_sqmi                  665900 non-null  float64\n",
      " 7   percent_fair_or_poor_health                  665900 non-null  float64\n",
      " 8   average_number_of_physically_unhealthy_days  665900 non-null  float64\n",
      " 9   percent_smokers                              665900 non-null  float64\n",
      " 10  percent_adults_with_obesity                  665900 non-null  float64\n",
      " 11  percent_physically_inactive                  665900 non-null  float64\n",
      " 12  num_uninsured                                665900 non-null  float64\n",
      " 13  num_primary_care_physicians                  637206 non-null  float64\n",
      " 14  percent_vaccinated                           663580 non-null  float64\n",
      " 15  overcrowding                                 665900 non-null  float64\n",
      " 16  life_expectancy                              657038 non-null  float64\n",
      " 17  percent_adults_with_diabetes                 665900 non-null  float64\n",
      " 18  num_hiv_cases                                497283 non-null  float64\n",
      " 19  median_household_income                      665900 non-null  float64\n",
      " 20  num_black                                    665900 non-null  float64\n",
      " 21  num_american_indian_alaska_native            665900 non-null  float64\n",
      " 22  num_asian                                    665900 non-null  float64\n",
      " 23  num_native_hawaiian_other_pacific_islander   665900 non-null  float64\n",
      " 24  num_hispanic                                 665900 non-null  float64\n",
      " 25  num_non_hispanic_white                       665900 non-null  float64\n",
      " 26  percent_female                               665900 non-null  float64\n",
      " 27  num_rural                                    664997 non-null  float64\n",
      " 28  num_below_poverty                            665900 non-null  float64\n",
      " 29  num_unemployed_CDC                           665900 non-null  float64\n",
      " 30  per_capita_income                            665900 non-null  float64\n",
      " 31  num_age_65_and_older                         665900 non-null  float64\n",
      " 32  num_age_17_and_younger                       665900 non-null  float64\n",
      " 33  num_disabled                                 665900 non-null  float64\n",
      " 34  percent_below_poverty                        665900 non-null  float64\n",
      " 35  km_to_closest_station                        665900 non-null  float64\n",
      " 36  ELEV_M                                       665900 non-null  float64\n",
      " 37  mean_temp                                    655423 non-null  float64\n",
      " 38  dewpoint                                     609363 non-null  float64\n",
      " 39  wind_speed                                   625598 non-null  float64\n",
      " 40  precipitation                                590179 non-null  float64\n",
      " 41  fog                                          655428 non-null  float64\n",
      " 42  rain                                         655428 non-null  float64\n",
      " 43  snow                                         655428 non-null  float64\n",
      " 44  hail                                         655428 non-null  float64\n",
      "dtypes: float64(40), int64(2), object(3)\n",
      "memory usage: 233.8+ MB\n"
     ]
    }
   ],
   "source": [
    "df1.info()"
   ]
  },
  {
   "cell_type": "code",
   "execution_count": null,
   "metadata": {
    "id": "ffqUGrRJcfID"
   },
   "outputs": [],
   "source": [
    "from datetime import datetime"
   ]
  },
  {
   "cell_type": "code",
   "execution_count": null,
   "metadata": {
    "id": "VDmZqaPEco1a"
   },
   "outputs": [],
   "source": [
    "format_str = '%d-%m-%y' # The format"
   ]
  },
  {
   "cell_type": "code",
   "execution_count": null,
   "metadata": {
    "id": "q67R_Jj-DS7Y"
   },
   "outputs": [],
   "source": [
    "#datetime_obj = datetime.strptime(p, format_str)\n",
    "#print(datetime_obj.date())"
   ]
  },
  {
   "cell_type": "code",
   "execution_count": null,
   "metadata": {
    "colab": {
     "base_uri": "https://localhost:8080/"
    },
    "id": "IZu2czd2gV56",
    "outputId": "2f39957a-e238-4ac2-9e36-35baf0e2851e"
   },
   "outputs": [
    {
     "name": "stdout",
     "output_type": "stream",
     "text": [
      "2020-01-22\n"
     ]
    }
   ],
   "source": [
    "#datetime_obj1 = datetime.strptime(q, format_str)\n",
    "#print(datetime_obj1.date())"
   ]
  },
  {
   "cell_type": "code",
   "execution_count": null,
   "metadata": {
    "colab": {
     "base_uri": "https://localhost:8080/"
    },
    "id": "o9vXauiDco9x",
    "outputId": "7619f4db-4be4-4323-a8c5-dde879f64728"
   },
   "outputs": [
    {
     "data": {
      "text/plain": [
       "datetime.timedelta(1)"
      ]
     },
     "execution_count": 27,
     "metadata": {
      "tags": []
     },
     "output_type": "execute_result"
    }
   ],
   "source": [
    "#datetime_obj1-datetime_obj"
   ]
  },
  {
   "cell_type": "code",
   "execution_count": null,
   "metadata": {
    "id": "mFS0gR37sxUj"
   },
   "outputs": [],
   "source": [
    "date_df = pd.DataFrame(df1['date'])"
   ]
  },
  {
   "cell_type": "code",
   "execution_count": null,
   "metadata": {
    "id": "8p5CpoFKpqNO"
   },
   "outputs": [],
   "source": [
    "#df1['newdate'] = datetime.strptime(df1['date'], format_str)\n",
    "df1['newdate'] =date_df.applymap(lambda x: datetime.strptime(x, format_str))"
   ]
  },
  {
   "cell_type": "code",
   "execution_count": null,
   "metadata": {
    "colab": {
     "base_uri": "https://localhost:8080/"
    },
    "executionInfo": {
     "elapsed": 5657,
     "status": "ok",
     "timestamp": 1606821090958,
     "user": {
      "displayName": "Dev B",
      "photoUrl": "",
      "userId": "15294155916341060001"
     },
     "user_tz": -330
    },
    "id": "RC8117IHzR32",
    "outputId": "1cbfa554-0f24-45cc-9be5-904145a24c6c"
   },
   "outputs": [
    {
     "name": "stdout",
     "output_type": "stream",
     "text": [
      "<class 'pandas.core.frame.DataFrame'>\n",
      "RangeIndex: 680879 entries, 0 to 680878\n",
      "Data columns (total 46 columns):\n",
      " #   Column                                       Non-Null Count   Dtype         \n",
      "---  ------                                       --------------   -----         \n",
      " 0   date                                         680879 non-null  object        \n",
      " 1   county                                       680879 non-null  object        \n",
      " 2   state                                        680879 non-null  object        \n",
      " 3   cases                                        680879 non-null  int64         \n",
      " 4   deaths                                       680879 non-null  int64         \n",
      " 5   total_population                             665900 non-null  float64       \n",
      " 6   population_density_per_sqmi                  665900 non-null  float64       \n",
      " 7   percent_fair_or_poor_health                  665900 non-null  float64       \n",
      " 8   average_number_of_physically_unhealthy_days  665900 non-null  float64       \n",
      " 9   percent_smokers                              665900 non-null  float64       \n",
      " 10  percent_adults_with_obesity                  665900 non-null  float64       \n",
      " 11  percent_physically_inactive                  665900 non-null  float64       \n",
      " 12  num_uninsured                                665900 non-null  float64       \n",
      " 13  num_primary_care_physicians                  637206 non-null  float64       \n",
      " 14  percent_vaccinated                           663580 non-null  float64       \n",
      " 15  overcrowding                                 665900 non-null  float64       \n",
      " 16  life_expectancy                              657038 non-null  float64       \n",
      " 17  percent_adults_with_diabetes                 665900 non-null  float64       \n",
      " 18  num_hiv_cases                                497283 non-null  float64       \n",
      " 19  median_household_income                      665900 non-null  float64       \n",
      " 20  num_black                                    665900 non-null  float64       \n",
      " 21  num_american_indian_alaska_native            665900 non-null  float64       \n",
      " 22  num_asian                                    665900 non-null  float64       \n",
      " 23  num_native_hawaiian_other_pacific_islander   665900 non-null  float64       \n",
      " 24  num_hispanic                                 665900 non-null  float64       \n",
      " 25  num_non_hispanic_white                       665900 non-null  float64       \n",
      " 26  percent_female                               665900 non-null  float64       \n",
      " 27  num_rural                                    664997 non-null  float64       \n",
      " 28  num_below_poverty                            665900 non-null  float64       \n",
      " 29  num_unemployed_CDC                           665900 non-null  float64       \n",
      " 30  per_capita_income                            665900 non-null  float64       \n",
      " 31  num_age_65_and_older                         665900 non-null  float64       \n",
      " 32  num_age_17_and_younger                       665900 non-null  float64       \n",
      " 33  num_disabled                                 665900 non-null  float64       \n",
      " 34  percent_below_poverty                        665900 non-null  float64       \n",
      " 35  km_to_closest_station                        665900 non-null  float64       \n",
      " 36  ELEV_M                                       665900 non-null  float64       \n",
      " 37  mean_temp                                    655423 non-null  float64       \n",
      " 38  dewpoint                                     609363 non-null  float64       \n",
      " 39  wind_speed                                   625598 non-null  float64       \n",
      " 40  precipitation                                590179 non-null  float64       \n",
      " 41  fog                                          655428 non-null  float64       \n",
      " 42  rain                                         655428 non-null  float64       \n",
      " 43  snow                                         655428 non-null  float64       \n",
      " 44  hail                                         655428 non-null  float64       \n",
      " 45  newdate                                      680879 non-null  datetime64[ns]\n",
      "dtypes: datetime64[ns](1), float64(40), int64(2), object(3)\n",
      "memory usage: 239.0+ MB\n"
     ]
    }
   ],
   "source": [
    "df1.info()"
   ]
  },
  {
   "cell_type": "code",
   "execution_count": null,
   "metadata": {
    "colab": {
     "base_uri": "https://localhost:8080/",
     "height": 395
    },
    "executionInfo": {
     "elapsed": 1251,
     "status": "ok",
     "timestamp": 1606805971642,
     "user": {
      "displayName": "Dev B",
      "photoUrl": "",
      "userId": "15294155916341060001"
     },
     "user_tz": -330
    },
    "id": "NdvqsoGOXGZD",
    "outputId": "80e7618d-b8ad-4c1d-d684-4385dd02f46e"
   },
   "outputs": [
    {
     "data": {
      "text/html": [
       "<div>\n",
       "<style scoped>\n",
       "    .dataframe tbody tr th:only-of-type {\n",
       "        vertical-align: middle;\n",
       "    }\n",
       "\n",
       "    .dataframe tbody tr th {\n",
       "        vertical-align: top;\n",
       "    }\n",
       "\n",
       "    .dataframe thead th {\n",
       "        text-align: right;\n",
       "    }\n",
       "</style>\n",
       "<table border=\"1\" class=\"dataframe\">\n",
       "  <thead>\n",
       "    <tr style=\"text-align: right;\">\n",
       "      <th></th>\n",
       "      <th>date</th>\n",
       "      <th>county</th>\n",
       "      <th>state</th>\n",
       "      <th>cases</th>\n",
       "      <th>deaths</th>\n",
       "      <th>total_population</th>\n",
       "      <th>population_density_per_sqmi</th>\n",
       "      <th>percent_fair_or_poor_health</th>\n",
       "      <th>average_number_of_physically_unhealthy_days</th>\n",
       "      <th>percent_smokers</th>\n",
       "      <th>percent_adults_with_obesity</th>\n",
       "      <th>percent_physically_inactive</th>\n",
       "      <th>num_uninsured</th>\n",
       "      <th>num_primary_care_physicians</th>\n",
       "      <th>percent_vaccinated</th>\n",
       "      <th>overcrowding</th>\n",
       "      <th>life_expectancy</th>\n",
       "      <th>percent_adults_with_diabetes</th>\n",
       "      <th>num_hiv_cases</th>\n",
       "      <th>median_household_income</th>\n",
       "      <th>num_black</th>\n",
       "      <th>num_american_indian_alaska_native</th>\n",
       "      <th>num_asian</th>\n",
       "      <th>num_native_hawaiian_other_pacific_islander</th>\n",
       "      <th>num_hispanic</th>\n",
       "      <th>num_non_hispanic_white</th>\n",
       "      <th>percent_female</th>\n",
       "      <th>num_rural</th>\n",
       "      <th>num_below_poverty</th>\n",
       "      <th>num_unemployed_CDC</th>\n",
       "      <th>per_capita_income</th>\n",
       "      <th>num_age_65_and_older</th>\n",
       "      <th>num_age_17_and_younger</th>\n",
       "      <th>num_disabled</th>\n",
       "      <th>percent_below_poverty</th>\n",
       "      <th>km_to_closest_station</th>\n",
       "      <th>ELEV_M</th>\n",
       "      <th>mean_temp</th>\n",
       "      <th>dewpoint</th>\n",
       "      <th>wind_speed</th>\n",
       "      <th>precipitation</th>\n",
       "      <th>fog</th>\n",
       "      <th>rain</th>\n",
       "      <th>snow</th>\n",
       "      <th>hail</th>\n",
       "      <th>newdate</th>\n",
       "    </tr>\n",
       "  </thead>\n",
       "  <tbody>\n",
       "    <tr>\n",
       "      <th>0</th>\n",
       "      <td>21-01-20</td>\n",
       "      <td>Snohomish</td>\n",
       "      <td>Washington</td>\n",
       "      <td>1</td>\n",
       "      <td>0</td>\n",
       "      <td>758649.0</td>\n",
       "      <td>363.586159</td>\n",
       "      <td>14.403971</td>\n",
       "      <td>3.700802</td>\n",
       "      <td>12.962309</td>\n",
       "      <td>28.9</td>\n",
       "      <td>17.8</td>\n",
       "      <td>43121.0</td>\n",
       "      <td>421.0</td>\n",
       "      <td>49.0</td>\n",
       "      <td>2.948407</td>\n",
       "      <td>80.374691</td>\n",
       "      <td>8.2</td>\n",
       "      <td>1017.0</td>\n",
       "      <td>87096.0</td>\n",
       "      <td>27554.0</td>\n",
       "      <td>12877.0</td>\n",
       "      <td>94831.0</td>\n",
       "      <td>5618.0</td>\n",
       "      <td>85109.0</td>\n",
       "      <td>561043.0</td>\n",
       "      <td>49.827402</td>\n",
       "      <td>77179.0</td>\n",
       "      <td>69695.0</td>\n",
       "      <td>25009.0</td>\n",
       "      <td>33883.0</td>\n",
       "      <td>91641.0</td>\n",
       "      <td>175821.0</td>\n",
       "      <td>89280.0</td>\n",
       "      <td>9.3</td>\n",
       "      <td>36.572880</td>\n",
       "      <td>41.8</td>\n",
       "      <td>44.1</td>\n",
       "      <td>40.3</td>\n",
       "      <td>8.3</td>\n",
       "      <td>0.00</td>\n",
       "      <td>0.0</td>\n",
       "      <td>1.0</td>\n",
       "      <td>0.0</td>\n",
       "      <td>0.0</td>\n",
       "      <td>2020-01-21</td>\n",
       "    </tr>\n",
       "    <tr>\n",
       "      <th>1</th>\n",
       "      <td>22-01-20</td>\n",
       "      <td>Snohomish</td>\n",
       "      <td>Washington</td>\n",
       "      <td>1</td>\n",
       "      <td>0</td>\n",
       "      <td>758649.0</td>\n",
       "      <td>363.586159</td>\n",
       "      <td>14.403971</td>\n",
       "      <td>3.700802</td>\n",
       "      <td>12.962309</td>\n",
       "      <td>28.9</td>\n",
       "      <td>17.8</td>\n",
       "      <td>43121.0</td>\n",
       "      <td>421.0</td>\n",
       "      <td>49.0</td>\n",
       "      <td>2.948407</td>\n",
       "      <td>80.374691</td>\n",
       "      <td>8.2</td>\n",
       "      <td>1017.0</td>\n",
       "      <td>87096.0</td>\n",
       "      <td>27554.0</td>\n",
       "      <td>12877.0</td>\n",
       "      <td>94831.0</td>\n",
       "      <td>5618.0</td>\n",
       "      <td>85109.0</td>\n",
       "      <td>561043.0</td>\n",
       "      <td>49.827402</td>\n",
       "      <td>77179.0</td>\n",
       "      <td>69695.0</td>\n",
       "      <td>25009.0</td>\n",
       "      <td>33883.0</td>\n",
       "      <td>91641.0</td>\n",
       "      <td>175821.0</td>\n",
       "      <td>89280.0</td>\n",
       "      <td>9.3</td>\n",
       "      <td>36.572880</td>\n",
       "      <td>41.8</td>\n",
       "      <td>44.8</td>\n",
       "      <td>40.3</td>\n",
       "      <td>13.2</td>\n",
       "      <td>0.29</td>\n",
       "      <td>0.0</td>\n",
       "      <td>1.0</td>\n",
       "      <td>0.0</td>\n",
       "      <td>0.0</td>\n",
       "      <td>2020-01-22</td>\n",
       "    </tr>\n",
       "    <tr>\n",
       "      <th>2</th>\n",
       "      <td>23-01-20</td>\n",
       "      <td>Snohomish</td>\n",
       "      <td>Washington</td>\n",
       "      <td>1</td>\n",
       "      <td>0</td>\n",
       "      <td>758649.0</td>\n",
       "      <td>363.586159</td>\n",
       "      <td>14.403971</td>\n",
       "      <td>3.700802</td>\n",
       "      <td>12.962309</td>\n",
       "      <td>28.9</td>\n",
       "      <td>17.8</td>\n",
       "      <td>43121.0</td>\n",
       "      <td>421.0</td>\n",
       "      <td>49.0</td>\n",
       "      <td>2.948407</td>\n",
       "      <td>80.374691</td>\n",
       "      <td>8.2</td>\n",
       "      <td>1017.0</td>\n",
       "      <td>87096.0</td>\n",
       "      <td>27554.0</td>\n",
       "      <td>12877.0</td>\n",
       "      <td>94831.0</td>\n",
       "      <td>5618.0</td>\n",
       "      <td>85109.0</td>\n",
       "      <td>561043.0</td>\n",
       "      <td>49.827402</td>\n",
       "      <td>77179.0</td>\n",
       "      <td>69695.0</td>\n",
       "      <td>25009.0</td>\n",
       "      <td>33883.0</td>\n",
       "      <td>91641.0</td>\n",
       "      <td>175821.0</td>\n",
       "      <td>89280.0</td>\n",
       "      <td>9.3</td>\n",
       "      <td>36.572880</td>\n",
       "      <td>41.8</td>\n",
       "      <td>49.9</td>\n",
       "      <td>47.3</td>\n",
       "      <td>12.0</td>\n",
       "      <td>0.54</td>\n",
       "      <td>0.0</td>\n",
       "      <td>1.0</td>\n",
       "      <td>0.0</td>\n",
       "      <td>0.0</td>\n",
       "      <td>2020-01-23</td>\n",
       "    </tr>\n",
       "    <tr>\n",
       "      <th>3</th>\n",
       "      <td>24-01-20</td>\n",
       "      <td>Cook</td>\n",
       "      <td>Illinois</td>\n",
       "      <td>1</td>\n",
       "      <td>0</td>\n",
       "      <td>5227575.0</td>\n",
       "      <td>5531.878539</td>\n",
       "      <td>17.140851</td>\n",
       "      <td>3.471088</td>\n",
       "      <td>13.776183</td>\n",
       "      <td>28.0</td>\n",
       "      <td>21.0</td>\n",
       "      <td>437634.0</td>\n",
       "      <td>4863.0</td>\n",
       "      <td>45.0</td>\n",
       "      <td>3.627783</td>\n",
       "      <td>79.415730</td>\n",
       "      <td>9.5</td>\n",
       "      <td>25780.0</td>\n",
       "      <td>63347.0</td>\n",
       "      <td>1193642.0</td>\n",
       "      <td>38253.0</td>\n",
       "      <td>408151.0</td>\n",
       "      <td>3873.0</td>\n",
       "      <td>1323017.0</td>\n",
       "      <td>2180074.0</td>\n",
       "      <td>51.431630</td>\n",
       "      <td>2353.0</td>\n",
       "      <td>856682.0</td>\n",
       "      <td>266397.0</td>\n",
       "      <td>32179.0</td>\n",
       "      <td>677659.0</td>\n",
       "      <td>1186398.0</td>\n",
       "      <td>536288.0</td>\n",
       "      <td>16.7</td>\n",
       "      <td>8.063384</td>\n",
       "      <td>186.5</td>\n",
       "      <td>36.1</td>\n",
       "      <td>34.7</td>\n",
       "      <td>4.8</td>\n",
       "      <td>0.16</td>\n",
       "      <td>1.0</td>\n",
       "      <td>1.0</td>\n",
       "      <td>1.0</td>\n",
       "      <td>0.0</td>\n",
       "      <td>2020-01-24</td>\n",
       "    </tr>\n",
       "    <tr>\n",
       "      <th>4</th>\n",
       "      <td>24-01-20</td>\n",
       "      <td>Snohomish</td>\n",
       "      <td>Washington</td>\n",
       "      <td>1</td>\n",
       "      <td>0</td>\n",
       "      <td>758649.0</td>\n",
       "      <td>363.586159</td>\n",
       "      <td>14.403971</td>\n",
       "      <td>3.700802</td>\n",
       "      <td>12.962309</td>\n",
       "      <td>28.9</td>\n",
       "      <td>17.8</td>\n",
       "      <td>43121.0</td>\n",
       "      <td>421.0</td>\n",
       "      <td>49.0</td>\n",
       "      <td>2.948407</td>\n",
       "      <td>80.374691</td>\n",
       "      <td>8.2</td>\n",
       "      <td>1017.0</td>\n",
       "      <td>87096.0</td>\n",
       "      <td>27554.0</td>\n",
       "      <td>12877.0</td>\n",
       "      <td>94831.0</td>\n",
       "      <td>5618.0</td>\n",
       "      <td>85109.0</td>\n",
       "      <td>561043.0</td>\n",
       "      <td>49.827402</td>\n",
       "      <td>77179.0</td>\n",
       "      <td>69695.0</td>\n",
       "      <td>25009.0</td>\n",
       "      <td>33883.0</td>\n",
       "      <td>91641.0</td>\n",
       "      <td>175821.0</td>\n",
       "      <td>89280.0</td>\n",
       "      <td>9.3</td>\n",
       "      <td>36.572880</td>\n",
       "      <td>41.8</td>\n",
       "      <td>51.5</td>\n",
       "      <td>46.6</td>\n",
       "      <td>13.0</td>\n",
       "      <td>0.32</td>\n",
       "      <td>0.0</td>\n",
       "      <td>1.0</td>\n",
       "      <td>0.0</td>\n",
       "      <td>0.0</td>\n",
       "      <td>2020-01-24</td>\n",
       "    </tr>\n",
       "  </tbody>\n",
       "</table>\n",
       "</div>"
      ],
      "text/plain": [
       "       date     county       state  cases  ...  rain  snow  hail    newdate\n",
       "0  21-01-20  Snohomish  Washington      1  ...   1.0   0.0   0.0 2020-01-21\n",
       "1  22-01-20  Snohomish  Washington      1  ...   1.0   0.0   0.0 2020-01-22\n",
       "2  23-01-20  Snohomish  Washington      1  ...   1.0   0.0   0.0 2020-01-23\n",
       "3  24-01-20       Cook    Illinois      1  ...   1.0   1.0   0.0 2020-01-24\n",
       "4  24-01-20  Snohomish  Washington      1  ...   1.0   0.0   0.0 2020-01-24\n",
       "\n",
       "[5 rows x 46 columns]"
      ]
     },
     "execution_count": 13,
     "metadata": {
      "tags": []
     },
     "output_type": "execute_result"
    }
   ],
   "source": [
    "df1.head()"
   ]
  },
  {
   "cell_type": "code",
   "execution_count": null,
   "metadata": {
    "id": "BmBfX453YvoQ"
   },
   "outputs": [],
   "source": [
    "# creating subset of df1 to experiement with groupby\n",
    "df2 = pd.DataFrame(df1)"
   ]
  },
  {
   "cell_type": "code",
   "execution_count": null,
   "metadata": {
    "colab": {
     "base_uri": "https://localhost:8080/",
     "height": 395
    },
    "executionInfo": {
     "elapsed": 2135,
     "status": "ok",
     "timestamp": 1606821099911,
     "user": {
      "displayName": "Dev B",
      "photoUrl": "",
      "userId": "15294155916341060001"
     },
     "user_tz": -330
    },
    "id": "7-JYaZppZAPG",
    "outputId": "d4b6a328-6f35-4fb6-bca7-7a08083f7491"
   },
   "outputs": [
    {
     "data": {
      "text/html": [
       "<div>\n",
       "<style scoped>\n",
       "    .dataframe tbody tr th:only-of-type {\n",
       "        vertical-align: middle;\n",
       "    }\n",
       "\n",
       "    .dataframe tbody tr th {\n",
       "        vertical-align: top;\n",
       "    }\n",
       "\n",
       "    .dataframe thead th {\n",
       "        text-align: right;\n",
       "    }\n",
       "</style>\n",
       "<table border=\"1\" class=\"dataframe\">\n",
       "  <thead>\n",
       "    <tr style=\"text-align: right;\">\n",
       "      <th></th>\n",
       "      <th>date</th>\n",
       "      <th>county</th>\n",
       "      <th>state</th>\n",
       "      <th>cases</th>\n",
       "      <th>deaths</th>\n",
       "      <th>total_population</th>\n",
       "      <th>population_density_per_sqmi</th>\n",
       "      <th>percent_fair_or_poor_health</th>\n",
       "      <th>average_number_of_physically_unhealthy_days</th>\n",
       "      <th>percent_smokers</th>\n",
       "      <th>percent_adults_with_obesity</th>\n",
       "      <th>percent_physically_inactive</th>\n",
       "      <th>num_uninsured</th>\n",
       "      <th>num_primary_care_physicians</th>\n",
       "      <th>percent_vaccinated</th>\n",
       "      <th>overcrowding</th>\n",
       "      <th>life_expectancy</th>\n",
       "      <th>percent_adults_with_diabetes</th>\n",
       "      <th>num_hiv_cases</th>\n",
       "      <th>median_household_income</th>\n",
       "      <th>num_black</th>\n",
       "      <th>num_american_indian_alaska_native</th>\n",
       "      <th>num_asian</th>\n",
       "      <th>num_native_hawaiian_other_pacific_islander</th>\n",
       "      <th>num_hispanic</th>\n",
       "      <th>num_non_hispanic_white</th>\n",
       "      <th>percent_female</th>\n",
       "      <th>num_rural</th>\n",
       "      <th>num_below_poverty</th>\n",
       "      <th>num_unemployed_CDC</th>\n",
       "      <th>per_capita_income</th>\n",
       "      <th>num_age_65_and_older</th>\n",
       "      <th>num_age_17_and_younger</th>\n",
       "      <th>num_disabled</th>\n",
       "      <th>percent_below_poverty</th>\n",
       "      <th>km_to_closest_station</th>\n",
       "      <th>ELEV_M</th>\n",
       "      <th>mean_temp</th>\n",
       "      <th>dewpoint</th>\n",
       "      <th>wind_speed</th>\n",
       "      <th>precipitation</th>\n",
       "      <th>fog</th>\n",
       "      <th>rain</th>\n",
       "      <th>snow</th>\n",
       "      <th>hail</th>\n",
       "      <th>newdate</th>\n",
       "    </tr>\n",
       "  </thead>\n",
       "  <tbody>\n",
       "    <tr>\n",
       "      <th>0</th>\n",
       "      <td>21-01-20</td>\n",
       "      <td>Snohomish</td>\n",
       "      <td>Washington</td>\n",
       "      <td>1</td>\n",
       "      <td>0</td>\n",
       "      <td>758649.0</td>\n",
       "      <td>363.586159</td>\n",
       "      <td>14.403971</td>\n",
       "      <td>3.700802</td>\n",
       "      <td>12.962309</td>\n",
       "      <td>28.9</td>\n",
       "      <td>17.8</td>\n",
       "      <td>43121.0</td>\n",
       "      <td>421.0</td>\n",
       "      <td>49.0</td>\n",
       "      <td>2.948407</td>\n",
       "      <td>80.374691</td>\n",
       "      <td>8.2</td>\n",
       "      <td>1017.0</td>\n",
       "      <td>87096.0</td>\n",
       "      <td>27554.0</td>\n",
       "      <td>12877.0</td>\n",
       "      <td>94831.0</td>\n",
       "      <td>5618.0</td>\n",
       "      <td>85109.0</td>\n",
       "      <td>561043.0</td>\n",
       "      <td>49.827402</td>\n",
       "      <td>77179.0</td>\n",
       "      <td>69695.0</td>\n",
       "      <td>25009.0</td>\n",
       "      <td>33883.0</td>\n",
       "      <td>91641.0</td>\n",
       "      <td>175821.0</td>\n",
       "      <td>89280.0</td>\n",
       "      <td>9.3</td>\n",
       "      <td>36.572880</td>\n",
       "      <td>41.8</td>\n",
       "      <td>44.1</td>\n",
       "      <td>40.3</td>\n",
       "      <td>8.3</td>\n",
       "      <td>0.00</td>\n",
       "      <td>0.0</td>\n",
       "      <td>1.0</td>\n",
       "      <td>0.0</td>\n",
       "      <td>0.0</td>\n",
       "      <td>2020-01-21</td>\n",
       "    </tr>\n",
       "    <tr>\n",
       "      <th>1</th>\n",
       "      <td>22-01-20</td>\n",
       "      <td>Snohomish</td>\n",
       "      <td>Washington</td>\n",
       "      <td>1</td>\n",
       "      <td>0</td>\n",
       "      <td>758649.0</td>\n",
       "      <td>363.586159</td>\n",
       "      <td>14.403971</td>\n",
       "      <td>3.700802</td>\n",
       "      <td>12.962309</td>\n",
       "      <td>28.9</td>\n",
       "      <td>17.8</td>\n",
       "      <td>43121.0</td>\n",
       "      <td>421.0</td>\n",
       "      <td>49.0</td>\n",
       "      <td>2.948407</td>\n",
       "      <td>80.374691</td>\n",
       "      <td>8.2</td>\n",
       "      <td>1017.0</td>\n",
       "      <td>87096.0</td>\n",
       "      <td>27554.0</td>\n",
       "      <td>12877.0</td>\n",
       "      <td>94831.0</td>\n",
       "      <td>5618.0</td>\n",
       "      <td>85109.0</td>\n",
       "      <td>561043.0</td>\n",
       "      <td>49.827402</td>\n",
       "      <td>77179.0</td>\n",
       "      <td>69695.0</td>\n",
       "      <td>25009.0</td>\n",
       "      <td>33883.0</td>\n",
       "      <td>91641.0</td>\n",
       "      <td>175821.0</td>\n",
       "      <td>89280.0</td>\n",
       "      <td>9.3</td>\n",
       "      <td>36.572880</td>\n",
       "      <td>41.8</td>\n",
       "      <td>44.8</td>\n",
       "      <td>40.3</td>\n",
       "      <td>13.2</td>\n",
       "      <td>0.29</td>\n",
       "      <td>0.0</td>\n",
       "      <td>1.0</td>\n",
       "      <td>0.0</td>\n",
       "      <td>0.0</td>\n",
       "      <td>2020-01-22</td>\n",
       "    </tr>\n",
       "    <tr>\n",
       "      <th>2</th>\n",
       "      <td>23-01-20</td>\n",
       "      <td>Snohomish</td>\n",
       "      <td>Washington</td>\n",
       "      <td>1</td>\n",
       "      <td>0</td>\n",
       "      <td>758649.0</td>\n",
       "      <td>363.586159</td>\n",
       "      <td>14.403971</td>\n",
       "      <td>3.700802</td>\n",
       "      <td>12.962309</td>\n",
       "      <td>28.9</td>\n",
       "      <td>17.8</td>\n",
       "      <td>43121.0</td>\n",
       "      <td>421.0</td>\n",
       "      <td>49.0</td>\n",
       "      <td>2.948407</td>\n",
       "      <td>80.374691</td>\n",
       "      <td>8.2</td>\n",
       "      <td>1017.0</td>\n",
       "      <td>87096.0</td>\n",
       "      <td>27554.0</td>\n",
       "      <td>12877.0</td>\n",
       "      <td>94831.0</td>\n",
       "      <td>5618.0</td>\n",
       "      <td>85109.0</td>\n",
       "      <td>561043.0</td>\n",
       "      <td>49.827402</td>\n",
       "      <td>77179.0</td>\n",
       "      <td>69695.0</td>\n",
       "      <td>25009.0</td>\n",
       "      <td>33883.0</td>\n",
       "      <td>91641.0</td>\n",
       "      <td>175821.0</td>\n",
       "      <td>89280.0</td>\n",
       "      <td>9.3</td>\n",
       "      <td>36.572880</td>\n",
       "      <td>41.8</td>\n",
       "      <td>49.9</td>\n",
       "      <td>47.3</td>\n",
       "      <td>12.0</td>\n",
       "      <td>0.54</td>\n",
       "      <td>0.0</td>\n",
       "      <td>1.0</td>\n",
       "      <td>0.0</td>\n",
       "      <td>0.0</td>\n",
       "      <td>2020-01-23</td>\n",
       "    </tr>\n",
       "    <tr>\n",
       "      <th>3</th>\n",
       "      <td>24-01-20</td>\n",
       "      <td>Cook</td>\n",
       "      <td>Illinois</td>\n",
       "      <td>1</td>\n",
       "      <td>0</td>\n",
       "      <td>5227575.0</td>\n",
       "      <td>5531.878539</td>\n",
       "      <td>17.140851</td>\n",
       "      <td>3.471088</td>\n",
       "      <td>13.776183</td>\n",
       "      <td>28.0</td>\n",
       "      <td>21.0</td>\n",
       "      <td>437634.0</td>\n",
       "      <td>4863.0</td>\n",
       "      <td>45.0</td>\n",
       "      <td>3.627783</td>\n",
       "      <td>79.415730</td>\n",
       "      <td>9.5</td>\n",
       "      <td>25780.0</td>\n",
       "      <td>63347.0</td>\n",
       "      <td>1193642.0</td>\n",
       "      <td>38253.0</td>\n",
       "      <td>408151.0</td>\n",
       "      <td>3873.0</td>\n",
       "      <td>1323017.0</td>\n",
       "      <td>2180074.0</td>\n",
       "      <td>51.431630</td>\n",
       "      <td>2353.0</td>\n",
       "      <td>856682.0</td>\n",
       "      <td>266397.0</td>\n",
       "      <td>32179.0</td>\n",
       "      <td>677659.0</td>\n",
       "      <td>1186398.0</td>\n",
       "      <td>536288.0</td>\n",
       "      <td>16.7</td>\n",
       "      <td>8.063384</td>\n",
       "      <td>186.5</td>\n",
       "      <td>36.1</td>\n",
       "      <td>34.7</td>\n",
       "      <td>4.8</td>\n",
       "      <td>0.16</td>\n",
       "      <td>1.0</td>\n",
       "      <td>1.0</td>\n",
       "      <td>1.0</td>\n",
       "      <td>0.0</td>\n",
       "      <td>2020-01-24</td>\n",
       "    </tr>\n",
       "    <tr>\n",
       "      <th>4</th>\n",
       "      <td>24-01-20</td>\n",
       "      <td>Snohomish</td>\n",
       "      <td>Washington</td>\n",
       "      <td>1</td>\n",
       "      <td>0</td>\n",
       "      <td>758649.0</td>\n",
       "      <td>363.586159</td>\n",
       "      <td>14.403971</td>\n",
       "      <td>3.700802</td>\n",
       "      <td>12.962309</td>\n",
       "      <td>28.9</td>\n",
       "      <td>17.8</td>\n",
       "      <td>43121.0</td>\n",
       "      <td>421.0</td>\n",
       "      <td>49.0</td>\n",
       "      <td>2.948407</td>\n",
       "      <td>80.374691</td>\n",
       "      <td>8.2</td>\n",
       "      <td>1017.0</td>\n",
       "      <td>87096.0</td>\n",
       "      <td>27554.0</td>\n",
       "      <td>12877.0</td>\n",
       "      <td>94831.0</td>\n",
       "      <td>5618.0</td>\n",
       "      <td>85109.0</td>\n",
       "      <td>561043.0</td>\n",
       "      <td>49.827402</td>\n",
       "      <td>77179.0</td>\n",
       "      <td>69695.0</td>\n",
       "      <td>25009.0</td>\n",
       "      <td>33883.0</td>\n",
       "      <td>91641.0</td>\n",
       "      <td>175821.0</td>\n",
       "      <td>89280.0</td>\n",
       "      <td>9.3</td>\n",
       "      <td>36.572880</td>\n",
       "      <td>41.8</td>\n",
       "      <td>51.5</td>\n",
       "      <td>46.6</td>\n",
       "      <td>13.0</td>\n",
       "      <td>0.32</td>\n",
       "      <td>0.0</td>\n",
       "      <td>1.0</td>\n",
       "      <td>0.0</td>\n",
       "      <td>0.0</td>\n",
       "      <td>2020-01-24</td>\n",
       "    </tr>\n",
       "  </tbody>\n",
       "</table>\n",
       "</div>"
      ],
      "text/plain": [
       "       date     county       state  cases  ...  rain  snow  hail    newdate\n",
       "0  21-01-20  Snohomish  Washington      1  ...   1.0   0.0   0.0 2020-01-21\n",
       "1  22-01-20  Snohomish  Washington      1  ...   1.0   0.0   0.0 2020-01-22\n",
       "2  23-01-20  Snohomish  Washington      1  ...   1.0   0.0   0.0 2020-01-23\n",
       "3  24-01-20       Cook    Illinois      1  ...   1.0   1.0   0.0 2020-01-24\n",
       "4  24-01-20  Snohomish  Washington      1  ...   1.0   0.0   0.0 2020-01-24\n",
       "\n",
       "[5 rows x 46 columns]"
      ]
     },
     "execution_count": 12,
     "metadata": {
      "tags": []
     },
     "output_type": "execute_result"
    }
   ],
   "source": [
    "df2.head()"
   ]
  },
  {
   "cell_type": "code",
   "execution_count": null,
   "metadata": {
    "id": "zeURz2SmZHMc"
   },
   "outputs": [],
   "source": [
    "df2.drop('date',axis = 1,inplace=True)"
   ]
  },
  {
   "cell_type": "code",
   "execution_count": null,
   "metadata": {
    "id": "Qgezgfwgb5G2"
   },
   "outputs": [],
   "source": [
    "li = list(['newdate','county','state', 'cases', 'deaths', 'total_population',\n",
    "          'population_density_per_sqmi', 'percent_fair_or_poor_health',\n",
    "          'average_number_of_physically_unhealthy_days', 'percent_smokers',\n",
    "          'percent_adults_with_obesity', 'percent_physically_inactive',\n",
    "          'num_uninsured', 'num_primary_care_physicians', 'percent_vaccinated',\n",
    "          'overcrowding', 'life_expectancy', 'percent_adults_with_diabetes',\n",
    "          'num_hiv_cases', 'median_household_income', 'num_black',\n",
    "          'num_american_indian_alaska_native', 'num_asian',\n",
    "          'num_native_hawaiian_other_pacific_islander', 'num_hispanic',\n",
    "          'num_non_hispanic_white', 'percent_female', 'num_rural',\n",
    "          'num_below_poverty', 'num_unemployed_CDC', 'per_capita_income',\n",
    "          'num_age_65_and_older', 'num_age_17_and_younger', 'num_disabled',\n",
    "          'percent_below_poverty', 'km_to_closest_station', 'ELEV_M', \n",
    "          'mean_temp','dewpoint', 'wind_speed', 'precipitation', 'fog',\n",
    "          'rain', 'snow','hail'])"
   ]
  },
  {
   "cell_type": "code",
   "execution_count": null,
   "metadata": {
    "id": "UYjx8pu3apvu"
   },
   "outputs": [],
   "source": [
    "df2=df2[li]"
   ]
  },
  {
   "cell_type": "code",
   "execution_count": null,
   "metadata": {
    "colab": {
     "base_uri": "https://localhost:8080/",
     "height": 309
    },
    "executionInfo": {
     "elapsed": 1731,
     "status": "ok",
     "timestamp": 1606821111113,
     "user": {
      "displayName": "Dev B",
      "photoUrl": "",
      "userId": "15294155916341060001"
     },
     "user_tz": -330
    },
    "id": "G0gb4673dO0U",
    "outputId": "258cf600-036e-42f3-8fa5-a32245969ba4"
   },
   "outputs": [
    {
     "data": {
      "text/html": [
       "<div>\n",
       "<style scoped>\n",
       "    .dataframe tbody tr th:only-of-type {\n",
       "        vertical-align: middle;\n",
       "    }\n",
       "\n",
       "    .dataframe tbody tr th {\n",
       "        vertical-align: top;\n",
       "    }\n",
       "\n",
       "    .dataframe thead th {\n",
       "        text-align: right;\n",
       "    }\n",
       "</style>\n",
       "<table border=\"1\" class=\"dataframe\">\n",
       "  <thead>\n",
       "    <tr style=\"text-align: right;\">\n",
       "      <th></th>\n",
       "      <th>newdate</th>\n",
       "      <th>county</th>\n",
       "      <th>state</th>\n",
       "      <th>cases</th>\n",
       "      <th>deaths</th>\n",
       "      <th>total_population</th>\n",
       "      <th>population_density_per_sqmi</th>\n",
       "      <th>percent_fair_or_poor_health</th>\n",
       "      <th>average_number_of_physically_unhealthy_days</th>\n",
       "      <th>percent_smokers</th>\n",
       "      <th>percent_adults_with_obesity</th>\n",
       "      <th>percent_physically_inactive</th>\n",
       "      <th>num_uninsured</th>\n",
       "      <th>num_primary_care_physicians</th>\n",
       "      <th>percent_vaccinated</th>\n",
       "      <th>overcrowding</th>\n",
       "      <th>life_expectancy</th>\n",
       "      <th>percent_adults_with_diabetes</th>\n",
       "      <th>num_hiv_cases</th>\n",
       "      <th>median_household_income</th>\n",
       "      <th>num_black</th>\n",
       "      <th>num_american_indian_alaska_native</th>\n",
       "      <th>num_asian</th>\n",
       "      <th>num_native_hawaiian_other_pacific_islander</th>\n",
       "      <th>num_hispanic</th>\n",
       "      <th>num_non_hispanic_white</th>\n",
       "      <th>percent_female</th>\n",
       "      <th>num_rural</th>\n",
       "      <th>num_below_poverty</th>\n",
       "      <th>num_unemployed_CDC</th>\n",
       "      <th>per_capita_income</th>\n",
       "      <th>num_age_65_and_older</th>\n",
       "      <th>num_age_17_and_younger</th>\n",
       "      <th>num_disabled</th>\n",
       "      <th>percent_below_poverty</th>\n",
       "      <th>km_to_closest_station</th>\n",
       "      <th>ELEV_M</th>\n",
       "      <th>mean_temp</th>\n",
       "      <th>dewpoint</th>\n",
       "      <th>wind_speed</th>\n",
       "      <th>precipitation</th>\n",
       "      <th>fog</th>\n",
       "      <th>rain</th>\n",
       "      <th>snow</th>\n",
       "      <th>hail</th>\n",
       "    </tr>\n",
       "  </thead>\n",
       "  <tbody>\n",
       "    <tr>\n",
       "      <th>0</th>\n",
       "      <td>2020-01-21</td>\n",
       "      <td>Snohomish</td>\n",
       "      <td>Washington</td>\n",
       "      <td>1</td>\n",
       "      <td>0</td>\n",
       "      <td>758649.0</td>\n",
       "      <td>363.586159</td>\n",
       "      <td>14.403971</td>\n",
       "      <td>3.700802</td>\n",
       "      <td>12.962309</td>\n",
       "      <td>28.9</td>\n",
       "      <td>17.8</td>\n",
       "      <td>43121.0</td>\n",
       "      <td>421.0</td>\n",
       "      <td>49.0</td>\n",
       "      <td>2.948407</td>\n",
       "      <td>80.374691</td>\n",
       "      <td>8.2</td>\n",
       "      <td>1017.0</td>\n",
       "      <td>87096.0</td>\n",
       "      <td>27554.0</td>\n",
       "      <td>12877.0</td>\n",
       "      <td>94831.0</td>\n",
       "      <td>5618.0</td>\n",
       "      <td>85109.0</td>\n",
       "      <td>561043.0</td>\n",
       "      <td>49.827402</td>\n",
       "      <td>77179.0</td>\n",
       "      <td>69695.0</td>\n",
       "      <td>25009.0</td>\n",
       "      <td>33883.0</td>\n",
       "      <td>91641.0</td>\n",
       "      <td>175821.0</td>\n",
       "      <td>89280.0</td>\n",
       "      <td>9.3</td>\n",
       "      <td>36.572880</td>\n",
       "      <td>41.8</td>\n",
       "      <td>44.1</td>\n",
       "      <td>40.3</td>\n",
       "      <td>8.3</td>\n",
       "      <td>0.00</td>\n",
       "      <td>0.0</td>\n",
       "      <td>1.0</td>\n",
       "      <td>0.0</td>\n",
       "      <td>0.0</td>\n",
       "    </tr>\n",
       "    <tr>\n",
       "      <th>1</th>\n",
       "      <td>2020-01-22</td>\n",
       "      <td>Snohomish</td>\n",
       "      <td>Washington</td>\n",
       "      <td>1</td>\n",
       "      <td>0</td>\n",
       "      <td>758649.0</td>\n",
       "      <td>363.586159</td>\n",
       "      <td>14.403971</td>\n",
       "      <td>3.700802</td>\n",
       "      <td>12.962309</td>\n",
       "      <td>28.9</td>\n",
       "      <td>17.8</td>\n",
       "      <td>43121.0</td>\n",
       "      <td>421.0</td>\n",
       "      <td>49.0</td>\n",
       "      <td>2.948407</td>\n",
       "      <td>80.374691</td>\n",
       "      <td>8.2</td>\n",
       "      <td>1017.0</td>\n",
       "      <td>87096.0</td>\n",
       "      <td>27554.0</td>\n",
       "      <td>12877.0</td>\n",
       "      <td>94831.0</td>\n",
       "      <td>5618.0</td>\n",
       "      <td>85109.0</td>\n",
       "      <td>561043.0</td>\n",
       "      <td>49.827402</td>\n",
       "      <td>77179.0</td>\n",
       "      <td>69695.0</td>\n",
       "      <td>25009.0</td>\n",
       "      <td>33883.0</td>\n",
       "      <td>91641.0</td>\n",
       "      <td>175821.0</td>\n",
       "      <td>89280.0</td>\n",
       "      <td>9.3</td>\n",
       "      <td>36.572880</td>\n",
       "      <td>41.8</td>\n",
       "      <td>44.8</td>\n",
       "      <td>40.3</td>\n",
       "      <td>13.2</td>\n",
       "      <td>0.29</td>\n",
       "      <td>0.0</td>\n",
       "      <td>1.0</td>\n",
       "      <td>0.0</td>\n",
       "      <td>0.0</td>\n",
       "    </tr>\n",
       "    <tr>\n",
       "      <th>2</th>\n",
       "      <td>2020-01-23</td>\n",
       "      <td>Snohomish</td>\n",
       "      <td>Washington</td>\n",
       "      <td>1</td>\n",
       "      <td>0</td>\n",
       "      <td>758649.0</td>\n",
       "      <td>363.586159</td>\n",
       "      <td>14.403971</td>\n",
       "      <td>3.700802</td>\n",
       "      <td>12.962309</td>\n",
       "      <td>28.9</td>\n",
       "      <td>17.8</td>\n",
       "      <td>43121.0</td>\n",
       "      <td>421.0</td>\n",
       "      <td>49.0</td>\n",
       "      <td>2.948407</td>\n",
       "      <td>80.374691</td>\n",
       "      <td>8.2</td>\n",
       "      <td>1017.0</td>\n",
       "      <td>87096.0</td>\n",
       "      <td>27554.0</td>\n",
       "      <td>12877.0</td>\n",
       "      <td>94831.0</td>\n",
       "      <td>5618.0</td>\n",
       "      <td>85109.0</td>\n",
       "      <td>561043.0</td>\n",
       "      <td>49.827402</td>\n",
       "      <td>77179.0</td>\n",
       "      <td>69695.0</td>\n",
       "      <td>25009.0</td>\n",
       "      <td>33883.0</td>\n",
       "      <td>91641.0</td>\n",
       "      <td>175821.0</td>\n",
       "      <td>89280.0</td>\n",
       "      <td>9.3</td>\n",
       "      <td>36.572880</td>\n",
       "      <td>41.8</td>\n",
       "      <td>49.9</td>\n",
       "      <td>47.3</td>\n",
       "      <td>12.0</td>\n",
       "      <td>0.54</td>\n",
       "      <td>0.0</td>\n",
       "      <td>1.0</td>\n",
       "      <td>0.0</td>\n",
       "      <td>0.0</td>\n",
       "    </tr>\n",
       "    <tr>\n",
       "      <th>3</th>\n",
       "      <td>2020-01-24</td>\n",
       "      <td>Cook</td>\n",
       "      <td>Illinois</td>\n",
       "      <td>1</td>\n",
       "      <td>0</td>\n",
       "      <td>5227575.0</td>\n",
       "      <td>5531.878539</td>\n",
       "      <td>17.140851</td>\n",
       "      <td>3.471088</td>\n",
       "      <td>13.776183</td>\n",
       "      <td>28.0</td>\n",
       "      <td>21.0</td>\n",
       "      <td>437634.0</td>\n",
       "      <td>4863.0</td>\n",
       "      <td>45.0</td>\n",
       "      <td>3.627783</td>\n",
       "      <td>79.415730</td>\n",
       "      <td>9.5</td>\n",
       "      <td>25780.0</td>\n",
       "      <td>63347.0</td>\n",
       "      <td>1193642.0</td>\n",
       "      <td>38253.0</td>\n",
       "      <td>408151.0</td>\n",
       "      <td>3873.0</td>\n",
       "      <td>1323017.0</td>\n",
       "      <td>2180074.0</td>\n",
       "      <td>51.431630</td>\n",
       "      <td>2353.0</td>\n",
       "      <td>856682.0</td>\n",
       "      <td>266397.0</td>\n",
       "      <td>32179.0</td>\n",
       "      <td>677659.0</td>\n",
       "      <td>1186398.0</td>\n",
       "      <td>536288.0</td>\n",
       "      <td>16.7</td>\n",
       "      <td>8.063384</td>\n",
       "      <td>186.5</td>\n",
       "      <td>36.1</td>\n",
       "      <td>34.7</td>\n",
       "      <td>4.8</td>\n",
       "      <td>0.16</td>\n",
       "      <td>1.0</td>\n",
       "      <td>1.0</td>\n",
       "      <td>1.0</td>\n",
       "      <td>0.0</td>\n",
       "    </tr>\n",
       "    <tr>\n",
       "      <th>4</th>\n",
       "      <td>2020-01-24</td>\n",
       "      <td>Snohomish</td>\n",
       "      <td>Washington</td>\n",
       "      <td>1</td>\n",
       "      <td>0</td>\n",
       "      <td>758649.0</td>\n",
       "      <td>363.586159</td>\n",
       "      <td>14.403971</td>\n",
       "      <td>3.700802</td>\n",
       "      <td>12.962309</td>\n",
       "      <td>28.9</td>\n",
       "      <td>17.8</td>\n",
       "      <td>43121.0</td>\n",
       "      <td>421.0</td>\n",
       "      <td>49.0</td>\n",
       "      <td>2.948407</td>\n",
       "      <td>80.374691</td>\n",
       "      <td>8.2</td>\n",
       "      <td>1017.0</td>\n",
       "      <td>87096.0</td>\n",
       "      <td>27554.0</td>\n",
       "      <td>12877.0</td>\n",
       "      <td>94831.0</td>\n",
       "      <td>5618.0</td>\n",
       "      <td>85109.0</td>\n",
       "      <td>561043.0</td>\n",
       "      <td>49.827402</td>\n",
       "      <td>77179.0</td>\n",
       "      <td>69695.0</td>\n",
       "      <td>25009.0</td>\n",
       "      <td>33883.0</td>\n",
       "      <td>91641.0</td>\n",
       "      <td>175821.0</td>\n",
       "      <td>89280.0</td>\n",
       "      <td>9.3</td>\n",
       "      <td>36.572880</td>\n",
       "      <td>41.8</td>\n",
       "      <td>51.5</td>\n",
       "      <td>46.6</td>\n",
       "      <td>13.0</td>\n",
       "      <td>0.32</td>\n",
       "      <td>0.0</td>\n",
       "      <td>1.0</td>\n",
       "      <td>0.0</td>\n",
       "      <td>0.0</td>\n",
       "    </tr>\n",
       "  </tbody>\n",
       "</table>\n",
       "</div>"
      ],
      "text/plain": [
       "     newdate     county       state  cases  ...  fog  rain  snow  hail\n",
       "0 2020-01-21  Snohomish  Washington      1  ...  0.0   1.0   0.0   0.0\n",
       "1 2020-01-22  Snohomish  Washington      1  ...  0.0   1.0   0.0   0.0\n",
       "2 2020-01-23  Snohomish  Washington      1  ...  0.0   1.0   0.0   0.0\n",
       "3 2020-01-24       Cook    Illinois      1  ...  1.0   1.0   1.0   0.0\n",
       "4 2020-01-24  Snohomish  Washington      1  ...  0.0   1.0   0.0   0.0\n",
       "\n",
       "[5 rows x 45 columns]"
      ]
     },
     "execution_count": 16,
     "metadata": {
      "tags": []
     },
     "output_type": "execute_result"
    }
   ],
   "source": [
    "df2.head()"
   ]
  },
  {
   "cell_type": "code",
   "execution_count": null,
   "metadata": {
    "id": "TKzy8GIAdr9a"
   },
   "outputs": [],
   "source": [
    "# df2_grp = df2.groupby('county').count()"
   ]
  },
  {
   "cell_type": "code",
   "execution_count": null,
   "metadata": {},
   "outputs": [],
   "source": [
    "# Cumulative infections and deaths do not represent absolute numbers for daily infection and deaths.Moreover, they'll also influence\n",
    "# the model towards higher cases and related conditions.\n",
    "# To obtain daily infections(cases) and deaths subtract day1 -day2."
   ]
  },
  {
   "cell_type": "code",
   "execution_count": null,
   "metadata": {
    "id": "B74DlEZ3lTGH"
   },
   "outputs": [],
   "source": [
    "df2['death_cnt'] = df2.groupby(['county','state'])['deaths'].diff(-1) \n"
   ]
  },
  {
   "cell_type": "code",
   "execution_count": null,
   "metadata": {
    "id": "sdicWpdIgDuL"
   },
   "outputs": [],
   "source": [
    "df2['case_cnt']= df2.groupby(['county','state'])['cases'].diff(-1) "
   ]
  },
  {
   "cell_type": "code",
   "execution_count": null,
   "metadata": {
    "id": "hvRqvvV7QOeU"
   },
   "outputs": [],
   "source": [
    "li3 = list(['newdate','county','state', 'cases','case_cnt', 'deaths','death_cnt','total_population',\n",
    "          'population_density_per_sqmi', 'percent_fair_or_poor_health',\n",
    "          'average_number_of_physically_unhealthy_days', 'percent_smokers',\n",
    "          'percent_adults_with_obesity', 'percent_physically_inactive',\n",
    "          'num_uninsured', 'num_primary_care_physicians', 'percent_vaccinated',\n",
    "          'overcrowding', 'life_expectancy', 'percent_adults_with_diabetes',\n",
    "          'num_hiv_cases', 'median_household_income', 'num_black',\n",
    "          'num_american_indian_alaska_native', 'num_asian',\n",
    "          'num_native_hawaiian_other_pacific_islander', 'num_hispanic',\n",
    "          'num_non_hispanic_white', 'percent_female', 'num_rural',\n",
    "          'num_below_poverty', 'num_unemployed_CDC', 'per_capita_income',\n",
    "          'num_age_65_and_older', 'num_age_17_and_younger', 'num_disabled',\n",
    "          'percent_below_poverty', 'km_to_closest_station', 'ELEV_M', \n",
    "          'mean_temp','dewpoint', 'wind_speed', 'precipitation', 'fog',\n",
    "          'rain', 'snow','hail'])"
   ]
  },
  {
   "cell_type": "code",
   "execution_count": null,
   "metadata": {
    "id": "a-luQIN7NDjD"
   },
   "outputs": [],
   "source": [
    "df2=df2[li3]"
   ]
  },
  {
   "cell_type": "code",
   "execution_count": null,
   "metadata": {
    "colab": {
     "base_uri": "https://localhost:8080/",
     "height": 643
    },
    "executionInfo": {
     "elapsed": 1328,
     "status": "ok",
     "timestamp": 1606808609411,
     "user": {
      "displayName": "Dev B",
      "photoUrl": "",
      "userId": "15294155916341060001"
     },
     "user_tz": -330
    },
    "id": "jN6QCNpFd0NA",
    "outputId": "88daf871-c2f5-46de-d550-16ff9b90ab02"
   },
   "outputs": [
    {
     "name": "stderr",
     "output_type": "stream",
     "text": [
      "/usr/local/lib/python3.6/dist-packages/ipykernel_launcher.py:1: UserWarning: Boolean Series key will be reindexed to match DataFrame index.\n",
      "  \"\"\"Entry point for launching an IPython kernel.\n"
     ]
    },
    {
     "data": {
      "text/html": [
       "<div>\n",
       "<style scoped>\n",
       "    .dataframe tbody tr th:only-of-type {\n",
       "        vertical-align: middle;\n",
       "    }\n",
       "\n",
       "    .dataframe tbody tr th {\n",
       "        vertical-align: top;\n",
       "    }\n",
       "\n",
       "    .dataframe thead th {\n",
       "        text-align: right;\n",
       "    }\n",
       "</style>\n",
       "<table border=\"1\" class=\"dataframe\">\n",
       "  <thead>\n",
       "    <tr style=\"text-align: right;\">\n",
       "      <th></th>\n",
       "      <th>newdate</th>\n",
       "      <th>county</th>\n",
       "      <th>state</th>\n",
       "      <th>cases</th>\n",
       "      <th>case_cnt</th>\n",
       "      <th>deaths</th>\n",
       "      <th>death_cnt</th>\n",
       "      <th>total_population</th>\n",
       "      <th>population_density_per_sqmi</th>\n",
       "      <th>percent_fair_or_poor_health</th>\n",
       "      <th>average_number_of_physically_unhealthy_days</th>\n",
       "      <th>percent_smokers</th>\n",
       "      <th>percent_adults_with_obesity</th>\n",
       "      <th>percent_physically_inactive</th>\n",
       "      <th>num_uninsured</th>\n",
       "      <th>num_primary_care_physicians</th>\n",
       "      <th>percent_vaccinated</th>\n",
       "      <th>overcrowding</th>\n",
       "      <th>life_expectancy</th>\n",
       "      <th>percent_adults_with_diabetes</th>\n",
       "      <th>num_hiv_cases</th>\n",
       "      <th>median_household_income</th>\n",
       "      <th>num_black</th>\n",
       "      <th>num_american_indian_alaska_native</th>\n",
       "      <th>num_asian</th>\n",
       "      <th>num_native_hawaiian_other_pacific_islander</th>\n",
       "      <th>num_hispanic</th>\n",
       "      <th>num_non_hispanic_white</th>\n",
       "      <th>percent_female</th>\n",
       "      <th>num_rural</th>\n",
       "      <th>num_below_poverty</th>\n",
       "      <th>num_unemployed_CDC</th>\n",
       "      <th>per_capita_income</th>\n",
       "      <th>num_age_65_and_older</th>\n",
       "      <th>num_age_17_and_younger</th>\n",
       "      <th>num_disabled</th>\n",
       "      <th>percent_below_poverty</th>\n",
       "      <th>km_to_closest_station</th>\n",
       "      <th>ELEV_M</th>\n",
       "      <th>mean_temp</th>\n",
       "      <th>dewpoint</th>\n",
       "      <th>wind_speed</th>\n",
       "      <th>precipitation</th>\n",
       "      <th>fog</th>\n",
       "      <th>rain</th>\n",
       "      <th>snow</th>\n",
       "      <th>hail</th>\n",
       "    </tr>\n",
       "  </thead>\n",
       "  <tbody>\n",
       "    <tr>\n",
       "      <th>1476</th>\n",
       "      <td>2020-03-12</td>\n",
       "      <td>Hennepin</td>\n",
       "      <td>Minnesota</td>\n",
       "      <td>1</td>\n",
       "      <td>-2.0</td>\n",
       "      <td>0</td>\n",
       "      <td>0.0</td>\n",
       "      <td>1209265.0</td>\n",
       "      <td>2184.205966</td>\n",
       "      <td>10.45593</td>\n",
       "      <td>2.586267</td>\n",
       "      <td>11.889588</td>\n",
       "      <td>22.6</td>\n",
       "      <td>16.4</td>\n",
       "      <td>57354.0</td>\n",
       "      <td>1475.0</td>\n",
       "      <td>53.0</td>\n",
       "      <td>2.625397</td>\n",
       "      <td>81.269608</td>\n",
       "      <td>6.6</td>\n",
       "      <td>4205.0</td>\n",
       "      <td>76067.0</td>\n",
       "      <td>167695.0</td>\n",
       "      <td>14012.0</td>\n",
       "      <td>95073.0</td>\n",
       "      <td>718.0</td>\n",
       "      <td>87811.0</td>\n",
       "      <td>864551.0</td>\n",
       "      <td>50.517219</td>\n",
       "      <td>25641.0</td>\n",
       "      <td>141453.0</td>\n",
       "      <td>35616.0</td>\n",
       "      <td>39939.0</td>\n",
       "      <td>151628.0</td>\n",
       "      <td>269347.0</td>\n",
       "      <td>116389.0</td>\n",
       "      <td>11.9</td>\n",
       "      <td>11.787453</td>\n",
       "      <td>262.4</td>\n",
       "      <td>40.5</td>\n",
       "      <td>34.6</td>\n",
       "      <td>8.7</td>\n",
       "      <td>0.0</td>\n",
       "      <td>0.0</td>\n",
       "      <td>1.0</td>\n",
       "      <td>0.0</td>\n",
       "      <td>0.0</td>\n",
       "    </tr>\n",
       "    <tr>\n",
       "      <th>1757</th>\n",
       "      <td>2020-03-13</td>\n",
       "      <td>Hennepin</td>\n",
       "      <td>Minnesota</td>\n",
       "      <td>3</td>\n",
       "      <td>-3.0</td>\n",
       "      <td>0</td>\n",
       "      <td>0.0</td>\n",
       "      <td>1209265.0</td>\n",
       "      <td>2184.205966</td>\n",
       "      <td>10.45593</td>\n",
       "      <td>2.586267</td>\n",
       "      <td>11.889588</td>\n",
       "      <td>22.6</td>\n",
       "      <td>16.4</td>\n",
       "      <td>57354.0</td>\n",
       "      <td>1475.0</td>\n",
       "      <td>53.0</td>\n",
       "      <td>2.625397</td>\n",
       "      <td>81.269608</td>\n",
       "      <td>6.6</td>\n",
       "      <td>4205.0</td>\n",
       "      <td>76067.0</td>\n",
       "      <td>167695.0</td>\n",
       "      <td>14012.0</td>\n",
       "      <td>95073.0</td>\n",
       "      <td>718.0</td>\n",
       "      <td>87811.0</td>\n",
       "      <td>864551.0</td>\n",
       "      <td>50.517219</td>\n",
       "      <td>25641.0</td>\n",
       "      <td>141453.0</td>\n",
       "      <td>35616.0</td>\n",
       "      <td>39939.0</td>\n",
       "      <td>151628.0</td>\n",
       "      <td>269347.0</td>\n",
       "      <td>116389.0</td>\n",
       "      <td>11.9</td>\n",
       "      <td>11.787453</td>\n",
       "      <td>262.4</td>\n",
       "      <td>31.8</td>\n",
       "      <td>16.6</td>\n",
       "      <td>12.8</td>\n",
       "      <td>0.2</td>\n",
       "      <td>0.0</td>\n",
       "      <td>0.0</td>\n",
       "      <td>0.0</td>\n",
       "      <td>0.0</td>\n",
       "    </tr>\n",
       "    <tr>\n",
       "      <th>2098</th>\n",
       "      <td>2020-03-14</td>\n",
       "      <td>Hennepin</td>\n",
       "      <td>Minnesota</td>\n",
       "      <td>6</td>\n",
       "      <td>-6.0</td>\n",
       "      <td>0</td>\n",
       "      <td>0.0</td>\n",
       "      <td>1209265.0</td>\n",
       "      <td>2184.205966</td>\n",
       "      <td>10.45593</td>\n",
       "      <td>2.586267</td>\n",
       "      <td>11.889588</td>\n",
       "      <td>22.6</td>\n",
       "      <td>16.4</td>\n",
       "      <td>57354.0</td>\n",
       "      <td>1475.0</td>\n",
       "      <td>53.0</td>\n",
       "      <td>2.625397</td>\n",
       "      <td>81.269608</td>\n",
       "      <td>6.6</td>\n",
       "      <td>4205.0</td>\n",
       "      <td>76067.0</td>\n",
       "      <td>167695.0</td>\n",
       "      <td>14012.0</td>\n",
       "      <td>95073.0</td>\n",
       "      <td>718.0</td>\n",
       "      <td>87811.0</td>\n",
       "      <td>864551.0</td>\n",
       "      <td>50.517219</td>\n",
       "      <td>25641.0</td>\n",
       "      <td>141453.0</td>\n",
       "      <td>35616.0</td>\n",
       "      <td>39939.0</td>\n",
       "      <td>151628.0</td>\n",
       "      <td>269347.0</td>\n",
       "      <td>116389.0</td>\n",
       "      <td>11.9</td>\n",
       "      <td>11.787453</td>\n",
       "      <td>262.4</td>\n",
       "      <td>26.4</td>\n",
       "      <td>12.0</td>\n",
       "      <td>5.9</td>\n",
       "      <td>0.0</td>\n",
       "      <td>0.0</td>\n",
       "      <td>0.0</td>\n",
       "      <td>0.0</td>\n",
       "      <td>0.0</td>\n",
       "    </tr>\n",
       "    <tr>\n",
       "      <th>2497</th>\n",
       "      <td>2020-03-15</td>\n",
       "      <td>Hennepin</td>\n",
       "      <td>Minnesota</td>\n",
       "      <td>12</td>\n",
       "      <td>-14.0</td>\n",
       "      <td>0</td>\n",
       "      <td>0.0</td>\n",
       "      <td>1209265.0</td>\n",
       "      <td>2184.205966</td>\n",
       "      <td>10.45593</td>\n",
       "      <td>2.586267</td>\n",
       "      <td>11.889588</td>\n",
       "      <td>22.6</td>\n",
       "      <td>16.4</td>\n",
       "      <td>57354.0</td>\n",
       "      <td>1475.0</td>\n",
       "      <td>53.0</td>\n",
       "      <td>2.625397</td>\n",
       "      <td>81.269608</td>\n",
       "      <td>6.6</td>\n",
       "      <td>4205.0</td>\n",
       "      <td>76067.0</td>\n",
       "      <td>167695.0</td>\n",
       "      <td>14012.0</td>\n",
       "      <td>95073.0</td>\n",
       "      <td>718.0</td>\n",
       "      <td>87811.0</td>\n",
       "      <td>864551.0</td>\n",
       "      <td>50.517219</td>\n",
       "      <td>25641.0</td>\n",
       "      <td>141453.0</td>\n",
       "      <td>35616.0</td>\n",
       "      <td>39939.0</td>\n",
       "      <td>151628.0</td>\n",
       "      <td>269347.0</td>\n",
       "      <td>116389.0</td>\n",
       "      <td>11.9</td>\n",
       "      <td>11.787453</td>\n",
       "      <td>262.4</td>\n",
       "      <td>29.0</td>\n",
       "      <td>16.8</td>\n",
       "      <td>5.0</td>\n",
       "      <td>0.0</td>\n",
       "      <td>0.0</td>\n",
       "      <td>0.0</td>\n",
       "      <td>0.0</td>\n",
       "      <td>0.0</td>\n",
       "    </tr>\n",
       "    <tr>\n",
       "      <th>2942</th>\n",
       "      <td>2020-03-16</td>\n",
       "      <td>Hennepin</td>\n",
       "      <td>Minnesota</td>\n",
       "      <td>26</td>\n",
       "      <td>0.0</td>\n",
       "      <td>0</td>\n",
       "      <td>0.0</td>\n",
       "      <td>1209265.0</td>\n",
       "      <td>2184.205966</td>\n",
       "      <td>10.45593</td>\n",
       "      <td>2.586267</td>\n",
       "      <td>11.889588</td>\n",
       "      <td>22.6</td>\n",
       "      <td>16.4</td>\n",
       "      <td>57354.0</td>\n",
       "      <td>1475.0</td>\n",
       "      <td>53.0</td>\n",
       "      <td>2.625397</td>\n",
       "      <td>81.269608</td>\n",
       "      <td>6.6</td>\n",
       "      <td>4205.0</td>\n",
       "      <td>76067.0</td>\n",
       "      <td>167695.0</td>\n",
       "      <td>14012.0</td>\n",
       "      <td>95073.0</td>\n",
       "      <td>718.0</td>\n",
       "      <td>87811.0</td>\n",
       "      <td>864551.0</td>\n",
       "      <td>50.517219</td>\n",
       "      <td>25641.0</td>\n",
       "      <td>141453.0</td>\n",
       "      <td>35616.0</td>\n",
       "      <td>39939.0</td>\n",
       "      <td>151628.0</td>\n",
       "      <td>269347.0</td>\n",
       "      <td>116389.0</td>\n",
       "      <td>11.9</td>\n",
       "      <td>11.787453</td>\n",
       "      <td>262.4</td>\n",
       "      <td>35.1</td>\n",
       "      <td>27.3</td>\n",
       "      <td>8.0</td>\n",
       "      <td>0.0</td>\n",
       "      <td>1.0</td>\n",
       "      <td>0.0</td>\n",
       "      <td>1.0</td>\n",
       "      <td>0.0</td>\n",
       "    </tr>\n",
       "    <tr>\n",
       "      <th>...</th>\n",
       "      <td>...</td>\n",
       "      <td>...</td>\n",
       "      <td>...</td>\n",
       "      <td>...</td>\n",
       "      <td>...</td>\n",
       "      <td>...</td>\n",
       "      <td>...</td>\n",
       "      <td>...</td>\n",
       "      <td>...</td>\n",
       "      <td>...</td>\n",
       "      <td>...</td>\n",
       "      <td>...</td>\n",
       "      <td>...</td>\n",
       "      <td>...</td>\n",
       "      <td>...</td>\n",
       "      <td>...</td>\n",
       "      <td>...</td>\n",
       "      <td>...</td>\n",
       "      <td>...</td>\n",
       "      <td>...</td>\n",
       "      <td>...</td>\n",
       "      <td>...</td>\n",
       "      <td>...</td>\n",
       "      <td>...</td>\n",
       "      <td>...</td>\n",
       "      <td>...</td>\n",
       "      <td>...</td>\n",
       "      <td>...</td>\n",
       "      <td>...</td>\n",
       "      <td>...</td>\n",
       "      <td>...</td>\n",
       "      <td>...</td>\n",
       "      <td>...</td>\n",
       "      <td>...</td>\n",
       "      <td>...</td>\n",
       "      <td>...</td>\n",
       "      <td>...</td>\n",
       "      <td>...</td>\n",
       "      <td>...</td>\n",
       "      <td>...</td>\n",
       "      <td>...</td>\n",
       "      <td>...</td>\n",
       "      <td>...</td>\n",
       "      <td>...</td>\n",
       "      <td>...</td>\n",
       "      <td>...</td>\n",
       "      <td>...</td>\n",
       "    </tr>\n",
       "    <tr>\n",
       "      <th>666126</th>\n",
       "      <td>2020-10-27</td>\n",
       "      <td>Hennepin</td>\n",
       "      <td>Minnesota</td>\n",
       "      <td>34657</td>\n",
       "      <td>-331.0</td>\n",
       "      <td>994</td>\n",
       "      <td>-1.0</td>\n",
       "      <td>1209265.0</td>\n",
       "      <td>2184.205966</td>\n",
       "      <td>10.45593</td>\n",
       "      <td>2.586267</td>\n",
       "      <td>11.889588</td>\n",
       "      <td>22.6</td>\n",
       "      <td>16.4</td>\n",
       "      <td>57354.0</td>\n",
       "      <td>1475.0</td>\n",
       "      <td>53.0</td>\n",
       "      <td>2.625397</td>\n",
       "      <td>81.269608</td>\n",
       "      <td>6.6</td>\n",
       "      <td>4205.0</td>\n",
       "      <td>76067.0</td>\n",
       "      <td>167695.0</td>\n",
       "      <td>14012.0</td>\n",
       "      <td>95073.0</td>\n",
       "      <td>718.0</td>\n",
       "      <td>87811.0</td>\n",
       "      <td>864551.0</td>\n",
       "      <td>50.517219</td>\n",
       "      <td>25641.0</td>\n",
       "      <td>141453.0</td>\n",
       "      <td>35616.0</td>\n",
       "      <td>39939.0</td>\n",
       "      <td>151628.0</td>\n",
       "      <td>269347.0</td>\n",
       "      <td>116389.0</td>\n",
       "      <td>11.9</td>\n",
       "      <td>11.787453</td>\n",
       "      <td>262.4</td>\n",
       "      <td>23.5</td>\n",
       "      <td>13.6</td>\n",
       "      <td>6.8</td>\n",
       "      <td>0.0</td>\n",
       "      <td>0.0</td>\n",
       "      <td>0.0</td>\n",
       "      <td>0.0</td>\n",
       "      <td>0.0</td>\n",
       "    </tr>\n",
       "    <tr>\n",
       "      <th>669344</th>\n",
       "      <td>2020-10-28</td>\n",
       "      <td>Hennepin</td>\n",
       "      <td>Minnesota</td>\n",
       "      <td>34988</td>\n",
       "      <td>-496.0</td>\n",
       "      <td>995</td>\n",
       "      <td>0.0</td>\n",
       "      <td>1209265.0</td>\n",
       "      <td>2184.205966</td>\n",
       "      <td>10.45593</td>\n",
       "      <td>2.586267</td>\n",
       "      <td>11.889588</td>\n",
       "      <td>22.6</td>\n",
       "      <td>16.4</td>\n",
       "      <td>57354.0</td>\n",
       "      <td>1475.0</td>\n",
       "      <td>53.0</td>\n",
       "      <td>2.625397</td>\n",
       "      <td>81.269608</td>\n",
       "      <td>6.6</td>\n",
       "      <td>4205.0</td>\n",
       "      <td>76067.0</td>\n",
       "      <td>167695.0</td>\n",
       "      <td>14012.0</td>\n",
       "      <td>95073.0</td>\n",
       "      <td>718.0</td>\n",
       "      <td>87811.0</td>\n",
       "      <td>864551.0</td>\n",
       "      <td>50.517219</td>\n",
       "      <td>25641.0</td>\n",
       "      <td>141453.0</td>\n",
       "      <td>35616.0</td>\n",
       "      <td>39939.0</td>\n",
       "      <td>151628.0</td>\n",
       "      <td>269347.0</td>\n",
       "      <td>116389.0</td>\n",
       "      <td>11.9</td>\n",
       "      <td>11.787453</td>\n",
       "      <td>262.4</td>\n",
       "      <td>36.1</td>\n",
       "      <td>24.5</td>\n",
       "      <td>7.7</td>\n",
       "      <td>0.0</td>\n",
       "      <td>0.0</td>\n",
       "      <td>0.0</td>\n",
       "      <td>0.0</td>\n",
       "      <td>0.0</td>\n",
       "    </tr>\n",
       "    <tr>\n",
       "      <th>672562</th>\n",
       "      <td>2020-10-29</td>\n",
       "      <td>Hennepin</td>\n",
       "      <td>Minnesota</td>\n",
       "      <td>35484</td>\n",
       "      <td>-642.0</td>\n",
       "      <td>995</td>\n",
       "      <td>-2.0</td>\n",
       "      <td>1209265.0</td>\n",
       "      <td>2184.205966</td>\n",
       "      <td>10.45593</td>\n",
       "      <td>2.586267</td>\n",
       "      <td>11.889588</td>\n",
       "      <td>22.6</td>\n",
       "      <td>16.4</td>\n",
       "      <td>57354.0</td>\n",
       "      <td>1475.0</td>\n",
       "      <td>53.0</td>\n",
       "      <td>2.625397</td>\n",
       "      <td>81.269608</td>\n",
       "      <td>6.6</td>\n",
       "      <td>4205.0</td>\n",
       "      <td>76067.0</td>\n",
       "      <td>167695.0</td>\n",
       "      <td>14012.0</td>\n",
       "      <td>95073.0</td>\n",
       "      <td>718.0</td>\n",
       "      <td>87811.0</td>\n",
       "      <td>864551.0</td>\n",
       "      <td>50.517219</td>\n",
       "      <td>25641.0</td>\n",
       "      <td>141453.0</td>\n",
       "      <td>35616.0</td>\n",
       "      <td>39939.0</td>\n",
       "      <td>151628.0</td>\n",
       "      <td>269347.0</td>\n",
       "      <td>116389.0</td>\n",
       "      <td>11.9</td>\n",
       "      <td>11.787453</td>\n",
       "      <td>262.4</td>\n",
       "      <td>35.0</td>\n",
       "      <td>24.1</td>\n",
       "      <td>6.5</td>\n",
       "      <td>0.0</td>\n",
       "      <td>0.0</td>\n",
       "      <td>0.0</td>\n",
       "      <td>0.0</td>\n",
       "      <td>0.0</td>\n",
       "    </tr>\n",
       "    <tr>\n",
       "      <th>675780</th>\n",
       "      <td>2020-10-30</td>\n",
       "      <td>Hennepin</td>\n",
       "      <td>Minnesota</td>\n",
       "      <td>36126</td>\n",
       "      <td>-454.0</td>\n",
       "      <td>997</td>\n",
       "      <td>-3.0</td>\n",
       "      <td>1209265.0</td>\n",
       "      <td>2184.205966</td>\n",
       "      <td>10.45593</td>\n",
       "      <td>2.586267</td>\n",
       "      <td>11.889588</td>\n",
       "      <td>22.6</td>\n",
       "      <td>16.4</td>\n",
       "      <td>57354.0</td>\n",
       "      <td>1475.0</td>\n",
       "      <td>53.0</td>\n",
       "      <td>2.625397</td>\n",
       "      <td>81.269608</td>\n",
       "      <td>6.6</td>\n",
       "      <td>4205.0</td>\n",
       "      <td>76067.0</td>\n",
       "      <td>167695.0</td>\n",
       "      <td>14012.0</td>\n",
       "      <td>95073.0</td>\n",
       "      <td>718.0</td>\n",
       "      <td>87811.0</td>\n",
       "      <td>864551.0</td>\n",
       "      <td>50.517219</td>\n",
       "      <td>25641.0</td>\n",
       "      <td>141453.0</td>\n",
       "      <td>35616.0</td>\n",
       "      <td>39939.0</td>\n",
       "      <td>151628.0</td>\n",
       "      <td>269347.0</td>\n",
       "      <td>116389.0</td>\n",
       "      <td>11.9</td>\n",
       "      <td>11.787453</td>\n",
       "      <td>262.4</td>\n",
       "      <td>34.6</td>\n",
       "      <td>23.4</td>\n",
       "      <td>2.8</td>\n",
       "      <td>0.0</td>\n",
       "      <td>0.0</td>\n",
       "      <td>0.0</td>\n",
       "      <td>0.0</td>\n",
       "      <td>0.0</td>\n",
       "    </tr>\n",
       "    <tr>\n",
       "      <th>678998</th>\n",
       "      <td>2020-10-31</td>\n",
       "      <td>Hennepin</td>\n",
       "      <td>Minnesota</td>\n",
       "      <td>36580</td>\n",
       "      <td>NaN</td>\n",
       "      <td>1000</td>\n",
       "      <td>NaN</td>\n",
       "      <td>1209265.0</td>\n",
       "      <td>2184.205966</td>\n",
       "      <td>10.45593</td>\n",
       "      <td>2.586267</td>\n",
       "      <td>11.889588</td>\n",
       "      <td>22.6</td>\n",
       "      <td>16.4</td>\n",
       "      <td>57354.0</td>\n",
       "      <td>1475.0</td>\n",
       "      <td>53.0</td>\n",
       "      <td>2.625397</td>\n",
       "      <td>81.269608</td>\n",
       "      <td>6.6</td>\n",
       "      <td>4205.0</td>\n",
       "      <td>76067.0</td>\n",
       "      <td>167695.0</td>\n",
       "      <td>14012.0</td>\n",
       "      <td>95073.0</td>\n",
       "      <td>718.0</td>\n",
       "      <td>87811.0</td>\n",
       "      <td>864551.0</td>\n",
       "      <td>50.517219</td>\n",
       "      <td>25641.0</td>\n",
       "      <td>141453.0</td>\n",
       "      <td>35616.0</td>\n",
       "      <td>39939.0</td>\n",
       "      <td>151628.0</td>\n",
       "      <td>269347.0</td>\n",
       "      <td>116389.0</td>\n",
       "      <td>11.9</td>\n",
       "      <td>11.787453</td>\n",
       "      <td>262.4</td>\n",
       "      <td>43.3</td>\n",
       "      <td>29.8</td>\n",
       "      <td>13.7</td>\n",
       "      <td>0.0</td>\n",
       "      <td>0.0</td>\n",
       "      <td>0.0</td>\n",
       "      <td>0.0</td>\n",
       "      <td>0.0</td>\n",
       "    </tr>\n",
       "  </tbody>\n",
       "</table>\n",
       "<p>234 rows × 47 columns</p>\n",
       "</div>"
      ],
      "text/plain": [
       "          newdate    county      state  cases  ...  fog  rain  snow  hail\n",
       "1476   2020-03-12  Hennepin  Minnesota      1  ...  0.0   1.0   0.0   0.0\n",
       "1757   2020-03-13  Hennepin  Minnesota      3  ...  0.0   0.0   0.0   0.0\n",
       "2098   2020-03-14  Hennepin  Minnesota      6  ...  0.0   0.0   0.0   0.0\n",
       "2497   2020-03-15  Hennepin  Minnesota     12  ...  0.0   0.0   0.0   0.0\n",
       "2942   2020-03-16  Hennepin  Minnesota     26  ...  1.0   0.0   1.0   0.0\n",
       "...           ...       ...        ...    ...  ...  ...   ...   ...   ...\n",
       "666126 2020-10-27  Hennepin  Minnesota  34657  ...  0.0   0.0   0.0   0.0\n",
       "669344 2020-10-28  Hennepin  Minnesota  34988  ...  0.0   0.0   0.0   0.0\n",
       "672562 2020-10-29  Hennepin  Minnesota  35484  ...  0.0   0.0   0.0   0.0\n",
       "675780 2020-10-30  Hennepin  Minnesota  36126  ...  0.0   0.0   0.0   0.0\n",
       "678998 2020-10-31  Hennepin  Minnesota  36580  ...  0.0   0.0   0.0   0.0\n",
       "\n",
       "[234 rows x 47 columns]"
      ]
     },
     "execution_count": 21,
     "metadata": {
      "tags": []
     },
     "output_type": "execute_result"
    }
   ],
   "source": [
    "df2[df2['county']=='Hennepin'][df2['state']=='Minnesota']"
   ]
  },
  {
   "cell_type": "code",
   "execution_count": null,
   "metadata": {
    "colab": {
     "base_uri": "https://localhost:8080/"
    },
    "executionInfo": {
     "elapsed": 1494,
     "status": "ok",
     "timestamp": 1606821126858,
     "user": {
      "displayName": "Dev B",
      "photoUrl": "",
      "userId": "15294155916341060001"
     },
     "user_tz": -330
    },
    "id": "Tj1FEuZ4qTKQ",
    "outputId": "fd35c142-0547-42c6-e205-74c729c555a3"
   },
   "outputs": [
    {
     "data": {
      "text/plain": [
       "(680879, 47)"
      ]
     },
     "execution_count": 21,
     "metadata": {
      "tags": []
     },
     "output_type": "execute_result"
    }
   ],
   "source": [
    "df2.shape"
   ]
  },
  {
   "cell_type": "code",
   "execution_count": null,
   "metadata": {
    "id": "YkGxxUDiOp-C"
   },
   "outputs": [],
   "source": [
    "col_lst = list(df2.columns)"
   ]
  },
  {
   "cell_type": "code",
   "execution_count": null,
   "metadata": {
    "colab": {
     "base_uri": "https://localhost:8080/"
    },
    "executionInfo": {
     "elapsed": 828,
     "status": "ok",
     "timestamp": 1606821130759,
     "user": {
      "displayName": "Dev B",
      "photoUrl": "",
      "userId": "15294155916341060001"
     },
     "user_tz": -330
    },
    "id": "NK3VC9VFOtpi",
    "outputId": "4b947047-43db-4923-b872-a45ab5bfcbbb"
   },
   "outputs": [
    {
     "data": {
      "text/plain": [
       "['newdate',\n",
       " 'county',\n",
       " 'state',\n",
       " 'cases',\n",
       " 'case_cnt',\n",
       " 'deaths',\n",
       " 'death_cnt',\n",
       " 'total_population',\n",
       " 'population_density_per_sqmi',\n",
       " 'percent_fair_or_poor_health',\n",
       " 'average_number_of_physically_unhealthy_days',\n",
       " 'percent_smokers',\n",
       " 'percent_adults_with_obesity',\n",
       " 'percent_physically_inactive',\n",
       " 'num_uninsured',\n",
       " 'num_primary_care_physicians',\n",
       " 'percent_vaccinated',\n",
       " 'overcrowding',\n",
       " 'life_expectancy',\n",
       " 'percent_adults_with_diabetes',\n",
       " 'num_hiv_cases',\n",
       " 'median_household_income',\n",
       " 'num_black',\n",
       " 'num_american_indian_alaska_native',\n",
       " 'num_asian',\n",
       " 'num_native_hawaiian_other_pacific_islander',\n",
       " 'num_hispanic',\n",
       " 'num_non_hispanic_white',\n",
       " 'percent_female',\n",
       " 'num_rural',\n",
       " 'num_below_poverty',\n",
       " 'num_unemployed_CDC',\n",
       " 'per_capita_income',\n",
       " 'num_age_65_and_older',\n",
       " 'num_age_17_and_younger',\n",
       " 'num_disabled',\n",
       " 'percent_below_poverty',\n",
       " 'km_to_closest_station',\n",
       " 'ELEV_M',\n",
       " 'mean_temp',\n",
       " 'dewpoint',\n",
       " 'wind_speed',\n",
       " 'precipitation',\n",
       " 'fog',\n",
       " 'rain',\n",
       " 'snow',\n",
       " 'hail']"
      ]
     },
     "execution_count": 23,
     "metadata": {
      "tags": []
     },
     "output_type": "execute_result"
    }
   ],
   "source": [
    "col_lst"
   ]
  },
  {
   "cell_type": "code",
   "execution_count": null,
   "metadata": {
    "id": "4zNFoEMtO2zo"
   },
   "outputs": [],
   "source": [
    "del col_lst[0:7]"
   ]
  },
  {
   "cell_type": "code",
   "execution_count": null,
   "metadata": {
    "colab": {
     "base_uri": "https://localhost:8080/"
    },
    "executionInfo": {
     "elapsed": 1272,
     "status": "ok",
     "timestamp": 1606821137540,
     "user": {
      "displayName": "Dev B",
      "photoUrl": "",
      "userId": "15294155916341060001"
     },
     "user_tz": -330
    },
    "id": "4aTvhA_NQdVe",
    "outputId": "84b615b6-c61f-4c90-affa-25b220d24d80"
   },
   "outputs": [
    {
     "data": {
      "text/plain": [
       "['total_population',\n",
       " 'population_density_per_sqmi',\n",
       " 'percent_fair_or_poor_health',\n",
       " 'average_number_of_physically_unhealthy_days',\n",
       " 'percent_smokers',\n",
       " 'percent_adults_with_obesity',\n",
       " 'percent_physically_inactive',\n",
       " 'num_uninsured',\n",
       " 'num_primary_care_physicians',\n",
       " 'percent_vaccinated',\n",
       " 'overcrowding',\n",
       " 'life_expectancy',\n",
       " 'percent_adults_with_diabetes',\n",
       " 'num_hiv_cases',\n",
       " 'median_household_income',\n",
       " 'num_black',\n",
       " 'num_american_indian_alaska_native',\n",
       " 'num_asian',\n",
       " 'num_native_hawaiian_other_pacific_islander',\n",
       " 'num_hispanic',\n",
       " 'num_non_hispanic_white',\n",
       " 'percent_female',\n",
       " 'num_rural',\n",
       " 'num_below_poverty',\n",
       " 'num_unemployed_CDC',\n",
       " 'per_capita_income',\n",
       " 'num_age_65_and_older',\n",
       " 'num_age_17_and_younger',\n",
       " 'num_disabled',\n",
       " 'percent_below_poverty',\n",
       " 'km_to_closest_station',\n",
       " 'ELEV_M',\n",
       " 'mean_temp',\n",
       " 'dewpoint',\n",
       " 'wind_speed',\n",
       " 'precipitation',\n",
       " 'fog',\n",
       " 'rain',\n",
       " 'snow',\n",
       " 'hail']"
      ]
     },
     "execution_count": 25,
     "metadata": {
      "tags": []
     },
     "output_type": "execute_result"
    }
   ],
   "source": [
    "col_lst"
   ]
  },
  {
   "cell_type": "code",
   "execution_count": null,
   "metadata": {
    "id": "K5rGQv9NdF_x"
   },
   "outputs": [],
   "source": [
    "df3 = pd.DataFrame(df2)"
   ]
  },
  {
   "cell_type": "code",
   "execution_count": null,
   "metadata": {
    "id": "RwKvch3JODid"
   },
   "outputs": [],
   "source": [
    "df3.dropna(axis =0, subset=col_lst, how='all', inplace=True)"
   ]
  },
  {
   "cell_type": "code",
   "execution_count": null,
   "metadata": {
    "colab": {
     "base_uri": "https://localhost:8080/"
    },
    "executionInfo": {
     "elapsed": 869,
     "status": "ok",
     "timestamp": 1606821145282,
     "user": {
      "displayName": "Dev B",
      "photoUrl": "",
      "userId": "15294155916341060001"
     },
     "user_tz": -330
    },
    "id": "iVQ46WwcR52T",
    "outputId": "48734310-2475-4835-ade4-b6cf737200f1"
   },
   "outputs": [
    {
     "data": {
      "text/plain": [
       "(665900, 47)"
      ]
     },
     "execution_count": 28,
     "metadata": {
      "tags": []
     },
     "output_type": "execute_result"
    }
   ],
   "source": [
    "df3.shape"
   ]
  },
  {
   "cell_type": "code",
   "execution_count": null,
   "metadata": {
    "id": "aOJhSVAPhDmH"
   },
   "outputs": [],
   "source": [
    "df3.drop(['cases','deaths'],axis=1, inplace=True)"
   ]
  },
  {
   "cell_type": "code",
   "execution_count": null,
   "metadata": {
    "colab": {
     "base_uri": "https://localhost:8080/"
    },
    "executionInfo": {
     "elapsed": 1200,
     "status": "ok",
     "timestamp": 1606821151147,
     "user": {
      "displayName": "Dev B",
      "photoUrl": "",
      "userId": "15294155916341060001"
     },
     "user_tz": -330
    },
    "id": "Wv3zcv_fgErS",
    "outputId": "8f931b51-5dd9-4653-f7ef-280eb0ad589d"
   },
   "outputs": [
    {
     "data": {
      "text/plain": [
       "newdate                                             0\n",
       "county                                              0\n",
       "state                                               0\n",
       "case_cnt                                         3134\n",
       "death_cnt                                        3134\n",
       "total_population                                    0\n",
       "population_density_per_sqmi                         0\n",
       "percent_fair_or_poor_health                         0\n",
       "average_number_of_physically_unhealthy_days         0\n",
       "percent_smokers                                     0\n",
       "percent_adults_with_obesity                         0\n",
       "percent_physically_inactive                         0\n",
       "num_uninsured                                       0\n",
       "num_primary_care_physicians                     28694\n",
       "percent_vaccinated                               2320\n",
       "overcrowding                                        0\n",
       "life_expectancy                                  8862\n",
       "percent_adults_with_diabetes                        0\n",
       "num_hiv_cases                                  168617\n",
       "median_household_income                             0\n",
       "num_black                                           0\n",
       "num_american_indian_alaska_native                   0\n",
       "num_asian                                           0\n",
       "num_native_hawaiian_other_pacific_islander          0\n",
       "num_hispanic                                        0\n",
       "num_non_hispanic_white                              0\n",
       "percent_female                                      0\n",
       "num_rural                                         903\n",
       "num_below_poverty                                   0\n",
       "num_unemployed_CDC                                  0\n",
       "per_capita_income                                   0\n",
       "num_age_65_and_older                                0\n",
       "num_age_17_and_younger                              0\n",
       "num_disabled                                        0\n",
       "percent_below_poverty                               0\n",
       "km_to_closest_station                               0\n",
       "ELEV_M                                              0\n",
       "mean_temp                                       10477\n",
       "dewpoint                                        56537\n",
       "wind_speed                                      40302\n",
       "precipitation                                   75721\n",
       "fog                                             10472\n",
       "rain                                            10472\n",
       "snow                                            10472\n",
       "hail                                            10472\n",
       "dtype: int64"
      ]
     },
     "execution_count": 30,
     "metadata": {
      "tags": []
     },
     "output_type": "execute_result"
    }
   ],
   "source": [
    "df3.isna().sum()\n",
    "# Now that we have removed rows with all NaNs execpt (death, cases,newdate etc) we need to fill remaining NaN with\n",
    "# median values of individual groups"
   ]
  },
  {
   "cell_type": "code",
   "execution_count": null,
   "metadata": {
    "colab": {
     "base_uri": "https://localhost:8080/"
    },
    "executionInfo": {
     "elapsed": 1241,
     "status": "ok",
     "timestamp": 1606762263580,
     "user": {
      "displayName": "Dev B",
      "photoUrl": "",
      "userId": "15294155916341060001"
     },
     "user_tz": -330
    },
    "id": "beyCtKt8J297",
    "outputId": "5903268d-4db2-4d0d-b99d-3a52ef62598d"
   },
   "outputs": [
    {
     "name": "stdout",
     "output_type": "stream",
     "text": [
      "<class 'pandas.core.frame.DataFrame'>\n",
      "Int64Index: 665900 entries, 0 to 680878\n",
      "Data columns (total 45 columns):\n",
      " #   Column                                       Non-Null Count   Dtype         \n",
      "---  ------                                       --------------   -----         \n",
      " 0   newdate                                      665900 non-null  datetime64[ns]\n",
      " 1   county                                       665900 non-null  object        \n",
      " 2   state                                        665900 non-null  object        \n",
      " 3   case_cnt                                     662766 non-null  float64       \n",
      " 4   death_cnt                                    662766 non-null  float64       \n",
      " 5   total_population                             665900 non-null  float64       \n",
      " 6   population_density_per_sqmi                  665900 non-null  float64       \n",
      " 7   percent_fair_or_poor_health                  665900 non-null  float64       \n",
      " 8   average_number_of_physically_unhealthy_days  665900 non-null  float64       \n",
      " 9   percent_smokers                              665900 non-null  float64       \n",
      " 10  percent_adults_with_obesity                  665900 non-null  float64       \n",
      " 11  percent_physically_inactive                  665900 non-null  float64       \n",
      " 12  num_uninsured                                665900 non-null  float64       \n",
      " 13  num_primary_care_physicians                  637206 non-null  float64       \n",
      " 14  percent_vaccinated                           663580 non-null  float64       \n",
      " 15  overcrowding                                 665900 non-null  float64       \n",
      " 16  life_expectancy                              657038 non-null  float64       \n",
      " 17  percent_adults_with_diabetes                 665900 non-null  float64       \n",
      " 18  num_hiv_cases                                497283 non-null  float64       \n",
      " 19  median_household_income                      665900 non-null  float64       \n",
      " 20  num_black                                    665900 non-null  float64       \n",
      " 21  num_american_indian_alaska_native            665900 non-null  float64       \n",
      " 22  num_asian                                    665900 non-null  float64       \n",
      " 23  num_native_hawaiian_other_pacific_islander   665900 non-null  float64       \n",
      " 24  num_hispanic                                 665900 non-null  float64       \n",
      " 25  num_non_hispanic_white                       665900 non-null  float64       \n",
      " 26  percent_female                               665900 non-null  float64       \n",
      " 27  num_rural                                    664997 non-null  float64       \n",
      " 28  num_below_poverty                            665900 non-null  float64       \n",
      " 29  num_unemployed_CDC                           665900 non-null  float64       \n",
      " 30  per_capita_income                            665900 non-null  float64       \n",
      " 31  num_age_65_and_older                         665900 non-null  float64       \n",
      " 32  num_age_17_and_younger                       665900 non-null  float64       \n",
      " 33  num_disabled                                 665900 non-null  float64       \n",
      " 34  percent_below_poverty                        665900 non-null  float64       \n",
      " 35  km_to_closest_station                        665900 non-null  float64       \n",
      " 36  ELEV_M                                       665900 non-null  float64       \n",
      " 37  mean_temp                                    655423 non-null  float64       \n",
      " 38  dewpoint                                     609363 non-null  float64       \n",
      " 39  wind_speed                                   625598 non-null  float64       \n",
      " 40  precipitation                                590179 non-null  float64       \n",
      " 41  fog                                          655428 non-null  float64       \n",
      " 42  rain                                         655428 non-null  float64       \n",
      " 43  snow                                         655428 non-null  float64       \n",
      " 44  hail                                         655428 non-null  float64       \n",
      "dtypes: datetime64[ns](1), float64(42), object(2)\n",
      "memory usage: 233.7+ MB\n"
     ]
    }
   ],
   "source": [
    "df3.info()"
   ]
  },
  {
   "cell_type": "code",
   "execution_count": null,
   "metadata": {
    "id": "xtzwKHJXvph1"
   },
   "outputs": [],
   "source": [
    "df3_test = pd.DataFrame(df3)"
   ]
  },
  {
   "cell_type": "code",
   "execution_count": null,
   "metadata": {
    "id": "iGOl7YdHv3MR"
   },
   "outputs": [],
   "source": [
    "#df3_test.groupby(['county','state']).isnull().all()\n",
    "#df3_test.set_index(['county','state']).isnull().groupby(['county','state']).all() --works\n",
    "#vals = [(i['county'].iloc[0],i.columns[i.isnull().all()].tolist()) for _,i in df3_test.groupby(['county'])]"
   ]
  },
  {
   "cell_type": "code",
   "execution_count": null,
   "metadata": {
    "id": "-SCDi7zm0Erk"
   },
   "outputs": [],
   "source": [
    "#vals"
   ]
  },
  {
   "cell_type": "code",
   "execution_count": null,
   "metadata": {
    "id": "MMytQeAX8y4j"
   },
   "outputs": [],
   "source": [
    "# Collect all features which still have NaN values. Some of these features have entire counties with NaN values. For such cases we will replace\n",
    "# these NaN values with mean values for the entire State."
   ]
  },
  {
   "cell_type": "code",
   "execution_count": null,
   "metadata": {
    "id": "oGeCmvmP9QcZ"
   },
   "outputs": [],
   "source": [
    "nan_lst = df3.isna().sum()"
   ]
  },
  {
   "cell_type": "code",
   "execution_count": null,
   "metadata": {
    "id": "J7D_IjcV9WWJ"
   },
   "outputs": [],
   "source": [
    "Nan_less = nan_lst != 0\n",
    "Nan_cases = Nan_less.index[Nan_less].tolist()"
   ]
  },
  {
   "cell_type": "code",
   "execution_count": null,
   "metadata": {
    "colab": {
     "base_uri": "https://localhost:8080/"
    },
    "executionInfo": {
     "elapsed": 1027,
     "status": "ok",
     "timestamp": 1606821164691,
     "user": {
      "displayName": "Dev B",
      "photoUrl": "",
      "userId": "15294155916341060001"
     },
     "user_tz": -330
    },
    "id": "zHTkHEZo-Pgt",
    "outputId": "8b346d1e-6d42-4580-c36f-d66a6c8b539c"
   },
   "outputs": [
    {
     "data": {
      "text/plain": [
       "['case_cnt',\n",
       " 'death_cnt',\n",
       " 'num_primary_care_physicians',\n",
       " 'percent_vaccinated',\n",
       " 'life_expectancy',\n",
       " 'num_hiv_cases',\n",
       " 'num_rural',\n",
       " 'mean_temp',\n",
       " 'dewpoint',\n",
       " 'wind_speed',\n",
       " 'precipitation',\n",
       " 'fog',\n",
       " 'rain',\n",
       " 'snow',\n",
       " 'hail']"
      ]
     },
     "execution_count": 33,
     "metadata": {
      "tags": []
     },
     "output_type": "execute_result"
    }
   ],
   "source": [
    "Nan_cases"
   ]
  },
  {
   "cell_type": "code",
   "execution_count": null,
   "metadata": {
    "id": "bNbglOCkhmHD"
   },
   "outputs": [],
   "source": [
    "# we'll treat case_cnt and death_cnt later. Removing from current list\n",
    "del Nan_cases[0:2]"
   ]
  },
  {
   "cell_type": "code",
   "execution_count": null,
   "metadata": {
    "colab": {
     "base_uri": "https://localhost:8080/"
    },
    "executionInfo": {
     "elapsed": 971,
     "status": "ok",
     "timestamp": 1606821172334,
     "user": {
      "displayName": "Dev B",
      "photoUrl": "",
      "userId": "15294155916341060001"
     },
     "user_tz": -330
    },
    "id": "n0E0nAFdh0Ln",
    "outputId": "b6bd2692-d960-43ce-9983-04f51379ab25"
   },
   "outputs": [
    {
     "data": {
      "text/plain": [
       "['num_primary_care_physicians',\n",
       " 'percent_vaccinated',\n",
       " 'life_expectancy',\n",
       " 'num_hiv_cases',\n",
       " 'num_rural',\n",
       " 'mean_temp',\n",
       " 'dewpoint',\n",
       " 'wind_speed',\n",
       " 'precipitation',\n",
       " 'fog',\n",
       " 'rain',\n",
       " 'snow',\n",
       " 'hail']"
      ]
     },
     "execution_count": 35,
     "metadata": {
      "tags": []
     },
     "output_type": "execute_result"
    }
   ],
   "source": [
    "Nan_cases"
   ]
  },
  {
   "cell_type": "code",
   "execution_count": null,
   "metadata": {
    "id": "PAsEwY4nVDgt"
   },
   "outputs": [],
   "source": [
    "# First let's replace NaN for those counties where some values are missing in the above features.\n",
    "# Remember, there are two types of NaN cases, i. where a particular county has all NaN values for a particular feature and,\n",
    "# ii. where only few cells are NaN in a county.\n",
    "# We'll treat both these NaN cases by first grouping at State level for case i. and grouping at County and State level for case ii\n",
    "# The objective is to replace NaN values for case i with mean value of the feature at State level while for case ii replace NaN values with \n",
    "# mean value at county level of that feature\n",
    "# Eg. 'num_hiv_cases' - for some counties this feature has some values so where it is NaN at county level we'll replace with county mean\n",
    "# While for some counties it is all NaN and for this we'll replace these NaNs with State level mean to which this county belongs to."
   ]
  },
  {
   "cell_type": "code",
   "execution_count": null,
   "metadata": {
    "id": "lI6TgYYrWhDQ"
   },
   "outputs": [],
   "source": [
    "# looping all the features in Nan_cases above\n",
    "for ftr in Nan_cases:\n",
    "    df3[ftr] = df3[ftr].fillna(df3.groupby(['county','state'])[ftr].transform('median'))\n",
    "    ##df3[ftr] = df3[ftr].fillna(df3.groupby(['county','state'])[ftr].median)\n",
    "    #df3[ftr] = df3.groupby(['county','state']).transform(lambda x: x.fillna(x.median()))"
   ]
  },
  {
   "cell_type": "code",
   "execution_count": null,
   "metadata": {
    "colab": {
     "base_uri": "https://localhost:8080/"
    },
    "executionInfo": {
     "elapsed": 1290,
     "status": "ok",
     "timestamp": 1606821183801,
     "user": {
      "displayName": "Dev B",
      "photoUrl": "",
      "userId": "15294155916341060001"
     },
     "user_tz": -330
    },
    "id": "Ldrlcr2lU9qO",
    "outputId": "dbe490f3-3a62-485b-f43a-ba5250c7a7d4"
   },
   "outputs": [
    {
     "data": {
      "text/plain": [
       "(665900, 45)"
      ]
     },
     "execution_count": 37,
     "metadata": {
      "tags": []
     },
     "output_type": "execute_result"
    }
   ],
   "source": [
    "df3.shape"
   ]
  },
  {
   "cell_type": "code",
   "execution_count": null,
   "metadata": {
    "colab": {
     "base_uri": "https://localhost:8080/"
    },
    "executionInfo": {
     "elapsed": 1591,
     "status": "ok",
     "timestamp": 1606821185845,
     "user": {
      "displayName": "Dev B",
      "photoUrl": "",
      "userId": "15294155916341060001"
     },
     "user_tz": -330
    },
    "id": "ZtoFnG_u_Ma1",
    "outputId": "ac74d565-1987-4e1b-f78b-053fdb0a2c4a"
   },
   "outputs": [
    {
     "name": "stdout",
     "output_type": "stream",
     "text": [
      "<class 'pandas.core.frame.DataFrame'>\n",
      "Int64Index: 665900 entries, 0 to 680878\n",
      "Data columns (total 45 columns):\n",
      " #   Column                                       Non-Null Count   Dtype         \n",
      "---  ------                                       --------------   -----         \n",
      " 0   newdate                                      665900 non-null  datetime64[ns]\n",
      " 1   county                                       665900 non-null  object        \n",
      " 2   state                                        665900 non-null  object        \n",
      " 3   case_cnt                                     662766 non-null  float64       \n",
      " 4   death_cnt                                    662766 non-null  float64       \n",
      " 5   total_population                             665900 non-null  float64       \n",
      " 6   population_density_per_sqmi                  665900 non-null  float64       \n",
      " 7   percent_fair_or_poor_health                  665900 non-null  float64       \n",
      " 8   average_number_of_physically_unhealthy_days  665900 non-null  float64       \n",
      " 9   percent_smokers                              665900 non-null  float64       \n",
      " 10  percent_adults_with_obesity                  665900 non-null  float64       \n",
      " 11  percent_physically_inactive                  665900 non-null  float64       \n",
      " 12  num_uninsured                                665900 non-null  float64       \n",
      " 13  num_primary_care_physicians                  637206 non-null  float64       \n",
      " 14  percent_vaccinated                           663580 non-null  float64       \n",
      " 15  overcrowding                                 665900 non-null  float64       \n",
      " 16  life_expectancy                              657038 non-null  float64       \n",
      " 17  percent_adults_with_diabetes                 665900 non-null  float64       \n",
      " 18  num_hiv_cases                                497283 non-null  float64       \n",
      " 19  median_household_income                      665900 non-null  float64       \n",
      " 20  num_black                                    665900 non-null  float64       \n",
      " 21  num_american_indian_alaska_native            665900 non-null  float64       \n",
      " 22  num_asian                                    665900 non-null  float64       \n",
      " 23  num_native_hawaiian_other_pacific_islander   665900 non-null  float64       \n",
      " 24  num_hispanic                                 665900 non-null  float64       \n",
      " 25  num_non_hispanic_white                       665900 non-null  float64       \n",
      " 26  percent_female                               665900 non-null  float64       \n",
      " 27  num_rural                                    664997 non-null  float64       \n",
      " 28  num_below_poverty                            665900 non-null  float64       \n",
      " 29  num_unemployed_CDC                           665900 non-null  float64       \n",
      " 30  per_capita_income                            665900 non-null  float64       \n",
      " 31  num_age_65_and_older                         665900 non-null  float64       \n",
      " 32  num_age_17_and_younger                       665900 non-null  float64       \n",
      " 33  num_disabled                                 665900 non-null  float64       \n",
      " 34  percent_below_poverty                        665900 non-null  float64       \n",
      " 35  km_to_closest_station                        665900 non-null  float64       \n",
      " 36  ELEV_M                                       665900 non-null  float64       \n",
      " 37  mean_temp                                    665514 non-null  float64       \n",
      " 38  dewpoint                                     619050 non-null  float64       \n",
      " 39  wind_speed                                   638021 non-null  float64       \n",
      " 40  precipitation                                665514 non-null  float64       \n",
      " 41  fog                                          665514 non-null  float64       \n",
      " 42  rain                                         665514 non-null  float64       \n",
      " 43  snow                                         665514 non-null  float64       \n",
      " 44  hail                                         665514 non-null  float64       \n",
      "dtypes: datetime64[ns](1), float64(42), object(2)\n",
      "memory usage: 233.7+ MB\n"
     ]
    }
   ],
   "source": [
    "df3.info()"
   ]
  },
  {
   "cell_type": "code",
   "execution_count": null,
   "metadata": {
    "colab": {
     "base_uri": "https://localhost:8080/"
    },
    "executionInfo": {
     "elapsed": 1255,
     "status": "ok",
     "timestamp": 1606821192203,
     "user": {
      "displayName": "Dev B",
      "photoUrl": "",
      "userId": "15294155916341060001"
     },
     "user_tz": -330
    },
    "id": "UJ617JtaXS4T",
    "outputId": "60e7cee5-fcd7-4151-d54b-c7188c518980"
   },
   "outputs": [
    {
     "data": {
      "text/plain": [
       "newdate                                             0\n",
       "county                                              0\n",
       "state                                               0\n",
       "case_cnt                                         3134\n",
       "death_cnt                                        3134\n",
       "total_population                                    0\n",
       "population_density_per_sqmi                         0\n",
       "percent_fair_or_poor_health                         0\n",
       "average_number_of_physically_unhealthy_days         0\n",
       "percent_smokers                                     0\n",
       "percent_adults_with_obesity                         0\n",
       "percent_physically_inactive                         0\n",
       "num_uninsured                                       0\n",
       "num_primary_care_physicians                     28694\n",
       "percent_vaccinated                               2320\n",
       "overcrowding                                        0\n",
       "life_expectancy                                  8862\n",
       "percent_adults_with_diabetes                        0\n",
       "num_hiv_cases                                  168617\n",
       "median_household_income                             0\n",
       "num_black                                           0\n",
       "num_american_indian_alaska_native                   0\n",
       "num_asian                                           0\n",
       "num_native_hawaiian_other_pacific_islander          0\n",
       "num_hispanic                                        0\n",
       "num_non_hispanic_white                              0\n",
       "percent_female                                      0\n",
       "num_rural                                         903\n",
       "num_below_poverty                                   0\n",
       "num_unemployed_CDC                                  0\n",
       "per_capita_income                                   0\n",
       "num_age_65_and_older                                0\n",
       "num_age_17_and_younger                              0\n",
       "num_disabled                                        0\n",
       "percent_below_poverty                               0\n",
       "km_to_closest_station                               0\n",
       "ELEV_M                                              0\n",
       "mean_temp                                         386\n",
       "dewpoint                                        46850\n",
       "wind_speed                                      27879\n",
       "precipitation                                     386\n",
       "fog                                               386\n",
       "rain                                              386\n",
       "snow                                              386\n",
       "hail                                              386\n",
       "dtype: int64"
      ]
     },
     "execution_count": 39,
     "metadata": {
      "tags": []
     },
     "output_type": "execute_result"
    }
   ],
   "source": [
    "# check if any NaN columns are reduced\n",
    "df3.isna().sum()"
   ]
  },
  {
   "cell_type": "code",
   "execution_count": null,
   "metadata": {
    "id": "76yPUMA1GSmb"
   },
   "outputs": [],
   "source": [
    "#df3.to_csv('/content/gdrive/My Drive/Capstone/nan_worksheet_v2.csv')\n",
    "# It is established by observing the worksheet exported above that all such counties having both Na and numerical values for features\n",
    "# have been updated for NaN. THe NaN have been replacd with median of that feature for the county."
   ]
  },
  {
   "cell_type": "code",
   "execution_count": null,
   "metadata": {
    "id": "Ud8k68mXXmlk"
   },
   "outputs": [],
   "source": [
    "# The Nan values for some features which had both NaN and numeric values for a county have been replaced by mean values of that feature\n",
    "# for the county.\n",
    "# Let's now replace the remaining Nan with state level mean for features"
   ]
  },
  {
   "cell_type": "code",
   "execution_count": null,
   "metadata": {
    "id": "vwoKL6dUYIrT"
   },
   "outputs": [],
   "source": [
    "nan_lst1 = df3.isna().sum()"
   ]
  },
  {
   "cell_type": "code",
   "execution_count": null,
   "metadata": {
    "id": "1dmqZBWyYMoD"
   },
   "outputs": [],
   "source": [
    "Nan_less1 = nan_lst1 != 0\n",
    "Nan_cases1 = Nan_less1.index[Nan_less1].tolist()"
   ]
  },
  {
   "cell_type": "code",
   "execution_count": null,
   "metadata": {
    "colab": {
     "base_uri": "https://localhost:8080/"
    },
    "executionInfo": {
     "elapsed": 1200,
     "status": "ok",
     "timestamp": 1606821203452,
     "user": {
      "displayName": "Dev B",
      "photoUrl": "",
      "userId": "15294155916341060001"
     },
     "user_tz": -330
    },
    "id": "7bGEHFfgYSiF",
    "outputId": "24ce18fb-2d11-4818-f333-ef625166bd39"
   },
   "outputs": [
    {
     "data": {
      "text/plain": [
       "['case_cnt',\n",
       " 'death_cnt',\n",
       " 'num_primary_care_physicians',\n",
       " 'percent_vaccinated',\n",
       " 'life_expectancy',\n",
       " 'num_hiv_cases',\n",
       " 'num_rural',\n",
       " 'mean_temp',\n",
       " 'dewpoint',\n",
       " 'wind_speed',\n",
       " 'precipitation',\n",
       " 'fog',\n",
       " 'rain',\n",
       " 'snow',\n",
       " 'hail']"
      ]
     },
     "execution_count": 42,
     "metadata": {
      "tags": []
     },
     "output_type": "execute_result"
    }
   ],
   "source": [
    "Nan_cases1"
   ]
  },
  {
   "cell_type": "code",
   "execution_count": null,
   "metadata": {
    "id": "zpaK5WAyiDzv"
   },
   "outputs": [],
   "source": [
    "# remove case_cnt and death_cnt\n",
    "del Nan_cases1[0:2]"
   ]
  },
  {
   "cell_type": "code",
   "execution_count": null,
   "metadata": {
    "colab": {
     "base_uri": "https://localhost:8080/"
    },
    "executionInfo": {
     "elapsed": 851,
     "status": "ok",
     "timestamp": 1606821208526,
     "user": {
      "displayName": "Dev B",
      "photoUrl": "",
      "userId": "15294155916341060001"
     },
     "user_tz": -330
    },
    "id": "SDUxyi2CiMHp",
    "outputId": "bfe6904c-a876-45c3-b213-12cf2f35cb40"
   },
   "outputs": [
    {
     "data": {
      "text/plain": [
       "['num_primary_care_physicians',\n",
       " 'percent_vaccinated',\n",
       " 'life_expectancy',\n",
       " 'num_hiv_cases',\n",
       " 'num_rural',\n",
       " 'mean_temp',\n",
       " 'dewpoint',\n",
       " 'wind_speed',\n",
       " 'precipitation',\n",
       " 'fog',\n",
       " 'rain',\n",
       " 'snow',\n",
       " 'hail']"
      ]
     },
     "execution_count": 44,
     "metadata": {
      "tags": []
     },
     "output_type": "execute_result"
    }
   ],
   "source": [
    "Nan_cases1"
   ]
  },
  {
   "cell_type": "code",
   "execution_count": null,
   "metadata": {
    "id": "JcHr3-_WYXvh"
   },
   "outputs": [],
   "source": [
    "# looping all the features in Nan_cases above\n",
    "for ftr1 in Nan_cases1:\n",
    "    df3[ftr1] = df3[ftr1].fillna(df3.groupby(['state'])[ftr1].transform('median'))"
   ]
  },
  {
   "cell_type": "code",
   "execution_count": null,
   "metadata": {
    "colab": {
     "base_uri": "https://localhost:8080/"
    },
    "executionInfo": {
     "elapsed": 1500,
     "status": "ok",
     "timestamp": 1606821214876,
     "user": {
      "displayName": "Dev B",
      "photoUrl": "",
      "userId": "15294155916341060001"
     },
     "user_tz": -330
    },
    "id": "CoOTdJXQgkkU",
    "outputId": "d484ca0f-ac33-42d9-dc7b-14d7f67931a1"
   },
   "outputs": [
    {
     "name": "stdout",
     "output_type": "stream",
     "text": [
      "<class 'pandas.core.frame.DataFrame'>\n",
      "Int64Index: 665900 entries, 0 to 680878\n",
      "Data columns (total 45 columns):\n",
      " #   Column                                       Non-Null Count   Dtype         \n",
      "---  ------                                       --------------   -----         \n",
      " 0   newdate                                      665900 non-null  datetime64[ns]\n",
      " 1   county                                       665900 non-null  object        \n",
      " 2   state                                        665900 non-null  object        \n",
      " 3   case_cnt                                     662766 non-null  float64       \n",
      " 4   death_cnt                                    662766 non-null  float64       \n",
      " 5   total_population                             665900 non-null  float64       \n",
      " 6   population_density_per_sqmi                  665900 non-null  float64       \n",
      " 7   percent_fair_or_poor_health                  665900 non-null  float64       \n",
      " 8   average_number_of_physically_unhealthy_days  665900 non-null  float64       \n",
      " 9   percent_smokers                              665900 non-null  float64       \n",
      " 10  percent_adults_with_obesity                  665900 non-null  float64       \n",
      " 11  percent_physically_inactive                  665900 non-null  float64       \n",
      " 12  num_uninsured                                665900 non-null  float64       \n",
      " 13  num_primary_care_physicians                  665900 non-null  float64       \n",
      " 14  percent_vaccinated                           665900 non-null  float64       \n",
      " 15  overcrowding                                 665900 non-null  float64       \n",
      " 16  life_expectancy                              665900 non-null  float64       \n",
      " 17  percent_adults_with_diabetes                 665900 non-null  float64       \n",
      " 18  num_hiv_cases                                629354 non-null  float64       \n",
      " 19  median_household_income                      665900 non-null  float64       \n",
      " 20  num_black                                    665900 non-null  float64       \n",
      " 21  num_american_indian_alaska_native            665900 non-null  float64       \n",
      " 22  num_asian                                    665900 non-null  float64       \n",
      " 23  num_native_hawaiian_other_pacific_islander   665900 non-null  float64       \n",
      " 24  num_hispanic                                 665900 non-null  float64       \n",
      " 25  num_non_hispanic_white                       665900 non-null  float64       \n",
      " 26  percent_female                               665900 non-null  float64       \n",
      " 27  num_rural                                    665900 non-null  float64       \n",
      " 28  num_below_poverty                            665900 non-null  float64       \n",
      " 29  num_unemployed_CDC                           665900 non-null  float64       \n",
      " 30  per_capita_income                            665900 non-null  float64       \n",
      " 31  num_age_65_and_older                         665900 non-null  float64       \n",
      " 32  num_age_17_and_younger                       665900 non-null  float64       \n",
      " 33  num_disabled                                 665900 non-null  float64       \n",
      " 34  percent_below_poverty                        665900 non-null  float64       \n",
      " 35  km_to_closest_station                        665900 non-null  float64       \n",
      " 36  ELEV_M                                       665900 non-null  float64       \n",
      " 37  mean_temp                                    665900 non-null  float64       \n",
      " 38  dewpoint                                     665661 non-null  float64       \n",
      " 39  wind_speed                                   665900 non-null  float64       \n",
      " 40  precipitation                                665900 non-null  float64       \n",
      " 41  fog                                          665900 non-null  float64       \n",
      " 42  rain                                         665900 non-null  float64       \n",
      " 43  snow                                         665900 non-null  float64       \n",
      " 44  hail                                         665900 non-null  float64       \n",
      "dtypes: datetime64[ns](1), float64(42), object(2)\n",
      "memory usage: 233.7+ MB\n"
     ]
    }
   ],
   "source": [
    "df3.info()"
   ]
  },
  {
   "cell_type": "code",
   "execution_count": null,
   "metadata": {
    "colab": {
     "base_uri": "https://localhost:8080/"
    },
    "executionInfo": {
     "elapsed": 1311,
     "status": "ok",
     "timestamp": 1606821220769,
     "user": {
      "displayName": "Dev B",
      "photoUrl": "",
      "userId": "15294155916341060001"
     },
     "user_tz": -330
    },
    "id": "v8qe02eLYeBh",
    "outputId": "f4dfc52d-d03a-4594-e271-1e372505c0f6"
   },
   "outputs": [
    {
     "data": {
      "text/plain": [
       "newdate                                            0\n",
       "county                                             0\n",
       "state                                              0\n",
       "case_cnt                                        3134\n",
       "death_cnt                                       3134\n",
       "total_population                                   0\n",
       "population_density_per_sqmi                        0\n",
       "percent_fair_or_poor_health                        0\n",
       "average_number_of_physically_unhealthy_days        0\n",
       "percent_smokers                                    0\n",
       "percent_adults_with_obesity                        0\n",
       "percent_physically_inactive                        0\n",
       "num_uninsured                                      0\n",
       "num_primary_care_physicians                        0\n",
       "percent_vaccinated                                 0\n",
       "overcrowding                                       0\n",
       "life_expectancy                                    0\n",
       "percent_adults_with_diabetes                       0\n",
       "num_hiv_cases                                  36546\n",
       "median_household_income                            0\n",
       "num_black                                          0\n",
       "num_american_indian_alaska_native                  0\n",
       "num_asian                                          0\n",
       "num_native_hawaiian_other_pacific_islander         0\n",
       "num_hispanic                                       0\n",
       "num_non_hispanic_white                             0\n",
       "percent_female                                     0\n",
       "num_rural                                          0\n",
       "num_below_poverty                                  0\n",
       "num_unemployed_CDC                                 0\n",
       "per_capita_income                                  0\n",
       "num_age_65_and_older                               0\n",
       "num_age_17_and_younger                             0\n",
       "num_disabled                                       0\n",
       "percent_below_poverty                              0\n",
       "km_to_closest_station                              0\n",
       "ELEV_M                                             0\n",
       "mean_temp                                          0\n",
       "dewpoint                                         239\n",
       "wind_speed                                         0\n",
       "precipitation                                      0\n",
       "fog                                                0\n",
       "rain                                               0\n",
       "snow                                               0\n",
       "hail                                               0\n",
       "dtype: int64"
      ]
     },
     "execution_count": 47,
     "metadata": {
      "tags": []
     },
     "output_type": "execute_result"
    }
   ],
   "source": [
    "df3.isna().sum()"
   ]
  },
  {
   "cell_type": "code",
   "execution_count": null,
   "metadata": {
    "id": "-qMS0GkLg4Oq"
   },
   "outputs": [],
   "source": [
    "#df3.to_csv('/content/gdrive/My Drive/Capstone/nan_worksheet_v3.csv')\n",
    "# It is established by observing the worksheet exported above that all such counties having only NaN values for features\n",
    "# have been updated for NaN. THe NaN have been replacd with median of that feature for the state."
   ]
  },
  {
   "cell_type": "code",
   "execution_count": null,
   "metadata": {
    "id": "_5LXGChRar4G"
   },
   "outputs": [],
   "source": [
    "# We still see two feaures for which NaN are present.Upon investigation it is observed that these are cases for which the entire States have no\n",
    "# values for the features i.e num_hiv_cases and dew point. \n",
    "# For num_hiv_cases States like, Alaska, Nebraska, Pennsylvania, Northern Mariana Lands and Virgin Islands had no numerical entries\n",
    "# For dew_point , District of Columbia had no numerical values and all NaN\n",
    "\n",
    "# This means that all these Nan can be replaced by the mean values of that feature itself or mean value at Country(US) level"
   ]
  },
  {
   "cell_type": "code",
   "execution_count": null,
   "metadata": {
    "id": "1Sc5VAgleZc7"
   },
   "outputs": [],
   "source": [
    "nan_lst2 = df3.isna().sum()"
   ]
  },
  {
   "cell_type": "code",
   "execution_count": null,
   "metadata": {
    "id": "sspyVyNZedoT"
   },
   "outputs": [],
   "source": [
    "Nan_less2 = nan_lst2 != 0\n",
    "Nan_cases2 = Nan_less2.index[Nan_less2].tolist()"
   ]
  },
  {
   "cell_type": "code",
   "execution_count": null,
   "metadata": {
    "colab": {
     "base_uri": "https://localhost:8080/"
    },
    "executionInfo": {
     "elapsed": 1268,
     "status": "ok",
     "timestamp": 1606821232661,
     "user": {
      "displayName": "Dev B",
      "photoUrl": "",
      "userId": "15294155916341060001"
     },
     "user_tz": -330
    },
    "id": "fK3JQwC9eh4z",
    "outputId": "d0256651-4148-42a9-8f6c-f3a0911a0049"
   },
   "outputs": [
    {
     "data": {
      "text/plain": [
       "['case_cnt', 'death_cnt', 'num_hiv_cases', 'dewpoint']"
      ]
     },
     "execution_count": 50,
     "metadata": {
      "tags": []
     },
     "output_type": "execute_result"
    }
   ],
   "source": [
    "Nan_cases2"
   ]
  },
  {
   "cell_type": "code",
   "execution_count": null,
   "metadata": {
    "id": "jNEM1vhGiW47"
   },
   "outputs": [],
   "source": [
    "del Nan_cases2[0:2]"
   ]
  },
  {
   "cell_type": "code",
   "execution_count": null,
   "metadata": {
    "colab": {
     "base_uri": "https://localhost:8080/"
    },
    "executionInfo": {
     "elapsed": 1741,
     "status": "ok",
     "timestamp": 1606821237985,
     "user": {
      "displayName": "Dev B",
      "photoUrl": "",
      "userId": "15294155916341060001"
     },
     "user_tz": -330
    },
    "id": "-6dy7QfpicoY",
    "outputId": "5f945a13-6280-45d9-d9d5-d260323b6abf"
   },
   "outputs": [
    {
     "data": {
      "text/plain": [
       "['num_hiv_cases', 'dewpoint']"
      ]
     },
     "execution_count": 52,
     "metadata": {
      "tags": []
     },
     "output_type": "execute_result"
    }
   ],
   "source": [
    "Nan_cases2"
   ]
  },
  {
   "cell_type": "code",
   "execution_count": null,
   "metadata": {
    "colab": {
     "base_uri": "https://localhost:8080/"
    },
    "executionInfo": {
     "elapsed": 1980,
     "status": "ok",
     "timestamp": 1606821239695,
     "user": {
      "displayName": "Dev B",
      "photoUrl": "",
      "userId": "15294155916341060001"
     },
     "user_tz": -330
    },
    "id": "T9A4lupzlFs4",
    "outputId": "f41d5a63-56e5-4d75-d556-bdc7ee3b20fe"
   },
   "outputs": [
    {
     "data": {
      "text/plain": [
       "40.0"
      ]
     },
     "execution_count": 53,
     "metadata": {
      "tags": []
     },
     "output_type": "execute_result"
    }
   ],
   "source": [
    "df3['num_hiv_cases'].median()"
   ]
  },
  {
   "cell_type": "code",
   "execution_count": null,
   "metadata": {
    "colab": {
     "base_uri": "https://localhost:8080/"
    },
    "executionInfo": {
     "elapsed": 1007,
     "status": "ok",
     "timestamp": 1606821239697,
     "user": {
      "displayName": "Dev B",
      "photoUrl": "",
      "userId": "15294155916341060001"
     },
     "user_tz": -330
    },
    "id": "dab4LerHpRQS",
    "outputId": "a748a018-9982-4866-b378-b5e76304a80a"
   },
   "outputs": [
    {
     "data": {
      "text/plain": [
       "56.6"
      ]
     },
     "execution_count": 54,
     "metadata": {
      "tags": []
     },
     "output_type": "execute_result"
    }
   ],
   "source": [
    "df3['dewpoint'].median()"
   ]
  },
  {
   "cell_type": "code",
   "execution_count": null,
   "metadata": {
    "id": "cqdbZzdZek-Y"
   },
   "outputs": [],
   "source": [
    "# looping all the features in Nan_cases above\n",
    "for ftr2 in Nan_cases2:\n",
    "    df3[ftr2] = df3[ftr2].fillna(df3[ftr2].median())"
   ]
  },
  {
   "cell_type": "code",
   "execution_count": null,
   "metadata": {
    "colab": {
     "base_uri": "https://localhost:8080/"
    },
    "executionInfo": {
     "elapsed": 1299,
     "status": "ok",
     "timestamp": 1606821430193,
     "user": {
      "displayName": "Dev B",
      "photoUrl": "",
      "userId": "15294155916341060001"
     },
     "user_tz": -330
    },
    "id": "0e2bk4nPnCWE",
    "outputId": "b789a296-e780-4981-a8c8-d08706123755"
   },
   "outputs": [
    {
     "name": "stdout",
     "output_type": "stream",
     "text": [
      "<class 'pandas.core.frame.DataFrame'>\n",
      "Int64Index: 665900 entries, 0 to 680878\n",
      "Data columns (total 45 columns):\n",
      " #   Column                                       Non-Null Count   Dtype         \n",
      "---  ------                                       --------------   -----         \n",
      " 0   newdate                                      665900 non-null  datetime64[ns]\n",
      " 1   county                                       665900 non-null  object        \n",
      " 2   state                                        665900 non-null  object        \n",
      " 3   case_cnt                                     662766 non-null  float64       \n",
      " 4   death_cnt                                    662766 non-null  float64       \n",
      " 5   total_population                             665900 non-null  float64       \n",
      " 6   population_density_per_sqmi                  665900 non-null  float64       \n",
      " 7   percent_fair_or_poor_health                  665900 non-null  float64       \n",
      " 8   average_number_of_physically_unhealthy_days  665900 non-null  float64       \n",
      " 9   percent_smokers                              665900 non-null  float64       \n",
      " 10  percent_adults_with_obesity                  665900 non-null  float64       \n",
      " 11  percent_physically_inactive                  665900 non-null  float64       \n",
      " 12  num_uninsured                                665900 non-null  float64       \n",
      " 13  num_primary_care_physicians                  665900 non-null  float64       \n",
      " 14  percent_vaccinated                           665900 non-null  float64       \n",
      " 15  overcrowding                                 665900 non-null  float64       \n",
      " 16  life_expectancy                              665900 non-null  float64       \n",
      " 17  percent_adults_with_diabetes                 665900 non-null  float64       \n",
      " 18  num_hiv_cases                                665900 non-null  float64       \n",
      " 19  median_household_income                      665900 non-null  float64       \n",
      " 20  num_black                                    665900 non-null  float64       \n",
      " 21  num_american_indian_alaska_native            665900 non-null  float64       \n",
      " 22  num_asian                                    665900 non-null  float64       \n",
      " 23  num_native_hawaiian_other_pacific_islander   665900 non-null  float64       \n",
      " 24  num_hispanic                                 665900 non-null  float64       \n",
      " 25  num_non_hispanic_white                       665900 non-null  float64       \n",
      " 26  percent_female                               665900 non-null  float64       \n",
      " 27  num_rural                                    665900 non-null  float64       \n",
      " 28  num_below_poverty                            665900 non-null  float64       \n",
      " 29  num_unemployed_CDC                           665900 non-null  float64       \n",
      " 30  per_capita_income                            665900 non-null  float64       \n",
      " 31  num_age_65_and_older                         665900 non-null  float64       \n",
      " 32  num_age_17_and_younger                       665900 non-null  float64       \n",
      " 33  num_disabled                                 665900 non-null  float64       \n",
      " 34  percent_below_poverty                        665900 non-null  float64       \n",
      " 35  km_to_closest_station                        665900 non-null  float64       \n",
      " 36  ELEV_M                                       665900 non-null  float64       \n",
      " 37  mean_temp                                    665900 non-null  float64       \n",
      " 38  dewpoint                                     665900 non-null  float64       \n",
      " 39  wind_speed                                   665900 non-null  float64       \n",
      " 40  precipitation                                665900 non-null  float64       \n",
      " 41  fog                                          665900 non-null  float64       \n",
      " 42  rain                                         665900 non-null  float64       \n",
      " 43  snow                                         665900 non-null  float64       \n",
      " 44  hail                                         665900 non-null  float64       \n",
      "dtypes: datetime64[ns](1), float64(42), object(2)\n",
      "memory usage: 233.7+ MB\n"
     ]
    }
   ],
   "source": [
    "df3.info()"
   ]
  },
  {
   "cell_type": "code",
   "execution_count": null,
   "metadata": {
    "colab": {
     "base_uri": "https://localhost:8080/"
    },
    "executionInfo": {
     "elapsed": 1317,
     "status": "ok",
     "timestamp": 1606821435507,
     "user": {
      "displayName": "Dev B",
      "photoUrl": "",
      "userId": "15294155916341060001"
     },
     "user_tz": -330
    },
    "id": "jHjmKxNwe5Zh",
    "outputId": "a54e9ea3-0636-4247-8ece-216f6dce2e2d"
   },
   "outputs": [
    {
     "data": {
      "text/plain": [
       "newdate                                           0\n",
       "county                                            0\n",
       "state                                             0\n",
       "case_cnt                                       3134\n",
       "death_cnt                                      3134\n",
       "total_population                                  0\n",
       "population_density_per_sqmi                       0\n",
       "percent_fair_or_poor_health                       0\n",
       "average_number_of_physically_unhealthy_days       0\n",
       "percent_smokers                                   0\n",
       "percent_adults_with_obesity                       0\n",
       "percent_physically_inactive                       0\n",
       "num_uninsured                                     0\n",
       "num_primary_care_physicians                       0\n",
       "percent_vaccinated                                0\n",
       "overcrowding                                      0\n",
       "life_expectancy                                   0\n",
       "percent_adults_with_diabetes                      0\n",
       "num_hiv_cases                                     0\n",
       "median_household_income                           0\n",
       "num_black                                         0\n",
       "num_american_indian_alaska_native                 0\n",
       "num_asian                                         0\n",
       "num_native_hawaiian_other_pacific_islander        0\n",
       "num_hispanic                                      0\n",
       "num_non_hispanic_white                            0\n",
       "percent_female                                    0\n",
       "num_rural                                         0\n",
       "num_below_poverty                                 0\n",
       "num_unemployed_CDC                                0\n",
       "per_capita_income                                 0\n",
       "num_age_65_and_older                              0\n",
       "num_age_17_and_younger                            0\n",
       "num_disabled                                      0\n",
       "percent_below_poverty                             0\n",
       "km_to_closest_station                             0\n",
       "ELEV_M                                            0\n",
       "mean_temp                                         0\n",
       "dewpoint                                          0\n",
       "wind_speed                                        0\n",
       "precipitation                                     0\n",
       "fog                                               0\n",
       "rain                                              0\n",
       "snow                                              0\n",
       "hail                                              0\n",
       "dtype: int64"
      ]
     },
     "execution_count": 58,
     "metadata": {
      "tags": []
     },
     "output_type": "execute_result"
    }
   ],
   "source": [
    "df3.isna().sum()"
   ]
  },
  {
   "cell_type": "markdown",
   "metadata": {
    "id": "VPZp0eVL0Tl_"
   },
   "source": [
    "## Treating Case_cnt and Death_cnt features for negative and NaN values"
   ]
  },
  {
   "cell_type": "code",
   "execution_count": null,
   "metadata": {
    "colab": {
     "base_uri": "https://localhost:8080/",
     "height": 309
    },
    "executionInfo": {
     "elapsed": 1621,
     "status": "ok",
     "timestamp": 1606761308883,
     "user": {
      "displayName": "Dev B",
      "photoUrl": "",
      "userId": "15294155916341060001"
     },
     "user_tz": -330
    },
    "id": "FjIAyhqV1ICZ",
    "outputId": "d9422d9d-7082-4d95-e282-7374f19e6e57"
   },
   "outputs": [
    {
     "data": {
      "text/html": [
       "<div>\n",
       "<style scoped>\n",
       "    .dataframe tbody tr th:only-of-type {\n",
       "        vertical-align: middle;\n",
       "    }\n",
       "\n",
       "    .dataframe tbody tr th {\n",
       "        vertical-align: top;\n",
       "    }\n",
       "\n",
       "    .dataframe thead th {\n",
       "        text-align: right;\n",
       "    }\n",
       "</style>\n",
       "<table border=\"1\" class=\"dataframe\">\n",
       "  <thead>\n",
       "    <tr style=\"text-align: right;\">\n",
       "      <th></th>\n",
       "      <th>newdate</th>\n",
       "      <th>county</th>\n",
       "      <th>state</th>\n",
       "      <th>case_cnt</th>\n",
       "      <th>death_cnt</th>\n",
       "      <th>total_population</th>\n",
       "      <th>population_density_per_sqmi</th>\n",
       "      <th>percent_fair_or_poor_health</th>\n",
       "      <th>average_number_of_physically_unhealthy_days</th>\n",
       "      <th>percent_smokers</th>\n",
       "      <th>percent_adults_with_obesity</th>\n",
       "      <th>percent_physically_inactive</th>\n",
       "      <th>num_uninsured</th>\n",
       "      <th>num_primary_care_physicians</th>\n",
       "      <th>percent_vaccinated</th>\n",
       "      <th>overcrowding</th>\n",
       "      <th>life_expectancy</th>\n",
       "      <th>percent_adults_with_diabetes</th>\n",
       "      <th>num_hiv_cases</th>\n",
       "      <th>median_household_income</th>\n",
       "      <th>num_black</th>\n",
       "      <th>num_american_indian_alaska_native</th>\n",
       "      <th>num_asian</th>\n",
       "      <th>num_native_hawaiian_other_pacific_islander</th>\n",
       "      <th>num_hispanic</th>\n",
       "      <th>num_non_hispanic_white</th>\n",
       "      <th>percent_female</th>\n",
       "      <th>num_rural</th>\n",
       "      <th>num_below_poverty</th>\n",
       "      <th>num_unemployed_CDC</th>\n",
       "      <th>per_capita_income</th>\n",
       "      <th>num_age_65_and_older</th>\n",
       "      <th>num_age_17_and_younger</th>\n",
       "      <th>num_disabled</th>\n",
       "      <th>percent_below_poverty</th>\n",
       "      <th>km_to_closest_station</th>\n",
       "      <th>ELEV_M</th>\n",
       "      <th>mean_temp</th>\n",
       "      <th>dewpoint</th>\n",
       "      <th>wind_speed</th>\n",
       "      <th>precipitation</th>\n",
       "      <th>fog</th>\n",
       "      <th>rain</th>\n",
       "      <th>snow</th>\n",
       "      <th>hail</th>\n",
       "    </tr>\n",
       "  </thead>\n",
       "  <tbody>\n",
       "    <tr>\n",
       "      <th>0</th>\n",
       "      <td>2020-01-21</td>\n",
       "      <td>Snohomish</td>\n",
       "      <td>Washington</td>\n",
       "      <td>0.0</td>\n",
       "      <td>0.0</td>\n",
       "      <td>758649.0</td>\n",
       "      <td>363.586159</td>\n",
       "      <td>14.403971</td>\n",
       "      <td>3.700802</td>\n",
       "      <td>12.962309</td>\n",
       "      <td>28.9</td>\n",
       "      <td>17.8</td>\n",
       "      <td>43121.0</td>\n",
       "      <td>421.0</td>\n",
       "      <td>49.0</td>\n",
       "      <td>2.948407</td>\n",
       "      <td>80.374691</td>\n",
       "      <td>8.2</td>\n",
       "      <td>1017.0</td>\n",
       "      <td>87096.0</td>\n",
       "      <td>27554.0</td>\n",
       "      <td>12877.0</td>\n",
       "      <td>94831.0</td>\n",
       "      <td>5618.0</td>\n",
       "      <td>85109.0</td>\n",
       "      <td>561043.0</td>\n",
       "      <td>49.827402</td>\n",
       "      <td>77179.0</td>\n",
       "      <td>69695.0</td>\n",
       "      <td>25009.0</td>\n",
       "      <td>33883.0</td>\n",
       "      <td>91641.0</td>\n",
       "      <td>175821.0</td>\n",
       "      <td>89280.0</td>\n",
       "      <td>9.3</td>\n",
       "      <td>36.572880</td>\n",
       "      <td>41.8</td>\n",
       "      <td>44.1</td>\n",
       "      <td>40.3</td>\n",
       "      <td>8.3</td>\n",
       "      <td>0.00</td>\n",
       "      <td>0.0</td>\n",
       "      <td>1.0</td>\n",
       "      <td>0.0</td>\n",
       "      <td>0.0</td>\n",
       "    </tr>\n",
       "    <tr>\n",
       "      <th>1</th>\n",
       "      <td>2020-01-22</td>\n",
       "      <td>Snohomish</td>\n",
       "      <td>Washington</td>\n",
       "      <td>0.0</td>\n",
       "      <td>0.0</td>\n",
       "      <td>758649.0</td>\n",
       "      <td>363.586159</td>\n",
       "      <td>14.403971</td>\n",
       "      <td>3.700802</td>\n",
       "      <td>12.962309</td>\n",
       "      <td>28.9</td>\n",
       "      <td>17.8</td>\n",
       "      <td>43121.0</td>\n",
       "      <td>421.0</td>\n",
       "      <td>49.0</td>\n",
       "      <td>2.948407</td>\n",
       "      <td>80.374691</td>\n",
       "      <td>8.2</td>\n",
       "      <td>1017.0</td>\n",
       "      <td>87096.0</td>\n",
       "      <td>27554.0</td>\n",
       "      <td>12877.0</td>\n",
       "      <td>94831.0</td>\n",
       "      <td>5618.0</td>\n",
       "      <td>85109.0</td>\n",
       "      <td>561043.0</td>\n",
       "      <td>49.827402</td>\n",
       "      <td>77179.0</td>\n",
       "      <td>69695.0</td>\n",
       "      <td>25009.0</td>\n",
       "      <td>33883.0</td>\n",
       "      <td>91641.0</td>\n",
       "      <td>175821.0</td>\n",
       "      <td>89280.0</td>\n",
       "      <td>9.3</td>\n",
       "      <td>36.572880</td>\n",
       "      <td>41.8</td>\n",
       "      <td>44.8</td>\n",
       "      <td>40.3</td>\n",
       "      <td>13.2</td>\n",
       "      <td>0.29</td>\n",
       "      <td>0.0</td>\n",
       "      <td>1.0</td>\n",
       "      <td>0.0</td>\n",
       "      <td>0.0</td>\n",
       "    </tr>\n",
       "    <tr>\n",
       "      <th>2</th>\n",
       "      <td>2020-01-23</td>\n",
       "      <td>Snohomish</td>\n",
       "      <td>Washington</td>\n",
       "      <td>0.0</td>\n",
       "      <td>0.0</td>\n",
       "      <td>758649.0</td>\n",
       "      <td>363.586159</td>\n",
       "      <td>14.403971</td>\n",
       "      <td>3.700802</td>\n",
       "      <td>12.962309</td>\n",
       "      <td>28.9</td>\n",
       "      <td>17.8</td>\n",
       "      <td>43121.0</td>\n",
       "      <td>421.0</td>\n",
       "      <td>49.0</td>\n",
       "      <td>2.948407</td>\n",
       "      <td>80.374691</td>\n",
       "      <td>8.2</td>\n",
       "      <td>1017.0</td>\n",
       "      <td>87096.0</td>\n",
       "      <td>27554.0</td>\n",
       "      <td>12877.0</td>\n",
       "      <td>94831.0</td>\n",
       "      <td>5618.0</td>\n",
       "      <td>85109.0</td>\n",
       "      <td>561043.0</td>\n",
       "      <td>49.827402</td>\n",
       "      <td>77179.0</td>\n",
       "      <td>69695.0</td>\n",
       "      <td>25009.0</td>\n",
       "      <td>33883.0</td>\n",
       "      <td>91641.0</td>\n",
       "      <td>175821.0</td>\n",
       "      <td>89280.0</td>\n",
       "      <td>9.3</td>\n",
       "      <td>36.572880</td>\n",
       "      <td>41.8</td>\n",
       "      <td>49.9</td>\n",
       "      <td>47.3</td>\n",
       "      <td>12.0</td>\n",
       "      <td>0.54</td>\n",
       "      <td>0.0</td>\n",
       "      <td>1.0</td>\n",
       "      <td>0.0</td>\n",
       "      <td>0.0</td>\n",
       "    </tr>\n",
       "    <tr>\n",
       "      <th>3</th>\n",
       "      <td>2020-01-24</td>\n",
       "      <td>Cook</td>\n",
       "      <td>Illinois</td>\n",
       "      <td>0.0</td>\n",
       "      <td>0.0</td>\n",
       "      <td>5227575.0</td>\n",
       "      <td>5531.878539</td>\n",
       "      <td>17.140851</td>\n",
       "      <td>3.471088</td>\n",
       "      <td>13.776183</td>\n",
       "      <td>28.0</td>\n",
       "      <td>21.0</td>\n",
       "      <td>437634.0</td>\n",
       "      <td>4863.0</td>\n",
       "      <td>45.0</td>\n",
       "      <td>3.627783</td>\n",
       "      <td>79.415730</td>\n",
       "      <td>9.5</td>\n",
       "      <td>25780.0</td>\n",
       "      <td>63347.0</td>\n",
       "      <td>1193642.0</td>\n",
       "      <td>38253.0</td>\n",
       "      <td>408151.0</td>\n",
       "      <td>3873.0</td>\n",
       "      <td>1323017.0</td>\n",
       "      <td>2180074.0</td>\n",
       "      <td>51.431630</td>\n",
       "      <td>2353.0</td>\n",
       "      <td>856682.0</td>\n",
       "      <td>266397.0</td>\n",
       "      <td>32179.0</td>\n",
       "      <td>677659.0</td>\n",
       "      <td>1186398.0</td>\n",
       "      <td>536288.0</td>\n",
       "      <td>16.7</td>\n",
       "      <td>8.063384</td>\n",
       "      <td>186.5</td>\n",
       "      <td>36.1</td>\n",
       "      <td>34.7</td>\n",
       "      <td>4.8</td>\n",
       "      <td>0.16</td>\n",
       "      <td>1.0</td>\n",
       "      <td>1.0</td>\n",
       "      <td>1.0</td>\n",
       "      <td>0.0</td>\n",
       "    </tr>\n",
       "    <tr>\n",
       "      <th>4</th>\n",
       "      <td>2020-01-24</td>\n",
       "      <td>Snohomish</td>\n",
       "      <td>Washington</td>\n",
       "      <td>0.0</td>\n",
       "      <td>0.0</td>\n",
       "      <td>758649.0</td>\n",
       "      <td>363.586159</td>\n",
       "      <td>14.403971</td>\n",
       "      <td>3.700802</td>\n",
       "      <td>12.962309</td>\n",
       "      <td>28.9</td>\n",
       "      <td>17.8</td>\n",
       "      <td>43121.0</td>\n",
       "      <td>421.0</td>\n",
       "      <td>49.0</td>\n",
       "      <td>2.948407</td>\n",
       "      <td>80.374691</td>\n",
       "      <td>8.2</td>\n",
       "      <td>1017.0</td>\n",
       "      <td>87096.0</td>\n",
       "      <td>27554.0</td>\n",
       "      <td>12877.0</td>\n",
       "      <td>94831.0</td>\n",
       "      <td>5618.0</td>\n",
       "      <td>85109.0</td>\n",
       "      <td>561043.0</td>\n",
       "      <td>49.827402</td>\n",
       "      <td>77179.0</td>\n",
       "      <td>69695.0</td>\n",
       "      <td>25009.0</td>\n",
       "      <td>33883.0</td>\n",
       "      <td>91641.0</td>\n",
       "      <td>175821.0</td>\n",
       "      <td>89280.0</td>\n",
       "      <td>9.3</td>\n",
       "      <td>36.572880</td>\n",
       "      <td>41.8</td>\n",
       "      <td>51.5</td>\n",
       "      <td>46.6</td>\n",
       "      <td>13.0</td>\n",
       "      <td>0.32</td>\n",
       "      <td>0.0</td>\n",
       "      <td>1.0</td>\n",
       "      <td>0.0</td>\n",
       "      <td>0.0</td>\n",
       "    </tr>\n",
       "  </tbody>\n",
       "</table>\n",
       "</div>"
      ],
      "text/plain": [
       "     newdate     county       state  case_cnt  ...  fog  rain  snow  hail\n",
       "0 2020-01-21  Snohomish  Washington       0.0  ...  0.0   1.0   0.0   0.0\n",
       "1 2020-01-22  Snohomish  Washington       0.0  ...  0.0   1.0   0.0   0.0\n",
       "2 2020-01-23  Snohomish  Washington       0.0  ...  0.0   1.0   0.0   0.0\n",
       "3 2020-01-24       Cook    Illinois       0.0  ...  1.0   1.0   1.0   0.0\n",
       "4 2020-01-24  Snohomish  Washington       0.0  ...  0.0   1.0   0.0   0.0\n",
       "\n",
       "[5 rows x 45 columns]"
      ]
     },
     "execution_count": 64,
     "metadata": {
      "tags": []
     },
     "output_type": "execute_result"
    }
   ],
   "source": [
    "df3.head()"
   ]
  },
  {
   "cell_type": "code",
   "execution_count": null,
   "metadata": {
    "id": "9KNEuSDSCK8Q"
   },
   "outputs": [],
   "source": [
    "df4 = pd.DataFrame(df3)"
   ]
  },
  {
   "cell_type": "code",
   "execution_count": null,
   "metadata": {
    "colab": {
     "base_uri": "https://localhost:8080/"
    },
    "executionInfo": {
     "elapsed": 1452,
     "status": "ok",
     "timestamp": 1606821445131,
     "user": {
      "displayName": "Dev B",
      "photoUrl": "",
      "userId": "15294155916341060001"
     },
     "user_tz": -330
    },
    "id": "eU46zUvT3uhF",
    "outputId": "8f179ea0-4b71-4122-da4d-99d0f617bb80"
   },
   "outputs": [
    {
     "data": {
      "text/plain": [
       "newdate                                           0\n",
       "county                                            0\n",
       "state                                             0\n",
       "case_cnt                                       3134\n",
       "death_cnt                                      3134\n",
       "total_population                                  0\n",
       "population_density_per_sqmi                       0\n",
       "percent_fair_or_poor_health                       0\n",
       "average_number_of_physically_unhealthy_days       0\n",
       "percent_smokers                                   0\n",
       "percent_adults_with_obesity                       0\n",
       "percent_physically_inactive                       0\n",
       "num_uninsured                                     0\n",
       "num_primary_care_physicians                       0\n",
       "percent_vaccinated                                0\n",
       "overcrowding                                      0\n",
       "life_expectancy                                   0\n",
       "percent_adults_with_diabetes                      0\n",
       "num_hiv_cases                                     0\n",
       "median_household_income                           0\n",
       "num_black                                         0\n",
       "num_american_indian_alaska_native                 0\n",
       "num_asian                                         0\n",
       "num_native_hawaiian_other_pacific_islander        0\n",
       "num_hispanic                                      0\n",
       "num_non_hispanic_white                            0\n",
       "percent_female                                    0\n",
       "num_rural                                         0\n",
       "num_below_poverty                                 0\n",
       "num_unemployed_CDC                                0\n",
       "per_capita_income                                 0\n",
       "num_age_65_and_older                              0\n",
       "num_age_17_and_younger                            0\n",
       "num_disabled                                      0\n",
       "percent_below_poverty                             0\n",
       "km_to_closest_station                             0\n",
       "ELEV_M                                            0\n",
       "mean_temp                                         0\n",
       "dewpoint                                          0\n",
       "wind_speed                                        0\n",
       "precipitation                                     0\n",
       "fog                                               0\n",
       "rain                                              0\n",
       "snow                                              0\n",
       "hail                                              0\n",
       "dtype: int64"
      ]
     },
     "execution_count": 60,
     "metadata": {
      "tags": []
     },
     "output_type": "execute_result"
    }
   ],
   "source": [
    "df4.isna().sum()"
   ]
  },
  {
   "cell_type": "code",
   "execution_count": null,
   "metadata": {
    "id": "BpjcSNAP2L9I"
   },
   "outputs": [],
   "source": [
    "#df4.ffill(axis=0)\n",
    "# replacing all Nan with previous value in cell. This doesn't work since all the NaN are the last entries at Oct 31, 2020 and hence\n",
    "# the Nan values are in constinuous series of 3134 values i.e number of counties\n",
    "# We'll have to thereby NaN values with median of case_cnt column, simialrly for death_cnt column"
   ]
  },
  {
   "cell_type": "code",
   "execution_count": null,
   "metadata": {
    "id": "i9TYblg44rNn"
   },
   "outputs": [],
   "source": [
    "df4['case_cnt'].fillna((df4['case_cnt'].median()), inplace=True)"
   ]
  },
  {
   "cell_type": "code",
   "execution_count": null,
   "metadata": {
    "colab": {
     "base_uri": "https://localhost:8080/"
    },
    "executionInfo": {
     "elapsed": 1093,
     "status": "ok",
     "timestamp": 1606821451431,
     "user": {
      "displayName": "Dev B",
      "photoUrl": "",
      "userId": "15294155916341060001"
     },
     "user_tz": -330
    },
    "id": "J-0ib65D6_1x",
    "outputId": "b17be31d-b7b9-48a4-9b9c-5155bfa33284"
   },
   "outputs": [
    {
     "data": {
      "text/plain": [
       "0"
      ]
     },
     "execution_count": 62,
     "metadata": {
      "tags": []
     },
     "output_type": "execute_result"
    }
   ],
   "source": [
    "df4['case_cnt'].isna().sum()"
   ]
  },
  {
   "cell_type": "code",
   "execution_count": null,
   "metadata": {
    "id": "_TBRrV717Gih"
   },
   "outputs": [],
   "source": [
    "df4['death_cnt'].fillna((df4['death_cnt'].median()), inplace=True)"
   ]
  },
  {
   "cell_type": "code",
   "execution_count": null,
   "metadata": {
    "colab": {
     "base_uri": "https://localhost:8080/"
    },
    "executionInfo": {
     "elapsed": 956,
     "status": "ok",
     "timestamp": 1606821453325,
     "user": {
      "displayName": "Dev B",
      "photoUrl": "",
      "userId": "15294155916341060001"
     },
     "user_tz": -330
    },
    "id": "-S3zV_ZV8FxG",
    "outputId": "4aeff57c-457c-409e-be2b-ee843e340e9e"
   },
   "outputs": [
    {
     "data": {
      "text/plain": [
       "0"
      ]
     },
     "execution_count": 64,
     "metadata": {
      "tags": []
     },
     "output_type": "execute_result"
    }
   ],
   "source": [
    "df4['death_cnt'].isna().sum()"
   ]
  },
  {
   "cell_type": "code",
   "execution_count": null,
   "metadata": {
    "id": "BODfqtqicuG7"
   },
   "outputs": [],
   "source": [
    "# Replacing all negative values in case_cnt and death_cnt columns with positive values.\n",
    "# Remember, how did we derive case_cnt and death_cnt? By using diff method which yileds a -ve value as the values in case and death columns\n",
    "# were incremental (as they were cumulative).\n",
    "# Approach - \n",
    "# i. Convert all negative values to positive by multiplying with -1\n",
    "# ii. The positive values in case_cnt and death_cnt are those values for which the next day value decreases (which is not correct as the values\n",
    "#     in the columns are incremental/cumulative deaths or cases)\n",
    "# iii. These positive values are converted to negative values when we multiply entire case_cnt and death_cnt columns by -1. \n",
    "# iv. Now replace these negative values with 0 (Reason: We assume that the death or case count didn't increase and hence the difference\n",
    " #    between current and next day is zero )"
   ]
  },
  {
   "cell_type": "code",
   "execution_count": null,
   "metadata": {
    "id": "jjGqj7ZJE_6J"
   },
   "outputs": [],
   "source": [
    "df4['case_cnt']=df4['case_cnt']*-1\n",
    "df4['death_cnt']=df4['death_cnt']*-1"
   ]
  },
  {
   "cell_type": "code",
   "execution_count": null,
   "metadata": {
    "colab": {
     "base_uri": "https://localhost:8080/"
    },
    "executionInfo": {
     "elapsed": 1425,
     "status": "ok",
     "timestamp": 1606821460141,
     "user": {
      "displayName": "Dev B",
      "photoUrl": "",
      "userId": "15294155916341060001"
     },
     "user_tz": -330
    },
    "id": "GR1y0CWLvf18",
    "outputId": "2a4c940e-3e49-4c2a-c9a9-3bb3aae363f0"
   },
   "outputs": [
    {
     "name": "stderr",
     "output_type": "stream",
     "text": [
      "/usr/local/lib/python3.6/dist-packages/ipykernel_launcher.py:1: SettingWithCopyWarning: \n",
      "A value is trying to be set on a copy of a slice from a DataFrame\n",
      "\n",
      "See the caveats in the documentation: https://pandas.pydata.org/pandas-docs/stable/user_guide/indexing.html#returning-a-view-versus-a-copy\n",
      "  \"\"\"Entry point for launching an IPython kernel.\n"
     ]
    }
   ],
   "source": [
    "df4['case_cnt'][df4['case_cnt'] < 0] = 0"
   ]
  },
  {
   "cell_type": "code",
   "execution_count": null,
   "metadata": {
    "colab": {
     "base_uri": "https://localhost:8080/"
    },
    "executionInfo": {
     "elapsed": 1294,
     "status": "ok",
     "timestamp": 1606821462636,
     "user": {
      "displayName": "Dev B",
      "photoUrl": "",
      "userId": "15294155916341060001"
     },
     "user_tz": -330
    },
    "id": "Dnb_ohQe9otT",
    "outputId": "44c86fbd-0b21-4ce6-f6f2-2a41839087f7"
   },
   "outputs": [
    {
     "name": "stderr",
     "output_type": "stream",
     "text": [
      "/usr/local/lib/python3.6/dist-packages/ipykernel_launcher.py:1: SettingWithCopyWarning: \n",
      "A value is trying to be set on a copy of a slice from a DataFrame\n",
      "\n",
      "See the caveats in the documentation: https://pandas.pydata.org/pandas-docs/stable/user_guide/indexing.html#returning-a-view-versus-a-copy\n",
      "  \"\"\"Entry point for launching an IPython kernel.\n"
     ]
    }
   ],
   "source": [
    "df4['death_cnt'][df4['death_cnt'] < 0] = 0"
   ]
  },
  {
   "cell_type": "code",
   "execution_count": null,
   "metadata": {
    "colab": {
     "base_uri": "https://localhost:8080/"
    },
    "executionInfo": {
     "elapsed": 1692,
     "status": "ok",
     "timestamp": 1606821466226,
     "user": {
      "displayName": "Dev B",
      "photoUrl": "",
      "userId": "15294155916341060001"
     },
     "user_tz": -330
    },
    "id": "xlf_--fy9w6i",
    "outputId": "c4d86956-121d-43c1-ef8a-ad3780979b0c"
   },
   "outputs": [
    {
     "name": "stdout",
     "output_type": "stream",
     "text": [
      "<class 'pandas.core.frame.DataFrame'>\n",
      "Int64Index: 665900 entries, 0 to 680878\n",
      "Data columns (total 45 columns):\n",
      " #   Column                                       Non-Null Count   Dtype         \n",
      "---  ------                                       --------------   -----         \n",
      " 0   newdate                                      665900 non-null  datetime64[ns]\n",
      " 1   county                                       665900 non-null  object        \n",
      " 2   state                                        665900 non-null  object        \n",
      " 3   case_cnt                                     665900 non-null  float64       \n",
      " 4   death_cnt                                    665900 non-null  float64       \n",
      " 5   total_population                             665900 non-null  float64       \n",
      " 6   population_density_per_sqmi                  665900 non-null  float64       \n",
      " 7   percent_fair_or_poor_health                  665900 non-null  float64       \n",
      " 8   average_number_of_physically_unhealthy_days  665900 non-null  float64       \n",
      " 9   percent_smokers                              665900 non-null  float64       \n",
      " 10  percent_adults_with_obesity                  665900 non-null  float64       \n",
      " 11  percent_physically_inactive                  665900 non-null  float64       \n",
      " 12  num_uninsured                                665900 non-null  float64       \n",
      " 13  num_primary_care_physicians                  665900 non-null  float64       \n",
      " 14  percent_vaccinated                           665900 non-null  float64       \n",
      " 15  overcrowding                                 665900 non-null  float64       \n",
      " 16  life_expectancy                              665900 non-null  float64       \n",
      " 17  percent_adults_with_diabetes                 665900 non-null  float64       \n",
      " 18  num_hiv_cases                                665900 non-null  float64       \n",
      " 19  median_household_income                      665900 non-null  float64       \n",
      " 20  num_black                                    665900 non-null  float64       \n",
      " 21  num_american_indian_alaska_native            665900 non-null  float64       \n",
      " 22  num_asian                                    665900 non-null  float64       \n",
      " 23  num_native_hawaiian_other_pacific_islander   665900 non-null  float64       \n",
      " 24  num_hispanic                                 665900 non-null  float64       \n",
      " 25  num_non_hispanic_white                       665900 non-null  float64       \n",
      " 26  percent_female                               665900 non-null  float64       \n",
      " 27  num_rural                                    665900 non-null  float64       \n",
      " 28  num_below_poverty                            665900 non-null  float64       \n",
      " 29  num_unemployed_CDC                           665900 non-null  float64       \n",
      " 30  per_capita_income                            665900 non-null  float64       \n",
      " 31  num_age_65_and_older                         665900 non-null  float64       \n",
      " 32  num_age_17_and_younger                       665900 non-null  float64       \n",
      " 33  num_disabled                                 665900 non-null  float64       \n",
      " 34  percent_below_poverty                        665900 non-null  float64       \n",
      " 35  km_to_closest_station                        665900 non-null  float64       \n",
      " 36  ELEV_M                                       665900 non-null  float64       \n",
      " 37  mean_temp                                    665900 non-null  float64       \n",
      " 38  dewpoint                                     665900 non-null  float64       \n",
      " 39  wind_speed                                   665900 non-null  float64       \n",
      " 40  precipitation                                665900 non-null  float64       \n",
      " 41  fog                                          665900 non-null  float64       \n",
      " 42  rain                                         665900 non-null  float64       \n",
      " 43  snow                                         665900 non-null  float64       \n",
      " 44  hail                                         665900 non-null  float64       \n",
      "dtypes: datetime64[ns](1), float64(42), object(2)\n",
      "memory usage: 233.7+ MB\n"
     ]
    }
   ],
   "source": [
    "df4.info()"
   ]
  },
  {
   "cell_type": "code",
   "execution_count": null,
   "metadata": {
    "id": "UZADpPp_yuaZ"
   },
   "outputs": [],
   "source": [
    "#df4['case_cnt'].fillna(method='ffill')\n",
    "#df4.loc[:,['case_cnt','death_cnt']].ffill()"
   ]
  },
  {
   "cell_type": "code",
   "execution_count": null,
   "metadata": {
    "colab": {
     "base_uri": "https://localhost:8080/",
     "height": 643
    },
    "executionInfo": {
     "elapsed": 1316,
     "status": "ok",
     "timestamp": 1606762373119,
     "user": {
      "displayName": "Dev B",
      "photoUrl": "",
      "userId": "15294155916341060001"
     },
     "user_tz": -330
    },
    "id": "UyZVJFaPbplA",
    "outputId": "b57e104c-e778-4b94-aee3-024d52270352"
   },
   "outputs": [
    {
     "name": "stderr",
     "output_type": "stream",
     "text": [
      "/usr/local/lib/python3.6/dist-packages/ipykernel_launcher.py:1: UserWarning: Boolean Series key will be reindexed to match DataFrame index.\n",
      "  \"\"\"Entry point for launching an IPython kernel.\n"
     ]
    },
    {
     "data": {
      "text/html": [
       "<div>\n",
       "<style scoped>\n",
       "    .dataframe tbody tr th:only-of-type {\n",
       "        vertical-align: middle;\n",
       "    }\n",
       "\n",
       "    .dataframe tbody tr th {\n",
       "        vertical-align: top;\n",
       "    }\n",
       "\n",
       "    .dataframe thead th {\n",
       "        text-align: right;\n",
       "    }\n",
       "</style>\n",
       "<table border=\"1\" class=\"dataframe\">\n",
       "  <thead>\n",
       "    <tr style=\"text-align: right;\">\n",
       "      <th></th>\n",
       "      <th>newdate</th>\n",
       "      <th>county</th>\n",
       "      <th>state</th>\n",
       "      <th>case_cnt</th>\n",
       "      <th>death_cnt</th>\n",
       "      <th>total_population</th>\n",
       "      <th>population_density_per_sqmi</th>\n",
       "      <th>percent_fair_or_poor_health</th>\n",
       "      <th>average_number_of_physically_unhealthy_days</th>\n",
       "      <th>percent_smokers</th>\n",
       "      <th>percent_adults_with_obesity</th>\n",
       "      <th>percent_physically_inactive</th>\n",
       "      <th>num_uninsured</th>\n",
       "      <th>num_primary_care_physicians</th>\n",
       "      <th>percent_vaccinated</th>\n",
       "      <th>overcrowding</th>\n",
       "      <th>life_expectancy</th>\n",
       "      <th>percent_adults_with_diabetes</th>\n",
       "      <th>num_hiv_cases</th>\n",
       "      <th>median_household_income</th>\n",
       "      <th>num_black</th>\n",
       "      <th>num_american_indian_alaska_native</th>\n",
       "      <th>num_asian</th>\n",
       "      <th>num_native_hawaiian_other_pacific_islander</th>\n",
       "      <th>num_hispanic</th>\n",
       "      <th>num_non_hispanic_white</th>\n",
       "      <th>percent_female</th>\n",
       "      <th>num_rural</th>\n",
       "      <th>num_below_poverty</th>\n",
       "      <th>num_unemployed_CDC</th>\n",
       "      <th>per_capita_income</th>\n",
       "      <th>num_age_65_and_older</th>\n",
       "      <th>num_age_17_and_younger</th>\n",
       "      <th>num_disabled</th>\n",
       "      <th>percent_below_poverty</th>\n",
       "      <th>km_to_closest_station</th>\n",
       "      <th>ELEV_M</th>\n",
       "      <th>mean_temp</th>\n",
       "      <th>dewpoint</th>\n",
       "      <th>wind_speed</th>\n",
       "      <th>precipitation</th>\n",
       "      <th>fog</th>\n",
       "      <th>rain</th>\n",
       "      <th>snow</th>\n",
       "      <th>hail</th>\n",
       "    </tr>\n",
       "  </thead>\n",
       "  <tbody>\n",
       "    <tr>\n",
       "      <th>1918</th>\n",
       "      <td>2020-03-14</td>\n",
       "      <td>Baldwin</td>\n",
       "      <td>Alabama</td>\n",
       "      <td>-0.0</td>\n",
       "      <td>-0.0</td>\n",
       "      <td>199510.0</td>\n",
       "      <td>125.493187</td>\n",
       "      <td>17.509134</td>\n",
       "      <td>4.224519</td>\n",
       "      <td>17.489033</td>\n",
       "      <td>31.0</td>\n",
       "      <td>26.5</td>\n",
       "      <td>19119.0</td>\n",
       "      <td>155.0</td>\n",
       "      <td>44.0</td>\n",
       "      <td>1.270792</td>\n",
       "      <td>78.450258</td>\n",
       "      <td>10.7</td>\n",
       "      <td>292.0</td>\n",
       "      <td>57588.0</td>\n",
       "      <td>19151.0</td>\n",
       "      <td>1684.0</td>\n",
       "      <td>2508.0</td>\n",
       "      <td>146.0</td>\n",
       "      <td>10131.0</td>\n",
       "      <td>181201.0</td>\n",
       "      <td>51.538377</td>\n",
       "      <td>77060.0</td>\n",
       "      <td>25551.0</td>\n",
       "      <td>5887.0</td>\n",
       "      <td>28069.0</td>\n",
       "      <td>37338.0</td>\n",
       "      <td>44270.0</td>\n",
       "      <td>27390.0</td>\n",
       "      <td>13.0</td>\n",
       "      <td>21.91308</td>\n",
       "      <td>10.0</td>\n",
       "      <td>63.50</td>\n",
       "      <td>66.0</td>\n",
       "      <td>3.10</td>\n",
       "      <td>0.0</td>\n",
       "      <td>0.0</td>\n",
       "      <td>0.0</td>\n",
       "      <td>0.0</td>\n",
       "      <td>0.0</td>\n",
       "    </tr>\n",
       "    <tr>\n",
       "      <th>2289</th>\n",
       "      <td>2020-03-15</td>\n",
       "      <td>Baldwin</td>\n",
       "      <td>Alabama</td>\n",
       "      <td>-0.0</td>\n",
       "      <td>-0.0</td>\n",
       "      <td>199510.0</td>\n",
       "      <td>125.493187</td>\n",
       "      <td>17.509134</td>\n",
       "      <td>4.224519</td>\n",
       "      <td>17.489033</td>\n",
       "      <td>31.0</td>\n",
       "      <td>26.5</td>\n",
       "      <td>19119.0</td>\n",
       "      <td>155.0</td>\n",
       "      <td>44.0</td>\n",
       "      <td>1.270792</td>\n",
       "      <td>78.450258</td>\n",
       "      <td>10.7</td>\n",
       "      <td>292.0</td>\n",
       "      <td>57588.0</td>\n",
       "      <td>19151.0</td>\n",
       "      <td>1684.0</td>\n",
       "      <td>2508.0</td>\n",
       "      <td>146.0</td>\n",
       "      <td>10131.0</td>\n",
       "      <td>181201.0</td>\n",
       "      <td>51.538377</td>\n",
       "      <td>77060.0</td>\n",
       "      <td>25551.0</td>\n",
       "      <td>5887.0</td>\n",
       "      <td>28069.0</td>\n",
       "      <td>37338.0</td>\n",
       "      <td>44270.0</td>\n",
       "      <td>27390.0</td>\n",
       "      <td>13.0</td>\n",
       "      <td>21.91308</td>\n",
       "      <td>10.0</td>\n",
       "      <td>64.80</td>\n",
       "      <td>66.0</td>\n",
       "      <td>1.70</td>\n",
       "      <td>0.0</td>\n",
       "      <td>0.0</td>\n",
       "      <td>0.0</td>\n",
       "      <td>0.0</td>\n",
       "      <td>0.0</td>\n",
       "    </tr>\n",
       "    <tr>\n",
       "      <th>2713</th>\n",
       "      <td>2020-03-16</td>\n",
       "      <td>Baldwin</td>\n",
       "      <td>Alabama</td>\n",
       "      <td>-0.0</td>\n",
       "      <td>-0.0</td>\n",
       "      <td>199510.0</td>\n",
       "      <td>125.493187</td>\n",
       "      <td>17.509134</td>\n",
       "      <td>4.224519</td>\n",
       "      <td>17.489033</td>\n",
       "      <td>31.0</td>\n",
       "      <td>26.5</td>\n",
       "      <td>19119.0</td>\n",
       "      <td>155.0</td>\n",
       "      <td>44.0</td>\n",
       "      <td>1.270792</td>\n",
       "      <td>78.450258</td>\n",
       "      <td>10.7</td>\n",
       "      <td>292.0</td>\n",
       "      <td>57588.0</td>\n",
       "      <td>19151.0</td>\n",
       "      <td>1684.0</td>\n",
       "      <td>2508.0</td>\n",
       "      <td>146.0</td>\n",
       "      <td>10131.0</td>\n",
       "      <td>181201.0</td>\n",
       "      <td>51.538377</td>\n",
       "      <td>77060.0</td>\n",
       "      <td>25551.0</td>\n",
       "      <td>5887.0</td>\n",
       "      <td>28069.0</td>\n",
       "      <td>37338.0</td>\n",
       "      <td>44270.0</td>\n",
       "      <td>27390.0</td>\n",
       "      <td>13.0</td>\n",
       "      <td>21.91308</td>\n",
       "      <td>10.0</td>\n",
       "      <td>63.10</td>\n",
       "      <td>66.0</td>\n",
       "      <td>2.90</td>\n",
       "      <td>0.0</td>\n",
       "      <td>0.0</td>\n",
       "      <td>0.0</td>\n",
       "      <td>0.0</td>\n",
       "      <td>0.0</td>\n",
       "    </tr>\n",
       "    <tr>\n",
       "      <th>3182</th>\n",
       "      <td>2020-03-17</td>\n",
       "      <td>Baldwin</td>\n",
       "      <td>Alabama</td>\n",
       "      <td>-0.0</td>\n",
       "      <td>-0.0</td>\n",
       "      <td>199510.0</td>\n",
       "      <td>125.493187</td>\n",
       "      <td>17.509134</td>\n",
       "      <td>4.224519</td>\n",
       "      <td>17.489033</td>\n",
       "      <td>31.0</td>\n",
       "      <td>26.5</td>\n",
       "      <td>19119.0</td>\n",
       "      <td>155.0</td>\n",
       "      <td>44.0</td>\n",
       "      <td>1.270792</td>\n",
       "      <td>78.450258</td>\n",
       "      <td>10.7</td>\n",
       "      <td>292.0</td>\n",
       "      <td>57588.0</td>\n",
       "      <td>19151.0</td>\n",
       "      <td>1684.0</td>\n",
       "      <td>2508.0</td>\n",
       "      <td>146.0</td>\n",
       "      <td>10131.0</td>\n",
       "      <td>181201.0</td>\n",
       "      <td>51.538377</td>\n",
       "      <td>77060.0</td>\n",
       "      <td>25551.0</td>\n",
       "      <td>5887.0</td>\n",
       "      <td>28069.0</td>\n",
       "      <td>37338.0</td>\n",
       "      <td>44270.0</td>\n",
       "      <td>27390.0</td>\n",
       "      <td>13.0</td>\n",
       "      <td>21.91308</td>\n",
       "      <td>10.0</td>\n",
       "      <td>63.80</td>\n",
       "      <td>66.0</td>\n",
       "      <td>1.50</td>\n",
       "      <td>0.0</td>\n",
       "      <td>0.0</td>\n",
       "      <td>0.0</td>\n",
       "      <td>0.0</td>\n",
       "      <td>0.0</td>\n",
       "    </tr>\n",
       "    <tr>\n",
       "      <th>3721</th>\n",
       "      <td>2020-03-18</td>\n",
       "      <td>Baldwin</td>\n",
       "      <td>Alabama</td>\n",
       "      <td>-0.0</td>\n",
       "      <td>-0.0</td>\n",
       "      <td>199510.0</td>\n",
       "      <td>125.493187</td>\n",
       "      <td>17.509134</td>\n",
       "      <td>4.224519</td>\n",
       "      <td>17.489033</td>\n",
       "      <td>31.0</td>\n",
       "      <td>26.5</td>\n",
       "      <td>19119.0</td>\n",
       "      <td>155.0</td>\n",
       "      <td>44.0</td>\n",
       "      <td>1.270792</td>\n",
       "      <td>78.450258</td>\n",
       "      <td>10.7</td>\n",
       "      <td>292.0</td>\n",
       "      <td>57588.0</td>\n",
       "      <td>19151.0</td>\n",
       "      <td>1684.0</td>\n",
       "      <td>2508.0</td>\n",
       "      <td>146.0</td>\n",
       "      <td>10131.0</td>\n",
       "      <td>181201.0</td>\n",
       "      <td>51.538377</td>\n",
       "      <td>77060.0</td>\n",
       "      <td>25551.0</td>\n",
       "      <td>5887.0</td>\n",
       "      <td>28069.0</td>\n",
       "      <td>37338.0</td>\n",
       "      <td>44270.0</td>\n",
       "      <td>27390.0</td>\n",
       "      <td>13.0</td>\n",
       "      <td>21.91308</td>\n",
       "      <td>10.0</td>\n",
       "      <td>65.90</td>\n",
       "      <td>66.0</td>\n",
       "      <td>4.10</td>\n",
       "      <td>0.0</td>\n",
       "      <td>0.0</td>\n",
       "      <td>0.0</td>\n",
       "      <td>0.0</td>\n",
       "      <td>0.0</td>\n",
       "    </tr>\n",
       "    <tr>\n",
       "      <th>...</th>\n",
       "      <td>...</td>\n",
       "      <td>...</td>\n",
       "      <td>...</td>\n",
       "      <td>...</td>\n",
       "      <td>...</td>\n",
       "      <td>...</td>\n",
       "      <td>...</td>\n",
       "      <td>...</td>\n",
       "      <td>...</td>\n",
       "      <td>...</td>\n",
       "      <td>...</td>\n",
       "      <td>...</td>\n",
       "      <td>...</td>\n",
       "      <td>...</td>\n",
       "      <td>...</td>\n",
       "      <td>...</td>\n",
       "      <td>...</td>\n",
       "      <td>...</td>\n",
       "      <td>...</td>\n",
       "      <td>...</td>\n",
       "      <td>...</td>\n",
       "      <td>...</td>\n",
       "      <td>...</td>\n",
       "      <td>...</td>\n",
       "      <td>...</td>\n",
       "      <td>...</td>\n",
       "      <td>...</td>\n",
       "      <td>...</td>\n",
       "      <td>...</td>\n",
       "      <td>...</td>\n",
       "      <td>...</td>\n",
       "      <td>...</td>\n",
       "      <td>...</td>\n",
       "      <td>...</td>\n",
       "      <td>...</td>\n",
       "      <td>...</td>\n",
       "      <td>...</td>\n",
       "      <td>...</td>\n",
       "      <td>...</td>\n",
       "      <td>...</td>\n",
       "      <td>...</td>\n",
       "      <td>...</td>\n",
       "      <td>...</td>\n",
       "      <td>...</td>\n",
       "      <td>...</td>\n",
       "    </tr>\n",
       "    <tr>\n",
       "      <th>664790</th>\n",
       "      <td>2020-10-27</td>\n",
       "      <td>Baldwin</td>\n",
       "      <td>Alabama</td>\n",
       "      <td>31.0</td>\n",
       "      <td>-0.0</td>\n",
       "      <td>199510.0</td>\n",
       "      <td>125.493187</td>\n",
       "      <td>17.509134</td>\n",
       "      <td>4.224519</td>\n",
       "      <td>17.489033</td>\n",
       "      <td>31.0</td>\n",
       "      <td>26.5</td>\n",
       "      <td>19119.0</td>\n",
       "      <td>155.0</td>\n",
       "      <td>44.0</td>\n",
       "      <td>1.270792</td>\n",
       "      <td>78.450258</td>\n",
       "      <td>10.7</td>\n",
       "      <td>292.0</td>\n",
       "      <td>57588.0</td>\n",
       "      <td>19151.0</td>\n",
       "      <td>1684.0</td>\n",
       "      <td>2508.0</td>\n",
       "      <td>146.0</td>\n",
       "      <td>10131.0</td>\n",
       "      <td>181201.0</td>\n",
       "      <td>51.538377</td>\n",
       "      <td>77060.0</td>\n",
       "      <td>25551.0</td>\n",
       "      <td>5887.0</td>\n",
       "      <td>28069.0</td>\n",
       "      <td>37338.0</td>\n",
       "      <td>44270.0</td>\n",
       "      <td>27390.0</td>\n",
       "      <td>13.0</td>\n",
       "      <td>21.91308</td>\n",
       "      <td>10.0</td>\n",
       "      <td>75.20</td>\n",
       "      <td>66.0</td>\n",
       "      <td>0.70</td>\n",
       "      <td>0.0</td>\n",
       "      <td>0.0</td>\n",
       "      <td>0.0</td>\n",
       "      <td>0.0</td>\n",
       "      <td>0.0</td>\n",
       "    </tr>\n",
       "    <tr>\n",
       "      <th>668008</th>\n",
       "      <td>2020-10-28</td>\n",
       "      <td>Baldwin</td>\n",
       "      <td>Alabama</td>\n",
       "      <td>25.0</td>\n",
       "      <td>-0.0</td>\n",
       "      <td>199510.0</td>\n",
       "      <td>125.493187</td>\n",
       "      <td>17.509134</td>\n",
       "      <td>4.224519</td>\n",
       "      <td>17.489033</td>\n",
       "      <td>31.0</td>\n",
       "      <td>26.5</td>\n",
       "      <td>19119.0</td>\n",
       "      <td>155.0</td>\n",
       "      <td>44.0</td>\n",
       "      <td>1.270792</td>\n",
       "      <td>78.450258</td>\n",
       "      <td>10.7</td>\n",
       "      <td>292.0</td>\n",
       "      <td>57588.0</td>\n",
       "      <td>19151.0</td>\n",
       "      <td>1684.0</td>\n",
       "      <td>2508.0</td>\n",
       "      <td>146.0</td>\n",
       "      <td>10131.0</td>\n",
       "      <td>181201.0</td>\n",
       "      <td>51.538377</td>\n",
       "      <td>77060.0</td>\n",
       "      <td>25551.0</td>\n",
       "      <td>5887.0</td>\n",
       "      <td>28069.0</td>\n",
       "      <td>37338.0</td>\n",
       "      <td>44270.0</td>\n",
       "      <td>27390.0</td>\n",
       "      <td>13.0</td>\n",
       "      <td>21.91308</td>\n",
       "      <td>10.0</td>\n",
       "      <td>78.40</td>\n",
       "      <td>66.0</td>\n",
       "      <td>5.50</td>\n",
       "      <td>0.0</td>\n",
       "      <td>0.0</td>\n",
       "      <td>0.0</td>\n",
       "      <td>0.0</td>\n",
       "      <td>0.0</td>\n",
       "    </tr>\n",
       "    <tr>\n",
       "      <th>671226</th>\n",
       "      <td>2020-10-29</td>\n",
       "      <td>Baldwin</td>\n",
       "      <td>Alabama</td>\n",
       "      <td>120.0</td>\n",
       "      <td>2.0</td>\n",
       "      <td>199510.0</td>\n",
       "      <td>125.493187</td>\n",
       "      <td>17.509134</td>\n",
       "      <td>4.224519</td>\n",
       "      <td>17.489033</td>\n",
       "      <td>31.0</td>\n",
       "      <td>26.5</td>\n",
       "      <td>19119.0</td>\n",
       "      <td>155.0</td>\n",
       "      <td>44.0</td>\n",
       "      <td>1.270792</td>\n",
       "      <td>78.450258</td>\n",
       "      <td>10.7</td>\n",
       "      <td>292.0</td>\n",
       "      <td>57588.0</td>\n",
       "      <td>19151.0</td>\n",
       "      <td>1684.0</td>\n",
       "      <td>2508.0</td>\n",
       "      <td>146.0</td>\n",
       "      <td>10131.0</td>\n",
       "      <td>181201.0</td>\n",
       "      <td>51.538377</td>\n",
       "      <td>77060.0</td>\n",
       "      <td>25551.0</td>\n",
       "      <td>5887.0</td>\n",
       "      <td>28069.0</td>\n",
       "      <td>37338.0</td>\n",
       "      <td>44270.0</td>\n",
       "      <td>27390.0</td>\n",
       "      <td>13.0</td>\n",
       "      <td>21.91308</td>\n",
       "      <td>10.0</td>\n",
       "      <td>77.05</td>\n",
       "      <td>66.0</td>\n",
       "      <td>3.35</td>\n",
       "      <td>0.0</td>\n",
       "      <td>0.0</td>\n",
       "      <td>0.0</td>\n",
       "      <td>0.0</td>\n",
       "      <td>0.0</td>\n",
       "    </tr>\n",
       "    <tr>\n",
       "      <th>674444</th>\n",
       "      <td>2020-10-30</td>\n",
       "      <td>Baldwin</td>\n",
       "      <td>Alabama</td>\n",
       "      <td>52.0</td>\n",
       "      <td>-0.0</td>\n",
       "      <td>199510.0</td>\n",
       "      <td>125.493187</td>\n",
       "      <td>17.509134</td>\n",
       "      <td>4.224519</td>\n",
       "      <td>17.489033</td>\n",
       "      <td>31.0</td>\n",
       "      <td>26.5</td>\n",
       "      <td>19119.0</td>\n",
       "      <td>155.0</td>\n",
       "      <td>44.0</td>\n",
       "      <td>1.270792</td>\n",
       "      <td>78.450258</td>\n",
       "      <td>10.7</td>\n",
       "      <td>292.0</td>\n",
       "      <td>57588.0</td>\n",
       "      <td>19151.0</td>\n",
       "      <td>1684.0</td>\n",
       "      <td>2508.0</td>\n",
       "      <td>146.0</td>\n",
       "      <td>10131.0</td>\n",
       "      <td>181201.0</td>\n",
       "      <td>51.538377</td>\n",
       "      <td>77060.0</td>\n",
       "      <td>25551.0</td>\n",
       "      <td>5887.0</td>\n",
       "      <td>28069.0</td>\n",
       "      <td>37338.0</td>\n",
       "      <td>44270.0</td>\n",
       "      <td>27390.0</td>\n",
       "      <td>13.0</td>\n",
       "      <td>21.91308</td>\n",
       "      <td>10.0</td>\n",
       "      <td>77.05</td>\n",
       "      <td>66.0</td>\n",
       "      <td>3.35</td>\n",
       "      <td>0.0</td>\n",
       "      <td>0.0</td>\n",
       "      <td>0.0</td>\n",
       "      <td>0.0</td>\n",
       "      <td>0.0</td>\n",
       "    </tr>\n",
       "    <tr>\n",
       "      <th>677662</th>\n",
       "      <td>2020-10-31</td>\n",
       "      <td>Baldwin</td>\n",
       "      <td>Alabama</td>\n",
       "      <td>1.0</td>\n",
       "      <td>-0.0</td>\n",
       "      <td>199510.0</td>\n",
       "      <td>125.493187</td>\n",
       "      <td>17.509134</td>\n",
       "      <td>4.224519</td>\n",
       "      <td>17.489033</td>\n",
       "      <td>31.0</td>\n",
       "      <td>26.5</td>\n",
       "      <td>19119.0</td>\n",
       "      <td>155.0</td>\n",
       "      <td>44.0</td>\n",
       "      <td>1.270792</td>\n",
       "      <td>78.450258</td>\n",
       "      <td>10.7</td>\n",
       "      <td>292.0</td>\n",
       "      <td>57588.0</td>\n",
       "      <td>19151.0</td>\n",
       "      <td>1684.0</td>\n",
       "      <td>2508.0</td>\n",
       "      <td>146.0</td>\n",
       "      <td>10131.0</td>\n",
       "      <td>181201.0</td>\n",
       "      <td>51.538377</td>\n",
       "      <td>77060.0</td>\n",
       "      <td>25551.0</td>\n",
       "      <td>5887.0</td>\n",
       "      <td>28069.0</td>\n",
       "      <td>37338.0</td>\n",
       "      <td>44270.0</td>\n",
       "      <td>27390.0</td>\n",
       "      <td>13.0</td>\n",
       "      <td>21.91308</td>\n",
       "      <td>10.0</td>\n",
       "      <td>77.05</td>\n",
       "      <td>66.0</td>\n",
       "      <td>3.35</td>\n",
       "      <td>0.0</td>\n",
       "      <td>0.0</td>\n",
       "      <td>0.0</td>\n",
       "      <td>0.0</td>\n",
       "      <td>0.0</td>\n",
       "    </tr>\n",
       "  </tbody>\n",
       "</table>\n",
       "<p>232 rows × 45 columns</p>\n",
       "</div>"
      ],
      "text/plain": [
       "          newdate   county    state  case_cnt  ...  fog  rain  snow  hail\n",
       "1918   2020-03-14  Baldwin  Alabama      -0.0  ...  0.0   0.0   0.0   0.0\n",
       "2289   2020-03-15  Baldwin  Alabama      -0.0  ...  0.0   0.0   0.0   0.0\n",
       "2713   2020-03-16  Baldwin  Alabama      -0.0  ...  0.0   0.0   0.0   0.0\n",
       "3182   2020-03-17  Baldwin  Alabama      -0.0  ...  0.0   0.0   0.0   0.0\n",
       "3721   2020-03-18  Baldwin  Alabama      -0.0  ...  0.0   0.0   0.0   0.0\n",
       "...           ...      ...      ...       ...  ...  ...   ...   ...   ...\n",
       "664790 2020-10-27  Baldwin  Alabama      31.0  ...  0.0   0.0   0.0   0.0\n",
       "668008 2020-10-28  Baldwin  Alabama      25.0  ...  0.0   0.0   0.0   0.0\n",
       "671226 2020-10-29  Baldwin  Alabama     120.0  ...  0.0   0.0   0.0   0.0\n",
       "674444 2020-10-30  Baldwin  Alabama      52.0  ...  0.0   0.0   0.0   0.0\n",
       "677662 2020-10-31  Baldwin  Alabama       1.0  ...  0.0   0.0   0.0   0.0\n",
       "\n",
       "[232 rows x 45 columns]"
      ]
     },
     "execution_count": 65,
     "metadata": {
      "tags": []
     },
     "output_type": "execute_result"
    }
   ],
   "source": [
    "df4[df4['county']=='Baldwin'][df4['state']=='Alabama']"
   ]
  },
  {
   "cell_type": "code",
   "execution_count": null,
   "metadata": {
    "id": "dDU43wQvjBTL"
   },
   "outputs": [],
   "source": [
    "#df4.to_csv('/content/gdrive/My Drive/Capstone/nan_worksheet_Final.csv')\n",
    "# It is established by observing the worksheet exported above that all States having only NaN values for features (num_hiv_cases and dewpoint)\n",
    "# have been updated for NaN. THe NaN have been replacd with median of that feature for the Country(US).\n",
    "# Also, all Negative values in case_cnt and death_cnt have been replaced by zero"
   ]
  },
  {
   "cell_type": "code",
   "execution_count": null,
   "metadata": {
    "colab": {
     "base_uri": "https://localhost:8080/",
     "height": 1000
    },
    "executionInfo": {
     "elapsed": 2311,
     "status": "ok",
     "timestamp": 1606761348146,
     "user": {
      "displayName": "Dev B",
      "photoUrl": "",
      "userId": "15294155916341060001"
     },
     "user_tz": -330
    },
    "id": "h8AzwewxDJSp",
    "outputId": "fccac944-1aea-456f-bf0f-e0da2c605727"
   },
   "outputs": [
    {
     "data": {
      "text/html": [
       "<div>\n",
       "<style scoped>\n",
       "    .dataframe tbody tr th:only-of-type {\n",
       "        vertical-align: middle;\n",
       "    }\n",
       "\n",
       "    .dataframe tbody tr th {\n",
       "        vertical-align: top;\n",
       "    }\n",
       "\n",
       "    .dataframe thead th {\n",
       "        text-align: right;\n",
       "    }\n",
       "</style>\n",
       "<table border=\"1\" class=\"dataframe\">\n",
       "  <thead>\n",
       "    <tr style=\"text-align: right;\">\n",
       "      <th></th>\n",
       "      <th>count</th>\n",
       "      <th>mean</th>\n",
       "      <th>std</th>\n",
       "      <th>min</th>\n",
       "      <th>25%</th>\n",
       "      <th>50%</th>\n",
       "      <th>75%</th>\n",
       "      <th>max</th>\n",
       "    </tr>\n",
       "  </thead>\n",
       "  <tbody>\n",
       "    <tr>\n",
       "      <th>case_cnt</th>\n",
       "      <td>665900.0</td>\n",
       "      <td>13.723517</td>\n",
       "      <td>77.470673</td>\n",
       "      <td>-0.000000</td>\n",
       "      <td>0.000000</td>\n",
       "      <td>1.000000</td>\n",
       "      <td>7.000000</td>\n",
       "      <td>1.412900e+04</td>\n",
       "    </tr>\n",
       "    <tr>\n",
       "      <th>death_cnt</th>\n",
       "      <td>665900.0</td>\n",
       "      <td>0.350186</td>\n",
       "      <td>4.907279</td>\n",
       "      <td>-0.000000</td>\n",
       "      <td>-0.000000</td>\n",
       "      <td>-0.000000</td>\n",
       "      <td>-0.000000</td>\n",
       "      <td>1.221000e+03</td>\n",
       "    </tr>\n",
       "    <tr>\n",
       "      <th>total_population</th>\n",
       "      <td>665900.0</td>\n",
       "      <td>113116.643476</td>\n",
       "      <td>385443.993275</td>\n",
       "      <td>274.000000</td>\n",
       "      <td>12706.000000</td>\n",
       "      <td>28350.000000</td>\n",
       "      <td>75993.000000</td>\n",
       "      <td>1.005716e+07</td>\n",
       "    </tr>\n",
       "    <tr>\n",
       "      <th>population_density_per_sqmi</th>\n",
       "      <td>665900.0</td>\n",
       "      <td>243.852342</td>\n",
       "      <td>997.721785</td>\n",
       "      <td>0.038490</td>\n",
       "      <td>19.876846</td>\n",
       "      <td>48.319282</td>\n",
       "      <td>131.135610</td>\n",
       "      <td>2.806968e+04</td>\n",
       "    </tr>\n",
       "    <tr>\n",
       "      <th>percent_fair_or_poor_health</th>\n",
       "      <td>665900.0</td>\n",
       "      <td>17.955430</td>\n",
       "      <td>4.710889</td>\n",
       "      <td>8.120645</td>\n",
       "      <td>14.378699</td>\n",
       "      <td>17.275023</td>\n",
       "      <td>20.921690</td>\n",
       "      <td>4.099069e+01</td>\n",
       "    </tr>\n",
       "    <tr>\n",
       "      <th>average_number_of_physically_unhealthy_days</th>\n",
       "      <td>665900.0</td>\n",
       "      <td>3.995930</td>\n",
       "      <td>0.698312</td>\n",
       "      <td>2.449054</td>\n",
       "      <td>3.485868</td>\n",
       "      <td>3.947377</td>\n",
       "      <td>4.440933</td>\n",
       "      <td>7.062310e+00</td>\n",
       "    </tr>\n",
       "    <tr>\n",
       "      <th>percent_smokers</th>\n",
       "      <td>665900.0</td>\n",
       "      <td>17.490532</td>\n",
       "      <td>3.580608</td>\n",
       "      <td>5.908719</td>\n",
       "      <td>14.987575</td>\n",
       "      <td>17.029517</td>\n",
       "      <td>19.767519</td>\n",
       "      <td>4.149131e+01</td>\n",
       "    </tr>\n",
       "    <tr>\n",
       "      <th>percent_adults_with_obesity</th>\n",
       "      <td>665900.0</td>\n",
       "      <td>32.897630</td>\n",
       "      <td>5.465242</td>\n",
       "      <td>12.400000</td>\n",
       "      <td>29.300000</td>\n",
       "      <td>33.200000</td>\n",
       "      <td>36.600000</td>\n",
       "      <td>5.770000e+01</td>\n",
       "    </tr>\n",
       "    <tr>\n",
       "      <th>percent_physically_inactive</th>\n",
       "      <td>665900.0</td>\n",
       "      <td>27.297882</td>\n",
       "      <td>5.765654</td>\n",
       "      <td>9.500000</td>\n",
       "      <td>23.400000</td>\n",
       "      <td>27.200000</td>\n",
       "      <td>31.100000</td>\n",
       "      <td>4.990000e+01</td>\n",
       "    </tr>\n",
       "    <tr>\n",
       "      <th>num_uninsured</th>\n",
       "      <td>665900.0</td>\n",
       "      <td>9726.204005</td>\n",
       "      <td>38672.666040</td>\n",
       "      <td>32.000000</td>\n",
       "      <td>1000.000000</td>\n",
       "      <td>2355.000000</td>\n",
       "      <td>6172.000000</td>\n",
       "      <td>9.087420e+05</td>\n",
       "    </tr>\n",
       "    <tr>\n",
       "      <th>num_primary_care_physicians</th>\n",
       "      <td>665900.0</td>\n",
       "      <td>88.532134</td>\n",
       "      <td>321.587972</td>\n",
       "      <td>0.000000</td>\n",
       "      <td>5.000000</td>\n",
       "      <td>14.000000</td>\n",
       "      <td>45.000000</td>\n",
       "      <td>7.397000e+03</td>\n",
       "    </tr>\n",
       "    <tr>\n",
       "      <th>percent_vaccinated</th>\n",
       "      <td>665900.0</td>\n",
       "      <td>42.242443</td>\n",
       "      <td>9.476635</td>\n",
       "      <td>4.000000</td>\n",
       "      <td>37.000000</td>\n",
       "      <td>44.000000</td>\n",
       "      <td>49.000000</td>\n",
       "      <td>6.600000e+01</td>\n",
       "    </tr>\n",
       "    <tr>\n",
       "      <th>overcrowding</th>\n",
       "      <td>665900.0</td>\n",
       "      <td>2.412579</td>\n",
       "      <td>2.267338</td>\n",
       "      <td>0.000000</td>\n",
       "      <td>1.262019</td>\n",
       "      <td>1.900360</td>\n",
       "      <td>2.850299</td>\n",
       "      <td>5.158501e+01</td>\n",
       "    </tr>\n",
       "    <tr>\n",
       "      <th>life_expectancy</th>\n",
       "      <td>665900.0</td>\n",
       "      <td>77.483520</td>\n",
       "      <td>3.002360</td>\n",
       "      <td>61.625629</td>\n",
       "      <td>75.582962</td>\n",
       "      <td>77.502831</td>\n",
       "      <td>79.348985</td>\n",
       "      <td>1.047401e+02</td>\n",
       "    </tr>\n",
       "    <tr>\n",
       "      <th>percent_adults_with_diabetes</th>\n",
       "      <td>665900.0</td>\n",
       "      <td>12.135672</td>\n",
       "      <td>4.039016</td>\n",
       "      <td>1.800000</td>\n",
       "      <td>9.300000</td>\n",
       "      <td>11.600000</td>\n",
       "      <td>14.600000</td>\n",
       "      <td>3.410000e+01</td>\n",
       "    </tr>\n",
       "    <tr>\n",
       "      <th>num_hiv_cases</th>\n",
       "      <td>665900.0</td>\n",
       "      <td>441.980614</td>\n",
       "      <td>2574.265598</td>\n",
       "      <td>0.000000</td>\n",
       "      <td>16.000000</td>\n",
       "      <td>40.000000</td>\n",
       "      <td>137.000000</td>\n",
       "      <td>9.909500e+04</td>\n",
       "    </tr>\n",
       "    <tr>\n",
       "      <th>median_household_income</th>\n",
       "      <td>665900.0</td>\n",
       "      <td>53175.781088</td>\n",
       "      <td>14166.067512</td>\n",
       "      <td>25385.000000</td>\n",
       "      <td>43799.000000</td>\n",
       "      <td>50858.000000</td>\n",
       "      <td>59338.000000</td>\n",
       "      <td>1.403820e+05</td>\n",
       "    </tr>\n",
       "    <tr>\n",
       "      <th>num_black</th>\n",
       "      <td>665900.0</td>\n",
       "      <td>14569.085103</td>\n",
       "      <td>66373.863103</td>\n",
       "      <td>0.000000</td>\n",
       "      <td>150.000000</td>\n",
       "      <td>994.000000</td>\n",
       "      <td>6230.000000</td>\n",
       "      <td>1.849077e+06</td>\n",
       "    </tr>\n",
       "    <tr>\n",
       "      <th>num_american_indian_alaska_native</th>\n",
       "      <td>665900.0</td>\n",
       "      <td>1454.345692</td>\n",
       "      <td>6169.821154</td>\n",
       "      <td>0.000000</td>\n",
       "      <td>79.000000</td>\n",
       "      <td>217.000000</td>\n",
       "      <td>737.000000</td>\n",
       "      <td>1.452540e+05</td>\n",
       "    </tr>\n",
       "    <tr>\n",
       "      <th>num_asian</th>\n",
       "      <td>665900.0</td>\n",
       "      <td>7166.593971</td>\n",
       "      <td>52866.816486</td>\n",
       "      <td>0.000000</td>\n",
       "      <td>66.000000</td>\n",
       "      <td>206.000000</td>\n",
       "      <td>1015.000000</td>\n",
       "      <td>1.551894e+06</td>\n",
       "    </tr>\n",
       "    <tr>\n",
       "      <th>num_native_hawaiian_other_pacific_islander</th>\n",
       "      <td>665900.0</td>\n",
       "      <td>290.907010</td>\n",
       "      <td>2374.988358</td>\n",
       "      <td>0.000000</td>\n",
       "      <td>5.000000</td>\n",
       "      <td>19.000000</td>\n",
       "      <td>80.000000</td>\n",
       "      <td>9.407900e+04</td>\n",
       "    </tr>\n",
       "    <tr>\n",
       "      <th>num_hispanic</th>\n",
       "      <td>665900.0</td>\n",
       "      <td>21807.511958</td>\n",
       "      <td>148055.147083</td>\n",
       "      <td>5.000000</td>\n",
       "      <td>420.000000</td>\n",
       "      <td>1282.000000</td>\n",
       "      <td>5884.000000</td>\n",
       "      <td>4.915287e+06</td>\n",
       "    </tr>\n",
       "    <tr>\n",
       "      <th>num_non_hispanic_white</th>\n",
       "      <td>665900.0</td>\n",
       "      <td>69315.170628</td>\n",
       "      <td>161165.946611</td>\n",
       "      <td>92.000000</td>\n",
       "      <td>9063.000000</td>\n",
       "      <td>22354.000000</td>\n",
       "      <td>58652.000000</td>\n",
       "      <td>2.694258e+06</td>\n",
       "    </tr>\n",
       "    <tr>\n",
       "      <th>percent_female</th>\n",
       "      <td>665900.0</td>\n",
       "      <td>49.943762</td>\n",
       "      <td>2.234599</td>\n",
       "      <td>26.835097</td>\n",
       "      <td>49.464094</td>\n",
       "      <td>50.353952</td>\n",
       "      <td>51.058544</td>\n",
       "      <td>5.687054e+01</td>\n",
       "    </tr>\n",
       "    <tr>\n",
       "      <th>num_rural</th>\n",
       "      <td>665900.0</td>\n",
       "      <td>19905.313104</td>\n",
       "      <td>16974.480379</td>\n",
       "      <td>0.000000</td>\n",
       "      <td>7835.000000</td>\n",
       "      <td>15318.000000</td>\n",
       "      <td>26644.000000</td>\n",
       "      <td>1.468560e+05</td>\n",
       "    </tr>\n",
       "    <tr>\n",
       "      <th>num_below_poverty</th>\n",
       "      <td>665900.0</td>\n",
       "      <td>16641.098745</td>\n",
       "      <td>65362.434519</td>\n",
       "      <td>9.000000</td>\n",
       "      <td>1938.000000</td>\n",
       "      <td>4601.000000</td>\n",
       "      <td>11377.000000</td>\n",
       "      <td>1.764081e+06</td>\n",
       "    </tr>\n",
       "    <tr>\n",
       "      <th>num_unemployed_CDC</th>\n",
       "      <td>665900.0</td>\n",
       "      <td>4208.703308</td>\n",
       "      <td>16583.312638</td>\n",
       "      <td>0.000000</td>\n",
       "      <td>368.000000</td>\n",
       "      <td>948.000000</td>\n",
       "      <td>2608.000000</td>\n",
       "      <td>4.605650e+05</td>\n",
       "    </tr>\n",
       "    <tr>\n",
       "      <th>per_capita_income</th>\n",
       "      <td>665900.0</td>\n",
       "      <td>25080.663883</td>\n",
       "      <td>6024.908940</td>\n",
       "      <td>9286.000000</td>\n",
       "      <td>21055.000000</td>\n",
       "      <td>24275.000000</td>\n",
       "      <td>28059.000000</td>\n",
       "      <td>6.610400e+04</td>\n",
       "    </tr>\n",
       "    <tr>\n",
       "      <th>num_age_65_and_older</th>\n",
       "      <td>665900.0</td>\n",
       "      <td>16293.105169</td>\n",
       "      <td>49624.668312</td>\n",
       "      <td>34.000000</td>\n",
       "      <td>2274.500000</td>\n",
       "      <td>4841.000000</td>\n",
       "      <td>12091.000000</td>\n",
       "      <td>1.227202e+06</td>\n",
       "    </tr>\n",
       "    <tr>\n",
       "      <th>num_age_17_and_younger</th>\n",
       "      <td>665900.0</td>\n",
       "      <td>26146.273921</td>\n",
       "      <td>89256.680317</td>\n",
       "      <td>56.000000</td>\n",
       "      <td>2815.000000</td>\n",
       "      <td>6421.000000</td>\n",
       "      <td>17121.000000</td>\n",
       "      <td>2.296785e+06</td>\n",
       "    </tr>\n",
       "    <tr>\n",
       "      <th>num_disabled</th>\n",
       "      <td>665900.0</td>\n",
       "      <td>13817.153012</td>\n",
       "      <td>40067.811409</td>\n",
       "      <td>13.000000</td>\n",
       "      <td>2015.000000</td>\n",
       "      <td>4625.000000</td>\n",
       "      <td>11013.000000</td>\n",
       "      <td>9.847160e+05</td>\n",
       "    </tr>\n",
       "    <tr>\n",
       "      <th>percent_below_poverty</th>\n",
       "      <td>665900.0</td>\n",
       "      <td>16.439017</td>\n",
       "      <td>6.513056</td>\n",
       "      <td>1.800000</td>\n",
       "      <td>11.800000</td>\n",
       "      <td>15.700000</td>\n",
       "      <td>19.900000</td>\n",
       "      <td>5.390000e+01</td>\n",
       "    </tr>\n",
       "    <tr>\n",
       "      <th>km_to_closest_station</th>\n",
       "      <td>665900.0</td>\n",
       "      <td>25.530655</td>\n",
       "      <td>16.988127</td>\n",
       "      <td>0.331707</td>\n",
       "      <td>11.322414</td>\n",
       "      <td>23.240325</td>\n",
       "      <td>36.183773</td>\n",
       "      <td>1.294445e+02</td>\n",
       "    </tr>\n",
       "    <tr>\n",
       "      <th>ELEV_M</th>\n",
       "      <td>665900.0</td>\n",
       "      <td>381.753470</td>\n",
       "      <td>463.642007</td>\n",
       "      <td>-36.000000</td>\n",
       "      <td>111.900000</td>\n",
       "      <td>245.100000</td>\n",
       "      <td>401.100000</td>\n",
       "      <td>3.680200e+03</td>\n",
       "    </tr>\n",
       "    <tr>\n",
       "      <th>mean_temp</th>\n",
       "      <td>665900.0</td>\n",
       "      <td>66.162510</td>\n",
       "      <td>13.238070</td>\n",
       "      <td>-5.000000</td>\n",
       "      <td>57.800000</td>\n",
       "      <td>68.800000</td>\n",
       "      <td>76.400000</td>\n",
       "      <td>1.096000e+02</td>\n",
       "    </tr>\n",
       "    <tr>\n",
       "      <th>dewpoint</th>\n",
       "      <td>665900.0</td>\n",
       "      <td>53.704893</td>\n",
       "      <td>15.117294</td>\n",
       "      <td>-37.600000</td>\n",
       "      <td>43.200000</td>\n",
       "      <td>56.600000</td>\n",
       "      <td>66.000000</td>\n",
       "      <td>8.390000e+01</td>\n",
       "    </tr>\n",
       "    <tr>\n",
       "      <th>wind_speed</th>\n",
       "      <td>665900.0</td>\n",
       "      <td>5.722919</td>\n",
       "      <td>3.311313</td>\n",
       "      <td>0.000000</td>\n",
       "      <td>3.300000</td>\n",
       "      <td>5.200000</td>\n",
       "      <td>7.600000</td>\n",
       "      <td>3.770000e+01</td>\n",
       "    </tr>\n",
       "    <tr>\n",
       "      <th>precipitation</th>\n",
       "      <td>665900.0</td>\n",
       "      <td>0.077370</td>\n",
       "      <td>0.290724</td>\n",
       "      <td>0.000000</td>\n",
       "      <td>0.000000</td>\n",
       "      <td>0.000000</td>\n",
       "      <td>0.000000</td>\n",
       "      <td>1.132000e+01</td>\n",
       "    </tr>\n",
       "    <tr>\n",
       "      <th>fog</th>\n",
       "      <td>665900.0</td>\n",
       "      <td>0.080873</td>\n",
       "      <td>0.272639</td>\n",
       "      <td>0.000000</td>\n",
       "      <td>0.000000</td>\n",
       "      <td>0.000000</td>\n",
       "      <td>0.000000</td>\n",
       "      <td>1.000000e+00</td>\n",
       "    </tr>\n",
       "    <tr>\n",
       "      <th>rain</th>\n",
       "      <td>665900.0</td>\n",
       "      <td>0.326659</td>\n",
       "      <td>0.468926</td>\n",
       "      <td>0.000000</td>\n",
       "      <td>0.000000</td>\n",
       "      <td>0.000000</td>\n",
       "      <td>1.000000</td>\n",
       "      <td>1.000000e+00</td>\n",
       "    </tr>\n",
       "    <tr>\n",
       "      <th>snow</th>\n",
       "      <td>665900.0</td>\n",
       "      <td>0.018073</td>\n",
       "      <td>0.133217</td>\n",
       "      <td>0.000000</td>\n",
       "      <td>0.000000</td>\n",
       "      <td>0.000000</td>\n",
       "      <td>0.000000</td>\n",
       "      <td>1.000000e+00</td>\n",
       "    </tr>\n",
       "    <tr>\n",
       "      <th>hail</th>\n",
       "      <td>665900.0</td>\n",
       "      <td>0.000269</td>\n",
       "      <td>0.016393</td>\n",
       "      <td>0.000000</td>\n",
       "      <td>0.000000</td>\n",
       "      <td>0.000000</td>\n",
       "      <td>0.000000</td>\n",
       "      <td>1.000000e+00</td>\n",
       "    </tr>\n",
       "  </tbody>\n",
       "</table>\n",
       "</div>"
      ],
      "text/plain": [
       "                                                count  ...           max\n",
       "case_cnt                                     665900.0  ...  1.412900e+04\n",
       "death_cnt                                    665900.0  ...  1.221000e+03\n",
       "total_population                             665900.0  ...  1.005716e+07\n",
       "population_density_per_sqmi                  665900.0  ...  2.806968e+04\n",
       "percent_fair_or_poor_health                  665900.0  ...  4.099069e+01\n",
       "average_number_of_physically_unhealthy_days  665900.0  ...  7.062310e+00\n",
       "percent_smokers                              665900.0  ...  4.149131e+01\n",
       "percent_adults_with_obesity                  665900.0  ...  5.770000e+01\n",
       "percent_physically_inactive                  665900.0  ...  4.990000e+01\n",
       "num_uninsured                                665900.0  ...  9.087420e+05\n",
       "num_primary_care_physicians                  665900.0  ...  7.397000e+03\n",
       "percent_vaccinated                           665900.0  ...  6.600000e+01\n",
       "overcrowding                                 665900.0  ...  5.158501e+01\n",
       "life_expectancy                              665900.0  ...  1.047401e+02\n",
       "percent_adults_with_diabetes                 665900.0  ...  3.410000e+01\n",
       "num_hiv_cases                                665900.0  ...  9.909500e+04\n",
       "median_household_income                      665900.0  ...  1.403820e+05\n",
       "num_black                                    665900.0  ...  1.849077e+06\n",
       "num_american_indian_alaska_native            665900.0  ...  1.452540e+05\n",
       "num_asian                                    665900.0  ...  1.551894e+06\n",
       "num_native_hawaiian_other_pacific_islander   665900.0  ...  9.407900e+04\n",
       "num_hispanic                                 665900.0  ...  4.915287e+06\n",
       "num_non_hispanic_white                       665900.0  ...  2.694258e+06\n",
       "percent_female                               665900.0  ...  5.687054e+01\n",
       "num_rural                                    665900.0  ...  1.468560e+05\n",
       "num_below_poverty                            665900.0  ...  1.764081e+06\n",
       "num_unemployed_CDC                           665900.0  ...  4.605650e+05\n",
       "per_capita_income                            665900.0  ...  6.610400e+04\n",
       "num_age_65_and_older                         665900.0  ...  1.227202e+06\n",
       "num_age_17_and_younger                       665900.0  ...  2.296785e+06\n",
       "num_disabled                                 665900.0  ...  9.847160e+05\n",
       "percent_below_poverty                        665900.0  ...  5.390000e+01\n",
       "km_to_closest_station                        665900.0  ...  1.294445e+02\n",
       "ELEV_M                                       665900.0  ...  3.680200e+03\n",
       "mean_temp                                    665900.0  ...  1.096000e+02\n",
       "dewpoint                                     665900.0  ...  8.390000e+01\n",
       "wind_speed                                   665900.0  ...  3.770000e+01\n",
       "precipitation                                665900.0  ...  1.132000e+01\n",
       "fog                                          665900.0  ...  1.000000e+00\n",
       "rain                                         665900.0  ...  1.000000e+00\n",
       "snow                                         665900.0  ...  1.000000e+00\n",
       "hail                                         665900.0  ...  1.000000e+00\n",
       "\n",
       "[42 rows x 8 columns]"
      ]
     },
     "execution_count": 77,
     "metadata": {
      "tags": []
     },
     "output_type": "execute_result"
    }
   ],
   "source": [
    "df4.describe().transpose()"
   ]
  },
  {
   "cell_type": "code",
   "execution_count": null,
   "metadata": {
    "id": "dE3edGCEEUcJ"
   },
   "outputs": [],
   "source": [
    "# Visual Inspection findings:\n",
    "# Physical parameters like Wind_Speed, Km_to_Closest_Station, Precipitation, Elev_M are within range eg wind_speed (0-100mph), dew point\n",
    "# 0-104F, Precipitation (0-11.32mm)\n",
    "\n",
    "# Features shown in precentages are within 0 - 100 range, eg percent_fair_or_poor_health, percent_smokers, percent_vaccinated,\n",
    "# percent_adults_with_diabetes, percent_females, percent_physically_active, percent_adults_with_obesity\n",
    "\n",
    "# Max case cnt in a day reported is 14129 and max death count in a day 1221"
   ]
  },
  {
   "cell_type": "code",
   "execution_count": null,
   "metadata": {
    "id": "MKJimAblEUgy"
   },
   "outputs": [],
   "source": [
    "# Graphical Analysis:"
   ]
  },
  {
   "cell_type": "code",
   "execution_count": null,
   "metadata": {
    "id": "BTV9ZciMzmv5"
   },
   "outputs": [],
   "source": [
    "import seaborn as sns\n",
    "from scipy.stats import zscore"
   ]
  },
  {
   "cell_type": "code",
   "execution_count": null,
   "metadata": {
    "id": "e6UZoiAn1umE"
   },
   "outputs": [],
   "source": [
    "df5 = pd.DataFrame(df4)"
   ]
  },
  {
   "cell_type": "code",
   "execution_count": null,
   "metadata": {
    "id": "mibBGLHB1-Cu"
   },
   "outputs": [],
   "source": [
    "num_cols = df5.columns"
   ]
  },
  {
   "cell_type": "code",
   "execution_count": null,
   "metadata": {
    "colab": {
     "base_uri": "https://localhost:8080/"
    },
    "executionInfo": {
     "elapsed": 806,
     "status": "ok",
     "timestamp": 1606821488472,
     "user": {
      "displayName": "Dev B",
      "photoUrl": "",
      "userId": "15294155916341060001"
     },
     "user_tz": -330
    },
    "id": "_sp8PyIW2Noi",
    "outputId": "b99f9015-b901-40ab-88a3-6325b78c12d4"
   },
   "outputs": [
    {
     "data": {
      "text/plain": [
       "Index(['newdate', 'county', 'state', 'case_cnt', 'death_cnt',\n",
       "       'total_population', 'population_density_per_sqmi',\n",
       "       'percent_fair_or_poor_health',\n",
       "       'average_number_of_physically_unhealthy_days', 'percent_smokers',\n",
       "       'percent_adults_with_obesity', 'percent_physically_inactive',\n",
       "       'num_uninsured', 'num_primary_care_physicians', 'percent_vaccinated',\n",
       "       'overcrowding', 'life_expectancy', 'percent_adults_with_diabetes',\n",
       "       'num_hiv_cases', 'median_household_income', 'num_black',\n",
       "       'num_american_indian_alaska_native', 'num_asian',\n",
       "       'num_native_hawaiian_other_pacific_islander', 'num_hispanic',\n",
       "       'num_non_hispanic_white', 'percent_female', 'num_rural',\n",
       "       'num_below_poverty', 'num_unemployed_CDC', 'per_capita_income',\n",
       "       'num_age_65_and_older', 'num_age_17_and_younger', 'num_disabled',\n",
       "       'percent_below_poverty', 'km_to_closest_station', 'ELEV_M', 'mean_temp',\n",
       "       'dewpoint', 'wind_speed', 'precipitation', 'fog', 'rain', 'snow',\n",
       "       'hail'],\n",
       "      dtype='object')"
      ]
     },
     "execution_count": 72,
     "metadata": {
      "tags": []
     },
     "output_type": "execute_result"
    }
   ],
   "source": [
    "num_cols"
   ]
  },
  {
   "cell_type": "code",
   "execution_count": null,
   "metadata": {
    "id": "r_gem2wB9RKR"
   },
   "outputs": [],
   "source": [
    "# Rearranging Columns for better visibility of similar features"
   ]
  },
  {
   "cell_type": "code",
   "execution_count": null,
   "metadata": {
    "id": "zhOtWAT_L28_"
   },
   "outputs": [],
   "source": [
    "# Need to curate the list of features:\n",
    "# Features, median_household_income,km_to_closest_station,fog, hail can be removed as\n",
    "# median_household_income has a representation in per_capita_income\n",
    "# km_to_closest_station doesn't provide enough info on access to medical facility\n",
    "# fog, hail are occasional events\n",
    "# life expectancy just shows that people tend to live more however doesn't provide any info why"
   ]
  },
  {
   "cell_type": "code",
   "execution_count": null,
   "metadata": {
    "id": "QqLUTBp63t_Y"
   },
   "outputs": [],
   "source": [
    "li4 = list(['total_population','population_density_per_sqmi','num_black','num_american_indian_alaska_native',\n",
    "            'num_asian','num_native_hawaiian_other_pacific_islander','num_hispanic','num_non_hispanic_white',\n",
    "            'num_age_65_and_older','num_age_17_and_younger','num_disabled','num_below_poverty','num_rural','num_unemployed_CDC','num_uninsured',\n",
    "            'num_hiv_cases','percent_smokers','percent_adults_with_obesity','percent_adults_with_diabetes','percent_physically_inactive',\n",
    "            'percent_fair_or_poor_health','percent_vaccinated','percent_female', 'average_number_of_physically_unhealthy_days',\n",
    "            'num_primary_care_physicians','overcrowding','per_capita_income',\n",
    "            'ELEV_M', 'mean_temp','dewpoint', 'wind_speed', 'precipitation', \n",
    "            'rain', 'snow','case_cnt', 'death_cnt'])"
   ]
  },
  {
   "cell_type": "code",
   "execution_count": null,
   "metadata": {
    "id": "RPFNUwln7G5M"
   },
   "outputs": [],
   "source": [
    "df5 = df5[li4]"
   ]
  },
  {
   "cell_type": "code",
   "execution_count": null,
   "metadata": {
    "colab": {
     "base_uri": "https://localhost:8080/",
     "height": 222
    },
    "executionInfo": {
     "elapsed": 1247,
     "status": "ok",
     "timestamp": 1606808778440,
     "user": {
      "displayName": "Dev B",
      "photoUrl": "",
      "userId": "15294155916341060001"
     },
     "user_tz": -330
    },
    "id": "jaRhLtJL7bTm",
    "outputId": "f6cdb513-176b-483f-a031-485e310996c3"
   },
   "outputs": [
    {
     "data": {
      "text/html": [
       "<div>\n",
       "<style scoped>\n",
       "    .dataframe tbody tr th:only-of-type {\n",
       "        vertical-align: middle;\n",
       "    }\n",
       "\n",
       "    .dataframe tbody tr th {\n",
       "        vertical-align: top;\n",
       "    }\n",
       "\n",
       "    .dataframe thead th {\n",
       "        text-align: right;\n",
       "    }\n",
       "</style>\n",
       "<table border=\"1\" class=\"dataframe\">\n",
       "  <thead>\n",
       "    <tr style=\"text-align: right;\">\n",
       "      <th></th>\n",
       "      <th>total_population</th>\n",
       "      <th>population_density_per_sqmi</th>\n",
       "      <th>num_black</th>\n",
       "      <th>num_american_indian_alaska_native</th>\n",
       "      <th>num_asian</th>\n",
       "      <th>num_native_hawaiian_other_pacific_islander</th>\n",
       "      <th>num_hispanic</th>\n",
       "      <th>num_non_hispanic_white</th>\n",
       "      <th>num_age_65_and_older</th>\n",
       "      <th>num_age_17_and_younger</th>\n",
       "      <th>num_disabled</th>\n",
       "      <th>num_below_poverty</th>\n",
       "      <th>num_rural</th>\n",
       "      <th>num_unemployed_CDC</th>\n",
       "      <th>num_uninsured</th>\n",
       "      <th>num_hiv_cases</th>\n",
       "      <th>percent_smokers</th>\n",
       "      <th>percent_adults_with_obesity</th>\n",
       "      <th>percent_adults_with_diabetes</th>\n",
       "      <th>percent_physically_inactive</th>\n",
       "      <th>percent_fair_or_poor_health</th>\n",
       "      <th>percent_vaccinated</th>\n",
       "      <th>percent_female</th>\n",
       "      <th>average_number_of_physically_unhealthy_days</th>\n",
       "      <th>num_primary_care_physicians</th>\n",
       "      <th>overcrowding</th>\n",
       "      <th>per_capita_income</th>\n",
       "      <th>ELEV_M</th>\n",
       "      <th>mean_temp</th>\n",
       "      <th>dewpoint</th>\n",
       "      <th>wind_speed</th>\n",
       "      <th>precipitation</th>\n",
       "      <th>rain</th>\n",
       "      <th>snow</th>\n",
       "      <th>case_cnt</th>\n",
       "      <th>death_cnt</th>\n",
       "    </tr>\n",
       "  </thead>\n",
       "  <tbody>\n",
       "    <tr>\n",
       "      <th>0</th>\n",
       "      <td>758649.0</td>\n",
       "      <td>363.586159</td>\n",
       "      <td>27554.0</td>\n",
       "      <td>12877.0</td>\n",
       "      <td>94831.0</td>\n",
       "      <td>5618.0</td>\n",
       "      <td>85109.0</td>\n",
       "      <td>561043.0</td>\n",
       "      <td>91641.0</td>\n",
       "      <td>175821.0</td>\n",
       "      <td>89280.0</td>\n",
       "      <td>69695.0</td>\n",
       "      <td>77179.0</td>\n",
       "      <td>25009.0</td>\n",
       "      <td>43121.0</td>\n",
       "      <td>1017.0</td>\n",
       "      <td>12.962309</td>\n",
       "      <td>28.9</td>\n",
       "      <td>8.2</td>\n",
       "      <td>17.8</td>\n",
       "      <td>14.403971</td>\n",
       "      <td>49.0</td>\n",
       "      <td>49.827402</td>\n",
       "      <td>3.700802</td>\n",
       "      <td>421.0</td>\n",
       "      <td>2.948407</td>\n",
       "      <td>33883.0</td>\n",
       "      <td>41.8</td>\n",
       "      <td>44.1</td>\n",
       "      <td>40.3</td>\n",
       "      <td>8.3</td>\n",
       "      <td>0.00</td>\n",
       "      <td>1.0</td>\n",
       "      <td>0.0</td>\n",
       "      <td>-0.0</td>\n",
       "      <td>-0.0</td>\n",
       "    </tr>\n",
       "    <tr>\n",
       "      <th>1</th>\n",
       "      <td>758649.0</td>\n",
       "      <td>363.586159</td>\n",
       "      <td>27554.0</td>\n",
       "      <td>12877.0</td>\n",
       "      <td>94831.0</td>\n",
       "      <td>5618.0</td>\n",
       "      <td>85109.0</td>\n",
       "      <td>561043.0</td>\n",
       "      <td>91641.0</td>\n",
       "      <td>175821.0</td>\n",
       "      <td>89280.0</td>\n",
       "      <td>69695.0</td>\n",
       "      <td>77179.0</td>\n",
       "      <td>25009.0</td>\n",
       "      <td>43121.0</td>\n",
       "      <td>1017.0</td>\n",
       "      <td>12.962309</td>\n",
       "      <td>28.9</td>\n",
       "      <td>8.2</td>\n",
       "      <td>17.8</td>\n",
       "      <td>14.403971</td>\n",
       "      <td>49.0</td>\n",
       "      <td>49.827402</td>\n",
       "      <td>3.700802</td>\n",
       "      <td>421.0</td>\n",
       "      <td>2.948407</td>\n",
       "      <td>33883.0</td>\n",
       "      <td>41.8</td>\n",
       "      <td>44.8</td>\n",
       "      <td>40.3</td>\n",
       "      <td>13.2</td>\n",
       "      <td>0.29</td>\n",
       "      <td>1.0</td>\n",
       "      <td>0.0</td>\n",
       "      <td>-0.0</td>\n",
       "      <td>-0.0</td>\n",
       "    </tr>\n",
       "    <tr>\n",
       "      <th>2</th>\n",
       "      <td>758649.0</td>\n",
       "      <td>363.586159</td>\n",
       "      <td>27554.0</td>\n",
       "      <td>12877.0</td>\n",
       "      <td>94831.0</td>\n",
       "      <td>5618.0</td>\n",
       "      <td>85109.0</td>\n",
       "      <td>561043.0</td>\n",
       "      <td>91641.0</td>\n",
       "      <td>175821.0</td>\n",
       "      <td>89280.0</td>\n",
       "      <td>69695.0</td>\n",
       "      <td>77179.0</td>\n",
       "      <td>25009.0</td>\n",
       "      <td>43121.0</td>\n",
       "      <td>1017.0</td>\n",
       "      <td>12.962309</td>\n",
       "      <td>28.9</td>\n",
       "      <td>8.2</td>\n",
       "      <td>17.8</td>\n",
       "      <td>14.403971</td>\n",
       "      <td>49.0</td>\n",
       "      <td>49.827402</td>\n",
       "      <td>3.700802</td>\n",
       "      <td>421.0</td>\n",
       "      <td>2.948407</td>\n",
       "      <td>33883.0</td>\n",
       "      <td>41.8</td>\n",
       "      <td>49.9</td>\n",
       "      <td>47.3</td>\n",
       "      <td>12.0</td>\n",
       "      <td>0.54</td>\n",
       "      <td>1.0</td>\n",
       "      <td>0.0</td>\n",
       "      <td>-0.0</td>\n",
       "      <td>-0.0</td>\n",
       "    </tr>\n",
       "    <tr>\n",
       "      <th>3</th>\n",
       "      <td>5227575.0</td>\n",
       "      <td>5531.878539</td>\n",
       "      <td>1193642.0</td>\n",
       "      <td>38253.0</td>\n",
       "      <td>408151.0</td>\n",
       "      <td>3873.0</td>\n",
       "      <td>1323017.0</td>\n",
       "      <td>2180074.0</td>\n",
       "      <td>677659.0</td>\n",
       "      <td>1186398.0</td>\n",
       "      <td>536288.0</td>\n",
       "      <td>856682.0</td>\n",
       "      <td>2353.0</td>\n",
       "      <td>266397.0</td>\n",
       "      <td>437634.0</td>\n",
       "      <td>25780.0</td>\n",
       "      <td>13.776183</td>\n",
       "      <td>28.0</td>\n",
       "      <td>9.5</td>\n",
       "      <td>21.0</td>\n",
       "      <td>17.140851</td>\n",
       "      <td>45.0</td>\n",
       "      <td>51.431630</td>\n",
       "      <td>3.471088</td>\n",
       "      <td>4863.0</td>\n",
       "      <td>3.627783</td>\n",
       "      <td>32179.0</td>\n",
       "      <td>186.5</td>\n",
       "      <td>36.1</td>\n",
       "      <td>34.7</td>\n",
       "      <td>4.8</td>\n",
       "      <td>0.16</td>\n",
       "      <td>1.0</td>\n",
       "      <td>1.0</td>\n",
       "      <td>-0.0</td>\n",
       "      <td>-0.0</td>\n",
       "    </tr>\n",
       "    <tr>\n",
       "      <th>4</th>\n",
       "      <td>758649.0</td>\n",
       "      <td>363.586159</td>\n",
       "      <td>27554.0</td>\n",
       "      <td>12877.0</td>\n",
       "      <td>94831.0</td>\n",
       "      <td>5618.0</td>\n",
       "      <td>85109.0</td>\n",
       "      <td>561043.0</td>\n",
       "      <td>91641.0</td>\n",
       "      <td>175821.0</td>\n",
       "      <td>89280.0</td>\n",
       "      <td>69695.0</td>\n",
       "      <td>77179.0</td>\n",
       "      <td>25009.0</td>\n",
       "      <td>43121.0</td>\n",
       "      <td>1017.0</td>\n",
       "      <td>12.962309</td>\n",
       "      <td>28.9</td>\n",
       "      <td>8.2</td>\n",
       "      <td>17.8</td>\n",
       "      <td>14.403971</td>\n",
       "      <td>49.0</td>\n",
       "      <td>49.827402</td>\n",
       "      <td>3.700802</td>\n",
       "      <td>421.0</td>\n",
       "      <td>2.948407</td>\n",
       "      <td>33883.0</td>\n",
       "      <td>41.8</td>\n",
       "      <td>51.5</td>\n",
       "      <td>46.6</td>\n",
       "      <td>13.0</td>\n",
       "      <td>0.32</td>\n",
       "      <td>1.0</td>\n",
       "      <td>0.0</td>\n",
       "      <td>-0.0</td>\n",
       "      <td>-0.0</td>\n",
       "    </tr>\n",
       "  </tbody>\n",
       "</table>\n",
       "</div>"
      ],
      "text/plain": [
       "   total_population  population_density_per_sqmi  ...  case_cnt  death_cnt\n",
       "0          758649.0                   363.586159  ...      -0.0       -0.0\n",
       "1          758649.0                   363.586159  ...      -0.0       -0.0\n",
       "2          758649.0                   363.586159  ...      -0.0       -0.0\n",
       "3         5227575.0                  5531.878539  ...      -0.0       -0.0\n",
       "4          758649.0                   363.586159  ...      -0.0       -0.0\n",
       "\n",
       "[5 rows x 36 columns]"
      ]
     },
     "execution_count": 75,
     "metadata": {
      "tags": []
     },
     "output_type": "execute_result"
    }
   ],
   "source": [
    "df5.head()"
   ]
  },
  {
   "cell_type": "code",
   "execution_count": null,
   "metadata": {
    "id": "rFL0biZ-8dJO"
   },
   "outputs": [],
   "source": [
    "# To Attempt problem statement C i.e,\n",
    "# a. to identify key features which are responsible for cases (or daily infections)\n",
    "# b. to identify key features which are responsible for daily deaths\n",
    "# We'll have to segregate the dataframe into two separate dataframes. Both the dataframes will have all the features except the\n",
    "# targets will will case_cnt and death_cnt for both these dataframes"
   ]
  },
  {
   "cell_type": "code",
   "execution_count": null,
   "metadata": {
    "id": "CGz6XikF98Ag"
   },
   "outputs": [],
   "source": [
    "df_case = pd.DataFrame(df5)"
   ]
  },
  {
   "cell_type": "code",
   "execution_count": null,
   "metadata": {
    "id": "jS5llnqn9Xjs"
   },
   "outputs": [],
   "source": [
    "df_case.drop('death_cnt',axis =1, inplace=True)"
   ]
  },
  {
   "cell_type": "code",
   "execution_count": null,
   "metadata": {
    "colab": {
     "base_uri": "https://localhost:8080/",
     "height": 222
    },
    "executionInfo": {
     "elapsed": 1015,
     "status": "ok",
     "timestamp": 1606821500397,
     "user": {
      "displayName": "Dev B",
      "photoUrl": "",
      "userId": "15294155916341060001"
     },
     "user_tz": -330
    },
    "id": "umw4Wa_Q9o1L",
    "outputId": "89db05fa-61c5-4248-8366-ddce3a7e3317"
   },
   "outputs": [
    {
     "data": {
      "text/html": [
       "<div>\n",
       "<style scoped>\n",
       "    .dataframe tbody tr th:only-of-type {\n",
       "        vertical-align: middle;\n",
       "    }\n",
       "\n",
       "    .dataframe tbody tr th {\n",
       "        vertical-align: top;\n",
       "    }\n",
       "\n",
       "    .dataframe thead th {\n",
       "        text-align: right;\n",
       "    }\n",
       "</style>\n",
       "<table border=\"1\" class=\"dataframe\">\n",
       "  <thead>\n",
       "    <tr style=\"text-align: right;\">\n",
       "      <th></th>\n",
       "      <th>total_population</th>\n",
       "      <th>population_density_per_sqmi</th>\n",
       "      <th>num_black</th>\n",
       "      <th>num_american_indian_alaska_native</th>\n",
       "      <th>num_asian</th>\n",
       "      <th>num_native_hawaiian_other_pacific_islander</th>\n",
       "      <th>num_hispanic</th>\n",
       "      <th>num_non_hispanic_white</th>\n",
       "      <th>num_age_65_and_older</th>\n",
       "      <th>num_age_17_and_younger</th>\n",
       "      <th>num_disabled</th>\n",
       "      <th>num_below_poverty</th>\n",
       "      <th>num_rural</th>\n",
       "      <th>num_unemployed_CDC</th>\n",
       "      <th>num_uninsured</th>\n",
       "      <th>num_hiv_cases</th>\n",
       "      <th>percent_smokers</th>\n",
       "      <th>percent_adults_with_obesity</th>\n",
       "      <th>percent_adults_with_diabetes</th>\n",
       "      <th>percent_physically_inactive</th>\n",
       "      <th>percent_fair_or_poor_health</th>\n",
       "      <th>percent_vaccinated</th>\n",
       "      <th>percent_female</th>\n",
       "      <th>average_number_of_physically_unhealthy_days</th>\n",
       "      <th>num_primary_care_physicians</th>\n",
       "      <th>overcrowding</th>\n",
       "      <th>per_capita_income</th>\n",
       "      <th>ELEV_M</th>\n",
       "      <th>mean_temp</th>\n",
       "      <th>dewpoint</th>\n",
       "      <th>wind_speed</th>\n",
       "      <th>precipitation</th>\n",
       "      <th>rain</th>\n",
       "      <th>snow</th>\n",
       "      <th>case_cnt</th>\n",
       "    </tr>\n",
       "  </thead>\n",
       "  <tbody>\n",
       "    <tr>\n",
       "      <th>0</th>\n",
       "      <td>758649.0</td>\n",
       "      <td>363.586159</td>\n",
       "      <td>27554.0</td>\n",
       "      <td>12877.0</td>\n",
       "      <td>94831.0</td>\n",
       "      <td>5618.0</td>\n",
       "      <td>85109.0</td>\n",
       "      <td>561043.0</td>\n",
       "      <td>91641.0</td>\n",
       "      <td>175821.0</td>\n",
       "      <td>89280.0</td>\n",
       "      <td>69695.0</td>\n",
       "      <td>77179.0</td>\n",
       "      <td>25009.0</td>\n",
       "      <td>43121.0</td>\n",
       "      <td>1017.0</td>\n",
       "      <td>12.962309</td>\n",
       "      <td>28.9</td>\n",
       "      <td>8.2</td>\n",
       "      <td>17.8</td>\n",
       "      <td>14.403971</td>\n",
       "      <td>49.0</td>\n",
       "      <td>49.827402</td>\n",
       "      <td>3.700802</td>\n",
       "      <td>421.0</td>\n",
       "      <td>2.948407</td>\n",
       "      <td>33883.0</td>\n",
       "      <td>41.8</td>\n",
       "      <td>44.1</td>\n",
       "      <td>40.3</td>\n",
       "      <td>8.3</td>\n",
       "      <td>0.00</td>\n",
       "      <td>1.0</td>\n",
       "      <td>0.0</td>\n",
       "      <td>-0.0</td>\n",
       "    </tr>\n",
       "    <tr>\n",
       "      <th>1</th>\n",
       "      <td>758649.0</td>\n",
       "      <td>363.586159</td>\n",
       "      <td>27554.0</td>\n",
       "      <td>12877.0</td>\n",
       "      <td>94831.0</td>\n",
       "      <td>5618.0</td>\n",
       "      <td>85109.0</td>\n",
       "      <td>561043.0</td>\n",
       "      <td>91641.0</td>\n",
       "      <td>175821.0</td>\n",
       "      <td>89280.0</td>\n",
       "      <td>69695.0</td>\n",
       "      <td>77179.0</td>\n",
       "      <td>25009.0</td>\n",
       "      <td>43121.0</td>\n",
       "      <td>1017.0</td>\n",
       "      <td>12.962309</td>\n",
       "      <td>28.9</td>\n",
       "      <td>8.2</td>\n",
       "      <td>17.8</td>\n",
       "      <td>14.403971</td>\n",
       "      <td>49.0</td>\n",
       "      <td>49.827402</td>\n",
       "      <td>3.700802</td>\n",
       "      <td>421.0</td>\n",
       "      <td>2.948407</td>\n",
       "      <td>33883.0</td>\n",
       "      <td>41.8</td>\n",
       "      <td>44.8</td>\n",
       "      <td>40.3</td>\n",
       "      <td>13.2</td>\n",
       "      <td>0.29</td>\n",
       "      <td>1.0</td>\n",
       "      <td>0.0</td>\n",
       "      <td>-0.0</td>\n",
       "    </tr>\n",
       "    <tr>\n",
       "      <th>2</th>\n",
       "      <td>758649.0</td>\n",
       "      <td>363.586159</td>\n",
       "      <td>27554.0</td>\n",
       "      <td>12877.0</td>\n",
       "      <td>94831.0</td>\n",
       "      <td>5618.0</td>\n",
       "      <td>85109.0</td>\n",
       "      <td>561043.0</td>\n",
       "      <td>91641.0</td>\n",
       "      <td>175821.0</td>\n",
       "      <td>89280.0</td>\n",
       "      <td>69695.0</td>\n",
       "      <td>77179.0</td>\n",
       "      <td>25009.0</td>\n",
       "      <td>43121.0</td>\n",
       "      <td>1017.0</td>\n",
       "      <td>12.962309</td>\n",
       "      <td>28.9</td>\n",
       "      <td>8.2</td>\n",
       "      <td>17.8</td>\n",
       "      <td>14.403971</td>\n",
       "      <td>49.0</td>\n",
       "      <td>49.827402</td>\n",
       "      <td>3.700802</td>\n",
       "      <td>421.0</td>\n",
       "      <td>2.948407</td>\n",
       "      <td>33883.0</td>\n",
       "      <td>41.8</td>\n",
       "      <td>49.9</td>\n",
       "      <td>47.3</td>\n",
       "      <td>12.0</td>\n",
       "      <td>0.54</td>\n",
       "      <td>1.0</td>\n",
       "      <td>0.0</td>\n",
       "      <td>-0.0</td>\n",
       "    </tr>\n",
       "    <tr>\n",
       "      <th>3</th>\n",
       "      <td>5227575.0</td>\n",
       "      <td>5531.878539</td>\n",
       "      <td>1193642.0</td>\n",
       "      <td>38253.0</td>\n",
       "      <td>408151.0</td>\n",
       "      <td>3873.0</td>\n",
       "      <td>1323017.0</td>\n",
       "      <td>2180074.0</td>\n",
       "      <td>677659.0</td>\n",
       "      <td>1186398.0</td>\n",
       "      <td>536288.0</td>\n",
       "      <td>856682.0</td>\n",
       "      <td>2353.0</td>\n",
       "      <td>266397.0</td>\n",
       "      <td>437634.0</td>\n",
       "      <td>25780.0</td>\n",
       "      <td>13.776183</td>\n",
       "      <td>28.0</td>\n",
       "      <td>9.5</td>\n",
       "      <td>21.0</td>\n",
       "      <td>17.140851</td>\n",
       "      <td>45.0</td>\n",
       "      <td>51.431630</td>\n",
       "      <td>3.471088</td>\n",
       "      <td>4863.0</td>\n",
       "      <td>3.627783</td>\n",
       "      <td>32179.0</td>\n",
       "      <td>186.5</td>\n",
       "      <td>36.1</td>\n",
       "      <td>34.7</td>\n",
       "      <td>4.8</td>\n",
       "      <td>0.16</td>\n",
       "      <td>1.0</td>\n",
       "      <td>1.0</td>\n",
       "      <td>-0.0</td>\n",
       "    </tr>\n",
       "    <tr>\n",
       "      <th>4</th>\n",
       "      <td>758649.0</td>\n",
       "      <td>363.586159</td>\n",
       "      <td>27554.0</td>\n",
       "      <td>12877.0</td>\n",
       "      <td>94831.0</td>\n",
       "      <td>5618.0</td>\n",
       "      <td>85109.0</td>\n",
       "      <td>561043.0</td>\n",
       "      <td>91641.0</td>\n",
       "      <td>175821.0</td>\n",
       "      <td>89280.0</td>\n",
       "      <td>69695.0</td>\n",
       "      <td>77179.0</td>\n",
       "      <td>25009.0</td>\n",
       "      <td>43121.0</td>\n",
       "      <td>1017.0</td>\n",
       "      <td>12.962309</td>\n",
       "      <td>28.9</td>\n",
       "      <td>8.2</td>\n",
       "      <td>17.8</td>\n",
       "      <td>14.403971</td>\n",
       "      <td>49.0</td>\n",
       "      <td>49.827402</td>\n",
       "      <td>3.700802</td>\n",
       "      <td>421.0</td>\n",
       "      <td>2.948407</td>\n",
       "      <td>33883.0</td>\n",
       "      <td>41.8</td>\n",
       "      <td>51.5</td>\n",
       "      <td>46.6</td>\n",
       "      <td>13.0</td>\n",
       "      <td>0.32</td>\n",
       "      <td>1.0</td>\n",
       "      <td>0.0</td>\n",
       "      <td>-0.0</td>\n",
       "    </tr>\n",
       "  </tbody>\n",
       "</table>\n",
       "</div>"
      ],
      "text/plain": [
       "   total_population  population_density_per_sqmi  ...  snow  case_cnt\n",
       "0          758649.0                   363.586159  ...   0.0      -0.0\n",
       "1          758649.0                   363.586159  ...   0.0      -0.0\n",
       "2          758649.0                   363.586159  ...   0.0      -0.0\n",
       "3         5227575.0                  5531.878539  ...   1.0      -0.0\n",
       "4          758649.0                   363.586159  ...   0.0      -0.0\n",
       "\n",
       "[5 rows x 35 columns]"
      ]
     },
     "execution_count": 77,
     "metadata": {
      "tags": []
     },
     "output_type": "execute_result"
    }
   ],
   "source": [
    "df_case.head()"
   ]
  },
  {
   "cell_type": "code",
   "execution_count": null,
   "metadata": {
    "id": "-oaAQwAp-fX5"
   },
   "outputs": [],
   "source": [
    "df_death = pd.DataFrame(df5)"
   ]
  },
  {
   "cell_type": "code",
   "execution_count": null,
   "metadata": {
    "id": "qKWjZct0-jRt"
   },
   "outputs": [],
   "source": [
    "df_death.drop('case_cnt',axis =1, inplace=True)"
   ]
  },
  {
   "cell_type": "code",
   "execution_count": null,
   "metadata": {
    "colab": {
     "base_uri": "https://localhost:8080/",
     "height": 222
    },
    "executionInfo": {
     "elapsed": 831,
     "status": "ok",
     "timestamp": 1606821506345,
     "user": {
      "displayName": "Dev B",
      "photoUrl": "",
      "userId": "15294155916341060001"
     },
     "user_tz": -330
    },
    "id": "JgKavDKL-jWf",
    "outputId": "4222db29-3554-467d-e537-67b0e01db25b"
   },
   "outputs": [
    {
     "data": {
      "text/html": [
       "<div>\n",
       "<style scoped>\n",
       "    .dataframe tbody tr th:only-of-type {\n",
       "        vertical-align: middle;\n",
       "    }\n",
       "\n",
       "    .dataframe tbody tr th {\n",
       "        vertical-align: top;\n",
       "    }\n",
       "\n",
       "    .dataframe thead th {\n",
       "        text-align: right;\n",
       "    }\n",
       "</style>\n",
       "<table border=\"1\" class=\"dataframe\">\n",
       "  <thead>\n",
       "    <tr style=\"text-align: right;\">\n",
       "      <th></th>\n",
       "      <th>total_population</th>\n",
       "      <th>population_density_per_sqmi</th>\n",
       "      <th>num_black</th>\n",
       "      <th>num_american_indian_alaska_native</th>\n",
       "      <th>num_asian</th>\n",
       "      <th>num_native_hawaiian_other_pacific_islander</th>\n",
       "      <th>num_hispanic</th>\n",
       "      <th>num_non_hispanic_white</th>\n",
       "      <th>num_age_65_and_older</th>\n",
       "      <th>num_age_17_and_younger</th>\n",
       "      <th>num_disabled</th>\n",
       "      <th>num_below_poverty</th>\n",
       "      <th>num_rural</th>\n",
       "      <th>num_unemployed_CDC</th>\n",
       "      <th>num_uninsured</th>\n",
       "      <th>num_hiv_cases</th>\n",
       "      <th>percent_smokers</th>\n",
       "      <th>percent_adults_with_obesity</th>\n",
       "      <th>percent_adults_with_diabetes</th>\n",
       "      <th>percent_physically_inactive</th>\n",
       "      <th>percent_fair_or_poor_health</th>\n",
       "      <th>percent_vaccinated</th>\n",
       "      <th>percent_female</th>\n",
       "      <th>average_number_of_physically_unhealthy_days</th>\n",
       "      <th>num_primary_care_physicians</th>\n",
       "      <th>overcrowding</th>\n",
       "      <th>per_capita_income</th>\n",
       "      <th>ELEV_M</th>\n",
       "      <th>mean_temp</th>\n",
       "      <th>dewpoint</th>\n",
       "      <th>wind_speed</th>\n",
       "      <th>precipitation</th>\n",
       "      <th>rain</th>\n",
       "      <th>snow</th>\n",
       "      <th>death_cnt</th>\n",
       "    </tr>\n",
       "  </thead>\n",
       "  <tbody>\n",
       "    <tr>\n",
       "      <th>0</th>\n",
       "      <td>758649.0</td>\n",
       "      <td>363.586159</td>\n",
       "      <td>27554.0</td>\n",
       "      <td>12877.0</td>\n",
       "      <td>94831.0</td>\n",
       "      <td>5618.0</td>\n",
       "      <td>85109.0</td>\n",
       "      <td>561043.0</td>\n",
       "      <td>91641.0</td>\n",
       "      <td>175821.0</td>\n",
       "      <td>89280.0</td>\n",
       "      <td>69695.0</td>\n",
       "      <td>77179.0</td>\n",
       "      <td>25009.0</td>\n",
       "      <td>43121.0</td>\n",
       "      <td>1017.0</td>\n",
       "      <td>12.962309</td>\n",
       "      <td>28.9</td>\n",
       "      <td>8.2</td>\n",
       "      <td>17.8</td>\n",
       "      <td>14.403971</td>\n",
       "      <td>49.0</td>\n",
       "      <td>49.827402</td>\n",
       "      <td>3.700802</td>\n",
       "      <td>421.0</td>\n",
       "      <td>2.948407</td>\n",
       "      <td>33883.0</td>\n",
       "      <td>41.8</td>\n",
       "      <td>44.1</td>\n",
       "      <td>40.3</td>\n",
       "      <td>8.3</td>\n",
       "      <td>0.00</td>\n",
       "      <td>1.0</td>\n",
       "      <td>0.0</td>\n",
       "      <td>-0.0</td>\n",
       "    </tr>\n",
       "    <tr>\n",
       "      <th>1</th>\n",
       "      <td>758649.0</td>\n",
       "      <td>363.586159</td>\n",
       "      <td>27554.0</td>\n",
       "      <td>12877.0</td>\n",
       "      <td>94831.0</td>\n",
       "      <td>5618.0</td>\n",
       "      <td>85109.0</td>\n",
       "      <td>561043.0</td>\n",
       "      <td>91641.0</td>\n",
       "      <td>175821.0</td>\n",
       "      <td>89280.0</td>\n",
       "      <td>69695.0</td>\n",
       "      <td>77179.0</td>\n",
       "      <td>25009.0</td>\n",
       "      <td>43121.0</td>\n",
       "      <td>1017.0</td>\n",
       "      <td>12.962309</td>\n",
       "      <td>28.9</td>\n",
       "      <td>8.2</td>\n",
       "      <td>17.8</td>\n",
       "      <td>14.403971</td>\n",
       "      <td>49.0</td>\n",
       "      <td>49.827402</td>\n",
       "      <td>3.700802</td>\n",
       "      <td>421.0</td>\n",
       "      <td>2.948407</td>\n",
       "      <td>33883.0</td>\n",
       "      <td>41.8</td>\n",
       "      <td>44.8</td>\n",
       "      <td>40.3</td>\n",
       "      <td>13.2</td>\n",
       "      <td>0.29</td>\n",
       "      <td>1.0</td>\n",
       "      <td>0.0</td>\n",
       "      <td>-0.0</td>\n",
       "    </tr>\n",
       "    <tr>\n",
       "      <th>2</th>\n",
       "      <td>758649.0</td>\n",
       "      <td>363.586159</td>\n",
       "      <td>27554.0</td>\n",
       "      <td>12877.0</td>\n",
       "      <td>94831.0</td>\n",
       "      <td>5618.0</td>\n",
       "      <td>85109.0</td>\n",
       "      <td>561043.0</td>\n",
       "      <td>91641.0</td>\n",
       "      <td>175821.0</td>\n",
       "      <td>89280.0</td>\n",
       "      <td>69695.0</td>\n",
       "      <td>77179.0</td>\n",
       "      <td>25009.0</td>\n",
       "      <td>43121.0</td>\n",
       "      <td>1017.0</td>\n",
       "      <td>12.962309</td>\n",
       "      <td>28.9</td>\n",
       "      <td>8.2</td>\n",
       "      <td>17.8</td>\n",
       "      <td>14.403971</td>\n",
       "      <td>49.0</td>\n",
       "      <td>49.827402</td>\n",
       "      <td>3.700802</td>\n",
       "      <td>421.0</td>\n",
       "      <td>2.948407</td>\n",
       "      <td>33883.0</td>\n",
       "      <td>41.8</td>\n",
       "      <td>49.9</td>\n",
       "      <td>47.3</td>\n",
       "      <td>12.0</td>\n",
       "      <td>0.54</td>\n",
       "      <td>1.0</td>\n",
       "      <td>0.0</td>\n",
       "      <td>-0.0</td>\n",
       "    </tr>\n",
       "    <tr>\n",
       "      <th>3</th>\n",
       "      <td>5227575.0</td>\n",
       "      <td>5531.878539</td>\n",
       "      <td>1193642.0</td>\n",
       "      <td>38253.0</td>\n",
       "      <td>408151.0</td>\n",
       "      <td>3873.0</td>\n",
       "      <td>1323017.0</td>\n",
       "      <td>2180074.0</td>\n",
       "      <td>677659.0</td>\n",
       "      <td>1186398.0</td>\n",
       "      <td>536288.0</td>\n",
       "      <td>856682.0</td>\n",
       "      <td>2353.0</td>\n",
       "      <td>266397.0</td>\n",
       "      <td>437634.0</td>\n",
       "      <td>25780.0</td>\n",
       "      <td>13.776183</td>\n",
       "      <td>28.0</td>\n",
       "      <td>9.5</td>\n",
       "      <td>21.0</td>\n",
       "      <td>17.140851</td>\n",
       "      <td>45.0</td>\n",
       "      <td>51.431630</td>\n",
       "      <td>3.471088</td>\n",
       "      <td>4863.0</td>\n",
       "      <td>3.627783</td>\n",
       "      <td>32179.0</td>\n",
       "      <td>186.5</td>\n",
       "      <td>36.1</td>\n",
       "      <td>34.7</td>\n",
       "      <td>4.8</td>\n",
       "      <td>0.16</td>\n",
       "      <td>1.0</td>\n",
       "      <td>1.0</td>\n",
       "      <td>-0.0</td>\n",
       "    </tr>\n",
       "    <tr>\n",
       "      <th>4</th>\n",
       "      <td>758649.0</td>\n",
       "      <td>363.586159</td>\n",
       "      <td>27554.0</td>\n",
       "      <td>12877.0</td>\n",
       "      <td>94831.0</td>\n",
       "      <td>5618.0</td>\n",
       "      <td>85109.0</td>\n",
       "      <td>561043.0</td>\n",
       "      <td>91641.0</td>\n",
       "      <td>175821.0</td>\n",
       "      <td>89280.0</td>\n",
       "      <td>69695.0</td>\n",
       "      <td>77179.0</td>\n",
       "      <td>25009.0</td>\n",
       "      <td>43121.0</td>\n",
       "      <td>1017.0</td>\n",
       "      <td>12.962309</td>\n",
       "      <td>28.9</td>\n",
       "      <td>8.2</td>\n",
       "      <td>17.8</td>\n",
       "      <td>14.403971</td>\n",
       "      <td>49.0</td>\n",
       "      <td>49.827402</td>\n",
       "      <td>3.700802</td>\n",
       "      <td>421.0</td>\n",
       "      <td>2.948407</td>\n",
       "      <td>33883.0</td>\n",
       "      <td>41.8</td>\n",
       "      <td>51.5</td>\n",
       "      <td>46.6</td>\n",
       "      <td>13.0</td>\n",
       "      <td>0.32</td>\n",
       "      <td>1.0</td>\n",
       "      <td>0.0</td>\n",
       "      <td>-0.0</td>\n",
       "    </tr>\n",
       "  </tbody>\n",
       "</table>\n",
       "</div>"
      ],
      "text/plain": [
       "   total_population  population_density_per_sqmi  ...  snow  death_cnt\n",
       "0          758649.0                   363.586159  ...   0.0       -0.0\n",
       "1          758649.0                   363.586159  ...   0.0       -0.0\n",
       "2          758649.0                   363.586159  ...   0.0       -0.0\n",
       "3         5227575.0                  5531.878539  ...   1.0       -0.0\n",
       "4          758649.0                   363.586159  ...   0.0       -0.0\n",
       "\n",
       "[5 rows x 35 columns]"
      ]
     },
     "execution_count": 80,
     "metadata": {
      "tags": []
     },
     "output_type": "execute_result"
    }
   ],
   "source": [
    "df_death.head()"
   ]
  },
  {
   "cell_type": "code",
   "execution_count": null,
   "metadata": {
    "id": "rhdI0MDHL235"
   },
   "outputs": [],
   "source": [
    "# The features are distinctly segregated into two categories, static and dynamic.\n",
    "# Static Features like, total_population, ethinicity distribution(hispanic/asian/black etc), income distribution, \n",
    "# health parameters of population etc do not change and are fixed for counties\n",
    "# Dynamic Features like weather(temperature, dew point, precipitation) etc change daily along with the target feature"
   ]
  },
  {
   "cell_type": "markdown",
   "metadata": {
    "id": "nrGgpAd3L3CL"
   },
   "source": [
    "# Deriving key Features for Cases/Infections"
   ]
  },
  {
   "cell_type": "code",
   "execution_count": null,
   "metadata": {
    "id": "VXPjNhVhZ3Fb"
   },
   "outputs": [],
   "source": [
    "X_case = df_case.drop('case_cnt',axis=1)\n",
    "y_case = df_case.pop('case_cnt')"
   ]
  },
  {
   "cell_type": "code",
   "execution_count": null,
   "metadata": {
    "id": "b9XUQeCKZ3Fb"
   },
   "outputs": [],
   "source": [
    "from sklearn.model_selection import train_test_split\n",
    "\n",
    "X_TrainCase, X_TestCase, y_TrainCase, y_TestCase = train_test_split(X_case, y_case, test_size=0.30, random_state=1)"
   ]
  },
  {
   "cell_type": "code",
   "execution_count": null,
   "metadata": {
    "colab": {
     "base_uri": "https://localhost:8080/"
    },
    "executionInfo": {
     "elapsed": 1210,
     "status": "ok",
     "timestamp": 1606821514154,
     "user": {
      "displayName": "Dev B",
      "photoUrl": "",
      "userId": "15294155916341060001"
     },
     "user_tz": -330
    },
    "id": "4f5xJLzJZ3Fb",
    "outputId": "6bacafdb-2ea9-4915-8ebe-8bbba36243a6"
   },
   "outputs": [
    {
     "data": {
      "text/plain": [
       "((466130, 34), (199770, 34))"
      ]
     },
     "execution_count": 83,
     "metadata": {
      "tags": []
     },
     "output_type": "execute_result"
    }
   ],
   "source": [
    "X_TrainCase.shape, X_TestCase.shape"
   ]
  },
  {
   "cell_type": "code",
   "execution_count": null,
   "metadata": {
    "id": "I7QcioNCZ3Fb"
   },
   "outputs": [],
   "source": [
    "col_names = list(X_TrainCase.columns)"
   ]
  },
  {
   "cell_type": "code",
   "execution_count": null,
   "metadata": {
    "id": "Of0i5sxMZ3Fb"
   },
   "outputs": [],
   "source": [
    "# Scaling the overall data set\n",
    "from scipy.stats import zscore\n",
    "X_TrainCase_zscore = X_TrainCase.apply(zscore)\n",
    "\n",
    "#from sklearn import preprocessing\n",
    "\n",
    "#mm_scaler = preprocessing.MinMaxScaler()\n",
    "#X_TrainCase_mxscaled = mm_scaler.fit_transform(X_TrainCase) # This resulted in X_TrainCase_mxscaled as a numpy.ndarray\n",
    "\n",
    "#X_TrainCase_mxscaled = pd.DataFrame(X_TrainCase_mxscaled, columns=col_names) # converting to DataFrame"
   ]
  },
  {
   "cell_type": "code",
   "execution_count": null,
   "metadata": {
    "colab": {
     "base_uri": "https://localhost:8080/",
     "height": 401
    },
    "executionInfo": {
     "elapsed": 1711,
     "status": "ok",
     "timestamp": 1606821522554,
     "user": {
      "displayName": "Dev B",
      "photoUrl": "",
      "userId": "15294155916341060001"
     },
     "user_tz": -330
    },
    "id": "fQQJvGFnZ3Fb",
    "outputId": "90c6b66e-52a4-439c-d9f2-07e6f20c4333"
   },
   "outputs": [
    {
     "data": {
      "text/html": [
       "<div>\n",
       "<style scoped>\n",
       "    .dataframe tbody tr th:only-of-type {\n",
       "        vertical-align: middle;\n",
       "    }\n",
       "\n",
       "    .dataframe tbody tr th {\n",
       "        vertical-align: top;\n",
       "    }\n",
       "\n",
       "    .dataframe thead th {\n",
       "        text-align: right;\n",
       "    }\n",
       "</style>\n",
       "<table border=\"1\" class=\"dataframe\">\n",
       "  <thead>\n",
       "    <tr style=\"text-align: right;\">\n",
       "      <th></th>\n",
       "      <th>total_population</th>\n",
       "      <th>population_density_per_sqmi</th>\n",
       "      <th>num_black</th>\n",
       "      <th>num_american_indian_alaska_native</th>\n",
       "      <th>num_asian</th>\n",
       "      <th>num_native_hawaiian_other_pacific_islander</th>\n",
       "      <th>num_hispanic</th>\n",
       "      <th>num_non_hispanic_white</th>\n",
       "      <th>num_age_65_and_older</th>\n",
       "      <th>num_age_17_and_younger</th>\n",
       "      <th>num_disabled</th>\n",
       "      <th>num_below_poverty</th>\n",
       "      <th>num_rural</th>\n",
       "      <th>num_unemployed_CDC</th>\n",
       "      <th>num_uninsured</th>\n",
       "      <th>num_hiv_cases</th>\n",
       "      <th>percent_smokers</th>\n",
       "      <th>percent_adults_with_obesity</th>\n",
       "      <th>percent_adults_with_diabetes</th>\n",
       "      <th>percent_physically_inactive</th>\n",
       "      <th>percent_fair_or_poor_health</th>\n",
       "      <th>percent_vaccinated</th>\n",
       "      <th>percent_female</th>\n",
       "      <th>average_number_of_physically_unhealthy_days</th>\n",
       "      <th>num_primary_care_physicians</th>\n",
       "      <th>overcrowding</th>\n",
       "      <th>per_capita_income</th>\n",
       "      <th>ELEV_M</th>\n",
       "      <th>mean_temp</th>\n",
       "      <th>dewpoint</th>\n",
       "      <th>wind_speed</th>\n",
       "      <th>precipitation</th>\n",
       "      <th>rain</th>\n",
       "      <th>snow</th>\n",
       "    </tr>\n",
       "  </thead>\n",
       "  <tbody>\n",
       "    <tr>\n",
       "      <th>count</th>\n",
       "      <td>4.661300e+05</td>\n",
       "      <td>4.661300e+05</td>\n",
       "      <td>4.661300e+05</td>\n",
       "      <td>4.661300e+05</td>\n",
       "      <td>4.661300e+05</td>\n",
       "      <td>4.661300e+05</td>\n",
       "      <td>4.661300e+05</td>\n",
       "      <td>4.661300e+05</td>\n",
       "      <td>4.661300e+05</td>\n",
       "      <td>4.661300e+05</td>\n",
       "      <td>4.661300e+05</td>\n",
       "      <td>4.661300e+05</td>\n",
       "      <td>4.661300e+05</td>\n",
       "      <td>4.661300e+05</td>\n",
       "      <td>4.661300e+05</td>\n",
       "      <td>4.661300e+05</td>\n",
       "      <td>4.661300e+05</td>\n",
       "      <td>4.661300e+05</td>\n",
       "      <td>4.661300e+05</td>\n",
       "      <td>4.661300e+05</td>\n",
       "      <td>4.661300e+05</td>\n",
       "      <td>4.661300e+05</td>\n",
       "      <td>4.661300e+05</td>\n",
       "      <td>4.661300e+05</td>\n",
       "      <td>4.661300e+05</td>\n",
       "      <td>4.661300e+05</td>\n",
       "      <td>4.661300e+05</td>\n",
       "      <td>4.661300e+05</td>\n",
       "      <td>4.661300e+05</td>\n",
       "      <td>4.661300e+05</td>\n",
       "      <td>4.661300e+05</td>\n",
       "      <td>4.661300e+05</td>\n",
       "      <td>4.661300e+05</td>\n",
       "      <td>4.661300e+05</td>\n",
       "    </tr>\n",
       "    <tr>\n",
       "      <th>mean</th>\n",
       "      <td>-6.346622e-17</td>\n",
       "      <td>-3.928408e-16</td>\n",
       "      <td>-8.130203e-16</td>\n",
       "      <td>-1.055109e-15</td>\n",
       "      <td>-1.514847e-15</td>\n",
       "      <td>8.808963e-16</td>\n",
       "      <td>-3.289168e-16</td>\n",
       "      <td>-3.564705e-16</td>\n",
       "      <td>1.772022e-16</td>\n",
       "      <td>-6.473595e-16</td>\n",
       "      <td>-6.550198e-17</td>\n",
       "      <td>5.674168e-16</td>\n",
       "      <td>1.166300e-16</td>\n",
       "      <td>6.195353e-17</td>\n",
       "      <td>9.998779e-16</td>\n",
       "      <td>-3.422103e-15</td>\n",
       "      <td>4.089626e-16</td>\n",
       "      <td>-1.072393e-15</td>\n",
       "      <td>-2.966527e-16</td>\n",
       "      <td>3.495417e-17</td>\n",
       "      <td>-9.647196e-17</td>\n",
       "      <td>-1.430351e-15</td>\n",
       "      <td>-9.205192e-15</td>\n",
       "      <td>-1.727314e-15</td>\n",
       "      <td>-7.846108e-17</td>\n",
       "      <td>-2.731648e-16</td>\n",
       "      <td>1.246614e-15</td>\n",
       "      <td>-1.323379e-16</td>\n",
       "      <td>8.161755e-16</td>\n",
       "      <td>2.892668e-16</td>\n",
       "      <td>-7.100016e-17</td>\n",
       "      <td>4.637829e-15</td>\n",
       "      <td>-7.704457e-16</td>\n",
       "      <td>5.705709e-15</td>\n",
       "    </tr>\n",
       "    <tr>\n",
       "      <th>std</th>\n",
       "      <td>1.000001e+00</td>\n",
       "      <td>1.000001e+00</td>\n",
       "      <td>1.000001e+00</td>\n",
       "      <td>1.000001e+00</td>\n",
       "      <td>1.000001e+00</td>\n",
       "      <td>1.000001e+00</td>\n",
       "      <td>1.000001e+00</td>\n",
       "      <td>1.000001e+00</td>\n",
       "      <td>1.000001e+00</td>\n",
       "      <td>1.000001e+00</td>\n",
       "      <td>1.000001e+00</td>\n",
       "      <td>1.000001e+00</td>\n",
       "      <td>1.000001e+00</td>\n",
       "      <td>1.000001e+00</td>\n",
       "      <td>1.000001e+00</td>\n",
       "      <td>1.000001e+00</td>\n",
       "      <td>1.000001e+00</td>\n",
       "      <td>1.000001e+00</td>\n",
       "      <td>1.000001e+00</td>\n",
       "      <td>1.000001e+00</td>\n",
       "      <td>1.000001e+00</td>\n",
       "      <td>1.000001e+00</td>\n",
       "      <td>1.000001e+00</td>\n",
       "      <td>1.000001e+00</td>\n",
       "      <td>1.000001e+00</td>\n",
       "      <td>1.000001e+00</td>\n",
       "      <td>1.000001e+00</td>\n",
       "      <td>1.000001e+00</td>\n",
       "      <td>1.000001e+00</td>\n",
       "      <td>1.000001e+00</td>\n",
       "      <td>1.000001e+00</td>\n",
       "      <td>1.000001e+00</td>\n",
       "      <td>1.000001e+00</td>\n",
       "      <td>1.000001e+00</td>\n",
       "    </tr>\n",
       "    <tr>\n",
       "      <th>min</th>\n",
       "      <td>-2.909451e-01</td>\n",
       "      <td>-2.420918e-01</td>\n",
       "      <td>-2.190256e-01</td>\n",
       "      <td>-2.341020e-01</td>\n",
       "      <td>-1.346609e-01</td>\n",
       "      <td>-1.246067e-01</td>\n",
       "      <td>-1.462438e-01</td>\n",
       "      <td>-4.281443e-01</td>\n",
       "      <td>-3.257352e-01</td>\n",
       "      <td>-2.904701e-01</td>\n",
       "      <td>-3.425672e-01</td>\n",
       "      <td>-2.526691e-01</td>\n",
       "      <td>-1.173345e+00</td>\n",
       "      <td>-2.523666e-01</td>\n",
       "      <td>-2.493680e-01</td>\n",
       "      <td>-1.704947e-01</td>\n",
       "      <td>-3.237951e+00</td>\n",
       "      <td>-3.747436e+00</td>\n",
       "      <td>-2.559996e+00</td>\n",
       "      <td>-3.085519e+00</td>\n",
       "      <td>-2.085773e+00</td>\n",
       "      <td>-4.035220e+00</td>\n",
       "      <td>-1.034899e+01</td>\n",
       "      <td>-2.214933e+00</td>\n",
       "      <td>-2.741182e-01</td>\n",
       "      <td>-1.067395e+00</td>\n",
       "      <td>-2.619548e+00</td>\n",
       "      <td>-9.003827e-01</td>\n",
       "      <td>-5.352554e+00</td>\n",
       "      <td>-6.038040e+00</td>\n",
       "      <td>-1.728455e+00</td>\n",
       "      <td>-2.659058e-01</td>\n",
       "      <td>-6.967982e-01</td>\n",
       "      <td>-1.358037e-01</td>\n",
       "    </tr>\n",
       "    <tr>\n",
       "      <th>25%</th>\n",
       "      <td>-2.589110e-01</td>\n",
       "      <td>-2.224831e-01</td>\n",
       "      <td>-2.167583e-01</td>\n",
       "      <td>-2.214473e-01</td>\n",
       "      <td>-1.334223e-01</td>\n",
       "      <td>-1.220025e-01</td>\n",
       "      <td>-1.434543e-01</td>\n",
       "      <td>-3.727441e-01</td>\n",
       "      <td>-2.809610e-01</td>\n",
       "      <td>-2.597377e-01</td>\n",
       "      <td>-2.928288e-01</td>\n",
       "      <td>-2.234523e-01</td>\n",
       "      <td>-7.116602e-01</td>\n",
       "      <td>-2.302899e-01</td>\n",
       "      <td>-2.244732e-01</td>\n",
       "      <td>-1.643604e-01</td>\n",
       "      <td>-6.993245e-01</td>\n",
       "      <td>-6.578218e-01</td>\n",
       "      <td>-7.024594e-01</td>\n",
       "      <td>-6.757325e-01</td>\n",
       "      <td>-7.585321e-01</td>\n",
       "      <td>-5.538065e-01</td>\n",
       "      <td>-2.165718e-01</td>\n",
       "      <td>-7.292332e-01</td>\n",
       "      <td>-2.586764e-01</td>\n",
       "      <td>-5.099611e-01</td>\n",
       "      <td>-6.677354e-01</td>\n",
       "      <td>-5.822795e-01</td>\n",
       "      <td>-6.306645e-01</td>\n",
       "      <td>-6.938233e-01</td>\n",
       "      <td>-7.317919e-01</td>\n",
       "      <td>-2.659058e-01</td>\n",
       "      <td>-6.967982e-01</td>\n",
       "      <td>-1.358037e-01</td>\n",
       "    </tr>\n",
       "    <tr>\n",
       "      <th>50%</th>\n",
       "      <td>-2.186741e-01</td>\n",
       "      <td>-1.943290e-01</td>\n",
       "      <td>-2.041010e-01</td>\n",
       "      <td>-1.993417e-01</td>\n",
       "      <td>-1.307763e-01</td>\n",
       "      <td>-1.163603e-01</td>\n",
       "      <td>-1.377017e-01</td>\n",
       "      <td>-2.901039e-01</td>\n",
       "      <td>-2.296935e-01</td>\n",
       "      <td>-2.193987e-01</td>\n",
       "      <td>-2.280797e-01</td>\n",
       "      <td>-1.830729e-01</td>\n",
       "      <td>-2.699973e-01</td>\n",
       "      <td>-1.955295e-01</td>\n",
       "      <td>-1.897490e-01</td>\n",
       "      <td>-1.551590e-01</td>\n",
       "      <td>-1.284401e-01</td>\n",
       "      <td>5.516618e-02</td>\n",
       "      <td>-1.328149e-01</td>\n",
       "      <td>-1.694210e-02</td>\n",
       "      <td>-1.471918e-01</td>\n",
       "      <td>1.846750e-01</td>\n",
       "      <td>1.832472e-01</td>\n",
       "      <td>-7.223056e-02</td>\n",
       "      <td>-2.308813e-01</td>\n",
       "      <td>-2.268708e-01</td>\n",
       "      <td>-1.341416e-01</td>\n",
       "      <td>-2.945642e-01</td>\n",
       "      <td>2.003881e-01</td>\n",
       "      <td>1.924701e-01</td>\n",
       "      <td>-1.579556e-01</td>\n",
       "      <td>-2.659058e-01</td>\n",
       "      <td>-6.967982e-01</td>\n",
       "      <td>-1.358037e-01</td>\n",
       "    </tr>\n",
       "    <tr>\n",
       "      <th>75%</th>\n",
       "      <td>-9.611848e-02</td>\n",
       "      <td>-1.126340e-01</td>\n",
       "      <td>-1.259201e-01</td>\n",
       "      <td>-1.158850e-01</td>\n",
       "      <td>-1.156134e-01</td>\n",
       "      <td>-8.945103e-02</td>\n",
       "      <td>-1.070100e-01</td>\n",
       "      <td>-6.647766e-02</td>\n",
       "      <td>-8.484158e-02</td>\n",
       "      <td>-1.007277e-01</td>\n",
       "      <td>-7.009572e-02</td>\n",
       "      <td>-8.048858e-02</td>\n",
       "      <td>3.970315e-01</td>\n",
       "      <td>-9.633390e-02</td>\n",
       "      <td>-9.178696e-02</td>\n",
       "      <td>-1.179700e-01</td>\n",
       "      <td>6.342918e-01</td>\n",
       "      <td>6.767454e-01</td>\n",
       "      <td>6.101996e-01</td>\n",
       "      <td>6.591849e-01</td>\n",
       "      <td>6.291396e-01</td>\n",
       "      <td>7.121618e-01</td>\n",
       "      <td>4.993386e-01</td>\n",
       "      <td>6.372659e-01</td>\n",
       "      <td>-1.351426e-01</td>\n",
       "      <td>1.944768e-01</td>\n",
       "      <td>4.933037e-01</td>\n",
       "      <td>3.517695e-02</td>\n",
       "      <td>7.670149e-01</td>\n",
       "      <td>8.141983e-01</td>\n",
       "      <td>5.668904e-01</td>\n",
       "      <td>-2.659058e-01</td>\n",
       "      <td>1.435552e+00</td>\n",
       "      <td>-1.358037e-01</td>\n",
       "    </tr>\n",
       "    <tr>\n",
       "      <th>max</th>\n",
       "      <td>2.558562e+01</td>\n",
       "      <td>2.747655e+01</td>\n",
       "      <td>2.754411e+01</td>\n",
       "      <td>2.303349e+01</td>\n",
       "      <td>2.898810e+01</td>\n",
       "      <td>4.070757e+01</td>\n",
       "      <td>3.265617e+01</td>\n",
       "      <td>1.620961e+01</td>\n",
       "      <td>2.419255e+01</td>\n",
       "      <td>2.524641e+01</td>\n",
       "      <td>2.404866e+01</td>\n",
       "      <td>2.646609e+01</td>\n",
       "      <td>7.474768e+00</td>\n",
       "      <td>2.730254e+01</td>\n",
       "      <td>2.307236e+01</td>\n",
       "      <td>3.782174e+01</td>\n",
       "      <td>6.709348e+00</td>\n",
       "      <td>4.534193e+00</td>\n",
       "      <td>5.439794e+00</td>\n",
       "      <td>3.918464e+00</td>\n",
       "      <td>4.885477e+00</td>\n",
       "      <td>2.505617e+00</td>\n",
       "      <td>3.101421e+00</td>\n",
       "      <td>4.391272e+00</td>\n",
       "      <td>2.257038e+01</td>\n",
       "      <td>2.177009e+01</td>\n",
       "      <td>6.801749e+00</td>\n",
       "      <td>7.108663e+00</td>\n",
       "      <td>3.282838e+00</td>\n",
       "      <td>1.998128e+00</td>\n",
       "      <td>9.657667e+00</td>\n",
       "      <td>3.867487e+01</td>\n",
       "      <td>1.435552e+00</td>\n",
       "      <td>7.363568e+00</td>\n",
       "    </tr>\n",
       "  </tbody>\n",
       "</table>\n",
       "</div>"
      ],
      "text/plain": [
       "       total_population  ...          snow\n",
       "count      4.661300e+05  ...  4.661300e+05\n",
       "mean      -6.346622e-17  ...  5.705709e-15\n",
       "std        1.000001e+00  ...  1.000001e+00\n",
       "min       -2.909451e-01  ... -1.358037e-01\n",
       "25%       -2.589110e-01  ... -1.358037e-01\n",
       "50%       -2.186741e-01  ... -1.358037e-01\n",
       "75%       -9.611848e-02  ... -1.358037e-01\n",
       "max        2.558562e+01  ...  7.363568e+00\n",
       "\n",
       "[8 rows x 34 columns]"
      ]
     },
     "execution_count": 86,
     "metadata": {
      "tags": []
     },
     "output_type": "execute_result"
    }
   ],
   "source": [
    "X_TrainCase_zscore.describe()"
   ]
  },
  {
   "cell_type": "code",
   "execution_count": null,
   "metadata": {
    "colab": {
     "base_uri": "https://localhost:8080/",
     "height": 166
    },
    "executionInfo": {
     "elapsed": 1566,
     "status": "error",
     "timestamp": 1606762131978,
     "user": {
      "displayName": "Dev B",
      "photoUrl": "",
      "userId": "15294155916341060001"
     },
     "user_tz": -330
    },
    "id": "P2n1og4-Z3Fb",
    "outputId": "dd9dc9ca-ffa0-43b3-9f6e-1ad3943bd895"
   },
   "outputs": [
    {
     "ename": "NameError",
     "evalue": "ignored",
     "output_type": "error",
     "traceback": [
      "\u001b[0;31m---------------------------------------------------------------------------\u001b[0m",
      "\u001b[0;31mNameError\u001b[0m                                 Traceback (most recent call last)",
      "\u001b[0;32m<ipython-input-1-3b14c7617e9c>\u001b[0m in \u001b[0;36m<module>\u001b[0;34m()\u001b[0m\n\u001b[0;32m----> 1\u001b[0;31m \u001b[0msns\u001b[0m\u001b[0;34m.\u001b[0m\u001b[0mpairplot\u001b[0m\u001b[0;34m(\u001b[0m\u001b[0mX_TrainCase_zscore\u001b[0m\u001b[0;34m,\u001b[0m \u001b[0mdiag_kind\u001b[0m\u001b[0;34m=\u001b[0m\u001b[0;34m'kde'\u001b[0m\u001b[0;34m)\u001b[0m\u001b[0;34m\u001b[0m\u001b[0;34m\u001b[0m\u001b[0m\n\u001b[0m",
      "\u001b[0;31mNameError\u001b[0m: name 'sns' is not defined"
     ]
    }
   ],
   "source": [
    "sns.pairplot(X_TrainCase_zscore, diag_kind='kde')"
   ]
  },
  {
   "cell_type": "code",
   "execution_count": null,
   "metadata": {
    "id": "QUE8isBSZ3Fc"
   },
   "outputs": [],
   "source": [
    "# Observations:\n",
    "# 1. num_age_17yr_and_younger, num_disabled, num_below,poverty,num_unemployed_CDC exhibit linear relation with \n",
    "#    total_population\n",
    "\n",
    "# 2. num_age_17yr_and_younger and num_disabled exhibit strong linear relation with num_below_poverty and \n",
    "#    num_unemployed_CDC respectively\n",
    "\n",
    "# 3. Overcrowding exhibit a cone pattern(slightly linear ) with percent_fair_or_poor_health\n",
    "\n",
    "# 4. 'total_population','population_density_per_sqmi','num_black','num_american_indian_alaska_native','num_asian',\n",
    "#    'num_native_hawaiian_other_pacific_islander','num_hispanic','num_non_hispanic_white','num_age_65_and_older',\n",
    "#    'num_age_17_and_younger','num_disabled','num_below_poverty','num_rural','num_unemployed_CDC','num_uninsured',\n",
    "#    'num_hiv_cases','num_primary_care_physicians','overcrowding','ELEV_M','wind_speed' ARE RIGHT SKEWED\n",
    "\n",
    "# 5. 'percent_smokers','percent_adults_with_obesity','percent_adults_with_diabetes','percent_physically_inactive',\n",
    "#    'percent_fair_or_poor_health','average_number_of_physically_unhealthy_days','per_capita_income'\n",
    "#     HAVE NORMAL DISTRIBUTIONS THOUGH MULTIPLE CLUSTERS ARE OBSERVED IN THESE DISTRIBUTIONS\n",
    "\n",
    "# 6. 'mean_temp','dewpoint','percent_vaccinated','percent_female' are LEFT SKEWED\n",
    "\n",
    "# 7. 'rain' has dual distributions due to binary inputs\n",
    "\n",
    "# 8. 'precipitation','snow' - distributions are missing in sns plot         \n",
    "            "
   ]
  },
  {
   "cell_type": "code",
   "execution_count": null,
   "metadata": {
    "id": "dRyDaR3yZ3Fc"
   },
   "outputs": [],
   "source": [
    "# Let's check the distribution on box plot for outliers "
   ]
  },
  {
   "cell_type": "code",
   "execution_count": null,
   "metadata": {
    "colab": {
     "base_uri": "https://localhost:8080/",
     "height": 588
    },
    "id": "m9M72U1UzmtD",
    "outputId": "c8fedd4f-0c52-48f0-878b-88bfafbfc343"
   },
   "outputs": [
    {
     "data": {
      "text/plain": [
       "<AxesSubplot:>"
      ]
     },
     "execution_count": 147,
     "metadata": {
      "tags": []
     },
     "output_type": "execute_result"
    },
    {
     "data": {
      "image/png": "[encoded data removed]",
      "text/plain": [
       "<Figure size 1080x720 with 1 Axes>"
      ]
     },
     "metadata": {
      "needs_background": "light",
      "tags": []
     },
     "output_type": "display_data"
    }
   ],
   "source": [
    "X_TrainCase_zscore.boxplot(column =list(col_names[0:8]),figsize=(15,10))"
   ]
  },
  {
   "cell_type": "code",
   "execution_count": null,
   "metadata": {
    "id": "uzPnXMPIzmqc",
    "outputId": "b0311669-a598-4456-e167-b75bd9da1e62"
   },
   "outputs": [
    {
     "data": {
      "text/plain": [
       "<AxesSubplot:>"
      ]
     },
     "execution_count": 148,
     "metadata": {
      "tags": []
     },
     "output_type": "execute_result"
    },
    {
     "data": {
      "image/png": "[encoded data removed]",
      "text/plain": [
       "<Figure size 1080x720 with 1 Axes>"
      ]
     },
     "metadata": {
      "needs_background": "light",
      "tags": []
     },
     "output_type": "display_data"
    }
   ],
   "source": [
    "X_TrainCase_zscore.boxplot(column =list(col_names[8:17]),figsize=(15,10))"
   ]
  },
  {
   "cell_type": "code",
   "execution_count": null,
   "metadata": {
    "id": "1SHjakSOZ3Fc",
    "outputId": "b43ef1f2-1fdc-430d-bb47-71482eb34b1c"
   },
   "outputs": [
    {
     "data": {
      "text/plain": [
       "<AxesSubplot:>"
      ]
     },
     "execution_count": 149,
     "metadata": {
      "tags": []
     },
     "output_type": "execute_result"
    },
    {
     "data": {
      "image/png": "[encoded data removed]",
      "text/plain": [
       "<Figure size 1080x720 with 1 Axes>"
      ]
     },
     "metadata": {
      "needs_background": "light",
      "tags": []
     },
     "output_type": "display_data"
    }
   ],
   "source": [
    "X_TrainCase_zscore.boxplot(column =list(col_names[18:26]),figsize=(15,10))"
   ]
  },
  {
   "cell_type": "code",
   "execution_count": null,
   "metadata": {
    "id": "24qOXfZTZ3Fc",
    "outputId": "9c83ae6d-c4f7-4ab3-8ed8-9fa2e77a991a"
   },
   "outputs": [
    {
     "data": {
      "text/plain": [
       "<AxesSubplot:>"
      ]
     },
     "execution_count": 150,
     "metadata": {
      "tags": []
     },
     "output_type": "execute_result"
    },
    {
     "data": {
      "image/png": "[encoded data removed]",
      "text/plain": [
       "<Figure size 1080x720 with 1 Axes>"
      ]
     },
     "metadata": {
      "needs_background": "light",
      "tags": []
     },
     "output_type": "display_data"
    }
   ],
   "source": [
    "X_TrainCase_zscore.boxplot(column =list(col_names[27:35]),figsize=(15,10))"
   ]
  },
  {
   "cell_type": "code",
   "execution_count": null,
   "metadata": {
    "id": "TVpVwJaCZ3Fc"
   },
   "outputs": [],
   "source": [
    "# Almost every feature has outliers :)\n",
    "# Attempting the next step of Feature Engineering WITHOUT treating outliers i.e with original distribution"
   ]
  },
  {
   "cell_type": "code",
   "execution_count": null,
   "metadata": {
    "id": "YTbEVlD6ZA-F"
   },
   "outputs": [],
   "source": []
  },
  {
   "cell_type": "code",
   "execution_count": null,
   "metadata": {
    "id": "FRf0-Ybxe9tV"
   },
   "outputs": [],
   "source": [
    "#df3=df2.groupby(['county','state']).apply(lambda x: x['total_population'].median if x['total_population'].isnull else x['total_population'])"
   ]
  },
  {
   "cell_type": "code",
   "execution_count": null,
   "metadata": {
    "id": "vA8c33SiEx-J"
   },
   "outputs": [],
   "source": [
    "#df2['new_pop'] = df2.groupby(['county'])['total_population'].transform(lambda grp: grp.fillna(np.median(grp))) "
   ]
  },
  {
   "cell_type": "code",
   "execution_count": null,
   "metadata": {
    "id": "9DcHB_y-ITFW"
   },
   "outputs": [],
   "source": [
    "#df2['new_popu'] = df2.groupby(['county','state'])['total_population'].transform(lambda grp: grp.fillna(np.median(grp)))"
   ]
  },
  {
   "cell_type": "code",
   "execution_count": null,
   "metadata": {
    "id": "kPF1QVOcNnW6"
   },
   "outputs": [],
   "source": [
    "#df2['total_population'].fillna(df2.groupby(['county','state'])['total_population'].transform(lambda grp: grp.fillna(np.median(grp))),inplace=True)"
   ]
  },
  {
   "cell_type": "code",
   "execution_count": null,
   "metadata": {
    "id": "vm_z6_3MWrAP"
   },
   "outputs": [],
   "source": [
    "#df2['total_population'].fillna(df2.groupby(['county','state'])['total_population'].transform('median'))"
   ]
  },
  {
   "cell_type": "code",
   "execution_count": null,
   "metadata": {
    "id": "TDDCiJQsYmJP"
   },
   "outputs": [],
   "source": [
    "#df2['new_smokers'] = df2.groupby(['county','state'])['percent_smokers'].transform(lambda grp: grp.ffill(axis=0)) "
   ]
  },
  {
   "cell_type": "code",
   "execution_count": null,
   "metadata": {
    "id": "lokiVnAifzNP"
   },
   "outputs": [],
   "source": [
    "#df2['total_population'] = df2.groupby(['county'])['total_population'].transform(lambda grp: grp.fillna(np.median(grp))) "
   ]
  },
  {
   "cell_type": "code",
   "execution_count": null,
   "metadata": {
    "id": "uG2ajoG4gCgQ"
   },
   "outputs": [],
   "source": [
    "#df2['total_population'].fillna(df2.groupby(['county'])['total_population'].transform(lambda grp: grp.fillna(np.median(grp))),inplace=True)"
   ]
  },
  {
   "cell_type": "code",
   "execution_count": null,
   "metadata": {
    "id": "TTNfpt-2gna3"
   },
   "outputs": [],
   "source": [
    "#df2['total_population'] = df2['total_population'].groupby([df2['county'], df2['state']]).transform(lambda grp: grp.fillna(np.median(grp))) "
   ]
  },
  {
   "cell_type": "code",
   "execution_count": null,
   "metadata": {
    "id": "92RAtcXBhygR"
   },
   "outputs": [],
   "source": [
    "#df3['num_primary_care_physicians'] = df3['num_primary_care_physicians'].groupby(df3['state']).transform(lambda grp: grp.fillna(np.median(grp)))\n",
    "#df3['num_primary_care_physicians'] = df3['num_primary_care_physicians'].fillna(df3.groupby(['state'])['num_primary_care_physicians'].transform('median'))\n",
    "# This worked"
   ]
  },
  {
   "cell_type": "code",
   "execution_count": null,
   "metadata": {
    "id": "7a-HAp6cxMox"
   },
   "outputs": [],
   "source": [
    "#df3.iloc[[2024,2410],:]"
   ]
  },
  {
   "cell_type": "code",
   "execution_count": null,
   "metadata": {
    "id": "k7IZwepXwAUS"
   },
   "outputs": [],
   "source": [
    "# Similarly, we'll have to replace other columns with NaN at county level with median of state values which that county belongs to"
   ]
  },
  {
   "cell_type": "code",
   "execution_count": null,
   "metadata": {
    "id": "rEQqMN1ioTDi"
   },
   "outputs": [],
   "source": [
    "#trns =df2.groupby(['county','state']).transform(lambda x: x.ffill()).unstack()"
   ]
  },
  {
   "cell_type": "markdown",
   "metadata": {
    "id": "I_T0wMbo96gz"
   },
   "source": [
    "# Checking if any invalid string is present in the data\n",
    "test_str = ['?','#','NA','na']\n",
    "#tested ='?'\n",
    "#mask = veh_df.applymap(lambda x:  tested in str(x))\n",
    "mask = df1.applymap(lambda x: any([k in str(x) for k in test_str]))"
   ]
  },
  {
   "cell_type": "markdown",
   "metadata": {
    "id": "Ebd53g6P-eOE"
   },
   "source": [
    "mask.all()"
   ]
  }
 ],
 "metadata": {
  "accelerator": "GPU",
  "colab": {
   "name": "MiniCapstone_Devendra.ipynb",
   "provenance": []
  },
  "kernelspec": {
   "display_name": "Python 3",
   "language": "python",
   "name": "python3"
  },
  "language_info": {
   "codemirror_mode": {
    "name": "ipython",
    "version": 3
   },
   "file_extension": ".py",
   "mimetype": "text/x-python",
   "name": "python",
   "nbconvert_exporter": "python",
   "pygments_lexer": "ipython3",
   "version": "3.7.7"
  }
 },
 "nbformat": 4,
 "nbformat_minor": 1
}
