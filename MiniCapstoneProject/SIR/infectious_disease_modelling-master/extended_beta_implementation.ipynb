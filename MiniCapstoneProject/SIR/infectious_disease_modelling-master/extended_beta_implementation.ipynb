{
  "nbformat": 4,
  "nbformat_minor": 0,
  "metadata": {
    "colab": {
      "name": "gists_part_3.ipynb",
      "provenance": [],
      "collapsed_sections": [],
      "authorship_tag": "ABX9TyPQLTTsldSLxI45il3la60S"
    },
    "kernelspec": {
      "name": "python3",
      "display_name": "Python 3"
    }
  },
  "cells": [
    {
      "cell_type": "code",
      "metadata": {
        "trusted": true,
        "colab_type": "code",
        "id": "ioTVBWSat8Oi",
        "colab": {}
      },
      "source": [
        "def deriv(y, t, R_0_start, k, x0, R_0_end, gamma, sigma, N, p_I_to_C, p_C_to_D, Beds):\n",
        "    S, E, I, C, R, D = y\n",
        "    def betaa(t):\n",
        "        return I / (I + C) * (12 * p_I_to_C + 1/gamma * (1 - p_I_to_C)) + C / (I + C) * (\n",
        "                    min(Beds(t), C) / (min(Beds(t), C) + max(0, C-Beds(t))) * (p_C_to_D * 7.5 + (1 - p_C_to_D) * 6.5) + \n",
        "                    max(0, C-Beds(t)) / (min(Beds(t), C) + max(0, C-Beds(t))) * 1 * 1\n",
        "                             )\n",
        "    def beta(t):\n",
        "        return logistic_R_0(t, R_0_start, k, x0, R_0_end) / betaa(t) if not np.isnan(betaa(t)) else 0\n",
        "\n",
        "    dSdt = -beta(t) * I * S / N\n",
        "    dEdt = beta(t) * I * S / N - sigma * E\n",
        "    dIdt = sigma * E - 1/12.0 * p_I_to_C * I - gamma * (1 - p_I_to_C) * I\n",
        "    dCdt = 1/12.0 * p_I_to_C * I - 1/7.5 * p_C_to_D * min(Beds(t), C) - max(0, C-Beds(t)) - (1 - p_C_to_D) * 1/6.5 * min(Beds(t), C)\n",
        "    dRdt = gamma * (1 - p_I_to_C) * I + (1 - p_C_to_D) * 1/6.5 * min(Beds(t), C)\n",
        "    dDdt = 1/7.5 * p_C_to_D * min(Beds(t), C) + max(0, C-Beds(t))\n",
        "    return dSdt, dEdt, dIdt, dCdt, dRdt, dDdt"
      ],
      "execution_count": 0,
      "outputs": []
    },
    {
      "cell_type": "code",
      "metadata": {
        "trusted": true,
        "colab_type": "code",
        "id": "Wn6xSnm1t8P4",
        "colab": {}
      },
      "source": [
        "gamma = 1.0/9.0\n",
        "sigma = 1.0/3.0\n",
        "\n",
        "def logistic_R_0(t, R_0_start, k, x0, R_0_end):\n",
        "    return (R_0_start-R_0_end) / (1 + np.exp(-k*(-t+x0))) + R_0_end\n",
        "\n",
        "def Model(days, agegroups, beds_per_100k, R_0_start, k, x0, R_0_end, prob_I_to_C, prob_C_to_D, s):\n",
        "\n",
        "    def beta(t):\n",
        "        return logistic_R_0(t, R_0_start, k, x0, R_0_end) * gamma\n",
        "\n",
        "    N = sum(agegroups)\n",
        "    \n",
        "    def Beds(t):\n",
        "        beds_0 = beds_per_100k / 100_000 * N\n",
        "        return beds_0 + s*beds_0*t  # 0.003\n",
        "\n",
        "    y0 = N-1.0, 1.0, 0.0, 0.0, 0.0, 0.0\n",
        "    t = np.linspace(0, days, days)\n",
        "    ret = odeint(deriv, y0, t, args=(R_0_start, k, x0, R_0_end, gamma, sigma, N, prob_I_to_C, prob_C_to_D, Beds))\n",
        "    S, E, I, C, R, D = ret.T\n",
        "\n",
        "    def betaa(t):\n",
        "        return I[t] / (I[t] + C[t]) * (12 * prob_I_to_C + 1/gamma * (1 - prob_I_to_C)) + C[t] / (I[t] + C[t]) * (\n",
        "                    min(Beds(t), C[t]) / (min(Beds(t), C[t]) + max(0, C[t]-Beds(t))) * (prob_C_to_D * 7.5 + (1 - prob_C_to_D) * 6.5) + \n",
        "                    max(0, C[t]-Beds(t)) / (min(Beds(t), C[t]) + max(0, C[t]-Beds(t))) * 1 * 1\n",
        "                             )\n",
        "        \n",
        "    def beta(t):\n",
        "        return logistic_R_0(t, R_0_start, k, x0, R_0_end) / betaa(t) if not np.isnan(betaa(t)) else 0\n",
        "\n",
        "\n",
        "    R_0_over_time = [beta(i)/gamma for i in range(len(t))]\n",
        "\n",
        "    return t, S, E, I, C, R, D, R_0_over_time, Beds, prob_I_to_C, prob_C_to_D"
      ],
      "execution_count": 0,
      "outputs": []
    }
  ]
}