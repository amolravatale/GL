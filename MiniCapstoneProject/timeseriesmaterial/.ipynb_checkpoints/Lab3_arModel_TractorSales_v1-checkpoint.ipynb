{
 "cells": [
  {
   "cell_type": "code",
   "execution_count": 2,
   "metadata": {},
   "outputs": [],
   "source": [
    "import pandas as pd\n",
    "from pandas import Series\n",
    "from pandas import DataFrame\n",
    "from pandas import concat\n",
    "from pandas.plotting import autocorrelation_plot\n",
    "from statsmodels.graphics.tsaplots import plot_acf\n",
    "from matplotlib import pyplot\n",
    "from pandas.plotting import lag_plot\n",
    "%matplotlib inline"
   ]
  },
  {
   "cell_type": "code",
   "execution_count": 5,
   "metadata": {},
   "outputs": [],
   "source": [
    "from statsmodels.tsa.ar_model import AR\n",
    "from sklearn.metrics import mean_squared_error\n",
    "from math import sqrt"
   ]
  },
  {
   "cell_type": "code",
   "execution_count": 6,
   "metadata": {},
   "outputs": [],
   "source": [
    "import warnings\n",
    "warnings.filterwarnings(\"ignore\")"
   ]
  },
  {
   "cell_type": "markdown",
   "metadata": {},
   "source": [
    "## correlation of lag=0 to 4"
   ]
  },
  {
   "cell_type": "code",
   "execution_count": 7,
   "metadata": {},
   "outputs": [],
   "source": [
    "data = pd.read_csv('Tractor-Sales.csv', header=0)"
   ]
  },
  {
   "cell_type": "code",
   "execution_count": 8,
   "metadata": {},
   "outputs": [
    {
     "data": {
      "text/html": [
       "<div>\n",
       "<style scoped>\n",
       "    .dataframe tbody tr th:only-of-type {\n",
       "        vertical-align: middle;\n",
       "    }\n",
       "\n",
       "    .dataframe tbody tr th {\n",
       "        vertical-align: top;\n",
       "    }\n",
       "\n",
       "    .dataframe thead th {\n",
       "        text-align: right;\n",
       "    }\n",
       "</style>\n",
       "<table border=\"1\" class=\"dataframe\">\n",
       "  <thead>\n",
       "    <tr style=\"text-align: right;\">\n",
       "      <th></th>\n",
       "      <th>Month-Year</th>\n",
       "      <th>Number of Tractor Sold</th>\n",
       "    </tr>\n",
       "  </thead>\n",
       "  <tbody>\n",
       "    <tr>\n",
       "      <th>0</th>\n",
       "      <td>Jan-03</td>\n",
       "      <td>141</td>\n",
       "    </tr>\n",
       "    <tr>\n",
       "      <th>1</th>\n",
       "      <td>Feb-03</td>\n",
       "      <td>157</td>\n",
       "    </tr>\n",
       "    <tr>\n",
       "      <th>2</th>\n",
       "      <td>Mar-03</td>\n",
       "      <td>185</td>\n",
       "    </tr>\n",
       "    <tr>\n",
       "      <th>3</th>\n",
       "      <td>Apr-03</td>\n",
       "      <td>199</td>\n",
       "    </tr>\n",
       "    <tr>\n",
       "      <th>4</th>\n",
       "      <td>May-03</td>\n",
       "      <td>203</td>\n",
       "    </tr>\n",
       "  </tbody>\n",
       "</table>\n",
       "</div>"
      ],
      "text/plain": [
       "  Month-Year  Number of Tractor Sold\n",
       "0     Jan-03                     141\n",
       "1     Feb-03                     157\n",
       "2     Mar-03                     185\n",
       "3     Apr-03                     199\n",
       "4     May-03                     203"
      ]
     },
     "execution_count": 8,
     "metadata": {},
     "output_type": "execute_result"
    }
   ],
   "source": [
    "data.head(5)"
   ]
  },
  {
   "cell_type": "code",
   "execution_count": 12,
   "metadata": {},
   "outputs": [],
   "source": [
    "data1 = concat([data, data.shift(1) , data.shift(2), data.shift(3), data.shift(4)], axis=1)"
   ]
  },
  {
   "cell_type": "code",
   "execution_count": 13,
   "metadata": {},
   "outputs": [
    {
     "data": {
      "text/html": [
       "<div>\n",
       "<style scoped>\n",
       "    .dataframe tbody tr th:only-of-type {\n",
       "        vertical-align: middle;\n",
       "    }\n",
       "\n",
       "    .dataframe tbody tr th {\n",
       "        vertical-align: top;\n",
       "    }\n",
       "\n",
       "    .dataframe thead th {\n",
       "        text-align: right;\n",
       "    }\n",
       "</style>\n",
       "<table border=\"1\" class=\"dataframe\">\n",
       "  <thead>\n",
       "    <tr style=\"text-align: right;\">\n",
       "      <th></th>\n",
       "      <th>Month-Year</th>\n",
       "      <th>Number of Tractor Sold</th>\n",
       "      <th>Month-Year</th>\n",
       "      <th>Number of Tractor Sold</th>\n",
       "      <th>Month-Year</th>\n",
       "      <th>Number of Tractor Sold</th>\n",
       "      <th>Month-Year</th>\n",
       "      <th>Number of Tractor Sold</th>\n",
       "      <th>Month-Year</th>\n",
       "      <th>Number of Tractor Sold</th>\n",
       "    </tr>\n",
       "  </thead>\n",
       "  <tbody>\n",
       "    <tr>\n",
       "      <th>0</th>\n",
       "      <td>Jan-03</td>\n",
       "      <td>141</td>\n",
       "      <td>NaN</td>\n",
       "      <td>NaN</td>\n",
       "      <td>NaN</td>\n",
       "      <td>NaN</td>\n",
       "      <td>NaN</td>\n",
       "      <td>NaN</td>\n",
       "      <td>NaN</td>\n",
       "      <td>NaN</td>\n",
       "    </tr>\n",
       "    <tr>\n",
       "      <th>1</th>\n",
       "      <td>Feb-03</td>\n",
       "      <td>157</td>\n",
       "      <td>Jan-03</td>\n",
       "      <td>141.0</td>\n",
       "      <td>NaN</td>\n",
       "      <td>NaN</td>\n",
       "      <td>NaN</td>\n",
       "      <td>NaN</td>\n",
       "      <td>NaN</td>\n",
       "      <td>NaN</td>\n",
       "    </tr>\n",
       "    <tr>\n",
       "      <th>2</th>\n",
       "      <td>Mar-03</td>\n",
       "      <td>185</td>\n",
       "      <td>Feb-03</td>\n",
       "      <td>157.0</td>\n",
       "      <td>Jan-03</td>\n",
       "      <td>141.0</td>\n",
       "      <td>NaN</td>\n",
       "      <td>NaN</td>\n",
       "      <td>NaN</td>\n",
       "      <td>NaN</td>\n",
       "    </tr>\n",
       "    <tr>\n",
       "      <th>3</th>\n",
       "      <td>Apr-03</td>\n",
       "      <td>199</td>\n",
       "      <td>Mar-03</td>\n",
       "      <td>185.0</td>\n",
       "      <td>Feb-03</td>\n",
       "      <td>157.0</td>\n",
       "      <td>Jan-03</td>\n",
       "      <td>141.0</td>\n",
       "      <td>NaN</td>\n",
       "      <td>NaN</td>\n",
       "    </tr>\n",
       "    <tr>\n",
       "      <th>4</th>\n",
       "      <td>May-03</td>\n",
       "      <td>203</td>\n",
       "      <td>Apr-03</td>\n",
       "      <td>199.0</td>\n",
       "      <td>Mar-03</td>\n",
       "      <td>185.0</td>\n",
       "      <td>Feb-03</td>\n",
       "      <td>157.0</td>\n",
       "      <td>Jan-03</td>\n",
       "      <td>141.0</td>\n",
       "    </tr>\n",
       "  </tbody>\n",
       "</table>\n",
       "</div>"
      ],
      "text/plain": [
       "  Month-Year  Number of Tractor Sold Month-Year  Number of Tractor Sold  \\\n",
       "0     Jan-03                     141        NaN                     NaN   \n",
       "1     Feb-03                     157     Jan-03                   141.0   \n",
       "2     Mar-03                     185     Feb-03                   157.0   \n",
       "3     Apr-03                     199     Mar-03                   185.0   \n",
       "4     May-03                     203     Apr-03                   199.0   \n",
       "\n",
       "  Month-Year  Number of Tractor Sold Month-Year  Number of Tractor Sold  \\\n",
       "0        NaN                     NaN        NaN                     NaN   \n",
       "1        NaN                     NaN        NaN                     NaN   \n",
       "2     Jan-03                   141.0        NaN                     NaN   \n",
       "3     Feb-03                   157.0     Jan-03                   141.0   \n",
       "4     Mar-03                   185.0     Feb-03                   157.0   \n",
       "\n",
       "  Month-Year  Number of Tractor Sold  \n",
       "0        NaN                     NaN  \n",
       "1        NaN                     NaN  \n",
       "2        NaN                     NaN  \n",
       "3        NaN                     NaN  \n",
       "4     Jan-03                   141.0  "
      ]
     },
     "execution_count": 13,
     "metadata": {},
     "output_type": "execute_result"
    }
   ],
   "source": [
    "data1.head(5)"
   ]
  },
  {
   "cell_type": "code",
   "execution_count": 14,
   "metadata": {},
   "outputs": [],
   "source": [
    "data1.columns = ['month', 'noTractorsSold', 'month+1', 'noTractorsSold+1', 'month+2', 'noTractorsSold+2', 'month+3', 'noTractorsSold+3', 'month+4', 'noTractorsSold+4']"
   ]
  },
  {
   "cell_type": "code",
   "execution_count": 15,
   "metadata": {},
   "outputs": [
    {
     "data": {
      "text/html": [
       "<div>\n",
       "<style scoped>\n",
       "    .dataframe tbody tr th:only-of-type {\n",
       "        vertical-align: middle;\n",
       "    }\n",
       "\n",
       "    .dataframe tbody tr th {\n",
       "        vertical-align: top;\n",
       "    }\n",
       "\n",
       "    .dataframe thead th {\n",
       "        text-align: right;\n",
       "    }\n",
       "</style>\n",
       "<table border=\"1\" class=\"dataframe\">\n",
       "  <thead>\n",
       "    <tr style=\"text-align: right;\">\n",
       "      <th></th>\n",
       "      <th>month</th>\n",
       "      <th>noTractorsSold</th>\n",
       "      <th>month+1</th>\n",
       "      <th>noTractorsSold+1</th>\n",
       "      <th>month+2</th>\n",
       "      <th>noTractorsSold+2</th>\n",
       "      <th>month+3</th>\n",
       "      <th>noTractorsSold+3</th>\n",
       "      <th>month+4</th>\n",
       "      <th>noTractorsSold+4</th>\n",
       "    </tr>\n",
       "  </thead>\n",
       "  <tbody>\n",
       "    <tr>\n",
       "      <th>0</th>\n",
       "      <td>Jan-03</td>\n",
       "      <td>141</td>\n",
       "      <td>NaN</td>\n",
       "      <td>NaN</td>\n",
       "      <td>NaN</td>\n",
       "      <td>NaN</td>\n",
       "      <td>NaN</td>\n",
       "      <td>NaN</td>\n",
       "      <td>NaN</td>\n",
       "      <td>NaN</td>\n",
       "    </tr>\n",
       "    <tr>\n",
       "      <th>1</th>\n",
       "      <td>Feb-03</td>\n",
       "      <td>157</td>\n",
       "      <td>Jan-03</td>\n",
       "      <td>141.0</td>\n",
       "      <td>NaN</td>\n",
       "      <td>NaN</td>\n",
       "      <td>NaN</td>\n",
       "      <td>NaN</td>\n",
       "      <td>NaN</td>\n",
       "      <td>NaN</td>\n",
       "    </tr>\n",
       "    <tr>\n",
       "      <th>2</th>\n",
       "      <td>Mar-03</td>\n",
       "      <td>185</td>\n",
       "      <td>Feb-03</td>\n",
       "      <td>157.0</td>\n",
       "      <td>Jan-03</td>\n",
       "      <td>141.0</td>\n",
       "      <td>NaN</td>\n",
       "      <td>NaN</td>\n",
       "      <td>NaN</td>\n",
       "      <td>NaN</td>\n",
       "    </tr>\n",
       "    <tr>\n",
       "      <th>3</th>\n",
       "      <td>Apr-03</td>\n",
       "      <td>199</td>\n",
       "      <td>Mar-03</td>\n",
       "      <td>185.0</td>\n",
       "      <td>Feb-03</td>\n",
       "      <td>157.0</td>\n",
       "      <td>Jan-03</td>\n",
       "      <td>141.0</td>\n",
       "      <td>NaN</td>\n",
       "      <td>NaN</td>\n",
       "    </tr>\n",
       "    <tr>\n",
       "      <th>4</th>\n",
       "      <td>May-03</td>\n",
       "      <td>203</td>\n",
       "      <td>Apr-03</td>\n",
       "      <td>199.0</td>\n",
       "      <td>Mar-03</td>\n",
       "      <td>185.0</td>\n",
       "      <td>Feb-03</td>\n",
       "      <td>157.0</td>\n",
       "      <td>Jan-03</td>\n",
       "      <td>141.0</td>\n",
       "    </tr>\n",
       "  </tbody>\n",
       "</table>\n",
       "</div>"
      ],
      "text/plain": [
       "    month  noTractorsSold month+1  noTractorsSold+1 month+2  noTractorsSold+2  \\\n",
       "0  Jan-03             141     NaN               NaN     NaN               NaN   \n",
       "1  Feb-03             157  Jan-03             141.0     NaN               NaN   \n",
       "2  Mar-03             185  Feb-03             157.0  Jan-03             141.0   \n",
       "3  Apr-03             199  Mar-03             185.0  Feb-03             157.0   \n",
       "4  May-03             203  Apr-03             199.0  Mar-03             185.0   \n",
       "\n",
       "  month+3  noTractorsSold+3 month+4  noTractorsSold+4  \n",
       "0     NaN               NaN     NaN               NaN  \n",
       "1     NaN               NaN     NaN               NaN  \n",
       "2     NaN               NaN     NaN               NaN  \n",
       "3  Jan-03             141.0     NaN               NaN  \n",
       "4  Feb-03             157.0  Jan-03             141.0  "
      ]
     },
     "execution_count": 15,
     "metadata": {},
     "output_type": "execute_result"
    }
   ],
   "source": [
    "data1.head(5)"
   ]
  },
  {
   "cell_type": "code",
   "execution_count": 16,
   "metadata": {},
   "outputs": [],
   "source": [
    "data1 = data1[['noTractorsSold', 'noTractorsSold+1', 'noTractorsSold+2', 'noTractorsSold+3', 'noTractorsSold+4']]"
   ]
  },
  {
   "cell_type": "code",
   "execution_count": 17,
   "metadata": {},
   "outputs": [
    {
     "data": {
      "text/html": [
       "<div>\n",
       "<style scoped>\n",
       "    .dataframe tbody tr th:only-of-type {\n",
       "        vertical-align: middle;\n",
       "    }\n",
       "\n",
       "    .dataframe tbody tr th {\n",
       "        vertical-align: top;\n",
       "    }\n",
       "\n",
       "    .dataframe thead th {\n",
       "        text-align: right;\n",
       "    }\n",
       "</style>\n",
       "<table border=\"1\" class=\"dataframe\">\n",
       "  <thead>\n",
       "    <tr style=\"text-align: right;\">\n",
       "      <th></th>\n",
       "      <th>noTractorsSold</th>\n",
       "      <th>noTractorsSold+1</th>\n",
       "      <th>noTractorsSold+2</th>\n",
       "      <th>noTractorsSold+3</th>\n",
       "      <th>noTractorsSold+4</th>\n",
       "    </tr>\n",
       "  </thead>\n",
       "  <tbody>\n",
       "    <tr>\n",
       "      <th>noTractorsSold</th>\n",
       "      <td>1.000000</td>\n",
       "      <td>0.944599</td>\n",
       "      <td>0.871124</td>\n",
       "      <td>0.800973</td>\n",
       "      <td>0.737122</td>\n",
       "    </tr>\n",
       "    <tr>\n",
       "      <th>noTractorsSold+1</th>\n",
       "      <td>0.944599</td>\n",
       "      <td>1.000000</td>\n",
       "      <td>0.945023</td>\n",
       "      <td>0.869857</td>\n",
       "      <td>0.798486</td>\n",
       "    </tr>\n",
       "    <tr>\n",
       "      <th>noTractorsSold+2</th>\n",
       "      <td>0.871124</td>\n",
       "      <td>0.945023</td>\n",
       "      <td>1.000000</td>\n",
       "      <td>0.945161</td>\n",
       "      <td>0.870524</td>\n",
       "    </tr>\n",
       "    <tr>\n",
       "      <th>noTractorsSold+3</th>\n",
       "      <td>0.800973</td>\n",
       "      <td>0.869857</td>\n",
       "      <td>0.945161</td>\n",
       "      <td>1.000000</td>\n",
       "      <td>0.944945</td>\n",
       "    </tr>\n",
       "    <tr>\n",
       "      <th>noTractorsSold+4</th>\n",
       "      <td>0.737122</td>\n",
       "      <td>0.798486</td>\n",
       "      <td>0.870524</td>\n",
       "      <td>0.944945</td>\n",
       "      <td>1.000000</td>\n",
       "    </tr>\n",
       "  </tbody>\n",
       "</table>\n",
       "</div>"
      ],
      "text/plain": [
       "                  noTractorsSold  noTractorsSold+1  noTractorsSold+2  \\\n",
       "noTractorsSold          1.000000          0.944599          0.871124   \n",
       "noTractorsSold+1        0.944599          1.000000          0.945023   \n",
       "noTractorsSold+2        0.871124          0.945023          1.000000   \n",
       "noTractorsSold+3        0.800973          0.869857          0.945161   \n",
       "noTractorsSold+4        0.737122          0.798486          0.870524   \n",
       "\n",
       "                  noTractorsSold+3  noTractorsSold+4  \n",
       "noTractorsSold            0.800973          0.737122  \n",
       "noTractorsSold+1          0.869857          0.798486  \n",
       "noTractorsSold+2          0.945161          0.870524  \n",
       "noTractorsSold+3          1.000000          0.944945  \n",
       "noTractorsSold+4          0.944945          1.000000  "
      ]
     },
     "execution_count": 17,
     "metadata": {},
     "output_type": "execute_result"
    }
   ],
   "source": [
    "result = data1.corr()\n",
    "result"
   ]
  },
  {
   "cell_type": "code",
   "execution_count": 18,
   "metadata": {},
   "outputs": [
    {
     "data": {
      "text/plain": [
       "<matplotlib.axes._subplots.AxesSubplot at 0x25d9110a438>"
      ]
     },
     "execution_count": 18,
     "metadata": {},
     "output_type": "execute_result"
    },
    {
     "data": {
      "image/png": "[encoded data removed]",
      "text/plain": [
       "<Figure size 432x288 with 1 Axes>"
      ]
     },
     "metadata": {
      "needs_background": "light"
     },
     "output_type": "display_data"
    }
   ],
   "source": [
    "lag_plot(data['Number of Tractor Sold'])"
   ]
  },
  {
   "cell_type": "code",
   "execution_count": 19,
   "metadata": {},
   "outputs": [
    {
     "data": {
      "text/plain": [
       "<matplotlib.axes._subplots.AxesSubplot at 0x25d91411d68>"
      ]
     },
     "execution_count": 19,
     "metadata": {},
     "output_type": "execute_result"
    },
    {
     "data": {
      "image/png": "[encoded data removed]",
      "text/plain": [
       "<Figure size 432x288 with 1 Axes>"
      ]
     },
     "metadata": {
      "needs_background": "light"
     },
     "output_type": "display_data"
    }
   ],
   "source": [
    "# autocorrelation plot of time series\n",
    "autocorrelation_plot(data['Number of Tractor Sold'])"
   ]
  },
  {
   "cell_type": "code",
   "execution_count": 20,
   "metadata": {},
   "outputs": [
    {
     "data": {
      "image/png": "[encoded data removed]",
      "text/plain": [
       "<Figure size 432x288 with 1 Axes>"
      ]
     },
     "metadata": {
      "needs_background": "light"
     },
     "output_type": "display_data"
    }
   ],
   "source": [
    "plot_acf(data['Number of Tractor Sold'], lags=36)\n",
    "pyplot.show()"
   ]
  },
  {
   "cell_type": "markdown",
   "metadata": {},
   "source": [
    "# autoregressive model"
   ]
  },
  {
   "cell_type": "code",
   "execution_count": 21,
   "metadata": {},
   "outputs": [
    {
     "data": {
      "text/plain": [
       "(144, 2)"
      ]
     },
     "execution_count": 21,
     "metadata": {},
     "output_type": "execute_result"
    }
   ],
   "source": [
    "data.shape"
   ]
  },
  {
   "cell_type": "code",
   "execution_count": 22,
   "metadata": {},
   "outputs": [],
   "source": [
    "# split dataset\n",
    "X = data['Number of Tractor Sold']\n",
    "train, test = X[1:len(X)-24], X[len(X)-24:]"
   ]
  },
  {
   "cell_type": "code",
   "execution_count": 23,
   "metadata": {},
   "outputs": [],
   "source": [
    "# train autoregression model\n",
    "model = AR(train)\n",
    "model_fit = model.fit()"
   ]
  },
  {
   "cell_type": "code",
   "execution_count": 24,
   "metadata": {},
   "outputs": [
    {
     "name": "stdout",
     "output_type": "stream",
     "text": [
      "Lag: 13\n",
      "Coefficients: const                         8.236272\n",
      "L1.Number of Tractor Sold     0.792460\n",
      "L2.Number of Tractor Sold     0.123817\n",
      "L3.Number of Tractor Sold    -0.129477\n",
      "L4.Number of Tractor Sold    -0.110479\n",
      "L5.Number of Tractor Sold     0.376379\n",
      "L6.Number of Tractor Sold    -0.384411\n",
      "L7.Number of Tractor Sold     0.095670\n",
      "L8.Number of Tractor Sold     0.151158\n",
      "L9.Number of Tractor Sold    -0.188093\n",
      "L10.Number of Tractor Sold   -0.073848\n",
      "L11.Number of Tractor Sold    0.387453\n",
      "L12.Number of Tractor Sold    0.712921\n",
      "L13.Number of Tractor Sold   -0.756033\n",
      "dtype: float64\n"
     ]
    }
   ],
   "source": [
    "print('Lag: %s' % model_fit.k_ar)\n",
    "print('Coefficients: %s' % model_fit.params)"
   ]
  },
  {
   "cell_type": "code",
   "execution_count": 25,
   "metadata": {},
   "outputs": [],
   "source": [
    "# make predictions\n",
    "predictions = model_fit.predict(start=len(train), end=len(train)+len(test)-1, dynamic=False)"
   ]
  },
  {
   "cell_type": "code",
   "execution_count": 26,
   "metadata": {},
   "outputs": [
    {
     "data": {
      "text/plain": [
       "455"
      ]
     },
     "execution_count": 26,
     "metadata": {},
     "output_type": "execute_result"
    }
   ],
   "source": [
    "test.values[1]"
   ]
  },
  {
   "cell_type": "code",
   "execution_count": 27,
   "metadata": {},
   "outputs": [
    {
     "data": {
      "text/plain": [
       "414.86483123742136"
      ]
     },
     "execution_count": 27,
     "metadata": {},
     "output_type": "execute_result"
    }
   ],
   "source": [
    "predictions.values[1]"
   ]
  },
  {
   "cell_type": "code",
   "execution_count": 28,
   "metadata": {},
   "outputs": [
    {
     "name": "stdout",
     "output_type": "stream",
     "text": [
      "predicted=446.440278, expected=454.000000\n",
      "predicted=414.864831, expected=455.000000\n",
      "predicted=521.316933, expected=568.000000\n",
      "predicted=560.625901, expected=610.000000\n",
      "predicted=635.367726, expected=706.000000\n",
      "predicted=653.370052, expected=661.000000\n",
      "predicted=747.131347, expected=767.000000\n",
      "predicted=758.775930, expected=783.000000\n",
      "predicted=549.318544, expected=583.000000\n",
      "predicted=483.013327, expected=513.000000\n",
      "predicted=436.215171, expected=481.000000\n",
      "predicted=503.637268, expected=567.000000\n",
      "predicted=473.284724, expected=525.000000\n",
      "predicted=420.440950, expected=520.000000\n",
      "predicted=548.184255, expected=587.000000\n",
      "predicted=586.486569, expected=710.000000\n",
      "predicted=669.639952, expected=793.000000\n",
      "predicted=708.927622, expected=749.000000\n",
      "predicted=808.125447, expected=871.000000\n",
      "predicted=822.242437, expected=848.000000\n",
      "predicted=594.058942, expected=640.000000\n",
      "predicted=512.287315, expected=581.000000\n",
      "predicted=467.311777, expected=519.000000\n",
      "predicted=537.070999, expected=605.000000\n"
     ]
    }
   ],
   "source": [
    "for i in range(len(predictions)):\n",
    "    print('predicted=%f, expected=%f' % (predictions.values[i], test.values[i]))"
   ]
  },
  {
   "cell_type": "code",
   "execution_count": 29,
   "metadata": {},
   "outputs": [
    {
     "name": "stdout",
     "output_type": "stream",
     "text": [
      "Test RMSE: 59.608\n"
     ]
    }
   ],
   "source": [
    "rmse = sqrt(mean_squared_error(test, predictions))\n",
    "print('Test RMSE: %.3f' % rmse)"
   ]
  },
  {
   "cell_type": "code",
   "execution_count": 30,
   "metadata": {},
   "outputs": [
    {
     "data": {
      "image/png": "[encoded data removed]",
      "text/plain": [
       "<Figure size 432x288 with 1 Axes>"
      ]
     },
     "metadata": {
      "needs_background": "light"
     },
     "output_type": "display_data"
    }
   ],
   "source": [
    "# plot results\n",
    "pyplot.plot(test)\n",
    "pyplot.plot(predictions, color='red')\n",
    "pyplot.show()"
   ]
  },
  {
   "cell_type": "code",
   "execution_count": null,
   "metadata": {
    "collapsed": true
   },
   "outputs": [],
   "source": []
  }
 ],
 "metadata": {
  "kernelspec": {
   "display_name": "Python 3",
   "language": "python",
   "name": "python3"
  },
  "language_info": {
   "codemirror_mode": {
    "name": "ipython",
    "version": 3
   },
   "file_extension": ".py",
   "mimetype": "text/x-python",
   "name": "python",
   "nbconvert_exporter": "python",
   "pygments_lexer": "ipython3",
   "version": "3.6.5"
  }
 },
 "nbformat": 4,
 "nbformat_minor": 2
}
