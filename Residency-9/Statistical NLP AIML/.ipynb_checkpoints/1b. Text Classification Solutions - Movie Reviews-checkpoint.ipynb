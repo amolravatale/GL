{
 "cells": [
  {
   "cell_type": "markdown",
   "metadata": {
    "id": "JP6ss_CojMw4"
   },
   "source": [
    "# Text Classification Exercise: Movie Reviews"
   ]
  },
  {
   "cell_type": "markdown",
   "metadata": {
    "id": "xONn7mqYjMw6"
   },
   "source": [
    "## Introduction\n",
    "\n",
    "This exercise uses the data from Kaggle's [IMDB Movie reviews](https://www.kaggle.com/c/word2vec-nlp-tutorial/data) competition.\n",
    "\n",
    "**Description of the data:**\n",
    "\n",
    "- **`labeledTrainData.tsv.zip`** contains the dataset.\n",
    "- Each observation in this dataset is a review of a movie by a user.\n",
    "- The **sentiment** column is the sentiment of the review (1 -> positive and 0 -> negative).\n",
    "- The **review** column is the text of the review."
   ]
  },
  {
   "cell_type": "markdown",
   "metadata": {
    "id": "xlJpnzDwjMw8"
   },
   "source": [
    "# **Goal:** Predict the sentiment of the review using the review text."
   ]
  },
  {
   "cell_type": "markdown",
   "metadata": {
    "id": "suvnxBMljMw9"
   },
   "source": [
    "## Task 1\n",
    "\n",
    "Read **`labeledTrainData.tsv.zip`** into a pandas DataFrame and examine it. Please note that pandas can directly read tsv/csv files inside a zip file."
   ]
  },
  {
   "cell_type": "markdown",
   "metadata": {
    "id": "OXDPlZp3jMw_"
   },
   "source": [
    "## Task 2\n",
    "\n",
    "Define X and y from the new DataFrame, and then split X and y into training and testing sets, using the **review** as the feature and the **sentiment** as the response.\n",
    "\n",
    "- **Hint:** Keep in mind that X should be a pandas Series (not a DataFrame), since we will pass it to CountVectorizer in the task that follows."
   ]
  },
  {
   "cell_type": "markdown",
   "metadata": {
    "id": "LAfxXoeZjMxA"
   },
   "source": [
    "## Task 3\n",
    "\n",
    "Use CountVectorizer to create **document-term matrices** from X_train and X_test."
   ]
  },
  {
   "cell_type": "markdown",
   "metadata": {
    "id": "kG7kVIqojMxB"
   },
   "source": [
    "## Task 4\n",
    "\n",
    "Use multinomial Naive Bayes to **predict the sentiment** for the reviews in the testing set, and then **calculate the accuracy** and **print the confusion matrix**."
   ]
  },
  {
   "cell_type": "markdown",
   "metadata": {
    "id": "Y-9ERAlfjMxD"
   },
   "source": [
    "## Task 5\n",
    "\n",
    "Calculate the **null accuracy**, which is the classification accuracy that could be achieved by always predicting the most frequent class."
   ]
  },
  {
   "cell_type": "markdown",
   "metadata": {
    "id": "gvduejPajMxG"
   },
   "source": [
    "## Task 6\n",
    "\n",
    "Use different **tuning parameters** e.g max_df, min_df, max_features etc to build models and check test accuracy.\n",
    "\n",
    "Hint:\n",
    "\n",
    "- You can write a function which accepts a vectorizer as a parameter and..\n",
    "- Create DTMs for Training and Test data\n",
    "- Trains a model (SVM)\n",
    "- Calculate the testing accuracy and prints the same\n",
    "\n",
    "Call the above function with Vectorizers object created using different tuning parameters. Use TF-IDF vectorizer for this task."
   ]
  },
  {
   "cell_type": "code",
   "execution_count": 2,
   "metadata": {
    "colab": {
     "base_uri": "https://localhost:8080/"
    },
    "executionInfo": {
     "elapsed": 1170,
     "status": "ok",
     "timestamp": 1615691159004,
     "user": {
      "displayName": "Sayan Dey",
      "photoUrl": "https://lh3.googleusercontent.com/a-/AOh14GgqVHJ9o6-7idGiRbNNd4iVc1VjzvuPnwmAnvEtD6U=s64",
      "userId": "03603580465490055794"
     },
     "user_tz": -330
    },
    "id": "evvJtcnyaeO_",
    "outputId": "bf72d57e-fa58-4c5c-b3c5-0c6b37f28ebb"
   },
   "outputs": [
    {
     "name": "stdout",
     "output_type": "stream",
     "text": [
      "Drive already mounted at /gdrive; to attempt to forcibly remount, call drive.mount(\"/gdrive\", force_remount=True).\n"
     ]
    }
   ],
   "source": [
    "from google.colab import drive\n",
    "drive.mount('/gdrive')"
   ]
  },
  {
   "cell_type": "code",
   "execution_count": 3,
   "metadata": {
    "executionInfo": {
     "elapsed": 1051,
     "status": "ok",
     "timestamp": 1615691159004,
     "user": {
      "displayName": "Sayan Dey",
      "photoUrl": "https://lh3.googleusercontent.com/a-/AOh14GgqVHJ9o6-7idGiRbNNd4iVc1VjzvuPnwmAnvEtD6U=s64",
      "userId": "03603580465490055794"
     },
     "user_tz": -330
    },
    "id": "o84tU4KBruJK"
   },
   "outputs": [],
   "source": [
    "import pandas as pd\n",
    "import numpy as np"
   ]
  },
  {
   "cell_type": "code",
   "execution_count": 4,
   "metadata": {
    "executionInfo": {
     "elapsed": 1753,
     "status": "ok",
     "timestamp": 1615691159812,
     "user": {
      "displayName": "Sayan Dey",
      "photoUrl": "https://lh3.googleusercontent.com/a-/AOh14GgqVHJ9o6-7idGiRbNNd4iVc1VjzvuPnwmAnvEtD6U=s64",
      "userId": "03603580465490055794"
     },
     "user_tz": -330
    },
    "id": "WcQh6U1-aeOh"
   },
   "outputs": [],
   "source": [
    "# read file into pandas using a relative path. Please change the path as needed\n",
    "sms_df = pd.read_table('/gdrive/My Drive/Statistical NLP AIML/labeledTrainData.tsv.zip')"
   ]
  },
  {
   "cell_type": "code",
   "execution_count": 5,
   "metadata": {
    "colab": {
     "base_uri": "https://localhost:8080/"
    },
    "executionInfo": {
     "elapsed": 1641,
     "status": "ok",
     "timestamp": 1615691159813,
     "user": {
      "displayName": "Sayan Dey",
      "photoUrl": "https://lh3.googleusercontent.com/a-/AOh14GgqVHJ9o6-7idGiRbNNd4iVc1VjzvuPnwmAnvEtD6U=s64",
      "userId": "03603580465490055794"
     },
     "user_tz": -330
    },
    "id": "AoimIAMml8Gx",
    "outputId": "518f69a8-0682-4629-816d-a354838c2c82"
   },
   "outputs": [
    {
     "data": {
      "text/plain": [
       "(25000, 3)"
      ]
     },
     "execution_count": 5,
     "metadata": {
      "tags": []
     },
     "output_type": "execute_result"
    }
   ],
   "source": [
    "sms_df.shape"
   ]
  },
  {
   "cell_type": "code",
   "execution_count": 6,
   "metadata": {
    "colab": {
     "base_uri": "https://localhost:8080/",
     "height": 202
    },
    "executionInfo": {
     "elapsed": 1525,
     "status": "ok",
     "timestamp": 1615691159815,
     "user": {
      "displayName": "Sayan Dey",
      "photoUrl": "https://lh3.googleusercontent.com/a-/AOh14GgqVHJ9o6-7idGiRbNNd4iVc1VjzvuPnwmAnvEtD6U=s64",
      "userId": "03603580465490055794"
     },
     "user_tz": -330
    },
    "id": "Tzvd3U-fmUWp",
    "outputId": "253bf4ab-7404-43b0-a9c8-8aa3f3c18aab"
   },
   "outputs": [
    {
     "data": {
      "text/html": [
       "<div>\n",
       "<style scoped>\n",
       "    .dataframe tbody tr th:only-of-type {\n",
       "        vertical-align: middle;\n",
       "    }\n",
       "\n",
       "    .dataframe tbody tr th {\n",
       "        vertical-align: top;\n",
       "    }\n",
       "\n",
       "    .dataframe thead th {\n",
       "        text-align: right;\n",
       "    }\n",
       "</style>\n",
       "<table border=\"1\" class=\"dataframe\">\n",
       "  <thead>\n",
       "    <tr style=\"text-align: right;\">\n",
       "      <th></th>\n",
       "      <th>id</th>\n",
       "      <th>sentiment</th>\n",
       "      <th>review</th>\n",
       "    </tr>\n",
       "  </thead>\n",
       "  <tbody>\n",
       "    <tr>\n",
       "      <th>0</th>\n",
       "      <td>5814_8</td>\n",
       "      <td>1</td>\n",
       "      <td>With all this stuff going down at the moment w...</td>\n",
       "    </tr>\n",
       "    <tr>\n",
       "      <th>1</th>\n",
       "      <td>2381_9</td>\n",
       "      <td>1</td>\n",
       "      <td>\\The Classic War of the Worlds\\\" by Timothy Hi...</td>\n",
       "    </tr>\n",
       "    <tr>\n",
       "      <th>2</th>\n",
       "      <td>7759_3</td>\n",
       "      <td>0</td>\n",
       "      <td>The film starts with a manager (Nicholas Bell)...</td>\n",
       "    </tr>\n",
       "    <tr>\n",
       "      <th>3</th>\n",
       "      <td>3630_4</td>\n",
       "      <td>0</td>\n",
       "      <td>It must be assumed that those who praised this...</td>\n",
       "    </tr>\n",
       "    <tr>\n",
       "      <th>4</th>\n",
       "      <td>9495_8</td>\n",
       "      <td>1</td>\n",
       "      <td>Superbly trashy and wondrously unpretentious 8...</td>\n",
       "    </tr>\n",
       "  </tbody>\n",
       "</table>\n",
       "</div>"
      ],
      "text/plain": [
       "       id  sentiment                                             review\n",
       "0  5814_8          1  With all this stuff going down at the moment w...\n",
       "1  2381_9          1  \\The Classic War of the Worlds\\\" by Timothy Hi...\n",
       "2  7759_3          0  The film starts with a manager (Nicholas Bell)...\n",
       "3  3630_4          0  It must be assumed that those who praised this...\n",
       "4  9495_8          1  Superbly trashy and wondrously unpretentious 8..."
      ]
     },
     "execution_count": 6,
     "metadata": {
      "tags": []
     },
     "output_type": "execute_result"
    }
   ],
   "source": [
    "sms_df.head()"
   ]
  },
  {
   "cell_type": "code",
   "execution_count": 7,
   "metadata": {
    "executionInfo": {
     "elapsed": 2182,
     "status": "ok",
     "timestamp": 1615691160586,
     "user": {
      "displayName": "Sayan Dey",
      "photoUrl": "https://lh3.googleusercontent.com/a-/AOh14GgqVHJ9o6-7idGiRbNNd4iVc1VjzvuPnwmAnvEtD6U=s64",
      "userId": "03603580465490055794"
     },
     "user_tz": -330
    },
    "id": "v-wdhCspw4lE"
   },
   "outputs": [],
   "source": [
    "from sklearn.model_selection import train_test_split"
   ]
  },
  {
   "cell_type": "code",
   "execution_count": 8,
   "metadata": {
    "executionInfo": {
     "elapsed": 2079,
     "status": "ok",
     "timestamp": 1615691160587,
     "user": {
      "displayName": "Sayan Dey",
      "photoUrl": "https://lh3.googleusercontent.com/a-/AOh14GgqVHJ9o6-7idGiRbNNd4iVc1VjzvuPnwmAnvEtD6U=s64",
      "userId": "03603580465490055794"
     },
     "user_tz": -330
    },
    "id": "4mY8_xP6w9DW"
   },
   "outputs": [],
   "source": [
    "# split X and y into training and testing sets\n",
    "sms_train, sms_test, y_train, y_test = train_test_split(sms_df.review, sms_df.sentiment, random_state=2)"
   ]
  },
  {
   "cell_type": "code",
   "execution_count": 9,
   "metadata": {
    "colab": {
     "base_uri": "https://localhost:8080/"
    },
    "executionInfo": {
     "elapsed": 1952,
     "status": "ok",
     "timestamp": 1615691160587,
     "user": {
      "displayName": "Sayan Dey",
      "photoUrl": "https://lh3.googleusercontent.com/a-/AOh14GgqVHJ9o6-7idGiRbNNd4iVc1VjzvuPnwmAnvEtD6U=s64",
      "userId": "03603580465490055794"
     },
     "user_tz": -330
    },
    "id": "axydR7nwxd5c",
    "outputId": "9f265473-2663-4a3e-e967-99099ce52652"
   },
   "outputs": [
    {
     "name": "stdout",
     "output_type": "stream",
     "text": [
      "(18750,)\n",
      "(18750,)\n"
     ]
    }
   ],
   "source": [
    "#Traing data\n",
    "print(sms_train.shape)\n",
    "print(y_train.shape)"
   ]
  },
  {
   "cell_type": "code",
   "execution_count": 10,
   "metadata": {
    "colab": {
     "base_uri": "https://localhost:8080/"
    },
    "executionInfo": {
     "elapsed": 1836,
     "status": "ok",
     "timestamp": 1615691160588,
     "user": {
      "displayName": "Sayan Dey",
      "photoUrl": "https://lh3.googleusercontent.com/a-/AOh14GgqVHJ9o6-7idGiRbNNd4iVc1VjzvuPnwmAnvEtD6U=s64",
      "userId": "03603580465490055794"
     },
     "user_tz": -330
    },
    "id": "cMpz2JpNxjT1",
    "outputId": "cccd0aca-0669-4451-a399-1ce0bfacb33f"
   },
   "outputs": [
    {
     "name": "stdout",
     "output_type": "stream",
     "text": [
      "(6250,)\n",
      "(6250,)\n"
     ]
    }
   ],
   "source": [
    "#Test Data\n",
    "print(sms_test.shape)\n",
    "print(y_test.shape)"
   ]
  },
  {
   "cell_type": "markdown",
   "metadata": {
    "id": "pERZB-yYcMnQ"
   },
   "source": [
    "### 3. Tokenization & Vectorization"
   ]
  },
  {
   "cell_type": "markdown",
   "metadata": {
    "id": "HG5KU5JVwj7k"
   },
   "source": [
    "Using **CountVectorizer**, to get numeric features."
   ]
  },
  {
   "cell_type": "code",
   "execution_count": 11,
   "metadata": {
    "executionInfo": {
     "elapsed": 1515,
     "status": "ok",
     "timestamp": 1615691160588,
     "user": {
      "displayName": "Sayan Dey",
      "photoUrl": "https://lh3.googleusercontent.com/a-/AOh14GgqVHJ9o6-7idGiRbNNd4iVc1VjzvuPnwmAnvEtD6U=s64",
      "userId": "03603580465490055794"
     },
     "user_tz": -330
    },
    "id": "o-EAh3Lict_N"
   },
   "outputs": [],
   "source": [
    "# import and instantiate CountVectorizer (with the default parameters)\n",
    "from sklearn.feature_extraction.text import CountVectorizer\n",
    "cvect = CountVectorizer()"
   ]
  },
  {
   "cell_type": "code",
   "execution_count": 12,
   "metadata": {
    "colab": {
     "base_uri": "https://localhost:8080/"
    },
    "executionInfo": {
     "elapsed": 4849,
     "status": "ok",
     "timestamp": 1615691164798,
     "user": {
      "displayName": "Sayan Dey",
      "photoUrl": "https://lh3.googleusercontent.com/a-/AOh14GgqVHJ9o6-7idGiRbNNd4iVc1VjzvuPnwmAnvEtD6U=s64",
      "userId": "03603580465490055794"
     },
     "user_tz": -330
    },
    "id": "wOIKxD1pdEg3",
    "outputId": "4531002d-74bc-4d15-ace4-3ba016645868"
   },
   "outputs": [
    {
     "data": {
      "text/plain": [
       "66672"
      ]
     },
     "execution_count": 12,
     "metadata": {
      "tags": []
     },
     "output_type": "execute_result"
    }
   ],
   "source": [
    "#Feed SMS data to CountVectorizer\n",
    "cvect.fit(sms_train)\n",
    "\n",
    "#Check the vocablury size\n",
    "len(cvect.vocabulary_)"
   ]
  },
  {
   "cell_type": "code",
   "execution_count": 13,
   "metadata": {
    "colab": {
     "base_uri": "https://localhost:8080/"
    },
    "executionInfo": {
     "elapsed": 4228,
     "status": "ok",
     "timestamp": 1615691164799,
     "user": {
      "displayName": "Sayan Dey",
      "photoUrl": "https://lh3.googleusercontent.com/a-/AOh14GgqVHJ9o6-7idGiRbNNd4iVc1VjzvuPnwmAnvEtD6U=s64",
      "userId": "03603580465490055794"
     },
     "user_tz": -330
    },
    "id": "H4t9gegJd74n",
    "outputId": "e9d41556-1c1d-4909-806d-03022d54476e"
   },
   "outputs": [
    {
     "data": {
      "text/plain": [
       "{'japanese': 31283,\n",
       " 'tomo': 59974,\n",
       " 'akiyama': 2138,\n",
       " 'keko': 32409,\n",
       " 'mask': 36734,\n",
       " '1993': 368,\n",
       " 'is': 30933,\n",
       " 'extremely': 20913,\n",
       " 'enjoyable': 19581,\n",
       " 'trash': 60543,\n",
       " 'film': 21947,\n",
       " 'and': 2876,\n",
       " 'so': 54695,\n",
       " 'fun': 23551,\n",
       " 'to': 59841,\n",
       " 'watch': 64404,\n",
       " 'there': 59240,\n",
       " 'are': 3638,\n",
       " 'also': 2477,\n",
       " 'some': 54907,\n",
       " 'sequels': 52492,\n",
       " 'but': 8741,\n",
       " 'haven': 26904,\n",
       " 'seen': 52232,\n",
       " 'them': 59186,\n",
       " 'since': 53778,\n",
       " 'these': 59266,\n",
       " 'films': 21985,\n",
       " 'hyper': 28826,\n",
       " 'rare': 47705,\n",
       " 'kind': 32692,\n",
       " 'of': 41567,\n",
       " 're': 47883,\n",
       " 'releases': 48714,\n",
       " 'day': 14865,\n",
       " 'would': 65697,\n",
       " 'be': 5597,\n",
       " 'nice': 40572,\n",
       " 'think': 59321,\n",
       " 'many': 36384,\n",
       " 'lovers': 35270,\n",
       " 'like': 34551,\n",
       " 'the': 59155,\n",
       " 'tongue': 59993,\n",
       " 'in': 29482,\n",
       " 'cheek': 10499,\n",
       " 'story': 56536,\n",
       " 'about': 1094,\n",
       " 'one': 41793,\n",
       " 'strict': 56717,\n",
       " 'school': 51715,\n",
       " 'which': 64860,\n",
       " 'teachers': 58623,\n",
       " 'that': 59144,\n",
       " 'it': 31020,\n",
       " 'okay': 41676,\n",
       " 'torture': 60143,\n",
       " 'students': 56849,\n",
       " 'order': 42032,\n",
       " 'attain': 4301,\n",
       " 'discipline': 16669,\n",
       " 'according': 1267,\n",
       " 'most': 39203,\n",
       " 'important': 29389,\n",
       " 'thing': 59314,\n",
       " 'education': 18708,\n",
       " 'lead': 33950,\n",
       " 'by': 8819,\n",
       " 'incredibly': 29679,\n",
       " 'funny': 23597,\n",
       " 'looking': 35081,\n",
       " 'just': 31993,\n",
       " 'look': 35074,\n",
       " 'at': 4200,\n",
       " 'costume': 13368,\n",
       " 'human': 28598,\n",
       " 'wizard': 65408,\n",
       " 'whatever': 64805,\n",
       " 'who': 64974,\n",
       " 'principal': 46063,\n",
       " 'only': 41813,\n",
       " 'adds': 1510,\n",
       " 'campiness': 9165,\n",
       " 'never': 40476,\n",
       " 'explained': 20735,\n",
       " 'why': 65031,\n",
       " 'he': 26987,\n",
       " 'wears': 64539,\n",
       " 'such': 57161,\n",
       " 'all': 2342,\n",
       " 'other': 42219,\n",
       " 'perfectly': 43829,\n",
       " 'normally': 40966,\n",
       " 'clothed': 11499,\n",
       " 'well': 64678,\n",
       " 'main': 35968,\n",
       " 'its': 31052,\n",
       " 'name': 39958,\n",
       " 'beautiful': 5691,\n",
       " 'masked': 36735,\n",
       " 'fairy': 21108,\n",
       " 'comes': 12003,\n",
       " 'always': 2541,\n",
       " 'save': 51390,\n",
       " 'girls': 24653,\n",
       " 'abused': 1165,\n",
       " 'tortured': 60144,\n",
       " 'yes': 66124,\n",
       " 'this': 59350,\n",
       " 'superheroine': 57440,\n",
       " 'effective': 18760,\n",
       " 'female': 21650,\n",
       " 'as': 3937,\n",
       " 'she': 52955,\n",
       " 'kicks': 32596,\n",
       " 'fights': 21899,\n",
       " 'evil': 20366,\n",
       " 'with': 65361,\n",
       " 'totally': 60175,\n",
       " 'cheesy': 10537,\n",
       " 'soundtrack': 55107,\n",
       " 'playing': 44817,\n",
       " 'on': 41780,\n",
       " 'background': 4829,\n",
       " 'course': 13487,\n",
       " 'nothing': 41034,\n",
       " 'cape': 9303,\n",
       " 'rest': 49288,\n",
       " 'her': 27383,\n",
       " 'body': 7152,\n",
       " 'naked': 39946,\n",
       " 'identity': 28983,\n",
       " 'revealed': 49455,\n",
       " 'credits': 13765,\n",
       " 'say': 51435,\n",
       " 'unknown': 62227,\n",
       " 'while': 64870,\n",
       " 'actor': 1431,\n",
       " 'names': 39964,\n",
       " 'listed': 34761,\n",
       " 'br': 7711,\n",
       " 'hilarious': 27669,\n",
       " 'how': 28457,\n",
       " 'kills': 32661,\n",
       " 'enemies': 19493,\n",
       " 'has': 26794,\n",
       " 'gorgeous': 25163,\n",
       " 'lethal': 34297,\n",
       " 'vagina': 62968,\n",
       " 'you': 66231,\n",
       " 'read': 47907,\n",
       " 'right': 49774,\n",
       " 'victims': 63515,\n",
       " 'flying': 22600,\n",
       " 'air': 2052,\n",
       " 'front': 23420,\n",
       " 'spreading': 55676,\n",
       " 'legs': 34119,\n",
       " 'letting': 34316,\n",
       " 'become': 5727,\n",
       " 'numbly': 41189,\n",
       " 'charmed': 10379,\n",
       " 'view': 63580,\n",
       " 'after': 1856,\n",
       " 'flies': 22408,\n",
       " 'closer': 11485,\n",
       " 'snaps': 54550,\n",
       " 'their': 59178,\n",
       " 'necks': 40260,\n",
       " 'usual': 62869,\n",
       " 'last': 33742,\n",
       " 'line': 34657,\n",
       " 'characters': 10324,\n",
       " 've': 63208,\n",
       " 'now': 41105,\n",
       " 'can': 9183,\n",
       " 'die': 16317,\n",
       " 'peace': 43514,\n",
       " 'fantastic': 21264,\n",
       " 'great': 25496,\n",
       " 'taunts': 58558,\n",
       " 'towards': 60246,\n",
       " 'society': 54747,\n",
       " 'for': 22769,\n",
       " 'example': 20449,\n",
       " 'attitude': 4336,\n",
       " 'sex': 52660,\n",
       " 'censors': 10042,\n",
       " 'optically': 41959,\n",
       " 'fog': 22638,\n",
       " 'blur': 7044,\n",
       " 'pubic': 46700,\n",
       " 'hair': 26301,\n",
       " 'any': 3270,\n",
       " 'restrictions': 49318,\n",
       " 'among': 2727,\n",
       " 'boys': 7702,\n",
       " 'not': 41015,\n",
       " 'allowed': 2392,\n",
       " 'talk': 58300,\n",
       " 'etc': 20180,\n",
       " 'scene': 51577,\n",
       " 'nerd': 40396,\n",
       " 'sees': 52239,\n",
       " 'girl': 24641,\n",
       " 'bare': 5272,\n",
       " 'know': 32951,\n",
       " 'what': 64800,\n",
       " 'first': 22134,\n",
       " 'time': 59675,\n",
       " 'says': 51446,\n",
       " 'hey': 27542,\n",
       " 'no': 40806,\n",
       " 'couldn': 13402,\n",
       " 'help': 27295,\n",
       " 'laugh': 33808,\n",
       " 'during': 18325,\n",
       " 'thought': 59401,\n",
       " 'do': 17239,\n",
       " 'character': 10304,\n",
       " 'end': 19438,\n",
       " 'will': 65137,\n",
       " 'return': 49430,\n",
       " 'if': 29038,\n",
       " 'japan': 31282,\n",
       " 'allows': 2394,\n",
       " 'make': 36021,\n",
       " 'sequel': 52491,\n",
       " 'glad': 24705,\n",
       " 'heard': 27056,\n",
       " 'equally': 19885,\n",
       " 'outrageous': 42333,\n",
       " 'should': 53317,\n",
       " 'include': 29600,\n",
       " 'blues': 7026,\n",
       " 'brothers': 8223,\n",
       " 'those': 59396,\n",
       " 'funniest': 23592,\n",
       " 'cleverest': 11365,\n",
       " 'form': 22892,\n",
       " 'little': 34810,\n",
       " 'shame': 52814,\n",
       " 'hard': 26629,\n",
       " 'find': 22027,\n",
       " 'definitely': 15305,\n",
       " 'even': 20301,\n",
       " 'greater': 25497,\n",
       " 'experience': 20705,\n",
       " 'was': 64357,\n",
       " 'more': 39057,\n",
       " 'fast': 21388,\n",
       " 'moving': 39360,\n",
       " 'times': 59690,\n",
       " 'becomes': 5730,\n",
       " 'boring': 7519,\n",
       " 'point': 45044,\n",
       " 'fortunately': 22974,\n",
       " 'segments': 52252,\n",
       " 'very': 63422,\n",
       " 'few': 21795,\n",
       " 'fully': 23536,\n",
       " 'believed': 5942,\n",
       " 'elements': 18994,\n",
       " 'don': 17458,\n",
       " 'mention': 37617,\n",
       " 'here': 27406,\n",
       " 'wouldn': 65700,\n",
       " 'necessary': 40247,\n",
       " 'tell': 58800,\n",
       " 'cinema': 11056,\n",
       " 'made': 35800,\n",
       " 'll': 34853,\n",
       " 'love': 35248,\n",
       " 'gem': 24203,\n",
       " 'director': 16553,\n",
       " 'genius': 24270,\n",
       " 'field': 21857,\n",
       " '10': 33,\n",
       " 'perhaps': 43852,\n",
       " 'shining': 53121,\n",
       " 'audiences': 4390,\n",
       " 'back': 4813,\n",
       " '1936': 294,\n",
       " 'must': 39702,\n",
       " 'have': 26902,\n",
       " 'been': 5784,\n",
       " 'stunned': 56887,\n",
       " 'they': 59277,\n",
       " 'were': 64717,\n",
       " 'watching': 64412,\n",
       " 'full': 23528,\n",
       " 'fledged': 22357,\n",
       " 'length': 34188,\n",
       " 'technicolor': 58678,\n",
       " 'sure': 57581,\n",
       " 'might': 38003,\n",
       " 'strip': 56747,\n",
       " 'rate': 47750,\n",
       " 'still': 56361,\n",
       " 'looks': 35085,\n",
       " 'over': 42397,\n",
       " '70': 736,\n",
       " 'years': 66079,\n",
       " 'later': 33763,\n",
       " 'dvd': 18377,\n",
       " 'fact': 21038,\n",
       " 'good': 25077,\n",
       " 'amazing': 2592,\n",
       " 'kudos': 33233,\n",
       " 'go': 24898,\n",
       " 'out': 42253,\n",
       " 'richard': 49672,\n",
       " 'boleslowski': 7248,\n",
       " 'photography': 44295,\n",
       " 'virgil': 63721,\n",
       " 'miller': 38117,\n",
       " 'selznick': 52335,\n",
       " 'international': 30521,\n",
       " 'pictures': 44397,\n",
       " 'mgm': 37877,\n",
       " 'home': 28052,\n",
       " 'entertainment': 19701,\n",
       " 'combined': 11966,\n",
       " 'give': 24685,\n",
       " 'us': 62831,\n",
       " 'best': 6219,\n",
       " 'classic': 11249,\n",
       " 'era': 19913,\n",
       " 'age': 1887,\n",
       " 'excellent': 20476,\n",
       " 'half': 26346,\n",
       " 'stagnant': 55895,\n",
       " 'second': 52147,\n",
       " 'gave': 24101,\n",
       " 'message': 37744,\n",
       " 'though': 59399,\n",
       " 'lot': 35182,\n",
       " 'people': 43753,\n",
       " 'happy': 26604,\n",
       " 'without': 65379,\n",
       " 'spoiling': 55575,\n",
       " 'things': 59319,\n",
       " 'marlene': 36578,\n",
       " 'dietrich': 16336,\n",
       " 'looked': 35077,\n",
       " 'better': 6265,\n",
       " 'believe': 5940,\n",
       " 'certainly': 10096,\n",
       " 'played': 44805,\n",
       " 'soft': 54795,\n",
       " 'hearted': 27079,\n",
       " 'domini': 17444,\n",
       " 'enfilden': 19508,\n",
       " 'heart': 27069,\n",
       " 'throb': 59459,\n",
       " 'charles': 10361,\n",
       " 'boyer': 7696,\n",
       " 'male': 36077,\n",
       " 'star': 56015,\n",
       " 'object': 41336,\n",
       " 'affection': 1772,\n",
       " 'minor': 38268,\n",
       " 'interesting': 30465,\n",
       " 'me': 37243,\n",
       " 'joseph': 31773,\n",
       " 'schildkraut': 51641,\n",
       " 'batouch': 5516,\n",
       " 'john': 31681,\n",
       " 'carradine': 9565,\n",
       " 'sand': 51113,\n",
       " 'diviner': 17183,\n",
       " 'memorable': 37538,\n",
       " 'least': 34001,\n",
       " 'dancer': 14624,\n",
       " 'irena': 30840,\n",
       " 'tilly': 59658,\n",
       " 'losch': 35169,\n",
       " 'wow': 65714,\n",
       " 'face': 21010,\n",
       " 'dance': 14621,\n",
       " 'won': 65496,\n",
       " 'soon': 54985,\n",
       " 'forget': 22864,\n",
       " 'anything': 3284,\n",
       " 'thousands': 59413,\n",
       " 'viewed': 63582,\n",
       " 'seeing': 52216,\n",
       " 'worth': 65686,\n",
       " 'price': 46001,\n",
       " 'imdb': 29203,\n",
       " 'resume': 49333,\n",
       " 'four': 23027,\n",
       " 'movies': 39354,\n",
       " 'known': 32960,\n",
       " 'basil': 5440,\n",
       " 'rathbone': 47757,\n",
       " 'really': 47962,\n",
       " 'became': 5705,\n",
       " 'famous': 21202,\n",
       " 'sherlock': 53051,\n",
       " 'holmes': 28024,\n",
       " 'aubrey': 4369,\n",
       " 'smith': 54465,\n",
       " 'another': 3125,\n",
       " 'british': 8109,\n",
       " 'his': 27784,\n",
       " 'way': 64486,\n",
       " 'recognized': 48161,\n",
       " 'buffs': 8425,\n",
       " 'man': 36171,\n",
       " 'arrogant': 3828,\n",
       " 'sales': 50982,\n",
       " 'clerk': 11354,\n",
       " 'big': 6410,\n",
       " 'hit': 27811,\n",
       " 'shop': 53261,\n",
       " 'around': 3788,\n",
       " 'corner': 13221,\n",
       " 'jimmy': 31577,\n",
       " 'stewart': 56320,\n",
       " 'margaret': 36451,\n",
       " 'sullivan': 57297,\n",
       " 'direction': 16544,\n",
       " 'color': 11903,\n",
       " 'remember': 48818,\n",
       " 'movie': 39340,\n",
       " 'rolled': 50179,\n",
       " 'into': 30627,\n",
       " 'had': 26228,\n",
       " 'hour': 28417,\n",
       " 'although': 2514,\n",
       " 'admire': 1582,\n",
       " 'ending': 19463,\n",
       " 'rated': 47752,\n",
       " 'higher': 27622,\n",
       " 'collectors': 11848,\n",
       " 'want': 64258,\n",
       " 'add': 1483,\n",
       " 'collection': 11842,\n",
       " 'my': 39771,\n",
       " 'wife': 65083,\n",
       " 'found': 23011,\n",
       " 'highly': 27635,\n",
       " 'unsatisfying': 62483,\n",
       " 'plot': 44912,\n",
       " 'keeps': 32384,\n",
       " 'interested': 30462,\n",
       " 'busy': 8737,\n",
       " 'wondering': 65504,\n",
       " 'going': 24984,\n",
       " 'when': 64840,\n",
       " 'leave': 34014,\n",
       " 'theater': 59158,\n",
       " 'too': 60016,\n",
       " 'loose': 35115,\n",
       " 'ends': 19482,\n",
       " 'sense': 52408,\n",
       " 'spoilers': 55572,\n",
       " 'ahead': 1990,\n",
       " 'christopher': 10916,\n",
       " 'plummer': 44947,\n",
       " 'enormously': 19616,\n",
       " 'wealthy': 64525,\n",
       " 'head': 26988,\n",
       " 'ny': 41265,\n",
       " 'bank': 5165,\n",
       " 'terrible': 58988,\n",
       " 'hidden': 27590,\n",
       " 'secret': 52155,\n",
       " 'profiting': 46243,\n",
       " 'from': 23417,\n",
       " 'ww': 65862,\n",
       " 'ii': 29080,\n",
       " 'deals': 14940,\n",
       " 'nazis': 40196,\n",
       " 'hiding': 27604,\n",
       " 'loot': 35129,\n",
       " 'stolen': 56454,\n",
       " 'jews': 31537,\n",
       " 'evidence': 20360,\n",
       " 'including': 29603,\n",
       " 'diamonds': 16238,\n",
       " 'documents': 17298,\n",
       " 'nazi': 40194,\n",
       " 'swastika': 57800,\n",
       " 'safety': 50896,\n",
       " 'deposit': 15732,\n",
       " 'box': 7683,\n",
       " 'wants': 64266,\n",
       " 'did': 16305,\n",
       " 'burn': 8633,\n",
       " 'destroy': 15962,\n",
       " 'ago': 1946,\n",
       " 'obviously': 41450,\n",
       " 'does': 17329,\n",
       " 'need': 40279,\n",
       " 'keep': 32378,\n",
       " 'rather': 47758,\n",
       " 'than': 59123,\n",
       " 'dispose': 16955,\n",
       " 'robbers': 50013,\n",
       " 'zero': 66473,\n",
       " '232': 469,\n",
       " 'ace': 1308,\n",
       " 'detective': 16000,\n",
       " 'denzel': 15675,\n",
       " 'washington': 64369,\n",
       " 'discovers': 16724,\n",
       " 'records': 48221,\n",
       " 'show': 53342,\n",
       " 'sd': 52045,\n",
       " 'boxes': 7687,\n",
       " '231': 468,\n",
       " '233': 470,\n",
       " 'curious': 14275,\n",
       " 'meticulously': 37832,\n",
       " 'somehow': 54910,\n",
       " 'an': 2794,\n",
       " 'exhausting': 20597,\n",
       " 'search': 52089,\n",
       " 'unearth': 61927,\n",
       " 'dealing': 14938,\n",
       " 'red': 48276,\n",
       " 'hot': 28375,\n",
       " 'hostage': 28362,\n",
       " 'situation': 53904,\n",
       " 'threatening': 59430,\n",
       " 'start': 56065,\n",
       " 'executing': 20565,\n",
       " 'momentarily': 38783,\n",
       " 'super': 57408,\n",
       " 'powers': 45578,\n",
       " 'behind': 5878,\n",
       " 'millions': 38132,\n",
       " 'dollars': 17398,\n",
       " 'currency': 14292,\n",
       " 'vault': 63191,\n",
       " 'opened': 41876,\n",
       " 'take': 58256,\n",
       " 'contents': 12889,\n",
       " 'ostensibly': 42201,\n",
       " 'purpose': 46918,\n",
       " 'blackmailing': 6689,\n",
       " 'president': 45900,\n",
       " 'defies': 15285,\n",
       " 'rational': 47764,\n",
       " 'attempt': 4308,\n",
       " 'logical': 34975,\n",
       " 'explanation': 20738,\n",
       " 'depicts': 15712,\n",
       " 'criminal': 13842,\n",
       " 'mastermind': 36794,\n",
       " 'or': 41981,\n",
       " 'henchmen': 27342,\n",
       " 'lesser': 34284,\n",
       " 'brains': 7760,\n",
       " 'jodie': 31649,\n",
       " 'foster': 22994,\n",
       " 'using': 62860,\n",
       " 'political': 45133,\n",
       " 'connections': 12642,\n",
       " 'mayor': 37014,\n",
       " 'nyc': 41267,\n",
       " 'gains': 23782,\n",
       " 'permission': 43899,\n",
       " 'enter': 19684,\n",
       " 'under': 61743,\n",
       " 'control': 12987,\n",
       " 'holding': 27968,\n",
       " 'hostages': 28363,\n",
       " 'offers': 41593,\n",
       " 'chief': 10672,\n",
       " 'robber': 50011,\n",
       " 'deal': 14933,\n",
       " 'buy': 8787,\n",
       " 'hand': 26478,\n",
       " 'ain': 2046,\n",
       " 'offended': 41578,\n",
       " 'arrogance': 3827,\n",
       " 'players': 44807,\n",
       " 'crack': 13594,\n",
       " 'trouble': 60890,\n",
       " 'shooter': 53253,\n",
       " 'high': 27617,\n",
       " 'powered': 45565,\n",
       " 'problems': 46144,\n",
       " 'saw': 51414,\n",
       " 'flight': 22409,\n",
       " 'plan': 44728,\n",
       " 'riddled': 49704,\n",
       " 'holes': 27975,\n",
       " 'liked': 34555,\n",
       " 'probably': 46131,\n",
       " 'avoid': 4610,\n",
       " 'future': 23662,\n",
       " 'problem': 46140,\n",
       " 'rarely': 47708,\n",
       " 'persuade': 43996,\n",
       " 'cannot': 9259,\n",
       " 'disagree': 16592,\n",
       " 'waste': 64387,\n",
       " 'money': 38825,\n",
       " 'forewarned': 22856,\n",
       " 'crafted': 13612,\n",
       " 'fine': 22035,\n",
       " 'actors': 1433,\n",
       " 'lousy': 35236,\n",
       " 'script': 51966,\n",
       " 'writing': 65810,\n",
       " 'miike': 38025,\n",
       " 'takashi': 58254,\n",
       " 'difficult': 16354,\n",
       " 'put': 46967,\n",
       " 'words': 65599,\n",
       " 'nearly': 40224,\n",
       " 'fifteen': 21880,\n",
       " 'older': 41703,\n",
       " 'target': 58461,\n",
       " 'audience': 4387,\n",
       " 'thrilled': 59445,\n",
       " 'beginning': 5843,\n",
       " 'recalls': 48074,\n",
       " 'similar': 53708,\n",
       " 'children': 10699,\n",
       " '1980s': 352,\n",
       " 'unlike': 62242,\n",
       " 'today': 59866,\n",
       " 'weren': 64718,\n",
       " 'afraid': 1843,\n",
       " 'scare': 51513,\n",
       " 'nasty': 40076,\n",
       " 'detail': 15986,\n",
       " 'initially': 30084,\n",
       " 'jarring': 31314,\n",
       " 'realised': 47940,\n",
       " 'different': 16344,\n",
       " 'grew': 25575,\n",
       " 'up': 62690,\n",
       " 'compilation': 12218,\n",
       " '80s': 776,\n",
       " 'kid': 32598,\n",
       " 'conventions': 13014,\n",
       " 'young': 66239,\n",
       " 'boy': 7691,\n",
       " 'hero': 27447,\n",
       " 'thrust': 59492,\n",
       " 'own': 42632,\n",
       " 'unhappy': 62094,\n",
       " 'dysfunctional': 18443,\n",
       " 'world': 65639,\n",
       " 'inhabited': 30051,\n",
       " 'mythical': 39821,\n",
       " 'mystical': 39811,\n",
       " 'goblins': 24921,\n",
       " 'quest': 47182,\n",
       " 'both': 7582,\n",
       " 'worlds': 65645,\n",
       " 'force': 22782,\n",
       " 'heroine': 27456,\n",
       " 'crush': 14089,\n",
       " 'sadistic': 50875,\n",
       " 'henchwoman': 27345,\n",
       " 'yubari': 66280,\n",
       " 'kill': 32647,\n",
       " 'bill': 6471,\n",
       " 'vol': 63896,\n",
       " 'villain': 63633,\n",
       " 'draws': 17865,\n",
       " 'power': 45561,\n",
       " 'something': 54926,\n",
       " 'everyone': 20342,\n",
       " 'relate': 48686,\n",
       " 'genre': 24284,\n",
       " 'given': 24688,\n",
       " 'fresh': 23301,\n",
       " 'spin': 55461,\n",
       " 'added': 1487,\n",
       " 'depth': 15762,\n",
       " 'reviews': 49509,\n",
       " 'begins': 5845,\n",
       " 'where': 64844,\n",
       " 'sentiment': 52447,\n",
       " 'agree': 1961,\n",
       " 'wholeheartedly': 64983,\n",
       " 'lamented': 33525,\n",
       " 'hadn': 26243,\n",
       " 'grown': 25787,\n",
       " 'wasn': 64377,\n",
       " 'part': 43199,\n",
       " 'childhood': 10691,\n",
       " 'labyrinth': 33368,\n",
       " 'masters': 36800,\n",
       " 'universe': 62204,\n",
       " 'much': 39427,\n",
       " 'extent': 20849,\n",
       " 'neverending': 40477,\n",
       " 'others': 42221,\n",
       " 'goonies': 25131,\n",
       " 'recalled': 48072,\n",
       " 'copied': 13130,\n",
       " 'relentlessly': 48723,\n",
       " 'offering': 41591,\n",
       " 'new': 40485,\n",
       " 'poor': 45267,\n",
       " 'cgi': 10122,\n",
       " 'staple': 56011,\n",
       " 'sometimes': 54929,\n",
       " 'due': 18145,\n",
       " 'budgetary': 8395,\n",
       " 'limitations': 34607,\n",
       " 'frequently': 23296,\n",
       " 'artistic': 3904,\n",
       " 'choice': 10799,\n",
       " 'desire': 15893,\n",
       " 'present': 45881,\n",
       " 'outlandish': 42300,\n",
       " 'mostly': 39209,\n",
       " 'average': 4581,\n",
       " 'solely': 54848,\n",
       " 'nevertheless': 40482,\n",
       " 'job': 31624,\n",
       " 'putting': 46983,\n",
       " 'spectacle': 55333,\n",
       " 'cg': 10121,\n",
       " 'effects': 18763,\n",
       " 'combine': 11965,\n",
       " 'traditional': 60331,\n",
       " 'puppets': 46871,\n",
       " 'animatronics': 3026,\n",
       " 'truly': 60955,\n",
       " 'extraordinary': 20895,\n",
       " 'create': 13735,\n",
       " 'filled': 21935,\n",
       " 'rich': 49670,\n",
       " 'characterisation': 10308,\n",
       " 'borders': 7495,\n",
       " 'visionary': 63776,\n",
       " 'ranks': 47642,\n",
       " 'greatest': 25498,\n",
       " 'ever': 20315,\n",
       " 'younger': 66241,\n",
       " 'sensitive': 52422,\n",
       " 'kids': 32621,\n",
       " 'jaw': 31338,\n",
       " 'droppingly': 18015,\n",
       " 'wonderful': 65501,\n",
       " 'see': 52207,\n",
       " 'yourselves': 66254,\n",
       " 'your': 66250,\n",
       " 'handle': 26500,\n",
       " 'appreciate': 3472,\n",
       " 'then': 59199,\n",
       " 'let': 34293,\n",
       " 'grow': 25778,\n",
       " 'yokai': 66185,\n",
       " 'war': 64268,\n",
       " 'small': 54398,\n",
       " 'compensation': 12198,\n",
       " 'watched': 64407,\n",
       " 'march': 36427,\n",
       " '21': 448,\n",
       " 'year': 66069,\n",
       " 'disappointment': 16612,\n",
       " 'tridev': 60749,\n",
       " 'hackneyed': 26225,\n",
       " 'tells': 58809,\n",
       " 'prabhat': 45594,\n",
       " 'lives': 34832,\n",
       " 'father': 21419,\n",
       " 'brother': 8220,\n",
       " 'opens': 41883,\n",
       " 'saves': 51393,\n",
       " 'bride': 8001,\n",
       " 'anyway': 3286,\n",
       " 'azghar': 4721,\n",
       " 'jhurhad': 31547,\n",
       " 'makes': 36030,\n",
       " 'sending': 52376,\n",
       " 'come': 11981,\n",
       " 'pretended': 45944,\n",
       " 'prabhats': 45595,\n",
       " 'friends': 23352,\n",
       " 'throws': 59488,\n",
       " 'him': 27701,\n",
       " 'house': 28421,\n",
       " 'aakash': 959,\n",
       " 'kenya': 32462,\n",
       " 'sunny': 57387,\n",
       " 'gives': 24691,\n",
       " 'performance': 43840,\n",
       " 'chunky': 10977,\n",
       " 'annoying': 3103,\n",
       " 'naseerdun': 40063,\n",
       " 'wasted': 64389,\n",
       " 'divya': 17206,\n",
       " 'sonam': 54950,\n",
       " 'jyotsna': 32029,\n",
       " 'cute': 14359,\n",
       " 'sunnys': 57391,\n",
       " 'sad': 50854,\n",
       " 'get': 24411,\n",
       " 'killed': 32652,\n",
       " 'alok': 2436,\n",
       " 'kiran': 32762,\n",
       " 'adequate': 1524,\n",
       " 'amrish': 2771,\n",
       " 'gulshan': 25995,\n",
       " 'cinematography': 11082,\n",
       " 'india': 29738,\n",
       " 'weak': 64510,\n",
       " 'dialogs': 16229,\n",
       " 'drags': 17805,\n",
       " 'music': 39674,\n",
       " 'alright': 2472,\n",
       " 'song': 54959,\n",
       " 'saat': 50784,\n",
       " 'samundar': 51089,\n",
       " 'lyrics': 35618,\n",
       " 'songs': 54962,\n",
       " 'forgettable': 22868,\n",
       " 'rating': 47760,\n",
       " 'dark': 14729,\n",
       " 'comedy': 11994,\n",
       " 'gallows': 23846,\n",
       " 'humor': 28651,\n",
       " 'murder': 39605,\n",
       " 'risky': 49898,\n",
       " 'business': 8709,\n",
       " 'viewer': 63583,\n",
       " 'required': 49120,\n",
       " 'moral': 39026,\n",
       " 'values': 63056,\n",
       " 'antics': 3200,\n",
       " 'rock': 50068,\n",
       " 'solid': 54861,\n",
       " 'dash': 14789,\n",
       " 'suspended': 57694,\n",
       " 'reality': 47949,\n",
       " 'work': 65607,\n",
       " 'pierce': 44426,\n",
       " 'brosnan': 8214,\n",
       " 'irishman': 30846,\n",
       " 'answer': 3139,\n",
       " '007': 6,\n",
       " 'cast': 9715,\n",
       " 'chain': 10158,\n",
       " 'smoking': 54486,\n",
       " 'addicted': 1491,\n",
       " 'alcoholic': 2222,\n",
       " 'living': 34838,\n",
       " 'having': 26913,\n",
       " 'life': 34484,\n",
       " 'crisis': 13872,\n",
       " 'meets': 37400,\n",
       " 'struggling': 56814,\n",
       " 'businessman': 8712,\n",
       " 'greg': 25554,\n",
       " 'kinnear': 32742,\n",
       " 'rocky': 50091,\n",
       " 'learns': 33993,\n",
       " 'needs': 40290,\n",
       " 'friend': 23345,\n",
       " 'happily': 26599,\n",
       " 'married': 36621,\n",
       " 'hope': 28217,\n",
       " 'davis': 14845,\n",
       " 'basic': 5433,\n",
       " 'doesn': 17330,\n",
       " 'philip': 44206,\n",
       " 'baker': 4972,\n",
       " 'hall': 26359,\n",
       " 'manager': 36176,\n",
       " 'we': 64509,\n",
       " 'off': 41570,\n",
       " 'races': 47324,\n",
       " 'wonderfully': 65503,\n",
       " 'crass': 13684,\n",
       " 'crude': 14040,\n",
       " 'anti': 3187,\n",
       " 'delightful': 15441,\n",
       " 'counterpart': 13445,\n",
       " 'sparkle': 55235,\n",
       " 'conventional': 13011,\n",
       " 'fascinated': 21368,\n",
       " 'derelict': 15782,\n",
       " 'drifts': 17955,\n",
       " 'surprise': 57628,\n",
       " 'feeling': 21584,\n",
       " 'partly': 43240,\n",
       " 'able': 1053,\n",
       " 'suspend': 57693,\n",
       " 'being': 5889,\n",
       " 'aghast': 1922,\n",
       " 'killing': 32657,\n",
       " 'rented': 48926,\n",
       " 'knowing': 32953,\n",
       " 'expect': 20673,\n",
       " '1st': 390,\n",
       " 'minutes': 38292,\n",
       " 'knew': 32905,\n",
       " 'bomb': 7284,\n",
       " 'acting': 1405,\n",
       " 'bad': 4873,\n",
       " 'monster': 38905,\n",
       " 'soooooo': 54992,\n",
       " 'fake': 21117,\n",
       " 'growls': 25786,\n",
       " 'mouth': 39319,\n",
       " 'doesnt': 17332,\n",
       " 'move': 39330,\n",
       " 'doctor': 17267,\n",
       " 'xylophone': 65945,\n",
       " 'plain': 44717,\n",
       " '2006': 407,\n",
       " 'palm': 42857,\n",
       " 'springs': 55690,\n",
       " 'festival': 21757,\n",
       " 'apparently': 3391,\n",
       " 'shot': 53307,\n",
       " 'hbo': 26980,\n",
       " 'shown': 53366,\n",
       " 'cable': 8888,\n",
       " 'network': 40438,\n",
       " 'sometime': 54928,\n",
       " 'presents': 45891,\n",
       " 'page': 42751,\n",
       " 'bondage': 7322,\n",
       " 'fetish': 21773,\n",
       " 'pinup': 44574,\n",
       " 'stag': 55876,\n",
       " 'actress': 1436,\n",
       " 'enough': 19618,\n",
       " 'talent': 58289,\n",
       " 'real': 47934,\n",
       " 'touches': 60201,\n",
       " 'roles': 50171,\n",
       " 'modeling': 38650,\n",
       " 'balance': 4999,\n",
       " 'career': 9430,\n",
       " '50': 653,\n",
       " 'icon': 28946,\n",
       " 'supposedly': 57548,\n",
       " 'based': 5410,\n",
       " 'book': 7399,\n",
       " 'bettie': 6272,\n",
       " 'black': 6655,\n",
       " 'white': 64934,\n",
       " '1950': 312,\n",
       " 'nostalgia': 41009,\n",
       " 'feel': 21582,\n",
       " 'called': 9044,\n",
       " 'legend': 34090,\n",
       " 'photos': 44302,\n",
       " 'chronicling': 10930,\n",
       " 'reproduces': 49081,\n",
       " 'gretchen': 25571,\n",
       " 'mol': 38734,\n",
       " 'photo': 44281,\n",
       " 'accurately': 1296,\n",
       " 'herself': 27479,\n",
       " 'wig': 65085,\n",
       " 'brown': 8232,\n",
       " 'contact': 12838,\n",
       " 'lenses': 34214,\n",
       " 'smile': 54447,\n",
       " 'characteristics': 10316,\n",
       " 'personality': 43975,\n",
       " 'came': 9102,\n",
       " 'through': 59471,\n",
       " 'camera': 9111,\n",
       " 'down': 17711,\n",
       " 'perfect': 43822,\n",
       " 'close': 11481,\n",
       " 'replica': 49016,\n",
       " 'possible': 45438,\n",
       " 'terrific': 58992,\n",
       " 'casting': 9731,\n",
       " 'thin': 59312,\n",
       " 'tabloidesque': 58153,\n",
       " 'could': 13400,\n",
       " 'pretty': 45966,\n",
       " 'tv': 61228,\n",
       " 'scale': 51461,\n",
       " 'recommend': 48180,\n",
       " 'viewing': 63586,\n",
       " 'quite': 47259,\n",
       " 'apart': 3309,\n",
       " 'raising': 47498,\n",
       " 'hugely': 28558,\n",
       " 'points': 45056,\n",
       " 'south': 55129,\n",
       " 'africa': 1845,\n",
       " 'road': 49975,\n",
       " 'recovery': 48234,\n",
       " 'countries': 13458,\n",
       " 'situations': 53907,\n",
       " 'superbly': 57417,\n",
       " 'directed': 16540,\n",
       " 'opinion': 41912,\n",
       " 'far': 21281,\n",
       " ...}"
      ]
     },
     "execution_count": 13,
     "metadata": {
      "tags": []
     },
     "output_type": "execute_result"
    }
   ],
   "source": [
    "#What is there in the vocabulary\n",
    "cvect.vocabulary_"
   ]
  },
  {
   "cell_type": "markdown",
   "metadata": {
    "id": "UK1zjGfHuP4U"
   },
   "source": [
    "Build Document-term Matrix (DTM)"
   ]
  },
  {
   "cell_type": "code",
   "execution_count": 14,
   "metadata": {
    "executionInfo": {
     "elapsed": 6615,
     "status": "ok",
     "timestamp": 1615691168281,
     "user": {
      "displayName": "Sayan Dey",
      "photoUrl": "https://lh3.googleusercontent.com/a-/AOh14GgqVHJ9o6-7idGiRbNNd4iVc1VjzvuPnwmAnvEtD6U=s64",
      "userId": "03603580465490055794"
     },
     "user_tz": -330
    },
    "id": "DrsvbF1XdefF"
   },
   "outputs": [],
   "source": [
    "#Convert Training SMS messages into Count Vectors\n",
    "X_train_ct = cvect.transform(sms_train)"
   ]
  },
  {
   "cell_type": "code",
   "execution_count": 15,
   "metadata": {
    "colab": {
     "base_uri": "https://localhost:8080/"
    },
    "executionInfo": {
     "elapsed": 6036,
     "status": "ok",
     "timestamp": 1615691168283,
     "user": {
      "displayName": "Sayan Dey",
      "photoUrl": "https://lh3.googleusercontent.com/a-/AOh14GgqVHJ9o6-7idGiRbNNd4iVc1VjzvuPnwmAnvEtD6U=s64",
      "userId": "03603580465490055794"
     },
     "user_tz": -330
    },
    "id": "7qDPMLuFduAx",
    "outputId": "033ab349-031e-45ad-b096-6eddc3cc6097"
   },
   "outputs": [
    {
     "data": {
      "text/plain": [
       "(18750, 66672)"
      ]
     },
     "execution_count": 15,
     "metadata": {
      "tags": []
     },
     "output_type": "execute_result"
    }
   ],
   "source": [
    "#Size of Document Term Matrix\n",
    "X_train_ct.shape"
   ]
  },
  {
   "cell_type": "code",
   "execution_count": 16,
   "metadata": {
    "colab": {
     "base_uri": "https://localhost:8080/"
    },
    "executionInfo": {
     "elapsed": 5368,
     "status": "ok",
     "timestamp": 1615691168284,
     "user": {
      "displayName": "Sayan Dey",
      "photoUrl": "https://lh3.googleusercontent.com/a-/AOh14GgqVHJ9o6-7idGiRbNNd4iVc1VjzvuPnwmAnvEtD6U=s64",
      "userId": "03603580465490055794"
     },
     "user_tz": -330
    },
    "id": "FR2qtdrMeXkL",
    "outputId": "1ee1a3eb-b915-4d8d-b9eb-f1d1bf2a2d36"
   },
   "outputs": [
    {
     "data": {
      "text/plain": [
       "<1x66672 sparse matrix of type '<class 'numpy.int64'>'\n",
       "\twith 280 stored elements in Compressed Sparse Row format>"
      ]
     },
     "execution_count": 16,
     "metadata": {
      "tags": []
     },
     "output_type": "execute_result"
    }
   ],
   "source": [
    "#Let's check the first record\n",
    "X_train_ct[0]"
   ]
  },
  {
   "cell_type": "code",
   "execution_count": 17,
   "metadata": {
    "colab": {
     "base_uri": "https://localhost:8080/"
    },
    "executionInfo": {
     "elapsed": 4770,
     "status": "ok",
     "timestamp": 1615691168284,
     "user": {
      "displayName": "Sayan Dey",
      "photoUrl": "https://lh3.googleusercontent.com/a-/AOh14GgqVHJ9o6-7idGiRbNNd4iVc1VjzvuPnwmAnvEtD6U=s64",
      "userId": "03603580465490055794"
     },
     "user_tz": -330
    },
    "id": "YaTnzUIMeoMt",
    "outputId": "5c989c7f-1ac5-458d-df4d-54eed883c4ce"
   },
   "outputs": [
    {
     "name": "stdout",
     "output_type": "stream",
     "text": [
      "  (0, 33)\t1\n",
      "  (0, 368)\t1\n",
      "  (0, 1094)\t4\n",
      "  (0, 1165)\t1\n",
      "  (0, 1267)\t1\n",
      "  (0, 1431)\t1\n",
      "  (0, 1510)\t1\n",
      "  (0, 1856)\t1\n",
      "  (0, 2052)\t1\n",
      "  (0, 2138)\t1\n",
      "  (0, 2342)\t3\n",
      "  (0, 2392)\t2\n",
      "  (0, 2394)\t1\n",
      "  (0, 2477)\t6\n",
      "  (0, 2541)\t1\n",
      "  (0, 2727)\t1\n",
      "  (0, 2876)\t19\n",
      "  (0, 3270)\t1\n",
      "  (0, 3638)\t12\n",
      "  (0, 3937)\t6\n",
      "  (0, 4200)\t3\n",
      "  (0, 4301)\t1\n",
      "  (0, 4336)\t1\n",
      "  (0, 4829)\t1\n",
      "  (0, 5272)\t1\n",
      "  :\t:\n",
      "  (0, 60543)\t5\n",
      "  (0, 62227)\t1\n",
      "  (0, 62869)\t1\n",
      "  (0, 62968)\t3\n",
      "  (0, 63208)\t2\n",
      "  (0, 63422)\t2\n",
      "  (0, 63515)\t1\n",
      "  (0, 63580)\t1\n",
      "  (0, 64357)\t1\n",
      "  (0, 64404)\t1\n",
      "  (0, 64539)\t2\n",
      "  (0, 64678)\t1\n",
      "  (0, 64800)\t2\n",
      "  (0, 64805)\t1\n",
      "  (0, 64860)\t5\n",
      "  (0, 64870)\t1\n",
      "  (0, 64974)\t4\n",
      "  (0, 65031)\t1\n",
      "  (0, 65137)\t1\n",
      "  (0, 65361)\t4\n",
      "  (0, 65408)\t1\n",
      "  (0, 65697)\t3\n",
      "  (0, 65700)\t1\n",
      "  (0, 66124)\t3\n",
      "  (0, 66231)\t4\n"
     ]
    }
   ],
   "source": [
    "#What's there in sparse matrix\n",
    "print(X_train_ct[0])"
   ]
  },
  {
   "cell_type": "markdown",
   "metadata": {
    "id": "twoJfGyXwj80"
   },
   "source": [
    "From the [scikit-learn documentation](http://scikit-learn.org/stable/modules/feature_extraction.html#text-feature-extraction):\n",
    "\n",
    "> As most documents will typically use a very small subset of the words used in the corpus, the resulting matrix will have **many feature values that are zeros** (typically more than 99% of them).\n",
    "\n",
    "> For instance, a collection of 10,000 short text documents (such as emails) will use a vocabulary with a size in the order of 100,000 unique words in total while each document will use 100 to 1000 unique words individually.\n",
    "\n",
    "> In order to be able to **store such a matrix in memory** but also to **speed up operations**, implementations will typically use a **sparse representation** such as the implementations available in the `scipy.sparse` package."
   ]
  },
  {
   "cell_type": "markdown",
   "metadata": {
    "id": "9zo2EwHYzAUr"
   },
   "source": [
    "Convert Test SMS also in numerical features"
   ]
  },
  {
   "cell_type": "code",
   "execution_count": 18,
   "metadata": {
    "executionInfo": {
     "elapsed": 2054,
     "status": "ok",
     "timestamp": 1615691169631,
     "user": {
      "displayName": "Sayan Dey",
      "photoUrl": "https://lh3.googleusercontent.com/a-/AOh14GgqVHJ9o6-7idGiRbNNd4iVc1VjzvuPnwmAnvEtD6U=s64",
      "userId": "03603580465490055794"
     },
     "user_tz": -330
    },
    "id": "HX8ht6-tzDuu"
   },
   "outputs": [],
   "source": [
    "X_test_ct = cvect.transform(sms_test)"
   ]
  },
  {
   "cell_type": "code",
   "execution_count": 19,
   "metadata": {
    "colab": {
     "base_uri": "https://localhost:8080/"
    },
    "executionInfo": {
     "elapsed": 1954,
     "status": "ok",
     "timestamp": 1615691169633,
     "user": {
      "displayName": "Sayan Dey",
      "photoUrl": "https://lh3.googleusercontent.com/a-/AOh14GgqVHJ9o6-7idGiRbNNd4iVc1VjzvuPnwmAnvEtD6U=s64",
      "userId": "03603580465490055794"
     },
     "user_tz": -330
    },
    "id": "zWjwfp9AzKL_",
    "outputId": "f9a256ca-79ba-447e-b81e-bc0aa75dd220"
   },
   "outputs": [
    {
     "data": {
      "text/plain": [
       "(6250, 66672)"
      ]
     },
     "execution_count": 19,
     "metadata": {
      "tags": []
     },
     "output_type": "execute_result"
    }
   ],
   "source": [
    "X_test_ct.shape"
   ]
  },
  {
   "cell_type": "markdown",
   "metadata": {
    "id": "8_WO6pSdvE3o"
   },
   "source": [
    "### 4. Building an SMS Classifier"
   ]
  },
  {
   "cell_type": "markdown",
   "metadata": {
    "id": "HEYiNTZPx_UJ"
   },
   "source": [
    "Let's first try K-Nearest Neigbour algorithm"
   ]
  },
  {
   "cell_type": "code",
   "execution_count": 20,
   "metadata": {
    "executionInfo": {
     "elapsed": 1414,
     "status": "ok",
     "timestamp": 1615691169633,
     "user": {
      "displayName": "Sayan Dey",
      "photoUrl": "https://lh3.googleusercontent.com/a-/AOh14GgqVHJ9o6-7idGiRbNNd4iVc1VjzvuPnwmAnvEtD6U=s64",
      "userId": "03603580465490055794"
     },
     "user_tz": -330
    },
    "id": "f4ysA2I8wj7l"
   },
   "outputs": [],
   "source": [
    "from sklearn.neighbors import KNeighborsClassifier\n",
    "from sklearn.svm import SVC"
   ]
  },
  {
   "cell_type": "code",
   "execution_count": 20,
   "metadata": {
    "colab": {
     "base_uri": "https://localhost:8080/"
    },
    "executionInfo": {
     "elapsed": 353259,
     "status": "ok",
     "timestamp": 1615690628905,
     "user": {
      "displayName": "Sayan Dey",
      "photoUrl": "https://lh3.googleusercontent.com/a-/AOh14GgqVHJ9o6-7idGiRbNNd4iVc1VjzvuPnwmAnvEtD6U=s64",
      "userId": "03603580465490055794"
     },
     "user_tz": -330
    },
    "id": "41v1PorCyHHj",
    "outputId": "aaa365d5-6890-414a-e320-e8c04b966b06"
   },
   "outputs": [
    {
     "data": {
      "text/plain": [
       "SVC(C=1.0, break_ties=False, cache_size=200, class_weight=None, coef0=0.0,\n",
       "    decision_function_shape='ovr', degree=3, gamma='scale', kernel='rbf',\n",
       "    max_iter=-1, probability=False, random_state=None, shrinking=True,\n",
       "    tol=0.001, verbose=False)"
      ]
     },
     "execution_count": 20,
     "metadata": {
      "tags": []
     },
     "output_type": "execute_result"
    }
   ],
   "source": [
    "# instantiate the model (with the default parameters)\n",
    "model = SVC()\n",
    "# fit the model with data (occurs in-place)\n",
    "model.fit(X_train_ct, y_train)"
   ]
  },
  {
   "cell_type": "markdown",
   "metadata": {
    "id": "lzexfE7Wwj7p"
   },
   "source": [
    "Evaluation on Test Dataset"
   ]
  },
  {
   "cell_type": "code",
   "execution_count": 21,
   "metadata": {
    "executionInfo": {
     "elapsed": 351102,
     "status": "ok",
     "timestamp": 1615690628907,
     "user": {
      "displayName": "Sayan Dey",
      "photoUrl": "https://lh3.googleusercontent.com/a-/AOh14GgqVHJ9o6-7idGiRbNNd4iVc1VjzvuPnwmAnvEtD6U=s64",
      "userId": "03603580465490055794"
     },
     "user_tz": -330
    },
    "id": "uQOrAY7gy2Gp"
   },
   "outputs": [],
   "source": [
    "from sklearn import metrics"
   ]
  },
  {
   "cell_type": "code",
   "execution_count": 22,
   "metadata": {
    "colab": {
     "base_uri": "https://localhost:8080/"
    },
    "executionInfo": {
     "elapsed": 455519,
     "status": "ok",
     "timestamp": 1615690735434,
     "user": {
      "displayName": "Sayan Dey",
      "photoUrl": "https://lh3.googleusercontent.com/a-/AOh14GgqVHJ9o6-7idGiRbNNd4iVc1VjzvuPnwmAnvEtD6U=s64",
      "userId": "03603580465490055794"
     },
     "user_tz": -330
    },
    "id": "6jJ1fLXAwj7q",
    "outputId": "9a26a7ed-ca40-4847-a438-5644fb656daf"
   },
   "outputs": [
    {
     "data": {
      "text/plain": [
       "0.8552"
      ]
     },
     "execution_count": 22,
     "metadata": {
      "tags": []
     },
     "output_type": "execute_result"
    }
   ],
   "source": [
    "#Calculate accuracy on Test Dataset\n",
    "metrics.accuracy_score(y_test, model.predict(X_test_ct))"
   ]
  },
  {
   "cell_type": "code",
   "execution_count": 23,
   "metadata": {
    "colab": {
     "base_uri": "https://localhost:8080/"
    },
    "executionInfo": {
     "elapsed": 560145,
     "status": "ok",
     "timestamp": 1615690840820,
     "user": {
      "displayName": "Sayan Dey",
      "photoUrl": "https://lh3.googleusercontent.com/a-/AOh14GgqVHJ9o6-7idGiRbNNd4iVc1VjzvuPnwmAnvEtD6U=s64",
      "userId": "03603580465490055794"
     },
     "user_tz": -330
    },
    "id": "baOtL9V_ZAGK",
    "outputId": "064376c5-44da-4796-8367-99c5fb35ee41"
   },
   "outputs": [
    {
     "data": {
      "text/plain": [
       "0.8552"
      ]
     },
     "execution_count": 23,
     "metadata": {
      "tags": []
     },
     "output_type": "execute_result"
    }
   ],
   "source": [
    "model.score(X_test_ct,y_test)"
   ]
  },
  {
   "cell_type": "code",
   "execution_count": 24,
   "metadata": {
    "executionInfo": {
     "elapsed": 559371,
     "status": "ok",
     "timestamp": 1615690840822,
     "user": {
      "displayName": "Sayan Dey",
      "photoUrl": "https://lh3.googleusercontent.com/a-/AOh14GgqVHJ9o6-7idGiRbNNd4iVc1VjzvuPnwmAnvEtD6U=s64",
      "userId": "03603580465490055794"
     },
     "user_tz": -330
    },
    "id": "7qfWQ9DmZ5dg"
   },
   "outputs": [],
   "source": [
    "from sklearn.naive_bayes import MultinomialNB"
   ]
  },
  {
   "cell_type": "code",
   "execution_count": 25,
   "metadata": {
    "colab": {
     "base_uri": "https://localhost:8080/"
    },
    "executionInfo": {
     "elapsed": 579824,
     "status": "ok",
     "timestamp": 1615690861814,
     "user": {
      "displayName": "Sayan Dey",
      "photoUrl": "https://lh3.googleusercontent.com/a-/AOh14GgqVHJ9o6-7idGiRbNNd4iVc1VjzvuPnwmAnvEtD6U=s64",
      "userId": "03603580465490055794"
     },
     "user_tz": -330
    },
    "id": "L7ggsXI0ZHnL",
    "outputId": "126d45e2-0f6e-45f3-b4fd-a2401f41227c"
   },
   "outputs": [
    {
     "name": "stdout",
     "output_type": "stream",
     "text": [
      "Training Accuracy\n",
      "0.8554133333333334\n",
      "Testing Accuracy\n",
      "0.84368\n",
      "[[2679  508]\n",
      " [ 469 2594]]\n",
      "              precision    recall  f1-score   support\n",
      "\n",
      "           0       0.85      0.84      0.85      3187\n",
      "           1       0.84      0.85      0.84      3063\n",
      "\n",
      "    accuracy                           0.84      6250\n",
      "   macro avg       0.84      0.84      0.84      6250\n",
      "weighted avg       0.84      0.84      0.84      6250\n",
      "\n"
     ]
    }
   ],
   "source": [
    "#Use a Sklearn Pipeline and perform CountVectoriser and SVC together\n",
    "from sklearn.pipeline import Pipeline\n",
    "from sklearn.metrics import confusion_matrix,classification_report\n",
    "from sklearn.model_selection import cross_val_score\n",
    "pipe = Pipeline((\n",
    "(\"cv\",CountVectorizer(stop_words='english',ngram_range=(1, 2),max_df=0.5,min_df=100)),\n",
    "(\"nb\",MultinomialNB())\n",
    "))\n",
    "pipe.fit(sms_train,y_train)\n",
    "print(\"Training Accuracy\")\n",
    "print(pipe.score(sms_train,y_train))\n",
    "print(\"Testing Accuracy\")\n",
    "print(pipe.score(sms_test,y_test))\n",
    "predicted = pipe.predict(sms_test)\n",
    "print(confusion_matrix(y_test,predicted))\n",
    "print(classification_report(y_test,predicted))\n",
    "#scoresdt = cross_val_score(pipe,sms_train,y_train,cv=10)\n",
    "#print(scoresdt)\n",
    "#print(\"Average Cross Validation Accuracy\")\n",
    "#print(np.mean(scoresdt))"
   ]
  },
  {
   "cell_type": "markdown",
   "metadata": {
    "id": "rE6sCTxjhPxR"
   },
   "source": [
    "### 7. Building a Deep Learning Model"
   ]
  },
  {
   "cell_type": "code",
   "execution_count": 21,
   "metadata": {
    "executionInfo": {
     "elapsed": 5329,
     "status": "ok",
     "timestamp": 1615691181679,
     "user": {
      "displayName": "Sayan Dey",
      "photoUrl": "https://lh3.googleusercontent.com/a-/AOh14GgqVHJ9o6-7idGiRbNNd4iVc1VjzvuPnwmAnvEtD6U=s64",
      "userId": "03603580465490055794"
     },
     "user_tz": -330
    },
    "id": "pXcQt_TchaNW"
   },
   "outputs": [],
   "source": [
    "import tensorflow as tf"
   ]
  },
  {
   "cell_type": "markdown",
   "metadata": {
    "id": "MofkwztZheaj"
   },
   "source": [
    "We will use CountVectorizer features in this case. This can be replaced by TF-IDF features"
   ]
  },
  {
   "cell_type": "code",
   "execution_count": 22,
   "metadata": {
    "executionInfo": {
     "elapsed": 4066,
     "status": "ok",
     "timestamp": 1615691181680,
     "user": {
      "displayName": "Sayan Dey",
      "photoUrl": "https://lh3.googleusercontent.com/a-/AOh14GgqVHJ9o6-7idGiRbNNd4iVc1VjzvuPnwmAnvEtD6U=s64",
      "userId": "03603580465490055794"
     },
     "user_tz": -330
    },
    "id": "Qwt45bfbhcur"
   },
   "outputs": [],
   "source": [
    "#Start building a Keras Sequential Model\n",
    "tf.keras.backend.clear_session()\n",
    "model = tf.keras.Sequential()"
   ]
  },
  {
   "cell_type": "code",
   "execution_count": 24,
   "metadata": {
    "executionInfo": {
     "elapsed": 840,
     "status": "ok",
     "timestamp": 1615691224644,
     "user": {
      "displayName": "Sayan Dey",
      "photoUrl": "https://lh3.googleusercontent.com/a-/AOh14GgqVHJ9o6-7idGiRbNNd4iVc1VjzvuPnwmAnvEtD6U=s64",
      "userId": "03603580465490055794"
     },
     "user_tz": -330
    },
    "id": "jmYjSF9Mh11J"
   },
   "outputs": [],
   "source": [
    "#Add hidden layers\n",
    "model.add(tf.keras.layers.Dense(100, activation='relu', input_shape=(len(cvect.vocabulary_),)))\n",
    "model.add(tf.keras.layers.Dropout(0.4))\n",
    "model.add(tf.keras.layers.Dense(50, activation='relu'))\n",
    "model.add(tf.keras.layers.Dropout(0.4))\n",
    "\n",
    "#Add Output layer\n",
    "model.add(tf.keras.layers.Dense(1, activation='sigmoid'))"
   ]
  },
  {
   "cell_type": "code",
   "execution_count": 29,
   "metadata": {
    "executionInfo": {
     "elapsed": 3489,
     "status": "ok",
     "timestamp": 1615690865324,
     "user": {
      "displayName": "Sayan Dey",
      "photoUrl": "https://lh3.googleusercontent.com/a-/AOh14GgqVHJ9o6-7idGiRbNNd4iVc1VjzvuPnwmAnvEtD6U=s64",
      "userId": "03603580465490055794"
     },
     "user_tz": -330
    },
    "id": "MUPy_5VIiUG9"
   },
   "outputs": [],
   "source": [
    "#Compile the model\n",
    "model.compile(optimizer='adam', loss='binary_crossentropy', metrics=['acc'])"
   ]
  },
  {
   "cell_type": "code",
   "execution_count": 30,
   "metadata": {
    "executionInfo": {
     "elapsed": 843,
     "status": "ok",
     "timestamp": 1615690867482,
     "user": {
      "displayName": "Sayan Dey",
      "photoUrl": "https://lh3.googleusercontent.com/a-/AOh14GgqVHJ9o6-7idGiRbNNd4iVc1VjzvuPnwmAnvEtD6U=s64",
      "userId": "03603580465490055794"
     },
     "user_tz": -330
    },
    "id": "7HTSt1LIkbQh"
   },
   "outputs": [],
   "source": [
    "#X_train_ct_array = X_train_ct.toarray()\n",
    "#X_test_ct_array = X_test_ct.toarray()"
   ]
  },
  {
   "cell_type": "code",
   "execution_count": 26,
   "metadata": {
    "executionInfo": {
     "elapsed": 867,
     "status": "ok",
     "timestamp": 1615691478162,
     "user": {
      "displayName": "Sayan Dey",
      "photoUrl": "https://lh3.googleusercontent.com/a-/AOh14GgqVHJ9o6-7idGiRbNNd4iVc1VjzvuPnwmAnvEtD6U=s64",
      "userId": "03603580465490055794"
     },
     "user_tz": -330
    },
    "id": "zH-LnFyXiXqc"
   },
   "outputs": [],
   "source": [
    "#model.fit(X_train_ct.toarray(), y_train,\n",
    "#           validation_data=(X_test_ct.toarray(), y_test), \n",
    "#           epochs=10, batch_size=12)"
   ]
  }
 ],
 "metadata": {
  "colab": {
   "collapsed_sections": [],
   "name": "1b. Text Classification Solutions - Movie Reviews.ipynb",
   "provenance": []
  },
  "kernelspec": {
   "display_name": "Python 3",
   "language": "python",
   "name": "python3"
  },
  "language_info": {
   "codemirror_mode": {
    "name": "ipython",
    "version": 3
   },
   "file_extension": ".py",
   "mimetype": "text/x-python",
   "name": "python",
   "nbconvert_exporter": "python",
   "pygments_lexer": "ipython3",
   "version": "3.7.4"
  }
 },
 "nbformat": 4,
 "nbformat_minor": 1
}
