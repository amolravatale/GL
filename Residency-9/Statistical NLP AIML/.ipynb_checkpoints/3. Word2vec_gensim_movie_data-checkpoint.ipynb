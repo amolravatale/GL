{
 "cells": [
  {
   "cell_type": "markdown",
   "metadata": {
    "id": "C2WAFZueaivk"
   },
   "source": [
    "### Load Gensim Library"
   ]
  },
  {
   "cell_type": "code",
   "execution_count": null,
   "metadata": {
    "colab": {
     "base_uri": "https://localhost:8080/",
     "height": 322
    },
    "executionInfo": {
     "elapsed": 5463,
     "status": "ok",
     "timestamp": 1572607808507,
     "user": {
      "displayName": "Rajeev Kumar",
      "photoUrl": "https://lh3.googleusercontent.com/a-/AAuE7mBC_Jt2baS4Hv7JJvLmgAJFGZpvIs0sh5ggT7ZM9hw=s64",
      "userId": "10567937244174773728"
     },
     "user_tz": -330
    },
    "id": "WWg3i_ryddsA",
    "outputId": "91aa0941-13ba-457e-8a73-c92705b8ba1b"
   },
   "outputs": [
    {
     "name": "stdout",
     "output_type": "stream",
     "text": [
      "Requirement already satisfied: gensim in /usr/local/lib/python3.6/dist-packages (3.6.0)\n",
      "Requirement already satisfied: numpy>=1.11.3 in /usr/local/lib/python3.6/dist-packages (from gensim) (1.17.3)\n",
      "Requirement already satisfied: scipy>=0.18.1 in /usr/local/lib/python3.6/dist-packages (from gensim) (1.3.1)\n",
      "Requirement already satisfied: six>=1.5.0 in /usr/local/lib/python3.6/dist-packages (from gensim) (1.12.0)\n",
      "Requirement already satisfied: smart-open>=1.2.1 in /usr/local/lib/python3.6/dist-packages (from gensim) (1.8.4)\n",
      "Requirement already satisfied: boto>=2.32 in /usr/local/lib/python3.6/dist-packages (from smart-open>=1.2.1->gensim) (2.49.0)\n",
      "Requirement already satisfied: requests in /usr/local/lib/python3.6/dist-packages (from smart-open>=1.2.1->gensim) (2.21.0)\n",
      "Requirement already satisfied: boto3 in /usr/local/lib/python3.6/dist-packages (from smart-open>=1.2.1->gensim) (1.10.4)\n",
      "Requirement already satisfied: urllib3<1.25,>=1.21.1 in /usr/local/lib/python3.6/dist-packages (from requests->smart-open>=1.2.1->gensim) (1.24.3)\n",
      "Requirement already satisfied: certifi>=2017.4.17 in /usr/local/lib/python3.6/dist-packages (from requests->smart-open>=1.2.1->gensim) (2019.9.11)\n",
      "Requirement already satisfied: chardet<3.1.0,>=3.0.2 in /usr/local/lib/python3.6/dist-packages (from requests->smart-open>=1.2.1->gensim) (3.0.4)\n",
      "Requirement already satisfied: idna<2.9,>=2.5 in /usr/local/lib/python3.6/dist-packages (from requests->smart-open>=1.2.1->gensim) (2.8)\n",
      "Requirement already satisfied: jmespath<1.0.0,>=0.7.1 in /usr/local/lib/python3.6/dist-packages (from boto3->smart-open>=1.2.1->gensim) (0.9.4)\n",
      "Requirement already satisfied: botocore<1.14.0,>=1.13.4 in /usr/local/lib/python3.6/dist-packages (from boto3->smart-open>=1.2.1->gensim) (1.13.4)\n",
      "Requirement already satisfied: s3transfer<0.3.0,>=0.2.0 in /usr/local/lib/python3.6/dist-packages (from boto3->smart-open>=1.2.1->gensim) (0.2.1)\n",
      "Requirement already satisfied: docutils<0.16,>=0.10 in /usr/local/lib/python3.6/dist-packages (from botocore<1.14.0,>=1.13.4->boto3->smart-open>=1.2.1->gensim) (0.15.2)\n",
      "Requirement already satisfied: python-dateutil<3.0.0,>=2.1; python_version >= \"2.7\" in /usr/local/lib/python3.6/dist-packages (from botocore<1.14.0,>=1.13.4->boto3->smart-open>=1.2.1->gensim) (2.6.1)\n"
     ]
    }
   ],
   "source": [
    "!pip install gensim"
   ]
  },
  {
   "cell_type": "code",
   "execution_count": null,
   "metadata": {
    "id": "iSrla7q8aivn"
   },
   "outputs": [],
   "source": [
    "import gensim"
   ]
  },
  {
   "cell_type": "code",
   "execution_count": null,
   "metadata": {
    "id": "D6HqQQL4aivq"
   },
   "outputs": [],
   "source": [
    "import logging\n",
    "logging.basicConfig(format='%(asctime)s : %(levelname)s : %(message)s', \n",
    "                    level=logging.INFO)"
   ]
  },
  {
   "cell_type": "code",
   "execution_count": null,
   "metadata": {
    "colab": {
     "base_uri": "https://localhost:8080/",
     "height": 34
    },
    "executionInfo": {
     "elapsed": 2932,
     "status": "ok",
     "timestamp": 1572607826666,
     "user": {
      "displayName": "Rajeev Kumar",
      "photoUrl": "https://lh3.googleusercontent.com/a-/AAuE7mBC_Jt2baS4Hv7JJvLmgAJFGZpvIs0sh5ggT7ZM9hw=s64",
      "userId": "10567937244174773728"
     },
     "user_tz": -330
    },
    "id": "T0LeRKkvePqI",
    "outputId": "4587d688-e240-44d4-9dd2-532883b11d9f"
   },
   "outputs": [
    {
     "name": "stdout",
     "output_type": "stream",
     "text": [
      "sample_data\n"
     ]
    }
   ],
   "source": [
    "!ls"
   ]
  },
  {
   "cell_type": "markdown",
   "metadata": {
    "id": "rOTbE9ZPaivu"
   },
   "source": [
    "### Load Text Data\n",
    "\n",
    "Data can be downloaded from https://www.kaggle.com/c/word2vec-nlp-tutorial/data"
   ]
  },
  {
   "cell_type": "code",
   "execution_count": null,
   "metadata": {
    "colab": {
     "base_uri": "https://localhost:8080/",
     "height": 121
    },
    "executionInfo": {
     "elapsed": 45590,
     "status": "ok",
     "timestamp": 1572607877319,
     "user": {
      "displayName": "Rajeev Kumar",
      "photoUrl": "https://lh3.googleusercontent.com/a-/AAuE7mBC_Jt2baS4Hv7JJvLmgAJFGZpvIs0sh5ggT7ZM9hw=s64",
      "userId": "10567937244174773728"
     },
     "user_tz": -330
    },
    "id": "oHi3q9cPKijF",
    "outputId": "ee9e80c6-9728-4a9e-9c2d-d1ec2553bec3"
   },
   "outputs": [
    {
     "name": "stdout",
     "output_type": "stream",
     "text": [
      "Go to this URL in a browser: https://accounts.google.com/o/oauth2/auth?client_id=947318989803-6bn6qk8qdgf4n4g3pfee6491hc0brc4i.apps.googleusercontent.com&redirect_uri=urn%3Aietf%3Awg%3Aoauth%3A2.0%3Aoob&scope=email%20https%3A%2F%2Fwww.googleapis.com%2Fauth%2Fdocs.test%20https%3A%2F%2Fwww.googleapis.com%2Fauth%2Fdrive%20https%3A%2F%2Fwww.googleapis.com%2Fauth%2Fdrive.photos.readonly%20https%3A%2F%2Fwww.googleapis.com%2Fauth%2Fpeopleapi.readonly&response_type=code\n",
      "\n",
      "Enter your authorization code:\n",
      "··········\n",
      "Mounted at /gdrive\n"
     ]
    }
   ],
   "source": [
    "#This is needed only if you have uploaded data to Google drive\n",
    "from google.colab import drive\n",
    "drive.mount('/gdrive')"
   ]
  },
  {
   "cell_type": "code",
   "execution_count": null,
   "metadata": {
    "colab": {
     "base_uri": "https://localhost:8080/",
     "height": 212
    },
    "executionInfo": {
     "elapsed": 5963,
     "status": "ok",
     "timestamp": 1572607879740,
     "user": {
      "displayName": "Rajeev Kumar",
      "photoUrl": "https://lh3.googleusercontent.com/a-/AAuE7mBC_Jt2baS4Hv7JJvLmgAJFGZpvIs0sh5ggT7ZM9hw=s64",
      "userId": "10567937244174773728"
     },
     "user_tz": -330
    },
    "id": "sxDRNQv9aivw",
    "outputId": "25c82a6a-1e3d-4f46-8fd7-9d3d18b9109f"
   },
   "outputs": [
    {
     "name": "stdout",
     "output_type": "stream",
     "text": [
      "Number of examples in Dataset:  (50000, 2)\n"
     ]
    },
    {
     "data": {
      "text/html": [
       "<div>\n",
       "<style scoped>\n",
       "    .dataframe tbody tr th:only-of-type {\n",
       "        vertical-align: middle;\n",
       "    }\n",
       "\n",
       "    .dataframe tbody tr th {\n",
       "        vertical-align: top;\n",
       "    }\n",
       "\n",
       "    .dataframe thead th {\n",
       "        text-align: right;\n",
       "    }\n",
       "</style>\n",
       "<table border=\"1\" class=\"dataframe\">\n",
       "  <thead>\n",
       "    <tr style=\"text-align: right;\">\n",
       "      <th></th>\n",
       "      <th>id</th>\n",
       "      <th>review</th>\n",
       "    </tr>\n",
       "  </thead>\n",
       "  <tbody>\n",
       "    <tr>\n",
       "      <th>0</th>\n",
       "      <td>\"9999_0\"</td>\n",
       "      <td>\"Watching Time Chasers, it obvious that it was...</td>\n",
       "    </tr>\n",
       "    <tr>\n",
       "      <th>1</th>\n",
       "      <td>\"45057_0\"</td>\n",
       "      <td>\"I saw this film about 20 years ago and rememb...</td>\n",
       "    </tr>\n",
       "    <tr>\n",
       "      <th>2</th>\n",
       "      <td>\"15561_0\"</td>\n",
       "      <td>\"Minor Spoilers&lt;br /&gt;&lt;br /&gt;In New York, Joan B...</td>\n",
       "    </tr>\n",
       "    <tr>\n",
       "      <th>3</th>\n",
       "      <td>\"7161_0\"</td>\n",
       "      <td>\"I went to see this film with a great deal of ...</td>\n",
       "    </tr>\n",
       "    <tr>\n",
       "      <th>4</th>\n",
       "      <td>\"43971_0\"</td>\n",
       "      <td>\"Yes, I agree with everyone on this site this ...</td>\n",
       "    </tr>\n",
       "  </tbody>\n",
       "</table>\n",
       "</div>"
      ],
      "text/plain": [
       "          id                                             review\n",
       "0   \"9999_0\"  \"Watching Time Chasers, it obvious that it was...\n",
       "1  \"45057_0\"  \"I saw this film about 20 years ago and rememb...\n",
       "2  \"15561_0\"  \"Minor Spoilers<br /><br />In New York, Joan B...\n",
       "3   \"7161_0\"  \"I went to see this film with a great deal of ...\n",
       "4  \"43971_0\"  \"Yes, I agree with everyone on this site this ..."
      ]
     },
     "execution_count": 6,
     "metadata": {
      "tags": []
     },
     "output_type": "execute_result"
    }
   ],
   "source": [
    "import pandas as pd\n",
    "\n",
    "#change file path to point to where you have stored the zip file.\n",
    "df = pd.read_csv('/gdrive/My Drive/AI-ML/unlabeledTrainData.tsv.zip', header=0, delimiter=\"\\t\", quoting=3)\n",
    "\n",
    "print('Number of examples in Dataset: ', df.shape)\n",
    "df.head()"
   ]
  },
  {
   "cell_type": "markdown",
   "metadata": {
    "id": "j1DHNFNsaivy"
   },
   "source": [
    "### Function to Clean up data"
   ]
  },
  {
   "cell_type": "code",
   "execution_count": null,
   "metadata": {
    "id": "PJf9rUeLaiv0"
   },
   "outputs": [],
   "source": [
    "import re, string\n",
    "\n",
    "def clean_str(string):\n",
    "  \"\"\"\n",
    "  String cleaning before vectorization\n",
    "  \"\"\"\n",
    "  try:    \n",
    "    string = re.sub(r'^https?:\\/\\/<>.*[\\r\\n]*', '', string, flags=re.MULTILINE)\n",
    "    string = re.sub(r\"[^A-Za-z]\", \" \", string)         \n",
    "    words = string.strip().lower().split()    \n",
    "    words = [w for w in words if len(w)>=1]\n",
    "    return \" \".join(words)\t\n",
    "  except:\n",
    "    return \"\""
   ]
  },
  {
   "cell_type": "markdown",
   "metadata": {
    "id": "ON-JT9fPaiv2"
   },
   "source": [
    "### Clean the Data using routine above"
   ]
  },
  {
   "cell_type": "code",
   "execution_count": null,
   "metadata": {
    "colab": {
     "base_uri": "https://localhost:8080/",
     "height": 195
    },
    "executionInfo": {
     "elapsed": 6624,
     "status": "ok",
     "timestamp": 1572607930577,
     "user": {
      "displayName": "Rajeev Kumar",
      "photoUrl": "https://lh3.googleusercontent.com/a-/AAuE7mBC_Jt2baS4Hv7JJvLmgAJFGZpvIs0sh5ggT7ZM9hw=s64",
      "userId": "10567937244174773728"
     },
     "user_tz": -330
    },
    "id": "iVOxnQg3aiv4",
    "outputId": "2512ade7-fdff-4432-96e0-0d6030817647",
    "scrolled": true
   },
   "outputs": [
    {
     "data": {
      "text/html": [
       "<div>\n",
       "<style scoped>\n",
       "    .dataframe tbody tr th:only-of-type {\n",
       "        vertical-align: middle;\n",
       "    }\n",
       "\n",
       "    .dataframe tbody tr th {\n",
       "        vertical-align: top;\n",
       "    }\n",
       "\n",
       "    .dataframe thead th {\n",
       "        text-align: right;\n",
       "    }\n",
       "</style>\n",
       "<table border=\"1\" class=\"dataframe\">\n",
       "  <thead>\n",
       "    <tr style=\"text-align: right;\">\n",
       "      <th></th>\n",
       "      <th>id</th>\n",
       "      <th>review</th>\n",
       "      <th>clean_review</th>\n",
       "    </tr>\n",
       "  </thead>\n",
       "  <tbody>\n",
       "    <tr>\n",
       "      <th>0</th>\n",
       "      <td>\"9999_0\"</td>\n",
       "      <td>\"Watching Time Chasers, it obvious that it was...</td>\n",
       "      <td>watching time chasers it obvious that it was m...</td>\n",
       "    </tr>\n",
       "    <tr>\n",
       "      <th>1</th>\n",
       "      <td>\"45057_0\"</td>\n",
       "      <td>\"I saw this film about 20 years ago and rememb...</td>\n",
       "      <td>i saw this film about years ago and remember i...</td>\n",
       "    </tr>\n",
       "    <tr>\n",
       "      <th>2</th>\n",
       "      <td>\"15561_0\"</td>\n",
       "      <td>\"Minor Spoilers&lt;br /&gt;&lt;br /&gt;In New York, Joan B...</td>\n",
       "      <td>minor spoilers br br in new york joan barnard ...</td>\n",
       "    </tr>\n",
       "    <tr>\n",
       "      <th>3</th>\n",
       "      <td>\"7161_0\"</td>\n",
       "      <td>\"I went to see this film with a great deal of ...</td>\n",
       "      <td>i went to see this film with a great deal of e...</td>\n",
       "    </tr>\n",
       "    <tr>\n",
       "      <th>4</th>\n",
       "      <td>\"43971_0\"</td>\n",
       "      <td>\"Yes, I agree with everyone on this site this ...</td>\n",
       "      <td>yes i agree with everyone on this site this mo...</td>\n",
       "    </tr>\n",
       "  </tbody>\n",
       "</table>\n",
       "</div>"
      ],
      "text/plain": [
       "          id  ...                                       clean_review\n",
       "0   \"9999_0\"  ...  watching time chasers it obvious that it was m...\n",
       "1  \"45057_0\"  ...  i saw this film about years ago and remember i...\n",
       "2  \"15561_0\"  ...  minor spoilers br br in new york joan barnard ...\n",
       "3   \"7161_0\"  ...  i went to see this film with a great deal of e...\n",
       "4  \"43971_0\"  ...  yes i agree with everyone on this site this mo...\n",
       "\n",
       "[5 rows x 3 columns]"
      ]
     },
     "execution_count": 8,
     "metadata": {
      "tags": []
     },
     "output_type": "execute_result"
    }
   ],
   "source": [
    "df['clean_review'] = df['review'].apply(clean_str)\n",
    "df.head()"
   ]
  },
  {
   "cell_type": "markdown",
   "metadata": {
    "id": "LJJyLx1Vaiv7"
   },
   "source": [
    "### Convert Review to a Word List"
   ]
  },
  {
   "cell_type": "code",
   "execution_count": null,
   "metadata": {
    "colab": {
     "base_uri": "https://localhost:8080/",
     "height": 70
    },
    "executionInfo": {
     "elapsed": 2369,
     "status": "ok",
     "timestamp": 1572608014107,
     "user": {
      "displayName": "Rajeev Kumar",
      "photoUrl": "https://lh3.googleusercontent.com/a-/AAuE7mBC_Jt2baS4Hv7JJvLmgAJFGZpvIs0sh5ggT7ZM9hw=s64",
      "userId": "10567937244174773728"
     },
     "user_tz": -330
    },
    "id": "5jEV1hl0aiv8",
    "outputId": "4adc9ee1-06d3-4604-deca-3c4ca2206eae"
   },
   "outputs": [
    {
     "name": "stdout",
     "output_type": "stream",
     "text": [
      "50000\n",
      "['watching', 'time', 'chasers', 'it', 'obvious', 'that', 'it', 'was', 'made', 'by', 'a', 'bunch', 'of', 'friends', 'maybe', 'they', 'were', 'sitting', 'around', 'one', 'day', 'in', 'film', 'school', 'and', 'said', 'hey', 'let', 's', 'pool', 'our', 'money', 'together', 'and', 'make', 'a', 'really', 'bad', 'movie', 'or', 'something', 'like', 'that', 'what', 'ever', 'they', 'said', 'they', 'still', 'ended', 'up', 'making', 'a', 'really', 'bad', 'movie', 'dull', 'story', 'bad', 'script', 'lame', 'acting', 'poor', 'cinematography', 'bottom', 'of', 'the', 'barrel', 'stock', 'music', 'etc', 'all', 'corners', 'were', 'cut', 'except', 'the', 'one', 'that', 'would', 'have', 'prevented', 'this', 'film', 's', 'release', 'life', 's', 'like', 'that']\n"
     ]
    }
   ],
   "source": [
    "#List to hold all words in each review\n",
    "documents = []\n",
    "\n",
    "#Iterate over each review\n",
    "for doc in df['clean_review']:\n",
    "    documents.append(doc.split(' '))\n",
    "\n",
    "print(len(documents))\n",
    "print(documents[0])"
   ]
  },
  {
   "cell_type": "code",
   "execution_count": null,
   "metadata": {
    "colab": {
     "base_uri": "https://localhost:8080/",
     "height": 35
    },
    "executionInfo": {
     "elapsed": 1067,
     "status": "ok",
     "timestamp": 1562498684937,
     "user": {
      "displayName": "Rajeev Kumar",
      "photoUrl": "https://lh4.googleusercontent.com/-83GaAJT3hHA/AAAAAAAAAAI/AAAAAAABMsk/e8STDzL1f1s/s64/photo.jpg",
      "userId": "10567937244174773728"
     },
     "user_tz": -330
    },
    "id": "O3D6hiEAcRkf",
    "outputId": "acc33f0e-7423-4a46-d52d-76e0fce44bc4"
   },
   "outputs": [
    {
     "data": {
      "text/plain": [
       "121"
      ]
     },
     "execution_count": 12,
     "metadata": {
      "tags": []
     },
     "output_type": "execute_result"
    }
   ],
   "source": [
    "len(documents[108])"
   ]
  },
  {
   "cell_type": "markdown",
   "metadata": {
    "id": "EHhZ8ncUaiv_"
   },
   "source": [
    "### Build the Model"
   ]
  },
  {
   "cell_type": "code",
   "execution_count": null,
   "metadata": {
    "colab": {
     "base_uri": "https://localhost:8080/",
     "height": 1000
    },
    "executionInfo": {
     "elapsed": 179301,
     "status": "ok",
     "timestamp": 1572608372662,
     "user": {
      "displayName": "Rajeev Kumar",
      "photoUrl": "https://lh3.googleusercontent.com/a-/AAuE7mBC_Jt2baS4Hv7JJvLmgAJFGZpvIs0sh5ggT7ZM9hw=s64",
      "userId": "10567937244174773728"
     },
     "user_tz": -330
    },
    "id": "KsB8HpGwaiwA",
    "outputId": "77b31c9b-dfce-4ca5-b3a6-abfae9fcd249"
   },
   "outputs": [
    {
     "name": "stderr",
     "output_type": "stream",
     "text": [
      "2019-11-01 11:36:33,744 : WARNING : consider setting layer size to a multiple of 4 for greater performance\n",
      "2019-11-01 11:36:33,748 : INFO : collecting all words and their counts\n",
      "2019-11-01 11:36:33,751 : INFO : PROGRESS: at sentence #0, processed 0 words, keeping 0 word types\n",
      "2019-11-01 11:36:34,212 : INFO : PROGRESS: at sentence #10000, processed 2399440 words, keeping 51654 word types\n",
      "2019-11-01 11:36:34,686 : INFO : PROGRESS: at sentence #20000, processed 4835846 words, keeping 69077 word types\n",
      "2019-11-01 11:36:35,167 : INFO : PROGRESS: at sentence #30000, processed 7267977 words, keeping 81515 word types\n",
      "2019-11-01 11:36:35,641 : INFO : PROGRESS: at sentence #40000, processed 9669772 words, keeping 91685 word types\n",
      "2019-11-01 11:36:36,133 : INFO : collected 100479 word types from a corpus of 12084660 raw words and 50000 sentences\n",
      "2019-11-01 11:36:36,134 : INFO : Loading a fresh vocabulary\n",
      "2019-11-01 11:36:36,567 : INFO : effective_min_count=10 retains 28322 unique words (28% of original 100479, drops 72157)\n",
      "2019-11-01 11:36:36,568 : INFO : effective_min_count=10 leaves 11910457 word corpus (98% of original 12084660, drops 174203)\n",
      "2019-11-01 11:36:36,664 : INFO : deleting the raw counts dictionary of 100479 items\n",
      "2019-11-01 11:36:36,670 : INFO : sample=0.001 downsamples 49 most-common words\n",
      "2019-11-01 11:36:36,671 : INFO : downsampling leaves estimated 8817283 word corpus (74.0% of prior 11910457)\n",
      "2019-11-01 11:36:36,780 : INFO : estimated required memory for 28322 words and 50 dimensions: 25489800 bytes\n",
      "2019-11-01 11:36:36,781 : INFO : resetting layer weights\n",
      "2019-11-01 11:36:41,983 : INFO : training model with 4 workers on 28322 vocabulary and 50 features, using sg=0 hs=0 sample=0.001 negative=5 window=5\n",
      "2019-11-01 11:36:43,022 : INFO : EPOCH 1 - PROGRESS: at 5.91% examples, 506369 words/s, in_qsize 7, out_qsize 0\n",
      "2019-11-01 11:36:44,029 : INFO : EPOCH 1 - PROGRESS: at 12.15% examples, 521150 words/s, in_qsize 7, out_qsize 0\n",
      "2019-11-01 11:36:45,042 : INFO : EPOCH 1 - PROGRESS: at 17.97% examples, 514827 words/s, in_qsize 7, out_qsize 0\n",
      "2019-11-01 11:36:46,047 : INFO : EPOCH 1 - PROGRESS: at 23.78% examples, 512456 words/s, in_qsize 7, out_qsize 0\n",
      "2019-11-01 11:36:47,058 : INFO : EPOCH 1 - PROGRESS: at 29.72% examples, 514832 words/s, in_qsize 7, out_qsize 0\n",
      "2019-11-01 11:36:48,078 : INFO : EPOCH 1 - PROGRESS: at 35.89% examples, 517901 words/s, in_qsize 7, out_qsize 0\n",
      "2019-11-01 11:36:49,089 : INFO : EPOCH 1 - PROGRESS: at 41.78% examples, 518747 words/s, in_qsize 6, out_qsize 1\n",
      "2019-11-01 11:36:50,100 : INFO : EPOCH 1 - PROGRESS: at 47.86% examples, 521186 words/s, in_qsize 7, out_qsize 0\n",
      "2019-11-01 11:36:51,113 : INFO : EPOCH 1 - PROGRESS: at 53.84% examples, 520848 words/s, in_qsize 6, out_qsize 1\n",
      "2019-11-01 11:36:52,172 : INFO : EPOCH 1 - PROGRESS: at 59.86% examples, 519680 words/s, in_qsize 8, out_qsize 2\n",
      "2019-11-01 11:36:53,192 : INFO : EPOCH 1 - PROGRESS: at 66.14% examples, 522257 words/s, in_qsize 7, out_qsize 0\n",
      "2019-11-01 11:36:54,198 : INFO : EPOCH 1 - PROGRESS: at 72.23% examples, 522678 words/s, in_qsize 6, out_qsize 1\n",
      "2019-11-01 11:36:55,215 : INFO : EPOCH 1 - PROGRESS: at 78.36% examples, 523086 words/s, in_qsize 4, out_qsize 3\n",
      "2019-11-01 11:36:56,223 : INFO : EPOCH 1 - PROGRESS: at 84.47% examples, 523827 words/s, in_qsize 7, out_qsize 0\n",
      "2019-11-01 11:36:57,250 : INFO : EPOCH 1 - PROGRESS: at 90.69% examples, 523858 words/s, in_qsize 6, out_qsize 1\n",
      "2019-11-01 11:36:58,258 : INFO : EPOCH 1 - PROGRESS: at 96.73% examples, 524742 words/s, in_qsize 7, out_qsize 1\n",
      "2019-11-01 11:36:58,741 : INFO : worker thread finished; awaiting finish of 3 more threads\n",
      "2019-11-01 11:36:58,753 : INFO : worker thread finished; awaiting finish of 2 more threads\n",
      "2019-11-01 11:36:58,757 : INFO : worker thread finished; awaiting finish of 1 more threads\n",
      "2019-11-01 11:36:58,764 : INFO : worker thread finished; awaiting finish of 0 more threads\n",
      "2019-11-01 11:36:58,765 : INFO : EPOCH - 1 : training on 12084660 raw words (8818469 effective words) took 16.8s, 525673 effective words/s\n",
      "2019-11-01 11:36:59,780 : INFO : EPOCH 2 - PROGRESS: at 6.00% examples, 524121 words/s, in_qsize 8, out_qsize 0\n",
      "2019-11-01 11:37:00,785 : INFO : EPOCH 2 - PROGRESS: at 12.06% examples, 523681 words/s, in_qsize 7, out_qsize 0\n",
      "2019-11-01 11:37:01,815 : INFO : EPOCH 2 - PROGRESS: at 18.35% examples, 527333 words/s, in_qsize 7, out_qsize 0\n",
      "2019-11-01 11:37:02,834 : INFO : EPOCH 2 - PROGRESS: at 24.21% examples, 522010 words/s, in_qsize 6, out_qsize 1\n",
      "2019-11-01 11:37:03,838 : INFO : EPOCH 2 - PROGRESS: at 30.41% examples, 526018 words/s, in_qsize 7, out_qsize 0\n",
      "2019-11-01 11:37:04,853 : INFO : EPOCH 2 - PROGRESS: at 36.31% examples, 524197 words/s, in_qsize 7, out_qsize 0\n",
      "2019-11-01 11:37:05,878 : INFO : EPOCH 2 - PROGRESS: at 42.33% examples, 525242 words/s, in_qsize 7, out_qsize 0\n",
      "2019-11-01 11:37:06,883 : INFO : EPOCH 2 - PROGRESS: at 48.27% examples, 525444 words/s, in_qsize 7, out_qsize 0\n",
      "2019-11-01 11:37:07,924 : INFO : EPOCH 2 - PROGRESS: at 54.38% examples, 524583 words/s, in_qsize 7, out_qsize 0\n",
      "2019-11-01 11:37:08,955 : INFO : EPOCH 2 - PROGRESS: at 60.51% examples, 525110 words/s, in_qsize 7, out_qsize 1\n",
      "2019-11-01 11:37:09,970 : INFO : EPOCH 2 - PROGRESS: at 66.61% examples, 525990 words/s, in_qsize 6, out_qsize 1\n",
      "2019-11-01 11:37:10,983 : INFO : EPOCH 2 - PROGRESS: at 72.82% examples, 526440 words/s, in_qsize 7, out_qsize 0\n",
      "2019-11-01 11:37:11,987 : INFO : EPOCH 2 - PROGRESS: at 78.88% examples, 526509 words/s, in_qsize 7, out_qsize 0\n",
      "2019-11-01 11:37:13,001 : INFO : EPOCH 2 - PROGRESS: at 84.71% examples, 525232 words/s, in_qsize 7, out_qsize 0\n",
      "2019-11-01 11:37:14,022 : INFO : EPOCH 2 - PROGRESS: at 90.76% examples, 524457 words/s, in_qsize 5, out_qsize 2\n",
      "2019-11-01 11:37:15,079 : INFO : EPOCH 2 - PROGRESS: at 96.73% examples, 524289 words/s, in_qsize 6, out_qsize 4\n",
      "2019-11-01 11:37:15,547 : INFO : worker thread finished; awaiting finish of 3 more threads\n",
      "2019-11-01 11:37:15,550 : INFO : worker thread finished; awaiting finish of 2 more threads\n",
      "2019-11-01 11:37:15,555 : INFO : worker thread finished; awaiting finish of 1 more threads\n",
      "2019-11-01 11:37:15,568 : INFO : worker thread finished; awaiting finish of 0 more threads\n",
      "2019-11-01 11:37:15,569 : INFO : EPOCH - 2 : training on 12084660 raw words (8815937 effective words) took 16.8s, 524752 effective words/s\n",
      "2019-11-01 11:37:16,586 : INFO : EPOCH 3 - PROGRESS: at 6.00% examples, 525320 words/s, in_qsize 7, out_qsize 0\n",
      "2019-11-01 11:37:17,609 : INFO : EPOCH 3 - PROGRESS: at 12.24% examples, 526488 words/s, in_qsize 6, out_qsize 1\n",
      "2019-11-01 11:37:18,623 : INFO : EPOCH 3 - PROGRESS: at 18.43% examples, 529755 words/s, in_qsize 7, out_qsize 0\n",
      "2019-11-01 11:37:19,638 : INFO : EPOCH 3 - PROGRESS: at 24.52% examples, 529623 words/s, in_qsize 8, out_qsize 0\n",
      "2019-11-01 11:37:20,640 : INFO : EPOCH 3 - PROGRESS: at 30.64% examples, 531029 words/s, in_qsize 7, out_qsize 0\n",
      "2019-11-01 11:37:21,656 : INFO : EPOCH 3 - PROGRESS: at 36.52% examples, 528116 words/s, in_qsize 7, out_qsize 0\n",
      "2019-11-01 11:37:22,674 : INFO : EPOCH 3 - PROGRESS: at 42.58% examples, 529206 words/s, in_qsize 7, out_qsize 0\n",
      "2019-11-01 11:37:23,697 : INFO : EPOCH 3 - PROGRESS: at 48.44% examples, 526859 words/s, in_qsize 7, out_qsize 0\n",
      "2019-11-01 11:37:24,702 : INFO : EPOCH 3 - PROGRESS: at 54.45% examples, 527130 words/s, in_qsize 7, out_qsize 0\n",
      "2019-11-01 11:37:25,705 : INFO : EPOCH 3 - PROGRESS: at 60.50% examples, 528190 words/s, in_qsize 7, out_qsize 0\n",
      "2019-11-01 11:37:26,709 : INFO : EPOCH 3 - PROGRESS: at 66.53% examples, 528725 words/s, in_qsize 7, out_qsize 0\n",
      "2019-11-01 11:37:27,712 : INFO : EPOCH 3 - PROGRESS: at 72.59% examples, 528215 words/s, in_qsize 7, out_qsize 0\n",
      "2019-11-01 11:37:28,741 : INFO : EPOCH 3 - PROGRESS: at 78.88% examples, 528808 words/s, in_qsize 7, out_qsize 0\n",
      "2019-11-01 11:37:29,750 : INFO : EPOCH 3 - PROGRESS: at 84.89% examples, 528638 words/s, in_qsize 6, out_qsize 1\n",
      "2019-11-01 11:37:30,780 : INFO : EPOCH 3 - PROGRESS: at 91.16% examples, 528678 words/s, in_qsize 5, out_qsize 2\n",
      "2019-11-01 11:37:31,795 : INFO : EPOCH 3 - PROGRESS: at 97.33% examples, 529457 words/s, in_qsize 6, out_qsize 1\n",
      "2019-11-01 11:37:32,189 : INFO : worker thread finished; awaiting finish of 3 more threads\n",
      "2019-11-01 11:37:32,193 : INFO : worker thread finished; awaiting finish of 2 more threads\n",
      "2019-11-01 11:37:32,200 : INFO : worker thread finished; awaiting finish of 1 more threads\n",
      "2019-11-01 11:37:32,210 : INFO : worker thread finished; awaiting finish of 0 more threads\n",
      "2019-11-01 11:37:32,211 : INFO : EPOCH - 3 : training on 12084660 raw words (8817876 effective words) took 16.6s, 530124 effective words/s\n",
      "2019-11-01 11:37:33,234 : INFO : EPOCH 4 - PROGRESS: at 5.91% examples, 514484 words/s, in_qsize 4, out_qsize 3\n",
      "2019-11-01 11:37:34,235 : INFO : EPOCH 4 - PROGRESS: at 11.91% examples, 516155 words/s, in_qsize 7, out_qsize 0\n",
      "2019-11-01 11:37:35,237 : INFO : EPOCH 4 - PROGRESS: at 17.97% examples, 520687 words/s, in_qsize 7, out_qsize 0\n",
      "2019-11-01 11:37:36,255 : INFO : EPOCH 4 - PROGRESS: at 23.99% examples, 520443 words/s, in_qsize 5, out_qsize 2\n",
      "2019-11-01 11:37:37,283 : INFO : EPOCH 4 - PROGRESS: at 30.06% examples, 520950 words/s, in_qsize 7, out_qsize 0\n",
      "2019-11-01 11:37:38,293 : INFO : EPOCH 4 - PROGRESS: at 36.15% examples, 522769 words/s, in_qsize 7, out_qsize 0\n",
      "2019-11-01 11:37:39,317 : INFO : EPOCH 4 - PROGRESS: at 42.02% examples, 522687 words/s, in_qsize 7, out_qsize 1\n",
      "2019-11-01 11:37:40,316 : INFO : EPOCH 4 - PROGRESS: at 48.04% examples, 523777 words/s, in_qsize 6, out_qsize 1\n",
      "2019-11-01 11:37:41,336 : INFO : EPOCH 4 - PROGRESS: at 54.24% examples, 525068 words/s, in_qsize 7, out_qsize 0\n",
      "2019-11-01 11:37:42,342 : INFO : EPOCH 4 - PROGRESS: at 60.26% examples, 526105 words/s, in_qsize 7, out_qsize 0\n",
      "2019-11-01 11:37:43,379 : INFO : EPOCH 4 - PROGRESS: at 66.21% examples, 524720 words/s, in_qsize 6, out_qsize 1\n",
      "2019-11-01 11:37:44,391 : INFO : EPOCH 4 - PROGRESS: at 72.15% examples, 523521 words/s, in_qsize 7, out_qsize 0\n",
      "2019-11-01 11:37:45,394 : INFO : EPOCH 4 - PROGRESS: at 78.17% examples, 523877 words/s, in_qsize 7, out_qsize 0\n",
      "2019-11-01 11:37:46,425 : INFO : EPOCH 4 - PROGRESS: at 84.17% examples, 522701 words/s, in_qsize 6, out_qsize 1\n",
      "2019-11-01 11:37:47,436 : INFO : EPOCH 4 - PROGRESS: at 90.25% examples, 522843 words/s, in_qsize 8, out_qsize 0\n",
      "2019-11-01 11:37:48,468 : INFO : EPOCH 4 - PROGRESS: at 96.09% examples, 521728 words/s, in_qsize 6, out_qsize 1\n",
      "2019-11-01 11:37:49,069 : INFO : worker thread finished; awaiting finish of 3 more threads\n",
      "2019-11-01 11:37:49,072 : INFO : worker thread finished; awaiting finish of 2 more threads\n",
      "2019-11-01 11:37:49,087 : INFO : worker thread finished; awaiting finish of 1 more threads\n",
      "2019-11-01 11:37:49,089 : INFO : worker thread finished; awaiting finish of 0 more threads\n",
      "2019-11-01 11:37:49,093 : INFO : EPOCH - 4 : training on 12084660 raw words (8817342 effective words) took 16.9s, 522497 effective words/s\n",
      "2019-11-01 11:37:50,102 : INFO : EPOCH 5 - PROGRESS: at 5.82% examples, 513419 words/s, in_qsize 7, out_qsize 0\n",
      "2019-11-01 11:37:51,104 : INFO : EPOCH 5 - PROGRESS: at 12.08% examples, 526068 words/s, in_qsize 7, out_qsize 0\n",
      "2019-11-01 11:37:52,115 : INFO : EPOCH 5 - PROGRESS: at 18.13% examples, 525543 words/s, in_qsize 7, out_qsize 0\n",
      "2019-11-01 11:37:53,125 : INFO : EPOCH 5 - PROGRESS: at 24.21% examples, 526950 words/s, in_qsize 8, out_qsize 1\n",
      "2019-11-01 11:37:54,138 : INFO : EPOCH 5 - PROGRESS: at 30.25% examples, 526275 words/s, in_qsize 7, out_qsize 0\n",
      "2019-11-01 11:37:55,152 : INFO : EPOCH 5 - PROGRESS: at 36.15% examples, 524446 words/s, in_qsize 7, out_qsize 0\n",
      "2019-11-01 11:37:56,207 : INFO : EPOCH 5 - PROGRESS: at 42.24% examples, 524111 words/s, in_qsize 5, out_qsize 2\n",
      "2019-11-01 11:37:57,220 : INFO : EPOCH 5 - PROGRESS: at 48.30% examples, 525595 words/s, in_qsize 8, out_qsize 0\n",
      "2019-11-01 11:37:58,211 : INFO : EPOCH 5 - PROGRESS: at 54.16% examples, 524640 words/s, in_qsize 7, out_qsize 0\n",
      "2019-11-01 11:37:59,229 : INFO : EPOCH 5 - PROGRESS: at 60.03% examples, 523774 words/s, in_qsize 7, out_qsize 0\n",
      "2019-11-01 11:38:00,230 : INFO : EPOCH 5 - PROGRESS: at 65.82% examples, 523073 words/s, in_qsize 5, out_qsize 2\n",
      "2019-11-01 11:38:01,257 : INFO : EPOCH 5 - PROGRESS: at 72.00% examples, 523099 words/s, in_qsize 7, out_qsize 0\n",
      "2019-11-01 11:38:02,290 : INFO : EPOCH 5 - PROGRESS: at 77.92% examples, 521730 words/s, in_qsize 7, out_qsize 0\n",
      "2019-11-01 11:38:03,304 : INFO : EPOCH 5 - PROGRESS: at 83.85% examples, 520807 words/s, in_qsize 7, out_qsize 0\n",
      "2019-11-01 11:38:04,305 : INFO : EPOCH 5 - PROGRESS: at 89.78% examples, 520427 words/s, in_qsize 7, out_qsize 0\n",
      "2019-11-01 11:38:05,311 : INFO : EPOCH 5 - PROGRESS: at 95.46% examples, 519450 words/s, in_qsize 7, out_qsize 1\n",
      "2019-11-01 11:38:06,024 : INFO : worker thread finished; awaiting finish of 3 more threads\n",
      "2019-11-01 11:38:06,033 : INFO : worker thread finished; awaiting finish of 2 more threads\n",
      "2019-11-01 11:38:06,042 : INFO : worker thread finished; awaiting finish of 1 more threads\n",
      "2019-11-01 11:38:06,044 : INFO : worker thread finished; awaiting finish of 0 more threads\n",
      "2019-11-01 11:38:06,044 : INFO : EPOCH - 5 : training on 12084660 raw words (8818283 effective words) took 16.9s, 520363 effective words/s\n",
      "2019-11-01 11:38:07,064 : INFO : EPOCH 6 - PROGRESS: at 5.67% examples, 496291 words/s, in_qsize 7, out_qsize 0\n",
      "2019-11-01 11:38:08,076 : INFO : EPOCH 6 - PROGRESS: at 11.91% examples, 514971 words/s, in_qsize 7, out_qsize 0\n",
      "2019-11-01 11:38:09,112 : INFO : EPOCH 6 - PROGRESS: at 17.90% examples, 511802 words/s, in_qsize 6, out_qsize 1\n",
      "2019-11-01 11:38:10,128 : INFO : EPOCH 6 - PROGRESS: at 23.91% examples, 514043 words/s, in_qsize 6, out_qsize 1\n",
      "2019-11-01 11:38:11,149 : INFO : EPOCH 6 - PROGRESS: at 30.07% examples, 517989 words/s, in_qsize 7, out_qsize 0\n",
      "2019-11-01 11:38:12,182 : INFO : EPOCH 6 - PROGRESS: at 35.99% examples, 515835 words/s, in_qsize 7, out_qsize 0\n",
      "2019-11-01 11:38:13,190 : INFO : EPOCH 6 - PROGRESS: at 41.78% examples, 516080 words/s, in_qsize 7, out_qsize 0\n",
      "2019-11-01 11:38:14,213 : INFO : EPOCH 6 - PROGRESS: at 47.60% examples, 515460 words/s, in_qsize 8, out_qsize 1\n",
      "2019-11-01 11:38:15,215 : INFO : EPOCH 6 - PROGRESS: at 53.51% examples, 515489 words/s, in_qsize 6, out_qsize 1\n",
      "2019-11-01 11:38:16,239 : INFO : EPOCH 6 - PROGRESS: at 59.29% examples, 514556 words/s, in_qsize 7, out_qsize 0\n",
      "2019-11-01 11:38:17,272 : INFO : EPOCH 6 - PROGRESS: at 65.24% examples, 514500 words/s, in_qsize 7, out_qsize 0\n",
      "2019-11-01 11:38:18,276 : INFO : EPOCH 6 - PROGRESS: at 71.26% examples, 515093 words/s, in_qsize 8, out_qsize 2\n",
      "2019-11-01 11:38:19,295 : INFO : EPOCH 6 - PROGRESS: at 77.33% examples, 516023 words/s, in_qsize 7, out_qsize 0\n",
      "2019-11-01 11:38:20,298 : INFO : EPOCH 6 - PROGRESS: at 83.17% examples, 515341 words/s, in_qsize 8, out_qsize 2\n",
      "2019-11-01 11:38:21,298 : INFO : EPOCH 6 - PROGRESS: at 89.25% examples, 515900 words/s, in_qsize 6, out_qsize 1\n",
      "2019-11-01 11:38:22,317 : INFO : EPOCH 6 - PROGRESS: at 95.17% examples, 516116 words/s, in_qsize 7, out_qsize 0\n",
      "2019-11-01 11:38:23,087 : INFO : worker thread finished; awaiting finish of 3 more threads\n",
      "2019-11-01 11:38:23,112 : INFO : worker thread finished; awaiting finish of 2 more threads\n",
      "2019-11-01 11:38:23,117 : INFO : worker thread finished; awaiting finish of 1 more threads\n",
      "2019-11-01 11:38:23,128 : INFO : worker thread finished; awaiting finish of 0 more threads\n",
      "2019-11-01 11:38:23,129 : INFO : EPOCH - 6 : training on 12084660 raw words (8817843 effective words) took 17.1s, 516426 effective words/s\n",
      "2019-11-01 11:38:24,139 : INFO : EPOCH 7 - PROGRESS: at 5.75% examples, 508158 words/s, in_qsize 7, out_qsize 0\n",
      "2019-11-01 11:38:25,146 : INFO : EPOCH 7 - PROGRESS: at 11.64% examples, 507931 words/s, in_qsize 7, out_qsize 0\n",
      "2019-11-01 11:38:26,154 : INFO : EPOCH 7 - PROGRESS: at 17.57% examples, 509535 words/s, in_qsize 8, out_qsize 1\n",
      "2019-11-01 11:38:27,165 : INFO : EPOCH 7 - PROGRESS: at 23.53% examples, 511018 words/s, in_qsize 7, out_qsize 0\n",
      "2019-11-01 11:38:28,190 : INFO : EPOCH 7 - PROGRESS: at 29.31% examples, 509566 words/s, in_qsize 6, out_qsize 1\n",
      "2019-11-01 11:38:29,223 : INFO : EPOCH 7 - PROGRESS: at 35.30% examples, 510076 words/s, in_qsize 7, out_qsize 0\n",
      "2019-11-01 11:38:30,225 : INFO : EPOCH 7 - PROGRESS: at 41.20% examples, 512651 words/s, in_qsize 7, out_qsize 0\n",
      "2019-11-01 11:38:31,236 : INFO : EPOCH 7 - PROGRESS: at 46.94% examples, 512426 words/s, in_qsize 7, out_qsize 0\n",
      "2019-11-01 11:38:32,259 : INFO : EPOCH 7 - PROGRESS: at 52.88% examples, 511689 words/s, in_qsize 7, out_qsize 0\n",
      "2019-11-01 11:38:33,277 : INFO : EPOCH 7 - PROGRESS: at 58.77% examples, 512114 words/s, in_qsize 6, out_qsize 1\n",
      "2019-11-01 11:38:34,285 : INFO : EPOCH 7 - PROGRESS: at 64.51% examples, 512213 words/s, in_qsize 7, out_qsize 0\n",
      "2019-11-01 11:38:35,286 : INFO : EPOCH 7 - PROGRESS: at 70.47% examples, 512485 words/s, in_qsize 6, out_qsize 1\n",
      "2019-11-01 11:38:36,318 : INFO : EPOCH 7 - PROGRESS: at 76.47% examples, 512617 words/s, in_qsize 6, out_qsize 1\n",
      "2019-11-01 11:38:37,335 : INFO : EPOCH 7 - PROGRESS: at 82.38% examples, 512172 words/s, in_qsize 7, out_qsize 0\n",
      "2019-11-01 11:38:38,349 : INFO : EPOCH 7 - PROGRESS: at 88.41% examples, 512504 words/s, in_qsize 7, out_qsize 0\n",
      "2019-11-01 11:38:39,365 : INFO : EPOCH 7 - PROGRESS: at 94.26% examples, 512542 words/s, in_qsize 7, out_qsize 0\n",
      "2019-11-01 11:38:40,295 : INFO : worker thread finished; awaiting finish of 3 more threads\n",
      "2019-11-01 11:38:40,297 : INFO : worker thread finished; awaiting finish of 2 more threads\n",
      "2019-11-01 11:38:40,310 : INFO : worker thread finished; awaiting finish of 1 more threads\n",
      "2019-11-01 11:38:40,325 : INFO : worker thread finished; awaiting finish of 0 more threads\n",
      "2019-11-01 11:38:40,326 : INFO : EPOCH - 7 : training on 12084660 raw words (8820293 effective words) took 17.2s, 513177 effective words/s\n",
      "2019-11-01 11:38:41,344 : INFO : EPOCH 8 - PROGRESS: at 5.75% examples, 504345 words/s, in_qsize 7, out_qsize 0\n",
      "2019-11-01 11:38:42,364 : INFO : EPOCH 8 - PROGRESS: at 11.81% examples, 512258 words/s, in_qsize 7, out_qsize 1\n",
      "2019-11-01 11:38:43,371 : INFO : EPOCH 8 - PROGRESS: at 17.81% examples, 513242 words/s, in_qsize 7, out_qsize 0\n",
      "2019-11-01 11:38:44,411 : INFO : EPOCH 8 - PROGRESS: at 23.77% examples, 511554 words/s, in_qsize 8, out_qsize 3\n",
      "2019-11-01 11:38:45,417 : INFO : EPOCH 8 - PROGRESS: at 29.63% examples, 512092 words/s, in_qsize 7, out_qsize 0\n",
      "2019-11-01 11:38:46,444 : INFO : EPOCH 8 - PROGRESS: at 35.56% examples, 511606 words/s, in_qsize 6, out_qsize 1\n",
      "2019-11-01 11:38:47,448 : INFO : EPOCH 8 - PROGRESS: at 41.20% examples, 510732 words/s, in_qsize 6, out_qsize 1\n",
      "2019-11-01 11:38:48,461 : INFO : EPOCH 8 - PROGRESS: at 47.10% examples, 512289 words/s, in_qsize 7, out_qsize 0\n",
      "2019-11-01 11:38:49,487 : INFO : EPOCH 8 - PROGRESS: at 53.13% examples, 512178 words/s, in_qsize 7, out_qsize 0\n",
      "2019-11-01 11:38:50,501 : INFO : EPOCH 8 - PROGRESS: at 58.96% examples, 512693 words/s, in_qsize 7, out_qsize 0\n",
      "2019-11-01 11:38:51,507 : INFO : EPOCH 8 - PROGRESS: at 64.75% examples, 512716 words/s, in_qsize 6, out_qsize 1\n",
      "2019-11-01 11:38:52,526 : INFO : EPOCH 8 - PROGRESS: at 70.87% examples, 513401 words/s, in_qsize 7, out_qsize 0\n",
      "2019-11-01 11:38:53,552 : INFO : EPOCH 8 - PROGRESS: at 76.88% examples, 513699 words/s, in_qsize 7, out_qsize 0\n",
      "2019-11-01 11:38:54,561 : INFO : EPOCH 8 - PROGRESS: at 82.77% examples, 513435 words/s, in_qsize 6, out_qsize 1\n",
      "2019-11-01 11:38:55,577 : INFO : EPOCH 8 - PROGRESS: at 88.93% examples, 514085 words/s, in_qsize 7, out_qsize 0\n",
      "2019-11-01 11:38:56,578 : INFO : EPOCH 8 - PROGRESS: at 94.68% examples, 514066 words/s, in_qsize 4, out_qsize 3\n",
      "2019-11-01 11:38:57,433 : INFO : worker thread finished; awaiting finish of 3 more threads\n",
      "2019-11-01 11:38:57,437 : INFO : worker thread finished; awaiting finish of 2 more threads\n",
      "2019-11-01 11:38:57,445 : INFO : worker thread finished; awaiting finish of 1 more threads\n",
      "2019-11-01 11:38:57,454 : INFO : worker thread finished; awaiting finish of 0 more threads\n",
      "2019-11-01 11:38:57,456 : INFO : EPOCH - 8 : training on 12084660 raw words (8817166 effective words) took 17.1s, 514999 effective words/s\n",
      "2019-11-01 11:38:58,468 : INFO : EPOCH 9 - PROGRESS: at 5.60% examples, 491885 words/s, in_qsize 8, out_qsize 0\n",
      "2019-11-01 11:38:59,474 : INFO : EPOCH 9 - PROGRESS: at 11.57% examples, 503478 words/s, in_qsize 8, out_qsize 0\n",
      "2019-11-01 11:39:00,475 : INFO : EPOCH 9 - PROGRESS: at 17.49% examples, 507622 words/s, in_qsize 8, out_qsize 1\n",
      "2019-11-01 11:39:01,504 : INFO : EPOCH 9 - PROGRESS: at 23.63% examples, 510888 words/s, in_qsize 7, out_qsize 0\n",
      "2019-11-01 11:39:02,517 : INFO : EPOCH 9 - PROGRESS: at 29.31% examples, 509214 words/s, in_qsize 6, out_qsize 1\n",
      "2019-11-01 11:39:03,530 : INFO : EPOCH 9 - PROGRESS: at 35.32% examples, 511483 words/s, in_qsize 7, out_qsize 0\n",
      "2019-11-01 11:39:04,536 : INFO : EPOCH 9 - PROGRESS: at 40.87% examples, 509478 words/s, in_qsize 6, out_qsize 1\n",
      "2019-11-01 11:39:05,538 : INFO : EPOCH 9 - PROGRESS: at 46.79% examples, 511936 words/s, in_qsize 7, out_qsize 0\n",
      "2019-11-01 11:39:06,541 : INFO : EPOCH 9 - PROGRESS: at 52.73% examples, 512277 words/s, in_qsize 7, out_qsize 0\n",
      "2019-11-01 11:39:07,541 : INFO : EPOCH 9 - PROGRESS: at 58.28% examples, 510671 words/s, in_qsize 7, out_qsize 1\n",
      "2019-11-01 11:39:08,568 : INFO : EPOCH 9 - PROGRESS: at 64.12% examples, 510554 words/s, in_qsize 7, out_qsize 0\n",
      "2019-11-01 11:39:09,589 : INFO : EPOCH 9 - PROGRESS: at 70.12% examples, 510725 words/s, in_qsize 7, out_qsize 0\n",
      "2019-11-01 11:39:10,591 : INFO : EPOCH 9 - PROGRESS: at 76.16% examples, 512080 words/s, in_qsize 7, out_qsize 0\n",
      "2019-11-01 11:39:11,605 : INFO : EPOCH 9 - PROGRESS: at 82.06% examples, 511803 words/s, in_qsize 7, out_qsize 0\n",
      "2019-11-01 11:39:12,614 : INFO : EPOCH 9 - PROGRESS: at 87.91% examples, 511380 words/s, in_qsize 7, out_qsize 0\n",
      "2019-11-01 11:39:13,623 : INFO : EPOCH 9 - PROGRESS: at 93.73% examples, 511335 words/s, in_qsize 6, out_qsize 1\n",
      "2019-11-01 11:39:14,639 : INFO : EPOCH 9 - PROGRESS: at 99.56% examples, 511051 words/s, in_qsize 5, out_qsize 1\n",
      "2019-11-01 11:39:14,657 : INFO : worker thread finished; awaiting finish of 3 more threads\n",
      "2019-11-01 11:39:14,665 : INFO : worker thread finished; awaiting finish of 2 more threads\n",
      "2019-11-01 11:39:14,679 : INFO : worker thread finished; awaiting finish of 1 more threads\n",
      "2019-11-01 11:39:14,698 : INFO : worker thread finished; awaiting finish of 0 more threads\n",
      "2019-11-01 11:39:14,699 : INFO : EPOCH - 9 : training on 12084660 raw words (8815046 effective words) took 17.2s, 511475 effective words/s\n",
      "2019-11-01 11:39:15,726 : INFO : EPOCH 10 - PROGRESS: at 5.82% examples, 503950 words/s, in_qsize 7, out_qsize 0\n",
      "2019-11-01 11:39:16,730 : INFO : EPOCH 10 - PROGRESS: at 11.90% examples, 513527 words/s, in_qsize 7, out_qsize 1\n",
      "2019-11-01 11:39:17,731 : INFO : EPOCH 10 - PROGRESS: at 17.74% examples, 511806 words/s, in_qsize 6, out_qsize 1\n",
      "2019-11-01 11:39:18,743 : INFO : EPOCH 10 - PROGRESS: at 23.70% examples, 512582 words/s, in_qsize 8, out_qsize 0\n",
      "2019-11-01 11:39:19,766 : INFO : EPOCH 10 - PROGRESS: at 29.31% examples, 508090 words/s, in_qsize 7, out_qsize 0\n",
      "2019-11-01 11:39:20,789 : INFO : EPOCH 10 - PROGRESS: at 35.30% examples, 509765 words/s, in_qsize 6, out_qsize 1\n",
      "2019-11-01 11:39:21,821 : INFO : EPOCH 10 - PROGRESS: at 41.29% examples, 511302 words/s, in_qsize 7, out_qsize 0\n",
      "2019-11-01 11:39:22,844 : INFO : EPOCH 10 - PROGRESS: at 47.12% examples, 511256 words/s, in_qsize 7, out_qsize 1\n",
      "2019-11-01 11:39:23,862 : INFO : EPOCH 10 - PROGRESS: at 53.13% examples, 511641 words/s, in_qsize 7, out_qsize 0\n",
      "2019-11-01 11:39:24,882 : INFO : EPOCH 10 - PROGRESS: at 59.03% examples, 512657 words/s, in_qsize 7, out_qsize 0\n",
      "2019-11-01 11:39:25,883 : INFO : EPOCH 10 - PROGRESS: at 64.91% examples, 513557 words/s, in_qsize 7, out_qsize 0\n",
      "2019-11-01 11:39:26,910 : INFO : EPOCH 10 - PROGRESS: at 71.02% examples, 513798 words/s, in_qsize 7, out_qsize 0\n",
      "2019-11-01 11:39:27,919 : INFO : EPOCH 10 - PROGRESS: at 76.88% examples, 513664 words/s, in_qsize 7, out_qsize 0\n",
      "2019-11-01 11:39:28,925 : INFO : EPOCH 10 - PROGRESS: at 82.77% examples, 513489 words/s, in_qsize 6, out_qsize 1\n",
      "2019-11-01 11:39:29,937 : INFO : EPOCH 10 - PROGRESS: at 88.59% examples, 512375 words/s, in_qsize 6, out_qsize 1\n",
      "2019-11-01 11:39:30,951 : INFO : EPOCH 10 - PROGRESS: at 94.43% examples, 512532 words/s, in_qsize 7, out_qsize 2\n",
      "2019-11-01 11:39:31,840 : INFO : worker thread finished; awaiting finish of 3 more threads\n",
      "2019-11-01 11:39:31,843 : INFO : worker thread finished; awaiting finish of 2 more threads\n",
      "2019-11-01 11:39:31,864 : INFO : worker thread finished; awaiting finish of 1 more threads\n",
      "2019-11-01 11:39:31,875 : INFO : worker thread finished; awaiting finish of 0 more threads\n",
      "2019-11-01 11:39:31,876 : INFO : EPOCH - 10 : training on 12084660 raw words (8816976 effective words) took 17.2s, 513384 effective words/s\n",
      "2019-11-01 11:39:31,878 : INFO : training on a 120846600 raw words (88175231 effective words) took 169.9s, 519001 effective words/s\n"
     ]
    }
   ],
   "source": [
    "#Build the model\n",
    "model = gensim.models.Word2Vec(documents, #Word list\n",
    "                               min_count=10, #Ignore all words with total frequency lower than this                           \n",
    "                               workers=4, #Number of CPU Cores\n",
    "                               size=50,  #Embedding size\n",
    "                               window=5, #Maximum Distance between current and predicted word\n",
    "                               iter=10   #Number of iterations over the text corpus\n",
    "                              )  "
   ]
  },
  {
   "cell_type": "code",
   "execution_count": null,
   "metadata": {
    "id": "iif8xbAvxoPF"
   },
   "outputs": [],
   "source": [
    "#documents[0]"
   ]
  },
  {
   "cell_type": "markdown",
   "metadata": {
    "id": "gDY9oFflaiwC"
   },
   "source": [
    "# Exploring the model"
   ]
  },
  {
   "cell_type": "markdown",
   "metadata": {
    "id": "Wnn8dzYTaiwD"
   },
   "source": [
    "### How many words in the model"
   ]
  },
  {
   "cell_type": "code",
   "execution_count": null,
   "metadata": {
    "colab": {
     "base_uri": "https://localhost:8080/",
     "height": 87
    },
    "executionInfo": {
     "elapsed": 1164,
     "status": "ok",
     "timestamp": 1572608917724,
     "user": {
      "displayName": "Rajeev Kumar",
      "photoUrl": "https://lh3.googleusercontent.com/a-/AAuE7mBC_Jt2baS4Hv7JJvLmgAJFGZpvIs0sh5ggT7ZM9hw=s64",
      "userId": "10567937244174773728"
     },
     "user_tz": -330
    },
    "id": "O8jRdfO3aiwF",
    "outputId": "238e32a8-7e13-4778-cf14-45725b42a39f"
   },
   "outputs": [
    {
     "name": "stderr",
     "output_type": "stream",
     "text": [
      "/usr/local/lib/python3.6/dist-packages/ipykernel_launcher.py:1: DeprecationWarning: Call to deprecated `syn0` (Attribute will be removed in 4.0.0, use self.wv.vectors instead).\n",
      "  \"\"\"Entry point for launching an IPython kernel.\n"
     ]
    },
    {
     "data": {
      "text/plain": [
       "(28322, 50)"
      ]
     },
     "execution_count": 14,
     "metadata": {
      "tags": []
     },
     "output_type": "execute_result"
    }
   ],
   "source": [
    "#Model size\n",
    "model.wv.syn0.shape"
   ]
  },
  {
   "cell_type": "code",
   "execution_count": null,
   "metadata": {
    "colab": {
     "base_uri": "https://localhost:8080/",
     "height": 1000
    },
    "executionInfo": {
     "elapsed": 898,
     "status": "ok",
     "timestamp": 1572608961678,
     "user": {
      "displayName": "Rajeev Kumar",
      "photoUrl": "https://lh3.googleusercontent.com/a-/AAuE7mBC_Jt2baS4Hv7JJvLmgAJFGZpvIs0sh5ggT7ZM9hw=s64",
      "userId": "10567937244174773728"
     },
     "user_tz": -330
    },
    "id": "fq_VqrrpaiwJ",
    "outputId": "7608235a-f713-4a1b-ba3d-02bb4f559804"
   },
   "outputs": [
    {
     "data": {
      "text/plain": [
       "{'watching': <gensim.models.keyedvectors.Vocab at 0x7f90adc4a5f8>,\n",
       " 'time': <gensim.models.keyedvectors.Vocab at 0x7f90adc51b00>,\n",
       " 'chasers': <gensim.models.keyedvectors.Vocab at 0x7f9060a27f60>,\n",
       " 'it': <gensim.models.keyedvectors.Vocab at 0x7f9060a27fd0>,\n",
       " 'obvious': <gensim.models.keyedvectors.Vocab at 0x7f90ae2d4518>,\n",
       " 'that': <gensim.models.keyedvectors.Vocab at 0x7f9060a34080>,\n",
       " 'was': <gensim.models.keyedvectors.Vocab at 0x7f9060a340b8>,\n",
       " 'made': <gensim.models.keyedvectors.Vocab at 0x7f9060a340f0>,\n",
       " 'by': <gensim.models.keyedvectors.Vocab at 0x7f9060a34128>,\n",
       " 'a': <gensim.models.keyedvectors.Vocab at 0x7f9060a34160>,\n",
       " 'bunch': <gensim.models.keyedvectors.Vocab at 0x7f9060a34198>,\n",
       " 'of': <gensim.models.keyedvectors.Vocab at 0x7f9060a341d0>,\n",
       " 'friends': <gensim.models.keyedvectors.Vocab at 0x7f9060a34208>,\n",
       " 'maybe': <gensim.models.keyedvectors.Vocab at 0x7f9060a34240>,\n",
       " 'they': <gensim.models.keyedvectors.Vocab at 0x7f9060a34278>,\n",
       " 'were': <gensim.models.keyedvectors.Vocab at 0x7f9060a342b0>,\n",
       " 'sitting': <gensim.models.keyedvectors.Vocab at 0x7f9060a342e8>,\n",
       " 'around': <gensim.models.keyedvectors.Vocab at 0x7f9060a34320>,\n",
       " 'one': <gensim.models.keyedvectors.Vocab at 0x7f9060a34358>,\n",
       " 'day': <gensim.models.keyedvectors.Vocab at 0x7f9060a34390>,\n",
       " 'in': <gensim.models.keyedvectors.Vocab at 0x7f9060a343c8>,\n",
       " 'film': <gensim.models.keyedvectors.Vocab at 0x7f9060a34400>,\n",
       " 'school': <gensim.models.keyedvectors.Vocab at 0x7f9060a34438>,\n",
       " 'and': <gensim.models.keyedvectors.Vocab at 0x7f9060a34470>,\n",
       " 'said': <gensim.models.keyedvectors.Vocab at 0x7f9060a344a8>,\n",
       " 'hey': <gensim.models.keyedvectors.Vocab at 0x7f9060a344e0>,\n",
       " 'let': <gensim.models.keyedvectors.Vocab at 0x7f9060a34518>,\n",
       " 's': <gensim.models.keyedvectors.Vocab at 0x7f9060a34550>,\n",
       " 'pool': <gensim.models.keyedvectors.Vocab at 0x7f9060a34588>,\n",
       " 'our': <gensim.models.keyedvectors.Vocab at 0x7f9060a345c0>,\n",
       " 'money': <gensim.models.keyedvectors.Vocab at 0x7f9060a345f8>,\n",
       " 'together': <gensim.models.keyedvectors.Vocab at 0x7f9060a34630>,\n",
       " 'make': <gensim.models.keyedvectors.Vocab at 0x7f9060a34668>,\n",
       " 'really': <gensim.models.keyedvectors.Vocab at 0x7f9060a346a0>,\n",
       " 'bad': <gensim.models.keyedvectors.Vocab at 0x7f9060a346d8>,\n",
       " 'movie': <gensim.models.keyedvectors.Vocab at 0x7f9060a34710>,\n",
       " 'or': <gensim.models.keyedvectors.Vocab at 0x7f9060a34748>,\n",
       " 'something': <gensim.models.keyedvectors.Vocab at 0x7f9060a34780>,\n",
       " 'like': <gensim.models.keyedvectors.Vocab at 0x7f9060a347b8>,\n",
       " 'what': <gensim.models.keyedvectors.Vocab at 0x7f9060a347f0>,\n",
       " 'ever': <gensim.models.keyedvectors.Vocab at 0x7f9060a34828>,\n",
       " 'still': <gensim.models.keyedvectors.Vocab at 0x7f9060a34860>,\n",
       " 'ended': <gensim.models.keyedvectors.Vocab at 0x7f9060a34898>,\n",
       " 'up': <gensim.models.keyedvectors.Vocab at 0x7f9060a348d0>,\n",
       " 'making': <gensim.models.keyedvectors.Vocab at 0x7f9060a34908>,\n",
       " 'dull': <gensim.models.keyedvectors.Vocab at 0x7f9060a34940>,\n",
       " 'story': <gensim.models.keyedvectors.Vocab at 0x7f9060a34978>,\n",
       " 'script': <gensim.models.keyedvectors.Vocab at 0x7f9060a349b0>,\n",
       " 'lame': <gensim.models.keyedvectors.Vocab at 0x7f9060a349e8>,\n",
       " 'acting': <gensim.models.keyedvectors.Vocab at 0x7f9060a34a20>,\n",
       " 'poor': <gensim.models.keyedvectors.Vocab at 0x7f9060a34a58>,\n",
       " 'cinematography': <gensim.models.keyedvectors.Vocab at 0x7f9060a34a90>,\n",
       " 'bottom': <gensim.models.keyedvectors.Vocab at 0x7f9060a34ac8>,\n",
       " 'the': <gensim.models.keyedvectors.Vocab at 0x7f9060a34b00>,\n",
       " 'barrel': <gensim.models.keyedvectors.Vocab at 0x7f9060a34b38>,\n",
       " 'stock': <gensim.models.keyedvectors.Vocab at 0x7f9060a34b70>,\n",
       " 'music': <gensim.models.keyedvectors.Vocab at 0x7f9060a34ba8>,\n",
       " 'etc': <gensim.models.keyedvectors.Vocab at 0x7f9060a34be0>,\n",
       " 'all': <gensim.models.keyedvectors.Vocab at 0x7f9060a34c18>,\n",
       " 'corners': <gensim.models.keyedvectors.Vocab at 0x7f9060a34c50>,\n",
       " 'cut': <gensim.models.keyedvectors.Vocab at 0x7f9060a34c88>,\n",
       " 'except': <gensim.models.keyedvectors.Vocab at 0x7f9060a34cc0>,\n",
       " 'would': <gensim.models.keyedvectors.Vocab at 0x7f9060a34cf8>,\n",
       " 'have': <gensim.models.keyedvectors.Vocab at 0x7f9060a34d30>,\n",
       " 'prevented': <gensim.models.keyedvectors.Vocab at 0x7f9060a34d68>,\n",
       " 'this': <gensim.models.keyedvectors.Vocab at 0x7f9060a34da0>,\n",
       " 'release': <gensim.models.keyedvectors.Vocab at 0x7f9060a34dd8>,\n",
       " 'life': <gensim.models.keyedvectors.Vocab at 0x7f9060a34e10>,\n",
       " 'i': <gensim.models.keyedvectors.Vocab at 0x7f9060a34e48>,\n",
       " 'saw': <gensim.models.keyedvectors.Vocab at 0x7f9060a34e80>,\n",
       " 'about': <gensim.models.keyedvectors.Vocab at 0x7f9060a34eb8>,\n",
       " 'years': <gensim.models.keyedvectors.Vocab at 0x7f9060a34ef0>,\n",
       " 'ago': <gensim.models.keyedvectors.Vocab at 0x7f9060a34f28>,\n",
       " 'remember': <gensim.models.keyedvectors.Vocab at 0x7f9060a34f60>,\n",
       " 'as': <gensim.models.keyedvectors.Vocab at 0x7f9060a34f98>,\n",
       " 'being': <gensim.models.keyedvectors.Vocab at 0x7f9060a34fd0>,\n",
       " 'particularly': <gensim.models.keyedvectors.Vocab at 0x7f90609d6048>,\n",
       " 'nasty': <gensim.models.keyedvectors.Vocab at 0x7f90609d6080>,\n",
       " 'believe': <gensim.models.keyedvectors.Vocab at 0x7f90609d60b8>,\n",
       " 'is': <gensim.models.keyedvectors.Vocab at 0x7f90609d60f0>,\n",
       " 'based': <gensim.models.keyedvectors.Vocab at 0x7f90609d6128>,\n",
       " 'on': <gensim.models.keyedvectors.Vocab at 0x7f90609d6160>,\n",
       " 'true': <gensim.models.keyedvectors.Vocab at 0x7f90609d6198>,\n",
       " 'incident': <gensim.models.keyedvectors.Vocab at 0x7f90609d61d0>,\n",
       " 'young': <gensim.models.keyedvectors.Vocab at 0x7f90609d6208>,\n",
       " 'man': <gensim.models.keyedvectors.Vocab at 0x7f90609d6240>,\n",
       " 'breaks': <gensim.models.keyedvectors.Vocab at 0x7f90609d6278>,\n",
       " 'into': <gensim.models.keyedvectors.Vocab at 0x7f90609d62b0>,\n",
       " 'nurses': <gensim.models.keyedvectors.Vocab at 0x7f90609d62e8>,\n",
       " 'home': <gensim.models.keyedvectors.Vocab at 0x7f90609d6320>,\n",
       " 'rapes': <gensim.models.keyedvectors.Vocab at 0x7f90609d6358>,\n",
       " 'tortures': <gensim.models.keyedvectors.Vocab at 0x7f90609d6390>,\n",
       " 'kills': <gensim.models.keyedvectors.Vocab at 0x7f90609d63c8>,\n",
       " 'various': <gensim.models.keyedvectors.Vocab at 0x7f90609d6400>,\n",
       " 'women': <gensim.models.keyedvectors.Vocab at 0x7f90609d6438>,\n",
       " 'br': <gensim.models.keyedvectors.Vocab at 0x7f90609d6470>,\n",
       " 'black': <gensim.models.keyedvectors.Vocab at 0x7f90609d64a8>,\n",
       " 'white': <gensim.models.keyedvectors.Vocab at 0x7f90609d64e0>,\n",
       " 'but': <gensim.models.keyedvectors.Vocab at 0x7f90609d6518>,\n",
       " 'saves': <gensim.models.keyedvectors.Vocab at 0x7f90609d6550>,\n",
       " 'colour': <gensim.models.keyedvectors.Vocab at 0x7f90609d6588>,\n",
       " 'for': <gensim.models.keyedvectors.Vocab at 0x7f90609d65c0>,\n",
       " 'shocking': <gensim.models.keyedvectors.Vocab at 0x7f90609d65f8>,\n",
       " 'shot': <gensim.models.keyedvectors.Vocab at 0x7f90609d6630>,\n",
       " 'at': <gensim.models.keyedvectors.Vocab at 0x7f90609d6668>,\n",
       " 'end': <gensim.models.keyedvectors.Vocab at 0x7f90609d66a0>,\n",
       " 'seems': <gensim.models.keyedvectors.Vocab at 0x7f90609d66d8>,\n",
       " 'to': <gensim.models.keyedvectors.Vocab at 0x7f90609d6710>,\n",
       " 'be': <gensim.models.keyedvectors.Vocab at 0x7f90609d6748>,\n",
       " 'trying': <gensim.models.keyedvectors.Vocab at 0x7f90609d6780>,\n",
       " 'some': <gensim.models.keyedvectors.Vocab at 0x7f90609d67b8>,\n",
       " 'political': <gensim.models.keyedvectors.Vocab at 0x7f90609d67f0>,\n",
       " 'statement': <gensim.models.keyedvectors.Vocab at 0x7f90609d6828>,\n",
       " 'just': <gensim.models.keyedvectors.Vocab at 0x7f90609d6860>,\n",
       " 'comes': <gensim.models.keyedvectors.Vocab at 0x7f90609d6898>,\n",
       " 'across': <gensim.models.keyedvectors.Vocab at 0x7f90609d68d0>,\n",
       " 'confused': <gensim.models.keyedvectors.Vocab at 0x7f90609d6908>,\n",
       " 'obscene': <gensim.models.keyedvectors.Vocab at 0x7f90609d6940>,\n",
       " 'avoid': <gensim.models.keyedvectors.Vocab at 0x7f90609d6978>,\n",
       " 'minor': <gensim.models.keyedvectors.Vocab at 0x7f90609d69b0>,\n",
       " 'spoilers': <gensim.models.keyedvectors.Vocab at 0x7f90609d69e8>,\n",
       " 'new': <gensim.models.keyedvectors.Vocab at 0x7f90609d6a20>,\n",
       " 'york': <gensim.models.keyedvectors.Vocab at 0x7f90609d6a58>,\n",
       " 'joan': <gensim.models.keyedvectors.Vocab at 0x7f90609d6a90>,\n",
       " 'barnard': <gensim.models.keyedvectors.Vocab at 0x7f90609d6ac8>,\n",
       " 'elvire': <gensim.models.keyedvectors.Vocab at 0x7f90609d6b00>,\n",
       " 'audrey': <gensim.models.keyedvectors.Vocab at 0x7f90609d6b38>,\n",
       " 'informed': <gensim.models.keyedvectors.Vocab at 0x7f90609d6b70>,\n",
       " 'her': <gensim.models.keyedvectors.Vocab at 0x7f90609d6ba8>,\n",
       " 'husband': <gensim.models.keyedvectors.Vocab at 0x7f90609d6be0>,\n",
       " 'arthur': <gensim.models.keyedvectors.Vocab at 0x7f90609d6c18>,\n",
       " 'john': <gensim.models.keyedvectors.Vocab at 0x7f90609d6c50>,\n",
       " 'saxon': <gensim.models.keyedvectors.Vocab at 0x7f90609d6c88>,\n",
       " 'mysteriously': <gensim.models.keyedvectors.Vocab at 0x7f90609d6cc0>,\n",
       " 'murdered': <gensim.models.keyedvectors.Vocab at 0x7f90609d6cf8>,\n",
       " 'italy': <gensim.models.keyedvectors.Vocab at 0x7f90609d6d30>,\n",
       " 'while': <gensim.models.keyedvectors.Vocab at 0x7f90609d6d68>,\n",
       " 'searching': <gensim.models.keyedvectors.Vocab at 0x7f90609d6da0>,\n",
       " 'an': <gensim.models.keyedvectors.Vocab at 0x7f90609d6dd8>,\n",
       " 'etruscan': <gensim.models.keyedvectors.Vocab at 0x7f90609d6e10>,\n",
       " 'tomb': <gensim.models.keyedvectors.Vocab at 0x7f90609d6e48>,\n",
       " 'decides': <gensim.models.keyedvectors.Vocab at 0x7f90609d6e80>,\n",
       " 'travel': <gensim.models.keyedvectors.Vocab at 0x7f90609d6eb8>,\n",
       " 'company': <gensim.models.keyedvectors.Vocab at 0x7f90609d6ef0>,\n",
       " 'colleague': <gensim.models.keyedvectors.Vocab at 0x7f90609d6f28>,\n",
       " 'who': <gensim.models.keyedvectors.Vocab at 0x7f90609d6f60>,\n",
       " 'offers': <gensim.models.keyedvectors.Vocab at 0x7f90609d6f98>,\n",
       " 'his': <gensim.models.keyedvectors.Vocab at 0x7f90609d6fd0>,\n",
       " 'support': <gensim.models.keyedvectors.Vocab at 0x7f90609d9048>,\n",
       " 'once': <gensim.models.keyedvectors.Vocab at 0x7f90609d9080>,\n",
       " 'she': <gensim.models.keyedvectors.Vocab at 0x7f90609d90b8>,\n",
       " 'starts': <gensim.models.keyedvectors.Vocab at 0x7f90609d90f0>,\n",
       " 'having': <gensim.models.keyedvectors.Vocab at 0x7f90609d9128>,\n",
       " 'visions': <gensim.models.keyedvectors.Vocab at 0x7f90609d9160>,\n",
       " 'relative': <gensim.models.keyedvectors.Vocab at 0x7f90609d9198>,\n",
       " 'ancient': <gensim.models.keyedvectors.Vocab at 0x7f90609d91d0>,\n",
       " 'people': <gensim.models.keyedvectors.Vocab at 0x7f90609d9208>,\n",
       " 'maggots': <gensim.models.keyedvectors.Vocab at 0x7f90609d9240>,\n",
       " 'many': <gensim.models.keyedvectors.Vocab at 0x7f90609d9278>,\n",
       " 'after': <gensim.models.keyedvectors.Vocab at 0x7f90609d92b0>,\n",
       " 'shootings': <gensim.models.keyedvectors.Vocab at 0x7f90609d92e8>,\n",
       " 'weird': <gensim.models.keyedvectors.Vocab at 0x7f90609d9320>,\n",
       " 'events': <gensim.models.keyedvectors.Vocab at 0x7f90609d9358>,\n",
       " 'realizes': <gensim.models.keyedvectors.Vocab at 0x7f90609d9390>,\n",
       " 'father': <gensim.models.keyedvectors.Vocab at 0x7f90609d93c8>,\n",
       " 'international': <gensim.models.keyedvectors.Vocab at 0x7f90609d9400>,\n",
       " 'drug': <gensim.models.keyedvectors.Vocab at 0x7f90609d9438>,\n",
       " 'dealer': <gensim.models.keyedvectors.Vocab at 0x7f90609d9470>,\n",
       " 'there': <gensim.models.keyedvectors.Vocab at 0x7f90609d94a8>,\n",
       " 'are': <gensim.models.keyedvectors.Vocab at 0x7f90609d94e0>,\n",
       " 'drugs': <gensim.models.keyedvectors.Vocab at 0x7f90609d9518>,\n",
       " 'hidden': <gensim.models.keyedvectors.Vocab at 0x7f90609d9550>,\n",
       " 'detective': <gensim.models.keyedvectors.Vocab at 0x7f90609d9588>,\n",
       " 'narcotic': <gensim.models.keyedvectors.Vocab at 0x7f90609d95c0>,\n",
       " 'department': <gensim.models.keyedvectors.Vocab at 0x7f90609d95f8>,\n",
       " 'ends': <gensim.models.keyedvectors.Vocab at 0x7f90609d9630>,\n",
       " 'back': <gensim.models.keyedvectors.Vocab at 0x7f90609d9668>,\n",
       " 'when': <gensim.models.keyedvectors.Vocab at 0x7f90609d96a0>,\n",
       " 'decide': <gensim.models.keyedvectors.Vocab at 0x7f90609d96d8>,\n",
       " 'get': <gensim.models.keyedvectors.Vocab at 0x7f90609d9710>,\n",
       " 'married': <gensim.models.keyedvectors.Vocab at 0x7f90609d9748>,\n",
       " 'with': <gensim.models.keyedvectors.Vocab at 0x7f90609d9780>,\n",
       " 'each': <gensim.models.keyedvectors.Vocab at 0x7f90609d97b8>,\n",
       " 'other': <gensim.models.keyedvectors.Vocab at 0x7f90609d97f0>,\n",
       " 'very': <gensim.models.keyedvectors.Vocab at 0x7f90609d9828>,\n",
       " 'romantic': <gensim.models.keyedvectors.Vocab at 0x7f90609d9860>,\n",
       " 'yesterday': <gensim.models.keyedvectors.Vocab at 0x7f90609d9898>,\n",
       " 'had': <gensim.models.keyedvectors.Vocab at 0x7f90609d98d0>,\n",
       " 'displeasure': <gensim.models.keyedvectors.Vocab at 0x7f90609d9908>,\n",
       " 'wasting': <gensim.models.keyedvectors.Vocab at 0x7f90609d9940>,\n",
       " 'my': <gensim.models.keyedvectors.Vocab at 0x7f90609d9978>,\n",
       " 'crap': <gensim.models.keyedvectors.Vocab at 0x7f90609d99b0>,\n",
       " 'so': <gensim.models.keyedvectors.Vocab at 0x7f90609d99e8>,\n",
       " 'absurd': <gensim.models.keyedvectors.Vocab at 0x7f90609d9a20>,\n",
       " 'mixing': <gensim.models.keyedvectors.Vocab at 0x7f90609d9a58>,\n",
       " 'thriller': <gensim.models.keyedvectors.Vocab at 0x7f90609d9a90>,\n",
       " 'crime': <gensim.models.keyedvectors.Vocab at 0x7f90609d9ac8>,\n",
       " 'supernatural': <gensim.models.keyedvectors.Vocab at 0x7f90609d9b00>,\n",
       " 'horror': <gensim.models.keyedvectors.Vocab at 0x7f90609d9b38>,\n",
       " 'even': <gensim.models.keyedvectors.Vocab at 0x7f90609d9b70>,\n",
       " 'non': <gensim.models.keyedvectors.Vocab at 0x7f90609d9ba8>,\n",
       " 'sense': <gensim.models.keyedvectors.Vocab at 0x7f90609d9be0>,\n",
       " 'way': <gensim.models.keyedvectors.Vocab at 0x7f90609d9c18>,\n",
       " 'worst': <gensim.models.keyedvectors.Vocab at 0x7f90609d9c50>,\n",
       " 'possible': <gensim.models.keyedvectors.Vocab at 0x7f90609d9c88>,\n",
       " 'highlighting': <gensim.models.keyedvectors.Vocab at 0x7f90609d9cc0>,\n",
       " 'horrible': <gensim.models.keyedvectors.Vocab at 0x7f90609d9cf8>,\n",
       " 'performance': <gensim.models.keyedvectors.Vocab at 0x7f90609d9d30>,\n",
       " 'beautiful': <gensim.models.keyedvectors.Vocab at 0x7f90609d9d68>,\n",
       " 'gives': <gensim.models.keyedvectors.Vocab at 0x7f90609d9da0>,\n",
       " 'name': <gensim.models.keyedvectors.Vocab at 0x7f90609d9dd8>,\n",
       " 'credits': <gensim.models.keyedvectors.Vocab at 0x7f90609d9e10>,\n",
       " 'works': <gensim.models.keyedvectors.Vocab at 0x7f90609d9e48>,\n",
       " 'less': <gensim.models.keyedvectors.Vocab at 0x7f90609d9e80>,\n",
       " 'than': <gensim.models.keyedvectors.Vocab at 0x7f90609d9eb8>,\n",
       " 'five': <gensim.models.keyedvectors.Vocab at 0x7f90609d9ef0>,\n",
       " 'minutes': <gensim.models.keyedvectors.Vocab at 0x7f90609d9f28>,\n",
       " 'character': <gensim.models.keyedvectors.Vocab at 0x7f90609d9f60>,\n",
       " 'killed': <gensim.models.keyedvectors.Vocab at 0x7f90609d9f98>,\n",
       " 'special': <gensim.models.keyedvectors.Vocab at 0x7f90609d9fd0>,\n",
       " 'effects': <gensim.models.keyedvectors.Vocab at 0x7f90609dc048>,\n",
       " 'limited': <gensim.models.keyedvectors.Vocab at 0x7f90609dc080>,\n",
       " 'everywhere': <gensim.models.keyedvectors.Vocab at 0x7f90609dc0b8>,\n",
       " 'direction': <gensim.models.keyedvectors.Vocab at 0x7f90609dc0f0>,\n",
       " 'ridiculous': <gensim.models.keyedvectors.Vocab at 0x7f90609dc128>,\n",
       " 'lost': <gensim.models.keyedvectors.Vocab at 0x7f90609dc160>,\n",
       " 'couple': <gensim.models.keyedvectors.Vocab at 0x7f90609dc198>,\n",
       " 'hours': <gensim.models.keyedvectors.Vocab at 0x7f90609dc1d0>,\n",
       " 'al': <gensim.models.keyedvectors.Vocab at 0x7f90609dc208>,\n",
       " 'if': <gensim.models.keyedvectors.Vocab at 0x7f90609dc240>,\n",
       " 'you': <gensim.models.keyedvectors.Vocab at 0x7f90609dc278>,\n",
       " 'desire': <gensim.models.keyedvectors.Vocab at 0x7f90609dc2b0>,\n",
       " 'curiosity': <gensim.models.keyedvectors.Vocab at 0x7f90609dc2e8>,\n",
       " 'seeing': <gensim.models.keyedvectors.Vocab at 0x7f90609dc320>,\n",
       " 'trash': <gensim.models.keyedvectors.Vocab at 0x7f90609dc358>,\n",
       " 'choose': <gensim.models.keyedvectors.Vocab at 0x7f90609dc390>,\n",
       " 'another': <gensim.models.keyedvectors.Vocab at 0x7f90609dc3c8>,\n",
       " 'go': <gensim.models.keyedvectors.Vocab at 0x7f90609dc400>,\n",
       " 'watch': <gensim.models.keyedvectors.Vocab at 0x7f90609dc438>,\n",
       " 'tv': <gensim.models.keyedvectors.Vocab at 0x7f90609dc470>,\n",
       " 'sleep': <gensim.models.keyedvectors.Vocab at 0x7f90609dc4a8>,\n",
       " 'navigate': <gensim.models.keyedvectors.Vocab at 0x7f90609dc4e0>,\n",
       " 'internet': <gensim.models.keyedvectors.Vocab at 0x7f90609dc518>,\n",
       " 'gym': <gensim.models.keyedvectors.Vocab at 0x7f90609dc550>,\n",
       " 'do': <gensim.models.keyedvectors.Vocab at 0x7f90609dc588>,\n",
       " 'not': <gensim.models.keyedvectors.Vocab at 0x7f90609dc5c0>,\n",
       " 'waste': <gensim.models.keyedvectors.Vocab at 0x7f90609dc5f8>,\n",
       " 'your': <gensim.models.keyedvectors.Vocab at 0x7f90609dc630>,\n",
       " 'did': <gensim.models.keyedvectors.Vocab at 0x7f90609dc668>,\n",
       " 'vote': <gensim.models.keyedvectors.Vocab at 0x7f90609dc6a0>,\n",
       " 'two': <gensim.models.keyedvectors.Vocab at 0x7f90609dc6d8>,\n",
       " 'title': <gensim.models.keyedvectors.Vocab at 0x7f90609dc710>,\n",
       " 'brazil': <gensim.models.keyedvectors.Vocab at 0x7f90609dc748>,\n",
       " 'o': <gensim.models.keyedvectors.Vocab at 0x7f90609dc780>,\n",
       " 'mist': <gensim.models.keyedvectors.Vocab at 0x7f90609dc7b8>,\n",
       " 'rio': <gensim.models.keyedvectors.Vocab at 0x7f90609dc7f0>,\n",
       " 'mystery': <gensim.models.keyedvectors.Vocab at 0x7f90609dc828>,\n",
       " 'went': <gensim.models.keyedvectors.Vocab at 0x7f90609dc860>,\n",
       " 'see': <gensim.models.keyedvectors.Vocab at 0x7f90609dc898>,\n",
       " 'great': <gensim.models.keyedvectors.Vocab at 0x7f90609dc8d0>,\n",
       " 'deal': <gensim.models.keyedvectors.Vocab at 0x7f90609dc908>,\n",
       " 'excitement': <gensim.models.keyedvectors.Vocab at 0x7f90609dc940>,\n",
       " 'director': <gensim.models.keyedvectors.Vocab at 0x7f90609dc978>,\n",
       " 'he': <gensim.models.keyedvectors.Vocab at 0x7f90609dc9b0>,\n",
       " 'good': <gensim.models.keyedvectors.Vocab at 0x7f90609dc9e8>,\n",
       " 'friend': <gensim.models.keyedvectors.Vocab at 0x7f90609dca20>,\n",
       " 'mine': <gensim.models.keyedvectors.Vocab at 0x7f90609dca58>,\n",
       " 'sorry': <gensim.models.keyedvectors.Vocab at 0x7f90609dca90>,\n",
       " 'mate': <gensim.models.keyedvectors.Vocab at 0x7f90609dcac8>,\n",
       " 'stinks': <gensim.models.keyedvectors.Vocab at 0x7f90609dcb00>,\n",
       " 'can': <gensim.models.keyedvectors.Vocab at 0x7f90609dcb38>,\n",
       " 'only': <gensim.models.keyedvectors.Vocab at 0x7f90609dcb70>,\n",
       " 'talk': <gensim.models.keyedvectors.Vocab at 0x7f90609dcba8>,\n",
       " 'wrong': <gensim.models.keyedvectors.Vocab at 0x7f90609dcbe0>,\n",
       " 'first': <gensim.models.keyedvectors.Vocab at 0x7f90609dcc18>,\n",
       " 'half': <gensim.models.keyedvectors.Vocab at 0x7f90609dcc50>,\n",
       " 'because': <gensim.models.keyedvectors.Vocab at 0x7f90609dcc88>,\n",
       " 'walked': <gensim.models.keyedvectors.Vocab at 0x7f90609dccc0>,\n",
       " 'out': <gensim.models.keyedvectors.Vocab at 0x7f90609dccf8>,\n",
       " 'pub': <gensim.models.keyedvectors.Vocab at 0x7f90609dcd30>,\n",
       " 'much': <gensim.models.keyedvectors.Vocab at 0x7f90609dcd68>,\n",
       " 'needed': <gensim.models.keyedvectors.Vocab at 0x7f90609dcda0>,\n",
       " 'drink': <gensim.models.keyedvectors.Vocab at 0x7f90609dcdd8>,\n",
       " 'someone': <gensim.models.keyedvectors.Vocab at 0x7f90609dce10>,\n",
       " 'standing': <gensim.models.keyedvectors.Vocab at 0x7f90609dce48>,\n",
       " 'balcony': <gensim.models.keyedvectors.Vocab at 0x7f90609dce80>,\n",
       " 'jump': <gensim.models.keyedvectors.Vocab at 0x7f90609dceb8>,\n",
       " 'send': <gensim.models.keyedvectors.Vocab at 0x7f90609dcef0>,\n",
       " 'helicopter': <gensim.models.keyedvectors.Vocab at 0x7f90609dcf28>,\n",
       " 'shine': <gensim.models.keyedvectors.Vocab at 0x7f90609dcf60>,\n",
       " 'them': <gensim.models.keyedvectors.Vocab at 0x7f90609dcf98>,\n",
       " 'don': <gensim.models.keyedvectors.Vocab at 0x7f90609dcfd0>,\n",
       " 't': <gensim.models.keyedvectors.Vocab at 0x7f90609df048>,\n",
       " 'think': <gensim.models.keyedvectors.Vocab at 0x7f90609df080>,\n",
       " 'nothing': <gensim.models.keyedvectors.Vocab at 0x7f90609df0b8>,\n",
       " 'more': <gensim.models.keyedvectors.Vocab at 0x7f90609df0f0>,\n",
       " 'likely': <gensim.models.keyedvectors.Vocab at 0x7f90609df128>,\n",
       " 'local': <gensim.models.keyedvectors.Vocab at 0x7f90609df160>,\n",
       " 'radio': <gensim.models.keyedvectors.Vocab at 0x7f90609df198>,\n",
       " 'doesn': <gensim.models.keyedvectors.Vocab at 0x7f90609df1d0>,\n",
       " 'reporters': <gensim.models.keyedvectors.Vocab at 0x7f90609df208>,\n",
       " 'cover': <gensim.models.keyedvectors.Vocab at 0x7f90609df240>,\n",
       " 'attempt': <gensim.models.keyedvectors.Vocab at 0x7f90609df278>,\n",
       " 'suicide': <gensim.models.keyedvectors.Vocab at 0x7f90609df2b0>,\n",
       " 'again': <gensim.models.keyedvectors.Vocab at 0x7f90609df2e8>,\n",
       " 'fear': <gensim.models.keyedvectors.Vocab at 0x7f90609df320>,\n",
       " 'jumping': <gensim.models.keyedvectors.Vocab at 0x7f90609df358>,\n",
       " 'encouraging': <gensim.models.keyedvectors.Vocab at 0x7f90609df390>,\n",
       " 'copy': <gensim.models.keyedvectors.Vocab at 0x7f90609df3c8>,\n",
       " 'cat': <gensim.models.keyedvectors.Vocab at 0x7f90609df400>,\n",
       " 'instances': <gensim.models.keyedvectors.Vocab at 0x7f90609df438>,\n",
       " 'whatever': <gensim.models.keyedvectors.Vocab at 0x7f90609df470>,\n",
       " 'circumstances': <gensim.models.keyedvectors.Vocab at 0x7f90609df4a8>,\n",
       " 'live': <gensim.models.keyedvectors.Vocab at 0x7f90609df4e0>,\n",
       " 'broadcasts': <gensim.models.keyedvectors.Vocab at 0x7f90609df518>,\n",
       " 'from': <gensim.models.keyedvectors.Vocab at 0x7f90609df550>,\n",
       " 'th': <gensim.models.keyedvectors.Vocab at 0x7f90609df588>,\n",
       " 'floor': <gensim.models.keyedvectors.Vocab at 0x7f90609df5c0>,\n",
       " 'tower': <gensim.models.keyedvectors.Vocab at 0x7f90609df5f8>,\n",
       " 'block': <gensim.models.keyedvectors.Vocab at 0x7f90609df630>,\n",
       " 'cars': <gensim.models.keyedvectors.Vocab at 0x7f90609df668>,\n",
       " 'carry': <gensim.models.keyedvectors.Vocab at 0x7f90609df6a0>,\n",
       " 'leads': <gensim.models.keyedvectors.Vocab at 0x7f90609df6d8>,\n",
       " 'long': <gensim.models.keyedvectors.Vocab at 0x7f90609df710>,\n",
       " 'enough': <gensim.models.keyedvectors.Vocab at 0x7f90609df748>,\n",
       " 'connect': <gensim.models.keyedvectors.Vocab at 0x7f90609df780>,\n",
       " 'microphone': <gensim.models.keyedvectors.Vocab at 0x7f90609df7b8>,\n",
       " 'headphones': <gensim.models.keyedvectors.Vocab at 0x7f90609df7f0>,\n",
       " 'transmitter': <gensim.models.keyedvectors.Vocab at 0x7f90609df828>,\n",
       " 'stuck': <gensim.models.keyedvectors.Vocab at 0x7f90609df860>,\n",
       " 'lift': <gensim.models.keyedvectors.Vocab at 0x7f90609df898>,\n",
       " 'scene': <gensim.models.keyedvectors.Vocab at 0x7f90609df8d0>,\n",
       " 'utterly': <gensim.models.keyedvectors.Vocab at 0x7f90609df908>,\n",
       " 'derivative': <gensim.models.keyedvectors.Vocab at 0x7f90609df940>,\n",
       " 'almost': <gensim.models.keyedvectors.Vocab at 0x7f90609df978>,\n",
       " 'existent': <gensim.models.keyedvectors.Vocab at 0x7f90609df9b0>,\n",
       " 'could': <gensim.models.keyedvectors.Vocab at 0x7f90609df9e8>,\n",
       " 'won': <gensim.models.keyedvectors.Vocab at 0x7f90609dfa20>,\n",
       " 'yes': <gensim.models.keyedvectors.Vocab at 0x7f90609dfa58>,\n",
       " 'agree': <gensim.models.keyedvectors.Vocab at 0x7f90609dfa90>,\n",
       " 'everyone': <gensim.models.keyedvectors.Vocab at 0x7f90609dfac8>,\n",
       " 'site': <gensim.models.keyedvectors.Vocab at 0x7f90609dfb00>,\n",
       " 'call': <gensim.models.keyedvectors.Vocab at 0x7f90609dfb38>,\n",
       " 'insult': <gensim.models.keyedvectors.Vocab at 0x7f90609dfb70>,\n",
       " 'movies': <gensim.models.keyedvectors.Vocab at 0x7f90609dfba8>,\n",
       " 'compares': <gensim.models.keyedvectors.Vocab at 0x7f90609dfbe0>,\n",
       " 'b': <gensim.models.keyedvectors.Vocab at 0x7f90609dfc18>,\n",
       " 'n': <gensim.models.keyedvectors.Vocab at 0x7f90609dfc50>,\n",
       " 'g': <gensim.models.keyedvectors.Vocab at 0x7f90609dfc88>,\n",
       " 'describes': <gensim.models.keyedvectors.Vocab at 0x7f90609dfcc0>,\n",
       " 'perfectly': <gensim.models.keyedvectors.Vocab at 0x7f90609dfcf8>,\n",
       " 'packaging': <gensim.models.keyedvectors.Vocab at 0x7f90609dfd30>,\n",
       " 'intentionally': <gensim.models.keyedvectors.Vocab at 0x7f90609dfd68>,\n",
       " 'misleading': <gensim.models.keyedvectors.Vocab at 0x7f90609dfda0>,\n",
       " 'example': <gensim.models.keyedvectors.Vocab at 0x7f90609dfdd8>,\n",
       " 'should': <gensim.models.keyedvectors.Vocab at 0x7f90609dfe10>,\n",
       " 'describe': <gensim.models.keyedvectors.Vocab at 0x7f90609dfe48>,\n",
       " 'hint': <gensim.models.keyedvectors.Vocab at 0x7f90609dfe80>,\n",
       " 'retitled': <gensim.models.keyedvectors.Vocab at 0x7f90609dfeb8>,\n",
       " 'package': <gensim.models.keyedvectors.Vocab at 0x7f90609dfef0>,\n",
       " 'goofy': <gensim.models.keyedvectors.Vocab at 0x7f90609dff28>,\n",
       " 'face': <gensim.models.keyedvectors.Vocab at 0x7f90609dff60>,\n",
       " 'jim': <gensim.models.keyedvectors.Vocab at 0x7f90609dff98>,\n",
       " 'probably': <gensim.models.keyedvectors.Vocab at 0x7f90609dffd0>,\n",
       " 'stand': <gensim.models.keyedvectors.Vocab at 0x7f90609e3048>,\n",
       " 'days': <gensim.models.keyedvectors.Vocab at 0x7f90609e3080>,\n",
       " 'hoping': <gensim.models.keyedvectors.Vocab at 0x7f90609e30b8>,\n",
       " 'now': <gensim.models.keyedvectors.Vocab at 0x7f90609e30f0>,\n",
       " 'actor': <gensim.models.keyedvectors.Vocab at 0x7f90609e3128>,\n",
       " 'love': <gensim.models.keyedvectors.Vocab at 0x7f90609e3160>,\n",
       " 'him': <gensim.models.keyedvectors.Vocab at 0x7f90609e3198>,\n",
       " 'locate': <gensim.models.keyedvectors.Vocab at 0x7f90609e31d0>,\n",
       " 'rodney': <gensim.models.keyedvectors.Vocab at 0x7f90609e3208>,\n",
       " 'dangerfield': <gensim.models.keyedvectors.Vocab at 0x7f90609e3240>,\n",
       " 'comedians': <gensim.models.keyedvectors.Vocab at 0x7f90609e3278>,\n",
       " 'hbo': <gensim.models.keyedvectors.Vocab at 0x7f90609e32b0>,\n",
       " 'featured': <gensim.models.keyedvectors.Vocab at 0x7f90609e32e8>,\n",
       " 'early': <gensim.models.keyedvectors.Vocab at 0x7f90609e3320>,\n",
       " 'career': <gensim.models.keyedvectors.Vocab at 0x7f90609e3358>,\n",
       " 'isn': <gensim.models.keyedvectors.Vocab at 0x7f90609e3390>,\n",
       " 'mentioned': <gensim.models.keyedvectors.Vocab at 0x7f90609e33c8>,\n",
       " 'd': <gensim.models.keyedvectors.Vocab at 0x7f90609e3400>,\n",
       " 'find': <gensim.models.keyedvectors.Vocab at 0x7f90609e3438>,\n",
       " 'anything': <gensim.models.keyedvectors.Vocab at 0x7f90609e3470>,\n",
       " 'wise': <gensim.models.keyedvectors.Vocab at 0x7f90609e34a8>,\n",
       " 'also': <gensim.models.keyedvectors.Vocab at 0x7f90609e34e0>,\n",
       " 'carrey': <gensim.models.keyedvectors.Vocab at 0x7f90609e3518>,\n",
       " 'supporting': <gensim.models.keyedvectors.Vocab at 0x7f90609e3550>,\n",
       " 'main': <gensim.models.keyedvectors.Vocab at 0x7f90609e3588>,\n",
       " 'annoying': <gensim.models.keyedvectors.Vocab at 0x7f90609e35c0>,\n",
       " 'girl': <gensim.models.keyedvectors.Vocab at 0x7f90609e35f8>,\n",
       " 'lacking': <gensim.models.keyedvectors.Vocab at 0x7f90609e3630>,\n",
       " 'self': <gensim.models.keyedvectors.Vocab at 0x7f90609e3668>,\n",
       " 'confidence': <gensim.models.keyedvectors.Vocab at 0x7f90609e36a0>,\n",
       " 'yet': <gensim.models.keyedvectors.Vocab at 0x7f90609e36d8>,\n",
       " 'wants': <gensim.models.keyedvectors.Vocab at 0x7f90609e3710>,\n",
       " 'comedian': <gensim.models.keyedvectors.Vocab at 0x7f90609e3748>,\n",
       " 'say': <gensim.models.keyedvectors.Vocab at 0x7f90609e3780>,\n",
       " 'lines': <gensim.models.keyedvectors.Vocab at 0x7f90609e37b8>,\n",
       " 'funny': <gensim.models.keyedvectors.Vocab at 0x7f90609e37f0>,\n",
       " 'janet': <gensim.models.keyedvectors.Vocab at 0x7f90609e3828>,\n",
       " 'talented': <gensim.models.keyedvectors.Vocab at 0x7f90609e3860>,\n",
       " 'honestly': <gensim.models.keyedvectors.Vocab at 0x7f90609e3898>,\n",
       " 'terrible': <gensim.models.keyedvectors.Vocab at 0x7f90609e38d0>,\n",
       " 'beware': <gensim.models.keyedvectors.Vocab at 0x7f90609e3908>,\n",
       " 'false': <gensim.models.keyedvectors.Vocab at 0x7f90609e3940>,\n",
       " 'advertising': <gensim.models.keyedvectors.Vocab at 0x7f90609e3978>,\n",
       " 'jennifer': <gensim.models.keyedvectors.Vocab at 0x7f90609e39b0>,\n",
       " 'ehle': <gensim.models.keyedvectors.Vocab at 0x7f90609e39e8>,\n",
       " 'sparkling': <gensim.models.keyedvectors.Vocab at 0x7f90609e3a20>,\n",
       " 'pride': <gensim.models.keyedvectors.Vocab at 0x7f90609e3a58>,\n",
       " 'prejudice': <gensim.models.keyedvectors.Vocab at 0x7f90609e3a90>,\n",
       " 'jeremy': <gensim.models.keyedvectors.Vocab at 0x7f90609e3ac8>,\n",
       " 'northam': <gensim.models.keyedvectors.Vocab at 0x7f90609e3b00>,\n",
       " 'simply': <gensim.models.keyedvectors.Vocab at 0x7f90609e3b38>,\n",
       " 'wonderful': <gensim.models.keyedvectors.Vocab at 0x7f90609e3b70>,\n",
       " 'boy': <gensim.models.keyedvectors.Vocab at 0x7f90609e3ba8>,\n",
       " 'actors': <gensim.models.keyedvectors.Vocab at 0x7f90609e3be0>,\n",
       " 'caliber': <gensim.models.keyedvectors.Vocab at 0x7f90609e3c18>,\n",
       " 'lot': <gensim.models.keyedvectors.Vocab at 0x7f90609e3c50>,\n",
       " 'going': <gensim.models.keyedvectors.Vocab at 0x7f90609e3c88>,\n",
       " 'those': <gensim.models.keyedvectors.Vocab at 0x7f90609e3cc0>,\n",
       " 'critical': <gensim.models.keyedvectors.Vocab at 0x7f90609e3cf8>,\n",
       " 'spoke': <gensim.models.keyedvectors.Vocab at 0x7f90609e3d30>,\n",
       " 'sequences': <gensim.models.keyedvectors.Vocab at 0x7f90609e3d68>,\n",
       " 'involving': <gensim.models.keyedvectors.Vocab at 0x7f90609e3da0>,\n",
       " 'these': <gensim.models.keyedvectors.Vocab at 0x7f90609e3dd8>,\n",
       " 'eager': <gensim.models.keyedvectors.Vocab at 0x7f90609e3e10>,\n",
       " 'bitter': <gensim.models.keyedvectors.Vocab at 0x7f90609e3e48>,\n",
       " 'disappointment': <gensim.models.keyedvectors.Vocab at 0x7f90609e3e80>,\n",
       " 'however': <gensim.models.keyedvectors.Vocab at 0x7f90609e3eb8>,\n",
       " 'must': <gensim.models.keyedvectors.Vocab at 0x7f90609e3ef0>,\n",
       " 'report': <gensim.models.keyedvectors.Vocab at 0x7f90609e3f28>,\n",
       " 'flick': <gensim.models.keyedvectors.Vocab at 0x7f90609e3f60>,\n",
       " 'piece': <gensim.models.keyedvectors.Vocab at 0x7f90609e3f98>,\n",
       " 'scenes': <gensim.models.keyedvectors.Vocab at 0x7f90609e3fd0>,\n",
       " 'between': <gensim.models.keyedvectors.Vocab at 0x7f90609e5048>,\n",
       " 'no': <gensim.models.keyedvectors.Vocab at 0x7f90609e5080>,\n",
       " 'depth': <gensim.models.keyedvectors.Vocab at 0x7f90609e50b8>,\n",
       " 'tenderness': <gensim.models.keyedvectors.Vocab at 0x7f90609e50f0>,\n",
       " 'real': <gensim.models.keyedvectors.Vocab at 0x7f90609e5128>,\n",
       " 'passion': <gensim.models.keyedvectors.Vocab at 0x7f90609e5160>,\n",
       " 'consisted': <gensim.models.keyedvectors.Vocab at 0x7f90609e5198>,\n",
       " 'hackneyed': <gensim.models.keyedvectors.Vocab at 0x7f90609e51d0>,\n",
       " 'unsubtle': <gensim.models.keyedvectors.Vocab at 0x7f90609e5208>,\n",
       " 'latter': <gensim.models.keyedvectors.Vocab at 0x7f90609e5240>,\n",
       " 'cinematic': <gensim.models.keyedvectors.Vocab at 0x7f90609e5278>,\n",
       " 'lust': <gensim.models.keyedvectors.Vocab at 0x7f90609e52b0>,\n",
       " 'voracious': <gensim.models.keyedvectors.Vocab at 0x7f90609e52e8>,\n",
       " 'open': <gensim.models.keyedvectors.Vocab at 0x7f90609e5320>,\n",
       " 'mouthed': <gensim.models.keyedvectors.Vocab at 0x7f90609e5358>,\n",
       " 'kissing': <gensim.models.keyedvectors.Vocab at 0x7f90609e5390>,\n",
       " 'soft': <gensim.models.keyedvectors.Vocab at 0x7f90609e53c8>,\n",
       " 'porn': <gensim.models.keyedvectors.Vocab at 0x7f90609e5400>,\n",
       " 'humping': <gensim.models.keyedvectors.Vocab at 0x7f90609e5438>,\n",
       " 'entertaining': <gensim.models.keyedvectors.Vocab at 0x7f90609e5470>,\n",
       " 'done': <gensim.models.keyedvectors.Vocab at 0x7f90609e54a8>,\n",
       " 'originality': <gensim.models.keyedvectors.Vocab at 0x7f90609e54e0>,\n",
       " 'tasteless': <gensim.models.keyedvectors.Vocab at 0x7f90609e5518>,\n",
       " 'awful': <gensim.models.keyedvectors.Vocab at 0x7f90609e5550>,\n",
       " 'their': <gensim.models.keyedvectors.Vocab at 0x7f90609e5588>,\n",
       " 'craft': <gensim.models.keyedvectors.Vocab at 0x7f90609e55c0>,\n",
       " 'ashamed': <gensim.models.keyedvectors.Vocab at 0x7f90609e55f8>,\n",
       " 'modern': <gensim.models.keyedvectors.Vocab at 0x7f90609e5630>,\n",
       " 'part': <gensim.models.keyedvectors.Vocab at 0x7f90609e5668>,\n",
       " 'romance': <gensim.models.keyedvectors.Vocab at 0x7f90609e56a0>,\n",
       " 'effeminate': <gensim.models.keyedvectors.Vocab at 0x7f90609e56d8>,\n",
       " 'appearance': <gensim.models.keyedvectors.Vocab at 0x7f90609e5710>,\n",
       " 'male': <gensim.models.keyedvectors.Vocab at 0x7f90609e5748>,\n",
       " 'lead': <gensim.models.keyedvectors.Vocab at 0x7f90609e5780>,\n",
       " 'aren': <gensim.models.keyedvectors.Vocab at 0x7f90609e57b8>,\n",
       " 'any': <gensim.models.keyedvectors.Vocab at 0x7f90609e57f0>,\n",
       " 'masculine': <gensim.models.keyedvectors.Vocab at 0x7f90609e5828>,\n",
       " 'men': <gensim.models.keyedvectors.Vocab at 0x7f90609e5860>,\n",
       " 'left': <gensim.models.keyedvectors.Vocab at 0x7f90609e5898>,\n",
       " 'hollywood': <gensim.models.keyedvectors.Vocab at 0x7f90609e58d0>,\n",
       " 'plot': <gensim.models.keyedvectors.Vocab at 0x7f90609e5908>,\n",
       " 'kind': <gensim.models.keyedvectors.Vocab at 0x7f90609e5940>,\n",
       " 'interesting': <gensim.models.keyedvectors.Vocab at 0x7f90609e5978>,\n",
       " 'better': <gensim.models.keyedvectors.Vocab at 0x7f90609e59b0>,\n",
       " 'imaginative': <gensim.models.keyedvectors.Vocab at 0x7f90609e59e8>,\n",
       " 'might': <gensim.models.keyedvectors.Vocab at 0x7f90609e5a20>,\n",
       " 'worked': <gensim.models.keyedvectors.Vocab at 0x7f90609e5a58>,\n",
       " 'amy': <gensim.models.keyedvectors.Vocab at 0x7f90609e5a90>,\n",
       " 'terrific': <gensim.models.keyedvectors.Vocab at 0x7f90609e5ac8>,\n",
       " 'saturday': <gensim.models.keyedvectors.Vocab at 0x7f90609e5b00>,\n",
       " 'night': <gensim.models.keyedvectors.Vocab at 0x7f90609e5b38>,\n",
       " 'role': <gensim.models.keyedvectors.Vocab at 0x7f90609e5b70>,\n",
       " 'give': <gensim.models.keyedvectors.Vocab at 0x7f90609e5ba8>,\n",
       " 'work': <gensim.models.keyedvectors.Vocab at 0x7f90609e5be0>,\n",
       " 'publisher': <gensim.models.keyedvectors.Vocab at 0x7f90609e5c18>,\n",
       " 'representative': <gensim.models.keyedvectors.Vocab at 0x7f90609e5c50>,\n",
       " 'guiding': <gensim.models.keyedvectors.Vocab at 0x7f90609e5c88>,\n",
       " 'author': <gensim.models.keyedvectors.Vocab at 0x7f90609e5cc0>,\n",
       " 'book': <gensim.models.keyedvectors.Vocab at 0x7f90609e5cf8>,\n",
       " 'tour': <gensim.models.keyedvectors.Vocab at 0x7f90609e5d30>,\n",
       " 'mean': <gensim.models.keyedvectors.Vocab at 0x7f90609e5d68>,\n",
       " 'susan': <gensim.models.keyedvectors.Vocab at 0x7f90609e5da0>,\n",
       " 'sarandon': <gensim.models.keyedvectors.Vocab at 0x7f90609e5dd8>,\n",
       " 'plays': <gensim.models.keyedvectors.Vocab at 0x7f90609e5e10>,\n",
       " 'mother': <gensim.models.keyedvectors.Vocab at 0x7f90609e5e48>,\n",
       " 'involved': <gensim.models.keyedvectors.Vocab at 0x7f90609e5e80>,\n",
       " 'sadistic': <gensim.models.keyedvectors.Vocab at 0x7f90609e5eb8>,\n",
       " 'teacher': <gensim.models.keyedvectors.Vocab at 0x7f90609e5ef0>,\n",
       " 'billy': <gensim.models.keyedvectors.Vocab at 0x7f90609e5f28>,\n",
       " 'bob': <gensim.models.keyedvectors.Vocab at 0x7f90609e5f60>,\n",
       " 'thorton': <gensim.models.keyedvectors.Vocab at 0x7f90609e5f98>,\n",
       " 'chubby': <gensim.models.keyedvectors.Vocab at 0x7f90609e5fd0>,\n",
       " 'junior': <gensim.models.keyedvectors.Vocab at 0x7f90609ea048>,\n",
       " 'high': <gensim.models.keyedvectors.Vocab at 0x7f90609ea080>,\n",
       " 'student': <gensim.models.keyedvectors.Vocab at 0x7f90609ea0b8>,\n",
       " 'unfortunately': <gensim.models.keyedvectors.Vocab at 0x7f90609ea0f0>,\n",
       " 'require': <gensim.models.keyedvectors.Vocab at 0x7f90609ea128>,\n",
       " 'actress': <gensim.models.keyedvectors.Vocab at 0x7f90609ea160>,\n",
       " 'funniest': <gensim.models.keyedvectors.Vocab at 0x7f90609ea198>,\n",
       " 'thing': <gensim.models.keyedvectors.Vocab at 0x7f90609ea1d0>,\n",
       " 'looks': <gensim.models.keyedvectors.Vocab at 0x7f90609ea208>,\n",
       " 'gown': <gensim.models.keyedvectors.Vocab at 0x7f90609ea240>,\n",
       " 'wears': <gensim.models.keyedvectors.Vocab at 0x7f90609ea278>,\n",
       " 'queen': <gensim.models.keyedvectors.Vocab at 0x7f90609ea2b0>,\n",
       " 'corn': <gensim.models.keyedvectors.Vocab at 0x7f90609ea2e8>,\n",
       " 'festival': <gensim.models.keyedvectors.Vocab at 0x7f90609ea320>,\n",
       " 'explanation': <gensim.models.keyedvectors.Vocab at 0x7f90609ea358>,\n",
       " 'why': <gensim.models.keyedvectors.Vocab at 0x7f90609ea390>,\n",
       " 'old': <gensim.models.keyedvectors.Vocab at 0x7f90609ea3c8>,\n",
       " 'grown': <gensim.models.keyedvectors.Vocab at 0x7f90609ea400>,\n",
       " 'son': <gensim.models.keyedvectors.Vocab at 0x7f90609ea438>,\n",
       " 'stale': <gensim.models.keyedvectors.Vocab at 0x7f90609ea470>,\n",
       " 'wrote': <gensim.models.keyedvectors.Vocab at 0x7f90609ea4a8>,\n",
       " 'best': <gensim.models.keyedvectors.Vocab at 0x7f90609ea4e0>,\n",
       " 'selling': <gensim.models.keyedvectors.Vocab at 0x7f90609ea518>,\n",
       " 'help': <gensim.models.keyedvectors.Vocab at 0x7f90609ea550>,\n",
       " 'then': <gensim.models.keyedvectors.Vocab at 0x7f90609ea588>,\n",
       " 'adopts': <gensim.models.keyedvectors.Vocab at 0x7f90609ea5c0>,\n",
       " 'behavior': <gensim.models.keyedvectors.Vocab at 0x7f90609ea5f8>,\n",
       " 'contradicts': <gensim.models.keyedvectors.Vocab at 0x7f90609ea630>,\n",
       " 'advice': <gensim.models.keyedvectors.Vocab at 0x7f90609ea668>,\n",
       " 've': <gensim.models.keyedvectors.Vocab at 0x7f90609ea6a0>,\n",
       " 'seen': <gensim.models.keyedvectors.Vocab at 0x7f90609ea6d8>,\n",
       " 'didn': <gensim.models.keyedvectors.Vocab at 0x7f90609ea710>,\n",
       " 'erase': <gensim.models.keyedvectors.Vocab at 0x7f90609ea748>,\n",
       " 'before': <gensim.models.keyedvectors.Vocab at 0x7f90609ea780>,\n",
       " 'plane': <gensim.models.keyedvectors.Vocab at 0x7f90609ea7b8>,\n",
       " 'carrying': <gensim.models.keyedvectors.Vocab at 0x7f90609ea7f0>,\n",
       " 'employees': <gensim.models.keyedvectors.Vocab at 0x7f90609ea828>,\n",
       " 'large': <gensim.models.keyedvectors.Vocab at 0x7f90609ea860>,\n",
       " 'firm': <gensim.models.keyedvectors.Vocab at 0x7f90609ea898>,\n",
       " 'including': <gensim.models.keyedvectors.Vocab at 0x7f90609ea8d0>,\n",
       " 'ceo': <gensim.models.keyedvectors.Vocab at 0x7f90609ea908>,\n",
       " 'daughter': <gensim.models.keyedvectors.Vocab at 0x7f90609ea940>,\n",
       " 'goes': <gensim.models.keyedvectors.Vocab at 0x7f90609ea978>,\n",
       " 'down': <gensim.models.keyedvectors.Vocab at 0x7f90609ea9b0>,\n",
       " 'thick': <gensim.models.keyedvectors.Vocab at 0x7f90609ea9e8>,\n",
       " 'forest': <gensim.models.keyedvectors.Vocab at 0x7f90609eaa20>,\n",
       " 'pacific': <gensim.models.keyedvectors.Vocab at 0x7f90609eaa58>,\n",
       " 'northwest': <gensim.models.keyedvectors.Vocab at 0x7f90609eaa90>,\n",
       " 'search': <gensim.models.keyedvectors.Vocab at 0x7f90609eaac8>,\n",
       " 'rescue': <gensim.models.keyedvectors.Vocab at 0x7f90609eab00>,\n",
       " 'mission': <gensim.models.keyedvectors.Vocab at 0x7f90609eab38>,\n",
       " 'called': <gensim.models.keyedvectors.Vocab at 0x7f90609eab70>,\n",
       " 'off': <gensim.models.keyedvectors.Vocab at 0x7f90609eaba8>,\n",
       " 'harlan': <gensim.models.keyedvectors.Vocab at 0x7f90609eabe0>,\n",
       " 'knowles': <gensim.models.keyedvectors.Vocab at 0x7f90609eac18>,\n",
       " 'lance': <gensim.models.keyedvectors.Vocab at 0x7f90609eac50>,\n",
       " 'henriksen': <gensim.models.keyedvectors.Vocab at 0x7f90609eac88>,\n",
       " 'puts': <gensim.models.keyedvectors.Vocab at 0x7f90609eacc0>,\n",
       " 'small': <gensim.models.keyedvectors.Vocab at 0x7f90609eacf8>,\n",
       " 'ragtag': <gensim.models.keyedvectors.Vocab at 0x7f90609ead30>,\n",
       " 'group': <gensim.models.keyedvectors.Vocab at 0x7f90609ead68>,\n",
       " 'execute': <gensim.models.keyedvectors.Vocab at 0x7f90609eada0>,\n",
       " 'own': <gensim.models.keyedvectors.Vocab at 0x7f90609eadd8>,\n",
       " 'following': <gensim.models.keyedvectors.Vocab at 0x7f90609eae10>,\n",
       " 'woods': <gensim.models.keyedvectors.Vocab at 0x7f90609eae48>,\n",
       " 'oy': <gensim.models.keyedvectors.Vocab at 0x7f90609eae80>,\n",
       " 'mess': <gensim.models.keyedvectors.Vocab at 0x7f90609eaeb8>,\n",
       " 'shame': <gensim.models.keyedvectors.Vocab at 0x7f90609eaef0>,\n",
       " 'stars': <gensim.models.keyedvectors.Vocab at 0x7f90609eaf28>,\n",
       " 'favorite': <gensim.models.keyedvectors.Vocab at 0x7f90609eaf60>,\n",
       " 'genre': <gensim.models.keyedvectors.Vocab at 0x7f90609eaf98>,\n",
       " 'easily': <gensim.models.keyedvectors.Vocab at 0x7f90609eafd0>,\n",
       " 'been': <gensim.models.keyedvectors.Vocab at 0x7f90609ed048>,\n",
       " 'decent': <gensim.models.keyedvectors.Vocab at 0x7f90609ed080>,\n",
       " 'suffers': <gensim.models.keyedvectors.Vocab at 0x7f90609ed0b8>,\n",
       " 'major': <gensim.models.keyedvectors.Vocab at 0x7f90609ed0f0>,\n",
       " 'flaws': <gensim.models.keyedvectors.Vocab at 0x7f90609ed128>,\n",
       " 're': <gensim.models.keyedvectors.Vocab at 0x7f90609ed160>,\n",
       " 'both': <gensim.models.keyedvectors.Vocab at 0x7f90609ed198>,\n",
       " 'writer': <gensim.models.keyedvectors.Vocab at 0x7f90609ed1d0>,\n",
       " 'jonas': <gensim.models.keyedvectors.Vocab at 0x7f90609ed208>,\n",
       " 'fault': <gensim.models.keyedvectors.Vocab at 0x7f90609ed240>,\n",
       " 'which': <gensim.models.keyedvectors.Vocab at 0x7f90609ed278>,\n",
       " 'll': <gensim.models.keyedvectors.Vocab at 0x7f90609ed2b0>,\n",
       " 'calling': <gensim.models.keyedvectors.Vocab at 0x7f90609ed2e8>,\n",
       " 'its': <gensim.models.keyedvectors.Vocab at 0x7f90609ed320>,\n",
       " 'aka': <gensim.models.keyedvectors.Vocab at 0x7f90609ed358>,\n",
       " 'sasquatch': <gensim.models.keyedvectors.Vocab at 0x7f90609ed390>,\n",
       " 'has': <gensim.models.keyedvectors.Vocab at 0x7f90609ed3c8>,\n",
       " 'editing': <gensim.models.keyedvectors.Vocab at 0x7f90609ed400>,\n",
       " 'next': <gensim.models.keyedvectors.Vocab at 0x7f90609ed438>,\n",
       " 'alone': <gensim.models.keyedvectors.Vocab at 0x7f90609ed470>,\n",
       " 'dark': <gensim.models.keyedvectors.Vocab at 0x7f90609ed4a8>,\n",
       " 'constant': <gensim.models.keyedvectors.Vocab at 0x7f90609ed4e0>,\n",
       " 'cast': <gensim.models.keyedvectors.Vocab at 0x7f90609ed518>,\n",
       " 'appears': <gensim.models.keyedvectors.Vocab at 0x7f90609ed550>,\n",
       " 'okay': <gensim.models.keyedvectors.Vocab at 0x7f90609ed588>,\n",
       " 'try': <gensim.models.keyedvectors.Vocab at 0x7f90609ed5c0>,\n",
       " 'want': <gensim.models.keyedvectors.Vocab at 0x7f90609ed5f8>,\n",
       " 'top': <gensim.models.keyedvectors.Vocab at 0x7f90609ed630>,\n",
       " 'improvise': <gensim.models.keyedvectors.Vocab at 0x7f90609ed668>,\n",
       " 'sequiturs': <gensim.models.keyedvectors.Vocab at 0x7f90609ed6a0>,\n",
       " 'generally': <gensim.models.keyedvectors.Vocab at 0x7f90609ed6d8>,\n",
       " 'potential': <gensim.models.keyedvectors.Vocab at 0x7f90609ed710>,\n",
       " 'despite': <gensim.models.keyedvectors.Vocab at 0x7f90609ed748>,\n",
       " 'rip': <gensim.models.keyedvectors.Vocab at 0x7f90609ed780>,\n",
       " 'aspects': <gensim.models.keyedvectors.Vocab at 0x7f90609ed7b8>,\n",
       " 'material': <gensim.models.keyedvectors.Vocab at 0x7f90609ed7f0>,\n",
       " 'related': <gensim.models.keyedvectors.Vocab at 0x7f90609ed828>,\n",
       " 'crash': <gensim.models.keyedvectors.Vocab at 0x7f90609ed860>,\n",
       " 'obviously': <gensim.models.keyedvectors.Vocab at 0x7f90609ed898>,\n",
       " 'crib': <gensim.models.keyedvectors.Vocab at 0x7f90609ed8d0>,\n",
       " 'blair': <gensim.models.keyedvectors.Vocab at 0x7f90609ed908>,\n",
       " 'witch': <gensim.models.keyedvectors.Vocab at 0x7f90609ed940>,\n",
       " 'project': <gensim.models.keyedvectors.Vocab at 0x7f90609ed978>,\n",
       " 'titular': <gensim.models.keyedvectors.Vocab at 0x7f90609ed9b0>,\n",
       " 'monster': <gensim.models.keyedvectors.Vocab at 0x7f90609ed9e8>,\n",
       " 'predator': <gensim.models.keyedvectors.Vocab at 0x7f90609eda20>,\n",
       " 'ed': <gensim.models.keyedvectors.Vocab at 0x7f90609eda58>,\n",
       " 'wood': <gensim.models.keyedvectors.Vocab at 0x7f90609eda90>,\n",
       " 'exposition': <gensim.models.keyedvectors.Vocab at 0x7f90609edac8>,\n",
       " 'dialogue': <gensim.models.keyedvectors.Vocab at 0x7f90609edb00>,\n",
       " 'promise': <gensim.models.keyedvectors.Vocab at 0x7f90609edb38>,\n",
       " 'subtler': <gensim.models.keyedvectors.Vocab at 0x7f90609edb70>,\n",
       " 'far': <gensim.models.keyedvectors.Vocab at 0x7f90609edba8>,\n",
       " 'saccharine': <gensim.models.keyedvectors.Vocab at 0x7f90609edbe0>,\n",
       " 'subtexts': <gensim.models.keyedvectors.Vocab at 0x7f90609edc18>,\n",
       " 'costume': <gensim.models.keyedvectors.Vocab at 0x7f90609edc50>,\n",
       " 'we': <gensim.models.keyedvectors.Vocab at 0x7f90609edc88>,\n",
       " 'actually': <gensim.models.keyedvectors.Vocab at 0x7f90609edcc0>,\n",
       " 'sufficient': <gensim.models.keyedvectors.Vocab at 0x7f90609edcf8>,\n",
       " 'tastes': <gensim.models.keyedvectors.Vocab at 0x7f90609edd30>,\n",
       " 'mixture': <gensim.models.keyedvectors.Vocab at 0x7f90609edd68>,\n",
       " 'types': <gensim.models.keyedvectors.Vocab at 0x7f90609edda0>,\n",
       " 'trudging': <gensim.models.keyedvectors.Vocab at 0x7f90609eddd8>,\n",
       " 'through': <gensim.models.keyedvectors.Vocab at 0x7f90609ede10>,\n",
       " 'fellow': <gensim.models.keyedvectors.Vocab at 0x7f90609ede48>,\n",
       " 'chris': <gensim.models.keyedvectors.Vocab at 0x7f90609ede80>,\n",
       " 'turned': <gensim.models.keyedvectors.Vocab at 0x7f90609edeb8>,\n",
       " 'stereotype': <gensim.models.keyedvectors.Vocab at 0x7f90609edef0>,\n",
       " 'notch': <gensim.models.keyedvectors.Vocab at 0x7f90609edf28>,\n",
       " 'least': <gensim.models.keyedvectors.Vocab at 0x7f90609edf60>,\n",
       " 'spent': <gensim.models.keyedvectors.Vocab at 0x7f90609edf98>,\n",
       " 'exploring': <gensim.models.keyedvectors.Vocab at 0x7f90609edfd0>,\n",
       " 'relationships': <gensim.models.keyedvectors.Vocab at 0x7f90609f1048>,\n",
       " 'lair': <gensim.models.keyedvectors.Vocab at 0x7f90609f1080>,\n",
       " 'nice': <gensim.models.keyedvectors.Vocab at 0x7f90609f10b8>,\n",
       " 'production': <gensim.models.keyedvectors.Vocab at 0x7f90609f10f0>,\n",
       " 'design': <gensim.models.keyedvectors.Vocab at 0x7f90609f1128>,\n",
       " 'specifically': <gensim.models.keyedvectors.Vocab at 0x7f90609f1160>,\n",
       " 'corpse': <gensim.models.keyedvectors.Vocab at 0x7f90609f1198>,\n",
       " 'decorations': <gensim.models.keyedvectors.Vocab at 0x7f90609f11d0>,\n",
       " 'ala': <gensim.models.keyedvectors.Vocab at 0x7f90609f1208>,\n",
       " 'primitive': <gensim.models.keyedvectors.Vocab at 0x7f90609f1240>,\n",
       " 'jeepers': <gensim.models.keyedvectors.Vocab at 0x7f90609f1278>,\n",
       " 'creepers': <gensim.models.keyedvectors.Vocab at 0x7f90609f12b0>,\n",
       " 'edited': <gensim.models.keyedvectors.Vocab at 0x7f90609f12e8>,\n",
       " 'well': <gensim.models.keyedvectors.Vocab at 0x7f90609f1320>,\n",
       " 'effective': <gensim.models.keyedvectors.Vocab at 0x7f90609f1358>,\n",
       " 'most': <gensim.models.keyedvectors.Vocab at 0x7f90609f1390>,\n",
       " 'frightening': <gensim.models.keyedvectors.Vocab at 0x7f90609f13c8>,\n",
       " 'number': <gensim.models.keyedvectors.Vocab at 0x7f90609f1400>,\n",
       " 'missteps': <gensim.models.keyedvectors.Vocab at 0x7f90609f1438>,\n",
       " 'reason': <gensim.models.keyedvectors.Vocab at 0x7f90609f1470>,\n",
       " 'thinks': <gensim.models.keyedvectors.Vocab at 0x7f90609f14a8>,\n",
       " 'idea': <gensim.models.keyedvectors.Vocab at 0x7f90609f14e0>,\n",
       " 'chop': <gensim.models.keyedvectors.Vocab at 0x7f90609f1518>,\n",
       " 'occur': <gensim.models.keyedvectors.Vocab at 0x7f90609f1550>,\n",
       " 'within': <gensim.models.keyedvectors.Vocab at 0x7f90609f1588>,\n",
       " 'instead': <gensim.models.keyedvectors.Vocab at 0x7f90609f15c0>,\n",
       " 'few': <gensim.models.keyedvectors.Vocab at 0x7f90609f15f8>,\n",
       " 'use': <gensim.models.keyedvectors.Vocab at 0x7f90609f1630>,\n",
       " 'frequently': <gensim.models.keyedvectors.Vocab at 0x7f90609f1668>,\n",
       " 'screens': <gensim.models.keyedvectors.Vocab at 0x7f90609f16a0>,\n",
       " 'snippets': <gensim.models.keyedvectors.Vocab at 0x7f90609f16d8>,\n",
       " 'whether': <gensim.models.keyedvectors.Vocab at 0x7f90609f1710>,\n",
       " 'need': <gensim.models.keyedvectors.Vocab at 0x7f90609f1748>,\n",
       " 'unspecified': <gensim.models.keyedvectors.Vocab at 0x7f90609f1780>,\n",
       " 'amount': <gensim.models.keyedvectors.Vocab at 0x7f90609f17b8>,\n",
       " 'passing': <gensim.models.keyedvectors.Vocab at 0x7f90609f17f0>,\n",
       " 'irrelevant': <gensim.models.keyedvectors.Vocab at 0x7f90609f1828>,\n",
       " 'comments': <gensim.models.keyedvectors.Vocab at 0x7f90609f1860>,\n",
       " 'seem': <gensim.models.keyedvectors.Vocab at 0x7f90609f1898>,\n",
       " 'occurring': <gensim.models.keyedvectors.Vocab at 0x7f90609f18d0>,\n",
       " 'anyway': <gensim.models.keyedvectors.Vocab at 0x7f90609f1908>,\n",
       " 'care': <gensim.models.keyedvectors.Vocab at 0x7f90609f1940>,\n",
       " 'during': <gensim.models.keyedvectors.Vocab at 0x7f90609f1978>,\n",
       " 'morning': <gensim.models.keyedvectors.Vocab at 0x7f90609f19b0>,\n",
       " 'afternoon': <gensim.models.keyedvectors.Vocab at 0x7f90609f19e8>,\n",
       " 'middle': <gensim.models.keyedvectors.Vocab at 0x7f90609f1a20>,\n",
       " 'cuts': <gensim.models.keyedvectors.Vocab at 0x7f90609f1a58>,\n",
       " 'random': <gensim.models.keyedvectors.Vocab at 0x7f90609f1a90>,\n",
       " 'matter': <gensim.models.keyedvectors.Vocab at 0x7f90609f1ac8>,\n",
       " 'shown': <gensim.models.keyedvectors.Vocab at 0x7f90609f1b00>,\n",
       " 'appear': <gensim.models.keyedvectors.Vocab at 0x7f90609f1b38>,\n",
       " 'selected': <gensim.models.keyedvectors.Vocab at 0x7f90609f1b70>,\n",
       " 'important': <gensim.models.keyedvectors.Vocab at 0x7f90609f1ba8>,\n",
       " 'either': <gensim.models.keyedvectors.Vocab at 0x7f90609f1be0>,\n",
       " 'never': <gensim.models.keyedvectors.Vocab at 0x7f90609f1c18>,\n",
       " 'barely': <gensim.models.keyedvectors.Vocab at 0x7f90609f1c50>,\n",
       " 'too': <gensim.models.keyedvectors.Vocab at 0x7f90609f1c88>,\n",
       " 'pointless': <gensim.models.keyedvectors.Vocab at 0x7f90609f1cc0>,\n",
       " 'cave': <gensim.models.keyedvectors.Vocab at 0x7f90609f1cf8>,\n",
       " 'art': <gensim.models.keyedvectors.Vocab at 0x7f90609f1d30>,\n",
       " 'needs': <gensim.models.keyedvectors.Vocab at 0x7f90609f1d68>,\n",
       " 'justify': <gensim.models.keyedvectors.Vocab at 0x7f90609f1da0>,\n",
       " 'getting': <gensim.models.keyedvectors.Vocab at 0x7f90609f1dd8>,\n",
       " 'intelligence': <gensim.models.keyedvectors.Vocab at 0x7f90609f1e10>,\n",
       " 'humanity': <gensim.models.keyedvectors.Vocab at 0x7f90609f1e48>,\n",
       " 'whole': <gensim.models.keyedvectors.Vocab at 0x7f90609f1e80>,\n",
       " 'mary': <gensim.models.keyedvectors.Vocab at 0x7f90609f1eb8>,\n",
       " 'mancini': <gensim.models.keyedvectors.Vocab at 0x7f90609f1ef0>,\n",
       " 'though': <gensim.models.keyedvectors.Vocab at 0x7f90609f1f28>,\n",
       " 'superfluous': <gensim.models.keyedvectors.Vocab at 0x7f90609f1f60>,\n",
       " 'suddenly': <gensim.models.keyedvectors.Vocab at 0x7f90609f1f98>,\n",
       " 'extremely': <gensim.models.keyedvectors.Vocab at 0x7f90609f1fd0>,\n",
       " 'core': <gensim.models.keyedvectors.Vocab at 0x7f90609f5048>,\n",
       " 'porno': <gensim.models.keyedvectors.Vocab at 0x7f90609f5080>,\n",
       " 'motif': <gensim.models.keyedvectors.Vocab at 0x7f90609f50b8>,\n",
       " 'repeated': <gensim.models.keyedvectors.Vocab at 0x7f90609f50f0>,\n",
       " 'characters': <gensim.models.keyedvectors.Vocab at 0x7f90609f5128>,\n",
       " 'keep': <gensim.models.keyedvectors.Vocab at 0x7f90609f5160>,\n",
       " 'mr': <gensim.models.keyedvectors.Vocab at 0x7f90609f5198>,\n",
       " 'h': <gensim.models.keyedvectors.Vocab at 0x7f90609f51d0>,\n",
       " 'stereotypes': <gensim.models.keyedvectors.Vocab at 0x7f90609f5208>,\n",
       " 'asian': <gensim.models.keyedvectors.Vocab at 0x7f90609f5240>,\n",
       " 'insists': <gensim.models.keyedvectors.Vocab at 0x7f90609f5278>,\n",
       " 'using': <gensim.models.keyedvectors.Vocab at 0x7f90609f52b0>,\n",
       " 'blurry': <gensim.models.keyedvectors.Vocab at 0x7f90609f52e8>,\n",
       " 'cam': <gensim.models.keyedvectors.Vocab at 0x7f90609f5320>,\n",
       " 'attack': <gensim.models.keyedvectors.Vocab at 0x7f90609f5358>,\n",
       " 'look': <gensim.models.keyedvectors.Vocab at 0x7f90609f5390>,\n",
       " 'put': <gensim.models.keyedvectors.Vocab at 0x7f90609f53c8>,\n",
       " 'fog': <gensim.models.keyedvectors.Vocab at 0x7f90609f5400>,\n",
       " 'subtle': <gensim.models.keyedvectors.Vocab at 0x7f90609f5438>,\n",
       " 'filter': <gensim.models.keyedvectors.Vocab at 0x7f90609f5470>,\n",
       " 'else': <gensim.models.keyedvectors.Vocab at 0x7f90609f54a8>,\n",
       " 'wanted': <gensim.models.keyedvectors.Vocab at 0x7f90609f54e0>,\n",
       " 'm': <gensim.models.keyedvectors.Vocab at 0x7f90609f5518>,\n",
       " 'fan': <gensim.models.keyedvectors.Vocab at 0x7f90609f5550>,\n",
       " 'intrigued': <gensim.models.keyedvectors.Vocab at 0x7f90609f5588>,\n",
       " 'subject': <gensim.models.keyedvectors.Vocab at 0x7f90609f55c0>,\n",
       " 'loved': <gensim.models.keyedvectors.Vocab at 0x7f90609f55f8>,\n",
       " 'setting': <gensim.models.keyedvectors.Vocab at 0x7f90609f5630>,\n",
       " 'hiking': <gensim.models.keyedvectors.Vocab at 0x7f90609f5668>,\n",
       " 'basically': <gensim.models.keyedvectors.Vocab at 0x7f90609f56a0>,\n",
       " 'level': <gensim.models.keyedvectors.Vocab at 0x7f90609f56d8>,\n",
       " 'couldn': <gensim.models.keyedvectors.Vocab at 0x7f90609f5710>,\n",
       " 'every': <gensim.models.keyedvectors.Vocab at 0x7f90609f5748>,\n",
       " 'thought': <gensim.models.keyedvectors.Vocab at 0x7f90609f5780>,\n",
       " 'point': <gensim.models.keyedvectors.Vocab at 0x7f90609f57b8>,\n",
       " 'until': <gensim.models.keyedvectors.Vocab at 0x7f90609f57f0>,\n",
       " 'move': <gensim.models.keyedvectors.Vocab at 0x7f90609f5828>,\n",
       " 'score': <gensim.models.keyedvectors.Vocab at 0x7f90609f5860>,\n",
       " 'gritty': <gensim.models.keyedvectors.Vocab at 0x7f90609f5898>,\n",
       " 'science': <gensim.models.keyedvectors.Vocab at 0x7f90609f58d0>,\n",
       " 'fiction': <gensim.models.keyedvectors.Vocab at 0x7f90609f5908>,\n",
       " 'among': <gensim.models.keyedvectors.Vocab at 0x7f90609f5940>,\n",
       " 'hundreds': <gensim.models.keyedvectors.Vocab at 0x7f90609f5978>,\n",
       " 'similar': <gensim.models.keyedvectors.Vocab at 0x7f90609f59b0>,\n",
       " 'several': <gensim.models.keyedvectors.Vocab at 0x7f90609f59e8>,\n",
       " 'strong': <gensim.models.keyedvectors.Vocab at 0x7f90609f5a20>,\n",
       " 'points': <gensim.models.keyedvectors.Vocab at 0x7f90609f5a58>,\n",
       " 'near': <gensim.models.keyedvectors.Vocab at 0x7f90609f5a90>,\n",
       " 'writing': <gensim.models.keyedvectors.Vocab at 0x7f90609f5ac8>,\n",
       " 'directing': <gensim.models.keyedvectors.Vocab at 0x7f90609f5b00>,\n",
       " 'solid': <gensim.models.keyedvectors.Vocab at 0x7f90609f5b38>,\n",
       " 'manages': <gensim.models.keyedvectors.Vocab at 0x7f90609f5b70>,\n",
       " 'sci': <gensim.models.keyedvectors.Vocab at 0x7f90609f5ba8>,\n",
       " 'fi': <gensim.models.keyedvectors.Vocab at 0x7f90609f5be0>,\n",
       " 'cliches': <gensim.models.keyedvectors.Vocab at 0x7f90609f5c18>,\n",
       " 'does': <gensim.models.keyedvectors.Vocab at 0x7f90609f5c50>,\n",
       " 'job': <gensim.models.keyedvectors.Vocab at 0x7f90609f5c88>,\n",
       " 'keeping': <gensim.models.keyedvectors.Vocab at 0x7f90609f5cc0>,\n",
       " 'suspense': <gensim.models.keyedvectors.Vocab at 0x7f90609f5cf8>,\n",
       " 'landscape': <gensim.models.keyedvectors.Vocab at 0x7f90609f5d30>,\n",
       " 'will': <gensim.models.keyedvectors.Vocab at 0x7f90609f5d68>,\n",
       " 'appeal': <gensim.models.keyedvectors.Vocab at 0x7f90609f5da0>,\n",
       " 'fans': <gensim.models.keyedvectors.Vocab at 0x7f90609f5dd8>,\n",
       " 'looking': <gensim.models.keyedvectors.Vocab at 0x7f90609f5e10>,\n",
       " 'masterpiece': <gensim.models.keyedvectors.Vocab at 0x7f90609f5e48>,\n",
       " 'fashioned': <gensim.models.keyedvectors.Vocab at 0x7f90609f5e80>,\n",
       " 'post': <gensim.models.keyedvectors.Vocab at 0x7f90609f5eb8>,\n",
       " 'future': <gensim.models.keyedvectors.Vocab at 0x7f90609f5ef0>,\n",
       " 'space': <gensim.models.keyedvectors.Vocab at 0x7f90609f5f28>,\n",
       " 'thoroughly': <gensim.models.keyedvectors.Vocab at 0x7f90609f5f60>,\n",
       " 'enjoyable': <gensim.models.keyedvectors.Vocab at 0x7f90609f5f98>,\n",
       " 'ending': <gensim.models.keyedvectors.Vocab at 0x7f90609f5fd0>,\n",
       " 'incredibly': <gensim.models.keyedvectors.Vocab at 0x7f9060978048>,\n",
       " 'dumb': <gensim.models.keyedvectors.Vocab at 0x7f9060978080>,\n",
       " 'predictable': <gensim.models.keyedvectors.Vocab at 0x7f90609780b8>,\n",
       " 'rich': <gensim.models.keyedvectors.Vocab at 0x7f90609780f0>,\n",
       " 'teen': <gensim.models.keyedvectors.Vocab at 0x7f9060978128>,\n",
       " 'given': <gensim.models.keyedvectors.Vocab at 0x7f9060978160>,\n",
       " 'parents': <gensim.models.keyedvectors.Vocab at 0x7f9060978198>,\n",
       " 'gang': <gensim.models.keyedvectors.Vocab at 0x7f90609781d0>,\n",
       " 'rob': <gensim.models.keyedvectors.Vocab at 0x7f9060978208>,\n",
       " 'gas': <gensim.models.keyedvectors.Vocab at 0x7f9060978240>,\n",
       " 'stations': <gensim.models.keyedvectors.Vocab at 0x7f9060978278>,\n",
       " 'rape': <gensim.models.keyedvectors.Vocab at 0x7f90609782b0>,\n",
       " 'guys': <gensim.models.keyedvectors.Vocab at 0x7f90609782e8>,\n",
       " 'kill': <gensim.models.keyedvectors.Vocab at 0x7f9060978320>,\n",
       " 'policeman': <gensim.models.keyedvectors.Vocab at 0x7f9060978358>,\n",
       " 'teenagers': <gensim.models.keyedvectors.Vocab at 0x7f9060978390>,\n",
       " 'late': <gensim.models.keyedvectors.Vocab at 0x7f90609783c8>,\n",
       " 'cliche': <gensim.models.keyedvectors.Vocab at 0x7f9060978400>,\n",
       " 'imaginable': <gensim.models.keyedvectors.Vocab at 0x7f9060978438>,\n",
       " 'hilarious': <gensim.models.keyedvectors.Vocab at 0x7f9060978470>,\n",
       " 'surprise': <gensim.models.keyedvectors.Vocab at 0x7f90609784a8>,\n",
       " 'written': <gensim.models.keyedvectors.Vocab at 0x7f90609784e0>,\n",
       " 'immortal': <gensim.models.keyedvectors.Vocab at 0x7f9060978518>,\n",
       " 'jr': <gensim.models.keyedvectors.Vocab at 0x7f9060978550>,\n",
       " 'worth': <gensim.models.keyedvectors.Vocab at 0x7f9060978588>,\n",
       " 'laughs': <gensim.models.keyedvectors.Vocab at 0x7f90609785c0>,\n",
       " 'shooting': <gensim.models.keyedvectors.Vocab at 0x7f90609785f8>,\n",
       " 'ain': <gensim.models.keyedvectors.Vocab at 0x7f9060978630>,\n",
       " 'supposed': <gensim.models.keyedvectors.Vocab at 0x7f9060978668>,\n",
       " 'reading': <gensim.models.keyedvectors.Vocab at 0x7f90609786a0>,\n",
       " 'am': <gensim.models.keyedvectors.Vocab at 0x7f90609786d8>,\n",
       " 'sure': <gensim.models.keyedvectors.Vocab at 0x7f9060978710>,\n",
       " 'angry': <gensim.models.keyedvectors.Vocab at 0x7f9060978748>,\n",
       " 'sad': <gensim.models.keyedvectors.Vocab at 0x7f9060978780>,\n",
       " 'sickened': <gensim.models.keyedvectors.Vocab at 0x7f90609787b8>,\n",
       " 'typical': <gensim.models.keyedvectors.Vocab at 0x7f90609787f0>,\n",
       " 'know': <gensim.models.keyedvectors.Vocab at 0x7f9060978828>,\n",
       " 'absolutely': <gensim.models.keyedvectors.Vocab at 0x7f9060978860>,\n",
       " 'military': <gensim.models.keyedvectors.Vocab at 0x7f9060978898>,\n",
       " 'base': <gensim.models.keyedvectors.Vocab at 0x7f90609788d0>,\n",
       " 'everything': <gensim.models.keyedvectors.Vocab at 0x7f9060978908>,\n",
       " 'cnn': <gensim.models.keyedvectors.Vocab at 0x7f9060978940>,\n",
       " 'reports': <gensim.models.keyedvectors.Vocab at 0x7f9060978978>,\n",
       " 'abu': <gensim.models.keyedvectors.Vocab at 0x7f90609789b0>,\n",
       " 'makes': <gensim.models.keyedvectors.Vocab at 0x7f90609789e8>,\n",
       " 'me': <gensim.models.keyedvectors.Vocab at 0x7f9060978a20>,\n",
       " 'wonder': <gensim.models.keyedvectors.Vocab at 0x7f9060978a58>,\n",
       " 'state': <gensim.models.keyedvectors.Vocab at 0x7f9060978a90>,\n",
       " 'intellectual': <gensim.models.keyedvectors.Vocab at 0x7f9060978ac8>,\n",
       " 'stimulation': <gensim.models.keyedvectors.Vocab at 0x7f9060978b00>,\n",
       " 'world': <gensim.models.keyedvectors.Vocab at 0x7f9060978b38>,\n",
       " 'type': <gensim.models.keyedvectors.Vocab at 0x7f9060978b70>,\n",
       " 'us': <gensim.models.keyedvectors.Vocab at 0x7f9060978ba8>,\n",
       " 'million': <gensim.models.keyedvectors.Vocab at 0x7f9060978be0>,\n",
       " 'active': <gensim.models.keyedvectors.Vocab at 0x7f9060978c18>,\n",
       " 'duty': <gensim.models.keyedvectors.Vocab at 0x7f9060978c50>,\n",
       " 'guard': <gensim.models.keyedvectors.Vocab at 0x7f9060978c88>,\n",
       " 'reserves': <gensim.models.keyedvectors.Vocab at 0x7f9060978cc0>,\n",
       " 'total': <gensim.models.keyedvectors.Vocab at 0x7f9060978cf8>,\n",
       " 'roughly': <gensim.models.keyedvectors.Vocab at 0x7f9060978d30>,\n",
       " 'abuses': <gensim.models.keyedvectors.Vocab at 0x7f9060978d68>,\n",
       " 'currently': <gensim.models.keyedvectors.Vocab at 0x7f9060978da0>,\n",
       " 'single': <gensim.models.keyedvectors.Vocab at 0x7f9060978dd8>,\n",
       " 'member': <gensim.models.keyedvectors.Vocab at 0x7f9060978e10>,\n",
       " 'stepped': <gensim.models.keyedvectors.Vocab at 0x7f9060978e48>,\n",
       " 'come': <gensim.models.keyedvectors.Vocab at 0x7f9060978e80>,\n",
       " 'close': <gensim.models.keyedvectors.Vocab at 0x7f9060978eb8>,\n",
       " 'take': <gensim.models.keyedvectors.Vocab at 0x7f9060978ef0>,\n",
       " 'understand': <gensim.models.keyedvectors.Vocab at 0x7f9060978f28>,\n",
       " 'sarcastic': <gensim.models.keyedvectors.Vocab at 0x7f9060978f60>,\n",
       " 'reality': <gensim.models.keyedvectors.Vocab at 0x7f9060978f98>,\n",
       " 'commentary': <gensim.models.keyedvectors.Vocab at 0x7f9060978fd0>,\n",
       " 'without': <gensim.models.keyedvectors.Vocab at 0x7f906097c048>,\n",
       " 'enemy': <gensim.models.keyedvectors.Vocab at 0x7f906097c080>,\n",
       " 'fight': <gensim.models.keyedvectors.Vocab at 0x7f906097c0b8>,\n",
       " 'conflicts': <gensim.models.keyedvectors.Vocab at 0x7f906097c0f0>,\n",
       " 'disaster': <gensim.models.keyedvectors.Vocab at 0x7f906097c128>,\n",
       " 'relief': <gensim.models.keyedvectors.Vocab at 0x7f906097c160>,\n",
       " 'humanitarian': <gensim.models.keyedvectors.Vocab at 0x7f906097c198>,\n",
       " 'aid': <gensim.models.keyedvectors.Vocab at 0x7f906097c1d0>,\n",
       " 'missions': <gensim.models.keyedvectors.Vocab at 0x7f906097c208>,\n",
       " 'hit': <gensim.models.keyedvectors.Vocab at 0x7f906097c240>,\n",
       " 'indonesia': <gensim.models.keyedvectors.Vocab at 0x7f906097c278>,\n",
       " 'region': <gensim.models.keyedvectors.Vocab at 0x7f906097c2b0>,\n",
       " 'chaos': <gensim.models.keyedvectors.Vocab at 0x7f906097c2e8>,\n",
       " 'situation': <gensim.models.keyedvectors.Vocab at 0x7f906097c320>,\n",
       " 'overwhelmed': <gensim.models.keyedvectors.Vocab at 0x7f906097c358>,\n",
       " 'governments': <gensim.models.keyedvectors.Vocab at 0x7f906097c390>,\n",
       " 'leadership': <gensim.models.keyedvectors.Vocab at 0x7f906097c3c8>,\n",
       " 'looked': <gensim.models.keyedvectors.Vocab at 0x7f906097c400>,\n",
       " 'same': <gensim.models.keyedvectors.Vocab at 0x7f906097c438>,\n",
       " 'mocks': <gensim.models.keyedvectors.Vocab at 0x7f906097c470>,\n",
       " 'happen': <gensim.models.keyedvectors.Vocab at 0x7f906097c4a8>,\n",
       " 'food': <gensim.models.keyedvectors.Vocab at 0x7f906097c4e0>,\n",
       " 'reaching': <gensim.models.keyedvectors.Vocab at 0x7f906097c518>,\n",
       " 'isolated': <gensim.models.keyedvectors.Vocab at 0x7f906097c550>,\n",
       " 'villages': <gensim.models.keyedvectors.Vocab at 0x7f906097c588>,\n",
       " 'built': <gensim.models.keyedvectors.Vocab at 0x7f906097c5c0>,\n",
       " 'cargo': <gensim.models.keyedvectors.Vocab at 0x7f906097c5f8>,\n",
       " 'aircraft': <gensim.models.keyedvectors.Vocab at 0x7f906097c630>,\n",
       " 'started': <gensim.models.keyedvectors.Vocab at 0x7f906097c668>,\n",
       " 'landing': <gensim.models.keyedvectors.Vocab at 0x7f906097c6a0>,\n",
       " 'distribution': <gensim.models.keyedvectors.Vocab at 0x7f906097c6d8>,\n",
       " 'system': <gensim.models.keyedvectors.Vocab at 0x7f906097c710>,\n",
       " 'running': <gensim.models.keyedvectors.Vocab at 0x7f906097c748>,\n",
       " 'weeks': <gensim.models.keyedvectors.Vocab at 0x7f906097c780>,\n",
       " 'months': <gensim.models.keyedvectors.Vocab at 0x7f906097c7b8>,\n",
       " 'unscrupulous': <gensim.models.keyedvectors.Vocab at 0x7f906097c7f0>,\n",
       " 'walk': <gensim.models.keyedvectors.Vocab at 0x7f906097c828>,\n",
       " 'occupation': <gensim.models.keyedvectors.Vocab at 0x7f906097c860>,\n",
       " 'website': <gensim.models.keyedvectors.Vocab at 0x7f906097c898>,\n",
       " 'criminal': <gensim.models.keyedvectors.Vocab at 0x7f906097c8d0>,\n",
       " 'minds': <gensim.models.keyedvectors.Vocab at 0x7f906097c908>,\n",
       " 'thoughts': <gensim.models.keyedvectors.Vocab at 0x7f906097c940>,\n",
       " 'destruction': <gensim.models.keyedvectors.Vocab at 0x7f906097c978>,\n",
       " 'mayhem': <gensim.models.keyedvectors.Vocab at 0x7f906097c9b0>,\n",
       " 'absolute': <gensim.models.keyedvectors.Vocab at 0x7f906097c9e8>,\n",
       " 'disservice': <gensim.models.keyedvectors.Vocab at 0x7f906097ca20>,\n",
       " 'things': <gensim.models.keyedvectors.Vocab at 0x7f906097ca58>,\n",
       " 'person': <gensim.models.keyedvectors.Vocab at 0x7f906097ca90>,\n",
       " 'members': <gensim.models.keyedvectors.Vocab at 0x7f906097cac8>,\n",
       " 'personal': <gensim.models.keyedvectors.Vocab at 0x7f906097cb00>,\n",
       " 'gain': <gensim.models.keyedvectors.Vocab at 0x7f906097cb38>,\n",
       " 'wow': <gensim.models.keyedvectors.Vocab at 0x7f906097cb70>,\n",
       " 'entry': <gensim.models.keyedvectors.Vocab at 0x7f906097cba8>,\n",
       " 'personnel': <gensim.models.keyedvectors.Vocab at 0x7f906097cbe0>,\n",
       " 'under': <gensim.models.keyedvectors.Vocab at 0x7f906097cc18>,\n",
       " 'hour': <gensim.models.keyedvectors.Vocab at 0x7f906097cc50>,\n",
       " 'assuming': <gensim.models.keyedvectors.Vocab at 0x7f906097cc88>,\n",
       " 'week': <gensim.models.keyedvectors.Vocab at 0x7f906097ccc0>,\n",
       " 'course': <gensim.models.keyedvectors.Vocab at 0x7f906097ccf8>,\n",
       " 'harm': <gensim.models.keyedvectors.Vocab at 0x7f906097cd30>,\n",
       " 'typically': <gensim.models.keyedvectors.Vocab at 0x7f906097cd68>,\n",
       " 'pay': <gensim.models.keyedvectors.Vocab at 0x7f906097cda0>,\n",
       " 'minimum': <gensim.models.keyedvectors.Vocab at 0x7f906097cdd8>,\n",
       " 'wage': <gensim.models.keyedvectors.Vocab at 0x7f906097ce10>,\n",
       " 'beg': <gensim.models.keyedvectors.Vocab at 0x7f906097ce48>,\n",
       " 'please': <gensim.models.keyedvectors.Vocab at 0x7f906097ce80>,\n",
       " 'yourself': <gensim.models.keyedvectors.Vocab at 0x7f906097ceb8>,\n",
       " 'familiar': <gensim.models.keyedvectors.Vocab at 0x7f906097cef0>,\n",
       " 'nearby': <gensim.models.keyedvectors.Vocab at 0x7f906097cf28>,\n",
       " 'visitor': <gensim.models.keyedvectors.Vocab at 0x7f906097cf60>,\n",
       " 'pass': <gensim.models.keyedvectors.Vocab at 0x7f906097cf98>,\n",
       " 'meet': <gensim.models.keyedvectors.Vocab at 0x7f906097cfd0>,\n",
       " 'quick': <gensim.models.keyedvectors.Vocab at 0x7f906097e048>,\n",
       " 'surprised': <gensim.models.keyedvectors.Vocab at 0x7f906097e080>,\n",
       " 'longer': <gensim.models.keyedvectors.Vocab at 0x7f906097e0b8>,\n",
       " 'accepts': <gensim.models.keyedvectors.Vocab at 0x7f906097e0f0>,\n",
       " 'lieu': <gensim.models.keyedvectors.Vocab at 0x7f906097e128>,\n",
       " 'prison': <gensim.models.keyedvectors.Vocab at 0x7f906097e160>,\n",
       " 'ged': <gensim.models.keyedvectors.Vocab at 0x7f906097e198>,\n",
       " 'prefer': <gensim.models.keyedvectors.Vocab at 0x7f906097e1d0>,\n",
       " 'ranks': <gensim.models.keyedvectors.Vocab at 0x7f906097e208>,\n",
       " 'expected': <gensim.models.keyedvectors.Vocab at 0x7f906097e240>,\n",
       " 'undergraduate': <gensim.models.keyedvectors.Vocab at 0x7f906097e278>,\n",
       " 'degrees': <gensim.models.keyedvectors.Vocab at 0x7f906097e2b0>,\n",
       " 'upper': <gensim.models.keyedvectors.Vocab at 0x7f906097e2e8>,\n",
       " 'encouraged': <gensim.models.keyedvectors.Vocab at 0x7f906097e320>,\n",
       " 'advanced': <gensim.models.keyedvectors.Vocab at 0x7f906097e358>,\n",
       " 'hard': <gensim.models.keyedvectors.Vocab at 0x7f906097e390>,\n",
       " 'elfen': <gensim.models.keyedvectors.Vocab at 0x7f906097e3c8>,\n",
       " 'lied': <gensim.models.keyedvectors.Vocab at 0x7f906097e400>,\n",
       " 'hasn': <gensim.models.keyedvectors.Vocab at 0x7f906097e438>,\n",
       " 'heard': <gensim.models.keyedvectors.Vocab at 0x7f906097e470>,\n",
       " 'closest': <gensim.models.keyedvectors.Vocab at 0x7f906097e4a8>,\n",
       " 'strange': <gensim.models.keyedvectors.Vocab at 0x7f906097e4e0>,\n",
       " 'mix': <gensim.models.keyedvectors.Vocab at 0x7f906097e518>,\n",
       " 'extreme': <gensim.models.keyedvectors.Vocab at 0x7f906097e550>,\n",
       " 'violence': <gensim.models.keyedvectors.Vocab at 0x7f906097e588>,\n",
       " 'drama': <gensim.models.keyedvectors.Vocab at 0x7f906097e5c0>,\n",
       " 'haven': <gensim.models.keyedvectors.Vocab at 0x7f906097e5f8>,\n",
       " 'witnessed': <gensim.models.keyedvectors.Vocab at 0x7f906097e630>,\n",
       " 'wondering': <gensim.models.keyedvectors.Vocab at 0x7f906097e668>,\n",
       " 'how': <gensim.models.keyedvectors.Vocab at 0x7f906097e6a0>,\n",
       " 'incorporated': <gensim.models.keyedvectors.Vocab at 0x7f906097e6d8>,\n",
       " 'coherently': <gensim.models.keyedvectors.Vocab at 0x7f906097e710>,\n",
       " 'pondering': <gensim.models.keyedvectors.Vocab at 0x7f906097e748>,\n",
       " 'sooner': <gensim.models.keyedvectors.Vocab at 0x7f906097e780>,\n",
       " 'such': <gensim.models.keyedvectors.Vocab at 0x7f906097e7b8>,\n",
       " 'quality': <gensim.models.keyedvectors.Vocab at 0x7f906097e7f0>,\n",
       " 'flow': <gensim.models.keyedvectors.Vocab at 0x7f906097e828>,\n",
       " 'odd': <gensim.models.keyedvectors.Vocab at 0x7f906097e860>,\n",
       " 'hybrid': <gensim.models.keyedvectors.Vocab at 0x7f906097e898>,\n",
       " 'anime': <gensim.models.keyedvectors.Vocab at 0x7f906097e8d0>,\n",
       " 'area': <gensim.models.keyedvectors.Vocab at 0x7f906097e908>,\n",
       " 'shines': <gensim.models.keyedvectors.Vocab at 0x7f906097e940>,\n",
       " 'narrative': <gensim.models.keyedvectors.Vocab at 0x7f906097e978>,\n",
       " 'enthralled': <gensim.models.keyedvectors.Vocab at 0x7f906097e9b0>,\n",
       " 'weaving': <gensim.models.keyedvectors.Vocab at 0x7f906097e9e8>,\n",
       " 'diversity': <gensim.models.keyedvectors.Vocab at 0x7f906097ea20>,\n",
       " 'violent': <gensim.models.keyedvectors.Vocab at 0x7f906097ea58>,\n",
       " 'gory': <gensim.models.keyedvectors.Vocab at 0x7f906097ea90>,\n",
       " 'encounter': <gensim.models.keyedvectors.Vocab at 0x7f906097eac8>,\n",
       " 'perhaps': <gensim.models.keyedvectors.Vocab at 0x7f906097eb00>,\n",
       " 'contrasting': <gensim.models.keyedvectors.Vocab at 0x7f906097eb38>,\n",
       " 'lighter': <gensim.models.keyedvectors.Vocab at 0x7f906097eb70>,\n",
       " 'moment': <gensim.models.keyedvectors.Vocab at 0x7f906097eba8>,\n",
       " 'emotive': <gensim.models.keyedvectors.Vocab at 0x7f906097ebe0>,\n",
       " 'bloodshed': <gensim.models.keyedvectors.Vocab at 0x7f906097ec18>,\n",
       " 'bring': <gensim.models.keyedvectors.Vocab at 0x7f906097ec50>,\n",
       " 'tears': <gensim.models.keyedvectors.Vocab at 0x7f906097ec88>,\n",
       " 'combination': <gensim.models.keyedvectors.Vocab at 0x7f906097ecc0>,\n",
       " 'where': <gensim.models.keyedvectors.Vocab at 0x7f906097ecf8>,\n",
       " 'viewer': <gensim.models.keyedvectors.Vocab at 0x7f906097ed30>,\n",
       " ...}"
      ]
     },
     "execution_count": 15,
     "metadata": {
      "tags": []
     },
     "output_type": "execute_result"
    }
   ],
   "source": [
    "# Vocablury of the model\n",
    "model.wv.vocab"
   ]
  },
  {
   "cell_type": "markdown",
   "metadata": {
    "id": "WgqQ11DDaiwL"
   },
   "source": [
    "### Get an embedding for a word"
   ]
  },
  {
   "cell_type": "code",
   "execution_count": null,
   "metadata": {
    "colab": {
     "base_uri": "https://localhost:8080/",
     "height": 202
    },
    "executionInfo": {
     "elapsed": 1243,
     "status": "ok",
     "timestamp": 1572609013375,
     "user": {
      "displayName": "Rajeev Kumar",
      "photoUrl": "https://lh3.googleusercontent.com/a-/AAuE7mBC_Jt2baS4Hv7JJvLmgAJFGZpvIs0sh5ggT7ZM9hw=s64",
      "userId": "10567937244174773728"
     },
     "user_tz": -330
    },
    "id": "FKybdCKfaiwM",
    "outputId": "58ef2f3c-6237-4e76-af0b-91d3be42fc91"
   },
   "outputs": [
    {
     "data": {
      "text/plain": [
       "array([ 0.12321912, -1.1917081 ,  0.8847738 ,  0.10469773, -0.57602787,\n",
       "        1.1165477 ,  0.9393078 , -0.26448894,  0.7209659 ,  0.6396534 ,\n",
       "       -0.15379323, -0.4135681 , -0.08166298, -1.1435658 ,  0.13013935,\n",
       "        1.2719821 ,  0.12039541, -0.87909645,  1.0164928 , -0.7053557 ,\n",
       "        0.503309  ,  0.60621494, -1.2442784 ,  0.40605584, -0.51534253,\n",
       "        0.3086602 , -1.0866809 , -1.040233  , -0.79791015,  1.2704713 ,\n",
       "        0.66949606,  0.34990668,  0.02133803,  0.3033422 ,  0.4654441 ,\n",
       "       -0.5042268 ,  0.01912702,  0.93914896,  0.018558  ,  0.59111524,\n",
       "        0.18980494, -1.2855755 , -0.97664493, -0.41491124, -0.8821173 ,\n",
       "       -0.03256388, -0.36359873, -0.3409506 ,  0.65520436,  0.0814295 ],\n",
       "      dtype=float32)"
      ]
     },
     "execution_count": 16,
     "metadata": {
      "tags": []
     },
     "output_type": "execute_result"
    }
   ],
   "source": [
    "model.wv['flower']"
   ]
  },
  {
   "cell_type": "markdown",
   "metadata": {
    "id": "R1L6Z5epaiwP"
   },
   "source": [
    "### Finding Words which have similar meaning"
   ]
  },
  {
   "cell_type": "code",
   "execution_count": null,
   "metadata": {
    "colab": {
     "base_uri": "https://localhost:8080/",
     "height": 255
    },
    "executionInfo": {
     "elapsed": 958,
     "status": "ok",
     "timestamp": 1572609064891,
     "user": {
      "displayName": "Rajeev Kumar",
      "photoUrl": "https://lh3.googleusercontent.com/a-/AAuE7mBC_Jt2baS4Hv7JJvLmgAJFGZpvIs0sh5ggT7ZM9hw=s64",
      "userId": "10567937244174773728"
     },
     "user_tz": -330
    },
    "id": "0Y93z8W0aiwR",
    "outputId": "e0ee9d4b-f0d1-45f5-eeaf-759086b493e2"
   },
   "outputs": [
    {
     "name": "stderr",
     "output_type": "stream",
     "text": [
      "2019-11-01 11:51:04,241 : INFO : precomputing L2-norms of word weight vectors\n",
      "/usr/local/lib/python3.6/dist-packages/gensim/matutils.py:737: FutureWarning: Conversion of the second argument of issubdtype from `int` to `np.signedinteger` is deprecated. In future, it will be treated as `np.int64 == np.dtype(int).type`.\n",
      "  if np.issubdtype(vec.dtype, np.int):\n"
     ]
    },
    {
     "data": {
      "text/plain": [
       "[('fantastic', 0.8958256840705872),\n",
       " ('terrific', 0.8778684139251709),\n",
       " ('wonderful', 0.8719034790992737),\n",
       " ('fine', 0.8489137291908264),\n",
       " ('good', 0.8311141729354858),\n",
       " ('brilliant', 0.8024341464042664),\n",
       " ('superb', 0.7979281544685364),\n",
       " ('perfect', 0.767290472984314),\n",
       " ('nice', 0.7573083639144897),\n",
       " ('amazing', 0.7572410106658936)]"
      ]
     },
     "execution_count": 17,
     "metadata": {
      "tags": []
     },
     "output_type": "execute_result"
    }
   ],
   "source": [
    "model.wv.most_similar('great')"
   ]
  },
  {
   "cell_type": "markdown",
   "metadata": {
    "id": "dWKCuhkSaiwT"
   },
   "source": [
    "### Find the word which is not like others"
   ]
  },
  {
   "cell_type": "code",
   "execution_count": null,
   "metadata": {
    "colab": {
     "base_uri": "https://localhost:8080/",
     "height": 154
    },
    "executionInfo": {
     "elapsed": 923,
     "status": "ok",
     "timestamp": 1572609180283,
     "user": {
      "displayName": "Rajeev Kumar",
      "photoUrl": "https://lh3.googleusercontent.com/a-/AAuE7mBC_Jt2baS4Hv7JJvLmgAJFGZpvIs0sh5ggT7ZM9hw=s64",
      "userId": "10567937244174773728"
     },
     "user_tz": -330
    },
    "id": "sU1M0zLOaiwV",
    "outputId": "8bb5e00a-ed46-4370-84cb-daf0d6942893"
   },
   "outputs": [
    {
     "name": "stderr",
     "output_type": "stream",
     "text": [
      "/usr/local/lib/python3.6/dist-packages/ipykernel_launcher.py:1: DeprecationWarning: Call to deprecated `doesnt_match` (Method will be removed in 4.0.0, use self.wv.doesnt_match() instead).\n",
      "  \"\"\"Entry point for launching an IPython kernel.\n",
      "/usr/local/lib/python3.6/dist-packages/gensim/models/keyedvectors.py:895: FutureWarning: arrays to stack must be passed as a \"sequence\" type such as list or tuple. Support for non-sequence iterables such as generators is deprecated as of NumPy 1.16 and will raise an error in the future.\n",
      "  vectors = vstack(self.word_vec(word, use_norm=True) for word in used_words).astype(REAL)\n",
      "/usr/local/lib/python3.6/dist-packages/gensim/matutils.py:737: FutureWarning: Conversion of the second argument of issubdtype from `int` to `np.signedinteger` is deprecated. In future, it will be treated as `np.int64 == np.dtype(int).type`.\n",
      "  if np.issubdtype(vec.dtype, np.int):\n"
     ]
    },
    {
     "data": {
      "text/plain": [
       "'kitchen'"
      ]
     },
     "execution_count": 18,
     "metadata": {
      "tags": []
     },
     "output_type": "execute_result"
    }
   ],
   "source": [
    "model.doesnt_match(\"man woman child kitchen\".split())"
   ]
  },
  {
   "cell_type": "markdown",
   "metadata": {
    "id": "dMDqwhZraiwW"
   },
   "source": [
    "### Saving the model"
   ]
  },
  {
   "cell_type": "code",
   "execution_count": null,
   "metadata": {
    "colab": {
     "base_uri": "https://localhost:8080/",
     "height": 138
    },
    "executionInfo": {
     "elapsed": 1857,
     "status": "ok",
     "timestamp": 1572609247373,
     "user": {
      "displayName": "Rajeev Kumar",
      "photoUrl": "https://lh3.googleusercontent.com/a-/AAuE7mBC_Jt2baS4Hv7JJvLmgAJFGZpvIs0sh5ggT7ZM9hw=s64",
      "userId": "10567937244174773728"
     },
     "user_tz": -330
    },
    "id": "ZMKmOZ0KaiwY",
    "outputId": "1dc061bd-2681-4cb8-a058-bcd877b6dcd8"
   },
   "outputs": [
    {
     "name": "stderr",
     "output_type": "stream",
     "text": [
      "2019-11-01 11:54:06,198 : INFO : saving Word2Vec object under word2vec-movie-50, separately None\n",
      "2019-11-01 11:54:06,201 : INFO : not storing attribute vectors_norm\n",
      "2019-11-01 11:54:06,205 : INFO : not storing attribute cum_table\n",
      "/usr/local/lib/python3.6/dist-packages/smart_open/smart_open_lib.py:398: UserWarning: This function is deprecated, use smart_open.open instead. See the migration notes for details: https://github.com/RaRe-Technologies/smart_open/blob/master/README.rst#migrating-to-the-new-open-function\n",
      "  'See the migration notes for details: %s' % _MIGRATION_NOTES_URL\n",
      "2019-11-01 11:54:06,424 : INFO : saved word2vec-movie-50\n"
     ]
    }
   ],
   "source": [
    "model.save('word2vec-movie-50')"
   ]
  },
  {
   "cell_type": "code",
   "execution_count": null,
   "metadata": {
    "id": "zCnMqOVDaiwb"
   },
   "outputs": [],
   "source": [
    "#Load model from memory\n",
    "model = gensim.models.Word2Vec.load('word2vec-movie-50')"
   ]
  },
  {
   "cell_type": "markdown",
   "metadata": {
    "id": "P5698UDZaiwf"
   },
   "source": [
    "1. Equation king + man = queen + ?\n",
    "2. In this case there may not be enough data for this equation"
   ]
  },
  {
   "cell_type": "code",
   "execution_count": null,
   "metadata": {
    "colab": {
     "base_uri": "https://localhost:8080/",
     "height": 272
    },
    "executionInfo": {
     "elapsed": 1232,
     "status": "ok",
     "timestamp": 1572609279191,
     "user": {
      "displayName": "Rajeev Kumar",
      "photoUrl": "https://lh3.googleusercontent.com/a-/AAuE7mBC_Jt2baS4Hv7JJvLmgAJFGZpvIs0sh5ggT7ZM9hw=s64",
      "userId": "10567937244174773728"
     },
     "user_tz": -330
    },
    "id": "20WIJxgNaiwi",
    "outputId": "0e39913e-acde-4151-8f64-c59822205a33"
   },
   "outputs": [
    {
     "name": "stderr",
     "output_type": "stream",
     "text": [
      "/usr/local/lib/python3.6/dist-packages/ipykernel_launcher.py:1: DeprecationWarning: Call to deprecated `most_similar` (Method will be removed in 4.0.0, use self.wv.most_similar() instead).\n",
      "  \"\"\"Entry point for launching an IPython kernel.\n",
      "/usr/local/lib/python3.6/dist-packages/gensim/matutils.py:737: FutureWarning: Conversion of the second argument of issubdtype from `int` to `np.signedinteger` is deprecated. In future, it will be treated as `np.int64 == np.dtype(int).type`.\n",
      "  if np.issubdtype(vec.dtype, np.int):\n"
     ]
    },
    {
     "data": {
      "text/plain": [
       "[('scientist', 0.5542353391647339),\n",
       " ('soldier', 0.547331690788269),\n",
       " ('bookie', 0.5213801860809326),\n",
       " ('batman', 0.5008849501609802),\n",
       " ('screenwriter', 0.4995546340942383),\n",
       " ('weingartner', 0.49908044934272766),\n",
       " ('filmmaker', 0.49852558970451355),\n",
       " ('joker', 0.4912058115005493),\n",
       " ('spielberg', 0.48970526456832886),\n",
       " ('outlaw', 0.4788774251937866)]"
      ]
     },
     "execution_count": 20,
     "metadata": {
      "tags": []
     },
     "output_type": "execute_result"
    }
   ],
   "source": [
    "model.most_similar(positive=['king','man'], negative=['queen'])"
   ]
  },
  {
   "cell_type": "code",
   "execution_count": null,
   "metadata": {
    "id": "iRBUsx0gnt-T"
   },
   "outputs": [],
   "source": [
    "model.wv['king'] + model.wv['man'] - model.wv['queen']"
   ]
  }
 ],
 "metadata": {
  "colab": {
   "name": "3. Word2vec_gensim_movie_data.ipynb",
   "provenance": []
  },
  "kernelspec": {
   "display_name": "Python 3",
   "language": "python",
   "name": "python3"
  },
  "language_info": {
   "codemirror_mode": {
    "name": "ipython",
    "version": 3
   },
   "file_extension": ".py",
   "mimetype": "text/x-python",
   "name": "python",
   "nbconvert_exporter": "python",
   "pygments_lexer": "ipython3",
   "version": "3.7.4"
  }
 },
 "nbformat": 4,
 "nbformat_minor": 1
}
