{
 "cells": [
  {
   "cell_type": "code",
   "execution_count": 14,
   "metadata": {
    "colab": {
     "base_uri": "https://localhost:8080/"
    },
    "executionInfo": {
     "elapsed": 1991,
     "status": "ok",
     "timestamp": 1615707574180,
     "user": {
      "displayName": "Sayan Dey",
      "photoUrl": "https://lh3.googleusercontent.com/a-/AOh14GgqVHJ9o6-7idGiRbNNd4iVc1VjzvuPnwmAnvEtD6U=s64",
      "userId": "03603580465490055794"
     },
     "user_tz": -330
    },
    "id": "Is1yLy_oj4Gu",
    "outputId": "c3e7ca9c-5408-4b05-8ba5-24c9f1bfabbc"
   },
   "outputs": [
    {
     "name": "stderr",
     "output_type": "stream",
     "text": [
      "/usr/local/lib/python3.7/dist-packages/ipykernel_launcher.py:2: FutureWarning: Passing a negative integer is deprecated in version 1.0 and will not be supported in future version. Instead, use None to not limit the column width.\n",
      "  \n"
     ]
    }
   ],
   "source": [
    "import pandas as pd\n",
    "pd.set_option('display.max_colwidth', -1)"
   ]
  },
  {
   "cell_type": "code",
   "execution_count": 15,
   "metadata": {
    "executionInfo": {
     "elapsed": 1799,
     "status": "ok",
     "timestamp": 1615707574181,
     "user": {
      "displayName": "Sayan Dey",
      "photoUrl": "https://lh3.googleusercontent.com/a-/AOh14GgqVHJ9o6-7idGiRbNNd4iVc1VjzvuPnwmAnvEtD6U=s64",
      "userId": "03603580465490055794"
     },
     "user_tz": -330
    },
    "id": "dev1T5xGj4G0"
   },
   "outputs": [],
   "source": [
    "import numpy as np\n",
    "import pandas as pd\n",
    "from scipy.stats import itemfreq\n",
    "from sklearn.feature_extraction.text import CountVectorizer, TfidfVectorizer\n"
   ]
  },
  {
   "cell_type": "markdown",
   "metadata": {
    "id": "ZfA9vYPb3hmr"
   },
   "source": [
    "### Understanding word2vec"
   ]
  },
  {
   "cell_type": "code",
   "execution_count": 16,
   "metadata": {
    "colab": {
     "base_uri": "https://localhost:8080/"
    },
    "executionInfo": {
     "elapsed": 1573,
     "status": "ok",
     "timestamp": 1615707574181,
     "user": {
      "displayName": "Sayan Dey",
      "photoUrl": "https://lh3.googleusercontent.com/a-/AOh14GgqVHJ9o6-7idGiRbNNd4iVc1VjzvuPnwmAnvEtD6U=s64",
      "userId": "03603580465490055794"
     },
     "user_tz": -330
    },
    "id": "Jo9YnF7849hE",
    "outputId": "8a45a325-ae87-45f8-9535-292c40435bca"
   },
   "outputs": [
    {
     "name": "stdout",
     "output_type": "stream",
     "text": [
      "Drive already mounted at /gdrive; to attempt to forcibly remount, call drive.mount(\"/gdrive\", force_remount=True).\n"
     ]
    }
   ],
   "source": [
    "from google.colab import drive\n",
    "drive.mount('/gdrive')"
   ]
  },
  {
   "cell_type": "code",
   "execution_count": 17,
   "metadata": {
    "executionInfo": {
     "elapsed": 20576,
     "status": "ok",
     "timestamp": 1615707593330,
     "user": {
      "displayName": "Sayan Dey",
      "photoUrl": "https://lh3.googleusercontent.com/a-/AOh14GgqVHJ9o6-7idGiRbNNd4iVc1VjzvuPnwmAnvEtD6U=s64",
      "userId": "03603580465490055794"
     },
     "user_tz": -330
    },
    "id": "g1Ejm5bB3hms"
   },
   "outputs": [],
   "source": [
    "from gensim.models.keyedvectors import KeyedVectors\n",
    "w2vec = KeyedVectors.load_word2vec_format(\"/gdrive/My Drive/Deep Learning AIML/Statistical NLP/Notebooks/gensim_glove.6B.50d.txt\", binary=False)"
   ]
  },
  {
   "cell_type": "code",
   "execution_count": 18,
   "metadata": {
    "executionInfo": {
     "elapsed": 20474,
     "status": "ok",
     "timestamp": 1615707593349,
     "user": {
      "displayName": "Sayan Dey",
      "photoUrl": "https://lh3.googleusercontent.com/a-/AOh14GgqVHJ9o6-7idGiRbNNd4iVc1VjzvuPnwmAnvEtD6U=s64",
      "userId": "03603580465490055794"
     },
     "user_tz": -330
    },
    "id": "ZX515Bki3hmu"
   },
   "outputs": [],
   "source": [
    "a = w2vec.word_vec(\"prince\")\n",
    "b = w2vec.word_vec(\"man\")\n",
    "c = w2vec.word_vec(\"princess\")\n",
    "d = w2vec.word_vec(\"woman\")\n",
    "e = w2vec.word_vec(\"fantastic\")\n",
    "f = w2vec.word_vec(\"amazing\")\n",
    "g = w2vec.word_vec(\"great\")\n",
    "h = w2vec.word_vec(\"bad\")"
   ]
  },
  {
   "cell_type": "code",
   "execution_count": 19,
   "metadata": {
    "colab": {
     "base_uri": "https://localhost:8080/"
    },
    "executionInfo": {
     "elapsed": 20363,
     "status": "ok",
     "timestamp": 1615707593350,
     "user": {
      "displayName": "Sayan Dey",
      "photoUrl": "https://lh3.googleusercontent.com/a-/AOh14GgqVHJ9o6-7idGiRbNNd4iVc1VjzvuPnwmAnvEtD6U=s64",
      "userId": "03603580465490055794"
     },
     "user_tz": -330
    },
    "id": "-v8dyYyt9ADa",
    "outputId": "eed3a269-bb29-4bee-ca44-f3620e1722ab"
   },
   "outputs": [
    {
     "data": {
      "text/plain": [
       "array([ 9.8846e-01,  1.4535e+00, -5.3081e-01,  1.0509e-01,  8.4058e-01,\n",
       "        1.4018e-01,  6.6562e-02,  1.3341e+00, -7.5813e-01, -3.5223e-01,\n",
       "        1.6588e-01,  1.0016e+00,  1.9623e-02, -6.6392e-01,  9.2825e-02,\n",
       "        2.5132e-01, -1.6274e-01, -1.1954e-01, -5.0072e-01,  6.7374e-01,\n",
       "        6.6886e-01, -3.8679e-02,  2.0223e-01, -1.5211e-01,  1.2169e-01,\n",
       "       -1.8324e+00, -8.5664e-01, -6.2454e-01, -3.1896e-01,  6.0221e-01,\n",
       "        1.4110e+00,  5.0157e-01, -1.1413e-01,  5.1808e-01,  8.4700e-01,\n",
       "        1.7618e-01, -3.5265e-02,  5.6405e-01, -3.8524e-01,  6.0270e-01,\n",
       "        3.4331e-01,  1.1836e+00, -3.7197e-01, -1.1069e+00,  1.2758e-04,\n",
       "       -1.8202e-01, -1.3696e+00, -1.4970e+00,  4.0618e-01, -4.2445e-01],\n",
       "      dtype=float32)"
      ]
     },
     "execution_count": 19,
     "metadata": {
      "tags": []
     },
     "output_type": "execute_result"
    }
   ],
   "source": [
    "a"
   ]
  },
  {
   "cell_type": "code",
   "execution_count": 20,
   "metadata": {
    "colab": {
     "base_uri": "https://localhost:8080/"
    },
    "executionInfo": {
     "elapsed": 20227,
     "status": "ok",
     "timestamp": 1615707593350,
     "user": {
      "displayName": "Sayan Dey",
      "photoUrl": "https://lh3.googleusercontent.com/a-/AOh14GgqVHJ9o6-7idGiRbNNd4iVc1VjzvuPnwmAnvEtD6U=s64",
      "userId": "03603580465490055794"
     },
     "user_tz": -330
    },
    "id": "lP5UJ0vp8Z2A",
    "outputId": "d017a956-890c-4910-f234-28964e427e06"
   },
   "outputs": [
    {
     "name": "stderr",
     "output_type": "stream",
     "text": [
      "/usr/local/lib/python3.7/dist-packages/ipykernel_launcher.py:1: DeprecationWarning: Call to deprecated `wv` (Attribute will be removed in 4.0.0, use self instead).\n",
      "  \"\"\"Entry point for launching an IPython kernel.\n"
     ]
    },
    {
     "data": {
      "text/plain": [
       "[('prince', 0.8236179351806641),\n",
       " ('queen', 0.7839042544364929),\n",
       " ('ii', 0.7746230363845825),\n",
       " ('emperor', 0.7736247181892395),\n",
       " ('son', 0.766719400882721),\n",
       " ('uncle', 0.7627150416374207),\n",
       " ('kingdom', 0.7542160749435425),\n",
       " ('throne', 0.7539913654327393),\n",
       " ('brother', 0.7492411136627197),\n",
       " ('ruler', 0.7434253096580505)]"
      ]
     },
     "execution_count": 20,
     "metadata": {
      "tags": []
     },
     "output_type": "execute_result"
    }
   ],
   "source": [
    "w2vec.wv.most_similar('king')"
   ]
  },
  {
   "cell_type": "code",
   "execution_count": 21,
   "metadata": {
    "colab": {
     "base_uri": "https://localhost:8080/"
    },
    "executionInfo": {
     "elapsed": 19943,
     "status": "ok",
     "timestamp": 1615707593351,
     "user": {
      "displayName": "Sayan Dey",
      "photoUrl": "https://lh3.googleusercontent.com/a-/AOh14GgqVHJ9o6-7idGiRbNNd4iVc1VjzvuPnwmAnvEtD6U=s64",
      "userId": "03603580465490055794"
     },
     "user_tz": -330
    },
    "id": "vd_FxspR8oxQ",
    "outputId": "0264fe6a-4686-4f53-de8c-bc3767015814"
   },
   "outputs": [
    {
     "data": {
      "text/plain": [
       "[('ruler', 0.7564873695373535),\n",
       " ('succeeded', 0.7022944092750549),\n",
       " ('brother', 0.7022433280944824),\n",
       " ('henry', 0.6932743191719055),\n",
       " ('edward', 0.6926167607307434),\n",
       " ('ali', 0.6923112273216248),\n",
       " ('sultan', 0.6916553378105164),\n",
       " ('charles', 0.686941921710968),\n",
       " ('nephew', 0.6842198967933655),\n",
       " ('uncle', 0.6790000796318054)]"
      ]
     },
     "execution_count": 21,
     "metadata": {
      "tags": []
     },
     "output_type": "execute_result"
    }
   ],
   "source": [
    "w2vec.most_similar(positive=['king','prince'], negative=['princess'])"
   ]
  },
  {
   "cell_type": "code",
   "execution_count": 22,
   "metadata": {
    "colab": {
     "base_uri": "https://localhost:8080/"
    },
    "executionInfo": {
     "elapsed": 19817,
     "status": "ok",
     "timestamp": 1615707593351,
     "user": {
      "displayName": "Sayan Dey",
      "photoUrl": "https://lh3.googleusercontent.com/a-/AOh14GgqVHJ9o6-7idGiRbNNd4iVc1VjzvuPnwmAnvEtD6U=s64",
      "userId": "03603580465490055794"
     },
     "user_tz": -330
    },
    "id": "D-5S1yzS5d94",
    "outputId": "4114dd54-c29f-4a39-d3ab-2ee8147de181"
   },
   "outputs": [
    {
     "data": {
      "text/plain": [
       "array([-1.8153e-01,  6.4827e-01, -5.8210e-01, -4.9451e-01,  1.5415e+00,\n",
       "        1.3450e+00, -4.3305e-01,  5.8059e-01,  3.5556e-01, -2.5184e-01,\n",
       "        2.0254e-01, -7.1643e-01,  3.0610e-01,  5.6127e-01,  8.3928e-01,\n",
       "       -3.8085e-01, -9.0875e-01,  4.3326e-01, -1.4436e-02,  2.3725e-01,\n",
       "       -5.3799e-01,  1.7773e+00, -6.6433e-02,  6.9795e-01,  6.9291e-01,\n",
       "       -2.6739e+00, -7.6805e-01,  3.3929e-01,  1.9695e-01, -3.5245e-01,\n",
       "        2.2920e+00, -2.7411e-01, -3.0169e-01,  8.5286e-04,  1.6923e-01,\n",
       "        9.1433e-02, -2.3610e-02,  3.6236e-02,  3.4488e-01, -8.3947e-01,\n",
       "       -2.5174e-01,  4.2123e-01,  4.8616e-01,  2.2325e-02,  5.5760e-01,\n",
       "       -8.5223e-01, -2.3073e-01, -1.3138e+00,  4.8764e-01, -1.0467e-01],\n",
       "      dtype=float32)"
      ]
     },
     "execution_count": 22,
     "metadata": {
      "tags": []
     },
     "output_type": "execute_result"
    }
   ],
   "source": [
    "d"
   ]
  },
  {
   "cell_type": "code",
   "execution_count": 26,
   "metadata": {
    "colab": {
     "base_uri": "https://localhost:8080/"
    },
    "executionInfo": {
     "elapsed": 1549,
     "status": "ok",
     "timestamp": 1615707636125,
     "user": {
      "displayName": "Sayan Dey",
      "photoUrl": "https://lh3.googleusercontent.com/a-/AOh14GgqVHJ9o6-7idGiRbNNd4iVc1VjzvuPnwmAnvEtD6U=s64",
      "userId": "03603580465490055794"
     },
     "user_tz": -330
    },
    "id": "9ub-YzEC3hmx",
    "outputId": "521ae26a-e5c8-4aee-ffc9-537a1eb7dc60"
   },
   "outputs": [
    {
     "data": {
      "text/plain": [
       "(0.8790130399273265, 4.7052455461111284e-17)"
      ]
     },
     "execution_count": 26,
     "metadata": {
      "tags": []
     },
     "output_type": "execute_result"
    }
   ],
   "source": [
    "from scipy.stats.stats import pearsonr\n",
    "pearsonr(e,f)"
   ]
  },
  {
   "cell_type": "code",
   "execution_count": 27,
   "metadata": {
    "colab": {
     "base_uri": "https://localhost:8080/"
    },
    "executionInfo": {
     "elapsed": 1466,
     "status": "ok",
     "timestamp": 1615707663911,
     "user": {
      "displayName": "Sayan Dey",
      "photoUrl": "https://lh3.googleusercontent.com/a-/AOh14GgqVHJ9o6-7idGiRbNNd4iVc1VjzvuPnwmAnvEtD6U=s64",
      "userId": "03603580465490055794"
     },
     "user_tz": -330
    },
    "id": "olF6JRiAgHg5",
    "outputId": "4eec2ced-d670-457d-8cca-53d7f2baa620"
   },
   "outputs": [
    {
     "data": {
      "text/plain": [
       "(0.6451530228512765, 4.2449909683657265e-07)"
      ]
     },
     "execution_count": 27,
     "metadata": {
      "tags": []
     },
     "output_type": "execute_result"
    }
   ],
   "source": [
    "from scipy.stats.stats import pearsonr\n",
    "pearsonr(g,h)"
   ]
  },
  {
   "cell_type": "markdown",
   "metadata": {
    "id": "WkN9EvVi3hmz"
   },
   "source": [
    "### Finding sentence vectors from word vectors\n"
   ]
  },
  {
   "cell_type": "code",
   "execution_count": 28,
   "metadata": {
    "executionInfo": {
     "elapsed": 1686,
     "status": "ok",
     "timestamp": 1615707951086,
     "user": {
      "displayName": "Sayan Dey",
      "photoUrl": "https://lh3.googleusercontent.com/a-/AOh14GgqVHJ9o6-7idGiRbNNd4iVc1VjzvuPnwmAnvEtD6U=s64",
      "userId": "03603580465490055794"
     },
     "user_tz": -330
    },
    "id": "NgZZh7Pa3hm0"
   },
   "outputs": [],
   "source": [
    "title1 = \"laws of physics\"\n",
    "title2 = \"theory of relativity\"\n",
    "title3 = \"battle of panipat\""
   ]
  },
  {
   "cell_type": "markdown",
   "metadata": {
    "id": "OhV2e2sT3hm2"
   },
   "source": [
    "#### Assignment: Find vector representation for each title by splitting the title into indivdiual words. Find vector for each word and average them. What's the pearson correlation between different titles?"
   ]
  },
  {
   "cell_type": "code",
   "execution_count": 29,
   "metadata": {
    "executionInfo": {
     "elapsed": 2465,
     "status": "ok",
     "timestamp": 1615707951877,
     "user": {
      "displayName": "Sayan Dey",
      "photoUrl": "https://lh3.googleusercontent.com/a-/AOh14GgqVHJ9o6-7idGiRbNNd4iVc1VjzvuPnwmAnvEtD6U=s64",
      "userId": "03603580465490055794"
     },
     "user_tz": -330
    },
    "id": "EqF9c1LgwGtm"
   },
   "outputs": [],
   "source": [
    "w1 = w2vec.word_vec(\"laws\")\n",
    "w2 = w2vec.word_vec(\"of\")\n",
    "w3 = w2vec.word_vec(\"physics\")\n",
    "w4 = w2vec.word_vec(\"theory\")\n",
    "w5 = w2vec.word_vec(\"of\")\n",
    "w6 = w2vec.word_vec(\"relativity\")\n",
    "w7 = w2vec.word_vec(\"battle\")\n",
    "w8 = w2vec.word_vec(\"of\")\n",
    "w9 = w2vec.word_vec(\"panipat\")"
   ]
  },
  {
   "cell_type": "code",
   "execution_count": 30,
   "metadata": {
    "executionInfo": {
     "elapsed": 2549,
     "status": "ok",
     "timestamp": 1615708016891,
     "user": {
      "displayName": "Sayan Dey",
      "photoUrl": "https://lh3.googleusercontent.com/a-/AOh14GgqVHJ9o6-7idGiRbNNd4iVc1VjzvuPnwmAnvEtD6U=s64",
      "userId": "03603580465490055794"
     },
     "user_tz": -330
    },
    "id": "66h-S1PEwry8"
   },
   "outputs": [],
   "source": [
    "title1wv = (w1+w2+w3)/3\n",
    "title2wv = (w4+w5+w6)/3\n",
    "title3wv = (w7+w8+w9)/3"
   ]
  },
  {
   "cell_type": "code",
   "execution_count": 31,
   "metadata": {
    "colab": {
     "base_uri": "https://localhost:8080/"
    },
    "executionInfo": {
     "elapsed": 2557,
     "status": "ok",
     "timestamp": 1615708028839,
     "user": {
      "displayName": "Sayan Dey",
      "photoUrl": "https://lh3.googleusercontent.com/a-/AOh14GgqVHJ9o6-7idGiRbNNd4iVc1VjzvuPnwmAnvEtD6U=s64",
      "userId": "03603580465490055794"
     },
     "user_tz": -330
    },
    "id": "sfAZpOcts9nY",
    "outputId": "e960b9f7-aade-477a-b40c-812e5b10bb60"
   },
   "outputs": [
    {
     "data": {
      "text/plain": [
       "array([-0.41165003,  0.32106668, -0.548472  , -0.14604734, -0.08014334,\n",
       "        0.57921   ,  0.37322664, -0.91621333, -0.05222334,  0.10800999,\n",
       "        0.34717265,  0.19584   , -0.19510369, -0.09276666,  0.13078   ,\n",
       "        0.02793   ,  0.06941167,  0.11746033, -0.28263333, -0.18569799,\n",
       "        0.6268566 , -0.00835667, -0.02554965, -0.31514   ,  0.05773   ,\n",
       "       -1.7224334 , -0.505338  , -0.62672   , -0.25312   ,  0.14738333,\n",
       "        2.6731665 , -0.52106   , -0.79387   , -1.3824034 ,  0.04651667,\n",
       "       -0.14059454, -0.06331   ,  0.31441465,  0.33561668,  0.6332434 ,\n",
       "       -0.31546   , -0.08330967,  0.656381  ,  0.799454  , -0.5040233 ,\n",
       "        0.28109732,  0.25718665,  0.24763334,  0.06121065, -0.43976998],\n",
       "      dtype=float32)"
      ]
     },
     "execution_count": 31,
     "metadata": {
      "tags": []
     },
     "output_type": "execute_result"
    }
   ],
   "source": [
    "title1wv"
   ]
  },
  {
   "cell_type": "code",
   "execution_count": 32,
   "metadata": {
    "colab": {
     "base_uri": "https://localhost:8080/"
    },
    "executionInfo": {
     "elapsed": 1480,
     "status": "ok",
     "timestamp": 1615708038760,
     "user": {
      "displayName": "Sayan Dey",
      "photoUrl": "https://lh3.googleusercontent.com/a-/AOh14GgqVHJ9o6-7idGiRbNNd4iVc1VjzvuPnwmAnvEtD6U=s64",
      "userId": "03603580465490055794"
     },
     "user_tz": -330
    },
    "id": "4EBZwhA6xQYP",
    "outputId": "d38cfb1f-581a-4d5c-b7cd-764d41b7f93d"
   },
   "outputs": [
    {
     "data": {
      "text/plain": [
       "(0.8310371748765593, 8.078782492695916e-14)"
      ]
     },
     "execution_count": 32,
     "metadata": {
      "tags": []
     },
     "output_type": "execute_result"
    }
   ],
   "source": [
    "pearsonr(title1wv,title2wv)"
   ]
  },
  {
   "cell_type": "code",
   "execution_count": 33,
   "metadata": {
    "colab": {
     "base_uri": "https://localhost:8080/"
    },
    "executionInfo": {
     "elapsed": 2107,
     "status": "ok",
     "timestamp": 1615708039509,
     "user": {
      "displayName": "Sayan Dey",
      "photoUrl": "https://lh3.googleusercontent.com/a-/AOh14GgqVHJ9o6-7idGiRbNNd4iVc1VjzvuPnwmAnvEtD6U=s64",
      "userId": "03603580465490055794"
     },
     "user_tz": -330
    },
    "id": "axYzLQwOl0mk",
    "outputId": "1378328a-7cbf-4cd7-fe42-a7d6856aa31f"
   },
   "outputs": [
    {
     "data": {
      "text/plain": [
       "(0.4834915892035435, 0.0003753148507448383)"
      ]
     },
     "execution_count": 33,
     "metadata": {
      "tags": []
     },
     "output_type": "execute_result"
    }
   ],
   "source": [
    "pearsonr(title2wv,title3wv)"
   ]
  },
  {
   "cell_type": "markdown",
   "metadata": {
    "id": "tWaFfCoNj4Hz"
   },
   "source": [
    "### Finding similiar books"
   ]
  },
  {
   "cell_type": "code",
   "execution_count": 34,
   "metadata": {
    "executionInfo": {
     "elapsed": 1188,
     "status": "ok",
     "timestamp": 1615708672026,
     "user": {
      "displayName": "Sayan Dey",
      "photoUrl": "https://lh3.googleusercontent.com/a-/AOh14GgqVHJ9o6-7idGiRbNNd4iVc1VjzvuPnwmAnvEtD6U=s64",
      "userId": "03603580465490055794"
     },
     "user_tz": -330
    },
    "id": "oFFg6e05j4Hz"
   },
   "outputs": [],
   "source": [
    "books_data = pd.read_csv('/gdrive/My Drive/Deep Learning AIML/Statistical NLP/Notebooks/books.csv',encoding=\"latin\")"
   ]
  },
  {
   "cell_type": "code",
   "execution_count": 35,
   "metadata": {
    "colab": {
     "base_uri": "https://localhost:8080/"
    },
    "executionInfo": {
     "elapsed": 846,
     "status": "ok",
     "timestamp": 1615708673483,
     "user": {
      "displayName": "Sayan Dey",
      "photoUrl": "https://lh3.googleusercontent.com/a-/AOh14GgqVHJ9o6-7idGiRbNNd4iVc1VjzvuPnwmAnvEtD6U=s64",
      "userId": "03603580465490055794"
     },
     "user_tz": -330
    },
    "id": "Wqyga4X03hm6",
    "outputId": "b8be74c6-fa9e-4d59-c79a-fb44c2e92b0a"
   },
   "outputs": [
    {
     "data": {
      "text/plain": [
       "(5700, 2)"
      ]
     },
     "execution_count": 35,
     "metadata": {
      "tags": []
     },
     "output_type": "execute_result"
    }
   ],
   "source": [
    "books_data.shape"
   ]
  },
  {
   "cell_type": "code",
   "execution_count": 36,
   "metadata": {
    "colab": {
     "base_uri": "https://localhost:8080/"
    },
    "executionInfo": {
     "elapsed": 840,
     "status": "ok",
     "timestamp": 1615708732471,
     "user": {
      "displayName": "Sayan Dey",
      "photoUrl": "https://lh3.googleusercontent.com/a-/AOh14GgqVHJ9o6-7idGiRbNNd4iVc1VjzvuPnwmAnvEtD6U=s64",
      "userId": "03603580465490055794"
     },
     "user_tz": -330
    },
    "id": "zGSyQyuY3hm9",
    "outputId": "3f379fab-33af-487d-90a2-e621737dcc9d"
   },
   "outputs": [
    {
     "data": {
      "text/plain": [
       "Index(['title', 'category'], dtype='object')"
      ]
     },
     "execution_count": 36,
     "metadata": {
      "tags": []
     },
     "output_type": "execute_result"
    }
   ],
   "source": [
    "books_data.columns"
   ]
  },
  {
   "cell_type": "code",
   "execution_count": 37,
   "metadata": {
    "executionInfo": {
     "elapsed": 848,
     "status": "ok",
     "timestamp": 1615708735596,
     "user": {
      "displayName": "Sayan Dey",
      "photoUrl": "https://lh3.googleusercontent.com/a-/AOh14GgqVHJ9o6-7idGiRbNNd4iVc1VjzvuPnwmAnvEtD6U=s64",
      "userId": "03603580465490055794"
     },
     "user_tz": -330
    },
    "id": "GkHdex0fj4H9"
   },
   "outputs": [],
   "source": [
    "import re\n",
    "books_data[\"title_clean\"] = [re.sub(\"[^a-zA-Z ]\",\"\",x).lower() for x in books_data[\"title\"]]"
   ]
  },
  {
   "cell_type": "code",
   "execution_count": 38,
   "metadata": {
    "colab": {
     "base_uri": "https://localhost:8080/"
    },
    "executionInfo": {
     "elapsed": 853,
     "status": "ok",
     "timestamp": 1615708741017,
     "user": {
      "displayName": "Sayan Dey",
      "photoUrl": "https://lh3.googleusercontent.com/a-/AOh14GgqVHJ9o6-7idGiRbNNd4iVc1VjzvuPnwmAnvEtD6U=s64",
      "userId": "03603580465490055794"
     },
     "user_tz": -330
    },
    "id": "Bl_EUgIFj4H_",
    "outputId": "aad47556-5e52-436d-916d-16edf67521f0"
   },
   "outputs": [
    {
     "name": "stderr",
     "output_type": "stream",
     "text": [
      "  0%|          | 0/5700 [00:00<?, ?it/s]/usr/local/lib/python3.7/dist-packages/ipykernel_launcher.py:7: RuntimeWarning: Mean of empty slice.\n",
      "  import sys\n",
      "/usr/local/lib/python3.7/dist-packages/numpy/core/_methods.py:170: RuntimeWarning: invalid value encountered in double_scalars\n",
      "  ret = ret.dtype.type(ret / rcount)\n",
      "100%|██████████| 5700/5700 [00:00<00:00, 24449.25it/s]\n"
     ]
    }
   ],
   "source": [
    "from tqdm import tqdm\n",
    "title_vec = np.zeros((books_data.shape[0],50))\n",
    "for i in tqdm(range(0,books_data.shape[0])):\n",
    "    words = books_data[\"title_clean\"].iloc[i].split(\" \")\n",
    "    words = [x.strip() for x in words]\n",
    "    ind_word_vecs = [w2vec.word_vec(x) for x in words if x in w2vec.vocab]\n",
    "    title_vec[i] = np.array(ind_word_vecs).mean(axis=0)"
   ]
  },
  {
   "cell_type": "code",
   "execution_count": 39,
   "metadata": {
    "executionInfo": {
     "elapsed": 1122,
     "status": "ok",
     "timestamp": 1615708744916,
     "user": {
      "displayName": "Sayan Dey",
      "photoUrl": "https://lh3.googleusercontent.com/a-/AOh14GgqVHJ9o6-7idGiRbNNd4iVc1VjzvuPnwmAnvEtD6U=s64",
      "userId": "03603580465490055794"
     },
     "user_tz": -330
    },
    "id": "-4WnrsDtj4IC"
   },
   "outputs": [],
   "source": [
    "title_vec = np.nan_to_num(title_vec)"
   ]
  },
  {
   "cell_type": "code",
   "execution_count": 40,
   "metadata": {
    "executionInfo": {
     "elapsed": 652,
     "status": "ok",
     "timestamp": 1615708744917,
     "user": {
      "displayName": "Sayan Dey",
      "photoUrl": "https://lh3.googleusercontent.com/a-/AOh14GgqVHJ9o6-7idGiRbNNd4iVc1VjzvuPnwmAnvEtD6U=s64",
      "userId": "03603580465490055794"
     },
     "user_tz": -330
    },
    "id": "hja1iMtt3hnN"
   },
   "outputs": [],
   "source": [
    "from sklearn.metrics.pairwise import cosine_similarity"
   ]
  },
  {
   "cell_type": "code",
   "execution_count": 41,
   "metadata": {
    "executionInfo": {
     "elapsed": 1335,
     "status": "ok",
     "timestamp": 1615708746437,
     "user": {
      "displayName": "Sayan Dey",
      "photoUrl": "https://lh3.googleusercontent.com/a-/AOh14GgqVHJ9o6-7idGiRbNNd4iVc1VjzvuPnwmAnvEtD6U=s64",
      "userId": "03603580465490055794"
     },
     "user_tz": -330
    },
    "id": "ZtjIUNzZ3hnP"
   },
   "outputs": [],
   "source": [
    "cosine_sim_titles = cosine_similarity(title_vec)"
   ]
  },
  {
   "cell_type": "code",
   "execution_count": 42,
   "metadata": {
    "colab": {
     "base_uri": "https://localhost:8080/"
    },
    "executionInfo": {
     "elapsed": 990,
     "status": "ok",
     "timestamp": 1615708746437,
     "user": {
      "displayName": "Sayan Dey",
      "photoUrl": "https://lh3.googleusercontent.com/a-/AOh14GgqVHJ9o6-7idGiRbNNd4iVc1VjzvuPnwmAnvEtD6U=s64",
      "userId": "03603580465490055794"
     },
     "user_tz": -330
    },
    "id": "KKVfWi0v3hnS",
    "outputId": "47089dce-e72f-45ed-871f-b0093e4c9938"
   },
   "outputs": [
    {
     "data": {
      "text/plain": [
       "(5700, 5700)"
      ]
     },
     "execution_count": 42,
     "metadata": {
      "tags": []
     },
     "output_type": "execute_result"
    }
   ],
   "source": [
    "cosine_sim_titles.shape"
   ]
  },
  {
   "cell_type": "code",
   "execution_count": 43,
   "metadata": {
    "colab": {
     "base_uri": "https://localhost:8080/",
     "height": 35
    },
    "executionInfo": {
     "elapsed": 589,
     "status": "ok",
     "timestamp": 1615708746910,
     "user": {
      "displayName": "Sayan Dey",
      "photoUrl": "https://lh3.googleusercontent.com/a-/AOh14GgqVHJ9o6-7idGiRbNNd4iVc1VjzvuPnwmAnvEtD6U=s64",
      "userId": "03603580465490055794"
     },
     "user_tz": -330
    },
    "id": "7J51mnfj3hnU",
    "outputId": "8a5b1275-b4aa-4cd6-98b2-155d1cc54877"
   },
   "outputs": [
    {
     "data": {
      "application/vnd.google.colaboratory.intrinsic+json": {
       "type": "string"
      },
      "text/plain": [
       "'Organ Transplantation (Health and Medical Issues Today)'"
      ]
     },
     "execution_count": 43,
     "metadata": {
      "tags": []
     },
     "output_type": "execute_result"
    }
   ],
   "source": [
    "# get books similiar to a given title..\n",
    "\n",
    "title_id = 13\n",
    "books_data['title'].iloc[title_id]"
   ]
  },
  {
   "cell_type": "code",
   "execution_count": 44,
   "metadata": {
    "colab": {
     "base_uri": "https://localhost:8080/"
    },
    "executionInfo": {
     "elapsed": 851,
     "status": "ok",
     "timestamp": 1615708835638,
     "user": {
      "displayName": "Sayan Dey",
      "photoUrl": "https://lh3.googleusercontent.com/a-/AOh14GgqVHJ9o6-7idGiRbNNd4iVc1VjzvuPnwmAnvEtD6U=s64",
      "userId": "03603580465490055794"
     },
     "user_tz": -330
    },
    "id": "1h5H0GOP3hnW",
    "outputId": "5b7aad8c-40d0-4ecd-b0d2-40d28698c30e"
   },
   "outputs": [
    {
     "data": {
      "text/plain": [
       "0.7729226325263809"
      ]
     },
     "execution_count": 44,
     "metadata": {
      "tags": []
     },
     "output_type": "execute_result"
    }
   ],
   "source": [
    "### Q: Find the titles with the highest degree of similarity (top 10)\n",
    "top_n_idx = 10\n",
    "top_n_sim_values = cosine_sim_titles[title_id, top_n_idx]\n",
    "top_n_sim_values"
   ]
  },
  {
   "cell_type": "code",
   "execution_count": null,
   "metadata": {
    "colab": {
     "base_uri": "https://localhost:8080/",
     "height": 182
    },
    "executionInfo": {
     "elapsed": 1133,
     "status": "error",
     "timestamp": 1601914029474,
     "user": {
      "displayName": "Sayan Dey",
      "photoUrl": "https://lh3.googleusercontent.com/a-/AOh14GgqVHJ9o6-7idGiRbNNd4iVc1VjzvuPnwmAnvEtD6U=s64",
      "userId": "03603580465490055794"
     },
     "user_tz": -330
    },
    "id": "YN32gGOB3hnZ",
    "outputId": "a534019e-d882-426e-b023-d2fda719fa54"
   },
   "outputs": [
    {
     "ename": "TypeError",
     "evalue": "ignored",
     "output_type": "error",
     "traceback": [
      "\u001b[0;31m---------------------------------------------------------------------------\u001b[0m",
      "\u001b[0;31mTypeError\u001b[0m                                 Traceback (most recent call last)",
      "\u001b[0;32m<ipython-input-44-05b7bd77ab6d>\u001b[0m in \u001b[0;36m<module>\u001b[0;34m()\u001b[0m\n\u001b[1;32m      1\u001b[0m \u001b[0;31m# find top n with values > 0\u001b[0m\u001b[0;34m\u001b[0m\u001b[0;34m\u001b[0m\u001b[0;34m\u001b[0m\u001b[0m\n\u001b[0;32m----> 2\u001b[0;31m \u001b[0mtop_n_idx\u001b[0m \u001b[0;34m=\u001b[0m \u001b[0mtop_n_idx\u001b[0m\u001b[0;34m[\u001b[0m\u001b[0mtop_n_sim_values\u001b[0m \u001b[0;34m>\u001b[0m \u001b[0;36m0\u001b[0m\u001b[0;34m]\u001b[0m\u001b[0;34m\u001b[0m\u001b[0;34m\u001b[0m\u001b[0m\n\u001b[0m",
      "\u001b[0;31mTypeError\u001b[0m: 'int' object is not subscriptable"
     ]
    }
   ],
   "source": [
    "# find top n with values > 0\n",
    "top_n_idx = top_n_idx[top_n_sim_values > 0]"
   ]
  },
  {
   "cell_type": "code",
   "execution_count": null,
   "metadata": {
    "colab": {
     "base_uri": "https://localhost:8080/",
     "height": 35
    },
    "executionInfo": {
     "elapsed": 1217,
     "status": "ok",
     "timestamp": 1601903894036,
     "user": {
      "displayName": "Sayan Dey",
      "photoUrl": "https://lh3.googleusercontent.com/a-/AOh14GgqVHJ9o6-7idGiRbNNd4iVc1VjzvuPnwmAnvEtD6U=s64",
      "userId": "03603580465490055794"
     },
     "user_tz": -330
    },
    "id": "Eo-lbuRg3hnb",
    "outputId": "80fc4e0b-c911-4ce4-ad18-8e1fe38d4b46"
   },
   "outputs": [
    {
     "data": {
      "application/vnd.google.colaboratory.intrinsic+json": {
       "type": "string"
      },
      "text/plain": [
       "\"Almost Anorexic: Is My (or My Loved One's) Relationship with Food a Problem? (The Almost Effect)\""
      ]
     },
     "execution_count": 27,
     "metadata": {
      "tags": []
     },
     "output_type": "execute_result"
    }
   ],
   "source": [
    "# Matching books\n",
    "books_data['title'].iloc[top_n_idx]"
   ]
  },
  {
   "cell_type": "markdown",
   "metadata": {
    "id": "fb5MFf9r3hnd"
   },
   "source": [
    "<b> Q: find the most similiar books corresponding to title id 34 - \"Shadowrun: Third Edition (FPR25000)\". \n",
    "What issues do you see with the results </b>"
   ]
  },
  {
   "cell_type": "markdown",
   "metadata": {
    "id": "1q5YHhLm3hne"
   },
   "source": [
    "### Using TF IDF with word2vec"
   ]
  },
  {
   "cell_type": "code",
   "execution_count": null,
   "metadata": {
    "id": "ksSpbrSQ3hnf"
   },
   "outputs": [],
   "source": [
    "from sklearn.feature_extraction.text import TfidfTransformer\n"
   ]
  },
  {
   "cell_type": "code",
   "execution_count": null,
   "metadata": {
    "id": "XNg51sFv3hnh"
   },
   "outputs": [],
   "source": [
    "# initialize vectorizer\n",
    "vect = TfidfVectorizer(ngram_range=(1,2),stop_words='english', max_features=5000)\n"
   ]
  },
  {
   "cell_type": "code",
   "execution_count": null,
   "metadata": {
    "id": "eGg0XmCC3hnj"
   },
   "outputs": [],
   "source": [
    "vect.fit(books_data['title_clean'])\n",
    "title_matrix = vect.transform(books_data['title_clean'])"
   ]
  },
  {
   "cell_type": "code",
   "execution_count": null,
   "metadata": {
    "id": "EfJl8x_H3hnm"
   },
   "outputs": [],
   "source": [
    "title_matrix = title_matrix.toarray()"
   ]
  },
  {
   "cell_type": "code",
   "execution_count": null,
   "metadata": {
    "colab": {
     "base_uri": "https://localhost:8080/",
     "height": 34
    },
    "executionInfo": {
     "elapsed": 1385,
     "status": "ok",
     "timestamp": 1601903901844,
     "user": {
      "displayName": "Sayan Dey",
      "photoUrl": "https://lh3.googleusercontent.com/a-/AOh14GgqVHJ9o6-7idGiRbNNd4iVc1VjzvuPnwmAnvEtD6U=s64",
      "userId": "03603580465490055794"
     },
     "user_tz": -330
    },
    "id": "ROI3eYYA3hnp",
    "outputId": "b0d170ca-d22e-4cb0-b50e-d2488764f617"
   },
   "outputs": [
    {
     "data": {
      "text/plain": [
       "(5700, 5000)"
      ]
     },
     "execution_count": 32,
     "metadata": {
      "tags": []
     },
     "output_type": "execute_result"
    }
   ],
   "source": [
    "title_matrix.shape"
   ]
  },
  {
   "cell_type": "code",
   "execution_count": null,
   "metadata": {
    "id": "kUSOeEix3hns"
   },
   "outputs": [],
   "source": [
    "# get tf idf weights\n",
    "idx = 34\n",
    "features = np.where(title_matrix[idx,:] > 0)[0]"
   ]
  },
  {
   "cell_type": "code",
   "execution_count": null,
   "metadata": {
    "colab": {
     "base_uri": "https://localhost:8080/",
     "height": 34
    },
    "executionInfo": {
     "elapsed": 1574,
     "status": "ok",
     "timestamp": 1601903902325,
     "user": {
      "displayName": "Sayan Dey",
      "photoUrl": "https://lh3.googleusercontent.com/a-/AOh14GgqVHJ9o6-7idGiRbNNd4iVc1VjzvuPnwmAnvEtD6U=s64",
      "userId": "03603580465490055794"
     },
     "user_tz": -330
    },
    "id": "llqwhfPn3hnu",
    "outputId": "168e55a3-9adc-43f9-bbc1-c0a070bb2b2e"
   },
   "outputs": [
    {
     "data": {
      "text/plain": [
       "['edition', 'shadowrun']"
      ]
     },
     "execution_count": 34,
     "metadata": {
      "tags": []
     },
     "output_type": "execute_result"
    }
   ],
   "source": [
    "feature_names = [vect.get_feature_names()[x] for x in features]\n",
    "feature_names"
   ]
  },
  {
   "cell_type": "markdown",
   "metadata": {
    "id": "m0DkrygP3hnx"
   },
   "source": [
    "#### Find the tf-idf weights of the 2 words. Which word has a higher weightage?"
   ]
  },
  {
   "cell_type": "code",
   "execution_count": null,
   "metadata": {
    "colab": {
     "base_uri": "https://localhost:8080/",
     "height": 34
    },
    "executionInfo": {
     "elapsed": 1222,
     "status": "ok",
     "timestamp": 1601903904081,
     "user": {
      "displayName": "Sayan Dey",
      "photoUrl": "https://lh3.googleusercontent.com/a-/AOh14GgqVHJ9o6-7idGiRbNNd4iVc1VjzvuPnwmAnvEtD6U=s64",
      "userId": "03603580465490055794"
     },
     "user_tz": -330
    },
    "id": "_pudnM_13hnx",
    "outputId": "f929a560-27b6-45af-aa18-95f5398ba39d"
   },
   "outputs": [
    {
     "data": {
      "text/plain": [
       "(2, 1)"
      ]
     },
     "execution_count": 35,
     "metadata": {
      "tags": []
     },
     "output_type": "execute_result"
    }
   ],
   "source": [
    "# feature weights\n",
    "feature_weights = np.array([title_matrix[idx,x] for x in features])[:,np.newaxis]\n",
    "feature_weights.shape"
   ]
  },
  {
   "cell_type": "code",
   "execution_count": null,
   "metadata": {
    "id": "Y7JE1VJT3hnz"
   },
   "outputs": [],
   "source": [
    "# multiplying tf idf weights with word2vec\n",
    "\n",
    "word_vecs = np.array([w2vec.word_vec(x) if x in w2vec.vocab else np.zeros(50) for x in feature_names])"
   ]
  },
  {
   "cell_type": "code",
   "execution_count": null,
   "metadata": {
    "colab": {
     "base_uri": "https://localhost:8080/",
     "height": 34
    },
    "executionInfo": {
     "elapsed": 1396,
     "status": "ok",
     "timestamp": 1601903904616,
     "user": {
      "displayName": "Sayan Dey",
      "photoUrl": "https://lh3.googleusercontent.com/a-/AOh14GgqVHJ9o6-7idGiRbNNd4iVc1VjzvuPnwmAnvEtD6U=s64",
      "userId": "03603580465490055794"
     },
     "user_tz": -330
    },
    "id": "RXn7nn5p3hn1",
    "outputId": "35467ebc-9ec3-44e5-de16-e3024939c300"
   },
   "outputs": [
    {
     "data": {
      "text/plain": [
       "(2, 50)"
      ]
     },
     "execution_count": 37,
     "metadata": {
      "tags": []
     },
     "output_type": "execute_result"
    }
   ],
   "source": [
    "word_vecs.shape"
   ]
  },
  {
   "cell_type": "code",
   "execution_count": null,
   "metadata": {
    "id": "fun6qAsV3hn4"
   },
   "outputs": [],
   "source": [
    "res = word_vecs*feature_weights"
   ]
  },
  {
   "cell_type": "code",
   "execution_count": null,
   "metadata": {
    "colab": {
     "base_uri": "https://localhost:8080/",
     "height": 34
    },
    "executionInfo": {
     "elapsed": 1143,
     "status": "ok",
     "timestamp": 1601903906610,
     "user": {
      "displayName": "Sayan Dey",
      "photoUrl": "https://lh3.googleusercontent.com/a-/AOh14GgqVHJ9o6-7idGiRbNNd4iVc1VjzvuPnwmAnvEtD6U=s64",
      "userId": "03603580465490055794"
     },
     "user_tz": -330
    },
    "id": "m-50LDcu3hn6",
    "outputId": "63dc679b-fbc9-4907-9f27-1bcebae6e23c"
   },
   "outputs": [
    {
     "data": {
      "text/plain": [
       "2"
      ]
     },
     "execution_count": 39,
     "metadata": {
      "tags": []
     },
     "output_type": "execute_result"
    }
   ],
   "source": [
    "res.shape[0]"
   ]
  },
  {
   "cell_type": "code",
   "execution_count": null,
   "metadata": {
    "id": "0_aXscaF3hn8"
   },
   "outputs": [],
   "source": [
    "def get_weighted_vectors(idx):\n",
    "    \n",
    "    features = np.where(title_matrix[idx,:] > 0)[0]\n",
    "    feature_names = [vect.get_feature_names()[x] for x in features]\n",
    "    feature_weights = np.array([title_matrix[idx,x] for x in features])[:,np.newaxis]\n",
    "    word_vecs = np.array([w2vec.word_vec(x) if x in w2vec.vocab else np.zeros(50) for x in feature_names])\n",
    "    res = word_vecs*feature_weights\n",
    "    return res.mean(axis=0)\n",
    "    "
   ]
  },
  {
   "cell_type": "code",
   "execution_count": null,
   "metadata": {
    "colab": {
     "base_uri": "https://localhost:8080/",
     "height": 89
    },
    "executionInfo": {
     "elapsed": 96711,
     "status": "ok",
     "timestamp": 1601904002483,
     "user": {
      "displayName": "Sayan Dey",
      "photoUrl": "https://lh3.googleusercontent.com/a-/AOh14GgqVHJ9o6-7idGiRbNNd4iVc1VjzvuPnwmAnvEtD6U=s64",
      "userId": "03603580465490055794"
     },
     "user_tz": -330
    },
    "id": "k8QUMaRM3hn-",
    "outputId": "1a9ca5af-b447-4995-d182-d692cda2f5a9"
   },
   "outputs": [
    {
     "name": "stderr",
     "output_type": "stream",
     "text": [
      "  1%|          | 39/5700 [00:00<01:33, 60.50it/s]/usr/local/lib/python3.6/dist-packages/ipykernel_launcher.py:8: RuntimeWarning: Mean of empty slice.\n",
      "  \n",
      "100%|██████████| 5700/5700 [01:35<00:00, 59.47it/s]\n"
     ]
    }
   ],
   "source": [
    "from tqdm import tqdm\n",
    "title_vec_weighted = np.zeros((books_data.shape[0],50))\n",
    "for i in tqdm(range(0,books_data.shape[0])):\n",
    "    vec = get_weighted_vectors(i)\n",
    "    \n",
    "    if vec.shape[0] == 0:\n",
    "        title_vec_weighted[i] = np.zeros(50)\n",
    "    else:\n",
    "        title_vec_weighted[i] = vec"
   ]
  },
  {
   "cell_type": "code",
   "execution_count": null,
   "metadata": {
    "colab": {
     "base_uri": "https://localhost:8080/",
     "height": 35
    },
    "executionInfo": {
     "elapsed": 95205,
     "status": "ok",
     "timestamp": 1601904002933,
     "user": {
      "displayName": "Sayan Dey",
      "photoUrl": "https://lh3.googleusercontent.com/a-/AOh14GgqVHJ9o6-7idGiRbNNd4iVc1VjzvuPnwmAnvEtD6U=s64",
      "userId": "03603580465490055794"
     },
     "user_tz": -330
    },
    "id": "sEYCz7DB3hoA",
    "outputId": "f48c681b-a098-402a-d44b-cbfbc86c3363"
   },
   "outputs": [
    {
     "data": {
      "application/vnd.google.colaboratory.intrinsic+json": {
       "type": "string"
      },
      "text/plain": [
       "'Shadowrun: Third Edition (FPR25000)'"
      ]
     },
     "execution_count": 42,
     "metadata": {
      "tags": []
     },
     "output_type": "execute_result"
    }
   ],
   "source": [
    "title_id=34\n",
    "books_data['title'].iloc[title_id]"
   ]
  },
  {
   "cell_type": "code",
   "execution_count": null,
   "metadata": {
    "colab": {
     "base_uri": "https://localhost:8080/",
     "height": 226
    },
    "executionInfo": {
     "elapsed": 95069,
     "status": "ok",
     "timestamp": 1601904002934,
     "user": {
      "displayName": "Sayan Dey",
      "photoUrl": "https://lh3.googleusercontent.com/a-/AOh14GgqVHJ9o6-7idGiRbNNd4iVc1VjzvuPnwmAnvEtD6U=s64",
      "userId": "03603580465490055794"
     },
     "user_tz": -330
    },
    "id": "MuUA5WNj3hoC",
    "outputId": "e2078fc3-46eb-4d5e-e7c4-db3dbeccd70c"
   },
   "outputs": [
    {
     "data": {
      "text/plain": [
       "34      Shadowrun: Third Edition (FPR25000)                                                                                                                                                        \n",
       "4879    Shadowrun 4th Edition                                                                                                                                                                      \n",
       "2795    Shadowrun Unwired (Shadowrun (Catalyst Hardcover))                                                                                                                                         \n",
       "4660    Rigger 2: A Shadowrun Sourcebook                                                                                                                                                           \n",
       "3956    Minecraft Pocket Edition: The Minecraft Pocket Edition Essentials Handbook Guide to Minecraft (An Unofficial Minecraft Pocket Edition Handbook) ... edition, minecraft handbook, minecraft)\n",
       "274     Sixth World Almanac (Shadowrun (Catalyst Hardcover))                                                                                                                                       \n",
       "4380    The Battletech Compendium                                                                                                                                                                  \n",
       "2082    Street Legends (Shadowrun (Catalyst Hardcover))                                                                                                                                            \n",
       "5167    Mob War! (Shadowrun, FAS7326)                                                                                                                                                              \n",
       "3985    Battletech Handbook: House Liao: A Faction Sourcebook (Battletech (Unnumbered))                                                                                                            \n",
       "Name: title, dtype: object"
      ]
     },
     "execution_count": 43,
     "metadata": {
      "tags": []
     },
     "output_type": "execute_result"
    }
   ],
   "source": [
    "\n",
    "cosine_sim_titles_weighted = cosine_similarity(title_vec_weighted)\n",
    "top_n_idx = np.flip(np.argsort(cosine_sim_titles_weighted[title_id,]),axis=0)[0:10]\n",
    "top_n_sim_values = cosine_sim_titles_weighted[title_id, top_n_idx]\n",
    "top_n_sim_values\n",
    "\n",
    "# find top n with values > 0\n",
    "top_n_idx = top_n_idx[top_n_sim_values > 0]\n",
    "# Matching books\n",
    "books_data['title'].iloc[top_n_idx]"
   ]
  },
  {
   "cell_type": "code",
   "execution_count": null,
   "metadata": {
    "id": "dQ9FzwHT3hoE"
   },
   "outputs": [],
   "source": []
  }
 ],
 "metadata": {
  "accelerator": "GPU",
  "colab": {
   "collapsed_sections": [],
   "name": "Pretrained_Word2vec_Case_Study.ipynb",
   "provenance": []
  },
  "kernelspec": {
   "display_name": "Python 3",
   "language": "python",
   "name": "python3"
  },
  "language_info": {
   "codemirror_mode": {
    "name": "ipython",
    "version": 3
   },
   "file_extension": ".py",
   "mimetype": "text/x-python",
   "name": "python",
   "nbconvert_exporter": "python",
   "pygments_lexer": "ipython3",
   "version": "3.7.4"
  }
 },
 "nbformat": 4,
 "nbformat_minor": 1
}
