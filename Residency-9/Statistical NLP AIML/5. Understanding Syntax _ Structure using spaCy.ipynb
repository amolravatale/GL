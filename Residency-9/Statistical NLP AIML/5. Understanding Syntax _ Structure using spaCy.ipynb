{
 "cells": [
  {
   "cell_type": "markdown",
   "metadata": {
    "colab_type": "text",
    "id": "O2JRE-wIk8zL"
   },
   "source": [
    "### Using Spacy"
   ]
  },
  {
   "cell_type": "code",
   "execution_count": 0,
   "metadata": {
    "colab": {},
    "colab_type": "code",
    "id": "30pQmtvllDx_"
   },
   "outputs": [],
   "source": [
    "#Install Spacy\n",
    "!pip install spacy --quiet"
   ]
  },
  {
   "cell_type": "code",
   "execution_count": 0,
   "metadata": {
    "colab": {},
    "colab_type": "code",
    "id": "Brn4ZdRPdnno"
   },
   "outputs": [],
   "source": [
    "import spacy"
   ]
  },
  {
   "cell_type": "code",
   "execution_count": 0,
   "metadata": {
    "colab": {},
    "colab_type": "code",
    "id": "nEZIh_QHk2QA"
   },
   "outputs": [],
   "source": [
    "# Download the large English model for spaCy\n",
    "!sudo python3 -m spacy download en_core_web_lg\n",
    "!python -m  spacy link --force en_core_web_lg en\n",
    "!python -m spacy info en"
   ]
  },
  {
   "cell_type": "code",
   "execution_count": 0,
   "metadata": {
    "colab": {},
    "colab_type": "code",
    "id": "81EyWlY8dpQY"
   },
   "outputs": [],
   "source": [
    "#Load models in memory\n",
    "nlp = spacy.load('en')"
   ]
  },
  {
   "cell_type": "markdown",
   "metadata": {
    "colab_type": "text",
    "id": "M4KwZZYplnCK"
   },
   "source": [
    "### Part of Speech (POS) Tagging"
   ]
  },
  {
   "cell_type": "code",
   "execution_count": 0,
   "metadata": {
    "colab": {},
    "colab_type": "code",
    "id": "-zXHwppndr7a"
   },
   "outputs": [],
   "source": [
    "#Process a sentence\n",
    "doc = nlp('She saw a bear.')"
   ]
  },
  {
   "cell_type": "code",
   "execution_count": 0,
   "metadata": {
    "colab": {},
    "colab_type": "code",
    "id": "OHUNAowlhPoU"
   },
   "outputs": [],
   "source": [
    "#Print POS tags for each word\n",
    "for word in doc:\n",
    "    print(word, word.pos_)"
   ]
  },
  {
   "cell_type": "code",
   "execution_count": 0,
   "metadata": {
    "colab": {},
    "colab_type": "code",
    "id": "9ySPyLddeEU7"
   },
   "outputs": [],
   "source": [
    "#Check another document\n",
    "doc2 = nlp('Your efforts will bear fruit.')\n",
    "for word in doc2:\n",
    "    print(word, word.pos_)"
   ]
  },
  {
   "cell_type": "markdown",
   "metadata": {
    "colab_type": "text",
    "id": "bphBabwMmo8U"
   },
   "source": [
    "### Depenency Parsing"
   ]
  },
  {
   "cell_type": "code",
   "execution_count": 0,
   "metadata": {
    "colab": {},
    "colab_type": "code",
    "id": "jcwsk4uPdvC2"
   },
   "outputs": [],
   "source": [
    "#Visualize dependecy parsing \n",
    "from spacy import displacy"
   ]
  },
  {
   "cell_type": "code",
   "execution_count": 0,
   "metadata": {
    "colab": {},
    "colab_type": "code",
    "id": "OhAn3tbfd_LU"
   },
   "outputs": [],
   "source": [
    "#For 1st sentence\n",
    "displacy.render(doc, style=\"dep\", jupyter=True)"
   ]
  },
  {
   "cell_type": "code",
   "execution_count": 0,
   "metadata": {
    "colab": {},
    "colab_type": "code",
    "id": "HfrVUkkleJy3"
   },
   "outputs": [],
   "source": [
    "#Second sentence\n",
    "displacy.render(doc2, style=\"dep\", jupyter=True)"
   ]
  },
  {
   "cell_type": "markdown",
   "metadata": {
    "colab_type": "text",
    "id": "7QsIS7Eem16h"
   },
   "source": [
    "### Named Entity Recognition (NER)"
   ]
  },
  {
   "cell_type": "code",
   "execution_count": 0,
   "metadata": {
    "colab": {},
    "colab_type": "code",
    "id": "CT8H2l_vhb5n"
   },
   "outputs": [],
   "source": [
    "text = \"Barack Obama is an American politician who served as the 44th President of the United States from 2009 to 2017. \" \\\n",
    "        \"He is the first African American to have served as president, as well as the first born outside the contiguous United States.\""
   ]
  },
  {
   "cell_type": "code",
   "execution_count": 0,
   "metadata": {
    "colab": {},
    "colab_type": "code",
    "id": "SvJX2-z8hiRB"
   },
   "outputs": [],
   "source": [
    "doc3 = nlp(text)"
   ]
  },
  {
   "cell_type": "code",
   "execution_count": 0,
   "metadata": {
    "colab": {},
    "colab_type": "code",
    "id": "9oacfvmohkoZ"
   },
   "outputs": [],
   "source": [
    "displacy.render(doc3, style=\"ent\", jupyter=True)"
   ]
  },
  {
   "cell_type": "markdown",
   "metadata": {
    "colab_type": "text",
    "id": "IgwxkhCrntHw"
   },
   "source": [
    "### Word Similarity"
   ]
  },
  {
   "cell_type": "code",
   "execution_count": 0,
   "metadata": {
    "colab": {},
    "colab_type": "code",
    "id": "fSMwNBurjwxF"
   },
   "outputs": [],
   "source": [
    "doc4 = nlp('car bus computer laptop')\n",
    "\n",
    "for word1 in doc4:\n",
    "    for word2 in doc4:\n",
    "        print(word1, word2, word1.similarity(word2))"
   ]
  },
  {
   "cell_type": "markdown",
   "metadata": {
    "colab_type": "text",
    "id": "ociJ1tLcpKVF"
   },
   "source": [
    "### Sentence Similarity"
   ]
  },
  {
   "cell_type": "code",
   "execution_count": 0,
   "metadata": {
    "colab": {},
    "colab_type": "code",
    "id": "clWn26F0oTmP"
   },
   "outputs": [],
   "source": [
    "#Two similar sentences\n",
    "doc5 = nlp('great movie')\n",
    "doc6 = nlp('awesome film')\n",
    "\n",
    "print(doc5.similarity(doc6))"
   ]
  },
  {
   "cell_type": "code",
   "execution_count": 0,
   "metadata": {
    "colab": {},
    "colab_type": "code",
    "id": "AYA6pG8xo4N5"
   },
   "outputs": [],
   "source": [
    "#Different sentence from above\n",
    "doc7 = nlp('keep learning')\n",
    "\n",
    "doc5.similarity(doc7)"
   ]
  }
 ],
 "metadata": {
  "colab": {
   "authorship_tag": "ABX9TyMl5yQRnvSkpFZRGCsIp6gF",
   "collapsed_sections": [
    "O2JRE-wIk8zL",
    "M4KwZZYplnCK",
    "bphBabwMmo8U",
    "7QsIS7Eem16h",
    "IgwxkhCrntHw",
    "ociJ1tLcpKVF"
   ],
   "name": "5. Understanding Syntax & Structure using spaCy.ipynb",
   "private_outputs": true,
   "provenance": []
  },
  "kernelspec": {
   "display_name": "Python 3",
   "language": "python",
   "name": "python3"
  },
  "language_info": {
   "codemirror_mode": {
    "name": "ipython",
    "version": 3
   },
   "file_extension": ".py",
   "mimetype": "text/x-python",
   "name": "python",
   "nbconvert_exporter": "python",
   "pygments_lexer": "ipython3",
   "version": "3.8.5"
  }
 },
 "nbformat": 4,
 "nbformat_minor": 1
}
