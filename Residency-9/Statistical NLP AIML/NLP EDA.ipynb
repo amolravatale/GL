{
 "cells": [
  {
   "cell_type": "markdown",
   "metadata": {
    "colab_type": "text",
    "id": "qgy1Jzg-wyRp"
   },
   "source": [
    "### Web data retrieval"
   ]
  },
  {
   "cell_type": "code",
   "execution_count": 0,
   "metadata": {
    "colab": {},
    "colab_type": "code",
    "id": "-Z1V23urwyRr"
   },
   "outputs": [],
   "source": [
    "import requests\n",
    "\n",
    "\n",
    "import matplotlib.pyplot as plt\n",
    "import os\n",
    "\n",
    "%matplotlib inline"
   ]
  },
  {
   "cell_type": "code",
   "execution_count": 0,
   "metadata": {
    "colab": {},
    "colab_type": "code",
    "id": "Chgw6qBTwyRv"
   },
   "outputs": [],
   "source": [
    "url = 'https://inshorts.com/en/read/technology'"
   ]
  },
  {
   "cell_type": "code",
   "execution_count": 0,
   "metadata": {
    "colab": {},
    "colab_type": "code",
    "id": "Y6NOaNg-wyRy"
   },
   "outputs": [],
   "source": [
    "news_data = []"
   ]
  },
  {
   "cell_type": "code",
   "execution_count": 4,
   "metadata": {
    "colab": {
     "base_uri": "https://localhost:8080/",
     "height": 34
    },
    "colab_type": "code",
    "executionInfo": {
     "elapsed": 2933,
     "status": "ok",
     "timestamp": 1566556166540,
     "user": {
      "displayName": "Sayan Dey",
      "photoUrl": "https://lh3.googleusercontent.com/a-/AAuE7mC4OsyKqeOJtjScxaIFMB9Yt7ywVtnbSsla3v0-NQ=s64",
      "userId": "03603580465490055794"
     },
     "user_tz": -330
    },
    "id": "21pavZKVwyR1",
    "outputId": "14964529-8807-43ba-f3f0-3d528402654d"
   },
   "outputs": [
    {
     "data": {
      "text/plain": [
       "'technology'"
      ]
     },
     "execution_count": 4,
     "metadata": {
      "tags": []
     },
     "output_type": "execute_result"
    }
   ],
   "source": [
    "news_category = url.split('/')[-1]\n",
    "news_category"
   ]
  },
  {
   "cell_type": "markdown",
   "metadata": {
    "colab_type": "text",
    "id": "Gqanoc8o1NCn"
   },
   "source": [
    "Download HTML data"
   ]
  },
  {
   "cell_type": "code",
   "execution_count": 5,
   "metadata": {
    "colab": {
     "base_uri": "https://localhost:8080/",
     "height": 54
    },
    "colab_type": "code",
    "executionInfo": {
     "elapsed": 1930,
     "status": "ok",
     "timestamp": 1566556208173,
     "user": {
      "displayName": "Sayan Dey",
      "photoUrl": "https://lh3.googleusercontent.com/a-/AAuE7mC4OsyKqeOJtjScxaIFMB9Yt7ywVtnbSsla3v0-NQ=s64",
      "userId": "03603580465490055794"
     },
     "user_tz": -330
    },
    "id": "q9xSbV5BwyR-",
    "outputId": "438c3c27-af7a-4561-b6df-85281688b558"
   },
   "outputs": [
    {
     "data": {
      "text/plain": [
       "b'<!doctype html>\\n<html lang=\"en\">\\n\\n<head>\\n  <meta charset=\"utf-8\" />\\n  <style>\\n    /* The Modal (background) */\\n    .modal_contact {\\n        display: none; /* Hidden by default */\\n        position: fixed; /* Stay in place */\\n        z-index: 8; /* Sit on top */\\n        left: 0;\\n        top: 0;\\n        width: 100%; /* Full width */\\n        height: 100%;\\n        overflow: auto; /* Enable scroll if needed */\\n        background-color: rgb(0,0,0); /* Fallback color */\\n        background-color: rgba(0,0,0,0.4); /* Black w/ opacity */\\n    }\\n\\n    /* Modal Content/Box */\\n    .modal-content {\\n        background-color: #fefefe;\\n        margin: 15% auto;\\n        padding: 20px !important;\\n        padding-top: 0 !important;\\n        /* border: 1px solid #888; */\\n        text-align: center;\\n        position: relative;\\n        border-radius: 6px;\\n    }\\n\\n    /* The Close Button */\\n    .close {\\n      left: 90%;\\n      color: #aaa;\\n      float: right;\\n      font-size: 28px;\\n      font-weight: bold;\\n    /* position: absolute; */\\n    /* bottom: 86%; */\\n    /* display: inline-block; */\\n    /* padding-left: 5%; */\\n    }\\n\\n    .close:hover,\\n    .close:focus {\\n        color: black;\\n        text-decoration: none;\\n        cursor: pointer;\\n    }\\n\\n    #myBtn {\\n      background: #999999;\\n      color: #ffffff;\\n      text-transform: uppercase;\\n      font-weight: bold;\\n      box-shadow: none;\\n      border-radius: 4px;\\n      border: none;\\n      font-size: .8rem;\\n      /* width: 8rem; */\\n      height: 2rem;\\n      line-height: 2rem;\\n    }\\n\\n    .contact {\\n      margin-bottom: 4%;\\n      clear: both;\\n    }\\n  </style>\\n\\n  \\n    \\n  <meta http-equiv=\"Content-Type\" content=\"text/html; charset=UTF-8\"/>\\n  <meta name=\"viewport\" content=\"width=device-width, initial-scale=1, maximum-scale=1.0, user-scalable=no\"/>\\n\\n  <meta http-equiv=\"X-UA-Compatible\" content=\"IE=edge\">\\n  <link rel=\"manifest\" href=\"manifest.json\">\\n\\n  <!-- Fallback to homescreen for Chrome   <39 on Android -->\\n  <meta name=\"mobile-web-app-capable\" content=\"yes\">\\n  <meta name=\"application-name\" content=\"inshorts\">\\n  <link rel=\"icon\" sizes=\"192x192\" href=\"https://assets.inshorts.com/website_assets/images/favicon.png\">\\n\\n  <!-- Add to homescreen for Safari on iOS -->\\n  <meta name=\"apple-mobile-web-app-capable\" content=\"yes\">\\n  <meta name=\"apple-mobile-web-app-status-bar-style\" content=\"#424242\">\\n  <meta name=\"apple-mobile-web-app-title\" content=\"inshorts\">\\n  <link rel=\"apple-touch-icon\" href=\"https://assets.inshorts.com/website_assets/images/favicon.png\">\\n\\n  <!-- Tile icon for Win8 (144x144 + tile color) -->\\n  <meta name=\"msapplication-TileImage\" content=\"fav/favicon.png\">\\n  <meta name=\"msapplication-TileColor\" content=\"#424242\">\\n\\n  <meta name=\"theme-color\" content=\"#424242\">\\n  <meta http-equiv=\"content-type\" content=\"text/html; charset=UTF-8\"/>\\n  <meta name=\"msapplication-navbutton-color\" content=\"#424242\">\\n  <meta name=\"apple-mobile-web-app-status-bar-style\" content=\"#424242\">\\n  <link rel=\"apple-touch-startup-image\" href=\"https://assets.inshorts.com/website_assets/images/favicon.png\">\\n  <meta name=\"apple-mobile-web-app-status-bar-style\" content=\"black-translucent\">\\n    <meta name=\"twitter:card\" content=\"app\"/>\\n  <meta name=\"twitter:site\" content=\"@inshorts\"/>\\n  <meta name=\"twitter:creator\" content=\"@inshorts\"/>\\n  <meta name=\"twitter:description\" content=\"Inshorts delivers news in less than 60 words, containing only the essential facts, compromising on anything that is close to opinionating and storytelling.\"/>\\n  <meta name=\"twitter:app:country\" content=\"IN\"/>\\n  <meta name=\"twitter:app:name:iphone\" content=\"Inshorts - Stay Informed\"/>\\n  <meta name=\"twitter:app:id:iphone\" content=\"892146527\"/>\\n  <meta name=\"twitter:app:url:iphone\" content=\"nis://news\"/>\\n  <meta name=\"twitter:app:name:ipad\" content=\"Inshorts - Stay Informed\"/>\\n  <meta name=\"twitter:app:id:ipad\" content=\"892146527\"/>\\n  <meta name=\"twitter:app:url:ipad\" content=\"nis://news\"/>\\n  <meta name=\"twitter:app:name:googleplay\" content=\"Inshorts - Stay Informed\"/>\\n  <meta name=\"twitter:app:id:googleplay\" content=\"com.nis.app\"/>\\n  <meta name=\"twitter:app:url:googleplay\" content=\"nis://news\"/>\\n\\n  <meta name=\"description\" content=\"Read technology news in English in less that 60 words and get updated with all top news and current affairs related to mobile, internet and computer in a fast and easy way with inshorts.\"/>\\n  <link href=\"https://inshorts.com/en/read/technology\" rel=\"canonical\" />\\n  <link href=\"https://inshorts.com/en/read/technology\" rel=\"alternate\" reflang=\"en\" />\\n  <meta name=\"apple-itunes-app\" content=\"app-id=892146527\">\\n  <meta name=\"google-play-app\" content=\"app-id=com.nis.app\">\\n\\n  <title>Technology News: Moblie News, Computer News in English with Inshorts</title>\\n  <!-- CSS  -->\\n  <link href=\\'https://fonts.googleapis.com/css?family=Roboto\\' rel=\\'stylesheet\\' type=\\'text/css\\'>\\n  <link href=\"https://fonts.googleapis.com/icon?family=Material+Icons\" rel=\"stylesheet\">\\n  <link rel=\"stylesheet\" href=\"https://cdnjs.cloudflare.com/ajax/libs/materialize/0.97.1/css/materialize.min.css\">\\n  <link href=\\'https://fonts.googleapis.com/css?family=Hind:500,600,400&subset=latin,devanagari\\' rel=\\'stylesheet\\' type=\\'text/css\\'>\\n  <link href=\"/dist/styles/main.css\" type=\"text/css\" rel=\"stylesheet\" media=\"screen,projection\"/>\\n  <link href=\"/dist/styles/index.css\" type=\"text/css\" rel=\"stylesheet\" media=\"screen,projection\"/>\\n  <link href=\"/dist/styles/read.css\" type=\"text/css\" rel=\"stylesheet\" media=\"screen,projection\"/>\\n  <link href=\"/dist/styles/news-card.css\" type=\"text/css\" rel=\"stylesheet\" media=\"screen,projection\"/>\\n  <link rel=\"icon\" type=\"image/png\" href=\"https://assets.inshorts.com/website_assets/images/favicon.png\" />\\n  <link rel=\"manifest\" href=\"/dist/manifest.json\">\\n  <script async=\\'async\\' src=\\'https://www.googletagservices.com/tag/js/gpt.js\\'></script>\\n  <script>\\n    var googletag = googletag || {};\\n    googletag.cmd = googletag.cmd || [];\\n    let top_banner_slot;\\n  </script>\\n\\n  <!-- Top banner for desktop-->\\n  <script>\\n    googletag.cmd.push(function() {\\n      \\n      \\n        //Top banner for desktop\\n        top_banner_slot = googletag.defineSlot(\\'/142919096/inshorts_website_728x90\\', [728, 90], \\'div-gpt-ad-1536585015617-0\\')\\n        .addService(googletag.pubads())\\n        .setCollapseEmptyDiv(true,true);\\n      \\n\\n      googletag.pubads().disableInitialLoad();\\n      googletag.pubads().enableSingleRequest();\\n      googletag.enableServices();\\n    });\\n  </script>\\n\\n</head>\\n<script>\\n  (function(i,s,o,g,r,a,m){i[\\'GoogleAnalyticsObject\\']=r;i[r]=i[r]||function(){\\n  (i[r].q=i[r].q||[]).push(arguments)},i[r].l=1*new Date();a=s.createElement(o),\\n  m=s.getElementsByTagName(o)[0];a.async=1;a.src=g;m.parentNode.insertBefore(a,m)\\n  })(window,document,\\'script\\',\\'//www.google-analytics.com/analytics.js\\',\\'ga\\');\\n\\n  ga(\\'create\\', \\'UA-55157535-6\\', \\'auto\\');\\n  ga(\\'send\\', \\'pageview\\');  \\n</script>\\n\\n<body>\\n\\n\\n  <!-- Begin comScore Tag -->\\n  <script>\\n    var _comscore = _comscore || [];\\n    _comscore.push({ c1: \"2\", c2: \"28268321\" });\\n    (function() {\\n      var s = document.createElement(\"script\"), el = document.getElementsByTagName(\"script\")[0]; s.async = true;\\n      s.src = (document.location.protocol == \"https:\" ? \"https://sb\" : \"http://b\") + \".scorecardresearch.com/beacon.js\";\\n      el.parentNode.insertBefore(s, el);\\n    })();\\n  </script>\\n  <noscript>\\n    <img src=\"https://sb.scorecardresearch.com/p?c1=2&c2=28268321&cv=2.0&cj=1\" />\\n  </noscript>\\n  \\n  \\n  <!-- HEADER START -->\\n  <div class=\"header z-depth-1\">\\n    <div class=\"menu clickable\">\\n      <button class=\"c-hamburger c-hamburger--htx\" ><span>toggle menu</span></button><span class=\"unselectable\">Menu</span>\\n    </div>\\n    <!--\\n    <div class=\"search-wrapper hide-on-small-only\">\\n      <input class=\"search-box\" placeholder=\"Search\" id=\"search\"/>\\n      <i id=\"search_icon\" class=\"material-icons search-icon\">search</i>\\n      <div class=\"search-box-ul\">&nbsp;</div>\\n    </div>\\n    -->\\n    <a href=\"/\"><img src=\"https://assets.inshorts.com/website_assets/images/logo_inshorts.png\" class=\"logo\"/></a>\\n  </div>\\n  <!-- HEADER END -->\\n\\n  \\n<!--SIDEBAR START -->\\n    <div class=\"hide-on-med-and-up sidebar-bg\" style=\"display: none;\">&nbsp;</div>\\n    <div class=\"sidebar\" style=\"overflow-y: scroll;\">\\n      <div class=\"lang-bar\" style=\"\">\\n        <div class=\"lang-selector clickable\">\\n          <a href=\\'/en/read/technology\\'><div class=\"lang-en selected\">English</div></a>\\n          <a href=\\'/hi/read/technology\\'><div class=\"lang-hi \">\\xe0\\xa4\\xb9\\xe0\\xa4\\xbf\\xe0\\xa4\\xa8\\xe0\\xa5\\x8d\\xe0\\xa4\\xa6\\xe0\\xa5\\x80</div></a>\\n        </div>\\n      </div>\\n\\n      <div>\\n        <div class=\"category-header\">Categories</div>\\n        <ul class=\"category-list\">\\n\\n          <a onclick=\"ga(\\'send\\', {\\'hitType\\': \\'event\\', \\'eventCategory\\': \\'LinkToAllNews\\', \\'eventAction\\': \\'clicked\\', \\'eventLabel\\': \\'RedirectedToAllNews\\' });\" href=\\'/en/read\\'> <li class=\"active-category \" >All News</li> </a>\\n\\n\\n          <a onclick=\"ga(\\'send\\', {\\'hitType\\': \\'event\\', \\'eventCategory\\': \\'LinkToIndiaNews\\', \\'eventAction\\': \\'clicked\\', \\'eventLabel\\': \\'RedirectedToIndiaNews\\' });\" href=\\'/en/read/national\\'> <li class=\"active-category \">India</li> </a>\\n\\n          <a onclick=\"ga(\"send\", {\"hitType\": \"event\", \"eventCategory\": \"LinkToIndiaNews\", \"eventAction\": \"clicked\", \"eventLabel\":  \"RedirectedToIndiaNews\" });\"  href=\\'/en/read/business\\'> <li class=\"active-category \">Business</li> </a>\\n\\n          <a onclick=\"ga(\\'send\\', {\\'hitType\\': \\'event\\', \\'eventCategory\\': \\'LinkTosportsNews\\', \\'eventAction\\': \\'clicked\\', \\'eventLabel\\': \\'RedirectedToSportsNews\\' });\"  href=\\'/en/read/sports\\'> <li class=\"active-category \">Sports</li> </a>\\n          <a onclick=\"ga(\\'send\\', {\\'hitType\\': \\'event\\', \\'eventCategory\\': \\'LinkToworldNews\\', \\'eventAction\\': \\'clicked\\', \\'eventLabel\\': \\'RedirectedToworldNews\\' });\" href=\\'/en/read/world\\'> <li class=\"active-category \">World</li> </a>\\n\\n          <a onclick=\"ga(\\'send\\', {\\'hitType\\': \\'event\\', \\'eventCategory\\': \\'LinkToworldNews\\', \\'eventAction\\': \\'clicked\\',   \\'eventLabel\\': \\'RedirectedToworldNews\\' });\"  href=\\'/en/read/politics\\'> <li class=\"active-category \">Politics</li> </a>\\n          <a onclick=\"ga(\\'send\\', {\\'hitType\\': \\'event\\', \\'eventCategory\\': \\'LinkTotechnologyNews\\', \\'eventAction\\': \\'clicked\\', \\'eventLabel\\': \\'RedirectedTotechnologyNews\\' });\" href=\\'/en/read/technology\\'> <li class=\"active-category selected\">Technology</li> </a>\\n\\n          <a onclick=\"ga(\\'send\\', {\\'hitType\\': \\'event\\', \\'eventCategory\\': \\'LinkTostartupNews\\', \\'eventAction\\': \\'clicked\\', \\'eventLabel\\': \\'RedirectedTostartupNews\\' });\"  href=\\'/en/read/startup\\'> <li class=\"active-category \">Startup</li> </a>\\n\\n\\n          <a onclick=\"ga(\\'send\\', {\\'hitType\\': \\'event\\', \\'eventCategory\\': \\'LinkToEntertainmentNews\\', \\'eventAction\\': \\'clicked\\', \\'eventLabel\\': \\'RedirectedToEntertainmentNews\\' });\"  href=\\'/en/read/entertainment\\'> <li class=\"active-category \">Entertainment</li> </a>\\n\\n\\n          <a onclick=\"ga(\\'send\\', {\\'hitType\\': \\'event\\', \\'eventCategory\\': \\'LinkToMiscellaneousNews\\', \\'eventAction\\': \\'clicked\\', \\'eventLabel\\': \\'RedirectedToMiscellaneousNews\\' });\"  href=\\'/en/read/miscellaneous\\'> <li class=\"active-category \">Miscellaneous</li> </a>\\n\\n          <a onclick=\"ga(\\'send\\', {\\'hitType\\': \\'event\\', \\'eventCategory\\': \\'LinkTohatkeNews\\', \\'eventAction\\': \\'clicked\\', \\'eventLabel\\': \\'RedirectedTohatkeNews\\' });\"  href=\\'/en/read/hatke\\'> <li class=\"active-category \">Hatke</li> </a>\\n\\n          <a onclick=\"ga(\\'send\\', {\\'hitType\\': \\'event\\', \\'eventCategory\\': \\'LinkToscienceNews\\', \\'eventAction\\': \\'clicked\\', \\'eventLabel\\': \\'RedirectedToscienceNews\\' });\"  href=\\'/en/read/science\\'> <li class=\"active-category \">Science</li> </a>\\n\\n          <a onclick=\"ga(\\'send\\', {\\'hitType\\': \\'event\\', \\'eventCategory\\': \\'LinkToautomobileNews\\', \\'eventAction\\': \\'clicked\\', \\'eventLabel\\': \\'RedirectedToautomobileNews\\' });\"  href=\\'/en/read/automobile\\'> <li class=\"active-category \">Automobile</li> </a>\\n\\n        </ul>\\n      </div>\\n    </div>\\n<!--SIDEBAR END -->\\n\\n  <!-- BODY START -->\\n  <div class=\"container\" style=\"min-height:550px;\">\\n    <div class=\"row\" style=\"padding-top:110px;\">\\n      \\n        <div id=\\'div-gpt-ad-1536585015617-0\\' style=\\'height:90px; width:728px;margin: auto; margin-bottom: 1%;\\'>\\n          <script>\\n          googletag.cmd.push(function() { \\n            googletag.display(\\'div-gpt-ad-1536585015617-0\\'); \\n            googletag.pubads().refresh([top_banner_slot]);\\n          });\\n          </script>\\n        </div>\\n      \\n      \\n\\n      \\n      <div class=\"hide-on-med-and-down z-depth-1\" style=\"margin-left : auto;margin-right : auto;margin-bottom: 32px;width : 900px;height:48px;background: #f44336\">\\n        <div style=\"font-weight: 300;color:white !important;font-size:14px;margin-left: 48px;margin-top: 13px;position: absolute;display: block;\">\\n          For the best experience use <a target=\"_blank\" href=\"https://inshorts.com/mobile\" style=\"color:white;appearance: none;font-weight: 500;\">inshorts</a> app on your smartphone\\n        </div>\\n        \\n        \\n      </div>\\n      \\n      <div class=\"card-stack\">\\n        \\n\\n\\n\\n\\n\\n<div class=\"\">\\n<div class=\"news-card z-depth-1\" itemscope itemtype=\"http://schema.org/NewsArticle\">\\n  <span content=\"\" itemscope itemprop=\"mainEntityOfPage\" itemType=\"https://schema.org/WebPage\" itemid=\"https://inshorts.com/en/news/oneplus-tv-set-to-launch-in-september-india-to-get-it-first-1566383027483\"></span>\\n  <span itemtype=\"https://schema.org/Person\" itemscope=\"itemscope\" itemprop=\"author\">\\n    <span itemprop=\"name\" content=\"Roshan Gupta\"></span>\\n  </span>\\n  <span itemprop=\"description\" content=\"OnePlus TV set to launch in September, India to get it first\"></span>\\n  <span itemprop=\"image\" itemscope itemtype=\"https://schema.org/ImageObject\">\\n    <meta itemprop=\"url\" content=\"https://static.inshorts.com/inshorts/images/v1/variants/jpg/m/2019/08_aug/21_wed/img_1566382907225_853.jpg?\"></meta>\\n    <meta itemprop=\"width\" content=\"864\"></meta>\\n    <meta itemprop=\"height\" content=\"483\"></meta>\\n  </span>\\n  <span itemtype=\"https://schema.org/Organization\" itemscope=\"itemscope\" itemprop=\"publisher\">\\n    <span itemprop=\"url\" content=\"https://inshorts.com/\"></span>\\n    <span itemprop=\"name\" content=\"Inshorts\"></span>\\n    <span itemprop=\"logo\" itemscope itemtype=\"https://schema.org/ImageObject\">\\n      <span itemprop=\"url\" content=\"https://assets.inshorts.com/inshorts/images/v1/variants/jpg/m/2018/11_nov/21_wed/img_1542823931298_497.jpg\"></span>\\n      <meta itemprop=\"width\" content=\"400\"></meta>\\n      <meta itemprop=\"height\" content=\"60\"></meta>\\n    </span>\\n  </span>\\n  <div class=\"news-card-image\" style= \"background-image: url(\\'https://static.inshorts.com/inshorts/images/v1/variants/jpg/m/2019/08_aug/21_wed/img_1566382907225_853.jpg?\\')\">\\n  </div>\\n  <div class=\"news-card-title news-right-box\">\\n    <a class=\"clickable\" onclick=\"ga(\\'send\\', {\\'hitType\\': \\'event\\', \\'eventCategory\\': \\'TitleOfNews\\', \\'eventAction\\': \\'clicked\\', \\'eventLabel\\': \\'OnePlus%20TV%20set%20to%20launch%20in%20September%2C%20India%20to%20get%20it%20first)\\' });\"  style=\"color:#44444d!important\" href=\"/en/news/oneplus-tv-set-to-launch-in-september-india-to-get-it-first-1566383027483\">\\n      <span itemprop=\"headline\">OnePlus TV set to launch in September, India to get it first</span>\\n    </a>\\n    <div class=\"news-card-author-time news-card-author-time-in-title\">\\n      <a href=\"/prev/en/news/oneplus-tv-set-to-launch-in-september-india-to-get-it-first-1566383027483\"><span class=\"short\">short</span></a> by <span class=\"author\">Roshan Gupta</span> / \\n      <span class=\"time\" itemprop=\"datePublished\" content=\"2019-08-21T10:23:47.000Z\">03:53 pm</span> on <span clas=\"date\">21 Aug 2019,Wednesday</span>\\n    </div>\\n  </div>\\n  <div class=\"news-card-content news-right-box\">\\n    <div itemprop=\"articleBody\">In a post on OnePlus forums, CEO Pete Lau announced that the OnePlus TV will be launched this September in India. &#34;Our goal is for OnePlus to set the standard for future smart TV products, because we focus on every last detail,&#34; added Pete Lau. Users can now register on the &#34;Notify Me&#34; page on Amazon to get updates.</div>\\n    <div class=\"news-card-author-time news-card-author-time-in-content\">\\n      <a href=\"/prev/en/news/oneplus-tv-set-to-launch-in-september-india-to-get-it-first-1566383027483\"><span class=\"short\">short</span></a> by <span class=\"author\">Roshan Gupta</span> / \\n      <span class=\"time\" itemprop=\"dateModified\" content=\"2019-08-21T10:23:47.000Z\" >03:53 pm</span> on <span class=\"date\">21 Aug</span>\\n    </div>\\n  </div>\\n  \\n    <div class=\"news-card-footer news-right-box\">\\n      <div class=\"read-more\">read more at <a class=\"source\" onclick=\"ga(\\'send\\', {\\'hitType\\': \\'event\\', \\'eventCategory\\': \\'ReadMore\\', \\'eventAction\\': \\'clicked\\', \\'eventLabel\\': \\'BGR%20India\\' });\" target=\"_blank\" href=\"https://www.bgr.in/news/oneplus-tv-india-launch-set-for-september-to-be-available-via-amazon-india/?utm_campaign=fullarticle&amp;utm_medium=referral&amp;utm_source=inshorts \">BGR India</a></div>\\n    </div>\\n  \\n\\n</div>\\n\\n  \\n</div>\\n\\n\\n\\n\\n<div class=\"\">\\n<div class=\"news-card z-depth-1\" itemscope itemtype=\"http://schema.org/NewsArticle\">\\n  <span content=\"\" itemscope itemprop=\"mainEntityOfPage\" itemType=\"https://schema.org/WebPage\" itemid=\"https://inshorts.com/en/news/facebook-india-content-reviewers-get-hike-after-low-pay-complain-1566301150873\"></span>\\n  <span itemtype=\"https://schema.org/Person\" itemscope=\"itemscope\" itemprop=\"author\">\\n    <span itemprop=\"name\" content=\"Kanishka Pandey\"></span>\\n  </span>\\n  <span itemprop=\"description\" content=\"Facebook India content reviewers get hike after low pay complain\"></span>\\n  <span itemprop=\"image\" itemscope itemtype=\"https://schema.org/ImageObject\">\\n    <meta itemprop=\"url\" content=\"https://static.inshorts.com/inshorts/images/v1/variants/jpg/m/2019/08_aug/20_tue/img_1566298172715_316.jpg?\"></meta>\\n    <meta itemprop=\"width\" content=\"864\"></meta>\\n    <meta itemprop=\"height\" content=\"483\"></meta>\\n  </span>\\n  <span itemtype=\"https://schema.org/Organization\" itemscope=\"itemscope\" itemprop=\"publisher\">\\n    <span itemprop=\"url\" content=\"https://inshorts.com/\"></span>\\n    <span itemprop=\"name\" content=\"Inshorts\"></span>\\n    <span itemprop=\"logo\" itemscope itemtype=\"https://schema.org/ImageObject\">\\n      <span itemprop=\"url\" content=\"https://assets.inshorts.com/inshorts/images/v1/variants/jpg/m/2018/11_nov/21_wed/img_1542823931298_497.jpg\"></span>\\n      <meta itemprop=\"width\" content=\"400\"></meta>\\n      <meta itemprop=\"height\" content=\"60\"></meta>\\n    </span>\\n  </span>\\n  <div class=\"news-card-image\" style= \"background-image: url(\\'https://static.inshorts.com/inshorts/images/v1/variants/jpg/m/2019/08_aug/20_tue/img_1566298172715_316.jpg?\\')\">\\n  </div>\\n  <div class=\"news-card-title news-right-box\">\\n    <a class=\"clickable\" onclick=\"ga(\\'send\\', {\\'hitType\\': \\'event\\', \\'eventCategory\\': \\'TitleOfNews\\', \\'eventAction\\': \\'clicked\\', \\'eventLabel\\': \\'Facebook%20India%20content%20reviewers%20get%20hike%20after%20low%20pay%20complain)\\' });\"  style=\"color:#44444d!important\" href=\"/en/news/facebook-india-content-reviewers-get-hike-after-low-pay-complain-1566301150873\">\\n      <span itemprop=\"headline\">Facebook India content reviewers get hike after low pay complain</span>\\n    </a>\\n    <div class=\"news-card-author-time news-card-author-time-in-title\">\\n      <a href=\"/prev/en/news/facebook-india-content-reviewers-get-hike-after-low-pay-complain-1566301150873\"><span class=\"short\">short</span></a> by <span class=\"author\">Kanishka Pandey</span> / \\n      <span class=\"time\" itemprop=\"datePublished\" content=\"2019-08-20T11:39:10.000Z\">05:09 pm</span> on <span clas=\"date\">20 Aug 2019,Tuesday</span>\\n    </div>\\n  </div>\\n  <div class=\"news-card-content news-right-box\">\\n    <div itemprop=\"articleBody\">Facebook&#39;s contractor in India for content moderation reviewers, technology outsourcing company Genpact, has raised the minimum wages offered to the reviewers. This comes months after the reviewers had described their work as &#34;underpaid&#34;, &#34;stressful&#34; and sometimes &#34;traumatic&#34;. However, the recent hikes were reportedly applied only to new recruits and were not applicable to existing workers.</div>\\n    <div class=\"news-card-author-time news-card-author-time-in-content\">\\n      <a href=\"/prev/en/news/facebook-india-content-reviewers-get-hike-after-low-pay-complain-1566301150873\"><span class=\"short\">short</span></a> by <span class=\"author\">Kanishka Pandey</span> / \\n      <span class=\"time\" itemprop=\"dateModified\" content=\"2019-08-20T11:39:10.000Z\" >05:09 pm</span> on <span class=\"date\">20 Aug</span>\\n    </div>\\n  </div>\\n  \\n    <div class=\"news-card-footer news-right-box\">\\n      <div class=\"read-more\">read more at <a class=\"source\" onclick=\"ga(\\'send\\', {\\'hitType\\': \\'event\\', \\'eventCategory\\': \\'ReadMore\\', \\'eventAction\\': \\'clicked\\', \\'eventLabel\\': \\'Entrackr\\' });\" target=\"_blank\" href=\"https://entrackr.com/2019/08/facebook-content-reviewers-gets-hike-in-india/?utm_campaign=fullarticle&amp;utm_medium=referral&amp;utm_source=inshorts \">Entrackr</a></div>\\n    </div>\\n  \\n\\n</div>\\n\\n  \\n</div>\\n\\n\\n\\n\\n<div class=\"\">\\n<div class=\"news-card z-depth-1\" itemscope itemtype=\"http://schema.org/NewsArticle\">\\n  <span content=\"\" itemscope itemprop=\"mainEntityOfPage\" itemType=\"https://schema.org/WebPage\" itemid=\"https://inshorts.com/en/news/pewdiepie-marries-girlfriend-after-8-years-of-dating-shares-pics-1566306043245\"></span>\\n  <span itemtype=\"https://schema.org/Person\" itemscope=\"itemscope\" itemprop=\"author\">\\n    <span itemprop=\"name\" content=\"Anmol Sharma\"></span>\\n  </span>\\n  <span itemprop=\"description\" content=\"PewDiePie marries girlfriend after 8 years of dating, shares pics\"></span>\\n  <span itemprop=\"image\" itemscope itemtype=\"https://schema.org/ImageObject\">\\n    <meta itemprop=\"url\" content=\"https://static.inshorts.com/inshorts/images/v1/variants/jpg/m/2019/08_aug/20_tue/img_1566304876812_41.jpg?\"></meta>\\n    <meta itemprop=\"width\" content=\"864\"></meta>\\n    <meta itemprop=\"height\" content=\"483\"></meta>\\n  </span>\\n  <span itemtype=\"https://schema.org/Organization\" itemscope=\"itemscope\" itemprop=\"publisher\">\\n    <span itemprop=\"url\" content=\"https://inshorts.com/\"></span>\\n    <span itemprop=\"name\" content=\"Inshorts\"></span>\\n    <span itemprop=\"logo\" itemscope itemtype=\"https://schema.org/ImageObject\">\\n      <span itemprop=\"url\" content=\"https://assets.inshorts.com/inshorts/images/v1/variants/jpg/m/2018/11_nov/21_wed/img_1542823931298_497.jpg\"></span>\\n      <meta itemprop=\"width\" content=\"400\"></meta>\\n      <meta itemprop=\"height\" content=\"60\"></meta>\\n    </span>\\n  </span>\\n  <div class=\"news-card-image\" style= \"background-image: url(\\'https://static.inshorts.com/inshorts/images/v1/variants/jpg/m/2019/08_aug/20_tue/img_1566304876812_41.jpg?\\')\">\\n  </div>\\n  <div class=\"news-card-title news-right-box\">\\n    <a class=\"clickable\" onclick=\"ga(\\'send\\', {\\'hitType\\': \\'event\\', \\'eventCategory\\': \\'TitleOfNews\\', \\'eventAction\\': \\'clicked\\', \\'eventLabel\\': \\'PewDiePie%20marries%20girlfriend%20after%208%20years%20of%20dating%2C%20shares%20pics)\\' });\"  style=\"color:#44444d!important\" href=\"/en/news/pewdiepie-marries-girlfriend-after-8-years-of-dating-shares-pics-1566306043245\">\\n      <span itemprop=\"headline\">PewDiePie marries girlfriend after 8 years of dating, shares pics</span>\\n    </a>\\n    <div class=\"news-card-author-time news-card-author-time-in-title\">\\n      <a href=\"/prev/en/news/pewdiepie-marries-girlfriend-after-8-years-of-dating-shares-pics-1566306043245\"><span class=\"short\">short</span></a> by <span class=\"author\">Anmol Sharma</span> / \\n      <span class=\"time\" itemprop=\"datePublished\" content=\"2019-08-20T13:00:43.000Z\">06:30 pm</span> on <span clas=\"date\">20 Aug 2019,Tuesday</span>\\n    </div>\\n  </div>\\n  <div class=\"news-card-content news-right-box\">\\n    <div itemprop=\"articleBody\">Felix Kjellberg, also known as PewDiePie, the most-subscribed individual on YouTube, tied the knot with his girlfriend Marzia Bisognin after eight years of dating. Sharing pictures from their wedding on social media, PewDiePie wrote, &#34;We are married!!! I&#39;m the happiest I can be...I&#39;m so lucky to share my life with this amazing woman.&#34;</div>\\n    <div class=\"news-card-author-time news-card-author-time-in-content\">\\n      <a href=\"/prev/en/news/pewdiepie-marries-girlfriend-after-8-years-of-dating-shares-pics-1566306043245\"><span class=\"short\">short</span></a> by <span class=\"author\">Anmol Sharma</span> / \\n      <span class=\"time\" itemprop=\"dateModified\" content=\"2019-08-20T13:00:43.000Z\" >06:30 pm</span> on <span class=\"date\">20 Aug</span>\\n    </div>\\n  </div>\\n  \\n    <div class=\"news-card-footer news-right-box\">\\n      <div class=\"read-more\">read more at <a class=\"source\" onclick=\"ga(\\'send\\', {\\'hitType\\': \\'event\\', \\'eventCategory\\': \\'ReadMore\\', \\'eventAction\\': \\'clicked\\', \\'eventLabel\\': \\'Twitter\\' });\" target=\"_blank\" href=\"https://twitter.com/pewdiepie/status/1163778709268176896?utm_campaign=fullarticle&amp;utm_medium=referral&amp;utm_source=inshorts \">Twitter</a></div>\\n    </div>\\n  \\n\\n</div>\\n\\n  \\n</div>\\n\\n\\n\\n\\n<div class=\"\">\\n<div class=\"news-card z-depth-1\" itemscope itemtype=\"http://schema.org/NewsArticle\">\\n  <span content=\"\" itemscope itemprop=\"mainEntityOfPage\" itemType=\"https://schema.org/WebPage\" itemid=\"https://inshorts.com/en/news/microsoft-contractors-hear-chats-mistakenly-recorded-via-xbox-report-1566538202259\"></span>\\n  <span itemtype=\"https://schema.org/Person\" itemscope=\"itemscope\" itemprop=\"author\">\\n    <span itemprop=\"name\" content=\"Kanishka Pandey\"></span>\\n  </span>\\n  <span itemprop=\"description\" content=\"Microsoft contractors hear chats mistakenly recorded via Xbox: Report\"></span>\\n  <span itemprop=\"image\" itemscope itemtype=\"https://schema.org/ImageObject\">\\n    <meta itemprop=\"url\" content=\"https://static.inshorts.com/inshorts/images/v1/variants/jpg/m/2019/08_aug/22_thu/img_1566492388029_779.jpg?\"></meta>\\n    <meta itemprop=\"width\" content=\"864\"></meta>\\n    <meta itemprop=\"height\" content=\"483\"></meta>\\n  </span>\\n  <span itemtype=\"https://schema.org/Organization\" itemscope=\"itemscope\" itemprop=\"publisher\">\\n    <span itemprop=\"url\" content=\"https://inshorts.com/\"></span>\\n    <span itemprop=\"name\" content=\"Inshorts\"></span>\\n    <span itemprop=\"logo\" itemscope itemtype=\"https://schema.org/ImageObject\">\\n      <span itemprop=\"url\" content=\"https://assets.inshorts.com/inshorts/images/v1/variants/jpg/m/2018/11_nov/21_wed/img_1542823931298_497.jpg\"></span>\\n      <meta itemprop=\"width\" content=\"400\"></meta>\\n      <meta itemprop=\"height\" content=\"60\"></meta>\\n    </span>\\n  </span>\\n  <div class=\"news-card-image\" style= \"background-image: url(\\'https://static.inshorts.com/inshorts/images/v1/variants/jpg/m/2019/08_aug/22_thu/img_1566492388029_779.jpg?\\')\">\\n  </div>\\n  <div class=\"news-card-title news-right-box\">\\n    <a class=\"clickable\" onclick=\"ga(\\'send\\', {\\'hitType\\': \\'event\\', \\'eventCategory\\': \\'TitleOfNews\\', \\'eventAction\\': \\'clicked\\', \\'eventLabel\\': \\'Microsoft%20contractors%20hear%20chats%20mistakenly%20recorded%20via%20Xbox%3A%20Report)\\' });\"  style=\"color:#44444d!important\" href=\"/en/news/microsoft-contractors-hear-chats-mistakenly-recorded-via-xbox-report-1566538202259\">\\n      <span itemprop=\"headline\">Microsoft contractors hear chats mistakenly recorded via Xbox: Report</span>\\n    </a>\\n    <div class=\"news-card-author-time news-card-author-time-in-title\">\\n      <a href=\"/prev/en/news/microsoft-contractors-hear-chats-mistakenly-recorded-via-xbox-report-1566538202259\"><span class=\"short\">short</span></a> by <span class=\"author\">Kanishka Pandey</span> / \\n      <span class=\"time\" itemprop=\"datePublished\" content=\"2019-08-23T05:30:02.000Z\">11:00 am</span> on <span clas=\"date\">23 Aug 2019,Friday</span>\\n    </div>\\n  </div>\\n  <div class=\"news-card-content news-right-box\">\\n    <div itemprop=\"articleBody\">Third-party Microsoft contractors listened to Xbox users speaking in their homes in order to improve the console&#39;s voice command features, Motherboard reported. The contractors alleged that the chats, supposed to be captured following a voice command, were sometimes recorded mistakenly. A former unnamed contractor claimed that most of the voices they heard were of children, the report added.</div>\\n    <div class=\"news-card-author-time news-card-author-time-in-content\">\\n      <a href=\"/prev/en/news/microsoft-contractors-hear-chats-mistakenly-recorded-via-xbox-report-1566538202259\"><span class=\"short\">short</span></a> by <span class=\"author\">Kanishka Pandey</span> / \\n      <span class=\"time\" itemprop=\"dateModified\" content=\"2019-08-23T05:30:02.000Z\" >11:00 am</span> on <span class=\"date\">23 Aug</span>\\n    </div>\\n  </div>\\n  \\n    <div class=\"news-card-footer news-right-box\">\\n      <div class=\"read-more\">read more at <a class=\"source\" onclick=\"ga(\\'send\\', {\\'hitType\\': \\'event\\', \\'eventCategory\\': \\'ReadMore\\', \\'eventAction\\': \\'clicked\\', \\'eventLabel\\': \\'Engadget\\' });\" target=\"_blank\" href=\"https://www.engadget.com/2019/08/21/microsoft-contractors-heard-xbox-audio/?utm_campaign=fullarticle&amp;utm_medium=referral&amp;utm_source=inshorts \">Engadget</a></div>\\n    </div>\\n  \\n\\n</div>\\n\\n  \\n</div>\\n\\n\\n\\n\\n  \\n    <div id=\\'div-gpt-ad-1536748319959-gntpcyk8-1\\' style=\\'height:250px; width:900px; margin: auto; margin-bottom: 2%;\\'>\\n      <script>\\n        googletag.cmd.push(function() { \\n          //News banner for desktop\\n          var slotIdWeb = \\'div-gpt-ad-1536748319959-gntpcyk8-1\\';\\n          var slot = googletag.defineSlot(\\'/142919096/inshorts_website_900x250\\', [900, 250], slotIdWeb)\\n          .addService(googletag.pubads())\\n          .setCollapseEmptyDiv(true,true);\\n\\n          googletag.display(\\'div-gpt-ad-1536748319959-gntpcyk8-1\\');\\n          googletag.pubads().refresh([slot]);\\n        });\\n      </script>\\n    </div>\\n  \\n\\n<div class=\"\">\\n<div class=\"news-card z-depth-1\" itemscope itemtype=\"http://schema.org/NewsArticle\">\\n  <span content=\"\" itemscope itemprop=\"mainEntityOfPage\" itemType=\"https://schema.org/WebPage\" itemid=\"https://inshorts.com/en/news/twitter-faces-outage-across-several-countries-including-india-1566402195278\"></span>\\n  <span itemtype=\"https://schema.org/Person\" itemscope=\"itemscope\" itemprop=\"author\">\\n    <span itemprop=\"name\" content=\"Kanishka Pandey\"></span>\\n  </span>\\n  <span itemprop=\"description\" content=\"Twitter faces outage across several countries including India\"></span>\\n  <span itemprop=\"image\" itemscope itemtype=\"https://schema.org/ImageObject\">\\n    <meta itemprop=\"url\" content=\"https://static.inshorts.com/inshorts/images/v1/variants/jpg/m/2019/08_aug/21_wed/img_1566401456033_54.jpg?\"></meta>\\n    <meta itemprop=\"width\" content=\"864\"></meta>\\n    <meta itemprop=\"height\" content=\"483\"></meta>\\n  </span>\\n  <span itemtype=\"https://schema.org/Organization\" itemscope=\"itemscope\" itemprop=\"publisher\">\\n    <span itemprop=\"url\" content=\"https://inshorts.com/\"></span>\\n    <span itemprop=\"name\" content=\"Inshorts\"></span>\\n    <span itemprop=\"logo\" itemscope itemtype=\"https://schema.org/ImageObject\">\\n      <span itemprop=\"url\" content=\"https://assets.inshorts.com/inshorts/images/v1/variants/jpg/m/2018/11_nov/21_wed/img_1542823931298_497.jpg\"></span>\\n      <meta itemprop=\"width\" content=\"400\"></meta>\\n      <meta itemprop=\"height\" content=\"60\"></meta>\\n    </span>\\n  </span>\\n  <div class=\"news-card-image\" style= \"background-image: url(\\'https://static.inshorts.com/inshorts/images/v1/variants/jpg/m/2019/08_aug/21_wed/img_1566401456033_54.jpg?\\')\">\\n  </div>\\n  <div class=\"news-card-title news-right-box\">\\n    <a class=\"clickable\" onclick=\"ga(\\'send\\', {\\'hitType\\': \\'event\\', \\'eventCategory\\': \\'TitleOfNews\\', \\'eventAction\\': \\'clicked\\', \\'eventLabel\\': \\'Twitter%20faces%20outage%20across%20several%20countries%20including%20India)\\' });\"  style=\"color:#44444d!important\" href=\"/en/news/twitter-faces-outage-across-several-countries-including-india-1566402195278\">\\n      <span itemprop=\"headline\">Twitter faces outage across several countries including India</span>\\n    </a>\\n    <div class=\"news-card-author-time news-card-author-time-in-title\">\\n      <a href=\"/prev/en/news/twitter-faces-outage-across-several-countries-including-india-1566402195278\"><span class=\"short\">short</span></a> by <span class=\"author\">Kanishka Pandey</span> / \\n      <span class=\"time\" itemprop=\"datePublished\" content=\"2019-08-21T15:43:15.000Z\">09:13 pm</span> on <span clas=\"date\">21 Aug 2019,Wednesday</span>\\n    </div>\\n  </div>\\n  <div class=\"news-card-content news-right-box\">\\n    <div itemprop=\"articleBody\">Twitter on Wednesday faced outage across several countries worldwide, which likely originated around 7:36 PM in India, as per outage monitoring website DownDetector. The platform&#39;s Android and iOS apps also displayed error messages like &#39;can&#39;t retrieve tweets at the moment&#39; and &#39;something went wrong&#39;. Twitter&#39;s backend software, TweetDeck was also reportedly not able to post anything.</div>\\n    <div class=\"news-card-author-time news-card-author-time-in-content\">\\n      <a href=\"/prev/en/news/twitter-faces-outage-across-several-countries-including-india-1566402195278\"><span class=\"short\">short</span></a> by <span class=\"author\">Kanishka Pandey</span> / \\n      <span class=\"time\" itemprop=\"dateModified\" content=\"2019-08-21T15:43:15.000Z\" >09:13 pm</span> on <span class=\"date\">21 Aug</span>\\n    </div>\\n  </div>\\n  \\n\\n</div>\\n\\n  \\n</div>\\n\\n\\n\\n\\n<div class=\"\">\\n<div class=\"news-card z-depth-1\" itemscope itemtype=\"http://schema.org/NewsArticle\">\\n  <span content=\"\" itemscope itemprop=\"mainEntityOfPage\" itemType=\"https://schema.org/WebPage\" itemid=\"https://inshorts.com/en/news/200-pakistani-twitter-accounts-suspended-over-kashmir-posts-1566319225579\"></span>\\n  <span itemtype=\"https://schema.org/Person\" itemscope=\"itemscope\" itemprop=\"author\">\\n    <span itemprop=\"name\" content=\"Apaar Sharma\"></span>\\n  </span>\\n  <span itemprop=\"description\" content=\"200 Pakistani Twitter accounts suspended over Kashmir posts\"></span>\\n  <span itemprop=\"image\" itemscope itemtype=\"https://schema.org/ImageObject\">\\n    <meta itemprop=\"url\" content=\"https://static.inshorts.com/inshorts/images/v1/variants/jpg/m/2019/08_aug/20_tue/img_1566317351798_445.jpg?\"></meta>\\n    <meta itemprop=\"width\" content=\"864\"></meta>\\n    <meta itemprop=\"height\" content=\"483\"></meta>\\n  </span>\\n  <span itemtype=\"https://schema.org/Organization\" itemscope=\"itemscope\" itemprop=\"publisher\">\\n    <span itemprop=\"url\" content=\"https://inshorts.com/\"></span>\\n    <span itemprop=\"name\" content=\"Inshorts\"></span>\\n    <span itemprop=\"logo\" itemscope itemtype=\"https://schema.org/ImageObject\">\\n      <span itemprop=\"url\" content=\"https://assets.inshorts.com/inshorts/images/v1/variants/jpg/m/2018/11_nov/21_wed/img_1542823931298_497.jpg\"></span>\\n      <meta itemprop=\"width\" content=\"400\"></meta>\\n      <meta itemprop=\"height\" content=\"60\"></meta>\\n    </span>\\n  </span>\\n  <div class=\"news-card-image\" style= \"background-image: url(\\'https://static.inshorts.com/inshorts/images/v1/variants/jpg/m/2019/08_aug/20_tue/img_1566317351798_445.jpg?\\')\">\\n  </div>\\n  <div class=\"news-card-title news-right-box\">\\n    <a class=\"clickable\" onclick=\"ga(\\'send\\', {\\'hitType\\': \\'event\\', \\'eventCategory\\': \\'TitleOfNews\\', \\'eventAction\\': \\'clicked\\', \\'eventLabel\\': \\'200%20Pakistani%20Twitter%20accounts%20suspended%20over%20Kashmir%20posts)\\' });\"  style=\"color:#44444d!important\" href=\"/en/news/200-pakistani-twitter-accounts-suspended-over-kashmir-posts-1566319225579\">\\n      <span itemprop=\"headline\">200 Pakistani Twitter accounts suspended over Kashmir posts</span>\\n    </a>\\n    <div class=\"news-card-author-time news-card-author-time-in-title\">\\n      <a href=\"/prev/en/news/200-pakistani-twitter-accounts-suspended-over-kashmir-posts-1566319225579\"><span class=\"short\">short</span></a> by <span class=\"author\">Apaar Sharma</span> / \\n      <span class=\"time\" itemprop=\"datePublished\" content=\"2019-08-20T16:40:25.000Z\">10:10 pm</span> on <span clas=\"date\">20 Aug 2019,Tuesday</span>\\n    </div>\\n  </div>\\n  <div class=\"news-card-content news-right-box\">\\n    <div itemprop=\"articleBody\">Twitter has suspended 200 Pakistani accounts after India objected to a number of anti-India tweets emanating from Pakistan. Pakistan has specified to Twitter that 200 accounts that were suspended in the past week were posting about Kashmir. Twitter said that it enforced policies judiciously and ensured impartiality of all users, regardless of their political beliefs and country of origin.</div>\\n    <div class=\"news-card-author-time news-card-author-time-in-content\">\\n      <a href=\"/prev/en/news/200-pakistani-twitter-accounts-suspended-over-kashmir-posts-1566319225579\"><span class=\"short\">short</span></a> by <span class=\"author\">Apaar Sharma</span> / \\n      <span class=\"time\" itemprop=\"dateModified\" content=\"2019-08-20T16:40:25.000Z\" >10:10 pm</span> on <span class=\"date\">20 Aug</span>\\n    </div>\\n  </div>\\n  \\n    <div class=\"news-card-footer news-right-box\">\\n      <div class=\"read-more\">read more at <a class=\"source\" onclick=\"ga(\\'send\\', {\\'hitType\\': \\'event\\', \\'eventCategory\\': \\'ReadMore\\', \\'eventAction\\': \\'clicked\\', \\'eventLabel\\': \\'The%20New%20Indian%20Express\\' });\" target=\"_blank\" href=\"http://www.newindianexpress.com/world/2019/aug/20/200-pakistan-twitter-accounts-suspended-over-kashmir-posts-2021556.html?utm_campaign=fullarticle&amp;utm_medium=referral&amp;utm_source=inshorts \">The New Indian Express</a></div>\\n    </div>\\n  \\n\\n</div>\\n\\n  \\n</div>\\n\\n\\n\\n\\n<div class=\"\">\\n<div class=\"news-card z-depth-1\" itemscope itemtype=\"http://schema.org/NewsArticle\">\\n  <span content=\"\" itemscope itemprop=\"mainEntityOfPage\" itemType=\"https://schema.org/WebPage\" itemid=\"https://inshorts.com/en/news/electronic-lens-more-capable-than-human-eye-made-harvard-team-1566474497566\"></span>\\n  <span itemtype=\"https://schema.org/Person\" itemscope=\"itemscope\" itemprop=\"author\">\\n    <span itemprop=\"name\" content=\"Kanishka Pandey\"></span>\\n  </span>\\n  <span itemprop=\"description\" content=\"Electronic lens more capable than human eye made: Harvard team\"></span>\\n  <span itemprop=\"image\" itemscope itemtype=\"https://schema.org/ImageObject\">\\n    <meta itemprop=\"url\" content=\"https://static.inshorts.com/inshorts/images/v1/variants/jpg/m/2019/08_aug/22_thu/img_1566470255411_518.jpg?\"></meta>\\n    <meta itemprop=\"width\" content=\"864\"></meta>\\n    <meta itemprop=\"height\" content=\"483\"></meta>\\n  </span>\\n  <span itemtype=\"https://schema.org/Organization\" itemscope=\"itemscope\" itemprop=\"publisher\">\\n    <span itemprop=\"url\" content=\"https://inshorts.com/\"></span>\\n    <span itemprop=\"name\" content=\"Inshorts\"></span>\\n    <span itemprop=\"logo\" itemscope itemtype=\"https://schema.org/ImageObject\">\\n      <span itemprop=\"url\" content=\"https://assets.inshorts.com/inshorts/images/v1/variants/jpg/m/2018/11_nov/21_wed/img_1542823931298_497.jpg\"></span>\\n      <meta itemprop=\"width\" content=\"400\"></meta>\\n      <meta itemprop=\"height\" content=\"60\"></meta>\\n    </span>\\n  </span>\\n  <div class=\"news-card-image\" style= \"background-image: url(\\'https://static.inshorts.com/inshorts/images/v1/variants/jpg/m/2019/08_aug/22_thu/img_1566470255411_518.jpg?\\')\">\\n  </div>\\n  <div class=\"news-card-title news-right-box\">\\n    <a class=\"clickable\" onclick=\"ga(\\'send\\', {\\'hitType\\': \\'event\\', \\'eventCategory\\': \\'TitleOfNews\\', \\'eventAction\\': \\'clicked\\', \\'eventLabel\\': \\'Electronic%20lens%20more%20capable%20than%20human%20eye%20made%3A%20Harvard%20team)\\' });\"  style=\"color:#44444d!important\" href=\"/en/news/electronic-lens-more-capable-than-human-eye-made-harvard-team-1566474497566\">\\n      <span itemprop=\"headline\">Electronic lens more capable than human eye made: Harvard team</span>\\n    </a>\\n    <div class=\"news-card-author-time news-card-author-time-in-title\">\\n      <a href=\"/prev/en/news/electronic-lens-more-capable-than-human-eye-made-harvard-team-1566474497566\"><span class=\"short\">short</span></a> by <span class=\"author\">Kanishka Pandey</span> / \\n      <span class=\"time\" itemprop=\"datePublished\" content=\"2019-08-22T11:48:17.000Z\">05:18 pm</span> on <span clas=\"date\">22 Aug 2019,Thursday</span>\\n    </div>\\n  </div>\\n  <div class=\"news-card-content news-right-box\">\\n    <div itemprop=\"articleBody\">A team of Harvard researchers has created an electronic lens that works like the human eye. However, the lens comprises additional capabilities including simultaneous focus, control of aberrations caused by astigmatisms and image shifts. &#34;This demonstrates the feasibility of embedded optical zoom and autofocus for a wide range of applications, including cell phone cameras,&#34; the team said.</div>\\n    <div class=\"news-card-author-time news-card-author-time-in-content\">\\n      <a href=\"/prev/en/news/electronic-lens-more-capable-than-human-eye-made-harvard-team-1566474497566\"><span class=\"short\">short</span></a> by <span class=\"author\">Kanishka Pandey</span> / \\n      <span class=\"time\" itemprop=\"dateModified\" content=\"2019-08-22T11:48:17.000Z\" >05:18 pm</span> on <span class=\"date\">22 Aug</span>\\n    </div>\\n  </div>\\n  \\n    <div class=\"news-card-footer news-right-box\">\\n      <div class=\"read-more\">read more at <a class=\"source\" onclick=\"ga(\\'send\\', {\\'hitType\\': \\'event\\', \\'eventCategory\\': \\'ReadMore\\', \\'eventAction\\': \\'clicked\\', \\'eventLabel\\': \\'Engadget\\' });\" target=\"_blank\" href=\"https://www.engadget.com/2019/08/21/harvard-metalens-better-than-human-eye/?utm_campaign=fullarticle&amp;utm_medium=referral&amp;utm_source=inshorts \">Engadget</a></div>\\n    </div>\\n  \\n\\n</div>\\n\\n  \\n</div>\\n\\n\\n\\n\\n<div class=\"\">\\n<div class=\"news-card z-depth-1\" itemscope itemtype=\"http://schema.org/NewsArticle\">\\n  <span content=\"\" itemscope itemprop=\"mainEntityOfPage\" itemType=\"https://schema.org/WebPage\" itemid=\"https://inshorts.com/en/news/youtube-ai-mistakes-robot-fighting-as-animal-cruelty-cockfighting-1566468249293\"></span>\\n  <span itemtype=\"https://schema.org/Person\" itemscope=\"itemscope\" itemprop=\"author\">\\n    <span itemprop=\"name\" content=\"Kanishka Pandey\"></span>\\n  </span>\\n  <span itemprop=\"description\" content=\"YouTube AI mistakes robot fighting as animal cruelty, cockfighting\"></span>\\n  <span itemprop=\"image\" itemscope itemtype=\"https://schema.org/ImageObject\">\\n    <meta itemprop=\"url\" content=\"https://static.inshorts.com/inshorts/images/v1/variants/jpg/m/2019/08_aug/22_thu/img_1566464813567_637.jpg?\"></meta>\\n    <meta itemprop=\"width\" content=\"864\"></meta>\\n    <meta itemprop=\"height\" content=\"483\"></meta>\\n  </span>\\n  <span itemtype=\"https://schema.org/Organization\" itemscope=\"itemscope\" itemprop=\"publisher\">\\n    <span itemprop=\"url\" content=\"https://inshorts.com/\"></span>\\n    <span itemprop=\"name\" content=\"Inshorts\"></span>\\n    <span itemprop=\"logo\" itemscope itemtype=\"https://schema.org/ImageObject\">\\n      <span itemprop=\"url\" content=\"https://assets.inshorts.com/inshorts/images/v1/variants/jpg/m/2018/11_nov/21_wed/img_1542823931298_497.jpg\"></span>\\n      <meta itemprop=\"width\" content=\"400\"></meta>\\n      <meta itemprop=\"height\" content=\"60\"></meta>\\n    </span>\\n  </span>\\n  <div class=\"news-card-image\" style= \"background-image: url(\\'https://static.inshorts.com/inshorts/images/v1/variants/jpg/m/2019/08_aug/22_thu/img_1566464813567_637.jpg?\\')\">\\n  </div>\\n  <div class=\"news-card-title news-right-box\">\\n    <a class=\"clickable\" onclick=\"ga(\\'send\\', {\\'hitType\\': \\'event\\', \\'eventCategory\\': \\'TitleOfNews\\', \\'eventAction\\': \\'clicked\\', \\'eventLabel\\': \\'YouTube%20AI%20mistakes%20robot%20fighting%20as%20animal%20cruelty%2C%20cockfighting)\\' });\"  style=\"color:#44444d!important\" href=\"/en/news/youtube-ai-mistakes-robot-fighting-as-animal-cruelty-cockfighting-1566468249293\">\\n      <span itemprop=\"headline\">YouTube AI mistakes robot fighting as animal cruelty, cockfighting</span>\\n    </a>\\n    <div class=\"news-card-author-time news-card-author-time-in-title\">\\n      <a href=\"/prev/en/news/youtube-ai-mistakes-robot-fighting-as-animal-cruelty-cockfighting-1566468249293\"><span class=\"short\">short</span></a> by <span class=\"author\">Kanishka Pandey</span> / \\n      <span class=\"time\" itemprop=\"datePublished\" content=\"2019-08-22T10:04:09.000Z\">03:34 pm</span> on <span clas=\"date\">22 Aug 2019,Thursday</span>\\n    </div>\\n  </div>\\n  <div class=\"news-card-content news-right-box\">\\n    <div itemprop=\"articleBody\">YouTube&#39;s AI-based algorithm meant to take down videos violating the platform&#39;s policies, removed several videos of robot fighting after wrongly mistaking them for animal cruelty and cockfighting. &#34;With the massive volume of videos on our site, sometimes we make the wrong call,&#34; YouTube said. It further clarified that the platform does not have any policies that prohibit robots fighting videos.</div>\\n    <div class=\"news-card-author-time news-card-author-time-in-content\">\\n      <a href=\"/prev/en/news/youtube-ai-mistakes-robot-fighting-as-animal-cruelty-cockfighting-1566468249293\"><span class=\"short\">short</span></a> by <span class=\"author\">Kanishka Pandey</span> / \\n      <span class=\"time\" itemprop=\"dateModified\" content=\"2019-08-22T10:04:09.000Z\" >03:34 pm</span> on <span class=\"date\">22 Aug</span>\\n    </div>\\n  </div>\\n  \\n    <div class=\"news-card-footer news-right-box\">\\n      <div class=\"read-more\">read more at <a class=\"source\" onclick=\"ga(\\'send\\', {\\'hitType\\': \\'event\\', \\'eventCategory\\': \\'ReadMore\\', \\'eventAction\\': \\'clicked\\', \\'eventLabel\\': \\'Engadget\\' });\" target=\"_blank\" href=\"https://www.engadget.com/2019/08/21/youtube-thought-robot-animal-cruelty/?utm_campaign=fullarticle&amp;utm_medium=referral&amp;utm_source=inshorts \">Engadget</a></div>\\n    </div>\\n  \\n\\n</div>\\n\\n  \\n</div>\\n\\n\\n\\n\\n<div class=\"\">\\n<div class=\"news-card z-depth-1\" itemscope itemtype=\"http://schema.org/NewsArticle\">\\n  <span content=\"\" itemscope itemprop=\"mainEntityOfPage\" itemType=\"https://schema.org/WebPage\" itemid=\"https://inshorts.com/en/news/reducing-ecommerce-restrictions-will-revive-indian-economy-amazon-1566474272767\"></span>\\n  <span itemtype=\"https://schema.org/Person\" itemscope=\"itemscope\" itemprop=\"author\">\\n    <span itemprop=\"name\" content=\"Krishna Veera Vanamali\"></span>\\n  </span>\\n  <span itemprop=\"description\" content=\"Reducing e-commerce restrictions will revive Indian economy: Amazon\"></span>\\n  <span itemprop=\"image\" itemscope itemtype=\"https://schema.org/ImageObject\">\\n    <meta itemprop=\"url\" content=\"https://static.inshorts.com/inshorts/images/v1/variants/jpg/m/2019/08_aug/22_thu/img_1566470460886_58.jpg?\"></meta>\\n    <meta itemprop=\"width\" content=\"864\"></meta>\\n    <meta itemprop=\"height\" content=\"483\"></meta>\\n  </span>\\n  <span itemtype=\"https://schema.org/Organization\" itemscope=\"itemscope\" itemprop=\"publisher\">\\n    <span itemprop=\"url\" content=\"https://inshorts.com/\"></span>\\n    <span itemprop=\"name\" content=\"Inshorts\"></span>\\n    <span itemprop=\"logo\" itemscope itemtype=\"https://schema.org/ImageObject\">\\n      <span itemprop=\"url\" content=\"https://assets.inshorts.com/inshorts/images/v1/variants/jpg/m/2018/11_nov/21_wed/img_1542823931298_497.jpg\"></span>\\n      <meta itemprop=\"width\" content=\"400\"></meta>\\n      <meta itemprop=\"height\" content=\"60\"></meta>\\n    </span>\\n  </span>\\n  <div class=\"news-card-image\" style= \"background-image: url(\\'https://static.inshorts.com/inshorts/images/v1/variants/jpg/m/2019/08_aug/22_thu/img_1566470460886_58.jpg?\\')\">\\n  </div>\\n  <div class=\"news-card-title news-right-box\">\\n    <a class=\"clickable\" onclick=\"ga(\\'send\\', {\\'hitType\\': \\'event\\', \\'eventCategory\\': \\'TitleOfNews\\', \\'eventAction\\': \\'clicked\\', \\'eventLabel\\': \\'Reducing%20e-commerce%20restrictions%20will%20revive%20Indian%20economy%3A%20Amazon)\\' });\"  style=\"color:#44444d!important\" href=\"/en/news/reducing-ecommerce-restrictions-will-revive-indian-economy-amazon-1566474272767\">\\n      <span itemprop=\"headline\">Reducing e-commerce restrictions will revive Indian economy: Amazon</span>\\n    </a>\\n    <div class=\"news-card-author-time news-card-author-time-in-title\">\\n      <a href=\"/prev/en/news/reducing-ecommerce-restrictions-will-revive-indian-economy-amazon-1566474272767\"><span class=\"short\">short</span></a> by <span class=\"author\">Krishna Veera Vanamali</span> / \\n      <span class=\"time\" itemprop=\"datePublished\" content=\"2019-08-22T11:44:32.000Z\">05:14 pm</span> on <span clas=\"date\">22 Aug 2019,Thursday</span>\\n    </div>\\n  </div>\\n  <div class=\"news-card-content news-right-box\">\\n    <div itemprop=\"articleBody\">Amazon&#39;s India head Amit Agarwal on Wednesday said that India needs to encourage e-commerce and reduce red tape to help revive domestic economic growth. &#34;Even a seller, who wants to sell out of their state, has to get a tax registration in the new state,&#34; he said. Agarwal added that there is &#34;so much opportunity to just let e-commerce thrive&#34;.</div>\\n    <div class=\"news-card-author-time news-card-author-time-in-content\">\\n      <a href=\"/prev/en/news/reducing-ecommerce-restrictions-will-revive-indian-economy-amazon-1566474272767\"><span class=\"short\">short</span></a> by <span class=\"author\">Krishna Veera Vanamali</span> / \\n      <span class=\"time\" itemprop=\"dateModified\" content=\"2019-08-22T11:44:32.000Z\" >05:14 pm</span> on <span class=\"date\">22 Aug</span>\\n    </div>\\n  </div>\\n  \\n    <div class=\"news-card-footer news-right-box\">\\n      <div class=\"read-more\">read more at <a class=\"source\" onclick=\"ga(\\'send\\', {\\'hitType\\': \\'event\\', \\'eventCategory\\': \\'ReadMore\\', \\'eventAction\\': \\'clicked\\', \\'eventLabel\\': \\'Reuters\\' });\" target=\"_blank\" href=\"https://in.reuters.com/article/amazon-com-india/amazon-opens-its-biggest-global-campus-in-india-idINKCN1VB1F1?utm_campaign=fullarticle&amp;utm_medium=referral&amp;utm_source=inshorts \">Reuters</a></div>\\n    </div>\\n  \\n\\n</div>\\n\\n  \\n</div>\\n\\n\\n\\n\\n<div class=\"\">\\n<div class=\"news-card z-depth-1\" itemscope itemtype=\"http://schema.org/NewsArticle\">\\n  <span content=\"\" itemscope itemprop=\"mainEntityOfPage\" itemType=\"https://schema.org/WebPage\" itemid=\"https://inshorts.com/en/news/facebook-ceo-mark-zuckerberg-tries-towin-surfing-shares-pics-1566236442381\"></span>\\n  <span itemtype=\"https://schema.org/Person\" itemscope=\"itemscope\" itemprop=\"author\">\\n    <span itemprop=\"name\" content=\"Pragya Swastik\"></span>\\n  </span>\\n  <span itemprop=\"description\" content=\"Facebook CEO Mark Zuckerberg tries tow-in surfing, shares pics\"></span>\\n  <span itemprop=\"image\" itemscope itemtype=\"https://schema.org/ImageObject\">\\n    <meta itemprop=\"url\" content=\"https://static.inshorts.com/inshorts/images/v1/variants/jpg/m/2019/08_aug/19_mon/img_1566234029379_287.jpg?\"></meta>\\n    <meta itemprop=\"width\" content=\"864\"></meta>\\n    <meta itemprop=\"height\" content=\"483\"></meta>\\n  </span>\\n  <span itemtype=\"https://schema.org/Organization\" itemscope=\"itemscope\" itemprop=\"publisher\">\\n    <span itemprop=\"url\" content=\"https://inshorts.com/\"></span>\\n    <span itemprop=\"name\" content=\"Inshorts\"></span>\\n    <span itemprop=\"logo\" itemscope itemtype=\"https://schema.org/ImageObject\">\\n      <span itemprop=\"url\" content=\"https://assets.inshorts.com/inshorts/images/v1/variants/jpg/m/2018/11_nov/21_wed/img_1542823931298_497.jpg\"></span>\\n      <meta itemprop=\"width\" content=\"400\"></meta>\\n      <meta itemprop=\"height\" content=\"60\"></meta>\\n    </span>\\n  </span>\\n  <div class=\"news-card-image\" style= \"background-image: url(\\'https://static.inshorts.com/inshorts/images/v1/variants/jpg/m/2019/08_aug/19_mon/img_1566234029379_287.jpg?\\')\">\\n  </div>\\n  <div class=\"news-card-title news-right-box\">\\n    <a class=\"clickable\" onclick=\"ga(\\'send\\', {\\'hitType\\': \\'event\\', \\'eventCategory\\': \\'TitleOfNews\\', \\'eventAction\\': \\'clicked\\', \\'eventLabel\\': \\'Facebook%20CEO%20Mark%20Zuckerberg%20tries%20tow-in%20surfing%2C%20shares%20pics)\\' });\"  style=\"color:#44444d!important\" href=\"/en/news/facebook-ceo-mark-zuckerberg-tries-towin-surfing-shares-pics-1566236442381\">\\n      <span itemprop=\"headline\">Facebook CEO Mark Zuckerberg tries tow-in surfing, shares pics</span>\\n    </a>\\n    <div class=\"news-card-author-time news-card-author-time-in-title\">\\n      <a href=\"/prev/en/news/facebook-ceo-mark-zuckerberg-tries-towin-surfing-shares-pics-1566236442381\"><span class=\"short\">short</span></a> by <span class=\"author\">Pragya Swastik</span> / \\n      <span class=\"time\" itemprop=\"datePublished\" content=\"2019-08-19T17:40:42.000Z\">11:10 pm</span> on <span clas=\"date\">19 Aug 2019,Monday</span>\\n    </div>\\n  </div>\\n  <div class=\"news-card-content news-right-box\">\\n    <div itemprop=\"articleBody\">Facebook Co-founder and CEO Mark Zuckerberg recently tried tow-in surfing at Kauai\\nisland in Hawaii. Sharing his pictures, Zuckerberg wrote on Instagram, &#34;Trying a new sport in Kauai with one of the best.&#34; Zuckerberg practiced the surfing technique with Kai Lenny, a 26-year-old professional surfer who achieved recognition in 2012 with first place at the Hawaii Island Finals SUP pro.</div>\\n    <div class=\"news-card-author-time news-card-author-time-in-content\">\\n      <a href=\"/prev/en/news/facebook-ceo-mark-zuckerberg-tries-towin-surfing-shares-pics-1566236442381\"><span class=\"short\">short</span></a> by <span class=\"author\">Pragya Swastik</span> / \\n      <span class=\"time\" itemprop=\"dateModified\" content=\"2019-08-19T17:40:42.000Z\" >11:10 pm</span> on <span class=\"date\">19 Aug</span>\\n    </div>\\n  </div>\\n  \\n    <div class=\"news-card-footer news-right-box\">\\n      <div class=\"read-more\">read more at <a class=\"source\" onclick=\"ga(\\'send\\', {\\'hitType\\': \\'event\\', \\'eventCategory\\': \\'ReadMore\\', \\'eventAction\\': \\'clicked\\', \\'eventLabel\\': \\'Instagram\\' });\" target=\"_blank\" href=\"https://www.instagram.com/p/B1UGhU0ADO2/?utm_campaign=fullarticle&amp;utm_medium=referral&amp;utm_source=inshorts \">Instagram</a></div>\\n    </div>\\n  \\n\\n</div>\\n\\n  \\n</div>\\n\\n\\n\\n\\n  \\n    <div id=\\'div-gpt-ad-1536748319959-9vlssi7i-2\\' style=\\'height:250px; width:900px; margin: auto; margin-bottom: 2%;\\'>\\n      <script>\\n        googletag.cmd.push(function() { \\n          //News banner for desktop\\n          var slotIdWeb = \\'div-gpt-ad-1536748319959-9vlssi7i-2\\';\\n          var slot = googletag.defineSlot(\\'/142919096/inshorts_website_900x250\\', [900, 250], slotIdWeb)\\n          .addService(googletag.pubads())\\n          .setCollapseEmptyDiv(true,true);\\n\\n          googletag.display(\\'div-gpt-ad-1536748319959-9vlssi7i-2\\');\\n          googletag.pubads().refresh([slot]);\\n        });\\n      </script>\\n    </div>\\n  \\n\\n<div class=\"\">\\n<div class=\"news-card z-depth-1\" itemscope itemtype=\"http://schema.org/NewsArticle\">\\n  <span content=\"\" itemscope itemprop=\"mainEntityOfPage\" itemType=\"https://schema.org/WebPage\" itemid=\"https://inshorts.com/en/news/worlds-largest-processor-with-12-trillion-transistors-unveiled-1566360034551\"></span>\\n  <span itemtype=\"https://schema.org/Person\" itemscope=\"itemscope\" itemprop=\"author\">\\n    <span itemprop=\"name\" content=\"Kanishka Pandey\"></span>\\n  </span>\\n  <span itemprop=\"description\" content=\"World&#39;s largest processor with 1.2 trillion transistors unveiled\"></span>\\n  <span itemprop=\"image\" itemscope itemtype=\"https://schema.org/ImageObject\">\\n    <meta itemprop=\"url\" content=\"https://static.inshorts.com/inshorts/images/v1/variants/jpg/m/2019/08_aug/20_tue/img_1566315715933_349.jpg?\"></meta>\\n    <meta itemprop=\"width\" content=\"864\"></meta>\\n    <meta itemprop=\"height\" content=\"483\"></meta>\\n  </span>\\n  <span itemtype=\"https://schema.org/Organization\" itemscope=\"itemscope\" itemprop=\"publisher\">\\n    <span itemprop=\"url\" content=\"https://inshorts.com/\"></span>\\n    <span itemprop=\"name\" content=\"Inshorts\"></span>\\n    <span itemprop=\"logo\" itemscope itemtype=\"https://schema.org/ImageObject\">\\n      <span itemprop=\"url\" content=\"https://assets.inshorts.com/inshorts/images/v1/variants/jpg/m/2018/11_nov/21_wed/img_1542823931298_497.jpg\"></span>\\n      <meta itemprop=\"width\" content=\"400\"></meta>\\n      <meta itemprop=\"height\" content=\"60\"></meta>\\n    </span>\\n  </span>\\n  <div class=\"news-card-image\" style= \"background-image: url(\\'https://static.inshorts.com/inshorts/images/v1/variants/jpg/m/2019/08_aug/20_tue/img_1566315715933_349.jpg?\\')\">\\n  </div>\\n  <div class=\"news-card-title news-right-box\">\\n    <a class=\"clickable\" onclick=\"ga(\\'send\\', {\\'hitType\\': \\'event\\', \\'eventCategory\\': \\'TitleOfNews\\', \\'eventAction\\': \\'clicked\\', \\'eventLabel\\': \\'World&#39;s%20largest%20processor%20with%201.2%20trillion%20transistors%20unveiled)\\' });\"  style=\"color:#44444d!important\" href=\"/en/news/worlds-largest-processor-with-12-trillion-transistors-unveiled-1566360034551\">\\n      <span itemprop=\"headline\">World&#39;s largest processor with 1.2 trillion transistors unveiled</span>\\n    </a>\\n    <div class=\"news-card-author-time news-card-author-time-in-title\">\\n      <a href=\"/prev/en/news/worlds-largest-processor-with-12-trillion-transistors-unveiled-1566360034551\"><span class=\"short\">short</span></a> by <span class=\"author\">Kanishka Pandey</span> / \\n      <span class=\"time\" itemprop=\"datePublished\" content=\"2019-08-21T04:00:34.000Z\">09:30 am</span> on <span clas=\"date\">21 Aug 2019,Wednesday</span>\\n    </div>\\n  </div>\\n  <div class=\"news-card-content news-right-box\">\\n    <div itemprop=\"articleBody\">US-based startup Cerebras Systems has unveiled the world&#39;s largest single silicon-based processor, the Cerebras Wafer Scale Engine. The chip is the world&#39;s first trillion-transistor processor comprising 1.2 trillion transistors, 400,000 AI-optimised cores and 18 GB of memory. The chip, made especially to enhance the development work of AI, has 56 times more silicon area than the largest GPU.</div>\\n    <div class=\"news-card-author-time news-card-author-time-in-content\">\\n      <a href=\"/prev/en/news/worlds-largest-processor-with-12-trillion-transistors-unveiled-1566360034551\"><span class=\"short\">short</span></a> by <span class=\"author\">Kanishka Pandey</span> / \\n      <span class=\"time\" itemprop=\"dateModified\" content=\"2019-08-21T04:00:34.000Z\" >09:30 am</span> on <span class=\"date\">21 Aug</span>\\n    </div>\\n  </div>\\n  \\n    <div class=\"news-card-footer news-right-box\">\\n      <div class=\"read-more\">read more at <a class=\"source\" onclick=\"ga(\\'send\\', {\\'hitType\\': \\'event\\', \\'eventCategory\\': \\'ReadMore\\', \\'eventAction\\': \\'clicked\\', \\'eventLabel\\': \\'TechCrunch\\' });\" target=\"_blank\" href=\"https://techcrunch.com/2019/08/19/the-five-technical-challenges-cerebras-overcame-in-building-the-first-trillion-transistor-chip/?utm_campaign=fullarticle&amp;utm_medium=referral&amp;utm_source=inshorts \">TechCrunch</a></div>\\n    </div>\\n  \\n\\n</div>\\n\\n  \\n</div>\\n\\n\\n\\n\\n<div class=\"\">\\n<div class=\"news-card z-depth-1\" itemscope itemtype=\"http://schema.org/NewsArticle\">\\n  <span content=\"\" itemscope itemprop=\"mainEntityOfPage\" itemType=\"https://schema.org/WebPage\" itemid=\"https://inshorts.com/en/news/apple-mistakenly-lets-hackers-jailbreak-iphones-with-ios-update-1566293353109\"></span>\\n  <span itemtype=\"https://schema.org/Person\" itemscope=\"itemscope\" itemprop=\"author\">\\n    <span itemprop=\"name\" content=\"Kanishka Pandey\"></span>\\n  </span>\\n  <span itemprop=\"description\" content=\"Apple mistakenly lets hackers &#39;jailbreak&#39; iPhones with iOS update\"></span>\\n  <span itemprop=\"image\" itemscope itemtype=\"https://schema.org/ImageObject\">\\n    <meta itemprop=\"url\" content=\"https://static.inshorts.com/inshorts/images/v1/variants/jpg/m/2019/08_aug/20_tue/img_1566290804417_310.jpg?\"></meta>\\n    <meta itemprop=\"width\" content=\"864\"></meta>\\n    <meta itemprop=\"height\" content=\"483\"></meta>\\n  </span>\\n  <span itemtype=\"https://schema.org/Organization\" itemscope=\"itemscope\" itemprop=\"publisher\">\\n    <span itemprop=\"url\" content=\"https://inshorts.com/\"></span>\\n    <span itemprop=\"name\" content=\"Inshorts\"></span>\\n    <span itemprop=\"logo\" itemscope itemtype=\"https://schema.org/ImageObject\">\\n      <span itemprop=\"url\" content=\"https://assets.inshorts.com/inshorts/images/v1/variants/jpg/m/2018/11_nov/21_wed/img_1542823931298_497.jpg\"></span>\\n      <meta itemprop=\"width\" content=\"400\"></meta>\\n      <meta itemprop=\"height\" content=\"60\"></meta>\\n    </span>\\n  </span>\\n  <div class=\"news-card-image\" style= \"background-image: url(\\'https://static.inshorts.com/inshorts/images/v1/variants/jpg/m/2019/08_aug/20_tue/img_1566290804417_310.jpg?\\')\">\\n  </div>\\n  <div class=\"news-card-title news-right-box\">\\n    <a class=\"clickable\" onclick=\"ga(\\'send\\', {\\'hitType\\': \\'event\\', \\'eventCategory\\': \\'TitleOfNews\\', \\'eventAction\\': \\'clicked\\', \\'eventLabel\\': \\'Apple%20mistakenly%20lets%20hackers%20&#39;jailbreak&#39;%20iPhones%20with%20iOS%20update)\\' });\"  style=\"color:#44444d!important\" href=\"/en/news/apple-mistakenly-lets-hackers-jailbreak-iphones-with-ios-update-1566293353109\">\\n      <span itemprop=\"headline\">Apple mistakenly lets hackers &#39;jailbreak&#39; iPhones with iOS update</span>\\n    </a>\\n    <div class=\"news-card-author-time news-card-author-time-in-title\">\\n      <a href=\"/prev/en/news/apple-mistakenly-lets-hackers-jailbreak-iphones-with-ios-update-1566293353109\"><span class=\"short\">short</span></a> by <span class=\"author\">Kanishka Pandey</span> / \\n      <span class=\"time\" itemprop=\"datePublished\" content=\"2019-08-20T09:29:13.000Z\">02:59 pm</span> on <span clas=\"date\">20 Aug 2019,Tuesday</span>\\n    </div>\\n  </div>\\n  <div class=\"news-card-content news-right-box\">\\n    <div itemprop=\"articleBody\">Security researchers have found that Apple has reintroduced a vulnerability in the latest, iOS 12.4 update which let a hacker publicly release a &#39;jailbreak&#39; for current, up-to-date iPhones. The jailbreak lets users run unsupported software and apps, which are otherwise banned by Apple. The flaw, earlier found by a Google hacker, was fixed in the iOS 12.3 version.</div>\\n    <div class=\"news-card-author-time news-card-author-time-in-content\">\\n      <a href=\"/prev/en/news/apple-mistakenly-lets-hackers-jailbreak-iphones-with-ios-update-1566293353109\"><span class=\"short\">short</span></a> by <span class=\"author\">Kanishka Pandey</span> / \\n      <span class=\"time\" itemprop=\"dateModified\" content=\"2019-08-20T09:29:13.000Z\" >02:59 pm</span> on <span class=\"date\">20 Aug</span>\\n    </div>\\n  </div>\\n  \\n    <div class=\"news-card-footer news-right-box\">\\n      <div class=\"read-more\">read more at <a class=\"source\" onclick=\"ga(\\'send\\', {\\'hitType\\': \\'event\\', \\'eventCategory\\': \\'ReadMore\\', \\'eventAction\\': \\'clicked\\', \\'eventLabel\\': \\'Engadget\\' });\" target=\"_blank\" href=\"https://www.engadget.com/2019/08/19/iphone-jailbreak-bug-ios-vulnerability/?utm_campaign=fullarticle&amp;utm_medium=referral&amp;utm_source=inshorts \">Engadget</a></div>\\n    </div>\\n  \\n\\n</div>\\n\\n  \\n</div>\\n\\n\\n\\n\\n<div class=\"\">\\n<div class=\"news-card z-depth-1\" itemscope itemtype=\"http://schema.org/NewsArticle\">\\n  <span content=\"\" itemscope itemprop=\"mainEntityOfPage\" itemType=\"https://schema.org/WebPage\" itemid=\"https://inshorts.com/en/news/sc-to-hear-fbs-plea-to-transfer-aadhaarsocial-media-linking-cases-1566304723021\"></span>\\n  <span itemtype=\"https://schema.org/Person\" itemscope=\"itemscope\" itemprop=\"author\">\\n    <span itemprop=\"name\" content=\"Apaar Sharma\"></span>\\n  </span>\\n  <span itemprop=\"description\" content=\"SC to hear FB&#39;s plea to transfer Aadhaar-social media linking cases\"></span>\\n  <span itemprop=\"image\" itemscope itemtype=\"https://schema.org/ImageObject\">\\n    <meta itemprop=\"url\" content=\"https://static.inshorts.com/inshorts/images/v1/variants/jpg/m/2019/08_aug/20_tue/img_1566302092734_529.jpg?\"></meta>\\n    <meta itemprop=\"width\" content=\"864\"></meta>\\n    <meta itemprop=\"height\" content=\"483\"></meta>\\n  </span>\\n  <span itemtype=\"https://schema.org/Organization\" itemscope=\"itemscope\" itemprop=\"publisher\">\\n    <span itemprop=\"url\" content=\"https://inshorts.com/\"></span>\\n    <span itemprop=\"name\" content=\"Inshorts\"></span>\\n    <span itemprop=\"logo\" itemscope itemtype=\"https://schema.org/ImageObject\">\\n      <span itemprop=\"url\" content=\"https://assets.inshorts.com/inshorts/images/v1/variants/jpg/m/2018/11_nov/21_wed/img_1542823931298_497.jpg\"></span>\\n      <meta itemprop=\"width\" content=\"400\"></meta>\\n      <meta itemprop=\"height\" content=\"60\"></meta>\\n    </span>\\n  </span>\\n  <div class=\"news-card-image\" style= \"background-image: url(\\'https://static.inshorts.com/inshorts/images/v1/variants/jpg/m/2019/08_aug/20_tue/img_1566302092734_529.jpg?\\')\">\\n  </div>\\n  <div class=\"news-card-title news-right-box\">\\n    <a class=\"clickable\" onclick=\"ga(\\'send\\', {\\'hitType\\': \\'event\\', \\'eventCategory\\': \\'TitleOfNews\\', \\'eventAction\\': \\'clicked\\', \\'eventLabel\\': \\'SC%20to%20hear%20FB&#39;s%20plea%20to%20transfer%20Aadhaar-social%20media%20linking%20cases)\\' });\"  style=\"color:#44444d!important\" href=\"/en/news/sc-to-hear-fbs-plea-to-transfer-aadhaarsocial-media-linking-cases-1566304723021\">\\n      <span itemprop=\"headline\">SC to hear FB&#39;s plea to transfer Aadhaar-social media linking cases</span>\\n    </a>\\n    <div class=\"news-card-author-time news-card-author-time-in-title\">\\n      <a href=\"/prev/en/news/sc-to-hear-fbs-plea-to-transfer-aadhaarsocial-media-linking-cases-1566304723021\"><span class=\"short\">short</span></a> by <span class=\"author\">Apaar Sharma</span> / \\n      <span class=\"time\" itemprop=\"datePublished\" content=\"2019-08-20T12:38:43.000Z\">06:08 pm</span> on <span clas=\"date\">20 Aug 2019,Tuesday</span>\\n    </div>\\n  </div>\\n  <div class=\"news-card-content news-right-box\">\\n    <div itemprop=\"articleBody\">The Supreme Court on Tuesday agreed to hear Facebook&#39;s petition to transfer cases related to linking of social media profiles with Aadhaar, pending before the High Courts of Madras, Bombay and Madhya Pradesh to the apex court. The Supreme Court issued notices to the Centre, Google, Twitter, YouTube and others and sought their response by September 13.</div>\\n    <div class=\"news-card-author-time news-card-author-time-in-content\">\\n      <a href=\"/prev/en/news/sc-to-hear-fbs-plea-to-transfer-aadhaarsocial-media-linking-cases-1566304723021\"><span class=\"short\">short</span></a> by <span class=\"author\">Apaar Sharma</span> / \\n      <span class=\"time\" itemprop=\"dateModified\" content=\"2019-08-20T12:38:43.000Z\" >06:08 pm</span> on <span class=\"date\">20 Aug</span>\\n    </div>\\n  </div>\\n  \\n    <div class=\"news-card-footer news-right-box\">\\n      <div class=\"read-more\">read more at <a class=\"source\" onclick=\"ga(\\'send\\', {\\'hitType\\': \\'event\\', \\'eventCategory\\': \\'ReadMore\\', \\'eventAction\\': \\'clicked\\', \\'eventLabel\\': \\'Deccan%20Herald\\' });\" target=\"_blank\" href=\"https://www.deccanherald.com/national/linking-user-profile-with-aadhaar-sc-to-hear-fbs-plea-755621.html?utm_campaign=fullarticle&amp;utm_medium=referral&amp;utm_source=inshorts \">Deccan Herald</a></div>\\n    </div>\\n  \\n\\n</div>\\n\\n  \\n</div>\\n\\n\\n\\n\\n<div class=\"\">\\n<div class=\"news-card z-depth-1\" itemscope itemtype=\"http://schema.org/NewsArticle\">\\n  <span content=\"\" itemscope itemprop=\"mainEntityOfPage\" itemType=\"https://schema.org/WebPage\" itemid=\"https://inshorts.com/en/news/google-breaks-10year-tradition-of-naming-android-versions-on-sweets-1566486990721\"></span>\\n  <span itemtype=\"https://schema.org/Person\" itemscope=\"itemscope\" itemprop=\"author\">\\n    <span itemprop=\"name\" content=\"Kanishka Pandey\"></span>\\n  </span>\\n  <span itemprop=\"description\" content=\"Google breaks 10-year tradition of naming Android versions on sweets\"></span>\\n  <span itemprop=\"image\" itemscope itemtype=\"https://schema.org/ImageObject\">\\n    <meta itemprop=\"url\" content=\"https://static.inshorts.com/inshorts/images/v1/variants/jpg/m/2019/08_aug/22_thu/img_1566488685616_942.jpg?\"></meta>\\n    <meta itemprop=\"width\" content=\"864\"></meta>\\n    <meta itemprop=\"height\" content=\"483\"></meta>\\n  </span>\\n  <span itemtype=\"https://schema.org/Organization\" itemscope=\"itemscope\" itemprop=\"publisher\">\\n    <span itemprop=\"url\" content=\"https://inshorts.com/\"></span>\\n    <span itemprop=\"name\" content=\"Inshorts\"></span>\\n    <span itemprop=\"logo\" itemscope itemtype=\"https://schema.org/ImageObject\">\\n      <span itemprop=\"url\" content=\"https://assets.inshorts.com/inshorts/images/v1/variants/jpg/m/2018/11_nov/21_wed/img_1542823931298_497.jpg\"></span>\\n      <meta itemprop=\"width\" content=\"400\"></meta>\\n      <meta itemprop=\"height\" content=\"60\"></meta>\\n    </span>\\n  </span>\\n  <div class=\"news-card-image\" style= \"background-image: url(\\'https://static.inshorts.com/inshorts/images/v1/variants/jpg/m/2019/08_aug/22_thu/img_1566488685616_942.jpg?\\')\">\\n  </div>\\n  <div class=\"news-card-title news-right-box\">\\n    <a class=\"clickable\" onclick=\"ga(\\'send\\', {\\'hitType\\': \\'event\\', \\'eventCategory\\': \\'TitleOfNews\\', \\'eventAction\\': \\'clicked\\', \\'eventLabel\\': \\'Google%20breaks%2010-year%20tradition%20of%20naming%20Android%20versions%20on%20sweets)\\' });\"  style=\"color:#44444d!important\" href=\"/en/news/google-breaks-10year-tradition-of-naming-android-versions-on-sweets-1566486990721\">\\n      <span itemprop=\"headline\">Google breaks 10-year tradition of naming Android versions on sweets</span>\\n    </a>\\n    <div class=\"news-card-author-time news-card-author-time-in-title\">\\n      <a href=\"/prev/en/news/google-breaks-10year-tradition-of-naming-android-versions-on-sweets-1566486990721\"><span class=\"short\">short</span></a> by <span class=\"author\">Kanishka Pandey</span> / \\n      <span class=\"time\" itemprop=\"datePublished\" content=\"2019-08-22T15:16:30.000Z\">08:46 pm</span> on <span clas=\"date\">22 Aug 2019,Thursday</span>\\n    </div>\\n  </div>\\n  <div class=\"news-card-content news-right-box\">\\n    <div itemprop=\"articleBody\">Google has revealed the official name of the upcoming Android version as &#39;Android 10&#39;, breaking a 10-year tradition of naming the versions after sweets and desserts. Google had begun the tradition with the Android 1.5 update, which was codenamed &#39;Cupcake&#39;. Google said it received feedback over the years that the names weren&#39;t always understood by everyone in the global community.</div>\\n    <div class=\"news-card-author-time news-card-author-time-in-content\">\\n      <a href=\"/prev/en/news/google-breaks-10year-tradition-of-naming-android-versions-on-sweets-1566486990721\"><span class=\"short\">short</span></a> by <span class=\"author\">Kanishka Pandey</span> / \\n      <span class=\"time\" itemprop=\"dateModified\" content=\"2019-08-22T15:16:30.000Z\" >08:46 pm</span> on <span class=\"date\">22 Aug</span>\\n    </div>\\n  </div>\\n  \\n    <div class=\"news-card-footer news-right-box\">\\n      <div class=\"read-more\">read more at <a class=\"source\" onclick=\"ga(\\'send\\', {\\'hitType\\': \\'event\\', \\'eventCategory\\': \\'ReadMore\\', \\'eventAction\\': \\'clicked\\', \\'eventLabel\\': \\'Engadget\\' });\" target=\"_blank\" href=\"https://www.engadget.com/2019/08/22/android-q-becomes-android-10/?utm_campaign=fullarticle&amp;utm_medium=referral&amp;utm_source=inshorts \">Engadget</a></div>\\n    </div>\\n  \\n\\n</div>\\n\\n  \\n</div>\\n\\n\\n\\n\\n<div class=\"\">\\n<div class=\"news-card z-depth-1\" itemscope itemtype=\"http://schema.org/NewsArticle\">\\n  <span content=\"\" itemscope itemprop=\"mainEntityOfPage\" itemType=\"https://schema.org/WebPage\" itemid=\"https://inshorts.com/en/news/amazon-to-acquire-358-stake-worth-\\xe2\\x82\\xb9745-crore-in-big-bazaar-owner-1566555683491\"></span>\\n  <span itemtype=\"https://schema.org/Person\" itemscope=\"itemscope\" itemprop=\"author\">\\n    <span itemprop=\"name\" content=\"Krishna Veera Vanamali\"></span>\\n  </span>\\n  <span itemprop=\"description\" content=\"Amazon to acquire 3.58% stake worth \\xe2\\x82\\xb9745 crore in Big Bazaar owner\"></span>\\n  <span itemprop=\"image\" itemscope itemtype=\"https://schema.org/ImageObject\">\\n    <meta itemprop=\"url\" content=\"https://static.inshorts.com/inshorts/images/v1/variants/jpg/m/2019/08_aug/23_fri/img_1566549775136_971.jpg?\"></meta>\\n    <meta itemprop=\"width\" content=\"864\"></meta>\\n    <meta itemprop=\"height\" content=\"483\"></meta>\\n  </span>\\n  <span itemtype=\"https://schema.org/Organization\" itemscope=\"itemscope\" itemprop=\"publisher\">\\n    <span itemprop=\"url\" content=\"https://inshorts.com/\"></span>\\n    <span itemprop=\"name\" content=\"Inshorts\"></span>\\n    <span itemprop=\"logo\" itemscope itemtype=\"https://schema.org/ImageObject\">\\n      <span itemprop=\"url\" content=\"https://assets.inshorts.com/inshorts/images/v1/variants/jpg/m/2018/11_nov/21_wed/img_1542823931298_497.jpg\"></span>\\n      <meta itemprop=\"width\" content=\"400\"></meta>\\n      <meta itemprop=\"height\" content=\"60\"></meta>\\n    </span>\\n  </span>\\n  <div class=\"news-card-image\" style= \"background-image: url(\\'https://static.inshorts.com/inshorts/images/v1/variants/jpg/m/2019/08_aug/23_fri/img_1566549775136_971.jpg?\\')\">\\n  </div>\\n  <div class=\"news-card-title news-right-box\">\\n    <a class=\"clickable\" onclick=\"ga(\\'send\\', {\\'hitType\\': \\'event\\', \\'eventCategory\\': \\'TitleOfNews\\', \\'eventAction\\': \\'clicked\\', \\'eventLabel\\': \\'Amazon%20to%20acquire%203.58%25%20stake%20worth%20%E2%82%B9745%20crore%20in%20Big%20Bazaar%20owner)\\' });\"  style=\"color:#44444d!important\" href=\"/en/news/amazon-to-acquire-358-stake-worth-\\xe2\\x82\\xb9745-crore-in-big-bazaar-owner-1566555683491\">\\n      <span itemprop=\"headline\">Amazon to acquire 3.58% stake worth \\xe2\\x82\\xb9745 crore in Big Bazaar owner</span>\\n    </a>\\n    <div class=\"news-card-author-time news-card-author-time-in-title\">\\n      <a href=\"/prev/en/news/amazon-to-acquire-358-stake-worth-\\xe2\\x82\\xb9745-crore-in-big-bazaar-owner-1566555683491\"><span class=\"short\">short</span></a> by <span class=\"author\">Krishna Veera Vanamali</span> / \\n      <span class=\"time\" itemprop=\"datePublished\" content=\"2019-08-23T10:21:23.000Z\">03:51 pm</span> on <span clas=\"date\">23 Aug 2019,Friday</span>\\n    </div>\\n  </div>\\n  <div class=\"news-card-content news-right-box\">\\n    <div itemprop=\"articleBody\">Amazon has agreed to acquire a 49% stake in Kishore Biyani&#39;s Future Coupons, which owns a 7.3% interest in Big Bazaar operator Future Retail. This gives Amazon a 3.58% indirect stake in Future Retail, worth about \\xe2\\x82\\xb9745 crore on Thursday. It also has an option to buy all or part of promoters&#39; 47% shareholding in Future Retail after three years.</div>\\n    <div class=\"news-card-author-time news-card-author-time-in-content\">\\n      <a href=\"/prev/en/news/amazon-to-acquire-358-stake-worth-\\xe2\\x82\\xb9745-crore-in-big-bazaar-owner-1566555683491\"><span class=\"short\">short</span></a> by <span class=\"author\">Krishna Veera Vanamali</span> / \\n      <span class=\"time\" itemprop=\"dateModified\" content=\"2019-08-23T10:21:23.000Z\" >03:51 pm</span> on <span class=\"date\">23 Aug</span>\\n    </div>\\n  </div>\\n  \\n    <div class=\"news-card-footer news-right-box\">\\n      <div class=\"read-more\">read more at <a class=\"source\" onclick=\"ga(\\'send\\', {\\'hitType\\': \\'event\\', \\'eventCategory\\': \\'ReadMore\\', \\'eventAction\\': \\'clicked\\', \\'eventLabel\\': \\'Reuters\\' });\" target=\"_blank\" href=\"https://in.reuters.com/article/us-future-retail-m-a-amazon-com/amazon-to-acquire-minority-stake-in-an-indian-supermarket-chain-operator-idINKCN1VC2I2?utm_campaign=fullarticle&amp;utm_medium=referral&amp;utm_source=inshorts \">Reuters</a></div>\\n    </div>\\n  \\n\\n</div>\\n\\n  \\n</div>\\n\\n\\n\\n\\n<div class=\"\">\\n<div class=\"news-card z-depth-1\" itemscope itemtype=\"http://schema.org/NewsArticle\">\\n  <span content=\"\" itemscope itemprop=\"mainEntityOfPage\" itemType=\"https://schema.org/WebPage\" itemid=\"https://inshorts.com/en/news/youtube-sues-user-for-extorting-others-with-fake-takedown-requests-1566389060143\"></span>\\n  <span itemtype=\"https://schema.org/Person\" itemscope=\"itemscope\" itemprop=\"author\">\\n    <span itemprop=\"name\" content=\"Kanishka Pandey\"></span>\\n  </span>\\n  <span itemprop=\"description\" content=\"YouTube sues user for extorting others with fake takedown requests\"></span>\\n  <span itemprop=\"image\" itemscope itemtype=\"https://schema.org/ImageObject\">\\n    <meta itemprop=\"url\" content=\"https://static.inshorts.com/inshorts/images/v1/variants/jpg/m/2019/08_aug/21_wed/img_1566385721807_250.jpg?\"></meta>\\n    <meta itemprop=\"width\" content=\"864\"></meta>\\n    <meta itemprop=\"height\" content=\"483\"></meta>\\n  </span>\\n  <span itemtype=\"https://schema.org/Organization\" itemscope=\"itemscope\" itemprop=\"publisher\">\\n    <span itemprop=\"url\" content=\"https://inshorts.com/\"></span>\\n    <span itemprop=\"name\" content=\"Inshorts\"></span>\\n    <span itemprop=\"logo\" itemscope itemtype=\"https://schema.org/ImageObject\">\\n      <span itemprop=\"url\" content=\"https://assets.inshorts.com/inshorts/images/v1/variants/jpg/m/2018/11_nov/21_wed/img_1542823931298_497.jpg\"></span>\\n      <meta itemprop=\"width\" content=\"400\"></meta>\\n      <meta itemprop=\"height\" content=\"60\"></meta>\\n    </span>\\n  </span>\\n  <div class=\"news-card-image\" style= \"background-image: url(\\'https://static.inshorts.com/inshorts/images/v1/variants/jpg/m/2019/08_aug/21_wed/img_1566385721807_250.jpg?\\')\">\\n  </div>\\n  <div class=\"news-card-title news-right-box\">\\n    <a class=\"clickable\" onclick=\"ga(\\'send\\', {\\'hitType\\': \\'event\\', \\'eventCategory\\': \\'TitleOfNews\\', \\'eventAction\\': \\'clicked\\', \\'eventLabel\\': \\'YouTube%20sues%20user%20for%20extorting%20others%20with%20fake%20takedown%20requests)\\' });\"  style=\"color:#44444d!important\" href=\"/en/news/youtube-sues-user-for-extorting-others-with-fake-takedown-requests-1566389060143\">\\n      <span itemprop=\"headline\">YouTube sues user for extorting others with fake takedown requests</span>\\n    </a>\\n    <div class=\"news-card-author-time news-card-author-time-in-title\">\\n      <a href=\"/prev/en/news/youtube-sues-user-for-extorting-others-with-fake-takedown-requests-1566389060143\"><span class=\"short\">short</span></a> by <span class=\"author\">Kanishka Pandey</span> / \\n      <span class=\"time\" itemprop=\"datePublished\" content=\"2019-08-21T12:04:20.000Z\">05:34 pm</span> on <span clas=\"date\">21 Aug 2019,Wednesday</span>\\n    </div>\\n  </div>\\n  <div class=\"news-card-content news-right-box\">\\n    <div itemprop=\"articleBody\">YouTube has sued a US-based user, Christopher Brady, over claims that he abused the copyright infringement reporting system. YouTube said Brady filed dozens of takedown notices, falsely claiming that materials posted by other users infringed his copyrights. He allegedly asked some YouTubers for a small payment to avoid getting a third copyright claim, which could get their accounts terminated.</div>\\n    <div class=\"news-card-author-time news-card-author-time-in-content\">\\n      <a href=\"/prev/en/news/youtube-sues-user-for-extorting-others-with-fake-takedown-requests-1566389060143\"><span class=\"short\">short</span></a> by <span class=\"author\">Kanishka Pandey</span> / \\n      <span class=\"time\" itemprop=\"dateModified\" content=\"2019-08-21T12:04:20.000Z\" >05:34 pm</span> on <span class=\"date\">21 Aug</span>\\n    </div>\\n  </div>\\n  \\n    <div class=\"news-card-footer news-right-box\">\\n      <div class=\"read-more\">read more at <a class=\"source\" onclick=\"ga(\\'send\\', {\\'hitType\\': \\'event\\', \\'eventCategory\\': \\'ReadMore\\', \\'eventAction\\': \\'clicked\\', \\'eventLabel\\': \\'Engadget\\' });\" target=\"_blank\" href=\"https://www.engadget.com/2019/08/20/youtube-lawsuit-false-takedown-notices-extortion/?utm_campaign=fullarticle&amp;utm_medium=referral&amp;utm_source=inshorts \">Engadget</a></div>\\n    </div>\\n  \\n\\n</div>\\n\\n  \\n</div>\\n\\n\\n\\n\\n  \\n    <div id=\\'div-gpt-ad-1536748319959-prcsavyj-1\\' style=\\'height:250px; width:900px; margin: auto; margin-bottom: 2%;\\'>\\n      <script>\\n        googletag.cmd.push(function() { \\n          //News banner for desktop\\n          var slotIdWeb = \\'div-gpt-ad-1536748319959-prcsavyj-1\\';\\n          var slot = googletag.defineSlot(\\'/142919096/inshorts_website_900x250\\', [900, 250], slotIdWeb)\\n          .addService(googletag.pubads())\\n          .setCollapseEmptyDiv(true,true);\\n\\n          googletag.display(\\'div-gpt-ad-1536748319959-prcsavyj-1\\');\\n          googletag.pubads().refresh([slot]);\\n        });\\n      </script>\\n    </div>\\n  \\n\\n<div class=\"\">\\n<div class=\"news-card z-depth-1\" itemscope itemtype=\"http://schema.org/NewsArticle\">\\n  <span content=\"\" itemscope itemprop=\"mainEntityOfPage\" itemType=\"https://schema.org/WebPage\" itemid=\"https://inshorts.com/en/news/95acre-hyd-campus-cost-hundreds-of-millions-of-dollars-amazon-1566451706716\"></span>\\n  <span itemtype=\"https://schema.org/Person\" itemscope=\"itemscope\" itemprop=\"author\">\\n    <span itemprop=\"name\" content=\"Krishna Veera Vanamali\"></span>\\n  </span>\\n  <span itemprop=\"description\" content=\"9.5-acre Hyd campus cost &#39;hundreds of millions of dollars&#39;: Amazon\"></span>\\n  <span itemprop=\"image\" itemscope itemtype=\"https://schema.org/ImageObject\">\\n    <meta itemprop=\"url\" content=\"https://static.inshorts.com/inshorts/images/v1/variants/jpg/m/2019/08_aug/21_wed/img_1566419197857_617.jpg?\"></meta>\\n    <meta itemprop=\"width\" content=\"864\"></meta>\\n    <meta itemprop=\"height\" content=\"483\"></meta>\\n  </span>\\n  <span itemtype=\"https://schema.org/Organization\" itemscope=\"itemscope\" itemprop=\"publisher\">\\n    <span itemprop=\"url\" content=\"https://inshorts.com/\"></span>\\n    <span itemprop=\"name\" content=\"Inshorts\"></span>\\n    <span itemprop=\"logo\" itemscope itemtype=\"https://schema.org/ImageObject\">\\n      <span itemprop=\"url\" content=\"https://assets.inshorts.com/inshorts/images/v1/variants/jpg/m/2018/11_nov/21_wed/img_1542823931298_497.jpg\"></span>\\n      <meta itemprop=\"width\" content=\"400\"></meta>\\n      <meta itemprop=\"height\" content=\"60\"></meta>\\n    </span>\\n  </span>\\n  <div class=\"news-card-image\" style= \"background-image: url(\\'https://static.inshorts.com/inshorts/images/v1/variants/jpg/m/2019/08_aug/21_wed/img_1566419197857_617.jpg?\\')\">\\n  </div>\\n  <div class=\"news-card-title news-right-box\">\\n    <a class=\"clickable\" onclick=\"ga(\\'send\\', {\\'hitType\\': \\'event\\', \\'eventCategory\\': \\'TitleOfNews\\', \\'eventAction\\': \\'clicked\\', \\'eventLabel\\': \\'9.5-acre%20Hyd%20campus%20cost%20&#39;hundreds%20of%20millions%20of%20dollars&#39;%3A%20Amazon)\\' });\"  style=\"color:#44444d!important\" href=\"/en/news/95acre-hyd-campus-cost-hundreds-of-millions-of-dollars-amazon-1566451706716\">\\n      <span itemprop=\"headline\">9.5-acre Hyd campus cost &#39;hundreds of millions of dollars&#39;: Amazon</span>\\n    </a>\\n    <div class=\"news-card-author-time news-card-author-time-in-title\">\\n      <a href=\"/prev/en/news/95acre-hyd-campus-cost-hundreds-of-millions-of-dollars-amazon-1566451706716\"><span class=\"short\">short</span></a> by <span class=\"author\">Krishna Veera Vanamali</span> / \\n      <span class=\"time\" itemprop=\"datePublished\" content=\"2019-08-22T05:28:26.000Z\">10:58 am</span> on <span clas=\"date\">22 Aug 2019,Thursday</span>\\n    </div>\\n  </div>\\n  <div class=\"news-card-content news-right-box\">\\n    <div itemprop=\"articleBody\">Amazon on Wednesday said that its biggest campus globally in Hyderabad, spread over 9.5 acres, cost &#34;hundreds of millions of dollars&#34;. Around a third of Amazon&#39;s 62,000 employees in India are based in Hyderabad. &#34;The investment to create an office of this size indicates that we are going to continue to grow,&#34; said Amit Agarwal, Amazon country&#39;s manager for India.</div>\\n    <div class=\"news-card-author-time news-card-author-time-in-content\">\\n      <a href=\"/prev/en/news/95acre-hyd-campus-cost-hundreds-of-millions-of-dollars-amazon-1566451706716\"><span class=\"short\">short</span></a> by <span class=\"author\">Krishna Veera Vanamali</span> / \\n      <span class=\"time\" itemprop=\"dateModified\" content=\"2019-08-22T05:28:26.000Z\" >10:58 am</span> on <span class=\"date\">22 Aug</span>\\n    </div>\\n  </div>\\n  \\n    <div class=\"news-card-footer news-right-box\">\\n      <div class=\"read-more\">read more at <a class=\"source\" onclick=\"ga(\\'send\\', {\\'hitType\\': \\'event\\', \\'eventCategory\\': \\'ReadMore\\', \\'eventAction\\': \\'clicked\\', \\'eventLabel\\': \\'Reuters\\' });\" target=\"_blank\" href=\"https://in.reuters.com/article/amazon-com-india/amazon-opens-its-biggest-global-campus-in-india-idINKCN1VB1F1?utm_campaign=fullarticle&amp;utm_medium=referral&amp;utm_source=inshorts \">Reuters</a></div>\\n    </div>\\n  \\n\\n</div>\\n\\n  \\n</div>\\n\\n\\n\\n\\n<div class=\"\">\\n<div class=\"news-card z-depth-1\" itemscope itemtype=\"http://schema.org/NewsArticle\">\\n  <span content=\"\" itemscope itemprop=\"mainEntityOfPage\" itemType=\"https://schema.org/WebPage\" itemid=\"https://inshorts.com/en/news/linkedin-blocks-over-2-crore-fake-accounts-in-first-half-of-2019-1566464457143\"></span>\\n  <span itemtype=\"https://schema.org/Person\" itemscope=\"itemscope\" itemprop=\"author\">\\n    <span itemprop=\"name\" content=\"Kanishka Pandey\"></span>\\n  </span>\\n  <span itemprop=\"description\" content=\"LinkedIn blocks over 2 crore fake accounts in first half of 2019\"></span>\\n  <span itemprop=\"image\" itemscope itemtype=\"https://schema.org/ImageObject\">\\n    <meta itemprop=\"url\" content=\"https://static.inshorts.com/inshorts/images/v1/variants/jpg/m/2019/08_aug/22_thu/img_1566462607398_417.jpg?\"></meta>\\n    <meta itemprop=\"width\" content=\"864\"></meta>\\n    <meta itemprop=\"height\" content=\"483\"></meta>\\n  </span>\\n  <span itemtype=\"https://schema.org/Organization\" itemscope=\"itemscope\" itemprop=\"publisher\">\\n    <span itemprop=\"url\" content=\"https://inshorts.com/\"></span>\\n    <span itemprop=\"name\" content=\"Inshorts\"></span>\\n    <span itemprop=\"logo\" itemscope itemtype=\"https://schema.org/ImageObject\">\\n      <span itemprop=\"url\" content=\"https://assets.inshorts.com/inshorts/images/v1/variants/jpg/m/2018/11_nov/21_wed/img_1542823931298_497.jpg\"></span>\\n      <meta itemprop=\"width\" content=\"400\"></meta>\\n      <meta itemprop=\"height\" content=\"60\"></meta>\\n    </span>\\n  </span>\\n  <div class=\"news-card-image\" style= \"background-image: url(\\'https://static.inshorts.com/inshorts/images/v1/variants/jpg/m/2019/08_aug/22_thu/img_1566462607398_417.jpg?\\')\">\\n  </div>\\n  <div class=\"news-card-title news-right-box\">\\n    <a class=\"clickable\" onclick=\"ga(\\'send\\', {\\'hitType\\': \\'event\\', \\'eventCategory\\': \\'TitleOfNews\\', \\'eventAction\\': \\'clicked\\', \\'eventLabel\\': \\'LinkedIn%20blocks%20over%202%20crore%20fake%20accounts%20in%20first%20half%20of%202019)\\' });\"  style=\"color:#44444d!important\" href=\"/en/news/linkedin-blocks-over-2-crore-fake-accounts-in-first-half-of-2019-1566464457143\">\\n      <span itemprop=\"headline\">LinkedIn blocks over 2 crore fake accounts in first half of 2019</span>\\n    </a>\\n    <div class=\"news-card-author-time news-card-author-time-in-title\">\\n      <a href=\"/prev/en/news/linkedin-blocks-over-2-crore-fake-accounts-in-first-half-of-2019-1566464457143\"><span class=\"short\">short</span></a> by <span class=\"author\">Kanishka Pandey</span> / \\n      <span class=\"time\" itemprop=\"datePublished\" content=\"2019-08-22T09:00:57.000Z\">02:30 pm</span> on <span clas=\"date\">22 Aug 2019,Thursday</span>\\n    </div>\\n  </div>\\n  <div class=\"news-card-content news-right-box\">\\n    <div itemprop=\"articleBody\">Microsoft-owned professional networking service LinkedIn has revealed that it took action on around 2.16 crore fake accounts in the first half of 2019. It added that about 95% of the accounts were stopped automatically, without ever being live. LinkedIn&#39;s automated defences, including AI and machine learning, helped take down 98% of all fake accounts, it further added.</div>\\n    <div class=\"news-card-author-time news-card-author-time-in-content\">\\n      <a href=\"/prev/en/news/linkedin-blocks-over-2-crore-fake-accounts-in-first-half-of-2019-1566464457143\"><span class=\"short\">short</span></a> by <span class=\"author\">Kanishka Pandey</span> / \\n      <span class=\"time\" itemprop=\"dateModified\" content=\"2019-08-22T09:00:57.000Z\" >02:30 pm</span> on <span class=\"date\">22 Aug</span>\\n    </div>\\n  </div>\\n  \\n    <div class=\"news-card-footer news-right-box\">\\n      <div class=\"read-more\">read more at <a class=\"source\" onclick=\"ga(\\'send\\', {\\'hitType\\': \\'event\\', \\'eventCategory\\': \\'ReadMore\\', \\'eventAction\\': \\'clicked\\', \\'eventLabel\\': \\'LinkedIn\\' });\" target=\"_blank\" href=\"https://blog.linkedin.com/2019/august/20/an-update-on-how-were-fighting-fake-accounts?utm_campaign=fullarticle&amp;utm_medium=referral&amp;utm_source=inshorts \">LinkedIn</a></div>\\n    </div>\\n  \\n\\n</div>\\n\\n  \\n</div>\\n\\n\\n\\n\\n<div class=\"\">\\n<div class=\"news-card z-depth-1\" itemscope itemtype=\"http://schema.org/NewsArticle\">\\n  <span content=\"\" itemscope itemprop=\"mainEntityOfPage\" itemType=\"https://schema.org/WebPage\" itemid=\"https://inshorts.com/en/news/viral-post-saying-instagram-will-make-users-posts-public-is-a-hoax-1566470752397\"></span>\\n  <span itemtype=\"https://schema.org/Person\" itemscope=\"itemscope\" itemprop=\"author\">\\n    <span itemprop=\"name\" content=\"Daisy Mowke\"></span>\\n  </span>\\n  <span itemprop=\"description\" content=\"Viral post saying Instagram will make users&#39; posts public is a hoax\"></span>\\n  <span itemprop=\"image\" itemscope itemtype=\"https://schema.org/ImageObject\">\\n    <meta itemprop=\"url\" content=\"https://static.inshorts.com/inshorts/images/v1/variants/jpg/m/2019/08_aug/22_thu/img_1566464665692_392.jpg?\"></meta>\\n    <meta itemprop=\"width\" content=\"864\"></meta>\\n    <meta itemprop=\"height\" content=\"483\"></meta>\\n  </span>\\n  <span itemtype=\"https://schema.org/Organization\" itemscope=\"itemscope\" itemprop=\"publisher\">\\n    <span itemprop=\"url\" content=\"https://inshorts.com/\"></span>\\n    <span itemprop=\"name\" content=\"Inshorts\"></span>\\n    <span itemprop=\"logo\" itemscope itemtype=\"https://schema.org/ImageObject\">\\n      <span itemprop=\"url\" content=\"https://assets.inshorts.com/inshorts/images/v1/variants/jpg/m/2018/11_nov/21_wed/img_1542823931298_497.jpg\"></span>\\n      <meta itemprop=\"width\" content=\"400\"></meta>\\n      <meta itemprop=\"height\" content=\"60\"></meta>\\n    </span>\\n  </span>\\n  <div class=\"news-card-image\" style= \"background-image: url(\\'https://static.inshorts.com/inshorts/images/v1/variants/jpg/m/2019/08_aug/22_thu/img_1566464665692_392.jpg?\\')\">\\n  </div>\\n  <div class=\"news-card-title news-right-box\">\\n    <a class=\"clickable\" onclick=\"ga(\\'send\\', {\\'hitType\\': \\'event\\', \\'eventCategory\\': \\'TitleOfNews\\', \\'eventAction\\': \\'clicked\\', \\'eventLabel\\': \\'Viral%20post%20saying%20Instagram%20will%20make%20users&#39;%20posts%20public%20is%20a%20hoax)\\' });\"  style=\"color:#44444d!important\" href=\"/en/news/viral-post-saying-instagram-will-make-users-posts-public-is-a-hoax-1566470752397\">\\n      <span itemprop=\"headline\">Viral post saying Instagram will make users&#39; posts public is a hoax</span>\\n    </a>\\n    <div class=\"news-card-author-time news-card-author-time-in-title\">\\n      <a href=\"/prev/en/news/viral-post-saying-instagram-will-make-users-posts-public-is-a-hoax-1566470752397\"><span class=\"short\">short</span></a> by <span class=\"author\">Daisy Mowke</span> / \\n      <span class=\"time\" itemprop=\"datePublished\" content=\"2019-08-22T10:45:52.000Z\">04:15 pm</span> on <span clas=\"date\">22 Aug 2019,Thursday</span>\\n    </div>\\n  </div>\\n  <div class=\"news-card-content news-right-box\">\\n    <div itemprop=\"articleBody\">Instagram has clarified that the viral post which says that the platform will now change its policies is a hoax. The post, which has also been shared by several celebrities, claims &#34;everything you&#39;ve ever posted&#34; on Instagram, including deleted messages, &#34;becomes public from today&#34;. The post added that it can also be used in &#34;court cases against you&#34;.</div>\\n    <div class=\"news-card-author-time news-card-author-time-in-content\">\\n      <a href=\"/prev/en/news/viral-post-saying-instagram-will-make-users-posts-public-is-a-hoax-1566470752397\"><span class=\"short\">short</span></a> by <span class=\"author\">Daisy Mowke</span> / \\n      <span class=\"time\" itemprop=\"dateModified\" content=\"2019-08-22T10:45:52.000Z\" >04:15 pm</span> on <span class=\"date\">22 Aug</span>\\n    </div>\\n  </div>\\n  \\n    <div class=\"news-card-footer news-right-box\">\\n      <div class=\"read-more\">read more at <a class=\"source\" onclick=\"ga(\\'send\\', {\\'hitType\\': \\'event\\', \\'eventCategory\\': \\'ReadMore\\', \\'eventAction\\': \\'clicked\\', \\'eventLabel\\': \\'Daily%20Mail\\' });\" target=\"_blank\" href=\"https://www.dailymail.co.uk/sciencetech/article-7379575/Stop-sharing-Instagram-hoax-Celebrities-fuel-viral-post-claims-site-changing-rules.html?utm_campaign=fullarticle&amp;utm_medium=referral&amp;utm_source=inshorts \">Daily Mail</a></div>\\n    </div>\\n  \\n\\n</div>\\n\\n  \\n</div>\\n\\n\\n\\n\\n<div class=\"\">\\n<div class=\"news-card z-depth-1\" itemscope itemtype=\"http://schema.org/NewsArticle\">\\n  <span content=\"\" itemscope itemprop=\"mainEntityOfPage\" itemType=\"https://schema.org/WebPage\" itemid=\"https://inshorts.com/en/news/google-removes-27-apps-that-guided-users-to-fake-play-store-1566382706976\"></span>\\n  <span itemtype=\"https://schema.org/Person\" itemscope=\"itemscope\" itemprop=\"author\">\\n    <span itemprop=\"name\" content=\"Kanishka Pandey\"></span>\\n  </span>\\n  <span itemprop=\"description\" content=\"Google removes 27 apps that guided users to fake Play Store\"></span>\\n  <span itemprop=\"image\" itemscope itemtype=\"https://schema.org/ImageObject\">\\n    <meta itemprop=\"url\" content=\"https://static.inshorts.com/inshorts/images/v1/variants/jpg/m/2019/08_aug/21_wed/img_1566379735841_646.jpg?\"></meta>\\n    <meta itemprop=\"width\" content=\"864\"></meta>\\n    <meta itemprop=\"height\" content=\"483\"></meta>\\n  </span>\\n  <span itemtype=\"https://schema.org/Organization\" itemscope=\"itemscope\" itemprop=\"publisher\">\\n    <span itemprop=\"url\" content=\"https://inshorts.com/\"></span>\\n    <span itemprop=\"name\" content=\"Inshorts\"></span>\\n    <span itemprop=\"logo\" itemscope itemtype=\"https://schema.org/ImageObject\">\\n      <span itemprop=\"url\" content=\"https://assets.inshorts.com/inshorts/images/v1/variants/jpg/m/2018/11_nov/21_wed/img_1542823931298_497.jpg\"></span>\\n      <meta itemprop=\"width\" content=\"400\"></meta>\\n      <meta itemprop=\"height\" content=\"60\"></meta>\\n    </span>\\n  </span>\\n  <div class=\"news-card-image\" style= \"background-image: url(\\'https://static.inshorts.com/inshorts/images/v1/variants/jpg/m/2019/08_aug/21_wed/img_1566379735841_646.jpg?\\')\">\\n  </div>\\n  <div class=\"news-card-title news-right-box\">\\n    <a class=\"clickable\" onclick=\"ga(\\'send\\', {\\'hitType\\': \\'event\\', \\'eventCategory\\': \\'TitleOfNews\\', \\'eventAction\\': \\'clicked\\', \\'eventLabel\\': \\'Google%20removes%2027%20apps%20that%20guided%20users%20to%20fake%20Play%20Store)\\' });\"  style=\"color:#44444d!important\" href=\"/en/news/google-removes-27-apps-that-guided-users-to-fake-play-store-1566382706976\">\\n      <span itemprop=\"headline\">Google removes 27 apps that guided users to fake Play Store</span>\\n    </a>\\n    <div class=\"news-card-author-time news-card-author-time-in-title\">\\n      <a href=\"/prev/en/news/google-removes-27-apps-that-guided-users-to-fake-play-store-1566382706976\"><span class=\"short\">short</span></a> by <span class=\"author\">Kanishka Pandey</span> / \\n      <span class=\"time\" itemprop=\"datePublished\" content=\"2019-08-21T10:18:26.000Z\">03:48 pm</span> on <span clas=\"date\">21 Aug 2019,Wednesday</span>\\n    </div>\\n  </div>\\n  <div class=\"news-card-content news-right-box\">\\n    <div itemprop=\"articleBody\">Google has removed 27 Android apps which misled users and guided them to fake &#39;Play Store&#39;, after being alerted by researchers from Pune-based cybersecurity firm Quick Heal. The fake Play Store remained in the device even after its source app was uninstalled, researchers revealed. It kept on displaying full-screen ads at random time intervals, they added.</div>\\n    <div class=\"news-card-author-time news-card-author-time-in-content\">\\n      <a href=\"/prev/en/news/google-removes-27-apps-that-guided-users-to-fake-play-store-1566382706976\"><span class=\"short\">short</span></a> by <span class=\"author\">Kanishka Pandey</span> / \\n      <span class=\"time\" itemprop=\"dateModified\" content=\"2019-08-21T10:18:26.000Z\" >03:48 pm</span> on <span class=\"date\">21 Aug</span>\\n    </div>\\n  </div>\\n  \\n    <div class=\"news-card-footer news-right-box\">\\n      <div class=\"read-more\">read more at <a class=\"source\" onclick=\"ga(\\'send\\', {\\'hitType\\': \\'event\\', \\'eventCategory\\': \\'ReadMore\\', \\'eventAction\\': \\'clicked\\', \\'eventLabel\\': \\'BGR\\' });\" target=\"_blank\" href=\"https://www.bgr.in/news/google-removes-27-android-apps-that-made-users-download-a-fake-play-store/?utm_campaign=fullarticle&amp;utm_medium=referral&amp;utm_source=inshorts \">BGR</a></div>\\n    </div>\\n  \\n\\n</div>\\n\\n  \\n</div>\\n\\n\\n\\n\\n<div class=\"\">\\n<div class=\"news-card z-depth-1\" itemscope itemtype=\"http://schema.org/NewsArticle\">\\n  <span content=\"\" itemscope itemprop=\"mainEntityOfPage\" itemType=\"https://schema.org/WebPage\" itemid=\"https://inshorts.com/en/news/googles-handtracking-algorithm-could-help-translate-sign-language-1566304664634\"></span>\\n  <span itemtype=\"https://schema.org/Person\" itemscope=\"itemscope\" itemprop=\"author\">\\n    <span itemprop=\"name\" content=\"Kanishka Pandey\"></span>\\n  </span>\\n  <span itemprop=\"description\" content=\"Google&#39;s hand-tracking algorithm could help translate sign language\"></span>\\n  <span itemprop=\"image\" itemscope itemtype=\"https://schema.org/ImageObject\">\\n    <meta itemprop=\"url\" content=\"https://static.inshorts.com/inshorts/images/v1/variants/jpg/m/2019/08_aug/20_tue/img_1566302897923_385.jpg?\"></meta>\\n    <meta itemprop=\"width\" content=\"864\"></meta>\\n    <meta itemprop=\"height\" content=\"483\"></meta>\\n  </span>\\n  <span itemtype=\"https://schema.org/Organization\" itemscope=\"itemscope\" itemprop=\"publisher\">\\n    <span itemprop=\"url\" content=\"https://inshorts.com/\"></span>\\n    <span itemprop=\"name\" content=\"Inshorts\"></span>\\n    <span itemprop=\"logo\" itemscope itemtype=\"https://schema.org/ImageObject\">\\n      <span itemprop=\"url\" content=\"https://assets.inshorts.com/inshorts/images/v1/variants/jpg/m/2018/11_nov/21_wed/img_1542823931298_497.jpg\"></span>\\n      <meta itemprop=\"width\" content=\"400\"></meta>\\n      <meta itemprop=\"height\" content=\"60\"></meta>\\n    </span>\\n  </span>\\n  <div class=\"news-card-image\" style= \"background-image: url(\\'https://static.inshorts.com/inshorts/images/v1/variants/jpg/m/2019/08_aug/20_tue/img_1566302897923_385.jpg?\\')\">\\n  </div>\\n  <div class=\"news-card-title news-right-box\">\\n    <a class=\"clickable\" onclick=\"ga(\\'send\\', {\\'hitType\\': \\'event\\', \\'eventCategory\\': \\'TitleOfNews\\', \\'eventAction\\': \\'clicked\\', \\'eventLabel\\': \\'Google&#39;s%20hand-tracking%20algorithm%20could%20help%20translate%20sign%20language)\\' });\"  style=\"color:#44444d!important\" href=\"/en/news/googles-handtracking-algorithm-could-help-translate-sign-language-1566304664634\">\\n      <span itemprop=\"headline\">Google&#39;s hand-tracking algorithm could help translate sign language</span>\\n    </a>\\n    <div class=\"news-card-author-time news-card-author-time-in-title\">\\n      <a href=\"/prev/en/news/googles-handtracking-algorithm-could-help-translate-sign-language-1566304664634\"><span class=\"short\">short</span></a> by <span class=\"author\">Kanishka Pandey</span> / \\n      <span class=\"time\" itemprop=\"datePublished\" content=\"2019-08-20T12:37:44.000Z\">06:07 pm</span> on <span clas=\"date\">20 Aug 2019,Tuesday</span>\\n    </div>\\n  </div>\\n  <div class=\"news-card-content news-right-box\">\\n    <div itemprop=\"articleBody\">Google&#39;s AI labs has released a new machine-learning algorithm that provides hand and finger tracking, which could lead to translating sign language to verbal. The algorithm inferred up to 21 3D points of a hand from just a single frame, researchers said. &#34;Our method achieves real-time performance on a mobile phone, and even scales to multiple hands,&#34; they added.</div>\\n    <div class=\"news-card-author-time news-card-author-time-in-content\">\\n      <a href=\"/prev/en/news/googles-handtracking-algorithm-could-help-translate-sign-language-1566304664634\"><span class=\"short\">short</span></a> by <span class=\"author\">Kanishka Pandey</span> / \\n      <span class=\"time\" itemprop=\"dateModified\" content=\"2019-08-20T12:37:44.000Z\" >06:07 pm</span> on <span class=\"date\">20 Aug</span>\\n    </div>\\n  </div>\\n  \\n    <div class=\"news-card-footer news-right-box\">\\n      <div class=\"read-more\">read more at <a class=\"source\" onclick=\"ga(\\'send\\', {\\'hitType\\': \\'event\\', \\'eventCategory\\': \\'ReadMore\\', \\'eventAction\\': \\'clicked\\', \\'eventLabel\\': \\'TechCrunch\\' });\" target=\"_blank\" href=\"https://techcrunch.com/2019/08/19/this-hand-tracking-algorithm-could-lead-to-sign-language-recognition/?utm_campaign=fullarticle&amp;utm_medium=referral&amp;utm_source=inshorts \">TechCrunch</a></div>\\n    </div>\\n  \\n\\n</div>\\n\\n  \\n</div>\\n\\n\\n\\n\\n<div class=\"\">\\n<div class=\"news-card z-depth-1\" itemscope itemtype=\"http://schema.org/NewsArticle\">\\n  <span content=\"\" itemscope itemprop=\"mainEntityOfPage\" itemType=\"https://schema.org/WebPage\" itemid=\"https://inshorts.com/en/news/fb-expands-its-data-abusereporting-reward-program-to-instagram-1566294046429\"></span>\\n  <span itemtype=\"https://schema.org/Person\" itemscope=\"itemscope\" itemprop=\"author\">\\n    <span itemprop=\"name\" content=\"Kanishka Pandey\"></span>\\n  </span>\\n  <span itemprop=\"description\" content=\"Facebook expands data abuse-reporting reward program to Instagram\"></span>\\n  <span itemprop=\"image\" itemscope itemtype=\"https://schema.org/ImageObject\">\\n    <meta itemprop=\"url\" content=\"https://static.inshorts.com/inshorts/images/v1/variants/jpg/m/2019/08_aug/20_tue/img_1566292396183_853.jpg?\"></meta>\\n    <meta itemprop=\"width\" content=\"864\"></meta>\\n    <meta itemprop=\"height\" content=\"483\"></meta>\\n  </span>\\n  <span itemtype=\"https://schema.org/Organization\" itemscope=\"itemscope\" itemprop=\"publisher\">\\n    <span itemprop=\"url\" content=\"https://inshorts.com/\"></span>\\n    <span itemprop=\"name\" content=\"Inshorts\"></span>\\n    <span itemprop=\"logo\" itemscope itemtype=\"https://schema.org/ImageObject\">\\n      <span itemprop=\"url\" content=\"https://assets.inshorts.com/inshorts/images/v1/variants/jpg/m/2018/11_nov/21_wed/img_1542823931298_497.jpg\"></span>\\n      <meta itemprop=\"width\" content=\"400\"></meta>\\n      <meta itemprop=\"height\" content=\"60\"></meta>\\n    </span>\\n  </span>\\n  <div class=\"news-card-image\" style= \"background-image: url(\\'https://static.inshorts.com/inshorts/images/v1/variants/jpg/m/2019/08_aug/20_tue/img_1566292396183_853.jpg?\\')\">\\n  </div>\\n  <div class=\"news-card-title news-right-box\">\\n    <a class=\"clickable\" onclick=\"ga(\\'send\\', {\\'hitType\\': \\'event\\', \\'eventCategory\\': \\'TitleOfNews\\', \\'eventAction\\': \\'clicked\\', \\'eventLabel\\': \\'Facebook%20expands%20data%20abuse-reporting%20reward%20program%20to%20Instagram)\\' });\"  style=\"color:#44444d!important\" href=\"/en/news/fb-expands-its-data-abusereporting-reward-program-to-instagram-1566294046429\">\\n      <span itemprop=\"headline\">Facebook expands data abuse-reporting reward program to Instagram</span>\\n    </a>\\n    <div class=\"news-card-author-time news-card-author-time-in-title\">\\n      <a href=\"/prev/en/news/fb-expands-its-data-abusereporting-reward-program-to-instagram-1566294046429\"><span class=\"short\">short</span></a> by <span class=\"author\">Kanishka Pandey</span> / \\n      <span class=\"time\" itemprop=\"datePublished\" content=\"2019-08-20T09:40:46.000Z\">03:10 pm</span> on <span clas=\"date\">20 Aug 2019,Tuesday</span>\\n    </div>\\n  </div>\\n  <div class=\"news-card-content news-right-box\">\\n    <div itemprop=\"articleBody\">Social media giant Facebook has expanded its reward program for reporting data abuse on its platform to now also include its photo-sharing platform Instagram. Instagram said it&#39;s also inviting a select group of trusted security researchers to find flaws in its &#39;Checkout&#39; shopping feature ahead of its international rollout. Facebook awarded researchers over $1 million under the program in 2018.</div>\\n    <div class=\"news-card-author-time news-card-author-time-in-content\">\\n      <a href=\"/prev/en/news/fb-expands-its-data-abusereporting-reward-program-to-instagram-1566294046429\"><span class=\"short\">short</span></a> by <span class=\"author\">Kanishka Pandey</span> / \\n      <span class=\"time\" itemprop=\"dateModified\" content=\"2019-08-20T09:40:46.000Z\" >03:10 pm</span> on <span class=\"date\">20 Aug</span>\\n    </div>\\n  </div>\\n  \\n    <div class=\"news-card-footer news-right-box\">\\n      <div class=\"read-more\">read more at <a class=\"source\" onclick=\"ga(\\'send\\', {\\'hitType\\': \\'event\\', \\'eventCategory\\': \\'ReadMore\\', \\'eventAction\\': \\'clicked\\', \\'eventLabel\\': \\'Engadget\\' });\" target=\"_blank\" href=\"https://www.engadget.com/2019/08/19/facebook-data-abuse-bounty-program-instagram-checkout/?utm_campaign=fullarticle&amp;utm_medium=referral&amp;utm_source=inshorts \">Engadget</a></div>\\n    </div>\\n  \\n\\n</div>\\n\\n  \\n</div>\\n\\n\\n\\n\\n  \\n    <div id=\\'div-gpt-ad-1536748319959-o8viadwd-2\\' style=\\'height:250px; width:900px; margin: auto; margin-bottom: 2%;\\'>\\n      <script>\\n        googletag.cmd.push(function() { \\n          //News banner for desktop\\n          var slotIdWeb = \\'div-gpt-ad-1536748319959-o8viadwd-2\\';\\n          var slot = googletag.defineSlot(\\'/142919096/inshorts_website_900x250\\', [900, 250], slotIdWeb)\\n          .addService(googletag.pubads())\\n          .setCollapseEmptyDiv(true,true);\\n\\n          googletag.display(\\'div-gpt-ad-1536748319959-o8viadwd-2\\');\\n          googletag.pubads().refresh([slot]);\\n        });\\n      </script>\\n    </div>\\n  \\n\\n<div class=\"\">\\n<div class=\"news-card z-depth-1\" itemscope itemtype=\"http://schema.org/NewsArticle\">\\n  <span content=\"\" itemscope itemprop=\"mainEntityOfPage\" itemType=\"https://schema.org/WebPage\" itemid=\"https://inshorts.com/en/news/former-siri-head-at-apple-joins-microsofts-ai-division-1566365430186\"></span>\\n  <span itemtype=\"https://schema.org/Person\" itemscope=\"itemscope\" itemprop=\"author\">\\n    <span itemprop=\"name\" content=\"Kanishka Pandey\"></span>\\n  </span>\\n  <span itemprop=\"description\" content=\"Former Siri head at Apple joins Microsoft&#39;s AI division\"></span>\\n  <span itemprop=\"image\" itemscope itemtype=\"https://schema.org/ImageObject\">\\n    <meta itemprop=\"url\" content=\"https://static.inshorts.com/inshorts/images/v1/variants/jpg/m/2019/08_aug/20_tue/img_1566320530532_413.jpg?\"></meta>\\n    <meta itemprop=\"width\" content=\"864\"></meta>\\n    <meta itemprop=\"height\" content=\"483\"></meta>\\n  </span>\\n  <span itemtype=\"https://schema.org/Organization\" itemscope=\"itemscope\" itemprop=\"publisher\">\\n    <span itemprop=\"url\" content=\"https://inshorts.com/\"></span>\\n    <span itemprop=\"name\" content=\"Inshorts\"></span>\\n    <span itemprop=\"logo\" itemscope itemtype=\"https://schema.org/ImageObject\">\\n      <span itemprop=\"url\" content=\"https://assets.inshorts.com/inshorts/images/v1/variants/jpg/m/2018/11_nov/21_wed/img_1542823931298_497.jpg\"></span>\\n      <meta itemprop=\"width\" content=\"400\"></meta>\\n      <meta itemprop=\"height\" content=\"60\"></meta>\\n    </span>\\n  </span>\\n  <div class=\"news-card-image\" style= \"background-image: url(\\'https://static.inshorts.com/inshorts/images/v1/variants/jpg/m/2019/08_aug/20_tue/img_1566320530532_413.jpg?\\')\">\\n  </div>\\n  <div class=\"news-card-title news-right-box\">\\n    <a class=\"clickable\" onclick=\"ga(\\'send\\', {\\'hitType\\': \\'event\\', \\'eventCategory\\': \\'TitleOfNews\\', \\'eventAction\\': \\'clicked\\', \\'eventLabel\\': \\'Former%20Siri%20head%20at%20Apple%20joins%20Microsoft&#39;s%20AI%20division)\\' });\"  style=\"color:#44444d!important\" href=\"/en/news/former-siri-head-at-apple-joins-microsofts-ai-division-1566365430186\">\\n      <span itemprop=\"headline\">Former Siri head at Apple joins Microsoft&#39;s AI division</span>\\n    </a>\\n    <div class=\"news-card-author-time news-card-author-time-in-title\">\\n      <a href=\"/prev/en/news/former-siri-head-at-apple-joins-microsofts-ai-division-1566365430186\"><span class=\"short\">short</span></a> by <span class=\"author\">Kanishka Pandey</span> / \\n      <span class=\"time\" itemprop=\"datePublished\" content=\"2019-08-21T05:30:30.000Z\">11:00 am</span> on <span clas=\"date\">21 Aug 2019,Wednesday</span>\\n    </div>\\n  </div>\\n  <div class=\"news-card-content news-right-box\">\\n    <div itemprop=\"articleBody\">Apple&#39;s Siri division&#39;s former head Bill Stasior has joined Microsoft&#39;s AI division and will reportedly lead an artificial intelligence group there. Stasior, who joined Apple in 2012 and worked there for over seven years, had quit in May. He has also worked as the VP of Amazon Search and CEO of the Amazon Silicon Valley subsidiary A9.com.</div>\\n    <div class=\"news-card-author-time news-card-author-time-in-content\">\\n      <a href=\"/prev/en/news/former-siri-head-at-apple-joins-microsofts-ai-division-1566365430186\"><span class=\"short\">short</span></a> by <span class=\"author\">Kanishka Pandey</span> / \\n      <span class=\"time\" itemprop=\"dateModified\" content=\"2019-08-21T05:30:30.000Z\" >11:00 am</span> on <span class=\"date\">21 Aug</span>\\n    </div>\\n  </div>\\n  \\n    <div class=\"news-card-footer news-right-box\">\\n      <div class=\"read-more\">read more at <a class=\"source\" onclick=\"ga(\\'send\\', {\\'hitType\\': \\'event\\', \\'eventCategory\\': \\'ReadMore\\', \\'eventAction\\': \\'clicked\\', \\'eventLabel\\': \\'Hindustan%20Times\\' });\" target=\"_blank\" href=\"https://www.hindustantimes.com/tech/microsoft-hires-former-siri-head-bill-stasior-for-ai-leadership-role/story-6H3YToz98hBnxVidaWpjFL.html?utm_campaign=fullarticle&amp;utm_medium=referral&amp;utm_source=inshorts \">Hindustan Times</a></div>\\n    </div>\\n  \\n\\n</div>\\n\\n  \\n</div>\\n\\n\\n\\n\\n<div class=\"\">\\n<div class=\"news-card z-depth-1\" itemscope itemtype=\"http://schema.org/NewsArticle\">\\n  <span content=\"\" itemscope itemprop=\"mainEntityOfPage\" itemType=\"https://schema.org/WebPage\" itemid=\"https://inshorts.com/en/news/yubico-releases-\\xe2\\x82\\xb95000-security-key-for-iphones-usbc-devices-1566367225685\"></span>\\n  <span itemtype=\"https://schema.org/Person\" itemscope=\"itemscope\" itemprop=\"author\">\\n    <span itemprop=\"name\" content=\"Kanishka Pandey\"></span>\\n  </span>\\n  <span itemprop=\"description\" content=\"Yubico releases \\xe2\\x82\\xb95,000 security key for iPhones, USB-C devices\"></span>\\n  <span itemprop=\"image\" itemscope itemtype=\"https://schema.org/ImageObject\">\\n    <meta itemprop=\"url\" content=\"https://static.inshorts.com/inshorts/images/v1/variants/jpg/m/2019/08_aug/20_tue/img_1566317895538_647.jpg?\"></meta>\\n    <meta itemprop=\"width\" content=\"864\"></meta>\\n    <meta itemprop=\"height\" content=\"483\"></meta>\\n  </span>\\n  <span itemtype=\"https://schema.org/Organization\" itemscope=\"itemscope\" itemprop=\"publisher\">\\n    <span itemprop=\"url\" content=\"https://inshorts.com/\"></span>\\n    <span itemprop=\"name\" content=\"Inshorts\"></span>\\n    <span itemprop=\"logo\" itemscope itemtype=\"https://schema.org/ImageObject\">\\n      <span itemprop=\"url\" content=\"https://assets.inshorts.com/inshorts/images/v1/variants/jpg/m/2018/11_nov/21_wed/img_1542823931298_497.jpg\"></span>\\n      <meta itemprop=\"width\" content=\"400\"></meta>\\n      <meta itemprop=\"height\" content=\"60\"></meta>\\n    </span>\\n  </span>\\n  <div class=\"news-card-image\" style= \"background-image: url(\\'https://static.inshorts.com/inshorts/images/v1/variants/jpg/m/2019/08_aug/20_tue/img_1566317895538_647.jpg?\\')\">\\n  </div>\\n  <div class=\"news-card-title news-right-box\">\\n    <a class=\"clickable\" onclick=\"ga(\\'send\\', {\\'hitType\\': \\'event\\', \\'eventCategory\\': \\'TitleOfNews\\', \\'eventAction\\': \\'clicked\\', \\'eventLabel\\': \\'Yubico%20releases%20%E2%82%B95%2C000%20security%20key%20for%20iPhones%2C%20USB-C%20devices)\\' });\"  style=\"color:#44444d!important\" href=\"/en/news/yubico-releases-\\xe2\\x82\\xb95000-security-key-for-iphones-usbc-devices-1566367225685\">\\n      <span itemprop=\"headline\">Yubico releases \\xe2\\x82\\xb95,000 security key for iPhones, USB-C devices</span>\\n    </a>\\n    <div class=\"news-card-author-time news-card-author-time-in-title\">\\n      <a href=\"/prev/en/news/yubico-releases-\\xe2\\x82\\xb95000-security-key-for-iphones-usbc-devices-1566367225685\"><span class=\"short\">short</span></a> by <span class=\"author\">Kanishka Pandey</span> / \\n      <span class=\"time\" itemprop=\"datePublished\" content=\"2019-08-21T06:00:25.000Z\">11:30 am</span> on <span clas=\"date\">21 Aug 2019,Wednesday</span>\\n    </div>\\n  </div>\\n  <div class=\"news-card-content news-right-box\">\\n    <div itemprop=\"articleBody\">Silicon Valley-based Yubico has released the YubiKey 5Ci, a security key with dual support for iPhones, Macs and other USB-C compatible devices. The security key automatically authenticates users when they plug it in while trying to log in to their accounts. The security key, available for $70 (about \\xe2\\x82\\xb95,000), is not yet compatible with the newer iPad Pro tablets.</div>\\n    <div class=\"news-card-author-time news-card-author-time-in-content\">\\n      <a href=\"/prev/en/news/yubico-releases-\\xe2\\x82\\xb95000-security-key-for-iphones-usbc-devices-1566367225685\"><span class=\"short\">short</span></a> by <span class=\"author\">Kanishka Pandey</span> / \\n      <span class=\"time\" itemprop=\"dateModified\" content=\"2019-08-21T06:00:25.000Z\" >11:30 am</span> on <span class=\"date\">21 Aug</span>\\n    </div>\\n  </div>\\n  \\n    <div class=\"news-card-footer news-right-box\">\\n      <div class=\"read-more\">read more at <a class=\"source\" onclick=\"ga(\\'send\\', {\\'hitType\\': \\'event\\', \\'eventCategory\\': \\'ReadMore\\', \\'eventAction\\': \\'clicked\\', \\'eventLabel\\': \\'TechCrunch\\' });\" target=\"_blank\" href=\"https://techcrunch.com/2019/08/20/yubikey-dual-usb-c-lightning/?utm_campaign=fullarticle&amp;utm_medium=referral&amp;utm_source=inshorts \">TechCrunch</a></div>\\n    </div>\\n  \\n\\n</div>\\n\\n  \\n</div>\\n\\n\\n\\n\\n<div class=\"\">\\n<div class=\"news-card z-depth-1\" itemscope itemtype=\"http://schema.org/NewsArticle\">\\n  <span content=\"\" itemscope itemprop=\"mainEntityOfPage\" itemType=\"https://schema.org/WebPage\" itemid=\"https://inshorts.com/en/news/mits-sensor-can-work-underwater-without-battery-send-data-back-1566361836077\"></span>\\n  <span itemtype=\"https://schema.org/Person\" itemscope=\"itemscope\" itemprop=\"author\">\\n    <span itemprop=\"name\" content=\"Kanishka Pandey\"></span>\\n  </span>\\n  <span itemprop=\"description\" content=\"MIT&#39;s sensor can work underwater without battery, send data back\"></span>\\n  <span itemprop=\"image\" itemscope itemtype=\"https://schema.org/ImageObject\">\\n    <meta itemprop=\"url\" content=\"https://static.inshorts.com/inshorts/images/v1/variants/jpg/m/2019/08_aug/20_tue/img_1566319493432_67.jpg?\"></meta>\\n    <meta itemprop=\"width\" content=\"864\"></meta>\\n    <meta itemprop=\"height\" content=\"483\"></meta>\\n  </span>\\n  <span itemtype=\"https://schema.org/Organization\" itemscope=\"itemscope\" itemprop=\"publisher\">\\n    <span itemprop=\"url\" content=\"https://inshorts.com/\"></span>\\n    <span itemprop=\"name\" content=\"Inshorts\"></span>\\n    <span itemprop=\"logo\" itemscope itemtype=\"https://schema.org/ImageObject\">\\n      <span itemprop=\"url\" content=\"https://assets.inshorts.com/inshorts/images/v1/variants/jpg/m/2018/11_nov/21_wed/img_1542823931298_497.jpg\"></span>\\n      <meta itemprop=\"width\" content=\"400\"></meta>\\n      <meta itemprop=\"height\" content=\"60\"></meta>\\n    </span>\\n  </span>\\n  <div class=\"news-card-image\" style= \"background-image: url(\\'https://static.inshorts.com/inshorts/images/v1/variants/jpg/m/2019/08_aug/20_tue/img_1566319493432_67.jpg?\\')\">\\n  </div>\\n  <div class=\"news-card-title news-right-box\">\\n    <a class=\"clickable\" onclick=\"ga(\\'send\\', {\\'hitType\\': \\'event\\', \\'eventCategory\\': \\'TitleOfNews\\', \\'eventAction\\': \\'clicked\\', \\'eventLabel\\': \\'MIT&#39;s%20sensor%20can%20work%20underwater%20without%20battery%2C%20send%20data%20back)\\' });\"  style=\"color:#44444d!important\" href=\"/en/news/mits-sensor-can-work-underwater-without-battery-send-data-back-1566361836077\">\\n      <span itemprop=\"headline\">MIT&#39;s sensor can work underwater without battery, send data back</span>\\n    </a>\\n    <div class=\"news-card-author-time news-card-author-time-in-title\">\\n      <a href=\"/prev/en/news/mits-sensor-can-work-underwater-without-battery-send-data-back-1566361836077\"><span class=\"short\">short</span></a> by <span class=\"author\">Kanishka Pandey</span> / \\n      <span class=\"time\" itemprop=\"datePublished\" content=\"2019-08-21T04:30:36.000Z\">10:00 am</span> on <span clas=\"date\">21 Aug 2019,Wednesday</span>\\n    </div>\\n  </div>\\n  <div class=\"news-card-content news-right-box\">\\n    <div itemprop=\"articleBody\">MIT researchers have developed battery-free underwater sensors and a communication system that uses near-zero power to transmit data back to the surface. They used a material that can transform pressure waves into electricity using the property &#39;piezoelectricity&#39;. &#34;The system could be used to monitor sea temperatures to study climate change and track marine life over long periods,&#34; MIT said.</div>\\n    <div class=\"news-card-author-time news-card-author-time-in-content\">\\n      <a href=\"/prev/en/news/mits-sensor-can-work-underwater-without-battery-send-data-back-1566361836077\"><span class=\"short\">short</span></a> by <span class=\"author\">Kanishka Pandey</span> / \\n      <span class=\"time\" itemprop=\"dateModified\" content=\"2019-08-21T04:30:36.000Z\" >10:00 am</span> on <span class=\"date\">21 Aug</span>\\n    </div>\\n  </div>\\n  \\n    <div class=\"news-card-footer news-right-box\">\\n      <div class=\"read-more\">read more at <a class=\"source\" onclick=\"ga(\\'send\\', {\\'hitType\\': \\'event\\', \\'eventCategory\\': \\'ReadMore\\', \\'eventAction\\': \\'clicked\\', \\'eventLabel\\': \\'TechCrunch\\' });\" target=\"_blank\" href=\"https://techcrunch.com/2019/08/20/mit-develops-a-sensor-that-can-work-underwater-without-a-battery-and-send-back-data/?utm_campaign=fullarticle&amp;utm_medium=referral&amp;utm_source=inshorts \">TechCrunch</a></div>\\n    </div>\\n  \\n\\n</div>\\n\\n  \\n</div>\\n\\n      </div>\\n      \\n      \\n      <div class=\"load-more-wrapper\">\\n        <div id=\"load-more-btn\" onclick=\"loadMoreNews()\" class=\"clickable unselectable load-more z-depth-1 hoverable\">Load More</div>\\n        <div id=\"load-more-gif\" style=\"display:none;\" class=\"clickable unselectable load-more\"><img id=\"load-more-gif\" src=\"https://assets.inshorts.com/website_assets/images/ajax-loader.gif\"/></div>\\n      </div>\\n      \\n\\n      \\n      <div class=\"my-red app-download-pane  hide-on-large-only\">\\n        <div class=\"container\">\\n          <div class=\"row\">\\n            <div class=\"col s12 center\" style=\"color:white;font-weight: 300;font-size:14px;margin-top: 28px;margin-bottom: 18px;\">\\n              For the best experience use <a target=\"_blank\" href=\"/mobile\" style=\"color:white;appearance: none;font-weight: 500;\">inshorts</a> app on your smartphone\\n            </div>\\n            \\n            \\n          </div>\\n        </div>\\n      </div>\\n      \\n\\n    </div>\\n  </div>\\n  <!-- BODY END -->\\n  <footer class=\"page-footer teals\"> \\n  <div class=\"container\">\\n    <div class=\"row\" style=\"margin-bottom: 0px; padding-bottom: 5px;\">\\n\\n      <div class=\"col offset-l3 l3 m4 s12 right social-admin\">\\n        <div class=\"social-share\"><a onclick=\"ga(\\'send\\', {\\'hitType\\': \\'event\\', \\'eventCategory\\': \\'LinkToFaceBookPage\\', \\'eventAction\\': \\'clicked\\', \\'eventLabel\\': \\'RedirectedToFaceBook\\' });\" target=\"_blank\" href=\"https://www.facebook.com/inshortsapp\"><img src=\"https://assets.inshorts.com/website_assets/images/facebook.png\"/></a></div>\\n        <div class=\"social-share\"><a onclick=\"ga(\\'send\\', {\\'hitType\\': \\'event\\', \\'eventCategory\\': \\'LinkToTwitterPage\\', \\'eventAction\\': \\'clicked\\', \\'eventLabel\\': \\'RedirectedToTwitter\\' });\" target=\"_blank\" href=\"https://twitter.com/inshorts\"><img src=\"https://assets.inshorts.com/website_assets/images/twitter.png\"/></a></div>\\n        <div class=\"social-share\"><a onclick=\"ga(\\'send\\', {\\'hitType\\': \\'event\\', \\'eventCategory\\': \\'LinkToLinkedinPage\\', \\'eventAction\\': \\'clicked\\', \\'eventLabel\\': \\'RedirectedToLinkedin\\' });\" target=\"_blank\" href=\"https://www.linkedin.com/company/news-in-shorts\"><img src=\"https://assets.inshorts.com/website_assets/images/linkedin.png\"/></a></div>\\n      </div>\\n\\n\\n      <div class=\"col m4 l3 s6 footer-left-pane\">\\n        <div class=\"right\"><img width=\"160px\" height=\"48px\" src=\"https://assets.inshorts.com/website_assets/images/logo_footer.png\"/></div>\\n\\n        <div class=\"copy-text\" >\\n          <span><span style=\"color:#cfcfcf;font-family: \\'Conv_ClanPro-Bold\\'\">inshorts</span> medialabs pvt. ltd.</span><br/>\\n          &copy;<span style=\"font-size:12px\">COPYRIGHT 2019</span>\\n        </div>\\n      </div>\\n      <div class=\"col m4 l3 s6 footer-right-pane\">\\n        <div id=\"contactUsBtn\" class=\"left clickable\" style=\"margin-top: -5px;\"><img width=\"132px\" height=\"48px\" src=\"https://assets.inshorts.com/website_assets/images/contact_icon.png\"/></div>              \\n        <div class=\"terms-text\">\\n          <a class=\"tnc\" style=\"color: #fff;\" onclick=\"ga(\\'send\\', {\\'hitType\\': \\'event\\', \\'eventCategory\\': \\'LinkToTermsAndConditionsAndPP\\', \\'eventAction\\': \\'clicked\\', \\'eventLabel\\': \\'RedirectedToTermsAndConditions\\' });\" target=\"_blank\" href=\"/tnc\"><span>Terms &amp; conditions</span><br/>\\n          <span>Privacy Policies</span>\\n          </a>\\n          <br/>\\n          <a class=\"tnc\" style=\"color: #fff;\" onclick=\"ga(\\'send\\', {\\'hitType\\': \\'event\\', \\'eventCategory\\': \\'LinkToSitemap\\', \\'eventAction\\': \\'clicked\\', \\'eventLabel\\': \\'RedirectedToSitemap\\' });\" target=\"_blank\" href=\"/editorial_policy\">\\n          <span>Editorial Policy</span>\\n          </a>\\n        </div>\\n      </div>\\n    </div>\\n  </div>\\n  <div id=\"contactUsModal\" class=\"modal_contact row\">\\n    <!-- Modal content -->\\n      <div class=\"modal-content col l4 m4 s8 offset-s2 offset-l4 offset-m4\">\\n        <span class=\"close\">&times;</span>\\n        <div class=\"contact\">\\n          <a target=\"_blank\" href=\"mailto:careers@inshorts.com?subject=Inshorts%20website%20contact%20form\">\\n            <button id=\"myBtn\">Contact Hiring Team</button>\\n          </a>\\n        </div>\\n        <div class=\"contact\">\\n          <a target=\"_blank\" href=\"mailto:Admin@inshorts.com?subject=Inshorts%20website%20contact%20form\">\\n            <button id=\"myBtn\">Contact Admin Team</button>\\n          </a>\\n        </div>\\n        <div class=\"contact\">\\n          <a target=\"_blank\" href=\"mailto:Marketing@inshorts.com?subject=Inshorts%20website%20contact%20form\">\\n            <button id=\"myBtn\">Contact Marketing Team</button>\\n          </a>\\n        </div>\\n        <div class=\"contact\">\\n          <a target=\"_blank\" href=\"mailto:Editorial@inshorts.com?subject=Inshorts%20website%20contact%20form\">\\n            <button id=\"myBtn\">Contact Editorial Team</button>\\n          </a>\\n        </div>\\n        <div class=\"contact\">\\n          <a target=\"_blank\" href=\"mailto:Sales@inshorts.com?subject=Inshorts%20website%20contact%20form\">\\n            <button id=\"myBtn\">Contact Sales Team</button>\\n          </a>\\n        </div>\\n        <div class=\"contact\">\\n          <a target=\"_blank\" href=\"mailto:Contact@inshorts.com?subject=Inshorts%20website%20contact%20form\">\\n            <button id=\"myBtn\">Contact For Any Other Query</button>\\n          </a>\\n        </div>\\n      </div>\\n  </div>\\n</footer>\\n<script>\\nvar modal = document.getElementById(\\'contactUsModal\\');\\n\\n// Get the button that opens the modal\\nvar btn = document.getElementById(\"contactUsBtn\");\\n\\n// Get the <span> element that closes the modal\\nvar span = document.getElementsByClassName(\"close\")[0];\\n\\n// When the user clicks on the button, open the modal \\nbtn.onclick = function() {\\n    modal.style.display = \"block\";\\n}\\n\\n// When the user clicks on <span> (x), close the modal\\nspan.onclick = function() {\\n    modal.style.display = \"none\";\\n}\\n\\n// When the user clicks anywhere outside of the modal, close it\\nwindow.onclick = function(event) {\\n    if (event.target == modal) {\\n        modal.style.display = \"none\";\\n    }\\n}\\n</script>\\n\\n\\n  <!-- Eliminate render-blocking JavaScript and CSS in above-the-fold content -->\\n  <script src=\"https://ajax.googleapis.com/ajax/libs/jquery/1.8/jquery.min.js\"></script>\\n  <script src=\"https://cdnjs.cloudflare.com/ajax/libs/materialize/0.97.0/js/materialize.min.js\"></script>\\n  \\n  <script type=\"text/javascript\" src=\"/dist/scripts/index.js\"></script>\\n  <script type=\"text/javascript\" src=\"/dist/scripts/read.js\"></script>\\n  <script src=\"/dist/scripts/jquery.scrolldepth.min.js\"></script>\\n  <script type=\"text/javascript\">\\n\\n    var min_news_id = \"t9wvocln-1\";\\n    function loadMoreNews(){\\n      $(\"#load-more-btn\").hide();\\n      $(\"#load-more-gif\").show();\\n      $.post(\"/en/ajax/more_news\",{\\'category\\':\\'technology\\',\\'news_offset\\':min_news_id},function(data){\\n          data = JSON.parse(data);\\n          min_news_id = data.min_news_id||min_news_id;\\n          $(\".card-stack\").append(data.html);\\n      })\\n      .fail(function(){alert(\"Error : unable to load more news\");})\\n      .always(function(){$(\"#load-more-btn\").show();$(\"#load-more-gif\").hide();});\\n    }\\n    jQuery.scrollDepth();\\n  </script>\\n\\n  <!-- Eliminate render-blocking JavaScript and CSS in above-the-fold content -->\\n\\n</body>\\n</html>\\n'"
      ]
     },
     "execution_count": 5,
     "metadata": {
      "tags": []
     },
     "output_type": "execute_result"
    }
   ],
   "source": [
    "data = requests.get(url)\n",
    "data.content"
   ]
  },
  {
   "cell_type": "markdown",
   "metadata": {
    "colab_type": "text",
    "id": "dVJ8LqgK1Q4w"
   },
   "source": [
    "### Data Cleaning"
   ]
  },
  {
   "cell_type": "code",
   "execution_count": 0,
   "metadata": {
    "colab": {},
    "colab_type": "code",
    "id": "XZ8gHfTBwySC"
   },
   "outputs": [],
   "source": [
    "from bs4 import BeautifulSoup\n",
    "soup = BeautifulSoup(data.content, 'html.parser')"
   ]
  },
  {
   "cell_type": "markdown",
   "metadata": {
    "colab_type": "text",
    "id": "mi3FrilR1ZbH"
   },
   "source": [
    "Read all the articles. For each article, we will read:\n",
    "\n",
    "1. Headline\n",
    "2. Article body\n",
    "3. Category\n",
    "\n",
    "This is done by reading text between specific HTML tags. The tags depend on actual web page"
   ]
  },
  {
   "cell_type": "code",
   "execution_count": 0,
   "metadata": {
    "colab": {},
    "colab_type": "code",
    "id": "qcmvcnDfwySF"
   },
   "outputs": [],
   "source": [
    "news_articles = [{'news_headline': headline.find('span', attrs={'itemprop': 'headline'}).string,\n",
    "                  'news_article': article.find('div', attrs={'itemprop': 'articleBody'}).string,\n",
    "                  'news_category': news_category} \n",
    "                 for headline, article in zip(soup.find_all('div', \n",
    "                                                            class_ = ['news-card-title news-right-box']), \n",
    "                                              soup.find_all('div', class_=['news-card-content news-right-box']))]"
   ]
  },
  {
   "cell_type": "code",
   "execution_count": 8,
   "metadata": {
    "colab": {
     "base_uri": "https://localhost:8080/",
     "height": 1000
    },
    "colab_type": "code",
    "executionInfo": {
     "elapsed": 2931,
     "status": "ok",
     "timestamp": 1566556211194,
     "user": {
      "displayName": "Sayan Dey",
      "photoUrl": "https://lh3.googleusercontent.com/a-/AAuE7mC4OsyKqeOJtjScxaIFMB9Yt7ywVtnbSsla3v0-NQ=s64",
      "userId": "03603580465490055794"
     },
     "user_tz": -330
    },
    "id": "mkrtuxs2wySJ",
    "outputId": "b1518ee2-6aea-4fbb-d931-13d2e1aa6eae"
   },
   "outputs": [
    {
     "data": {
      "text/plain": [
       "[{'news_article': 'In a post on OnePlus forums, CEO Pete Lau announced that the OnePlus TV will be launched this September in India. \"Our goal is for OnePlus to set the standard for future smart TV products, because we focus on every last detail,\" added Pete Lau. Users can now register on the \"Notify Me\" page on Amazon to get updates.',\n",
       "  'news_category': 'technology',\n",
       "  'news_headline': 'OnePlus TV set to launch in September, India to get it first'},\n",
       " {'news_article': 'Facebook\\'s contractor in India for content moderation reviewers, technology outsourcing company Genpact, has raised the minimum wages offered to the reviewers. This comes months after the reviewers had described their work as \"underpaid\", \"stressful\" and sometimes \"traumatic\". However, the recent hikes were reportedly applied only to new recruits and were not applicable to existing workers.',\n",
       "  'news_category': 'technology',\n",
       "  'news_headline': 'Facebook India content reviewers get hike after low pay complain'},\n",
       " {'news_article': 'Felix Kjellberg, also known as PewDiePie, the most-subscribed individual on YouTube, tied the knot with his girlfriend Marzia Bisognin after eight years of dating. Sharing pictures from their wedding on social media, PewDiePie wrote, \"We are married!!! I\\'m the happiest I can be...I\\'m so lucky to share my life with this amazing woman.\"',\n",
       "  'news_category': 'technology',\n",
       "  'news_headline': 'PewDiePie marries girlfriend after 8 years of dating, shares pics'},\n",
       " {'news_article': \"Third-party Microsoft contractors listened to Xbox users speaking in their homes in order to improve the console's voice command features, Motherboard reported. The contractors alleged that the chats, supposed to be captured following a voice command, were sometimes recorded mistakenly. A former unnamed contractor claimed that most of the voices they heard were of children, the report added.\",\n",
       "  'news_category': 'technology',\n",
       "  'news_headline': 'Microsoft contractors hear chats mistakenly recorded via Xbox: Report'},\n",
       " {'news_article': \"Twitter on Wednesday faced outage across several countries worldwide, which likely originated around 7:36 PM in India, as per outage monitoring website DownDetector. The platform's Android and iOS apps also displayed error messages like 'can't retrieve tweets at the moment' and 'something went wrong'. Twitter's backend software, TweetDeck was also reportedly not able to post anything.\",\n",
       "  'news_category': 'technology',\n",
       "  'news_headline': 'Twitter faces outage across several countries including India'},\n",
       " {'news_article': 'Twitter has suspended 200 Pakistani accounts after India objected to a number of anti-India tweets emanating from Pakistan. Pakistan has specified to Twitter that 200 accounts that were suspended in the past week were posting about Kashmir. Twitter said that it enforced policies judiciously and ensured impartiality of all users, regardless of their political beliefs and country of origin.',\n",
       "  'news_category': 'technology',\n",
       "  'news_headline': '200 Pakistani Twitter accounts suspended over Kashmir posts'},\n",
       " {'news_article': 'A team of Harvard researchers has created an electronic lens that works like the human eye. However, the lens comprises additional capabilities including simultaneous focus, control of aberrations caused by astigmatisms and image shifts. \"This demonstrates the feasibility of embedded optical zoom and autofocus for a wide range of applications, including cell phone cameras,\" the team said.',\n",
       "  'news_category': 'technology',\n",
       "  'news_headline': 'Electronic lens more capable than human eye made: Harvard team'},\n",
       " {'news_article': 'YouTube\\'s AI-based algorithm meant to take down videos violating the platform\\'s policies, removed several videos of robot fighting after wrongly mistaking them for animal cruelty and cockfighting. \"With the massive volume of videos on our site, sometimes we make the wrong call,\" YouTube said. It further clarified that the platform does not have any policies that prohibit robots fighting videos.',\n",
       "  'news_category': 'technology',\n",
       "  'news_headline': 'YouTube AI mistakes robot fighting as animal cruelty, cockfighting'},\n",
       " {'news_article': 'Amazon\\'s India head Amit Agarwal on Wednesday said that India needs to encourage e-commerce and reduce red tape to help revive domestic economic growth. \"Even a seller, who wants to sell out of their state, has to get a tax registration in the new state,\" he said. Agarwal added that there is \"so much opportunity to just let e-commerce thrive\".',\n",
       "  'news_category': 'technology',\n",
       "  'news_headline': 'Reducing e-commerce restrictions will revive Indian economy: Amazon'},\n",
       " {'news_article': 'Facebook Co-founder and CEO Mark Zuckerberg recently tried tow-in surfing at Kauai\\nisland in Hawaii. Sharing his pictures, Zuckerberg wrote on Instagram, \"Trying a new sport in Kauai with one of the best.\" Zuckerberg practiced the surfing technique with Kai Lenny, a 26-year-old professional surfer who achieved recognition in 2012 with first place at the Hawaii Island Finals SUP pro.',\n",
       "  'news_category': 'technology',\n",
       "  'news_headline': 'Facebook CEO Mark Zuckerberg tries tow-in surfing, shares pics'},\n",
       " {'news_article': \"US-based startup Cerebras Systems has unveiled the world's largest single silicon-based processor, the Cerebras Wafer Scale Engine. The chip is the world's first trillion-transistor processor comprising 1.2 trillion transistors, 400,000 AI-optimised cores and 18 GB of memory. The chip, made especially to enhance the development work of AI, has 56 times more silicon area than the largest GPU.\",\n",
       "  'news_category': 'technology',\n",
       "  'news_headline': \"World's largest processor with 1.2 trillion transistors unveiled\"},\n",
       " {'news_article': \"Security researchers have found that Apple has reintroduced a vulnerability in the latest, iOS 12.4 update which let a hacker publicly release a 'jailbreak' for current, up-to-date iPhones. The jailbreak lets users run unsupported software and apps, which are otherwise banned by Apple. The flaw, earlier found by a Google hacker, was fixed in the iOS 12.3 version.\",\n",
       "  'news_category': 'technology',\n",
       "  'news_headline': \"Apple mistakenly lets hackers 'jailbreak' iPhones with iOS update\"},\n",
       " {'news_article': \"The Supreme Court on Tuesday agreed to hear Facebook's petition to transfer cases related to linking of social media profiles with Aadhaar, pending before the High Courts of Madras, Bombay and Madhya Pradesh to the apex court. The Supreme Court issued notices to the Centre, Google, Twitter, YouTube and others and sought their response by September 13.\",\n",
       "  'news_category': 'technology',\n",
       "  'news_headline': \"SC to hear FB's plea to transfer Aadhaar-social media linking cases\"},\n",
       " {'news_article': \"Google has revealed the official name of the upcoming Android version as 'Android 10', breaking a 10-year tradition of naming the versions after sweets and desserts. Google had begun the tradition with the Android 1.5 update, which was codenamed 'Cupcake'. Google said it received feedback over the years that the names weren't always understood by everyone in the global community.\",\n",
       "  'news_category': 'technology',\n",
       "  'news_headline': 'Google breaks 10-year tradition of naming Android versions on sweets'},\n",
       " {'news_article': \"Amazon has agreed to acquire a 49% stake in Kishore Biyani's Future Coupons, which owns a 7.3% interest in Big Bazaar operator Future Retail. This gives Amazon a 3.58% indirect stake in Future Retail, worth about ₹745 crore on Thursday. It also has an option to buy all or part of promoters' 47% shareholding in Future Retail after three years.\",\n",
       "  'news_category': 'technology',\n",
       "  'news_headline': 'Amazon to acquire 3.58% stake worth ₹745 crore in Big Bazaar owner'},\n",
       " {'news_article': 'YouTube has sued a US-based user, Christopher Brady, over claims that he abused the copyright infringement reporting system. YouTube said Brady filed dozens of takedown notices, falsely claiming that materials posted by other users infringed his copyrights. He allegedly asked some YouTubers for a small payment to avoid getting a third copyright claim, which could get their accounts terminated.',\n",
       "  'news_category': 'technology',\n",
       "  'news_headline': 'YouTube sues user for extorting others with fake takedown requests'},\n",
       " {'news_article': 'Amazon on Wednesday said that its biggest campus globally in Hyderabad, spread over 9.5 acres, cost \"hundreds of millions of dollars\". Around a third of Amazon\\'s 62,000 employees in India are based in Hyderabad. \"The investment to create an office of this size indicates that we are going to continue to grow,\" said Amit Agarwal, Amazon country\\'s manager for India.',\n",
       "  'news_category': 'technology',\n",
       "  'news_headline': \"9.5-acre Hyd campus cost 'hundreds of millions of dollars': Amazon\"},\n",
       " {'news_article': \"Microsoft-owned professional networking service LinkedIn has revealed that it took action on around 2.16 crore fake accounts in the first half of 2019. It added that about 95% of the accounts were stopped automatically, without ever being live. LinkedIn's automated defences, including AI and machine learning, helped take down 98% of all fake accounts, it further added.\",\n",
       "  'news_category': 'technology',\n",
       "  'news_headline': 'LinkedIn blocks over 2 crore fake accounts in first half of 2019'},\n",
       " {'news_article': 'Instagram has clarified that the viral post which says that the platform will now change its policies is a hoax. The post, which has also been shared by several celebrities, claims \"everything you\\'ve ever posted\" on Instagram, including deleted messages, \"becomes public from today\". The post added that it can also be used in \"court cases against you\".',\n",
       "  'news_category': 'technology',\n",
       "  'news_headline': \"Viral post saying Instagram will make users' posts public is a hoax\"},\n",
       " {'news_article': \"Google has removed 27 Android apps which misled users and guided them to fake 'Play Store', after being alerted by researchers from Pune-based cybersecurity firm Quick Heal. The fake Play Store remained in the device even after its source app was uninstalled, researchers revealed. It kept on displaying full-screen ads at random time intervals, they added.\",\n",
       "  'news_category': 'technology',\n",
       "  'news_headline': 'Google removes 27 apps that guided users to fake Play Store'},\n",
       " {'news_article': 'Google\\'s AI labs has released a new machine-learning algorithm that provides hand and finger tracking, which could lead to translating sign language to verbal. The algorithm inferred up to 21 3D points of a hand from just a single frame, researchers said. \"Our method achieves real-time performance on a mobile phone, and even scales to multiple hands,\" they added.',\n",
       "  'news_category': 'technology',\n",
       "  'news_headline': \"Google's hand-tracking algorithm could help translate sign language\"},\n",
       " {'news_article': \"Social media giant Facebook has expanded its reward program for reporting data abuse on its platform to now also include its photo-sharing platform Instagram. Instagram said it's also inviting a select group of trusted security researchers to find flaws in its 'Checkout' shopping feature ahead of its international rollout. Facebook awarded researchers over $1 million under the program in 2018.\",\n",
       "  'news_category': 'technology',\n",
       "  'news_headline': 'Facebook expands data abuse-reporting reward program to Instagram'},\n",
       " {'news_article': \"Apple's Siri division's former head Bill Stasior has joined Microsoft's AI division and will reportedly lead an artificial intelligence group there. Stasior, who joined Apple in 2012 and worked there for over seven years, had quit in May. He has also worked as the VP of Amazon Search and CEO of the Amazon Silicon Valley subsidiary A9.com.\",\n",
       "  'news_category': 'technology',\n",
       "  'news_headline': \"Former Siri head at Apple joins Microsoft's AI division\"},\n",
       " {'news_article': 'Silicon Valley-based Yubico has released the YubiKey 5Ci, a security key with dual support for iPhones, Macs and other USB-C compatible devices. The security key automatically authenticates users when they plug it in while trying to log in to their accounts. The security key, available for $70 (about ₹5,000), is not yet compatible with the newer iPad Pro tablets.',\n",
       "  'news_category': 'technology',\n",
       "  'news_headline': 'Yubico releases ₹5,000 security key for iPhones, USB-C devices'},\n",
       " {'news_article': 'MIT researchers have developed battery-free underwater sensors and a communication system that uses near-zero power to transmit data back to the surface. They used a material that can transform pressure waves into electricity using the property \\'piezoelectricity\\'. \"The system could be used to monitor sea temperatures to study climate change and track marine life over long periods,\" MIT said.',\n",
       "  'news_category': 'technology',\n",
       "  'news_headline': \"MIT's sensor can work underwater without battery, send data back\"}]"
      ]
     },
     "execution_count": 8,
     "metadata": {
      "tags": []
     },
     "output_type": "execute_result"
    }
   ],
   "source": [
    "#Check news data\n",
    "news_data.extend(news_articles)\n",
    "news_data"
   ]
  },
  {
   "cell_type": "code",
   "execution_count": 0,
   "metadata": {
    "colab": {},
    "colab_type": "code",
    "id": "GjsAGXcEwySN"
   },
   "outputs": [],
   "source": [
    "#Building dataframe\n",
    "import pandas as pd\n",
    "df = pd.DataFrame(news_data, columns=['news_headline', 'news_article', 'news_category'])"
   ]
  },
  {
   "cell_type": "code",
   "execution_count": 10,
   "metadata": {
    "colab": {
     "base_uri": "https://localhost:8080/",
     "height": 201
    },
    "colab_type": "code",
    "executionInfo": {
     "elapsed": 2694,
     "status": "ok",
     "timestamp": 1566556211197,
     "user": {
      "displayName": "Sayan Dey",
      "photoUrl": "https://lh3.googleusercontent.com/a-/AAuE7mC4OsyKqeOJtjScxaIFMB9Yt7ywVtnbSsla3v0-NQ=s64",
      "userId": "03603580465490055794"
     },
     "user_tz": -330
    },
    "id": "QPebjVhOwyST",
    "outputId": "44dca2a9-690d-4800-e42f-dc77b019b860"
   },
   "outputs": [
    {
     "data": {
      "text/html": [
       "<div>\n",
       "<style scoped>\n",
       "    .dataframe tbody tr th:only-of-type {\n",
       "        vertical-align: middle;\n",
       "    }\n",
       "\n",
       "    .dataframe tbody tr th {\n",
       "        vertical-align: top;\n",
       "    }\n",
       "\n",
       "    .dataframe thead th {\n",
       "        text-align: right;\n",
       "    }\n",
       "</style>\n",
       "<table border=\"1\" class=\"dataframe\">\n",
       "  <thead>\n",
       "    <tr style=\"text-align: right;\">\n",
       "      <th></th>\n",
       "      <th>news_headline</th>\n",
       "      <th>news_article</th>\n",
       "      <th>news_category</th>\n",
       "    </tr>\n",
       "  </thead>\n",
       "  <tbody>\n",
       "    <tr>\n",
       "      <th>0</th>\n",
       "      <td>OnePlus TV set to launch in September, India t...</td>\n",
       "      <td>In a post on OnePlus forums, CEO Pete Lau anno...</td>\n",
       "      <td>technology</td>\n",
       "    </tr>\n",
       "    <tr>\n",
       "      <th>1</th>\n",
       "      <td>Facebook India content reviewers get hike afte...</td>\n",
       "      <td>Facebook's contractor in India for content mod...</td>\n",
       "      <td>technology</td>\n",
       "    </tr>\n",
       "    <tr>\n",
       "      <th>2</th>\n",
       "      <td>PewDiePie marries girlfriend after 8 years of ...</td>\n",
       "      <td>Felix Kjellberg, also known as PewDiePie, the ...</td>\n",
       "      <td>technology</td>\n",
       "    </tr>\n",
       "    <tr>\n",
       "      <th>3</th>\n",
       "      <td>Microsoft contractors hear chats mistakenly re...</td>\n",
       "      <td>Third-party Microsoft contractors listened to ...</td>\n",
       "      <td>technology</td>\n",
       "    </tr>\n",
       "    <tr>\n",
       "      <th>4</th>\n",
       "      <td>Twitter faces outage across several countries ...</td>\n",
       "      <td>Twitter on Wednesday faced outage across sever...</td>\n",
       "      <td>technology</td>\n",
       "    </tr>\n",
       "  </tbody>\n",
       "</table>\n",
       "</div>"
      ],
      "text/plain": [
       "                                       news_headline  ... news_category\n",
       "0  OnePlus TV set to launch in September, India t...  ...    technology\n",
       "1  Facebook India content reviewers get hike afte...  ...    technology\n",
       "2  PewDiePie marries girlfriend after 8 years of ...  ...    technology\n",
       "3  Microsoft contractors hear chats mistakenly re...  ...    technology\n",
       "4  Twitter faces outage across several countries ...  ...    technology\n",
       "\n",
       "[5 rows x 3 columns]"
      ]
     },
     "execution_count": 10,
     "metadata": {
      "tags": []
     },
     "output_type": "execute_result"
    }
   ],
   "source": [
    "df.head()"
   ]
  },
  {
   "cell_type": "markdown",
   "metadata": {
    "colab_type": "text",
    "id": "ZPCzgz2ZwySW"
   },
   "source": [
    "### Function to extract data from inshorts.com\n",
    "\n",
    "The function will:\n",
    "\n",
    "1. take a URLs list as input\n",
    "2. Get content for each URL\n",
    "3. Extract news article headline, body and category"
   ]
  },
  {
   "cell_type": "code",
   "execution_count": 0,
   "metadata": {
    "colab": {},
    "colab_type": "code",
    "id": "XfwI4DfwwySX"
   },
   "outputs": [],
   "source": [
    "urls_list = ['https://inshorts.com/en/read/technology',\n",
    "             'https://inshorts.com/en/read/sports',\n",
    "             'https://inshorts.com/en/read/world']"
   ]
  },
  {
   "cell_type": "code",
   "execution_count": 0,
   "metadata": {
    "colab": {},
    "colab_type": "code",
    "id": "jitD63HQwySa"
   },
   "outputs": [],
   "source": [
    "def datasetPrepare(urls_list):\n",
    "    \n",
    "    news_data = []\n",
    "    for url in urls_list:\n",
    "        news_category = url.split('/')[-1]\n",
    "        data = requests.get(url)\n",
    "        soup = BeautifulSoup(data.content, 'html.parser')\n",
    "        news_articles = [{'news_headline': headline.find('span', attrs={\"itemprop\": \"headline\"}).string,\n",
    "                          'news_article': article.find('div', attrs={\"itemprop\": \"articleBody\"}).string,\n",
    "                          'news_category': news_category}\n",
    "                         \n",
    "                            for headline, article in \n",
    "                             zip(soup.find_all('div', class_=[\"news-card-title news-right-box\"]),\n",
    "                                 soup.find_all('div', class_=[\"news-card-content news-right-box\"]))\n",
    "                        ]\n",
    "        news_data.extend(news_articles) \n",
    "    df =  pd.DataFrame(news_data)\n",
    "    df = df[['news_headline', 'news_article', 'news_category']]\n",
    "    return df    "
   ]
  },
  {
   "cell_type": "code",
   "execution_count": 0,
   "metadata": {
    "colab": {},
    "colab_type": "code",
    "id": "ruY2Z-DIwySd"
   },
   "outputs": [],
   "source": [
    "news_df = datasetPrepare(urls_list)"
   ]
  },
  {
   "cell_type": "code",
   "execution_count": 14,
   "metadata": {
    "colab": {
     "base_uri": "https://localhost:8080/",
     "height": 152
    },
    "colab_type": "code",
    "executionInfo": {
     "elapsed": 4449,
     "status": "ok",
     "timestamp": 1566556246142,
     "user": {
      "displayName": "Sayan Dey",
      "photoUrl": "https://lh3.googleusercontent.com/a-/AAuE7mC4OsyKqeOJtjScxaIFMB9Yt7ywVtnbSsla3v0-NQ=s64",
      "userId": "03603580465490055794"
     },
     "user_tz": -330
    },
    "id": "8vn7RLB8wySh",
    "outputId": "ab1ef06a-a809-491c-d81a-1b0f3b820fa2"
   },
   "outputs": [
    {
     "name": "stdout",
     "output_type": "stream",
     "text": [
      "<class 'pandas.core.frame.DataFrame'>\n",
      "RangeIndex: 74 entries, 0 to 73\n",
      "Data columns (total 3 columns):\n",
      "news_headline    74 non-null object\n",
      "news_article     74 non-null object\n",
      "news_category    74 non-null object\n",
      "dtypes: object(3)\n",
      "memory usage: 1.8+ KB\n"
     ]
    }
   ],
   "source": [
    "news_df.info()"
   ]
  },
  {
   "cell_type": "code",
   "execution_count": 15,
   "metadata": {
    "colab": {
     "base_uri": "https://localhost:8080/",
     "height": 201
    },
    "colab_type": "code",
    "executionInfo": {
     "elapsed": 3939,
     "status": "ok",
     "timestamp": 1566556246143,
     "user": {
      "displayName": "Sayan Dey",
      "photoUrl": "https://lh3.googleusercontent.com/a-/AAuE7mC4OsyKqeOJtjScxaIFMB9Yt7ywVtnbSsla3v0-NQ=s64",
      "userId": "03603580465490055794"
     },
     "user_tz": -330
    },
    "id": "TCfWltFHwySm",
    "outputId": "77b448e7-9228-40e9-cf2c-9ccdcfb7a585"
   },
   "outputs": [
    {
     "data": {
      "text/html": [
       "<div>\n",
       "<style scoped>\n",
       "    .dataframe tbody tr th:only-of-type {\n",
       "        vertical-align: middle;\n",
       "    }\n",
       "\n",
       "    .dataframe tbody tr th {\n",
       "        vertical-align: top;\n",
       "    }\n",
       "\n",
       "    .dataframe thead th {\n",
       "        text-align: right;\n",
       "    }\n",
       "</style>\n",
       "<table border=\"1\" class=\"dataframe\">\n",
       "  <thead>\n",
       "    <tr style=\"text-align: right;\">\n",
       "      <th></th>\n",
       "      <th>news_headline</th>\n",
       "      <th>news_article</th>\n",
       "      <th>news_category</th>\n",
       "    </tr>\n",
       "  </thead>\n",
       "  <tbody>\n",
       "    <tr>\n",
       "      <th>0</th>\n",
       "      <td>OnePlus TV set to launch in September, India t...</td>\n",
       "      <td>In a post on OnePlus forums, CEO Pete Lau anno...</td>\n",
       "      <td>technology</td>\n",
       "    </tr>\n",
       "    <tr>\n",
       "      <th>1</th>\n",
       "      <td>Facebook India content reviewers get hike afte...</td>\n",
       "      <td>Facebook's contractor in India for content mod...</td>\n",
       "      <td>technology</td>\n",
       "    </tr>\n",
       "    <tr>\n",
       "      <th>2</th>\n",
       "      <td>PewDiePie marries girlfriend after 8 years of ...</td>\n",
       "      <td>Felix Kjellberg, also known as PewDiePie, the ...</td>\n",
       "      <td>technology</td>\n",
       "    </tr>\n",
       "    <tr>\n",
       "      <th>3</th>\n",
       "      <td>Microsoft contractors hear chats mistakenly re...</td>\n",
       "      <td>Third-party Microsoft contractors listened to ...</td>\n",
       "      <td>technology</td>\n",
       "    </tr>\n",
       "    <tr>\n",
       "      <th>4</th>\n",
       "      <td>Twitter faces outage across several countries ...</td>\n",
       "      <td>Twitter on Wednesday faced outage across sever...</td>\n",
       "      <td>technology</td>\n",
       "    </tr>\n",
       "  </tbody>\n",
       "</table>\n",
       "</div>"
      ],
      "text/plain": [
       "                                       news_headline  ... news_category\n",
       "0  OnePlus TV set to launch in September, India t...  ...    technology\n",
       "1  Facebook India content reviewers get hike afte...  ...    technology\n",
       "2  PewDiePie marries girlfriend after 8 years of ...  ...    technology\n",
       "3  Microsoft contractors hear chats mistakenly re...  ...    technology\n",
       "4  Twitter faces outage across several countries ...  ...    technology\n",
       "\n",
       "[5 rows x 3 columns]"
      ]
     },
     "execution_count": 15,
     "metadata": {
      "tags": []
     },
     "output_type": "execute_result"
    }
   ],
   "source": [
    "news_df.head()"
   ]
  },
  {
   "cell_type": "code",
   "execution_count": 16,
   "metadata": {
    "colab": {
     "base_uri": "https://localhost:8080/",
     "height": 84
    },
    "colab_type": "code",
    "executionInfo": {
     "elapsed": 3754,
     "status": "ok",
     "timestamp": 1566556246144,
     "user": {
      "displayName": "Sayan Dey",
      "photoUrl": "https://lh3.googleusercontent.com/a-/AAuE7mC4OsyKqeOJtjScxaIFMB9Yt7ywVtnbSsla3v0-NQ=s64",
      "userId": "03603580465490055794"
     },
     "user_tz": -330
    },
    "id": "_rXVQKGNwySp",
    "outputId": "dc8201f2-06da-46da-f706-25c29aab7ca9"
   },
   "outputs": [
    {
     "data": {
      "text/plain": [
       "technology    25\n",
       "sports        25\n",
       "world         24\n",
       "Name: news_category, dtype: int64"
      ]
     },
     "execution_count": 16,
     "metadata": {
      "tags": []
     },
     "output_type": "execute_result"
    }
   ],
   "source": [
    "#Articles count by category\n",
    "news_df.news_category.value_counts()"
   ]
  },
  {
   "cell_type": "markdown",
   "metadata": {
    "colab_type": "text",
    "id": "NBK3ZgwUwySt"
   },
   "source": [
    "### Text Wrangling and Pre-processing"
   ]
  },
  {
   "cell_type": "code",
   "execution_count": 0,
   "metadata": {
    "colab": {},
    "colab_type": "code",
    "id": "T-u9BQf2wySu"
   },
   "outputs": [],
   "source": [
    "import spacy\n",
    "import nltk\n",
    "from nltk.tokenize.toktok import ToktokTokenizer\n",
    "import re\n",
    "import unicodedata"
   ]
  },
  {
   "cell_type": "code",
   "execution_count": 0,
   "metadata": {
    "colab": {},
    "colab_type": "code",
    "id": "0fO_jEzBwyS0"
   },
   "outputs": [],
   "source": [
    "nlp = spacy.load('en')"
   ]
  },
  {
   "cell_type": "code",
   "execution_count": 19,
   "metadata": {
    "colab": {
     "base_uri": "https://localhost:8080/",
     "height": 67
    },
    "colab_type": "code",
    "executionInfo": {
     "elapsed": 5148,
     "status": "ok",
     "timestamp": 1566556249467,
     "user": {
      "displayName": "Sayan Dey",
      "photoUrl": "https://lh3.googleusercontent.com/a-/AAuE7mC4OsyKqeOJtjScxaIFMB9Yt7ywVtnbSsla3v0-NQ=s64",
      "userId": "03603580465490055794"
     },
     "user_tz": -330
    },
    "id": "Cegz8iznwyS3",
    "outputId": "4496cbe4-9d94-437e-e2cb-2e9ed67e79b5"
   },
   "outputs": [
    {
     "name": "stdout",
     "output_type": "stream",
     "text": [
      "[nltk_data] Downloading package stopwords to /root/nltk_data...\n",
      "[nltk_data]   Unzipping corpora/stopwords.zip.\n"
     ]
    },
    {
     "data": {
      "text/plain": [
       "True"
      ]
     },
     "execution_count": 19,
     "metadata": {
      "tags": []
     },
     "output_type": "execute_result"
    }
   ],
   "source": [
    "nltk.download('stopwords')"
   ]
  },
  {
   "cell_type": "code",
   "execution_count": 0,
   "metadata": {
    "colab": {},
    "colab_type": "code",
    "id": "yhmWcpH_wyS6"
   },
   "outputs": [],
   "source": [
    "tokenizer = ToktokTokenizer()\n",
    "stopword_list = nltk.corpus.stopwords.words('english')\n",
    "\n",
    "#Removing a word\n",
    "stopword_list.remove('no')\n",
    "stopword_list.remove('not')"
   ]
  },
  {
   "cell_type": "markdown",
   "metadata": {
    "colab_type": "text",
    "id": "Wh9CrhePwyS9"
   },
   "source": [
    "## Remove HTML tags"
   ]
  },
  {
   "cell_type": "code",
   "execution_count": 21,
   "metadata": {
    "colab": {
     "base_uri": "https://localhost:8080/",
     "height": 34
    },
    "colab_type": "code",
    "executionInfo": {
     "elapsed": 2349,
     "status": "ok",
     "timestamp": 1566556257429,
     "user": {
      "displayName": "Sayan Dey",
      "photoUrl": "https://lh3.googleusercontent.com/a-/AAuE7mC4OsyKqeOJtjScxaIFMB9Yt7ywVtnbSsla3v0-NQ=s64",
      "userId": "03603580465490055794"
     },
     "user_tz": -330
    },
    "id": "1Xit3_ckwyS9",
    "outputId": "3535088d-ee9f-4550-9a3c-55b5716d987d"
   },
   "outputs": [
    {
     "data": {
      "text/plain": [
       "'Some important text'"
      ]
     },
     "execution_count": 21,
     "metadata": {
      "tags": []
     },
     "output_type": "execute_result"
    }
   ],
   "source": [
    "def strip_html_tags(text):\n",
    "    soup = BeautifulSoup(text, \"html.parser\")\n",
    "    stripped_text = soup.get_text()\n",
    "    return stripped_text\n",
    "\n",
    "strip_html_tags('<html><h2>Some important text</h2></html>')"
   ]
  },
  {
   "cell_type": "markdown",
   "metadata": {
    "colab_type": "text",
    "id": "HBbRSoPkwyTB"
   },
   "source": [
    "## Remove accented characters"
   ]
  },
  {
   "cell_type": "code",
   "execution_count": 22,
   "metadata": {
    "colab": {
     "base_uri": "https://localhost:8080/",
     "height": 34
    },
    "colab_type": "code",
    "executionInfo": {
     "elapsed": 1800,
     "status": "ok",
     "timestamp": 1566556257430,
     "user": {
      "displayName": "Sayan Dey",
      "photoUrl": "https://lh3.googleusercontent.com/a-/AAuE7mC4OsyKqeOJtjScxaIFMB9Yt7ywVtnbSsla3v0-NQ=s64",
      "userId": "03603580465490055794"
     },
     "user_tz": -330
    },
    "id": "TOBdIlTWwyTB",
    "outputId": "69fcdd26-e1fe-4444-87ff-3db30a7e769c"
   },
   "outputs": [
    {
     "data": {
      "text/plain": [
       "'Some Accented text'"
      ]
     },
     "execution_count": 22,
     "metadata": {
      "tags": []
     },
     "output_type": "execute_result"
    }
   ],
   "source": [
    "def remove_accented_chars(text):\n",
    "    text = unicodedata.normalize('NFKD', text).encode('ascii', 'ignore').decode('utf-8', 'ignore')\n",
    "    return text\n",
    "\n",
    "remove_accented_chars('Sómě Áccěntěd těxt')"
   ]
  },
  {
   "cell_type": "markdown",
   "metadata": {
    "colab_type": "text",
    "id": "8u9SuUXOwyTM"
   },
   "source": [
    "## Remove special characters"
   ]
  },
  {
   "cell_type": "code",
   "execution_count": 0,
   "metadata": {
    "colab": {},
    "colab_type": "code",
    "id": "lCmBJeI5wyTN"
   },
   "outputs": [],
   "source": [
    "def remove_special_characters(text, remove_digits=False):\n",
    "    pattern = r'[^a-zA-z0-9\\s]' if not remove_digits else r'[^a-zA-z\\s]'\n",
    "    text = re.sub(pattern, '', text)\n",
    "    return text"
   ]
  },
  {
   "cell_type": "code",
   "execution_count": 24,
   "metadata": {
    "colab": {
     "base_uri": "https://localhost:8080/",
     "height": 34
    },
    "colab_type": "code",
    "executionInfo": {
     "elapsed": 2013,
     "status": "ok",
     "timestamp": 1566556258245,
     "user": {
      "displayName": "Sayan Dey",
      "photoUrl": "https://lh3.googleusercontent.com/a-/AAuE7mC4OsyKqeOJtjScxaIFMB9Yt7ywVtnbSsla3v0-NQ=s64",
      "userId": "03603580465490055794"
     },
     "user_tz": -330
    },
    "id": "R9IGXQ-LwyTQ",
    "outputId": "155fc97e-ddb6-4ab6-8c82-14fe8f3aa4f3"
   },
   "outputs": [
    {
     "data": {
      "text/plain": [
       "'Well this was fun What do you think '"
      ]
     },
     "execution_count": 24,
     "metadata": {
      "tags": []
     },
     "output_type": "execute_result"
    }
   ],
   "source": [
    "remove_special_characters(\"Well this was fun! What do you think? 123#@!\", remove_digits=True)"
   ]
  },
  {
   "cell_type": "markdown",
   "metadata": {
    "colab_type": "text",
    "id": "Ryt_VSOVwyTT"
   },
   "source": [
    "## Text lemmatization"
   ]
  },
  {
   "cell_type": "code",
   "execution_count": 0,
   "metadata": {
    "colab": {},
    "colab_type": "code",
    "id": "uNR0fNT4wyTU"
   },
   "outputs": [],
   "source": [
    "def lemmatize_text(text):\n",
    "    text = nlp(text)\n",
    "    text = ' '.join([word.lemma_ if word.lemma_ != '-PRON-' else word.text for word in text])\n",
    "    return text"
   ]
  },
  {
   "cell_type": "code",
   "execution_count": 26,
   "metadata": {
    "colab": {
     "base_uri": "https://localhost:8080/",
     "height": 34
    },
    "colab_type": "code",
    "executionInfo": {
     "elapsed": 1910,
     "status": "ok",
     "timestamp": 1566556259477,
     "user": {
      "displayName": "Sayan Dey",
      "photoUrl": "https://lh3.googleusercontent.com/a-/AAuE7mC4OsyKqeOJtjScxaIFMB9Yt7ywVtnbSsla3v0-NQ=s64",
      "userId": "03603580465490055794"
     },
     "user_tz": -330
    },
    "id": "do-LTxKRwyTX",
    "outputId": "a4ffbba1-d2a1-4b04-e34d-4db29a090a1f"
   },
   "outputs": [
    {
     "data": {
      "text/plain": [
       "'My system keep crash ! his crashed yesterday , ours crash daily'"
      ]
     },
     "execution_count": 26,
     "metadata": {
      "tags": []
     },
     "output_type": "execute_result"
    }
   ],
   "source": [
    "lemmatize_text(\"My system keeps crashing! his crashed yesterday, ours crashes daily\")"
   ]
  },
  {
   "cell_type": "markdown",
   "metadata": {
    "colab_type": "text",
    "id": "jWmDYl9swyTa"
   },
   "source": [
    "## Text stemming"
   ]
  },
  {
   "cell_type": "code",
   "execution_count": 27,
   "metadata": {
    "colab": {
     "base_uri": "https://localhost:8080/",
     "height": 34
    },
    "colab_type": "code",
    "executionInfo": {
     "elapsed": 2610,
     "status": "ok",
     "timestamp": 1566556261536,
     "user": {
      "displayName": "Sayan Dey",
      "photoUrl": "https://lh3.googleusercontent.com/a-/AAuE7mC4OsyKqeOJtjScxaIFMB9Yt7ywVtnbSsla3v0-NQ=s64",
      "userId": "03603580465490055794"
     },
     "user_tz": -330
    },
    "id": "wcgdJFzLwyTb",
    "outputId": "b93ebde5-6cac-42bb-a8d5-753fc8f07f29"
   },
   "outputs": [
    {
     "data": {
      "text/plain": [
       "'My system keep crash hi crash yesterday, our crash daili'"
      ]
     },
     "execution_count": 27,
     "metadata": {
      "tags": []
     },
     "output_type": "execute_result"
    }
   ],
   "source": [
    "def simple_stemmer(text):\n",
    "    ps = nltk.porter.PorterStemmer()\n",
    "    text = ' '.join([ps.stem(word) for word in text.split()])\n",
    "    return text\n",
    "\n",
    "simple_stemmer(\"My system keeps crashing his crashed yesterday, ours crashes daily\")"
   ]
  },
  {
   "cell_type": "markdown",
   "metadata": {
    "colab_type": "text",
    "id": "Ye0-JWiawyTl"
   },
   "source": [
    "## Remove stopwords"
   ]
  },
  {
   "cell_type": "code",
   "execution_count": 28,
   "metadata": {
    "colab": {
     "base_uri": "https://localhost:8080/",
     "height": 34
    },
    "colab_type": "code",
    "executionInfo": {
     "elapsed": 2600,
     "status": "ok",
     "timestamp": 1566556263106,
     "user": {
      "displayName": "Sayan Dey",
      "photoUrl": "https://lh3.googleusercontent.com/a-/AAuE7mC4OsyKqeOJtjScxaIFMB9Yt7ywVtnbSsla3v0-NQ=s64",
      "userId": "03603580465490055794"
     },
     "user_tz": -330
    },
    "id": "iCO_6thkwyTm",
    "outputId": "42623257-ccac-4abd-d3e2-947a677fe033"
   },
   "outputs": [
    {
     "data": {
      "text/plain": [
       "', , stopwords , computer not'"
      ]
     },
     "execution_count": 28,
     "metadata": {
      "tags": []
     },
     "output_type": "execute_result"
    }
   ],
   "source": [
    "def remove_stopwords(text, is_lower_case=False):\n",
    "    tokens = tokenizer.tokenize(text)\n",
    "    tokens = [token.strip() for token in tokens]\n",
    "    if is_lower_case:\n",
    "        filtered_tokens = [token for token in tokens if token not in stopword_list]\n",
    "    else:\n",
    "        filtered_tokens = [token for token in tokens if token.lower() not in stopword_list]\n",
    "    filtered_text = ' '.join(filtered_tokens)    \n",
    "    return filtered_text\n",
    "\n",
    "remove_stopwords(\"The, and, if are stopwords, computer is not\")"
   ]
  },
  {
   "cell_type": "markdown",
   "metadata": {
    "colab_type": "text",
    "id": "S8AdJuUuwyTq"
   },
   "source": [
    "## Building a text normalizer"
   ]
  },
  {
   "cell_type": "code",
   "execution_count": 0,
   "metadata": {
    "colab": {},
    "colab_type": "code",
    "id": "brUdlUOJwyTu"
   },
   "outputs": [],
   "source": [
    "def normalize_corpus(corpus, html_stripping=True, accented_char_removal=True, text_lower_case=True, \n",
    "                     text_lemmatization=True, special_char_removal=True, \n",
    "                     stopword_removal=True, remove_digits=True):\n",
    "    \n",
    "    normalized_corpus = []\n",
    "    # normalize each document in the corpus\n",
    "    for doc in corpus:\n",
    "        # strip HTML\n",
    "        if html_stripping:\n",
    "            doc = strip_html_tags(doc)\n",
    "        # remove accented characters\n",
    "        if accented_char_removal:\n",
    "            doc = remove_accented_chars(doc)\n",
    "        # lowercase the text    \n",
    "        if text_lower_case:\n",
    "            doc = doc.lower()\n",
    "        # remove extra newlines\n",
    "        doc = re.sub(r'[\\r|\\n|\\r\\n]+', ' ',doc)\n",
    "        # lemmatize text\n",
    "        if text_lemmatization:\n",
    "            doc = lemmatize_text(doc)\n",
    "        # remove special characters and\\or digits    \n",
    "        if special_char_removal:\n",
    "            # insert spaces between special characters to isolate them    \n",
    "            special_char_pattern = re.compile(r'([{.(-)!}])')\n",
    "            doc = special_char_pattern.sub(\" \\\\1 \", doc)\n",
    "            doc = remove_special_characters(doc, remove_digits=remove_digits)  \n",
    "        # remove extra whitespace\n",
    "        doc = re.sub(' +', ' ', doc)\n",
    "        # remove stopwords\n",
    "        if stopword_removal:\n",
    "            doc = remove_stopwords(doc, is_lower_case=text_lower_case)\n",
    "            \n",
    "        normalized_corpus.append(doc)\n",
    "        \n",
    "    return normalized_corpus"
   ]
  },
  {
   "cell_type": "markdown",
   "metadata": {
    "colab_type": "text",
    "id": "k2c5hDSNwyTw"
   },
   "source": [
    "## Pre-process and normalize news articles"
   ]
  },
  {
   "cell_type": "code",
   "execution_count": 0,
   "metadata": {
    "colab": {},
    "colab_type": "code",
    "id": "1da9VaH5wyTx"
   },
   "outputs": [],
   "source": [
    "news_df['full_text'] = news_df[\"news_headline\"].map(str)+ '. ' + news_df[\"news_article\"]"
   ]
  },
  {
   "cell_type": "code",
   "execution_count": 31,
   "metadata": {
    "colab": {
     "base_uri": "https://localhost:8080/",
     "height": 70
    },
    "colab_type": "code",
    "executionInfo": {
     "elapsed": 3846,
     "status": "ok",
     "timestamp": 1566556266898,
     "user": {
      "displayName": "Sayan Dey",
      "photoUrl": "https://lh3.googleusercontent.com/a-/AAuE7mC4OsyKqeOJtjScxaIFMB9Yt7ywVtnbSsla3v0-NQ=s64",
      "userId": "03603580465490055794"
     },
     "user_tz": -330
    },
    "id": "rVZRnQVBwyTz",
    "outputId": "0c2b3899-1b49-45aa-e4d0-eddb0b34a489"
   },
   "outputs": [
    {
     "data": {
      "text/plain": [
       "{'clean_text': 'facebook india content reviewer get hike low pay complain facebook contractor india content moderation reviewer technology outsource company genpact raise minimum wage offer reviewer come month reviewer describe work underpaid stressful sometimes traumatic however recent hike reportedly apply new recruit not applicable exist worker',\n",
       " 'full_text': 'Facebook India content reviewers get hike after low pay complain. Facebook\\'s contractor in India for content moderation reviewers, technology outsourcing company Genpact, has raised the minimum wages offered to the reviewers. This comes months after the reviewers had described their work as \"underpaid\", \"stressful\" and sometimes \"traumatic\". However, the recent hikes were reportedly applied only to new recruits and were not applicable to existing workers.'}"
      ]
     },
     "execution_count": 31,
     "metadata": {
      "tags": []
     },
     "output_type": "execute_result"
    }
   ],
   "source": [
    "news_df['clean_text'] = normalize_corpus(news_df['full_text'])\n",
    "norm_corpus = list(news_df['clean_text'])\n",
    "news_df.iloc[1][['full_text', 'clean_text']].to_dict()"
   ]
  },
  {
   "cell_type": "markdown",
   "metadata": {
    "colab_type": "text",
    "id": "MpmBJJXhwyT2"
   },
   "source": [
    "# Save the news articles"
   ]
  },
  {
   "cell_type": "code",
   "execution_count": 0,
   "metadata": {
    "colab": {},
    "colab_type": "code",
    "id": "NLVKFz3RwyT3"
   },
   "outputs": [],
   "source": [
    "news_df.to_csv('news.csv', index=False, encoding='utf-8')"
   ]
  },
  {
   "cell_type": "markdown",
   "metadata": {
    "colab_type": "text",
    "id": "lhPKJixXwyT5"
   },
   "source": [
    "# Tagging Parts of Speech"
   ]
  },
  {
   "cell_type": "code",
   "execution_count": 0,
   "metadata": {
    "colab": {},
    "colab_type": "code",
    "id": "QkYP8zF6wyT6"
   },
   "outputs": [],
   "source": [
    "news_df = pd.read_csv('news.csv')"
   ]
  },
  {
   "cell_type": "code",
   "execution_count": 0,
   "metadata": {
    "colab": {},
    "colab_type": "code",
    "id": "BWBUIun3wyT7"
   },
   "outputs": [],
   "source": [
    "corpus = normalize_corpus(news_df['full_text'], text_lower_case=False, \n",
    "                          text_lemmatization=False, special_char_removal=False)\n",
    "\n",
    "sentence = str(news_df.iloc[1].news_headline)\n",
    "sentence_nlp = nlp(sentence)"
   ]
  },
  {
   "cell_type": "code",
   "execution_count": 35,
   "metadata": {
    "colab": {
     "base_uri": "https://localhost:8080/",
     "height": 354
    },
    "colab_type": "code",
    "executionInfo": {
     "elapsed": 1344,
     "status": "ok",
     "timestamp": 1566556272239,
     "user": {
      "displayName": "Sayan Dey",
      "photoUrl": "https://lh3.googleusercontent.com/a-/AAuE7mC4OsyKqeOJtjScxaIFMB9Yt7ywVtnbSsla3v0-NQ=s64",
      "userId": "03603580465490055794"
     },
     "user_tz": -330
    },
    "id": "hnuUueCiwyT9",
    "outputId": "2e05c474-e819-40c1-f5d0-87c389ec82cc"
   },
   "outputs": [
    {
     "data": {
      "text/html": [
       "<div>\n",
       "<style scoped>\n",
       "    .dataframe tbody tr th:only-of-type {\n",
       "        vertical-align: middle;\n",
       "    }\n",
       "\n",
       "    .dataframe tbody tr th {\n",
       "        vertical-align: top;\n",
       "    }\n",
       "\n",
       "    .dataframe thead th {\n",
       "        text-align: right;\n",
       "    }\n",
       "</style>\n",
       "<table border=\"1\" class=\"dataframe\">\n",
       "  <thead>\n",
       "    <tr style=\"text-align: right;\">\n",
       "      <th></th>\n",
       "      <th>Word</th>\n",
       "      <th>POS tag</th>\n",
       "      <th>Tag type</th>\n",
       "    </tr>\n",
       "  </thead>\n",
       "  <tbody>\n",
       "    <tr>\n",
       "      <th>0</th>\n",
       "      <td>Facebook</td>\n",
       "      <td>NNP</td>\n",
       "      <td>PROPN</td>\n",
       "    </tr>\n",
       "    <tr>\n",
       "      <th>1</th>\n",
       "      <td>India</td>\n",
       "      <td>NNP</td>\n",
       "      <td>PROPN</td>\n",
       "    </tr>\n",
       "    <tr>\n",
       "      <th>2</th>\n",
       "      <td>content</td>\n",
       "      <td>NN</td>\n",
       "      <td>NOUN</td>\n",
       "    </tr>\n",
       "    <tr>\n",
       "      <th>3</th>\n",
       "      <td>reviewers</td>\n",
       "      <td>NNS</td>\n",
       "      <td>NOUN</td>\n",
       "    </tr>\n",
       "    <tr>\n",
       "      <th>4</th>\n",
       "      <td>get</td>\n",
       "      <td>VBP</td>\n",
       "      <td>VERB</td>\n",
       "    </tr>\n",
       "    <tr>\n",
       "      <th>5</th>\n",
       "      <td>hike</td>\n",
       "      <td>NN</td>\n",
       "      <td>NOUN</td>\n",
       "    </tr>\n",
       "    <tr>\n",
       "      <th>6</th>\n",
       "      <td>after</td>\n",
       "      <td>IN</td>\n",
       "      <td>ADP</td>\n",
       "    </tr>\n",
       "    <tr>\n",
       "      <th>7</th>\n",
       "      <td>low</td>\n",
       "      <td>JJ</td>\n",
       "      <td>ADJ</td>\n",
       "    </tr>\n",
       "    <tr>\n",
       "      <th>8</th>\n",
       "      <td>pay</td>\n",
       "      <td>NN</td>\n",
       "      <td>NOUN</td>\n",
       "    </tr>\n",
       "    <tr>\n",
       "      <th>9</th>\n",
       "      <td>complain</td>\n",
       "      <td>NN</td>\n",
       "      <td>NOUN</td>\n",
       "    </tr>\n",
       "  </tbody>\n",
       "</table>\n",
       "</div>"
      ],
      "text/plain": [
       "        Word POS tag Tag type\n",
       "0   Facebook     NNP    PROPN\n",
       "1      India     NNP    PROPN\n",
       "2    content      NN     NOUN\n",
       "3  reviewers     NNS     NOUN\n",
       "4        get     VBP     VERB\n",
       "5       hike      NN     NOUN\n",
       "6      after      IN      ADP\n",
       "7        low      JJ      ADJ\n",
       "8        pay      NN     NOUN\n",
       "9   complain      NN     NOUN"
      ]
     },
     "execution_count": 35,
     "metadata": {
      "tags": []
     },
     "output_type": "execute_result"
    }
   ],
   "source": [
    "spacy_pos_tagged = [(word, word.tag_, word.pos_) for word in sentence_nlp]\n",
    "pd.DataFrame(spacy_pos_tagged, columns=['Word', 'POS tag', 'Tag type'])"
   ]
  },
  {
   "cell_type": "code",
   "execution_count": 0,
   "metadata": {
    "colab": {},
    "colab_type": "code",
    "id": "HuJv0UqK3RDh"
   },
   "outputs": [],
   "source": [
    "from spacy import displacy"
   ]
  },
  {
   "cell_type": "code",
   "execution_count": 37,
   "metadata": {
    "colab": {
     "base_uri": "https://localhost:8080/",
     "height": 527
    },
    "colab_type": "code",
    "executionInfo": {
     "elapsed": 2409,
     "status": "ok",
     "timestamp": 1566556311180,
     "user": {
      "displayName": "Sayan Dey",
      "photoUrl": "https://lh3.googleusercontent.com/a-/AAuE7mC4OsyKqeOJtjScxaIFMB9Yt7ywVtnbSsla3v0-NQ=s64",
      "userId": "03603580465490055794"
     },
     "user_tz": -330
    },
    "id": "d5HPS1UV3as2",
    "outputId": "dccab331-3b78-4276-c28f-d8d6fb92a99d"
   },
   "outputs": [
    {
     "data": {
      "text/html": [
       "<svg xmlns=\"http://www.w3.org/2000/svg\" xmlns:xlink=\"http://www.w3.org/1999/xlink\" xml:lang=\"en\" id=\"dfeef5c8e94e412ea2231a1edb42e799-0\" class=\"displacy\" width=\"1800\" height=\"487.0\" direction=\"ltr\" style=\"max-width: none; height: 487.0px; color: #000000; background: #ffffff; font-family: Arial; direction: ltr\">\n",
       "<text class=\"displacy-token\" fill=\"currentColor\" text-anchor=\"middle\" y=\"397.0\">\n",
       "    <tspan class=\"displacy-word\" fill=\"currentColor\" x=\"50\">Facebook</tspan>\n",
       "    <tspan class=\"displacy-tag\" dy=\"2em\" fill=\"currentColor\" x=\"50\">PROPN</tspan>\n",
       "</text>\n",
       "\n",
       "<text class=\"displacy-token\" fill=\"currentColor\" text-anchor=\"middle\" y=\"397.0\">\n",
       "    <tspan class=\"displacy-word\" fill=\"currentColor\" x=\"225\">India</tspan>\n",
       "    <tspan class=\"displacy-tag\" dy=\"2em\" fill=\"currentColor\" x=\"225\">PROPN</tspan>\n",
       "</text>\n",
       "\n",
       "<text class=\"displacy-token\" fill=\"currentColor\" text-anchor=\"middle\" y=\"397.0\">\n",
       "    <tspan class=\"displacy-word\" fill=\"currentColor\" x=\"400\">content</tspan>\n",
       "    <tspan class=\"displacy-tag\" dy=\"2em\" fill=\"currentColor\" x=\"400\">NOUN</tspan>\n",
       "</text>\n",
       "\n",
       "<text class=\"displacy-token\" fill=\"currentColor\" text-anchor=\"middle\" y=\"397.0\">\n",
       "    <tspan class=\"displacy-word\" fill=\"currentColor\" x=\"575\">reviewers</tspan>\n",
       "    <tspan class=\"displacy-tag\" dy=\"2em\" fill=\"currentColor\" x=\"575\">NOUN</tspan>\n",
       "</text>\n",
       "\n",
       "<text class=\"displacy-token\" fill=\"currentColor\" text-anchor=\"middle\" y=\"397.0\">\n",
       "    <tspan class=\"displacy-word\" fill=\"currentColor\" x=\"750\">get</tspan>\n",
       "    <tspan class=\"displacy-tag\" dy=\"2em\" fill=\"currentColor\" x=\"750\">VERB</tspan>\n",
       "</text>\n",
       "\n",
       "<text class=\"displacy-token\" fill=\"currentColor\" text-anchor=\"middle\" y=\"397.0\">\n",
       "    <tspan class=\"displacy-word\" fill=\"currentColor\" x=\"925\">hike</tspan>\n",
       "    <tspan class=\"displacy-tag\" dy=\"2em\" fill=\"currentColor\" x=\"925\">NOUN</tspan>\n",
       "</text>\n",
       "\n",
       "<text class=\"displacy-token\" fill=\"currentColor\" text-anchor=\"middle\" y=\"397.0\">\n",
       "    <tspan class=\"displacy-word\" fill=\"currentColor\" x=\"1100\">after</tspan>\n",
       "    <tspan class=\"displacy-tag\" dy=\"2em\" fill=\"currentColor\" x=\"1100\">ADP</tspan>\n",
       "</text>\n",
       "\n",
       "<text class=\"displacy-token\" fill=\"currentColor\" text-anchor=\"middle\" y=\"397.0\">\n",
       "    <tspan class=\"displacy-word\" fill=\"currentColor\" x=\"1275\">low</tspan>\n",
       "    <tspan class=\"displacy-tag\" dy=\"2em\" fill=\"currentColor\" x=\"1275\">ADJ</tspan>\n",
       "</text>\n",
       "\n",
       "<text class=\"displacy-token\" fill=\"currentColor\" text-anchor=\"middle\" y=\"397.0\">\n",
       "    <tspan class=\"displacy-word\" fill=\"currentColor\" x=\"1450\">pay</tspan>\n",
       "    <tspan class=\"displacy-tag\" dy=\"2em\" fill=\"currentColor\" x=\"1450\">NOUN</tspan>\n",
       "</text>\n",
       "\n",
       "<text class=\"displacy-token\" fill=\"currentColor\" text-anchor=\"middle\" y=\"397.0\">\n",
       "    <tspan class=\"displacy-word\" fill=\"currentColor\" x=\"1625\">complain</tspan>\n",
       "    <tspan class=\"displacy-tag\" dy=\"2em\" fill=\"currentColor\" x=\"1625\">NOUN</tspan>\n",
       "</text>\n",
       "\n",
       "<g class=\"displacy-arrow\">\n",
       "    <path class=\"displacy-arc\" id=\"arrow-dfeef5c8e94e412ea2231a1edb42e799-0-0\" stroke-width=\"2px\" d=\"M70,352.0 C70,89.5 570.0,89.5 570.0,352.0\" fill=\"none\" stroke=\"currentColor\"/>\n",
       "    <text dy=\"1.25em\" style=\"font-size: 0.8em; letter-spacing: 1px\">\n",
       "        <textPath xlink:href=\"#arrow-dfeef5c8e94e412ea2231a1edb42e799-0-0\" class=\"displacy-label\" startOffset=\"50%\" side=\"left\" fill=\"currentColor\" text-anchor=\"middle\">compound</textPath>\n",
       "    </text>\n",
       "    <path class=\"displacy-arrowhead\" d=\"M70,354.0 L62,342.0 78,342.0\" fill=\"currentColor\"/>\n",
       "</g>\n",
       "\n",
       "<g class=\"displacy-arrow\">\n",
       "    <path class=\"displacy-arc\" id=\"arrow-dfeef5c8e94e412ea2231a1edb42e799-0-1\" stroke-width=\"2px\" d=\"M245,352.0 C245,177.0 565.0,177.0 565.0,352.0\" fill=\"none\" stroke=\"currentColor\"/>\n",
       "    <text dy=\"1.25em\" style=\"font-size: 0.8em; letter-spacing: 1px\">\n",
       "        <textPath xlink:href=\"#arrow-dfeef5c8e94e412ea2231a1edb42e799-0-1\" class=\"displacy-label\" startOffset=\"50%\" side=\"left\" fill=\"currentColor\" text-anchor=\"middle\">compound</textPath>\n",
       "    </text>\n",
       "    <path class=\"displacy-arrowhead\" d=\"M245,354.0 L237,342.0 253,342.0\" fill=\"currentColor\"/>\n",
       "</g>\n",
       "\n",
       "<g class=\"displacy-arrow\">\n",
       "    <path class=\"displacy-arc\" id=\"arrow-dfeef5c8e94e412ea2231a1edb42e799-0-2\" stroke-width=\"2px\" d=\"M420,352.0 C420,264.5 560.0,264.5 560.0,352.0\" fill=\"none\" stroke=\"currentColor\"/>\n",
       "    <text dy=\"1.25em\" style=\"font-size: 0.8em; letter-spacing: 1px\">\n",
       "        <textPath xlink:href=\"#arrow-dfeef5c8e94e412ea2231a1edb42e799-0-2\" class=\"displacy-label\" startOffset=\"50%\" side=\"left\" fill=\"currentColor\" text-anchor=\"middle\">compound</textPath>\n",
       "    </text>\n",
       "    <path class=\"displacy-arrowhead\" d=\"M420,354.0 L412,342.0 428,342.0\" fill=\"currentColor\"/>\n",
       "</g>\n",
       "\n",
       "<g class=\"displacy-arrow\">\n",
       "    <path class=\"displacy-arc\" id=\"arrow-dfeef5c8e94e412ea2231a1edb42e799-0-3\" stroke-width=\"2px\" d=\"M595,352.0 C595,264.5 735.0,264.5 735.0,352.0\" fill=\"none\" stroke=\"currentColor\"/>\n",
       "    <text dy=\"1.25em\" style=\"font-size: 0.8em; letter-spacing: 1px\">\n",
       "        <textPath xlink:href=\"#arrow-dfeef5c8e94e412ea2231a1edb42e799-0-3\" class=\"displacy-label\" startOffset=\"50%\" side=\"left\" fill=\"currentColor\" text-anchor=\"middle\">nsubj</textPath>\n",
       "    </text>\n",
       "    <path class=\"displacy-arrowhead\" d=\"M595,354.0 L587,342.0 603,342.0\" fill=\"currentColor\"/>\n",
       "</g>\n",
       "\n",
       "<g class=\"displacy-arrow\">\n",
       "    <path class=\"displacy-arc\" id=\"arrow-dfeef5c8e94e412ea2231a1edb42e799-0-4\" stroke-width=\"2px\" d=\"M770,352.0 C770,264.5 910.0,264.5 910.0,352.0\" fill=\"none\" stroke=\"currentColor\"/>\n",
       "    <text dy=\"1.25em\" style=\"font-size: 0.8em; letter-spacing: 1px\">\n",
       "        <textPath xlink:href=\"#arrow-dfeef5c8e94e412ea2231a1edb42e799-0-4\" class=\"displacy-label\" startOffset=\"50%\" side=\"left\" fill=\"currentColor\" text-anchor=\"middle\">dobj</textPath>\n",
       "    </text>\n",
       "    <path class=\"displacy-arrowhead\" d=\"M910.0,354.0 L918.0,342.0 902.0,342.0\" fill=\"currentColor\"/>\n",
       "</g>\n",
       "\n",
       "<g class=\"displacy-arrow\">\n",
       "    <path class=\"displacy-arc\" id=\"arrow-dfeef5c8e94e412ea2231a1edb42e799-0-5\" stroke-width=\"2px\" d=\"M1120,352.0 C1120,89.5 1620.0,89.5 1620.0,352.0\" fill=\"none\" stroke=\"currentColor\"/>\n",
       "    <text dy=\"1.25em\" style=\"font-size: 0.8em; letter-spacing: 1px\">\n",
       "        <textPath xlink:href=\"#arrow-dfeef5c8e94e412ea2231a1edb42e799-0-5\" class=\"displacy-label\" startOffset=\"50%\" side=\"left\" fill=\"currentColor\" text-anchor=\"middle\">mark</textPath>\n",
       "    </text>\n",
       "    <path class=\"displacy-arrowhead\" d=\"M1120,354.0 L1112,342.0 1128,342.0\" fill=\"currentColor\"/>\n",
       "</g>\n",
       "\n",
       "<g class=\"displacy-arrow\">\n",
       "    <path class=\"displacy-arc\" id=\"arrow-dfeef5c8e94e412ea2231a1edb42e799-0-6\" stroke-width=\"2px\" d=\"M1295,352.0 C1295,264.5 1435.0,264.5 1435.0,352.0\" fill=\"none\" stroke=\"currentColor\"/>\n",
       "    <text dy=\"1.25em\" style=\"font-size: 0.8em; letter-spacing: 1px\">\n",
       "        <textPath xlink:href=\"#arrow-dfeef5c8e94e412ea2231a1edb42e799-0-6\" class=\"displacy-label\" startOffset=\"50%\" side=\"left\" fill=\"currentColor\" text-anchor=\"middle\">amod</textPath>\n",
       "    </text>\n",
       "    <path class=\"displacy-arrowhead\" d=\"M1295,354.0 L1287,342.0 1303,342.0\" fill=\"currentColor\"/>\n",
       "</g>\n",
       "\n",
       "<g class=\"displacy-arrow\">\n",
       "    <path class=\"displacy-arc\" id=\"arrow-dfeef5c8e94e412ea2231a1edb42e799-0-7\" stroke-width=\"2px\" d=\"M1470,352.0 C1470,264.5 1610.0,264.5 1610.0,352.0\" fill=\"none\" stroke=\"currentColor\"/>\n",
       "    <text dy=\"1.25em\" style=\"font-size: 0.8em; letter-spacing: 1px\">\n",
       "        <textPath xlink:href=\"#arrow-dfeef5c8e94e412ea2231a1edb42e799-0-7\" class=\"displacy-label\" startOffset=\"50%\" side=\"left\" fill=\"currentColor\" text-anchor=\"middle\">nsubj</textPath>\n",
       "    </text>\n",
       "    <path class=\"displacy-arrowhead\" d=\"M1470,354.0 L1462,342.0 1478,342.0\" fill=\"currentColor\"/>\n",
       "</g>\n",
       "\n",
       "<g class=\"displacy-arrow\">\n",
       "    <path class=\"displacy-arc\" id=\"arrow-dfeef5c8e94e412ea2231a1edb42e799-0-8\" stroke-width=\"2px\" d=\"M770,352.0 C770,2.0 1625.0,2.0 1625.0,352.0\" fill=\"none\" stroke=\"currentColor\"/>\n",
       "    <text dy=\"1.25em\" style=\"font-size: 0.8em; letter-spacing: 1px\">\n",
       "        <textPath xlink:href=\"#arrow-dfeef5c8e94e412ea2231a1edb42e799-0-8\" class=\"displacy-label\" startOffset=\"50%\" side=\"left\" fill=\"currentColor\" text-anchor=\"middle\">advcl</textPath>\n",
       "    </text>\n",
       "    <path class=\"displacy-arrowhead\" d=\"M1625.0,354.0 L1633.0,342.0 1617.0,342.0\" fill=\"currentColor\"/>\n",
       "</g>\n",
       "</svg>"
      ],
      "text/plain": [
       "<IPython.core.display.HTML object>"
      ]
     },
     "metadata": {
      "tags": []
     },
     "output_type": "display_data"
    }
   ],
   "source": [
    "displacy.render(sentence_nlp, style=\"dep\", jupyter=True)"
   ]
  },
  {
   "cell_type": "markdown",
   "metadata": {
    "colab_type": "text",
    "id": "7KoPDIYjwyUZ"
   },
   "source": [
    "# Named Entity Recognition"
   ]
  },
  {
   "cell_type": "code",
   "execution_count": 0,
   "metadata": {
    "colab": {},
    "colab_type": "code",
    "id": "5PJwHd6A4rS1"
   },
   "outputs": [],
   "source": [
    "sentence = str(news_df.iloc[1].full_text)"
   ]
  },
  {
   "cell_type": "code",
   "execution_count": 0,
   "metadata": {
    "colab": {},
    "colab_type": "code",
    "id": "hutzMcFi4qn1"
   },
   "outputs": [],
   "source": [
    "sentence_nlp = nlp(sentence)"
   ]
  },
  {
   "cell_type": "code",
   "execution_count": 40,
   "metadata": {
    "colab": {
     "base_uri": "https://localhost:8080/",
     "height": 34
    },
    "colab_type": "code",
    "executionInfo": {
     "elapsed": 1933,
     "status": "ok",
     "timestamp": 1566556337874,
     "user": {
      "displayName": "Sayan Dey",
      "photoUrl": "https://lh3.googleusercontent.com/a-/AAuE7mC4OsyKqeOJtjScxaIFMB9Yt7ywVtnbSsla3v0-NQ=s64",
      "userId": "03603580465490055794"
     },
     "user_tz": -330
    },
    "id": "O63-qvhuwyUe",
    "outputId": "2d0ee6bb-ba9a-4eb2-a2dc-909e767d68d3"
   },
   "outputs": [
    {
     "name": "stdout",
     "output_type": "stream",
     "text": [
      "[(India, 'GPE'), (India, 'GPE'), (Genpact, 'PERSON'), (months, 'DATE')]\n"
     ]
    }
   ],
   "source": [
    "print([(word, word.ent_type_) for word in sentence_nlp if word.ent_type_])"
   ]
  },
  {
   "cell_type": "code",
   "execution_count": 41,
   "metadata": {
    "colab": {
     "base_uri": "https://localhost:8080/",
     "height": 120
    },
    "colab_type": "code",
    "executionInfo": {
     "elapsed": 2303,
     "status": "ok",
     "timestamp": 1566556342054,
     "user": {
      "displayName": "Sayan Dey",
      "photoUrl": "https://lh3.googleusercontent.com/a-/AAuE7mC4OsyKqeOJtjScxaIFMB9Yt7ywVtnbSsla3v0-NQ=s64",
      "userId": "03603580465490055794"
     },
     "user_tz": -330
    },
    "id": "roYatNrpwyUh",
    "outputId": "1c62bd30-daf3-4dc9-c00d-4163bddbb951"
   },
   "outputs": [
    {
     "data": {
      "text/html": [
       "<div class=\"entities\" style=\"line-height: 2.5; direction: ltr\">Facebook \n",
       "<mark class=\"entity\" style=\"background: #feca74; padding: 0.45em 0.6em; margin: 0 0.25em; line-height: 1; border-radius: 0.35em; box-decoration-break: clone; -webkit-box-decoration-break: clone\">\n",
       "    India\n",
       "    <span style=\"font-size: 0.8em; font-weight: bold; line-height: 1; border-radius: 0.35em; text-transform: uppercase; vertical-align: middle; margin-left: 0.5rem\">GPE</span>\n",
       "</mark>\n",
       " content reviewers get hike after low pay complain. Facebook's contractor in \n",
       "<mark class=\"entity\" style=\"background: #feca74; padding: 0.45em 0.6em; margin: 0 0.25em; line-height: 1; border-radius: 0.35em; box-decoration-break: clone; -webkit-box-decoration-break: clone\">\n",
       "    India\n",
       "    <span style=\"font-size: 0.8em; font-weight: bold; line-height: 1; border-radius: 0.35em; text-transform: uppercase; vertical-align: middle; margin-left: 0.5rem\">GPE</span>\n",
       "</mark>\n",
       " for content moderation reviewers, technology outsourcing company \n",
       "<mark class=\"entity\" style=\"background: #aa9cfc; padding: 0.45em 0.6em; margin: 0 0.25em; line-height: 1; border-radius: 0.35em; box-decoration-break: clone; -webkit-box-decoration-break: clone\">\n",
       "    Genpact\n",
       "    <span style=\"font-size: 0.8em; font-weight: bold; line-height: 1; border-radius: 0.35em; text-transform: uppercase; vertical-align: middle; margin-left: 0.5rem\">PERSON</span>\n",
       "</mark>\n",
       ", has raised the minimum wages offered to the reviewers. This comes \n",
       "<mark class=\"entity\" style=\"background: #bfe1d9; padding: 0.45em 0.6em; margin: 0 0.25em; line-height: 1; border-radius: 0.35em; box-decoration-break: clone; -webkit-box-decoration-break: clone\">\n",
       "    months\n",
       "    <span style=\"font-size: 0.8em; font-weight: bold; line-height: 1; border-radius: 0.35em; text-transform: uppercase; vertical-align: middle; margin-left: 0.5rem\">DATE</span>\n",
       "</mark>\n",
       " after the reviewers had described their work as &quot;underpaid&quot;, &quot;stressful&quot; and sometimes &quot;traumatic&quot;. However, the recent hikes were reportedly applied only to new recruits and were not applicable to existing workers.</div>"
      ],
      "text/plain": [
       "<IPython.core.display.HTML object>"
      ]
     },
     "metadata": {
      "tags": []
     },
     "output_type": "display_data"
    }
   ],
   "source": [
    "displacy.render(sentence_nlp, style='ent', jupyter=True)"
   ]
  },
  {
   "cell_type": "code",
   "execution_count": 0,
   "metadata": {
    "colab": {},
    "colab_type": "code",
    "id": "Nk6ONnBL3fee"
   },
   "outputs": [],
   "source": []
  }
 ],
 "metadata": {
  "accelerator": "GPU",
  "colab": {
   "collapsed_sections": [],
   "name": "NLP EDA.ipynb",
   "provenance": [],
   "version": "0.3.2"
  },
  "kernelspec": {
   "display_name": "Python 3",
   "language": "python",
   "name": "python3"
  },
  "language_info": {
   "codemirror_mode": {
    "name": "ipython",
    "version": 3
   },
   "file_extension": ".py",
   "mimetype": "text/x-python",
   "name": "python",
   "nbconvert_exporter": "python",
   "pygments_lexer": "ipython3",
   "version": "3.8.5"
  }
 },
 "nbformat": 4,
 "nbformat_minor": 1
}
